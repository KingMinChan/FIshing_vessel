{
 "cells": [
  {
   "cell_type": "markdown",
   "metadata": {},
   "source": [
    "# VGG state detection"
   ]
  },
  {
   "cell_type": "markdown",
   "metadata": {},
   "source": [
    "1. 데이터 준비 및 분석\n",
    "\n",
    "\n",
    "- 데이터 전처리\n",
    "\n",
    "\n",
    "- 이미지 크기 조정: VGG 모델은 224x224 크기의 입력을 요구하므로, 이미지를 동일한 크기로 조정해야 합니다.\n",
    "\n",
    "\n",
    "- 레이블 생성: results.csv에서 이미지 파일과 상태 정보를 추출하여 학습 데이터의 레이블을 만듭니다. 상태는 각각의 클래스(예: 이동, 정박, 조업 중 등)로 레이블링합니다.\n",
    "\n",
    "\n",
    "    \n",
    "- 데이터 증강(Data Augmentation): 이미지 데이터를 증강하여 학습을 위한 다양한 데이터를 준비합니다. 이를 통해 모델의 일반화를 높일 수 있습니다."
   ]
  },
  {
   "cell_type": "code",
   "execution_count": 3,
   "metadata": {},
   "outputs": [
    {
     "name": "stdout",
     "output_type": "stream",
     "text": [
      "이미지 저장 완료: /home/elicer/FIshing_vessel-1/resized_imgdata/1. 낚시어선 이동.jpg\n",
      "이미지 저장 완료: /home/elicer/FIshing_vessel-1/resized_imgdata/1. 낚시어선 조업.jpg\n",
      "이미지 저장 완료: /home/elicer/FIshing_vessel-1/resized_imgdata/1. 낚시어선 표류.jpg\n",
      "이미지 저장 완료: /home/elicer/FIshing_vessel-1/resized_imgdata/1. 등광조망 이동.jpg\n",
      "이미지 저장 완료: /home/elicer/FIshing_vessel-1/resized_imgdata/1. 등광조망 표류.jpg\n",
      "이미지 저장 완료: /home/elicer/FIshing_vessel-1/resized_imgdata/1. 범장망 이동.jpg\n",
      "이미지 저장 완료: /home/elicer/FIshing_vessel-1/resized_imgdata/1. 범장망 조업.jpg\n",
      "이미지 저장 완료: /home/elicer/FIshing_vessel-1/resized_imgdata/1. 범장망 표류.jpg\n",
      "이미지 저장 완료: /home/elicer/FIshing_vessel-1/resized_imgdata/1. 안강망 이동.jpg\n",
      "이미지 저장 완료: /home/elicer/FIshing_vessel-1/resized_imgdata/1. 안강망 조업.jpg\n",
      "이미지 저장 완료: /home/elicer/FIshing_vessel-1/resized_imgdata/1. 안강망 표류.jpg\n",
      "이미지 저장 완료: /home/elicer/FIshing_vessel-1/resized_imgdata/1. 연승 이동.jpg\n",
      "이미지 저장 완료: /home/elicer/FIshing_vessel-1/resized_imgdata/1. 연승 표류.jpg\n",
      "이미지 저장 완료: /home/elicer/FIshing_vessel-1/resized_imgdata/1. 유망 이동.jpg\n",
      "이미지 저장 완료: /home/elicer/FIshing_vessel-1/resized_imgdata/1. 유망 조업.jpg\n",
      "이미지 저장 완료: /home/elicer/FIshing_vessel-1/resized_imgdata/1. 유망 표류.jpg\n",
      "이미지 저장 완료: /home/elicer/FIshing_vessel-1/resized_imgdata/1. 저인망 이동.jpg\n",
      "이미지 저장 완료: /home/elicer/FIshing_vessel-1/resized_imgdata/1. 저인망 조업.jpg\n",
      "이미지 저장 완료: /home/elicer/FIshing_vessel-1/resized_imgdata/1. 저인망 표류.jpg\n",
      "이미지 저장 완료: /home/elicer/FIshing_vessel-1/resized_imgdata/1. 채낚기  표류.jpg\n",
      "이미지 저장 완료: /home/elicer/FIshing_vessel-1/resized_imgdata/1. 채낚기 이동.jpg\n",
      "이미지 저장 완료: /home/elicer/FIshing_vessel-1/resized_imgdata/1. 채낚기 조업.jpg\n",
      "이미지 저장 완료: /home/elicer/FIshing_vessel-1/resized_imgdata/1. 타망 이동.jpg\n",
      "이미지 저장 완료: /home/elicer/FIshing_vessel-1/resized_imgdata/1. 타망 조업.jpg\n",
      "이미지 저장 완료: /home/elicer/FIshing_vessel-1/resized_imgdata/1. 타망 표류.jpg\n",
      "이미지 저장 완료: /home/elicer/FIshing_vessel-1/resized_imgdata/1. 통발 이동.jpg\n",
      "이미지 저장 완료: /home/elicer/FIshing_vessel-1/resized_imgdata/1. 통발 표류.jpg\n",
      "이미지 저장 완료: /home/elicer/FIshing_vessel-1/resized_imgdata/1. 통발 조업.jpg\n",
      "이미지 저장 완료: /home/elicer/FIshing_vessel-1/resized_imgdata/1.등광조망 조업.jpg\n",
      "이미지 저장 완료: /home/elicer/FIshing_vessel-1/resized_imgdata/10. 낚시어선 이동.jpg\n",
      "이미지 저장 완료: /home/elicer/FIshing_vessel-1/resized_imgdata/10. 낚시어선 조업.jpg\n",
      "이미지 저장 완료: /home/elicer/FIshing_vessel-1/resized_imgdata/10. 낚시어선 표류.jpg\n",
      "이미지 저장 완료: /home/elicer/FIshing_vessel-1/resized_imgdata/10. 등광조망 이동.jpg\n",
      "이미지 저장 완료: /home/elicer/FIshing_vessel-1/resized_imgdata/10. 등광조망 조업.jpg\n",
      "이미지 저장 완료: /home/elicer/FIshing_vessel-1/resized_imgdata/10. 등광조망 표류.jpg\n",
      "이미지 저장 완료: /home/elicer/FIshing_vessel-1/resized_imgdata/10. 범장망 이동.jpg\n",
      "이미지 저장 완료: /home/elicer/FIshing_vessel-1/resized_imgdata/10. 범장망 표류.jpg\n",
      "이미지 저장 완료: /home/elicer/FIshing_vessel-1/resized_imgdata/10. 범장망 조업.jpg\n",
      "이미지 저장 완료: /home/elicer/FIshing_vessel-1/resized_imgdata/10. 안강망 이동.jpg\n",
      "이미지 저장 완료: /home/elicer/FIshing_vessel-1/resized_imgdata/10. 안강망 조업.jpg\n",
      "이미지 저장 완료: /home/elicer/FIshing_vessel-1/resized_imgdata/10. 안강망 표류.jpg\n",
      "이미지 저장 완료: /home/elicer/FIshing_vessel-1/resized_imgdata/10. 연승 이동.jpg\n",
      "이미지 저장 완료: /home/elicer/FIshing_vessel-1/resized_imgdata/10. 유망 이동.jpg\n",
      "이미지 저장 완료: /home/elicer/FIshing_vessel-1/resized_imgdata/10. 유망 표류.jpg\n",
      "이미지 저장 완료: /home/elicer/FIshing_vessel-1/resized_imgdata/10. 연승 표류.jpg\n",
      "이미지 저장 완료: /home/elicer/FIshing_vessel-1/resized_imgdata/10. 유망 조업.jpg\n",
      "이미지 저장 완료: /home/elicer/FIshing_vessel-1/resized_imgdata/10. 저인망 이동.jpg\n",
      "이미지 저장 완료: /home/elicer/FIshing_vessel-1/resized_imgdata/10. 저인망 조업.jpg\n",
      "이미지 저장 완료: /home/elicer/FIshing_vessel-1/resized_imgdata/10. 채낚기 이동.jpg\n",
      "이미지 저장 완료: /home/elicer/FIshing_vessel-1/resized_imgdata/10. 채낚기 표류.jpg\n",
      "이미지 저장 완료: /home/elicer/FIshing_vessel-1/resized_imgdata/10. 타망 이동.jpg\n",
      "이미지 저장 완료: /home/elicer/FIshing_vessel-1/resized_imgdata/10. 타망 조업.jpg\n",
      "이미지 저장 완료: /home/elicer/FIshing_vessel-1/resized_imgdata/10. 타망 표류.jpg\n",
      "이미지 저장 완료: /home/elicer/FIshing_vessel-1/resized_imgdata/10. 통발 이동.jpg\n",
      "이미지 저장 완료: /home/elicer/FIshing_vessel-1/resized_imgdata/100 타망 이동.jpg\n",
      "이미지 저장 완료: /home/elicer/FIshing_vessel-1/resized_imgdata/10. 통발 표류.jpg\n",
      "이미지 저장 완료: /home/elicer/FIshing_vessel-1/resized_imgdata/100. 범장망 이동.jpg\n",
      "이미지 저장 완료: /home/elicer/FIshing_vessel-1/resized_imgdata/100. 범장망 표류.jpg\n",
      "이미지 저장 완료: /home/elicer/FIshing_vessel-1/resized_imgdata/100. 타망 조업.jpg\n",
      "이미지 저장 완료: /home/elicer/FIshing_vessel-1/resized_imgdata/100. 유망 표류.jpg\n",
      "이미지 저장 완료: /home/elicer/FIshing_vessel-1/resized_imgdata/100. 타망 표류.jpg\n",
      "이미지 저장 완료: /home/elicer/FIshing_vessel-1/resized_imgdata/101 타망 이동.jpg\n",
      "이미지 저장 완료: /home/elicer/FIshing_vessel-1/resized_imgdata/101. 범장망 이동.jpg\n",
      "이미지 저장 완료: /home/elicer/FIshing_vessel-1/resized_imgdata/101. 범장망 표류.jpg\n",
      "이미지 저장 완료: /home/elicer/FIshing_vessel-1/resized_imgdata/101. 타망 조업.jpg\n",
      "이미지 저장 완료: /home/elicer/FIshing_vessel-1/resized_imgdata/101. 유망 표류.jpg\n",
      "이미지 저장 완료: /home/elicer/FIshing_vessel-1/resized_imgdata/101. 타망 표류.jpg\n",
      "이미지 저장 완료: /home/elicer/FIshing_vessel-1/resized_imgdata/102 타망 이동.jpg\n",
      "이미지 저장 완료: /home/elicer/FIshing_vessel-1/resized_imgdata/102. 범장망 이동.jpg\n",
      "이미지 저장 완료: /home/elicer/FIshing_vessel-1/resized_imgdata/102. 범장망 표류.jpg\n",
      "이미지 저장 완료: /home/elicer/FIshing_vessel-1/resized_imgdata/102. 유망 표류.jpg\n",
      "이미지 저장 완료: /home/elicer/FIshing_vessel-1/resized_imgdata/102. 타망 조업.jpg\n",
      "이미지 저장 완료: /home/elicer/FIshing_vessel-1/resized_imgdata/102. 타망 표류.jpg\n",
      "이미지 저장 완료: /home/elicer/FIshing_vessel-1/resized_imgdata/103 타망 이동.jpg\n",
      "이미지 저장 완료: /home/elicer/FIshing_vessel-1/resized_imgdata/103. 범장망 이동.jpg\n",
      "이미지 저장 완료: /home/elicer/FIshing_vessel-1/resized_imgdata/103. 범장망 표류.jpg\n",
      "이미지 저장 완료: /home/elicer/FIshing_vessel-1/resized_imgdata/103. 유망 표류.jpg\n",
      "이미지 저장 완료: /home/elicer/FIshing_vessel-1/resized_imgdata/103. 타망 조업.jpg\n",
      "이미지 저장 완료: /home/elicer/FIshing_vessel-1/resized_imgdata/103. 타망 표류.jpg\n",
      "이미지 저장 완료: /home/elicer/FIshing_vessel-1/resized_imgdata/104 타망 이동.jpg\n",
      "이미지 저장 완료: /home/elicer/FIshing_vessel-1/resized_imgdata/104. 유망 표류.jpg\n",
      "이미지 저장 완료: /home/elicer/FIshing_vessel-1/resized_imgdata/104. 범장망 이동.jpg\n",
      "이미지 저장 완료: /home/elicer/FIshing_vessel-1/resized_imgdata/104. 범장망 표류.jpg\n",
      "이미지 저장 완료: /home/elicer/FIshing_vessel-1/resized_imgdata/104. 타망 조업.jpg\n",
      "이미지 저장 완료: /home/elicer/FIshing_vessel-1/resized_imgdata/104. 타망 표류.jpg\n",
      "이미지 저장 완료: /home/elicer/FIshing_vessel-1/resized_imgdata/105. 범장망 이동.jpg\n",
      "이미지 저장 완료: /home/elicer/FIshing_vessel-1/resized_imgdata/105. 유망 표류.jpg\n",
      "이미지 저장 완료: /home/elicer/FIshing_vessel-1/resized_imgdata/105. 타망 표류.jpg\n",
      "이미지 저장 완료: /home/elicer/FIshing_vessel-1/resized_imgdata/105. 범장망 표류.jpg\n",
      "이미지 저장 완료: /home/elicer/FIshing_vessel-1/resized_imgdata/106 타망 이동.jpg\n",
      "이미지 저장 완료: /home/elicer/FIshing_vessel-1/resized_imgdata/105. 타망 조업.jpg\n",
      "이미지 저장 완료: /home/elicer/FIshing_vessel-1/resized_imgdata/106. 범장망 이동.jpg\n",
      "이미지 저장 완료: /home/elicer/FIshing_vessel-1/resized_imgdata/106. 범장망 표류.jpg\n",
      "이미지 저장 완료: /home/elicer/FIshing_vessel-1/resized_imgdata/106. 유망 표류.jpg\n",
      "이미지 저장 완료: /home/elicer/FIshing_vessel-1/resized_imgdata/106. 타망 조업.jpg\n",
      "이미지 저장 완료: /home/elicer/FIshing_vessel-1/resized_imgdata/106. 타망 표류.jpg\n",
      "이미지 저장 완료: /home/elicer/FIshing_vessel-1/resized_imgdata/107 타망 이동.jpg\n",
      "이미지 저장 완료: /home/elicer/FIshing_vessel-1/resized_imgdata/107. 범장망 이동.jpg\n",
      "이미지 저장 완료: /home/elicer/FIshing_vessel-1/resized_imgdata/107. 유망 표류.jpg\n",
      "이미지 저장 완료: /home/elicer/FIshing_vessel-1/resized_imgdata/107. 타망 조업.jpg\n",
      "이미지 저장 완료: /home/elicer/FIshing_vessel-1/resized_imgdata/107. 범장망 표류.jpg\n",
      "이미지 저장 완료: /home/elicer/FIshing_vessel-1/resized_imgdata/107. 타망 표류.jpg\n",
      "이미지 저장 완료: /home/elicer/FIshing_vessel-1/resized_imgdata/108 타망 이동.jpg\n",
      "이미지 저장 완료: /home/elicer/FIshing_vessel-1/resized_imgdata/108. 범장망 이동.jpg\n",
      "이미지 저장 완료: /home/elicer/FIshing_vessel-1/resized_imgdata/108. 범장망 표류.jpg\n",
      "이미지 저장 완료: /home/elicer/FIshing_vessel-1/resized_imgdata/108. 유망 표류.jpg\n",
      "이미지 저장 완료: /home/elicer/FIshing_vessel-1/resized_imgdata/108. 타망 조업.jpg\n",
      "이미지 저장 완료: /home/elicer/FIshing_vessel-1/resized_imgdata/108. 타망 표류.jpg\n",
      "이미지 저장 완료: /home/elicer/FIshing_vessel-1/resized_imgdata/109 타망 이동.jpg\n",
      "이미지 저장 완료: /home/elicer/FIshing_vessel-1/resized_imgdata/109. 범장망 이동.jpg\n",
      "이미지 저장 완료: /home/elicer/FIshing_vessel-1/resized_imgdata/109. 유망 표류.jpg\n",
      "이미지 저장 완료: /home/elicer/FIshing_vessel-1/resized_imgdata/109. 범장망 표류.jpg\n",
      "이미지 저장 완료: /home/elicer/FIshing_vessel-1/resized_imgdata/109. 타망 조업.jpg\n",
      "이미지 저장 완료: /home/elicer/FIshing_vessel-1/resized_imgdata/109. 타망 표류.jpg\n",
      "이미지 저장 완료: /home/elicer/FIshing_vessel-1/resized_imgdata/11. 낚시어선 이동.jpg\n",
      "이미지 저장 완료: /home/elicer/FIshing_vessel-1/resized_imgdata/11. 낚시어선 조업.jpg\n",
      "이미지 저장 완료: /home/elicer/FIshing_vessel-1/resized_imgdata/11. 등광조망 이동.jpg\n",
      "이미지 저장 완료: /home/elicer/FIshing_vessel-1/resized_imgdata/11. 등광조망 조업.jpg\n",
      "이미지 저장 완료: /home/elicer/FIshing_vessel-1/resized_imgdata/11. 등광조망 표류.jpg\n",
      "이미지 저장 완료: /home/elicer/FIshing_vessel-1/resized_imgdata/11. 범장망 이동.jpg\n",
      "이미지 저장 완료: /home/elicer/FIshing_vessel-1/resized_imgdata/11. 범장망 조업.jpg\n",
      "이미지 저장 완료: /home/elicer/FIshing_vessel-1/resized_imgdata/11. 범장망 표류.jpg\n",
      "이미지 저장 완료: /home/elicer/FIshing_vessel-1/resized_imgdata/11. 안강망 이동.jpg\n",
      "이미지 저장 완료: /home/elicer/FIshing_vessel-1/resized_imgdata/11. 안강망 조업.jpg\n",
      "이미지 저장 완료: /home/elicer/FIshing_vessel-1/resized_imgdata/11. 연승 이동.jpg\n",
      "이미지 저장 완료: /home/elicer/FIshing_vessel-1/resized_imgdata/11. 유망 이동.jpg\n",
      "이미지 저장 완료: /home/elicer/FIshing_vessel-1/resized_imgdata/11. 연승 표류.jpg\n",
      "이미지 저장 완료: /home/elicer/FIshing_vessel-1/resized_imgdata/11. 유망 표류.jpg\n",
      "이미지 저장 완료: /home/elicer/FIshing_vessel-1/resized_imgdata/11. 유망 조업.jpg\n",
      "이미지 저장 완료: /home/elicer/FIshing_vessel-1/resized_imgdata/11. 저인망 이동.jpg\n",
      "이미지 저장 완료: /home/elicer/FIshing_vessel-1/resized_imgdata/11. 저인망 조업.jpg\n",
      "이미지 저장 완료: /home/elicer/FIshing_vessel-1/resized_imgdata/11. 채낚기 이동.jpg\n",
      "이미지 저장 완료: /home/elicer/FIshing_vessel-1/resized_imgdata/11. 채낚기 표류.jpg\n",
      "이미지 저장 완료: /home/elicer/FIshing_vessel-1/resized_imgdata/11. 타망 이동.jpg\n",
      "이미지 저장 완료: /home/elicer/FIshing_vessel-1/resized_imgdata/11. 타망 조업.jpg\n",
      "이미지 저장 완료: /home/elicer/FIshing_vessel-1/resized_imgdata/11. 타망 표류.jpg\n",
      "이미지 저장 완료: /home/elicer/FIshing_vessel-1/resized_imgdata/11. 통발 이동.jpg\n",
      "이미지 저장 완료: /home/elicer/FIshing_vessel-1/resized_imgdata/11. 통발 표류.jpg\n",
      "이미지 저장 완료: /home/elicer/FIshing_vessel-1/resized_imgdata/110 타망 이동.jpg\n",
      "이미지 저장 완료: /home/elicer/FIshing_vessel-1/resized_imgdata/110. 범장망 이동.jpg\n",
      "이미지 저장 완료: /home/elicer/FIshing_vessel-1/resized_imgdata/110. 범장망 표류.jpg\n",
      "이미지 저장 완료: /home/elicer/FIshing_vessel-1/resized_imgdata/110. 유망 표류.jpg\n",
      "이미지 저장 완료: /home/elicer/FIshing_vessel-1/resized_imgdata/110. 타망 조업.jpg\n",
      "이미지 저장 완료: /home/elicer/FIshing_vessel-1/resized_imgdata/110. 타망 표류.jpg\n",
      "이미지 저장 완료: /home/elicer/FIshing_vessel-1/resized_imgdata/111 타망 이동.jpg\n",
      "이미지 저장 완료: /home/elicer/FIshing_vessel-1/resized_imgdata/111. 범장망 이동.jpg\n",
      "이미지 저장 완료: /home/elicer/FIshing_vessel-1/resized_imgdata/111. 범장망 표류.jpg\n",
      "이미지 저장 완료: /home/elicer/FIshing_vessel-1/resized_imgdata/111. 유망 표류.jpg\n",
      "이미지 저장 완료: /home/elicer/FIshing_vessel-1/resized_imgdata/111. 타망 조업.jpg\n",
      "이미지 저장 완료: /home/elicer/FIshing_vessel-1/resized_imgdata/111. 타망 표류.jpg\n",
      "이미지 저장 완료: /home/elicer/FIshing_vessel-1/resized_imgdata/112 타망 이동.jpg\n",
      "이미지 저장 완료: /home/elicer/FIshing_vessel-1/resized_imgdata/112. 범장망 이동.jpg\n",
      "이미지 저장 완료: /home/elicer/FIshing_vessel-1/resized_imgdata/112. 범장망 표류.jpg\n",
      "이미지 저장 완료: /home/elicer/FIshing_vessel-1/resized_imgdata/112. 유망 표류.jpg\n",
      "이미지 저장 완료: /home/elicer/FIshing_vessel-1/resized_imgdata/112. 타망 조업.jpg\n",
      "이미지 저장 완료: /home/elicer/FIshing_vessel-1/resized_imgdata/112. 타망 표류.jpg\n",
      "이미지 저장 완료: /home/elicer/FIshing_vessel-1/resized_imgdata/113 타망 이동.jpg\n",
      "이미지 저장 완료: /home/elicer/FIshing_vessel-1/resized_imgdata/113. 범장망 이동.jpg\n",
      "이미지 저장 완료: /home/elicer/FIshing_vessel-1/resized_imgdata/113. 범장망 표류.jpg\n",
      "이미지 저장 완료: /home/elicer/FIshing_vessel-1/resized_imgdata/113. 유망 표류.jpg\n",
      "이미지 저장 완료: /home/elicer/FIshing_vessel-1/resized_imgdata/113. 타망 표류.jpg\n",
      "이미지 저장 완료: /home/elicer/FIshing_vessel-1/resized_imgdata/113. 타망 조업.jpg\n",
      "이미지 저장 완료: /home/elicer/FIshing_vessel-1/resized_imgdata/114 타망 이동.jpg\n",
      "이미지 저장 완료: /home/elicer/FIshing_vessel-1/resized_imgdata/114. 범장망 표류.jpg\n",
      "이미지 저장 완료: /home/elicer/FIshing_vessel-1/resized_imgdata/114. 유망 표류.jpg\n",
      "이미지 저장 완료: /home/elicer/FIshing_vessel-1/resized_imgdata/114. 타망 조업.jpg\n",
      "이미지 저장 완료: /home/elicer/FIshing_vessel-1/resized_imgdata/114. 타망 표류.jpg\n",
      "이미지 저장 완료: /home/elicer/FIshing_vessel-1/resized_imgdata/115 타망 이동.jpg\n",
      "이미지 저장 완료: /home/elicer/FIshing_vessel-1/resized_imgdata/115. 범장망 표류.jpg\n",
      "이미지 저장 완료: /home/elicer/FIshing_vessel-1/resized_imgdata/115. 유망 표류.jpg\n",
      "이미지 저장 완료: /home/elicer/FIshing_vessel-1/resized_imgdata/115. 타망 조업.jpg\n",
      "이미지 저장 완료: /home/elicer/FIshing_vessel-1/resized_imgdata/115. 타망 표류.jpg\n",
      "이미지 저장 완료: /home/elicer/FIshing_vessel-1/resized_imgdata/116 타망 이동.jpg\n",
      "이미지 저장 완료: /home/elicer/FIshing_vessel-1/resized_imgdata/116. 유망 표류.jpg\n",
      "이미지 저장 완료: /home/elicer/FIshing_vessel-1/resized_imgdata/116. 타망 조업.jpg\n",
      "이미지 저장 완료: /home/elicer/FIshing_vessel-1/resized_imgdata/116. 타망 표류.jpg\n",
      "이미지 저장 완료: /home/elicer/FIshing_vessel-1/resized_imgdata/116.. 범장망 표류.jpg\n",
      "이미지 저장 완료: /home/elicer/FIshing_vessel-1/resized_imgdata/117 타망 이동.jpg\n",
      "이미지 저장 완료: /home/elicer/FIshing_vessel-1/resized_imgdata/117. 범장망 표류.jpg\n",
      "이미지 저장 완료: /home/elicer/FIshing_vessel-1/resized_imgdata/117. 타망 조업.jpg\n",
      "이미지 저장 완료: /home/elicer/FIshing_vessel-1/resized_imgdata/117. 유망 표류.jpg\n",
      "이미지 저장 완료: /home/elicer/FIshing_vessel-1/resized_imgdata/118 타망 이동.jpg\n",
      "이미지 저장 완료: /home/elicer/FIshing_vessel-1/resized_imgdata/117. 타망 표류.jpg\n",
      "이미지 저장 완료: /home/elicer/FIshing_vessel-1/resized_imgdata/118. 유망 표류.jpg\n",
      "이미지 저장 완료: /home/elicer/FIshing_vessel-1/resized_imgdata/118. 범장망 표류.jpg\n",
      "이미지 저장 완료: /home/elicer/FIshing_vessel-1/resized_imgdata/118. 타망 조업.jpg\n",
      "이미지 저장 완료: /home/elicer/FIshing_vessel-1/resized_imgdata/118. 타망 표류.jpg\n",
      "이미지 저장 완료: /home/elicer/FIshing_vessel-1/resized_imgdata/119 타망 이동.jpg\n",
      "이미지 저장 완료: /home/elicer/FIshing_vessel-1/resized_imgdata/119. 범장망 표류.jpg\n",
      "이미지 저장 완료: /home/elicer/FIshing_vessel-1/resized_imgdata/119. 유망 표류.jpg\n",
      "이미지 저장 완료: /home/elicer/FIshing_vessel-1/resized_imgdata/119. 타망 표류.jpg\n",
      "이미지 저장 완료: /home/elicer/FIshing_vessel-1/resized_imgdata/12 등광조망 조업.jpg\n",
      "이미지 저장 완료: /home/elicer/FIshing_vessel-1/resized_imgdata/12. 낚시어선 조업.jpg\n",
      "이미지 저장 완료: /home/elicer/FIshing_vessel-1/resized_imgdata/12. 등광조망 이동.jpg\n",
      "이미지 저장 완료: /home/elicer/FIshing_vessel-1/resized_imgdata/12. 등광조망 표류.jpg\n",
      "이미지 저장 완료: /home/elicer/FIshing_vessel-1/resized_imgdata/12. 범장망 이동.jpg\n",
      "이미지 저장 완료: /home/elicer/FIshing_vessel-1/resized_imgdata/12. 범장망 조업.jpg\n",
      "이미지 저장 완료: /home/elicer/FIshing_vessel-1/resized_imgdata/12. 범장망 표류.jpg\n",
      "이미지 저장 완료: /home/elicer/FIshing_vessel-1/resized_imgdata/12. 안강망 이동.jpg\n",
      "이미지 저장 완료: /home/elicer/FIshing_vessel-1/resized_imgdata/12. 안강망 조업.jpg\n",
      "이미지 저장 완료: /home/elicer/FIshing_vessel-1/resized_imgdata/12. 안강망 표류.jpg\n",
      "이미지 저장 완료: /home/elicer/FIshing_vessel-1/resized_imgdata/12. 연승 이동.jpg\n",
      "이미지 저장 완료: /home/elicer/FIshing_vessel-1/resized_imgdata/12. 연승 표류.jpg\n",
      "이미지 저장 완료: /home/elicer/FIshing_vessel-1/resized_imgdata/12. 유망 이동.jpg\n",
      "이미지 저장 완료: /home/elicer/FIshing_vessel-1/resized_imgdata/12. 유망 조업.jpg\n",
      "이미지 저장 완료: /home/elicer/FIshing_vessel-1/resized_imgdata/12. 유망 표류.jpg\n",
      "이미지 저장 완료: /home/elicer/FIshing_vessel-1/resized_imgdata/12. 저인망 이동.jpg\n",
      "이미지 저장 완료: /home/elicer/FIshing_vessel-1/resized_imgdata/12. 저인망 조업.jpg\n",
      "이미지 저장 완료: /home/elicer/FIshing_vessel-1/resized_imgdata/12. 채낚기 이동.jpg\n",
      "이미지 저장 완료: /home/elicer/FIshing_vessel-1/resized_imgdata/12. 타망 이동.jpg\n",
      "이미지 저장 완료: /home/elicer/FIshing_vessel-1/resized_imgdata/12. 타망 조업.jpg\n",
      "이미지 저장 완료: /home/elicer/FIshing_vessel-1/resized_imgdata/12. 타망 표류.jpg\n",
      "이미지 저장 완료: /home/elicer/FIshing_vessel-1/resized_imgdata/12. 통발 이동.jpg\n",
      "이미지 저장 완료: /home/elicer/FIshing_vessel-1/resized_imgdata/120 타망 이동.jpg\n",
      "이미지 저장 완료: /home/elicer/FIshing_vessel-1/resized_imgdata/120. 범장망 표류.jpg\n",
      "이미지 저장 완료: /home/elicer/FIshing_vessel-1/resized_imgdata/120. 유망 표류.jpg\n",
      "이미지 저장 완료: /home/elicer/FIshing_vessel-1/resized_imgdata/120. 타망 조업.jpg\n",
      "이미지 저장 완료: /home/elicer/FIshing_vessel-1/resized_imgdata/120. 타망 표류.jpg\n",
      "이미지 저장 완료: /home/elicer/FIshing_vessel-1/resized_imgdata/121 타망 이동.jpg\n",
      "이미지 저장 완료: /home/elicer/FIshing_vessel-1/resized_imgdata/121. 범장망 표류.jpg\n",
      "이미지 저장 완료: /home/elicer/FIshing_vessel-1/resized_imgdata/121. 타망 조업.jpg\n",
      "이미지 저장 완료: /home/elicer/FIshing_vessel-1/resized_imgdata/121. 유망 표류.jpg\n",
      "이미지 저장 완료: /home/elicer/FIshing_vessel-1/resized_imgdata/121. 타망 표류.jpg\n",
      "이미지 저장 완료: /home/elicer/FIshing_vessel-1/resized_imgdata/122 타망 이동.jpg\n",
      "이미지 저장 완료: /home/elicer/FIshing_vessel-1/resized_imgdata/122. 범장망 표류.jpg\n",
      "이미지 저장 완료: /home/elicer/FIshing_vessel-1/resized_imgdata/122. 유망 표류.jpg\n",
      "이미지 저장 완료: /home/elicer/FIshing_vessel-1/resized_imgdata/122. 타망 조업.jpg\n",
      "이미지 저장 완료: /home/elicer/FIshing_vessel-1/resized_imgdata/122. 타망 표류.jpg\n",
      "이미지 저장 완료: /home/elicer/FIshing_vessel-1/resized_imgdata/123 타망 이동.jpg\n",
      "이미지 저장 완료: /home/elicer/FIshing_vessel-1/resized_imgdata/123. 범장망 표류.jpg\n",
      "이미지 저장 완료: /home/elicer/FIshing_vessel-1/resized_imgdata/123. 유망 표류.jpg\n",
      "이미지 저장 완료: /home/elicer/FIshing_vessel-1/resized_imgdata/123. 타망 조업.jpg\n",
      "이미지 저장 완료: /home/elicer/FIshing_vessel-1/resized_imgdata/123. 타망 표류.jpg\n",
      "이미지 저장 완료: /home/elicer/FIshing_vessel-1/resized_imgdata/124. 범장망 표류.jpg\n",
      "이미지 저장 완료: /home/elicer/FIshing_vessel-1/resized_imgdata/124 타망 이동.jpg\n",
      "이미지 저장 완료: /home/elicer/FIshing_vessel-1/resized_imgdata/124. 유망 표류.jpg\n",
      "이미지 저장 완료: /home/elicer/FIshing_vessel-1/resized_imgdata/124. 타망 표류.jpg\n",
      "이미지 저장 완료: /home/elicer/FIshing_vessel-1/resized_imgdata/124. 타망 조업.jpg\n",
      "이미지 저장 완료: /home/elicer/FIshing_vessel-1/resized_imgdata/125 타망 이동.jpg\n",
      "이미지 저장 완료: /home/elicer/FIshing_vessel-1/resized_imgdata/125. 범장망 표류.jpg\n",
      "이미지 저장 완료: /home/elicer/FIshing_vessel-1/resized_imgdata/125. 유망 표류.jpg\n",
      "이미지 저장 완료: /home/elicer/FIshing_vessel-1/resized_imgdata/125. 타망 조업.jpg\n",
      "이미지 저장 완료: /home/elicer/FIshing_vessel-1/resized_imgdata/125. 타망 표류.jpg\n",
      "이미지 저장 완료: /home/elicer/FIshing_vessel-1/resized_imgdata/126 타망 이동.jpg\n",
      "이미지 저장 완료: /home/elicer/FIshing_vessel-1/resized_imgdata/126. 범장망 표류.jpg\n",
      "이미지 저장 완료: /home/elicer/FIshing_vessel-1/resized_imgdata/127 타망 이동.jpg\n",
      "이미지 저장 완료: /home/elicer/FIshing_vessel-1/resized_imgdata/126. 유망 표류.jpg\n",
      "이미지 저장 완료: /home/elicer/FIshing_vessel-1/resized_imgdata/127. 범장망 표류.jpg\n",
      "이미지 저장 완료: /home/elicer/FIshing_vessel-1/resized_imgdata/126. 타망 조업.jpg\n",
      "이미지 저장 완료: /home/elicer/FIshing_vessel-1/resized_imgdata/127. 유망 표류.jpg\n",
      "이미지 저장 완료: /home/elicer/FIshing_vessel-1/resized_imgdata/127. 타망 조업.jpg\n",
      "이미지 저장 완료: /home/elicer/FIshing_vessel-1/resized_imgdata/128 타망 이동.jpg\n",
      "이미지 저장 완료: /home/elicer/FIshing_vessel-1/resized_imgdata/128. 범장망 표류.jpg\n",
      "이미지 저장 완료: /home/elicer/FIshing_vessel-1/resized_imgdata/128. 유망 표류.jpg\n",
      "이미지 저장 완료: /home/elicer/FIshing_vessel-1/resized_imgdata/128. 타망 조업.jpg\n",
      "이미지 저장 완료: /home/elicer/FIshing_vessel-1/resized_imgdata/129 타망 이동.jpg\n",
      "이미지 저장 완료: /home/elicer/FIshing_vessel-1/resized_imgdata/129. 범장망 표류.jpg\n",
      "이미지 저장 완료: /home/elicer/FIshing_vessel-1/resized_imgdata/129. 유망 표류.jpg\n",
      "이미지 저장 완료: /home/elicer/FIshing_vessel-1/resized_imgdata/129. 타망 조업.jpg\n",
      "이미지 저장 완료: /home/elicer/FIshing_vessel-1/resized_imgdata/13. 낚시어선 이동.jpg\n",
      "이미지 저장 완료: /home/elicer/FIshing_vessel-1/resized_imgdata/13. 낚시어선 조업.jpg\n",
      "이미지 저장 완료: /home/elicer/FIshing_vessel-1/resized_imgdata/13. 등광조망 이동.jpg\n",
      "이미지 저장 완료: /home/elicer/FIshing_vessel-1/resized_imgdata/13. 범장망 표류.jpg\n",
      "이미지 저장 완료: /home/elicer/FIshing_vessel-1/resized_imgdata/13. 범장망 이동.jpg\n",
      "이미지 저장 완료: /home/elicer/FIshing_vessel-1/resized_imgdata/13. 등광조망 조업.jpg\n",
      "이미지 저장 완료: /home/elicer/FIshing_vessel-1/resized_imgdata/13. 범장망 조업.jpg\n",
      "이미지 저장 완료: /home/elicer/FIshing_vessel-1/resized_imgdata/13. 안강망 이동.jpg\n",
      "이미지 저장 완료: /home/elicer/FIshing_vessel-1/resized_imgdata/13. 안강망 조업.jpg\n",
      "이미지 저장 완료: /home/elicer/FIshing_vessel-1/resized_imgdata/13. 안강망 표류.jpg\n",
      "이미지 저장 완료: /home/elicer/FIshing_vessel-1/resized_imgdata/13. 연승 이동.jpg\n",
      "이미지 저장 완료: /home/elicer/FIshing_vessel-1/resized_imgdata/13. 연승 표류.jpg\n",
      "이미지 저장 완료: /home/elicer/FIshing_vessel-1/resized_imgdata/13. 유망 이동.jpg\n",
      "이미지 저장 완료: /home/elicer/FIshing_vessel-1/resized_imgdata/13. 유망 표류.jpg\n",
      "이미지 저장 완료: /home/elicer/FIshing_vessel-1/resized_imgdata/13. 유망 조업.jpg\n",
      "이미지 저장 완료: /home/elicer/FIshing_vessel-1/resized_imgdata/13. 저인망 이동.jpg\n",
      "이미지 저장 완료: /home/elicer/FIshing_vessel-1/resized_imgdata/13. 저인망 조업.jpg\n",
      "이미지 저장 완료: /home/elicer/FIshing_vessel-1/resized_imgdata/13. 채낚기 표류.jpg\n",
      "이미지 저장 완료: /home/elicer/FIshing_vessel-1/resized_imgdata/13. 채낚기 이동.jpg\n",
      "이미지 저장 완료: /home/elicer/FIshing_vessel-1/resized_imgdata/13. 타망 이동.jpg\n",
      "이미지 저장 완료: /home/elicer/FIshing_vessel-1/resized_imgdata/13. 타망 조업.jpg\n",
      "이미지 저장 완료: /home/elicer/FIshing_vessel-1/resized_imgdata/130 타망 이동.png\n",
      "이미지 저장 완료: /home/elicer/FIshing_vessel-1/resized_imgdata/13. 타망 표류.jpg\n",
      "이미지 저장 완료: /home/elicer/FIshing_vessel-1/resized_imgdata/13. 통발 이동.jpg\n",
      "이미지 저장 완료: /home/elicer/FIshing_vessel-1/resized_imgdata/130. 범장망 표류.jpg\n",
      "이미지 저장 완료: /home/elicer/FIshing_vessel-1/resized_imgdata/131. 범장망 표류.jpg\n",
      "이미지 저장 완료: /home/elicer/FIshing_vessel-1/resized_imgdata/130. 타망 조업.jpg\n",
      "이미지 저장 완료: /home/elicer/FIshing_vessel-1/resized_imgdata/131. 타망 이동.jpg\n",
      "이미지 저장 완료: /home/elicer/FIshing_vessel-1/resized_imgdata/131. 타망 조업.jpg\n",
      "이미지 저장 완료: /home/elicer/FIshing_vessel-1/resized_imgdata/132. 범장망 표류.jpg\n",
      "이미지 저장 완료: /home/elicer/FIshing_vessel-1/resized_imgdata/132. 타망 이동.jpg\n",
      "이미지 저장 완료: /home/elicer/FIshing_vessel-1/resized_imgdata/132. 타망 조업.jpg\n",
      "이미지 저장 완료: /home/elicer/FIshing_vessel-1/resized_imgdata/133. 범장망 표류.jpg\n",
      "이미지 저장 완료: /home/elicer/FIshing_vessel-1/resized_imgdata/133. 타망 조업.jpg\n",
      "이미지 저장 완료: /home/elicer/FIshing_vessel-1/resized_imgdata/133. 타망 이동.jpg\n",
      "이미지 저장 완료: /home/elicer/FIshing_vessel-1/resized_imgdata/134. 범장망 표류.jpg\n",
      "이미지 저장 완료: /home/elicer/FIshing_vessel-1/resized_imgdata/134. 타망 이동.jpg\n",
      "이미지 저장 완료: /home/elicer/FIshing_vessel-1/resized_imgdata/135. 범장망 표류.jpg\n",
      "이미지 저장 완료: /home/elicer/FIshing_vessel-1/resized_imgdata/135. 타망 이동.jpg\n",
      "이미지 저장 완료: /home/elicer/FIshing_vessel-1/resized_imgdata/136. 범장망 표류.jpg\n",
      "이미지 저장 완료: /home/elicer/FIshing_vessel-1/resized_imgdata/137. 타망 이동.jpg\n",
      "이미지 저장 완료: /home/elicer/FIshing_vessel-1/resized_imgdata/137. 범장망 표류.jpg\n",
      "이미지 저장 완료: /home/elicer/FIshing_vessel-1/resized_imgdata/136. 타망 이동.jpg\n",
      "이미지 저장 완료: /home/elicer/FIshing_vessel-1/resized_imgdata/138. 범장망 표류.jpg\n",
      "이미지 저장 완료: /home/elicer/FIshing_vessel-1/resized_imgdata/138. 타망 이동.jpg\n",
      "이미지 저장 완료: /home/elicer/FIshing_vessel-1/resized_imgdata/139. 범장망 표류.jpg\n",
      "이미지 저장 완료: /home/elicer/FIshing_vessel-1/resized_imgdata/139. 타망 이동.jpg\n",
      "이미지 저장 완료: /home/elicer/FIshing_vessel-1/resized_imgdata/14. 낚시어선 이동.jpg\n",
      "이미지 저장 완료: /home/elicer/FIshing_vessel-1/resized_imgdata/14. 낚시어선 조업.jpg\n",
      "이미지 저장 완료: /home/elicer/FIshing_vessel-1/resized_imgdata/14. 등광조망 이동.jpg\n",
      "이미지 저장 완료: /home/elicer/FIshing_vessel-1/resized_imgdata/14. 등광조망 표류.jpg\n",
      "이미지 저장 완료: /home/elicer/FIshing_vessel-1/resized_imgdata/14. 등광조망 조업.jpg\n",
      "이미지 저장 완료: /home/elicer/FIshing_vessel-1/resized_imgdata/14. 범장망 이동.jpg\n",
      "이미지 저장 완료: /home/elicer/FIshing_vessel-1/resized_imgdata/14. 범장망 조업.jpg\n",
      "이미지 저장 완료: /home/elicer/FIshing_vessel-1/resized_imgdata/14. 범장망 표류.jpg\n",
      "이미지 저장 완료: /home/elicer/FIshing_vessel-1/resized_imgdata/14. 안강망 이동.jpg\n",
      "이미지 저장 완료: /home/elicer/FIshing_vessel-1/resized_imgdata/14. 안강망 조업.jpg\n",
      "이미지 저장 완료: /home/elicer/FIshing_vessel-1/resized_imgdata/14. 안강망 표류.jpg\n",
      "이미지 저장 완료: /home/elicer/FIshing_vessel-1/resized_imgdata/14. 연승 이동.jpg\n",
      "이미지 저장 완료: /home/elicer/FIshing_vessel-1/resized_imgdata/14. 유망 이동.jpg\n",
      "이미지 저장 완료: /home/elicer/FIshing_vessel-1/resized_imgdata/14. 유망 표류.jpg\n",
      "이미지 저장 완료: /home/elicer/FIshing_vessel-1/resized_imgdata/14. 연승 표류.png\n",
      "이미지 저장 완료: /home/elicer/FIshing_vessel-1/resized_imgdata/14. 저인망 이동.jpg\n",
      "이미지 저장 완료: /home/elicer/FIshing_vessel-1/resized_imgdata/14. 저인망 조업.jpg\n",
      "이미지 저장 완료: /home/elicer/FIshing_vessel-1/resized_imgdata/14. 채낚기 이동.jpg\n",
      "이미지 저장 완료: /home/elicer/FIshing_vessel-1/resized_imgdata/14. 채낚기 표류.jpg\n",
      "이미지 저장 완료: /home/elicer/FIshing_vessel-1/resized_imgdata/14. 타망 이동.jpg\n",
      "이미지 저장 완료: /home/elicer/FIshing_vessel-1/resized_imgdata/14. 타망 조업.jpg\n",
      "이미지 저장 완료: /home/elicer/FIshing_vessel-1/resized_imgdata/14. 타망 표류.jpg\n",
      "이미지 저장 완료: /home/elicer/FIshing_vessel-1/resized_imgdata/14. 통발 이동.jpg\n",
      "이미지 저장 완료: /home/elicer/FIshing_vessel-1/resized_imgdata/140. 범장망 표류.jpg\n",
      "이미지 저장 완료: /home/elicer/FIshing_vessel-1/resized_imgdata/141. 범장망 표류.jpg\n",
      "이미지 저장 완료: /home/elicer/FIshing_vessel-1/resized_imgdata/140. 타망 이동.jpg\n",
      "이미지 저장 완료: /home/elicer/FIshing_vessel-1/resized_imgdata/141. 타망 이동.jpg\n",
      "이미지 저장 완료: /home/elicer/FIshing_vessel-1/resized_imgdata/142. 범장망 표류.jpg\n",
      "이미지 저장 완료: /home/elicer/FIshing_vessel-1/resized_imgdata/142. 타망 이동.jpg\n",
      "이미지 저장 완료: /home/elicer/FIshing_vessel-1/resized_imgdata/143. 범장망 표류.jpg\n",
      "이미지 저장 완료: /home/elicer/FIshing_vessel-1/resized_imgdata/143. 타망 이동.jpg\n",
      "이미지 저장 완료: /home/elicer/FIshing_vessel-1/resized_imgdata/144. 범장망 표류.jpg\n",
      "이미지 저장 완료: /home/elicer/FIshing_vessel-1/resized_imgdata/144. 타망 이동.jpg\n",
      "이미지 저장 완료: /home/elicer/FIshing_vessel-1/resized_imgdata/145. 범장망 표류.jpg\n",
      "이미지 저장 완료: /home/elicer/FIshing_vessel-1/resized_imgdata/145. 타망 이동.jpg\n",
      "이미지 저장 완료: /home/elicer/FIshing_vessel-1/resized_imgdata/146. 범장망 표류.jpg\n",
      "이미지 저장 완료: /home/elicer/FIshing_vessel-1/resized_imgdata/146. 타망 이동.jpg\n",
      "이미지 저장 완료: /home/elicer/FIshing_vessel-1/resized_imgdata/147. 범장망 표류.jpg\n",
      "이미지 저장 완료: /home/elicer/FIshing_vessel-1/resized_imgdata/147. 타망 이동.jpg\n",
      "이미지 저장 완료: /home/elicer/FIshing_vessel-1/resized_imgdata/148. 범장망 표류.jpg\n",
      "이미지 저장 완료: /home/elicer/FIshing_vessel-1/resized_imgdata/148. 타망 이동.jpg\n",
      "이미지 저장 완료: /home/elicer/FIshing_vessel-1/resized_imgdata/149. 범장망 표류.jpg\n",
      "이미지 저장 완료: /home/elicer/FIshing_vessel-1/resized_imgdata/15. 낚시어선 이동.jpg\n",
      "이미지 저장 완료: /home/elicer/FIshing_vessel-1/resized_imgdata/15. 낚시어선 조업.jpg\n",
      "이미지 저장 완료: /home/elicer/FIshing_vessel-1/resized_imgdata/15. 등광조망 이동.jpg\n",
      "이미지 저장 완료: /home/elicer/FIshing_vessel-1/resized_imgdata/149. 타망 이동.jpg\n",
      "이미지 저장 완료: /home/elicer/FIshing_vessel-1/resized_imgdata/15. 등광조망 표류.jpg\n",
      "이미지 저장 완료: /home/elicer/FIshing_vessel-1/resized_imgdata/15. 등광조망 조업.png\n",
      "이미지 저장 완료: /home/elicer/FIshing_vessel-1/resized_imgdata/15. 범장망 이동.jpg\n",
      "이미지 저장 완료: /home/elicer/FIshing_vessel-1/resized_imgdata/15. 범장망 조업.jpg\n",
      "이미지 저장 완료: /home/elicer/FIshing_vessel-1/resized_imgdata/15. 범장망 표류.jpg\n",
      "이미지 저장 완료: /home/elicer/FIshing_vessel-1/resized_imgdata/15. 안강망 이동.jpg\n",
      "이미지 저장 완료: /home/elicer/FIshing_vessel-1/resized_imgdata/15. 안강망 조업.jpg\n",
      "이미지 저장 완료: /home/elicer/FIshing_vessel-1/resized_imgdata/15. 안강망 표류.jpg\n",
      "이미지 저장 완료: /home/elicer/FIshing_vessel-1/resized_imgdata/15. 연승 이동.jpg\n",
      "이미지 저장 완료: /home/elicer/FIshing_vessel-1/resized_imgdata/15. 연승 표류.jpg\n",
      "이미지 저장 완료: /home/elicer/FIshing_vessel-1/resized_imgdata/15. 유망 이동.jpg\n",
      "이미지 저장 완료: /home/elicer/FIshing_vessel-1/resized_imgdata/15. 유망 조업.jpg\n",
      "이미지 저장 완료: /home/elicer/FIshing_vessel-1/resized_imgdata/15. 유망 표류.jpg\n",
      "이미지 저장 완료: /home/elicer/FIshing_vessel-1/resized_imgdata/15. 저인망 조업.jpg\n",
      "이미지 저장 완료: /home/elicer/FIshing_vessel-1/resized_imgdata/15. 채낚기 이동.jpg\n",
      "이미지 저장 완료: /home/elicer/FIshing_vessel-1/resized_imgdata/15. 채낚기 표류.jpg\n",
      "이미지 저장 완료: /home/elicer/FIshing_vessel-1/resized_imgdata/15. 타망 이동.jpg\n",
      "이미지 저장 완료: /home/elicer/FIshing_vessel-1/resized_imgdata/150. 타망 이동.jpg\n",
      "이미지 저장 완료: /home/elicer/FIshing_vessel-1/resized_imgdata/150. 범장망 표류.jpg\n",
      "이미지 저장 완료: /home/elicer/FIshing_vessel-1/resized_imgdata/15. 타망 표류.jpg\n",
      "이미지 저장 완료: /home/elicer/FIshing_vessel-1/resized_imgdata/15. 타망 조업.jpg\n",
      "이미지 저장 완료: /home/elicer/FIshing_vessel-1/resized_imgdata/151. 범장망 표류.jpg\n",
      "이미지 저장 완료: /home/elicer/FIshing_vessel-1/resized_imgdata/151. 타망 이동.jpg\n",
      "이미지 저장 완료: /home/elicer/FIshing_vessel-1/resized_imgdata/152. 범장망 표류.jpg\n",
      "이미지 저장 완료: /home/elicer/FIshing_vessel-1/resized_imgdata/152. 타망 이동.jpg\n",
      "이미지 저장 완료: /home/elicer/FIshing_vessel-1/resized_imgdata/153. 범장망 표류.jpg\n",
      "이미지 저장 완료: /home/elicer/FIshing_vessel-1/resized_imgdata/154. 범장망 표류.jpg\n",
      "이미지 저장 완료: /home/elicer/FIshing_vessel-1/resized_imgdata/153. 타망 이동.jpg\n",
      "이미지 저장 완료: /home/elicer/FIshing_vessel-1/resized_imgdata/154. 타망 이동.jpg\n",
      "이미지 저장 완료: /home/elicer/FIshing_vessel-1/resized_imgdata/155. 타망 이동.jpg\n",
      "이미지 저장 완료: /home/elicer/FIshing_vessel-1/resized_imgdata/155. 범장망 표류.jpg\n",
      "이미지 저장 완료: /home/elicer/FIshing_vessel-1/resized_imgdata/156. 범장망 표류.jpg\n",
      "이미지 저장 완료: /home/elicer/FIshing_vessel-1/resized_imgdata/156. 타망 이동.jpg\n",
      "이미지 저장 완료: /home/elicer/FIshing_vessel-1/resized_imgdata/157. 범장망 표류.jpg\n",
      "이미지 저장 완료: /home/elicer/FIshing_vessel-1/resized_imgdata/157. 타망 이동.jpg\n",
      "이미지 저장 완료: /home/elicer/FIshing_vessel-1/resized_imgdata/158. 범장망 표류.jpg\n",
      "이미지 저장 완료: /home/elicer/FIshing_vessel-1/resized_imgdata/158. 타망 이동.jpg\n",
      "이미지 저장 완료: /home/elicer/FIshing_vessel-1/resized_imgdata/159. 범장망 표류.jpg\n",
      "이미지 저장 완료: /home/elicer/FIshing_vessel-1/resized_imgdata/16. 낚시어선 조업.jpg\n",
      "이미지 저장 완료: /home/elicer/FIshing_vessel-1/resized_imgdata/16. 낚시어선 이동.jpg\n",
      "이미지 저장 완료: /home/elicer/FIshing_vessel-1/resized_imgdata/159. 타망 이동.jpg\n",
      "이미지 저장 완료: /home/elicer/FIshing_vessel-1/resized_imgdata/16. 등광조망 이동.jpg\n",
      "이미지 저장 완료: /home/elicer/FIshing_vessel-1/resized_imgdata/16. 등광조망 조업.jpg\n",
      "이미지 저장 완료: /home/elicer/FIshing_vessel-1/resized_imgdata/16. 등광조망 표류.jpg\n",
      "이미지 저장 완료: /home/elicer/FIshing_vessel-1/resized_imgdata/16. 범장망 이동.jpg\n",
      "이미지 저장 완료: /home/elicer/FIshing_vessel-1/resized_imgdata/16. 범장망 조업.jpg\n",
      "이미지 저장 완료: /home/elicer/FIshing_vessel-1/resized_imgdata/16. 범장망 표류.jpg\n",
      "이미지 저장 완료: /home/elicer/FIshing_vessel-1/resized_imgdata/16. 안강망 이동.jpg\n",
      "이미지 저장 완료: /home/elicer/FIshing_vessel-1/resized_imgdata/16. 안강망 조업.jpg\n",
      "이미지 저장 완료: /home/elicer/FIshing_vessel-1/resized_imgdata/16. 연승 이동.jpg\n",
      "이미지 저장 완료: /home/elicer/FIshing_vessel-1/resized_imgdata/16. 안강망 표류.jpg\n",
      "이미지 저장 완료: /home/elicer/FIshing_vessel-1/resized_imgdata/16. 유망 조업.jpg\n",
      "이미지 저장 완료: /home/elicer/FIshing_vessel-1/resized_imgdata/16. 연승 표류.jpg\n",
      "이미지 저장 완료: /home/elicer/FIshing_vessel-1/resized_imgdata/16. 유망 표류.jpg\n",
      "이미지 저장 완료: /home/elicer/FIshing_vessel-1/resized_imgdata/16. 저인망 이동.jpg\n",
      "이미지 저장 완료: /home/elicer/FIshing_vessel-1/resized_imgdata/16. 저인망 조업.jpg\n",
      "이미지 저장 완료: /home/elicer/FIshing_vessel-1/resized_imgdata/16. 채낚기 이동.jpg\n",
      "이미지 저장 완료: /home/elicer/FIshing_vessel-1/resized_imgdata/16. 채낚기 표류.jpg\n",
      "이미지 저장 완료: /home/elicer/FIshing_vessel-1/resized_imgdata/16. 타망 이동.jpg\n",
      "이미지 저장 완료: /home/elicer/FIshing_vessel-1/resized_imgdata/16. 타망 조업.jpg\n",
      "이미지 저장 완료: /home/elicer/FIshing_vessel-1/resized_imgdata/16. 타망 표류.jpg\n",
      "이미지 저장 완료: /home/elicer/FIshing_vessel-1/resized_imgdata/16. 통발 이동.jpg\n",
      "이미지 저장 완료: /home/elicer/FIshing_vessel-1/resized_imgdata/160. 범장망 표류.jpg\n",
      "이미지 저장 완료: /home/elicer/FIshing_vessel-1/resized_imgdata/161. 범장망 표류.jpg\n",
      "이미지 저장 완료: /home/elicer/FIshing_vessel-1/resized_imgdata/160. 타망 이동.jpg\n",
      "이미지 저장 완료: /home/elicer/FIshing_vessel-1/resized_imgdata/161. 타망 이동.jpg\n",
      "이미지 저장 완료: /home/elicer/FIshing_vessel-1/resized_imgdata/162. 범장망 표류.jpg\n",
      "이미지 저장 완료: /home/elicer/FIshing_vessel-1/resized_imgdata/163. 범장망 표류.jpg\n",
      "이미지 저장 완료: /home/elicer/FIshing_vessel-1/resized_imgdata/163. 타망 이동.jpg\n",
      "이미지 저장 완료: /home/elicer/FIshing_vessel-1/resized_imgdata/164. 범장망 표류.jpg\n",
      "이미지 저장 완료: /home/elicer/FIshing_vessel-1/resized_imgdata/164. 타망 이동.jpg\n",
      "이미지 저장 완료: /home/elicer/FIshing_vessel-1/resized_imgdata/165. 범장망 표류.jpg\n",
      "이미지 저장 완료: /home/elicer/FIshing_vessel-1/resized_imgdata/165. 타망 이동.jpg\n",
      "이미지 저장 완료: /home/elicer/FIshing_vessel-1/resized_imgdata/166. 범장망 표류.jpg\n",
      "이미지 저장 완료: /home/elicer/FIshing_vessel-1/resized_imgdata/166. 타망 이동.jpg\n",
      "이미지 저장 완료: /home/elicer/FIshing_vessel-1/resized_imgdata/167. 범장망 표류.jpg\n",
      "이미지 저장 완료: /home/elicer/FIshing_vessel-1/resized_imgdata/167. 타망 이동.jpg\n",
      "이미지 저장 완료: /home/elicer/FIshing_vessel-1/resized_imgdata/168. 범장망 표류.jpg\n",
      "이미지 저장 완료: /home/elicer/FIshing_vessel-1/resized_imgdata/168. 타망 이동.jpg\n",
      "이미지 저장 완료: /home/elicer/FIshing_vessel-1/resized_imgdata/169. 범장망 표류.jpg\n",
      "이미지 저장 완료: /home/elicer/FIshing_vessel-1/resized_imgdata/17. 낚시어선 이동.jpg\n",
      "이미지 저장 완료: /home/elicer/FIshing_vessel-1/resized_imgdata/17. 낚시어선 조업.jpg\n",
      "이미지 저장 완료: /home/elicer/FIshing_vessel-1/resized_imgdata/17. 등광조망 이동.jpg\n",
      "이미지 저장 완료: /home/elicer/FIshing_vessel-1/resized_imgdata/17. 등광조망 조업.jpg\n",
      "이미지 저장 완료: /home/elicer/FIshing_vessel-1/resized_imgdata/17. 등광조망 표류.jpg\n",
      "이미지 저장 완료: /home/elicer/FIshing_vessel-1/resized_imgdata/17. 범장망 이동.jpg\n",
      "이미지 저장 완료: /home/elicer/FIshing_vessel-1/resized_imgdata/17. 범장망 조업.jpg\n",
      "이미지 저장 완료: /home/elicer/FIshing_vessel-1/resized_imgdata/17. 범장망 표류.jpg\n",
      "이미지 저장 완료: /home/elicer/FIshing_vessel-1/resized_imgdata/17. 안강망 이동.jpg\n",
      "이미지 저장 완료: /home/elicer/FIshing_vessel-1/resized_imgdata/17. 연승 이동.jpg\n",
      "이미지 저장 완료: /home/elicer/FIshing_vessel-1/resized_imgdata/17. 유망 조업.jpg\n",
      "이미지 저장 완료: /home/elicer/FIshing_vessel-1/resized_imgdata/17. 유망 표류.jpg\n",
      "이미지 저장 완료: /home/elicer/FIshing_vessel-1/resized_imgdata/17. 유망 이동.jpg\n",
      "이미지 저장 완료: /home/elicer/FIshing_vessel-1/resized_imgdata/17. 연승 표류.jpg\n",
      "이미지 저장 완료: /home/elicer/FIshing_vessel-1/resized_imgdata/17. 저인망 이동.jpg\n",
      "이미지 저장 완료: /home/elicer/FIshing_vessel-1/resized_imgdata/17. 채낚기 이동.jpg\n",
      "이미지 저장 완료: /home/elicer/FIshing_vessel-1/resized_imgdata/17. 타망 이동.jpg\n",
      "이미지 저장 완료: /home/elicer/FIshing_vessel-1/resized_imgdata/17. 채낚기 표류.jpg\n",
      "이미지 저장 완료: /home/elicer/FIshing_vessel-1/resized_imgdata/17. 타망 조업.jpg\n",
      "이미지 저장 완료: /home/elicer/FIshing_vessel-1/resized_imgdata/17. 타망 표류.jpg\n",
      "이미지 저장 완료: /home/elicer/FIshing_vessel-1/resized_imgdata/17. 통발 이동.jpg\n",
      "이미지 저장 완료: /home/elicer/FIshing_vessel-1/resized_imgdata/170. 범장망 표류.jpg\n",
      "이미지 저장 완료: /home/elicer/FIshing_vessel-1/resized_imgdata/171. 범장망 표류.jpg\n",
      "이미지 저장 완료: /home/elicer/FIshing_vessel-1/resized_imgdata/172. 범장망 표류.jpg\n",
      "이미지 저장 완료: /home/elicer/FIshing_vessel-1/resized_imgdata/173. 범장망 표류.jpg\n",
      "이미지 저장 완료: /home/elicer/FIshing_vessel-1/resized_imgdata/174. 범장망 표류.jpg\n",
      "이미지 저장 완료: /home/elicer/FIshing_vessel-1/resized_imgdata/175. 범장망 표류.jpg\n",
      "이미지 저장 완료: /home/elicer/FIshing_vessel-1/resized_imgdata/177. 범장망 표류.jpg\n",
      "이미지 저장 완료: /home/elicer/FIshing_vessel-1/resized_imgdata/176. 범장망 표류.jpg\n",
      "이미지 저장 완료: /home/elicer/FIshing_vessel-1/resized_imgdata/178. 범장망 표류.jpg\n",
      "이미지 저장 완료: /home/elicer/FIshing_vessel-1/resized_imgdata/18. 낚시어선 이동.jpg\n",
      "이미지 저장 완료: /home/elicer/FIshing_vessel-1/resized_imgdata/18. 낚시어선 조업.jpg\n",
      "이미지 저장 완료: /home/elicer/FIshing_vessel-1/resized_imgdata/179. 범장망 표류.jpg\n",
      "이미지 저장 완료: /home/elicer/FIshing_vessel-1/resized_imgdata/18. 등광조망 이동.jpg\n",
      "이미지 저장 완료: /home/elicer/FIshing_vessel-1/resized_imgdata/18. 등광조망 조업.jpg\n",
      "이미지 저장 완료: /home/elicer/FIshing_vessel-1/resized_imgdata/18. 등광조망 표류.jpg\n",
      "이미지 저장 완료: /home/elicer/FIshing_vessel-1/resized_imgdata/18. 범장망 이동.jpg\n",
      "이미지 저장 완료: /home/elicer/FIshing_vessel-1/resized_imgdata/18. 범장망 조업.jpg\n",
      "이미지 저장 완료: /home/elicer/FIshing_vessel-1/resized_imgdata/18. 범장망 표류.jpg\n",
      "이미지 저장 완료: /home/elicer/FIshing_vessel-1/resized_imgdata/18. 연승 이동.jpg\n",
      "이미지 저장 완료: /home/elicer/FIshing_vessel-1/resized_imgdata/18. 안강망 이동.jpg\n",
      "이미지 저장 완료: /home/elicer/FIshing_vessel-1/resized_imgdata/18. 연승 표류.jpg\n",
      "이미지 저장 완료: /home/elicer/FIshing_vessel-1/resized_imgdata/18. 유망 이동.jpg\n",
      "이미지 저장 완료: /home/elicer/FIshing_vessel-1/resized_imgdata/18. 유망 조업.jpg\n",
      "이미지 저장 완료: /home/elicer/FIshing_vessel-1/resized_imgdata/18. 유망 표류.jpg\n",
      "이미지 저장 완료: /home/elicer/FIshing_vessel-1/resized_imgdata/18. 저인망 이동.jpg\n",
      "이미지 저장 완료: /home/elicer/FIshing_vessel-1/resized_imgdata/18. 채낚기 표류.jpg\n",
      "이미지 저장 완료: /home/elicer/FIshing_vessel-1/resized_imgdata/18. 저인망 조업.jpg\n",
      "이미지 저장 완료: /home/elicer/FIshing_vessel-1/resized_imgdata/18. 타망 이동.jpg\n",
      "이미지 저장 완료: /home/elicer/FIshing_vessel-1/resized_imgdata/18. 타망 표류.jpg\n",
      "이미지 저장 완료: /home/elicer/FIshing_vessel-1/resized_imgdata/18. 타망 조업.jpg\n",
      "이미지 저장 완료: /home/elicer/FIshing_vessel-1/resized_imgdata/18. 통발 이동.jpg\n",
      "이미지 저장 완료: /home/elicer/FIshing_vessel-1/resized_imgdata/180. 범장망 표류.jpg\n",
      "이미지 저장 완료: /home/elicer/FIshing_vessel-1/resized_imgdata/181. 범장망 표류.jpg\n",
      "이미지 저장 완료: /home/elicer/FIshing_vessel-1/resized_imgdata/182. 범장망 표류.jpg\n",
      "이미지 저장 완료: /home/elicer/FIshing_vessel-1/resized_imgdata/184. 범장망 표류.jpg\n",
      "이미지 저장 완료: /home/elicer/FIshing_vessel-1/resized_imgdata/183. 범장망 표류.jpg\n",
      "이미지 저장 완료: /home/elicer/FIshing_vessel-1/resized_imgdata/185. 범장망 표류.jpg\n",
      "이미지 저장 완료: /home/elicer/FIshing_vessel-1/resized_imgdata/186. 범장망 표류.jpg\n",
      "이미지 저장 완료: /home/elicer/FIshing_vessel-1/resized_imgdata/187. 범장망 표류.jpg\n",
      "이미지 저장 완료: /home/elicer/FIshing_vessel-1/resized_imgdata/188. 범장망 표류.jpg\n",
      "이미지 저장 완료: /home/elicer/FIshing_vessel-1/resized_imgdata/19. 낚시어선 이동.jpg\n",
      "이미지 저장 완료: /home/elicer/FIshing_vessel-1/resized_imgdata/189. 범장망 표류.jpg\n",
      "이미지 저장 완료: /home/elicer/FIshing_vessel-1/resized_imgdata/19. 낚시어선 조업.jpg\n",
      "이미지 저장 완료: /home/elicer/FIshing_vessel-1/resized_imgdata/19. 등광조망 이동.jpg\n",
      "이미지 저장 완료: /home/elicer/FIshing_vessel-1/resized_imgdata/19. 등광조망 조업.jpg\n",
      "이미지 저장 완료: /home/elicer/FIshing_vessel-1/resized_imgdata/19. 등광조망 표류.jpg\n",
      "이미지 저장 완료: /home/elicer/FIshing_vessel-1/resized_imgdata/19. 범장망 이동.jpg\n",
      "이미지 저장 완료: /home/elicer/FIshing_vessel-1/resized_imgdata/19. 범장망 조업.jpg\n",
      "이미지 저장 완료: /home/elicer/FIshing_vessel-1/resized_imgdata/19. 범장망 표류.jpg\n",
      "이미지 저장 완료: /home/elicer/FIshing_vessel-1/resized_imgdata/19. 안강망 이동.jpg\n",
      "이미지 저장 완료: /home/elicer/FIshing_vessel-1/resized_imgdata/19. 연승 이동.jpg\n",
      "이미지 저장 완료: /home/elicer/FIshing_vessel-1/resized_imgdata/19. 유망 이동.jpg\n",
      "이미지 저장 완료: /home/elicer/FIshing_vessel-1/resized_imgdata/19. 유망 표류.jpg\n",
      "이미지 저장 완료: /home/elicer/FIshing_vessel-1/resized_imgdata/19. 연승 표류.jpg\n",
      "이미지 저장 완료: /home/elicer/FIshing_vessel-1/resized_imgdata/19. 유망 조업.jpg\n",
      "이미지 저장 완료: /home/elicer/FIshing_vessel-1/resized_imgdata/19. 저인망 이동.jpg\n",
      "이미지 저장 완료: /home/elicer/FIshing_vessel-1/resized_imgdata/19. 저인망 조업.jpg\n",
      "이미지 저장 완료: /home/elicer/FIshing_vessel-1/resized_imgdata/19. 채낚기 표류.jpg\n",
      "이미지 저장 완료: /home/elicer/FIshing_vessel-1/resized_imgdata/19. 타망 이동.jpg\n",
      "이미지 저장 완료: /home/elicer/FIshing_vessel-1/resized_imgdata/19. 타망 조업.jpg\n",
      "이미지 저장 완료: /home/elicer/FIshing_vessel-1/resized_imgdata/19. 타망 표류.jpg\n",
      "이미지 저장 완료: /home/elicer/FIshing_vessel-1/resized_imgdata/19. 통발 이동.jpg\n",
      "이미지 저장 완료: /home/elicer/FIshing_vessel-1/resized_imgdata/190. 범장망 표류.jpg\n",
      "이미지 저장 완료: /home/elicer/FIshing_vessel-1/resized_imgdata/191. 범장망 표류.jpg\n",
      "이미지 저장 완료: /home/elicer/FIshing_vessel-1/resized_imgdata/192. 범장망 표류.jpg\n",
      "이미지 저장 완료: /home/elicer/FIshing_vessel-1/resized_imgdata/193. 범장망 표류.jpg\n",
      "이미지 저장 완료: /home/elicer/FIshing_vessel-1/resized_imgdata/194. 범장망 표류.jpg\n",
      "이미지 저장 완료: /home/elicer/FIshing_vessel-1/resized_imgdata/195. 범장망 표류.jpg\n",
      "이미지 저장 완료: /home/elicer/FIshing_vessel-1/resized_imgdata/196. 범장망 표류.jpg\n",
      "이미지 저장 완료: /home/elicer/FIshing_vessel-1/resized_imgdata/197. 범장망 표류.jpg\n",
      "이미지 저장 완료: /home/elicer/FIshing_vessel-1/resized_imgdata/2. 낚시어선 이동.jpg\n",
      "이미지 저장 완료: /home/elicer/FIshing_vessel-1/resized_imgdata/2. 낚시어선 조업.jpg\n",
      "이미지 저장 완료: /home/elicer/FIshing_vessel-1/resized_imgdata/199. 범장망 표류.jpg\n",
      "이미지 저장 완료: /home/elicer/FIshing_vessel-1/resized_imgdata/198. 범장망 표류.jpg\n",
      "이미지 저장 완료: /home/elicer/FIshing_vessel-1/resized_imgdata/2. 낚시어선 표류.jpg\n",
      "이미지 저장 완료: /home/elicer/FIshing_vessel-1/resized_imgdata/2. 등광조망 이동.jpg\n",
      "이미지 저장 완료: /home/elicer/FIshing_vessel-1/resized_imgdata/2. 등광조망 표류.jpg\n",
      "이미지 저장 완료: /home/elicer/FIshing_vessel-1/resized_imgdata/2. 범장망 이동.jpg\n",
      "이미지 저장 완료: /home/elicer/FIshing_vessel-1/resized_imgdata/2. 범장망 조업.jpg\n",
      "이미지 저장 완료: /home/elicer/FIshing_vessel-1/resized_imgdata/2. 범장망 표류.jpg\n",
      "이미지 저장 완료: /home/elicer/FIshing_vessel-1/resized_imgdata/2. 안강망 이동.jpg\n",
      "이미지 저장 완료: /home/elicer/FIshing_vessel-1/resized_imgdata/2. 안강망 표류.jpg\n",
      "이미지 저장 완료: /home/elicer/FIshing_vessel-1/resized_imgdata/2. 연승 이동.jpg\n",
      "이미지 저장 완료: /home/elicer/FIshing_vessel-1/resized_imgdata/2. 연승 표류.jpg\n",
      "이미지 저장 완료: /home/elicer/FIshing_vessel-1/resized_imgdata/2. 유망 이동.jpg\n",
      "이미지 저장 완료: /home/elicer/FIshing_vessel-1/resized_imgdata/2. 유망 조업.jpg\n",
      "이미지 저장 완료: /home/elicer/FIshing_vessel-1/resized_imgdata/2. 유망 표류.jpg\n",
      "이미지 저장 완료: /home/elicer/FIshing_vessel-1/resized_imgdata/2. 저인망 이동.jpg\n",
      "이미지 저장 완료: /home/elicer/FIshing_vessel-1/resized_imgdata/2. 저인망 조업.jpg\n",
      "이미지 저장 완료: /home/elicer/FIshing_vessel-1/resized_imgdata/2. 저인망 표류.jpg\n",
      "이미지 저장 완료: /home/elicer/FIshing_vessel-1/resized_imgdata/2. 채낚기  표류.jpg\n",
      "이미지 저장 완료: /home/elicer/FIshing_vessel-1/resized_imgdata/2. 채낚기 이동.jpg\n",
      "이미지 저장 완료: /home/elicer/FIshing_vessel-1/resized_imgdata/2. 채낚기 조업.jpg\n",
      "이미지 저장 완료: /home/elicer/FIshing_vessel-1/resized_imgdata/2. 타망 이동.jpg\n",
      "이미지 저장 완료: /home/elicer/FIshing_vessel-1/resized_imgdata/2. 타망 조업.jpg\n",
      "이미지 저장 완료: /home/elicer/FIshing_vessel-1/resized_imgdata/2. 타망 표류.jpg\n",
      "이미지 저장 완료: /home/elicer/FIshing_vessel-1/resized_imgdata/2. 통발 이동.jpg\n",
      "이미지 저장 완료: /home/elicer/FIshing_vessel-1/resized_imgdata/2. 통발 조업.jpg\n",
      "이미지 저장 완료: /home/elicer/FIshing_vessel-1/resized_imgdata/2. 통발 표류.jpg\n",
      "이미지 저장 완료: /home/elicer/FIshing_vessel-1/resized_imgdata/2.등광조망 조업.jpg\n",
      "이미지 저장 완료: /home/elicer/FIshing_vessel-1/resized_imgdata/20. 낚시어선 이동.jpg\n",
      "이미지 저장 완료: /home/elicer/FIshing_vessel-1/resized_imgdata/20. 낚시어선 조업.jpg\n",
      "이미지 저장 완료: /home/elicer/FIshing_vessel-1/resized_imgdata/20. 등광조망 이동.jpg\n",
      "이미지 저장 완료: /home/elicer/FIshing_vessel-1/resized_imgdata/20. 범장망 이동.jpg\n",
      "이미지 저장 완료: /home/elicer/FIshing_vessel-1/resized_imgdata/20. 등광조망 조업.jpg\n",
      "이미지 저장 완료: /home/elicer/FIshing_vessel-1/resized_imgdata/20. 등광조망 표류.jpg\n",
      "이미지 저장 완료: /home/elicer/FIshing_vessel-1/resized_imgdata/20. 안강망 이동.jpg\n",
      "이미지 저장 완료: /home/elicer/FIshing_vessel-1/resized_imgdata/20. 범장망 조업.jpg\n",
      "이미지 저장 완료: /home/elicer/FIshing_vessel-1/resized_imgdata/20. 범장망 표류.jpg\n",
      "이미지 저장 완료: /home/elicer/FIshing_vessel-1/resized_imgdata/20. 연승 이동.jpg\n",
      "이미지 저장 완료: /home/elicer/FIshing_vessel-1/resized_imgdata/20. 연승 표류.jpg\n",
      "이미지 저장 완료: /home/elicer/FIshing_vessel-1/resized_imgdata/20. 유망 이동.jpg\n",
      "이미지 저장 완료: /home/elicer/FIshing_vessel-1/resized_imgdata/20. 유망 표류.jpg\n",
      "이미지 저장 완료: /home/elicer/FIshing_vessel-1/resized_imgdata/20. 저인망 이동.jpg\n",
      "이미지 저장 완료: /home/elicer/FIshing_vessel-1/resized_imgdata/20. 저인망 조업.jpg\n",
      "이미지 저장 완료: /home/elicer/FIshing_vessel-1/resized_imgdata/20. 타망 이동.jpg\n",
      "이미지 저장 완료: /home/elicer/FIshing_vessel-1/resized_imgdata/20. 채낚기 표류.jpg\n",
      "이미지 저장 완료: /home/elicer/FIshing_vessel-1/resized_imgdata/20. 타망 조업.jpg\n",
      "이미지 저장 완료: /home/elicer/FIshing_vessel-1/resized_imgdata/20. 타망 표류.jpg\n",
      "이미지 저장 완료: /home/elicer/FIshing_vessel-1/resized_imgdata/20. 통발 이동.jpg\n",
      "이미지 저장 완료: /home/elicer/FIshing_vessel-1/resized_imgdata/200. 범장망 표류.jpg\n",
      "이미지 저장 완료: /home/elicer/FIshing_vessel-1/resized_imgdata/201. 범장망 표류.jpg\n",
      "이미지 저장 완료: /home/elicer/FIshing_vessel-1/resized_imgdata/202. 범장망 표류.jpg\n",
      "이미지 저장 완료: /home/elicer/FIshing_vessel-1/resized_imgdata/203. 범장망 표류.jpg\n",
      "이미지 저장 완료: /home/elicer/FIshing_vessel-1/resized_imgdata/204. 범장망 표류.jpg\n",
      "이미지 저장 완료: /home/elicer/FIshing_vessel-1/resized_imgdata/205. 범장망 표류.jpg\n",
      "이미지 저장 완료: /home/elicer/FIshing_vessel-1/resized_imgdata/206. 범장망 표류.jpg\n",
      "이미지 저장 완료: /home/elicer/FIshing_vessel-1/resized_imgdata/207. 범장망 표류.jpg\n",
      "이미지 저장 완료: /home/elicer/FIshing_vessel-1/resized_imgdata/208. 범장망 표류.jpg\n",
      "이미지 저장 완료: /home/elicer/FIshing_vessel-1/resized_imgdata/209. 범장망 표류.jpg\n",
      "이미지 저장 완료: /home/elicer/FIshing_vessel-1/resized_imgdata/21. 낚시어선 이동.jpg\n",
      "이미지 저장 완료: /home/elicer/FIshing_vessel-1/resized_imgdata/21. 낚시어선 조업.jpg\n",
      "이미지 저장 완료: /home/elicer/FIshing_vessel-1/resized_imgdata/21. 등광조망 이동.jpg\n",
      "이미지 저장 완료: /home/elicer/FIshing_vessel-1/resized_imgdata/21. 등광조망 조업.jpg\n",
      "이미지 저장 완료: /home/elicer/FIshing_vessel-1/resized_imgdata/21. 등광조망 표류.jpg\n",
      "이미지 저장 완료: /home/elicer/FIshing_vessel-1/resized_imgdata/21. 범장망 이동.jpg\n",
      "이미지 저장 완료: /home/elicer/FIshing_vessel-1/resized_imgdata/21. 범장망 조업.jpg\n",
      "이미지 저장 완료: /home/elicer/FIshing_vessel-1/resized_imgdata/21. 범장망 표류.jpg\n",
      "이미지 저장 완료: /home/elicer/FIshing_vessel-1/resized_imgdata/21. 안강망 이동.jpg\n",
      "이미지 저장 완료: /home/elicer/FIshing_vessel-1/resized_imgdata/21. 연승 이동.jpg\n",
      "이미지 저장 완료: /home/elicer/FIshing_vessel-1/resized_imgdata/21. 유망 이동.jpg\n",
      "이미지 저장 완료: /home/elicer/FIshing_vessel-1/resized_imgdata/21. 유망 조업.jpg\n",
      "이미지 저장 완료: /home/elicer/FIshing_vessel-1/resized_imgdata/21. 유망 표류.jpg\n",
      "이미지 저장 완료: /home/elicer/FIshing_vessel-1/resized_imgdata/21. 저인망 이동.jpg\n",
      "이미지 저장 완료: /home/elicer/FIshing_vessel-1/resized_imgdata/21. 저인망 조업.jpg\n",
      "이미지 저장 완료: /home/elicer/FIshing_vessel-1/resized_imgdata/21. 채낚기 표류.jpg\n",
      "이미지 저장 완료: /home/elicer/FIshing_vessel-1/resized_imgdata/21. 타망 이동.jpg\n",
      "이미지 저장 완료: /home/elicer/FIshing_vessel-1/resized_imgdata/21. 타망 표류.jpg\n",
      "이미지 저장 완료: /home/elicer/FIshing_vessel-1/resized_imgdata/21. 통발 이동.jpg\n",
      "이미지 저장 완료: /home/elicer/FIshing_vessel-1/resized_imgdata/210. 범장망 표류.jpg\n",
      "이미지 저장 완료: /home/elicer/FIshing_vessel-1/resized_imgdata/211. 범장망 표류.jpg\n",
      "이미지 저장 완료: /home/elicer/FIshing_vessel-1/resized_imgdata/214. 범장망 표류.jpg\n",
      "이미지 저장 완료: /home/elicer/FIshing_vessel-1/resized_imgdata/212. 범장망 표류.jpg\n",
      "이미지 저장 완료: /home/elicer/FIshing_vessel-1/resized_imgdata/213. 범장망 표류.jpg\n",
      "이미지 저장 완료: /home/elicer/FIshing_vessel-1/resized_imgdata/215. 범장망 표류.jpg\n",
      "이미지 저장 완료: /home/elicer/FIshing_vessel-1/resized_imgdata/216. 범장망 표류.jpg\n",
      "이미지 저장 완료: /home/elicer/FIshing_vessel-1/resized_imgdata/217. 범장망 표류.jpg\n",
      "이미지 저장 완료: /home/elicer/FIshing_vessel-1/resized_imgdata/218. 범장망 표류.jpg\n",
      "이미지 저장 완료: /home/elicer/FIshing_vessel-1/resized_imgdata/219. 범장망 표류.jpg\n",
      "이미지 저장 완료: /home/elicer/FIshing_vessel-1/resized_imgdata/22. 낚시어선 이동.jpg\n",
      "이미지 저장 완료: /home/elicer/FIshing_vessel-1/resized_imgdata/22. 낚시어선 조업.jpg\n",
      "이미지 저장 완료: /home/elicer/FIshing_vessel-1/resized_imgdata/22. 등광조망 이동.jpg\n",
      "이미지 저장 완료: /home/elicer/FIshing_vessel-1/resized_imgdata/22. 등광조망 조업.jpg\n",
      "이미지 저장 완료: /home/elicer/FIshing_vessel-1/resized_imgdata/22. 등광조망 표류.jpg\n",
      "이미지 저장 완료: /home/elicer/FIshing_vessel-1/resized_imgdata/22. 범장망 이동.jpg\n",
      "이미지 저장 완료: /home/elicer/FIshing_vessel-1/resized_imgdata/22. 범장망 조업.jpg\n",
      "이미지 저장 완료: /home/elicer/FIshing_vessel-1/resized_imgdata/22. 범장망 표류.jpg\n",
      "이미지 저장 완료: /home/elicer/FIshing_vessel-1/resized_imgdata/22. 안강망 이동.jpg\n",
      "이미지 저장 완료: /home/elicer/FIshing_vessel-1/resized_imgdata/22. 연승 이동.jpg\n",
      "이미지 저장 완료: /home/elicer/FIshing_vessel-1/resized_imgdata/22. 유망 이동.jpg\n",
      "이미지 저장 완료: /home/elicer/FIshing_vessel-1/resized_imgdata/22. 유망 조업.jpg\n",
      "이미지 저장 완료: /home/elicer/FIshing_vessel-1/resized_imgdata/22. 연승 표류.jpg\n",
      "이미지 저장 완료: /home/elicer/FIshing_vessel-1/resized_imgdata/22. 유망 표류.jpg\n",
      "이미지 저장 완료: /home/elicer/FIshing_vessel-1/resized_imgdata/22. 저인망 이동.jpg\n",
      "이미지 저장 완료: /home/elicer/FIshing_vessel-1/resized_imgdata/22. 채낚기 표류.jpg\n",
      "이미지 저장 완료: /home/elicer/FIshing_vessel-1/resized_imgdata/22. 타망 이동.jpg\n",
      "이미지 저장 완료: /home/elicer/FIshing_vessel-1/resized_imgdata/22. 저인망 조업.jpg\n",
      "이미지 저장 완료: /home/elicer/FIshing_vessel-1/resized_imgdata/22. 타망 조업.jpg\n",
      "이미지 저장 완료: /home/elicer/FIshing_vessel-1/resized_imgdata/22. 타망 표류.jpg\n",
      "이미지 저장 완료: /home/elicer/FIshing_vessel-1/resized_imgdata/22. 통발 이동.jpg\n",
      "이미지 저장 완료: /home/elicer/FIshing_vessel-1/resized_imgdata/220. 범장망 표류.jpg\n",
      "이미지 저장 완료: /home/elicer/FIshing_vessel-1/resized_imgdata/221. 범장망 표류.jpg\n",
      "이미지 저장 완료: /home/elicer/FIshing_vessel-1/resized_imgdata/222. 범장망 표류.jpg\n",
      "이미지 저장 완료: /home/elicer/FIshing_vessel-1/resized_imgdata/223. 범장망 표류.jpg\n",
      "이미지 저장 완료: /home/elicer/FIshing_vessel-1/resized_imgdata/224. 범장망 표류.jpg\n",
      "이미지 저장 완료: /home/elicer/FIshing_vessel-1/resized_imgdata/226. 범장망 표류.jpg\n",
      "이미지 저장 완료: /home/elicer/FIshing_vessel-1/resized_imgdata/225. 범장망 표류.jpg\n",
      "이미지 저장 완료: /home/elicer/FIshing_vessel-1/resized_imgdata/227. 범장망 표류.jpg\n",
      "이미지 저장 완료: /home/elicer/FIshing_vessel-1/resized_imgdata/228. 범장망 표류.jpg\n",
      "이미지 저장 완료: /home/elicer/FIshing_vessel-1/resized_imgdata/23. 낚시어선 이동.jpg\n",
      "이미지 저장 완료: /home/elicer/FIshing_vessel-1/resized_imgdata/229. 범장망 표류.jpg\n",
      "이미지 저장 완료: /home/elicer/FIshing_vessel-1/resized_imgdata/23. 낚시어선 조업.jpg\n",
      "이미지 저장 완료: /home/elicer/FIshing_vessel-1/resized_imgdata/23. 등광조망 조업.jpg\n",
      "이미지 저장 완료: /home/elicer/FIshing_vessel-1/resized_imgdata/23. 등광조망 표류.jpg\n",
      "이미지 저장 완료: /home/elicer/FIshing_vessel-1/resized_imgdata/23. 범장망 이동.jpg\n",
      "이미지 저장 완료: /home/elicer/FIshing_vessel-1/resized_imgdata/23. 범장망 조업.jpg\n",
      "이미지 저장 완료: /home/elicer/FIshing_vessel-1/resized_imgdata/23. 범장망 표류.jpg\n",
      "이미지 저장 완료: /home/elicer/FIshing_vessel-1/resized_imgdata/23. 연승 이동.jpg\n",
      "이미지 저장 완료: /home/elicer/FIshing_vessel-1/resized_imgdata/23. 연승 표류.jpg\n",
      "이미지 저장 완료: /home/elicer/FIshing_vessel-1/resized_imgdata/23. 유망 이동.jpg\n",
      "이미지 저장 완료: /home/elicer/FIshing_vessel-1/resized_imgdata/23. 유망 조업.jpg\n",
      "이미지 저장 완료: /home/elicer/FIshing_vessel-1/resized_imgdata/23. 유망 표류.jpg\n",
      "이미지 저장 완료: /home/elicer/FIshing_vessel-1/resized_imgdata/23. 저인망 이동.jpg\n",
      "이미지 저장 완료: /home/elicer/FIshing_vessel-1/resized_imgdata/23. 저인망 조업.jpg\n",
      "이미지 저장 완료: /home/elicer/FIshing_vessel-1/resized_imgdata/23. 채낚기 표류.jpg\n",
      "이미지 저장 완료: /home/elicer/FIshing_vessel-1/resized_imgdata/23. 타망 조업.jpg\n",
      "이미지 저장 완료: /home/elicer/FIshing_vessel-1/resized_imgdata/23. 타망 이동.jpg\n",
      "이미지 저장 완료: /home/elicer/FIshing_vessel-1/resized_imgdata/23. 타망 표류.jpg\n",
      "이미지 저장 완료: /home/elicer/FIshing_vessel-1/resized_imgdata/23. 통발 이동.jpg\n",
      "이미지 저장 완료: /home/elicer/FIshing_vessel-1/resized_imgdata/23.등광조망 이동.jpg\n",
      "이미지 저장 완료: /home/elicer/FIshing_vessel-1/resized_imgdata/230. 범장망 표류.jpg\n",
      "이미지 저장 완료: /home/elicer/FIshing_vessel-1/resized_imgdata/231. 범장망 표류.jpg\n",
      "이미지 저장 완료: /home/elicer/FIshing_vessel-1/resized_imgdata/232. 범장망 표류.jpg\n",
      "이미지 저장 완료: /home/elicer/FIshing_vessel-1/resized_imgdata/233. 범장망 표류.jpg\n",
      "이미지 저장 완료: /home/elicer/FIshing_vessel-1/resized_imgdata/234. 범장망 표류.jpg\n",
      "이미지 저장 완료: /home/elicer/FIshing_vessel-1/resized_imgdata/235. 범장망 표류.jpg\n",
      "이미지 저장 완료: /home/elicer/FIshing_vessel-1/resized_imgdata/236. 범장망 표류.jpg\n",
      "이미지 저장 완료: /home/elicer/FIshing_vessel-1/resized_imgdata/237. 범장망 표류.jpg\n",
      "이미지 저장 완료: /home/elicer/FIshing_vessel-1/resized_imgdata/238. 범장망 표류.jpg\n",
      "이미지 저장 완료: /home/elicer/FIshing_vessel-1/resized_imgdata/239. 범장망 표류.jpg\n",
      "이미지 저장 완료: /home/elicer/FIshing_vessel-1/resized_imgdata/24. 낚시어선 이동.jpg\n",
      "이미지 저장 완료: /home/elicer/FIshing_vessel-1/resized_imgdata/24. 낚시어선 조업.jpg\n",
      "이미지 저장 완료: /home/elicer/FIshing_vessel-1/resized_imgdata/24. 등광조망 이동.jpg\n",
      "이미지 저장 완료: /home/elicer/FIshing_vessel-1/resized_imgdata/24. 등광조망 조업.jpg\n",
      "이미지 저장 완료: /home/elicer/FIshing_vessel-1/resized_imgdata/24. 범장망 이동.jpg\n",
      "이미지 저장 완료: /home/elicer/FIshing_vessel-1/resized_imgdata/24. 등광조망 표류.jpg\n",
      "이미지 저장 완료: /home/elicer/FIshing_vessel-1/resized_imgdata/24. 범장망 조업.jpg\n",
      "이미지 저장 완료: /home/elicer/FIshing_vessel-1/resized_imgdata/24. 연승 이동.jpg\n",
      "이미지 저장 완료: /home/elicer/FIshing_vessel-1/resized_imgdata/24. 유망 이동.jpg\n",
      "이미지 저장 완료: /home/elicer/FIshing_vessel-1/resized_imgdata/24. 유망 표류.jpg\n",
      "이미지 저장 완료: /home/elicer/FIshing_vessel-1/resized_imgdata/24. 저인망 이동.jpg\n",
      "이미지 저장 완료: /home/elicer/FIshing_vessel-1/resized_imgdata/24. 유망 조업.jpg\n",
      "이미지 저장 완료: /home/elicer/FIshing_vessel-1/resized_imgdata/24. 타망 이동.jpg\n",
      "이미지 저장 완료: /home/elicer/FIshing_vessel-1/resized_imgdata/24. 채낚기 표류.jpg\n",
      "이미지 저장 완료: /home/elicer/FIshing_vessel-1/resized_imgdata/24. 저인망 조업.jpg\n",
      "이미지 저장 완료: /home/elicer/FIshing_vessel-1/resized_imgdata/24. 타망 조업.jpg\n",
      "이미지 저장 완료: /home/elicer/FIshing_vessel-1/resized_imgdata/24. 타망 표류.jpg\n",
      "이미지 저장 완료: /home/elicer/FIshing_vessel-1/resized_imgdata/24. 통발 이동.jpg\n",
      "이미지 저장 완료: /home/elicer/FIshing_vessel-1/resized_imgdata/240. 범장망 표류.jpg\n",
      "이미지 저장 완료: /home/elicer/FIshing_vessel-1/resized_imgdata/241. 범장망 표류.jpg\n",
      "이미지 저장 완료: /home/elicer/FIshing_vessel-1/resized_imgdata/242. 범장망 표류.jpg\n",
      "이미지 저장 완료: /home/elicer/FIshing_vessel-1/resized_imgdata/243. 범장망 표류.jpg\n",
      "이미지 저장 완료: /home/elicer/FIshing_vessel-1/resized_imgdata/244. 범장망 표류.jpg\n",
      "이미지 저장 완료: /home/elicer/FIshing_vessel-1/resized_imgdata/245. 범장망 표류.jpg\n",
      "이미지 저장 완료: /home/elicer/FIshing_vessel-1/resized_imgdata/246. 범장망 표류.jpg\n",
      "이미지 저장 완료: /home/elicer/FIshing_vessel-1/resized_imgdata/247. 범장망 표류.jpg\n",
      "이미지 저장 완료: /home/elicer/FIshing_vessel-1/resized_imgdata/248. 범장망 표류.jpg\n",
      "이미지 저장 완료: /home/elicer/FIshing_vessel-1/resized_imgdata/249. 범장망 표류.jpg\n",
      "이미지 저장 완료: /home/elicer/FIshing_vessel-1/resized_imgdata/25. 낚시어선 이동.jpg\n",
      "이미지 저장 완료: /home/elicer/FIshing_vessel-1/resized_imgdata/25. 등광조망 조업.jpg\n",
      "이미지 저장 완료: /home/elicer/FIshing_vessel-1/resized_imgdata/25. 낚시어선 조업.jpg\n",
      "이미지 저장 완료: /home/elicer/FIshing_vessel-1/resized_imgdata/25. 범장망 이동.jpg\n",
      "이미지 저장 완료: /home/elicer/FIshing_vessel-1/resized_imgdata/25. 범장망 표류.jpg\n",
      "이미지 저장 완료: /home/elicer/FIshing_vessel-1/resized_imgdata/25. 연승 이동.jpg\n",
      "이미지 저장 완료: /home/elicer/FIshing_vessel-1/resized_imgdata/25. 유망 조업.jpg\n",
      "이미지 저장 완료: /home/elicer/FIshing_vessel-1/resized_imgdata/25. 유망 이동.jpg\n",
      "이미지 저장 완료: /home/elicer/FIshing_vessel-1/resized_imgdata/25. 유망 표류.jpg\n",
      "이미지 저장 완료: /home/elicer/FIshing_vessel-1/resized_imgdata/25. 저인망 이동.jpg\n",
      "이미지 저장 완료: /home/elicer/FIshing_vessel-1/resized_imgdata/25. 채낚기 표류.jpg\n",
      "이미지 저장 완료: /home/elicer/FIshing_vessel-1/resized_imgdata/25. 타망 이동.jpg\n",
      "이미지 저장 완료: /home/elicer/FIshing_vessel-1/resized_imgdata/25. 타망 조업.jpg\n",
      "이미지 저장 완료: /home/elicer/FIshing_vessel-1/resized_imgdata/25. 타망 표류.jpg\n",
      "이미지 저장 완료: /home/elicer/FIshing_vessel-1/resized_imgdata/251. 범장망 표류.jpg\n",
      "이미지 저장 완료: /home/elicer/FIshing_vessel-1/resized_imgdata/250. 범장망 표류.jpg\n",
      "이미지 저장 완료: /home/elicer/FIshing_vessel-1/resized_imgdata/252. 범장망 표류.jpg\n",
      "이미지 저장 완료: /home/elicer/FIshing_vessel-1/resized_imgdata/253. 범장망 표류.jpg\n",
      "이미지 저장 완료: /home/elicer/FIshing_vessel-1/resized_imgdata/254. 범장망 표류.jpg\n",
      "이미지 저장 완료: /home/elicer/FIshing_vessel-1/resized_imgdata/255. 범장망 표류.jpg\n",
      "이미지 저장 완료: /home/elicer/FIshing_vessel-1/resized_imgdata/256. 범장망 표류.jpg\n",
      "이미지 저장 완료: /home/elicer/FIshing_vessel-1/resized_imgdata/257. 범장망 표류.jpg\n",
      "이미지 저장 완료: /home/elicer/FIshing_vessel-1/resized_imgdata/258. 범장망 표류.jpg\n",
      "이미지 저장 완료: /home/elicer/FIshing_vessel-1/resized_imgdata/259. 범장망 표류.jpg\n",
      "이미지 저장 완료: /home/elicer/FIshing_vessel-1/resized_imgdata/26. 낚시어선 이동.jpg\n",
      "이미지 저장 완료: /home/elicer/FIshing_vessel-1/resized_imgdata/26. 낚시어선 조업.jpg\n",
      "이미지 저장 완료: /home/elicer/FIshing_vessel-1/resized_imgdata/26. 등광조망 이동.jpg\n",
      "이미지 저장 완료: /home/elicer/FIshing_vessel-1/resized_imgdata/26. 등광조망 조업.jpg\n",
      "이미지 저장 완료: /home/elicer/FIshing_vessel-1/resized_imgdata/26. 범장망 표류.jpg\n",
      "이미지 저장 완료: /home/elicer/FIshing_vessel-1/resized_imgdata/26. 연승 이동.jpg\n",
      "이미지 저장 완료: /home/elicer/FIshing_vessel-1/resized_imgdata/26. 유망 이동.jpg\n",
      "이미지 저장 완료: /home/elicer/FIshing_vessel-1/resized_imgdata/26. 유망 조업.jpg\n",
      "이미지 저장 완료: /home/elicer/FIshing_vessel-1/resized_imgdata/26. 유망 표류.jpg\n",
      "이미지 저장 완료: /home/elicer/FIshing_vessel-1/resized_imgdata/26. 저인망 이동.jpg\n",
      "이미지 저장 완료: /home/elicer/FIshing_vessel-1/resized_imgdata/26. 채낚기 표류.jpg\n",
      "이미지 저장 완료: /home/elicer/FIshing_vessel-1/resized_imgdata/26. 타망 이동.jpg\n",
      "이미지 저장 완료: /home/elicer/FIshing_vessel-1/resized_imgdata/26. 타망 조업.jpg\n",
      "이미지 저장 완료: /home/elicer/FIshing_vessel-1/resized_imgdata/26. 타망 표류.jpg\n",
      "이미지 저장 완료: /home/elicer/FIshing_vessel-1/resized_imgdata/26. 통발 이동.jpg\n",
      "이미지 저장 완료: /home/elicer/FIshing_vessel-1/resized_imgdata/262. 범장망 표류.png\n",
      "이미지 저장 완료: /home/elicer/FIshing_vessel-1/resized_imgdata/263. 범장망 표류.png\n",
      "이미지 저장 완료: /home/elicer/FIshing_vessel-1/resized_imgdata/260. 범장망 표류.jpg\n",
      "이미지 저장 완료: /home/elicer/FIshing_vessel-1/resized_imgdata/261. 범장망 표류.jpg\n",
      "이미지 저장 완료: /home/elicer/FIshing_vessel-1/resized_imgdata/264. 범장망 표류.jpg\n",
      "이미지 저장 완료: /home/elicer/FIshing_vessel-1/resized_imgdata/265. 범장망 표류.jpg\n",
      "이미지 저장 완료: /home/elicer/FIshing_vessel-1/resized_imgdata/266. 범장망 표류.jpg\n",
      "이미지 저장 완료: /home/elicer/FIshing_vessel-1/resized_imgdata/267. 범장망 표류.jpg\n",
      "이미지 저장 완료: /home/elicer/FIshing_vessel-1/resized_imgdata/268. 범장망 표류.jpg\n",
      "이미지 저장 완료: /home/elicer/FIshing_vessel-1/resized_imgdata/269. 범장망 표류.jpg\n",
      "이미지 저장 완료: /home/elicer/FIshing_vessel-1/resized_imgdata/27. 낚시어선 이동.jpg\n",
      "이미지 저장 완료: /home/elicer/FIshing_vessel-1/resized_imgdata/27. 낚시어선 조업.jpg\n",
      "이미지 저장 완료: /home/elicer/FIshing_vessel-1/resized_imgdata/27. 등광조망 이동.jpg\n",
      "이미지 저장 완료: /home/elicer/FIshing_vessel-1/resized_imgdata/27. 범장망 표류.jpg\n",
      "이미지 저장 완료: /home/elicer/FIshing_vessel-1/resized_imgdata/27. 범장망 이동.jpg\n",
      "이미지 저장 완료: /home/elicer/FIshing_vessel-1/resized_imgdata/27. 등광조망 조업.jpg\n",
      "이미지 저장 완료: /home/elicer/FIshing_vessel-1/resized_imgdata/27. 연승 이동.jpg\n",
      "이미지 저장 완료: /home/elicer/FIshing_vessel-1/resized_imgdata/27. 유망 이동.jpg\n",
      "이미지 저장 완료: /home/elicer/FIshing_vessel-1/resized_imgdata/27. 유망 조업.jpg\n",
      "이미지 저장 완료: /home/elicer/FIshing_vessel-1/resized_imgdata/27. 유망 표류.jpg\n",
      "이미지 저장 완료: /home/elicer/FIshing_vessel-1/resized_imgdata/27. 저인망 이동.jpg\n",
      "이미지 저장 완료: /home/elicer/FIshing_vessel-1/resized_imgdata/27. 채낚기 표류.jpg\n",
      "이미지 저장 완료: /home/elicer/FIshing_vessel-1/resized_imgdata/27. 타망 이동.jpg\n",
      "이미지 저장 완료: /home/elicer/FIshing_vessel-1/resized_imgdata/27. 타망 조업.jpg\n",
      "이미지 저장 완료: /home/elicer/FIshing_vessel-1/resized_imgdata/27. 타망 표류.jpg\n",
      "이미지 저장 완료: /home/elicer/FIshing_vessel-1/resized_imgdata/27. 통발 이동.jpg\n",
      "이미지 저장 완료: /home/elicer/FIshing_vessel-1/resized_imgdata/270. 범장망 표류.jpg\n",
      "이미지 저장 완료: /home/elicer/FIshing_vessel-1/resized_imgdata/271. 범장망 표류.jpg\n",
      "이미지 저장 완료: /home/elicer/FIshing_vessel-1/resized_imgdata/272. 범장망 표류.jpg\n",
      "이미지 저장 완료: /home/elicer/FIshing_vessel-1/resized_imgdata/273. 범장망 표류.jpg\n",
      "이미지 저장 완료: /home/elicer/FIshing_vessel-1/resized_imgdata/274. 범장망 표류.jpg\n",
      "이미지 저장 완료: /home/elicer/FIshing_vessel-1/resized_imgdata/275. 범장망 표류.jpg\n",
      "이미지 저장 완료: /home/elicer/FIshing_vessel-1/resized_imgdata/276. 범장망 표류.jpg\n",
      "이미지 저장 완료: /home/elicer/FIshing_vessel-1/resized_imgdata/278. 범장망 표류.jpg\n",
      "이미지 저장 완료: /home/elicer/FIshing_vessel-1/resized_imgdata/277. 범장망 표류.jpg\n",
      "이미지 저장 완료: /home/elicer/FIshing_vessel-1/resized_imgdata/279. 범장망 표류.jpg\n",
      "이미지 저장 완료: /home/elicer/FIshing_vessel-1/resized_imgdata/28. 낚시어선 이동.jpg\n",
      "이미지 저장 완료: /home/elicer/FIshing_vessel-1/resized_imgdata/28. 낚시어선 조업.jpg\n",
      "이미지 저장 완료: /home/elicer/FIshing_vessel-1/resized_imgdata/28. 등광조망 이동.jpg\n",
      "이미지 저장 완료: /home/elicer/FIshing_vessel-1/resized_imgdata/28. 등광조망 조업.jpg\n",
      "이미지 저장 완료: /home/elicer/FIshing_vessel-1/resized_imgdata/28. 범장망 이동.jpg\n",
      "이미지 저장 완료: /home/elicer/FIshing_vessel-1/resized_imgdata/28. 범장망 표류.jpg\n",
      "이미지 저장 완료: /home/elicer/FIshing_vessel-1/resized_imgdata/28. 연승 이동.jpg\n",
      "이미지 저장 완료: /home/elicer/FIshing_vessel-1/resized_imgdata/28. 유망 이동.jpg\n",
      "이미지 저장 완료: /home/elicer/FIshing_vessel-1/resized_imgdata/28. 유망 표류.jpg\n",
      "이미지 저장 완료: /home/elicer/FIshing_vessel-1/resized_imgdata/28. 유망 조업.jpg\n",
      "이미지 저장 완료: /home/elicer/FIshing_vessel-1/resized_imgdata/28. 저인망 이동.jpg\n",
      "이미지 저장 완료: /home/elicer/FIshing_vessel-1/resized_imgdata/28. 타망 이동.jpg\n",
      "이미지 저장 완료: /home/elicer/FIshing_vessel-1/resized_imgdata/28. 타망 조업.jpg\n",
      "이미지 저장 완료: /home/elicer/FIshing_vessel-1/resized_imgdata/28. 타망 표류.jpg\n",
      "이미지 저장 완료: /home/elicer/FIshing_vessel-1/resized_imgdata/28. 통발 이동.jpg\n",
      "이미지 저장 완료: /home/elicer/FIshing_vessel-1/resized_imgdata/280. 범장망 표류.jpg\n",
      "이미지 저장 완료: /home/elicer/FIshing_vessel-1/resized_imgdata/281. 범장망 표류.jpg\n",
      "이미지 저장 완료: /home/elicer/FIshing_vessel-1/resized_imgdata/282. 범장망 표류.jpg\n",
      "이미지 저장 완료: /home/elicer/FIshing_vessel-1/resized_imgdata/283. 범장망 표류.jpg\n",
      "이미지 저장 완료: /home/elicer/FIshing_vessel-1/resized_imgdata/284. 범장망 표류.jpg\n",
      "이미지 저장 완료: /home/elicer/FIshing_vessel-1/resized_imgdata/285. 범장망 표류.jpg\n",
      "이미지 저장 완료: /home/elicer/FIshing_vessel-1/resized_imgdata/286. 범장망 표류.jpg\n",
      "이미지 저장 완료: /home/elicer/FIshing_vessel-1/resized_imgdata/287. 범장망 표류.jpg\n",
      "이미지 저장 완료: /home/elicer/FIshing_vessel-1/resized_imgdata/289. 범장망 표류.jpg\n",
      "이미지 저장 완료: /home/elicer/FIshing_vessel-1/resized_imgdata/29. 낚시어선 이동.jpg\n",
      "이미지 저장 완료: /home/elicer/FIshing_vessel-1/resized_imgdata/4. 유망 표류.jpg\n",
      "이미지 저장 완료: /home/elicer/FIshing_vessel-1/resized_imgdata/29. 낚시어선 조업.jpg\n",
      "이미지 저장 완료: /home/elicer/FIshing_vessel-1/resized_imgdata/29. 등광조망 이동.jpg\n",
      "이미지 저장 완료: /home/elicer/FIshing_vessel-1/resized_imgdata/29. 범장망 이동.jpg\n",
      "이미지 저장 완료: /home/elicer/FIshing_vessel-1/resized_imgdata/29. 등광조망 조업.jpg\n",
      "이미지 저장 완료: /home/elicer/FIshing_vessel-1/resized_imgdata/29. 범장망 표류.jpg\n",
      "이미지 저장 완료: /home/elicer/FIshing_vessel-1/resized_imgdata/29. 연승 이동.jpg\n",
      "이미지 저장 완료: /home/elicer/FIshing_vessel-1/resized_imgdata/29. 유망 이동.jpg\n",
      "이미지 저장 완료: /home/elicer/FIshing_vessel-1/resized_imgdata/29. 유망 조업.jpg\n",
      "이미지 저장 완료: /home/elicer/FIshing_vessel-1/resized_imgdata/29. 유망 표류.jpg\n",
      "이미지 저장 완료: /home/elicer/FIshing_vessel-1/resized_imgdata/29. 저인망 이동.jpg\n",
      "이미지 저장 완료: /home/elicer/FIshing_vessel-1/resized_imgdata/29. 채낚기 표류.jpg\n",
      "이미지 저장 완료: /home/elicer/FIshing_vessel-1/resized_imgdata/29. 타망 이동.jpg\n",
      "이미지 저장 완료: /home/elicer/FIshing_vessel-1/resized_imgdata/29. 타망 조업.jpg\n",
      "이미지 저장 완료: /home/elicer/FIshing_vessel-1/resized_imgdata/290. 범장망 표류.jpg\n",
      "이미지 저장 완료: /home/elicer/FIshing_vessel-1/resized_imgdata/29. 통발 이동.jpg\n",
      "이미지 저장 완료: /home/elicer/FIshing_vessel-1/resized_imgdata/29. 타망 표류.jpg\n",
      "이미지 저장 완료: /home/elicer/FIshing_vessel-1/resized_imgdata/291. 범장망 표류.jpg\n",
      "이미지 저장 완료: /home/elicer/FIshing_vessel-1/resized_imgdata/292. 범장망 표류.jpg\n",
      "이미지 저장 완료: /home/elicer/FIshing_vessel-1/resized_imgdata/293. 범장망 표류.jpg\n",
      "이미지 저장 완료: /home/elicer/FIshing_vessel-1/resized_imgdata/294. 범장망 표류.jpg\n",
      "이미지 저장 완료: /home/elicer/FIshing_vessel-1/resized_imgdata/295. 범장망 표류.jpg\n",
      "이미지 저장 완료: /home/elicer/FIshing_vessel-1/resized_imgdata/296. 범장망 표류.jpg\n",
      "이미지 저장 완료: /home/elicer/FIshing_vessel-1/resized_imgdata/297. 범장망 표류.jpg\n",
      "이미지 저장 완료: /home/elicer/FIshing_vessel-1/resized_imgdata/298. 범장망 표류.jpg\n",
      "이미지 저장 완료: /home/elicer/FIshing_vessel-1/resized_imgdata/3. 낚시어선 이동.jpg\n",
      "이미지 저장 완료: /home/elicer/FIshing_vessel-1/resized_imgdata/299. 범장망 표류.jpg\n",
      "이미지 저장 완료: /home/elicer/FIshing_vessel-1/resized_imgdata/3. 낚시어선 표류.jpg\n",
      "이미지 저장 완료: /home/elicer/FIshing_vessel-1/resized_imgdata/3. 등광조망 이동.jpg\n",
      "이미지 저장 완료: /home/elicer/FIshing_vessel-1/resized_imgdata/3. 등광조망 표류.jpg\n",
      "이미지 저장 완료: /home/elicer/FIshing_vessel-1/resized_imgdata/3. 등광조망 조업.jpg\n",
      "이미지 저장 완료: /home/elicer/FIshing_vessel-1/resized_imgdata/3. 범장망 이동.jpg\n",
      "이미지 저장 완료: /home/elicer/FIshing_vessel-1/resized_imgdata/3. 범장망 표류.jpg\n",
      "이미지 저장 완료: /home/elicer/FIshing_vessel-1/resized_imgdata/3. 범장망 조업.jpg\n",
      "이미지 저장 완료: /home/elicer/FIshing_vessel-1/resized_imgdata/3. 안강망 이동.jpg\n",
      "이미지 저장 완료: /home/elicer/FIshing_vessel-1/resized_imgdata/3. 안강망 조업.jpg\n",
      "이미지 저장 완료: /home/elicer/FIshing_vessel-1/resized_imgdata/3. 안강망 표류.jpg\n",
      "이미지 저장 완료: /home/elicer/FIshing_vessel-1/resized_imgdata/3. 유망 이동.jpg\n",
      "이미지 저장 완료: /home/elicer/FIshing_vessel-1/resized_imgdata/3. 연승 이동.jpg\n",
      "이미지 저장 완료: /home/elicer/FIshing_vessel-1/resized_imgdata/3. 유망 조업.jpg\n",
      "이미지 저장 완료: /home/elicer/FIshing_vessel-1/resized_imgdata/3. 유망 표류.jpg\n",
      "이미지 저장 완료: /home/elicer/FIshing_vessel-1/resized_imgdata/3. 저인망 이동.jpg\n",
      "이미지 저장 완료: /home/elicer/FIshing_vessel-1/resized_imgdata/3. 저인망 조업.jpg\n",
      "이미지 저장 완료: /home/elicer/FIshing_vessel-1/resized_imgdata/3. 저인망 표류.jpg\n",
      "이미지 저장 완료: /home/elicer/FIshing_vessel-1/resized_imgdata/3. 채낚기  표류.jpg\n",
      "이미지 저장 완료: /home/elicer/FIshing_vessel-1/resized_imgdata/3. 타망 이동.jpg\n",
      "이미지 저장 완료: /home/elicer/FIshing_vessel-1/resized_imgdata/3. 채낚기 조업.jpg\n",
      "이미지 저장 완료: /home/elicer/FIshing_vessel-1/resized_imgdata/3. 타망 조업.jpg\n",
      "이미지 저장 완료: /home/elicer/FIshing_vessel-1/resized_imgdata/3. 타망 표류.jpg\n",
      "이미지 저장 완료: /home/elicer/FIshing_vessel-1/resized_imgdata/3. 통발 이동.jpg\n",
      "이미지 저장 완료: /home/elicer/FIshing_vessel-1/resized_imgdata/3. 통발 표류.jpg\n",
      "이미지 저장 완료: /home/elicer/FIshing_vessel-1/resized_imgdata/30. 낚시어선 이동.jpg\n",
      "이미지 저장 완료: /home/elicer/FIshing_vessel-1/resized_imgdata/30. 낚시어선 조업.jpg\n",
      "이미지 저장 완료: /home/elicer/FIshing_vessel-1/resized_imgdata/30. 등광조망 이동.jpg\n",
      "이미지 저장 완료: /home/elicer/FIshing_vessel-1/resized_imgdata/30. 범장망 이동.jpg\n",
      "이미지 저장 완료: /home/elicer/FIshing_vessel-1/resized_imgdata/30. 등광조망 조업.jpg\n",
      "이미지 저장 완료: /home/elicer/FIshing_vessel-1/resized_imgdata/30. 범장망 표류.jpg\n",
      "이미지 저장 완료: /home/elicer/FIshing_vessel-1/resized_imgdata/30. 연승 이동.jpg\n",
      "이미지 저장 완료: /home/elicer/FIshing_vessel-1/resized_imgdata/30. 유망 이동.jpg\n",
      "이미지 저장 완료: /home/elicer/FIshing_vessel-1/resized_imgdata/30. 유망 조업.jpg\n",
      "이미지 저장 완료: /home/elicer/FIshing_vessel-1/resized_imgdata/30. 유망 표류.jpg\n",
      "이미지 저장 완료: /home/elicer/FIshing_vessel-1/resized_imgdata/30. 저인망 이동.jpg\n",
      "이미지 저장 완료: /home/elicer/FIshing_vessel-1/resized_imgdata/30. 채낚기 표류.jpg\n",
      "이미지 저장 완료: /home/elicer/FIshing_vessel-1/resized_imgdata/30. 타망 이동.jpg\n",
      "이미지 저장 완료: /home/elicer/FIshing_vessel-1/resized_imgdata/30. 타망 표류.jpg\n",
      "이미지 저장 완료: /home/elicer/FIshing_vessel-1/resized_imgdata/30. 타망 조업.jpg\n",
      "이미지 저장 완료: /home/elicer/FIshing_vessel-1/resized_imgdata/30. 통발 이동.jpg\n",
      "이미지 저장 완료: /home/elicer/FIshing_vessel-1/resized_imgdata/300. 범장망 표류.jpg\n",
      "이미지 저장 완료: /home/elicer/FIshing_vessel-1/resized_imgdata/301. 범장망 표류.jpg\n",
      "이미지 저장 완료: /home/elicer/FIshing_vessel-1/resized_imgdata/302. 범장망 표류.jpg\n",
      "이미지 저장 완료: /home/elicer/FIshing_vessel-1/resized_imgdata/303. 범장망 표류.jpg\n",
      "이미지 저장 완료: /home/elicer/FIshing_vessel-1/resized_imgdata/304. 범장망 표류.jpg\n",
      "이미지 저장 완료: /home/elicer/FIshing_vessel-1/resized_imgdata/305. 범장망 표류.jpg\n",
      "이미지 저장 완료: /home/elicer/FIshing_vessel-1/resized_imgdata/306. 범장망 표류.jpg\n",
      "이미지 저장 완료: /home/elicer/FIshing_vessel-1/resized_imgdata/31. 낚시어선 이동.jpg\n",
      "이미지 저장 완료: /home/elicer/FIshing_vessel-1/resized_imgdata/31. 낚시어선 조업.jpg\n",
      "이미지 저장 완료: /home/elicer/FIshing_vessel-1/resized_imgdata/31. 등광조망 조업.jpg\n",
      "이미지 저장 완료: /home/elicer/FIshing_vessel-1/resized_imgdata/31. 범장망 이동.jpg\n",
      "이미지 저장 완료: /home/elicer/FIshing_vessel-1/resized_imgdata/31. 범장망 표류.jpg\n",
      "이미지 저장 완료: /home/elicer/FIshing_vessel-1/resized_imgdata/31. 유망 이동.jpg\n",
      "이미지 저장 완료: /home/elicer/FIshing_vessel-1/resized_imgdata/31. 연승 이동.jpg\n",
      "이미지 저장 완료: /home/elicer/FIshing_vessel-1/resized_imgdata/31. 유망 조업.jpg\n",
      "이미지 저장 완료: /home/elicer/FIshing_vessel-1/resized_imgdata/31. 유망 표류.jpg\n",
      "이미지 저장 완료: /home/elicer/FIshing_vessel-1/resized_imgdata/31. 저인망 이동.jpg\n",
      "이미지 저장 완료: /home/elicer/FIshing_vessel-1/resized_imgdata/31. 타망 조업.jpg\n",
      "이미지 저장 완료: /home/elicer/FIshing_vessel-1/resized_imgdata/31. 채낚기 표류.jpg\n",
      "이미지 저장 완료: /home/elicer/FIshing_vessel-1/resized_imgdata/31. 타망 이동.jpg\n",
      "이미지 저장 완료: /home/elicer/FIshing_vessel-1/resized_imgdata/31. 타망 표류.jpg\n",
      "이미지 저장 완료: /home/elicer/FIshing_vessel-1/resized_imgdata/31. 통발 이동.jpg\n",
      "이미지 저장 완료: /home/elicer/FIshing_vessel-1/resized_imgdata/32. 낚시어선 이동.jpg\n",
      "이미지 저장 완료: /home/elicer/FIshing_vessel-1/resized_imgdata/32. 낚시어선 조업.jpg\n",
      "이미지 저장 완료: /home/elicer/FIshing_vessel-1/resized_imgdata/32. 등광조망 조업.jpg\n",
      "이미지 저장 완료: /home/elicer/FIshing_vessel-1/resized_imgdata/32. 범장망 이동.jpg\n",
      "이미지 저장 완료: /home/elicer/FIshing_vessel-1/resized_imgdata/32. 범장망 표류.jpg\n",
      "이미지 저장 완료: /home/elicer/FIshing_vessel-1/resized_imgdata/32. 연승 이동.jpg\n",
      "이미지 저장 완료: /home/elicer/FIshing_vessel-1/resized_imgdata/32. 유망 조업.jpg\n",
      "이미지 저장 완료: /home/elicer/FIshing_vessel-1/resized_imgdata/32. 저인망 이동.jpg\n",
      "이미지 저장 완료: /home/elicer/FIshing_vessel-1/resized_imgdata/32. 유망 표류.jpg\n",
      "이미지 저장 완료: /home/elicer/FIshing_vessel-1/resized_imgdata/32. 채낚기 표류.jpg\n",
      "이미지 저장 완료: /home/elicer/FIshing_vessel-1/resized_imgdata/32. 타망 이동.jpg\n",
      "이미지 저장 완료: /home/elicer/FIshing_vessel-1/resized_imgdata/32. 타망 조업.jpg\n",
      "이미지 저장 완료: /home/elicer/FIshing_vessel-1/resized_imgdata/32. 타망 표류.jpg\n",
      "이미지 저장 완료: /home/elicer/FIshing_vessel-1/resized_imgdata/32. 통발 이동.jpg\n",
      "이미지 저장 완료: /home/elicer/FIshing_vessel-1/resized_imgdata/33. 낚시어선 이동.jpg\n",
      "이미지 저장 완료: /home/elicer/FIshing_vessel-1/resized_imgdata/33. 낚시어선 조업.jpg\n",
      "이미지 저장 완료: /home/elicer/FIshing_vessel-1/resized_imgdata/33. 등광조망 조업.jpg\n",
      "이미지 저장 완료: /home/elicer/FIshing_vessel-1/resized_imgdata/33. 범장망 이동.jpg\n",
      "이미지 저장 완료: /home/elicer/FIshing_vessel-1/resized_imgdata/33. 범장망 표류.jpg\n",
      "이미지 저장 완료: /home/elicer/FIshing_vessel-1/resized_imgdata/33. 연승 이동.jpg\n",
      "이미지 저장 완료: /home/elicer/FIshing_vessel-1/resized_imgdata/33. 유망 이동.jpg\n",
      "이미지 저장 완료: /home/elicer/FIshing_vessel-1/resized_imgdata/33. 유망 조업.jpg\n",
      "이미지 저장 완료: /home/elicer/FIshing_vessel-1/resized_imgdata/33. 유망 표류.jpg\n",
      "이미지 저장 완료: /home/elicer/FIshing_vessel-1/resized_imgdata/33. 저인망 이동.jpg\n",
      "이미지 저장 완료: /home/elicer/FIshing_vessel-1/resized_imgdata/33. 채낚기 표류.jpg\n",
      "이미지 저장 완료: /home/elicer/FIshing_vessel-1/resized_imgdata/33. 타망 이동.jpg\n",
      "이미지 저장 완료: /home/elicer/FIshing_vessel-1/resized_imgdata/33. 타망 조업.jpg\n",
      "이미지 저장 완료: /home/elicer/FIshing_vessel-1/resized_imgdata/33. 타망 표류.jpg\n",
      "이미지 저장 완료: /home/elicer/FIshing_vessel-1/resized_imgdata/33. 통발 이동.jpg\n",
      "이미지 저장 완료: /home/elicer/FIshing_vessel-1/resized_imgdata/34. 낚시어선 조업.jpg\n",
      "이미지 저장 완료: /home/elicer/FIshing_vessel-1/resized_imgdata/34. 범장망 이동.jpg\n",
      "이미지 저장 완료: /home/elicer/FIshing_vessel-1/resized_imgdata/34. 범장망 표류.jpg\n",
      "이미지 저장 완료: /home/elicer/FIshing_vessel-1/resized_imgdata/34. 유망 이동.jpg\n",
      "이미지 저장 완료: /home/elicer/FIshing_vessel-1/resized_imgdata/34. 연승 이동.jpg\n",
      "이미지 저장 완료: /home/elicer/FIshing_vessel-1/resized_imgdata/34. 유망 표류.jpg\n",
      "이미지 저장 완료: /home/elicer/FIshing_vessel-1/resized_imgdata/34. 저인망 이동.jpg\n",
      "이미지 저장 완료: /home/elicer/FIshing_vessel-1/resized_imgdata/34. 채낚기 표류.jpg\n",
      "이미지 저장 완료: /home/elicer/FIshing_vessel-1/resized_imgdata/34. 타망 이동.jpg\n",
      "이미지 저장 완료: /home/elicer/FIshing_vessel-1/resized_imgdata/34. 타망 조업.jpg\n",
      "이미지 저장 완료: /home/elicer/FIshing_vessel-1/resized_imgdata/34. 통발 이동.jpg\n",
      "이미지 저장 완료: /home/elicer/FIshing_vessel-1/resized_imgdata/35. 낚시어선 조업.jpg\n",
      "이미지 저장 완료: /home/elicer/FIshing_vessel-1/resized_imgdata/35. 등광조망 조업.jpg\n",
      "이미지 저장 완료: /home/elicer/FIshing_vessel-1/resized_imgdata/35. 범장망 이동.jpg\n",
      "이미지 저장 완료: /home/elicer/FIshing_vessel-1/resized_imgdata/35. 범장망 표류.jpg\n",
      "이미지 저장 완료: /home/elicer/FIshing_vessel-1/resized_imgdata/35. 유망 이동.jpg\n",
      "이미지 저장 완료: /home/elicer/FIshing_vessel-1/resized_imgdata/35. 유망 표류.jpg\n",
      "이미지 저장 완료: /home/elicer/FIshing_vessel-1/resized_imgdata/35. 저인망 이동.jpg\n",
      "이미지 저장 완료: /home/elicer/FIshing_vessel-1/resized_imgdata/35. 타망 이동.jpg\n",
      "이미지 저장 완료: /home/elicer/FIshing_vessel-1/resized_imgdata/35. 타망 표류.jpg\n",
      "이미지 저장 완료: /home/elicer/FIshing_vessel-1/resized_imgdata/35. 타망 조업.jpg\n",
      "이미지 저장 완료: /home/elicer/FIshing_vessel-1/resized_imgdata/35. 통발 이동.jpg\n",
      "이미지 저장 완료: /home/elicer/FIshing_vessel-1/resized_imgdata/36. 낚시어선 조업.jpg\n",
      "이미지 저장 완료: /home/elicer/FIshing_vessel-1/resized_imgdata/36. 등광조망 조업.jpg\n",
      "이미지 저장 완료: /home/elicer/FIshing_vessel-1/resized_imgdata/36. 범장망 표류.jpg\n",
      "이미지 저장 완료: /home/elicer/FIshing_vessel-1/resized_imgdata/36. 범장망 이동.jpg\n",
      "이미지 저장 완료: /home/elicer/FIshing_vessel-1/resized_imgdata/36. 유망 이동.jpg\n",
      "이미지 저장 완료: /home/elicer/FIshing_vessel-1/resized_imgdata/36. 유망 표류.jpg\n",
      "이미지 저장 완료: /home/elicer/FIshing_vessel-1/resized_imgdata/36. 저인망 이동.jpg\n",
      "이미지 저장 완료: /home/elicer/FIshing_vessel-1/resized_imgdata/36. 타망 ldehd.jpg\n",
      "이미지 저장 완료: /home/elicer/FIshing_vessel-1/resized_imgdata/36. 타망 조업.jpg\n",
      "이미지 저장 완료: /home/elicer/FIshing_vessel-1/resized_imgdata/36. 타망 표류.jpg\n",
      "이미지 저장 완료: /home/elicer/FIshing_vessel-1/resized_imgdata/36. 통발 이동.jpg\n",
      "이미지 저장 완료: /home/elicer/FIshing_vessel-1/resized_imgdata/37. 낚시어선 조업.jpg\n",
      "이미지 저장 완료: /home/elicer/FIshing_vessel-1/resized_imgdata/37. 등광조망 조업.jpg\n",
      "이미지 저장 완료: /home/elicer/FIshing_vessel-1/resized_imgdata/37. 범장망 이동.jpg\n",
      "이미지 저장 완료: /home/elicer/FIshing_vessel-1/resized_imgdata/37. 범장망 표류.jpg\n",
      "이미지 저장 완료: /home/elicer/FIshing_vessel-1/resized_imgdata/37. 유망 이동.jpg\n",
      "이미지 저장 완료: /home/elicer/FIshing_vessel-1/resized_imgdata/37. 유망 표류.jpg\n",
      "이미지 저장 완료: /home/elicer/FIshing_vessel-1/resized_imgdata/37. 저인망 이동.jpg\n",
      "이미지 저장 완료: /home/elicer/FIshing_vessel-1/resized_imgdata/37. 타망 이동.jpg\n",
      "이미지 저장 완료: /home/elicer/FIshing_vessel-1/resized_imgdata/37. 타망 조업.jpg\n",
      "이미지 저장 완료: /home/elicer/FIshing_vessel-1/resized_imgdata/37. 타망 표류.jpg\n",
      "이미지 저장 완료: /home/elicer/FIshing_vessel-1/resized_imgdata/37. 통발 이동.jpg\n",
      "이미지 저장 완료: /home/elicer/FIshing_vessel-1/resized_imgdata/38. 낚시어선 조업.jpg\n",
      "이미지 저장 완료: /home/elicer/FIshing_vessel-1/resized_imgdata/38. 등광조망 조업.jpg\n",
      "이미지 저장 완료: /home/elicer/FIshing_vessel-1/resized_imgdata/38. 범장망 표류.jpg\n",
      "이미지 저장 완료: /home/elicer/FIshing_vessel-1/resized_imgdata/38. 유망 이동.jpg\n",
      "이미지 저장 완료: /home/elicer/FIshing_vessel-1/resized_imgdata/38. 유망 표류.jpg\n",
      "이미지 저장 완료: /home/elicer/FIshing_vessel-1/resized_imgdata/38. 저인망 이동.jpg\n",
      "이미지 저장 완료: /home/elicer/FIshing_vessel-1/resized_imgdata/38. 채낚기 표류.jpg\n",
      "이미지 저장 완료: /home/elicer/FIshing_vessel-1/resized_imgdata/38. 타망 이동.jpg\n",
      "이미지 저장 완료: /home/elicer/FIshing_vessel-1/resized_imgdata/38. 타망 조업.jpg\n",
      "이미지 저장 완료: /home/elicer/FIshing_vessel-1/resized_imgdata/38. 타망 표류.jpg\n",
      "이미지 저장 완료: /home/elicer/FIshing_vessel-1/resized_imgdata/38. 통발 이동.jpg\n",
      "이미지 저장 완료: /home/elicer/FIshing_vessel-1/resized_imgdata/39. 낚시어선 이동.png\n",
      "이미지 저장 완료: /home/elicer/FIshing_vessel-1/resized_imgdata/39. 낚시어선 조업.jpg\n",
      "이미지 저장 완료: /home/elicer/FIshing_vessel-1/resized_imgdata/39. 등광조망 조업.png\n",
      "이미지 저장 완료: /home/elicer/FIshing_vessel-1/resized_imgdata/39. 범장망 이동.jpg\n",
      "이미지 저장 완료: /home/elicer/FIshing_vessel-1/resized_imgdata/39. 범장망 표류.jpg\n",
      "이미지 저장 완료: /home/elicer/FIshing_vessel-1/resized_imgdata/39. 유망 이동.jpg\n",
      "이미지 저장 완료: /home/elicer/FIshing_vessel-1/resized_imgdata/39. 유망 표류.jpg\n",
      "이미지 저장 완료: /home/elicer/FIshing_vessel-1/resized_imgdata/39. 저인망 이동.jpg\n",
      "이미지 저장 완료: /home/elicer/FIshing_vessel-1/resized_imgdata/39. 채낚기 표류.jpg\n",
      "이미지 저장 완료: /home/elicer/FIshing_vessel-1/resized_imgdata/39. 타망 이동.jpg\n",
      "이미지 저장 완료: /home/elicer/FIshing_vessel-1/resized_imgdata/39. 타망 조업.jpg\n",
      "이미지 저장 완료: /home/elicer/FIshing_vessel-1/resized_imgdata/39. 타망 표류.jpg\n",
      "이미지 저장 완료: /home/elicer/FIshing_vessel-1/resized_imgdata/39. 통발 이동.jpg\n",
      "이미지 저장 완료: /home/elicer/FIshing_vessel-1/resized_imgdata/4. 낚시어선 이동.jpg\n",
      "이미지 저장 완료: /home/elicer/FIshing_vessel-1/resized_imgdata/4. 낚시어선 조업.jpg\n",
      "이미지 저장 완료: /home/elicer/FIshing_vessel-1/resized_imgdata/4. 낚시어선 표류.jpg\n",
      "이미지 저장 완료: /home/elicer/FIshing_vessel-1/resized_imgdata/4. 등광조망 이동.jpg\n",
      "이미지 저장 완료: /home/elicer/FIshing_vessel-1/resized_imgdata/4. 등광조망 조업.jpg\n",
      "이미지 저장 완료: /home/elicer/FIshing_vessel-1/resized_imgdata/4. 등광조망 표류.jpg\n",
      "이미지 저장 완료: /home/elicer/FIshing_vessel-1/resized_imgdata/4. 범장망 이동.jpg\n",
      "이미지 저장 완료: /home/elicer/FIshing_vessel-1/resized_imgdata/4. 범장망 조업.jpg\n",
      "이미지 저장 완료: /home/elicer/FIshing_vessel-1/resized_imgdata/4. 범장망 표류.jpg\n",
      "이미지 저장 완료: /home/elicer/FIshing_vessel-1/resized_imgdata/4. 안강망 이동.jpg\n",
      "이미지 저장 완료: /home/elicer/FIshing_vessel-1/resized_imgdata/4. 안강망 조업.jpg\n",
      "이미지 저장 완료: /home/elicer/FIshing_vessel-1/resized_imgdata/4. 안강망 표류.jpg\n",
      "이미지 저장 완료: /home/elicer/FIshing_vessel-1/resized_imgdata/4. 연승 표류.jpg\n",
      "이미지 저장 완료: /home/elicer/FIshing_vessel-1/resized_imgdata/4. 유망 이동.jpg\n",
      "이미지 저장 완료: /home/elicer/FIshing_vessel-1/resized_imgdata/4. 유망 조업.jpg\n",
      "이미지 저장 완료: /home/elicer/FIshing_vessel-1/resized_imgdata/4. 저인망 이동.jpg\n",
      "이미지 저장 완료: /home/elicer/FIshing_vessel-1/resized_imgdata/4. 저인망 조업.jpg\n",
      "이미지 저장 완료: /home/elicer/FIshing_vessel-1/resized_imgdata/4. 저인망 표류.jpg\n",
      "이미지 저장 완료: /home/elicer/FIshing_vessel-1/resized_imgdata/4. 채낚기  표류.jpg\n",
      "이미지 저장 완료: /home/elicer/FIshing_vessel-1/resized_imgdata/4. 채낚기 이동.jpg\n",
      "이미지 저장 완료: /home/elicer/FIshing_vessel-1/resized_imgdata/4. 채낚기 조업.jpg\n",
      "이미지 저장 완료: /home/elicer/FIshing_vessel-1/resized_imgdata/4. 타망 이동.jpg\n",
      "이미지 저장 완료: /home/elicer/FIshing_vessel-1/resized_imgdata/4. 타망 조업.jpg\n",
      "이미지 저장 완료: /home/elicer/FIshing_vessel-1/resized_imgdata/4. 타망 표류.jpg\n",
      "이미지 저장 완료: /home/elicer/FIshing_vessel-1/resized_imgdata/4. 통발 이동.jpg\n",
      "이미지 저장 완료: /home/elicer/FIshing_vessel-1/resized_imgdata/4. 통발 표류.jpg\n",
      "이미지 저장 완료: /home/elicer/FIshing_vessel-1/resized_imgdata/40. 낚시어선 이동.png\n",
      "이미지 저장 완료: /home/elicer/FIshing_vessel-1/resized_imgdata/40. 등광조망 조업.jpg\n",
      "이미지 저장 완료: /home/elicer/FIshing_vessel-1/resized_imgdata/40. 범장망 이동.jpg\n",
      "이미지 저장 완료: /home/elicer/FIshing_vessel-1/resized_imgdata/40. 범장망 표류.jpg\n",
      "이미지 저장 완료: /home/elicer/FIshing_vessel-1/resized_imgdata/40. 유망 이동.jpg\n",
      "이미지 저장 완료: /home/elicer/FIshing_vessel-1/resized_imgdata/40. 유망 표류.jpg\n",
      "이미지 저장 완료: /home/elicer/FIshing_vessel-1/resized_imgdata/40. 저인망 이동.jpg\n",
      "이미지 저장 완료: /home/elicer/FIshing_vessel-1/resized_imgdata/40. 채낚기 표류.jpg\n",
      "이미지 저장 완료: /home/elicer/FIshing_vessel-1/resized_imgdata/40. 타망 조업.jpg\n",
      "이미지 저장 완료: /home/elicer/FIshing_vessel-1/resized_imgdata/40. 타망 이동.jpg\n",
      "이미지 저장 완료: /home/elicer/FIshing_vessel-1/resized_imgdata/40. 타망 표류.jpg\n",
      "이미지 저장 완료: /home/elicer/FIshing_vessel-1/resized_imgdata/40. 통발 이동.jpg\n",
      "이미지 저장 완료: /home/elicer/FIshing_vessel-1/resized_imgdata/41. 낚시어선 이동.png\n",
      "이미지 저장 완료: /home/elicer/FIshing_vessel-1/resized_imgdata/41. 낚시어선 조업.jpg\n",
      "이미지 저장 완료: /home/elicer/FIshing_vessel-1/resized_imgdata/41. 등광조망 조업.jpg\n",
      "이미지 저장 완료: /home/elicer/FIshing_vessel-1/resized_imgdata/41. 범장망 이동.jpg\n",
      "이미지 저장 완료: /home/elicer/FIshing_vessel-1/resized_imgdata/41. 유망 이동.jpg\n",
      "이미지 저장 완료: /home/elicer/FIshing_vessel-1/resized_imgdata/41. 유망 표류.jpg\n",
      "이미지 저장 완료: /home/elicer/FIshing_vessel-1/resized_imgdata/41. 저인망 이동.jpg\n",
      "이미지 저장 완료: /home/elicer/FIshing_vessel-1/resized_imgdata/41. 채낚기 표류.jpg\n",
      "이미지 저장 완료: /home/elicer/FIshing_vessel-1/resized_imgdata/41. 타망 이동.jpg\n",
      "이미지 저장 완료: /home/elicer/FIshing_vessel-1/resized_imgdata/41. 타망 조업.jpg\n",
      "이미지 저장 완료: /home/elicer/FIshing_vessel-1/resized_imgdata/41. 타망 표류.jpg\n",
      "이미지 저장 완료: /home/elicer/FIshing_vessel-1/resized_imgdata/41. 통발 이동.jpg\n",
      "이미지 저장 완료: /home/elicer/FIshing_vessel-1/resized_imgdata/42. 낚시어선 이동.png\n",
      "이미지 저장 완료: /home/elicer/FIshing_vessel-1/resized_imgdata/42. 낚시어선 조업.jpg\n",
      "이미지 저장 완료: /home/elicer/FIshing_vessel-1/resized_imgdata/42. 등광조망 조업.jpg\n",
      "이미지 저장 완료: /home/elicer/FIshing_vessel-1/resized_imgdata/42. 범장망 이동.jpg\n",
      "이미지 저장 완료: /home/elicer/FIshing_vessel-1/resized_imgdata/42. 유망 표류.jpg\n",
      "이미지 저장 완료: /home/elicer/FIshing_vessel-1/resized_imgdata/42. 범장망 표류.jpg\n",
      "이미지 저장 완료: /home/elicer/FIshing_vessel-1/resized_imgdata/42. 저인망 이동.jpg\n",
      "이미지 저장 완료: /home/elicer/FIshing_vessel-1/resized_imgdata/42. 채낚기 표류.jpg\n",
      "이미지 저장 완료: /home/elicer/FIshing_vessel-1/resized_imgdata/42. 타망 이동.jpg\n",
      "이미지 저장 완료: /home/elicer/FIshing_vessel-1/resized_imgdata/42. 타망 조업.jpg\n",
      "이미지 저장 완료: /home/elicer/FIshing_vessel-1/resized_imgdata/42. 타망 표류.jpg\n",
      "이미지 저장 완료: /home/elicer/FIshing_vessel-1/resized_imgdata/42. 통발 이동.jpg\n",
      "이미지 저장 완료: /home/elicer/FIshing_vessel-1/resized_imgdata/43. 낚시어선 이동.png\n",
      "이미지 저장 완료: /home/elicer/FIshing_vessel-1/resized_imgdata/43. 낚시어선 조업.jpg\n",
      "이미지 저장 완료: /home/elicer/FIshing_vessel-1/resized_imgdata/43. 등광조망 조업.jpg\n",
      "이미지 저장 완료: /home/elicer/FIshing_vessel-1/resized_imgdata/43. 범장망 이동.jpg\n",
      "이미지 저장 완료: /home/elicer/FIshing_vessel-1/resized_imgdata/43. 범장망 표류.jpg\n",
      "이미지 저장 완료: /home/elicer/FIshing_vessel-1/resized_imgdata/43. 유망 표류.jpg\n",
      "이미지 저장 완료: /home/elicer/FIshing_vessel-1/resized_imgdata/43. 타망 이동.jpg\n",
      "이미지 저장 완료: /home/elicer/FIshing_vessel-1/resized_imgdata/43. 타망 조업.jpg\n",
      "이미지 저장 완료: /home/elicer/FIshing_vessel-1/resized_imgdata/43. 타망 표류.jpg\n",
      "이미지 저장 완료: /home/elicer/FIshing_vessel-1/resized_imgdata/43. 통발 이동.jpg\n",
      "이미지 저장 완료: /home/elicer/FIshing_vessel-1/resized_imgdata/44. 낚시어선 이동.jpg\n",
      "이미지 저장 완료: /home/elicer/FIshing_vessel-1/resized_imgdata/44. 낚시어선 조업.jpg\n",
      "이미지 저장 완료: /home/elicer/FIshing_vessel-1/resized_imgdata/44. 등광조망 조업.jpg\n",
      "이미지 저장 완료: /home/elicer/FIshing_vessel-1/resized_imgdata/44. 범장망 이동.jpg\n",
      "이미지 저장 완료: /home/elicer/FIshing_vessel-1/resized_imgdata/44. 범장망 표류.jpg\n",
      "이미지 저장 완료: /home/elicer/FIshing_vessel-1/resized_imgdata/44. 유망 표류.jpg\n",
      "이미지 저장 완료: /home/elicer/FIshing_vessel-1/resized_imgdata/44. 저인망 이동.jpg\n",
      "이미지 저장 완료: /home/elicer/FIshing_vessel-1/resized_imgdata/44. 타망 이동.jpg\n",
      "이미지 저장 완료: /home/elicer/FIshing_vessel-1/resized_imgdata/44. 타망 조업.jpg\n",
      "이미지 저장 완료: /home/elicer/FIshing_vessel-1/resized_imgdata/45. 낚시어선 이동.jpg\n",
      "이미지 저장 완료: /home/elicer/FIshing_vessel-1/resized_imgdata/44. 타망 표류.jpg\n",
      "이미지 저장 완료: /home/elicer/FIshing_vessel-1/resized_imgdata/44. 통발 이동.jpg\n",
      "이미지 저장 완료: /home/elicer/FIshing_vessel-1/resized_imgdata/45. 낚시어선 조업.jpg\n",
      "이미지 저장 완료: /home/elicer/FIshing_vessel-1/resized_imgdata/45. 등광조망 조업.jpg\n",
      "이미지 저장 완료: /home/elicer/FIshing_vessel-1/resized_imgdata/45. 범장망 이동.jpg\n",
      "이미지 저장 완료: /home/elicer/FIshing_vessel-1/resized_imgdata/45. 유망 표류.jpg\n",
      "이미지 저장 완료: /home/elicer/FIshing_vessel-1/resized_imgdata/45. 범장망 표류.jpg\n",
      "이미지 저장 완료: /home/elicer/FIshing_vessel-1/resized_imgdata/45. 타망 이동.jpg\n",
      "이미지 저장 완료: /home/elicer/FIshing_vessel-1/resized_imgdata/45. 저인망 이동.jpg\n",
      "이미지 저장 완료: /home/elicer/FIshing_vessel-1/resized_imgdata/45. 타망 조업.jpg\n",
      "이미지 저장 완료: /home/elicer/FIshing_vessel-1/resized_imgdata/45. 타망 표류.jpg\n",
      "이미지 저장 완료: /home/elicer/FIshing_vessel-1/resized_imgdata/46. 낚시어선 이동.jpg\n",
      "이미지 저장 완료: /home/elicer/FIshing_vessel-1/resized_imgdata/45. 통발 이동.jpg\n",
      "이미지 저장 완료: /home/elicer/FIshing_vessel-1/resized_imgdata/46. 낚시어선 조업.jpg\n",
      "이미지 저장 완료: /home/elicer/FIshing_vessel-1/resized_imgdata/46. 범장망 이동.jpg\n",
      "이미지 저장 완료: /home/elicer/FIshing_vessel-1/resized_imgdata/46. 범장망 표류.jpg\n",
      "이미지 저장 완료: /home/elicer/FIshing_vessel-1/resized_imgdata/46. 유망 표류.jpg\n",
      "이미지 저장 완료: /home/elicer/FIshing_vessel-1/resized_imgdata/46. 저인망 이동.jpg\n",
      "이미지 저장 완료: /home/elicer/FIshing_vessel-1/resized_imgdata/46. 타망 이동.jpg\n",
      "이미지 저장 완료: /home/elicer/FIshing_vessel-1/resized_imgdata/46. 타망 조업.jpg\n",
      "이미지 저장 완료: /home/elicer/FIshing_vessel-1/resized_imgdata/46. 타망 표류.jpg\n",
      "이미지 저장 완료: /home/elicer/FIshing_vessel-1/resized_imgdata/46. 통발 이동.jpg\n",
      "이미지 저장 완료: /home/elicer/FIshing_vessel-1/resized_imgdata/47. 낚시어선 이동.jpg\n",
      "이미지 저장 완료: /home/elicer/FIshing_vessel-1/resized_imgdata/47. 낚시어선 조업.jpg\n",
      "이미지 저장 완료: /home/elicer/FIshing_vessel-1/resized_imgdata/47. 범장망 이동.jpg\n",
      "이미지 저장 완료: /home/elicer/FIshing_vessel-1/resized_imgdata/47. 범장망 표류.jpg\n",
      "이미지 저장 완료: /home/elicer/FIshing_vessel-1/resized_imgdata/47. 등광조망 조업.jpg\n",
      "이미지 저장 완료: /home/elicer/FIshing_vessel-1/resized_imgdata/47. 저인망 이동.jpg\n",
      "이미지 저장 완료: /home/elicer/FIshing_vessel-1/resized_imgdata/47. 유망 표류.jpg\n",
      "이미지 저장 완료: /home/elicer/FIshing_vessel-1/resized_imgdata/47. 타망 이동.jpg\n",
      "이미지 저장 완료: /home/elicer/FIshing_vessel-1/resized_imgdata/47. 타망 조업.jpg\n",
      "이미지 저장 완료: /home/elicer/FIshing_vessel-1/resized_imgdata/47. 타망 표류.jpg\n",
      "이미지 저장 완료: /home/elicer/FIshing_vessel-1/resized_imgdata/47. 통발 이동.jpg\n",
      "이미지 저장 완료: /home/elicer/FIshing_vessel-1/resized_imgdata/48. 낚시어선 이동.jpg\n",
      "이미지 저장 완료: /home/elicer/FIshing_vessel-1/resized_imgdata/48. 낚시어선 조업.jpg\n",
      "이미지 저장 완료: /home/elicer/FIshing_vessel-1/resized_imgdata/48. 등광조망 조업.jpg\n",
      "이미지 저장 완료: /home/elicer/FIshing_vessel-1/resized_imgdata/48. 범장망 이동.jpg\n",
      "이미지 저장 완료: /home/elicer/FIshing_vessel-1/resized_imgdata/48. 범장망 표류.jpg\n",
      "이미지 저장 완료: /home/elicer/FIshing_vessel-1/resized_imgdata/48. 저인망 이동.jpg\n",
      "이미지 저장 완료: /home/elicer/FIshing_vessel-1/resized_imgdata/48. 타망 이동.jpg\n",
      "이미지 저장 완료: /home/elicer/FIshing_vessel-1/resized_imgdata/48. 타망 조업.jpg\n",
      "이미지 저장 완료: /home/elicer/FIshing_vessel-1/resized_imgdata/48. 타망 표류.jpg\n",
      "이미지 저장 완료: /home/elicer/FIshing_vessel-1/resized_imgdata/49. 등광조망 조업.jpg\n",
      "이미지 저장 완료: /home/elicer/FIshing_vessel-1/resized_imgdata/48. 통발 이동.jpg\n",
      "이미지 저장 완료: /home/elicer/FIshing_vessel-1/resized_imgdata/49. 범장망 표류.jpg\n",
      "이미지 저장 완료: /home/elicer/FIshing_vessel-1/resized_imgdata/49. 범장망 이동.jpg\n",
      "이미지 저장 완료: /home/elicer/FIshing_vessel-1/resized_imgdata/49. 낚시어선 조업.jpg\n",
      "이미지 저장 완료: /home/elicer/FIshing_vessel-1/resized_imgdata/49. 유망 표류.jpg\n",
      "이미지 저장 완료: /home/elicer/FIshing_vessel-1/resized_imgdata/49. 저인망 이동.jpg\n",
      "이미지 저장 완료: /home/elicer/FIshing_vessel-1/resized_imgdata/49. 타망 이동.jpg\n",
      "이미지 저장 완료: /home/elicer/FIshing_vessel-1/resized_imgdata/49. 타망 조업.jpg\n",
      "이미지 저장 완료: /home/elicer/FIshing_vessel-1/resized_imgdata/49. 타망 표류.jpg\n",
      "이미지 저장 완료: /home/elicer/FIshing_vessel-1/resized_imgdata/49. 통발 이동.jpg\n",
      "이미지 저장 완료: /home/elicer/FIshing_vessel-1/resized_imgdata/5. 낚시어선 이동.jpg\n",
      "이미지 저장 완료: /home/elicer/FIshing_vessel-1/resized_imgdata/5. 낚시어선 조업.jpg\n",
      "이미지 저장 완료: /home/elicer/FIshing_vessel-1/resized_imgdata/5. 등광조망 이동.jpg\n",
      "이미지 저장 완료: /home/elicer/FIshing_vessel-1/resized_imgdata/5. 등광조망 표류.jpg\n",
      "이미지 저장 완료: /home/elicer/FIshing_vessel-1/resized_imgdata/5. 범장망 이동.jpg\n",
      "이미지 저장 완료: /home/elicer/FIshing_vessel-1/resized_imgdata/5. 등광조망 조업.jpg\n",
      "이미지 저장 완료: /home/elicer/FIshing_vessel-1/resized_imgdata/5. 범장망 표류.jpg\n",
      "이미지 저장 완료: /home/elicer/FIshing_vessel-1/resized_imgdata/5. 안강망 이동.jpg\n",
      "이미지 저장 완료: /home/elicer/FIshing_vessel-1/resized_imgdata/5. 안강망 조업.jpg\n",
      "이미지 저장 완료: /home/elicer/FIshing_vessel-1/resized_imgdata/5. 연승 이동.jpg\n",
      "이미지 저장 완료: /home/elicer/FIshing_vessel-1/resized_imgdata/5. 연승 표류.jpg\n",
      "이미지 저장 완료: /home/elicer/FIshing_vessel-1/resized_imgdata/5. 유망 조업.jpg\n",
      "이미지 저장 완료: /home/elicer/FIshing_vessel-1/resized_imgdata/5. 유망 이동.jpg\n",
      "이미지 저장 완료: /home/elicer/FIshing_vessel-1/resized_imgdata/5. 유망 표류.jpg\n",
      "이미지 저장 완료: /home/elicer/FIshing_vessel-1/resized_imgdata/5. 저인망 이동.jpg\n",
      "이미지 저장 완료: /home/elicer/FIshing_vessel-1/resized_imgdata/5. 저인망 조업.jpg\n",
      "이미지 저장 완료: /home/elicer/FIshing_vessel-1/resized_imgdata/5. 채낚기  표류.jpg\n",
      "이미지 저장 완료: /home/elicer/FIshing_vessel-1/resized_imgdata/5. 채낚기 이동.jpg\n",
      "이미지 저장 완료: /home/elicer/FIshing_vessel-1/resized_imgdata/5. 타망 이동.jpg\n",
      "이미지 저장 완료: /home/elicer/FIshing_vessel-1/resized_imgdata/5. 타망 조업.jpg\n",
      "이미지 저장 완료: /home/elicer/FIshing_vessel-1/resized_imgdata/5. 타망 표류.jpg\n",
      "이미지 저장 완료: /home/elicer/FIshing_vessel-1/resized_imgdata/5. 통발 이동.jpg\n",
      "이미지 저장 완료: /home/elicer/FIshing_vessel-1/resized_imgdata/5. 통발 표류.jpg\n",
      "이미지 저장 완료: /home/elicer/FIshing_vessel-1/resized_imgdata/50 낚시어선 조업.jpg\n",
      "이미지 저장 완료: /home/elicer/FIshing_vessel-1/resized_imgdata/50. 낚시어선 이동.jpg\n",
      "이미지 저장 완료: /home/elicer/FIshing_vessel-1/resized_imgdata/50. 범장망 이동.jpg\n",
      "이미지 저장 완료: /home/elicer/FIshing_vessel-1/resized_imgdata/50. 범장망 표류.jpg\n",
      "이미지 저장 완료: /home/elicer/FIshing_vessel-1/resized_imgdata/50. 유망 표류.jpg\n",
      "이미지 저장 완료: /home/elicer/FIshing_vessel-1/resized_imgdata/50. 타망 이동.jpg\n",
      "이미지 저장 완료: /home/elicer/FIshing_vessel-1/resized_imgdata/50. 타망 조업.jpg\n",
      "이미지 저장 완료: /home/elicer/FIshing_vessel-1/resized_imgdata/50. 저인망 이동.jpg\n",
      "이미지 저장 완료: /home/elicer/FIshing_vessel-1/resized_imgdata/50. 타망 표류.jpg\n",
      "이미지 저장 완료: /home/elicer/FIshing_vessel-1/resized_imgdata/51. 낚시어선 이동.jpg\n",
      "이미지 저장 완료: /home/elicer/FIshing_vessel-1/resized_imgdata/51. 범장망 표류.jpg\n",
      "이미지 저장 완료: /home/elicer/FIshing_vessel-1/resized_imgdata/51. 낚시어선 조업.jpg\n",
      "이미지 저장 완료: /home/elicer/FIshing_vessel-1/resized_imgdata/51. 범장망 이동.jpg\n",
      "이미지 저장 완료: /home/elicer/FIshing_vessel-1/resized_imgdata/51. 유망 표류.jpg\n",
      "이미지 저장 완료: /home/elicer/FIshing_vessel-1/resized_imgdata/51. 타망 이동.jpg\n",
      "이미지 저장 완료: /home/elicer/FIshing_vessel-1/resized_imgdata/51. 저인망 이동.jpg\n",
      "이미지 저장 완료: /home/elicer/FIshing_vessel-1/resized_imgdata/51. 타망 조업.jpg\n",
      "이미지 저장 완료: /home/elicer/FIshing_vessel-1/resized_imgdata/51. 타망 표류.jpg\n",
      "이미지 저장 완료: /home/elicer/FIshing_vessel-1/resized_imgdata/52. 낚시어선 이동.jpg\n",
      "이미지 저장 완료: /home/elicer/FIshing_vessel-1/resized_imgdata/52. 낚시어선 조업.jpg\n",
      "이미지 저장 완료: /home/elicer/FIshing_vessel-1/resized_imgdata/52. 범장망 이동.jpg\n",
      "이미지 저장 완료: /home/elicer/FIshing_vessel-1/resized_imgdata/52. 범장망 표류.jpg\n",
      "이미지 저장 완료: /home/elicer/FIshing_vessel-1/resized_imgdata/52. 유망 표류.jpg\n",
      "이미지 저장 완료: /home/elicer/FIshing_vessel-1/resized_imgdata/52. 저인망 이동.jpg\n",
      "이미지 저장 완료: /home/elicer/FIshing_vessel-1/resized_imgdata/52. 타망 이동.jpg\n",
      "이미지 저장 완료: /home/elicer/FIshing_vessel-1/resized_imgdata/52. 타망 조업.jpg\n",
      "이미지 저장 완료: /home/elicer/FIshing_vessel-1/resized_imgdata/52. 타망 표류.jpg\n",
      "이미지 저장 완료: /home/elicer/FIshing_vessel-1/resized_imgdata/52. 통발 이동.jpg\n",
      "이미지 저장 완료: /home/elicer/FIshing_vessel-1/resized_imgdata/53. 낚시어선 조업.jpg\n",
      "이미지 저장 완료: /home/elicer/FIshing_vessel-1/resized_imgdata/53. 범장망 이동.jpg\n",
      "이미지 저장 완료: /home/elicer/FIshing_vessel-1/resized_imgdata/53. 범장망 표류.jpg\n",
      "이미지 저장 완료: /home/elicer/FIshing_vessel-1/resized_imgdata/53. 낚시어선 이동.jpg\n",
      "이미지 저장 완료: /home/elicer/FIshing_vessel-1/resized_imgdata/53. 유망 표류.jpg\n",
      "이미지 저장 완료: /home/elicer/FIshing_vessel-1/resized_imgdata/53. 저인망 이동.jpg\n",
      "이미지 저장 완료: /home/elicer/FIshing_vessel-1/resized_imgdata/53. 타망 이동.jpg\n",
      "이미지 저장 완료: /home/elicer/FIshing_vessel-1/resized_imgdata/53. 타망 조업.jpg\n",
      "이미지 저장 완료: /home/elicer/FIshing_vessel-1/resized_imgdata/53. 타망 표류.jpg\n",
      "이미지 저장 완료: /home/elicer/FIshing_vessel-1/resized_imgdata/54. 낚시어선 조업.jpg\n",
      "이미지 저장 완료: /home/elicer/FIshing_vessel-1/resized_imgdata/54. 낚시어선 이동.jpg\n",
      "이미지 저장 완료: /home/elicer/FIshing_vessel-1/resized_imgdata/54. 범장망 표류.jpg\n",
      "이미지 저장 완료: /home/elicer/FIshing_vessel-1/resized_imgdata/54. 범장망 이동.jpg\n",
      "이미지 저장 완료: /home/elicer/FIshing_vessel-1/resized_imgdata/54. 타망 조업.jpg\n",
      "이미지 저장 완료: /home/elicer/FIshing_vessel-1/resized_imgdata/54. 타망 이동.jpg\n",
      "이미지 저장 완료: /home/elicer/FIshing_vessel-1/resized_imgdata/54. 타망 표류.jpg\n",
      "이미지 저장 완료: /home/elicer/FIshing_vessel-1/resized_imgdata/55. 낚시어선 이동.jpg\n",
      "이미지 저장 완료: /home/elicer/FIshing_vessel-1/resized_imgdata/55. 낚시어선 조업.jpg\n",
      "이미지 저장 완료: /home/elicer/FIshing_vessel-1/resized_imgdata/55. 범장망 이동.jpg\n",
      "이미지 저장 완료: /home/elicer/FIshing_vessel-1/resized_imgdata/55. 범장망 표류.jpg\n",
      "이미지 저장 완료: /home/elicer/FIshing_vessel-1/resized_imgdata/55. 유망 표류.jpg\n",
      "이미지 저장 완료: /home/elicer/FIshing_vessel-1/resized_imgdata/55. 타망 이동.jpg\n",
      "이미지 저장 완료: /home/elicer/FIshing_vessel-1/resized_imgdata/55. 타망 조업.jpg\n",
      "이미지 저장 완료: /home/elicer/FIshing_vessel-1/resized_imgdata/55. 타망 표류.jpg\n",
      "이미지 저장 완료: /home/elicer/FIshing_vessel-1/resized_imgdata/55. 통발 이동.jpg\n",
      "이미지 저장 완료: /home/elicer/FIshing_vessel-1/resized_imgdata/56. 낚시어선 이동.jpg\n",
      "이미지 저장 완료: /home/elicer/FIshing_vessel-1/resized_imgdata/56. 낚시어선 조업.jpg\n",
      "이미지 저장 완료: /home/elicer/FIshing_vessel-1/resized_imgdata/56. 범장망 이동.jpg\n",
      "이미지 저장 완료: /home/elicer/FIshing_vessel-1/resized_imgdata/56. 유망 표류.png\n",
      "이미지 저장 완료: /home/elicer/FIshing_vessel-1/resized_imgdata/56. 범장망 표류.jpg\n",
      "이미지 저장 완료: /home/elicer/FIshing_vessel-1/resized_imgdata/56. 타망 이동.jpg\n",
      "이미지 저장 완료: /home/elicer/FIshing_vessel-1/resized_imgdata/56. 타망 조업.jpg\n",
      "이미지 저장 완료: /home/elicer/FIshing_vessel-1/resized_imgdata/56. 타망 표류.jpg\n",
      "이미지 저장 완료: /home/elicer/FIshing_vessel-1/resized_imgdata/56. 통발 이동.jpg\n",
      "이미지 저장 완료: /home/elicer/FIshing_vessel-1/resized_imgdata/57. 낚시어선 이동.jpg\n",
      "이미지 저장 완료: /home/elicer/FIshing_vessel-1/resized_imgdata/57. 낚시어선 조업.jpg\n",
      "이미지 저장 완료: /home/elicer/FIshing_vessel-1/resized_imgdata/57. 범장망 이동.jpg\n",
      "이미지 저장 완료: /home/elicer/FIshing_vessel-1/resized_imgdata/57. 범장망 표류.jpg\n",
      "이미지 저장 완료: /home/elicer/FIshing_vessel-1/resized_imgdata/57. 유망 표류.jpg\n",
      "이미지 저장 완료: /home/elicer/FIshing_vessel-1/resized_imgdata/57. 타망 이동.jpg\n",
      "이미지 저장 완료: /home/elicer/FIshing_vessel-1/resized_imgdata/57. 타망 조업.jpg\n",
      "이미지 저장 완료: /home/elicer/FIshing_vessel-1/resized_imgdata/57. 타망 표류.jpg\n",
      "이미지 저장 완료: /home/elicer/FIshing_vessel-1/resized_imgdata/57. 통발 이동.jpg\n",
      "이미지 저장 완료: /home/elicer/FIshing_vessel-1/resized_imgdata/58. 낚시어선 조업.jpg\n",
      "이미지 저장 완료: /home/elicer/FIshing_vessel-1/resized_imgdata/58. 범장망 표류.jpg\n",
      "이미지 저장 완료: /home/elicer/FIshing_vessel-1/resized_imgdata/58. 범장망 이동.jpg\n",
      "이미지 저장 완료: /home/elicer/FIshing_vessel-1/resized_imgdata/58. 유망 표류.png\n",
      "이미지 저장 완료: /home/elicer/FIshing_vessel-1/resized_imgdata/58. 타망 이동.jpg\n",
      "이미지 저장 완료: /home/elicer/FIshing_vessel-1/resized_imgdata/58. 타망 조업.jpg\n",
      "이미지 저장 완료: /home/elicer/FIshing_vessel-1/resized_imgdata/58. 타망 표류.jpg\n",
      "이미지 저장 완료: /home/elicer/FIshing_vessel-1/resized_imgdata/58. 통발 이동.jpg\n",
      "이미지 저장 완료: /home/elicer/FIshing_vessel-1/resized_imgdata/59. 낚시어선 조업.jpg\n",
      "이미지 저장 완료: /home/elicer/FIshing_vessel-1/resized_imgdata/59. 범장망 이동.jpg\n",
      "이미지 저장 완료: /home/elicer/FIshing_vessel-1/resized_imgdata/59. 범장망 표류.jpg\n",
      "이미지 저장 완료: /home/elicer/FIshing_vessel-1/resized_imgdata/59. 유망 표류.jpg\n",
      "이미지 저장 완료: /home/elicer/FIshing_vessel-1/resized_imgdata/59. 타망 이동.jpg\n",
      "이미지 저장 완료: /home/elicer/FIshing_vessel-1/resized_imgdata/59. 타망 조업.jpg\n",
      "이미지 저장 완료: /home/elicer/FIshing_vessel-1/resized_imgdata/59. 타망 표류.jpg\n",
      "이미지 저장 완료: /home/elicer/FIshing_vessel-1/resized_imgdata/6. 낚시어선 이동.jpg\n",
      "이미지 저장 완료: /home/elicer/FIshing_vessel-1/resized_imgdata/59. 통발 이동.jpg\n",
      "이미지 저장 완료: /home/elicer/FIshing_vessel-1/resized_imgdata/6. 낚시어선 조업.jpg\n",
      "이미지 저장 완료: /home/elicer/FIshing_vessel-1/resized_imgdata/6. 등광조망 이동.jpg\n",
      "이미지 저장 완료: /home/elicer/FIshing_vessel-1/resized_imgdata/6. 낚시어선 표류.jpg\n",
      "이미지 저장 완료: /home/elicer/FIshing_vessel-1/resized_imgdata/6. 등광조망 표류.jpg\n",
      "이미지 저장 완료: /home/elicer/FIshing_vessel-1/resized_imgdata/6. 범장망 이동.jpg\n",
      "이미지 저장 완료: /home/elicer/FIshing_vessel-1/resized_imgdata/6. 등광조망 조업.jpg\n",
      "이미지 저장 완료: /home/elicer/FIshing_vessel-1/resized_imgdata/6. 범장망 조업.jpg\n",
      "이미지 저장 완료: /home/elicer/FIshing_vessel-1/resized_imgdata/6. 범장망 표류.jpg\n",
      "이미지 저장 완료: /home/elicer/FIshing_vessel-1/resized_imgdata/6. 안강망 조업.jpg\n",
      "이미지 저장 완료: /home/elicer/FIshing_vessel-1/resized_imgdata/6. 안강망 이동.jpg\n",
      "이미지 저장 완료: /home/elicer/FIshing_vessel-1/resized_imgdata/6. 안강망 표류.jpg\n",
      "이미지 저장 완료: /home/elicer/FIshing_vessel-1/resized_imgdata/6. 연승 이동.jpg\n",
      "이미지 저장 완료: /home/elicer/FIshing_vessel-1/resized_imgdata/6. 연승 표류.jpg\n",
      "이미지 저장 완료: /home/elicer/FIshing_vessel-1/resized_imgdata/6. 유망 이동.jpg\n",
      "이미지 저장 완료: /home/elicer/FIshing_vessel-1/resized_imgdata/6. 유망 조업.jpg\n",
      "이미지 저장 완료: /home/elicer/FIshing_vessel-1/resized_imgdata/6. 유망 표류.jpg\n",
      "이미지 저장 완료: /home/elicer/FIshing_vessel-1/resized_imgdata/6. 저인망 이동.jpg\n",
      "이미지 저장 완료: /home/elicer/FIshing_vessel-1/resized_imgdata/6. 저인망 조업.jpg\n",
      "이미지 저장 완료: /home/elicer/FIshing_vessel-1/resized_imgdata/6. 저인망 표류.jpg\n",
      "이미지 저장 완료: /home/elicer/FIshing_vessel-1/resized_imgdata/6. 채낚기  표류.jpg\n",
      "이미지 저장 완료: /home/elicer/FIshing_vessel-1/resized_imgdata/6. 채낚기 이동.jpg\n",
      "이미지 저장 완료: /home/elicer/FIshing_vessel-1/resized_imgdata/6. 타망 이동.jpg\n",
      "이미지 저장 완료: /home/elicer/FIshing_vessel-1/resized_imgdata/6. 타망 조업.jpg\n",
      "이미지 저장 완료: /home/elicer/FIshing_vessel-1/resized_imgdata/6. 타망 표류.jpg\n",
      "이미지 저장 완료: /home/elicer/FIshing_vessel-1/resized_imgdata/6. 통발 이동.jpg\n",
      "이미지 저장 완료: /home/elicer/FIshing_vessel-1/resized_imgdata/6. 통발 표류.jpg\n",
      "이미지 저장 완료: /home/elicer/FIshing_vessel-1/resized_imgdata/60. 낚시어선 조업.jpg\n",
      "이미지 저장 완료: /home/elicer/FIshing_vessel-1/resized_imgdata/60. 범장망 이동.jpg\n",
      "이미지 저장 완료: /home/elicer/FIshing_vessel-1/resized_imgdata/60. 범장망 표류.jpg\n",
      "이미지 저장 완료: /home/elicer/FIshing_vessel-1/resized_imgdata/60. 유망 표류.jpg\n",
      "이미지 저장 완료: /home/elicer/FIshing_vessel-1/resized_imgdata/60. 타망 이동.jpg\n",
      "이미지 저장 완료: /home/elicer/FIshing_vessel-1/resized_imgdata/60. 타망 표류.jpg\n",
      "이미지 저장 완료: /home/elicer/FIshing_vessel-1/resized_imgdata/60. 통발 이동.jpg\n",
      "이미지 저장 완료: /home/elicer/FIshing_vessel-1/resized_imgdata/61. 낚시어선 조업.jpg\n",
      "이미지 저장 완료: /home/elicer/FIshing_vessel-1/resized_imgdata/61. 범장망 이동.jpg\n",
      "이미지 저장 완료: /home/elicer/FIshing_vessel-1/resized_imgdata/61. 범장망 표류.jpg\n",
      "이미지 저장 완료: /home/elicer/FIshing_vessel-1/resized_imgdata/61. 유망 표류.jpg\n",
      "이미지 저장 완료: /home/elicer/FIshing_vessel-1/resized_imgdata/61. 타망 이동.jpg\n",
      "이미지 저장 완료: /home/elicer/FIshing_vessel-1/resized_imgdata/61. 타망 조업.jpg\n",
      "이미지 저장 완료: /home/elicer/FIshing_vessel-1/resized_imgdata/61. 타망 표류.png\n",
      "이미지 저장 완료: /home/elicer/FIshing_vessel-1/resized_imgdata/61. 통발 이동.jpg\n",
      "이미지 저장 완료: /home/elicer/FIshing_vessel-1/resized_imgdata/62. 낚시어선 조업.jpg\n",
      "이미지 저장 완료: /home/elicer/FIshing_vessel-1/resized_imgdata/62. 범장망 이동.jpg\n",
      "이미지 저장 완료: /home/elicer/FIshing_vessel-1/resized_imgdata/62. 범장망 표류.jpg\n",
      "이미지 저장 완료: /home/elicer/FIshing_vessel-1/resized_imgdata/62. 유망 표류.jpg\n",
      "이미지 저장 완료: /home/elicer/FIshing_vessel-1/resized_imgdata/62. 타망 이동.jpg\n",
      "이미지 저장 완료: /home/elicer/FIshing_vessel-1/resized_imgdata/62. 타망 조업.jpg\n",
      "이미지 저장 완료: /home/elicer/FIshing_vessel-1/resized_imgdata/62. 타망 표류.jpg\n",
      "이미지 저장 완료: /home/elicer/FIshing_vessel-1/resized_imgdata/62. 통발 이동.jpg\n",
      "이미지 저장 완료: /home/elicer/FIshing_vessel-1/resized_imgdata/63. 낚시어선 조업.jpg\n",
      "이미지 저장 완료: /home/elicer/FIshing_vessel-1/resized_imgdata/63. 범장망 이동.jpg\n",
      "이미지 저장 완료: /home/elicer/FIshing_vessel-1/resized_imgdata/63. 범장망 표류.jpg\n",
      "이미지 저장 완료: /home/elicer/FIshing_vessel-1/resized_imgdata/63. 유망 표류.jpg\n",
      "이미지 저장 완료: /home/elicer/FIshing_vessel-1/resized_imgdata/63. 타망 이동.jpg\n",
      "이미지 저장 완료: /home/elicer/FIshing_vessel-1/resized_imgdata/63. 타망 조업.jpg\n",
      "이미지 저장 완료: /home/elicer/FIshing_vessel-1/resized_imgdata/63. 통발 이동.jpg\n",
      "이미지 저장 완료: /home/elicer/FIshing_vessel-1/resized_imgdata/63. 타망 표류.png\n",
      "이미지 저장 완료: /home/elicer/FIshing_vessel-1/resized_imgdata/64. 낚시어선 조업.jpg\n",
      "이미지 저장 완료: /home/elicer/FIshing_vessel-1/resized_imgdata/64. 범장망 이동.jpg\n",
      "이미지 저장 완료: /home/elicer/FIshing_vessel-1/resized_imgdata/64. 범장망 표류.jpg\n",
      "이미지 저장 완료: /home/elicer/FIshing_vessel-1/resized_imgdata/64. 유망 표류.jpg\n",
      "이미지 저장 완료: /home/elicer/FIshing_vessel-1/resized_imgdata/64. 타망 이동.jpg\n",
      "이미지 저장 완료: /home/elicer/FIshing_vessel-1/resized_imgdata/64. 타망 조업.jpg\n",
      "이미지 저장 완료: /home/elicer/FIshing_vessel-1/resized_imgdata/64. 타망 표류.jpg\n",
      "이미지 저장 완료: /home/elicer/FIshing_vessel-1/resized_imgdata/64. 통발 이동.jpg\n",
      "이미지 저장 완료: /home/elicer/FIshing_vessel-1/resized_imgdata/65. 낚시어선 조업.jpg\n",
      "이미지 저장 완료: /home/elicer/FIshing_vessel-1/resized_imgdata/65. 범장망 이동.jpg\n",
      "이미지 저장 완료: /home/elicer/FIshing_vessel-1/resized_imgdata/65. 범장망 표류.jpg\n",
      "이미지 저장 완료: /home/elicer/FIshing_vessel-1/resized_imgdata/65. 유망 표류.jpg\n",
      "이미지 저장 완료: /home/elicer/FIshing_vessel-1/resized_imgdata/65. 타망 조업.jpg\n",
      "이미지 저장 완료: /home/elicer/FIshing_vessel-1/resized_imgdata/65. 타망 이동.jpg\n",
      "이미지 저장 완료: /home/elicer/FIshing_vessel-1/resized_imgdata/65. 타망 표류.png\n",
      "이미지 저장 완료: /home/elicer/FIshing_vessel-1/resized_imgdata/65. 통발 이동.jpg\n",
      "이미지 저장 완료: /home/elicer/FIshing_vessel-1/resized_imgdata/66. 낚시어선 조업.jpg\n",
      "이미지 저장 완료: /home/elicer/FIshing_vessel-1/resized_imgdata/66. 범장망 이동.jpg\n",
      "이미지 저장 완료: /home/elicer/FIshing_vessel-1/resized_imgdata/66. 범장망 표류.jpg\n",
      "이미지 저장 완료: /home/elicer/FIshing_vessel-1/resized_imgdata/66. 유망 표류.jpg\n",
      "이미지 저장 완료: /home/elicer/FIshing_vessel-1/resized_imgdata/66. 타망 이동.jpg\n",
      "이미지 저장 완료: /home/elicer/FIshing_vessel-1/resized_imgdata/66. 타망 조업.jpg\n",
      "이미지 저장 완료: /home/elicer/FIshing_vessel-1/resized_imgdata/66. 타망 표류.jpg\n",
      "이미지 저장 완료: /home/elicer/FIshing_vessel-1/resized_imgdata/67. 범장망 이동.jpg\n",
      "이미지 저장 완료: /home/elicer/FIshing_vessel-1/resized_imgdata/67. 낚시어선 조업.jpg\n",
      "이미지 저장 완료: /home/elicer/FIshing_vessel-1/resized_imgdata/67. 범장망 표류.jpg\n",
      "이미지 저장 완료: /home/elicer/FIshing_vessel-1/resized_imgdata/67. 유망 표류.jpg\n",
      "이미지 저장 완료: /home/elicer/FIshing_vessel-1/resized_imgdata/67. 타망 이동.jpg\n",
      "이미지 저장 완료: /home/elicer/FIshing_vessel-1/resized_imgdata/67. 타망 조업.jpg\n",
      "이미지 저장 완료: /home/elicer/FIshing_vessel-1/resized_imgdata/68. 낚시어선 조업.jpg\n",
      "이미지 저장 완료: /home/elicer/FIshing_vessel-1/resized_imgdata/68. 범장망 이동.jpg\n",
      "이미지 저장 완료: /home/elicer/FIshing_vessel-1/resized_imgdata/68. 범장망 표류.jpg\n",
      "이미지 저장 완료: /home/elicer/FIshing_vessel-1/resized_imgdata/68. 유망 표류.jpg\n",
      "이미지 저장 완료: /home/elicer/FIshing_vessel-1/resized_imgdata/68. 타망 이동.jpg\n",
      "이미지 저장 완료: /home/elicer/FIshing_vessel-1/resized_imgdata/68. 타망 조업.jpg\n",
      "이미지 저장 완료: /home/elicer/FIshing_vessel-1/resized_imgdata/68. 타망 표류.jpg\n",
      "이미지 저장 완료: /home/elicer/FIshing_vessel-1/resized_imgdata/69. 낚시어선 조업.jpg\n",
      "이미지 저장 완료: /home/elicer/FIshing_vessel-1/resized_imgdata/69. 범장망 이동.jpg\n",
      "이미지 저장 완료: /home/elicer/FIshing_vessel-1/resized_imgdata/69. 범장망 표류.jpg\n",
      "이미지 저장 완료: /home/elicer/FIshing_vessel-1/resized_imgdata/69. 유망 표류.jpg\n",
      "이미지 저장 완료: /home/elicer/FIshing_vessel-1/resized_imgdata/69. 타망 이동.jpg\n",
      "이미지 저장 완료: /home/elicer/FIshing_vessel-1/resized_imgdata/69. 타망 조업.jpg\n",
      "이미지 저장 완료: /home/elicer/FIshing_vessel-1/resized_imgdata/69. 타망 표류.jpg\n",
      "이미지 저장 완료: /home/elicer/FIshing_vessel-1/resized_imgdata/7. 낚시어선 이동.jpg\n",
      "이미지 저장 완료: /home/elicer/FIshing_vessel-1/resized_imgdata/7. 낚시어선 조업.jpg\n",
      "이미지 저장 완료: /home/elicer/FIshing_vessel-1/resized_imgdata/7. 낚시어선 표류.jpg\n",
      "이미지 저장 완료: /home/elicer/FIshing_vessel-1/resized_imgdata/7. 범장망 이동.jpg\n",
      "이미지 저장 완료: /home/elicer/FIshing_vessel-1/resized_imgdata/7. 범장망 조업.jpg\n",
      "이미지 저장 완료: /home/elicer/FIshing_vessel-1/resized_imgdata/7. 안강망 조업.jpg\n",
      "이미지 저장 완료: /home/elicer/FIshing_vessel-1/resized_imgdata/7. 범장망 표류.jpg\n",
      "이미지 저장 완료: /home/elicer/FIshing_vessel-1/resized_imgdata/7. 안강망 표류.jpg\n",
      "이미지 저장 완료: /home/elicer/FIshing_vessel-1/resized_imgdata/7. 연승 이동.jpg\n",
      "이미지 저장 완료: /home/elicer/FIshing_vessel-1/resized_imgdata/7. 연승 표류.jpg\n",
      "이미지 저장 완료: /home/elicer/FIshing_vessel-1/resized_imgdata/7. 유망 이동.jpg\n",
      "이미지 저장 완료: /home/elicer/FIshing_vessel-1/resized_imgdata/7. 유망 조업.jpg\n",
      "이미지 저장 완료: /home/elicer/FIshing_vessel-1/resized_imgdata/7. 유망 표류.jpg\n",
      "이미지 저장 완료: /home/elicer/FIshing_vessel-1/resized_imgdata/7. 저인망 이동.jpg\n",
      "이미지 저장 완료: /home/elicer/FIshing_vessel-1/resized_imgdata/7. 저인망 조업.jpg\n",
      "이미지 저장 완료: /home/elicer/FIshing_vessel-1/resized_imgdata/7. 채낚기  표류.jpg\n",
      "이미지 저장 완료: /home/elicer/FIshing_vessel-1/resized_imgdata/7. 채낚기 이동.jpg\n",
      "이미지 저장 완료: /home/elicer/FIshing_vessel-1/resized_imgdata/7. 타망 이동.jpg\n",
      "이미지 저장 완료: /home/elicer/FIshing_vessel-1/resized_imgdata/7. 타망 조업.jpg\n",
      "이미지 저장 완료: /home/elicer/FIshing_vessel-1/resized_imgdata/7. 타망 표류.jpg\n",
      "이미지 저장 완료: /home/elicer/FIshing_vessel-1/resized_imgdata/7. 통발 이동.jpg\n",
      "이미지 저장 완료: /home/elicer/FIshing_vessel-1/resized_imgdata/7. 통발 표류.jpg\n",
      "이미지 저장 완료: /home/elicer/FIshing_vessel-1/resized_imgdata/70. 범장망 표류.jpg\n",
      "이미지 저장 완료: /home/elicer/FIshing_vessel-1/resized_imgdata/70. 범장망 이동.jpg\n",
      "이미지 저장 완료: /home/elicer/FIshing_vessel-1/resized_imgdata/70. 유망 표류.jpg\n",
      "이미지 저장 완료: /home/elicer/FIshing_vessel-1/resized_imgdata/70. 타망 조업.png\n",
      "이미지 저장 완료: /home/elicer/FIshing_vessel-1/resized_imgdata/70. 타망 이동.jpg\n",
      "이미지 저장 완료: /home/elicer/FIshing_vessel-1/resized_imgdata/70. 타망 표류.jpg\n",
      "이미지 저장 완료: /home/elicer/FIshing_vessel-1/resized_imgdata/71. 범장망 이동.jpg\n",
      "이미지 저장 완료: /home/elicer/FIshing_vessel-1/resized_imgdata/71. 범장망 표류.jpg\n",
      "이미지 저장 완료: /home/elicer/FIshing_vessel-1/resized_imgdata/71. 유망 표류.jpg\n",
      "이미지 저장 완료: /home/elicer/FIshing_vessel-1/resized_imgdata/71. 타망 이동.jpg\n",
      "이미지 저장 완료: /home/elicer/FIshing_vessel-1/resized_imgdata/71. 타망 조업.jpg\n",
      "이미지 저장 완료: /home/elicer/FIshing_vessel-1/resized_imgdata/71. 타망 표류.jpg\n",
      "이미지 저장 완료: /home/elicer/FIshing_vessel-1/resized_imgdata/72. 범장망 이동.jpg\n",
      "이미지 저장 완료: /home/elicer/FIshing_vessel-1/resized_imgdata/72. 범장망 표류.jpg\n",
      "이미지 저장 완료: /home/elicer/FIshing_vessel-1/resized_imgdata/72. 유망 표류.jpg\n",
      "이미지 저장 완료: /home/elicer/FIshing_vessel-1/resized_imgdata/72. 타망 조업.jpg\n",
      "이미지 저장 완료: /home/elicer/FIshing_vessel-1/resized_imgdata/72. 타망 이동.jpg\n",
      "이미지 저장 완료: /home/elicer/FIshing_vessel-1/resized_imgdata/73 타망 이동.jpg\n",
      "이미지 저장 완료: /home/elicer/FIshing_vessel-1/resized_imgdata/73. 범장망 이동.jpg\n",
      "이미지 저장 완료: /home/elicer/FIshing_vessel-1/resized_imgdata/73. 유망 표류.jpg\n",
      "이미지 저장 완료: /home/elicer/FIshing_vessel-1/resized_imgdata/73. 범장망 표류.jpg\n",
      "이미지 저장 완료: /home/elicer/FIshing_vessel-1/resized_imgdata/73. 타망 조업.jpg\n",
      "이미지 저장 완료: /home/elicer/FIshing_vessel-1/resized_imgdata/73. 타망 표류.jpg\n",
      "이미지 저장 완료: /home/elicer/FIshing_vessel-1/resized_imgdata/74 타망 이동.jpg\n",
      "이미지 저장 완료: /home/elicer/FIshing_vessel-1/resized_imgdata/74. 범장망 이동.jpg\n",
      "이미지 저장 완료: /home/elicer/FIshing_vessel-1/resized_imgdata/74. 범장망 표류.jpg\n",
      "이미지 저장 완료: /home/elicer/FIshing_vessel-1/resized_imgdata/74. 유망 표류.jpg\n",
      "이미지 저장 완료: /home/elicer/FIshing_vessel-1/resized_imgdata/74. 타망 조업.jpg\n",
      "이미지 저장 완료: /home/elicer/FIshing_vessel-1/resized_imgdata/74. 타망 표류.jpg\n",
      "이미지 저장 완료: /home/elicer/FIshing_vessel-1/resized_imgdata/75 타망 이동.jpg\n",
      "이미지 저장 완료: /home/elicer/FIshing_vessel-1/resized_imgdata/75. 범장망 이동.jpg\n",
      "이미지 저장 완료: /home/elicer/FIshing_vessel-1/resized_imgdata/75. 범장망 표류.jpg\n",
      "이미지 저장 완료: /home/elicer/FIshing_vessel-1/resized_imgdata/75. 유망 표류.jpg\n",
      "이미지 저장 완료: /home/elicer/FIshing_vessel-1/resized_imgdata/75. 타망 조업.jpg\n",
      "이미지 저장 완료: /home/elicer/FIshing_vessel-1/resized_imgdata/76 타망 이동.jpg\n",
      "이미지 저장 완료: /home/elicer/FIshing_vessel-1/resized_imgdata/75. 타망 표류.jpg\n",
      "이미지 저장 완료: /home/elicer/FIshing_vessel-1/resized_imgdata/76. 범장망 이동.jpg\n",
      "이미지 저장 완료: /home/elicer/FIshing_vessel-1/resized_imgdata/76. 범장망 표류.jpg\n",
      "이미지 저장 완료: /home/elicer/FIshing_vessel-1/resized_imgdata/76. 유망 표류.jpg\n",
      "이미지 저장 완료: /home/elicer/FIshing_vessel-1/resized_imgdata/76. 타망 조업.jpg\n",
      "이미지 저장 완료: /home/elicer/FIshing_vessel-1/resized_imgdata/76. 타망 표류.jpg\n",
      "이미지 저장 완료: /home/elicer/FIshing_vessel-1/resized_imgdata/77 타망 이동.jpg\n",
      "이미지 저장 완료: /home/elicer/FIshing_vessel-1/resized_imgdata/77. 범장망 이동.jpg\n",
      "이미지 저장 완료: /home/elicer/FIshing_vessel-1/resized_imgdata/77. 범장망 표류.jpg\n",
      "이미지 저장 완료: /home/elicer/FIshing_vessel-1/resized_imgdata/77. 유망 표류.jpg\n",
      "이미지 저장 완료: /home/elicer/FIshing_vessel-1/resized_imgdata/77. 타망 조업.jpg\n",
      "이미지 저장 완료: /home/elicer/FIshing_vessel-1/resized_imgdata/77. 타망 표류.jpg\n",
      "이미지 저장 완료: /home/elicer/FIshing_vessel-1/resized_imgdata/78 타망 이동.jpg\n",
      "이미지 저장 완료: /home/elicer/FIshing_vessel-1/resized_imgdata/78. 범장망 이동.jpg\n",
      "이미지 저장 완료: /home/elicer/FIshing_vessel-1/resized_imgdata/78. 범장망 표류.jpg\n",
      "이미지 저장 완료: /home/elicer/FIshing_vessel-1/resized_imgdata/78. 유망 표류.jpg\n",
      "이미지 저장 완료: /home/elicer/FIshing_vessel-1/resized_imgdata/78. 타망 표류.jpg\n",
      "이미지 저장 완료: /home/elicer/FIshing_vessel-1/resized_imgdata/78. 타망 조업.jpg\n",
      "이미지 저장 완료: /home/elicer/FIshing_vessel-1/resized_imgdata/79. 범장망 이동.jpg\n",
      "이미지 저장 완료: /home/elicer/FIshing_vessel-1/resized_imgdata/79. 범장망 표류.jpg\n",
      "이미지 저장 완료: /home/elicer/FIshing_vessel-1/resized_imgdata/79 타망 이동.png\n",
      "이미지 저장 완료: /home/elicer/FIshing_vessel-1/resized_imgdata/79. 유망 표류.jpg\n",
      "이미지 저장 완료: /home/elicer/FIshing_vessel-1/resized_imgdata/79. 타망 조업.jpg\n",
      "이미지 저장 완료: /home/elicer/FIshing_vessel-1/resized_imgdata/79. 타망 표류.jpg\n",
      "이미지 저장 완료: /home/elicer/FIshing_vessel-1/resized_imgdata/8. 낚시어선 이동.jpg\n",
      "이미지 저장 완료: /home/elicer/FIshing_vessel-1/resized_imgdata/8. 낚시어선 조업.jpg\n",
      "이미지 저장 완료: /home/elicer/FIshing_vessel-1/resized_imgdata/8. 낚시어선 표류.jpg\n",
      "이미지 저장 완료: /home/elicer/FIshing_vessel-1/resized_imgdata/8. 등광조망 이동.jpg\n",
      "이미지 저장 완료: /home/elicer/FIshing_vessel-1/resized_imgdata/8. 등광조망 조업.jpg\n",
      "이미지 저장 완료: /home/elicer/FIshing_vessel-1/resized_imgdata/8. 등광조망 표류.jpg\n",
      "이미지 저장 완료: /home/elicer/FIshing_vessel-1/resized_imgdata/8. 범장망 이동.jpg\n",
      "이미지 저장 완료: /home/elicer/FIshing_vessel-1/resized_imgdata/8. 범장망 표류.jpg\n",
      "이미지 저장 완료: /home/elicer/FIshing_vessel-1/resized_imgdata/8. 범장망 조업.jpg\n",
      "이미지 저장 완료: /home/elicer/FIshing_vessel-1/resized_imgdata/8. 안강망 이동.jpg\n",
      "이미지 저장 완료: /home/elicer/FIshing_vessel-1/resized_imgdata/8. 안강망 조업.jpg\n",
      "이미지 저장 완료: /home/elicer/FIshing_vessel-1/resized_imgdata/8. 안강망 표류.jpg\n",
      "이미지 저장 완료: /home/elicer/FIshing_vessel-1/resized_imgdata/8. 연승 이동.jpg\n",
      "이미지 저장 완료: /home/elicer/FIshing_vessel-1/resized_imgdata/8. 연승 표류.jpg\n",
      "이미지 저장 완료: /home/elicer/FIshing_vessel-1/resized_imgdata/8. 유망 이동.jpg\n",
      "이미지 저장 완료: /home/elicer/FIshing_vessel-1/resized_imgdata/8. 유망 표류.jpg\n",
      "이미지 저장 완료: /home/elicer/FIshing_vessel-1/resized_imgdata/8. 유망 조업.jpg\n",
      "이미지 저장 완료: /home/elicer/FIshing_vessel-1/resized_imgdata/8. 저인망 이동.jpg\n",
      "이미지 저장 완료: /home/elicer/FIshing_vessel-1/resized_imgdata/8. 저인망 조업.jpg\n",
      "이미지 저장 완료: /home/elicer/FIshing_vessel-1/resized_imgdata/8. 채낚기  표류.jpg\n",
      "이미지 저장 완료: /home/elicer/FIshing_vessel-1/resized_imgdata/8. 채낚기 이동.jpg\n",
      "이미지 저장 완료: /home/elicer/FIshing_vessel-1/resized_imgdata/8. 타망 조업.jpg\n",
      "이미지 저장 완료: /home/elicer/FIshing_vessel-1/resized_imgdata/8. 타망 표류.jpg\n",
      "이미지 저장 완료: /home/elicer/FIshing_vessel-1/resized_imgdata/8. 통발 이동.jpg\n",
      "이미지 저장 완료: /home/elicer/FIshing_vessel-1/resized_imgdata/80 타망 이동.jpg\n",
      "이미지 저장 완료: /home/elicer/FIshing_vessel-1/resized_imgdata/80. 범장망 이동.jpg\n",
      "이미지 저장 완료: /home/elicer/FIshing_vessel-1/resized_imgdata/8. 통발 표류.jpg\n",
      "이미지 저장 완료: /home/elicer/FIshing_vessel-1/resized_imgdata/80. 범장망 표류.jpg\n",
      "이미지 저장 완료: /home/elicer/FIshing_vessel-1/resized_imgdata/80. 유망 표류.jpg\n",
      "이미지 저장 완료: /home/elicer/FIshing_vessel-1/resized_imgdata/80. 타망 조업.jpg\n",
      "이미지 저장 완료: /home/elicer/FIshing_vessel-1/resized_imgdata/80. 타망 표류.jpg\n",
      "이미지 저장 완료: /home/elicer/FIshing_vessel-1/resized_imgdata/81 타망 이동.png\n",
      "이미지 저장 완료: /home/elicer/FIshing_vessel-1/resized_imgdata/81. 범장망 표류.jpg\n",
      "이미지 저장 완료: /home/elicer/FIshing_vessel-1/resized_imgdata/81. 유망 표류.jpg\n",
      "이미지 저장 완료: /home/elicer/FIshing_vessel-1/resized_imgdata/81. 범장망 이동.jpg\n",
      "이미지 저장 완료: /home/elicer/FIshing_vessel-1/resized_imgdata/81. 타망 조업.jpg\n",
      "이미지 저장 완료: /home/elicer/FIshing_vessel-1/resized_imgdata/81. 타망 표류.jpg\n",
      "이미지 저장 완료: /home/elicer/FIshing_vessel-1/resized_imgdata/82 타망 이동.jpg\n",
      "이미지 저장 완료: /home/elicer/FIshing_vessel-1/resized_imgdata/82. 범장망 이동.jpg\n",
      "이미지 저장 완료: /home/elicer/FIshing_vessel-1/resized_imgdata/82. 범장망 표류.jpg\n",
      "이미지 저장 완료: /home/elicer/FIshing_vessel-1/resized_imgdata/82. 유망 표류.jpg\n",
      "이미지 저장 완료: /home/elicer/FIshing_vessel-1/resized_imgdata/82. 타망 조업.jpg\n",
      "이미지 저장 완료: /home/elicer/FIshing_vessel-1/resized_imgdata/82. 타망 표류.jpg\n",
      "이미지 저장 완료: /home/elicer/FIshing_vessel-1/resized_imgdata/83 타망 이동.png\n",
      "이미지 저장 완료: /home/elicer/FIshing_vessel-1/resized_imgdata/83. 범장망 이동.jpg\n",
      "이미지 저장 완료: /home/elicer/FIshing_vessel-1/resized_imgdata/83. 유망 표류.jpg\n",
      "이미지 저장 완료: /home/elicer/FIshing_vessel-1/resized_imgdata/83. 범장망 표류.jpg\n",
      "이미지 저장 완료: /home/elicer/FIshing_vessel-1/resized_imgdata/83. 타망 조업.jpg\n",
      "이미지 저장 완료: /home/elicer/FIshing_vessel-1/resized_imgdata/83. 타망 표류.jpg\n",
      "이미지 저장 완료: /home/elicer/FIshing_vessel-1/resized_imgdata/84 타망 이동.jpg\n",
      "이미지 저장 완료: /home/elicer/FIshing_vessel-1/resized_imgdata/84. 범장망 이동.jpg\n",
      "이미지 저장 완료: /home/elicer/FIshing_vessel-1/resized_imgdata/84. 범장망 표류.jpg\n",
      "이미지 저장 완료: /home/elicer/FIshing_vessel-1/resized_imgdata/84. 유망 표류.jpg\n",
      "이미지 저장 완료: /home/elicer/FIshing_vessel-1/resized_imgdata/84. 타망 조업.jpg\n",
      "이미지 저장 완료: /home/elicer/FIshing_vessel-1/resized_imgdata/84. 타망 표류.jpg\n",
      "이미지 저장 완료: /home/elicer/FIshing_vessel-1/resized_imgdata/85 타망 이동.png\n",
      "이미지 저장 완료: /home/elicer/FIshing_vessel-1/resized_imgdata/85. 범장망 이동.jpg\n",
      "이미지 저장 완료: /home/elicer/FIshing_vessel-1/resized_imgdata/85. 범장망 표류.jpg\n",
      "이미지 저장 완료: /home/elicer/FIshing_vessel-1/resized_imgdata/85. 유망 표류.jpg\n",
      "이미지 저장 완료: /home/elicer/FIshing_vessel-1/resized_imgdata/85. 타망 조업.jpg\n",
      "이미지 저장 완료: /home/elicer/FIshing_vessel-1/resized_imgdata/85. 타망 표류.jpg\n",
      "이미지 저장 완료: /home/elicer/FIshing_vessel-1/resized_imgdata/86 타망 이동.jpg\n",
      "이미지 저장 완료: /home/elicer/FIshing_vessel-1/resized_imgdata/86. 범장망 이동.jpg\n",
      "이미지 저장 완료: /home/elicer/FIshing_vessel-1/resized_imgdata/86. 타망 조업.jpg\n",
      "이미지 저장 완료: /home/elicer/FIshing_vessel-1/resized_imgdata/86. 범장망 표류.jpg\n",
      "이미지 저장 완료: /home/elicer/FIshing_vessel-1/resized_imgdata/87 타망 이동.png\n",
      "이미지 저장 완료: /home/elicer/FIshing_vessel-1/resized_imgdata/86. 타망 표류.jpg\n",
      "이미지 저장 완료: /home/elicer/FIshing_vessel-1/resized_imgdata/87. 범장망 이동.jpg\n",
      "이미지 저장 완료: /home/elicer/FIshing_vessel-1/resized_imgdata/87. 범장망 표류.jpg\n",
      "이미지 저장 완료: /home/elicer/FIshing_vessel-1/resized_imgdata/87. 유망 표류.jpg\n",
      "이미지 저장 완료: /home/elicer/FIshing_vessel-1/resized_imgdata/87. 타망 조업.jpg\n",
      "이미지 저장 완료: /home/elicer/FIshing_vessel-1/resized_imgdata/87. 타망 표류.jpg\n",
      "이미지 저장 완료: /home/elicer/FIshing_vessel-1/resized_imgdata/88 타망 이동.jpg\n",
      "이미지 저장 완료: /home/elicer/FIshing_vessel-1/resized_imgdata/88. 범장망 이동.jpg\n",
      "이미지 저장 완료: /home/elicer/FIshing_vessel-1/resized_imgdata/88. 범장망 표류.jpg\n",
      "이미지 저장 완료: /home/elicer/FIshing_vessel-1/resized_imgdata/88. 유망 표류.jpg\n",
      "이미지 저장 완료: /home/elicer/FIshing_vessel-1/resized_imgdata/88. 타망 조업.jpg\n",
      "이미지 저장 완료: /home/elicer/FIshing_vessel-1/resized_imgdata/88. 타망 표류.jpg\n",
      "이미지 저장 완료: /home/elicer/FIshing_vessel-1/resized_imgdata/89 타망 이동.jpg\n",
      "이미지 저장 완료: /home/elicer/FIshing_vessel-1/resized_imgdata/89. 범장망 이동.jpg\n",
      "이미지 저장 완료: /home/elicer/FIshing_vessel-1/resized_imgdata/89. 범장망 표류.jpg\n",
      "이미지 저장 완료: /home/elicer/FIshing_vessel-1/resized_imgdata/89. 유망 표류.jpg\n",
      "이미지 저장 완료: /home/elicer/FIshing_vessel-1/resized_imgdata/89. 타망 조업.jpg\n",
      "이미지 저장 완료: /home/elicer/FIshing_vessel-1/resized_imgdata/9. 낚시어선 이동.jpg\n",
      "이미지 저장 완료: /home/elicer/FIshing_vessel-1/resized_imgdata/9. 등광조망 이동.jpg\n",
      "이미지 저장 완료: /home/elicer/FIshing_vessel-1/resized_imgdata/9. 낚시어선 표류.jpg\n",
      "이미지 저장 완료: /home/elicer/FIshing_vessel-1/resized_imgdata/9. 등광조망 조업.jpg\n",
      "이미지 저장 완료: /home/elicer/FIshing_vessel-1/resized_imgdata/9. 등광조망 표류.jpg\n",
      "이미지 저장 완료: /home/elicer/FIshing_vessel-1/resized_imgdata/89. 타망 표류.png\n",
      "이미지 저장 완료: /home/elicer/FIshing_vessel-1/resized_imgdata/9. 범장망 이동.jpg\n",
      "이미지 저장 완료: /home/elicer/FIshing_vessel-1/resized_imgdata/9. 범장망 조업.jpg\n",
      "이미지 저장 완료: /home/elicer/FIshing_vessel-1/resized_imgdata/9. 범장망 표류.jpg\n",
      "이미지 저장 완료: /home/elicer/FIshing_vessel-1/resized_imgdata/9. 안강망 이동.jpg\n",
      "이미지 저장 완료: /home/elicer/FIshing_vessel-1/resized_imgdata/9. 안강망 조업.jpg\n",
      "이미지 저장 완료: /home/elicer/FIshing_vessel-1/resized_imgdata/9. 안강망 표류.jpg\n",
      "이미지 저장 완료: /home/elicer/FIshing_vessel-1/resized_imgdata/9. 연승 이동.jpg\n",
      "이미지 저장 완료: /home/elicer/FIshing_vessel-1/resized_imgdata/9. 연승 표류.jpg\n",
      "이미지 저장 완료: /home/elicer/FIshing_vessel-1/resized_imgdata/9. 유망 이동.jpg\n",
      "이미지 저장 완료: /home/elicer/FIshing_vessel-1/resized_imgdata/9. 유망 조업.jpg\n",
      "이미지 저장 완료: /home/elicer/FIshing_vessel-1/resized_imgdata/9. 유망 표류.jpg\n",
      "이미지 저장 완료: /home/elicer/FIshing_vessel-1/resized_imgdata/9. 저인망 이동.jpg\n",
      "이미지 저장 완료: /home/elicer/FIshing_vessel-1/resized_imgdata/9. 저인망 조업.jpg\n",
      "이미지 저장 완료: /home/elicer/FIshing_vessel-1/resized_imgdata/9. 채낚기  표류.jpg\n",
      "이미지 저장 완료: /home/elicer/FIshing_vessel-1/resized_imgdata/9. 타망 이동.jpg\n",
      "이미지 저장 완료: /home/elicer/FIshing_vessel-1/resized_imgdata/9. 채낚기 이동.jpg\n",
      "이미지 저장 완료: /home/elicer/FIshing_vessel-1/resized_imgdata/9. 타망 조업.jpg\n",
      "이미지 저장 완료: /home/elicer/FIshing_vessel-1/resized_imgdata/9. 통발 이동.jpg\n",
      "이미지 저장 완료: /home/elicer/FIshing_vessel-1/resized_imgdata/9. 타망 표류.jpg\n",
      "이미지 저장 완료: /home/elicer/FIshing_vessel-1/resized_imgdata/90. 범장망 이동.jpg\n",
      "이미지 저장 완료: /home/elicer/FIshing_vessel-1/resized_imgdata/90 타망 이동.jpg\n",
      "이미지 저장 완료: /home/elicer/FIshing_vessel-1/resized_imgdata/90. 범장망 표류.jpg\n",
      "이미지 저장 완료: /home/elicer/FIshing_vessel-1/resized_imgdata/90. 유망 표류.jpg\n",
      "이미지 저장 완료: /home/elicer/FIshing_vessel-1/resized_imgdata/90. 타망 조업.png\n",
      "이미지 저장 완료: /home/elicer/FIshing_vessel-1/resized_imgdata/90. 타망 표류.jpg\n",
      "이미지 저장 완료: /home/elicer/FIshing_vessel-1/resized_imgdata/91 타망 이동.jpg\n",
      "이미지 저장 완료: /home/elicer/FIshing_vessel-1/resized_imgdata/91. 유망 표류.jpg\n",
      "이미지 저장 완료: /home/elicer/FIshing_vessel-1/resized_imgdata/91. 범장망 이동.jpg\n",
      "이미지 저장 완료: /home/elicer/FIshing_vessel-1/resized_imgdata/91. 범장망 표류.jpg\n",
      "이미지 저장 완료: /home/elicer/FIshing_vessel-1/resized_imgdata/91. 타망 조업.jpg\n",
      "이미지 저장 완료: /home/elicer/FIshing_vessel-1/resized_imgdata/91. 타망 표류.jpg\n",
      "이미지 저장 완료: /home/elicer/FIshing_vessel-1/resized_imgdata/92 타망 이동.jpg\n",
      "이미지 저장 완료: /home/elicer/FIshing_vessel-1/resized_imgdata/92. 범장망 이동.jpg\n",
      "이미지 저장 완료: /home/elicer/FIshing_vessel-1/resized_imgdata/92. 유망 표류.jpg\n",
      "이미지 저장 완료: /home/elicer/FIshing_vessel-1/resized_imgdata/92. 범장망 표류.jpg\n",
      "이미지 저장 완료: /home/elicer/FIshing_vessel-1/resized_imgdata/92. 타망 표류.jpg\n",
      "이미지 저장 완료: /home/elicer/FIshing_vessel-1/resized_imgdata/92. 타망 조업.jpg\n",
      "이미지 저장 완료: /home/elicer/FIshing_vessel-1/resized_imgdata/93 타망 이동.jpg\n",
      "이미지 저장 완료: /home/elicer/FIshing_vessel-1/resized_imgdata/93. 범장망 이동.jpg\n",
      "이미지 저장 완료: /home/elicer/FIshing_vessel-1/resized_imgdata/93. 범장망 표류.jpg\n",
      "이미지 저장 완료: /home/elicer/FIshing_vessel-1/resized_imgdata/93. 유망 표류.jpg\n",
      "이미지 저장 완료: /home/elicer/FIshing_vessel-1/resized_imgdata/93. 타망 조업.jpg\n",
      "이미지 저장 완료: /home/elicer/FIshing_vessel-1/resized_imgdata/93. 타망 표류.jpg\n",
      "이미지 저장 완료: /home/elicer/FIshing_vessel-1/resized_imgdata/94 타망 이동.jpg\n",
      "이미지 저장 완료: /home/elicer/FIshing_vessel-1/resized_imgdata/94. 범장망 이동.jpg\n",
      "이미지 저장 완료: /home/elicer/FIshing_vessel-1/resized_imgdata/94. 유망 표류.jpg\n",
      "이미지 저장 완료: /home/elicer/FIshing_vessel-1/resized_imgdata/94. 범장망 표류.jpg\n",
      "이미지 저장 완료: /home/elicer/FIshing_vessel-1/resized_imgdata/94. 타망 조업.jpg\n",
      "이미지 저장 완료: /home/elicer/FIshing_vessel-1/resized_imgdata/94. 타망 표류.jpg\n",
      "이미지 저장 완료: /home/elicer/FIshing_vessel-1/resized_imgdata/95 타망 이동.jpg\n",
      "이미지 저장 완료: /home/elicer/FIshing_vessel-1/resized_imgdata/95. 범장망 이동.jpg\n",
      "이미지 저장 완료: /home/elicer/FIshing_vessel-1/resized_imgdata/95. 범장망 표류.jpg\n",
      "이미지 저장 완료: /home/elicer/FIshing_vessel-1/resized_imgdata/95. 유망 표류.png\n",
      "이미지 저장 완료: /home/elicer/FIshing_vessel-1/resized_imgdata/95. 타망 조업.jpg\n",
      "이미지 저장 완료: /home/elicer/FIshing_vessel-1/resized_imgdata/95. 타망 표류.jpg\n",
      "이미지 저장 완료: /home/elicer/FIshing_vessel-1/resized_imgdata/96 타망 이동.jpg\n",
      "이미지 저장 완료: /home/elicer/FIshing_vessel-1/resized_imgdata/96. 범장망 표류.jpg\n",
      "이미지 저장 완료: /home/elicer/FIshing_vessel-1/resized_imgdata/96. 범장망 이동.jpg\n",
      "이미지 저장 완료: /home/elicer/FIshing_vessel-1/resized_imgdata/96. 유망 표류.jpg\n",
      "이미지 저장 완료: /home/elicer/FIshing_vessel-1/resized_imgdata/96. 타망 조업.jpg\n",
      "이미지 저장 완료: /home/elicer/FIshing_vessel-1/resized_imgdata/97 타망 이동.jpg\n",
      "이미지 저장 완료: /home/elicer/FIshing_vessel-1/resized_imgdata/96. 타망 표류.jpg\n",
      "이미지 저장 완료: /home/elicer/FIshing_vessel-1/resized_imgdata/97. 범장망 이동.jpg\n",
      "이미지 저장 완료: /home/elicer/FIshing_vessel-1/resized_imgdata/97. 범장망 표류.jpg\n",
      "이미지 저장 완료: /home/elicer/FIshing_vessel-1/resized_imgdata/97. 유망 표류.jpg\n",
      "이미지 저장 완료: /home/elicer/FIshing_vessel-1/resized_imgdata/97. 타망 조업.jpg\n",
      "이미지 저장 완료: /home/elicer/FIshing_vessel-1/resized_imgdata/97. 타망 표류.jpg\n",
      "이미지 저장 완료: /home/elicer/FIshing_vessel-1/resized_imgdata/98 타망 이동.jpg\n",
      "이미지 저장 완료: /home/elicer/FIshing_vessel-1/resized_imgdata/98. 범장망 표류.jpg\n",
      "이미지 저장 완료: /home/elicer/FIshing_vessel-1/resized_imgdata/98. 유망 표류.jpg\n",
      "이미지 저장 완료: /home/elicer/FIshing_vessel-1/resized_imgdata/98. 타망 조업.jpg\n",
      "이미지 저장 완료: /home/elicer/FIshing_vessel-1/resized_imgdata/98. 타망 표류.jpg\n",
      "이미지 저장 완료: /home/elicer/FIshing_vessel-1/resized_imgdata/99 타망 이동.jpg\n",
      "이미지 저장 완료: /home/elicer/FIshing_vessel-1/resized_imgdata/99. 범장망 이동.jpg\n",
      "이미지 저장 완료: /home/elicer/FIshing_vessel-1/resized_imgdata/99. 범장망 표류.jpg\n",
      "이미지 저장 완료: /home/elicer/FIshing_vessel-1/resized_imgdata/99. 유망 표류.jpg\n",
      "이미지 저장 완료: /home/elicer/FIshing_vessel-1/resized_imgdata/99. 타망 조업.jpg\n",
      "이미지 저장 완료: /home/elicer/FIshing_vessel-1/resized_imgdata/99. 타망 표류.jpg\n",
      "모든 이미지의 크기 조정 완료\n"
     ]
    }
   ],
   "source": [
    "import os\n",
    "import cv2\n",
    "\n",
    "# 이미지가 저장된 폴더 경로 지정\n",
    "input_folder = '/home/elicer/FIshing_vessel-1/imgdata'  # 원본 이미지 폴더 경로\n",
    "output_folder = '/home/elicer/FIshing_vessel-1/resized_imgdata'  # 리사이즈된 이미지 저장 폴더 경로\n",
    "\n",
    "# 출력 폴더가 존재하지 않으면 생성\n",
    "if not os.path.exists(output_folder):\n",
    "    os.makedirs(output_folder)\n",
    "\n",
    "# 이미지 크기 설정 (VGG 모델의 입력 크기에 맞춤)\n",
    "target_size = (224, 224)\n",
    "\n",
    "# 폴더 내 모든 이미지 파일에 대해 크기 조정\n",
    "for filename in os.listdir(input_folder):\n",
    "    if filename.endswith(('.jpg', '.jpeg', '.png')):  # 이미지 파일만 처리\n",
    "        # 이미지 파일 경로\n",
    "        input_path = os.path.join(input_folder, filename)\n",
    "        \n",
    "        # 이미지 읽기\n",
    "        image = cv2.imread(input_path)\n",
    "        if image is None:\n",
    "            print(f\"이미지 읽기 실패: {input_path}\")\n",
    "            continue\n",
    "        \n",
    "        # 이미지 크기 조정\n",
    "        resized_image = cv2.resize(image, target_size)\n",
    "        \n",
    "        # 리사이즈된 이미지 저장 경로\n",
    "        output_path = os.path.join(output_folder, filename)\n",
    "        \n",
    "        # 리사이즈된 이미지 저장\n",
    "        cv2.imwrite(output_path, resized_image)\n",
    "        print(f\"이미지 저장 완료: {output_path}\")\n",
    "\n",
    "print(\"모든 이미지의 크기 조정 완료\")\n"
   ]
  },
  {
   "cell_type": "markdown",
   "metadata": {},
   "source": [
    "2. 데이터 로더 작성\n",
    "- Keras ImageDataGenerator 사용: ImageDataGenerator를 이용하여 이미지 데이터를 불러오고, 훈련 데이터와 검증 데이터를 생성합니다. 이 단계에서는 데이터를 train, validation으로 나누어 학습과 평가의 균형을 맞춥니다."
   ]
  },
  {
   "cell_type": "code",
   "execution_count": 4,
   "metadata": {},
   "outputs": [
    {
     "name": "stdout",
     "output_type": "stream",
     "text": [
      "이미지 이동 완료: /home/elicer/FIshing_vessel-1/resized_imgdata/1. 낚시어선 이동.jpg -> /home/elicer/FIshing_vessel-1/categorized_imgdata/이동/1. 낚시어선 이동.jpg\n",
      "이미지 이동 완료: /home/elicer/FIshing_vessel-1/resized_imgdata/1. 낚시어선 조업.jpg -> /home/elicer/FIshing_vessel-1/categorized_imgdata/조업/1. 낚시어선 조업.jpg\n",
      "이미지 이동 완료: /home/elicer/FIshing_vessel-1/resized_imgdata/1. 낚시어선 표류.jpg -> /home/elicer/FIshing_vessel-1/categorized_imgdata/표류/1. 낚시어선 표류.jpg\n",
      "이미지 이동 완료: /home/elicer/FIshing_vessel-1/resized_imgdata/1. 등광조망 이동.jpg -> /home/elicer/FIshing_vessel-1/categorized_imgdata/이동/1. 등광조망 이동.jpg\n",
      "이미지 이동 완료: /home/elicer/FIshing_vessel-1/resized_imgdata/1. 등광조망 표류.jpg -> /home/elicer/FIshing_vessel-1/categorized_imgdata/표류/1. 등광조망 표류.jpg\n",
      "이미지 이동 완료: /home/elicer/FIshing_vessel-1/resized_imgdata/1. 범장망 이동.jpg -> /home/elicer/FIshing_vessel-1/categorized_imgdata/이동/1. 범장망 이동.jpg\n",
      "이미지 이동 완료: /home/elicer/FIshing_vessel-1/resized_imgdata/1. 범장망 조업.jpg -> /home/elicer/FIshing_vessel-1/categorized_imgdata/조업/1. 범장망 조업.jpg\n",
      "이미지 이동 완료: /home/elicer/FIshing_vessel-1/resized_imgdata/1. 범장망 표류.jpg -> /home/elicer/FIshing_vessel-1/categorized_imgdata/표류/1. 범장망 표류.jpg\n",
      "이미지 이동 완료: /home/elicer/FIshing_vessel-1/resized_imgdata/1. 안강망 이동.jpg -> /home/elicer/FIshing_vessel-1/categorized_imgdata/이동/1. 안강망 이동.jpg\n",
      "이미지 이동 완료: /home/elicer/FIshing_vessel-1/resized_imgdata/1. 안강망 조업.jpg -> /home/elicer/FIshing_vessel-1/categorized_imgdata/조업/1. 안강망 조업.jpg\n",
      "이미지 이동 완료: /home/elicer/FIshing_vessel-1/resized_imgdata/1. 안강망 표류.jpg -> /home/elicer/FIshing_vessel-1/categorized_imgdata/표류/1. 안강망 표류.jpg\n",
      "이미지 이동 완료: /home/elicer/FIshing_vessel-1/resized_imgdata/1. 연승 이동.jpg -> /home/elicer/FIshing_vessel-1/categorized_imgdata/이동/1. 연승 이동.jpg\n",
      "이미지 이동 완료: /home/elicer/FIshing_vessel-1/resized_imgdata/1. 연승 표류.jpg -> /home/elicer/FIshing_vessel-1/categorized_imgdata/표류/1. 연승 표류.jpg\n",
      "이미지 이동 완료: /home/elicer/FIshing_vessel-1/resized_imgdata/1. 유망 이동.jpg -> /home/elicer/FIshing_vessel-1/categorized_imgdata/이동/1. 유망 이동.jpg\n",
      "이미지 이동 완료: /home/elicer/FIshing_vessel-1/resized_imgdata/1. 유망 조업.jpg -> /home/elicer/FIshing_vessel-1/categorized_imgdata/조업/1. 유망 조업.jpg\n",
      "이미지 이동 완료: /home/elicer/FIshing_vessel-1/resized_imgdata/1. 유망 표류.jpg -> /home/elicer/FIshing_vessel-1/categorized_imgdata/표류/1. 유망 표류.jpg\n",
      "이미지 이동 완료: /home/elicer/FIshing_vessel-1/resized_imgdata/1. 저인망 이동.jpg -> /home/elicer/FIshing_vessel-1/categorized_imgdata/이동/1. 저인망 이동.jpg\n",
      "이미지 이동 완료: /home/elicer/FIshing_vessel-1/resized_imgdata/1. 저인망 조업.jpg -> /home/elicer/FIshing_vessel-1/categorized_imgdata/조업/1. 저인망 조업.jpg\n",
      "이미지 이동 완료: /home/elicer/FIshing_vessel-1/resized_imgdata/1. 저인망 표류.jpg -> /home/elicer/FIshing_vessel-1/categorized_imgdata/표류/1. 저인망 표류.jpg\n",
      "이미지 이동 완료: /home/elicer/FIshing_vessel-1/resized_imgdata/1. 채낚기  표류.jpg -> /home/elicer/FIshing_vessel-1/categorized_imgdata/표류/1. 채낚기  표류.jpg\n",
      "이미지 이동 완료: /home/elicer/FIshing_vessel-1/resized_imgdata/1. 채낚기 이동.jpg -> /home/elicer/FIshing_vessel-1/categorized_imgdata/이동/1. 채낚기 이동.jpg\n",
      "이미지 이동 완료: /home/elicer/FIshing_vessel-1/resized_imgdata/1. 채낚기 조업.jpg -> /home/elicer/FIshing_vessel-1/categorized_imgdata/조업/1. 채낚기 조업.jpg\n",
      "이미지 이동 완료: /home/elicer/FIshing_vessel-1/resized_imgdata/1. 타망 이동.jpg -> /home/elicer/FIshing_vessel-1/categorized_imgdata/이동/1. 타망 이동.jpg\n",
      "이미지 이동 완료: /home/elicer/FIshing_vessel-1/resized_imgdata/1. 타망 조업.jpg -> /home/elicer/FIshing_vessel-1/categorized_imgdata/조업/1. 타망 조업.jpg\n",
      "이미지 이동 완료: /home/elicer/FIshing_vessel-1/resized_imgdata/1. 타망 표류.jpg -> /home/elicer/FIshing_vessel-1/categorized_imgdata/표류/1. 타망 표류.jpg\n",
      "이미지 이동 완료: /home/elicer/FIshing_vessel-1/resized_imgdata/1. 통발 이동.jpg -> /home/elicer/FIshing_vessel-1/categorized_imgdata/이동/1. 통발 이동.jpg\n",
      "이미지 이동 완료: /home/elicer/FIshing_vessel-1/resized_imgdata/1. 통발 표류.jpg -> /home/elicer/FIshing_vessel-1/categorized_imgdata/표류/1. 통발 표류.jpg\n",
      "이미지 이동 완료: /home/elicer/FIshing_vessel-1/resized_imgdata/1. 통발 조업.jpg -> /home/elicer/FIshing_vessel-1/categorized_imgdata/조업/1. 통발 조업.jpg\n",
      "이미지 이동 완료: /home/elicer/FIshing_vessel-1/resized_imgdata/1.등광조망 조업.jpg -> /home/elicer/FIshing_vessel-1/categorized_imgdata/조업/1.등광조망 조업.jpg\n",
      "이미지 이동 완료: /home/elicer/FIshing_vessel-1/resized_imgdata/10. 낚시어선 이동.jpg -> /home/elicer/FIshing_vessel-1/categorized_imgdata/이동/10. 낚시어선 이동.jpg\n",
      "이미지 이동 완료: /home/elicer/FIshing_vessel-1/resized_imgdata/10. 낚시어선 조업.jpg -> /home/elicer/FIshing_vessel-1/categorized_imgdata/조업/10. 낚시어선 조업.jpg\n",
      "이미지 이동 완료: /home/elicer/FIshing_vessel-1/resized_imgdata/10. 낚시어선 표류.jpg -> /home/elicer/FIshing_vessel-1/categorized_imgdata/표류/10. 낚시어선 표류.jpg\n",
      "이미지 이동 완료: /home/elicer/FIshing_vessel-1/resized_imgdata/10. 등광조망 이동.jpg -> /home/elicer/FIshing_vessel-1/categorized_imgdata/이동/10. 등광조망 이동.jpg\n",
      "이미지 이동 완료: /home/elicer/FIshing_vessel-1/resized_imgdata/10. 등광조망 조업.jpg -> /home/elicer/FIshing_vessel-1/categorized_imgdata/조업/10. 등광조망 조업.jpg\n",
      "이미지 이동 완료: /home/elicer/FIshing_vessel-1/resized_imgdata/10. 등광조망 표류.jpg -> /home/elicer/FIshing_vessel-1/categorized_imgdata/표류/10. 등광조망 표류.jpg\n",
      "이미지 이동 완료: /home/elicer/FIshing_vessel-1/resized_imgdata/10. 범장망 이동.jpg -> /home/elicer/FIshing_vessel-1/categorized_imgdata/이동/10. 범장망 이동.jpg\n",
      "이미지 이동 완료: /home/elicer/FIshing_vessel-1/resized_imgdata/10. 범장망 표류.jpg -> /home/elicer/FIshing_vessel-1/categorized_imgdata/표류/10. 범장망 표류.jpg\n",
      "이미지 이동 완료: /home/elicer/FIshing_vessel-1/resized_imgdata/10. 범장망 조업.jpg -> /home/elicer/FIshing_vessel-1/categorized_imgdata/조업/10. 범장망 조업.jpg\n",
      "이미지 이동 완료: /home/elicer/FIshing_vessel-1/resized_imgdata/10. 안강망 이동.jpg -> /home/elicer/FIshing_vessel-1/categorized_imgdata/이동/10. 안강망 이동.jpg\n",
      "이미지 이동 완료: /home/elicer/FIshing_vessel-1/resized_imgdata/10. 안강망 조업.jpg -> /home/elicer/FIshing_vessel-1/categorized_imgdata/조업/10. 안강망 조업.jpg\n",
      "이미지 이동 완료: /home/elicer/FIshing_vessel-1/resized_imgdata/10. 안강망 표류.jpg -> /home/elicer/FIshing_vessel-1/categorized_imgdata/표류/10. 안강망 표류.jpg\n",
      "이미지 이동 완료: /home/elicer/FIshing_vessel-1/resized_imgdata/10. 연승 이동.jpg -> /home/elicer/FIshing_vessel-1/categorized_imgdata/이동/10. 연승 이동.jpg\n",
      "이미지 이동 완료: /home/elicer/FIshing_vessel-1/resized_imgdata/10. 유망 이동.jpg -> /home/elicer/FIshing_vessel-1/categorized_imgdata/이동/10. 유망 이동.jpg\n",
      "이미지 이동 완료: /home/elicer/FIshing_vessel-1/resized_imgdata/10. 유망 표류.jpg -> /home/elicer/FIshing_vessel-1/categorized_imgdata/표류/10. 유망 표류.jpg\n",
      "이미지 이동 완료: /home/elicer/FIshing_vessel-1/resized_imgdata/10. 연승 표류.jpg -> /home/elicer/FIshing_vessel-1/categorized_imgdata/표류/10. 연승 표류.jpg\n",
      "이미지 이동 완료: /home/elicer/FIshing_vessel-1/resized_imgdata/10. 유망 조업.jpg -> /home/elicer/FIshing_vessel-1/categorized_imgdata/조업/10. 유망 조업.jpg\n",
      "이미지 이동 완료: /home/elicer/FIshing_vessel-1/resized_imgdata/10. 저인망 이동.jpg -> /home/elicer/FIshing_vessel-1/categorized_imgdata/이동/10. 저인망 이동.jpg\n",
      "이미지 이동 완료: /home/elicer/FIshing_vessel-1/resized_imgdata/10. 저인망 조업.jpg -> /home/elicer/FIshing_vessel-1/categorized_imgdata/조업/10. 저인망 조업.jpg\n",
      "이미지 이동 완료: /home/elicer/FIshing_vessel-1/resized_imgdata/10. 채낚기 이동.jpg -> /home/elicer/FIshing_vessel-1/categorized_imgdata/이동/10. 채낚기 이동.jpg\n",
      "이미지 이동 완료: /home/elicer/FIshing_vessel-1/resized_imgdata/10. 채낚기 표류.jpg -> /home/elicer/FIshing_vessel-1/categorized_imgdata/표류/10. 채낚기 표류.jpg\n",
      "이미지 이동 완료: /home/elicer/FIshing_vessel-1/resized_imgdata/10. 타망 이동.jpg -> /home/elicer/FIshing_vessel-1/categorized_imgdata/이동/10. 타망 이동.jpg\n",
      "이미지 이동 완료: /home/elicer/FIshing_vessel-1/resized_imgdata/10. 타망 조업.jpg -> /home/elicer/FIshing_vessel-1/categorized_imgdata/조업/10. 타망 조업.jpg\n",
      "이미지 이동 완료: /home/elicer/FIshing_vessel-1/resized_imgdata/10. 타망 표류.jpg -> /home/elicer/FIshing_vessel-1/categorized_imgdata/표류/10. 타망 표류.jpg\n",
      "이미지 이동 완료: /home/elicer/FIshing_vessel-1/resized_imgdata/10. 통발 이동.jpg -> /home/elicer/FIshing_vessel-1/categorized_imgdata/이동/10. 통발 이동.jpg\n",
      "이미지 이동 완료: /home/elicer/FIshing_vessel-1/resized_imgdata/100 타망 이동.jpg -> /home/elicer/FIshing_vessel-1/categorized_imgdata/이동/100 타망 이동.jpg\n",
      "이미지 이동 완료: /home/elicer/FIshing_vessel-1/resized_imgdata/10. 통발 표류.jpg -> /home/elicer/FIshing_vessel-1/categorized_imgdata/표류/10. 통발 표류.jpg\n",
      "이미지 이동 완료: /home/elicer/FIshing_vessel-1/resized_imgdata/100. 범장망 이동.jpg -> /home/elicer/FIshing_vessel-1/categorized_imgdata/이동/100. 범장망 이동.jpg\n",
      "이미지 이동 완료: /home/elicer/FIshing_vessel-1/resized_imgdata/100. 범장망 표류.jpg -> /home/elicer/FIshing_vessel-1/categorized_imgdata/표류/100. 범장망 표류.jpg\n",
      "이미지 이동 완료: /home/elicer/FIshing_vessel-1/resized_imgdata/100. 타망 조업.jpg -> /home/elicer/FIshing_vessel-1/categorized_imgdata/조업/100. 타망 조업.jpg\n",
      "이미지 이동 완료: /home/elicer/FIshing_vessel-1/resized_imgdata/100. 유망 표류.jpg -> /home/elicer/FIshing_vessel-1/categorized_imgdata/표류/100. 유망 표류.jpg\n",
      "이미지 이동 완료: /home/elicer/FIshing_vessel-1/resized_imgdata/100. 타망 표류.jpg -> /home/elicer/FIshing_vessel-1/categorized_imgdata/표류/100. 타망 표류.jpg\n",
      "이미지 이동 완료: /home/elicer/FIshing_vessel-1/resized_imgdata/101 타망 이동.jpg -> /home/elicer/FIshing_vessel-1/categorized_imgdata/이동/101 타망 이동.jpg\n",
      "이미지 이동 완료: /home/elicer/FIshing_vessel-1/resized_imgdata/101. 범장망 이동.jpg -> /home/elicer/FIshing_vessel-1/categorized_imgdata/이동/101. 범장망 이동.jpg\n",
      "이미지 이동 완료: /home/elicer/FIshing_vessel-1/resized_imgdata/101. 범장망 표류.jpg -> /home/elicer/FIshing_vessel-1/categorized_imgdata/표류/101. 범장망 표류.jpg\n",
      "이미지 이동 완료: /home/elicer/FIshing_vessel-1/resized_imgdata/101. 타망 조업.jpg -> /home/elicer/FIshing_vessel-1/categorized_imgdata/조업/101. 타망 조업.jpg\n",
      "이미지 이동 완료: /home/elicer/FIshing_vessel-1/resized_imgdata/101. 유망 표류.jpg -> /home/elicer/FIshing_vessel-1/categorized_imgdata/표류/101. 유망 표류.jpg\n",
      "이미지 이동 완료: /home/elicer/FIshing_vessel-1/resized_imgdata/101. 타망 표류.jpg -> /home/elicer/FIshing_vessel-1/categorized_imgdata/표류/101. 타망 표류.jpg\n",
      "이미지 이동 완료: /home/elicer/FIshing_vessel-1/resized_imgdata/102 타망 이동.jpg -> /home/elicer/FIshing_vessel-1/categorized_imgdata/이동/102 타망 이동.jpg\n",
      "이미지 이동 완료: /home/elicer/FIshing_vessel-1/resized_imgdata/102. 범장망 이동.jpg -> /home/elicer/FIshing_vessel-1/categorized_imgdata/이동/102. 범장망 이동.jpg\n",
      "이미지 이동 완료: /home/elicer/FIshing_vessel-1/resized_imgdata/102. 범장망 표류.jpg -> /home/elicer/FIshing_vessel-1/categorized_imgdata/표류/102. 범장망 표류.jpg\n",
      "이미지 이동 완료: /home/elicer/FIshing_vessel-1/resized_imgdata/102. 유망 표류.jpg -> /home/elicer/FIshing_vessel-1/categorized_imgdata/표류/102. 유망 표류.jpg\n",
      "이미지 이동 완료: /home/elicer/FIshing_vessel-1/resized_imgdata/102. 타망 조업.jpg -> /home/elicer/FIshing_vessel-1/categorized_imgdata/조업/102. 타망 조업.jpg\n",
      "이미지 이동 완료: /home/elicer/FIshing_vessel-1/resized_imgdata/102. 타망 표류.jpg -> /home/elicer/FIshing_vessel-1/categorized_imgdata/표류/102. 타망 표류.jpg\n",
      "이미지 이동 완료: /home/elicer/FIshing_vessel-1/resized_imgdata/103 타망 이동.jpg -> /home/elicer/FIshing_vessel-1/categorized_imgdata/이동/103 타망 이동.jpg\n",
      "이미지 이동 완료: /home/elicer/FIshing_vessel-1/resized_imgdata/103. 범장망 이동.jpg -> /home/elicer/FIshing_vessel-1/categorized_imgdata/이동/103. 범장망 이동.jpg\n",
      "이미지 이동 완료: /home/elicer/FIshing_vessel-1/resized_imgdata/103. 범장망 표류.jpg -> /home/elicer/FIshing_vessel-1/categorized_imgdata/표류/103. 범장망 표류.jpg\n",
      "이미지 이동 완료: /home/elicer/FIshing_vessel-1/resized_imgdata/103. 유망 표류.jpg -> /home/elicer/FIshing_vessel-1/categorized_imgdata/표류/103. 유망 표류.jpg\n",
      "이미지 이동 완료: /home/elicer/FIshing_vessel-1/resized_imgdata/103. 타망 조업.jpg -> /home/elicer/FIshing_vessel-1/categorized_imgdata/조업/103. 타망 조업.jpg\n",
      "이미지 이동 완료: /home/elicer/FIshing_vessel-1/resized_imgdata/103. 타망 표류.jpg -> /home/elicer/FIshing_vessel-1/categorized_imgdata/표류/103. 타망 표류.jpg\n",
      "이미지 이동 완료: /home/elicer/FIshing_vessel-1/resized_imgdata/104 타망 이동.jpg -> /home/elicer/FIshing_vessel-1/categorized_imgdata/이동/104 타망 이동.jpg\n",
      "이미지 이동 완료: /home/elicer/FIshing_vessel-1/resized_imgdata/104. 유망 표류.jpg -> /home/elicer/FIshing_vessel-1/categorized_imgdata/표류/104. 유망 표류.jpg\n",
      "이미지 이동 완료: /home/elicer/FIshing_vessel-1/resized_imgdata/104. 범장망 이동.jpg -> /home/elicer/FIshing_vessel-1/categorized_imgdata/이동/104. 범장망 이동.jpg\n",
      "이미지 이동 완료: /home/elicer/FIshing_vessel-1/resized_imgdata/104. 범장망 표류.jpg -> /home/elicer/FIshing_vessel-1/categorized_imgdata/표류/104. 범장망 표류.jpg\n",
      "이미지 이동 완료: /home/elicer/FIshing_vessel-1/resized_imgdata/104. 타망 조업.jpg -> /home/elicer/FIshing_vessel-1/categorized_imgdata/조업/104. 타망 조업.jpg\n",
      "이미지 이동 완료: /home/elicer/FIshing_vessel-1/resized_imgdata/104. 타망 표류.jpg -> /home/elicer/FIshing_vessel-1/categorized_imgdata/표류/104. 타망 표류.jpg\n",
      "이미지 이동 완료: /home/elicer/FIshing_vessel-1/resized_imgdata/105. 범장망 이동.jpg -> /home/elicer/FIshing_vessel-1/categorized_imgdata/이동/105. 범장망 이동.jpg\n",
      "이미지 이동 완료: /home/elicer/FIshing_vessel-1/resized_imgdata/105. 유망 표류.jpg -> /home/elicer/FIshing_vessel-1/categorized_imgdata/표류/105. 유망 표류.jpg\n",
      "이미지 이동 완료: /home/elicer/FIshing_vessel-1/resized_imgdata/105. 타망 표류.jpg -> /home/elicer/FIshing_vessel-1/categorized_imgdata/표류/105. 타망 표류.jpg\n",
      "이미지 이동 완료: /home/elicer/FIshing_vessel-1/resized_imgdata/105. 범장망 표류.jpg -> /home/elicer/FIshing_vessel-1/categorized_imgdata/표류/105. 범장망 표류.jpg\n",
      "이미지 이동 완료: /home/elicer/FIshing_vessel-1/resized_imgdata/106 타망 이동.jpg -> /home/elicer/FIshing_vessel-1/categorized_imgdata/이동/106 타망 이동.jpg\n",
      "이미지 이동 완료: /home/elicer/FIshing_vessel-1/resized_imgdata/105. 타망 조업.jpg -> /home/elicer/FIshing_vessel-1/categorized_imgdata/조업/105. 타망 조업.jpg\n",
      "이미지 이동 완료: /home/elicer/FIshing_vessel-1/resized_imgdata/106. 범장망 이동.jpg -> /home/elicer/FIshing_vessel-1/categorized_imgdata/이동/106. 범장망 이동.jpg\n",
      "이미지 이동 완료: /home/elicer/FIshing_vessel-1/resized_imgdata/106. 범장망 표류.jpg -> /home/elicer/FIshing_vessel-1/categorized_imgdata/표류/106. 범장망 표류.jpg\n",
      "이미지 이동 완료: /home/elicer/FIshing_vessel-1/resized_imgdata/106. 유망 표류.jpg -> /home/elicer/FIshing_vessel-1/categorized_imgdata/표류/106. 유망 표류.jpg\n",
      "이미지 이동 완료: /home/elicer/FIshing_vessel-1/resized_imgdata/106. 타망 조업.jpg -> /home/elicer/FIshing_vessel-1/categorized_imgdata/조업/106. 타망 조업.jpg\n",
      "이미지 이동 완료: /home/elicer/FIshing_vessel-1/resized_imgdata/106. 타망 표류.jpg -> /home/elicer/FIshing_vessel-1/categorized_imgdata/표류/106. 타망 표류.jpg\n",
      "이미지 이동 완료: /home/elicer/FIshing_vessel-1/resized_imgdata/107 타망 이동.jpg -> /home/elicer/FIshing_vessel-1/categorized_imgdata/이동/107 타망 이동.jpg\n",
      "이미지 이동 완료: /home/elicer/FIshing_vessel-1/resized_imgdata/107. 범장망 이동.jpg -> /home/elicer/FIshing_vessel-1/categorized_imgdata/이동/107. 범장망 이동.jpg\n",
      "이미지 이동 완료: /home/elicer/FIshing_vessel-1/resized_imgdata/107. 유망 표류.jpg -> /home/elicer/FIshing_vessel-1/categorized_imgdata/표류/107. 유망 표류.jpg\n",
      "이미지 이동 완료: /home/elicer/FIshing_vessel-1/resized_imgdata/107. 타망 조업.jpg -> /home/elicer/FIshing_vessel-1/categorized_imgdata/조업/107. 타망 조업.jpg\n",
      "이미지 이동 완료: /home/elicer/FIshing_vessel-1/resized_imgdata/107. 범장망 표류.jpg -> /home/elicer/FIshing_vessel-1/categorized_imgdata/표류/107. 범장망 표류.jpg\n",
      "이미지 이동 완료: /home/elicer/FIshing_vessel-1/resized_imgdata/107. 타망 표류.jpg -> /home/elicer/FIshing_vessel-1/categorized_imgdata/표류/107. 타망 표류.jpg\n",
      "이미지 이동 완료: /home/elicer/FIshing_vessel-1/resized_imgdata/108 타망 이동.jpg -> /home/elicer/FIshing_vessel-1/categorized_imgdata/이동/108 타망 이동.jpg\n",
      "이미지 이동 완료: /home/elicer/FIshing_vessel-1/resized_imgdata/108. 범장망 이동.jpg -> /home/elicer/FIshing_vessel-1/categorized_imgdata/이동/108. 범장망 이동.jpg\n",
      "이미지 이동 완료: /home/elicer/FIshing_vessel-1/resized_imgdata/108. 범장망 표류.jpg -> /home/elicer/FIshing_vessel-1/categorized_imgdata/표류/108. 범장망 표류.jpg\n",
      "이미지 이동 완료: /home/elicer/FIshing_vessel-1/resized_imgdata/108. 유망 표류.jpg -> /home/elicer/FIshing_vessel-1/categorized_imgdata/표류/108. 유망 표류.jpg\n",
      "이미지 이동 완료: /home/elicer/FIshing_vessel-1/resized_imgdata/108. 타망 조업.jpg -> /home/elicer/FIshing_vessel-1/categorized_imgdata/조업/108. 타망 조업.jpg\n",
      "이미지 이동 완료: /home/elicer/FIshing_vessel-1/resized_imgdata/108. 타망 표류.jpg -> /home/elicer/FIshing_vessel-1/categorized_imgdata/표류/108. 타망 표류.jpg\n",
      "이미지 이동 완료: /home/elicer/FIshing_vessel-1/resized_imgdata/109 타망 이동.jpg -> /home/elicer/FIshing_vessel-1/categorized_imgdata/이동/109 타망 이동.jpg\n",
      "이미지 이동 완료: /home/elicer/FIshing_vessel-1/resized_imgdata/109. 범장망 이동.jpg -> /home/elicer/FIshing_vessel-1/categorized_imgdata/이동/109. 범장망 이동.jpg\n",
      "이미지 이동 완료: /home/elicer/FIshing_vessel-1/resized_imgdata/109. 유망 표류.jpg -> /home/elicer/FIshing_vessel-1/categorized_imgdata/표류/109. 유망 표류.jpg\n",
      "이미지 이동 완료: /home/elicer/FIshing_vessel-1/resized_imgdata/109. 범장망 표류.jpg -> /home/elicer/FIshing_vessel-1/categorized_imgdata/표류/109. 범장망 표류.jpg\n",
      "이미지 이동 완료: /home/elicer/FIshing_vessel-1/resized_imgdata/109. 타망 조업.jpg -> /home/elicer/FIshing_vessel-1/categorized_imgdata/조업/109. 타망 조업.jpg\n",
      "이미지 이동 완료: /home/elicer/FIshing_vessel-1/resized_imgdata/109. 타망 표류.jpg -> /home/elicer/FIshing_vessel-1/categorized_imgdata/표류/109. 타망 표류.jpg\n",
      "이미지 이동 완료: /home/elicer/FIshing_vessel-1/resized_imgdata/11. 낚시어선 이동.jpg -> /home/elicer/FIshing_vessel-1/categorized_imgdata/이동/11. 낚시어선 이동.jpg\n",
      "이미지 이동 완료: /home/elicer/FIshing_vessel-1/resized_imgdata/11. 낚시어선 조업.jpg -> /home/elicer/FIshing_vessel-1/categorized_imgdata/조업/11. 낚시어선 조업.jpg\n",
      "이미지 이동 완료: /home/elicer/FIshing_vessel-1/resized_imgdata/11. 등광조망 이동.jpg -> /home/elicer/FIshing_vessel-1/categorized_imgdata/이동/11. 등광조망 이동.jpg\n",
      "이미지 이동 완료: /home/elicer/FIshing_vessel-1/resized_imgdata/11. 등광조망 조업.jpg -> /home/elicer/FIshing_vessel-1/categorized_imgdata/조업/11. 등광조망 조업.jpg\n",
      "이미지 이동 완료: /home/elicer/FIshing_vessel-1/resized_imgdata/11. 등광조망 표류.jpg -> /home/elicer/FIshing_vessel-1/categorized_imgdata/표류/11. 등광조망 표류.jpg\n",
      "이미지 이동 완료: /home/elicer/FIshing_vessel-1/resized_imgdata/11. 범장망 이동.jpg -> /home/elicer/FIshing_vessel-1/categorized_imgdata/이동/11. 범장망 이동.jpg\n",
      "이미지 이동 완료: /home/elicer/FIshing_vessel-1/resized_imgdata/11. 범장망 조업.jpg -> /home/elicer/FIshing_vessel-1/categorized_imgdata/조업/11. 범장망 조업.jpg\n",
      "이미지 이동 완료: /home/elicer/FIshing_vessel-1/resized_imgdata/11. 범장망 표류.jpg -> /home/elicer/FIshing_vessel-1/categorized_imgdata/표류/11. 범장망 표류.jpg\n",
      "이미지 이동 완료: /home/elicer/FIshing_vessel-1/resized_imgdata/11. 안강망 이동.jpg -> /home/elicer/FIshing_vessel-1/categorized_imgdata/이동/11. 안강망 이동.jpg\n",
      "이미지 이동 완료: /home/elicer/FIshing_vessel-1/resized_imgdata/11. 안강망 조업.jpg -> /home/elicer/FIshing_vessel-1/categorized_imgdata/조업/11. 안강망 조업.jpg\n",
      "이미지 이동 완료: /home/elicer/FIshing_vessel-1/resized_imgdata/11. 연승 이동.jpg -> /home/elicer/FIshing_vessel-1/categorized_imgdata/이동/11. 연승 이동.jpg\n",
      "이미지 이동 완료: /home/elicer/FIshing_vessel-1/resized_imgdata/11. 유망 이동.jpg -> /home/elicer/FIshing_vessel-1/categorized_imgdata/이동/11. 유망 이동.jpg\n",
      "이미지 이동 완료: /home/elicer/FIshing_vessel-1/resized_imgdata/11. 연승 표류.jpg -> /home/elicer/FIshing_vessel-1/categorized_imgdata/표류/11. 연승 표류.jpg\n",
      "이미지 이동 완료: /home/elicer/FIshing_vessel-1/resized_imgdata/11. 유망 표류.jpg -> /home/elicer/FIshing_vessel-1/categorized_imgdata/표류/11. 유망 표류.jpg\n",
      "이미지 이동 완료: /home/elicer/FIshing_vessel-1/resized_imgdata/11. 유망 조업.jpg -> /home/elicer/FIshing_vessel-1/categorized_imgdata/조업/11. 유망 조업.jpg\n",
      "이미지 이동 완료: /home/elicer/FIshing_vessel-1/resized_imgdata/11. 저인망 이동.jpg -> /home/elicer/FIshing_vessel-1/categorized_imgdata/이동/11. 저인망 이동.jpg\n",
      "이미지 이동 완료: /home/elicer/FIshing_vessel-1/resized_imgdata/11. 저인망 조업.jpg -> /home/elicer/FIshing_vessel-1/categorized_imgdata/조업/11. 저인망 조업.jpg\n",
      "이미지 이동 완료: /home/elicer/FIshing_vessel-1/resized_imgdata/11. 채낚기 이동.jpg -> /home/elicer/FIshing_vessel-1/categorized_imgdata/이동/11. 채낚기 이동.jpg\n",
      "이미지 이동 완료: /home/elicer/FIshing_vessel-1/resized_imgdata/11. 채낚기 표류.jpg -> /home/elicer/FIshing_vessel-1/categorized_imgdata/표류/11. 채낚기 표류.jpg\n",
      "이미지 이동 완료: /home/elicer/FIshing_vessel-1/resized_imgdata/11. 타망 이동.jpg -> /home/elicer/FIshing_vessel-1/categorized_imgdata/이동/11. 타망 이동.jpg\n",
      "이미지 이동 완료: /home/elicer/FIshing_vessel-1/resized_imgdata/11. 타망 조업.jpg -> /home/elicer/FIshing_vessel-1/categorized_imgdata/조업/11. 타망 조업.jpg\n",
      "이미지 이동 완료: /home/elicer/FIshing_vessel-1/resized_imgdata/11. 타망 표류.jpg -> /home/elicer/FIshing_vessel-1/categorized_imgdata/표류/11. 타망 표류.jpg\n",
      "이미지 이동 완료: /home/elicer/FIshing_vessel-1/resized_imgdata/11. 통발 이동.jpg -> /home/elicer/FIshing_vessel-1/categorized_imgdata/이동/11. 통발 이동.jpg\n",
      "이미지 이동 완료: /home/elicer/FIshing_vessel-1/resized_imgdata/11. 통발 표류.jpg -> /home/elicer/FIshing_vessel-1/categorized_imgdata/표류/11. 통발 표류.jpg\n",
      "이미지 이동 완료: /home/elicer/FIshing_vessel-1/resized_imgdata/110 타망 이동.jpg -> /home/elicer/FIshing_vessel-1/categorized_imgdata/이동/110 타망 이동.jpg\n",
      "이미지 이동 완료: /home/elicer/FIshing_vessel-1/resized_imgdata/110. 범장망 이동.jpg -> /home/elicer/FIshing_vessel-1/categorized_imgdata/이동/110. 범장망 이동.jpg\n",
      "이미지 이동 완료: /home/elicer/FIshing_vessel-1/resized_imgdata/110. 범장망 표류.jpg -> /home/elicer/FIshing_vessel-1/categorized_imgdata/표류/110. 범장망 표류.jpg\n",
      "이미지 이동 완료: /home/elicer/FIshing_vessel-1/resized_imgdata/110. 유망 표류.jpg -> /home/elicer/FIshing_vessel-1/categorized_imgdata/표류/110. 유망 표류.jpg\n",
      "이미지 이동 완료: /home/elicer/FIshing_vessel-1/resized_imgdata/110. 타망 조업.jpg -> /home/elicer/FIshing_vessel-1/categorized_imgdata/조업/110. 타망 조업.jpg\n",
      "이미지 이동 완료: /home/elicer/FIshing_vessel-1/resized_imgdata/110. 타망 표류.jpg -> /home/elicer/FIshing_vessel-1/categorized_imgdata/표류/110. 타망 표류.jpg\n",
      "이미지 이동 완료: /home/elicer/FIshing_vessel-1/resized_imgdata/111 타망 이동.jpg -> /home/elicer/FIshing_vessel-1/categorized_imgdata/이동/111 타망 이동.jpg\n",
      "이미지 이동 완료: /home/elicer/FIshing_vessel-1/resized_imgdata/111. 범장망 이동.jpg -> /home/elicer/FIshing_vessel-1/categorized_imgdata/이동/111. 범장망 이동.jpg\n",
      "이미지 이동 완료: /home/elicer/FIshing_vessel-1/resized_imgdata/111. 범장망 표류.jpg -> /home/elicer/FIshing_vessel-1/categorized_imgdata/표류/111. 범장망 표류.jpg\n",
      "이미지 이동 완료: /home/elicer/FIshing_vessel-1/resized_imgdata/111. 유망 표류.jpg -> /home/elicer/FIshing_vessel-1/categorized_imgdata/표류/111. 유망 표류.jpg\n",
      "이미지 이동 완료: /home/elicer/FIshing_vessel-1/resized_imgdata/111. 타망 조업.jpg -> /home/elicer/FIshing_vessel-1/categorized_imgdata/조업/111. 타망 조업.jpg\n",
      "이미지 이동 완료: /home/elicer/FIshing_vessel-1/resized_imgdata/111. 타망 표류.jpg -> /home/elicer/FIshing_vessel-1/categorized_imgdata/표류/111. 타망 표류.jpg\n",
      "이미지 이동 완료: /home/elicer/FIshing_vessel-1/resized_imgdata/112 타망 이동.jpg -> /home/elicer/FIshing_vessel-1/categorized_imgdata/이동/112 타망 이동.jpg\n",
      "이미지 이동 완료: /home/elicer/FIshing_vessel-1/resized_imgdata/112. 범장망 이동.jpg -> /home/elicer/FIshing_vessel-1/categorized_imgdata/이동/112. 범장망 이동.jpg\n",
      "이미지 이동 완료: /home/elicer/FIshing_vessel-1/resized_imgdata/112. 범장망 표류.jpg -> /home/elicer/FIshing_vessel-1/categorized_imgdata/표류/112. 범장망 표류.jpg\n",
      "이미지 이동 완료: /home/elicer/FIshing_vessel-1/resized_imgdata/112. 유망 표류.jpg -> /home/elicer/FIshing_vessel-1/categorized_imgdata/표류/112. 유망 표류.jpg\n",
      "이미지 이동 완료: /home/elicer/FIshing_vessel-1/resized_imgdata/112. 타망 조업.jpg -> /home/elicer/FIshing_vessel-1/categorized_imgdata/조업/112. 타망 조업.jpg\n",
      "이미지 이동 완료: /home/elicer/FIshing_vessel-1/resized_imgdata/112. 타망 표류.jpg -> /home/elicer/FIshing_vessel-1/categorized_imgdata/표류/112. 타망 표류.jpg\n",
      "이미지 이동 완료: /home/elicer/FIshing_vessel-1/resized_imgdata/113 타망 이동.jpg -> /home/elicer/FIshing_vessel-1/categorized_imgdata/이동/113 타망 이동.jpg\n",
      "이미지 이동 완료: /home/elicer/FIshing_vessel-1/resized_imgdata/113. 범장망 이동.jpg -> /home/elicer/FIshing_vessel-1/categorized_imgdata/이동/113. 범장망 이동.jpg\n",
      "이미지 이동 완료: /home/elicer/FIshing_vessel-1/resized_imgdata/113. 범장망 표류.jpg -> /home/elicer/FIshing_vessel-1/categorized_imgdata/표류/113. 범장망 표류.jpg\n",
      "이미지 이동 완료: /home/elicer/FIshing_vessel-1/resized_imgdata/113. 유망 표류.jpg -> /home/elicer/FIshing_vessel-1/categorized_imgdata/표류/113. 유망 표류.jpg\n",
      "이미지 이동 완료: /home/elicer/FIshing_vessel-1/resized_imgdata/113. 타망 표류.jpg -> /home/elicer/FIshing_vessel-1/categorized_imgdata/표류/113. 타망 표류.jpg\n",
      "이미지 이동 완료: /home/elicer/FIshing_vessel-1/resized_imgdata/113. 타망 조업.jpg -> /home/elicer/FIshing_vessel-1/categorized_imgdata/조업/113. 타망 조업.jpg\n",
      "이미지 이동 완료: /home/elicer/FIshing_vessel-1/resized_imgdata/114 타망 이동.jpg -> /home/elicer/FIshing_vessel-1/categorized_imgdata/이동/114 타망 이동.jpg\n",
      "이미지 이동 완료: /home/elicer/FIshing_vessel-1/resized_imgdata/114. 범장망 표류.jpg -> /home/elicer/FIshing_vessel-1/categorized_imgdata/표류/114. 범장망 표류.jpg\n",
      "이미지 이동 완료: /home/elicer/FIshing_vessel-1/resized_imgdata/114. 유망 표류.jpg -> /home/elicer/FIshing_vessel-1/categorized_imgdata/표류/114. 유망 표류.jpg\n",
      "이미지 이동 완료: /home/elicer/FIshing_vessel-1/resized_imgdata/114. 타망 조업.jpg -> /home/elicer/FIshing_vessel-1/categorized_imgdata/조업/114. 타망 조업.jpg\n",
      "이미지 이동 완료: /home/elicer/FIshing_vessel-1/resized_imgdata/114. 타망 표류.jpg -> /home/elicer/FIshing_vessel-1/categorized_imgdata/표류/114. 타망 표류.jpg\n",
      "이미지 이동 완료: /home/elicer/FIshing_vessel-1/resized_imgdata/115 타망 이동.jpg -> /home/elicer/FIshing_vessel-1/categorized_imgdata/이동/115 타망 이동.jpg\n",
      "이미지 이동 완료: /home/elicer/FIshing_vessel-1/resized_imgdata/115. 범장망 표류.jpg -> /home/elicer/FIshing_vessel-1/categorized_imgdata/표류/115. 범장망 표류.jpg\n",
      "이미지 이동 완료: /home/elicer/FIshing_vessel-1/resized_imgdata/115. 유망 표류.jpg -> /home/elicer/FIshing_vessel-1/categorized_imgdata/표류/115. 유망 표류.jpg\n",
      "이미지 이동 완료: /home/elicer/FIshing_vessel-1/resized_imgdata/115. 타망 조업.jpg -> /home/elicer/FIshing_vessel-1/categorized_imgdata/조업/115. 타망 조업.jpg\n",
      "이미지 이동 완료: /home/elicer/FIshing_vessel-1/resized_imgdata/115. 타망 표류.jpg -> /home/elicer/FIshing_vessel-1/categorized_imgdata/표류/115. 타망 표류.jpg\n",
      "이미지 이동 완료: /home/elicer/FIshing_vessel-1/resized_imgdata/116 타망 이동.jpg -> /home/elicer/FIshing_vessel-1/categorized_imgdata/이동/116 타망 이동.jpg\n",
      "이미지 이동 완료: /home/elicer/FIshing_vessel-1/resized_imgdata/116. 유망 표류.jpg -> /home/elicer/FIshing_vessel-1/categorized_imgdata/표류/116. 유망 표류.jpg\n",
      "이미지 이동 완료: /home/elicer/FIshing_vessel-1/resized_imgdata/116. 타망 조업.jpg -> /home/elicer/FIshing_vessel-1/categorized_imgdata/조업/116. 타망 조업.jpg\n",
      "이미지 이동 완료: /home/elicer/FIshing_vessel-1/resized_imgdata/116. 타망 표류.jpg -> /home/elicer/FIshing_vessel-1/categorized_imgdata/표류/116. 타망 표류.jpg\n",
      "이미지 이동 완료: /home/elicer/FIshing_vessel-1/resized_imgdata/116.. 범장망 표류.jpg -> /home/elicer/FIshing_vessel-1/categorized_imgdata/표류/116.. 범장망 표류.jpg\n",
      "이미지 이동 완료: /home/elicer/FIshing_vessel-1/resized_imgdata/117 타망 이동.jpg -> /home/elicer/FIshing_vessel-1/categorized_imgdata/이동/117 타망 이동.jpg\n",
      "이미지 이동 완료: /home/elicer/FIshing_vessel-1/resized_imgdata/117. 범장망 표류.jpg -> /home/elicer/FIshing_vessel-1/categorized_imgdata/표류/117. 범장망 표류.jpg\n",
      "이미지 이동 완료: /home/elicer/FIshing_vessel-1/resized_imgdata/117. 타망 조업.jpg -> /home/elicer/FIshing_vessel-1/categorized_imgdata/조업/117. 타망 조업.jpg\n",
      "이미지 이동 완료: /home/elicer/FIshing_vessel-1/resized_imgdata/117. 유망 표류.jpg -> /home/elicer/FIshing_vessel-1/categorized_imgdata/표류/117. 유망 표류.jpg\n",
      "이미지 이동 완료: /home/elicer/FIshing_vessel-1/resized_imgdata/118 타망 이동.jpg -> /home/elicer/FIshing_vessel-1/categorized_imgdata/이동/118 타망 이동.jpg\n",
      "이미지 이동 완료: /home/elicer/FIshing_vessel-1/resized_imgdata/117. 타망 표류.jpg -> /home/elicer/FIshing_vessel-1/categorized_imgdata/표류/117. 타망 표류.jpg\n",
      "이미지 이동 완료: /home/elicer/FIshing_vessel-1/resized_imgdata/118. 유망 표류.jpg -> /home/elicer/FIshing_vessel-1/categorized_imgdata/표류/118. 유망 표류.jpg\n",
      "이미지 이동 완료: /home/elicer/FIshing_vessel-1/resized_imgdata/118. 범장망 표류.jpg -> /home/elicer/FIshing_vessel-1/categorized_imgdata/표류/118. 범장망 표류.jpg\n",
      "이미지 이동 완료: /home/elicer/FIshing_vessel-1/resized_imgdata/118. 타망 조업.jpg -> /home/elicer/FIshing_vessel-1/categorized_imgdata/조업/118. 타망 조업.jpg\n",
      "이미지 이동 완료: /home/elicer/FIshing_vessel-1/resized_imgdata/118. 타망 표류.jpg -> /home/elicer/FIshing_vessel-1/categorized_imgdata/표류/118. 타망 표류.jpg\n",
      "이미지 이동 완료: /home/elicer/FIshing_vessel-1/resized_imgdata/119 타망 이동.jpg -> /home/elicer/FIshing_vessel-1/categorized_imgdata/이동/119 타망 이동.jpg\n",
      "이미지 이동 완료: /home/elicer/FIshing_vessel-1/resized_imgdata/119. 범장망 표류.jpg -> /home/elicer/FIshing_vessel-1/categorized_imgdata/표류/119. 범장망 표류.jpg\n",
      "이미지 이동 완료: /home/elicer/FIshing_vessel-1/resized_imgdata/119. 유망 표류.jpg -> /home/elicer/FIshing_vessel-1/categorized_imgdata/표류/119. 유망 표류.jpg\n",
      "이미지 이동 완료: /home/elicer/FIshing_vessel-1/resized_imgdata/119. 타망 표류.jpg -> /home/elicer/FIshing_vessel-1/categorized_imgdata/표류/119. 타망 표류.jpg\n",
      "이미지 이동 완료: /home/elicer/FIshing_vessel-1/resized_imgdata/12 등광조망 조업.jpg -> /home/elicer/FIshing_vessel-1/categorized_imgdata/조업/12 등광조망 조업.jpg\n",
      "이미지 이동 완료: /home/elicer/FIshing_vessel-1/resized_imgdata/12. 낚시어선 조업.jpg -> /home/elicer/FIshing_vessel-1/categorized_imgdata/조업/12. 낚시어선 조업.jpg\n",
      "이미지 이동 완료: /home/elicer/FIshing_vessel-1/resized_imgdata/12. 등광조망 이동.jpg -> /home/elicer/FIshing_vessel-1/categorized_imgdata/이동/12. 등광조망 이동.jpg\n",
      "이미지 이동 완료: /home/elicer/FIshing_vessel-1/resized_imgdata/12. 등광조망 표류.jpg -> /home/elicer/FIshing_vessel-1/categorized_imgdata/표류/12. 등광조망 표류.jpg\n",
      "이미지 이동 완료: /home/elicer/FIshing_vessel-1/resized_imgdata/12. 범장망 이동.jpg -> /home/elicer/FIshing_vessel-1/categorized_imgdata/이동/12. 범장망 이동.jpg\n",
      "이미지 이동 완료: /home/elicer/FIshing_vessel-1/resized_imgdata/12. 범장망 조업.jpg -> /home/elicer/FIshing_vessel-1/categorized_imgdata/조업/12. 범장망 조업.jpg\n",
      "이미지 이동 완료: /home/elicer/FIshing_vessel-1/resized_imgdata/12. 범장망 표류.jpg -> /home/elicer/FIshing_vessel-1/categorized_imgdata/표류/12. 범장망 표류.jpg\n",
      "이미지 이동 완료: /home/elicer/FIshing_vessel-1/resized_imgdata/12. 안강망 이동.jpg -> /home/elicer/FIshing_vessel-1/categorized_imgdata/이동/12. 안강망 이동.jpg\n",
      "이미지 이동 완료: /home/elicer/FIshing_vessel-1/resized_imgdata/12. 안강망 조업.jpg -> /home/elicer/FIshing_vessel-1/categorized_imgdata/조업/12. 안강망 조업.jpg\n",
      "이미지 이동 완료: /home/elicer/FIshing_vessel-1/resized_imgdata/12. 안강망 표류.jpg -> /home/elicer/FIshing_vessel-1/categorized_imgdata/표류/12. 안강망 표류.jpg\n",
      "이미지 이동 완료: /home/elicer/FIshing_vessel-1/resized_imgdata/12. 연승 이동.jpg -> /home/elicer/FIshing_vessel-1/categorized_imgdata/이동/12. 연승 이동.jpg\n",
      "이미지 이동 완료: /home/elicer/FIshing_vessel-1/resized_imgdata/12. 연승 표류.jpg -> /home/elicer/FIshing_vessel-1/categorized_imgdata/표류/12. 연승 표류.jpg\n",
      "이미지 이동 완료: /home/elicer/FIshing_vessel-1/resized_imgdata/12. 유망 이동.jpg -> /home/elicer/FIshing_vessel-1/categorized_imgdata/이동/12. 유망 이동.jpg\n",
      "이미지 이동 완료: /home/elicer/FIshing_vessel-1/resized_imgdata/12. 유망 조업.jpg -> /home/elicer/FIshing_vessel-1/categorized_imgdata/조업/12. 유망 조업.jpg\n",
      "이미지 이동 완료: /home/elicer/FIshing_vessel-1/resized_imgdata/12. 유망 표류.jpg -> /home/elicer/FIshing_vessel-1/categorized_imgdata/표류/12. 유망 표류.jpg\n",
      "이미지 이동 완료: /home/elicer/FIshing_vessel-1/resized_imgdata/12. 저인망 이동.jpg -> /home/elicer/FIshing_vessel-1/categorized_imgdata/이동/12. 저인망 이동.jpg\n",
      "이미지 이동 완료: /home/elicer/FIshing_vessel-1/resized_imgdata/12. 저인망 조업.jpg -> /home/elicer/FIshing_vessel-1/categorized_imgdata/조업/12. 저인망 조업.jpg\n",
      "이미지 이동 완료: /home/elicer/FIshing_vessel-1/resized_imgdata/12. 채낚기 이동.jpg -> /home/elicer/FIshing_vessel-1/categorized_imgdata/이동/12. 채낚기 이동.jpg\n",
      "이미지 이동 완료: /home/elicer/FIshing_vessel-1/resized_imgdata/12. 타망 이동.jpg -> /home/elicer/FIshing_vessel-1/categorized_imgdata/이동/12. 타망 이동.jpg\n",
      "이미지 이동 완료: /home/elicer/FIshing_vessel-1/resized_imgdata/12. 타망 조업.jpg -> /home/elicer/FIshing_vessel-1/categorized_imgdata/조업/12. 타망 조업.jpg\n",
      "이미지 이동 완료: /home/elicer/FIshing_vessel-1/resized_imgdata/12. 타망 표류.jpg -> /home/elicer/FIshing_vessel-1/categorized_imgdata/표류/12. 타망 표류.jpg\n",
      "이미지 이동 완료: /home/elicer/FIshing_vessel-1/resized_imgdata/12. 통발 이동.jpg -> /home/elicer/FIshing_vessel-1/categorized_imgdata/이동/12. 통발 이동.jpg\n",
      "이미지 이동 완료: /home/elicer/FIshing_vessel-1/resized_imgdata/120 타망 이동.jpg -> /home/elicer/FIshing_vessel-1/categorized_imgdata/이동/120 타망 이동.jpg\n",
      "이미지 이동 완료: /home/elicer/FIshing_vessel-1/resized_imgdata/120. 범장망 표류.jpg -> /home/elicer/FIshing_vessel-1/categorized_imgdata/표류/120. 범장망 표류.jpg\n",
      "이미지 이동 완료: /home/elicer/FIshing_vessel-1/resized_imgdata/120. 유망 표류.jpg -> /home/elicer/FIshing_vessel-1/categorized_imgdata/표류/120. 유망 표류.jpg\n",
      "이미지 이동 완료: /home/elicer/FIshing_vessel-1/resized_imgdata/120. 타망 조업.jpg -> /home/elicer/FIshing_vessel-1/categorized_imgdata/조업/120. 타망 조업.jpg\n",
      "이미지 이동 완료: /home/elicer/FIshing_vessel-1/resized_imgdata/120. 타망 표류.jpg -> /home/elicer/FIshing_vessel-1/categorized_imgdata/표류/120. 타망 표류.jpg\n",
      "이미지 이동 완료: /home/elicer/FIshing_vessel-1/resized_imgdata/121 타망 이동.jpg -> /home/elicer/FIshing_vessel-1/categorized_imgdata/이동/121 타망 이동.jpg\n",
      "이미지 이동 완료: /home/elicer/FIshing_vessel-1/resized_imgdata/121. 범장망 표류.jpg -> /home/elicer/FIshing_vessel-1/categorized_imgdata/표류/121. 범장망 표류.jpg\n",
      "이미지 이동 완료: /home/elicer/FIshing_vessel-1/resized_imgdata/121. 타망 조업.jpg -> /home/elicer/FIshing_vessel-1/categorized_imgdata/조업/121. 타망 조업.jpg\n",
      "이미지 이동 완료: /home/elicer/FIshing_vessel-1/resized_imgdata/121. 유망 표류.jpg -> /home/elicer/FIshing_vessel-1/categorized_imgdata/표류/121. 유망 표류.jpg\n",
      "이미지 이동 완료: /home/elicer/FIshing_vessel-1/resized_imgdata/121. 타망 표류.jpg -> /home/elicer/FIshing_vessel-1/categorized_imgdata/표류/121. 타망 표류.jpg\n",
      "이미지 이동 완료: /home/elicer/FIshing_vessel-1/resized_imgdata/122 타망 이동.jpg -> /home/elicer/FIshing_vessel-1/categorized_imgdata/이동/122 타망 이동.jpg\n",
      "이미지 이동 완료: /home/elicer/FIshing_vessel-1/resized_imgdata/122. 범장망 표류.jpg -> /home/elicer/FIshing_vessel-1/categorized_imgdata/표류/122. 범장망 표류.jpg\n",
      "이미지 이동 완료: /home/elicer/FIshing_vessel-1/resized_imgdata/122. 유망 표류.jpg -> /home/elicer/FIshing_vessel-1/categorized_imgdata/표류/122. 유망 표류.jpg\n",
      "이미지 이동 완료: /home/elicer/FIshing_vessel-1/resized_imgdata/122. 타망 조업.jpg -> /home/elicer/FIshing_vessel-1/categorized_imgdata/조업/122. 타망 조업.jpg\n",
      "이미지 이동 완료: /home/elicer/FIshing_vessel-1/resized_imgdata/122. 타망 표류.jpg -> /home/elicer/FIshing_vessel-1/categorized_imgdata/표류/122. 타망 표류.jpg\n",
      "이미지 이동 완료: /home/elicer/FIshing_vessel-1/resized_imgdata/123 타망 이동.jpg -> /home/elicer/FIshing_vessel-1/categorized_imgdata/이동/123 타망 이동.jpg\n",
      "이미지 이동 완료: /home/elicer/FIshing_vessel-1/resized_imgdata/123. 범장망 표류.jpg -> /home/elicer/FIshing_vessel-1/categorized_imgdata/표류/123. 범장망 표류.jpg\n",
      "이미지 이동 완료: /home/elicer/FIshing_vessel-1/resized_imgdata/123. 유망 표류.jpg -> /home/elicer/FIshing_vessel-1/categorized_imgdata/표류/123. 유망 표류.jpg\n",
      "이미지 이동 완료: /home/elicer/FIshing_vessel-1/resized_imgdata/123. 타망 조업.jpg -> /home/elicer/FIshing_vessel-1/categorized_imgdata/조업/123. 타망 조업.jpg\n",
      "이미지 이동 완료: /home/elicer/FIshing_vessel-1/resized_imgdata/123. 타망 표류.jpg -> /home/elicer/FIshing_vessel-1/categorized_imgdata/표류/123. 타망 표류.jpg\n",
      "이미지 이동 완료: /home/elicer/FIshing_vessel-1/resized_imgdata/124. 범장망 표류.jpg -> /home/elicer/FIshing_vessel-1/categorized_imgdata/표류/124. 범장망 표류.jpg\n",
      "이미지 이동 완료: /home/elicer/FIshing_vessel-1/resized_imgdata/124 타망 이동.jpg -> /home/elicer/FIshing_vessel-1/categorized_imgdata/이동/124 타망 이동.jpg\n",
      "이미지 이동 완료: /home/elicer/FIshing_vessel-1/resized_imgdata/124. 유망 표류.jpg -> /home/elicer/FIshing_vessel-1/categorized_imgdata/표류/124. 유망 표류.jpg\n",
      "이미지 이동 완료: /home/elicer/FIshing_vessel-1/resized_imgdata/124. 타망 표류.jpg -> /home/elicer/FIshing_vessel-1/categorized_imgdata/표류/124. 타망 표류.jpg\n",
      "이미지 이동 완료: /home/elicer/FIshing_vessel-1/resized_imgdata/124. 타망 조업.jpg -> /home/elicer/FIshing_vessel-1/categorized_imgdata/조업/124. 타망 조업.jpg\n",
      "이미지 이동 완료: /home/elicer/FIshing_vessel-1/resized_imgdata/125 타망 이동.jpg -> /home/elicer/FIshing_vessel-1/categorized_imgdata/이동/125 타망 이동.jpg\n",
      "이미지 이동 완료: /home/elicer/FIshing_vessel-1/resized_imgdata/125. 범장망 표류.jpg -> /home/elicer/FIshing_vessel-1/categorized_imgdata/표류/125. 범장망 표류.jpg\n",
      "이미지 이동 완료: /home/elicer/FIshing_vessel-1/resized_imgdata/125. 유망 표류.jpg -> /home/elicer/FIshing_vessel-1/categorized_imgdata/표류/125. 유망 표류.jpg\n",
      "이미지 이동 완료: /home/elicer/FIshing_vessel-1/resized_imgdata/125. 타망 조업.jpg -> /home/elicer/FIshing_vessel-1/categorized_imgdata/조업/125. 타망 조업.jpg\n",
      "이미지 이동 완료: /home/elicer/FIshing_vessel-1/resized_imgdata/125. 타망 표류.jpg -> /home/elicer/FIshing_vessel-1/categorized_imgdata/표류/125. 타망 표류.jpg\n",
      "이미지 이동 완료: /home/elicer/FIshing_vessel-1/resized_imgdata/126 타망 이동.jpg -> /home/elicer/FIshing_vessel-1/categorized_imgdata/이동/126 타망 이동.jpg\n",
      "이미지 이동 완료: /home/elicer/FIshing_vessel-1/resized_imgdata/126. 범장망 표류.jpg -> /home/elicer/FIshing_vessel-1/categorized_imgdata/표류/126. 범장망 표류.jpg\n",
      "이미지 이동 완료: /home/elicer/FIshing_vessel-1/resized_imgdata/127 타망 이동.jpg -> /home/elicer/FIshing_vessel-1/categorized_imgdata/이동/127 타망 이동.jpg\n",
      "이미지 이동 완료: /home/elicer/FIshing_vessel-1/resized_imgdata/126. 유망 표류.jpg -> /home/elicer/FIshing_vessel-1/categorized_imgdata/표류/126. 유망 표류.jpg\n",
      "이미지 이동 완료: /home/elicer/FIshing_vessel-1/resized_imgdata/127. 범장망 표류.jpg -> /home/elicer/FIshing_vessel-1/categorized_imgdata/표류/127. 범장망 표류.jpg\n",
      "이미지 이동 완료: /home/elicer/FIshing_vessel-1/resized_imgdata/126. 타망 조업.jpg -> /home/elicer/FIshing_vessel-1/categorized_imgdata/조업/126. 타망 조업.jpg\n",
      "이미지 이동 완료: /home/elicer/FIshing_vessel-1/resized_imgdata/127. 유망 표류.jpg -> /home/elicer/FIshing_vessel-1/categorized_imgdata/표류/127. 유망 표류.jpg\n",
      "이미지 이동 완료: /home/elicer/FIshing_vessel-1/resized_imgdata/127. 타망 조업.jpg -> /home/elicer/FIshing_vessel-1/categorized_imgdata/조업/127. 타망 조업.jpg\n",
      "이미지 이동 완료: /home/elicer/FIshing_vessel-1/resized_imgdata/128 타망 이동.jpg -> /home/elicer/FIshing_vessel-1/categorized_imgdata/이동/128 타망 이동.jpg\n",
      "이미지 이동 완료: /home/elicer/FIshing_vessel-1/resized_imgdata/128. 범장망 표류.jpg -> /home/elicer/FIshing_vessel-1/categorized_imgdata/표류/128. 범장망 표류.jpg\n",
      "이미지 이동 완료: /home/elicer/FIshing_vessel-1/resized_imgdata/128. 유망 표류.jpg -> /home/elicer/FIshing_vessel-1/categorized_imgdata/표류/128. 유망 표류.jpg\n",
      "이미지 이동 완료: /home/elicer/FIshing_vessel-1/resized_imgdata/128. 타망 조업.jpg -> /home/elicer/FIshing_vessel-1/categorized_imgdata/조업/128. 타망 조업.jpg\n",
      "이미지 이동 완료: /home/elicer/FIshing_vessel-1/resized_imgdata/129 타망 이동.jpg -> /home/elicer/FIshing_vessel-1/categorized_imgdata/이동/129 타망 이동.jpg\n",
      "이미지 이동 완료: /home/elicer/FIshing_vessel-1/resized_imgdata/129. 범장망 표류.jpg -> /home/elicer/FIshing_vessel-1/categorized_imgdata/표류/129. 범장망 표류.jpg\n",
      "이미지 이동 완료: /home/elicer/FIshing_vessel-1/resized_imgdata/129. 유망 표류.jpg -> /home/elicer/FIshing_vessel-1/categorized_imgdata/표류/129. 유망 표류.jpg\n",
      "이미지 이동 완료: /home/elicer/FIshing_vessel-1/resized_imgdata/129. 타망 조업.jpg -> /home/elicer/FIshing_vessel-1/categorized_imgdata/조업/129. 타망 조업.jpg\n",
      "이미지 이동 완료: /home/elicer/FIshing_vessel-1/resized_imgdata/13. 낚시어선 이동.jpg -> /home/elicer/FIshing_vessel-1/categorized_imgdata/이동/13. 낚시어선 이동.jpg\n",
      "이미지 이동 완료: /home/elicer/FIshing_vessel-1/resized_imgdata/13. 낚시어선 조업.jpg -> /home/elicer/FIshing_vessel-1/categorized_imgdata/조업/13. 낚시어선 조업.jpg\n",
      "이미지 이동 완료: /home/elicer/FIshing_vessel-1/resized_imgdata/13. 등광조망 이동.jpg -> /home/elicer/FIshing_vessel-1/categorized_imgdata/이동/13. 등광조망 이동.jpg\n",
      "이미지 이동 완료: /home/elicer/FIshing_vessel-1/resized_imgdata/13. 범장망 표류.jpg -> /home/elicer/FIshing_vessel-1/categorized_imgdata/표류/13. 범장망 표류.jpg\n",
      "이미지 이동 완료: /home/elicer/FIshing_vessel-1/resized_imgdata/13. 범장망 이동.jpg -> /home/elicer/FIshing_vessel-1/categorized_imgdata/이동/13. 범장망 이동.jpg\n",
      "이미지 이동 완료: /home/elicer/FIshing_vessel-1/resized_imgdata/13. 등광조망 조업.jpg -> /home/elicer/FIshing_vessel-1/categorized_imgdata/조업/13. 등광조망 조업.jpg\n",
      "이미지 이동 완료: /home/elicer/FIshing_vessel-1/resized_imgdata/13. 범장망 조업.jpg -> /home/elicer/FIshing_vessel-1/categorized_imgdata/조업/13. 범장망 조업.jpg\n",
      "이미지 이동 완료: /home/elicer/FIshing_vessel-1/resized_imgdata/13. 안강망 이동.jpg -> /home/elicer/FIshing_vessel-1/categorized_imgdata/이동/13. 안강망 이동.jpg\n",
      "이미지 이동 완료: /home/elicer/FIshing_vessel-1/resized_imgdata/13. 안강망 조업.jpg -> /home/elicer/FIshing_vessel-1/categorized_imgdata/조업/13. 안강망 조업.jpg\n",
      "이미지 이동 완료: /home/elicer/FIshing_vessel-1/resized_imgdata/13. 안강망 표류.jpg -> /home/elicer/FIshing_vessel-1/categorized_imgdata/표류/13. 안강망 표류.jpg\n",
      "이미지 이동 완료: /home/elicer/FIshing_vessel-1/resized_imgdata/13. 연승 이동.jpg -> /home/elicer/FIshing_vessel-1/categorized_imgdata/이동/13. 연승 이동.jpg\n",
      "이미지 이동 완료: /home/elicer/FIshing_vessel-1/resized_imgdata/13. 연승 표류.jpg -> /home/elicer/FIshing_vessel-1/categorized_imgdata/표류/13. 연승 표류.jpg\n",
      "이미지 이동 완료: /home/elicer/FIshing_vessel-1/resized_imgdata/13. 유망 이동.jpg -> /home/elicer/FIshing_vessel-1/categorized_imgdata/이동/13. 유망 이동.jpg\n",
      "이미지 이동 완료: /home/elicer/FIshing_vessel-1/resized_imgdata/13. 유망 표류.jpg -> /home/elicer/FIshing_vessel-1/categorized_imgdata/표류/13. 유망 표류.jpg\n",
      "이미지 이동 완료: /home/elicer/FIshing_vessel-1/resized_imgdata/13. 유망 조업.jpg -> /home/elicer/FIshing_vessel-1/categorized_imgdata/조업/13. 유망 조업.jpg\n",
      "이미지 이동 완료: /home/elicer/FIshing_vessel-1/resized_imgdata/13. 저인망 이동.jpg -> /home/elicer/FIshing_vessel-1/categorized_imgdata/이동/13. 저인망 이동.jpg\n",
      "이미지 이동 완료: /home/elicer/FIshing_vessel-1/resized_imgdata/13. 저인망 조업.jpg -> /home/elicer/FIshing_vessel-1/categorized_imgdata/조업/13. 저인망 조업.jpg\n",
      "이미지 이동 완료: /home/elicer/FIshing_vessel-1/resized_imgdata/13. 채낚기 표류.jpg -> /home/elicer/FIshing_vessel-1/categorized_imgdata/표류/13. 채낚기 표류.jpg\n",
      "이미지 이동 완료: /home/elicer/FIshing_vessel-1/resized_imgdata/13. 채낚기 이동.jpg -> /home/elicer/FIshing_vessel-1/categorized_imgdata/이동/13. 채낚기 이동.jpg\n",
      "이미지 이동 완료: /home/elicer/FIshing_vessel-1/resized_imgdata/13. 타망 이동.jpg -> /home/elicer/FIshing_vessel-1/categorized_imgdata/이동/13. 타망 이동.jpg\n",
      "이미지 이동 완료: /home/elicer/FIshing_vessel-1/resized_imgdata/13. 타망 조업.jpg -> /home/elicer/FIshing_vessel-1/categorized_imgdata/조업/13. 타망 조업.jpg\n",
      "이미지 이동 완료: /home/elicer/FIshing_vessel-1/resized_imgdata/130 타망 이동.png -> /home/elicer/FIshing_vessel-1/categorized_imgdata/이동/130 타망 이동.png\n",
      "이미지 이동 완료: /home/elicer/FIshing_vessel-1/resized_imgdata/13. 타망 표류.jpg -> /home/elicer/FIshing_vessel-1/categorized_imgdata/표류/13. 타망 표류.jpg\n",
      "이미지 이동 완료: /home/elicer/FIshing_vessel-1/resized_imgdata/13. 통발 이동.jpg -> /home/elicer/FIshing_vessel-1/categorized_imgdata/이동/13. 통발 이동.jpg\n",
      "이미지 이동 완료: /home/elicer/FIshing_vessel-1/resized_imgdata/130. 범장망 표류.jpg -> /home/elicer/FIshing_vessel-1/categorized_imgdata/표류/130. 범장망 표류.jpg\n",
      "이미지 이동 완료: /home/elicer/FIshing_vessel-1/resized_imgdata/131. 범장망 표류.jpg -> /home/elicer/FIshing_vessel-1/categorized_imgdata/표류/131. 범장망 표류.jpg\n",
      "이미지 이동 완료: /home/elicer/FIshing_vessel-1/resized_imgdata/130. 타망 조업.jpg -> /home/elicer/FIshing_vessel-1/categorized_imgdata/조업/130. 타망 조업.jpg\n",
      "이미지 이동 완료: /home/elicer/FIshing_vessel-1/resized_imgdata/131. 타망 이동.jpg -> /home/elicer/FIshing_vessel-1/categorized_imgdata/이동/131. 타망 이동.jpg\n",
      "이미지 이동 완료: /home/elicer/FIshing_vessel-1/resized_imgdata/131. 타망 조업.jpg -> /home/elicer/FIshing_vessel-1/categorized_imgdata/조업/131. 타망 조업.jpg\n",
      "이미지 이동 완료: /home/elicer/FIshing_vessel-1/resized_imgdata/132. 범장망 표류.jpg -> /home/elicer/FIshing_vessel-1/categorized_imgdata/표류/132. 범장망 표류.jpg\n",
      "이미지 이동 완료: /home/elicer/FIshing_vessel-1/resized_imgdata/132. 타망 이동.jpg -> /home/elicer/FIshing_vessel-1/categorized_imgdata/이동/132. 타망 이동.jpg\n",
      "이미지 이동 완료: /home/elicer/FIshing_vessel-1/resized_imgdata/132. 타망 조업.jpg -> /home/elicer/FIshing_vessel-1/categorized_imgdata/조업/132. 타망 조업.jpg\n",
      "이미지 이동 완료: /home/elicer/FIshing_vessel-1/resized_imgdata/133. 범장망 표류.jpg -> /home/elicer/FIshing_vessel-1/categorized_imgdata/표류/133. 범장망 표류.jpg\n",
      "이미지 이동 완료: /home/elicer/FIshing_vessel-1/resized_imgdata/133. 타망 조업.jpg -> /home/elicer/FIshing_vessel-1/categorized_imgdata/조업/133. 타망 조업.jpg\n",
      "이미지 이동 완료: /home/elicer/FIshing_vessel-1/resized_imgdata/133. 타망 이동.jpg -> /home/elicer/FIshing_vessel-1/categorized_imgdata/이동/133. 타망 이동.jpg\n",
      "이미지 이동 완료: /home/elicer/FIshing_vessel-1/resized_imgdata/134. 범장망 표류.jpg -> /home/elicer/FIshing_vessel-1/categorized_imgdata/표류/134. 범장망 표류.jpg\n",
      "이미지 이동 완료: /home/elicer/FIshing_vessel-1/resized_imgdata/134. 타망 이동.jpg -> /home/elicer/FIshing_vessel-1/categorized_imgdata/이동/134. 타망 이동.jpg\n",
      "이미지 이동 완료: /home/elicer/FIshing_vessel-1/resized_imgdata/135. 범장망 표류.jpg -> /home/elicer/FIshing_vessel-1/categorized_imgdata/표류/135. 범장망 표류.jpg\n",
      "이미지 이동 완료: /home/elicer/FIshing_vessel-1/resized_imgdata/135. 타망 이동.jpg -> /home/elicer/FIshing_vessel-1/categorized_imgdata/이동/135. 타망 이동.jpg\n",
      "이미지 이동 완료: /home/elicer/FIshing_vessel-1/resized_imgdata/136. 범장망 표류.jpg -> /home/elicer/FIshing_vessel-1/categorized_imgdata/표류/136. 범장망 표류.jpg\n",
      "이미지 이동 완료: /home/elicer/FIshing_vessel-1/resized_imgdata/137. 타망 이동.jpg -> /home/elicer/FIshing_vessel-1/categorized_imgdata/이동/137. 타망 이동.jpg\n",
      "이미지 이동 완료: /home/elicer/FIshing_vessel-1/resized_imgdata/137. 범장망 표류.jpg -> /home/elicer/FIshing_vessel-1/categorized_imgdata/표류/137. 범장망 표류.jpg\n",
      "이미지 이동 완료: /home/elicer/FIshing_vessel-1/resized_imgdata/136. 타망 이동.jpg -> /home/elicer/FIshing_vessel-1/categorized_imgdata/이동/136. 타망 이동.jpg\n",
      "이미지 이동 완료: /home/elicer/FIshing_vessel-1/resized_imgdata/4. 통발 표류.jpg -> /home/elicer/FIshing_vessel-1/categorized_imgdata/표류/4. 통발 표류.jpg\n",
      "이미지 이동 완료: /home/elicer/FIshing_vessel-1/resized_imgdata/138. 범장망 표류.jpg -> /home/elicer/FIshing_vessel-1/categorized_imgdata/표류/138. 범장망 표류.jpg\n",
      "이미지 이동 완료: /home/elicer/FIshing_vessel-1/resized_imgdata/138. 타망 이동.jpg -> /home/elicer/FIshing_vessel-1/categorized_imgdata/이동/138. 타망 이동.jpg\n",
      "이미지 이동 완료: /home/elicer/FIshing_vessel-1/resized_imgdata/139. 범장망 표류.jpg -> /home/elicer/FIshing_vessel-1/categorized_imgdata/표류/139. 범장망 표류.jpg\n",
      "이미지 이동 완료: /home/elicer/FIshing_vessel-1/resized_imgdata/139. 타망 이동.jpg -> /home/elicer/FIshing_vessel-1/categorized_imgdata/이동/139. 타망 이동.jpg\n",
      "이미지 이동 완료: /home/elicer/FIshing_vessel-1/resized_imgdata/14. 낚시어선 이동.jpg -> /home/elicer/FIshing_vessel-1/categorized_imgdata/이동/14. 낚시어선 이동.jpg\n",
      "이미지 이동 완료: /home/elicer/FIshing_vessel-1/resized_imgdata/14. 낚시어선 조업.jpg -> /home/elicer/FIshing_vessel-1/categorized_imgdata/조업/14. 낚시어선 조업.jpg\n",
      "이미지 이동 완료: /home/elicer/FIshing_vessel-1/resized_imgdata/14. 등광조망 이동.jpg -> /home/elicer/FIshing_vessel-1/categorized_imgdata/이동/14. 등광조망 이동.jpg\n",
      "이미지 이동 완료: /home/elicer/FIshing_vessel-1/resized_imgdata/14. 등광조망 표류.jpg -> /home/elicer/FIshing_vessel-1/categorized_imgdata/표류/14. 등광조망 표류.jpg\n",
      "이미지 이동 완료: /home/elicer/FIshing_vessel-1/resized_imgdata/14. 등광조망 조업.jpg -> /home/elicer/FIshing_vessel-1/categorized_imgdata/조업/14. 등광조망 조업.jpg\n",
      "이미지 이동 완료: /home/elicer/FIshing_vessel-1/resized_imgdata/14. 범장망 이동.jpg -> /home/elicer/FIshing_vessel-1/categorized_imgdata/이동/14. 범장망 이동.jpg\n",
      "이미지 이동 완료: /home/elicer/FIshing_vessel-1/resized_imgdata/14. 범장망 조업.jpg -> /home/elicer/FIshing_vessel-1/categorized_imgdata/조업/14. 범장망 조업.jpg\n",
      "이미지 이동 완료: /home/elicer/FIshing_vessel-1/resized_imgdata/14. 범장망 표류.jpg -> /home/elicer/FIshing_vessel-1/categorized_imgdata/표류/14. 범장망 표류.jpg\n",
      "이미지 이동 완료: /home/elicer/FIshing_vessel-1/resized_imgdata/14. 안강망 이동.jpg -> /home/elicer/FIshing_vessel-1/categorized_imgdata/이동/14. 안강망 이동.jpg\n",
      "이미지 이동 완료: /home/elicer/FIshing_vessel-1/resized_imgdata/14. 안강망 조업.jpg -> /home/elicer/FIshing_vessel-1/categorized_imgdata/조업/14. 안강망 조업.jpg\n",
      "이미지 이동 완료: /home/elicer/FIshing_vessel-1/resized_imgdata/14. 안강망 표류.jpg -> /home/elicer/FIshing_vessel-1/categorized_imgdata/표류/14. 안강망 표류.jpg\n",
      "이미지 이동 완료: /home/elicer/FIshing_vessel-1/resized_imgdata/14. 연승 이동.jpg -> /home/elicer/FIshing_vessel-1/categorized_imgdata/이동/14. 연승 이동.jpg\n",
      "이미지 이동 완료: /home/elicer/FIshing_vessel-1/resized_imgdata/14. 유망 이동.jpg -> /home/elicer/FIshing_vessel-1/categorized_imgdata/이동/14. 유망 이동.jpg\n",
      "이미지 이동 완료: /home/elicer/FIshing_vessel-1/resized_imgdata/14. 유망 표류.jpg -> /home/elicer/FIshing_vessel-1/categorized_imgdata/표류/14. 유망 표류.jpg\n",
      "이미지 이동 완료: /home/elicer/FIshing_vessel-1/resized_imgdata/14. 연승 표류.png -> /home/elicer/FIshing_vessel-1/categorized_imgdata/표류/14. 연승 표류.png\n",
      "이미지 이동 완료: /home/elicer/FIshing_vessel-1/resized_imgdata/14. 저인망 이동.jpg -> /home/elicer/FIshing_vessel-1/categorized_imgdata/이동/14. 저인망 이동.jpg\n",
      "이미지 이동 완료: /home/elicer/FIshing_vessel-1/resized_imgdata/14. 저인망 조업.jpg -> /home/elicer/FIshing_vessel-1/categorized_imgdata/조업/14. 저인망 조업.jpg\n",
      "이미지 이동 완료: /home/elicer/FIshing_vessel-1/resized_imgdata/14. 채낚기 이동.jpg -> /home/elicer/FIshing_vessel-1/categorized_imgdata/이동/14. 채낚기 이동.jpg\n",
      "이미지 이동 완료: /home/elicer/FIshing_vessel-1/resized_imgdata/14. 채낚기 표류.jpg -> /home/elicer/FIshing_vessel-1/categorized_imgdata/표류/14. 채낚기 표류.jpg\n",
      "이미지 이동 완료: /home/elicer/FIshing_vessel-1/resized_imgdata/14. 타망 이동.jpg -> /home/elicer/FIshing_vessel-1/categorized_imgdata/이동/14. 타망 이동.jpg\n",
      "이미지 이동 완료: /home/elicer/FIshing_vessel-1/resized_imgdata/14. 타망 조업.jpg -> /home/elicer/FIshing_vessel-1/categorized_imgdata/조업/14. 타망 조업.jpg\n",
      "이미지 이동 완료: /home/elicer/FIshing_vessel-1/resized_imgdata/14. 타망 표류.jpg -> /home/elicer/FIshing_vessel-1/categorized_imgdata/표류/14. 타망 표류.jpg\n",
      "이미지 이동 완료: /home/elicer/FIshing_vessel-1/resized_imgdata/14. 통발 이동.jpg -> /home/elicer/FIshing_vessel-1/categorized_imgdata/이동/14. 통발 이동.jpg\n",
      "이미지 이동 완료: /home/elicer/FIshing_vessel-1/resized_imgdata/140. 범장망 표류.jpg -> /home/elicer/FIshing_vessel-1/categorized_imgdata/표류/140. 범장망 표류.jpg\n",
      "이미지 이동 완료: /home/elicer/FIshing_vessel-1/resized_imgdata/141. 범장망 표류.jpg -> /home/elicer/FIshing_vessel-1/categorized_imgdata/표류/141. 범장망 표류.jpg\n",
      "이미지 이동 완료: /home/elicer/FIshing_vessel-1/resized_imgdata/140. 타망 이동.jpg -> /home/elicer/FIshing_vessel-1/categorized_imgdata/이동/140. 타망 이동.jpg\n",
      "이미지 이동 완료: /home/elicer/FIshing_vessel-1/resized_imgdata/141. 타망 이동.jpg -> /home/elicer/FIshing_vessel-1/categorized_imgdata/이동/141. 타망 이동.jpg\n",
      "이미지 이동 완료: /home/elicer/FIshing_vessel-1/resized_imgdata/142. 범장망 표류.jpg -> /home/elicer/FIshing_vessel-1/categorized_imgdata/표류/142. 범장망 표류.jpg\n",
      "이미지 이동 완료: /home/elicer/FIshing_vessel-1/resized_imgdata/142. 타망 이동.jpg -> /home/elicer/FIshing_vessel-1/categorized_imgdata/이동/142. 타망 이동.jpg\n",
      "이미지 이동 완료: /home/elicer/FIshing_vessel-1/resized_imgdata/143. 범장망 표류.jpg -> /home/elicer/FIshing_vessel-1/categorized_imgdata/표류/143. 범장망 표류.jpg\n",
      "이미지 이동 완료: /home/elicer/FIshing_vessel-1/resized_imgdata/143. 타망 이동.jpg -> /home/elicer/FIshing_vessel-1/categorized_imgdata/이동/143. 타망 이동.jpg\n",
      "이미지 이동 완료: /home/elicer/FIshing_vessel-1/resized_imgdata/144. 범장망 표류.jpg -> /home/elicer/FIshing_vessel-1/categorized_imgdata/표류/144. 범장망 표류.jpg\n",
      "이미지 이동 완료: /home/elicer/FIshing_vessel-1/resized_imgdata/144. 타망 이동.jpg -> /home/elicer/FIshing_vessel-1/categorized_imgdata/이동/144. 타망 이동.jpg\n",
      "이미지 이동 완료: /home/elicer/FIshing_vessel-1/resized_imgdata/145. 범장망 표류.jpg -> /home/elicer/FIshing_vessel-1/categorized_imgdata/표류/145. 범장망 표류.jpg\n",
      "이미지 이동 완료: /home/elicer/FIshing_vessel-1/resized_imgdata/145. 타망 이동.jpg -> /home/elicer/FIshing_vessel-1/categorized_imgdata/이동/145. 타망 이동.jpg\n",
      "이미지 이동 완료: /home/elicer/FIshing_vessel-1/resized_imgdata/146. 범장망 표류.jpg -> /home/elicer/FIshing_vessel-1/categorized_imgdata/표류/146. 범장망 표류.jpg\n",
      "이미지 이동 완료: /home/elicer/FIshing_vessel-1/resized_imgdata/146. 타망 이동.jpg -> /home/elicer/FIshing_vessel-1/categorized_imgdata/이동/146. 타망 이동.jpg\n",
      "이미지 이동 완료: /home/elicer/FIshing_vessel-1/resized_imgdata/147. 범장망 표류.jpg -> /home/elicer/FIshing_vessel-1/categorized_imgdata/표류/147. 범장망 표류.jpg\n",
      "이미지 이동 완료: /home/elicer/FIshing_vessel-1/resized_imgdata/147. 타망 이동.jpg -> /home/elicer/FIshing_vessel-1/categorized_imgdata/이동/147. 타망 이동.jpg\n",
      "이미지 이동 완료: /home/elicer/FIshing_vessel-1/resized_imgdata/148. 범장망 표류.jpg -> /home/elicer/FIshing_vessel-1/categorized_imgdata/표류/148. 범장망 표류.jpg\n",
      "이미지 이동 완료: /home/elicer/FIshing_vessel-1/resized_imgdata/148. 타망 이동.jpg -> /home/elicer/FIshing_vessel-1/categorized_imgdata/이동/148. 타망 이동.jpg\n",
      "이미지 이동 완료: /home/elicer/FIshing_vessel-1/resized_imgdata/149. 범장망 표류.jpg -> /home/elicer/FIshing_vessel-1/categorized_imgdata/표류/149. 범장망 표류.jpg\n",
      "이미지 이동 완료: /home/elicer/FIshing_vessel-1/resized_imgdata/15. 낚시어선 이동.jpg -> /home/elicer/FIshing_vessel-1/categorized_imgdata/이동/15. 낚시어선 이동.jpg\n",
      "이미지 이동 완료: /home/elicer/FIshing_vessel-1/resized_imgdata/15. 낚시어선 조업.jpg -> /home/elicer/FIshing_vessel-1/categorized_imgdata/조업/15. 낚시어선 조업.jpg\n",
      "이미지 이동 완료: /home/elicer/FIshing_vessel-1/resized_imgdata/15. 등광조망 이동.jpg -> /home/elicer/FIshing_vessel-1/categorized_imgdata/이동/15. 등광조망 이동.jpg\n",
      "이미지 이동 완료: /home/elicer/FIshing_vessel-1/resized_imgdata/149. 타망 이동.jpg -> /home/elicer/FIshing_vessel-1/categorized_imgdata/이동/149. 타망 이동.jpg\n",
      "이미지 이동 완료: /home/elicer/FIshing_vessel-1/resized_imgdata/15. 등광조망 표류.jpg -> /home/elicer/FIshing_vessel-1/categorized_imgdata/표류/15. 등광조망 표류.jpg\n",
      "이미지 이동 완료: /home/elicer/FIshing_vessel-1/resized_imgdata/15. 등광조망 조업.png -> /home/elicer/FIshing_vessel-1/categorized_imgdata/조업/15. 등광조망 조업.png\n",
      "이미지 이동 완료: /home/elicer/FIshing_vessel-1/resized_imgdata/15. 범장망 이동.jpg -> /home/elicer/FIshing_vessel-1/categorized_imgdata/이동/15. 범장망 이동.jpg\n",
      "이미지 이동 완료: /home/elicer/FIshing_vessel-1/resized_imgdata/15. 범장망 조업.jpg -> /home/elicer/FIshing_vessel-1/categorized_imgdata/조업/15. 범장망 조업.jpg\n",
      "이미지 이동 완료: /home/elicer/FIshing_vessel-1/resized_imgdata/15. 범장망 표류.jpg -> /home/elicer/FIshing_vessel-1/categorized_imgdata/표류/15. 범장망 표류.jpg\n",
      "이미지 이동 완료: /home/elicer/FIshing_vessel-1/resized_imgdata/15. 안강망 이동.jpg -> /home/elicer/FIshing_vessel-1/categorized_imgdata/이동/15. 안강망 이동.jpg\n",
      "이미지 이동 완료: /home/elicer/FIshing_vessel-1/resized_imgdata/15. 안강망 조업.jpg -> /home/elicer/FIshing_vessel-1/categorized_imgdata/조업/15. 안강망 조업.jpg\n",
      "이미지 이동 완료: /home/elicer/FIshing_vessel-1/resized_imgdata/15. 안강망 표류.jpg -> /home/elicer/FIshing_vessel-1/categorized_imgdata/표류/15. 안강망 표류.jpg\n",
      "이미지 이동 완료: /home/elicer/FIshing_vessel-1/resized_imgdata/15. 연승 이동.jpg -> /home/elicer/FIshing_vessel-1/categorized_imgdata/이동/15. 연승 이동.jpg\n",
      "이미지 이동 완료: /home/elicer/FIshing_vessel-1/resized_imgdata/15. 연승 표류.jpg -> /home/elicer/FIshing_vessel-1/categorized_imgdata/표류/15. 연승 표류.jpg\n",
      "이미지 이동 완료: /home/elicer/FIshing_vessel-1/resized_imgdata/15. 유망 이동.jpg -> /home/elicer/FIshing_vessel-1/categorized_imgdata/이동/15. 유망 이동.jpg\n",
      "이미지 이동 완료: /home/elicer/FIshing_vessel-1/resized_imgdata/15. 유망 조업.jpg -> /home/elicer/FIshing_vessel-1/categorized_imgdata/조업/15. 유망 조업.jpg\n",
      "이미지 이동 완료: /home/elicer/FIshing_vessel-1/resized_imgdata/15. 유망 표류.jpg -> /home/elicer/FIshing_vessel-1/categorized_imgdata/표류/15. 유망 표류.jpg\n",
      "이미지 이동 완료: /home/elicer/FIshing_vessel-1/resized_imgdata/15. 저인망 조업.jpg -> /home/elicer/FIshing_vessel-1/categorized_imgdata/조업/15. 저인망 조업.jpg\n",
      "이미지 이동 완료: /home/elicer/FIshing_vessel-1/resized_imgdata/15. 채낚기 이동.jpg -> /home/elicer/FIshing_vessel-1/categorized_imgdata/이동/15. 채낚기 이동.jpg\n",
      "이미지 이동 완료: /home/elicer/FIshing_vessel-1/resized_imgdata/15. 채낚기 표류.jpg -> /home/elicer/FIshing_vessel-1/categorized_imgdata/표류/15. 채낚기 표류.jpg\n",
      "이미지 이동 완료: /home/elicer/FIshing_vessel-1/resized_imgdata/15. 타망 이동.jpg -> /home/elicer/FIshing_vessel-1/categorized_imgdata/이동/15. 타망 이동.jpg\n",
      "이미지 이동 완료: /home/elicer/FIshing_vessel-1/resized_imgdata/150. 타망 이동.jpg -> /home/elicer/FIshing_vessel-1/categorized_imgdata/이동/150. 타망 이동.jpg\n",
      "이미지 이동 완료: /home/elicer/FIshing_vessel-1/resized_imgdata/150. 범장망 표류.jpg -> /home/elicer/FIshing_vessel-1/categorized_imgdata/표류/150. 범장망 표류.jpg\n",
      "이미지 이동 완료: /home/elicer/FIshing_vessel-1/resized_imgdata/15. 타망 표류.jpg -> /home/elicer/FIshing_vessel-1/categorized_imgdata/표류/15. 타망 표류.jpg\n",
      "이미지 이동 완료: /home/elicer/FIshing_vessel-1/resized_imgdata/15. 타망 조업.jpg -> /home/elicer/FIshing_vessel-1/categorized_imgdata/조업/15. 타망 조업.jpg\n",
      "이미지 이동 완료: /home/elicer/FIshing_vessel-1/resized_imgdata/151. 범장망 표류.jpg -> /home/elicer/FIshing_vessel-1/categorized_imgdata/표류/151. 범장망 표류.jpg\n",
      "이미지 이동 완료: /home/elicer/FIshing_vessel-1/resized_imgdata/151. 타망 이동.jpg -> /home/elicer/FIshing_vessel-1/categorized_imgdata/이동/151. 타망 이동.jpg\n",
      "이미지 이동 완료: /home/elicer/FIshing_vessel-1/resized_imgdata/152. 범장망 표류.jpg -> /home/elicer/FIshing_vessel-1/categorized_imgdata/표류/152. 범장망 표류.jpg\n",
      "이미지 이동 완료: /home/elicer/FIshing_vessel-1/resized_imgdata/152. 타망 이동.jpg -> /home/elicer/FIshing_vessel-1/categorized_imgdata/이동/152. 타망 이동.jpg\n",
      "이미지 이동 완료: /home/elicer/FIshing_vessel-1/resized_imgdata/153. 범장망 표류.jpg -> /home/elicer/FIshing_vessel-1/categorized_imgdata/표류/153. 범장망 표류.jpg\n",
      "이미지 이동 완료: /home/elicer/FIshing_vessel-1/resized_imgdata/154. 범장망 표류.jpg -> /home/elicer/FIshing_vessel-1/categorized_imgdata/표류/154. 범장망 표류.jpg\n",
      "이미지 이동 완료: /home/elicer/FIshing_vessel-1/resized_imgdata/153. 타망 이동.jpg -> /home/elicer/FIshing_vessel-1/categorized_imgdata/이동/153. 타망 이동.jpg\n",
      "이미지 이동 완료: /home/elicer/FIshing_vessel-1/resized_imgdata/154. 타망 이동.jpg -> /home/elicer/FIshing_vessel-1/categorized_imgdata/이동/154. 타망 이동.jpg\n",
      "이미지 이동 완료: /home/elicer/FIshing_vessel-1/resized_imgdata/155. 타망 이동.jpg -> /home/elicer/FIshing_vessel-1/categorized_imgdata/이동/155. 타망 이동.jpg\n",
      "이미지 이동 완료: /home/elicer/FIshing_vessel-1/resized_imgdata/155. 범장망 표류.jpg -> /home/elicer/FIshing_vessel-1/categorized_imgdata/표류/155. 범장망 표류.jpg\n",
      "이미지 이동 완료: /home/elicer/FIshing_vessel-1/resized_imgdata/156. 범장망 표류.jpg -> /home/elicer/FIshing_vessel-1/categorized_imgdata/표류/156. 범장망 표류.jpg\n",
      "이미지 이동 완료: /home/elicer/FIshing_vessel-1/resized_imgdata/156. 타망 이동.jpg -> /home/elicer/FIshing_vessel-1/categorized_imgdata/이동/156. 타망 이동.jpg\n",
      "이미지 이동 완료: /home/elicer/FIshing_vessel-1/resized_imgdata/157. 범장망 표류.jpg -> /home/elicer/FIshing_vessel-1/categorized_imgdata/표류/157. 범장망 표류.jpg\n",
      "이미지 이동 완료: /home/elicer/FIshing_vessel-1/resized_imgdata/157. 타망 이동.jpg -> /home/elicer/FIshing_vessel-1/categorized_imgdata/이동/157. 타망 이동.jpg\n",
      "이미지 이동 완료: /home/elicer/FIshing_vessel-1/resized_imgdata/158. 범장망 표류.jpg -> /home/elicer/FIshing_vessel-1/categorized_imgdata/표류/158. 범장망 표류.jpg\n",
      "이미지 이동 완료: /home/elicer/FIshing_vessel-1/resized_imgdata/158. 타망 이동.jpg -> /home/elicer/FIshing_vessel-1/categorized_imgdata/이동/158. 타망 이동.jpg\n",
      "이미지 이동 완료: /home/elicer/FIshing_vessel-1/resized_imgdata/159. 범장망 표류.jpg -> /home/elicer/FIshing_vessel-1/categorized_imgdata/표류/159. 범장망 표류.jpg\n",
      "이미지 이동 완료: /home/elicer/FIshing_vessel-1/resized_imgdata/16. 낚시어선 조업.jpg -> /home/elicer/FIshing_vessel-1/categorized_imgdata/조업/16. 낚시어선 조업.jpg\n",
      "이미지 이동 완료: /home/elicer/FIshing_vessel-1/resized_imgdata/16. 낚시어선 이동.jpg -> /home/elicer/FIshing_vessel-1/categorized_imgdata/이동/16. 낚시어선 이동.jpg\n",
      "이미지 이동 완료: /home/elicer/FIshing_vessel-1/resized_imgdata/159. 타망 이동.jpg -> /home/elicer/FIshing_vessel-1/categorized_imgdata/이동/159. 타망 이동.jpg\n",
      "이미지 이동 완료: /home/elicer/FIshing_vessel-1/resized_imgdata/16. 등광조망 이동.jpg -> /home/elicer/FIshing_vessel-1/categorized_imgdata/이동/16. 등광조망 이동.jpg\n",
      "이미지 이동 완료: /home/elicer/FIshing_vessel-1/resized_imgdata/16. 등광조망 조업.jpg -> /home/elicer/FIshing_vessel-1/categorized_imgdata/조업/16. 등광조망 조업.jpg\n",
      "이미지 이동 완료: /home/elicer/FIshing_vessel-1/resized_imgdata/16. 등광조망 표류.jpg -> /home/elicer/FIshing_vessel-1/categorized_imgdata/표류/16. 등광조망 표류.jpg\n",
      "이미지 이동 완료: /home/elicer/FIshing_vessel-1/resized_imgdata/16. 범장망 이동.jpg -> /home/elicer/FIshing_vessel-1/categorized_imgdata/이동/16. 범장망 이동.jpg\n",
      "이미지 이동 완료: /home/elicer/FIshing_vessel-1/resized_imgdata/16. 범장망 조업.jpg -> /home/elicer/FIshing_vessel-1/categorized_imgdata/조업/16. 범장망 조업.jpg\n",
      "이미지 이동 완료: /home/elicer/FIshing_vessel-1/resized_imgdata/16. 범장망 표류.jpg -> /home/elicer/FIshing_vessel-1/categorized_imgdata/표류/16. 범장망 표류.jpg\n",
      "이미지 이동 완료: /home/elicer/FIshing_vessel-1/resized_imgdata/16. 안강망 이동.jpg -> /home/elicer/FIshing_vessel-1/categorized_imgdata/이동/16. 안강망 이동.jpg\n",
      "이미지 이동 완료: /home/elicer/FIshing_vessel-1/resized_imgdata/16. 안강망 조업.jpg -> /home/elicer/FIshing_vessel-1/categorized_imgdata/조업/16. 안강망 조업.jpg\n",
      "이미지 이동 완료: /home/elicer/FIshing_vessel-1/resized_imgdata/16. 연승 이동.jpg -> /home/elicer/FIshing_vessel-1/categorized_imgdata/이동/16. 연승 이동.jpg\n",
      "이미지 이동 완료: /home/elicer/FIshing_vessel-1/resized_imgdata/4. 통발 이동.jpg -> /home/elicer/FIshing_vessel-1/categorized_imgdata/이동/4. 통발 이동.jpg\n",
      "이미지 이동 완료: /home/elicer/FIshing_vessel-1/resized_imgdata/16. 안강망 표류.jpg -> /home/elicer/FIshing_vessel-1/categorized_imgdata/표류/16. 안강망 표류.jpg\n",
      "이미지 이동 완료: /home/elicer/FIshing_vessel-1/resized_imgdata/16. 유망 조업.jpg -> /home/elicer/FIshing_vessel-1/categorized_imgdata/조업/16. 유망 조업.jpg\n",
      "이미지 이동 완료: /home/elicer/FIshing_vessel-1/resized_imgdata/16. 연승 표류.jpg -> /home/elicer/FIshing_vessel-1/categorized_imgdata/표류/16. 연승 표류.jpg\n",
      "이미지 이동 완료: /home/elicer/FIshing_vessel-1/resized_imgdata/16. 유망 표류.jpg -> /home/elicer/FIshing_vessel-1/categorized_imgdata/표류/16. 유망 표류.jpg\n",
      "이미지 이동 완료: /home/elicer/FIshing_vessel-1/resized_imgdata/16. 저인망 이동.jpg -> /home/elicer/FIshing_vessel-1/categorized_imgdata/이동/16. 저인망 이동.jpg\n",
      "이미지 이동 완료: /home/elicer/FIshing_vessel-1/resized_imgdata/16. 저인망 조업.jpg -> /home/elicer/FIshing_vessel-1/categorized_imgdata/조업/16. 저인망 조업.jpg\n",
      "이미지 이동 완료: /home/elicer/FIshing_vessel-1/resized_imgdata/16. 채낚기 이동.jpg -> /home/elicer/FIshing_vessel-1/categorized_imgdata/이동/16. 채낚기 이동.jpg\n",
      "이미지 이동 완료: /home/elicer/FIshing_vessel-1/resized_imgdata/16. 채낚기 표류.jpg -> /home/elicer/FIshing_vessel-1/categorized_imgdata/표류/16. 채낚기 표류.jpg\n",
      "이미지 이동 완료: /home/elicer/FIshing_vessel-1/resized_imgdata/16. 타망 이동.jpg -> /home/elicer/FIshing_vessel-1/categorized_imgdata/이동/16. 타망 이동.jpg\n",
      "이미지 이동 완료: /home/elicer/FIshing_vessel-1/resized_imgdata/16. 타망 조업.jpg -> /home/elicer/FIshing_vessel-1/categorized_imgdata/조업/16. 타망 조업.jpg\n",
      "이미지 이동 완료: /home/elicer/FIshing_vessel-1/resized_imgdata/16. 타망 표류.jpg -> /home/elicer/FIshing_vessel-1/categorized_imgdata/표류/16. 타망 표류.jpg\n",
      "이미지 이동 완료: /home/elicer/FIshing_vessel-1/resized_imgdata/16. 통발 이동.jpg -> /home/elicer/FIshing_vessel-1/categorized_imgdata/이동/16. 통발 이동.jpg\n",
      "이미지 이동 완료: /home/elicer/FIshing_vessel-1/resized_imgdata/160. 범장망 표류.jpg -> /home/elicer/FIshing_vessel-1/categorized_imgdata/표류/160. 범장망 표류.jpg\n",
      "이미지 이동 완료: /home/elicer/FIshing_vessel-1/resized_imgdata/161. 범장망 표류.jpg -> /home/elicer/FIshing_vessel-1/categorized_imgdata/표류/161. 범장망 표류.jpg\n",
      "이미지 이동 완료: /home/elicer/FIshing_vessel-1/resized_imgdata/160. 타망 이동.jpg -> /home/elicer/FIshing_vessel-1/categorized_imgdata/이동/160. 타망 이동.jpg\n",
      "이미지 이동 완료: /home/elicer/FIshing_vessel-1/resized_imgdata/161. 타망 이동.jpg -> /home/elicer/FIshing_vessel-1/categorized_imgdata/이동/161. 타망 이동.jpg\n",
      "이미지 이동 완료: /home/elicer/FIshing_vessel-1/resized_imgdata/162. 범장망 표류.jpg -> /home/elicer/FIshing_vessel-1/categorized_imgdata/표류/162. 범장망 표류.jpg\n",
      "이미지 이동 완료: /home/elicer/FIshing_vessel-1/resized_imgdata/163. 범장망 표류.jpg -> /home/elicer/FIshing_vessel-1/categorized_imgdata/표류/163. 범장망 표류.jpg\n",
      "이미지 이동 완료: /home/elicer/FIshing_vessel-1/resized_imgdata/163. 타망 이동.jpg -> /home/elicer/FIshing_vessel-1/categorized_imgdata/이동/163. 타망 이동.jpg\n",
      "이미지 이동 완료: /home/elicer/FIshing_vessel-1/resized_imgdata/164. 범장망 표류.jpg -> /home/elicer/FIshing_vessel-1/categorized_imgdata/표류/164. 범장망 표류.jpg\n",
      "이미지 이동 완료: /home/elicer/FIshing_vessel-1/resized_imgdata/164. 타망 이동.jpg -> /home/elicer/FIshing_vessel-1/categorized_imgdata/이동/164. 타망 이동.jpg\n",
      "이미지 이동 완료: /home/elicer/FIshing_vessel-1/resized_imgdata/165. 범장망 표류.jpg -> /home/elicer/FIshing_vessel-1/categorized_imgdata/표류/165. 범장망 표류.jpg\n",
      "이미지 이동 완료: /home/elicer/FIshing_vessel-1/resized_imgdata/165. 타망 이동.jpg -> /home/elicer/FIshing_vessel-1/categorized_imgdata/이동/165. 타망 이동.jpg\n",
      "이미지 이동 완료: /home/elicer/FIshing_vessel-1/resized_imgdata/166. 범장망 표류.jpg -> /home/elicer/FIshing_vessel-1/categorized_imgdata/표류/166. 범장망 표류.jpg\n",
      "이미지 이동 완료: /home/elicer/FIshing_vessel-1/resized_imgdata/166. 타망 이동.jpg -> /home/elicer/FIshing_vessel-1/categorized_imgdata/이동/166. 타망 이동.jpg\n",
      "이미지 이동 완료: /home/elicer/FIshing_vessel-1/resized_imgdata/167. 범장망 표류.jpg -> /home/elicer/FIshing_vessel-1/categorized_imgdata/표류/167. 범장망 표류.jpg\n",
      "이미지 이동 완료: /home/elicer/FIshing_vessel-1/resized_imgdata/167. 타망 이동.jpg -> /home/elicer/FIshing_vessel-1/categorized_imgdata/이동/167. 타망 이동.jpg\n",
      "이미지 이동 완료: /home/elicer/FIshing_vessel-1/resized_imgdata/168. 범장망 표류.jpg -> /home/elicer/FIshing_vessel-1/categorized_imgdata/표류/168. 범장망 표류.jpg\n",
      "이미지 이동 완료: /home/elicer/FIshing_vessel-1/resized_imgdata/168. 타망 이동.jpg -> /home/elicer/FIshing_vessel-1/categorized_imgdata/이동/168. 타망 이동.jpg\n",
      "이미지 이동 완료: /home/elicer/FIshing_vessel-1/resized_imgdata/169. 범장망 표류.jpg -> /home/elicer/FIshing_vessel-1/categorized_imgdata/표류/169. 범장망 표류.jpg\n",
      "이미지 이동 완료: /home/elicer/FIshing_vessel-1/resized_imgdata/17. 낚시어선 이동.jpg -> /home/elicer/FIshing_vessel-1/categorized_imgdata/이동/17. 낚시어선 이동.jpg\n",
      "이미지 이동 완료: /home/elicer/FIshing_vessel-1/resized_imgdata/17. 낚시어선 조업.jpg -> /home/elicer/FIshing_vessel-1/categorized_imgdata/조업/17. 낚시어선 조업.jpg\n",
      "이미지 이동 완료: /home/elicer/FIshing_vessel-1/resized_imgdata/17. 등광조망 이동.jpg -> /home/elicer/FIshing_vessel-1/categorized_imgdata/이동/17. 등광조망 이동.jpg\n",
      "이미지 이동 완료: /home/elicer/FIshing_vessel-1/resized_imgdata/17. 등광조망 조업.jpg -> /home/elicer/FIshing_vessel-1/categorized_imgdata/조업/17. 등광조망 조업.jpg\n",
      "이미지 이동 완료: /home/elicer/FIshing_vessel-1/resized_imgdata/17. 등광조망 표류.jpg -> /home/elicer/FIshing_vessel-1/categorized_imgdata/표류/17. 등광조망 표류.jpg\n",
      "이미지 이동 완료: /home/elicer/FIshing_vessel-1/resized_imgdata/17. 범장망 이동.jpg -> /home/elicer/FIshing_vessel-1/categorized_imgdata/이동/17. 범장망 이동.jpg\n",
      "이미지 이동 완료: /home/elicer/FIshing_vessel-1/resized_imgdata/17. 범장망 조업.jpg -> /home/elicer/FIshing_vessel-1/categorized_imgdata/조업/17. 범장망 조업.jpg\n",
      "이미지 이동 완료: /home/elicer/FIshing_vessel-1/resized_imgdata/17. 범장망 표류.jpg -> /home/elicer/FIshing_vessel-1/categorized_imgdata/표류/17. 범장망 표류.jpg\n",
      "이미지 이동 완료: /home/elicer/FIshing_vessel-1/resized_imgdata/17. 안강망 이동.jpg -> /home/elicer/FIshing_vessel-1/categorized_imgdata/이동/17. 안강망 이동.jpg\n",
      "이미지 이동 완료: /home/elicer/FIshing_vessel-1/resized_imgdata/17. 연승 이동.jpg -> /home/elicer/FIshing_vessel-1/categorized_imgdata/이동/17. 연승 이동.jpg\n",
      "이미지 이동 완료: /home/elicer/FIshing_vessel-1/resized_imgdata/17. 유망 조업.jpg -> /home/elicer/FIshing_vessel-1/categorized_imgdata/조업/17. 유망 조업.jpg\n",
      "이미지 이동 완료: /home/elicer/FIshing_vessel-1/resized_imgdata/17. 유망 표류.jpg -> /home/elicer/FIshing_vessel-1/categorized_imgdata/표류/17. 유망 표류.jpg\n",
      "이미지 이동 완료: /home/elicer/FIshing_vessel-1/resized_imgdata/17. 유망 이동.jpg -> /home/elicer/FIshing_vessel-1/categorized_imgdata/이동/17. 유망 이동.jpg\n",
      "이미지 이동 완료: /home/elicer/FIshing_vessel-1/resized_imgdata/17. 연승 표류.jpg -> /home/elicer/FIshing_vessel-1/categorized_imgdata/표류/17. 연승 표류.jpg\n",
      "이미지 이동 완료: /home/elicer/FIshing_vessel-1/resized_imgdata/17. 저인망 이동.jpg -> /home/elicer/FIshing_vessel-1/categorized_imgdata/이동/17. 저인망 이동.jpg\n",
      "이미지 이동 완료: /home/elicer/FIshing_vessel-1/resized_imgdata/17. 채낚기 이동.jpg -> /home/elicer/FIshing_vessel-1/categorized_imgdata/이동/17. 채낚기 이동.jpg\n",
      "이미지 이동 완료: /home/elicer/FIshing_vessel-1/resized_imgdata/17. 타망 이동.jpg -> /home/elicer/FIshing_vessel-1/categorized_imgdata/이동/17. 타망 이동.jpg\n",
      "이미지 이동 완료: /home/elicer/FIshing_vessel-1/resized_imgdata/17. 채낚기 표류.jpg -> /home/elicer/FIshing_vessel-1/categorized_imgdata/표류/17. 채낚기 표류.jpg\n",
      "이미지 이동 완료: /home/elicer/FIshing_vessel-1/resized_imgdata/17. 타망 조업.jpg -> /home/elicer/FIshing_vessel-1/categorized_imgdata/조업/17. 타망 조업.jpg\n",
      "이미지 이동 완료: /home/elicer/FIshing_vessel-1/resized_imgdata/17. 타망 표류.jpg -> /home/elicer/FIshing_vessel-1/categorized_imgdata/표류/17. 타망 표류.jpg\n",
      "이미지 이동 완료: /home/elicer/FIshing_vessel-1/resized_imgdata/17. 통발 이동.jpg -> /home/elicer/FIshing_vessel-1/categorized_imgdata/이동/17. 통발 이동.jpg\n",
      "이미지 이동 완료: /home/elicer/FIshing_vessel-1/resized_imgdata/170. 범장망 표류.jpg -> /home/elicer/FIshing_vessel-1/categorized_imgdata/표류/170. 범장망 표류.jpg\n",
      "이미지 이동 완료: /home/elicer/FIshing_vessel-1/resized_imgdata/171. 범장망 표류.jpg -> /home/elicer/FIshing_vessel-1/categorized_imgdata/표류/171. 범장망 표류.jpg\n",
      "이미지 이동 완료: /home/elicer/FIshing_vessel-1/resized_imgdata/172. 범장망 표류.jpg -> /home/elicer/FIshing_vessel-1/categorized_imgdata/표류/172. 범장망 표류.jpg\n",
      "이미지 이동 완료: /home/elicer/FIshing_vessel-1/resized_imgdata/173. 범장망 표류.jpg -> /home/elicer/FIshing_vessel-1/categorized_imgdata/표류/173. 범장망 표류.jpg\n",
      "이미지 이동 완료: /home/elicer/FIshing_vessel-1/resized_imgdata/174. 범장망 표류.jpg -> /home/elicer/FIshing_vessel-1/categorized_imgdata/표류/174. 범장망 표류.jpg\n",
      "이미지 이동 완료: /home/elicer/FIshing_vessel-1/resized_imgdata/175. 범장망 표류.jpg -> /home/elicer/FIshing_vessel-1/categorized_imgdata/표류/175. 범장망 표류.jpg\n",
      "이미지 이동 완료: /home/elicer/FIshing_vessel-1/resized_imgdata/177. 범장망 표류.jpg -> /home/elicer/FIshing_vessel-1/categorized_imgdata/표류/177. 범장망 표류.jpg\n",
      "이미지 이동 완료: /home/elicer/FIshing_vessel-1/resized_imgdata/176. 범장망 표류.jpg -> /home/elicer/FIshing_vessel-1/categorized_imgdata/표류/176. 범장망 표류.jpg\n",
      "이미지 이동 완료: /home/elicer/FIshing_vessel-1/resized_imgdata/178. 범장망 표류.jpg -> /home/elicer/FIshing_vessel-1/categorized_imgdata/표류/178. 범장망 표류.jpg\n",
      "이미지 이동 완료: /home/elicer/FIshing_vessel-1/resized_imgdata/18. 낚시어선 이동.jpg -> /home/elicer/FIshing_vessel-1/categorized_imgdata/이동/18. 낚시어선 이동.jpg\n",
      "이미지 이동 완료: /home/elicer/FIshing_vessel-1/resized_imgdata/18. 낚시어선 조업.jpg -> /home/elicer/FIshing_vessel-1/categorized_imgdata/조업/18. 낚시어선 조업.jpg\n",
      "이미지 이동 완료: /home/elicer/FIshing_vessel-1/resized_imgdata/179. 범장망 표류.jpg -> /home/elicer/FIshing_vessel-1/categorized_imgdata/표류/179. 범장망 표류.jpg\n",
      "이미지 이동 완료: /home/elicer/FIshing_vessel-1/resized_imgdata/18. 등광조망 이동.jpg -> /home/elicer/FIshing_vessel-1/categorized_imgdata/이동/18. 등광조망 이동.jpg\n",
      "이미지 이동 완료: /home/elicer/FIshing_vessel-1/resized_imgdata/18. 등광조망 조업.jpg -> /home/elicer/FIshing_vessel-1/categorized_imgdata/조업/18. 등광조망 조업.jpg\n",
      "이미지 이동 완료: /home/elicer/FIshing_vessel-1/resized_imgdata/18. 등광조망 표류.jpg -> /home/elicer/FIshing_vessel-1/categorized_imgdata/표류/18. 등광조망 표류.jpg\n",
      "이미지 이동 완료: /home/elicer/FIshing_vessel-1/resized_imgdata/18. 범장망 이동.jpg -> /home/elicer/FIshing_vessel-1/categorized_imgdata/이동/18. 범장망 이동.jpg\n",
      "이미지 이동 완료: /home/elicer/FIshing_vessel-1/resized_imgdata/18. 범장망 조업.jpg -> /home/elicer/FIshing_vessel-1/categorized_imgdata/조업/18. 범장망 조업.jpg\n",
      "이미지 이동 완료: /home/elicer/FIshing_vessel-1/resized_imgdata/18. 범장망 표류.jpg -> /home/elicer/FIshing_vessel-1/categorized_imgdata/표류/18. 범장망 표류.jpg\n",
      "이미지 이동 완료: /home/elicer/FIshing_vessel-1/resized_imgdata/18. 연승 이동.jpg -> /home/elicer/FIshing_vessel-1/categorized_imgdata/이동/18. 연승 이동.jpg\n",
      "이미지 이동 완료: /home/elicer/FIshing_vessel-1/resized_imgdata/18. 안강망 이동.jpg -> /home/elicer/FIshing_vessel-1/categorized_imgdata/이동/18. 안강망 이동.jpg\n",
      "이미지 이동 완료: /home/elicer/FIshing_vessel-1/resized_imgdata/18. 연승 표류.jpg -> /home/elicer/FIshing_vessel-1/categorized_imgdata/표류/18. 연승 표류.jpg\n",
      "이미지 이동 완료: /home/elicer/FIshing_vessel-1/resized_imgdata/18. 유망 이동.jpg -> /home/elicer/FIshing_vessel-1/categorized_imgdata/이동/18. 유망 이동.jpg\n",
      "이미지 이동 완료: /home/elicer/FIshing_vessel-1/resized_imgdata/18. 유망 조업.jpg -> /home/elicer/FIshing_vessel-1/categorized_imgdata/조업/18. 유망 조업.jpg\n",
      "이미지 이동 완료: /home/elicer/FIshing_vessel-1/resized_imgdata/18. 유망 표류.jpg -> /home/elicer/FIshing_vessel-1/categorized_imgdata/표류/18. 유망 표류.jpg\n",
      "이미지 이동 완료: /home/elicer/FIshing_vessel-1/resized_imgdata/18. 저인망 이동.jpg -> /home/elicer/FIshing_vessel-1/categorized_imgdata/이동/18. 저인망 이동.jpg\n",
      "이미지 이동 완료: /home/elicer/FIshing_vessel-1/resized_imgdata/18. 채낚기 표류.jpg -> /home/elicer/FIshing_vessel-1/categorized_imgdata/표류/18. 채낚기 표류.jpg\n",
      "이미지 이동 완료: /home/elicer/FIshing_vessel-1/resized_imgdata/18. 저인망 조업.jpg -> /home/elicer/FIshing_vessel-1/categorized_imgdata/조업/18. 저인망 조업.jpg\n",
      "이미지 이동 완료: /home/elicer/FIshing_vessel-1/resized_imgdata/18. 타망 이동.jpg -> /home/elicer/FIshing_vessel-1/categorized_imgdata/이동/18. 타망 이동.jpg\n",
      "이미지 이동 완료: /home/elicer/FIshing_vessel-1/resized_imgdata/18. 타망 표류.jpg -> /home/elicer/FIshing_vessel-1/categorized_imgdata/표류/18. 타망 표류.jpg\n",
      "이미지 이동 완료: /home/elicer/FIshing_vessel-1/resized_imgdata/18. 타망 조업.jpg -> /home/elicer/FIshing_vessel-1/categorized_imgdata/조업/18. 타망 조업.jpg\n",
      "이미지 이동 완료: /home/elicer/FIshing_vessel-1/resized_imgdata/18. 통발 이동.jpg -> /home/elicer/FIshing_vessel-1/categorized_imgdata/이동/18. 통발 이동.jpg\n",
      "이미지 이동 완료: /home/elicer/FIshing_vessel-1/resized_imgdata/180. 범장망 표류.jpg -> /home/elicer/FIshing_vessel-1/categorized_imgdata/표류/180. 범장망 표류.jpg\n",
      "이미지 이동 완료: /home/elicer/FIshing_vessel-1/resized_imgdata/181. 범장망 표류.jpg -> /home/elicer/FIshing_vessel-1/categorized_imgdata/표류/181. 범장망 표류.jpg\n",
      "이미지 이동 완료: /home/elicer/FIshing_vessel-1/resized_imgdata/182. 범장망 표류.jpg -> /home/elicer/FIshing_vessel-1/categorized_imgdata/표류/182. 범장망 표류.jpg\n",
      "이미지 이동 완료: /home/elicer/FIshing_vessel-1/resized_imgdata/184. 범장망 표류.jpg -> /home/elicer/FIshing_vessel-1/categorized_imgdata/표류/184. 범장망 표류.jpg\n",
      "이미지 이동 완료: /home/elicer/FIshing_vessel-1/resized_imgdata/183. 범장망 표류.jpg -> /home/elicer/FIshing_vessel-1/categorized_imgdata/표류/183. 범장망 표류.jpg\n",
      "이미지 이동 완료: /home/elicer/FIshing_vessel-1/resized_imgdata/185. 범장망 표류.jpg -> /home/elicer/FIshing_vessel-1/categorized_imgdata/표류/185. 범장망 표류.jpg\n",
      "이미지 이동 완료: /home/elicer/FIshing_vessel-1/resized_imgdata/186. 범장망 표류.jpg -> /home/elicer/FIshing_vessel-1/categorized_imgdata/표류/186. 범장망 표류.jpg\n",
      "이미지 이동 완료: /home/elicer/FIshing_vessel-1/resized_imgdata/187. 범장망 표류.jpg -> /home/elicer/FIshing_vessel-1/categorized_imgdata/표류/187. 범장망 표류.jpg\n",
      "이미지 이동 완료: /home/elicer/FIshing_vessel-1/resized_imgdata/188. 범장망 표류.jpg -> /home/elicer/FIshing_vessel-1/categorized_imgdata/표류/188. 범장망 표류.jpg\n",
      "이미지 이동 완료: /home/elicer/FIshing_vessel-1/resized_imgdata/19. 낚시어선 이동.jpg -> /home/elicer/FIshing_vessel-1/categorized_imgdata/이동/19. 낚시어선 이동.jpg\n",
      "이미지 이동 완료: /home/elicer/FIshing_vessel-1/resized_imgdata/189. 범장망 표류.jpg -> /home/elicer/FIshing_vessel-1/categorized_imgdata/표류/189. 범장망 표류.jpg\n",
      "이미지 이동 완료: /home/elicer/FIshing_vessel-1/resized_imgdata/19. 낚시어선 조업.jpg -> /home/elicer/FIshing_vessel-1/categorized_imgdata/조업/19. 낚시어선 조업.jpg\n",
      "이미지 이동 완료: /home/elicer/FIshing_vessel-1/resized_imgdata/19. 등광조망 이동.jpg -> /home/elicer/FIshing_vessel-1/categorized_imgdata/이동/19. 등광조망 이동.jpg\n",
      "이미지 이동 완료: /home/elicer/FIshing_vessel-1/resized_imgdata/19. 등광조망 조업.jpg -> /home/elicer/FIshing_vessel-1/categorized_imgdata/조업/19. 등광조망 조업.jpg\n",
      "이미지 이동 완료: /home/elicer/FIshing_vessel-1/resized_imgdata/21. 타망 표류.jpg -> /home/elicer/FIshing_vessel-1/categorized_imgdata/표류/21. 타망 표류.jpg\n",
      "이미지 이동 완료: /home/elicer/FIshing_vessel-1/resized_imgdata/21. 통발 이동.jpg -> /home/elicer/FIshing_vessel-1/categorized_imgdata/이동/21. 통발 이동.jpg\n",
      "이미지 이동 완료: /home/elicer/FIshing_vessel-1/resized_imgdata/210. 범장망 표류.jpg -> /home/elicer/FIshing_vessel-1/categorized_imgdata/표류/210. 범장망 표류.jpg\n",
      "이미지 이동 완료: /home/elicer/FIshing_vessel-1/resized_imgdata/211. 범장망 표류.jpg -> /home/elicer/FIshing_vessel-1/categorized_imgdata/표류/211. 범장망 표류.jpg\n",
      "이미지 이동 완료: /home/elicer/FIshing_vessel-1/resized_imgdata/4. 타망 표류.jpg -> /home/elicer/FIshing_vessel-1/categorized_imgdata/표류/4. 타망 표류.jpg\n",
      "이미지 이동 완료: /home/elicer/FIshing_vessel-1/resized_imgdata/214. 범장망 표류.jpg -> /home/elicer/FIshing_vessel-1/categorized_imgdata/표류/214. 범장망 표류.jpg\n",
      "이미지 이동 완료: /home/elicer/FIshing_vessel-1/resized_imgdata/212. 범장망 표류.jpg -> /home/elicer/FIshing_vessel-1/categorized_imgdata/표류/212. 범장망 표류.jpg\n",
      "이미지 이동 완료: /home/elicer/FIshing_vessel-1/resized_imgdata/213. 범장망 표류.jpg -> /home/elicer/FIshing_vessel-1/categorized_imgdata/표류/213. 범장망 표류.jpg\n",
      "이미지 이동 완료: /home/elicer/FIshing_vessel-1/resized_imgdata/215. 범장망 표류.jpg -> /home/elicer/FIshing_vessel-1/categorized_imgdata/표류/215. 범장망 표류.jpg\n",
      "이미지 이동 완료: /home/elicer/FIshing_vessel-1/resized_imgdata/216. 범장망 표류.jpg -> /home/elicer/FIshing_vessel-1/categorized_imgdata/표류/216. 범장망 표류.jpg\n",
      "이미지 이동 완료: /home/elicer/FIshing_vessel-1/resized_imgdata/217. 범장망 표류.jpg -> /home/elicer/FIshing_vessel-1/categorized_imgdata/표류/217. 범장망 표류.jpg\n",
      "이미지 이동 완료: /home/elicer/FIshing_vessel-1/resized_imgdata/218. 범장망 표류.jpg -> /home/elicer/FIshing_vessel-1/categorized_imgdata/표류/218. 범장망 표류.jpg\n",
      "이미지 이동 완료: /home/elicer/FIshing_vessel-1/resized_imgdata/219. 범장망 표류.jpg -> /home/elicer/FIshing_vessel-1/categorized_imgdata/표류/219. 범장망 표류.jpg\n",
      "이미지 이동 완료: /home/elicer/FIshing_vessel-1/resized_imgdata/22. 낚시어선 이동.jpg -> /home/elicer/FIshing_vessel-1/categorized_imgdata/이동/22. 낚시어선 이동.jpg\n",
      "이미지 이동 완료: /home/elicer/FIshing_vessel-1/resized_imgdata/22. 낚시어선 조업.jpg -> /home/elicer/FIshing_vessel-1/categorized_imgdata/조업/22. 낚시어선 조업.jpg\n",
      "이미지 이동 완료: /home/elicer/FIshing_vessel-1/resized_imgdata/22. 등광조망 이동.jpg -> /home/elicer/FIshing_vessel-1/categorized_imgdata/이동/22. 등광조망 이동.jpg\n",
      "이미지 이동 완료: /home/elicer/FIshing_vessel-1/resized_imgdata/22. 등광조망 조업.jpg -> /home/elicer/FIshing_vessel-1/categorized_imgdata/조업/22. 등광조망 조업.jpg\n",
      "이미지 이동 완료: /home/elicer/FIshing_vessel-1/resized_imgdata/22. 등광조망 표류.jpg -> /home/elicer/FIshing_vessel-1/categorized_imgdata/표류/22. 등광조망 표류.jpg\n",
      "이미지 이동 완료: /home/elicer/FIshing_vessel-1/resized_imgdata/22. 범장망 이동.jpg -> /home/elicer/FIshing_vessel-1/categorized_imgdata/이동/22. 범장망 이동.jpg\n",
      "이미지 이동 완료: /home/elicer/FIshing_vessel-1/resized_imgdata/22. 범장망 조업.jpg -> /home/elicer/FIshing_vessel-1/categorized_imgdata/조업/22. 범장망 조업.jpg\n",
      "이미지 이동 완료: /home/elicer/FIshing_vessel-1/resized_imgdata/22. 범장망 표류.jpg -> /home/elicer/FIshing_vessel-1/categorized_imgdata/표류/22. 범장망 표류.jpg\n",
      "이미지 이동 완료: /home/elicer/FIshing_vessel-1/resized_imgdata/22. 안강망 이동.jpg -> /home/elicer/FIshing_vessel-1/categorized_imgdata/이동/22. 안강망 이동.jpg\n",
      "이미지 이동 완료: /home/elicer/FIshing_vessel-1/resized_imgdata/22. 연승 이동.jpg -> /home/elicer/FIshing_vessel-1/categorized_imgdata/이동/22. 연승 이동.jpg\n",
      "이미지 이동 완료: /home/elicer/FIshing_vessel-1/resized_imgdata/22. 유망 이동.jpg -> /home/elicer/FIshing_vessel-1/categorized_imgdata/이동/22. 유망 이동.jpg\n",
      "이미지 이동 완료: /home/elicer/FIshing_vessel-1/resized_imgdata/22. 유망 조업.jpg -> /home/elicer/FIshing_vessel-1/categorized_imgdata/조업/22. 유망 조업.jpg\n",
      "이미지 이동 완료: /home/elicer/FIshing_vessel-1/resized_imgdata/22. 연승 표류.jpg -> /home/elicer/FIshing_vessel-1/categorized_imgdata/표류/22. 연승 표류.jpg\n",
      "이미지 이동 완료: /home/elicer/FIshing_vessel-1/resized_imgdata/22. 유망 표류.jpg -> /home/elicer/FIshing_vessel-1/categorized_imgdata/표류/22. 유망 표류.jpg\n",
      "이미지 이동 완료: /home/elicer/FIshing_vessel-1/resized_imgdata/22. 저인망 이동.jpg -> /home/elicer/FIshing_vessel-1/categorized_imgdata/이동/22. 저인망 이동.jpg\n",
      "이미지 이동 완료: /home/elicer/FIshing_vessel-1/resized_imgdata/22. 채낚기 표류.jpg -> /home/elicer/FIshing_vessel-1/categorized_imgdata/표류/22. 채낚기 표류.jpg\n",
      "이미지 이동 완료: /home/elicer/FIshing_vessel-1/resized_imgdata/22. 타망 이동.jpg -> /home/elicer/FIshing_vessel-1/categorized_imgdata/이동/22. 타망 이동.jpg\n",
      "이미지 이동 완료: /home/elicer/FIshing_vessel-1/resized_imgdata/22. 저인망 조업.jpg -> /home/elicer/FIshing_vessel-1/categorized_imgdata/조업/22. 저인망 조업.jpg\n",
      "이미지 이동 완료: /home/elicer/FIshing_vessel-1/resized_imgdata/22. 타망 조업.jpg -> /home/elicer/FIshing_vessel-1/categorized_imgdata/조업/22. 타망 조업.jpg\n",
      "이미지 이동 완료: /home/elicer/FIshing_vessel-1/resized_imgdata/22. 타망 표류.jpg -> /home/elicer/FIshing_vessel-1/categorized_imgdata/표류/22. 타망 표류.jpg\n",
      "이미지 이동 완료: /home/elicer/FIshing_vessel-1/resized_imgdata/22. 통발 이동.jpg -> /home/elicer/FIshing_vessel-1/categorized_imgdata/이동/22. 통발 이동.jpg\n",
      "이미지 이동 완료: /home/elicer/FIshing_vessel-1/resized_imgdata/220. 범장망 표류.jpg -> /home/elicer/FIshing_vessel-1/categorized_imgdata/표류/220. 범장망 표류.jpg\n",
      "이미지 이동 완료: /home/elicer/FIshing_vessel-1/resized_imgdata/221. 범장망 표류.jpg -> /home/elicer/FIshing_vessel-1/categorized_imgdata/표류/221. 범장망 표류.jpg\n",
      "이미지 이동 완료: /home/elicer/FIshing_vessel-1/resized_imgdata/222. 범장망 표류.jpg -> /home/elicer/FIshing_vessel-1/categorized_imgdata/표류/222. 범장망 표류.jpg\n",
      "이미지 이동 완료: /home/elicer/FIshing_vessel-1/resized_imgdata/223. 범장망 표류.jpg -> /home/elicer/FIshing_vessel-1/categorized_imgdata/표류/223. 범장망 표류.jpg\n",
      "이미지 이동 완료: /home/elicer/FIshing_vessel-1/resized_imgdata/224. 범장망 표류.jpg -> /home/elicer/FIshing_vessel-1/categorized_imgdata/표류/224. 범장망 표류.jpg\n",
      "이미지 이동 완료: /home/elicer/FIshing_vessel-1/resized_imgdata/226. 범장망 표류.jpg -> /home/elicer/FIshing_vessel-1/categorized_imgdata/표류/226. 범장망 표류.jpg\n",
      "이미지 이동 완료: /home/elicer/FIshing_vessel-1/resized_imgdata/225. 범장망 표류.jpg -> /home/elicer/FIshing_vessel-1/categorized_imgdata/표류/225. 범장망 표류.jpg\n",
      "이미지 이동 완료: /home/elicer/FIshing_vessel-1/resized_imgdata/227. 범장망 표류.jpg -> /home/elicer/FIshing_vessel-1/categorized_imgdata/표류/227. 범장망 표류.jpg\n",
      "이미지 이동 완료: /home/elicer/FIshing_vessel-1/resized_imgdata/228. 범장망 표류.jpg -> /home/elicer/FIshing_vessel-1/categorized_imgdata/표류/228. 범장망 표류.jpg\n",
      "이미지 이동 완료: /home/elicer/FIshing_vessel-1/resized_imgdata/23. 낚시어선 이동.jpg -> /home/elicer/FIshing_vessel-1/categorized_imgdata/이동/23. 낚시어선 이동.jpg\n",
      "이미지 이동 완료: /home/elicer/FIshing_vessel-1/resized_imgdata/229. 범장망 표류.jpg -> /home/elicer/FIshing_vessel-1/categorized_imgdata/표류/229. 범장망 표류.jpg\n",
      "이미지 이동 완료: /home/elicer/FIshing_vessel-1/resized_imgdata/23. 낚시어선 조업.jpg -> /home/elicer/FIshing_vessel-1/categorized_imgdata/조업/23. 낚시어선 조업.jpg\n",
      "이미지 이동 완료: /home/elicer/FIshing_vessel-1/resized_imgdata/23. 등광조망 조업.jpg -> /home/elicer/FIshing_vessel-1/categorized_imgdata/조업/23. 등광조망 조업.jpg\n",
      "이미지 이동 완료: /home/elicer/FIshing_vessel-1/resized_imgdata/23. 등광조망 표류.jpg -> /home/elicer/FIshing_vessel-1/categorized_imgdata/표류/23. 등광조망 표류.jpg\n",
      "이미지 이동 완료: /home/elicer/FIshing_vessel-1/resized_imgdata/23. 범장망 이동.jpg -> /home/elicer/FIshing_vessel-1/categorized_imgdata/이동/23. 범장망 이동.jpg\n",
      "이미지 이동 완료: /home/elicer/FIshing_vessel-1/resized_imgdata/23. 범장망 조업.jpg -> /home/elicer/FIshing_vessel-1/categorized_imgdata/조업/23. 범장망 조업.jpg\n",
      "이미지 이동 완료: /home/elicer/FIshing_vessel-1/resized_imgdata/23. 범장망 표류.jpg -> /home/elicer/FIshing_vessel-1/categorized_imgdata/표류/23. 범장망 표류.jpg\n",
      "이미지 이동 완료: /home/elicer/FIshing_vessel-1/resized_imgdata/23. 연승 이동.jpg -> /home/elicer/FIshing_vessel-1/categorized_imgdata/이동/23. 연승 이동.jpg\n",
      "이미지 이동 완료: /home/elicer/FIshing_vessel-1/resized_imgdata/23. 연승 표류.jpg -> /home/elicer/FIshing_vessel-1/categorized_imgdata/표류/23. 연승 표류.jpg\n",
      "이미지 이동 완료: /home/elicer/FIshing_vessel-1/resized_imgdata/23. 유망 이동.jpg -> /home/elicer/FIshing_vessel-1/categorized_imgdata/이동/23. 유망 이동.jpg\n",
      "이미지 이동 완료: /home/elicer/FIshing_vessel-1/resized_imgdata/23. 유망 조업.jpg -> /home/elicer/FIshing_vessel-1/categorized_imgdata/조업/23. 유망 조업.jpg\n",
      "이미지 이동 완료: /home/elicer/FIshing_vessel-1/resized_imgdata/23. 유망 표류.jpg -> /home/elicer/FIshing_vessel-1/categorized_imgdata/표류/23. 유망 표류.jpg\n",
      "이미지 이동 완료: /home/elicer/FIshing_vessel-1/resized_imgdata/23. 저인망 이동.jpg -> /home/elicer/FIshing_vessel-1/categorized_imgdata/이동/23. 저인망 이동.jpg\n",
      "이미지 이동 완료: /home/elicer/FIshing_vessel-1/resized_imgdata/23. 저인망 조업.jpg -> /home/elicer/FIshing_vessel-1/categorized_imgdata/조업/23. 저인망 조업.jpg\n",
      "이미지 이동 완료: /home/elicer/FIshing_vessel-1/resized_imgdata/23. 채낚기 표류.jpg -> /home/elicer/FIshing_vessel-1/categorized_imgdata/표류/23. 채낚기 표류.jpg\n",
      "이미지 이동 완료: /home/elicer/FIshing_vessel-1/resized_imgdata/23. 타망 조업.jpg -> /home/elicer/FIshing_vessel-1/categorized_imgdata/조업/23. 타망 조업.jpg\n",
      "이미지 이동 완료: /home/elicer/FIshing_vessel-1/resized_imgdata/23. 타망 이동.jpg -> /home/elicer/FIshing_vessel-1/categorized_imgdata/이동/23. 타망 이동.jpg\n",
      "이미지 이동 완료: /home/elicer/FIshing_vessel-1/resized_imgdata/23. 타망 표류.jpg -> /home/elicer/FIshing_vessel-1/categorized_imgdata/표류/23. 타망 표류.jpg\n",
      "이미지 이동 완료: /home/elicer/FIshing_vessel-1/resized_imgdata/23. 통발 이동.jpg -> /home/elicer/FIshing_vessel-1/categorized_imgdata/이동/23. 통발 이동.jpg\n",
      "이미지 이동 완료: /home/elicer/FIshing_vessel-1/resized_imgdata/23.등광조망 이동.jpg -> /home/elicer/FIshing_vessel-1/categorized_imgdata/이동/23.등광조망 이동.jpg\n",
      "이미지 이동 완료: /home/elicer/FIshing_vessel-1/resized_imgdata/230. 범장망 표류.jpg -> /home/elicer/FIshing_vessel-1/categorized_imgdata/표류/230. 범장망 표류.jpg\n",
      "이미지 이동 완료: /home/elicer/FIshing_vessel-1/resized_imgdata/231. 범장망 표류.jpg -> /home/elicer/FIshing_vessel-1/categorized_imgdata/표류/231. 범장망 표류.jpg\n",
      "이미지 이동 완료: /home/elicer/FIshing_vessel-1/resized_imgdata/232. 범장망 표류.jpg -> /home/elicer/FIshing_vessel-1/categorized_imgdata/표류/232. 범장망 표류.jpg\n",
      "이미지 이동 완료: /home/elicer/FIshing_vessel-1/resized_imgdata/233. 범장망 표류.jpg -> /home/elicer/FIshing_vessel-1/categorized_imgdata/표류/233. 범장망 표류.jpg\n",
      "이미지 이동 완료: /home/elicer/FIshing_vessel-1/resized_imgdata/234. 범장망 표류.jpg -> /home/elicer/FIshing_vessel-1/categorized_imgdata/표류/234. 범장망 표류.jpg\n",
      "이미지 이동 완료: /home/elicer/FIshing_vessel-1/resized_imgdata/235. 범장망 표류.jpg -> /home/elicer/FIshing_vessel-1/categorized_imgdata/표류/235. 범장망 표류.jpg\n",
      "이미지 이동 완료: /home/elicer/FIshing_vessel-1/resized_imgdata/236. 범장망 표류.jpg -> /home/elicer/FIshing_vessel-1/categorized_imgdata/표류/236. 범장망 표류.jpg\n",
      "이미지 이동 완료: /home/elicer/FIshing_vessel-1/resized_imgdata/237. 범장망 표류.jpg -> /home/elicer/FIshing_vessel-1/categorized_imgdata/표류/237. 범장망 표류.jpg\n",
      "이미지 이동 완료: /home/elicer/FIshing_vessel-1/resized_imgdata/238. 범장망 표류.jpg -> /home/elicer/FIshing_vessel-1/categorized_imgdata/표류/238. 범장망 표류.jpg\n",
      "이미지 이동 완료: /home/elicer/FIshing_vessel-1/resized_imgdata/239. 범장망 표류.jpg -> /home/elicer/FIshing_vessel-1/categorized_imgdata/표류/239. 범장망 표류.jpg\n",
      "이미지 이동 완료: /home/elicer/FIshing_vessel-1/resized_imgdata/24. 낚시어선 이동.jpg -> /home/elicer/FIshing_vessel-1/categorized_imgdata/이동/24. 낚시어선 이동.jpg\n",
      "이미지 이동 완료: /home/elicer/FIshing_vessel-1/resized_imgdata/24. 낚시어선 조업.jpg -> /home/elicer/FIshing_vessel-1/categorized_imgdata/조업/24. 낚시어선 조업.jpg\n",
      "이미지 이동 완료: /home/elicer/FIshing_vessel-1/resized_imgdata/24. 등광조망 이동.jpg -> /home/elicer/FIshing_vessel-1/categorized_imgdata/이동/24. 등광조망 이동.jpg\n",
      "이미지 이동 완료: /home/elicer/FIshing_vessel-1/resized_imgdata/24. 등광조망 조업.jpg -> /home/elicer/FIshing_vessel-1/categorized_imgdata/조업/24. 등광조망 조업.jpg\n",
      "이미지 이동 완료: /home/elicer/FIshing_vessel-1/resized_imgdata/24. 범장망 이동.jpg -> /home/elicer/FIshing_vessel-1/categorized_imgdata/이동/24. 범장망 이동.jpg\n",
      "이미지 이동 완료: /home/elicer/FIshing_vessel-1/resized_imgdata/24. 등광조망 표류.jpg -> /home/elicer/FIshing_vessel-1/categorized_imgdata/표류/24. 등광조망 표류.jpg\n",
      "이미지 이동 완료: /home/elicer/FIshing_vessel-1/resized_imgdata/24. 범장망 조업.jpg -> /home/elicer/FIshing_vessel-1/categorized_imgdata/조업/24. 범장망 조업.jpg\n",
      "이미지 이동 완료: /home/elicer/FIshing_vessel-1/resized_imgdata/24. 연승 이동.jpg -> /home/elicer/FIshing_vessel-1/categorized_imgdata/이동/24. 연승 이동.jpg\n",
      "이미지 이동 완료: /home/elicer/FIshing_vessel-1/resized_imgdata/24. 유망 이동.jpg -> /home/elicer/FIshing_vessel-1/categorized_imgdata/이동/24. 유망 이동.jpg\n",
      "이미지 이동 완료: /home/elicer/FIshing_vessel-1/resized_imgdata/24. 유망 표류.jpg -> /home/elicer/FIshing_vessel-1/categorized_imgdata/표류/24. 유망 표류.jpg\n",
      "이미지 이동 완료: /home/elicer/FIshing_vessel-1/resized_imgdata/24. 저인망 이동.jpg -> /home/elicer/FIshing_vessel-1/categorized_imgdata/이동/24. 저인망 이동.jpg\n",
      "이미지 이동 완료: /home/elicer/FIshing_vessel-1/resized_imgdata/24. 유망 조업.jpg -> /home/elicer/FIshing_vessel-1/categorized_imgdata/조업/24. 유망 조업.jpg\n",
      "이미지 이동 완료: /home/elicer/FIshing_vessel-1/resized_imgdata/24. 타망 이동.jpg -> /home/elicer/FIshing_vessel-1/categorized_imgdata/이동/24. 타망 이동.jpg\n",
      "이미지 이동 완료: /home/elicer/FIshing_vessel-1/resized_imgdata/24. 채낚기 표류.jpg -> /home/elicer/FIshing_vessel-1/categorized_imgdata/표류/24. 채낚기 표류.jpg\n",
      "이미지 이동 완료: /home/elicer/FIshing_vessel-1/resized_imgdata/24. 저인망 조업.jpg -> /home/elicer/FIshing_vessel-1/categorized_imgdata/조업/24. 저인망 조업.jpg\n",
      "이미지 이동 완료: /home/elicer/FIshing_vessel-1/resized_imgdata/24. 타망 조업.jpg -> /home/elicer/FIshing_vessel-1/categorized_imgdata/조업/24. 타망 조업.jpg\n",
      "이미지 이동 완료: /home/elicer/FIshing_vessel-1/resized_imgdata/24. 타망 표류.jpg -> /home/elicer/FIshing_vessel-1/categorized_imgdata/표류/24. 타망 표류.jpg\n",
      "이미지 이동 완료: /home/elicer/FIshing_vessel-1/resized_imgdata/24. 통발 이동.jpg -> /home/elicer/FIshing_vessel-1/categorized_imgdata/이동/24. 통발 이동.jpg\n",
      "이미지 이동 완료: /home/elicer/FIshing_vessel-1/resized_imgdata/240. 범장망 표류.jpg -> /home/elicer/FIshing_vessel-1/categorized_imgdata/표류/240. 범장망 표류.jpg\n",
      "이미지 이동 완료: /home/elicer/FIshing_vessel-1/resized_imgdata/241. 범장망 표류.jpg -> /home/elicer/FIshing_vessel-1/categorized_imgdata/표류/241. 범장망 표류.jpg\n",
      "이미지 이동 완료: /home/elicer/FIshing_vessel-1/resized_imgdata/242. 범장망 표류.jpg -> /home/elicer/FIshing_vessel-1/categorized_imgdata/표류/242. 범장망 표류.jpg\n",
      "이미지 이동 완료: /home/elicer/FIshing_vessel-1/resized_imgdata/243. 범장망 표류.jpg -> /home/elicer/FIshing_vessel-1/categorized_imgdata/표류/243. 범장망 표류.jpg\n",
      "이미지 이동 완료: /home/elicer/FIshing_vessel-1/resized_imgdata/244. 범장망 표류.jpg -> /home/elicer/FIshing_vessel-1/categorized_imgdata/표류/244. 범장망 표류.jpg\n",
      "이미지 이동 완료: /home/elicer/FIshing_vessel-1/resized_imgdata/245. 범장망 표류.jpg -> /home/elicer/FIshing_vessel-1/categorized_imgdata/표류/245. 범장망 표류.jpg\n",
      "이미지 이동 완료: /home/elicer/FIshing_vessel-1/resized_imgdata/246. 범장망 표류.jpg -> /home/elicer/FIshing_vessel-1/categorized_imgdata/표류/246. 범장망 표류.jpg\n",
      "이미지 이동 완료: /home/elicer/FIshing_vessel-1/resized_imgdata/247. 범장망 표류.jpg -> /home/elicer/FIshing_vessel-1/categorized_imgdata/표류/247. 범장망 표류.jpg\n",
      "이미지 이동 완료: /home/elicer/FIshing_vessel-1/resized_imgdata/248. 범장망 표류.jpg -> /home/elicer/FIshing_vessel-1/categorized_imgdata/표류/248. 범장망 표류.jpg\n",
      "이미지 이동 완료: /home/elicer/FIshing_vessel-1/resized_imgdata/249. 범장망 표류.jpg -> /home/elicer/FIshing_vessel-1/categorized_imgdata/표류/249. 범장망 표류.jpg\n",
      "이미지 이동 완료: /home/elicer/FIshing_vessel-1/resized_imgdata/25. 낚시어선 이동.jpg -> /home/elicer/FIshing_vessel-1/categorized_imgdata/이동/25. 낚시어선 이동.jpg\n",
      "이미지 이동 완료: /home/elicer/FIshing_vessel-1/resized_imgdata/25. 등광조망 조업.jpg -> /home/elicer/FIshing_vessel-1/categorized_imgdata/조업/25. 등광조망 조업.jpg\n",
      "이미지 이동 완료: /home/elicer/FIshing_vessel-1/resized_imgdata/25. 낚시어선 조업.jpg -> /home/elicer/FIshing_vessel-1/categorized_imgdata/조업/25. 낚시어선 조업.jpg\n",
      "이미지 이동 완료: /home/elicer/FIshing_vessel-1/resized_imgdata/4. 타망 조업.jpg -> /home/elicer/FIshing_vessel-1/categorized_imgdata/조업/4. 타망 조업.jpg\n",
      "이미지 이동 완료: /home/elicer/FIshing_vessel-1/resized_imgdata/25. 범장망 이동.jpg -> /home/elicer/FIshing_vessel-1/categorized_imgdata/이동/25. 범장망 이동.jpg\n",
      "이미지 이동 완료: /home/elicer/FIshing_vessel-1/resized_imgdata/25. 범장망 표류.jpg -> /home/elicer/FIshing_vessel-1/categorized_imgdata/표류/25. 범장망 표류.jpg\n",
      "이미지 이동 완료: /home/elicer/FIshing_vessel-1/resized_imgdata/25. 연승 이동.jpg -> /home/elicer/FIshing_vessel-1/categorized_imgdata/이동/25. 연승 이동.jpg\n",
      "이미지 이동 완료: /home/elicer/FIshing_vessel-1/resized_imgdata/25. 유망 조업.jpg -> /home/elicer/FIshing_vessel-1/categorized_imgdata/조업/25. 유망 조업.jpg\n",
      "이미지 이동 완료: /home/elicer/FIshing_vessel-1/resized_imgdata/25. 유망 이동.jpg -> /home/elicer/FIshing_vessel-1/categorized_imgdata/이동/25. 유망 이동.jpg\n",
      "이미지 이동 완료: /home/elicer/FIshing_vessel-1/resized_imgdata/25. 유망 표류.jpg -> /home/elicer/FIshing_vessel-1/categorized_imgdata/표류/25. 유망 표류.jpg\n",
      "이미지 이동 완료: /home/elicer/FIshing_vessel-1/resized_imgdata/25. 저인망 이동.jpg -> /home/elicer/FIshing_vessel-1/categorized_imgdata/이동/25. 저인망 이동.jpg\n",
      "이미지 이동 완료: /home/elicer/FIshing_vessel-1/resized_imgdata/25. 채낚기 표류.jpg -> /home/elicer/FIshing_vessel-1/categorized_imgdata/표류/25. 채낚기 표류.jpg\n",
      "이미지 이동 완료: /home/elicer/FIshing_vessel-1/resized_imgdata/25. 타망 이동.jpg -> /home/elicer/FIshing_vessel-1/categorized_imgdata/이동/25. 타망 이동.jpg\n",
      "이미지 이동 완료: /home/elicer/FIshing_vessel-1/resized_imgdata/25. 타망 조업.jpg -> /home/elicer/FIshing_vessel-1/categorized_imgdata/조업/25. 타망 조업.jpg\n",
      "이미지 이동 완료: /home/elicer/FIshing_vessel-1/resized_imgdata/25. 타망 표류.jpg -> /home/elicer/FIshing_vessel-1/categorized_imgdata/표류/25. 타망 표류.jpg\n",
      "이미지 이동 완료: /home/elicer/FIshing_vessel-1/resized_imgdata/251. 범장망 표류.jpg -> /home/elicer/FIshing_vessel-1/categorized_imgdata/표류/251. 범장망 표류.jpg\n",
      "이미지 이동 완료: /home/elicer/FIshing_vessel-1/resized_imgdata/250. 범장망 표류.jpg -> /home/elicer/FIshing_vessel-1/categorized_imgdata/표류/250. 범장망 표류.jpg\n",
      "이미지 이동 완료: /home/elicer/FIshing_vessel-1/resized_imgdata/252. 범장망 표류.jpg -> /home/elicer/FIshing_vessel-1/categorized_imgdata/표류/252. 범장망 표류.jpg\n",
      "이미지 이동 완료: /home/elicer/FIshing_vessel-1/resized_imgdata/253. 범장망 표류.jpg -> /home/elicer/FIshing_vessel-1/categorized_imgdata/표류/253. 범장망 표류.jpg\n",
      "이미지 이동 완료: /home/elicer/FIshing_vessel-1/resized_imgdata/254. 범장망 표류.jpg -> /home/elicer/FIshing_vessel-1/categorized_imgdata/표류/254. 범장망 표류.jpg\n",
      "이미지 이동 완료: /home/elicer/FIshing_vessel-1/resized_imgdata/255. 범장망 표류.jpg -> /home/elicer/FIshing_vessel-1/categorized_imgdata/표류/255. 범장망 표류.jpg\n",
      "이미지 이동 완료: /home/elicer/FIshing_vessel-1/resized_imgdata/256. 범장망 표류.jpg -> /home/elicer/FIshing_vessel-1/categorized_imgdata/표류/256. 범장망 표류.jpg\n",
      "이미지 이동 완료: /home/elicer/FIshing_vessel-1/resized_imgdata/257. 범장망 표류.jpg -> /home/elicer/FIshing_vessel-1/categorized_imgdata/표류/257. 범장망 표류.jpg\n",
      "이미지 이동 완료: /home/elicer/FIshing_vessel-1/resized_imgdata/258. 범장망 표류.jpg -> /home/elicer/FIshing_vessel-1/categorized_imgdata/표류/258. 범장망 표류.jpg\n",
      "이미지 이동 완료: /home/elicer/FIshing_vessel-1/resized_imgdata/259. 범장망 표류.jpg -> /home/elicer/FIshing_vessel-1/categorized_imgdata/표류/259. 범장망 표류.jpg\n",
      "이미지 이동 완료: /home/elicer/FIshing_vessel-1/resized_imgdata/26. 낚시어선 이동.jpg -> /home/elicer/FIshing_vessel-1/categorized_imgdata/이동/26. 낚시어선 이동.jpg\n",
      "이미지 이동 완료: /home/elicer/FIshing_vessel-1/resized_imgdata/26. 낚시어선 조업.jpg -> /home/elicer/FIshing_vessel-1/categorized_imgdata/조업/26. 낚시어선 조업.jpg\n",
      "이미지 이동 완료: /home/elicer/FIshing_vessel-1/resized_imgdata/26. 등광조망 이동.jpg -> /home/elicer/FIshing_vessel-1/categorized_imgdata/이동/26. 등광조망 이동.jpg\n",
      "이미지 이동 완료: /home/elicer/FIshing_vessel-1/resized_imgdata/26. 등광조망 조업.jpg -> /home/elicer/FIshing_vessel-1/categorized_imgdata/조업/26. 등광조망 조업.jpg\n",
      "이미지 이동 완료: /home/elicer/FIshing_vessel-1/resized_imgdata/26. 범장망 표류.jpg -> /home/elicer/FIshing_vessel-1/categorized_imgdata/표류/26. 범장망 표류.jpg\n",
      "이미지 이동 완료: /home/elicer/FIshing_vessel-1/resized_imgdata/26. 연승 이동.jpg -> /home/elicer/FIshing_vessel-1/categorized_imgdata/이동/26. 연승 이동.jpg\n",
      "이미지 이동 완료: /home/elicer/FIshing_vessel-1/resized_imgdata/26. 유망 이동.jpg -> /home/elicer/FIshing_vessel-1/categorized_imgdata/이동/26. 유망 이동.jpg\n",
      "이미지 이동 완료: /home/elicer/FIshing_vessel-1/resized_imgdata/26. 유망 조업.jpg -> /home/elicer/FIshing_vessel-1/categorized_imgdata/조업/26. 유망 조업.jpg\n",
      "이미지 이동 완료: /home/elicer/FIshing_vessel-1/resized_imgdata/26. 유망 표류.jpg -> /home/elicer/FIshing_vessel-1/categorized_imgdata/표류/26. 유망 표류.jpg\n",
      "이미지 이동 완료: /home/elicer/FIshing_vessel-1/resized_imgdata/26. 저인망 이동.jpg -> /home/elicer/FIshing_vessel-1/categorized_imgdata/이동/26. 저인망 이동.jpg\n",
      "이미지 이동 완료: /home/elicer/FIshing_vessel-1/resized_imgdata/26. 채낚기 표류.jpg -> /home/elicer/FIshing_vessel-1/categorized_imgdata/표류/26. 채낚기 표류.jpg\n",
      "이미지 이동 완료: /home/elicer/FIshing_vessel-1/resized_imgdata/26. 타망 이동.jpg -> /home/elicer/FIshing_vessel-1/categorized_imgdata/이동/26. 타망 이동.jpg\n",
      "이미지 이동 완료: /home/elicer/FIshing_vessel-1/resized_imgdata/26. 타망 조업.jpg -> /home/elicer/FIshing_vessel-1/categorized_imgdata/조업/26. 타망 조업.jpg\n",
      "이미지 이동 완료: /home/elicer/FIshing_vessel-1/resized_imgdata/26. 타망 표류.jpg -> /home/elicer/FIshing_vessel-1/categorized_imgdata/표류/26. 타망 표류.jpg\n",
      "이미지 이동 완료: /home/elicer/FIshing_vessel-1/resized_imgdata/26. 통발 이동.jpg -> /home/elicer/FIshing_vessel-1/categorized_imgdata/이동/26. 통발 이동.jpg\n",
      "이미지 이동 완료: /home/elicer/FIshing_vessel-1/resized_imgdata/262. 범장망 표류.png -> /home/elicer/FIshing_vessel-1/categorized_imgdata/표류/262. 범장망 표류.png\n",
      "이미지 이동 완료: /home/elicer/FIshing_vessel-1/resized_imgdata/263. 범장망 표류.png -> /home/elicer/FIshing_vessel-1/categorized_imgdata/표류/263. 범장망 표류.png\n",
      "이미지 이동 완료: /home/elicer/FIshing_vessel-1/resized_imgdata/260. 범장망 표류.jpg -> /home/elicer/FIshing_vessel-1/categorized_imgdata/표류/260. 범장망 표류.jpg\n",
      "이미지 이동 완료: /home/elicer/FIshing_vessel-1/resized_imgdata/261. 범장망 표류.jpg -> /home/elicer/FIshing_vessel-1/categorized_imgdata/표류/261. 범장망 표류.jpg\n",
      "이미지 이동 완료: /home/elicer/FIshing_vessel-1/resized_imgdata/264. 범장망 표류.jpg -> /home/elicer/FIshing_vessel-1/categorized_imgdata/표류/264. 범장망 표류.jpg\n",
      "이미지 이동 완료: /home/elicer/FIshing_vessel-1/resized_imgdata/265. 범장망 표류.jpg -> /home/elicer/FIshing_vessel-1/categorized_imgdata/표류/265. 범장망 표류.jpg\n",
      "이미지 이동 완료: /home/elicer/FIshing_vessel-1/resized_imgdata/266. 범장망 표류.jpg -> /home/elicer/FIshing_vessel-1/categorized_imgdata/표류/266. 범장망 표류.jpg\n",
      "이미지 이동 완료: /home/elicer/FIshing_vessel-1/resized_imgdata/267. 범장망 표류.jpg -> /home/elicer/FIshing_vessel-1/categorized_imgdata/표류/267. 범장망 표류.jpg\n",
      "이미지 이동 완료: /home/elicer/FIshing_vessel-1/resized_imgdata/268. 범장망 표류.jpg -> /home/elicer/FIshing_vessel-1/categorized_imgdata/표류/268. 범장망 표류.jpg\n",
      "이미지 이동 완료: /home/elicer/FIshing_vessel-1/resized_imgdata/269. 범장망 표류.jpg -> /home/elicer/FIshing_vessel-1/categorized_imgdata/표류/269. 범장망 표류.jpg\n",
      "이미지 이동 완료: /home/elicer/FIshing_vessel-1/resized_imgdata/27. 낚시어선 이동.jpg -> /home/elicer/FIshing_vessel-1/categorized_imgdata/이동/27. 낚시어선 이동.jpg\n",
      "이미지 이동 완료: /home/elicer/FIshing_vessel-1/resized_imgdata/27. 낚시어선 조업.jpg -> /home/elicer/FIshing_vessel-1/categorized_imgdata/조업/27. 낚시어선 조업.jpg\n",
      "이미지 이동 완료: /home/elicer/FIshing_vessel-1/resized_imgdata/27. 등광조망 이동.jpg -> /home/elicer/FIshing_vessel-1/categorized_imgdata/이동/27. 등광조망 이동.jpg\n",
      "이미지 이동 완료: /home/elicer/FIshing_vessel-1/resized_imgdata/27. 범장망 표류.jpg -> /home/elicer/FIshing_vessel-1/categorized_imgdata/표류/27. 범장망 표류.jpg\n",
      "이미지 이동 완료: /home/elicer/FIshing_vessel-1/resized_imgdata/27. 범장망 이동.jpg -> /home/elicer/FIshing_vessel-1/categorized_imgdata/이동/27. 범장망 이동.jpg\n",
      "이미지 이동 완료: /home/elicer/FIshing_vessel-1/resized_imgdata/27. 등광조망 조업.jpg -> /home/elicer/FIshing_vessel-1/categorized_imgdata/조업/27. 등광조망 조업.jpg\n",
      "이미지 이동 완료: /home/elicer/FIshing_vessel-1/resized_imgdata/27. 연승 이동.jpg -> /home/elicer/FIshing_vessel-1/categorized_imgdata/이동/27. 연승 이동.jpg\n",
      "이미지 이동 완료: /home/elicer/FIshing_vessel-1/resized_imgdata/27. 유망 이동.jpg -> /home/elicer/FIshing_vessel-1/categorized_imgdata/이동/27. 유망 이동.jpg\n",
      "이미지 이동 완료: /home/elicer/FIshing_vessel-1/resized_imgdata/27. 유망 조업.jpg -> /home/elicer/FIshing_vessel-1/categorized_imgdata/조업/27. 유망 조업.jpg\n",
      "이미지 이동 완료: /home/elicer/FIshing_vessel-1/resized_imgdata/27. 유망 표류.jpg -> /home/elicer/FIshing_vessel-1/categorized_imgdata/표류/27. 유망 표류.jpg\n",
      "이미지 이동 완료: /home/elicer/FIshing_vessel-1/resized_imgdata/27. 저인망 이동.jpg -> /home/elicer/FIshing_vessel-1/categorized_imgdata/이동/27. 저인망 이동.jpg\n",
      "이미지 이동 완료: /home/elicer/FIshing_vessel-1/resized_imgdata/27. 채낚기 표류.jpg -> /home/elicer/FIshing_vessel-1/categorized_imgdata/표류/27. 채낚기 표류.jpg\n",
      "이미지 이동 완료: /home/elicer/FIshing_vessel-1/resized_imgdata/27. 타망 이동.jpg -> /home/elicer/FIshing_vessel-1/categorized_imgdata/이동/27. 타망 이동.jpg\n",
      "이미지 이동 완료: /home/elicer/FIshing_vessel-1/resized_imgdata/27. 타망 조업.jpg -> /home/elicer/FIshing_vessel-1/categorized_imgdata/조업/27. 타망 조업.jpg\n",
      "이미지 이동 완료: /home/elicer/FIshing_vessel-1/resized_imgdata/27. 타망 표류.jpg -> /home/elicer/FIshing_vessel-1/categorized_imgdata/표류/27. 타망 표류.jpg\n",
      "이미지 이동 완료: /home/elicer/FIshing_vessel-1/resized_imgdata/27. 통발 이동.jpg -> /home/elicer/FIshing_vessel-1/categorized_imgdata/이동/27. 통발 이동.jpg\n",
      "이미지 이동 완료: /home/elicer/FIshing_vessel-1/resized_imgdata/270. 범장망 표류.jpg -> /home/elicer/FIshing_vessel-1/categorized_imgdata/표류/270. 범장망 표류.jpg\n",
      "이미지 이동 완료: /home/elicer/FIshing_vessel-1/resized_imgdata/271. 범장망 표류.jpg -> /home/elicer/FIshing_vessel-1/categorized_imgdata/표류/271. 범장망 표류.jpg\n",
      "이미지 이동 완료: /home/elicer/FIshing_vessel-1/resized_imgdata/272. 범장망 표류.jpg -> /home/elicer/FIshing_vessel-1/categorized_imgdata/표류/272. 범장망 표류.jpg\n",
      "이미지 이동 완료: /home/elicer/FIshing_vessel-1/resized_imgdata/273. 범장망 표류.jpg -> /home/elicer/FIshing_vessel-1/categorized_imgdata/표류/273. 범장망 표류.jpg\n",
      "이미지 이동 완료: /home/elicer/FIshing_vessel-1/resized_imgdata/274. 범장망 표류.jpg -> /home/elicer/FIshing_vessel-1/categorized_imgdata/표류/274. 범장망 표류.jpg\n",
      "이미지 이동 완료: /home/elicer/FIshing_vessel-1/resized_imgdata/275. 범장망 표류.jpg -> /home/elicer/FIshing_vessel-1/categorized_imgdata/표류/275. 범장망 표류.jpg\n",
      "이미지 이동 완료: /home/elicer/FIshing_vessel-1/resized_imgdata/276. 범장망 표류.jpg -> /home/elicer/FIshing_vessel-1/categorized_imgdata/표류/276. 범장망 표류.jpg\n",
      "이미지 이동 완료: /home/elicer/FIshing_vessel-1/resized_imgdata/278. 범장망 표류.jpg -> /home/elicer/FIshing_vessel-1/categorized_imgdata/표류/278. 범장망 표류.jpg\n",
      "이미지 이동 완료: /home/elicer/FIshing_vessel-1/resized_imgdata/277. 범장망 표류.jpg -> /home/elicer/FIshing_vessel-1/categorized_imgdata/표류/277. 범장망 표류.jpg\n",
      "이미지 이동 완료: /home/elicer/FIshing_vessel-1/resized_imgdata/279. 범장망 표류.jpg -> /home/elicer/FIshing_vessel-1/categorized_imgdata/표류/279. 범장망 표류.jpg\n",
      "이미지 이동 완료: /home/elicer/FIshing_vessel-1/resized_imgdata/28. 낚시어선 이동.jpg -> /home/elicer/FIshing_vessel-1/categorized_imgdata/이동/28. 낚시어선 이동.jpg\n",
      "이미지 이동 완료: /home/elicer/FIshing_vessel-1/resized_imgdata/28. 낚시어선 조업.jpg -> /home/elicer/FIshing_vessel-1/categorized_imgdata/조업/28. 낚시어선 조업.jpg\n",
      "이미지 이동 완료: /home/elicer/FIshing_vessel-1/resized_imgdata/28. 등광조망 이동.jpg -> /home/elicer/FIshing_vessel-1/categorized_imgdata/이동/28. 등광조망 이동.jpg\n",
      "이미지 이동 완료: /home/elicer/FIshing_vessel-1/resized_imgdata/28. 등광조망 조업.jpg -> /home/elicer/FIshing_vessel-1/categorized_imgdata/조업/28. 등광조망 조업.jpg\n",
      "이미지 이동 완료: /home/elicer/FIshing_vessel-1/resized_imgdata/28. 범장망 이동.jpg -> /home/elicer/FIshing_vessel-1/categorized_imgdata/이동/28. 범장망 이동.jpg\n",
      "이미지 이동 완료: /home/elicer/FIshing_vessel-1/resized_imgdata/28. 범장망 표류.jpg -> /home/elicer/FIshing_vessel-1/categorized_imgdata/표류/28. 범장망 표류.jpg\n",
      "이미지 이동 완료: /home/elicer/FIshing_vessel-1/resized_imgdata/28. 연승 이동.jpg -> /home/elicer/FIshing_vessel-1/categorized_imgdata/이동/28. 연승 이동.jpg\n",
      "이미지 이동 완료: /home/elicer/FIshing_vessel-1/resized_imgdata/28. 유망 이동.jpg -> /home/elicer/FIshing_vessel-1/categorized_imgdata/이동/28. 유망 이동.jpg\n",
      "이미지 이동 완료: /home/elicer/FIshing_vessel-1/resized_imgdata/28. 유망 표류.jpg -> /home/elicer/FIshing_vessel-1/categorized_imgdata/표류/28. 유망 표류.jpg\n",
      "이미지 이동 완료: /home/elicer/FIshing_vessel-1/resized_imgdata/28. 유망 조업.jpg -> /home/elicer/FIshing_vessel-1/categorized_imgdata/조업/28. 유망 조업.jpg\n",
      "이미지 이동 완료: /home/elicer/FIshing_vessel-1/resized_imgdata/28. 저인망 이동.jpg -> /home/elicer/FIshing_vessel-1/categorized_imgdata/이동/28. 저인망 이동.jpg\n",
      "이미지 이동 완료: /home/elicer/FIshing_vessel-1/resized_imgdata/28. 타망 이동.jpg -> /home/elicer/FIshing_vessel-1/categorized_imgdata/이동/28. 타망 이동.jpg\n",
      "이미지 이동 완료: /home/elicer/FIshing_vessel-1/resized_imgdata/28. 타망 조업.jpg -> /home/elicer/FIshing_vessel-1/categorized_imgdata/조업/28. 타망 조업.jpg\n",
      "이미지 이동 완료: /home/elicer/FIshing_vessel-1/resized_imgdata/28. 타망 표류.jpg -> /home/elicer/FIshing_vessel-1/categorized_imgdata/표류/28. 타망 표류.jpg\n",
      "이미지 이동 완료: /home/elicer/FIshing_vessel-1/resized_imgdata/28. 통발 이동.jpg -> /home/elicer/FIshing_vessel-1/categorized_imgdata/이동/28. 통발 이동.jpg\n",
      "이미지 이동 완료: /home/elicer/FIshing_vessel-1/resized_imgdata/280. 범장망 표류.jpg -> /home/elicer/FIshing_vessel-1/categorized_imgdata/표류/280. 범장망 표류.jpg\n",
      "이미지 이동 완료: /home/elicer/FIshing_vessel-1/resized_imgdata/281. 범장망 표류.jpg -> /home/elicer/FIshing_vessel-1/categorized_imgdata/표류/281. 범장망 표류.jpg\n",
      "이미지 이동 완료: /home/elicer/FIshing_vessel-1/resized_imgdata/282. 범장망 표류.jpg -> /home/elicer/FIshing_vessel-1/categorized_imgdata/표류/282. 범장망 표류.jpg\n",
      "이미지 이동 완료: /home/elicer/FIshing_vessel-1/resized_imgdata/283. 범장망 표류.jpg -> /home/elicer/FIshing_vessel-1/categorized_imgdata/표류/283. 범장망 표류.jpg\n",
      "이미지 이동 완료: /home/elicer/FIshing_vessel-1/resized_imgdata/284. 범장망 표류.jpg -> /home/elicer/FIshing_vessel-1/categorized_imgdata/표류/284. 범장망 표류.jpg\n",
      "이미지 이동 완료: /home/elicer/FIshing_vessel-1/resized_imgdata/285. 범장망 표류.jpg -> /home/elicer/FIshing_vessel-1/categorized_imgdata/표류/285. 범장망 표류.jpg\n",
      "이미지 이동 완료: /home/elicer/FIshing_vessel-1/resized_imgdata/286. 범장망 표류.jpg -> /home/elicer/FIshing_vessel-1/categorized_imgdata/표류/286. 범장망 표류.jpg\n",
      "이미지 이동 완료: /home/elicer/FIshing_vessel-1/resized_imgdata/287. 범장망 표류.jpg -> /home/elicer/FIshing_vessel-1/categorized_imgdata/표류/287. 범장망 표류.jpg\n",
      "이미지 이동 완료: /home/elicer/FIshing_vessel-1/resized_imgdata/289. 범장망 표류.jpg -> /home/elicer/FIshing_vessel-1/categorized_imgdata/표류/289. 범장망 표류.jpg\n",
      "이미지 이동 완료: /home/elicer/FIshing_vessel-1/resized_imgdata/29. 낚시어선 이동.jpg -> /home/elicer/FIshing_vessel-1/categorized_imgdata/이동/29. 낚시어선 이동.jpg\n",
      "이미지 이동 완료: /home/elicer/FIshing_vessel-1/resized_imgdata/4. 유망 표류.jpg -> /home/elicer/FIshing_vessel-1/categorized_imgdata/표류/4. 유망 표류.jpg\n",
      "이미지 이동 완료: /home/elicer/FIshing_vessel-1/resized_imgdata/29. 낚시어선 조업.jpg -> /home/elicer/FIshing_vessel-1/categorized_imgdata/조업/29. 낚시어선 조업.jpg\n",
      "이미지 이동 완료: /home/elicer/FIshing_vessel-1/resized_imgdata/29. 등광조망 이동.jpg -> /home/elicer/FIshing_vessel-1/categorized_imgdata/이동/29. 등광조망 이동.jpg\n",
      "이미지 이동 완료: /home/elicer/FIshing_vessel-1/resized_imgdata/29. 범장망 이동.jpg -> /home/elicer/FIshing_vessel-1/categorized_imgdata/이동/29. 범장망 이동.jpg\n",
      "이미지 이동 완료: /home/elicer/FIshing_vessel-1/resized_imgdata/29. 등광조망 조업.jpg -> /home/elicer/FIshing_vessel-1/categorized_imgdata/조업/29. 등광조망 조업.jpg\n",
      "이미지 이동 완료: /home/elicer/FIshing_vessel-1/resized_imgdata/29. 범장망 표류.jpg -> /home/elicer/FIshing_vessel-1/categorized_imgdata/표류/29. 범장망 표류.jpg\n",
      "이미지 이동 완료: /home/elicer/FIshing_vessel-1/resized_imgdata/29. 연승 이동.jpg -> /home/elicer/FIshing_vessel-1/categorized_imgdata/이동/29. 연승 이동.jpg\n",
      "이미지 이동 완료: /home/elicer/FIshing_vessel-1/resized_imgdata/29. 유망 이동.jpg -> /home/elicer/FIshing_vessel-1/categorized_imgdata/이동/29. 유망 이동.jpg\n",
      "이미지 이동 완료: /home/elicer/FIshing_vessel-1/resized_imgdata/29. 유망 조업.jpg -> /home/elicer/FIshing_vessel-1/categorized_imgdata/조업/29. 유망 조업.jpg\n",
      "이미지 이동 완료: /home/elicer/FIshing_vessel-1/resized_imgdata/29. 유망 표류.jpg -> /home/elicer/FIshing_vessel-1/categorized_imgdata/표류/29. 유망 표류.jpg\n",
      "이미지 이동 완료: /home/elicer/FIshing_vessel-1/resized_imgdata/29. 저인망 이동.jpg -> /home/elicer/FIshing_vessel-1/categorized_imgdata/이동/29. 저인망 이동.jpg\n",
      "이미지 이동 완료: /home/elicer/FIshing_vessel-1/resized_imgdata/29. 채낚기 표류.jpg -> /home/elicer/FIshing_vessel-1/categorized_imgdata/표류/29. 채낚기 표류.jpg\n",
      "이미지 이동 완료: /home/elicer/FIshing_vessel-1/resized_imgdata/29. 타망 이동.jpg -> /home/elicer/FIshing_vessel-1/categorized_imgdata/이동/29. 타망 이동.jpg\n",
      "이미지 이동 완료: /home/elicer/FIshing_vessel-1/resized_imgdata/29. 타망 조업.jpg -> /home/elicer/FIshing_vessel-1/categorized_imgdata/조업/29. 타망 조업.jpg\n",
      "이미지 이동 완료: /home/elicer/FIshing_vessel-1/resized_imgdata/290. 범장망 표류.jpg -> /home/elicer/FIshing_vessel-1/categorized_imgdata/표류/290. 범장망 표류.jpg\n",
      "이미지 이동 완료: /home/elicer/FIshing_vessel-1/resized_imgdata/29. 통발 이동.jpg -> /home/elicer/FIshing_vessel-1/categorized_imgdata/이동/29. 통발 이동.jpg\n",
      "이미지 이동 완료: /home/elicer/FIshing_vessel-1/resized_imgdata/29. 타망 표류.jpg -> /home/elicer/FIshing_vessel-1/categorized_imgdata/표류/29. 타망 표류.jpg\n",
      "이미지 이동 완료: /home/elicer/FIshing_vessel-1/resized_imgdata/291. 범장망 표류.jpg -> /home/elicer/FIshing_vessel-1/categorized_imgdata/표류/291. 범장망 표류.jpg\n",
      "이미지 이동 완료: /home/elicer/FIshing_vessel-1/resized_imgdata/292. 범장망 표류.jpg -> /home/elicer/FIshing_vessel-1/categorized_imgdata/표류/292. 범장망 표류.jpg\n",
      "이미지 이동 완료: /home/elicer/FIshing_vessel-1/resized_imgdata/293. 범장망 표류.jpg -> /home/elicer/FIshing_vessel-1/categorized_imgdata/표류/293. 범장망 표류.jpg\n",
      "이미지 이동 완료: /home/elicer/FIshing_vessel-1/resized_imgdata/294. 범장망 표류.jpg -> /home/elicer/FIshing_vessel-1/categorized_imgdata/표류/294. 범장망 표류.jpg\n",
      "이미지 이동 완료: /home/elicer/FIshing_vessel-1/resized_imgdata/295. 범장망 표류.jpg -> /home/elicer/FIshing_vessel-1/categorized_imgdata/표류/295. 범장망 표류.jpg\n",
      "이미지 이동 완료: /home/elicer/FIshing_vessel-1/resized_imgdata/296. 범장망 표류.jpg -> /home/elicer/FIshing_vessel-1/categorized_imgdata/표류/296. 범장망 표류.jpg\n",
      "이미지 이동 완료: /home/elicer/FIshing_vessel-1/resized_imgdata/297. 범장망 표류.jpg -> /home/elicer/FIshing_vessel-1/categorized_imgdata/표류/297. 범장망 표류.jpg\n",
      "이미지 이동 완료: /home/elicer/FIshing_vessel-1/resized_imgdata/298. 범장망 표류.jpg -> /home/elicer/FIshing_vessel-1/categorized_imgdata/표류/298. 범장망 표류.jpg\n",
      "이미지 이동 완료: /home/elicer/FIshing_vessel-1/resized_imgdata/3. 낚시어선 이동.jpg -> /home/elicer/FIshing_vessel-1/categorized_imgdata/이동/3. 낚시어선 이동.jpg\n",
      "이미지 이동 완료: /home/elicer/FIshing_vessel-1/resized_imgdata/299. 범장망 표류.jpg -> /home/elicer/FIshing_vessel-1/categorized_imgdata/표류/299. 범장망 표류.jpg\n",
      "이미지 이동 완료: /home/elicer/FIshing_vessel-1/resized_imgdata/3. 낚시어선 표류.jpg -> /home/elicer/FIshing_vessel-1/categorized_imgdata/표류/3. 낚시어선 표류.jpg\n",
      "이미지 이동 완료: /home/elicer/FIshing_vessel-1/resized_imgdata/3. 등광조망 이동.jpg -> /home/elicer/FIshing_vessel-1/categorized_imgdata/이동/3. 등광조망 이동.jpg\n",
      "이미지 이동 완료: /home/elicer/FIshing_vessel-1/resized_imgdata/3. 등광조망 표류.jpg -> /home/elicer/FIshing_vessel-1/categorized_imgdata/표류/3. 등광조망 표류.jpg\n",
      "이미지 이동 완료: /home/elicer/FIshing_vessel-1/resized_imgdata/3. 등광조망 조업.jpg -> /home/elicer/FIshing_vessel-1/categorized_imgdata/조업/3. 등광조망 조업.jpg\n",
      "이미지 이동 완료: /home/elicer/FIshing_vessel-1/resized_imgdata/3. 범장망 이동.jpg -> /home/elicer/FIshing_vessel-1/categorized_imgdata/이동/3. 범장망 이동.jpg\n",
      "이미지 이동 완료: /home/elicer/FIshing_vessel-1/resized_imgdata/3. 범장망 표류.jpg -> /home/elicer/FIshing_vessel-1/categorized_imgdata/표류/3. 범장망 표류.jpg\n",
      "이미지 이동 완료: /home/elicer/FIshing_vessel-1/resized_imgdata/3. 범장망 조업.jpg -> /home/elicer/FIshing_vessel-1/categorized_imgdata/조업/3. 범장망 조업.jpg\n",
      "이미지 이동 완료: /home/elicer/FIshing_vessel-1/resized_imgdata/3. 안강망 이동.jpg -> /home/elicer/FIshing_vessel-1/categorized_imgdata/이동/3. 안강망 이동.jpg\n",
      "이미지 이동 완료: /home/elicer/FIshing_vessel-1/resized_imgdata/3. 안강망 조업.jpg -> /home/elicer/FIshing_vessel-1/categorized_imgdata/조업/3. 안강망 조업.jpg\n",
      "이미지 이동 완료: /home/elicer/FIshing_vessel-1/resized_imgdata/3. 안강망 표류.jpg -> /home/elicer/FIshing_vessel-1/categorized_imgdata/표류/3. 안강망 표류.jpg\n",
      "이미지 이동 완료: /home/elicer/FIshing_vessel-1/resized_imgdata/3. 유망 이동.jpg -> /home/elicer/FIshing_vessel-1/categorized_imgdata/이동/3. 유망 이동.jpg\n",
      "이미지 이동 완료: /home/elicer/FIshing_vessel-1/resized_imgdata/3. 연승 이동.jpg -> /home/elicer/FIshing_vessel-1/categorized_imgdata/이동/3. 연승 이동.jpg\n",
      "이미지 이동 완료: /home/elicer/FIshing_vessel-1/resized_imgdata/3. 유망 조업.jpg -> /home/elicer/FIshing_vessel-1/categorized_imgdata/조업/3. 유망 조업.jpg\n",
      "이미지 이동 완료: /home/elicer/FIshing_vessel-1/resized_imgdata/3. 유망 표류.jpg -> /home/elicer/FIshing_vessel-1/categorized_imgdata/표류/3. 유망 표류.jpg\n",
      "이미지 이동 완료: /home/elicer/FIshing_vessel-1/resized_imgdata/3. 저인망 이동.jpg -> /home/elicer/FIshing_vessel-1/categorized_imgdata/이동/3. 저인망 이동.jpg\n",
      "이미지 이동 완료: /home/elicer/FIshing_vessel-1/resized_imgdata/3. 저인망 조업.jpg -> /home/elicer/FIshing_vessel-1/categorized_imgdata/조업/3. 저인망 조업.jpg\n",
      "이미지 이동 완료: /home/elicer/FIshing_vessel-1/resized_imgdata/3. 저인망 표류.jpg -> /home/elicer/FIshing_vessel-1/categorized_imgdata/표류/3. 저인망 표류.jpg\n",
      "이미지 이동 완료: /home/elicer/FIshing_vessel-1/resized_imgdata/3. 채낚기  표류.jpg -> /home/elicer/FIshing_vessel-1/categorized_imgdata/표류/3. 채낚기  표류.jpg\n",
      "이미지 이동 완료: /home/elicer/FIshing_vessel-1/resized_imgdata/3. 타망 이동.jpg -> /home/elicer/FIshing_vessel-1/categorized_imgdata/이동/3. 타망 이동.jpg\n",
      "이미지 이동 완료: /home/elicer/FIshing_vessel-1/resized_imgdata/3. 채낚기 조업.jpg -> /home/elicer/FIshing_vessel-1/categorized_imgdata/조업/3. 채낚기 조업.jpg\n",
      "이미지 이동 완료: /home/elicer/FIshing_vessel-1/resized_imgdata/3. 타망 조업.jpg -> /home/elicer/FIshing_vessel-1/categorized_imgdata/조업/3. 타망 조업.jpg\n",
      "이미지 이동 완료: /home/elicer/FIshing_vessel-1/resized_imgdata/3. 타망 표류.jpg -> /home/elicer/FIshing_vessel-1/categorized_imgdata/표류/3. 타망 표류.jpg\n",
      "이미지 이동 완료: /home/elicer/FIshing_vessel-1/resized_imgdata/3. 통발 이동.jpg -> /home/elicer/FIshing_vessel-1/categorized_imgdata/이동/3. 통발 이동.jpg\n",
      "이미지 이동 완료: /home/elicer/FIshing_vessel-1/resized_imgdata/3. 통발 표류.jpg -> /home/elicer/FIshing_vessel-1/categorized_imgdata/표류/3. 통발 표류.jpg\n",
      "이미지 이동 완료: /home/elicer/FIshing_vessel-1/resized_imgdata/30. 낚시어선 이동.jpg -> /home/elicer/FIshing_vessel-1/categorized_imgdata/이동/30. 낚시어선 이동.jpg\n",
      "이미지 이동 완료: /home/elicer/FIshing_vessel-1/resized_imgdata/30. 낚시어선 조업.jpg -> /home/elicer/FIshing_vessel-1/categorized_imgdata/조업/30. 낚시어선 조업.jpg\n",
      "이미지 이동 완료: /home/elicer/FIshing_vessel-1/resized_imgdata/30. 등광조망 이동.jpg -> /home/elicer/FIshing_vessel-1/categorized_imgdata/이동/30. 등광조망 이동.jpg\n",
      "이미지 이동 완료: /home/elicer/FIshing_vessel-1/resized_imgdata/30. 범장망 이동.jpg -> /home/elicer/FIshing_vessel-1/categorized_imgdata/이동/30. 범장망 이동.jpg\n",
      "이미지 이동 완료: /home/elicer/FIshing_vessel-1/resized_imgdata/30. 등광조망 조업.jpg -> /home/elicer/FIshing_vessel-1/categorized_imgdata/조업/30. 등광조망 조업.jpg\n",
      "이미지 이동 완료: /home/elicer/FIshing_vessel-1/resized_imgdata/30. 범장망 표류.jpg -> /home/elicer/FIshing_vessel-1/categorized_imgdata/표류/30. 범장망 표류.jpg\n",
      "이미지 이동 완료: /home/elicer/FIshing_vessel-1/resized_imgdata/30. 연승 이동.jpg -> /home/elicer/FIshing_vessel-1/categorized_imgdata/이동/30. 연승 이동.jpg\n",
      "이미지 이동 완료: /home/elicer/FIshing_vessel-1/resized_imgdata/30. 유망 이동.jpg -> /home/elicer/FIshing_vessel-1/categorized_imgdata/이동/30. 유망 이동.jpg\n",
      "이미지 이동 완료: /home/elicer/FIshing_vessel-1/resized_imgdata/30. 유망 조업.jpg -> /home/elicer/FIshing_vessel-1/categorized_imgdata/조업/30. 유망 조업.jpg\n",
      "이미지 이동 완료: /home/elicer/FIshing_vessel-1/resized_imgdata/30. 유망 표류.jpg -> /home/elicer/FIshing_vessel-1/categorized_imgdata/표류/30. 유망 표류.jpg\n",
      "이미지 이동 완료: /home/elicer/FIshing_vessel-1/resized_imgdata/30. 저인망 이동.jpg -> /home/elicer/FIshing_vessel-1/categorized_imgdata/이동/30. 저인망 이동.jpg\n",
      "이미지 이동 완료: /home/elicer/FIshing_vessel-1/resized_imgdata/30. 채낚기 표류.jpg -> /home/elicer/FIshing_vessel-1/categorized_imgdata/표류/30. 채낚기 표류.jpg\n",
      "이미지 이동 완료: /home/elicer/FIshing_vessel-1/resized_imgdata/30. 타망 이동.jpg -> /home/elicer/FIshing_vessel-1/categorized_imgdata/이동/30. 타망 이동.jpg\n",
      "이미지 이동 완료: /home/elicer/FIshing_vessel-1/resized_imgdata/30. 타망 표류.jpg -> /home/elicer/FIshing_vessel-1/categorized_imgdata/표류/30. 타망 표류.jpg\n",
      "이미지 이동 완료: /home/elicer/FIshing_vessel-1/resized_imgdata/30. 타망 조업.jpg -> /home/elicer/FIshing_vessel-1/categorized_imgdata/조업/30. 타망 조업.jpg\n",
      "이미지 이동 완료: /home/elicer/FIshing_vessel-1/resized_imgdata/30. 통발 이동.jpg -> /home/elicer/FIshing_vessel-1/categorized_imgdata/이동/30. 통발 이동.jpg\n",
      "이미지 이동 완료: /home/elicer/FIshing_vessel-1/resized_imgdata/300. 범장망 표류.jpg -> /home/elicer/FIshing_vessel-1/categorized_imgdata/표류/300. 범장망 표류.jpg\n",
      "이미지 이동 완료: /home/elicer/FIshing_vessel-1/resized_imgdata/301. 범장망 표류.jpg -> /home/elicer/FIshing_vessel-1/categorized_imgdata/표류/301. 범장망 표류.jpg\n",
      "이미지 이동 완료: /home/elicer/FIshing_vessel-1/resized_imgdata/302. 범장망 표류.jpg -> /home/elicer/FIshing_vessel-1/categorized_imgdata/표류/302. 범장망 표류.jpg\n",
      "이미지 이동 완료: /home/elicer/FIshing_vessel-1/resized_imgdata/303. 범장망 표류.jpg -> /home/elicer/FIshing_vessel-1/categorized_imgdata/표류/303. 범장망 표류.jpg\n",
      "이미지 이동 완료: /home/elicer/FIshing_vessel-1/resized_imgdata/304. 범장망 표류.jpg -> /home/elicer/FIshing_vessel-1/categorized_imgdata/표류/304. 범장망 표류.jpg\n",
      "이미지 이동 완료: /home/elicer/FIshing_vessel-1/resized_imgdata/305. 범장망 표류.jpg -> /home/elicer/FIshing_vessel-1/categorized_imgdata/표류/305. 범장망 표류.jpg\n",
      "이미지 이동 완료: /home/elicer/FIshing_vessel-1/resized_imgdata/306. 범장망 표류.jpg -> /home/elicer/FIshing_vessel-1/categorized_imgdata/표류/306. 범장망 표류.jpg\n",
      "이미지 이동 완료: /home/elicer/FIshing_vessel-1/resized_imgdata/31. 낚시어선 이동.jpg -> /home/elicer/FIshing_vessel-1/categorized_imgdata/이동/31. 낚시어선 이동.jpg\n",
      "이미지 이동 완료: /home/elicer/FIshing_vessel-1/resized_imgdata/31. 낚시어선 조업.jpg -> /home/elicer/FIshing_vessel-1/categorized_imgdata/조업/31. 낚시어선 조업.jpg\n",
      "이미지 이동 완료: /home/elicer/FIshing_vessel-1/resized_imgdata/31. 등광조망 조업.jpg -> /home/elicer/FIshing_vessel-1/categorized_imgdata/조업/31. 등광조망 조업.jpg\n",
      "이미지 이동 완료: /home/elicer/FIshing_vessel-1/resized_imgdata/31. 범장망 이동.jpg -> /home/elicer/FIshing_vessel-1/categorized_imgdata/이동/31. 범장망 이동.jpg\n",
      "이미지 이동 완료: /home/elicer/FIshing_vessel-1/resized_imgdata/31. 범장망 표류.jpg -> /home/elicer/FIshing_vessel-1/categorized_imgdata/표류/31. 범장망 표류.jpg\n",
      "이미지 이동 완료: /home/elicer/FIshing_vessel-1/resized_imgdata/31. 유망 이동.jpg -> /home/elicer/FIshing_vessel-1/categorized_imgdata/이동/31. 유망 이동.jpg\n",
      "이미지 이동 완료: /home/elicer/FIshing_vessel-1/resized_imgdata/31. 연승 이동.jpg -> /home/elicer/FIshing_vessel-1/categorized_imgdata/이동/31. 연승 이동.jpg\n",
      "이미지 이동 완료: /home/elicer/FIshing_vessel-1/resized_imgdata/31. 유망 조업.jpg -> /home/elicer/FIshing_vessel-1/categorized_imgdata/조업/31. 유망 조업.jpg\n",
      "이미지 이동 완료: /home/elicer/FIshing_vessel-1/resized_imgdata/31. 유망 표류.jpg -> /home/elicer/FIshing_vessel-1/categorized_imgdata/표류/31. 유망 표류.jpg\n",
      "이미지 이동 완료: /home/elicer/FIshing_vessel-1/resized_imgdata/31. 저인망 이동.jpg -> /home/elicer/FIshing_vessel-1/categorized_imgdata/이동/31. 저인망 이동.jpg\n",
      "이미지 이동 완료: /home/elicer/FIshing_vessel-1/resized_imgdata/31. 타망 조업.jpg -> /home/elicer/FIshing_vessel-1/categorized_imgdata/조업/31. 타망 조업.jpg\n",
      "이미지 이동 완료: /home/elicer/FIshing_vessel-1/resized_imgdata/31. 채낚기 표류.jpg -> /home/elicer/FIshing_vessel-1/categorized_imgdata/표류/31. 채낚기 표류.jpg\n",
      "이미지 이동 완료: /home/elicer/FIshing_vessel-1/resized_imgdata/31. 타망 이동.jpg -> /home/elicer/FIshing_vessel-1/categorized_imgdata/이동/31. 타망 이동.jpg\n",
      "이미지 이동 완료: /home/elicer/FIshing_vessel-1/resized_imgdata/31. 타망 표류.jpg -> /home/elicer/FIshing_vessel-1/categorized_imgdata/표류/31. 타망 표류.jpg\n",
      "이미지 이동 완료: /home/elicer/FIshing_vessel-1/resized_imgdata/31. 통발 이동.jpg -> /home/elicer/FIshing_vessel-1/categorized_imgdata/이동/31. 통발 이동.jpg\n",
      "이미지 이동 완료: /home/elicer/FIshing_vessel-1/resized_imgdata/32. 낚시어선 이동.jpg -> /home/elicer/FIshing_vessel-1/categorized_imgdata/이동/32. 낚시어선 이동.jpg\n",
      "이미지 이동 완료: /home/elicer/FIshing_vessel-1/resized_imgdata/32. 낚시어선 조업.jpg -> /home/elicer/FIshing_vessel-1/categorized_imgdata/조업/32. 낚시어선 조업.jpg\n",
      "이미지 이동 완료: /home/elicer/FIshing_vessel-1/resized_imgdata/32. 등광조망 조업.jpg -> /home/elicer/FIshing_vessel-1/categorized_imgdata/조업/32. 등광조망 조업.jpg\n",
      "이미지 이동 완료: /home/elicer/FIshing_vessel-1/resized_imgdata/32. 범장망 이동.jpg -> /home/elicer/FIshing_vessel-1/categorized_imgdata/이동/32. 범장망 이동.jpg\n",
      "이미지 이동 완료: /home/elicer/FIshing_vessel-1/resized_imgdata/32. 범장망 표류.jpg -> /home/elicer/FIshing_vessel-1/categorized_imgdata/표류/32. 범장망 표류.jpg\n",
      "이미지 이동 완료: /home/elicer/FIshing_vessel-1/resized_imgdata/32. 연승 이동.jpg -> /home/elicer/FIshing_vessel-1/categorized_imgdata/이동/32. 연승 이동.jpg\n",
      "이미지 이동 완료: /home/elicer/FIshing_vessel-1/resized_imgdata/32. 유망 조업.jpg -> /home/elicer/FIshing_vessel-1/categorized_imgdata/조업/32. 유망 조업.jpg\n",
      "이미지 이동 완료: /home/elicer/FIshing_vessel-1/resized_imgdata/32. 저인망 이동.jpg -> /home/elicer/FIshing_vessel-1/categorized_imgdata/이동/32. 저인망 이동.jpg\n",
      "이미지 이동 완료: /home/elicer/FIshing_vessel-1/resized_imgdata/32. 유망 표류.jpg -> /home/elicer/FIshing_vessel-1/categorized_imgdata/표류/32. 유망 표류.jpg\n",
      "이미지 이동 완료: /home/elicer/FIshing_vessel-1/resized_imgdata/32. 채낚기 표류.jpg -> /home/elicer/FIshing_vessel-1/categorized_imgdata/표류/32. 채낚기 표류.jpg\n",
      "이미지 이동 완료: /home/elicer/FIshing_vessel-1/resized_imgdata/32. 타망 이동.jpg -> /home/elicer/FIshing_vessel-1/categorized_imgdata/이동/32. 타망 이동.jpg\n",
      "이미지 이동 완료: /home/elicer/FIshing_vessel-1/resized_imgdata/32. 타망 조업.jpg -> /home/elicer/FIshing_vessel-1/categorized_imgdata/조업/32. 타망 조업.jpg\n",
      "이미지 이동 완료: /home/elicer/FIshing_vessel-1/resized_imgdata/32. 타망 표류.jpg -> /home/elicer/FIshing_vessel-1/categorized_imgdata/표류/32. 타망 표류.jpg\n",
      "이미지 이동 완료: /home/elicer/FIshing_vessel-1/resized_imgdata/32. 통발 이동.jpg -> /home/elicer/FIshing_vessel-1/categorized_imgdata/이동/32. 통발 이동.jpg\n",
      "이미지 이동 완료: /home/elicer/FIshing_vessel-1/resized_imgdata/33. 낚시어선 이동.jpg -> /home/elicer/FIshing_vessel-1/categorized_imgdata/이동/33. 낚시어선 이동.jpg\n",
      "이미지 이동 완료: /home/elicer/FIshing_vessel-1/resized_imgdata/33. 낚시어선 조업.jpg -> /home/elicer/FIshing_vessel-1/categorized_imgdata/조업/33. 낚시어선 조업.jpg\n",
      "이미지 이동 완료: /home/elicer/FIshing_vessel-1/resized_imgdata/33. 등광조망 조업.jpg -> /home/elicer/FIshing_vessel-1/categorized_imgdata/조업/33. 등광조망 조업.jpg\n",
      "이미지 이동 완료: /home/elicer/FIshing_vessel-1/resized_imgdata/33. 범장망 이동.jpg -> /home/elicer/FIshing_vessel-1/categorized_imgdata/이동/33. 범장망 이동.jpg\n",
      "이미지 이동 완료: /home/elicer/FIshing_vessel-1/resized_imgdata/33. 범장망 표류.jpg -> /home/elicer/FIshing_vessel-1/categorized_imgdata/표류/33. 범장망 표류.jpg\n",
      "이미지 이동 완료: /home/elicer/FIshing_vessel-1/resized_imgdata/33. 연승 이동.jpg -> /home/elicer/FIshing_vessel-1/categorized_imgdata/이동/33. 연승 이동.jpg\n",
      "이미지 이동 완료: /home/elicer/FIshing_vessel-1/resized_imgdata/33. 유망 이동.jpg -> /home/elicer/FIshing_vessel-1/categorized_imgdata/이동/33. 유망 이동.jpg\n",
      "이미지 이동 완료: /home/elicer/FIshing_vessel-1/resized_imgdata/33. 유망 조업.jpg -> /home/elicer/FIshing_vessel-1/categorized_imgdata/조업/33. 유망 조업.jpg\n",
      "이미지 이동 완료: /home/elicer/FIshing_vessel-1/resized_imgdata/33. 유망 표류.jpg -> /home/elicer/FIshing_vessel-1/categorized_imgdata/표류/33. 유망 표류.jpg\n",
      "이미지 이동 완료: /home/elicer/FIshing_vessel-1/resized_imgdata/33. 저인망 이동.jpg -> /home/elicer/FIshing_vessel-1/categorized_imgdata/이동/33. 저인망 이동.jpg\n",
      "이미지 이동 완료: /home/elicer/FIshing_vessel-1/resized_imgdata/33. 채낚기 표류.jpg -> /home/elicer/FIshing_vessel-1/categorized_imgdata/표류/33. 채낚기 표류.jpg\n",
      "이미지 이동 완료: /home/elicer/FIshing_vessel-1/resized_imgdata/33. 타망 이동.jpg -> /home/elicer/FIshing_vessel-1/categorized_imgdata/이동/33. 타망 이동.jpg\n",
      "이미지 이동 완료: /home/elicer/FIshing_vessel-1/resized_imgdata/33. 타망 조업.jpg -> /home/elicer/FIshing_vessel-1/categorized_imgdata/조업/33. 타망 조업.jpg\n",
      "이미지 이동 완료: /home/elicer/FIshing_vessel-1/resized_imgdata/33. 타망 표류.jpg -> /home/elicer/FIshing_vessel-1/categorized_imgdata/표류/33. 타망 표류.jpg\n",
      "이미지 이동 완료: /home/elicer/FIshing_vessel-1/resized_imgdata/33. 통발 이동.jpg -> /home/elicer/FIshing_vessel-1/categorized_imgdata/이동/33. 통발 이동.jpg\n",
      "이미지 이동 완료: /home/elicer/FIshing_vessel-1/resized_imgdata/34. 낚시어선 조업.jpg -> /home/elicer/FIshing_vessel-1/categorized_imgdata/조업/34. 낚시어선 조업.jpg\n",
      "이미지 이동 완료: /home/elicer/FIshing_vessel-1/resized_imgdata/34. 범장망 이동.jpg -> /home/elicer/FIshing_vessel-1/categorized_imgdata/이동/34. 범장망 이동.jpg\n",
      "이미지 이동 완료: /home/elicer/FIshing_vessel-1/resized_imgdata/34. 범장망 표류.jpg -> /home/elicer/FIshing_vessel-1/categorized_imgdata/표류/34. 범장망 표류.jpg\n",
      "이미지 이동 완료: /home/elicer/FIshing_vessel-1/resized_imgdata/34. 유망 이동.jpg -> /home/elicer/FIshing_vessel-1/categorized_imgdata/이동/34. 유망 이동.jpg\n",
      "이미지 이동 완료: /home/elicer/FIshing_vessel-1/resized_imgdata/34. 연승 이동.jpg -> /home/elicer/FIshing_vessel-1/categorized_imgdata/이동/34. 연승 이동.jpg\n",
      "이미지 이동 완료: /home/elicer/FIshing_vessel-1/resized_imgdata/34. 유망 표류.jpg -> /home/elicer/FIshing_vessel-1/categorized_imgdata/표류/34. 유망 표류.jpg\n",
      "이미지 이동 완료: /home/elicer/FIshing_vessel-1/resized_imgdata/34. 저인망 이동.jpg -> /home/elicer/FIshing_vessel-1/categorized_imgdata/이동/34. 저인망 이동.jpg\n",
      "이미지 이동 완료: /home/elicer/FIshing_vessel-1/resized_imgdata/34. 채낚기 표류.jpg -> /home/elicer/FIshing_vessel-1/categorized_imgdata/표류/34. 채낚기 표류.jpg\n",
      "이미지 이동 완료: /home/elicer/FIshing_vessel-1/resized_imgdata/34. 타망 이동.jpg -> /home/elicer/FIshing_vessel-1/categorized_imgdata/이동/34. 타망 이동.jpg\n",
      "이미지 이동 완료: /home/elicer/FIshing_vessel-1/resized_imgdata/34. 타망 조업.jpg -> /home/elicer/FIshing_vessel-1/categorized_imgdata/조업/34. 타망 조업.jpg\n",
      "이미지 이동 완료: /home/elicer/FIshing_vessel-1/resized_imgdata/34. 통발 이동.jpg -> /home/elicer/FIshing_vessel-1/categorized_imgdata/이동/34. 통발 이동.jpg\n",
      "이미지 이동 완료: /home/elicer/FIshing_vessel-1/resized_imgdata/35. 낚시어선 조업.jpg -> /home/elicer/FIshing_vessel-1/categorized_imgdata/조업/35. 낚시어선 조업.jpg\n",
      "이미지 이동 완료: /home/elicer/FIshing_vessel-1/resized_imgdata/35. 등광조망 조업.jpg -> /home/elicer/FIshing_vessel-1/categorized_imgdata/조업/35. 등광조망 조업.jpg\n",
      "이미지 이동 완료: /home/elicer/FIshing_vessel-1/resized_imgdata/35. 범장망 이동.jpg -> /home/elicer/FIshing_vessel-1/categorized_imgdata/이동/35. 범장망 이동.jpg\n",
      "이미지 이동 완료: /home/elicer/FIshing_vessel-1/resized_imgdata/35. 범장망 표류.jpg -> /home/elicer/FIshing_vessel-1/categorized_imgdata/표류/35. 범장망 표류.jpg\n",
      "이미지 이동 완료: /home/elicer/FIshing_vessel-1/resized_imgdata/35. 유망 이동.jpg -> /home/elicer/FIshing_vessel-1/categorized_imgdata/이동/35. 유망 이동.jpg\n",
      "이미지 이동 완료: /home/elicer/FIshing_vessel-1/resized_imgdata/35. 유망 표류.jpg -> /home/elicer/FIshing_vessel-1/categorized_imgdata/표류/35. 유망 표류.jpg\n",
      "이미지 이동 완료: /home/elicer/FIshing_vessel-1/resized_imgdata/35. 저인망 이동.jpg -> /home/elicer/FIshing_vessel-1/categorized_imgdata/이동/35. 저인망 이동.jpg\n",
      "이미지 이동 완료: /home/elicer/FIshing_vessel-1/resized_imgdata/35. 타망 이동.jpg -> /home/elicer/FIshing_vessel-1/categorized_imgdata/이동/35. 타망 이동.jpg\n",
      "이미지 이동 완료: /home/elicer/FIshing_vessel-1/resized_imgdata/35. 타망 표류.jpg -> /home/elicer/FIshing_vessel-1/categorized_imgdata/표류/35. 타망 표류.jpg\n",
      "이미지 이동 완료: /home/elicer/FIshing_vessel-1/resized_imgdata/35. 타망 조업.jpg -> /home/elicer/FIshing_vessel-1/categorized_imgdata/조업/35. 타망 조업.jpg\n",
      "이미지 이동 완료: /home/elicer/FIshing_vessel-1/resized_imgdata/35. 통발 이동.jpg -> /home/elicer/FIshing_vessel-1/categorized_imgdata/이동/35. 통발 이동.jpg\n",
      "이미지 이동 완료: /home/elicer/FIshing_vessel-1/resized_imgdata/36. 낚시어선 조업.jpg -> /home/elicer/FIshing_vessel-1/categorized_imgdata/조업/36. 낚시어선 조업.jpg\n",
      "이미지 이동 완료: /home/elicer/FIshing_vessel-1/resized_imgdata/36. 등광조망 조업.jpg -> /home/elicer/FIshing_vessel-1/categorized_imgdata/조업/36. 등광조망 조업.jpg\n",
      "이미지 이동 완료: /home/elicer/FIshing_vessel-1/resized_imgdata/36. 범장망 표류.jpg -> /home/elicer/FIshing_vessel-1/categorized_imgdata/표류/36. 범장망 표류.jpg\n",
      "이미지 이동 완료: /home/elicer/FIshing_vessel-1/resized_imgdata/36. 범장망 이동.jpg -> /home/elicer/FIshing_vessel-1/categorized_imgdata/이동/36. 범장망 이동.jpg\n",
      "이미지 이동 완료: /home/elicer/FIshing_vessel-1/resized_imgdata/36. 유망 이동.jpg -> /home/elicer/FIshing_vessel-1/categorized_imgdata/이동/36. 유망 이동.jpg\n",
      "이미지 이동 완료: /home/elicer/FIshing_vessel-1/resized_imgdata/36. 유망 표류.jpg -> /home/elicer/FIshing_vessel-1/categorized_imgdata/표류/36. 유망 표류.jpg\n",
      "이미지 이동 완료: /home/elicer/FIshing_vessel-1/resized_imgdata/36. 저인망 이동.jpg -> /home/elicer/FIshing_vessel-1/categorized_imgdata/이동/36. 저인망 이동.jpg\n",
      "이미지 이동 완료: /home/elicer/FIshing_vessel-1/resized_imgdata/36. 타망 조업.jpg -> /home/elicer/FIshing_vessel-1/categorized_imgdata/조업/36. 타망 조업.jpg\n",
      "이미지 이동 완료: /home/elicer/FIshing_vessel-1/resized_imgdata/36. 타망 표류.jpg -> /home/elicer/FIshing_vessel-1/categorized_imgdata/표류/36. 타망 표류.jpg\n",
      "이미지 이동 완료: /home/elicer/FIshing_vessel-1/resized_imgdata/36. 통발 이동.jpg -> /home/elicer/FIshing_vessel-1/categorized_imgdata/이동/36. 통발 이동.jpg\n",
      "이미지 이동 완료: /home/elicer/FIshing_vessel-1/resized_imgdata/37. 낚시어선 조업.jpg -> /home/elicer/FIshing_vessel-1/categorized_imgdata/조업/37. 낚시어선 조업.jpg\n",
      "이미지 이동 완료: /home/elicer/FIshing_vessel-1/resized_imgdata/37. 등광조망 조업.jpg -> /home/elicer/FIshing_vessel-1/categorized_imgdata/조업/37. 등광조망 조업.jpg\n",
      "이미지 이동 완료: /home/elicer/FIshing_vessel-1/resized_imgdata/37. 범장망 이동.jpg -> /home/elicer/FIshing_vessel-1/categorized_imgdata/이동/37. 범장망 이동.jpg\n",
      "이미지 이동 완료: /home/elicer/FIshing_vessel-1/resized_imgdata/37. 범장망 표류.jpg -> /home/elicer/FIshing_vessel-1/categorized_imgdata/표류/37. 범장망 표류.jpg\n",
      "이미지 이동 완료: /home/elicer/FIshing_vessel-1/resized_imgdata/37. 유망 이동.jpg -> /home/elicer/FIshing_vessel-1/categorized_imgdata/이동/37. 유망 이동.jpg\n",
      "이미지 이동 완료: /home/elicer/FIshing_vessel-1/resized_imgdata/37. 유망 표류.jpg -> /home/elicer/FIshing_vessel-1/categorized_imgdata/표류/37. 유망 표류.jpg\n",
      "이미지 이동 완료: /home/elicer/FIshing_vessel-1/resized_imgdata/37. 저인망 이동.jpg -> /home/elicer/FIshing_vessel-1/categorized_imgdata/이동/37. 저인망 이동.jpg\n",
      "이미지 이동 완료: /home/elicer/FIshing_vessel-1/resized_imgdata/37. 타망 이동.jpg -> /home/elicer/FIshing_vessel-1/categorized_imgdata/이동/37. 타망 이동.jpg\n",
      "이미지 이동 완료: /home/elicer/FIshing_vessel-1/resized_imgdata/37. 타망 조업.jpg -> /home/elicer/FIshing_vessel-1/categorized_imgdata/조업/37. 타망 조업.jpg\n",
      "이미지 이동 완료: /home/elicer/FIshing_vessel-1/resized_imgdata/37. 타망 표류.jpg -> /home/elicer/FIshing_vessel-1/categorized_imgdata/표류/37. 타망 표류.jpg\n",
      "이미지 이동 완료: /home/elicer/FIshing_vessel-1/resized_imgdata/37. 통발 이동.jpg -> /home/elicer/FIshing_vessel-1/categorized_imgdata/이동/37. 통발 이동.jpg\n",
      "이미지 이동 완료: /home/elicer/FIshing_vessel-1/resized_imgdata/38. 낚시어선 조업.jpg -> /home/elicer/FIshing_vessel-1/categorized_imgdata/조업/38. 낚시어선 조업.jpg\n",
      "이미지 이동 완료: /home/elicer/FIshing_vessel-1/resized_imgdata/38. 등광조망 조업.jpg -> /home/elicer/FIshing_vessel-1/categorized_imgdata/조업/38. 등광조망 조업.jpg\n",
      "이미지 이동 완료: /home/elicer/FIshing_vessel-1/resized_imgdata/38. 범장망 표류.jpg -> /home/elicer/FIshing_vessel-1/categorized_imgdata/표류/38. 범장망 표류.jpg\n",
      "이미지 이동 완료: /home/elicer/FIshing_vessel-1/resized_imgdata/38. 유망 이동.jpg -> /home/elicer/FIshing_vessel-1/categorized_imgdata/이동/38. 유망 이동.jpg\n",
      "이미지 이동 완료: /home/elicer/FIshing_vessel-1/resized_imgdata/38. 유망 표류.jpg -> /home/elicer/FIshing_vessel-1/categorized_imgdata/표류/38. 유망 표류.jpg\n",
      "이미지 이동 완료: /home/elicer/FIshing_vessel-1/resized_imgdata/38. 저인망 이동.jpg -> /home/elicer/FIshing_vessel-1/categorized_imgdata/이동/38. 저인망 이동.jpg\n",
      "이미지 이동 완료: /home/elicer/FIshing_vessel-1/resized_imgdata/38. 채낚기 표류.jpg -> /home/elicer/FIshing_vessel-1/categorized_imgdata/표류/38. 채낚기 표류.jpg\n",
      "이미지 이동 완료: /home/elicer/FIshing_vessel-1/resized_imgdata/38. 타망 이동.jpg -> /home/elicer/FIshing_vessel-1/categorized_imgdata/이동/38. 타망 이동.jpg\n",
      "이미지 이동 완료: /home/elicer/FIshing_vessel-1/resized_imgdata/38. 타망 조업.jpg -> /home/elicer/FIshing_vessel-1/categorized_imgdata/조업/38. 타망 조업.jpg\n",
      "이미지 이동 완료: /home/elicer/FIshing_vessel-1/resized_imgdata/38. 타망 표류.jpg -> /home/elicer/FIshing_vessel-1/categorized_imgdata/표류/38. 타망 표류.jpg\n",
      "이미지 이동 완료: /home/elicer/FIshing_vessel-1/resized_imgdata/38. 통발 이동.jpg -> /home/elicer/FIshing_vessel-1/categorized_imgdata/이동/38. 통발 이동.jpg\n",
      "이미지 이동 완료: /home/elicer/FIshing_vessel-1/resized_imgdata/39. 낚시어선 이동.png -> /home/elicer/FIshing_vessel-1/categorized_imgdata/이동/39. 낚시어선 이동.png\n",
      "이미지 이동 완료: /home/elicer/FIshing_vessel-1/resized_imgdata/39. 낚시어선 조업.jpg -> /home/elicer/FIshing_vessel-1/categorized_imgdata/조업/39. 낚시어선 조업.jpg\n",
      "이미지 이동 완료: /home/elicer/FIshing_vessel-1/resized_imgdata/39. 등광조망 조업.png -> /home/elicer/FIshing_vessel-1/categorized_imgdata/조업/39. 등광조망 조업.png\n",
      "이미지 이동 완료: /home/elicer/FIshing_vessel-1/resized_imgdata/39. 범장망 이동.jpg -> /home/elicer/FIshing_vessel-1/categorized_imgdata/이동/39. 범장망 이동.jpg\n",
      "이미지 이동 완료: /home/elicer/FIshing_vessel-1/resized_imgdata/39. 범장망 표류.jpg -> /home/elicer/FIshing_vessel-1/categorized_imgdata/표류/39. 범장망 표류.jpg\n",
      "이미지 이동 완료: /home/elicer/FIshing_vessel-1/resized_imgdata/39. 유망 이동.jpg -> /home/elicer/FIshing_vessel-1/categorized_imgdata/이동/39. 유망 이동.jpg\n",
      "이미지 이동 완료: /home/elicer/FIshing_vessel-1/resized_imgdata/39. 유망 표류.jpg -> /home/elicer/FIshing_vessel-1/categorized_imgdata/표류/39. 유망 표류.jpg\n",
      "이미지 이동 완료: /home/elicer/FIshing_vessel-1/resized_imgdata/39. 저인망 이동.jpg -> /home/elicer/FIshing_vessel-1/categorized_imgdata/이동/39. 저인망 이동.jpg\n",
      "이미지 이동 완료: /home/elicer/FIshing_vessel-1/resized_imgdata/39. 채낚기 표류.jpg -> /home/elicer/FIshing_vessel-1/categorized_imgdata/표류/39. 채낚기 표류.jpg\n",
      "이미지 이동 완료: /home/elicer/FIshing_vessel-1/resized_imgdata/39. 타망 이동.jpg -> /home/elicer/FIshing_vessel-1/categorized_imgdata/이동/39. 타망 이동.jpg\n",
      "이미지 이동 완료: /home/elicer/FIshing_vessel-1/resized_imgdata/39. 타망 조업.jpg -> /home/elicer/FIshing_vessel-1/categorized_imgdata/조업/39. 타망 조업.jpg\n",
      "이미지 이동 완료: /home/elicer/FIshing_vessel-1/resized_imgdata/39. 타망 표류.jpg -> /home/elicer/FIshing_vessel-1/categorized_imgdata/표류/39. 타망 표류.jpg\n",
      "이미지 이동 완료: /home/elicer/FIshing_vessel-1/resized_imgdata/39. 통발 이동.jpg -> /home/elicer/FIshing_vessel-1/categorized_imgdata/이동/39. 통발 이동.jpg\n",
      "이미지 이동 완료: /home/elicer/FIshing_vessel-1/resized_imgdata/4. 낚시어선 이동.jpg -> /home/elicer/FIshing_vessel-1/categorized_imgdata/이동/4. 낚시어선 이동.jpg\n",
      "이미지 이동 완료: /home/elicer/FIshing_vessel-1/resized_imgdata/4. 낚시어선 조업.jpg -> /home/elicer/FIshing_vessel-1/categorized_imgdata/조업/4. 낚시어선 조업.jpg\n",
      "이미지 이동 완료: /home/elicer/FIshing_vessel-1/resized_imgdata/4. 낚시어선 표류.jpg -> /home/elicer/FIshing_vessel-1/categorized_imgdata/표류/4. 낚시어선 표류.jpg\n",
      "이미지 이동 완료: /home/elicer/FIshing_vessel-1/resized_imgdata/4. 등광조망 이동.jpg -> /home/elicer/FIshing_vessel-1/categorized_imgdata/이동/4. 등광조망 이동.jpg\n",
      "이미지 이동 완료: /home/elicer/FIshing_vessel-1/resized_imgdata/4. 등광조망 조업.jpg -> /home/elicer/FIshing_vessel-1/categorized_imgdata/조업/4. 등광조망 조업.jpg\n",
      "이미지 이동 완료: /home/elicer/FIshing_vessel-1/resized_imgdata/4. 등광조망 표류.jpg -> /home/elicer/FIshing_vessel-1/categorized_imgdata/표류/4. 등광조망 표류.jpg\n",
      "이미지 이동 완료: /home/elicer/FIshing_vessel-1/resized_imgdata/4. 범장망 이동.jpg -> /home/elicer/FIshing_vessel-1/categorized_imgdata/이동/4. 범장망 이동.jpg\n",
      "이미지 이동 완료: /home/elicer/FIshing_vessel-1/resized_imgdata/4. 범장망 조업.jpg -> /home/elicer/FIshing_vessel-1/categorized_imgdata/조업/4. 범장망 조업.jpg\n",
      "이미지 이동 완료: /home/elicer/FIshing_vessel-1/resized_imgdata/4. 범장망 표류.jpg -> /home/elicer/FIshing_vessel-1/categorized_imgdata/표류/4. 범장망 표류.jpg\n",
      "이미지 이동 완료: /home/elicer/FIshing_vessel-1/resized_imgdata/4. 안강망 이동.jpg -> /home/elicer/FIshing_vessel-1/categorized_imgdata/이동/4. 안강망 이동.jpg\n",
      "이미지 이동 완료: /home/elicer/FIshing_vessel-1/resized_imgdata/4. 안강망 조업.jpg -> /home/elicer/FIshing_vessel-1/categorized_imgdata/조업/4. 안강망 조업.jpg\n",
      "이미지 이동 완료: /home/elicer/FIshing_vessel-1/resized_imgdata/4. 안강망 표류.jpg -> /home/elicer/FIshing_vessel-1/categorized_imgdata/표류/4. 안강망 표류.jpg\n",
      "이미지 이동 완료: /home/elicer/FIshing_vessel-1/resized_imgdata/4. 연승 표류.jpg -> /home/elicer/FIshing_vessel-1/categorized_imgdata/표류/4. 연승 표류.jpg\n",
      "이미지 이동 완료: /home/elicer/FIshing_vessel-1/resized_imgdata/4. 유망 이동.jpg -> /home/elicer/FIshing_vessel-1/categorized_imgdata/이동/4. 유망 이동.jpg\n",
      "이미지 이동 완료: /home/elicer/FIshing_vessel-1/resized_imgdata/4. 유망 조업.jpg -> /home/elicer/FIshing_vessel-1/categorized_imgdata/조업/4. 유망 조업.jpg\n",
      "이미지 이동 완료: /home/elicer/FIshing_vessel-1/resized_imgdata/4. 저인망 이동.jpg -> /home/elicer/FIshing_vessel-1/categorized_imgdata/이동/4. 저인망 이동.jpg\n",
      "이미지 이동 완료: /home/elicer/FIshing_vessel-1/resized_imgdata/4. 저인망 조업.jpg -> /home/elicer/FIshing_vessel-1/categorized_imgdata/조업/4. 저인망 조업.jpg\n",
      "이미지 이동 완료: /home/elicer/FIshing_vessel-1/resized_imgdata/4. 저인망 표류.jpg -> /home/elicer/FIshing_vessel-1/categorized_imgdata/표류/4. 저인망 표류.jpg\n",
      "이미지 이동 완료: /home/elicer/FIshing_vessel-1/resized_imgdata/4. 채낚기  표류.jpg -> /home/elicer/FIshing_vessel-1/categorized_imgdata/표류/4. 채낚기  표류.jpg\n",
      "이미지 이동 완료: /home/elicer/FIshing_vessel-1/resized_imgdata/4. 채낚기 이동.jpg -> /home/elicer/FIshing_vessel-1/categorized_imgdata/이동/4. 채낚기 이동.jpg\n",
      "이미지 이동 완료: /home/elicer/FIshing_vessel-1/resized_imgdata/4. 채낚기 조업.jpg -> /home/elicer/FIshing_vessel-1/categorized_imgdata/조업/4. 채낚기 조업.jpg\n",
      "이미지 이동 완료: /home/elicer/FIshing_vessel-1/resized_imgdata/4. 타망 이동.jpg -> /home/elicer/FIshing_vessel-1/categorized_imgdata/이동/4. 타망 이동.jpg\n",
      "이미지 이동 완료: /home/elicer/FIshing_vessel-1/resized_imgdata/193. 범장망 표류.jpg -> /home/elicer/FIshing_vessel-1/categorized_imgdata/표류/193. 범장망 표류.jpg\n",
      "이미지 이동 완료: /home/elicer/FIshing_vessel-1/resized_imgdata/195. 범장망 표류.jpg -> /home/elicer/FIshing_vessel-1/categorized_imgdata/표류/195. 범장망 표류.jpg\n",
      "이미지 이동 완료: /home/elicer/FIshing_vessel-1/resized_imgdata/197. 범장망 표류.jpg -> /home/elicer/FIshing_vessel-1/categorized_imgdata/표류/197. 범장망 표류.jpg\n",
      "이미지 이동 완료: /home/elicer/FIshing_vessel-1/resized_imgdata/2. 낚시어선 조업.jpg -> /home/elicer/FIshing_vessel-1/categorized_imgdata/조업/2. 낚시어선 조업.jpg\n",
      "이미지 이동 완료: /home/elicer/FIshing_vessel-1/resized_imgdata/198. 범장망 표류.jpg -> /home/elicer/FIshing_vessel-1/categorized_imgdata/표류/198. 범장망 표류.jpg\n",
      "이미지 이동 완료: /home/elicer/FIshing_vessel-1/resized_imgdata/2. 등광조망 이동.jpg -> /home/elicer/FIshing_vessel-1/categorized_imgdata/이동/2. 등광조망 이동.jpg\n",
      "이미지 이동 완료: /home/elicer/FIshing_vessel-1/resized_imgdata/2. 범장망 이동.jpg -> /home/elicer/FIshing_vessel-1/categorized_imgdata/이동/2. 범장망 이동.jpg\n",
      "이미지 이동 완료: /home/elicer/FIshing_vessel-1/resized_imgdata/2. 범장망 표류.jpg -> /home/elicer/FIshing_vessel-1/categorized_imgdata/표류/2. 범장망 표류.jpg\n",
      "이미지 이동 완료: /home/elicer/FIshing_vessel-1/resized_imgdata/2. 안강망 표류.jpg -> /home/elicer/FIshing_vessel-1/categorized_imgdata/표류/2. 안강망 표류.jpg\n",
      "이미지 이동 완료: /home/elicer/FIshing_vessel-1/resized_imgdata/2. 유망 이동.jpg -> /home/elicer/FIshing_vessel-1/categorized_imgdata/이동/2. 유망 이동.jpg\n",
      "이미지 이동 완료: /home/elicer/FIshing_vessel-1/resized_imgdata/2. 유망 표류.jpg -> /home/elicer/FIshing_vessel-1/categorized_imgdata/표류/2. 유망 표류.jpg\n",
      "이미지 이동 완료: /home/elicer/FIshing_vessel-1/resized_imgdata/2. 저인망 조업.jpg -> /home/elicer/FIshing_vessel-1/categorized_imgdata/조업/2. 저인망 조업.jpg\n",
      "이미지 이동 완료: /home/elicer/FIshing_vessel-1/resized_imgdata/2. 채낚기  표류.jpg -> /home/elicer/FIshing_vessel-1/categorized_imgdata/표류/2. 채낚기  표류.jpg\n",
      "이미지 이동 완료: /home/elicer/FIshing_vessel-1/resized_imgdata/2. 채낚기 조업.jpg -> /home/elicer/FIshing_vessel-1/categorized_imgdata/조업/2. 채낚기 조업.jpg\n",
      "이미지 이동 완료: /home/elicer/FIshing_vessel-1/resized_imgdata/2. 타망 조업.jpg -> /home/elicer/FIshing_vessel-1/categorized_imgdata/조업/2. 타망 조업.jpg\n",
      "이미지 이동 완료: /home/elicer/FIshing_vessel-1/resized_imgdata/2. 통발 이동.jpg -> /home/elicer/FIshing_vessel-1/categorized_imgdata/이동/2. 통발 이동.jpg\n",
      "이미지 이동 완료: /home/elicer/FIshing_vessel-1/resized_imgdata/2. 통발 표류.jpg -> /home/elicer/FIshing_vessel-1/categorized_imgdata/표류/2. 통발 표류.jpg\n",
      "이미지 이동 완료: /home/elicer/FIshing_vessel-1/resized_imgdata/20. 낚시어선 이동.jpg -> /home/elicer/FIshing_vessel-1/categorized_imgdata/이동/20. 낚시어선 이동.jpg\n",
      "이미지 이동 완료: /home/elicer/FIshing_vessel-1/resized_imgdata/20. 등광조망 이동.jpg -> /home/elicer/FIshing_vessel-1/categorized_imgdata/이동/20. 등광조망 이동.jpg\n",
      "이미지 이동 완료: /home/elicer/FIshing_vessel-1/resized_imgdata/20. 등광조망 조업.jpg -> /home/elicer/FIshing_vessel-1/categorized_imgdata/조업/20. 등광조망 조업.jpg\n",
      "이미지 이동 완료: /home/elicer/FIshing_vessel-1/resized_imgdata/20. 안강망 이동.jpg -> /home/elicer/FIshing_vessel-1/categorized_imgdata/이동/20. 안강망 이동.jpg\n",
      "이미지 이동 완료: /home/elicer/FIshing_vessel-1/resized_imgdata/20. 범장망 표류.jpg -> /home/elicer/FIshing_vessel-1/categorized_imgdata/표류/20. 범장망 표류.jpg\n",
      "이미지 이동 완료: /home/elicer/FIshing_vessel-1/resized_imgdata/20. 연승 표류.jpg -> /home/elicer/FIshing_vessel-1/categorized_imgdata/표류/20. 연승 표류.jpg\n",
      "이미지 이동 완료: /home/elicer/FIshing_vessel-1/resized_imgdata/20. 유망 표류.jpg -> /home/elicer/FIshing_vessel-1/categorized_imgdata/표류/20. 유망 표류.jpg\n",
      "이미지 이동 완료: /home/elicer/FIshing_vessel-1/resized_imgdata/20. 저인망 조업.jpg -> /home/elicer/FIshing_vessel-1/categorized_imgdata/조업/20. 저인망 조업.jpg\n",
      "이미지 이동 완료: /home/elicer/FIshing_vessel-1/resized_imgdata/20. 채낚기 표류.jpg -> /home/elicer/FIshing_vessel-1/categorized_imgdata/표류/20. 채낚기 표류.jpg\n",
      "이미지 이동 완료: /home/elicer/FIshing_vessel-1/resized_imgdata/20. 타망 표류.jpg -> /home/elicer/FIshing_vessel-1/categorized_imgdata/표류/20. 타망 표류.jpg\n",
      "이미지 이동 완료: /home/elicer/FIshing_vessel-1/resized_imgdata/200. 범장망 표류.jpg -> /home/elicer/FIshing_vessel-1/categorized_imgdata/표류/200. 범장망 표류.jpg\n",
      "이미지 이동 완료: /home/elicer/FIshing_vessel-1/resized_imgdata/202. 범장망 표류.jpg -> /home/elicer/FIshing_vessel-1/categorized_imgdata/표류/202. 범장망 표류.jpg\n",
      "이미지 이동 완료: /home/elicer/FIshing_vessel-1/resized_imgdata/204. 범장망 표류.jpg -> /home/elicer/FIshing_vessel-1/categorized_imgdata/표류/204. 범장망 표류.jpg\n",
      "이미지 이동 완료: /home/elicer/FIshing_vessel-1/resized_imgdata/206. 범장망 표류.jpg -> /home/elicer/FIshing_vessel-1/categorized_imgdata/표류/206. 범장망 표류.jpg\n",
      "이미지 이동 완료: /home/elicer/FIshing_vessel-1/resized_imgdata/208. 범장망 표류.jpg -> /home/elicer/FIshing_vessel-1/categorized_imgdata/표류/208. 범장망 표류.jpg\n",
      "이미지 이동 완료: /home/elicer/FIshing_vessel-1/resized_imgdata/21. 낚시어선 이동.jpg -> /home/elicer/FIshing_vessel-1/categorized_imgdata/이동/21. 낚시어선 이동.jpg\n",
      "이미지 이동 완료: /home/elicer/FIshing_vessel-1/resized_imgdata/21. 등광조망 이동.jpg -> /home/elicer/FIshing_vessel-1/categorized_imgdata/이동/21. 등광조망 이동.jpg\n",
      "이미지 이동 완료: /home/elicer/FIshing_vessel-1/resized_imgdata/21. 등광조망 표류.jpg -> /home/elicer/FIshing_vessel-1/categorized_imgdata/표류/21. 등광조망 표류.jpg\n",
      "이미지 이동 완료: /home/elicer/FIshing_vessel-1/resized_imgdata/21. 범장망 조업.jpg -> /home/elicer/FIshing_vessel-1/categorized_imgdata/조업/21. 범장망 조업.jpg\n",
      "이미지 이동 완료: /home/elicer/FIshing_vessel-1/resized_imgdata/21. 안강망 이동.jpg -> /home/elicer/FIshing_vessel-1/categorized_imgdata/이동/21. 안강망 이동.jpg\n",
      "이미지 이동 완료: /home/elicer/FIshing_vessel-1/resized_imgdata/21. 유망 이동.jpg -> /home/elicer/FIshing_vessel-1/categorized_imgdata/이동/21. 유망 이동.jpg\n",
      "이미지 이동 완료: /home/elicer/FIshing_vessel-1/resized_imgdata/21. 유망 표류.jpg -> /home/elicer/FIshing_vessel-1/categorized_imgdata/표류/21. 유망 표류.jpg\n",
      "이미지 이동 완료: /home/elicer/FIshing_vessel-1/resized_imgdata/21. 저인망 조업.jpg -> /home/elicer/FIshing_vessel-1/categorized_imgdata/조업/21. 저인망 조업.jpg\n",
      "이미지 이동 완료: /home/elicer/FIshing_vessel-1/resized_imgdata/21. 타망 이동.jpg -> /home/elicer/FIshing_vessel-1/categorized_imgdata/이동/21. 타망 이동.jpg\n",
      "이미지 이동 완료: /home/elicer/FIshing_vessel-1/resized_imgdata/19. 등광조망 표류.jpg -> /home/elicer/FIshing_vessel-1/categorized_imgdata/표류/19. 등광조망 표류.jpg\n",
      "이미지 이동 완료: /home/elicer/FIshing_vessel-1/resized_imgdata/19. 범장망 이동.jpg -> /home/elicer/FIshing_vessel-1/categorized_imgdata/이동/19. 범장망 이동.jpg\n",
      "이미지 이동 완료: /home/elicer/FIshing_vessel-1/resized_imgdata/19. 범장망 조업.jpg -> /home/elicer/FIshing_vessel-1/categorized_imgdata/조업/19. 범장망 조업.jpg\n",
      "이미지 이동 완료: /home/elicer/FIshing_vessel-1/resized_imgdata/19. 범장망 표류.jpg -> /home/elicer/FIshing_vessel-1/categorized_imgdata/표류/19. 범장망 표류.jpg\n",
      "이미지 이동 완료: /home/elicer/FIshing_vessel-1/resized_imgdata/19. 안강망 이동.jpg -> /home/elicer/FIshing_vessel-1/categorized_imgdata/이동/19. 안강망 이동.jpg\n",
      "이미지 이동 완료: /home/elicer/FIshing_vessel-1/resized_imgdata/19. 연승 이동.jpg -> /home/elicer/FIshing_vessel-1/categorized_imgdata/이동/19. 연승 이동.jpg\n",
      "이미지 이동 완료: /home/elicer/FIshing_vessel-1/resized_imgdata/19. 유망 이동.jpg -> /home/elicer/FIshing_vessel-1/categorized_imgdata/이동/19. 유망 이동.jpg\n",
      "이미지 이동 완료: /home/elicer/FIshing_vessel-1/resized_imgdata/19. 유망 표류.jpg -> /home/elicer/FIshing_vessel-1/categorized_imgdata/표류/19. 유망 표류.jpg\n",
      "이미지 이동 완료: /home/elicer/FIshing_vessel-1/resized_imgdata/19. 연승 표류.jpg -> /home/elicer/FIshing_vessel-1/categorized_imgdata/표류/19. 연승 표류.jpg\n",
      "이미지 이동 완료: /home/elicer/FIshing_vessel-1/resized_imgdata/19. 유망 조업.jpg -> /home/elicer/FIshing_vessel-1/categorized_imgdata/조업/19. 유망 조업.jpg\n",
      "이미지 이동 완료: /home/elicer/FIshing_vessel-1/resized_imgdata/19. 저인망 이동.jpg -> /home/elicer/FIshing_vessel-1/categorized_imgdata/이동/19. 저인망 이동.jpg\n",
      "이미지 이동 완료: /home/elicer/FIshing_vessel-1/resized_imgdata/19. 저인망 조업.jpg -> /home/elicer/FIshing_vessel-1/categorized_imgdata/조업/19. 저인망 조업.jpg\n",
      "이미지 이동 완료: /home/elicer/FIshing_vessel-1/resized_imgdata/19. 채낚기 표류.jpg -> /home/elicer/FIshing_vessel-1/categorized_imgdata/표류/19. 채낚기 표류.jpg\n",
      "이미지 이동 완료: /home/elicer/FIshing_vessel-1/resized_imgdata/19. 타망 이동.jpg -> /home/elicer/FIshing_vessel-1/categorized_imgdata/이동/19. 타망 이동.jpg\n",
      "이미지 이동 완료: /home/elicer/FIshing_vessel-1/resized_imgdata/19. 타망 조업.jpg -> /home/elicer/FIshing_vessel-1/categorized_imgdata/조업/19. 타망 조업.jpg\n",
      "이미지 이동 완료: /home/elicer/FIshing_vessel-1/resized_imgdata/19. 타망 표류.jpg -> /home/elicer/FIshing_vessel-1/categorized_imgdata/표류/19. 타망 표류.jpg\n",
      "이미지 이동 완료: /home/elicer/FIshing_vessel-1/resized_imgdata/19. 통발 이동.jpg -> /home/elicer/FIshing_vessel-1/categorized_imgdata/이동/19. 통발 이동.jpg\n",
      "이미지 이동 완료: /home/elicer/FIshing_vessel-1/resized_imgdata/190. 범장망 표류.jpg -> /home/elicer/FIshing_vessel-1/categorized_imgdata/표류/190. 범장망 표류.jpg\n",
      "이미지 이동 완료: /home/elicer/FIshing_vessel-1/resized_imgdata/191. 범장망 표류.jpg -> /home/elicer/FIshing_vessel-1/categorized_imgdata/표류/191. 범장망 표류.jpg\n",
      "이미지 이동 완료: /home/elicer/FIshing_vessel-1/resized_imgdata/192. 범장망 표류.jpg -> /home/elicer/FIshing_vessel-1/categorized_imgdata/표류/192. 범장망 표류.jpg\n",
      "이미지 이동 완료: /home/elicer/FIshing_vessel-1/resized_imgdata/194. 범장망 표류.jpg -> /home/elicer/FIshing_vessel-1/categorized_imgdata/표류/194. 범장망 표류.jpg\n",
      "이미지 이동 완료: /home/elicer/FIshing_vessel-1/resized_imgdata/196. 범장망 표류.jpg -> /home/elicer/FIshing_vessel-1/categorized_imgdata/표류/196. 범장망 표류.jpg\n",
      "이미지 이동 완료: /home/elicer/FIshing_vessel-1/resized_imgdata/2. 낚시어선 이동.jpg -> /home/elicer/FIshing_vessel-1/categorized_imgdata/이동/2. 낚시어선 이동.jpg\n",
      "이미지 이동 완료: /home/elicer/FIshing_vessel-1/resized_imgdata/199. 범장망 표류.jpg -> /home/elicer/FIshing_vessel-1/categorized_imgdata/표류/199. 범장망 표류.jpg\n",
      "이미지 이동 완료: /home/elicer/FIshing_vessel-1/resized_imgdata/2. 낚시어선 표류.jpg -> /home/elicer/FIshing_vessel-1/categorized_imgdata/표류/2. 낚시어선 표류.jpg\n",
      "이미지 이동 완료: /home/elicer/FIshing_vessel-1/resized_imgdata/2. 등광조망 표류.jpg -> /home/elicer/FIshing_vessel-1/categorized_imgdata/표류/2. 등광조망 표류.jpg\n",
      "이미지 이동 완료: /home/elicer/FIshing_vessel-1/resized_imgdata/2. 범장망 조업.jpg -> /home/elicer/FIshing_vessel-1/categorized_imgdata/조업/2. 범장망 조업.jpg\n",
      "이미지 이동 완료: /home/elicer/FIshing_vessel-1/resized_imgdata/2. 안강망 이동.jpg -> /home/elicer/FIshing_vessel-1/categorized_imgdata/이동/2. 안강망 이동.jpg\n",
      "이미지 이동 완료: /home/elicer/FIshing_vessel-1/resized_imgdata/2. 연승 이동.jpg -> /home/elicer/FIshing_vessel-1/categorized_imgdata/이동/2. 연승 이동.jpg\n",
      "이미지 이동 완료: /home/elicer/FIshing_vessel-1/resized_imgdata/2. 연승 표류.jpg -> /home/elicer/FIshing_vessel-1/categorized_imgdata/표류/2. 연승 표류.jpg\n",
      "이미지 이동 완료: /home/elicer/FIshing_vessel-1/resized_imgdata/2. 유망 조업.jpg -> /home/elicer/FIshing_vessel-1/categorized_imgdata/조업/2. 유망 조업.jpg\n",
      "이미지 이동 완료: /home/elicer/FIshing_vessel-1/resized_imgdata/2. 저인망 이동.jpg -> /home/elicer/FIshing_vessel-1/categorized_imgdata/이동/2. 저인망 이동.jpg\n",
      "이미지 이동 완료: /home/elicer/FIshing_vessel-1/resized_imgdata/2. 저인망 표류.jpg -> /home/elicer/FIshing_vessel-1/categorized_imgdata/표류/2. 저인망 표류.jpg\n",
      "이미지 이동 완료: /home/elicer/FIshing_vessel-1/resized_imgdata/2. 채낚기 이동.jpg -> /home/elicer/FIshing_vessel-1/categorized_imgdata/이동/2. 채낚기 이동.jpg\n",
      "이미지 이동 완료: /home/elicer/FIshing_vessel-1/resized_imgdata/2. 타망 이동.jpg -> /home/elicer/FIshing_vessel-1/categorized_imgdata/이동/2. 타망 이동.jpg\n",
      "이미지 이동 완료: /home/elicer/FIshing_vessel-1/resized_imgdata/2. 타망 표류.jpg -> /home/elicer/FIshing_vessel-1/categorized_imgdata/표류/2. 타망 표류.jpg\n",
      "이미지 이동 완료: /home/elicer/FIshing_vessel-1/resized_imgdata/2. 통발 조업.jpg -> /home/elicer/FIshing_vessel-1/categorized_imgdata/조업/2. 통발 조업.jpg\n",
      "이미지 이동 완료: /home/elicer/FIshing_vessel-1/resized_imgdata/2.등광조망 조업.jpg -> /home/elicer/FIshing_vessel-1/categorized_imgdata/조업/2.등광조망 조업.jpg\n",
      "이미지 이동 완료: /home/elicer/FIshing_vessel-1/resized_imgdata/20. 낚시어선 조업.jpg -> /home/elicer/FIshing_vessel-1/categorized_imgdata/조업/20. 낚시어선 조업.jpg\n",
      "이미지 이동 완료: /home/elicer/FIshing_vessel-1/resized_imgdata/20. 범장망 이동.jpg -> /home/elicer/FIshing_vessel-1/categorized_imgdata/이동/20. 범장망 이동.jpg\n",
      "이미지 이동 완료: /home/elicer/FIshing_vessel-1/resized_imgdata/20. 등광조망 표류.jpg -> /home/elicer/FIshing_vessel-1/categorized_imgdata/표류/20. 등광조망 표류.jpg\n",
      "이미지 이동 완료: /home/elicer/FIshing_vessel-1/resized_imgdata/20. 범장망 조업.jpg -> /home/elicer/FIshing_vessel-1/categorized_imgdata/조업/20. 범장망 조업.jpg\n",
      "이미지 이동 완료: /home/elicer/FIshing_vessel-1/resized_imgdata/20. 연승 이동.jpg -> /home/elicer/FIshing_vessel-1/categorized_imgdata/이동/20. 연승 이동.jpg\n",
      "이미지 이동 완료: /home/elicer/FIshing_vessel-1/resized_imgdata/20. 유망 이동.jpg -> /home/elicer/FIshing_vessel-1/categorized_imgdata/이동/20. 유망 이동.jpg\n",
      "이미지 이동 완료: /home/elicer/FIshing_vessel-1/resized_imgdata/20. 저인망 이동.jpg -> /home/elicer/FIshing_vessel-1/categorized_imgdata/이동/20. 저인망 이동.jpg\n",
      "이미지 이동 완료: /home/elicer/FIshing_vessel-1/resized_imgdata/20. 타망 이동.jpg -> /home/elicer/FIshing_vessel-1/categorized_imgdata/이동/20. 타망 이동.jpg\n",
      "이미지 이동 완료: /home/elicer/FIshing_vessel-1/resized_imgdata/20. 타망 조업.jpg -> /home/elicer/FIshing_vessel-1/categorized_imgdata/조업/20. 타망 조업.jpg\n",
      "이미지 이동 완료: /home/elicer/FIshing_vessel-1/resized_imgdata/20. 통발 이동.jpg -> /home/elicer/FIshing_vessel-1/categorized_imgdata/이동/20. 통발 이동.jpg\n",
      "이미지 이동 완료: /home/elicer/FIshing_vessel-1/resized_imgdata/201. 범장망 표류.jpg -> /home/elicer/FIshing_vessel-1/categorized_imgdata/표류/201. 범장망 표류.jpg\n",
      "이미지 이동 완료: /home/elicer/FIshing_vessel-1/resized_imgdata/203. 범장망 표류.jpg -> /home/elicer/FIshing_vessel-1/categorized_imgdata/표류/203. 범장망 표류.jpg\n",
      "이미지 이동 완료: /home/elicer/FIshing_vessel-1/resized_imgdata/205. 범장망 표류.jpg -> /home/elicer/FIshing_vessel-1/categorized_imgdata/표류/205. 범장망 표류.jpg\n",
      "이미지 이동 완료: /home/elicer/FIshing_vessel-1/resized_imgdata/207. 범장망 표류.jpg -> /home/elicer/FIshing_vessel-1/categorized_imgdata/표류/207. 범장망 표류.jpg\n",
      "이미지 이동 완료: /home/elicer/FIshing_vessel-1/resized_imgdata/209. 범장망 표류.jpg -> /home/elicer/FIshing_vessel-1/categorized_imgdata/표류/209. 범장망 표류.jpg\n",
      "이미지 이동 완료: /home/elicer/FIshing_vessel-1/resized_imgdata/21. 낚시어선 조업.jpg -> /home/elicer/FIshing_vessel-1/categorized_imgdata/조업/21. 낚시어선 조업.jpg\n",
      "이미지 이동 완료: /home/elicer/FIshing_vessel-1/resized_imgdata/21. 등광조망 조업.jpg -> /home/elicer/FIshing_vessel-1/categorized_imgdata/조업/21. 등광조망 조업.jpg\n",
      "이미지 이동 완료: /home/elicer/FIshing_vessel-1/resized_imgdata/21. 범장망 이동.jpg -> /home/elicer/FIshing_vessel-1/categorized_imgdata/이동/21. 범장망 이동.jpg\n",
      "이미지 이동 완료: /home/elicer/FIshing_vessel-1/resized_imgdata/21. 범장망 표류.jpg -> /home/elicer/FIshing_vessel-1/categorized_imgdata/표류/21. 범장망 표류.jpg\n",
      "이미지 이동 완료: /home/elicer/FIshing_vessel-1/resized_imgdata/21. 연승 이동.jpg -> /home/elicer/FIshing_vessel-1/categorized_imgdata/이동/21. 연승 이동.jpg\n",
      "이미지 이동 완료: /home/elicer/FIshing_vessel-1/resized_imgdata/21. 유망 조업.jpg -> /home/elicer/FIshing_vessel-1/categorized_imgdata/조업/21. 유망 조업.jpg\n",
      "이미지 이동 완료: /home/elicer/FIshing_vessel-1/resized_imgdata/21. 저인망 이동.jpg -> /home/elicer/FIshing_vessel-1/categorized_imgdata/이동/21. 저인망 이동.jpg\n",
      "이미지 이동 완료: /home/elicer/FIshing_vessel-1/resized_imgdata/21. 채낚기 표류.jpg -> /home/elicer/FIshing_vessel-1/categorized_imgdata/표류/21. 채낚기 표류.jpg\n",
      "이미지 이동 완료: /home/elicer/FIshing_vessel-1/resized_imgdata/40. 낚시어선 이동.png -> /home/elicer/FIshing_vessel-1/categorized_imgdata/이동/40. 낚시어선 이동.png\n",
      "이미지 이동 완료: /home/elicer/FIshing_vessel-1/resized_imgdata/40. 등광조망 조업.jpg -> /home/elicer/FIshing_vessel-1/categorized_imgdata/조업/40. 등광조망 조업.jpg\n",
      "이미지 이동 완료: /home/elicer/FIshing_vessel-1/resized_imgdata/40. 범장망 이동.jpg -> /home/elicer/FIshing_vessel-1/categorized_imgdata/이동/40. 범장망 이동.jpg\n",
      "이미지 이동 완료: /home/elicer/FIshing_vessel-1/resized_imgdata/40. 범장망 표류.jpg -> /home/elicer/FIshing_vessel-1/categorized_imgdata/표류/40. 범장망 표류.jpg\n",
      "이미지 이동 완료: /home/elicer/FIshing_vessel-1/resized_imgdata/40. 유망 이동.jpg -> /home/elicer/FIshing_vessel-1/categorized_imgdata/이동/40. 유망 이동.jpg\n",
      "이미지 이동 완료: /home/elicer/FIshing_vessel-1/resized_imgdata/40. 유망 표류.jpg -> /home/elicer/FIshing_vessel-1/categorized_imgdata/표류/40. 유망 표류.jpg\n",
      "이미지 이동 완료: /home/elicer/FIshing_vessel-1/resized_imgdata/40. 저인망 이동.jpg -> /home/elicer/FIshing_vessel-1/categorized_imgdata/이동/40. 저인망 이동.jpg\n",
      "이미지 이동 완료: /home/elicer/FIshing_vessel-1/resized_imgdata/40. 채낚기 표류.jpg -> /home/elicer/FIshing_vessel-1/categorized_imgdata/표류/40. 채낚기 표류.jpg\n",
      "이미지 이동 완료: /home/elicer/FIshing_vessel-1/resized_imgdata/40. 타망 조업.jpg -> /home/elicer/FIshing_vessel-1/categorized_imgdata/조업/40. 타망 조업.jpg\n",
      "이미지 이동 완료: /home/elicer/FIshing_vessel-1/resized_imgdata/40. 타망 이동.jpg -> /home/elicer/FIshing_vessel-1/categorized_imgdata/이동/40. 타망 이동.jpg\n",
      "이미지 이동 완료: /home/elicer/FIshing_vessel-1/resized_imgdata/40. 타망 표류.jpg -> /home/elicer/FIshing_vessel-1/categorized_imgdata/표류/40. 타망 표류.jpg\n",
      "이미지 이동 완료: /home/elicer/FIshing_vessel-1/resized_imgdata/40. 통발 이동.jpg -> /home/elicer/FIshing_vessel-1/categorized_imgdata/이동/40. 통발 이동.jpg\n",
      "이미지 이동 완료: /home/elicer/FIshing_vessel-1/resized_imgdata/41. 낚시어선 이동.png -> /home/elicer/FIshing_vessel-1/categorized_imgdata/이동/41. 낚시어선 이동.png\n",
      "이미지 이동 완료: /home/elicer/FIshing_vessel-1/resized_imgdata/41. 낚시어선 조업.jpg -> /home/elicer/FIshing_vessel-1/categorized_imgdata/조업/41. 낚시어선 조업.jpg\n",
      "이미지 이동 완료: /home/elicer/FIshing_vessel-1/resized_imgdata/41. 등광조망 조업.jpg -> /home/elicer/FIshing_vessel-1/categorized_imgdata/조업/41. 등광조망 조업.jpg\n",
      "이미지 이동 완료: /home/elicer/FIshing_vessel-1/resized_imgdata/41. 범장망 이동.jpg -> /home/elicer/FIshing_vessel-1/categorized_imgdata/이동/41. 범장망 이동.jpg\n",
      "이미지 이동 완료: /home/elicer/FIshing_vessel-1/resized_imgdata/41. 유망 이동.jpg -> /home/elicer/FIshing_vessel-1/categorized_imgdata/이동/41. 유망 이동.jpg\n",
      "이미지 이동 완료: /home/elicer/FIshing_vessel-1/resized_imgdata/41. 유망 표류.jpg -> /home/elicer/FIshing_vessel-1/categorized_imgdata/표류/41. 유망 표류.jpg\n",
      "이미지 이동 완료: /home/elicer/FIshing_vessel-1/resized_imgdata/41. 저인망 이동.jpg -> /home/elicer/FIshing_vessel-1/categorized_imgdata/이동/41. 저인망 이동.jpg\n",
      "이미지 이동 완료: /home/elicer/FIshing_vessel-1/resized_imgdata/41. 채낚기 표류.jpg -> /home/elicer/FIshing_vessel-1/categorized_imgdata/표류/41. 채낚기 표류.jpg\n",
      "이미지 이동 완료: /home/elicer/FIshing_vessel-1/resized_imgdata/41. 타망 이동.jpg -> /home/elicer/FIshing_vessel-1/categorized_imgdata/이동/41. 타망 이동.jpg\n",
      "이미지 이동 완료: /home/elicer/FIshing_vessel-1/resized_imgdata/41. 타망 조업.jpg -> /home/elicer/FIshing_vessel-1/categorized_imgdata/조업/41. 타망 조업.jpg\n",
      "이미지 이동 완료: /home/elicer/FIshing_vessel-1/resized_imgdata/41. 타망 표류.jpg -> /home/elicer/FIshing_vessel-1/categorized_imgdata/표류/41. 타망 표류.jpg\n",
      "이미지 이동 완료: /home/elicer/FIshing_vessel-1/resized_imgdata/41. 통발 이동.jpg -> /home/elicer/FIshing_vessel-1/categorized_imgdata/이동/41. 통발 이동.jpg\n",
      "이미지 이동 완료: /home/elicer/FIshing_vessel-1/resized_imgdata/42. 낚시어선 이동.png -> /home/elicer/FIshing_vessel-1/categorized_imgdata/이동/42. 낚시어선 이동.png\n",
      "이미지 이동 완료: /home/elicer/FIshing_vessel-1/resized_imgdata/42. 낚시어선 조업.jpg -> /home/elicer/FIshing_vessel-1/categorized_imgdata/조업/42. 낚시어선 조업.jpg\n",
      "이미지 이동 완료: /home/elicer/FIshing_vessel-1/resized_imgdata/42. 등광조망 조업.jpg -> /home/elicer/FIshing_vessel-1/categorized_imgdata/조업/42. 등광조망 조업.jpg\n",
      "이미지 이동 완료: /home/elicer/FIshing_vessel-1/resized_imgdata/42. 범장망 이동.jpg -> /home/elicer/FIshing_vessel-1/categorized_imgdata/이동/42. 범장망 이동.jpg\n",
      "이미지 이동 완료: /home/elicer/FIshing_vessel-1/resized_imgdata/42. 유망 표류.jpg -> /home/elicer/FIshing_vessel-1/categorized_imgdata/표류/42. 유망 표류.jpg\n",
      "이미지 이동 완료: /home/elicer/FIshing_vessel-1/resized_imgdata/42. 범장망 표류.jpg -> /home/elicer/FIshing_vessel-1/categorized_imgdata/표류/42. 범장망 표류.jpg\n",
      "이미지 이동 완료: /home/elicer/FIshing_vessel-1/resized_imgdata/42. 저인망 이동.jpg -> /home/elicer/FIshing_vessel-1/categorized_imgdata/이동/42. 저인망 이동.jpg\n",
      "이미지 이동 완료: /home/elicer/FIshing_vessel-1/resized_imgdata/42. 채낚기 표류.jpg -> /home/elicer/FIshing_vessel-1/categorized_imgdata/표류/42. 채낚기 표류.jpg\n",
      "이미지 이동 완료: /home/elicer/FIshing_vessel-1/resized_imgdata/42. 타망 이동.jpg -> /home/elicer/FIshing_vessel-1/categorized_imgdata/이동/42. 타망 이동.jpg\n",
      "이미지 이동 완료: /home/elicer/FIshing_vessel-1/resized_imgdata/42. 타망 조업.jpg -> /home/elicer/FIshing_vessel-1/categorized_imgdata/조업/42. 타망 조업.jpg\n",
      "이미지 이동 완료: /home/elicer/FIshing_vessel-1/resized_imgdata/42. 타망 표류.jpg -> /home/elicer/FIshing_vessel-1/categorized_imgdata/표류/42. 타망 표류.jpg\n",
      "이미지 이동 완료: /home/elicer/FIshing_vessel-1/resized_imgdata/42. 통발 이동.jpg -> /home/elicer/FIshing_vessel-1/categorized_imgdata/이동/42. 통발 이동.jpg\n",
      "이미지 이동 완료: /home/elicer/FIshing_vessel-1/resized_imgdata/43. 낚시어선 이동.png -> /home/elicer/FIshing_vessel-1/categorized_imgdata/이동/43. 낚시어선 이동.png\n",
      "이미지 이동 완료: /home/elicer/FIshing_vessel-1/resized_imgdata/43. 낚시어선 조업.jpg -> /home/elicer/FIshing_vessel-1/categorized_imgdata/조업/43. 낚시어선 조업.jpg\n",
      "이미지 이동 완료: /home/elicer/FIshing_vessel-1/resized_imgdata/43. 등광조망 조업.jpg -> /home/elicer/FIshing_vessel-1/categorized_imgdata/조업/43. 등광조망 조업.jpg\n",
      "이미지 이동 완료: /home/elicer/FIshing_vessel-1/resized_imgdata/43. 범장망 이동.jpg -> /home/elicer/FIshing_vessel-1/categorized_imgdata/이동/43. 범장망 이동.jpg\n",
      "이미지 이동 완료: /home/elicer/FIshing_vessel-1/resized_imgdata/43. 범장망 표류.jpg -> /home/elicer/FIshing_vessel-1/categorized_imgdata/표류/43. 범장망 표류.jpg\n",
      "이미지 이동 완료: /home/elicer/FIshing_vessel-1/resized_imgdata/43. 유망 표류.jpg -> /home/elicer/FIshing_vessel-1/categorized_imgdata/표류/43. 유망 표류.jpg\n",
      "이미지 이동 완료: /home/elicer/FIshing_vessel-1/resized_imgdata/43. 타망 이동.jpg -> /home/elicer/FIshing_vessel-1/categorized_imgdata/이동/43. 타망 이동.jpg\n",
      "이미지 이동 완료: /home/elicer/FIshing_vessel-1/resized_imgdata/43. 타망 조업.jpg -> /home/elicer/FIshing_vessel-1/categorized_imgdata/조업/43. 타망 조업.jpg\n",
      "이미지 이동 완료: /home/elicer/FIshing_vessel-1/resized_imgdata/43. 타망 표류.jpg -> /home/elicer/FIshing_vessel-1/categorized_imgdata/표류/43. 타망 표류.jpg\n",
      "이미지 이동 완료: /home/elicer/FIshing_vessel-1/resized_imgdata/43. 통발 이동.jpg -> /home/elicer/FIshing_vessel-1/categorized_imgdata/이동/43. 통발 이동.jpg\n",
      "이미지 이동 완료: /home/elicer/FIshing_vessel-1/resized_imgdata/44. 낚시어선 이동.jpg -> /home/elicer/FIshing_vessel-1/categorized_imgdata/이동/44. 낚시어선 이동.jpg\n",
      "이미지 이동 완료: /home/elicer/FIshing_vessel-1/resized_imgdata/44. 낚시어선 조업.jpg -> /home/elicer/FIshing_vessel-1/categorized_imgdata/조업/44. 낚시어선 조업.jpg\n",
      "이미지 이동 완료: /home/elicer/FIshing_vessel-1/resized_imgdata/44. 등광조망 조업.jpg -> /home/elicer/FIshing_vessel-1/categorized_imgdata/조업/44. 등광조망 조업.jpg\n",
      "이미지 이동 완료: /home/elicer/FIshing_vessel-1/resized_imgdata/44. 범장망 이동.jpg -> /home/elicer/FIshing_vessel-1/categorized_imgdata/이동/44. 범장망 이동.jpg\n",
      "이미지 이동 완료: /home/elicer/FIshing_vessel-1/resized_imgdata/44. 범장망 표류.jpg -> /home/elicer/FIshing_vessel-1/categorized_imgdata/표류/44. 범장망 표류.jpg\n",
      "이미지 이동 완료: /home/elicer/FIshing_vessel-1/resized_imgdata/44. 유망 표류.jpg -> /home/elicer/FIshing_vessel-1/categorized_imgdata/표류/44. 유망 표류.jpg\n",
      "이미지 이동 완료: /home/elicer/FIshing_vessel-1/resized_imgdata/44. 저인망 이동.jpg -> /home/elicer/FIshing_vessel-1/categorized_imgdata/이동/44. 저인망 이동.jpg\n",
      "이미지 이동 완료: /home/elicer/FIshing_vessel-1/resized_imgdata/44. 타망 이동.jpg -> /home/elicer/FIshing_vessel-1/categorized_imgdata/이동/44. 타망 이동.jpg\n",
      "이미지 이동 완료: /home/elicer/FIshing_vessel-1/resized_imgdata/44. 타망 조업.jpg -> /home/elicer/FIshing_vessel-1/categorized_imgdata/조업/44. 타망 조업.jpg\n",
      "이미지 이동 완료: /home/elicer/FIshing_vessel-1/resized_imgdata/45. 낚시어선 이동.jpg -> /home/elicer/FIshing_vessel-1/categorized_imgdata/이동/45. 낚시어선 이동.jpg\n",
      "이미지 이동 완료: /home/elicer/FIshing_vessel-1/resized_imgdata/44. 타망 표류.jpg -> /home/elicer/FIshing_vessel-1/categorized_imgdata/표류/44. 타망 표류.jpg\n",
      "이미지 이동 완료: /home/elicer/FIshing_vessel-1/resized_imgdata/44. 통발 이동.jpg -> /home/elicer/FIshing_vessel-1/categorized_imgdata/이동/44. 통발 이동.jpg\n",
      "이미지 이동 완료: /home/elicer/FIshing_vessel-1/resized_imgdata/45. 낚시어선 조업.jpg -> /home/elicer/FIshing_vessel-1/categorized_imgdata/조업/45. 낚시어선 조업.jpg\n",
      "이미지 이동 완료: /home/elicer/FIshing_vessel-1/resized_imgdata/45. 등광조망 조업.jpg -> /home/elicer/FIshing_vessel-1/categorized_imgdata/조업/45. 등광조망 조업.jpg\n",
      "이미지 이동 완료: /home/elicer/FIshing_vessel-1/resized_imgdata/45. 범장망 이동.jpg -> /home/elicer/FIshing_vessel-1/categorized_imgdata/이동/45. 범장망 이동.jpg\n",
      "이미지 이동 완료: /home/elicer/FIshing_vessel-1/resized_imgdata/45. 유망 표류.jpg -> /home/elicer/FIshing_vessel-1/categorized_imgdata/표류/45. 유망 표류.jpg\n",
      "이미지 이동 완료: /home/elicer/FIshing_vessel-1/resized_imgdata/45. 범장망 표류.jpg -> /home/elicer/FIshing_vessel-1/categorized_imgdata/표류/45. 범장망 표류.jpg\n",
      "이미지 이동 완료: /home/elicer/FIshing_vessel-1/resized_imgdata/45. 타망 이동.jpg -> /home/elicer/FIshing_vessel-1/categorized_imgdata/이동/45. 타망 이동.jpg\n",
      "이미지 이동 완료: /home/elicer/FIshing_vessel-1/resized_imgdata/45. 저인망 이동.jpg -> /home/elicer/FIshing_vessel-1/categorized_imgdata/이동/45. 저인망 이동.jpg\n",
      "이미지 이동 완료: /home/elicer/FIshing_vessel-1/resized_imgdata/45. 타망 조업.jpg -> /home/elicer/FIshing_vessel-1/categorized_imgdata/조업/45. 타망 조업.jpg\n",
      "이미지 이동 완료: /home/elicer/FIshing_vessel-1/resized_imgdata/45. 타망 표류.jpg -> /home/elicer/FIshing_vessel-1/categorized_imgdata/표류/45. 타망 표류.jpg\n",
      "이미지 이동 완료: /home/elicer/FIshing_vessel-1/resized_imgdata/46. 낚시어선 이동.jpg -> /home/elicer/FIshing_vessel-1/categorized_imgdata/이동/46. 낚시어선 이동.jpg\n",
      "이미지 이동 완료: /home/elicer/FIshing_vessel-1/resized_imgdata/45. 통발 이동.jpg -> /home/elicer/FIshing_vessel-1/categorized_imgdata/이동/45. 통발 이동.jpg\n",
      "이미지 이동 완료: /home/elicer/FIshing_vessel-1/resized_imgdata/46. 낚시어선 조업.jpg -> /home/elicer/FIshing_vessel-1/categorized_imgdata/조업/46. 낚시어선 조업.jpg\n",
      "이미지 이동 완료: /home/elicer/FIshing_vessel-1/resized_imgdata/46. 범장망 이동.jpg -> /home/elicer/FIshing_vessel-1/categorized_imgdata/이동/46. 범장망 이동.jpg\n",
      "이미지 이동 완료: /home/elicer/FIshing_vessel-1/resized_imgdata/46. 범장망 표류.jpg -> /home/elicer/FIshing_vessel-1/categorized_imgdata/표류/46. 범장망 표류.jpg\n",
      "이미지 이동 완료: /home/elicer/FIshing_vessel-1/resized_imgdata/46. 유망 표류.jpg -> /home/elicer/FIshing_vessel-1/categorized_imgdata/표류/46. 유망 표류.jpg\n",
      "이미지 이동 완료: /home/elicer/FIshing_vessel-1/resized_imgdata/46. 저인망 이동.jpg -> /home/elicer/FIshing_vessel-1/categorized_imgdata/이동/46. 저인망 이동.jpg\n",
      "이미지 이동 완료: /home/elicer/FIshing_vessel-1/resized_imgdata/46. 타망 이동.jpg -> /home/elicer/FIshing_vessel-1/categorized_imgdata/이동/46. 타망 이동.jpg\n",
      "이미지 이동 완료: /home/elicer/FIshing_vessel-1/resized_imgdata/46. 타망 조업.jpg -> /home/elicer/FIshing_vessel-1/categorized_imgdata/조업/46. 타망 조업.jpg\n",
      "이미지 이동 완료: /home/elicer/FIshing_vessel-1/resized_imgdata/46. 타망 표류.jpg -> /home/elicer/FIshing_vessel-1/categorized_imgdata/표류/46. 타망 표류.jpg\n",
      "이미지 이동 완료: /home/elicer/FIshing_vessel-1/resized_imgdata/46. 통발 이동.jpg -> /home/elicer/FIshing_vessel-1/categorized_imgdata/이동/46. 통발 이동.jpg\n",
      "이미지 이동 완료: /home/elicer/FIshing_vessel-1/resized_imgdata/47. 낚시어선 이동.jpg -> /home/elicer/FIshing_vessel-1/categorized_imgdata/이동/47. 낚시어선 이동.jpg\n",
      "이미지 이동 완료: /home/elicer/FIshing_vessel-1/resized_imgdata/47. 낚시어선 조업.jpg -> /home/elicer/FIshing_vessel-1/categorized_imgdata/조업/47. 낚시어선 조업.jpg\n",
      "이미지 이동 완료: /home/elicer/FIshing_vessel-1/resized_imgdata/47. 범장망 이동.jpg -> /home/elicer/FIshing_vessel-1/categorized_imgdata/이동/47. 범장망 이동.jpg\n",
      "이미지 이동 완료: /home/elicer/FIshing_vessel-1/resized_imgdata/47. 범장망 표류.jpg -> /home/elicer/FIshing_vessel-1/categorized_imgdata/표류/47. 범장망 표류.jpg\n",
      "이미지 이동 완료: /home/elicer/FIshing_vessel-1/resized_imgdata/47. 등광조망 조업.jpg -> /home/elicer/FIshing_vessel-1/categorized_imgdata/조업/47. 등광조망 조업.jpg\n",
      "이미지 이동 완료: /home/elicer/FIshing_vessel-1/resized_imgdata/47. 저인망 이동.jpg -> /home/elicer/FIshing_vessel-1/categorized_imgdata/이동/47. 저인망 이동.jpg\n",
      "이미지 이동 완료: /home/elicer/FIshing_vessel-1/resized_imgdata/47. 유망 표류.jpg -> /home/elicer/FIshing_vessel-1/categorized_imgdata/표류/47. 유망 표류.jpg\n",
      "이미지 이동 완료: /home/elicer/FIshing_vessel-1/resized_imgdata/47. 타망 이동.jpg -> /home/elicer/FIshing_vessel-1/categorized_imgdata/이동/47. 타망 이동.jpg\n",
      "이미지 이동 완료: /home/elicer/FIshing_vessel-1/resized_imgdata/47. 타망 조업.jpg -> /home/elicer/FIshing_vessel-1/categorized_imgdata/조업/47. 타망 조업.jpg\n",
      "이미지 이동 완료: /home/elicer/FIshing_vessel-1/resized_imgdata/47. 타망 표류.jpg -> /home/elicer/FIshing_vessel-1/categorized_imgdata/표류/47. 타망 표류.jpg\n",
      "이미지 이동 완료: /home/elicer/FIshing_vessel-1/resized_imgdata/47. 통발 이동.jpg -> /home/elicer/FIshing_vessel-1/categorized_imgdata/이동/47. 통발 이동.jpg\n",
      "이미지 이동 완료: /home/elicer/FIshing_vessel-1/resized_imgdata/48. 낚시어선 이동.jpg -> /home/elicer/FIshing_vessel-1/categorized_imgdata/이동/48. 낚시어선 이동.jpg\n",
      "이미지 이동 완료: /home/elicer/FIshing_vessel-1/resized_imgdata/48. 낚시어선 조업.jpg -> /home/elicer/FIshing_vessel-1/categorized_imgdata/조업/48. 낚시어선 조업.jpg\n",
      "이미지 이동 완료: /home/elicer/FIshing_vessel-1/resized_imgdata/48. 등광조망 조업.jpg -> /home/elicer/FIshing_vessel-1/categorized_imgdata/조업/48. 등광조망 조업.jpg\n",
      "이미지 이동 완료: /home/elicer/FIshing_vessel-1/resized_imgdata/48. 범장망 이동.jpg -> /home/elicer/FIshing_vessel-1/categorized_imgdata/이동/48. 범장망 이동.jpg\n",
      "이미지 이동 완료: /home/elicer/FIshing_vessel-1/resized_imgdata/48. 범장망 표류.jpg -> /home/elicer/FIshing_vessel-1/categorized_imgdata/표류/48. 범장망 표류.jpg\n",
      "이미지 이동 완료: /home/elicer/FIshing_vessel-1/resized_imgdata/48. 저인망 이동.jpg -> /home/elicer/FIshing_vessel-1/categorized_imgdata/이동/48. 저인망 이동.jpg\n",
      "이미지 이동 완료: /home/elicer/FIshing_vessel-1/resized_imgdata/48. 타망 이동.jpg -> /home/elicer/FIshing_vessel-1/categorized_imgdata/이동/48. 타망 이동.jpg\n",
      "이미지 이동 완료: /home/elicer/FIshing_vessel-1/resized_imgdata/48. 타망 조업.jpg -> /home/elicer/FIshing_vessel-1/categorized_imgdata/조업/48. 타망 조업.jpg\n",
      "이미지 이동 완료: /home/elicer/FIshing_vessel-1/resized_imgdata/48. 타망 표류.jpg -> /home/elicer/FIshing_vessel-1/categorized_imgdata/표류/48. 타망 표류.jpg\n",
      "이미지 이동 완료: /home/elicer/FIshing_vessel-1/resized_imgdata/49. 등광조망 조업.jpg -> /home/elicer/FIshing_vessel-1/categorized_imgdata/조업/49. 등광조망 조업.jpg\n",
      "이미지 이동 완료: /home/elicer/FIshing_vessel-1/resized_imgdata/48. 통발 이동.jpg -> /home/elicer/FIshing_vessel-1/categorized_imgdata/이동/48. 통발 이동.jpg\n",
      "이미지 이동 완료: /home/elicer/FIshing_vessel-1/resized_imgdata/49. 범장망 표류.jpg -> /home/elicer/FIshing_vessel-1/categorized_imgdata/표류/49. 범장망 표류.jpg\n",
      "이미지 이동 완료: /home/elicer/FIshing_vessel-1/resized_imgdata/49. 범장망 이동.jpg -> /home/elicer/FIshing_vessel-1/categorized_imgdata/이동/49. 범장망 이동.jpg\n",
      "이미지 이동 완료: /home/elicer/FIshing_vessel-1/resized_imgdata/49. 낚시어선 조업.jpg -> /home/elicer/FIshing_vessel-1/categorized_imgdata/조업/49. 낚시어선 조업.jpg\n",
      "이미지 이동 완료: /home/elicer/FIshing_vessel-1/resized_imgdata/49. 유망 표류.jpg -> /home/elicer/FIshing_vessel-1/categorized_imgdata/표류/49. 유망 표류.jpg\n",
      "이미지 이동 완료: /home/elicer/FIshing_vessel-1/resized_imgdata/49. 저인망 이동.jpg -> /home/elicer/FIshing_vessel-1/categorized_imgdata/이동/49. 저인망 이동.jpg\n",
      "이미지 이동 완료: /home/elicer/FIshing_vessel-1/resized_imgdata/49. 타망 이동.jpg -> /home/elicer/FIshing_vessel-1/categorized_imgdata/이동/49. 타망 이동.jpg\n",
      "이미지 이동 완료: /home/elicer/FIshing_vessel-1/resized_imgdata/49. 타망 조업.jpg -> /home/elicer/FIshing_vessel-1/categorized_imgdata/조업/49. 타망 조업.jpg\n",
      "이미지 이동 완료: /home/elicer/FIshing_vessel-1/resized_imgdata/49. 타망 표류.jpg -> /home/elicer/FIshing_vessel-1/categorized_imgdata/표류/49. 타망 표류.jpg\n",
      "이미지 이동 완료: /home/elicer/FIshing_vessel-1/resized_imgdata/49. 통발 이동.jpg -> /home/elicer/FIshing_vessel-1/categorized_imgdata/이동/49. 통발 이동.jpg\n",
      "이미지 이동 완료: /home/elicer/FIshing_vessel-1/resized_imgdata/5. 낚시어선 이동.jpg -> /home/elicer/FIshing_vessel-1/categorized_imgdata/이동/5. 낚시어선 이동.jpg\n",
      "이미지 이동 완료: /home/elicer/FIshing_vessel-1/resized_imgdata/5. 낚시어선 조업.jpg -> /home/elicer/FIshing_vessel-1/categorized_imgdata/조업/5. 낚시어선 조업.jpg\n",
      "이미지 이동 완료: /home/elicer/FIshing_vessel-1/resized_imgdata/5. 등광조망 이동.jpg -> /home/elicer/FIshing_vessel-1/categorized_imgdata/이동/5. 등광조망 이동.jpg\n",
      "이미지 이동 완료: /home/elicer/FIshing_vessel-1/resized_imgdata/5. 등광조망 표류.jpg -> /home/elicer/FIshing_vessel-1/categorized_imgdata/표류/5. 등광조망 표류.jpg\n",
      "이미지 이동 완료: /home/elicer/FIshing_vessel-1/resized_imgdata/5. 범장망 이동.jpg -> /home/elicer/FIshing_vessel-1/categorized_imgdata/이동/5. 범장망 이동.jpg\n",
      "이미지 이동 완료: /home/elicer/FIshing_vessel-1/resized_imgdata/5. 등광조망 조업.jpg -> /home/elicer/FIshing_vessel-1/categorized_imgdata/조업/5. 등광조망 조업.jpg\n",
      "이미지 이동 완료: /home/elicer/FIshing_vessel-1/resized_imgdata/5. 범장망 표류.jpg -> /home/elicer/FIshing_vessel-1/categorized_imgdata/표류/5. 범장망 표류.jpg\n",
      "이미지 이동 완료: /home/elicer/FIshing_vessel-1/resized_imgdata/5. 안강망 이동.jpg -> /home/elicer/FIshing_vessel-1/categorized_imgdata/이동/5. 안강망 이동.jpg\n",
      "이미지 이동 완료: /home/elicer/FIshing_vessel-1/resized_imgdata/5. 안강망 조업.jpg -> /home/elicer/FIshing_vessel-1/categorized_imgdata/조업/5. 안강망 조업.jpg\n",
      "이미지 이동 완료: /home/elicer/FIshing_vessel-1/resized_imgdata/5. 연승 이동.jpg -> /home/elicer/FIshing_vessel-1/categorized_imgdata/이동/5. 연승 이동.jpg\n",
      "이미지 이동 완료: /home/elicer/FIshing_vessel-1/resized_imgdata/5. 연승 표류.jpg -> /home/elicer/FIshing_vessel-1/categorized_imgdata/표류/5. 연승 표류.jpg\n",
      "이미지 이동 완료: /home/elicer/FIshing_vessel-1/resized_imgdata/5. 유망 조업.jpg -> /home/elicer/FIshing_vessel-1/categorized_imgdata/조업/5. 유망 조업.jpg\n",
      "이미지 이동 완료: /home/elicer/FIshing_vessel-1/resized_imgdata/5. 유망 이동.jpg -> /home/elicer/FIshing_vessel-1/categorized_imgdata/이동/5. 유망 이동.jpg\n",
      "이미지 이동 완료: /home/elicer/FIshing_vessel-1/resized_imgdata/5. 유망 표류.jpg -> /home/elicer/FIshing_vessel-1/categorized_imgdata/표류/5. 유망 표류.jpg\n",
      "이미지 이동 완료: /home/elicer/FIshing_vessel-1/resized_imgdata/5. 저인망 이동.jpg -> /home/elicer/FIshing_vessel-1/categorized_imgdata/이동/5. 저인망 이동.jpg\n",
      "이미지 이동 완료: /home/elicer/FIshing_vessel-1/resized_imgdata/5. 저인망 조업.jpg -> /home/elicer/FIshing_vessel-1/categorized_imgdata/조업/5. 저인망 조업.jpg\n",
      "이미지 이동 완료: /home/elicer/FIshing_vessel-1/resized_imgdata/5. 채낚기  표류.jpg -> /home/elicer/FIshing_vessel-1/categorized_imgdata/표류/5. 채낚기  표류.jpg\n",
      "이미지 이동 완료: /home/elicer/FIshing_vessel-1/resized_imgdata/5. 채낚기 이동.jpg -> /home/elicer/FIshing_vessel-1/categorized_imgdata/이동/5. 채낚기 이동.jpg\n",
      "이미지 이동 완료: /home/elicer/FIshing_vessel-1/resized_imgdata/5. 타망 이동.jpg -> /home/elicer/FIshing_vessel-1/categorized_imgdata/이동/5. 타망 이동.jpg\n",
      "이미지 이동 완료: /home/elicer/FIshing_vessel-1/resized_imgdata/5. 타망 조업.jpg -> /home/elicer/FIshing_vessel-1/categorized_imgdata/조업/5. 타망 조업.jpg\n",
      "이미지 이동 완료: /home/elicer/FIshing_vessel-1/resized_imgdata/5. 타망 표류.jpg -> /home/elicer/FIshing_vessel-1/categorized_imgdata/표류/5. 타망 표류.jpg\n",
      "이미지 이동 완료: /home/elicer/FIshing_vessel-1/resized_imgdata/5. 통발 이동.jpg -> /home/elicer/FIshing_vessel-1/categorized_imgdata/이동/5. 통발 이동.jpg\n",
      "이미지 이동 완료: /home/elicer/FIshing_vessel-1/resized_imgdata/5. 통발 표류.jpg -> /home/elicer/FIshing_vessel-1/categorized_imgdata/표류/5. 통발 표류.jpg\n",
      "이미지 이동 완료: /home/elicer/FIshing_vessel-1/resized_imgdata/50 낚시어선 조업.jpg -> /home/elicer/FIshing_vessel-1/categorized_imgdata/조업/50 낚시어선 조업.jpg\n",
      "이미지 이동 완료: /home/elicer/FIshing_vessel-1/resized_imgdata/50. 낚시어선 이동.jpg -> /home/elicer/FIshing_vessel-1/categorized_imgdata/이동/50. 낚시어선 이동.jpg\n",
      "이미지 이동 완료: /home/elicer/FIshing_vessel-1/resized_imgdata/50. 범장망 이동.jpg -> /home/elicer/FIshing_vessel-1/categorized_imgdata/이동/50. 범장망 이동.jpg\n",
      "이미지 이동 완료: /home/elicer/FIshing_vessel-1/resized_imgdata/50. 범장망 표류.jpg -> /home/elicer/FIshing_vessel-1/categorized_imgdata/표류/50. 범장망 표류.jpg\n",
      "이미지 이동 완료: /home/elicer/FIshing_vessel-1/resized_imgdata/50. 유망 표류.jpg -> /home/elicer/FIshing_vessel-1/categorized_imgdata/표류/50. 유망 표류.jpg\n",
      "이미지 이동 완료: /home/elicer/FIshing_vessel-1/resized_imgdata/50. 타망 이동.jpg -> /home/elicer/FIshing_vessel-1/categorized_imgdata/이동/50. 타망 이동.jpg\n",
      "이미지 이동 완료: /home/elicer/FIshing_vessel-1/resized_imgdata/50. 타망 조업.jpg -> /home/elicer/FIshing_vessel-1/categorized_imgdata/조업/50. 타망 조업.jpg\n",
      "이미지 이동 완료: /home/elicer/FIshing_vessel-1/resized_imgdata/50. 저인망 이동.jpg -> /home/elicer/FIshing_vessel-1/categorized_imgdata/이동/50. 저인망 이동.jpg\n",
      "이미지 이동 완료: /home/elicer/FIshing_vessel-1/resized_imgdata/50. 타망 표류.jpg -> /home/elicer/FIshing_vessel-1/categorized_imgdata/표류/50. 타망 표류.jpg\n",
      "이미지 이동 완료: /home/elicer/FIshing_vessel-1/resized_imgdata/51. 낚시어선 이동.jpg -> /home/elicer/FIshing_vessel-1/categorized_imgdata/이동/51. 낚시어선 이동.jpg\n",
      "이미지 이동 완료: /home/elicer/FIshing_vessel-1/resized_imgdata/51. 범장망 표류.jpg -> /home/elicer/FIshing_vessel-1/categorized_imgdata/표류/51. 범장망 표류.jpg\n",
      "이미지 이동 완료: /home/elicer/FIshing_vessel-1/resized_imgdata/51. 낚시어선 조업.jpg -> /home/elicer/FIshing_vessel-1/categorized_imgdata/조업/51. 낚시어선 조업.jpg\n",
      "이미지 이동 완료: /home/elicer/FIshing_vessel-1/resized_imgdata/51. 범장망 이동.jpg -> /home/elicer/FIshing_vessel-1/categorized_imgdata/이동/51. 범장망 이동.jpg\n",
      "이미지 이동 완료: /home/elicer/FIshing_vessel-1/resized_imgdata/51. 유망 표류.jpg -> /home/elicer/FIshing_vessel-1/categorized_imgdata/표류/51. 유망 표류.jpg\n",
      "이미지 이동 완료: /home/elicer/FIshing_vessel-1/resized_imgdata/51. 타망 이동.jpg -> /home/elicer/FIshing_vessel-1/categorized_imgdata/이동/51. 타망 이동.jpg\n",
      "이미지 이동 완료: /home/elicer/FIshing_vessel-1/resized_imgdata/51. 저인망 이동.jpg -> /home/elicer/FIshing_vessel-1/categorized_imgdata/이동/51. 저인망 이동.jpg\n",
      "이미지 이동 완료: /home/elicer/FIshing_vessel-1/resized_imgdata/51. 타망 조업.jpg -> /home/elicer/FIshing_vessel-1/categorized_imgdata/조업/51. 타망 조업.jpg\n",
      "이미지 이동 완료: /home/elicer/FIshing_vessel-1/resized_imgdata/51. 타망 표류.jpg -> /home/elicer/FIshing_vessel-1/categorized_imgdata/표류/51. 타망 표류.jpg\n",
      "이미지 이동 완료: /home/elicer/FIshing_vessel-1/resized_imgdata/52. 낚시어선 이동.jpg -> /home/elicer/FIshing_vessel-1/categorized_imgdata/이동/52. 낚시어선 이동.jpg\n",
      "이미지 이동 완료: /home/elicer/FIshing_vessel-1/resized_imgdata/52. 낚시어선 조업.jpg -> /home/elicer/FIshing_vessel-1/categorized_imgdata/조업/52. 낚시어선 조업.jpg\n",
      "이미지 이동 완료: /home/elicer/FIshing_vessel-1/resized_imgdata/52. 범장망 이동.jpg -> /home/elicer/FIshing_vessel-1/categorized_imgdata/이동/52. 범장망 이동.jpg\n",
      "이미지 이동 완료: /home/elicer/FIshing_vessel-1/resized_imgdata/52. 범장망 표류.jpg -> /home/elicer/FIshing_vessel-1/categorized_imgdata/표류/52. 범장망 표류.jpg\n",
      "이미지 이동 완료: /home/elicer/FIshing_vessel-1/resized_imgdata/52. 유망 표류.jpg -> /home/elicer/FIshing_vessel-1/categorized_imgdata/표류/52. 유망 표류.jpg\n",
      "이미지 이동 완료: /home/elicer/FIshing_vessel-1/resized_imgdata/52. 저인망 이동.jpg -> /home/elicer/FIshing_vessel-1/categorized_imgdata/이동/52. 저인망 이동.jpg\n",
      "이미지 이동 완료: /home/elicer/FIshing_vessel-1/resized_imgdata/52. 타망 이동.jpg -> /home/elicer/FIshing_vessel-1/categorized_imgdata/이동/52. 타망 이동.jpg\n",
      "이미지 이동 완료: /home/elicer/FIshing_vessel-1/resized_imgdata/52. 타망 조업.jpg -> /home/elicer/FIshing_vessel-1/categorized_imgdata/조업/52. 타망 조업.jpg\n",
      "이미지 이동 완료: /home/elicer/FIshing_vessel-1/resized_imgdata/52. 타망 표류.jpg -> /home/elicer/FIshing_vessel-1/categorized_imgdata/표류/52. 타망 표류.jpg\n",
      "이미지 이동 완료: /home/elicer/FIshing_vessel-1/resized_imgdata/52. 통발 이동.jpg -> /home/elicer/FIshing_vessel-1/categorized_imgdata/이동/52. 통발 이동.jpg\n",
      "이미지 이동 완료: /home/elicer/FIshing_vessel-1/resized_imgdata/53. 낚시어선 조업.jpg -> /home/elicer/FIshing_vessel-1/categorized_imgdata/조업/53. 낚시어선 조업.jpg\n",
      "이미지 이동 완료: /home/elicer/FIshing_vessel-1/resized_imgdata/53. 범장망 이동.jpg -> /home/elicer/FIshing_vessel-1/categorized_imgdata/이동/53. 범장망 이동.jpg\n",
      "이미지 이동 완료: /home/elicer/FIshing_vessel-1/resized_imgdata/53. 범장망 표류.jpg -> /home/elicer/FIshing_vessel-1/categorized_imgdata/표류/53. 범장망 표류.jpg\n",
      "이미지 이동 완료: /home/elicer/FIshing_vessel-1/resized_imgdata/53. 낚시어선 이동.jpg -> /home/elicer/FIshing_vessel-1/categorized_imgdata/이동/53. 낚시어선 이동.jpg\n",
      "이미지 이동 완료: /home/elicer/FIshing_vessel-1/resized_imgdata/53. 유망 표류.jpg -> /home/elicer/FIshing_vessel-1/categorized_imgdata/표류/53. 유망 표류.jpg\n",
      "이미지 이동 완료: /home/elicer/FIshing_vessel-1/resized_imgdata/53. 저인망 이동.jpg -> /home/elicer/FIshing_vessel-1/categorized_imgdata/이동/53. 저인망 이동.jpg\n",
      "이미지 이동 완료: /home/elicer/FIshing_vessel-1/resized_imgdata/53. 타망 이동.jpg -> /home/elicer/FIshing_vessel-1/categorized_imgdata/이동/53. 타망 이동.jpg\n",
      "이미지 이동 완료: /home/elicer/FIshing_vessel-1/resized_imgdata/53. 타망 조업.jpg -> /home/elicer/FIshing_vessel-1/categorized_imgdata/조업/53. 타망 조업.jpg\n",
      "이미지 이동 완료: /home/elicer/FIshing_vessel-1/resized_imgdata/53. 타망 표류.jpg -> /home/elicer/FIshing_vessel-1/categorized_imgdata/표류/53. 타망 표류.jpg\n",
      "이미지 이동 완료: /home/elicer/FIshing_vessel-1/resized_imgdata/54. 낚시어선 조업.jpg -> /home/elicer/FIshing_vessel-1/categorized_imgdata/조업/54. 낚시어선 조업.jpg\n",
      "이미지 이동 완료: /home/elicer/FIshing_vessel-1/resized_imgdata/54. 낚시어선 이동.jpg -> /home/elicer/FIshing_vessel-1/categorized_imgdata/이동/54. 낚시어선 이동.jpg\n",
      "이미지 이동 완료: /home/elicer/FIshing_vessel-1/resized_imgdata/54. 범장망 표류.jpg -> /home/elicer/FIshing_vessel-1/categorized_imgdata/표류/54. 범장망 표류.jpg\n",
      "이미지 이동 완료: /home/elicer/FIshing_vessel-1/resized_imgdata/54. 범장망 이동.jpg -> /home/elicer/FIshing_vessel-1/categorized_imgdata/이동/54. 범장망 이동.jpg\n",
      "이미지 이동 완료: /home/elicer/FIshing_vessel-1/resized_imgdata/54. 타망 조업.jpg -> /home/elicer/FIshing_vessel-1/categorized_imgdata/조업/54. 타망 조업.jpg\n",
      "이미지 이동 완료: /home/elicer/FIshing_vessel-1/resized_imgdata/54. 타망 이동.jpg -> /home/elicer/FIshing_vessel-1/categorized_imgdata/이동/54. 타망 이동.jpg\n",
      "이미지 이동 완료: /home/elicer/FIshing_vessel-1/resized_imgdata/54. 타망 표류.jpg -> /home/elicer/FIshing_vessel-1/categorized_imgdata/표류/54. 타망 표류.jpg\n",
      "이미지 이동 완료: /home/elicer/FIshing_vessel-1/resized_imgdata/55. 낚시어선 이동.jpg -> /home/elicer/FIshing_vessel-1/categorized_imgdata/이동/55. 낚시어선 이동.jpg\n",
      "이미지 이동 완료: /home/elicer/FIshing_vessel-1/resized_imgdata/55. 낚시어선 조업.jpg -> /home/elicer/FIshing_vessel-1/categorized_imgdata/조업/55. 낚시어선 조업.jpg\n",
      "이미지 이동 완료: /home/elicer/FIshing_vessel-1/resized_imgdata/55. 범장망 이동.jpg -> /home/elicer/FIshing_vessel-1/categorized_imgdata/이동/55. 범장망 이동.jpg\n",
      "이미지 이동 완료: /home/elicer/FIshing_vessel-1/resized_imgdata/55. 범장망 표류.jpg -> /home/elicer/FIshing_vessel-1/categorized_imgdata/표류/55. 범장망 표류.jpg\n",
      "이미지 이동 완료: /home/elicer/FIshing_vessel-1/resized_imgdata/55. 유망 표류.jpg -> /home/elicer/FIshing_vessel-1/categorized_imgdata/표류/55. 유망 표류.jpg\n",
      "이미지 이동 완료: /home/elicer/FIshing_vessel-1/resized_imgdata/55. 타망 이동.jpg -> /home/elicer/FIshing_vessel-1/categorized_imgdata/이동/55. 타망 이동.jpg\n",
      "이미지 이동 완료: /home/elicer/FIshing_vessel-1/resized_imgdata/55. 타망 조업.jpg -> /home/elicer/FIshing_vessel-1/categorized_imgdata/조업/55. 타망 조업.jpg\n",
      "이미지 이동 완료: /home/elicer/FIshing_vessel-1/resized_imgdata/55. 타망 표류.jpg -> /home/elicer/FIshing_vessel-1/categorized_imgdata/표류/55. 타망 표류.jpg\n",
      "이미지 이동 완료: /home/elicer/FIshing_vessel-1/resized_imgdata/55. 통발 이동.jpg -> /home/elicer/FIshing_vessel-1/categorized_imgdata/이동/55. 통발 이동.jpg\n",
      "이미지 이동 완료: /home/elicer/FIshing_vessel-1/resized_imgdata/56. 낚시어선 이동.jpg -> /home/elicer/FIshing_vessel-1/categorized_imgdata/이동/56. 낚시어선 이동.jpg\n",
      "이미지 이동 완료: /home/elicer/FIshing_vessel-1/resized_imgdata/56. 낚시어선 조업.jpg -> /home/elicer/FIshing_vessel-1/categorized_imgdata/조업/56. 낚시어선 조업.jpg\n",
      "이미지 이동 완료: /home/elicer/FIshing_vessel-1/resized_imgdata/56. 범장망 이동.jpg -> /home/elicer/FIshing_vessel-1/categorized_imgdata/이동/56. 범장망 이동.jpg\n",
      "이미지 이동 완료: /home/elicer/FIshing_vessel-1/resized_imgdata/56. 유망 표류.png -> /home/elicer/FIshing_vessel-1/categorized_imgdata/표류/56. 유망 표류.png\n",
      "이미지 이동 완료: /home/elicer/FIshing_vessel-1/resized_imgdata/56. 범장망 표류.jpg -> /home/elicer/FIshing_vessel-1/categorized_imgdata/표류/56. 범장망 표류.jpg\n",
      "이미지 이동 완료: /home/elicer/FIshing_vessel-1/resized_imgdata/56. 타망 이동.jpg -> /home/elicer/FIshing_vessel-1/categorized_imgdata/이동/56. 타망 이동.jpg\n",
      "이미지 이동 완료: /home/elicer/FIshing_vessel-1/resized_imgdata/56. 타망 조업.jpg -> /home/elicer/FIshing_vessel-1/categorized_imgdata/조업/56. 타망 조업.jpg\n",
      "이미지 이동 완료: /home/elicer/FIshing_vessel-1/resized_imgdata/56. 타망 표류.jpg -> /home/elicer/FIshing_vessel-1/categorized_imgdata/표류/56. 타망 표류.jpg\n",
      "이미지 이동 완료: /home/elicer/FIshing_vessel-1/resized_imgdata/56. 통발 이동.jpg -> /home/elicer/FIshing_vessel-1/categorized_imgdata/이동/56. 통발 이동.jpg\n",
      "이미지 이동 완료: /home/elicer/FIshing_vessel-1/resized_imgdata/57. 낚시어선 이동.jpg -> /home/elicer/FIshing_vessel-1/categorized_imgdata/이동/57. 낚시어선 이동.jpg\n",
      "이미지 이동 완료: /home/elicer/FIshing_vessel-1/resized_imgdata/57. 낚시어선 조업.jpg -> /home/elicer/FIshing_vessel-1/categorized_imgdata/조업/57. 낚시어선 조업.jpg\n",
      "이미지 이동 완료: /home/elicer/FIshing_vessel-1/resized_imgdata/57. 범장망 이동.jpg -> /home/elicer/FIshing_vessel-1/categorized_imgdata/이동/57. 범장망 이동.jpg\n",
      "이미지 이동 완료: /home/elicer/FIshing_vessel-1/resized_imgdata/57. 범장망 표류.jpg -> /home/elicer/FIshing_vessel-1/categorized_imgdata/표류/57. 범장망 표류.jpg\n",
      "이미지 이동 완료: /home/elicer/FIshing_vessel-1/resized_imgdata/57. 유망 표류.jpg -> /home/elicer/FIshing_vessel-1/categorized_imgdata/표류/57. 유망 표류.jpg\n",
      "이미지 이동 완료: /home/elicer/FIshing_vessel-1/resized_imgdata/57. 타망 이동.jpg -> /home/elicer/FIshing_vessel-1/categorized_imgdata/이동/57. 타망 이동.jpg\n",
      "이미지 이동 완료: /home/elicer/FIshing_vessel-1/resized_imgdata/57. 타망 조업.jpg -> /home/elicer/FIshing_vessel-1/categorized_imgdata/조업/57. 타망 조업.jpg\n",
      "이미지 이동 완료: /home/elicer/FIshing_vessel-1/resized_imgdata/57. 타망 표류.jpg -> /home/elicer/FIshing_vessel-1/categorized_imgdata/표류/57. 타망 표류.jpg\n",
      "이미지 이동 완료: /home/elicer/FIshing_vessel-1/resized_imgdata/57. 통발 이동.jpg -> /home/elicer/FIshing_vessel-1/categorized_imgdata/이동/57. 통발 이동.jpg\n",
      "이미지 이동 완료: /home/elicer/FIshing_vessel-1/resized_imgdata/58. 낚시어선 조업.jpg -> /home/elicer/FIshing_vessel-1/categorized_imgdata/조업/58. 낚시어선 조업.jpg\n",
      "이미지 이동 완료: /home/elicer/FIshing_vessel-1/resized_imgdata/58. 범장망 표류.jpg -> /home/elicer/FIshing_vessel-1/categorized_imgdata/표류/58. 범장망 표류.jpg\n",
      "이미지 이동 완료: /home/elicer/FIshing_vessel-1/resized_imgdata/58. 범장망 이동.jpg -> /home/elicer/FIshing_vessel-1/categorized_imgdata/이동/58. 범장망 이동.jpg\n",
      "이미지 이동 완료: /home/elicer/FIshing_vessel-1/resized_imgdata/58. 유망 표류.png -> /home/elicer/FIshing_vessel-1/categorized_imgdata/표류/58. 유망 표류.png\n",
      "이미지 이동 완료: /home/elicer/FIshing_vessel-1/resized_imgdata/58. 타망 이동.jpg -> /home/elicer/FIshing_vessel-1/categorized_imgdata/이동/58. 타망 이동.jpg\n",
      "이미지 이동 완료: /home/elicer/FIshing_vessel-1/resized_imgdata/58. 타망 조업.jpg -> /home/elicer/FIshing_vessel-1/categorized_imgdata/조업/58. 타망 조업.jpg\n",
      "이미지 이동 완료: /home/elicer/FIshing_vessel-1/resized_imgdata/58. 타망 표류.jpg -> /home/elicer/FIshing_vessel-1/categorized_imgdata/표류/58. 타망 표류.jpg\n",
      "이미지 이동 완료: /home/elicer/FIshing_vessel-1/resized_imgdata/58. 통발 이동.jpg -> /home/elicer/FIshing_vessel-1/categorized_imgdata/이동/58. 통발 이동.jpg\n",
      "이미지 이동 완료: /home/elicer/FIshing_vessel-1/resized_imgdata/59. 낚시어선 조업.jpg -> /home/elicer/FIshing_vessel-1/categorized_imgdata/조업/59. 낚시어선 조업.jpg\n",
      "이미지 이동 완료: /home/elicer/FIshing_vessel-1/resized_imgdata/59. 범장망 이동.jpg -> /home/elicer/FIshing_vessel-1/categorized_imgdata/이동/59. 범장망 이동.jpg\n",
      "이미지 이동 완료: /home/elicer/FIshing_vessel-1/resized_imgdata/59. 범장망 표류.jpg -> /home/elicer/FIshing_vessel-1/categorized_imgdata/표류/59. 범장망 표류.jpg\n",
      "이미지 이동 완료: /home/elicer/FIshing_vessel-1/resized_imgdata/59. 유망 표류.jpg -> /home/elicer/FIshing_vessel-1/categorized_imgdata/표류/59. 유망 표류.jpg\n",
      "이미지 이동 완료: /home/elicer/FIshing_vessel-1/resized_imgdata/59. 타망 이동.jpg -> /home/elicer/FIshing_vessel-1/categorized_imgdata/이동/59. 타망 이동.jpg\n",
      "이미지 이동 완료: /home/elicer/FIshing_vessel-1/resized_imgdata/59. 타망 조업.jpg -> /home/elicer/FIshing_vessel-1/categorized_imgdata/조업/59. 타망 조업.jpg\n",
      "이미지 이동 완료: /home/elicer/FIshing_vessel-1/resized_imgdata/59. 타망 표류.jpg -> /home/elicer/FIshing_vessel-1/categorized_imgdata/표류/59. 타망 표류.jpg\n",
      "이미지 이동 완료: /home/elicer/FIshing_vessel-1/resized_imgdata/6. 낚시어선 이동.jpg -> /home/elicer/FIshing_vessel-1/categorized_imgdata/이동/6. 낚시어선 이동.jpg\n",
      "이미지 이동 완료: /home/elicer/FIshing_vessel-1/resized_imgdata/59. 통발 이동.jpg -> /home/elicer/FIshing_vessel-1/categorized_imgdata/이동/59. 통발 이동.jpg\n",
      "이미지 이동 완료: /home/elicer/FIshing_vessel-1/resized_imgdata/6. 낚시어선 조업.jpg -> /home/elicer/FIshing_vessel-1/categorized_imgdata/조업/6. 낚시어선 조업.jpg\n",
      "이미지 이동 완료: /home/elicer/FIshing_vessel-1/resized_imgdata/6. 등광조망 이동.jpg -> /home/elicer/FIshing_vessel-1/categorized_imgdata/이동/6. 등광조망 이동.jpg\n",
      "이미지 이동 완료: /home/elicer/FIshing_vessel-1/resized_imgdata/6. 낚시어선 표류.jpg -> /home/elicer/FIshing_vessel-1/categorized_imgdata/표류/6. 낚시어선 표류.jpg\n",
      "이미지 이동 완료: /home/elicer/FIshing_vessel-1/resized_imgdata/6. 등광조망 표류.jpg -> /home/elicer/FIshing_vessel-1/categorized_imgdata/표류/6. 등광조망 표류.jpg\n",
      "이미지 이동 완료: /home/elicer/FIshing_vessel-1/resized_imgdata/6. 범장망 이동.jpg -> /home/elicer/FIshing_vessel-1/categorized_imgdata/이동/6. 범장망 이동.jpg\n",
      "이미지 이동 완료: /home/elicer/FIshing_vessel-1/resized_imgdata/6. 등광조망 조업.jpg -> /home/elicer/FIshing_vessel-1/categorized_imgdata/조업/6. 등광조망 조업.jpg\n",
      "이미지 이동 완료: /home/elicer/FIshing_vessel-1/resized_imgdata/6. 범장망 조업.jpg -> /home/elicer/FIshing_vessel-1/categorized_imgdata/조업/6. 범장망 조업.jpg\n",
      "이미지 이동 완료: /home/elicer/FIshing_vessel-1/resized_imgdata/6. 범장망 표류.jpg -> /home/elicer/FIshing_vessel-1/categorized_imgdata/표류/6. 범장망 표류.jpg\n",
      "이미지 이동 완료: /home/elicer/FIshing_vessel-1/resized_imgdata/6. 안강망 조업.jpg -> /home/elicer/FIshing_vessel-1/categorized_imgdata/조업/6. 안강망 조업.jpg\n",
      "이미지 이동 완료: /home/elicer/FIshing_vessel-1/resized_imgdata/6. 안강망 이동.jpg -> /home/elicer/FIshing_vessel-1/categorized_imgdata/이동/6. 안강망 이동.jpg\n",
      "이미지 이동 완료: /home/elicer/FIshing_vessel-1/resized_imgdata/6. 안강망 표류.jpg -> /home/elicer/FIshing_vessel-1/categorized_imgdata/표류/6. 안강망 표류.jpg\n",
      "이미지 이동 완료: /home/elicer/FIshing_vessel-1/resized_imgdata/6. 연승 이동.jpg -> /home/elicer/FIshing_vessel-1/categorized_imgdata/이동/6. 연승 이동.jpg\n",
      "이미지 이동 완료: /home/elicer/FIshing_vessel-1/resized_imgdata/6. 연승 표류.jpg -> /home/elicer/FIshing_vessel-1/categorized_imgdata/표류/6. 연승 표류.jpg\n",
      "이미지 이동 완료: /home/elicer/FIshing_vessel-1/resized_imgdata/6. 유망 이동.jpg -> /home/elicer/FIshing_vessel-1/categorized_imgdata/이동/6. 유망 이동.jpg\n",
      "이미지 이동 완료: /home/elicer/FIshing_vessel-1/resized_imgdata/6. 유망 조업.jpg -> /home/elicer/FIshing_vessel-1/categorized_imgdata/조업/6. 유망 조업.jpg\n",
      "이미지 이동 완료: /home/elicer/FIshing_vessel-1/resized_imgdata/6. 유망 표류.jpg -> /home/elicer/FIshing_vessel-1/categorized_imgdata/표류/6. 유망 표류.jpg\n",
      "이미지 이동 완료: /home/elicer/FIshing_vessel-1/resized_imgdata/6. 저인망 이동.jpg -> /home/elicer/FIshing_vessel-1/categorized_imgdata/이동/6. 저인망 이동.jpg\n",
      "이미지 이동 완료: /home/elicer/FIshing_vessel-1/resized_imgdata/6. 저인망 조업.jpg -> /home/elicer/FIshing_vessel-1/categorized_imgdata/조업/6. 저인망 조업.jpg\n",
      "이미지 이동 완료: /home/elicer/FIshing_vessel-1/resized_imgdata/6. 저인망 표류.jpg -> /home/elicer/FIshing_vessel-1/categorized_imgdata/표류/6. 저인망 표류.jpg\n",
      "이미지 이동 완료: /home/elicer/FIshing_vessel-1/resized_imgdata/6. 채낚기  표류.jpg -> /home/elicer/FIshing_vessel-1/categorized_imgdata/표류/6. 채낚기  표류.jpg\n",
      "이미지 이동 완료: /home/elicer/FIshing_vessel-1/resized_imgdata/6. 채낚기 이동.jpg -> /home/elicer/FIshing_vessel-1/categorized_imgdata/이동/6. 채낚기 이동.jpg\n",
      "이미지 이동 완료: /home/elicer/FIshing_vessel-1/resized_imgdata/6. 타망 이동.jpg -> /home/elicer/FIshing_vessel-1/categorized_imgdata/이동/6. 타망 이동.jpg\n",
      "이미지 이동 완료: /home/elicer/FIshing_vessel-1/resized_imgdata/6. 타망 조업.jpg -> /home/elicer/FIshing_vessel-1/categorized_imgdata/조업/6. 타망 조업.jpg\n",
      "이미지 이동 완료: /home/elicer/FIshing_vessel-1/resized_imgdata/6. 타망 표류.jpg -> /home/elicer/FIshing_vessel-1/categorized_imgdata/표류/6. 타망 표류.jpg\n",
      "이미지 이동 완료: /home/elicer/FIshing_vessel-1/resized_imgdata/6. 통발 이동.jpg -> /home/elicer/FIshing_vessel-1/categorized_imgdata/이동/6. 통발 이동.jpg\n",
      "이미지 이동 완료: /home/elicer/FIshing_vessel-1/resized_imgdata/6. 통발 표류.jpg -> /home/elicer/FIshing_vessel-1/categorized_imgdata/표류/6. 통발 표류.jpg\n",
      "이미지 이동 완료: /home/elicer/FIshing_vessel-1/resized_imgdata/60. 낚시어선 조업.jpg -> /home/elicer/FIshing_vessel-1/categorized_imgdata/조업/60. 낚시어선 조업.jpg\n",
      "이미지 이동 완료: /home/elicer/FIshing_vessel-1/resized_imgdata/60. 범장망 이동.jpg -> /home/elicer/FIshing_vessel-1/categorized_imgdata/이동/60. 범장망 이동.jpg\n",
      "이미지 이동 완료: /home/elicer/FIshing_vessel-1/resized_imgdata/60. 범장망 표류.jpg -> /home/elicer/FIshing_vessel-1/categorized_imgdata/표류/60. 범장망 표류.jpg\n",
      "이미지 이동 완료: /home/elicer/FIshing_vessel-1/resized_imgdata/60. 유망 표류.jpg -> /home/elicer/FIshing_vessel-1/categorized_imgdata/표류/60. 유망 표류.jpg\n",
      "이미지 이동 완료: /home/elicer/FIshing_vessel-1/resized_imgdata/60. 타망 이동.jpg -> /home/elicer/FIshing_vessel-1/categorized_imgdata/이동/60. 타망 이동.jpg\n",
      "이미지 이동 완료: /home/elicer/FIshing_vessel-1/resized_imgdata/60. 타망 표류.jpg -> /home/elicer/FIshing_vessel-1/categorized_imgdata/표류/60. 타망 표류.jpg\n",
      "이미지 이동 완료: /home/elicer/FIshing_vessel-1/resized_imgdata/60. 통발 이동.jpg -> /home/elicer/FIshing_vessel-1/categorized_imgdata/이동/60. 통발 이동.jpg\n",
      "이미지 이동 완료: /home/elicer/FIshing_vessel-1/resized_imgdata/61. 낚시어선 조업.jpg -> /home/elicer/FIshing_vessel-1/categorized_imgdata/조업/61. 낚시어선 조업.jpg\n",
      "이미지 이동 완료: /home/elicer/FIshing_vessel-1/resized_imgdata/61. 범장망 이동.jpg -> /home/elicer/FIshing_vessel-1/categorized_imgdata/이동/61. 범장망 이동.jpg\n",
      "이미지 이동 완료: /home/elicer/FIshing_vessel-1/resized_imgdata/61. 범장망 표류.jpg -> /home/elicer/FIshing_vessel-1/categorized_imgdata/표류/61. 범장망 표류.jpg\n",
      "이미지 이동 완료: /home/elicer/FIshing_vessel-1/resized_imgdata/61. 유망 표류.jpg -> /home/elicer/FIshing_vessel-1/categorized_imgdata/표류/61. 유망 표류.jpg\n",
      "이미지 이동 완료: /home/elicer/FIshing_vessel-1/resized_imgdata/61. 타망 이동.jpg -> /home/elicer/FIshing_vessel-1/categorized_imgdata/이동/61. 타망 이동.jpg\n",
      "이미지 이동 완료: /home/elicer/FIshing_vessel-1/resized_imgdata/61. 타망 조업.jpg -> /home/elicer/FIshing_vessel-1/categorized_imgdata/조업/61. 타망 조업.jpg\n",
      "이미지 이동 완료: /home/elicer/FIshing_vessel-1/resized_imgdata/61. 타망 표류.png -> /home/elicer/FIshing_vessel-1/categorized_imgdata/표류/61. 타망 표류.png\n",
      "이미지 이동 완료: /home/elicer/FIshing_vessel-1/resized_imgdata/61. 통발 이동.jpg -> /home/elicer/FIshing_vessel-1/categorized_imgdata/이동/61. 통발 이동.jpg\n",
      "이미지 이동 완료: /home/elicer/FIshing_vessel-1/resized_imgdata/62. 낚시어선 조업.jpg -> /home/elicer/FIshing_vessel-1/categorized_imgdata/조업/62. 낚시어선 조업.jpg\n",
      "이미지 이동 완료: /home/elicer/FIshing_vessel-1/resized_imgdata/62. 범장망 이동.jpg -> /home/elicer/FIshing_vessel-1/categorized_imgdata/이동/62. 범장망 이동.jpg\n",
      "이미지 이동 완료: /home/elicer/FIshing_vessel-1/resized_imgdata/62. 범장망 표류.jpg -> /home/elicer/FIshing_vessel-1/categorized_imgdata/표류/62. 범장망 표류.jpg\n",
      "이미지 이동 완료: /home/elicer/FIshing_vessel-1/resized_imgdata/62. 유망 표류.jpg -> /home/elicer/FIshing_vessel-1/categorized_imgdata/표류/62. 유망 표류.jpg\n",
      "이미지 이동 완료: /home/elicer/FIshing_vessel-1/resized_imgdata/62. 타망 이동.jpg -> /home/elicer/FIshing_vessel-1/categorized_imgdata/이동/62. 타망 이동.jpg\n",
      "이미지 이동 완료: /home/elicer/FIshing_vessel-1/resized_imgdata/62. 타망 조업.jpg -> /home/elicer/FIshing_vessel-1/categorized_imgdata/조업/62. 타망 조업.jpg\n",
      "이미지 이동 완료: /home/elicer/FIshing_vessel-1/resized_imgdata/62. 타망 표류.jpg -> /home/elicer/FIshing_vessel-1/categorized_imgdata/표류/62. 타망 표류.jpg\n",
      "이미지 이동 완료: /home/elicer/FIshing_vessel-1/resized_imgdata/62. 통발 이동.jpg -> /home/elicer/FIshing_vessel-1/categorized_imgdata/이동/62. 통발 이동.jpg\n",
      "이미지 이동 완료: /home/elicer/FIshing_vessel-1/resized_imgdata/63. 낚시어선 조업.jpg -> /home/elicer/FIshing_vessel-1/categorized_imgdata/조업/63. 낚시어선 조업.jpg\n",
      "이미지 이동 완료: /home/elicer/FIshing_vessel-1/resized_imgdata/63. 범장망 이동.jpg -> /home/elicer/FIshing_vessel-1/categorized_imgdata/이동/63. 범장망 이동.jpg\n",
      "이미지 이동 완료: /home/elicer/FIshing_vessel-1/resized_imgdata/63. 범장망 표류.jpg -> /home/elicer/FIshing_vessel-1/categorized_imgdata/표류/63. 범장망 표류.jpg\n",
      "이미지 이동 완료: /home/elicer/FIshing_vessel-1/resized_imgdata/63. 유망 표류.jpg -> /home/elicer/FIshing_vessel-1/categorized_imgdata/표류/63. 유망 표류.jpg\n",
      "이미지 이동 완료: /home/elicer/FIshing_vessel-1/resized_imgdata/63. 타망 이동.jpg -> /home/elicer/FIshing_vessel-1/categorized_imgdata/이동/63. 타망 이동.jpg\n",
      "이미지 이동 완료: /home/elicer/FIshing_vessel-1/resized_imgdata/63. 타망 조업.jpg -> /home/elicer/FIshing_vessel-1/categorized_imgdata/조업/63. 타망 조업.jpg\n",
      "이미지 이동 완료: /home/elicer/FIshing_vessel-1/resized_imgdata/63. 통발 이동.jpg -> /home/elicer/FIshing_vessel-1/categorized_imgdata/이동/63. 통발 이동.jpg\n",
      "이미지 이동 완료: /home/elicer/FIshing_vessel-1/resized_imgdata/63. 타망 표류.png -> /home/elicer/FIshing_vessel-1/categorized_imgdata/표류/63. 타망 표류.png\n",
      "이미지 이동 완료: /home/elicer/FIshing_vessel-1/resized_imgdata/64. 낚시어선 조업.jpg -> /home/elicer/FIshing_vessel-1/categorized_imgdata/조업/64. 낚시어선 조업.jpg\n",
      "이미지 이동 완료: /home/elicer/FIshing_vessel-1/resized_imgdata/64. 범장망 이동.jpg -> /home/elicer/FIshing_vessel-1/categorized_imgdata/이동/64. 범장망 이동.jpg\n",
      "이미지 이동 완료: /home/elicer/FIshing_vessel-1/resized_imgdata/64. 범장망 표류.jpg -> /home/elicer/FIshing_vessel-1/categorized_imgdata/표류/64. 범장망 표류.jpg\n",
      "이미지 이동 완료: /home/elicer/FIshing_vessel-1/resized_imgdata/64. 유망 표류.jpg -> /home/elicer/FIshing_vessel-1/categorized_imgdata/표류/64. 유망 표류.jpg\n",
      "이미지 이동 완료: /home/elicer/FIshing_vessel-1/resized_imgdata/64. 타망 이동.jpg -> /home/elicer/FIshing_vessel-1/categorized_imgdata/이동/64. 타망 이동.jpg\n",
      "이미지 이동 완료: /home/elicer/FIshing_vessel-1/resized_imgdata/64. 타망 조업.jpg -> /home/elicer/FIshing_vessel-1/categorized_imgdata/조업/64. 타망 조업.jpg\n",
      "이미지 이동 완료: /home/elicer/FIshing_vessel-1/resized_imgdata/64. 타망 표류.jpg -> /home/elicer/FIshing_vessel-1/categorized_imgdata/표류/64. 타망 표류.jpg\n",
      "이미지 이동 완료: /home/elicer/FIshing_vessel-1/resized_imgdata/64. 통발 이동.jpg -> /home/elicer/FIshing_vessel-1/categorized_imgdata/이동/64. 통발 이동.jpg\n",
      "이미지 이동 완료: /home/elicer/FIshing_vessel-1/resized_imgdata/65. 낚시어선 조업.jpg -> /home/elicer/FIshing_vessel-1/categorized_imgdata/조업/65. 낚시어선 조업.jpg\n",
      "이미지 이동 완료: /home/elicer/FIshing_vessel-1/resized_imgdata/65. 범장망 이동.jpg -> /home/elicer/FIshing_vessel-1/categorized_imgdata/이동/65. 범장망 이동.jpg\n",
      "이미지 이동 완료: /home/elicer/FIshing_vessel-1/resized_imgdata/65. 범장망 표류.jpg -> /home/elicer/FIshing_vessel-1/categorized_imgdata/표류/65. 범장망 표류.jpg\n",
      "이미지 이동 완료: /home/elicer/FIshing_vessel-1/resized_imgdata/65. 유망 표류.jpg -> /home/elicer/FIshing_vessel-1/categorized_imgdata/표류/65. 유망 표류.jpg\n",
      "이미지 이동 완료: /home/elicer/FIshing_vessel-1/resized_imgdata/65. 타망 조업.jpg -> /home/elicer/FIshing_vessel-1/categorized_imgdata/조업/65. 타망 조업.jpg\n",
      "이미지 이동 완료: /home/elicer/FIshing_vessel-1/resized_imgdata/65. 타망 이동.jpg -> /home/elicer/FIshing_vessel-1/categorized_imgdata/이동/65. 타망 이동.jpg\n",
      "이미지 이동 완료: /home/elicer/FIshing_vessel-1/resized_imgdata/65. 타망 표류.png -> /home/elicer/FIshing_vessel-1/categorized_imgdata/표류/65. 타망 표류.png\n",
      "이미지 이동 완료: /home/elicer/FIshing_vessel-1/resized_imgdata/65. 통발 이동.jpg -> /home/elicer/FIshing_vessel-1/categorized_imgdata/이동/65. 통발 이동.jpg\n",
      "이미지 이동 완료: /home/elicer/FIshing_vessel-1/resized_imgdata/66. 낚시어선 조업.jpg -> /home/elicer/FIshing_vessel-1/categorized_imgdata/조업/66. 낚시어선 조업.jpg\n",
      "이미지 이동 완료: /home/elicer/FIshing_vessel-1/resized_imgdata/66. 범장망 이동.jpg -> /home/elicer/FIshing_vessel-1/categorized_imgdata/이동/66. 범장망 이동.jpg\n",
      "이미지 이동 완료: /home/elicer/FIshing_vessel-1/resized_imgdata/66. 범장망 표류.jpg -> /home/elicer/FIshing_vessel-1/categorized_imgdata/표류/66. 범장망 표류.jpg\n",
      "이미지 이동 완료: /home/elicer/FIshing_vessel-1/resized_imgdata/66. 유망 표류.jpg -> /home/elicer/FIshing_vessel-1/categorized_imgdata/표류/66. 유망 표류.jpg\n",
      "이미지 이동 완료: /home/elicer/FIshing_vessel-1/resized_imgdata/66. 타망 이동.jpg -> /home/elicer/FIshing_vessel-1/categorized_imgdata/이동/66. 타망 이동.jpg\n",
      "이미지 이동 완료: /home/elicer/FIshing_vessel-1/resized_imgdata/66. 타망 조업.jpg -> /home/elicer/FIshing_vessel-1/categorized_imgdata/조업/66. 타망 조업.jpg\n",
      "이미지 이동 완료: /home/elicer/FIshing_vessel-1/resized_imgdata/66. 타망 표류.jpg -> /home/elicer/FIshing_vessel-1/categorized_imgdata/표류/66. 타망 표류.jpg\n",
      "이미지 이동 완료: /home/elicer/FIshing_vessel-1/resized_imgdata/67. 범장망 이동.jpg -> /home/elicer/FIshing_vessel-1/categorized_imgdata/이동/67. 범장망 이동.jpg\n",
      "이미지 이동 완료: /home/elicer/FIshing_vessel-1/resized_imgdata/67. 낚시어선 조업.jpg -> /home/elicer/FIshing_vessel-1/categorized_imgdata/조업/67. 낚시어선 조업.jpg\n",
      "이미지 이동 완료: /home/elicer/FIshing_vessel-1/resized_imgdata/67. 범장망 표류.jpg -> /home/elicer/FIshing_vessel-1/categorized_imgdata/표류/67. 범장망 표류.jpg\n",
      "이미지 이동 완료: /home/elicer/FIshing_vessel-1/resized_imgdata/67. 유망 표류.jpg -> /home/elicer/FIshing_vessel-1/categorized_imgdata/표류/67. 유망 표류.jpg\n",
      "이미지 이동 완료: /home/elicer/FIshing_vessel-1/resized_imgdata/67. 타망 이동.jpg -> /home/elicer/FIshing_vessel-1/categorized_imgdata/이동/67. 타망 이동.jpg\n",
      "이미지 이동 완료: /home/elicer/FIshing_vessel-1/resized_imgdata/67. 타망 조업.jpg -> /home/elicer/FIshing_vessel-1/categorized_imgdata/조업/67. 타망 조업.jpg\n",
      "이미지 이동 완료: /home/elicer/FIshing_vessel-1/resized_imgdata/68. 낚시어선 조업.jpg -> /home/elicer/FIshing_vessel-1/categorized_imgdata/조업/68. 낚시어선 조업.jpg\n",
      "이미지 이동 완료: /home/elicer/FIshing_vessel-1/resized_imgdata/68. 범장망 이동.jpg -> /home/elicer/FIshing_vessel-1/categorized_imgdata/이동/68. 범장망 이동.jpg\n",
      "이미지 이동 완료: /home/elicer/FIshing_vessel-1/resized_imgdata/68. 범장망 표류.jpg -> /home/elicer/FIshing_vessel-1/categorized_imgdata/표류/68. 범장망 표류.jpg\n",
      "이미지 이동 완료: /home/elicer/FIshing_vessel-1/resized_imgdata/68. 유망 표류.jpg -> /home/elicer/FIshing_vessel-1/categorized_imgdata/표류/68. 유망 표류.jpg\n",
      "이미지 이동 완료: /home/elicer/FIshing_vessel-1/resized_imgdata/68. 타망 이동.jpg -> /home/elicer/FIshing_vessel-1/categorized_imgdata/이동/68. 타망 이동.jpg\n",
      "이미지 이동 완료: /home/elicer/FIshing_vessel-1/resized_imgdata/68. 타망 조업.jpg -> /home/elicer/FIshing_vessel-1/categorized_imgdata/조업/68. 타망 조업.jpg\n",
      "이미지 이동 완료: /home/elicer/FIshing_vessel-1/resized_imgdata/68. 타망 표류.jpg -> /home/elicer/FIshing_vessel-1/categorized_imgdata/표류/68. 타망 표류.jpg\n",
      "이미지 이동 완료: /home/elicer/FIshing_vessel-1/resized_imgdata/69. 낚시어선 조업.jpg -> /home/elicer/FIshing_vessel-1/categorized_imgdata/조업/69. 낚시어선 조업.jpg\n",
      "이미지 이동 완료: /home/elicer/FIshing_vessel-1/resized_imgdata/69. 범장망 이동.jpg -> /home/elicer/FIshing_vessel-1/categorized_imgdata/이동/69. 범장망 이동.jpg\n",
      "이미지 이동 완료: /home/elicer/FIshing_vessel-1/resized_imgdata/69. 범장망 표류.jpg -> /home/elicer/FIshing_vessel-1/categorized_imgdata/표류/69. 범장망 표류.jpg\n",
      "이미지 이동 완료: /home/elicer/FIshing_vessel-1/resized_imgdata/69. 유망 표류.jpg -> /home/elicer/FIshing_vessel-1/categorized_imgdata/표류/69. 유망 표류.jpg\n",
      "이미지 이동 완료: /home/elicer/FIshing_vessel-1/resized_imgdata/69. 타망 이동.jpg -> /home/elicer/FIshing_vessel-1/categorized_imgdata/이동/69. 타망 이동.jpg\n",
      "이미지 이동 완료: /home/elicer/FIshing_vessel-1/resized_imgdata/69. 타망 조업.jpg -> /home/elicer/FIshing_vessel-1/categorized_imgdata/조업/69. 타망 조업.jpg\n",
      "이미지 이동 완료: /home/elicer/FIshing_vessel-1/resized_imgdata/69. 타망 표류.jpg -> /home/elicer/FIshing_vessel-1/categorized_imgdata/표류/69. 타망 표류.jpg\n",
      "이미지 이동 완료: /home/elicer/FIshing_vessel-1/resized_imgdata/7. 낚시어선 이동.jpg -> /home/elicer/FIshing_vessel-1/categorized_imgdata/이동/7. 낚시어선 이동.jpg\n",
      "이미지 이동 완료: /home/elicer/FIshing_vessel-1/resized_imgdata/7. 낚시어선 조업.jpg -> /home/elicer/FIshing_vessel-1/categorized_imgdata/조업/7. 낚시어선 조업.jpg\n",
      "이미지 이동 완료: /home/elicer/FIshing_vessel-1/resized_imgdata/7. 낚시어선 표류.jpg -> /home/elicer/FIshing_vessel-1/categorized_imgdata/표류/7. 낚시어선 표류.jpg\n",
      "이미지 이동 완료: /home/elicer/FIshing_vessel-1/resized_imgdata/7. 범장망 이동.jpg -> /home/elicer/FIshing_vessel-1/categorized_imgdata/이동/7. 범장망 이동.jpg\n",
      "이미지 이동 완료: /home/elicer/FIshing_vessel-1/resized_imgdata/7. 범장망 조업.jpg -> /home/elicer/FIshing_vessel-1/categorized_imgdata/조업/7. 범장망 조업.jpg\n",
      "이미지 이동 완료: /home/elicer/FIshing_vessel-1/resized_imgdata/7. 안강망 조업.jpg -> /home/elicer/FIshing_vessel-1/categorized_imgdata/조업/7. 안강망 조업.jpg\n",
      "이미지 이동 완료: /home/elicer/FIshing_vessel-1/resized_imgdata/7. 범장망 표류.jpg -> /home/elicer/FIshing_vessel-1/categorized_imgdata/표류/7. 범장망 표류.jpg\n",
      "이미지 이동 완료: /home/elicer/FIshing_vessel-1/resized_imgdata/7. 안강망 표류.jpg -> /home/elicer/FIshing_vessel-1/categorized_imgdata/표류/7. 안강망 표류.jpg\n",
      "이미지 이동 완료: /home/elicer/FIshing_vessel-1/resized_imgdata/7. 연승 이동.jpg -> /home/elicer/FIshing_vessel-1/categorized_imgdata/이동/7. 연승 이동.jpg\n",
      "이미지 이동 완료: /home/elicer/FIshing_vessel-1/resized_imgdata/7. 연승 표류.jpg -> /home/elicer/FIshing_vessel-1/categorized_imgdata/표류/7. 연승 표류.jpg\n",
      "이미지 이동 완료: /home/elicer/FIshing_vessel-1/resized_imgdata/7. 유망 이동.jpg -> /home/elicer/FIshing_vessel-1/categorized_imgdata/이동/7. 유망 이동.jpg\n",
      "이미지 이동 완료: /home/elicer/FIshing_vessel-1/resized_imgdata/7. 유망 조업.jpg -> /home/elicer/FIshing_vessel-1/categorized_imgdata/조업/7. 유망 조업.jpg\n",
      "이미지 이동 완료: /home/elicer/FIshing_vessel-1/resized_imgdata/7. 유망 표류.jpg -> /home/elicer/FIshing_vessel-1/categorized_imgdata/표류/7. 유망 표류.jpg\n",
      "이미지 이동 완료: /home/elicer/FIshing_vessel-1/resized_imgdata/7. 저인망 이동.jpg -> /home/elicer/FIshing_vessel-1/categorized_imgdata/이동/7. 저인망 이동.jpg\n",
      "이미지 이동 완료: /home/elicer/FIshing_vessel-1/resized_imgdata/7. 저인망 조업.jpg -> /home/elicer/FIshing_vessel-1/categorized_imgdata/조업/7. 저인망 조업.jpg\n",
      "이미지 이동 완료: /home/elicer/FIshing_vessel-1/resized_imgdata/7. 채낚기  표류.jpg -> /home/elicer/FIshing_vessel-1/categorized_imgdata/표류/7. 채낚기  표류.jpg\n",
      "이미지 이동 완료: /home/elicer/FIshing_vessel-1/resized_imgdata/7. 채낚기 이동.jpg -> /home/elicer/FIshing_vessel-1/categorized_imgdata/이동/7. 채낚기 이동.jpg\n",
      "이미지 이동 완료: /home/elicer/FIshing_vessel-1/resized_imgdata/7. 타망 이동.jpg -> /home/elicer/FIshing_vessel-1/categorized_imgdata/이동/7. 타망 이동.jpg\n",
      "이미지 이동 완료: /home/elicer/FIshing_vessel-1/resized_imgdata/7. 타망 조업.jpg -> /home/elicer/FIshing_vessel-1/categorized_imgdata/조업/7. 타망 조업.jpg\n",
      "이미지 이동 완료: /home/elicer/FIshing_vessel-1/resized_imgdata/7. 타망 표류.jpg -> /home/elicer/FIshing_vessel-1/categorized_imgdata/표류/7. 타망 표류.jpg\n",
      "이미지 이동 완료: /home/elicer/FIshing_vessel-1/resized_imgdata/7. 통발 이동.jpg -> /home/elicer/FIshing_vessel-1/categorized_imgdata/이동/7. 통발 이동.jpg\n",
      "이미지 이동 완료: /home/elicer/FIshing_vessel-1/resized_imgdata/7. 통발 표류.jpg -> /home/elicer/FIshing_vessel-1/categorized_imgdata/표류/7. 통발 표류.jpg\n",
      "이미지 이동 완료: /home/elicer/FIshing_vessel-1/resized_imgdata/70. 범장망 표류.jpg -> /home/elicer/FIshing_vessel-1/categorized_imgdata/표류/70. 범장망 표류.jpg\n",
      "이미지 이동 완료: /home/elicer/FIshing_vessel-1/resized_imgdata/70. 범장망 이동.jpg -> /home/elicer/FIshing_vessel-1/categorized_imgdata/이동/70. 범장망 이동.jpg\n",
      "이미지 이동 완료: /home/elicer/FIshing_vessel-1/resized_imgdata/70. 유망 표류.jpg -> /home/elicer/FIshing_vessel-1/categorized_imgdata/표류/70. 유망 표류.jpg\n",
      "이미지 이동 완료: /home/elicer/FIshing_vessel-1/resized_imgdata/70. 타망 조업.png -> /home/elicer/FIshing_vessel-1/categorized_imgdata/조업/70. 타망 조업.png\n",
      "이미지 이동 완료: /home/elicer/FIshing_vessel-1/resized_imgdata/70. 타망 이동.jpg -> /home/elicer/FIshing_vessel-1/categorized_imgdata/이동/70. 타망 이동.jpg\n",
      "이미지 이동 완료: /home/elicer/FIshing_vessel-1/resized_imgdata/70. 타망 표류.jpg -> /home/elicer/FIshing_vessel-1/categorized_imgdata/표류/70. 타망 표류.jpg\n",
      "이미지 이동 완료: /home/elicer/FIshing_vessel-1/resized_imgdata/71. 범장망 이동.jpg -> /home/elicer/FIshing_vessel-1/categorized_imgdata/이동/71. 범장망 이동.jpg\n",
      "이미지 이동 완료: /home/elicer/FIshing_vessel-1/resized_imgdata/71. 범장망 표류.jpg -> /home/elicer/FIshing_vessel-1/categorized_imgdata/표류/71. 범장망 표류.jpg\n",
      "이미지 이동 완료: /home/elicer/FIshing_vessel-1/resized_imgdata/71. 유망 표류.jpg -> /home/elicer/FIshing_vessel-1/categorized_imgdata/표류/71. 유망 표류.jpg\n",
      "이미지 이동 완료: /home/elicer/FIshing_vessel-1/resized_imgdata/71. 타망 이동.jpg -> /home/elicer/FIshing_vessel-1/categorized_imgdata/이동/71. 타망 이동.jpg\n",
      "이미지 이동 완료: /home/elicer/FIshing_vessel-1/resized_imgdata/71. 타망 조업.jpg -> /home/elicer/FIshing_vessel-1/categorized_imgdata/조업/71. 타망 조업.jpg\n",
      "이미지 이동 완료: /home/elicer/FIshing_vessel-1/resized_imgdata/71. 타망 표류.jpg -> /home/elicer/FIshing_vessel-1/categorized_imgdata/표류/71. 타망 표류.jpg\n",
      "이미지 이동 완료: /home/elicer/FIshing_vessel-1/resized_imgdata/72. 범장망 이동.jpg -> /home/elicer/FIshing_vessel-1/categorized_imgdata/이동/72. 범장망 이동.jpg\n",
      "이미지 이동 완료: /home/elicer/FIshing_vessel-1/resized_imgdata/72. 범장망 표류.jpg -> /home/elicer/FIshing_vessel-1/categorized_imgdata/표류/72. 범장망 표류.jpg\n",
      "이미지 이동 완료: /home/elicer/FIshing_vessel-1/resized_imgdata/72. 유망 표류.jpg -> /home/elicer/FIshing_vessel-1/categorized_imgdata/표류/72. 유망 표류.jpg\n",
      "이미지 이동 완료: /home/elicer/FIshing_vessel-1/resized_imgdata/72. 타망 조업.jpg -> /home/elicer/FIshing_vessel-1/categorized_imgdata/조업/72. 타망 조업.jpg\n",
      "이미지 이동 완료: /home/elicer/FIshing_vessel-1/resized_imgdata/72. 타망 이동.jpg -> /home/elicer/FIshing_vessel-1/categorized_imgdata/이동/72. 타망 이동.jpg\n",
      "이미지 이동 완료: /home/elicer/FIshing_vessel-1/resized_imgdata/73 타망 이동.jpg -> /home/elicer/FIshing_vessel-1/categorized_imgdata/이동/73 타망 이동.jpg\n",
      "이미지 이동 완료: /home/elicer/FIshing_vessel-1/resized_imgdata/73. 범장망 이동.jpg -> /home/elicer/FIshing_vessel-1/categorized_imgdata/이동/73. 범장망 이동.jpg\n",
      "이미지 이동 완료: /home/elicer/FIshing_vessel-1/resized_imgdata/73. 유망 표류.jpg -> /home/elicer/FIshing_vessel-1/categorized_imgdata/표류/73. 유망 표류.jpg\n",
      "이미지 이동 완료: /home/elicer/FIshing_vessel-1/resized_imgdata/73. 범장망 표류.jpg -> /home/elicer/FIshing_vessel-1/categorized_imgdata/표류/73. 범장망 표류.jpg\n",
      "이미지 이동 완료: /home/elicer/FIshing_vessel-1/resized_imgdata/73. 타망 조업.jpg -> /home/elicer/FIshing_vessel-1/categorized_imgdata/조업/73. 타망 조업.jpg\n",
      "이미지 이동 완료: /home/elicer/FIshing_vessel-1/resized_imgdata/73. 타망 표류.jpg -> /home/elicer/FIshing_vessel-1/categorized_imgdata/표류/73. 타망 표류.jpg\n",
      "이미지 이동 완료: /home/elicer/FIshing_vessel-1/resized_imgdata/74 타망 이동.jpg -> /home/elicer/FIshing_vessel-1/categorized_imgdata/이동/74 타망 이동.jpg\n",
      "이미지 이동 완료: /home/elicer/FIshing_vessel-1/resized_imgdata/74. 범장망 이동.jpg -> /home/elicer/FIshing_vessel-1/categorized_imgdata/이동/74. 범장망 이동.jpg\n",
      "이미지 이동 완료: /home/elicer/FIshing_vessel-1/resized_imgdata/74. 범장망 표류.jpg -> /home/elicer/FIshing_vessel-1/categorized_imgdata/표류/74. 범장망 표류.jpg\n",
      "이미지 이동 완료: /home/elicer/FIshing_vessel-1/resized_imgdata/74. 유망 표류.jpg -> /home/elicer/FIshing_vessel-1/categorized_imgdata/표류/74. 유망 표류.jpg\n",
      "이미지 이동 완료: /home/elicer/FIshing_vessel-1/resized_imgdata/74. 타망 조업.jpg -> /home/elicer/FIshing_vessel-1/categorized_imgdata/조업/74. 타망 조업.jpg\n",
      "이미지 이동 완료: /home/elicer/FIshing_vessel-1/resized_imgdata/74. 타망 표류.jpg -> /home/elicer/FIshing_vessel-1/categorized_imgdata/표류/74. 타망 표류.jpg\n",
      "이미지 이동 완료: /home/elicer/FIshing_vessel-1/resized_imgdata/75 타망 이동.jpg -> /home/elicer/FIshing_vessel-1/categorized_imgdata/이동/75 타망 이동.jpg\n",
      "이미지 이동 완료: /home/elicer/FIshing_vessel-1/resized_imgdata/75. 범장망 이동.jpg -> /home/elicer/FIshing_vessel-1/categorized_imgdata/이동/75. 범장망 이동.jpg\n",
      "이미지 이동 완료: /home/elicer/FIshing_vessel-1/resized_imgdata/75. 범장망 표류.jpg -> /home/elicer/FIshing_vessel-1/categorized_imgdata/표류/75. 범장망 표류.jpg\n",
      "이미지 이동 완료: /home/elicer/FIshing_vessel-1/resized_imgdata/75. 유망 표류.jpg -> /home/elicer/FIshing_vessel-1/categorized_imgdata/표류/75. 유망 표류.jpg\n",
      "이미지 이동 완료: /home/elicer/FIshing_vessel-1/resized_imgdata/75. 타망 조업.jpg -> /home/elicer/FIshing_vessel-1/categorized_imgdata/조업/75. 타망 조업.jpg\n",
      "이미지 이동 완료: /home/elicer/FIshing_vessel-1/resized_imgdata/76 타망 이동.jpg -> /home/elicer/FIshing_vessel-1/categorized_imgdata/이동/76 타망 이동.jpg\n",
      "이미지 이동 완료: /home/elicer/FIshing_vessel-1/resized_imgdata/75. 타망 표류.jpg -> /home/elicer/FIshing_vessel-1/categorized_imgdata/표류/75. 타망 표류.jpg\n",
      "이미지 이동 완료: /home/elicer/FIshing_vessel-1/resized_imgdata/76. 범장망 이동.jpg -> /home/elicer/FIshing_vessel-1/categorized_imgdata/이동/76. 범장망 이동.jpg\n",
      "이미지 이동 완료: /home/elicer/FIshing_vessel-1/resized_imgdata/76. 범장망 표류.jpg -> /home/elicer/FIshing_vessel-1/categorized_imgdata/표류/76. 범장망 표류.jpg\n",
      "이미지 이동 완료: /home/elicer/FIshing_vessel-1/resized_imgdata/76. 유망 표류.jpg -> /home/elicer/FIshing_vessel-1/categorized_imgdata/표류/76. 유망 표류.jpg\n",
      "이미지 이동 완료: /home/elicer/FIshing_vessel-1/resized_imgdata/76. 타망 조업.jpg -> /home/elicer/FIshing_vessel-1/categorized_imgdata/조업/76. 타망 조업.jpg\n",
      "이미지 이동 완료: /home/elicer/FIshing_vessel-1/resized_imgdata/76. 타망 표류.jpg -> /home/elicer/FIshing_vessel-1/categorized_imgdata/표류/76. 타망 표류.jpg\n",
      "이미지 이동 완료: /home/elicer/FIshing_vessel-1/resized_imgdata/77 타망 이동.jpg -> /home/elicer/FIshing_vessel-1/categorized_imgdata/이동/77 타망 이동.jpg\n",
      "이미지 이동 완료: /home/elicer/FIshing_vessel-1/resized_imgdata/77. 범장망 이동.jpg -> /home/elicer/FIshing_vessel-1/categorized_imgdata/이동/77. 범장망 이동.jpg\n",
      "이미지 이동 완료: /home/elicer/FIshing_vessel-1/resized_imgdata/77. 범장망 표류.jpg -> /home/elicer/FIshing_vessel-1/categorized_imgdata/표류/77. 범장망 표류.jpg\n",
      "이미지 이동 완료: /home/elicer/FIshing_vessel-1/resized_imgdata/77. 유망 표류.jpg -> /home/elicer/FIshing_vessel-1/categorized_imgdata/표류/77. 유망 표류.jpg\n",
      "이미지 이동 완료: /home/elicer/FIshing_vessel-1/resized_imgdata/77. 타망 조업.jpg -> /home/elicer/FIshing_vessel-1/categorized_imgdata/조업/77. 타망 조업.jpg\n",
      "이미지 이동 완료: /home/elicer/FIshing_vessel-1/resized_imgdata/77. 타망 표류.jpg -> /home/elicer/FIshing_vessel-1/categorized_imgdata/표류/77. 타망 표류.jpg\n",
      "이미지 이동 완료: /home/elicer/FIshing_vessel-1/resized_imgdata/78 타망 이동.jpg -> /home/elicer/FIshing_vessel-1/categorized_imgdata/이동/78 타망 이동.jpg\n",
      "이미지 이동 완료: /home/elicer/FIshing_vessel-1/resized_imgdata/78. 범장망 이동.jpg -> /home/elicer/FIshing_vessel-1/categorized_imgdata/이동/78. 범장망 이동.jpg\n",
      "이미지 이동 완료: /home/elicer/FIshing_vessel-1/resized_imgdata/78. 범장망 표류.jpg -> /home/elicer/FIshing_vessel-1/categorized_imgdata/표류/78. 범장망 표류.jpg\n",
      "이미지 이동 완료: /home/elicer/FIshing_vessel-1/resized_imgdata/78. 유망 표류.jpg -> /home/elicer/FIshing_vessel-1/categorized_imgdata/표류/78. 유망 표류.jpg\n",
      "이미지 이동 완료: /home/elicer/FIshing_vessel-1/resized_imgdata/78. 타망 표류.jpg -> /home/elicer/FIshing_vessel-1/categorized_imgdata/표류/78. 타망 표류.jpg\n",
      "이미지 이동 완료: /home/elicer/FIshing_vessel-1/resized_imgdata/78. 타망 조업.jpg -> /home/elicer/FIshing_vessel-1/categorized_imgdata/조업/78. 타망 조업.jpg\n",
      "이미지 이동 완료: /home/elicer/FIshing_vessel-1/resized_imgdata/79. 범장망 이동.jpg -> /home/elicer/FIshing_vessel-1/categorized_imgdata/이동/79. 범장망 이동.jpg\n",
      "이미지 이동 완료: /home/elicer/FIshing_vessel-1/resized_imgdata/79. 범장망 표류.jpg -> /home/elicer/FIshing_vessel-1/categorized_imgdata/표류/79. 범장망 표류.jpg\n",
      "이미지 이동 완료: /home/elicer/FIshing_vessel-1/resized_imgdata/79 타망 이동.png -> /home/elicer/FIshing_vessel-1/categorized_imgdata/이동/79 타망 이동.png\n",
      "이미지 이동 완료: /home/elicer/FIshing_vessel-1/resized_imgdata/79. 유망 표류.jpg -> /home/elicer/FIshing_vessel-1/categorized_imgdata/표류/79. 유망 표류.jpg\n",
      "이미지 이동 완료: /home/elicer/FIshing_vessel-1/resized_imgdata/79. 타망 조업.jpg -> /home/elicer/FIshing_vessel-1/categorized_imgdata/조업/79. 타망 조업.jpg\n",
      "이미지 이동 완료: /home/elicer/FIshing_vessel-1/resized_imgdata/79. 타망 표류.jpg -> /home/elicer/FIshing_vessel-1/categorized_imgdata/표류/79. 타망 표류.jpg\n",
      "이미지 이동 완료: /home/elicer/FIshing_vessel-1/resized_imgdata/8. 낚시어선 이동.jpg -> /home/elicer/FIshing_vessel-1/categorized_imgdata/이동/8. 낚시어선 이동.jpg\n",
      "이미지 이동 완료: /home/elicer/FIshing_vessel-1/resized_imgdata/8. 낚시어선 조업.jpg -> /home/elicer/FIshing_vessel-1/categorized_imgdata/조업/8. 낚시어선 조업.jpg\n",
      "이미지 이동 완료: /home/elicer/FIshing_vessel-1/resized_imgdata/8. 낚시어선 표류.jpg -> /home/elicer/FIshing_vessel-1/categorized_imgdata/표류/8. 낚시어선 표류.jpg\n",
      "이미지 이동 완료: /home/elicer/FIshing_vessel-1/resized_imgdata/8. 등광조망 이동.jpg -> /home/elicer/FIshing_vessel-1/categorized_imgdata/이동/8. 등광조망 이동.jpg\n",
      "이미지 이동 완료: /home/elicer/FIshing_vessel-1/resized_imgdata/8. 등광조망 조업.jpg -> /home/elicer/FIshing_vessel-1/categorized_imgdata/조업/8. 등광조망 조업.jpg\n",
      "이미지 이동 완료: /home/elicer/FIshing_vessel-1/resized_imgdata/8. 등광조망 표류.jpg -> /home/elicer/FIshing_vessel-1/categorized_imgdata/표류/8. 등광조망 표류.jpg\n",
      "이미지 이동 완료: /home/elicer/FIshing_vessel-1/resized_imgdata/8. 범장망 이동.jpg -> /home/elicer/FIshing_vessel-1/categorized_imgdata/이동/8. 범장망 이동.jpg\n",
      "이미지 이동 완료: /home/elicer/FIshing_vessel-1/resized_imgdata/8. 범장망 표류.jpg -> /home/elicer/FIshing_vessel-1/categorized_imgdata/표류/8. 범장망 표류.jpg\n",
      "이미지 이동 완료: /home/elicer/FIshing_vessel-1/resized_imgdata/8. 범장망 조업.jpg -> /home/elicer/FIshing_vessel-1/categorized_imgdata/조업/8. 범장망 조업.jpg\n",
      "이미지 이동 완료: /home/elicer/FIshing_vessel-1/resized_imgdata/8. 안강망 이동.jpg -> /home/elicer/FIshing_vessel-1/categorized_imgdata/이동/8. 안강망 이동.jpg\n",
      "이미지 이동 완료: /home/elicer/FIshing_vessel-1/resized_imgdata/8. 안강망 조업.jpg -> /home/elicer/FIshing_vessel-1/categorized_imgdata/조업/8. 안강망 조업.jpg\n",
      "이미지 이동 완료: /home/elicer/FIshing_vessel-1/resized_imgdata/8. 안강망 표류.jpg -> /home/elicer/FIshing_vessel-1/categorized_imgdata/표류/8. 안강망 표류.jpg\n",
      "이미지 이동 완료: /home/elicer/FIshing_vessel-1/resized_imgdata/8. 연승 이동.jpg -> /home/elicer/FIshing_vessel-1/categorized_imgdata/이동/8. 연승 이동.jpg\n",
      "이미지 이동 완료: /home/elicer/FIshing_vessel-1/resized_imgdata/8. 연승 표류.jpg -> /home/elicer/FIshing_vessel-1/categorized_imgdata/표류/8. 연승 표류.jpg\n",
      "이미지 이동 완료: /home/elicer/FIshing_vessel-1/resized_imgdata/8. 유망 이동.jpg -> /home/elicer/FIshing_vessel-1/categorized_imgdata/이동/8. 유망 이동.jpg\n",
      "이미지 이동 완료: /home/elicer/FIshing_vessel-1/resized_imgdata/8. 유망 표류.jpg -> /home/elicer/FIshing_vessel-1/categorized_imgdata/표류/8. 유망 표류.jpg\n",
      "이미지 이동 완료: /home/elicer/FIshing_vessel-1/resized_imgdata/8. 유망 조업.jpg -> /home/elicer/FIshing_vessel-1/categorized_imgdata/조업/8. 유망 조업.jpg\n",
      "이미지 이동 완료: /home/elicer/FIshing_vessel-1/resized_imgdata/8. 저인망 이동.jpg -> /home/elicer/FIshing_vessel-1/categorized_imgdata/이동/8. 저인망 이동.jpg\n",
      "이미지 이동 완료: /home/elicer/FIshing_vessel-1/resized_imgdata/8. 저인망 조업.jpg -> /home/elicer/FIshing_vessel-1/categorized_imgdata/조업/8. 저인망 조업.jpg\n",
      "이미지 이동 완료: /home/elicer/FIshing_vessel-1/resized_imgdata/8. 채낚기  표류.jpg -> /home/elicer/FIshing_vessel-1/categorized_imgdata/표류/8. 채낚기  표류.jpg\n",
      "이미지 이동 완료: /home/elicer/FIshing_vessel-1/resized_imgdata/8. 채낚기 이동.jpg -> /home/elicer/FIshing_vessel-1/categorized_imgdata/이동/8. 채낚기 이동.jpg\n",
      "이미지 이동 완료: /home/elicer/FIshing_vessel-1/resized_imgdata/8. 타망 조업.jpg -> /home/elicer/FIshing_vessel-1/categorized_imgdata/조업/8. 타망 조업.jpg\n",
      "이미지 이동 완료: /home/elicer/FIshing_vessel-1/resized_imgdata/8. 타망 표류.jpg -> /home/elicer/FIshing_vessel-1/categorized_imgdata/표류/8. 타망 표류.jpg\n",
      "이미지 이동 완료: /home/elicer/FIshing_vessel-1/resized_imgdata/8. 통발 이동.jpg -> /home/elicer/FIshing_vessel-1/categorized_imgdata/이동/8. 통발 이동.jpg\n",
      "이미지 이동 완료: /home/elicer/FIshing_vessel-1/resized_imgdata/80 타망 이동.jpg -> /home/elicer/FIshing_vessel-1/categorized_imgdata/이동/80 타망 이동.jpg\n",
      "이미지 이동 완료: /home/elicer/FIshing_vessel-1/resized_imgdata/80. 범장망 이동.jpg -> /home/elicer/FIshing_vessel-1/categorized_imgdata/이동/80. 범장망 이동.jpg\n",
      "이미지 이동 완료: /home/elicer/FIshing_vessel-1/resized_imgdata/8. 통발 표류.jpg -> /home/elicer/FIshing_vessel-1/categorized_imgdata/표류/8. 통발 표류.jpg\n",
      "이미지 이동 완료: /home/elicer/FIshing_vessel-1/resized_imgdata/80. 범장망 표류.jpg -> /home/elicer/FIshing_vessel-1/categorized_imgdata/표류/80. 범장망 표류.jpg\n",
      "이미지 이동 완료: /home/elicer/FIshing_vessel-1/resized_imgdata/80. 유망 표류.jpg -> /home/elicer/FIshing_vessel-1/categorized_imgdata/표류/80. 유망 표류.jpg\n",
      "이미지 이동 완료: /home/elicer/FIshing_vessel-1/resized_imgdata/80. 타망 조업.jpg -> /home/elicer/FIshing_vessel-1/categorized_imgdata/조업/80. 타망 조업.jpg\n",
      "이미지 이동 완료: /home/elicer/FIshing_vessel-1/resized_imgdata/80. 타망 표류.jpg -> /home/elicer/FIshing_vessel-1/categorized_imgdata/표류/80. 타망 표류.jpg\n",
      "이미지 이동 완료: /home/elicer/FIshing_vessel-1/resized_imgdata/81 타망 이동.png -> /home/elicer/FIshing_vessel-1/categorized_imgdata/이동/81 타망 이동.png\n",
      "이미지 이동 완료: /home/elicer/FIshing_vessel-1/resized_imgdata/81. 범장망 표류.jpg -> /home/elicer/FIshing_vessel-1/categorized_imgdata/표류/81. 범장망 표류.jpg\n",
      "이미지 이동 완료: /home/elicer/FIshing_vessel-1/resized_imgdata/81. 유망 표류.jpg -> /home/elicer/FIshing_vessel-1/categorized_imgdata/표류/81. 유망 표류.jpg\n",
      "이미지 이동 완료: /home/elicer/FIshing_vessel-1/resized_imgdata/81. 범장망 이동.jpg -> /home/elicer/FIshing_vessel-1/categorized_imgdata/이동/81. 범장망 이동.jpg\n",
      "이미지 이동 완료: /home/elicer/FIshing_vessel-1/resized_imgdata/81. 타망 조업.jpg -> /home/elicer/FIshing_vessel-1/categorized_imgdata/조업/81. 타망 조업.jpg\n",
      "이미지 이동 완료: /home/elicer/FIshing_vessel-1/resized_imgdata/81. 타망 표류.jpg -> /home/elicer/FIshing_vessel-1/categorized_imgdata/표류/81. 타망 표류.jpg\n",
      "이미지 이동 완료: /home/elicer/FIshing_vessel-1/resized_imgdata/82 타망 이동.jpg -> /home/elicer/FIshing_vessel-1/categorized_imgdata/이동/82 타망 이동.jpg\n",
      "이미지 이동 완료: /home/elicer/FIshing_vessel-1/resized_imgdata/82. 범장망 이동.jpg -> /home/elicer/FIshing_vessel-1/categorized_imgdata/이동/82. 범장망 이동.jpg\n",
      "이미지 이동 완료: /home/elicer/FIshing_vessel-1/resized_imgdata/82. 범장망 표류.jpg -> /home/elicer/FIshing_vessel-1/categorized_imgdata/표류/82. 범장망 표류.jpg\n",
      "이미지 이동 완료: /home/elicer/FIshing_vessel-1/resized_imgdata/82. 유망 표류.jpg -> /home/elicer/FIshing_vessel-1/categorized_imgdata/표류/82. 유망 표류.jpg\n",
      "이미지 이동 완료: /home/elicer/FIshing_vessel-1/resized_imgdata/82. 타망 조업.jpg -> /home/elicer/FIshing_vessel-1/categorized_imgdata/조업/82. 타망 조업.jpg\n",
      "이미지 이동 완료: /home/elicer/FIshing_vessel-1/resized_imgdata/82. 타망 표류.jpg -> /home/elicer/FIshing_vessel-1/categorized_imgdata/표류/82. 타망 표류.jpg\n",
      "이미지 이동 완료: /home/elicer/FIshing_vessel-1/resized_imgdata/83 타망 이동.png -> /home/elicer/FIshing_vessel-1/categorized_imgdata/이동/83 타망 이동.png\n",
      "이미지 이동 완료: /home/elicer/FIshing_vessel-1/resized_imgdata/83. 범장망 이동.jpg -> /home/elicer/FIshing_vessel-1/categorized_imgdata/이동/83. 범장망 이동.jpg\n",
      "이미지 이동 완료: /home/elicer/FIshing_vessel-1/resized_imgdata/83. 유망 표류.jpg -> /home/elicer/FIshing_vessel-1/categorized_imgdata/표류/83. 유망 표류.jpg\n",
      "이미지 이동 완료: /home/elicer/FIshing_vessel-1/resized_imgdata/83. 범장망 표류.jpg -> /home/elicer/FIshing_vessel-1/categorized_imgdata/표류/83. 범장망 표류.jpg\n",
      "이미지 이동 완료: /home/elicer/FIshing_vessel-1/resized_imgdata/83. 타망 조업.jpg -> /home/elicer/FIshing_vessel-1/categorized_imgdata/조업/83. 타망 조업.jpg\n",
      "이미지 이동 완료: /home/elicer/FIshing_vessel-1/resized_imgdata/83. 타망 표류.jpg -> /home/elicer/FIshing_vessel-1/categorized_imgdata/표류/83. 타망 표류.jpg\n",
      "이미지 이동 완료: /home/elicer/FIshing_vessel-1/resized_imgdata/84 타망 이동.jpg -> /home/elicer/FIshing_vessel-1/categorized_imgdata/이동/84 타망 이동.jpg\n",
      "이미지 이동 완료: /home/elicer/FIshing_vessel-1/resized_imgdata/84. 범장망 이동.jpg -> /home/elicer/FIshing_vessel-1/categorized_imgdata/이동/84. 범장망 이동.jpg\n",
      "이미지 이동 완료: /home/elicer/FIshing_vessel-1/resized_imgdata/84. 범장망 표류.jpg -> /home/elicer/FIshing_vessel-1/categorized_imgdata/표류/84. 범장망 표류.jpg\n",
      "이미지 이동 완료: /home/elicer/FIshing_vessel-1/resized_imgdata/84. 유망 표류.jpg -> /home/elicer/FIshing_vessel-1/categorized_imgdata/표류/84. 유망 표류.jpg\n",
      "이미지 이동 완료: /home/elicer/FIshing_vessel-1/resized_imgdata/84. 타망 조업.jpg -> /home/elicer/FIshing_vessel-1/categorized_imgdata/조업/84. 타망 조업.jpg\n",
      "이미지 이동 완료: /home/elicer/FIshing_vessel-1/resized_imgdata/84. 타망 표류.jpg -> /home/elicer/FIshing_vessel-1/categorized_imgdata/표류/84. 타망 표류.jpg\n",
      "이미지 이동 완료: /home/elicer/FIshing_vessel-1/resized_imgdata/85 타망 이동.png -> /home/elicer/FIshing_vessel-1/categorized_imgdata/이동/85 타망 이동.png\n",
      "이미지 이동 완료: /home/elicer/FIshing_vessel-1/resized_imgdata/85. 범장망 이동.jpg -> /home/elicer/FIshing_vessel-1/categorized_imgdata/이동/85. 범장망 이동.jpg\n",
      "이미지 이동 완료: /home/elicer/FIshing_vessel-1/resized_imgdata/85. 범장망 표류.jpg -> /home/elicer/FIshing_vessel-1/categorized_imgdata/표류/85. 범장망 표류.jpg\n",
      "이미지 이동 완료: /home/elicer/FIshing_vessel-1/resized_imgdata/85. 유망 표류.jpg -> /home/elicer/FIshing_vessel-1/categorized_imgdata/표류/85. 유망 표류.jpg\n",
      "이미지 이동 완료: /home/elicer/FIshing_vessel-1/resized_imgdata/85. 타망 조업.jpg -> /home/elicer/FIshing_vessel-1/categorized_imgdata/조업/85. 타망 조업.jpg\n",
      "이미지 이동 완료: /home/elicer/FIshing_vessel-1/resized_imgdata/85. 타망 표류.jpg -> /home/elicer/FIshing_vessel-1/categorized_imgdata/표류/85. 타망 표류.jpg\n",
      "이미지 이동 완료: /home/elicer/FIshing_vessel-1/resized_imgdata/86 타망 이동.jpg -> /home/elicer/FIshing_vessel-1/categorized_imgdata/이동/86 타망 이동.jpg\n",
      "이미지 이동 완료: /home/elicer/FIshing_vessel-1/resized_imgdata/86. 범장망 이동.jpg -> /home/elicer/FIshing_vessel-1/categorized_imgdata/이동/86. 범장망 이동.jpg\n",
      "이미지 이동 완료: /home/elicer/FIshing_vessel-1/resized_imgdata/86. 타망 조업.jpg -> /home/elicer/FIshing_vessel-1/categorized_imgdata/조업/86. 타망 조업.jpg\n",
      "이미지 이동 완료: /home/elicer/FIshing_vessel-1/resized_imgdata/86. 범장망 표류.jpg -> /home/elicer/FIshing_vessel-1/categorized_imgdata/표류/86. 범장망 표류.jpg\n",
      "이미지 이동 완료: /home/elicer/FIshing_vessel-1/resized_imgdata/87 타망 이동.png -> /home/elicer/FIshing_vessel-1/categorized_imgdata/이동/87 타망 이동.png\n",
      "이미지 이동 완료: /home/elicer/FIshing_vessel-1/resized_imgdata/86. 타망 표류.jpg -> /home/elicer/FIshing_vessel-1/categorized_imgdata/표류/86. 타망 표류.jpg\n",
      "이미지 이동 완료: /home/elicer/FIshing_vessel-1/resized_imgdata/87. 범장망 이동.jpg -> /home/elicer/FIshing_vessel-1/categorized_imgdata/이동/87. 범장망 이동.jpg\n",
      "이미지 이동 완료: /home/elicer/FIshing_vessel-1/resized_imgdata/87. 범장망 표류.jpg -> /home/elicer/FIshing_vessel-1/categorized_imgdata/표류/87. 범장망 표류.jpg\n",
      "이미지 이동 완료: /home/elicer/FIshing_vessel-1/resized_imgdata/87. 유망 표류.jpg -> /home/elicer/FIshing_vessel-1/categorized_imgdata/표류/87. 유망 표류.jpg\n",
      "이미지 이동 완료: /home/elicer/FIshing_vessel-1/resized_imgdata/87. 타망 조업.jpg -> /home/elicer/FIshing_vessel-1/categorized_imgdata/조업/87. 타망 조업.jpg\n",
      "이미지 이동 완료: /home/elicer/FIshing_vessel-1/resized_imgdata/87. 타망 표류.jpg -> /home/elicer/FIshing_vessel-1/categorized_imgdata/표류/87. 타망 표류.jpg\n",
      "이미지 이동 완료: /home/elicer/FIshing_vessel-1/resized_imgdata/88 타망 이동.jpg -> /home/elicer/FIshing_vessel-1/categorized_imgdata/이동/88 타망 이동.jpg\n",
      "이미지 이동 완료: /home/elicer/FIshing_vessel-1/resized_imgdata/88. 범장망 이동.jpg -> /home/elicer/FIshing_vessel-1/categorized_imgdata/이동/88. 범장망 이동.jpg\n",
      "이미지 이동 완료: /home/elicer/FIshing_vessel-1/resized_imgdata/88. 범장망 표류.jpg -> /home/elicer/FIshing_vessel-1/categorized_imgdata/표류/88. 범장망 표류.jpg\n",
      "이미지 이동 완료: /home/elicer/FIshing_vessel-1/resized_imgdata/88. 유망 표류.jpg -> /home/elicer/FIshing_vessel-1/categorized_imgdata/표류/88. 유망 표류.jpg\n",
      "이미지 이동 완료: /home/elicer/FIshing_vessel-1/resized_imgdata/88. 타망 조업.jpg -> /home/elicer/FIshing_vessel-1/categorized_imgdata/조업/88. 타망 조업.jpg\n",
      "이미지 이동 완료: /home/elicer/FIshing_vessel-1/resized_imgdata/88. 타망 표류.jpg -> /home/elicer/FIshing_vessel-1/categorized_imgdata/표류/88. 타망 표류.jpg\n",
      "이미지 이동 완료: /home/elicer/FIshing_vessel-1/resized_imgdata/89 타망 이동.jpg -> /home/elicer/FIshing_vessel-1/categorized_imgdata/이동/89 타망 이동.jpg\n",
      "이미지 이동 완료: /home/elicer/FIshing_vessel-1/resized_imgdata/89. 범장망 이동.jpg -> /home/elicer/FIshing_vessel-1/categorized_imgdata/이동/89. 범장망 이동.jpg\n",
      "이미지 이동 완료: /home/elicer/FIshing_vessel-1/resized_imgdata/89. 범장망 표류.jpg -> /home/elicer/FIshing_vessel-1/categorized_imgdata/표류/89. 범장망 표류.jpg\n",
      "이미지 이동 완료: /home/elicer/FIshing_vessel-1/resized_imgdata/89. 유망 표류.jpg -> /home/elicer/FIshing_vessel-1/categorized_imgdata/표류/89. 유망 표류.jpg\n",
      "이미지 이동 완료: /home/elicer/FIshing_vessel-1/resized_imgdata/89. 타망 조업.jpg -> /home/elicer/FIshing_vessel-1/categorized_imgdata/조업/89. 타망 조업.jpg\n",
      "이미지 이동 완료: /home/elicer/FIshing_vessel-1/resized_imgdata/9. 낚시어선 이동.jpg -> /home/elicer/FIshing_vessel-1/categorized_imgdata/이동/9. 낚시어선 이동.jpg\n",
      "이미지 이동 완료: /home/elicer/FIshing_vessel-1/resized_imgdata/9. 등광조망 이동.jpg -> /home/elicer/FIshing_vessel-1/categorized_imgdata/이동/9. 등광조망 이동.jpg\n",
      "이미지 이동 완료: /home/elicer/FIshing_vessel-1/resized_imgdata/9. 낚시어선 표류.jpg -> /home/elicer/FIshing_vessel-1/categorized_imgdata/표류/9. 낚시어선 표류.jpg\n",
      "이미지 이동 완료: /home/elicer/FIshing_vessel-1/resized_imgdata/9. 등광조망 조업.jpg -> /home/elicer/FIshing_vessel-1/categorized_imgdata/조업/9. 등광조망 조업.jpg\n",
      "이미지 이동 완료: /home/elicer/FIshing_vessel-1/resized_imgdata/9. 등광조망 표류.jpg -> /home/elicer/FIshing_vessel-1/categorized_imgdata/표류/9. 등광조망 표류.jpg\n",
      "이미지 이동 완료: /home/elicer/FIshing_vessel-1/resized_imgdata/89. 타망 표류.png -> /home/elicer/FIshing_vessel-1/categorized_imgdata/표류/89. 타망 표류.png\n",
      "이미지 이동 완료: /home/elicer/FIshing_vessel-1/resized_imgdata/9. 범장망 이동.jpg -> /home/elicer/FIshing_vessel-1/categorized_imgdata/이동/9. 범장망 이동.jpg\n",
      "이미지 이동 완료: /home/elicer/FIshing_vessel-1/resized_imgdata/9. 범장망 조업.jpg -> /home/elicer/FIshing_vessel-1/categorized_imgdata/조업/9. 범장망 조업.jpg\n",
      "이미지 이동 완료: /home/elicer/FIshing_vessel-1/resized_imgdata/9. 범장망 표류.jpg -> /home/elicer/FIshing_vessel-1/categorized_imgdata/표류/9. 범장망 표류.jpg\n",
      "이미지 이동 완료: /home/elicer/FIshing_vessel-1/resized_imgdata/9. 안강망 이동.jpg -> /home/elicer/FIshing_vessel-1/categorized_imgdata/이동/9. 안강망 이동.jpg\n",
      "이미지 이동 완료: /home/elicer/FIshing_vessel-1/resized_imgdata/9. 안강망 조업.jpg -> /home/elicer/FIshing_vessel-1/categorized_imgdata/조업/9. 안강망 조업.jpg\n",
      "이미지 이동 완료: /home/elicer/FIshing_vessel-1/resized_imgdata/9. 안강망 표류.jpg -> /home/elicer/FIshing_vessel-1/categorized_imgdata/표류/9. 안강망 표류.jpg\n",
      "이미지 이동 완료: /home/elicer/FIshing_vessel-1/resized_imgdata/9. 연승 이동.jpg -> /home/elicer/FIshing_vessel-1/categorized_imgdata/이동/9. 연승 이동.jpg\n",
      "이미지 이동 완료: /home/elicer/FIshing_vessel-1/resized_imgdata/9. 연승 표류.jpg -> /home/elicer/FIshing_vessel-1/categorized_imgdata/표류/9. 연승 표류.jpg\n",
      "이미지 이동 완료: /home/elicer/FIshing_vessel-1/resized_imgdata/9. 유망 이동.jpg -> /home/elicer/FIshing_vessel-1/categorized_imgdata/이동/9. 유망 이동.jpg\n",
      "이미지 이동 완료: /home/elicer/FIshing_vessel-1/resized_imgdata/9. 유망 조업.jpg -> /home/elicer/FIshing_vessel-1/categorized_imgdata/조업/9. 유망 조업.jpg\n",
      "이미지 이동 완료: /home/elicer/FIshing_vessel-1/resized_imgdata/9. 유망 표류.jpg -> /home/elicer/FIshing_vessel-1/categorized_imgdata/표류/9. 유망 표류.jpg\n",
      "이미지 이동 완료: /home/elicer/FIshing_vessel-1/resized_imgdata/9. 저인망 이동.jpg -> /home/elicer/FIshing_vessel-1/categorized_imgdata/이동/9. 저인망 이동.jpg\n",
      "이미지 이동 완료: /home/elicer/FIshing_vessel-1/resized_imgdata/9. 저인망 조업.jpg -> /home/elicer/FIshing_vessel-1/categorized_imgdata/조업/9. 저인망 조업.jpg\n",
      "이미지 이동 완료: /home/elicer/FIshing_vessel-1/resized_imgdata/9. 채낚기  표류.jpg -> /home/elicer/FIshing_vessel-1/categorized_imgdata/표류/9. 채낚기  표류.jpg\n",
      "이미지 이동 완료: /home/elicer/FIshing_vessel-1/resized_imgdata/9. 타망 이동.jpg -> /home/elicer/FIshing_vessel-1/categorized_imgdata/이동/9. 타망 이동.jpg\n",
      "이미지 이동 완료: /home/elicer/FIshing_vessel-1/resized_imgdata/9. 채낚기 이동.jpg -> /home/elicer/FIshing_vessel-1/categorized_imgdata/이동/9. 채낚기 이동.jpg\n",
      "이미지 이동 완료: /home/elicer/FIshing_vessel-1/resized_imgdata/9. 타망 조업.jpg -> /home/elicer/FIshing_vessel-1/categorized_imgdata/조업/9. 타망 조업.jpg\n",
      "이미지 이동 완료: /home/elicer/FIshing_vessel-1/resized_imgdata/9. 통발 이동.jpg -> /home/elicer/FIshing_vessel-1/categorized_imgdata/이동/9. 통발 이동.jpg\n",
      "이미지 이동 완료: /home/elicer/FIshing_vessel-1/resized_imgdata/9. 타망 표류.jpg -> /home/elicer/FIshing_vessel-1/categorized_imgdata/표류/9. 타망 표류.jpg\n",
      "이미지 이동 완료: /home/elicer/FIshing_vessel-1/resized_imgdata/90. 범장망 이동.jpg -> /home/elicer/FIshing_vessel-1/categorized_imgdata/이동/90. 범장망 이동.jpg\n",
      "이미지 이동 완료: /home/elicer/FIshing_vessel-1/resized_imgdata/90 타망 이동.jpg -> /home/elicer/FIshing_vessel-1/categorized_imgdata/이동/90 타망 이동.jpg\n",
      "이미지 이동 완료: /home/elicer/FIshing_vessel-1/resized_imgdata/90. 범장망 표류.jpg -> /home/elicer/FIshing_vessel-1/categorized_imgdata/표류/90. 범장망 표류.jpg\n",
      "이미지 이동 완료: /home/elicer/FIshing_vessel-1/resized_imgdata/90. 유망 표류.jpg -> /home/elicer/FIshing_vessel-1/categorized_imgdata/표류/90. 유망 표류.jpg\n",
      "이미지 이동 완료: /home/elicer/FIshing_vessel-1/resized_imgdata/90. 타망 조업.png -> /home/elicer/FIshing_vessel-1/categorized_imgdata/조업/90. 타망 조업.png\n",
      "이미지 이동 완료: /home/elicer/FIshing_vessel-1/resized_imgdata/90. 타망 표류.jpg -> /home/elicer/FIshing_vessel-1/categorized_imgdata/표류/90. 타망 표류.jpg\n",
      "이미지 이동 완료: /home/elicer/FIshing_vessel-1/resized_imgdata/91 타망 이동.jpg -> /home/elicer/FIshing_vessel-1/categorized_imgdata/이동/91 타망 이동.jpg\n",
      "이미지 이동 완료: /home/elicer/FIshing_vessel-1/resized_imgdata/91. 유망 표류.jpg -> /home/elicer/FIshing_vessel-1/categorized_imgdata/표류/91. 유망 표류.jpg\n",
      "이미지 이동 완료: /home/elicer/FIshing_vessel-1/resized_imgdata/91. 범장망 이동.jpg -> /home/elicer/FIshing_vessel-1/categorized_imgdata/이동/91. 범장망 이동.jpg\n",
      "이미지 이동 완료: /home/elicer/FIshing_vessel-1/resized_imgdata/91. 범장망 표류.jpg -> /home/elicer/FIshing_vessel-1/categorized_imgdata/표류/91. 범장망 표류.jpg\n",
      "이미지 이동 완료: /home/elicer/FIshing_vessel-1/resized_imgdata/91. 타망 조업.jpg -> /home/elicer/FIshing_vessel-1/categorized_imgdata/조업/91. 타망 조업.jpg\n",
      "이미지 이동 완료: /home/elicer/FIshing_vessel-1/resized_imgdata/91. 타망 표류.jpg -> /home/elicer/FIshing_vessel-1/categorized_imgdata/표류/91. 타망 표류.jpg\n",
      "이미지 이동 완료: /home/elicer/FIshing_vessel-1/resized_imgdata/92 타망 이동.jpg -> /home/elicer/FIshing_vessel-1/categorized_imgdata/이동/92 타망 이동.jpg\n",
      "이미지 이동 완료: /home/elicer/FIshing_vessel-1/resized_imgdata/92. 범장망 이동.jpg -> /home/elicer/FIshing_vessel-1/categorized_imgdata/이동/92. 범장망 이동.jpg\n",
      "이미지 이동 완료: /home/elicer/FIshing_vessel-1/resized_imgdata/92. 유망 표류.jpg -> /home/elicer/FIshing_vessel-1/categorized_imgdata/표류/92. 유망 표류.jpg\n",
      "이미지 이동 완료: /home/elicer/FIshing_vessel-1/resized_imgdata/92. 범장망 표류.jpg -> /home/elicer/FIshing_vessel-1/categorized_imgdata/표류/92. 범장망 표류.jpg\n",
      "이미지 이동 완료: /home/elicer/FIshing_vessel-1/resized_imgdata/92. 타망 표류.jpg -> /home/elicer/FIshing_vessel-1/categorized_imgdata/표류/92. 타망 표류.jpg\n",
      "이미지 이동 완료: /home/elicer/FIshing_vessel-1/resized_imgdata/92. 타망 조업.jpg -> /home/elicer/FIshing_vessel-1/categorized_imgdata/조업/92. 타망 조업.jpg\n",
      "이미지 이동 완료: /home/elicer/FIshing_vessel-1/resized_imgdata/93 타망 이동.jpg -> /home/elicer/FIshing_vessel-1/categorized_imgdata/이동/93 타망 이동.jpg\n",
      "이미지 이동 완료: /home/elicer/FIshing_vessel-1/resized_imgdata/93. 범장망 이동.jpg -> /home/elicer/FIshing_vessel-1/categorized_imgdata/이동/93. 범장망 이동.jpg\n",
      "이미지 이동 완료: /home/elicer/FIshing_vessel-1/resized_imgdata/93. 범장망 표류.jpg -> /home/elicer/FIshing_vessel-1/categorized_imgdata/표류/93. 범장망 표류.jpg\n",
      "이미지 이동 완료: /home/elicer/FIshing_vessel-1/resized_imgdata/93. 유망 표류.jpg -> /home/elicer/FIshing_vessel-1/categorized_imgdata/표류/93. 유망 표류.jpg\n",
      "이미지 이동 완료: /home/elicer/FIshing_vessel-1/resized_imgdata/93. 타망 조업.jpg -> /home/elicer/FIshing_vessel-1/categorized_imgdata/조업/93. 타망 조업.jpg\n",
      "이미지 이동 완료: /home/elicer/FIshing_vessel-1/resized_imgdata/93. 타망 표류.jpg -> /home/elicer/FIshing_vessel-1/categorized_imgdata/표류/93. 타망 표류.jpg\n",
      "이미지 이동 완료: /home/elicer/FIshing_vessel-1/resized_imgdata/94 타망 이동.jpg -> /home/elicer/FIshing_vessel-1/categorized_imgdata/이동/94 타망 이동.jpg\n",
      "이미지 이동 완료: /home/elicer/FIshing_vessel-1/resized_imgdata/94. 범장망 이동.jpg -> /home/elicer/FIshing_vessel-1/categorized_imgdata/이동/94. 범장망 이동.jpg\n",
      "이미지 이동 완료: /home/elicer/FIshing_vessel-1/resized_imgdata/94. 유망 표류.jpg -> /home/elicer/FIshing_vessel-1/categorized_imgdata/표류/94. 유망 표류.jpg\n",
      "이미지 이동 완료: /home/elicer/FIshing_vessel-1/resized_imgdata/94. 범장망 표류.jpg -> /home/elicer/FIshing_vessel-1/categorized_imgdata/표류/94. 범장망 표류.jpg\n",
      "이미지 이동 완료: /home/elicer/FIshing_vessel-1/resized_imgdata/94. 타망 조업.jpg -> /home/elicer/FIshing_vessel-1/categorized_imgdata/조업/94. 타망 조업.jpg\n",
      "이미지 이동 완료: /home/elicer/FIshing_vessel-1/resized_imgdata/94. 타망 표류.jpg -> /home/elicer/FIshing_vessel-1/categorized_imgdata/표류/94. 타망 표류.jpg\n",
      "이미지 이동 완료: /home/elicer/FIshing_vessel-1/resized_imgdata/95 타망 이동.jpg -> /home/elicer/FIshing_vessel-1/categorized_imgdata/이동/95 타망 이동.jpg\n",
      "이미지 이동 완료: /home/elicer/FIshing_vessel-1/resized_imgdata/95. 범장망 이동.jpg -> /home/elicer/FIshing_vessel-1/categorized_imgdata/이동/95. 범장망 이동.jpg\n",
      "이미지 이동 완료: /home/elicer/FIshing_vessel-1/resized_imgdata/95. 범장망 표류.jpg -> /home/elicer/FIshing_vessel-1/categorized_imgdata/표류/95. 범장망 표류.jpg\n",
      "이미지 이동 완료: /home/elicer/FIshing_vessel-1/resized_imgdata/95. 유망 표류.png -> /home/elicer/FIshing_vessel-1/categorized_imgdata/표류/95. 유망 표류.png\n",
      "이미지 이동 완료: /home/elicer/FIshing_vessel-1/resized_imgdata/95. 타망 조업.jpg -> /home/elicer/FIshing_vessel-1/categorized_imgdata/조업/95. 타망 조업.jpg\n",
      "이미지 이동 완료: /home/elicer/FIshing_vessel-1/resized_imgdata/95. 타망 표류.jpg -> /home/elicer/FIshing_vessel-1/categorized_imgdata/표류/95. 타망 표류.jpg\n",
      "이미지 이동 완료: /home/elicer/FIshing_vessel-1/resized_imgdata/96 타망 이동.jpg -> /home/elicer/FIshing_vessel-1/categorized_imgdata/이동/96 타망 이동.jpg\n",
      "이미지 이동 완료: /home/elicer/FIshing_vessel-1/resized_imgdata/96. 범장망 표류.jpg -> /home/elicer/FIshing_vessel-1/categorized_imgdata/표류/96. 범장망 표류.jpg\n",
      "이미지 이동 완료: /home/elicer/FIshing_vessel-1/resized_imgdata/96. 범장망 이동.jpg -> /home/elicer/FIshing_vessel-1/categorized_imgdata/이동/96. 범장망 이동.jpg\n",
      "이미지 이동 완료: /home/elicer/FIshing_vessel-1/resized_imgdata/96. 유망 표류.jpg -> /home/elicer/FIshing_vessel-1/categorized_imgdata/표류/96. 유망 표류.jpg\n",
      "이미지 이동 완료: /home/elicer/FIshing_vessel-1/resized_imgdata/96. 타망 조업.jpg -> /home/elicer/FIshing_vessel-1/categorized_imgdata/조업/96. 타망 조업.jpg\n",
      "이미지 이동 완료: /home/elicer/FIshing_vessel-1/resized_imgdata/97 타망 이동.jpg -> /home/elicer/FIshing_vessel-1/categorized_imgdata/이동/97 타망 이동.jpg\n",
      "이미지 이동 완료: /home/elicer/FIshing_vessel-1/resized_imgdata/96. 타망 표류.jpg -> /home/elicer/FIshing_vessel-1/categorized_imgdata/표류/96. 타망 표류.jpg\n",
      "이미지 이동 완료: /home/elicer/FIshing_vessel-1/resized_imgdata/97. 범장망 이동.jpg -> /home/elicer/FIshing_vessel-1/categorized_imgdata/이동/97. 범장망 이동.jpg\n",
      "이미지 이동 완료: /home/elicer/FIshing_vessel-1/resized_imgdata/97. 범장망 표류.jpg -> /home/elicer/FIshing_vessel-1/categorized_imgdata/표류/97. 범장망 표류.jpg\n",
      "이미지 이동 완료: /home/elicer/FIshing_vessel-1/resized_imgdata/97. 유망 표류.jpg -> /home/elicer/FIshing_vessel-1/categorized_imgdata/표류/97. 유망 표류.jpg\n",
      "이미지 이동 완료: /home/elicer/FIshing_vessel-1/resized_imgdata/97. 타망 조업.jpg -> /home/elicer/FIshing_vessel-1/categorized_imgdata/조업/97. 타망 조업.jpg\n",
      "이미지 이동 완료: /home/elicer/FIshing_vessel-1/resized_imgdata/97. 타망 표류.jpg -> /home/elicer/FIshing_vessel-1/categorized_imgdata/표류/97. 타망 표류.jpg\n",
      "이미지 이동 완료: /home/elicer/FIshing_vessel-1/resized_imgdata/98 타망 이동.jpg -> /home/elicer/FIshing_vessel-1/categorized_imgdata/이동/98 타망 이동.jpg\n",
      "이미지 이동 완료: /home/elicer/FIshing_vessel-1/resized_imgdata/98. 범장망 표류.jpg -> /home/elicer/FIshing_vessel-1/categorized_imgdata/표류/98. 범장망 표류.jpg\n",
      "이미지 이동 완료: /home/elicer/FIshing_vessel-1/resized_imgdata/98. 유망 표류.jpg -> /home/elicer/FIshing_vessel-1/categorized_imgdata/표류/98. 유망 표류.jpg\n",
      "이미지 이동 완료: /home/elicer/FIshing_vessel-1/resized_imgdata/98. 타망 조업.jpg -> /home/elicer/FIshing_vessel-1/categorized_imgdata/조업/98. 타망 조업.jpg\n",
      "이미지 이동 완료: /home/elicer/FIshing_vessel-1/resized_imgdata/98. 타망 표류.jpg -> /home/elicer/FIshing_vessel-1/categorized_imgdata/표류/98. 타망 표류.jpg\n",
      "이미지 이동 완료: /home/elicer/FIshing_vessel-1/resized_imgdata/99 타망 이동.jpg -> /home/elicer/FIshing_vessel-1/categorized_imgdata/이동/99 타망 이동.jpg\n",
      "이미지 이동 완료: /home/elicer/FIshing_vessel-1/resized_imgdata/99. 범장망 이동.jpg -> /home/elicer/FIshing_vessel-1/categorized_imgdata/이동/99. 범장망 이동.jpg\n",
      "이미지 이동 완료: /home/elicer/FIshing_vessel-1/resized_imgdata/99. 범장망 표류.jpg -> /home/elicer/FIshing_vessel-1/categorized_imgdata/표류/99. 범장망 표류.jpg\n",
      "이미지 이동 완료: /home/elicer/FIshing_vessel-1/resized_imgdata/99. 유망 표류.jpg -> /home/elicer/FIshing_vessel-1/categorized_imgdata/표류/99. 유망 표류.jpg\n",
      "이미지 이동 완료: /home/elicer/FIshing_vessel-1/resized_imgdata/99. 타망 조업.jpg -> /home/elicer/FIshing_vessel-1/categorized_imgdata/조업/99. 타망 조업.jpg\n",
      "이미지 이동 완료: /home/elicer/FIshing_vessel-1/resized_imgdata/99. 타망 표류.jpg -> /home/elicer/FIshing_vessel-1/categorized_imgdata/표류/99. 타망 표류.jpg\n",
      "모든 이미지의 상태별 분류 완료\n"
     ]
    }
   ],
   "source": [
    "import os\n",
    "import shutil\n",
    "\n",
    "# 이미지가 저장된 폴더 경로 지정\n",
    "input_folder = '/home/elicer/FIshing_vessel-1/resized_imgdata'\n",
    "output_base_folder = '/home/elicer/FIshing_vessel-1/categorized_imgdata'\n",
    "\n",
    "# 출력 폴더가 존재하지 않으면 생성\n",
    "if not os.path.exists(output_base_folder):\n",
    "    os.makedirs(output_base_folder)\n",
    "\n",
    "# 이미지 분류 기준 단어 목록\n",
    "states = ['이동', '조업', '표류']\n",
    "\n",
    "# 이미지 파일들을 반복하며 상태에 따라 분류\n",
    "for filename in os.listdir(input_folder):\n",
    "    if filename.endswith(('.jpg', '.jpeg', '.png')):  # 이미지 파일만 처리\n",
    "        # 파일 이름에서 상태 단어 추출\n",
    "        for state in states:\n",
    "            if state in filename:\n",
    "                # 상태에 해당하는 폴더 생성\n",
    "                output_folder = os.path.join(output_base_folder, state)\n",
    "                if not os.path.exists(output_folder):\n",
    "                    os.makedirs(output_folder)\n",
    "                \n",
    "                # 이미지 파일 이동\n",
    "                src_path = os.path.join(input_folder, filename)\n",
    "                dst_path = os.path.join(output_folder, filename)\n",
    "                shutil.move(src_path, dst_path)\n",
    "                print(f\"이미지 이동 완료: {src_path} -> {dst_path}\")\n",
    "                break\n",
    "\n",
    "print(\"모든 이미지의 상태별 분류 완료\")\n"
   ]
  },
  {
   "cell_type": "code",
   "execution_count": 5,
   "metadata": {},
   "outputs": [
    {
     "name": "stderr",
     "output_type": "stream",
     "text": [
      "2024-10-25 00:36:47.945533: I tensorflow/core/util/port.cc:153] oneDNN custom operations are on. You may see slightly different numerical results due to floating-point round-off errors from different computation orders. To turn them off, set the environment variable `TF_ENABLE_ONEDNN_OPTS=0`.\n",
      "2024-10-25 00:36:47.961103: E external/local_xla/xla/stream_executor/cuda/cuda_fft.cc:485] Unable to register cuFFT factory: Attempting to register factory for plugin cuFFT when one has already been registered\n",
      "2024-10-25 00:36:47.976973: E external/local_xla/xla/stream_executor/cuda/cuda_dnn.cc:8454] Unable to register cuDNN factory: Attempting to register factory for plugin cuDNN when one has already been registered\n",
      "2024-10-25 00:36:47.981650: E external/local_xla/xla/stream_executor/cuda/cuda_blas.cc:1452] Unable to register cuBLAS factory: Attempting to register factory for plugin cuBLAS when one has already been registered\n",
      "2024-10-25 00:36:47.994432: I tensorflow/core/platform/cpu_feature_guard.cc:210] This TensorFlow binary is optimized to use available CPU instructions in performance-critical operations.\n",
      "To enable the following instructions: AVX2 AVX512F AVX512_VNNI FMA, in other operations, rebuild TensorFlow with the appropriate compiler flags.\n",
      "2024-10-25 00:36:49.012783: W tensorflow/compiler/tf2tensorrt/utils/py_utils.cc:38] TF-TRT Warning: Could not find TensorRT\n"
     ]
    },
    {
     "name": "stdout",
     "output_type": "stream",
     "text": [
      "Found 1265 images belonging to 3 classes.\n",
      "Found 315 images belonging to 3 classes.\n",
      "훈련 및 검증 데이터 로더 생성 완료\n"
     ]
    }
   ],
   "source": [
    "from tensorflow.keras.preprocessing.image import ImageDataGenerator\n",
    "\n",
    "# 데이터 경로 지정\n",
    "train_data_directory = '/home/elicer/FIshing_vessel-1/categorized_imgdata'  # 리사이즈된 이미지가 저장된 폴더 경로\n",
    "\n",
    "# ImageDataGenerator 생성 및 데이터 증강 적용\n",
    "train_datagen = ImageDataGenerator(\n",
    "    rescale=1.0/255,  # 이미지 값을 0-1 범위로 스케일링\n",
    "    rotation_range=30,  # 이미지 회전 범위 (도)\n",
    "    width_shift_range=0.2,  # 가로 방향으로 이미지 이동 범위 (비율)\n",
    "    height_shift_range=0.2,  # 세로 방향으로 이미지 이동 범위 (비율)\n",
    "    shear_range=0.2,  # 이미지 시어 변환 범위\n",
    "    zoom_range=0.2,  # 이미지 줌 범위\n",
    "    horizontal_flip=True,  # 이미지 좌우 반전\n",
    "    fill_mode='nearest',  # 변환 시 생기는 빈 공간을 채우는 방식\n",
    "    validation_split=0.2  # 데이터의 20%는 검증용으로 사용\n",
    ")\n",
    "\n",
    "# 훈련 데이터 로더 생성\n",
    "train_generator = train_datagen.flow_from_directory(\n",
    "    train_data_directory,  # 이미지가 저장된 경로\n",
    "    target_size=(224, 224),  # 이미지 크기 (VGG 모델에 맞게 224x224)\n",
    "    batch_size=32,  # 배치 크기\n",
    "    class_mode='categorical',  # 레이블 형식 (다중 클래스 분류)\n",
    "    subset='training'  # 훈련 데이터로 사용\n",
    ")\n",
    "\n",
    "# 검증 데이터 로더 생성\n",
    "validation_generator = train_datagen.flow_from_directory(\n",
    "    train_data_directory,  # 이미지가 저장된 경로\n",
    "    target_size=(224, 224),  # 이미지 크기\n",
    "    batch_size=32,  # 배치 크기\n",
    "    class_mode='categorical',  # 레이블 형식\n",
    "    subset='validation'  # 검증 데이터로 사용\n",
    ")\n",
    "\n",
    "print(\"훈련 및 검증 데이터 로더 생성 완료\")\n"
   ]
  },
  {
   "cell_type": "markdown",
   "metadata": {},
   "source": [
    "3. VGG 모델 구축 및 전이 학습 적용\n",
    "- 사전 학습된 VGG 모델 불러오기:\n",
    "VGG16 또는 VGG19 모델을 ImageNet 가중치를 사용하여 불러오고, 최상단 레이어는 제외합니다.\n",
    "새로운 Fully Connected Layer를 추가하여 어선 상태를 분류할 수 있도록 수정합니다."
   ]
  },
  {
   "cell_type": "code",
   "execution_count": 6,
   "metadata": {},
   "outputs": [
    {
     "name": "stderr",
     "output_type": "stream",
     "text": [
      "2024-10-25 00:36:50.364709: I tensorflow/core/common_runtime/gpu/gpu_device.cc:2021] Created device /job:localhost/replica:0/task:0/device:GPU:0 with 38716 MB memory:  -> device: 0, name: NVIDIA A100 80GB PCIe MIG 3g.40gb, pci bus id: 0000:ca:00.0, compute capability: 8.0\n"
     ]
    },
    {
     "name": "stdout",
     "output_type": "stream",
     "text": [
      "VGG16 기반 전이 학습 모델 생성 및 컴파일 완료\n"
     ]
    }
   ],
   "source": [
    "from tensorflow.keras.applications import VGG16\n",
    "from tensorflow.keras import models, layers, optimizers\n",
    "\n",
    "# 사전 학습된 VGG16 모델 불러오기 (최상단 분류 레이어 제외)\n",
    "base_model = VGG16(weights='imagenet', include_top=False, input_shape=(224, 224, 3))\n",
    "\n",
    "# 기존 레이어를 고정하여 전이 학습에 사용\n",
    "base_model.trainable = False\n",
    "\n",
    "# 새로운 분류 레이어 쌓기\n",
    "model = models.Sequential()\n",
    "model.add(base_model)\n",
    "model.add(layers.Flatten())\n",
    "model.add(layers.Dense(512, activation='relu'))  # Fully Connected Layer 추가\n",
    "model.add(layers.Dropout(0.5))  # 과적합 방지를 위한 Dropout\n",
    "model.add(layers.Dense(3, activation='softmax'))  # 어선 상태 클래스 수에 맞게 출력 노드 설정 (예: 3개의 상태)\n",
    "\n",
    "# 모델 컴파일\n",
    "model.compile(optimizer=optimizers.Adam(learning_rate=0.0001),\n",
    "              loss='categorical_crossentropy',\n",
    "              metrics=['accuracy'])\n",
    "\n",
    "print(\"VGG16 기반 전이 학습 모델 생성 및 컴파일 완료\")\n"
   ]
  },
  {
   "cell_type": "markdown",
   "metadata": {},
   "source": [
    "4. 모델 학습\n",
    "- 모델 학습 진행: 학습 데이터(train_generator)와 검증 데이터(validation_generator)를 사용해 모델을 학습시킵니다."
   ]
  },
  {
   "cell_type": "code",
   "execution_count": 7,
   "metadata": {},
   "outputs": [
    {
     "name": "stderr",
     "output_type": "stream",
     "text": [
      "/home/elicer/.local/lib/python3.10/site-packages/keras/src/trainers/data_adapters/py_dataset_adapter.py:121: UserWarning: Your `PyDataset` class should call `super().__init__(**kwargs)` in its constructor. `**kwargs` can include `workers`, `use_multiprocessing`, `max_queue_size`. Do not pass these arguments to `fit()`, as they will be ignored.\n",
      "  self._warn_if_super_not_called()\n"
     ]
    },
    {
     "name": "stdout",
     "output_type": "stream",
     "text": [
      "Epoch 1/400\n"
     ]
    },
    {
     "name": "stderr",
     "output_type": "stream",
     "text": [
      "WARNING: All log messages before absl::InitializeLog() is called are written to STDERR\n",
      "I0000 00:00:1729816614.263883    3184 service.cc:146] XLA service 0x7f4ac000d710 initialized for platform CUDA (this does not guarantee that XLA will be used). Devices:\n",
      "I0000 00:00:1729816614.263910    3184 service.cc:154]   StreamExecutor device (0): NVIDIA A100 80GB PCIe MIG 3g.40gb, Compute Capability 8.0\n",
      "2024-10-25 00:36:54.333281: I tensorflow/compiler/mlir/tensorflow/utils/dump_mlir_util.cc:268] disabling MLIR crash reproducer, set env var `MLIR_CRASH_REPRODUCER_DIRECTORY` to enable.\n",
      "2024-10-25 00:36:54.657399: I external/local_xla/xla/stream_executor/cuda/cuda_dnn.cc:531] Loaded cuDNN version 8906\n"
     ]
    },
    {
     "name": "stdout",
     "output_type": "stream",
     "text": [
      "\u001b[1m 2/39\u001b[0m \u001b[32m━\u001b[0m\u001b[37m━━━━━━━━━━━━━━━━━━━\u001b[0m \u001b[1m1s\u001b[0m 29ms/step - accuracy: 0.4141 - loss: 1.1819"
     ]
    },
    {
     "name": "stderr",
     "output_type": "stream",
     "text": [
      "I0000 00:00:1729816621.428182    3184 device_compiler.h:188] Compiled cluster using XLA!  This line is logged at most once for the lifetime of the process.\n"
     ]
    },
    {
     "name": "stdout",
     "output_type": "stream",
     "text": [
      "\u001b[1m39/39\u001b[0m \u001b[32m━━━━━━━━━━━━━━━━━━━━\u001b[0m\u001b[37m\u001b[0m \u001b[1m0s\u001b[0m 390ms/step - accuracy: 0.4045 - loss: 1.3074"
     ]
    },
    {
     "name": "stderr",
     "output_type": "stream",
     "text": [
      "/home/elicer/.local/lib/python3.10/site-packages/keras/src/trainers/data_adapters/py_dataset_adapter.py:121: UserWarning: Your `PyDataset` class should call `super().__init__(**kwargs)` in its constructor. `**kwargs` can include `workers`, `use_multiprocessing`, `max_queue_size`. Do not pass these arguments to `fit()`, as they will be ignored.\n",
      "  self._warn_if_super_not_called()\n"
     ]
    },
    {
     "name": "stdout",
     "output_type": "stream",
     "text": [
      "\u001b[1m39/39\u001b[0m \u001b[32m━━━━━━━━━━━━━━━━━━━━\u001b[0m\u001b[37m\u001b[0m \u001b[1m29s\u001b[0m 531ms/step - accuracy: 0.4046 - loss: 1.3070 - val_accuracy: 0.4757 - val_loss: 1.0146\n",
      "Epoch 2/400\n",
      "\u001b[1m 1/39\u001b[0m \u001b[37m━━━━━━━━━━━━━━━━━━━━\u001b[0m \u001b[1m1s\u001b[0m 36ms/step - accuracy: 0.4375 - loss: 1.0126"
     ]
    },
    {
     "name": "stderr",
     "output_type": "stream",
     "text": [
      "2024-10-25 00:37:21.645212: I tensorflow/core/framework/local_rendezvous.cc:404] Local rendezvous is aborting with status: OUT_OF_RANGE: End of sequence\n",
      "\t [[{{node IteratorGetNext}}]]\n",
      "2024-10-25 00:37:21.645274: I tensorflow/core/framework/local_rendezvous.cc:423] Local rendezvous recv item cancelled. Key hash: 8056836469799998605\n",
      "2024-10-25 00:37:21.645379: I tensorflow/core/framework/local_rendezvous.cc:404] Local rendezvous is aborting with status: OUT_OF_RANGE: End of sequence\n",
      "\t [[{{node IteratorGetNext}}]]\n",
      "\t [[IteratorGetNext/_2]]\n",
      "/usr/local/lib/python3.10/contextlib.py:153: UserWarning: Your input ran out of data; interrupting training. Make sure that your dataset or generator can generate at least `steps_per_epoch * epochs` batches. You may need to use the `.repeat()` function when building your dataset.\n",
      "  self.gen.throw(typ, value, traceback)\n"
     ]
    },
    {
     "name": "stdout",
     "output_type": "stream",
     "text": [
      "\u001b[1m39/39\u001b[0m \u001b[32m━━━━━━━━━━━━━━━━━━━━\u001b[0m\u001b[37m\u001b[0m \u001b[1m6s\u001b[0m 159ms/step - accuracy: 0.4375 - loss: 1.0126 - val_accuracy: 0.4074 - val_loss: 1.0791\n",
      "Epoch 3/400\n"
     ]
    },
    {
     "name": "stderr",
     "output_type": "stream",
     "text": [
      "2024-10-25 00:37:27.706382: I tensorflow/core/framework/local_rendezvous.cc:404] Local rendezvous is aborting with status: OUT_OF_RANGE: End of sequence\n",
      "\t [[{{node IteratorGetNext}}]]\n",
      "\t [[IteratorGetNext/_2]]\n"
     ]
    },
    {
     "name": "stdout",
     "output_type": "stream",
     "text": [
      "\u001b[1m39/39\u001b[0m \u001b[32m━━━━━━━━━━━━━━━━━━━━\u001b[0m\u001b[37m\u001b[0m \u001b[1m13s\u001b[0m 346ms/step - accuracy: 0.4264 - loss: 1.1150 - val_accuracy: 0.5312 - val_loss: 1.0078\n",
      "Epoch 4/400\n",
      "\u001b[1m 1/39\u001b[0m \u001b[37m━━━━━━━━━━━━━━━━━━━━\u001b[0m \u001b[1m1s\u001b[0m 32ms/step - accuracy: 0.3438 - loss: 1.1393"
     ]
    },
    {
     "name": "stderr",
     "output_type": "stream",
     "text": [
      "2024-10-25 00:37:41.224049: I tensorflow/core/framework/local_rendezvous.cc:423] Local rendezvous recv item cancelled. Key hash: 8056836469799998605\n"
     ]
    },
    {
     "name": "stdout",
     "output_type": "stream",
     "text": [
      "\u001b[1m39/39\u001b[0m \u001b[32m━━━━━━━━━━━━━━━━━━━━\u001b[0m\u001b[37m\u001b[0m \u001b[1m0s\u001b[0m 7ms/step - accuracy: 0.3438 - loss: 1.1393 - val_accuracy: 0.4815 - val_loss: 1.1035\n",
      "Epoch 5/400\n"
     ]
    },
    {
     "name": "stderr",
     "output_type": "stream",
     "text": [
      "2024-10-25 00:37:41.478151: I tensorflow/core/framework/local_rendezvous.cc:404] Local rendezvous is aborting with status: OUT_OF_RANGE: End of sequence\n",
      "\t [[{{node IteratorGetNext}}]]\n",
      "\t [[IteratorGetNext/_2]]\n",
      "2024-10-25 00:37:41.478210: I tensorflow/core/framework/local_rendezvous.cc:423] Local rendezvous recv item cancelled. Key hash: 8056836469799998605\n",
      "2024-10-25 00:37:41.478225: I tensorflow/core/framework/local_rendezvous.cc:423] Local rendezvous recv item cancelled. Key hash: 16918664414020247758\n"
     ]
    },
    {
     "name": "stdout",
     "output_type": "stream",
     "text": [
      "\u001b[1m39/39\u001b[0m \u001b[32m━━━━━━━━━━━━━━━━━━━━\u001b[0m\u001b[37m\u001b[0m \u001b[1m14s\u001b[0m 347ms/step - accuracy: 0.4897 - loss: 1.0171 - val_accuracy: 0.5278 - val_loss: 0.9887\n",
      "Epoch 6/400\n",
      "\u001b[1m 1/39\u001b[0m \u001b[37m━━━━━━━━━━━━━━━━━━━━\u001b[0m \u001b[1m1s\u001b[0m 33ms/step - accuracy: 0.4688 - loss: 1.0178"
     ]
    },
    {
     "name": "stderr",
     "output_type": "stream",
     "text": [
      "2024-10-25 00:37:55.033641: I tensorflow/core/framework/local_rendezvous.cc:423] Local rendezvous recv item cancelled. Key hash: 8056836469799998605\n",
      "2024-10-25 00:37:55.033706: I tensorflow/core/framework/local_rendezvous.cc:423] Local rendezvous recv item cancelled. Key hash: 16918664414020247758\n"
     ]
    },
    {
     "name": "stdout",
     "output_type": "stream",
     "text": [
      "\u001b[1m39/39\u001b[0m \u001b[32m━━━━━━━━━━━━━━━━━━━━\u001b[0m\u001b[37m\u001b[0m \u001b[1m0s\u001b[0m 7ms/step - accuracy: 0.4688 - loss: 1.0178 - val_accuracy: 0.3704 - val_loss: 1.1652\n",
      "Epoch 7/400\n"
     ]
    },
    {
     "name": "stderr",
     "output_type": "stream",
     "text": [
      "2024-10-25 00:37:55.294315: I tensorflow/core/framework/local_rendezvous.cc:423] Local rendezvous recv item cancelled. Key hash: 8056836469799998605\n",
      "2024-10-25 00:37:55.294355: I tensorflow/core/framework/local_rendezvous.cc:423] Local rendezvous recv item cancelled. Key hash: 16918664414020247758\n"
     ]
    },
    {
     "name": "stdout",
     "output_type": "stream",
     "text": [
      "\u001b[1m39/39\u001b[0m \u001b[32m━━━━━━━━━━━━━━━━━━━━\u001b[0m\u001b[37m\u001b[0m \u001b[1m14s\u001b[0m 352ms/step - accuracy: 0.5099 - loss: 0.9878 - val_accuracy: 0.5382 - val_loss: 0.9827\n",
      "Epoch 8/400\n",
      "\u001b[1m 1/39\u001b[0m \u001b[37m━━━━━━━━━━━━━━━━━━━━\u001b[0m \u001b[1m1s\u001b[0m 31ms/step - accuracy: 0.5938 - loss: 0.8512"
     ]
    },
    {
     "name": "stderr",
     "output_type": "stream",
     "text": [
      "2024-10-25 00:38:09.065143: I tensorflow/core/framework/local_rendezvous.cc:423] Local rendezvous recv item cancelled. Key hash: 8056836469799998605\n"
     ]
    },
    {
     "name": "stdout",
     "output_type": "stream",
     "text": [
      "\u001b[1m39/39\u001b[0m \u001b[32m━━━━━━━━━━━━━━━━━━━━\u001b[0m\u001b[37m\u001b[0m \u001b[1m0s\u001b[0m 6ms/step - accuracy: 0.5938 - loss: 0.8512 - val_accuracy: 0.4444 - val_loss: 1.0549\n",
      "Epoch 9/400\n"
     ]
    },
    {
     "name": "stderr",
     "output_type": "stream",
     "text": [
      "2024-10-25 00:38:09.304775: I tensorflow/core/framework/local_rendezvous.cc:404] Local rendezvous is aborting with status: OUT_OF_RANGE: End of sequence\n",
      "\t [[{{node IteratorGetNext}}]]\n",
      "\t [[IteratorGetNext/_4]]\n",
      "2024-10-25 00:38:09.304831: I tensorflow/core/framework/local_rendezvous.cc:423] Local rendezvous recv item cancelled. Key hash: 16918664414020247758\n"
     ]
    },
    {
     "name": "stdout",
     "output_type": "stream",
     "text": [
      "\u001b[1m39/39\u001b[0m \u001b[32m━━━━━━━━━━━━━━━━━━━━\u001b[0m\u001b[37m\u001b[0m \u001b[1m14s\u001b[0m 347ms/step - accuracy: 0.5539 - loss: 0.9744 - val_accuracy: 0.5174 - val_loss: 0.9846\n",
      "Epoch 10/400\n",
      "\u001b[1m 1/39\u001b[0m \u001b[37m━━━━━━━━━━━━━━━━━━━━\u001b[0m \u001b[1m1s\u001b[0m 32ms/step - accuracy: 0.5312 - loss: 0.9765"
     ]
    },
    {
     "name": "stderr",
     "output_type": "stream",
     "text": [
      "2024-10-25 00:38:22.879372: I tensorflow/core/framework/local_rendezvous.cc:423] Local rendezvous recv item cancelled. Key hash: 8056836469799998605\n"
     ]
    },
    {
     "name": "stdout",
     "output_type": "stream",
     "text": [
      "\u001b[1m39/39\u001b[0m \u001b[32m━━━━━━━━━━━━━━━━━━━━\u001b[0m\u001b[37m\u001b[0m \u001b[1m0s\u001b[0m 6ms/step - accuracy: 0.5312 - loss: 0.9765 - val_accuracy: 0.5185 - val_loss: 0.9839\n",
      "Epoch 11/400\n"
     ]
    },
    {
     "name": "stderr",
     "output_type": "stream",
     "text": [
      "2024-10-25 00:38:23.094214: I tensorflow/core/framework/local_rendezvous.cc:423] Local rendezvous recv item cancelled. Key hash: 8056836469799998605\n",
      "2024-10-25 00:38:23.094263: I tensorflow/core/framework/local_rendezvous.cc:423] Local rendezvous recv item cancelled. Key hash: 16918664414020247758\n"
     ]
    },
    {
     "name": "stdout",
     "output_type": "stream",
     "text": [
      "\u001b[1m39/39\u001b[0m \u001b[32m━━━━━━━━━━━━━━━━━━━━\u001b[0m\u001b[37m\u001b[0m \u001b[1m14s\u001b[0m 353ms/step - accuracy: 0.5420 - loss: 0.9501 - val_accuracy: 0.5347 - val_loss: 0.9769\n",
      "Epoch 12/400\n",
      "\u001b[1m 1/39\u001b[0m \u001b[37m━━━━━━━━━━━━━━━━━━━━\u001b[0m \u001b[1m1s\u001b[0m 47ms/step - accuracy: 0.5000 - loss: 1.1096"
     ]
    },
    {
     "name": "stderr",
     "output_type": "stream",
     "text": [
      "2024-10-25 00:38:36.882168: I tensorflow/core/framework/local_rendezvous.cc:423] Local rendezvous recv item cancelled. Key hash: 8056836469799998605\n"
     ]
    },
    {
     "name": "stdout",
     "output_type": "stream",
     "text": [
      "\u001b[1m39/39\u001b[0m \u001b[32m━━━━━━━━━━━━━━━━━━━━\u001b[0m\u001b[37m\u001b[0m \u001b[1m0s\u001b[0m 6ms/step - accuracy: 0.5000 - loss: 1.1096 - val_accuracy: 0.4444 - val_loss: 1.1180\n",
      "Epoch 13/400\n"
     ]
    },
    {
     "name": "stderr",
     "output_type": "stream",
     "text": [
      "2024-10-25 00:38:37.132700: I tensorflow/core/framework/local_rendezvous.cc:423] Local rendezvous recv item cancelled. Key hash: 8056836469799998605\n",
      "2024-10-25 00:38:37.132765: I tensorflow/core/framework/local_rendezvous.cc:423] Local rendezvous recv item cancelled. Key hash: 16918664414020247758\n"
     ]
    },
    {
     "name": "stdout",
     "output_type": "stream",
     "text": [
      "\u001b[1m39/39\u001b[0m \u001b[32m━━━━━━━━━━━━━━━━━━━━\u001b[0m\u001b[37m\u001b[0m \u001b[1m14s\u001b[0m 350ms/step - accuracy: 0.5742 - loss: 0.9543 - val_accuracy: 0.5486 - val_loss: 0.9677\n",
      "Epoch 14/400\n",
      "\u001b[1m 1/39\u001b[0m \u001b[37m━━━━━━━━━━━━━━━━━━━━\u001b[0m \u001b[1m1s\u001b[0m 35ms/step - accuracy: 0.5000 - loss: 0.9237"
     ]
    },
    {
     "name": "stderr",
     "output_type": "stream",
     "text": [
      "2024-10-25 00:38:50.840454: I tensorflow/core/framework/local_rendezvous.cc:423] Local rendezvous recv item cancelled. Key hash: 8056836469799998605\n",
      "2024-10-25 00:38:50.840583: I tensorflow/core/framework/local_rendezvous.cc:423] Local rendezvous recv item cancelled. Key hash: 16918664414020247758\n"
     ]
    },
    {
     "name": "stdout",
     "output_type": "stream",
     "text": [
      "\u001b[1m39/39\u001b[0m \u001b[32m━━━━━━━━━━━━━━━━━━━━\u001b[0m\u001b[37m\u001b[0m \u001b[1m0s\u001b[0m 6ms/step - accuracy: 0.5000 - loss: 0.9237 - val_accuracy: 0.4074 - val_loss: 1.0991\n",
      "Epoch 15/400\n",
      "\u001b[1m39/39\u001b[0m \u001b[32m━━━━━━━━━━━━━━━━━━━━\u001b[0m\u001b[37m\u001b[0m \u001b[1m13s\u001b[0m 346ms/step - accuracy: 0.5500 - loss: 0.9593 - val_accuracy: 0.5694 - val_loss: 0.9612\n",
      "Epoch 16/400\n",
      "\u001b[1m 1/39\u001b[0m \u001b[37m━━━━━━━━━━━━━━━━━━━━\u001b[0m \u001b[1m1s\u001b[0m 33ms/step - accuracy: 0.5625 - loss: 0.8442"
     ]
    },
    {
     "name": "stderr",
     "output_type": "stream",
     "text": [
      "2024-10-25 00:39:04.587279: I tensorflow/core/framework/local_rendezvous.cc:423] Local rendezvous recv item cancelled. Key hash: 8056836469799998605\n"
     ]
    },
    {
     "name": "stdout",
     "output_type": "stream",
     "text": [
      "\u001b[1m39/39\u001b[0m \u001b[32m━━━━━━━━━━━━━━━━━━━━\u001b[0m\u001b[37m\u001b[0m \u001b[1m0s\u001b[0m 9ms/step - accuracy: 0.5625 - loss: 0.8442 - val_accuracy: 0.5926 - val_loss: 0.9280\n",
      "Epoch 17/400\n"
     ]
    },
    {
     "name": "stderr",
     "output_type": "stream",
     "text": [
      "2024-10-25 00:39:04.917496: I tensorflow/core/framework/local_rendezvous.cc:404] Local rendezvous is aborting with status: OUT_OF_RANGE: End of sequence\n",
      "\t [[{{node IteratorGetNext}}]]\n",
      "\t [[IteratorGetNext/_2]]\n",
      "2024-10-25 00:39:04.917545: I tensorflow/core/framework/local_rendezvous.cc:423] Local rendezvous recv item cancelled. Key hash: 8056836469799998605\n",
      "2024-10-25 00:39:04.917567: I tensorflow/core/framework/local_rendezvous.cc:423] Local rendezvous recv item cancelled. Key hash: 16918664414020247758\n"
     ]
    },
    {
     "name": "stdout",
     "output_type": "stream",
     "text": [
      "\u001b[1m39/39\u001b[0m \u001b[32m━━━━━━━━━━━━━━━━━━━━\u001b[0m\u001b[37m\u001b[0m \u001b[1m14s\u001b[0m 352ms/step - accuracy: 0.5320 - loss: 0.9487 - val_accuracy: 0.5278 - val_loss: 0.9811\n",
      "Epoch 18/400\n",
      "\u001b[1m 1/39\u001b[0m \u001b[37m━━━━━━━━━━━━━━━━━━━━\u001b[0m \u001b[1m1s\u001b[0m 44ms/step - accuracy: 0.5625 - loss: 0.9617"
     ]
    },
    {
     "name": "stderr",
     "output_type": "stream",
     "text": [
      "2024-10-25 00:39:18.675937: I tensorflow/core/framework/local_rendezvous.cc:423] Local rendezvous recv item cancelled. Key hash: 8056836469799998605\n"
     ]
    },
    {
     "name": "stdout",
     "output_type": "stream",
     "text": [
      "\u001b[1m39/39\u001b[0m \u001b[32m━━━━━━━━━━━━━━━━━━━━\u001b[0m\u001b[37m\u001b[0m \u001b[1m0s\u001b[0m 6ms/step - accuracy: 0.5625 - loss: 0.9617 - val_accuracy: 0.5185 - val_loss: 0.9933\n",
      "Epoch 19/400\n",
      "\u001b[1m39/39\u001b[0m \u001b[32m━━━━━━━━━━━━━━━━━━━━\u001b[0m\u001b[37m\u001b[0m \u001b[1m14s\u001b[0m 350ms/step - accuracy: 0.5666 - loss: 0.9393 - val_accuracy: 0.5660 - val_loss: 0.9804\n",
      "Epoch 20/400\n",
      "\u001b[1m 1/39\u001b[0m \u001b[37m━━━━━━━━━━━━━━━━━━━━\u001b[0m \u001b[1m1s\u001b[0m 31ms/step - accuracy: 0.5000 - loss: 1.0653"
     ]
    },
    {
     "name": "stderr",
     "output_type": "stream",
     "text": [
      "2024-10-25 00:39:32.591036: I tensorflow/core/framework/local_rendezvous.cc:423] Local rendezvous recv item cancelled. Key hash: 8056836469799998605\n"
     ]
    },
    {
     "name": "stdout",
     "output_type": "stream",
     "text": [
      "\u001b[1m39/39\u001b[0m \u001b[32m━━━━━━━━━━━━━━━━━━━━\u001b[0m\u001b[37m\u001b[0m \u001b[1m0s\u001b[0m 8ms/step - accuracy: 0.5000 - loss: 1.0653 - val_accuracy: 0.5185 - val_loss: 0.9728\n",
      "Epoch 21/400\n",
      "\u001b[1m39/39\u001b[0m \u001b[32m━━━━━━━━━━━━━━━━━━━━\u001b[0m\u001b[37m\u001b[0m \u001b[1m13s\u001b[0m 344ms/step - accuracy: 0.5497 - loss: 0.9636 - val_accuracy: 0.5660 - val_loss: 0.9646\n",
      "Epoch 22/400\n",
      "\u001b[1m39/39\u001b[0m \u001b[32m━━━━━━━━━━━━━━━━━━━━\u001b[0m\u001b[37m\u001b[0m \u001b[1m0s\u001b[0m 8ms/step - accuracy: 0.5000 - loss: 1.1055 - val_accuracy: 0.4074 - val_loss: 1.0946\n",
      "Epoch 23/400\n"
     ]
    },
    {
     "name": "stderr",
     "output_type": "stream",
     "text": [
      "2024-10-25 00:39:46.639247: I tensorflow/core/framework/local_rendezvous.cc:423] Local rendezvous recv item cancelled. Key hash: 8056836469799998605\n",
      "2024-10-25 00:39:46.639375: I tensorflow/core/framework/local_rendezvous.cc:423] Local rendezvous recv item cancelled. Key hash: 16918664414020247758\n"
     ]
    },
    {
     "name": "stdout",
     "output_type": "stream",
     "text": [
      "\u001b[1m39/39\u001b[0m \u001b[32m━━━━━━━━━━━━━━━━━━━━\u001b[0m\u001b[37m\u001b[0m \u001b[1m14s\u001b[0m 347ms/step - accuracy: 0.5549 - loss: 0.9421 - val_accuracy: 0.5417 - val_loss: 0.9575\n",
      "Epoch 24/400\n",
      "\u001b[1m 1/39\u001b[0m \u001b[37m━━━━━━━━━━━━━━━━━━━━\u001b[0m \u001b[1m1s\u001b[0m 31ms/step - accuracy: 0.6875 - loss: 0.8161"
     ]
    },
    {
     "name": "stderr",
     "output_type": "stream",
     "text": [
      "2024-10-25 00:40:00.222348: I tensorflow/core/framework/local_rendezvous.cc:423] Local rendezvous recv item cancelled. Key hash: 8056836469799998605\n"
     ]
    },
    {
     "name": "stdout",
     "output_type": "stream",
     "text": [
      "\u001b[1m39/39\u001b[0m \u001b[32m━━━━━━━━━━━━━━━━━━━━\u001b[0m\u001b[37m\u001b[0m \u001b[1m0s\u001b[0m 6ms/step - accuracy: 0.6875 - loss: 0.8161 - val_accuracy: 0.3333 - val_loss: 1.0451\n",
      "Epoch 25/400\n",
      "\u001b[1m39/39\u001b[0m \u001b[32m━━━━━━━━━━━━━━━━━━━━\u001b[0m\u001b[37m\u001b[0m \u001b[1m13s\u001b[0m 343ms/step - accuracy: 0.5446 - loss: 0.9389 - val_accuracy: 0.5312 - val_loss: 0.9836\n",
      "Epoch 26/400\n",
      "\u001b[1m 1/39\u001b[0m \u001b[37m━━━━━━━━━━━━━━━━━━━━\u001b[0m \u001b[1m1s\u001b[0m 35ms/step - accuracy: 0.6875 - loss: 0.8641"
     ]
    },
    {
     "name": "stderr",
     "output_type": "stream",
     "text": [
      "2024-10-25 00:40:13.904513: I tensorflow/core/framework/local_rendezvous.cc:423] Local rendezvous recv item cancelled. Key hash: 8056836469799998605\n",
      "2024-10-25 00:40:13.904627: I tensorflow/core/framework/local_rendezvous.cc:423] Local rendezvous recv item cancelled. Key hash: 16918664414020247758\n"
     ]
    },
    {
     "name": "stdout",
     "output_type": "stream",
     "text": [
      "\u001b[1m39/39\u001b[0m \u001b[32m━━━━━━━━━━━━━━━━━━━━\u001b[0m\u001b[37m\u001b[0m \u001b[1m0s\u001b[0m 6ms/step - accuracy: 0.6875 - loss: 0.8641 - val_accuracy: 0.6296 - val_loss: 0.8990\n",
      "Epoch 27/400\n"
     ]
    },
    {
     "name": "stderr",
     "output_type": "stream",
     "text": [
      "2024-10-25 00:40:14.131393: I tensorflow/core/framework/local_rendezvous.cc:423] Local rendezvous recv item cancelled. Key hash: 8056836469799998605\n",
      "2024-10-25 00:40:14.131439: I tensorflow/core/framework/local_rendezvous.cc:423] Local rendezvous recv item cancelled. Key hash: 16918664414020247758\n"
     ]
    },
    {
     "name": "stdout",
     "output_type": "stream",
     "text": [
      "\u001b[1m39/39\u001b[0m \u001b[32m━━━━━━━━━━━━━━━━━━━━\u001b[0m\u001b[37m\u001b[0m \u001b[1m14s\u001b[0m 355ms/step - accuracy: 0.5865 - loss: 0.9325 - val_accuracy: 0.5382 - val_loss: 0.9681\n",
      "Epoch 28/400\n",
      "\u001b[1m 1/39\u001b[0m \u001b[37m━━━━━━━━━━━━━━━━━━━━\u001b[0m \u001b[1m1s\u001b[0m 32ms/step - accuracy: 0.4375 - loss: 1.0561"
     ]
    },
    {
     "name": "stderr",
     "output_type": "stream",
     "text": [
      "2024-10-25 00:40:27.989459: I tensorflow/core/framework/local_rendezvous.cc:423] Local rendezvous recv item cancelled. Key hash: 8056836469799998605\n"
     ]
    },
    {
     "name": "stdout",
     "output_type": "stream",
     "text": [
      "\u001b[1m39/39\u001b[0m \u001b[32m━━━━━━━━━━━━━━━━━━━━\u001b[0m\u001b[37m\u001b[0m \u001b[1m0s\u001b[0m 6ms/step - accuracy: 0.4375 - loss: 1.0561 - val_accuracy: 0.5926 - val_loss: 0.8339\n",
      "Epoch 29/400\n",
      "\u001b[1m39/39\u001b[0m \u001b[32m━━━━━━━━━━━━━━━━━━━━\u001b[0m\u001b[37m\u001b[0m \u001b[1m13s\u001b[0m 345ms/step - accuracy: 0.5807 - loss: 0.9103 - val_accuracy: 0.5799 - val_loss: 0.9437\n",
      "Epoch 30/400\n",
      "\u001b[1m 1/39\u001b[0m \u001b[37m━━━━━━━━━━━━━━━━━━━━\u001b[0m \u001b[1m1s\u001b[0m 31ms/step - accuracy: 0.6875 - loss: 0.8065"
     ]
    },
    {
     "name": "stderr",
     "output_type": "stream",
     "text": [
      "2024-10-25 00:40:41.703126: I tensorflow/core/framework/local_rendezvous.cc:423] Local rendezvous recv item cancelled. Key hash: 8056836469799998605\n"
     ]
    },
    {
     "name": "stdout",
     "output_type": "stream",
     "text": [
      "\u001b[1m39/39\u001b[0m \u001b[32m━━━━━━━━━━━━━━━━━━━━\u001b[0m\u001b[37m\u001b[0m \u001b[1m0s\u001b[0m 7ms/step - accuracy: 0.6875 - loss: 0.8065 - val_accuracy: 0.6296 - val_loss: 0.9562\n",
      "Epoch 31/400\n",
      "\u001b[1m39/39\u001b[0m \u001b[32m━━━━━━━━━━━━━━━━━━━━\u001b[0m\u001b[37m\u001b[0m \u001b[1m14s\u001b[0m 350ms/step - accuracy: 0.5937 - loss: 0.9003 - val_accuracy: 0.5556 - val_loss: 0.9340\n",
      "Epoch 32/400\n",
      "\u001b[1m 1/39\u001b[0m \u001b[37m━━━━━━━━━━━━━━━━━━━━\u001b[0m \u001b[1m1s\u001b[0m 33ms/step - accuracy: 0.7188 - loss: 0.8050"
     ]
    },
    {
     "name": "stderr",
     "output_type": "stream",
     "text": [
      "2024-10-25 00:40:55.629194: I tensorflow/core/framework/local_rendezvous.cc:423] Local rendezvous recv item cancelled. Key hash: 8056836469799998605\n",
      "2024-10-25 00:40:55.629266: I tensorflow/core/framework/local_rendezvous.cc:423] Local rendezvous recv item cancelled. Key hash: 16918664414020247758\n"
     ]
    },
    {
     "name": "stdout",
     "output_type": "stream",
     "text": [
      "\u001b[1m39/39\u001b[0m \u001b[32m━━━━━━━━━━━━━━━━━━━━\u001b[0m\u001b[37m\u001b[0m \u001b[1m0s\u001b[0m 6ms/step - accuracy: 0.7188 - loss: 0.8050 - val_accuracy: 0.6667 - val_loss: 0.8983\n",
      "Epoch 33/400\n"
     ]
    },
    {
     "name": "stderr",
     "output_type": "stream",
     "text": [
      "2024-10-25 00:40:55.874920: I tensorflow/core/framework/local_rendezvous.cc:404] Local rendezvous is aborting with status: OUT_OF_RANGE: End of sequence\n",
      "\t [[{{node IteratorGetNext}}]]\n",
      "\t [[IteratorGetNext/_2]]\n",
      "2024-10-25 00:40:55.875036: I tensorflow/core/framework/local_rendezvous.cc:423] Local rendezvous recv item cancelled. Key hash: 8056836469799998605\n",
      "2024-10-25 00:40:55.875105: I tensorflow/core/framework/local_rendezvous.cc:423] Local rendezvous recv item cancelled. Key hash: 16918664414020247758\n"
     ]
    },
    {
     "name": "stdout",
     "output_type": "stream",
     "text": [
      "\u001b[1m39/39\u001b[0m \u001b[32m━━━━━━━━━━━━━━━━━━━━\u001b[0m\u001b[37m\u001b[0m \u001b[1m14s\u001b[0m 353ms/step - accuracy: 0.5936 - loss: 0.8866 - val_accuracy: 0.5868 - val_loss: 0.9479\n",
      "Epoch 34/400\n",
      "\u001b[1m 1/39\u001b[0m \u001b[37m━━━━━━━━━━━━━━━━━━━━\u001b[0m \u001b[1m1s\u001b[0m 31ms/step - accuracy: 0.5312 - loss: 0.9358"
     ]
    },
    {
     "name": "stderr",
     "output_type": "stream",
     "text": [
      "2024-10-25 00:41:09.650614: I tensorflow/core/framework/local_rendezvous.cc:423] Local rendezvous recv item cancelled. Key hash: 8056836469799998605\n"
     ]
    },
    {
     "name": "stdout",
     "output_type": "stream",
     "text": [
      "\u001b[1m39/39\u001b[0m \u001b[32m━━━━━━━━━━━━━━━━━━━━\u001b[0m\u001b[37m\u001b[0m \u001b[1m0s\u001b[0m 7ms/step - accuracy: 0.5312 - loss: 0.9358 - val_accuracy: 0.6296 - val_loss: 0.8010\n",
      "Epoch 35/400\n",
      "\u001b[1m39/39\u001b[0m \u001b[32m━━━━━━━━━━━━━━━━━━━━\u001b[0m\u001b[37m\u001b[0m \u001b[1m13s\u001b[0m 346ms/step - accuracy: 0.5848 - loss: 0.8878 - val_accuracy: 0.5729 - val_loss: 0.9501\n",
      "Epoch 36/400\n",
      "\u001b[1m 1/39\u001b[0m \u001b[37m━━━━━━━━━━━━━━━━━━━━\u001b[0m \u001b[1m1s\u001b[0m 32ms/step - accuracy: 0.5938 - loss: 0.8966"
     ]
    },
    {
     "name": "stderr",
     "output_type": "stream",
     "text": [
      "2024-10-25 00:41:23.436775: I tensorflow/core/framework/local_rendezvous.cc:423] Local rendezvous recv item cancelled. Key hash: 8056836469799998605\n"
     ]
    },
    {
     "name": "stdout",
     "output_type": "stream",
     "text": [
      "\u001b[1m39/39\u001b[0m \u001b[32m━━━━━━━━━━━━━━━━━━━━\u001b[0m\u001b[37m\u001b[0m \u001b[1m0s\u001b[0m 7ms/step - accuracy: 0.5938 - loss: 0.8966 - val_accuracy: 0.5926 - val_loss: 0.8693\n",
      "Epoch 37/400\n"
     ]
    },
    {
     "name": "stderr",
     "output_type": "stream",
     "text": [
      "2024-10-25 00:41:23.715449: I tensorflow/core/framework/local_rendezvous.cc:423] Local rendezvous recv item cancelled. Key hash: 8056836469799998605\n",
      "2024-10-25 00:41:23.715487: I tensorflow/core/framework/local_rendezvous.cc:423] Local rendezvous recv item cancelled. Key hash: 16918664414020247758\n"
     ]
    },
    {
     "name": "stdout",
     "output_type": "stream",
     "text": [
      "\u001b[1m39/39\u001b[0m \u001b[32m━━━━━━━━━━━━━━━━━━━━\u001b[0m\u001b[37m\u001b[0m \u001b[1m14s\u001b[0m 347ms/step - accuracy: 0.5956 - loss: 0.9031 - val_accuracy: 0.5833 - val_loss: 0.9346\n",
      "Epoch 38/400\n",
      "\u001b[1m 1/39\u001b[0m \u001b[37m━━━━━━━━━━━━━━━━━━━━\u001b[0m \u001b[1m1s\u001b[0m 32ms/step - accuracy: 0.6250 - loss: 0.8040"
     ]
    },
    {
     "name": "stderr",
     "output_type": "stream",
     "text": [
      "2024-10-25 00:41:37.260081: I tensorflow/core/framework/local_rendezvous.cc:423] Local rendezvous recv item cancelled. Key hash: 8056836469799998605\n"
     ]
    },
    {
     "name": "stdout",
     "output_type": "stream",
     "text": [
      "\u001b[1m39/39\u001b[0m \u001b[32m━━━━━━━━━━━━━━━━━━━━\u001b[0m\u001b[37m\u001b[0m \u001b[1m0s\u001b[0m 7ms/step - accuracy: 0.6250 - loss: 0.8040 - val_accuracy: 0.4074 - val_loss: 1.0269\n",
      "Epoch 39/400\n"
     ]
    },
    {
     "name": "stderr",
     "output_type": "stream",
     "text": [
      "2024-10-25 00:41:37.518851: I tensorflow/core/framework/local_rendezvous.cc:423] Local rendezvous recv item cancelled. Key hash: 16918664414020247758\n"
     ]
    },
    {
     "name": "stdout",
     "output_type": "stream",
     "text": [
      "\u001b[1m39/39\u001b[0m \u001b[32m━━━━━━━━━━━━━━━━━━━━\u001b[0m\u001b[37m\u001b[0m \u001b[1m14s\u001b[0m 347ms/step - accuracy: 0.5855 - loss: 0.9106 - val_accuracy: 0.5799 - val_loss: 0.9234\n",
      "Epoch 40/400\n",
      "\u001b[1m 1/39\u001b[0m \u001b[37m━━━━━━━━━━━━━━━━━━━━\u001b[0m \u001b[1m1s\u001b[0m 33ms/step - accuracy: 0.6562 - loss: 0.8273"
     ]
    },
    {
     "name": "stderr",
     "output_type": "stream",
     "text": [
      "2024-10-25 00:41:51.089932: I tensorflow/core/framework/local_rendezvous.cc:423] Local rendezvous recv item cancelled. Key hash: 8056836469799998605\n"
     ]
    },
    {
     "name": "stdout",
     "output_type": "stream",
     "text": [
      "\u001b[1m39/39\u001b[0m \u001b[32m━━━━━━━━━━━━━━━━━━━━\u001b[0m\u001b[37m\u001b[0m \u001b[1m0s\u001b[0m 6ms/step - accuracy: 0.6562 - loss: 0.8273 - val_accuracy: 0.6296 - val_loss: 0.9583\n",
      "Epoch 41/400\n"
     ]
    },
    {
     "name": "stderr",
     "output_type": "stream",
     "text": [
      "2024-10-25 00:41:51.333868: I tensorflow/core/framework/local_rendezvous.cc:423] Local rendezvous recv item cancelled. Key hash: 8056836469799998605\n",
      "2024-10-25 00:41:51.333917: I tensorflow/core/framework/local_rendezvous.cc:423] Local rendezvous recv item cancelled. Key hash: 16918664414020247758\n"
     ]
    },
    {
     "name": "stdout",
     "output_type": "stream",
     "text": [
      "\u001b[1m39/39\u001b[0m \u001b[32m━━━━━━━━━━━━━━━━━━━━\u001b[0m\u001b[37m\u001b[0m \u001b[1m14s\u001b[0m 355ms/step - accuracy: 0.5947 - loss: 0.8921 - val_accuracy: 0.5660 - val_loss: 0.9421\n",
      "Epoch 42/400\n",
      "\u001b[1m 1/39\u001b[0m \u001b[37m━━━━━━━━━━━━━━━━━━━━\u001b[0m \u001b[1m1s\u001b[0m 35ms/step - accuracy: 0.5625 - loss: 0.9863"
     ]
    },
    {
     "name": "stderr",
     "output_type": "stream",
     "text": [
      "2024-10-25 00:42:05.220730: I tensorflow/core/framework/local_rendezvous.cc:423] Local rendezvous recv item cancelled. Key hash: 8056836469799998605\n"
     ]
    },
    {
     "name": "stdout",
     "output_type": "stream",
     "text": [
      "\u001b[1m39/39\u001b[0m \u001b[32m━━━━━━━━━━━━━━━━━━━━\u001b[0m\u001b[37m\u001b[0m \u001b[1m0s\u001b[0m 6ms/step - accuracy: 0.5625 - loss: 0.9863 - val_accuracy: 0.6296 - val_loss: 0.8357\n",
      "Epoch 43/400\n"
     ]
    },
    {
     "name": "stderr",
     "output_type": "stream",
     "text": [
      "2024-10-25 00:42:05.461864: I tensorflow/core/framework/local_rendezvous.cc:423] Local rendezvous recv item cancelled. Key hash: 8056836469799998605\n",
      "2024-10-25 00:42:05.461917: I tensorflow/core/framework/local_rendezvous.cc:423] Local rendezvous recv item cancelled. Key hash: 16918664414020247758\n"
     ]
    },
    {
     "name": "stdout",
     "output_type": "stream",
     "text": [
      "\u001b[1m39/39\u001b[0m \u001b[32m━━━━━━━━━━━━━━━━━━━━\u001b[0m\u001b[37m\u001b[0m \u001b[1m13s\u001b[0m 345ms/step - accuracy: 0.5922 - loss: 0.8927 - val_accuracy: 0.5764 - val_loss: 0.9508\n",
      "Epoch 44/400\n",
      "\u001b[1m39/39\u001b[0m \u001b[32m━━━━━━━━━━━━━━━━━━━━\u001b[0m\u001b[37m\u001b[0m \u001b[1m0s\u001b[0m 6ms/step - accuracy: 0.6562 - loss: 0.8828 - val_accuracy: 0.5926 - val_loss: 1.0174\n",
      "Epoch 45/400\n"
     ]
    },
    {
     "name": "stderr",
     "output_type": "stream",
     "text": [
      "2024-10-25 00:42:19.193267: I tensorflow/core/framework/local_rendezvous.cc:423] Local rendezvous recv item cancelled. Key hash: 8056836469799998605\n",
      "2024-10-25 00:42:19.193307: I tensorflow/core/framework/local_rendezvous.cc:423] Local rendezvous recv item cancelled. Key hash: 16918664414020247758\n"
     ]
    },
    {
     "name": "stdout",
     "output_type": "stream",
     "text": [
      "\u001b[1m39/39\u001b[0m \u001b[32m━━━━━━━━━━━━━━━━━━━━\u001b[0m\u001b[37m\u001b[0m \u001b[1m14s\u001b[0m 352ms/step - accuracy: 0.6173 - loss: 0.8660 - val_accuracy: 0.5556 - val_loss: 0.9350\n",
      "Epoch 46/400\n",
      "\u001b[1m39/39\u001b[0m \u001b[32m━━━━━━━━━━━━━━━━━━━━\u001b[0m\u001b[37m\u001b[0m \u001b[1m0s\u001b[0m 7ms/step - accuracy: 0.5312 - loss: 0.9200 - val_accuracy: 0.5556 - val_loss: 0.9227\n",
      "Epoch 47/400\n"
     ]
    },
    {
     "name": "stderr",
     "output_type": "stream",
     "text": [
      "2024-10-25 00:42:33.195619: I tensorflow/core/framework/local_rendezvous.cc:423] Local rendezvous recv item cancelled. Key hash: 8056836469799998605\n",
      "2024-10-25 00:42:33.195659: I tensorflow/core/framework/local_rendezvous.cc:423] Local rendezvous recv item cancelled. Key hash: 16918664414020247758\n"
     ]
    },
    {
     "name": "stdout",
     "output_type": "stream",
     "text": [
      "\u001b[1m39/39\u001b[0m \u001b[32m━━━━━━━━━━━━━━━━━━━━\u001b[0m\u001b[37m\u001b[0m \u001b[1m14s\u001b[0m 352ms/step - accuracy: 0.5701 - loss: 0.8912 - val_accuracy: 0.5660 - val_loss: 0.9299\n",
      "Epoch 48/400\n",
      "\u001b[1m 1/39\u001b[0m \u001b[37m━━━━━━━━━━━━━━━━━━━━\u001b[0m \u001b[1m1s\u001b[0m 32ms/step - accuracy: 0.7188 - loss: 0.8233"
     ]
    },
    {
     "name": "stderr",
     "output_type": "stream",
     "text": [
      "2024-10-25 00:42:46.927415: I tensorflow/core/framework/local_rendezvous.cc:423] Local rendezvous recv item cancelled. Key hash: 8056836469799998605\n",
      "2024-10-25 00:42:46.927460: I tensorflow/core/framework/local_rendezvous.cc:423] Local rendezvous recv item cancelled. Key hash: 16918664414020247758\n"
     ]
    },
    {
     "name": "stdout",
     "output_type": "stream",
     "text": [
      "\u001b[1m39/39\u001b[0m \u001b[32m━━━━━━━━━━━━━━━━━━━━\u001b[0m\u001b[37m\u001b[0m \u001b[1m0s\u001b[0m 6ms/step - accuracy: 0.7188 - loss: 0.8233 - val_accuracy: 0.5556 - val_loss: 0.8851\n",
      "Epoch 49/400\n",
      "\u001b[1m39/39\u001b[0m \u001b[32m━━━━━━━━━━━━━━━━━━━━\u001b[0m\u001b[37m\u001b[0m \u001b[1m14s\u001b[0m 352ms/step - accuracy: 0.6114 - loss: 0.8922 - val_accuracy: 0.5694 - val_loss: 0.9884\n",
      "Epoch 50/400\n",
      "\u001b[1m 1/39\u001b[0m \u001b[37m━━━━━━━━━━━━━━━━━━━━\u001b[0m \u001b[1m1s\u001b[0m 34ms/step - accuracy: 0.6562 - loss: 0.8024"
     ]
    },
    {
     "name": "stderr",
     "output_type": "stream",
     "text": [
      "2024-10-25 00:43:00.907701: I tensorflow/core/framework/local_rendezvous.cc:423] Local rendezvous recv item cancelled. Key hash: 8056836469799998605\n"
     ]
    },
    {
     "name": "stdout",
     "output_type": "stream",
     "text": [
      "\u001b[1m39/39\u001b[0m \u001b[32m━━━━━━━━━━━━━━━━━━━━\u001b[0m\u001b[37m\u001b[0m \u001b[1m0s\u001b[0m 6ms/step - accuracy: 0.6562 - loss: 0.8024 - val_accuracy: 0.5926 - val_loss: 0.8120\n",
      "Epoch 51/400\n"
     ]
    },
    {
     "name": "stderr",
     "output_type": "stream",
     "text": [
      "2024-10-25 00:43:01.157803: I tensorflow/core/framework/local_rendezvous.cc:423] Local rendezvous recv item cancelled. Key hash: 8056836469799998605\n",
      "2024-10-25 00:43:01.157926: I tensorflow/core/framework/local_rendezvous.cc:423] Local rendezvous recv item cancelled. Key hash: 16918664414020247758\n"
     ]
    },
    {
     "name": "stdout",
     "output_type": "stream",
     "text": [
      "\u001b[1m39/39\u001b[0m \u001b[32m━━━━━━━━━━━━━━━━━━━━\u001b[0m\u001b[37m\u001b[0m \u001b[1m14s\u001b[0m 348ms/step - accuracy: 0.6051 - loss: 0.8816 - val_accuracy: 0.5938 - val_loss: 0.9230\n",
      "Epoch 52/400\n",
      "\u001b[1m 1/39\u001b[0m \u001b[37m━━━━━━━━━━━━━━━━━━━━\u001b[0m \u001b[1m1s\u001b[0m 31ms/step - accuracy: 0.6875 - loss: 0.8439"
     ]
    },
    {
     "name": "stderr",
     "output_type": "stream",
     "text": [
      "2024-10-25 00:43:14.768564: I tensorflow/core/framework/local_rendezvous.cc:423] Local rendezvous recv item cancelled. Key hash: 8056836469799998605\n"
     ]
    },
    {
     "name": "stdout",
     "output_type": "stream",
     "text": [
      "\u001b[1m39/39\u001b[0m \u001b[32m━━━━━━━━━━━━━━━━━━━━\u001b[0m\u001b[37m\u001b[0m \u001b[1m0s\u001b[0m 7ms/step - accuracy: 0.6875 - loss: 0.8439 - val_accuracy: 0.5556 - val_loss: 1.0666\n",
      "Epoch 53/400\n"
     ]
    },
    {
     "name": "stderr",
     "output_type": "stream",
     "text": [
      "2024-10-25 00:43:15.043140: I tensorflow/core/framework/local_rendezvous.cc:423] Local rendezvous recv item cancelled. Key hash: 8056836469799998605\n",
      "2024-10-25 00:43:15.043182: I tensorflow/core/framework/local_rendezvous.cc:423] Local rendezvous recv item cancelled. Key hash: 16918664414020247758\n"
     ]
    },
    {
     "name": "stdout",
     "output_type": "stream",
     "text": [
      "\u001b[1m39/39\u001b[0m \u001b[32m━━━━━━━━━━━━━━━━━━━━\u001b[0m\u001b[37m\u001b[0m \u001b[1m13s\u001b[0m 344ms/step - accuracy: 0.6079 - loss: 0.8800 - val_accuracy: 0.5556 - val_loss: 0.9197\n",
      "Epoch 54/400\n",
      "\u001b[1m39/39\u001b[0m \u001b[32m━━━━━━━━━━━━━━━━━━━━\u001b[0m\u001b[37m\u001b[0m \u001b[1m0s\u001b[0m 8ms/step - accuracy: 0.6875 - loss: 0.7754 - val_accuracy: 0.5556 - val_loss: 0.8816\n",
      "Epoch 55/400\n"
     ]
    },
    {
     "name": "stderr",
     "output_type": "stream",
     "text": [
      "2024-10-25 00:43:28.811912: I tensorflow/core/framework/local_rendezvous.cc:423] Local rendezvous recv item cancelled. Key hash: 8056836469799998605\n",
      "2024-10-25 00:43:28.811961: I tensorflow/core/framework/local_rendezvous.cc:423] Local rendezvous recv item cancelled. Key hash: 16918664414020247758\n"
     ]
    },
    {
     "name": "stdout",
     "output_type": "stream",
     "text": [
      "\u001b[1m39/39\u001b[0m \u001b[32m━━━━━━━━━━━━━━━━━━━━\u001b[0m\u001b[37m\u001b[0m \u001b[1m14s\u001b[0m 348ms/step - accuracy: 0.6175 - loss: 0.8453 - val_accuracy: 0.5799 - val_loss: 0.9303\n",
      "Epoch 56/400\n",
      "\u001b[1m 1/39\u001b[0m \u001b[37m━━━━━━━━━━━━━━━━━━━━\u001b[0m \u001b[1m1s\u001b[0m 31ms/step - accuracy: 0.6250 - loss: 0.8611"
     ]
    },
    {
     "name": "stderr",
     "output_type": "stream",
     "text": [
      "2024-10-25 00:43:42.406678: I tensorflow/core/framework/local_rendezvous.cc:423] Local rendezvous recv item cancelled. Key hash: 8056836469799998605\n"
     ]
    },
    {
     "name": "stdout",
     "output_type": "stream",
     "text": [
      "\u001b[1m39/39\u001b[0m \u001b[32m━━━━━━━━━━━━━━━━━━━━\u001b[0m\u001b[37m\u001b[0m \u001b[1m0s\u001b[0m 7ms/step - accuracy: 0.6250 - loss: 0.8611 - val_accuracy: 0.5556 - val_loss: 0.9545\n",
      "Epoch 57/400\n"
     ]
    },
    {
     "name": "stderr",
     "output_type": "stream",
     "text": [
      "2024-10-25 00:43:42.659248: I tensorflow/core/framework/local_rendezvous.cc:423] Local rendezvous recv item cancelled. Key hash: 8056836469799998605\n",
      "2024-10-25 00:43:42.659294: I tensorflow/core/framework/local_rendezvous.cc:423] Local rendezvous recv item cancelled. Key hash: 16918664414020247758\n"
     ]
    },
    {
     "name": "stdout",
     "output_type": "stream",
     "text": [
      "\u001b[1m39/39\u001b[0m \u001b[32m━━━━━━━━━━━━━━━━━━━━\u001b[0m\u001b[37m\u001b[0m \u001b[1m14s\u001b[0m 347ms/step - accuracy: 0.5997 - loss: 0.8490 - val_accuracy: 0.5972 - val_loss: 0.9275\n",
      "Epoch 58/400\n",
      "\u001b[1m 1/39\u001b[0m \u001b[37m━━━━━━━━━━━━━━━━━━━━\u001b[0m \u001b[1m1s\u001b[0m 33ms/step - accuracy: 0.6562 - loss: 0.8493"
     ]
    },
    {
     "name": "stderr",
     "output_type": "stream",
     "text": [
      "2024-10-25 00:43:56.233843: I tensorflow/core/framework/local_rendezvous.cc:423] Local rendezvous recv item cancelled. Key hash: 8056836469799998605\n",
      "2024-10-25 00:43:56.233958: I tensorflow/core/framework/local_rendezvous.cc:423] Local rendezvous recv item cancelled. Key hash: 16918664414020247758\n"
     ]
    },
    {
     "name": "stdout",
     "output_type": "stream",
     "text": [
      "\u001b[1m39/39\u001b[0m \u001b[32m━━━━━━━━━━━━━━━━━━━━\u001b[0m\u001b[37m\u001b[0m \u001b[1m0s\u001b[0m 6ms/step - accuracy: 0.6562 - loss: 0.8493 - val_accuracy: 0.5926 - val_loss: 0.8528\n",
      "Epoch 59/400\n",
      "\u001b[1m39/39\u001b[0m \u001b[32m━━━━━━━━━━━━━━━━━━━━\u001b[0m\u001b[37m\u001b[0m \u001b[1m14s\u001b[0m 346ms/step - accuracy: 0.6348 - loss: 0.8400 - val_accuracy: 0.5417 - val_loss: 0.9399\n",
      "Epoch 60/400\n",
      "\u001b[1m 1/39\u001b[0m \u001b[37m━━━━━━━━━━━━━━━━━━━━\u001b[0m \u001b[1m1s\u001b[0m 32ms/step - accuracy: 0.5938 - loss: 0.9085"
     ]
    },
    {
     "name": "stderr",
     "output_type": "stream",
     "text": [
      "2024-10-25 00:44:10.011272: I tensorflow/core/framework/local_rendezvous.cc:423] Local rendezvous recv item cancelled. Key hash: 8056836469799998605\n",
      "2024-10-25 00:44:10.011328: I tensorflow/core/framework/local_rendezvous.cc:423] Local rendezvous recv item cancelled. Key hash: 16918664414020247758\n"
     ]
    },
    {
     "name": "stdout",
     "output_type": "stream",
     "text": [
      "\u001b[1m39/39\u001b[0m \u001b[32m━━━━━━━━━━━━━━━━━━━━\u001b[0m\u001b[37m\u001b[0m \u001b[1m0s\u001b[0m 6ms/step - accuracy: 0.5938 - loss: 0.9085 - val_accuracy: 0.7037 - val_loss: 0.7675\n",
      "Epoch 61/400\n"
     ]
    },
    {
     "name": "stderr",
     "output_type": "stream",
     "text": [
      "2024-10-25 00:44:10.239428: I tensorflow/core/framework/local_rendezvous.cc:423] Local rendezvous recv item cancelled. Key hash: 8056836469799998605\n",
      "2024-10-25 00:44:10.239489: I tensorflow/core/framework/local_rendezvous.cc:423] Local rendezvous recv item cancelled. Key hash: 16918664414020247758\n"
     ]
    },
    {
     "name": "stdout",
     "output_type": "stream",
     "text": [
      "\u001b[1m39/39\u001b[0m \u001b[32m━━━━━━━━━━━━━━━━━━━━\u001b[0m\u001b[37m\u001b[0m \u001b[1m14s\u001b[0m 349ms/step - accuracy: 0.6512 - loss: 0.8010 - val_accuracy: 0.5868 - val_loss: 0.9037\n",
      "Epoch 62/400\n",
      "\u001b[1m 1/39\u001b[0m \u001b[37m━━━━━━━━━━━━━━━━━━━━\u001b[0m \u001b[1m1s\u001b[0m 32ms/step - accuracy: 0.6250 - loss: 0.8595"
     ]
    },
    {
     "name": "stderr",
     "output_type": "stream",
     "text": [
      "2024-10-25 00:44:23.908030: I tensorflow/core/framework/local_rendezvous.cc:423] Local rendezvous recv item cancelled. Key hash: 8056836469799998605\n"
     ]
    },
    {
     "name": "stdout",
     "output_type": "stream",
     "text": [
      "\u001b[1m39/39\u001b[0m \u001b[32m━━━━━━━━━━━━━━━━━━━━\u001b[0m\u001b[37m\u001b[0m \u001b[1m0s\u001b[0m 6ms/step - accuracy: 0.6250 - loss: 0.8595 - val_accuracy: 0.3704 - val_loss: 1.0889\n",
      "Epoch 63/400\n",
      "\u001b[1m39/39\u001b[0m \u001b[32m━━━━━━━━━━━━━━━━━━━━\u001b[0m\u001b[37m\u001b[0m \u001b[1m14s\u001b[0m 351ms/step - accuracy: 0.6325 - loss: 0.8589 - val_accuracy: 0.5868 - val_loss: 0.8868\n",
      "Epoch 64/400\n",
      "\u001b[1m39/39\u001b[0m \u001b[32m━━━━━━━━━━━━━━━━━━━━\u001b[0m\u001b[37m\u001b[0m \u001b[1m0s\u001b[0m 6ms/step - accuracy: 0.6562 - loss: 0.8600 - val_accuracy: 0.4815 - val_loss: 0.9862\n",
      "Epoch 65/400\n"
     ]
    },
    {
     "name": "stderr",
     "output_type": "stream",
     "text": [
      "2024-10-25 00:44:38.095909: I tensorflow/core/framework/local_rendezvous.cc:404] Local rendezvous is aborting with status: OUT_OF_RANGE: End of sequence\n",
      "\t [[{{node IteratorGetNext}}]]\n",
      "\t [[IteratorGetNext/_2]]\n",
      "2024-10-25 00:44:38.095952: I tensorflow/core/framework/local_rendezvous.cc:423] Local rendezvous recv item cancelled. Key hash: 8056836469799998605\n",
      "2024-10-25 00:44:38.095967: I tensorflow/core/framework/local_rendezvous.cc:423] Local rendezvous recv item cancelled. Key hash: 16918664414020247758\n"
     ]
    },
    {
     "name": "stdout",
     "output_type": "stream",
     "text": [
      "\u001b[1m39/39\u001b[0m \u001b[32m━━━━━━━━━━━━━━━━━━━━\u001b[0m\u001b[37m\u001b[0m \u001b[1m14s\u001b[0m 347ms/step - accuracy: 0.6176 - loss: 0.8478 - val_accuracy: 0.5764 - val_loss: 0.9078\n",
      "Epoch 66/400\n",
      "\u001b[1m39/39\u001b[0m \u001b[32m━━━━━━━━━━━━━━━━━━━━\u001b[0m\u001b[37m\u001b[0m \u001b[1m0s\u001b[0m 7ms/step - accuracy: 0.4375 - loss: 1.0013 - val_accuracy: 0.5926 - val_loss: 0.8361\n",
      "Epoch 67/400\n"
     ]
    },
    {
     "name": "stderr",
     "output_type": "stream",
     "text": [
      "2024-10-25 00:44:51.917669: I tensorflow/core/framework/local_rendezvous.cc:423] Local rendezvous recv item cancelled. Key hash: 8056836469799998605\n",
      "2024-10-25 00:44:51.917718: I tensorflow/core/framework/local_rendezvous.cc:423] Local rendezvous recv item cancelled. Key hash: 16918664414020247758\n"
     ]
    },
    {
     "name": "stdout",
     "output_type": "stream",
     "text": [
      "\u001b[1m39/39\u001b[0m \u001b[32m━━━━━━━━━━━━━━━━━━━━\u001b[0m\u001b[37m\u001b[0m \u001b[1m14s\u001b[0m 347ms/step - accuracy: 0.6328 - loss: 0.8563 - val_accuracy: 0.5625 - val_loss: 0.9235\n",
      "Epoch 68/400\n",
      "\u001b[1m 1/39\u001b[0m \u001b[37m━━━━━━━━━━━━━━━━━━━━\u001b[0m \u001b[1m1s\u001b[0m 37ms/step - accuracy: 0.7188 - loss: 0.7977"
     ]
    },
    {
     "name": "stderr",
     "output_type": "stream",
     "text": [
      "2024-10-25 00:45:05.502981: I tensorflow/core/framework/local_rendezvous.cc:423] Local rendezvous recv item cancelled. Key hash: 8056836469799998605\n",
      "2024-10-25 00:45:05.503046: I tensorflow/core/framework/local_rendezvous.cc:423] Local rendezvous recv item cancelled. Key hash: 16918664414020247758\n"
     ]
    },
    {
     "name": "stdout",
     "output_type": "stream",
     "text": [
      "\u001b[1m39/39\u001b[0m \u001b[32m━━━━━━━━━━━━━━━━━━━━\u001b[0m\u001b[37m\u001b[0m \u001b[1m0s\u001b[0m 6ms/step - accuracy: 0.7188 - loss: 0.7977 - val_accuracy: 0.4815 - val_loss: 1.0062\n",
      "Epoch 69/400\n",
      "\u001b[1m39/39\u001b[0m \u001b[32m━━━━━━━━━━━━━━━━━━━━\u001b[0m\u001b[37m\u001b[0m \u001b[1m14s\u001b[0m 351ms/step - accuracy: 0.6164 - loss: 0.8285 - val_accuracy: 0.5903 - val_loss: 0.9257\n",
      "Epoch 70/400\n",
      "\u001b[1m 1/39\u001b[0m \u001b[37m━━━━━━━━━━━━━━━━━━━━\u001b[0m \u001b[1m1s\u001b[0m 31ms/step - accuracy: 0.6562 - loss: 0.7863"
     ]
    },
    {
     "name": "stderr",
     "output_type": "stream",
     "text": [
      "2024-10-25 00:45:19.467062: I tensorflow/core/framework/local_rendezvous.cc:423] Local rendezvous recv item cancelled. Key hash: 8056836469799998605\n"
     ]
    },
    {
     "name": "stdout",
     "output_type": "stream",
     "text": [
      "\u001b[1m39/39\u001b[0m \u001b[32m━━━━━━━━━━━━━━━━━━━━\u001b[0m\u001b[37m\u001b[0m \u001b[1m0s\u001b[0m 6ms/step - accuracy: 0.6562 - loss: 0.7863 - val_accuracy: 0.5185 - val_loss: 0.9014\n",
      "Epoch 71/400\n",
      "\u001b[1m39/39\u001b[0m \u001b[32m━━━━━━━━━━━━━━━━━━━━\u001b[0m\u001b[37m\u001b[0m \u001b[1m13s\u001b[0m 346ms/step - accuracy: 0.6327 - loss: 0.8203 - val_accuracy: 0.5972 - val_loss: 0.8783\n",
      "Epoch 72/400\n",
      "\u001b[1m 1/39\u001b[0m \u001b[37m━━━━━━━━━━━━━━━━━━━━\u001b[0m \u001b[1m1s\u001b[0m 31ms/step - accuracy: 0.5938 - loss: 0.7909"
     ]
    },
    {
     "name": "stderr",
     "output_type": "stream",
     "text": [
      "2024-10-25 00:45:33.208475: I tensorflow/core/framework/local_rendezvous.cc:423] Local rendezvous recv item cancelled. Key hash: 8056836469799998605\n",
      "2024-10-25 00:45:33.208535: I tensorflow/core/framework/local_rendezvous.cc:423] Local rendezvous recv item cancelled. Key hash: 16918664414020247758\n"
     ]
    },
    {
     "name": "stdout",
     "output_type": "stream",
     "text": [
      "\u001b[1m39/39\u001b[0m \u001b[32m━━━━━━━━━━━━━━━━━━━━\u001b[0m\u001b[37m\u001b[0m \u001b[1m0s\u001b[0m 6ms/step - accuracy: 0.5938 - loss: 0.7909 - val_accuracy: 0.4815 - val_loss: 1.0601\n",
      "Epoch 73/400\n"
     ]
    },
    {
     "name": "stderr",
     "output_type": "stream",
     "text": [
      "2024-10-25 00:45:33.431357: I tensorflow/core/framework/local_rendezvous.cc:423] Local rendezvous recv item cancelled. Key hash: 8056836469799998605\n",
      "2024-10-25 00:45:33.431413: I tensorflow/core/framework/local_rendezvous.cc:423] Local rendezvous recv item cancelled. Key hash: 16918664414020247758\n"
     ]
    },
    {
     "name": "stdout",
     "output_type": "stream",
     "text": [
      "\u001b[1m39/39\u001b[0m \u001b[32m━━━━━━━━━━━━━━━━━━━━\u001b[0m\u001b[37m\u001b[0m \u001b[1m13s\u001b[0m 346ms/step - accuracy: 0.6251 - loss: 0.8347 - val_accuracy: 0.6146 - val_loss: 0.9186\n",
      "Epoch 74/400\n",
      "\u001b[1m 1/39\u001b[0m \u001b[37m━━━━━━━━━━━━━━━━━━━━\u001b[0m \u001b[1m1s\u001b[0m 33ms/step - accuracy: 0.6562 - loss: 0.8216"
     ]
    },
    {
     "name": "stderr",
     "output_type": "stream",
     "text": [
      "2024-10-25 00:45:46.966324: I tensorflow/core/framework/local_rendezvous.cc:423] Local rendezvous recv item cancelled. Key hash: 8056836469799998605\n",
      "2024-10-25 00:45:46.966399: I tensorflow/core/framework/local_rendezvous.cc:423] Local rendezvous recv item cancelled. Key hash: 16918664414020247758\n"
     ]
    },
    {
     "name": "stdout",
     "output_type": "stream",
     "text": [
      "\u001b[1m39/39\u001b[0m \u001b[32m━━━━━━━━━━━━━━━━━━━━\u001b[0m\u001b[37m\u001b[0m \u001b[1m0s\u001b[0m 6ms/step - accuracy: 0.6562 - loss: 0.8216 - val_accuracy: 0.5185 - val_loss: 1.0596\n",
      "Epoch 75/400\n"
     ]
    },
    {
     "name": "stderr",
     "output_type": "stream",
     "text": [
      "2024-10-25 00:45:47.209407: I tensorflow/core/framework/local_rendezvous.cc:423] Local rendezvous recv item cancelled. Key hash: 16918664414020247758\n"
     ]
    },
    {
     "name": "stdout",
     "output_type": "stream",
     "text": [
      "\u001b[1m39/39\u001b[0m \u001b[32m━━━━━━━━━━━━━━━━━━━━\u001b[0m\u001b[37m\u001b[0m \u001b[1m14s\u001b[0m 354ms/step - accuracy: 0.6214 - loss: 0.8293 - val_accuracy: 0.5660 - val_loss: 0.9796\n",
      "Epoch 76/400\n",
      "\u001b[1m 1/39\u001b[0m \u001b[37m━━━━━━━━━━━━━━━━━━━━\u001b[0m \u001b[1m1s\u001b[0m 31ms/step - accuracy: 0.5938 - loss: 0.9530"
     ]
    },
    {
     "name": "stderr",
     "output_type": "stream",
     "text": [
      "2024-10-25 00:46:01.043936: I tensorflow/core/framework/local_rendezvous.cc:423] Local rendezvous recv item cancelled. Key hash: 8056836469799998605\n",
      "2024-10-25 00:46:01.043997: I tensorflow/core/framework/local_rendezvous.cc:423] Local rendezvous recv item cancelled. Key hash: 16918664414020247758\n"
     ]
    },
    {
     "name": "stdout",
     "output_type": "stream",
     "text": [
      "\u001b[1m39/39\u001b[0m \u001b[32m━━━━━━━━━━━━━━━━━━━━\u001b[0m\u001b[37m\u001b[0m \u001b[1m0s\u001b[0m 6ms/step - accuracy: 0.5938 - loss: 0.9530 - val_accuracy: 0.6667 - val_loss: 0.7182\n",
      "Epoch 77/400\n"
     ]
    },
    {
     "name": "stderr",
     "output_type": "stream",
     "text": [
      "2024-10-25 00:46:01.267094: I tensorflow/core/framework/local_rendezvous.cc:423] Local rendezvous recv item cancelled. Key hash: 8056836469799998605\n",
      "2024-10-25 00:46:01.267161: I tensorflow/core/framework/local_rendezvous.cc:423] Local rendezvous recv item cancelled. Key hash: 16918664414020247758\n"
     ]
    },
    {
     "name": "stdout",
     "output_type": "stream",
     "text": [
      "\u001b[1m39/39\u001b[0m \u001b[32m━━━━━━━━━━━━━━━━━━━━\u001b[0m\u001b[37m\u001b[0m \u001b[1m13s\u001b[0m 345ms/step - accuracy: 0.6383 - loss: 0.8287 - val_accuracy: 0.5868 - val_loss: 0.9471\n",
      "Epoch 78/400\n",
      "\u001b[1m 1/39\u001b[0m \u001b[37m━━━━━━━━━━━━━━━━━━━━\u001b[0m \u001b[1m1s\u001b[0m 33ms/step - accuracy: 0.5938 - loss: 0.8137"
     ]
    },
    {
     "name": "stderr",
     "output_type": "stream",
     "text": [
      "2024-10-25 00:46:14.743446: I tensorflow/core/framework/local_rendezvous.cc:423] Local rendezvous recv item cancelled. Key hash: 8056836469799998605\n",
      "2024-10-25 00:46:14.743559: I tensorflow/core/framework/local_rendezvous.cc:423] Local rendezvous recv item cancelled. Key hash: 16918664414020247758\n"
     ]
    },
    {
     "name": "stdout",
     "output_type": "stream",
     "text": [
      "\u001b[1m39/39\u001b[0m \u001b[32m━━━━━━━━━━━━━━━━━━━━\u001b[0m\u001b[37m\u001b[0m \u001b[1m0s\u001b[0m 6ms/step - accuracy: 0.5938 - loss: 0.8137 - val_accuracy: 0.7037 - val_loss: 0.6604\n",
      "Epoch 79/400\n"
     ]
    },
    {
     "name": "stderr",
     "output_type": "stream",
     "text": [
      "2024-10-25 00:46:14.966006: I tensorflow/core/framework/local_rendezvous.cc:423] Local rendezvous recv item cancelled. Key hash: 8056836469799998605\n",
      "2024-10-25 00:46:14.966045: I tensorflow/core/framework/local_rendezvous.cc:423] Local rendezvous recv item cancelled. Key hash: 16918664414020247758\n"
     ]
    },
    {
     "name": "stdout",
     "output_type": "stream",
     "text": [
      "\u001b[1m39/39\u001b[0m \u001b[32m━━━━━━━━━━━━━━━━━━━━\u001b[0m\u001b[37m\u001b[0m \u001b[1m14s\u001b[0m 348ms/step - accuracy: 0.6272 - loss: 0.8443 - val_accuracy: 0.5382 - val_loss: 0.9360\n",
      "Epoch 80/400\n",
      "\u001b[1m 1/39\u001b[0m \u001b[37m━━━━━━━━━━━━━━━━━━━━\u001b[0m \u001b[1m1s\u001b[0m 31ms/step - accuracy: 0.5938 - loss: 0.9721"
     ]
    },
    {
     "name": "stderr",
     "output_type": "stream",
     "text": [
      "2024-10-25 00:46:28.573335: I tensorflow/core/framework/local_rendezvous.cc:423] Local rendezvous recv item cancelled. Key hash: 8056836469799998605\n"
     ]
    },
    {
     "name": "stdout",
     "output_type": "stream",
     "text": [
      "\u001b[1m39/39\u001b[0m \u001b[32m━━━━━━━━━━━━━━━━━━━━\u001b[0m\u001b[37m\u001b[0m \u001b[1m0s\u001b[0m 6ms/step - accuracy: 0.5938 - loss: 0.9721 - val_accuracy: 0.7778 - val_loss: 0.7567\n",
      "Epoch 81/400\n"
     ]
    },
    {
     "name": "stderr",
     "output_type": "stream",
     "text": [
      "2024-10-25 00:46:28.817266: I tensorflow/core/framework/local_rendezvous.cc:423] Local rendezvous recv item cancelled. Key hash: 8056836469799998605\n",
      "2024-10-25 00:46:28.817316: I tensorflow/core/framework/local_rendezvous.cc:423] Local rendezvous recv item cancelled. Key hash: 16918664414020247758\n"
     ]
    },
    {
     "name": "stdout",
     "output_type": "stream",
     "text": [
      "\u001b[1m39/39\u001b[0m \u001b[32m━━━━━━━━━━━━━━━━━━━━\u001b[0m\u001b[37m\u001b[0m \u001b[1m14s\u001b[0m 347ms/step - accuracy: 0.6348 - loss: 0.7966 - val_accuracy: 0.6215 - val_loss: 0.8749\n",
      "Epoch 82/400\n",
      "\u001b[1m 1/39\u001b[0m \u001b[37m━━━━━━━━━━━━━━━━━━━━\u001b[0m \u001b[1m1s\u001b[0m 34ms/step - accuracy: 0.5625 - loss: 0.9851"
     ]
    },
    {
     "name": "stderr",
     "output_type": "stream",
     "text": [
      "2024-10-25 00:46:42.386201: I tensorflow/core/framework/local_rendezvous.cc:423] Local rendezvous recv item cancelled. Key hash: 8056836469799998605\n"
     ]
    },
    {
     "name": "stdout",
     "output_type": "stream",
     "text": [
      "\u001b[1m39/39\u001b[0m \u001b[32m━━━━━━━━━━━━━━━━━━━━\u001b[0m\u001b[37m\u001b[0m \u001b[1m0s\u001b[0m 6ms/step - accuracy: 0.5625 - loss: 0.9851 - val_accuracy: 0.4444 - val_loss: 1.0418\n",
      "Epoch 83/400\n"
     ]
    },
    {
     "name": "stderr",
     "output_type": "stream",
     "text": [
      "2024-10-25 00:46:42.617641: I tensorflow/core/framework/local_rendezvous.cc:423] Local rendezvous recv item cancelled. Key hash: 8056836469799998605\n",
      "2024-10-25 00:46:42.617690: I tensorflow/core/framework/local_rendezvous.cc:423] Local rendezvous recv item cancelled. Key hash: 16918664414020247758\n"
     ]
    },
    {
     "name": "stdout",
     "output_type": "stream",
     "text": [
      "\u001b[1m39/39\u001b[0m \u001b[32m━━━━━━━━━━━━━━━━━━━━\u001b[0m\u001b[37m\u001b[0m \u001b[1m14s\u001b[0m 351ms/step - accuracy: 0.6557 - loss: 0.8008 - val_accuracy: 0.6007 - val_loss: 0.9108\n",
      "Epoch 84/400\n",
      "\u001b[1m 1/39\u001b[0m \u001b[37m━━━━━━━━━━━━━━━━━━━━\u001b[0m \u001b[1m1s\u001b[0m 32ms/step - accuracy: 0.5000 - loss: 0.8669"
     ]
    },
    {
     "name": "stderr",
     "output_type": "stream",
     "text": [
      "2024-10-25 00:46:56.329433: I tensorflow/core/framework/local_rendezvous.cc:423] Local rendezvous recv item cancelled. Key hash: 8056836469799998605\n"
     ]
    },
    {
     "name": "stdout",
     "output_type": "stream",
     "text": [
      "\u001b[1m39/39\u001b[0m \u001b[32m━━━━━━━━━━━━━━━━━━━━\u001b[0m\u001b[37m\u001b[0m \u001b[1m0s\u001b[0m 6ms/step - accuracy: 0.5000 - loss: 0.8669 - val_accuracy: 0.4815 - val_loss: 0.9192\n",
      "Epoch 85/400\n"
     ]
    },
    {
     "name": "stderr",
     "output_type": "stream",
     "text": [
      "2024-10-25 00:46:56.562796: I tensorflow/core/framework/local_rendezvous.cc:423] Local rendezvous recv item cancelled. Key hash: 8056836469799998605\n",
      "2024-10-25 00:46:56.562847: I tensorflow/core/framework/local_rendezvous.cc:423] Local rendezvous recv item cancelled. Key hash: 16918664414020247758\n"
     ]
    },
    {
     "name": "stdout",
     "output_type": "stream",
     "text": [
      "\u001b[1m39/39\u001b[0m \u001b[32m━━━━━━━━━━━━━━━━━━━━\u001b[0m\u001b[37m\u001b[0m \u001b[1m13s\u001b[0m 344ms/step - accuracy: 0.6423 - loss: 0.8024 - val_accuracy: 0.5764 - val_loss: 0.8988\n",
      "Epoch 86/400\n",
      "\u001b[1m 1/39\u001b[0m \u001b[37m━━━━━━━━━━━━━━━━━━━━\u001b[0m \u001b[1m1s\u001b[0m 34ms/step - accuracy: 0.6875 - loss: 0.6993"
     ]
    },
    {
     "name": "stderr",
     "output_type": "stream",
     "text": [
      "2024-10-25 00:47:10.027064: I tensorflow/core/framework/local_rendezvous.cc:423] Local rendezvous recv item cancelled. Key hash: 8056836469799998605\n"
     ]
    },
    {
     "name": "stdout",
     "output_type": "stream",
     "text": [
      "\u001b[1m39/39\u001b[0m \u001b[32m━━━━━━━━━━━━━━━━━━━━\u001b[0m\u001b[37m\u001b[0m \u001b[1m0s\u001b[0m 6ms/step - accuracy: 0.6875 - loss: 0.6993 - val_accuracy: 0.5185 - val_loss: 0.8822\n",
      "Epoch 87/400\n"
     ]
    },
    {
     "name": "stderr",
     "output_type": "stream",
     "text": [
      "2024-10-25 00:47:10.258010: I tensorflow/core/framework/local_rendezvous.cc:423] Local rendezvous recv item cancelled. Key hash: 8056836469799998605\n",
      "2024-10-25 00:47:10.258052: I tensorflow/core/framework/local_rendezvous.cc:423] Local rendezvous recv item cancelled. Key hash: 16918664414020247758\n"
     ]
    },
    {
     "name": "stdout",
     "output_type": "stream",
     "text": [
      "\u001b[1m39/39\u001b[0m \u001b[32m━━━━━━━━━━━━━━━━━━━━\u001b[0m\u001b[37m\u001b[0m \u001b[1m14s\u001b[0m 352ms/step - accuracy: 0.6320 - loss: 0.8091 - val_accuracy: 0.6007 - val_loss: 0.9264\n",
      "Epoch 88/400\n",
      "\u001b[1m39/39\u001b[0m \u001b[32m━━━━━━━━━━━━━━━━━━━━\u001b[0m\u001b[37m\u001b[0m \u001b[1m0s\u001b[0m 8ms/step - accuracy: 0.4706 - loss: 1.0004 - val_accuracy: 0.5926 - val_loss: 0.7846\n",
      "Epoch 89/400\n"
     ]
    },
    {
     "name": "stderr",
     "output_type": "stream",
     "text": [
      "2024-10-25 00:47:24.325585: I tensorflow/core/framework/local_rendezvous.cc:423] Local rendezvous recv item cancelled. Key hash: 8056836469799998605\n",
      "2024-10-25 00:47:24.325720: I tensorflow/core/framework/local_rendezvous.cc:423] Local rendezvous recv item cancelled. Key hash: 16918664414020247758\n"
     ]
    },
    {
     "name": "stdout",
     "output_type": "stream",
     "text": [
      "\u001b[1m39/39\u001b[0m \u001b[32m━━━━━━━━━━━━━━━━━━━━\u001b[0m\u001b[37m\u001b[0m \u001b[1m13s\u001b[0m 346ms/step - accuracy: 0.6299 - loss: 0.8250 - val_accuracy: 0.5833 - val_loss: 0.9248\n",
      "Epoch 90/400\n",
      "\u001b[1m 1/39\u001b[0m \u001b[37m━━━━━━━━━━━━━━━━━━━━\u001b[0m \u001b[1m1s\u001b[0m 33ms/step - accuracy: 0.6562 - loss: 0.8299"
     ]
    },
    {
     "name": "stderr",
     "output_type": "stream",
     "text": [
      "2024-10-25 00:47:37.856880: I tensorflow/core/framework/local_rendezvous.cc:423] Local rendezvous recv item cancelled. Key hash: 8056836469799998605\n"
     ]
    },
    {
     "name": "stdout",
     "output_type": "stream",
     "text": [
      "\u001b[1m39/39\u001b[0m \u001b[32m━━━━━━━━━━━━━━━━━━━━\u001b[0m\u001b[37m\u001b[0m \u001b[1m0s\u001b[0m 6ms/step - accuracy: 0.6562 - loss: 0.8299 - val_accuracy: 0.7407 - val_loss: 0.6584\n",
      "Epoch 91/400\n"
     ]
    },
    {
     "name": "stderr",
     "output_type": "stream",
     "text": [
      "2024-10-25 00:47:38.084078: I tensorflow/core/framework/local_rendezvous.cc:423] Local rendezvous recv item cancelled. Key hash: 8056836469799998605\n",
      "2024-10-25 00:47:38.084119: I tensorflow/core/framework/local_rendezvous.cc:423] Local rendezvous recv item cancelled. Key hash: 16918664414020247758\n"
     ]
    },
    {
     "name": "stdout",
     "output_type": "stream",
     "text": [
      "\u001b[1m39/39\u001b[0m \u001b[32m━━━━━━━━━━━━━━━━━━━━\u001b[0m\u001b[37m\u001b[0m \u001b[1m14s\u001b[0m 352ms/step - accuracy: 0.6188 - loss: 0.8428 - val_accuracy: 0.6181 - val_loss: 0.8739\n",
      "Epoch 92/400\n",
      "\u001b[1m39/39\u001b[0m \u001b[32m━━━━━━━━━━━━━━━━━━━━\u001b[0m\u001b[37m\u001b[0m \u001b[1m0s\u001b[0m 6ms/step - accuracy: 0.7188 - loss: 0.7438 - val_accuracy: 0.5185 - val_loss: 1.0638\n",
      "Epoch 93/400\n"
     ]
    },
    {
     "name": "stderr",
     "output_type": "stream",
     "text": [
      "2024-10-25 00:47:52.095488: I tensorflow/core/framework/local_rendezvous.cc:423] Local rendezvous recv item cancelled. Key hash: 8056836469799998605\n",
      "2024-10-25 00:47:52.095546: I tensorflow/core/framework/local_rendezvous.cc:423] Local rendezvous recv item cancelled. Key hash: 16918664414020247758\n"
     ]
    },
    {
     "name": "stdout",
     "output_type": "stream",
     "text": [
      "\u001b[1m39/39\u001b[0m \u001b[32m━━━━━━━━━━━━━━━━━━━━\u001b[0m\u001b[37m\u001b[0m \u001b[1m14s\u001b[0m 347ms/step - accuracy: 0.6415 - loss: 0.8060 - val_accuracy: 0.5764 - val_loss: 0.9134\n",
      "Epoch 94/400\n",
      "\u001b[1m 1/39\u001b[0m \u001b[37m━━━━━━━━━━━━━━━━━━━━\u001b[0m \u001b[1m1s\u001b[0m 32ms/step - accuracy: 0.6250 - loss: 0.8572"
     ]
    },
    {
     "name": "stderr",
     "output_type": "stream",
     "text": [
      "2024-10-25 00:48:05.663845: I tensorflow/core/framework/local_rendezvous.cc:423] Local rendezvous recv item cancelled. Key hash: 8056836469799998605\n"
     ]
    },
    {
     "name": "stdout",
     "output_type": "stream",
     "text": [
      "\u001b[1m39/39\u001b[0m \u001b[32m━━━━━━━━━━━━━━━━━━━━\u001b[0m\u001b[37m\u001b[0m \u001b[1m0s\u001b[0m 6ms/step - accuracy: 0.6250 - loss: 0.8572 - val_accuracy: 0.7037 - val_loss: 0.6654\n",
      "Epoch 95/400\n",
      "\u001b[1m39/39\u001b[0m \u001b[32m━━━━━━━━━━━━━━━━━━━━\u001b[0m\u001b[37m\u001b[0m \u001b[1m14s\u001b[0m 354ms/step - accuracy: 0.6467 - loss: 0.7716 - val_accuracy: 0.6042 - val_loss: 0.8760\n",
      "Epoch 96/400\n",
      "\u001b[1m39/39\u001b[0m \u001b[32m━━━━━━━━━━━━━━━━━━━━\u001b[0m\u001b[37m\u001b[0m \u001b[1m0s\u001b[0m 8ms/step - accuracy: 0.5938 - loss: 0.7970 - val_accuracy: 0.5185 - val_loss: 0.9106\n",
      "Epoch 97/400\n",
      "\u001b[1m39/39\u001b[0m \u001b[32m━━━━━━━━━━━━━━━━━━━━\u001b[0m\u001b[37m\u001b[0m \u001b[1m14s\u001b[0m 354ms/step - accuracy: 0.6671 - loss: 0.7839 - val_accuracy: 0.5833 - val_loss: 0.8857\n",
      "Epoch 98/400\n",
      "\u001b[1m 1/39\u001b[0m \u001b[37m━━━━━━━━━━━━━━━━━━━━\u001b[0m \u001b[1m1s\u001b[0m 33ms/step - accuracy: 0.5938 - loss: 0.9132"
     ]
    },
    {
     "name": "stderr",
     "output_type": "stream",
     "text": [
      "2024-10-25 00:48:33.873506: I tensorflow/core/framework/local_rendezvous.cc:423] Local rendezvous recv item cancelled. Key hash: 8056836469799998605\n",
      "2024-10-25 00:48:33.873615: I tensorflow/core/framework/local_rendezvous.cc:423] Local rendezvous recv item cancelled. Key hash: 16918664414020247758\n"
     ]
    },
    {
     "name": "stdout",
     "output_type": "stream",
     "text": [
      "\u001b[1m39/39\u001b[0m \u001b[32m━━━━━━━━━━━━━━━━━━━━\u001b[0m\u001b[37m\u001b[0m \u001b[1m0s\u001b[0m 6ms/step - accuracy: 0.5938 - loss: 0.9132 - val_accuracy: 0.5926 - val_loss: 0.8648\n",
      "Epoch 99/400\n"
     ]
    },
    {
     "name": "stderr",
     "output_type": "stream",
     "text": [
      "2024-10-25 00:48:34.109690: I tensorflow/core/framework/local_rendezvous.cc:423] Local rendezvous recv item cancelled. Key hash: 16918664414020247758\n"
     ]
    },
    {
     "name": "stdout",
     "output_type": "stream",
     "text": [
      "\u001b[1m39/39\u001b[0m \u001b[32m━━━━━━━━━━━━━━━━━━━━\u001b[0m\u001b[37m\u001b[0m \u001b[1m14s\u001b[0m 349ms/step - accuracy: 0.6409 - loss: 0.8090 - val_accuracy: 0.6146 - val_loss: 0.8854\n",
      "Epoch 100/400\n",
      "\u001b[1m 1/39\u001b[0m \u001b[37m━━━━━━━━━━━━━━━━━━━━\u001b[0m \u001b[1m1s\u001b[0m 30ms/step - accuracy: 0.6562 - loss: 0.8424"
     ]
    },
    {
     "name": "stderr",
     "output_type": "stream",
     "text": [
      "2024-10-25 00:48:47.752976: I tensorflow/core/framework/local_rendezvous.cc:423] Local rendezvous recv item cancelled. Key hash: 8056836469799998605\n"
     ]
    },
    {
     "name": "stdout",
     "output_type": "stream",
     "text": [
      "\u001b[1m39/39\u001b[0m \u001b[32m━━━━━━━━━━━━━━━━━━━━\u001b[0m\u001b[37m\u001b[0m \u001b[1m0s\u001b[0m 5ms/step - accuracy: 0.6562 - loss: 0.8424 - val_accuracy: 0.4815 - val_loss: 0.9869\n",
      "Epoch 101/400\n"
     ]
    },
    {
     "name": "stderr",
     "output_type": "stream",
     "text": [
      "2024-10-25 00:48:47.964807: I tensorflow/core/framework/local_rendezvous.cc:423] Local rendezvous recv item cancelled. Key hash: 8056836469799998605\n",
      "2024-10-25 00:48:47.964918: I tensorflow/core/framework/local_rendezvous.cc:423] Local rendezvous recv item cancelled. Key hash: 16918664414020247758\n"
     ]
    },
    {
     "name": "stdout",
     "output_type": "stream",
     "text": [
      "\u001b[1m39/39\u001b[0m \u001b[32m━━━━━━━━━━━━━━━━━━━━\u001b[0m\u001b[37m\u001b[0m \u001b[1m14s\u001b[0m 354ms/step - accuracy: 0.6174 - loss: 0.8206 - val_accuracy: 0.5625 - val_loss: 0.9254\n",
      "Epoch 102/400\n",
      "\u001b[1m 1/39\u001b[0m \u001b[37m━━━━━━━━━━━━━━━━━━━━\u001b[0m \u001b[1m1s\u001b[0m 33ms/step - accuracy: 0.5938 - loss: 0.8729"
     ]
    },
    {
     "name": "stderr",
     "output_type": "stream",
     "text": [
      "2024-10-25 00:49:01.777394: I tensorflow/core/framework/local_rendezvous.cc:423] Local rendezvous recv item cancelled. Key hash: 8056836469799998605\n"
     ]
    },
    {
     "name": "stdout",
     "output_type": "stream",
     "text": [
      "\u001b[1m39/39\u001b[0m \u001b[32m━━━━━━━━━━━━━━━━━━━━\u001b[0m\u001b[37m\u001b[0m \u001b[1m0s\u001b[0m 6ms/step - accuracy: 0.5938 - loss: 0.8729 - val_accuracy: 0.6667 - val_loss: 0.8494\n",
      "Epoch 103/400\n"
     ]
    },
    {
     "name": "stderr",
     "output_type": "stream",
     "text": [
      "2024-10-25 00:49:02.000451: I tensorflow/core/framework/local_rendezvous.cc:423] Local rendezvous recv item cancelled. Key hash: 8056836469799998605\n",
      "2024-10-25 00:49:02.000549: I tensorflow/core/framework/local_rendezvous.cc:423] Local rendezvous recv item cancelled. Key hash: 16918664414020247758\n"
     ]
    },
    {
     "name": "stdout",
     "output_type": "stream",
     "text": [
      "\u001b[1m39/39\u001b[0m \u001b[32m━━━━━━━━━━━━━━━━━━━━\u001b[0m\u001b[37m\u001b[0m \u001b[1m14s\u001b[0m 350ms/step - accuracy: 0.6685 - loss: 0.7813 - val_accuracy: 0.5625 - val_loss: 0.9421\n",
      "Epoch 104/400\n",
      "\u001b[1m 1/39\u001b[0m \u001b[37m━━━━━━━━━━━━━━━━━━━━\u001b[0m \u001b[1m1s\u001b[0m 31ms/step - accuracy: 0.6875 - loss: 0.8031"
     ]
    },
    {
     "name": "stderr",
     "output_type": "stream",
     "text": [
      "2024-10-25 00:49:15.678674: I tensorflow/core/framework/local_rendezvous.cc:423] Local rendezvous recv item cancelled. Key hash: 8056836469799998605\n"
     ]
    },
    {
     "name": "stdout",
     "output_type": "stream",
     "text": [
      "\u001b[1m39/39\u001b[0m \u001b[32m━━━━━━━━━━━━━━━━━━━━\u001b[0m\u001b[37m\u001b[0m \u001b[1m0s\u001b[0m 6ms/step - accuracy: 0.6875 - loss: 0.8031 - val_accuracy: 0.5556 - val_loss: 0.9386\n",
      "Epoch 105/400\n",
      "\u001b[1m39/39\u001b[0m \u001b[32m━━━━━━━━━━━━━━━━━━━━\u001b[0m\u001b[37m\u001b[0m \u001b[1m14s\u001b[0m 354ms/step - accuracy: 0.6192 - loss: 0.8255 - val_accuracy: 0.5972 - val_loss: 0.8757\n",
      "Epoch 106/400\n",
      "\u001b[1m 1/39\u001b[0m \u001b[37m━━━━━━━━━━━━━━━━━━━━\u001b[0m \u001b[1m1s\u001b[0m 31ms/step - accuracy: 0.7812 - loss: 0.6983"
     ]
    },
    {
     "name": "stderr",
     "output_type": "stream",
     "text": [
      "2024-10-25 00:49:29.733700: I tensorflow/core/framework/local_rendezvous.cc:423] Local rendezvous recv item cancelled. Key hash: 8056836469799998605\n"
     ]
    },
    {
     "name": "stdout",
     "output_type": "stream",
     "text": [
      "\u001b[1m39/39\u001b[0m \u001b[32m━━━━━━━━━━━━━━━━━━━━\u001b[0m\u001b[37m\u001b[0m \u001b[1m0s\u001b[0m 7ms/step - accuracy: 0.7812 - loss: 0.6983 - val_accuracy: 0.6296 - val_loss: 0.9494\n",
      "Epoch 107/400\n",
      "\u001b[1m39/39\u001b[0m \u001b[32m━━━━━━━━━━━━━━━━━━━━\u001b[0m\u001b[37m\u001b[0m \u001b[1m14s\u001b[0m 356ms/step - accuracy: 0.6219 - loss: 0.8091 - val_accuracy: 0.6181 - val_loss: 0.8895\n",
      "Epoch 108/400\n",
      "\u001b[1m 1/39\u001b[0m \u001b[37m━━━━━━━━━━━━━━━━━━━━\u001b[0m \u001b[1m1s\u001b[0m 33ms/step - accuracy: 0.5938 - loss: 0.8530"
     ]
    },
    {
     "name": "stderr",
     "output_type": "stream",
     "text": [
      "2024-10-25 00:49:43.882027: I tensorflow/core/framework/local_rendezvous.cc:423] Local rendezvous recv item cancelled. Key hash: 8056836469799998605\n",
      "2024-10-25 00:49:43.882093: I tensorflow/core/framework/local_rendezvous.cc:423] Local rendezvous recv item cancelled. Key hash: 16918664414020247758\n"
     ]
    },
    {
     "name": "stdout",
     "output_type": "stream",
     "text": [
      "\u001b[1m39/39\u001b[0m \u001b[32m━━━━━━━━━━━━━━━━━━━━\u001b[0m\u001b[37m\u001b[0m \u001b[1m0s\u001b[0m 6ms/step - accuracy: 0.5938 - loss: 0.8530 - val_accuracy: 0.6667 - val_loss: 0.8874\n",
      "Epoch 109/400\n",
      "\u001b[1m39/39\u001b[0m \u001b[32m━━━━━━━━━━━━━━━━━━━━\u001b[0m\u001b[37m\u001b[0m \u001b[1m13s\u001b[0m 344ms/step - accuracy: 0.6768 - loss: 0.7681 - val_accuracy: 0.5799 - val_loss: 0.8943\n",
      "Epoch 110/400\n",
      "\u001b[1m 1/39\u001b[0m \u001b[37m━━━━━━━━━━━━━━━━━━━━\u001b[0m \u001b[1m1s\u001b[0m 34ms/step - accuracy: 0.5000 - loss: 0.9980"
     ]
    },
    {
     "name": "stderr",
     "output_type": "stream",
     "text": [
      "2024-10-25 00:49:57.582817: I tensorflow/core/framework/local_rendezvous.cc:423] Local rendezvous recv item cancelled. Key hash: 8056836469799998605\n"
     ]
    },
    {
     "name": "stdout",
     "output_type": "stream",
     "text": [
      "\u001b[1m39/39\u001b[0m \u001b[32m━━━━━━━━━━━━━━━━━━━━\u001b[0m\u001b[37m\u001b[0m \u001b[1m0s\u001b[0m 6ms/step - accuracy: 0.5000 - loss: 0.9980 - val_accuracy: 0.7778 - val_loss: 0.6811\n",
      "Epoch 111/400\n"
     ]
    },
    {
     "name": "stderr",
     "output_type": "stream",
     "text": [
      "2024-10-25 00:49:57.802958: I tensorflow/core/framework/local_rendezvous.cc:423] Local rendezvous recv item cancelled. Key hash: 8056836469799998605\n",
      "2024-10-25 00:49:57.802998: I tensorflow/core/framework/local_rendezvous.cc:423] Local rendezvous recv item cancelled. Key hash: 16918664414020247758\n"
     ]
    },
    {
     "name": "stdout",
     "output_type": "stream",
     "text": [
      "\u001b[1m39/39\u001b[0m \u001b[32m━━━━━━━━━━━━━━━━━━━━\u001b[0m\u001b[37m\u001b[0m \u001b[1m13s\u001b[0m 344ms/step - accuracy: 0.6616 - loss: 0.7644 - val_accuracy: 0.5868 - val_loss: 0.9398\n",
      "Epoch 112/400\n",
      "\u001b[1m 1/39\u001b[0m \u001b[37m━━━━━━━━━━━━━━━━━━━━\u001b[0m \u001b[1m1s\u001b[0m 33ms/step - accuracy: 0.7500 - loss: 0.6626"
     ]
    },
    {
     "name": "stderr",
     "output_type": "stream",
     "text": [
      "2024-10-25 00:50:11.257752: I tensorflow/core/framework/local_rendezvous.cc:423] Local rendezvous recv item cancelled. Key hash: 8056836469799998605\n"
     ]
    },
    {
     "name": "stdout",
     "output_type": "stream",
     "text": [
      "\u001b[1m39/39\u001b[0m \u001b[32m━━━━━━━━━━━━━━━━━━━━\u001b[0m\u001b[37m\u001b[0m \u001b[1m0s\u001b[0m 6ms/step - accuracy: 0.7500 - loss: 0.6626 - val_accuracy: 0.7037 - val_loss: 0.9360\n",
      "Epoch 113/400\n"
     ]
    },
    {
     "name": "stderr",
     "output_type": "stream",
     "text": [
      "2024-10-25 00:50:11.507028: I tensorflow/core/framework/local_rendezvous.cc:423] Local rendezvous recv item cancelled. Key hash: 8056836469799998605\n",
      "2024-10-25 00:50:11.507070: I tensorflow/core/framework/local_rendezvous.cc:423] Local rendezvous recv item cancelled. Key hash: 16918664414020247758\n"
     ]
    },
    {
     "name": "stdout",
     "output_type": "stream",
     "text": [
      "\u001b[1m39/39\u001b[0m \u001b[32m━━━━━━━━━━━━━━━━━━━━\u001b[0m\u001b[37m\u001b[0m \u001b[1m13s\u001b[0m 346ms/step - accuracy: 0.6433 - loss: 0.8111 - val_accuracy: 0.5938 - val_loss: 0.8785\n",
      "Epoch 114/400\n",
      "\u001b[1m39/39\u001b[0m \u001b[32m━━━━━━━━━━━━━━━━━━━━\u001b[0m\u001b[37m\u001b[0m \u001b[1m0s\u001b[0m 7ms/step - accuracy: 0.7188 - loss: 0.6147 - val_accuracy: 0.4074 - val_loss: 1.0607\n",
      "Epoch 115/400\n"
     ]
    },
    {
     "name": "stderr",
     "output_type": "stream",
     "text": [
      "2024-10-25 00:50:25.270592: I tensorflow/core/framework/local_rendezvous.cc:423] Local rendezvous recv item cancelled. Key hash: 8056836469799998605\n",
      "2024-10-25 00:50:25.270656: I tensorflow/core/framework/local_rendezvous.cc:423] Local rendezvous recv item cancelled. Key hash: 16918664414020247758\n"
     ]
    },
    {
     "name": "stdout",
     "output_type": "stream",
     "text": [
      "\u001b[1m39/39\u001b[0m \u001b[32m━━━━━━━━━━━━━━━━━━━━\u001b[0m\u001b[37m\u001b[0m \u001b[1m13s\u001b[0m 346ms/step - accuracy: 0.6765 - loss: 0.7650 - val_accuracy: 0.5694 - val_loss: 0.8809\n",
      "Epoch 116/400\n",
      "\u001b[1m 1/39\u001b[0m \u001b[37m━━━━━━━━━━━━━━━━━━━━\u001b[0m \u001b[1m1s\u001b[0m 34ms/step - accuracy: 0.6562 - loss: 0.7339"
     ]
    },
    {
     "name": "stderr",
     "output_type": "stream",
     "text": [
      "2024-10-25 00:50:38.797593: I tensorflow/core/framework/local_rendezvous.cc:423] Local rendezvous recv item cancelled. Key hash: 8056836469799998605\n"
     ]
    },
    {
     "name": "stdout",
     "output_type": "stream",
     "text": [
      "\u001b[1m39/39\u001b[0m \u001b[32m━━━━━━━━━━━━━━━━━━━━\u001b[0m\u001b[37m\u001b[0m \u001b[1m0s\u001b[0m 10ms/step - accuracy: 0.6562 - loss: 0.7339 - val_accuracy: 0.5556 - val_loss: 1.1079\n",
      "Epoch 117/400\n"
     ]
    },
    {
     "name": "stderr",
     "output_type": "stream",
     "text": [
      "2024-10-25 00:50:39.167637: I tensorflow/core/framework/local_rendezvous.cc:423] Local rendezvous recv item cancelled. Key hash: 8056836469799998605\n",
      "2024-10-25 00:50:39.167680: I tensorflow/core/framework/local_rendezvous.cc:423] Local rendezvous recv item cancelled. Key hash: 16918664414020247758\n"
     ]
    },
    {
     "name": "stdout",
     "output_type": "stream",
     "text": [
      "\u001b[1m39/39\u001b[0m \u001b[32m━━━━━━━━━━━━━━━━━━━━\u001b[0m\u001b[37m\u001b[0m \u001b[1m14s\u001b[0m 347ms/step - accuracy: 0.6881 - loss: 0.7602 - val_accuracy: 0.5868 - val_loss: 0.8752\n",
      "Epoch 118/400\n",
      "\u001b[1m 1/39\u001b[0m \u001b[37m━━━━━━━━━━━━━━━━━━━━\u001b[0m \u001b[1m1s\u001b[0m 31ms/step - accuracy: 0.6562 - loss: 0.7200"
     ]
    },
    {
     "name": "stderr",
     "output_type": "stream",
     "text": [
      "2024-10-25 00:50:52.735856: I tensorflow/core/framework/local_rendezvous.cc:423] Local rendezvous recv item cancelled. Key hash: 8056836469799998605\n"
     ]
    },
    {
     "name": "stdout",
     "output_type": "stream",
     "text": [
      "\u001b[1m39/39\u001b[0m \u001b[32m━━━━━━━━━━━━━━━━━━━━\u001b[0m\u001b[37m\u001b[0m \u001b[1m0s\u001b[0m 6ms/step - accuracy: 0.6562 - loss: 0.7200 - val_accuracy: 0.7037 - val_loss: 0.7913\n",
      "Epoch 119/400\n"
     ]
    },
    {
     "name": "stderr",
     "output_type": "stream",
     "text": [
      "2024-10-25 00:50:52.973959: I tensorflow/core/framework/local_rendezvous.cc:423] Local rendezvous recv item cancelled. Key hash: 8056836469799998605\n",
      "2024-10-25 00:50:52.974002: I tensorflow/core/framework/local_rendezvous.cc:423] Local rendezvous recv item cancelled. Key hash: 16918664414020247758\n"
     ]
    },
    {
     "name": "stdout",
     "output_type": "stream",
     "text": [
      "\u001b[1m39/39\u001b[0m \u001b[32m━━━━━━━━━━━━━━━━━━━━\u001b[0m\u001b[37m\u001b[0m \u001b[1m14s\u001b[0m 357ms/step - accuracy: 0.6651 - loss: 0.7565 - val_accuracy: 0.6146 - val_loss: 0.9064\n",
      "Epoch 120/400\n",
      "\u001b[1m39/39\u001b[0m \u001b[32m━━━━━━━━━━━━━━━━━━━━\u001b[0m\u001b[37m\u001b[0m \u001b[1m0s\u001b[0m 7ms/step - accuracy: 0.5312 - loss: 0.8312 - val_accuracy: 0.6296 - val_loss: 0.8837\n",
      "Epoch 121/400\n",
      "\u001b[1m39/39\u001b[0m \u001b[32m━━━━━━━━━━━━━━━━━━━━\u001b[0m\u001b[37m\u001b[0m \u001b[1m14s\u001b[0m 354ms/step - accuracy: 0.6439 - loss: 0.8107 - val_accuracy: 0.5868 - val_loss: 0.8861\n",
      "Epoch 122/400\n",
      "\u001b[1m39/39\u001b[0m \u001b[32m━━━━━━━━━━━━━━━━━━━━\u001b[0m\u001b[37m\u001b[0m \u001b[1m0s\u001b[0m 6ms/step - accuracy: 0.7188 - loss: 0.6849 - val_accuracy: 0.5556 - val_loss: 0.8837\n",
      "Epoch 123/400\n"
     ]
    },
    {
     "name": "stderr",
     "output_type": "stream",
     "text": [
      "2024-10-25 00:51:21.266869: I tensorflow/core/framework/local_rendezvous.cc:423] Local rendezvous recv item cancelled. Key hash: 8056836469799998605\n",
      "2024-10-25 00:51:21.266923: I tensorflow/core/framework/local_rendezvous.cc:423] Local rendezvous recv item cancelled. Key hash: 16918664414020247758\n"
     ]
    },
    {
     "name": "stdout",
     "output_type": "stream",
     "text": [
      "\u001b[1m39/39\u001b[0m \u001b[32m━━━━━━━━━━━━━━━━━━━━\u001b[0m\u001b[37m\u001b[0m \u001b[1m14s\u001b[0m 351ms/step - accuracy: 0.6594 - loss: 0.7706 - val_accuracy: 0.5972 - val_loss: 0.9386\n",
      "Epoch 124/400\n",
      "\u001b[1m 1/39\u001b[0m \u001b[37m━━━━━━━━━━━━━━━━━━━━\u001b[0m \u001b[1m1s\u001b[0m 34ms/step - accuracy: 0.7812 - loss: 0.6751"
     ]
    },
    {
     "name": "stderr",
     "output_type": "stream",
     "text": [
      "2024-10-25 00:51:34.981772: I tensorflow/core/framework/local_rendezvous.cc:423] Local rendezvous recv item cancelled. Key hash: 8056836469799998605\n"
     ]
    },
    {
     "name": "stdout",
     "output_type": "stream",
     "text": [
      "\u001b[1m39/39\u001b[0m \u001b[32m━━━━━━━━━━━━━━━━━━━━\u001b[0m\u001b[37m\u001b[0m \u001b[1m0s\u001b[0m 6ms/step - accuracy: 0.7812 - loss: 0.6751 - val_accuracy: 0.5926 - val_loss: 0.9098\n",
      "Epoch 125/400\n"
     ]
    },
    {
     "name": "stderr",
     "output_type": "stream",
     "text": [
      "2024-10-25 00:51:35.230506: I tensorflow/core/framework/local_rendezvous.cc:423] Local rendezvous recv item cancelled. Key hash: 16918664414020247758\n"
     ]
    },
    {
     "name": "stdout",
     "output_type": "stream",
     "text": [
      "\u001b[1m39/39\u001b[0m \u001b[32m━━━━━━━━━━━━━━━━━━━━\u001b[0m\u001b[37m\u001b[0m \u001b[1m14s\u001b[0m 352ms/step - accuracy: 0.6692 - loss: 0.7614 - val_accuracy: 0.5764 - val_loss: 0.9320\n",
      "Epoch 126/400\n",
      "\u001b[1m 1/39\u001b[0m \u001b[37m━━━━━━━━━━━━━━━━━━━━\u001b[0m \u001b[1m1s\u001b[0m 31ms/step - accuracy: 0.7500 - loss: 0.7828"
     ]
    },
    {
     "name": "stderr",
     "output_type": "stream",
     "text": [
      "2024-10-25 00:51:48.992067: I tensorflow/core/framework/local_rendezvous.cc:423] Local rendezvous recv item cancelled. Key hash: 8056836469799998605\n"
     ]
    },
    {
     "name": "stdout",
     "output_type": "stream",
     "text": [
      "\u001b[1m39/39\u001b[0m \u001b[32m━━━━━━━━━━━━━━━━━━━━\u001b[0m\u001b[37m\u001b[0m \u001b[1m0s\u001b[0m 5ms/step - accuracy: 0.7500 - loss: 0.7828 - val_accuracy: 0.5926 - val_loss: 1.0770\n",
      "Epoch 127/400\n",
      "\u001b[1m39/39\u001b[0m \u001b[32m━━━━━━━━━━━━━━━━━━━━\u001b[0m\u001b[37m\u001b[0m \u001b[1m14s\u001b[0m 356ms/step - accuracy: 0.6549 - loss: 0.7888 - val_accuracy: 0.6146 - val_loss: 0.9146\n",
      "Epoch 128/400\n",
      "\u001b[1m 1/39\u001b[0m \u001b[37m━━━━━━━━━━━━━━━━━━━━\u001b[0m \u001b[1m1s\u001b[0m 31ms/step - accuracy: 0.5000 - loss: 1.0801"
     ]
    },
    {
     "name": "stderr",
     "output_type": "stream",
     "text": [
      "2024-10-25 00:52:03.117235: I tensorflow/core/framework/local_rendezvous.cc:423] Local rendezvous recv item cancelled. Key hash: 8056836469799998605\n"
     ]
    },
    {
     "name": "stdout",
     "output_type": "stream",
     "text": [
      "\u001b[1m39/39\u001b[0m \u001b[32m━━━━━━━━━━━━━━━━━━━━\u001b[0m\u001b[37m\u001b[0m \u001b[1m0s\u001b[0m 6ms/step - accuracy: 0.5000 - loss: 1.0801 - val_accuracy: 0.5556 - val_loss: 0.8667\n",
      "Epoch 129/400\n"
     ]
    },
    {
     "name": "stderr",
     "output_type": "stream",
     "text": [
      "2024-10-25 00:52:03.361677: I tensorflow/core/framework/local_rendezvous.cc:404] Local rendezvous is aborting with status: OUT_OF_RANGE: End of sequence\n",
      "\t [[{{node IteratorGetNext}}]]\n",
      "\t [[IteratorGetNext/_2]]\n",
      "2024-10-25 00:52:03.361720: I tensorflow/core/framework/local_rendezvous.cc:423] Local rendezvous recv item cancelled. Key hash: 8056836469799998605\n",
      "2024-10-25 00:52:03.361738: I tensorflow/core/framework/local_rendezvous.cc:423] Local rendezvous recv item cancelled. Key hash: 16918664414020247758\n"
     ]
    },
    {
     "name": "stdout",
     "output_type": "stream",
     "text": [
      "\u001b[1m39/39\u001b[0m \u001b[32m━━━━━━━━━━━━━━━━━━━━\u001b[0m\u001b[37m\u001b[0m \u001b[1m14s\u001b[0m 359ms/step - accuracy: 0.6970 - loss: 0.7415 - val_accuracy: 0.6042 - val_loss: 0.8814\n",
      "Epoch 130/400\n",
      "\u001b[1m 1/39\u001b[0m \u001b[37m━━━━━━━━━━━━━━━━━━━━\u001b[0m \u001b[1m0s\u001b[0m 21ms/step - accuracy: 0.6471 - loss: 0.7906"
     ]
    },
    {
     "name": "stderr",
     "output_type": "stream",
     "text": [
      "2024-10-25 00:52:17.387308: I tensorflow/core/framework/local_rendezvous.cc:423] Local rendezvous recv item cancelled. Key hash: 8056836469799998605\n"
     ]
    },
    {
     "name": "stdout",
     "output_type": "stream",
     "text": [
      "\u001b[1m39/39\u001b[0m \u001b[32m━━━━━━━━━━━━━━━━━━━━\u001b[0m\u001b[37m\u001b[0m \u001b[1m0s\u001b[0m 7ms/step - accuracy: 0.6471 - loss: 0.7906 - val_accuracy: 0.5556 - val_loss: 0.9503\n",
      "Epoch 131/400\n",
      "\u001b[1m39/39\u001b[0m \u001b[32m━━━━━━━━━━━━━━━━━━━━\u001b[0m\u001b[37m\u001b[0m \u001b[1m13s\u001b[0m 346ms/step - accuracy: 0.6824 - loss: 0.7666 - val_accuracy: 0.6076 - val_loss: 0.8966\n",
      "Epoch 132/400\n",
      "\u001b[1m 1/39\u001b[0m \u001b[37m━━━━━━━━━━━━━━━━━━━━\u001b[0m \u001b[1m1s\u001b[0m 33ms/step - accuracy: 0.6250 - loss: 0.8577"
     ]
    },
    {
     "name": "stderr",
     "output_type": "stream",
     "text": [
      "2024-10-25 00:52:31.166209: I tensorflow/core/framework/local_rendezvous.cc:423] Local rendezvous recv item cancelled. Key hash: 8056836469799998605\n"
     ]
    },
    {
     "name": "stdout",
     "output_type": "stream",
     "text": [
      "\u001b[1m39/39\u001b[0m \u001b[32m━━━━━━━━━━━━━━━━━━━━\u001b[0m\u001b[37m\u001b[0m \u001b[1m0s\u001b[0m 7ms/step - accuracy: 0.6250 - loss: 0.8577 - val_accuracy: 0.7407 - val_loss: 0.7234\n",
      "Epoch 133/400\n"
     ]
    },
    {
     "name": "stderr",
     "output_type": "stream",
     "text": [
      "2024-10-25 00:52:31.420247: I tensorflow/core/framework/local_rendezvous.cc:423] Local rendezvous recv item cancelled. Key hash: 8056836469799998605\n",
      "2024-10-25 00:52:31.420298: I tensorflow/core/framework/local_rendezvous.cc:423] Local rendezvous recv item cancelled. Key hash: 16918664414020247758\n"
     ]
    },
    {
     "name": "stdout",
     "output_type": "stream",
     "text": [
      "\u001b[1m39/39\u001b[0m \u001b[32m━━━━━━━━━━━━━━━━━━━━\u001b[0m\u001b[37m\u001b[0m \u001b[1m14s\u001b[0m 347ms/step - accuracy: 0.6709 - loss: 0.7772 - val_accuracy: 0.5868 - val_loss: 0.8909\n",
      "Epoch 134/400\n",
      "\u001b[1m 1/39\u001b[0m \u001b[37m━━━━━━━━━━━━━━━━━━━━\u001b[0m \u001b[1m1s\u001b[0m 33ms/step - accuracy: 0.7812 - loss: 0.6647"
     ]
    },
    {
     "name": "stderr",
     "output_type": "stream",
     "text": [
      "2024-10-25 00:52:44.989972: I tensorflow/core/framework/local_rendezvous.cc:423] Local rendezvous recv item cancelled. Key hash: 8056836469799998605\n",
      "2024-10-25 00:52:44.990100: I tensorflow/core/framework/local_rendezvous.cc:423] Local rendezvous recv item cancelled. Key hash: 16918664414020247758\n"
     ]
    },
    {
     "name": "stdout",
     "output_type": "stream",
     "text": [
      "\u001b[1m39/39\u001b[0m \u001b[32m━━━━━━━━━━━━━━━━━━━━\u001b[0m\u001b[37m\u001b[0m \u001b[1m0s\u001b[0m 5ms/step - accuracy: 0.7812 - loss: 0.6647 - val_accuracy: 0.4074 - val_loss: 1.1093\n",
      "Epoch 135/400\n"
     ]
    },
    {
     "name": "stderr",
     "output_type": "stream",
     "text": [
      "2024-10-25 00:52:45.196102: I tensorflow/core/framework/local_rendezvous.cc:423] Local rendezvous recv item cancelled. Key hash: 8056836469799998605\n",
      "2024-10-25 00:52:45.196153: I tensorflow/core/framework/local_rendezvous.cc:423] Local rendezvous recv item cancelled. Key hash: 16918664414020247758\n"
     ]
    },
    {
     "name": "stdout",
     "output_type": "stream",
     "text": [
      "\u001b[1m39/39\u001b[0m \u001b[32m━━━━━━━━━━━━━━━━━━━━\u001b[0m\u001b[37m\u001b[0m \u001b[1m13s\u001b[0m 345ms/step - accuracy: 0.6528 - loss: 0.7692 - val_accuracy: 0.5694 - val_loss: 0.9027\n",
      "Epoch 136/400\n",
      "\u001b[1m 1/39\u001b[0m \u001b[37m━━━━━━━━━━━━━━━━━━━━\u001b[0m \u001b[1m1s\u001b[0m 31ms/step - accuracy: 0.6562 - loss: 0.7804"
     ]
    },
    {
     "name": "stderr",
     "output_type": "stream",
     "text": [
      "2024-10-25 00:52:58.662569: I tensorflow/core/framework/local_rendezvous.cc:423] Local rendezvous recv item cancelled. Key hash: 8056836469799998605\n"
     ]
    },
    {
     "name": "stdout",
     "output_type": "stream",
     "text": [
      "\u001b[1m39/39\u001b[0m \u001b[32m━━━━━━━━━━━━━━━━━━━━\u001b[0m\u001b[37m\u001b[0m \u001b[1m0s\u001b[0m 6ms/step - accuracy: 0.6562 - loss: 0.7804 - val_accuracy: 0.5926 - val_loss: 0.9224\n",
      "Epoch 137/400\n"
     ]
    },
    {
     "name": "stderr",
     "output_type": "stream",
     "text": [
      "2024-10-25 00:52:58.887765: I tensorflow/core/framework/local_rendezvous.cc:423] Local rendezvous recv item cancelled. Key hash: 8056836469799998605\n",
      "2024-10-25 00:52:58.887823: I tensorflow/core/framework/local_rendezvous.cc:423] Local rendezvous recv item cancelled. Key hash: 16918664414020247758\n"
     ]
    },
    {
     "name": "stdout",
     "output_type": "stream",
     "text": [
      "\u001b[1m39/39\u001b[0m \u001b[32m━━━━━━━━━━━━━━━━━━━━\u001b[0m\u001b[37m\u001b[0m \u001b[1m14s\u001b[0m 348ms/step - accuracy: 0.6788 - loss: 0.7732 - val_accuracy: 0.6493 - val_loss: 0.8331\n",
      "Epoch 138/400\n",
      "\u001b[1m 1/39\u001b[0m \u001b[37m━━━━━━━━━━━━━━━━━━━━\u001b[0m \u001b[1m1s\u001b[0m 34ms/step - accuracy: 0.6875 - loss: 0.6708"
     ]
    },
    {
     "name": "stderr",
     "output_type": "stream",
     "text": [
      "2024-10-25 00:53:12.528343: I tensorflow/core/framework/local_rendezvous.cc:423] Local rendezvous recv item cancelled. Key hash: 8056836469799998605\n"
     ]
    },
    {
     "name": "stdout",
     "output_type": "stream",
     "text": [
      "\u001b[1m39/39\u001b[0m \u001b[32m━━━━━━━━━━━━━━━━━━━━\u001b[0m\u001b[37m\u001b[0m \u001b[1m0s\u001b[0m 6ms/step - accuracy: 0.6875 - loss: 0.6708 - val_accuracy: 0.5185 - val_loss: 1.0379\n",
      "Epoch 139/400\n"
     ]
    },
    {
     "name": "stderr",
     "output_type": "stream",
     "text": [
      "2024-10-25 00:53:12.769864: I tensorflow/core/framework/local_rendezvous.cc:423] Local rendezvous recv item cancelled. Key hash: 8056836469799998605\n",
      "2024-10-25 00:53:12.769990: I tensorflow/core/framework/local_rendezvous.cc:423] Local rendezvous recv item cancelled. Key hash: 16918664414020247758\n"
     ]
    },
    {
     "name": "stdout",
     "output_type": "stream",
     "text": [
      "\u001b[1m39/39\u001b[0m \u001b[32m━━━━━━━━━━━━━━━━━━━━\u001b[0m\u001b[37m\u001b[0m \u001b[1m14s\u001b[0m 348ms/step - accuracy: 0.6592 - loss: 0.7436 - val_accuracy: 0.6181 - val_loss: 0.8637\n",
      "Epoch 140/400\n",
      "\u001b[1m39/39\u001b[0m \u001b[32m━━━━━━━━━━━━━━━━━━━━\u001b[0m\u001b[37m\u001b[0m \u001b[1m0s\u001b[0m 6ms/step - accuracy: 0.7188 - loss: 0.7262 - val_accuracy: 0.6667 - val_loss: 0.8517\n",
      "Epoch 141/400\n"
     ]
    },
    {
     "name": "stderr",
     "output_type": "stream",
     "text": [
      "2024-10-25 00:53:26.569953: I tensorflow/core/framework/local_rendezvous.cc:423] Local rendezvous recv item cancelled. Key hash: 8056836469799998605\n",
      "2024-10-25 00:53:26.569993: I tensorflow/core/framework/local_rendezvous.cc:423] Local rendezvous recv item cancelled. Key hash: 16918664414020247758\n"
     ]
    },
    {
     "name": "stdout",
     "output_type": "stream",
     "text": [
      "\u001b[1m39/39\u001b[0m \u001b[32m━━━━━━━━━━━━━━━━━━━━\u001b[0m\u001b[37m\u001b[0m \u001b[1m14s\u001b[0m 351ms/step - accuracy: 0.6676 - loss: 0.7513 - val_accuracy: 0.6042 - val_loss: 0.8811\n",
      "Epoch 142/400\n",
      "\u001b[1m 1/39\u001b[0m \u001b[37m━━━━━━━━━━━━━━━━━━━━\u001b[0m \u001b[1m1s\u001b[0m 30ms/step - accuracy: 0.6562 - loss: 0.6936"
     ]
    },
    {
     "name": "stderr",
     "output_type": "stream",
     "text": [
      "2024-10-25 00:53:40.287520: I tensorflow/core/framework/local_rendezvous.cc:423] Local rendezvous recv item cancelled. Key hash: 8056836469799998605\n"
     ]
    },
    {
     "name": "stdout",
     "output_type": "stream",
     "text": [
      "\u001b[1m39/39\u001b[0m \u001b[32m━━━━━━━━━━━━━━━━━━━━\u001b[0m\u001b[37m\u001b[0m \u001b[1m0s\u001b[0m 6ms/step - accuracy: 0.6562 - loss: 0.6936 - val_accuracy: 0.5926 - val_loss: 1.0153\n",
      "Epoch 143/400\n"
     ]
    },
    {
     "name": "stderr",
     "output_type": "stream",
     "text": [
      "2024-10-25 00:53:40.513052: I tensorflow/core/framework/local_rendezvous.cc:423] Local rendezvous recv item cancelled. Key hash: 8056836469799998605\n",
      "2024-10-25 00:53:40.513098: I tensorflow/core/framework/local_rendezvous.cc:423] Local rendezvous recv item cancelled. Key hash: 16918664414020247758\n"
     ]
    },
    {
     "name": "stdout",
     "output_type": "stream",
     "text": [
      "\u001b[1m39/39\u001b[0m \u001b[32m━━━━━━━━━━━━━━━━━━━━\u001b[0m\u001b[37m\u001b[0m \u001b[1m14s\u001b[0m 347ms/step - accuracy: 0.6800 - loss: 0.7413 - val_accuracy: 0.6111 - val_loss: 0.8793\n",
      "Epoch 144/400\n",
      "\u001b[1m 1/39\u001b[0m \u001b[37m━━━━━━━━━━━━━━━━━━━━\u001b[0m \u001b[1m1s\u001b[0m 30ms/step - accuracy: 0.5312 - loss: 0.9692"
     ]
    },
    {
     "name": "stderr",
     "output_type": "stream",
     "text": [
      "2024-10-25 00:53:54.086889: I tensorflow/core/framework/local_rendezvous.cc:423] Local rendezvous recv item cancelled. Key hash: 8056836469799998605\n"
     ]
    },
    {
     "name": "stdout",
     "output_type": "stream",
     "text": [
      "\u001b[1m39/39\u001b[0m \u001b[32m━━━━━━━━━━━━━━━━━━━━\u001b[0m\u001b[37m\u001b[0m \u001b[1m0s\u001b[0m 6ms/step - accuracy: 0.5312 - loss: 0.9692 - val_accuracy: 0.5185 - val_loss: 1.0452\n",
      "Epoch 145/400\n"
     ]
    },
    {
     "name": "stderr",
     "output_type": "stream",
     "text": [
      "2024-10-25 00:53:54.321915: I tensorflow/core/framework/local_rendezvous.cc:423] Local rendezvous recv item cancelled. Key hash: 8056836469799998605\n",
      "2024-10-25 00:53:54.321957: I tensorflow/core/framework/local_rendezvous.cc:423] Local rendezvous recv item cancelled. Key hash: 16918664414020247758\n"
     ]
    },
    {
     "name": "stdout",
     "output_type": "stream",
     "text": [
      "\u001b[1m39/39\u001b[0m \u001b[32m━━━━━━━━━━━━━━━━━━━━\u001b[0m\u001b[37m\u001b[0m \u001b[1m14s\u001b[0m 349ms/step - accuracy: 0.6765 - loss: 0.7403 - val_accuracy: 0.5625 - val_loss: 0.9558\n",
      "Epoch 146/400\n",
      "\u001b[1m39/39\u001b[0m \u001b[32m━━━━━━━━━━━━━━━━━━━━\u001b[0m\u001b[37m\u001b[0m \u001b[1m0s\u001b[0m 6ms/step - accuracy: 0.5625 - loss: 0.8669 - val_accuracy: 0.7778 - val_loss: 0.7188\n",
      "Epoch 147/400\n",
      "\u001b[1m39/39\u001b[0m \u001b[32m━━━━━━━━━━━━━━━━━━━━\u001b[0m\u001b[37m\u001b[0m \u001b[1m14s\u001b[0m 347ms/step - accuracy: 0.6706 - loss: 0.7433 - val_accuracy: 0.6285 - val_loss: 0.8641\n",
      "Epoch 148/400\n",
      "\u001b[1m39/39\u001b[0m \u001b[32m━━━━━━━━━━━━━━━━━━━━\u001b[0m\u001b[37m\u001b[0m \u001b[1m0s\u001b[0m 6ms/step - accuracy: 0.5938 - loss: 0.9339 - val_accuracy: 0.5556 - val_loss: 0.9418\n",
      "Epoch 149/400\n"
     ]
    },
    {
     "name": "stderr",
     "output_type": "stream",
     "text": [
      "2024-10-25 00:54:21.971838: I tensorflow/core/framework/local_rendezvous.cc:423] Local rendezvous recv item cancelled. Key hash: 8056836469799998605\n",
      "2024-10-25 00:54:21.971896: I tensorflow/core/framework/local_rendezvous.cc:423] Local rendezvous recv item cancelled. Key hash: 16918664414020247758\n"
     ]
    },
    {
     "name": "stdout",
     "output_type": "stream",
     "text": [
      "\u001b[1m39/39\u001b[0m \u001b[32m━━━━━━━━━━━━━━━━━━━━\u001b[0m\u001b[37m\u001b[0m \u001b[1m14s\u001b[0m 347ms/step - accuracy: 0.6580 - loss: 0.7666 - val_accuracy: 0.5729 - val_loss: 0.9211\n",
      "Epoch 150/400\n",
      "\u001b[1m39/39\u001b[0m \u001b[32m━━━━━━━━━━━━━━━━━━━━\u001b[0m\u001b[37m\u001b[0m \u001b[1m0s\u001b[0m 6ms/step - accuracy: 0.5000 - loss: 0.8263 - val_accuracy: 0.7778 - val_loss: 0.7427\n",
      "Epoch 151/400\n",
      "\u001b[1m39/39\u001b[0m \u001b[32m━━━━━━━━━━━━━━━━━━━━\u001b[0m\u001b[37m\u001b[0m \u001b[1m14s\u001b[0m 348ms/step - accuracy: 0.6634 - loss: 0.7677 - val_accuracy: 0.6111 - val_loss: 0.8954\n",
      "Epoch 152/400\n",
      "\u001b[1m 1/39\u001b[0m \u001b[37m━━━━━━━━━━━━━━━━━━━━\u001b[0m \u001b[1m1s\u001b[0m 33ms/step - accuracy: 0.6875 - loss: 0.6420"
     ]
    },
    {
     "name": "stderr",
     "output_type": "stream",
     "text": [
      "2024-10-25 00:54:49.354315: I tensorflow/core/framework/local_rendezvous.cc:423] Local rendezvous recv item cancelled. Key hash: 8056836469799998605\n",
      "2024-10-25 00:54:49.354387: I tensorflow/core/framework/local_rendezvous.cc:423] Local rendezvous recv item cancelled. Key hash: 16918664414020247758\n"
     ]
    },
    {
     "name": "stdout",
     "output_type": "stream",
     "text": [
      "\u001b[1m39/39\u001b[0m \u001b[32m━━━━━━━━━━━━━━━━━━━━\u001b[0m\u001b[37m\u001b[0m \u001b[1m0s\u001b[0m 6ms/step - accuracy: 0.6875 - loss: 0.6420 - val_accuracy: 0.7037 - val_loss: 0.7994\n",
      "Epoch 153/400\n",
      "\u001b[1m39/39\u001b[0m \u001b[32m━━━━━━━━━━━━━━━━━━━━\u001b[0m\u001b[37m\u001b[0m \u001b[1m14s\u001b[0m 347ms/step - accuracy: 0.6695 - loss: 0.7425 - val_accuracy: 0.6389 - val_loss: 0.8713\n",
      "Epoch 154/400\n",
      "\u001b[1m 1/39\u001b[0m \u001b[37m━━━━━━━━━━━━━━━━━━━━\u001b[0m \u001b[1m1s\u001b[0m 35ms/step - accuracy: 0.7500 - loss: 0.6153"
     ]
    },
    {
     "name": "stderr",
     "output_type": "stream",
     "text": [
      "2024-10-25 00:55:03.177144: I tensorflow/core/framework/local_rendezvous.cc:423] Local rendezvous recv item cancelled. Key hash: 8056836469799998605\n"
     ]
    },
    {
     "name": "stdout",
     "output_type": "stream",
     "text": [
      "\u001b[1m39/39\u001b[0m \u001b[32m━━━━━━━━━━━━━━━━━━━━\u001b[0m\u001b[37m\u001b[0m \u001b[1m0s\u001b[0m 6ms/step - accuracy: 0.7500 - loss: 0.6153 - val_accuracy: 0.5556 - val_loss: 1.0053\n",
      "Epoch 155/400\n",
      "\u001b[1m39/39\u001b[0m \u001b[32m━━━━━━━━━━━━━━━━━━━━\u001b[0m\u001b[37m\u001b[0m \u001b[1m14s\u001b[0m 349ms/step - accuracy: 0.6909 - loss: 0.7482 - val_accuracy: 0.6250 - val_loss: 0.8715\n",
      "Epoch 156/400\n",
      "\u001b[1m 1/39\u001b[0m \u001b[37m━━━━━━━━━━━━━━━━━━━━\u001b[0m \u001b[1m1s\u001b[0m 30ms/step - accuracy: 0.8125 - loss: 0.6850"
     ]
    },
    {
     "name": "stderr",
     "output_type": "stream",
     "text": [
      "2024-10-25 00:55:17.004492: I tensorflow/core/framework/local_rendezvous.cc:423] Local rendezvous recv item cancelled. Key hash: 8056836469799998605\n"
     ]
    },
    {
     "name": "stdout",
     "output_type": "stream",
     "text": [
      "\u001b[1m39/39\u001b[0m \u001b[32m━━━━━━━━━━━━━━━━━━━━\u001b[0m\u001b[37m\u001b[0m \u001b[1m0s\u001b[0m 6ms/step - accuracy: 0.8125 - loss: 0.6850 - val_accuracy: 0.5185 - val_loss: 0.9923\n",
      "Epoch 157/400\n",
      "\u001b[1m39/39\u001b[0m \u001b[32m━━━━━━━━━━━━━━━━━━━━\u001b[0m\u001b[37m\u001b[0m \u001b[1m13s\u001b[0m 342ms/step - accuracy: 0.6752 - loss: 0.7326 - val_accuracy: 0.5799 - val_loss: 0.9081\n",
      "Epoch 158/400\n",
      "\u001b[1m 1/39\u001b[0m \u001b[37m━━━━━━━━━━━━━━━━━━━━\u001b[0m \u001b[1m1s\u001b[0m 35ms/step - accuracy: 0.7812 - loss: 0.6704"
     ]
    },
    {
     "name": "stderr",
     "output_type": "stream",
     "text": [
      "2024-10-25 00:55:30.587445: I tensorflow/core/framework/local_rendezvous.cc:423] Local rendezvous recv item cancelled. Key hash: 8056836469799998605\n",
      "2024-10-25 00:55:30.587581: I tensorflow/core/framework/local_rendezvous.cc:423] Local rendezvous recv item cancelled. Key hash: 16918664414020247758\n"
     ]
    },
    {
     "name": "stdout",
     "output_type": "stream",
     "text": [
      "\u001b[1m39/39\u001b[0m \u001b[32m━━━━━━━━━━━━━━━━━━━━\u001b[0m\u001b[37m\u001b[0m \u001b[1m0s\u001b[0m 5ms/step - accuracy: 0.7812 - loss: 0.6704 - val_accuracy: 0.7407 - val_loss: 0.8081\n",
      "Epoch 159/400\n"
     ]
    },
    {
     "name": "stderr",
     "output_type": "stream",
     "text": [
      "2024-10-25 00:55:30.794381: I tensorflow/core/framework/local_rendezvous.cc:423] Local rendezvous recv item cancelled. Key hash: 8056836469799998605\n",
      "2024-10-25 00:55:30.794425: I tensorflow/core/framework/local_rendezvous.cc:423] Local rendezvous recv item cancelled. Key hash: 16918664414020247758\n"
     ]
    },
    {
     "name": "stdout",
     "output_type": "stream",
     "text": [
      "\u001b[1m39/39\u001b[0m \u001b[32m━━━━━━━━━━━━━━━━━━━━\u001b[0m\u001b[37m\u001b[0m \u001b[1m13s\u001b[0m 341ms/step - accuracy: 0.6612 - loss: 0.7377 - val_accuracy: 0.6111 - val_loss: 0.9088\n",
      "Epoch 160/400\n",
      "\u001b[1m 1/39\u001b[0m \u001b[37m━━━━━━━━━━━━━━━━━━━━\u001b[0m \u001b[1m1s\u001b[0m 35ms/step - accuracy: 0.7500 - loss: 0.6433"
     ]
    },
    {
     "name": "stderr",
     "output_type": "stream",
     "text": [
      "2024-10-25 00:55:44.113359: I tensorflow/core/framework/local_rendezvous.cc:423] Local rendezvous recv item cancelled. Key hash: 8056836469799998605\n"
     ]
    },
    {
     "name": "stdout",
     "output_type": "stream",
     "text": [
      "\u001b[1m39/39\u001b[0m \u001b[32m━━━━━━━━━━━━━━━━━━━━\u001b[0m\u001b[37m\u001b[0m \u001b[1m0s\u001b[0m 5ms/step - accuracy: 0.7500 - loss: 0.6433 - val_accuracy: 0.6667 - val_loss: 0.9472\n",
      "Epoch 161/400\n",
      "\u001b[1m39/39\u001b[0m \u001b[32m━━━━━━━━━━━━━━━━━━━━\u001b[0m\u001b[37m\u001b[0m \u001b[1m14s\u001b[0m 351ms/step - accuracy: 0.6634 - loss: 0.7676 - val_accuracy: 0.5903 - val_loss: 0.9216\n",
      "Epoch 162/400\n",
      "\u001b[1m 1/39\u001b[0m \u001b[37m━━━━━━━━━━━━━━━━━━━━\u001b[0m \u001b[1m1s\u001b[0m 34ms/step - accuracy: 0.5938 - loss: 0.7658"
     ]
    },
    {
     "name": "stderr",
     "output_type": "stream",
     "text": [
      "2024-10-25 00:55:58.065317: I tensorflow/core/framework/local_rendezvous.cc:423] Local rendezvous recv item cancelled. Key hash: 8056836469799998605\n"
     ]
    },
    {
     "name": "stdout",
     "output_type": "stream",
     "text": [
      "\u001b[1m39/39\u001b[0m \u001b[32m━━━━━━━━━━━━━━━━━━━━\u001b[0m\u001b[37m\u001b[0m \u001b[1m0s\u001b[0m 5ms/step - accuracy: 0.5938 - loss: 0.7658 - val_accuracy: 0.6296 - val_loss: 0.7614\n",
      "Epoch 163/400\n"
     ]
    },
    {
     "name": "stderr",
     "output_type": "stream",
     "text": [
      "2024-10-25 00:55:58.275473: I tensorflow/core/framework/local_rendezvous.cc:423] Local rendezvous recv item cancelled. Key hash: 8056836469799998605\n",
      "2024-10-25 00:55:58.275584: I tensorflow/core/framework/local_rendezvous.cc:423] Local rendezvous recv item cancelled. Key hash: 16918664414020247758\n"
     ]
    },
    {
     "name": "stdout",
     "output_type": "stream",
     "text": [
      "\u001b[1m39/39\u001b[0m \u001b[32m━━━━━━━━━━━━━━━━━━━━\u001b[0m\u001b[37m\u001b[0m \u001b[1m13s\u001b[0m 345ms/step - accuracy: 0.6945 - loss: 0.7245 - val_accuracy: 0.5868 - val_loss: 0.8745\n",
      "Epoch 164/400\n",
      "\u001b[1m 1/39\u001b[0m \u001b[37m━━━━━━━━━━━━━━━━━━━━\u001b[0m \u001b[1m1s\u001b[0m 33ms/step - accuracy: 0.8438 - loss: 0.6226"
     ]
    },
    {
     "name": "stderr",
     "output_type": "stream",
     "text": [
      "2024-10-25 00:56:11.791116: I tensorflow/core/framework/local_rendezvous.cc:423] Local rendezvous recv item cancelled. Key hash: 8056836469799998605\n",
      "2024-10-25 00:56:11.791235: I tensorflow/core/framework/local_rendezvous.cc:423] Local rendezvous recv item cancelled. Key hash: 16918664414020247758\n"
     ]
    },
    {
     "name": "stdout",
     "output_type": "stream",
     "text": [
      "\u001b[1m39/39\u001b[0m \u001b[32m━━━━━━━━━━━━━━━━━━━━\u001b[0m\u001b[37m\u001b[0m \u001b[1m0s\u001b[0m 6ms/step - accuracy: 0.8438 - loss: 0.6226 - val_accuracy: 0.6667 - val_loss: 0.8980\n",
      "Epoch 165/400\n"
     ]
    },
    {
     "name": "stderr",
     "output_type": "stream",
     "text": [
      "2024-10-25 00:56:12.005971: I tensorflow/core/framework/local_rendezvous.cc:423] Local rendezvous recv item cancelled. Key hash: 8056836469799998605\n",
      "2024-10-25 00:56:12.006103: I tensorflow/core/framework/local_rendezvous.cc:423] Local rendezvous recv item cancelled. Key hash: 16918664414020247758\n"
     ]
    },
    {
     "name": "stdout",
     "output_type": "stream",
     "text": [
      "\u001b[1m39/39\u001b[0m \u001b[32m━━━━━━━━━━━━━━━━━━━━\u001b[0m\u001b[37m\u001b[0m \u001b[1m14s\u001b[0m 350ms/step - accuracy: 0.6598 - loss: 0.7615 - val_accuracy: 0.6007 - val_loss: 0.9271\n",
      "Epoch 166/400\n",
      "\u001b[1m39/39\u001b[0m \u001b[32m━━━━━━━━━━━━━━━━━━━━\u001b[0m\u001b[37m\u001b[0m \u001b[1m0s\u001b[0m 5ms/step - accuracy: 0.7188 - loss: 0.6518 - val_accuracy: 0.7037 - val_loss: 0.6607\n",
      "Epoch 167/400\n"
     ]
    },
    {
     "name": "stderr",
     "output_type": "stream",
     "text": [
      "2024-10-25 00:56:25.897685: I tensorflow/core/framework/local_rendezvous.cc:423] Local rendezvous recv item cancelled. Key hash: 8056836469799998605\n",
      "2024-10-25 00:56:25.897795: I tensorflow/core/framework/local_rendezvous.cc:423] Local rendezvous recv item cancelled. Key hash: 16918664414020247758\n"
     ]
    },
    {
     "name": "stdout",
     "output_type": "stream",
     "text": [
      "\u001b[1m39/39\u001b[0m \u001b[32m━━━━━━━━━━━━━━━━━━━━\u001b[0m\u001b[37m\u001b[0m \u001b[1m14s\u001b[0m 367ms/step - accuracy: 0.6895 - loss: 0.7049 - val_accuracy: 0.5764 - val_loss: 0.9000\n",
      "Epoch 168/400\n",
      "\u001b[1m 1/39\u001b[0m \u001b[37m━━━━━━━━━━━━━━━━━━━━\u001b[0m \u001b[1m1s\u001b[0m 30ms/step - accuracy: 0.6875 - loss: 0.7304"
     ]
    },
    {
     "name": "stderr",
     "output_type": "stream",
     "text": [
      "2024-10-25 00:56:40.242662: I tensorflow/core/framework/local_rendezvous.cc:423] Local rendezvous recv item cancelled. Key hash: 8056836469799998605\n"
     ]
    },
    {
     "name": "stdout",
     "output_type": "stream",
     "text": [
      "\u001b[1m39/39\u001b[0m \u001b[32m━━━━━━━━━━━━━━━━━━━━\u001b[0m\u001b[37m\u001b[0m \u001b[1m0s\u001b[0m 5ms/step - accuracy: 0.6875 - loss: 0.7304 - val_accuracy: 0.6667 - val_loss: 0.6519\n",
      "Epoch 169/400\n"
     ]
    },
    {
     "name": "stderr",
     "output_type": "stream",
     "text": [
      "2024-10-25 00:56:40.450259: I tensorflow/core/framework/local_rendezvous.cc:423] Local rendezvous recv item cancelled. Key hash: 8056836469799998605\n",
      "2024-10-25 00:56:40.450311: I tensorflow/core/framework/local_rendezvous.cc:423] Local rendezvous recv item cancelled. Key hash: 16918664414020247758\n"
     ]
    },
    {
     "name": "stdout",
     "output_type": "stream",
     "text": [
      "\u001b[1m39/39\u001b[0m \u001b[32m━━━━━━━━━━━━━━━━━━━━\u001b[0m\u001b[37m\u001b[0m \u001b[1m14s\u001b[0m 357ms/step - accuracy: 0.6963 - loss: 0.7167 - val_accuracy: 0.5833 - val_loss: 0.9038\n",
      "Epoch 170/400\n",
      "\u001b[1m 1/39\u001b[0m \u001b[37m━━━━━━━━━━━━━━━━━━━━\u001b[0m \u001b[1m1s\u001b[0m 33ms/step - accuracy: 0.6562 - loss: 0.7268"
     ]
    },
    {
     "name": "stderr",
     "output_type": "stream",
     "text": [
      "2024-10-25 00:56:54.388679: I tensorflow/core/framework/local_rendezvous.cc:423] Local rendezvous recv item cancelled. Key hash: 8056836469799998605\n"
     ]
    },
    {
     "name": "stdout",
     "output_type": "stream",
     "text": [
      "\u001b[1m39/39\u001b[0m \u001b[32m━━━━━━━━━━━━━━━━━━━━\u001b[0m\u001b[37m\u001b[0m \u001b[1m0s\u001b[0m 7ms/step - accuracy: 0.6562 - loss: 0.7268 - val_accuracy: 0.5926 - val_loss: 0.7708\n",
      "Epoch 171/400\n"
     ]
    },
    {
     "name": "stderr",
     "output_type": "stream",
     "text": [
      "2024-10-25 00:56:54.642279: I tensorflow/core/framework/local_rendezvous.cc:423] Local rendezvous recv item cancelled. Key hash: 8056836469799998605\n",
      "2024-10-25 00:56:54.642396: I tensorflow/core/framework/local_rendezvous.cc:423] Local rendezvous recv item cancelled. Key hash: 16918664414020247758\n"
     ]
    },
    {
     "name": "stdout",
     "output_type": "stream",
     "text": [
      "\u001b[1m39/39\u001b[0m \u001b[32m━━━━━━━━━━━━━━━━━━━━\u001b[0m\u001b[37m\u001b[0m \u001b[1m14s\u001b[0m 353ms/step - accuracy: 0.7058 - loss: 0.6922 - val_accuracy: 0.6250 - val_loss: 0.8878\n",
      "Epoch 172/400\n",
      "\u001b[1m 1/39\u001b[0m \u001b[37m━━━━━━━━━━━━━━━━━━━━\u001b[0m \u001b[1m1s\u001b[0m 33ms/step - accuracy: 0.6562 - loss: 0.7763"
     ]
    },
    {
     "name": "stderr",
     "output_type": "stream",
     "text": [
      "2024-10-25 00:57:08.432574: I tensorflow/core/framework/local_rendezvous.cc:423] Local rendezvous recv item cancelled. Key hash: 8056836469799998605\n"
     ]
    },
    {
     "name": "stdout",
     "output_type": "stream",
     "text": [
      "\u001b[1m39/39\u001b[0m \u001b[32m━━━━━━━━━━━━━━━━━━━━\u001b[0m\u001b[37m\u001b[0m \u001b[1m0s\u001b[0m 6ms/step - accuracy: 0.6562 - loss: 0.7763 - val_accuracy: 0.5556 - val_loss: 0.8731\n",
      "Epoch 173/400\n",
      "\u001b[1m39/39\u001b[0m \u001b[32m━━━━━━━━━━━━━━━━━━━━\u001b[0m\u001b[37m\u001b[0m \u001b[1m14s\u001b[0m 349ms/step - accuracy: 0.6872 - loss: 0.7105 - val_accuracy: 0.6146 - val_loss: 0.9211\n",
      "Epoch 174/400\n",
      "\u001b[1m39/39\u001b[0m \u001b[32m━━━━━━━━━━━━━━━━━━━━\u001b[0m\u001b[37m\u001b[0m \u001b[1m0s\u001b[0m 5ms/step - accuracy: 0.5625 - loss: 0.7182 - val_accuracy: 0.4815 - val_loss: 0.9084\n",
      "Epoch 175/400\n"
     ]
    },
    {
     "name": "stderr",
     "output_type": "stream",
     "text": [
      "2024-10-25 00:57:22.514988: I tensorflow/core/framework/local_rendezvous.cc:423] Local rendezvous recv item cancelled. Key hash: 16918664414020247758\n"
     ]
    },
    {
     "name": "stdout",
     "output_type": "stream",
     "text": [
      "\u001b[1m39/39\u001b[0m \u001b[32m━━━━━━━━━━━━━━━━━━━━\u001b[0m\u001b[37m\u001b[0m \u001b[1m14s\u001b[0m 351ms/step - accuracy: 0.7006 - loss: 0.7105 - val_accuracy: 0.6146 - val_loss: 0.8724\n",
      "Epoch 176/400\n",
      "\u001b[1m 1/39\u001b[0m \u001b[37m━━━━━━━━━━━━━━━━━━━━\u001b[0m \u001b[1m1s\u001b[0m 31ms/step - accuracy: 0.4688 - loss: 0.9643"
     ]
    },
    {
     "name": "stderr",
     "output_type": "stream",
     "text": [
      "2024-10-25 00:57:36.233517: I tensorflow/core/framework/local_rendezvous.cc:423] Local rendezvous recv item cancelled. Key hash: 8056836469799998605\n",
      "2024-10-25 00:57:36.233647: I tensorflow/core/framework/local_rendezvous.cc:423] Local rendezvous recv item cancelled. Key hash: 16918664414020247758\n"
     ]
    },
    {
     "name": "stdout",
     "output_type": "stream",
     "text": [
      "\u001b[1m39/39\u001b[0m \u001b[32m━━━━━━━━━━━━━━━━━━━━\u001b[0m\u001b[37m\u001b[0m \u001b[1m0s\u001b[0m 6ms/step - accuracy: 0.4688 - loss: 0.9643 - val_accuracy: 0.5556 - val_loss: 0.8598\n",
      "Epoch 177/400\n"
     ]
    },
    {
     "name": "stderr",
     "output_type": "stream",
     "text": [
      "2024-10-25 00:57:36.455043: I tensorflow/core/framework/local_rendezvous.cc:423] Local rendezvous recv item cancelled. Key hash: 8056836469799998605\n",
      "2024-10-25 00:57:36.455150: I tensorflow/core/framework/local_rendezvous.cc:423] Local rendezvous recv item cancelled. Key hash: 16918664414020247758\n"
     ]
    },
    {
     "name": "stdout",
     "output_type": "stream",
     "text": [
      "\u001b[1m39/39\u001b[0m \u001b[32m━━━━━━━━━━━━━━━━━━━━\u001b[0m\u001b[37m\u001b[0m \u001b[1m14s\u001b[0m 360ms/step - accuracy: 0.6953 - loss: 0.7086 - val_accuracy: 0.5972 - val_loss: 0.9054\n",
      "Epoch 178/400\n",
      "\u001b[1m 1/39\u001b[0m \u001b[37m━━━━━━━━━━━━━━━━━━━━\u001b[0m \u001b[1m1s\u001b[0m 33ms/step - accuracy: 0.6562 - loss: 0.7190"
     ]
    },
    {
     "name": "stderr",
     "output_type": "stream",
     "text": [
      "2024-10-25 00:57:50.546461: I tensorflow/core/framework/local_rendezvous.cc:423] Local rendezvous recv item cancelled. Key hash: 8056836469799998605\n"
     ]
    },
    {
     "name": "stdout",
     "output_type": "stream",
     "text": [
      "\u001b[1m39/39\u001b[0m \u001b[32m━━━━━━━━━━━━━━━━━━━━\u001b[0m\u001b[37m\u001b[0m \u001b[1m0s\u001b[0m 5ms/step - accuracy: 0.6562 - loss: 0.7190 - val_accuracy: 0.7407 - val_loss: 0.7301\n",
      "Epoch 179/400\n"
     ]
    },
    {
     "name": "stderr",
     "output_type": "stream",
     "text": [
      "2024-10-25 00:57:50.748217: I tensorflow/core/framework/local_rendezvous.cc:423] Local rendezvous recv item cancelled. Key hash: 8056836469799998605\n",
      "2024-10-25 00:57:50.748274: I tensorflow/core/framework/local_rendezvous.cc:423] Local rendezvous recv item cancelled. Key hash: 16918664414020247758\n"
     ]
    },
    {
     "name": "stdout",
     "output_type": "stream",
     "text": [
      "\u001b[1m39/39\u001b[0m \u001b[32m━━━━━━━━━━━━━━━━━━━━\u001b[0m\u001b[37m\u001b[0m \u001b[1m13s\u001b[0m 346ms/step - accuracy: 0.6855 - loss: 0.7121 - val_accuracy: 0.6007 - val_loss: 0.9284\n",
      "Epoch 180/400\n",
      "\u001b[1m 1/39\u001b[0m \u001b[37m━━━━━━━━━━━━━━━━━━━━\u001b[0m \u001b[1m1s\u001b[0m 46ms/step - accuracy: 0.5938 - loss: 0.8588"
     ]
    },
    {
     "name": "stderr",
     "output_type": "stream",
     "text": [
      "2024-10-25 00:58:04.274793: I tensorflow/core/framework/local_rendezvous.cc:423] Local rendezvous recv item cancelled. Key hash: 8056836469799998605\n",
      "2024-10-25 00:58:04.274859: I tensorflow/core/framework/local_rendezvous.cc:423] Local rendezvous recv item cancelled. Key hash: 16918664414020247758\n"
     ]
    },
    {
     "name": "stdout",
     "output_type": "stream",
     "text": [
      "\u001b[1m39/39\u001b[0m \u001b[32m━━━━━━━━━━━━━━━━━━━━\u001b[0m\u001b[37m\u001b[0m \u001b[1m0s\u001b[0m 6ms/step - accuracy: 0.5938 - loss: 0.8588 - val_accuracy: 0.6667 - val_loss: 0.7921\n",
      "Epoch 181/400\n",
      "\u001b[1m39/39\u001b[0m \u001b[32m━━━━━━━━━━━━━━━━━━━━\u001b[0m\u001b[37m\u001b[0m \u001b[1m14s\u001b[0m 354ms/step - accuracy: 0.6867 - loss: 0.6878 - val_accuracy: 0.6181 - val_loss: 0.8612\n",
      "Epoch 182/400\n",
      "\u001b[1m 1/39\u001b[0m \u001b[37m━━━━━━━━━━━━━━━━━━━━\u001b[0m \u001b[1m1s\u001b[0m 31ms/step - accuracy: 0.5625 - loss: 0.7797"
     ]
    },
    {
     "name": "stderr",
     "output_type": "stream",
     "text": [
      "2024-10-25 00:58:18.350855: I tensorflow/core/framework/local_rendezvous.cc:423] Local rendezvous recv item cancelled. Key hash: 8056836469799998605\n"
     ]
    },
    {
     "name": "stdout",
     "output_type": "stream",
     "text": [
      "\u001b[1m39/39\u001b[0m \u001b[32m━━━━━━━━━━━━━━━━━━━━\u001b[0m\u001b[37m\u001b[0m \u001b[1m0s\u001b[0m 6ms/step - accuracy: 0.5625 - loss: 0.7797 - val_accuracy: 0.5556 - val_loss: 1.0275\n",
      "Epoch 183/400\n",
      "\u001b[1m39/39\u001b[0m \u001b[32m━━━━━━━━━━━━━━━━━━━━\u001b[0m\u001b[37m\u001b[0m \u001b[1m14s\u001b[0m 347ms/step - accuracy: 0.6730 - loss: 0.7371 - val_accuracy: 0.6007 - val_loss: 0.8721\n",
      "Epoch 184/400\n",
      "\u001b[1m 1/39\u001b[0m \u001b[37m━━━━━━━━━━━━━━━━━━━━\u001b[0m \u001b[1m1s\u001b[0m 35ms/step - accuracy: 0.7188 - loss: 0.7085"
     ]
    },
    {
     "name": "stderr",
     "output_type": "stream",
     "text": [
      "2024-10-25 00:58:32.167515: I tensorflow/core/framework/local_rendezvous.cc:423] Local rendezvous recv item cancelled. Key hash: 8056836469799998605\n"
     ]
    },
    {
     "name": "stdout",
     "output_type": "stream",
     "text": [
      "\u001b[1m39/39\u001b[0m \u001b[32m━━━━━━━━━━━━━━━━━━━━\u001b[0m\u001b[37m\u001b[0m \u001b[1m0s\u001b[0m 5ms/step - accuracy: 0.7188 - loss: 0.7085 - val_accuracy: 0.6296 - val_loss: 0.7452\n",
      "Epoch 185/400\n",
      "\u001b[1m39/39\u001b[0m \u001b[32m━━━━━━━━━━━━━━━━━━━━\u001b[0m\u001b[37m\u001b[0m \u001b[1m14s\u001b[0m 350ms/step - accuracy: 0.6981 - loss: 0.6997 - val_accuracy: 0.5729 - val_loss: 0.9425\n",
      "Epoch 186/400\n",
      "\u001b[1m 1/39\u001b[0m \u001b[37m━━━━━━━━━━━━━━━━━━━━\u001b[0m \u001b[1m1s\u001b[0m 33ms/step - accuracy: 0.6250 - loss: 0.7240"
     ]
    },
    {
     "name": "stderr",
     "output_type": "stream",
     "text": [
      "2024-10-25 00:58:46.024168: I tensorflow/core/framework/local_rendezvous.cc:423] Local rendezvous recv item cancelled. Key hash: 8056836469799998605\n"
     ]
    },
    {
     "name": "stdout",
     "output_type": "stream",
     "text": [
      "\u001b[1m39/39\u001b[0m \u001b[32m━━━━━━━━━━━━━━━━━━━━\u001b[0m\u001b[37m\u001b[0m \u001b[1m0s\u001b[0m 6ms/step - accuracy: 0.6250 - loss: 0.7240 - val_accuracy: 0.6667 - val_loss: 0.9323\n",
      "Epoch 187/400\n"
     ]
    },
    {
     "name": "stderr",
     "output_type": "stream",
     "text": [
      "2024-10-25 00:58:46.248319: I tensorflow/core/framework/local_rendezvous.cc:423] Local rendezvous recv item cancelled. Key hash: 8056836469799998605\n",
      "2024-10-25 00:58:46.248423: I tensorflow/core/framework/local_rendezvous.cc:423] Local rendezvous recv item cancelled. Key hash: 16918664414020247758\n"
     ]
    },
    {
     "name": "stdout",
     "output_type": "stream",
     "text": [
      "\u001b[1m39/39\u001b[0m \u001b[32m━━━━━━━━━━━━━━━━━━━━\u001b[0m\u001b[37m\u001b[0m \u001b[1m14s\u001b[0m 346ms/step - accuracy: 0.6783 - loss: 0.7185 - val_accuracy: 0.6042 - val_loss: 0.8961\n",
      "Epoch 188/400\n",
      "\u001b[1m 1/39\u001b[0m \u001b[37m━━━━━━━━━━━━━━━━━━━━\u001b[0m \u001b[1m1s\u001b[0m 33ms/step - accuracy: 0.6875 - loss: 0.7372"
     ]
    },
    {
     "name": "stderr",
     "output_type": "stream",
     "text": [
      "2024-10-25 00:58:59.811623: I tensorflow/core/framework/local_rendezvous.cc:423] Local rendezvous recv item cancelled. Key hash: 8056836469799998605\n"
     ]
    },
    {
     "name": "stdout",
     "output_type": "stream",
     "text": [
      "\u001b[1m39/39\u001b[0m \u001b[32m━━━━━━━━━━━━━━━━━━━━\u001b[0m\u001b[37m\u001b[0m \u001b[1m0s\u001b[0m 7ms/step - accuracy: 0.6875 - loss: 0.7372 - val_accuracy: 0.6296 - val_loss: 0.7384\n",
      "Epoch 189/400\n"
     ]
    },
    {
     "name": "stderr",
     "output_type": "stream",
     "text": [
      "2024-10-25 00:59:00.064076: I tensorflow/core/framework/local_rendezvous.cc:423] Local rendezvous recv item cancelled. Key hash: 8056836469799998605\n",
      "2024-10-25 00:59:00.064138: I tensorflow/core/framework/local_rendezvous.cc:423] Local rendezvous recv item cancelled. Key hash: 16918664414020247758\n"
     ]
    },
    {
     "name": "stdout",
     "output_type": "stream",
     "text": [
      "\u001b[1m39/39\u001b[0m \u001b[32m━━━━━━━━━━━━━━━━━━━━\u001b[0m\u001b[37m\u001b[0m \u001b[1m14s\u001b[0m 347ms/step - accuracy: 0.6899 - loss: 0.6857 - val_accuracy: 0.5590 - val_loss: 0.9279\n",
      "Epoch 190/400\n",
      "\u001b[1m39/39\u001b[0m \u001b[32m━━━━━━━━━━━━━━━━━━━━\u001b[0m\u001b[37m\u001b[0m \u001b[1m0s\u001b[0m 7ms/step - accuracy: 0.6562 - loss: 0.7284 - val_accuracy: 0.5185 - val_loss: 0.9944\n",
      "Epoch 191/400\n"
     ]
    },
    {
     "name": "stderr",
     "output_type": "stream",
     "text": [
      "2024-10-25 00:59:13.901316: I tensorflow/core/framework/local_rendezvous.cc:423] Local rendezvous recv item cancelled. Key hash: 16918664414020247758\n"
     ]
    },
    {
     "name": "stdout",
     "output_type": "stream",
     "text": [
      "\u001b[1m39/39\u001b[0m \u001b[32m━━━━━━━━━━━━━━━━━━━━\u001b[0m\u001b[37m\u001b[0m \u001b[1m14s\u001b[0m 351ms/step - accuracy: 0.6800 - loss: 0.7436 - val_accuracy: 0.6597 - val_loss: 0.8520\n",
      "Epoch 192/400\n",
      "\u001b[1m 1/39\u001b[0m \u001b[37m━━━━━━━━━━━━━━━━━━━━\u001b[0m \u001b[1m1s\u001b[0m 33ms/step - accuracy: 0.6250 - loss: 0.7247"
     ]
    },
    {
     "name": "stderr",
     "output_type": "stream",
     "text": [
      "2024-10-25 00:59:27.604370: I tensorflow/core/framework/local_rendezvous.cc:423] Local rendezvous recv item cancelled. Key hash: 8056836469799998605\n",
      "2024-10-25 00:59:27.604436: I tensorflow/core/framework/local_rendezvous.cc:423] Local rendezvous recv item cancelled. Key hash: 16918664414020247758\n"
     ]
    },
    {
     "name": "stdout",
     "output_type": "stream",
     "text": [
      "\u001b[1m39/39\u001b[0m \u001b[32m━━━━━━━━━━━━━━━━━━━━\u001b[0m\u001b[37m\u001b[0m \u001b[1m0s\u001b[0m 6ms/step - accuracy: 0.6250 - loss: 0.7247 - val_accuracy: 0.6296 - val_loss: 0.8273\n",
      "Epoch 193/400\n"
     ]
    },
    {
     "name": "stderr",
     "output_type": "stream",
     "text": [
      "2024-10-25 00:59:27.833998: I tensorflow/core/framework/local_rendezvous.cc:423] Local rendezvous recv item cancelled. Key hash: 8056836469799998605\n",
      "2024-10-25 00:59:27.834048: I tensorflow/core/framework/local_rendezvous.cc:423] Local rendezvous recv item cancelled. Key hash: 16918664414020247758\n"
     ]
    },
    {
     "name": "stdout",
     "output_type": "stream",
     "text": [
      "\u001b[1m39/39\u001b[0m \u001b[32m━━━━━━━━━━━━━━━━━━━━\u001b[0m\u001b[37m\u001b[0m \u001b[1m13s\u001b[0m 346ms/step - accuracy: 0.6730 - loss: 0.7340 - val_accuracy: 0.6285 - val_loss: 0.8798\n",
      "Epoch 194/400\n",
      "\u001b[1m 1/39\u001b[0m \u001b[37m━━━━━━━━━━━━━━━━━━━━\u001b[0m \u001b[1m1s\u001b[0m 32ms/step - accuracy: 0.8438 - loss: 0.4844"
     ]
    },
    {
     "name": "stderr",
     "output_type": "stream",
     "text": [
      "2024-10-25 00:59:41.365810: I tensorflow/core/framework/local_rendezvous.cc:423] Local rendezvous recv item cancelled. Key hash: 8056836469799998605\n"
     ]
    },
    {
     "name": "stdout",
     "output_type": "stream",
     "text": [
      "\u001b[1m39/39\u001b[0m \u001b[32m━━━━━━━━━━━━━━━━━━━━\u001b[0m\u001b[37m\u001b[0m \u001b[1m0s\u001b[0m 7ms/step - accuracy: 0.8438 - loss: 0.4844 - val_accuracy: 0.5556 - val_loss: 0.9576\n",
      "Epoch 195/400\n"
     ]
    },
    {
     "name": "stderr",
     "output_type": "stream",
     "text": [
      "2024-10-25 00:59:41.619189: I tensorflow/core/framework/local_rendezvous.cc:423] Local rendezvous recv item cancelled. Key hash: 8056836469799998605\n",
      "2024-10-25 00:59:41.619237: I tensorflow/core/framework/local_rendezvous.cc:423] Local rendezvous recv item cancelled. Key hash: 16918664414020247758\n"
     ]
    },
    {
     "name": "stdout",
     "output_type": "stream",
     "text": [
      "\u001b[1m39/39\u001b[0m \u001b[32m━━━━━━━━━━━━━━━━━━━━\u001b[0m\u001b[37m\u001b[0m \u001b[1m14s\u001b[0m 348ms/step - accuracy: 0.7093 - loss: 0.6887 - val_accuracy: 0.5833 - val_loss: 0.8901\n",
      "Epoch 196/400\n",
      "\u001b[1m 1/39\u001b[0m \u001b[37m━━━━━━━━━━━━━━━━━━━━\u001b[0m \u001b[1m1s\u001b[0m 33ms/step - accuracy: 0.8438 - loss: 0.5118"
     ]
    },
    {
     "name": "stderr",
     "output_type": "stream",
     "text": [
      "2024-10-25 00:59:55.213096: I tensorflow/core/framework/local_rendezvous.cc:423] Local rendezvous recv item cancelled. Key hash: 8056836469799998605\n"
     ]
    },
    {
     "name": "stdout",
     "output_type": "stream",
     "text": [
      "\u001b[1m39/39\u001b[0m \u001b[32m━━━━━━━━━━━━━━━━━━━━\u001b[0m\u001b[37m\u001b[0m \u001b[1m0s\u001b[0m 6ms/step - accuracy: 0.8438 - loss: 0.5118 - val_accuracy: 0.5926 - val_loss: 1.0126\n",
      "Epoch 197/400\n"
     ]
    },
    {
     "name": "stderr",
     "output_type": "stream",
     "text": [
      "2024-10-25 00:59:55.459441: I tensorflow/core/framework/local_rendezvous.cc:423] Local rendezvous recv item cancelled. Key hash: 8056836469799998605\n",
      "2024-10-25 00:59:55.459483: I tensorflow/core/framework/local_rendezvous.cc:423] Local rendezvous recv item cancelled. Key hash: 16918664414020247758\n"
     ]
    },
    {
     "name": "stdout",
     "output_type": "stream",
     "text": [
      "\u001b[1m39/39\u001b[0m \u001b[32m━━━━━━━━━━━━━━━━━━━━\u001b[0m\u001b[37m\u001b[0m \u001b[1m14s\u001b[0m 350ms/step - accuracy: 0.7034 - loss: 0.7036 - val_accuracy: 0.6007 - val_loss: 0.9020\n",
      "Epoch 198/400\n",
      "\u001b[1m 1/39\u001b[0m \u001b[37m━━━━━━━━━━━━━━━━━━━━\u001b[0m \u001b[1m1s\u001b[0m 31ms/step - accuracy: 0.7500 - loss: 0.5612"
     ]
    },
    {
     "name": "stderr",
     "output_type": "stream",
     "text": [
      "2024-10-25 01:00:09.133517: I tensorflow/core/framework/local_rendezvous.cc:423] Local rendezvous recv item cancelled. Key hash: 8056836469799998605\n",
      "2024-10-25 01:00:09.133577: I tensorflow/core/framework/local_rendezvous.cc:423] Local rendezvous recv item cancelled. Key hash: 16918664414020247758\n"
     ]
    },
    {
     "name": "stdout",
     "output_type": "stream",
     "text": [
      "\u001b[1m39/39\u001b[0m \u001b[32m━━━━━━━━━━━━━━━━━━━━\u001b[0m\u001b[37m\u001b[0m \u001b[1m0s\u001b[0m 7ms/step - accuracy: 0.7500 - loss: 0.5612 - val_accuracy: 0.5185 - val_loss: 1.0146\n",
      "Epoch 199/400\n"
     ]
    },
    {
     "name": "stderr",
     "output_type": "stream",
     "text": [
      "2024-10-25 01:00:09.393114: I tensorflow/core/framework/local_rendezvous.cc:423] Local rendezvous recv item cancelled. Key hash: 8056836469799998605\n",
      "2024-10-25 01:00:09.393172: I tensorflow/core/framework/local_rendezvous.cc:423] Local rendezvous recv item cancelled. Key hash: 16918664414020247758\n"
     ]
    },
    {
     "name": "stdout",
     "output_type": "stream",
     "text": [
      "\u001b[1m39/39\u001b[0m \u001b[32m━━━━━━━━━━━━━━━━━━━━\u001b[0m\u001b[37m\u001b[0m \u001b[1m14s\u001b[0m 353ms/step - accuracy: 0.6863 - loss: 0.7041 - val_accuracy: 0.6042 - val_loss: 0.8568\n",
      "Epoch 200/400\n",
      "\u001b[1m 1/39\u001b[0m \u001b[37m━━━━━━━━━━━━━━━━━━━━\u001b[0m \u001b[1m1s\u001b[0m 34ms/step - accuracy: 0.8125 - loss: 0.5417"
     ]
    },
    {
     "name": "stderr",
     "output_type": "stream",
     "text": [
      "2024-10-25 01:00:23.203470: I tensorflow/core/framework/local_rendezvous.cc:423] Local rendezvous recv item cancelled. Key hash: 8056836469799998605\n"
     ]
    },
    {
     "name": "stdout",
     "output_type": "stream",
     "text": [
      "\u001b[1m39/39\u001b[0m \u001b[32m━━━━━━━━━━━━━━━━━━━━\u001b[0m\u001b[37m\u001b[0m \u001b[1m0s\u001b[0m 5ms/step - accuracy: 0.8125 - loss: 0.5417 - val_accuracy: 0.4815 - val_loss: 1.0230\n",
      "Epoch 201/400\n"
     ]
    },
    {
     "name": "stderr",
     "output_type": "stream",
     "text": [
      "2024-10-25 01:00:23.416053: I tensorflow/core/framework/local_rendezvous.cc:423] Local rendezvous recv item cancelled. Key hash: 8056836469799998605\n",
      "2024-10-25 01:00:23.416170: I tensorflow/core/framework/local_rendezvous.cc:423] Local rendezvous recv item cancelled. Key hash: 16918664414020247758\n"
     ]
    },
    {
     "name": "stdout",
     "output_type": "stream",
     "text": [
      "\u001b[1m39/39\u001b[0m \u001b[32m━━━━━━━━━━━━━━━━━━━━\u001b[0m\u001b[37m\u001b[0m \u001b[1m14s\u001b[0m 347ms/step - accuracy: 0.7063 - loss: 0.6965 - val_accuracy: 0.6146 - val_loss: 0.8940\n",
      "Epoch 202/400\n",
      "\u001b[1m 1/39\u001b[0m \u001b[37m━━━━━━━━━━━━━━━━━━━━\u001b[0m \u001b[1m1s\u001b[0m 34ms/step - accuracy: 0.7500 - loss: 0.6021"
     ]
    },
    {
     "name": "stderr",
     "output_type": "stream",
     "text": [
      "2024-10-25 01:00:36.983795: I tensorflow/core/framework/local_rendezvous.cc:423] Local rendezvous recv item cancelled. Key hash: 8056836469799998605\n"
     ]
    },
    {
     "name": "stdout",
     "output_type": "stream",
     "text": [
      "\u001b[1m39/39\u001b[0m \u001b[32m━━━━━━━━━━━━━━━━━━━━\u001b[0m\u001b[37m\u001b[0m \u001b[1m0s\u001b[0m 6ms/step - accuracy: 0.7500 - loss: 0.6021 - val_accuracy: 0.5926 - val_loss: 0.8930\n",
      "Epoch 203/400\n"
     ]
    },
    {
     "name": "stderr",
     "output_type": "stream",
     "text": [
      "2024-10-25 01:00:37.202063: I tensorflow/core/framework/local_rendezvous.cc:423] Local rendezvous recv item cancelled. Key hash: 8056836469799998605\n",
      "2024-10-25 01:00:37.202123: I tensorflow/core/framework/local_rendezvous.cc:423] Local rendezvous recv item cancelled. Key hash: 16918664414020247758\n"
     ]
    },
    {
     "name": "stdout",
     "output_type": "stream",
     "text": [
      "\u001b[1m39/39\u001b[0m \u001b[32m━━━━━━━━━━━━━━━━━━━━\u001b[0m\u001b[37m\u001b[0m \u001b[1m14s\u001b[0m 351ms/step - accuracy: 0.6934 - loss: 0.7075 - val_accuracy: 0.6111 - val_loss: 0.9231\n",
      "Epoch 204/400\n",
      "\u001b[1m39/39\u001b[0m \u001b[32m━━━━━━━━━━━━━━━━━━━━\u001b[0m\u001b[37m\u001b[0m \u001b[1m0s\u001b[0m 6ms/step - accuracy: 0.6250 - loss: 0.8868 - val_accuracy: 0.5926 - val_loss: 0.9276\n",
      "Epoch 205/400\n",
      "\u001b[1m39/39\u001b[0m \u001b[32m━━━━━━━━━━━━━━━━━━━━\u001b[0m\u001b[37m\u001b[0m \u001b[1m14s\u001b[0m 349ms/step - accuracy: 0.7100 - loss: 0.6965 - val_accuracy: 0.5903 - val_loss: 0.8907\n",
      "Epoch 206/400\n",
      "\u001b[1m 1/39\u001b[0m \u001b[37m━━━━━━━━━━━━━━━━━━━━\u001b[0m \u001b[1m1s\u001b[0m 32ms/step - accuracy: 0.7188 - loss: 0.6596"
     ]
    },
    {
     "name": "stderr",
     "output_type": "stream",
     "text": [
      "2024-10-25 01:01:04.758214: I tensorflow/core/framework/local_rendezvous.cc:423] Local rendezvous recv item cancelled. Key hash: 8056836469799998605\n"
     ]
    },
    {
     "name": "stdout",
     "output_type": "stream",
     "text": [
      "\u001b[1m39/39\u001b[0m \u001b[32m━━━━━━━━━━━━━━━━━━━━\u001b[0m\u001b[37m\u001b[0m \u001b[1m0s\u001b[0m 7ms/step - accuracy: 0.7188 - loss: 0.6596 - val_accuracy: 0.6667 - val_loss: 0.8095\n",
      "Epoch 207/400\n",
      "\u001b[1m39/39\u001b[0m \u001b[32m━━━━━━━━━━━━━━━━━━━━\u001b[0m\u001b[37m\u001b[0m \u001b[1m14s\u001b[0m 352ms/step - accuracy: 0.6738 - loss: 0.7136 - val_accuracy: 0.6146 - val_loss: 0.8710\n",
      "Epoch 208/400\n",
      "\u001b[1m 1/39\u001b[0m \u001b[37m━━━━━━━━━━━━━━━━━━━━\u001b[0m \u001b[1m1s\u001b[0m 31ms/step - accuracy: 0.6875 - loss: 0.7698"
     ]
    },
    {
     "name": "stderr",
     "output_type": "stream",
     "text": [
      "2024-10-25 01:01:18.779404: I tensorflow/core/framework/local_rendezvous.cc:423] Local rendezvous recv item cancelled. Key hash: 8056836469799998605\n",
      "2024-10-25 01:01:18.779470: I tensorflow/core/framework/local_rendezvous.cc:423] Local rendezvous recv item cancelled. Key hash: 16918664414020247758\n"
     ]
    },
    {
     "name": "stdout",
     "output_type": "stream",
     "text": [
      "\u001b[1m39/39\u001b[0m \u001b[32m━━━━━━━━━━━━━━━━━━━━\u001b[0m\u001b[37m\u001b[0m \u001b[1m0s\u001b[0m 6ms/step - accuracy: 0.6875 - loss: 0.7698 - val_accuracy: 0.5926 - val_loss: 0.9256\n",
      "Epoch 209/400\n"
     ]
    },
    {
     "name": "stderr",
     "output_type": "stream",
     "text": [
      "2024-10-25 01:01:19.012605: I tensorflow/core/framework/local_rendezvous.cc:423] Local rendezvous recv item cancelled. Key hash: 8056836469799998605\n",
      "2024-10-25 01:01:19.012666: I tensorflow/core/framework/local_rendezvous.cc:423] Local rendezvous recv item cancelled. Key hash: 16918664414020247758\n"
     ]
    },
    {
     "name": "stdout",
     "output_type": "stream",
     "text": [
      "\u001b[1m39/39\u001b[0m \u001b[32m━━━━━━━━━━━━━━━━━━━━\u001b[0m\u001b[37m\u001b[0m \u001b[1m13s\u001b[0m 346ms/step - accuracy: 0.7111 - loss: 0.7148 - val_accuracy: 0.6215 - val_loss: 0.8619\n",
      "Epoch 210/400\n",
      "\u001b[1m 1/39\u001b[0m \u001b[37m━━━━━━━━━━━━━━━━━━━━\u001b[0m \u001b[1m1s\u001b[0m 32ms/step - accuracy: 0.6562 - loss: 0.8691"
     ]
    },
    {
     "name": "stderr",
     "output_type": "stream",
     "text": [
      "2024-10-25 01:01:32.528905: I tensorflow/core/framework/local_rendezvous.cc:423] Local rendezvous recv item cancelled. Key hash: 8056836469799998605\n"
     ]
    },
    {
     "name": "stdout",
     "output_type": "stream",
     "text": [
      "\u001b[1m39/39\u001b[0m \u001b[32m━━━━━━━━━━━━━━━━━━━━\u001b[0m\u001b[37m\u001b[0m \u001b[1m0s\u001b[0m 6ms/step - accuracy: 0.6562 - loss: 0.8691 - val_accuracy: 0.6296 - val_loss: 0.9388\n",
      "Epoch 211/400\n"
     ]
    },
    {
     "name": "stderr",
     "output_type": "stream",
     "text": [
      "2024-10-25 01:01:32.768820: I tensorflow/core/framework/local_rendezvous.cc:423] Local rendezvous recv item cancelled. Key hash: 8056836469799998605\n",
      "2024-10-25 01:01:32.768862: I tensorflow/core/framework/local_rendezvous.cc:423] Local rendezvous recv item cancelled. Key hash: 16918664414020247758\n"
     ]
    },
    {
     "name": "stdout",
     "output_type": "stream",
     "text": [
      "\u001b[1m39/39\u001b[0m \u001b[32m━━━━━━━━━━━━━━━━━━━━\u001b[0m\u001b[37m\u001b[0m \u001b[1m13s\u001b[0m 343ms/step - accuracy: 0.7022 - loss: 0.7012 - val_accuracy: 0.6285 - val_loss: 0.8613\n",
      "Epoch 212/400\n",
      "\u001b[1m 1/39\u001b[0m \u001b[37m━━━━━━━━━━━━━━━━━━━━\u001b[0m \u001b[1m1s\u001b[0m 32ms/step - accuracy: 0.8438 - loss: 0.4901"
     ]
    },
    {
     "name": "stderr",
     "output_type": "stream",
     "text": [
      "2024-10-25 01:01:46.175087: I tensorflow/core/framework/local_rendezvous.cc:423] Local rendezvous recv item cancelled. Key hash: 8056836469799998605\n"
     ]
    },
    {
     "name": "stdout",
     "output_type": "stream",
     "text": [
      "\u001b[1m39/39\u001b[0m \u001b[32m━━━━━━━━━━━━━━━━━━━━\u001b[0m\u001b[37m\u001b[0m \u001b[1m0s\u001b[0m 6ms/step - accuracy: 0.8438 - loss: 0.4901 - val_accuracy: 0.4815 - val_loss: 1.0393\n",
      "Epoch 213/400\n"
     ]
    },
    {
     "name": "stderr",
     "output_type": "stream",
     "text": [
      "2024-10-25 01:01:46.424688: I tensorflow/core/framework/local_rendezvous.cc:423] Local rendezvous recv item cancelled. Key hash: 8056836469799998605\n",
      "2024-10-25 01:01:46.424737: I tensorflow/core/framework/local_rendezvous.cc:423] Local rendezvous recv item cancelled. Key hash: 16918664414020247758\n"
     ]
    },
    {
     "name": "stdout",
     "output_type": "stream",
     "text": [
      "\u001b[1m39/39\u001b[0m \u001b[32m━━━━━━━━━━━━━━━━━━━━\u001b[0m\u001b[37m\u001b[0m \u001b[1m14s\u001b[0m 352ms/step - accuracy: 0.6892 - loss: 0.6944 - val_accuracy: 0.6181 - val_loss: 0.9087\n",
      "Epoch 214/400\n",
      "\u001b[1m 1/39\u001b[0m \u001b[37m━━━━━━━━━━━━━━━━━━━━\u001b[0m \u001b[1m1s\u001b[0m 35ms/step - accuracy: 0.5938 - loss: 0.8123"
     ]
    },
    {
     "name": "stderr",
     "output_type": "stream",
     "text": [
      "2024-10-25 01:02:00.158574: I tensorflow/core/framework/local_rendezvous.cc:423] Local rendezvous recv item cancelled. Key hash: 8056836469799998605\n",
      "2024-10-25 01:02:00.158638: I tensorflow/core/framework/local_rendezvous.cc:423] Local rendezvous recv item cancelled. Key hash: 16918664414020247758\n"
     ]
    },
    {
     "name": "stdout",
     "output_type": "stream",
     "text": [
      "\u001b[1m39/39\u001b[0m \u001b[32m━━━━━━━━━━━━━━━━━━━━\u001b[0m\u001b[37m\u001b[0m \u001b[1m0s\u001b[0m 6ms/step - accuracy: 0.5938 - loss: 0.8123 - val_accuracy: 0.6296 - val_loss: 0.6418\n",
      "Epoch 215/400\n",
      "\u001b[1m39/39\u001b[0m \u001b[32m━━━━━━━━━━━━━━━━━━━━\u001b[0m\u001b[37m\u001b[0m \u001b[1m14s\u001b[0m 351ms/step - accuracy: 0.6887 - loss: 0.7087 - val_accuracy: 0.5833 - val_loss: 0.9287\n",
      "Epoch 216/400\n",
      "\u001b[1m 1/39\u001b[0m \u001b[37m━━━━━━━━━━━━━━━━━━━━\u001b[0m \u001b[1m1s\u001b[0m 31ms/step - accuracy: 0.6562 - loss: 0.6540"
     ]
    },
    {
     "name": "stderr",
     "output_type": "stream",
     "text": [
      "2024-10-25 01:02:14.112708: I tensorflow/core/framework/local_rendezvous.cc:423] Local rendezvous recv item cancelled. Key hash: 8056836469799998605\n"
     ]
    },
    {
     "name": "stdout",
     "output_type": "stream",
     "text": [
      "\u001b[1m39/39\u001b[0m \u001b[32m━━━━━━━━━━━━━━━━━━━━\u001b[0m\u001b[37m\u001b[0m \u001b[1m0s\u001b[0m 6ms/step - accuracy: 0.6562 - loss: 0.6540 - val_accuracy: 0.7407 - val_loss: 0.7290\n",
      "Epoch 217/400\n"
     ]
    },
    {
     "name": "stderr",
     "output_type": "stream",
     "text": [
      "2024-10-25 01:02:14.333437: I tensorflow/core/framework/local_rendezvous.cc:423] Local rendezvous recv item cancelled. Key hash: 8056836469799998605\n",
      "2024-10-25 01:02:14.333505: I tensorflow/core/framework/local_rendezvous.cc:423] Local rendezvous recv item cancelled. Key hash: 16918664414020247758\n"
     ]
    },
    {
     "name": "stdout",
     "output_type": "stream",
     "text": [
      "\u001b[1m39/39\u001b[0m \u001b[32m━━━━━━━━━━━━━━━━━━━━\u001b[0m\u001b[37m\u001b[0m \u001b[1m14s\u001b[0m 351ms/step - accuracy: 0.6696 - loss: 0.7370 - val_accuracy: 0.6076 - val_loss: 0.8950\n",
      "Epoch 218/400\n",
      "\u001b[1m 1/39\u001b[0m \u001b[37m━━━━━━━━━━━━━━━━━━━━\u001b[0m \u001b[1m1s\u001b[0m 33ms/step - accuracy: 0.7188 - loss: 0.6969"
     ]
    },
    {
     "name": "stderr",
     "output_type": "stream",
     "text": [
      "2024-10-25 01:02:28.036656: I tensorflow/core/framework/local_rendezvous.cc:423] Local rendezvous recv item cancelled. Key hash: 8056836469799998605\n"
     ]
    },
    {
     "name": "stdout",
     "output_type": "stream",
     "text": [
      "\u001b[1m39/39\u001b[0m \u001b[32m━━━━━━━━━━━━━━━━━━━━\u001b[0m\u001b[37m\u001b[0m \u001b[1m0s\u001b[0m 6ms/step - accuracy: 0.7188 - loss: 0.6969 - val_accuracy: 0.4815 - val_loss: 0.8699\n",
      "Epoch 219/400\n"
     ]
    },
    {
     "name": "stderr",
     "output_type": "stream",
     "text": [
      "2024-10-25 01:02:28.270805: I tensorflow/core/framework/local_rendezvous.cc:423] Local rendezvous recv item cancelled. Key hash: 8056836469799998605\n",
      "2024-10-25 01:02:28.270873: I tensorflow/core/framework/local_rendezvous.cc:423] Local rendezvous recv item cancelled. Key hash: 16918664414020247758\n"
     ]
    },
    {
     "name": "stdout",
     "output_type": "stream",
     "text": [
      "\u001b[1m39/39\u001b[0m \u001b[32m━━━━━━━━━━━━━━━━━━━━\u001b[0m\u001b[37m\u001b[0m \u001b[1m14s\u001b[0m 349ms/step - accuracy: 0.7056 - loss: 0.7000 - val_accuracy: 0.6285 - val_loss: 0.8307\n",
      "Epoch 220/400\n",
      "\u001b[1m 1/39\u001b[0m \u001b[37m━━━━━━━━━━━━━━━━━━━━\u001b[0m \u001b[1m1s\u001b[0m 35ms/step - accuracy: 0.7812 - loss: 0.5567"
     ]
    },
    {
     "name": "stderr",
     "output_type": "stream",
     "text": [
      "2024-10-25 01:02:41.912083: I tensorflow/core/framework/local_rendezvous.cc:423] Local rendezvous recv item cancelled. Key hash: 8056836469799998605\n",
      "2024-10-25 01:02:41.912151: I tensorflow/core/framework/local_rendezvous.cc:423] Local rendezvous recv item cancelled. Key hash: 16918664414020247758\n"
     ]
    },
    {
     "name": "stdout",
     "output_type": "stream",
     "text": [
      "\u001b[1m39/39\u001b[0m \u001b[32m━━━━━━━━━━━━━━━━━━━━\u001b[0m\u001b[37m\u001b[0m \u001b[1m0s\u001b[0m 7ms/step - accuracy: 0.7812 - loss: 0.5567 - val_accuracy: 0.4074 - val_loss: 1.1421\n",
      "Epoch 221/400\n"
     ]
    },
    {
     "name": "stderr",
     "output_type": "stream",
     "text": [
      "2024-10-25 01:02:42.166908: I tensorflow/core/framework/local_rendezvous.cc:423] Local rendezvous recv item cancelled. Key hash: 8056836469799998605\n",
      "2024-10-25 01:02:42.167045: I tensorflow/core/framework/local_rendezvous.cc:423] Local rendezvous recv item cancelled. Key hash: 16918664414020247758\n"
     ]
    },
    {
     "name": "stdout",
     "output_type": "stream",
     "text": [
      "\u001b[1m39/39\u001b[0m \u001b[32m━━━━━━━━━━━━━━━━━━━━\u001b[0m\u001b[37m\u001b[0m \u001b[1m14s\u001b[0m 358ms/step - accuracy: 0.6868 - loss: 0.6909 - val_accuracy: 0.6215 - val_loss: 0.8793\n",
      "Epoch 222/400\n",
      "\u001b[1m39/39\u001b[0m \u001b[32m━━━━━━━━━━━━━━━━━━━━\u001b[0m\u001b[37m\u001b[0m \u001b[1m0s\u001b[0m 5ms/step - accuracy: 0.7500 - loss: 0.6274 - val_accuracy: 0.6667 - val_loss: 0.8551\n",
      "Epoch 223/400\n"
     ]
    },
    {
     "name": "stderr",
     "output_type": "stream",
     "text": [
      "2024-10-25 01:02:56.368120: I tensorflow/core/framework/local_rendezvous.cc:423] Local rendezvous recv item cancelled. Key hash: 8056836469799998605\n",
      "2024-10-25 01:02:56.368162: I tensorflow/core/framework/local_rendezvous.cc:423] Local rendezvous recv item cancelled. Key hash: 16918664414020247758\n"
     ]
    },
    {
     "name": "stdout",
     "output_type": "stream",
     "text": [
      "\u001b[1m39/39\u001b[0m \u001b[32m━━━━━━━━━━━━━━━━━━━━\u001b[0m\u001b[37m\u001b[0m \u001b[1m14s\u001b[0m 351ms/step - accuracy: 0.7020 - loss: 0.6732 - val_accuracy: 0.6146 - val_loss: 0.8465\n",
      "Epoch 224/400\n",
      "\u001b[1m39/39\u001b[0m \u001b[32m━━━━━━━━━━━━━━━━━━━━\u001b[0m\u001b[37m\u001b[0m \u001b[1m0s\u001b[0m 6ms/step - accuracy: 0.8125 - loss: 0.5981 - val_accuracy: 0.5556 - val_loss: 0.8025\n",
      "Epoch 225/400\n"
     ]
    },
    {
     "name": "stderr",
     "output_type": "stream",
     "text": [
      "2024-10-25 01:03:10.310109: I tensorflow/core/framework/local_rendezvous.cc:423] Local rendezvous recv item cancelled. Key hash: 16918664414020247758\n"
     ]
    },
    {
     "name": "stdout",
     "output_type": "stream",
     "text": [
      "\u001b[1m39/39\u001b[0m \u001b[32m━━━━━━━━━━━━━━━━━━━━\u001b[0m\u001b[37m\u001b[0m \u001b[1m14s\u001b[0m 350ms/step - accuracy: 0.7142 - loss: 0.6887 - val_accuracy: 0.6111 - val_loss: 0.8765\n",
      "Epoch 226/400\n",
      "\u001b[1m 1/39\u001b[0m \u001b[37m━━━━━━━━━━━━━━━━━━━━\u001b[0m \u001b[1m1s\u001b[0m 33ms/step - accuracy: 0.6875 - loss: 0.6741"
     ]
    },
    {
     "name": "stderr",
     "output_type": "stream",
     "text": [
      "2024-10-25 01:03:23.981752: I tensorflow/core/framework/local_rendezvous.cc:423] Local rendezvous recv item cancelled. Key hash: 8056836469799998605\n"
     ]
    },
    {
     "name": "stdout",
     "output_type": "stream",
     "text": [
      "\u001b[1m39/39\u001b[0m \u001b[32m━━━━━━━━━━━━━━━━━━━━\u001b[0m\u001b[37m\u001b[0m \u001b[1m0s\u001b[0m 6ms/step - accuracy: 0.6875 - loss: 0.6741 - val_accuracy: 0.4815 - val_loss: 1.0029\n",
      "Epoch 227/400\n",
      "\u001b[1m39/39\u001b[0m \u001b[32m━━━━━━━━━━━━━━━━━━━━\u001b[0m\u001b[37m\u001b[0m \u001b[1m13s\u001b[0m 344ms/step - accuracy: 0.7179 - loss: 0.6750 - val_accuracy: 0.5486 - val_loss: 0.9154\n",
      "Epoch 228/400\n",
      "\u001b[1m 1/39\u001b[0m \u001b[37m━━━━━━━━━━━━━━━━━━━━\u001b[0m \u001b[1m1s\u001b[0m 31ms/step - accuracy: 0.5625 - loss: 0.9915"
     ]
    },
    {
     "name": "stderr",
     "output_type": "stream",
     "text": [
      "2024-10-25 01:03:37.655364: I tensorflow/core/framework/local_rendezvous.cc:423] Local rendezvous recv item cancelled. Key hash: 8056836469799998605\n"
     ]
    },
    {
     "name": "stdout",
     "output_type": "stream",
     "text": [
      "\u001b[1m39/39\u001b[0m \u001b[32m━━━━━━━━━━━━━━━━━━━━\u001b[0m\u001b[37m\u001b[0m \u001b[1m0s\u001b[0m 6ms/step - accuracy: 0.5625 - loss: 0.9915 - val_accuracy: 0.6296 - val_loss: 0.8803\n",
      "Epoch 229/400\n"
     ]
    },
    {
     "name": "stderr",
     "output_type": "stream",
     "text": [
      "2024-10-25 01:03:37.885501: I tensorflow/core/framework/local_rendezvous.cc:423] Local rendezvous recv item cancelled. Key hash: 8056836469799998605\n",
      "2024-10-25 01:03:37.885556: I tensorflow/core/framework/local_rendezvous.cc:423] Local rendezvous recv item cancelled. Key hash: 16918664414020247758\n"
     ]
    },
    {
     "name": "stdout",
     "output_type": "stream",
     "text": [
      "\u001b[1m39/39\u001b[0m \u001b[32m━━━━━━━━━━━━━━━━━━━━\u001b[0m\u001b[37m\u001b[0m \u001b[1m13s\u001b[0m 344ms/step - accuracy: 0.7040 - loss: 0.6916 - val_accuracy: 0.6181 - val_loss: 0.8347\n",
      "Epoch 230/400\n",
      "\u001b[1m 1/39\u001b[0m \u001b[37m━━━━━━━━━━━━━━━━━━━━\u001b[0m \u001b[1m1s\u001b[0m 32ms/step - accuracy: 0.6875 - loss: 0.7407"
     ]
    },
    {
     "name": "stderr",
     "output_type": "stream",
     "text": [
      "2024-10-25 01:03:51.310311: I tensorflow/core/framework/local_rendezvous.cc:423] Local rendezvous recv item cancelled. Key hash: 8056836469799998605\n"
     ]
    },
    {
     "name": "stdout",
     "output_type": "stream",
     "text": [
      "\u001b[1m39/39\u001b[0m \u001b[32m━━━━━━━━━━━━━━━━━━━━\u001b[0m\u001b[37m\u001b[0m \u001b[1m0s\u001b[0m 6ms/step - accuracy: 0.6875 - loss: 0.7407 - val_accuracy: 0.5926 - val_loss: 0.8546\n",
      "Epoch 231/400\n"
     ]
    },
    {
     "name": "stderr",
     "output_type": "stream",
     "text": [
      "2024-10-25 01:03:51.540377: I tensorflow/core/framework/local_rendezvous.cc:423] Local rendezvous recv item cancelled. Key hash: 8056836469799998605\n",
      "2024-10-25 01:03:51.540427: I tensorflow/core/framework/local_rendezvous.cc:423] Local rendezvous recv item cancelled. Key hash: 16918664414020247758\n"
     ]
    },
    {
     "name": "stdout",
     "output_type": "stream",
     "text": [
      "\u001b[1m39/39\u001b[0m \u001b[32m━━━━━━━━━━━━━━━━━━━━\u001b[0m\u001b[37m\u001b[0m \u001b[1m14s\u001b[0m 349ms/step - accuracy: 0.6971 - loss: 0.7021 - val_accuracy: 0.6007 - val_loss: 0.8871\n",
      "Epoch 232/400\n",
      "\u001b[1m 1/39\u001b[0m \u001b[37m━━━━━━━━━━━━━━━━━━━━\u001b[0m \u001b[1m1s\u001b[0m 33ms/step - accuracy: 0.7500 - loss: 0.6475"
     ]
    },
    {
     "name": "stderr",
     "output_type": "stream",
     "text": [
      "2024-10-25 01:04:05.201993: I tensorflow/core/framework/local_rendezvous.cc:423] Local rendezvous recv item cancelled. Key hash: 8056836469799998605\n",
      "2024-10-25 01:04:05.202329: I tensorflow/core/framework/local_rendezvous.cc:423] Local rendezvous recv item cancelled. Key hash: 16918664414020247758\n"
     ]
    },
    {
     "name": "stdout",
     "output_type": "stream",
     "text": [
      "\u001b[1m39/39\u001b[0m \u001b[32m━━━━━━━━━━━━━━━━━━━━\u001b[0m\u001b[37m\u001b[0m \u001b[1m0s\u001b[0m 6ms/step - accuracy: 0.7500 - loss: 0.6475 - val_accuracy: 0.7407 - val_loss: 0.7583\n",
      "Epoch 233/400\n"
     ]
    },
    {
     "name": "stderr",
     "output_type": "stream",
     "text": [
      "2024-10-25 01:04:05.432969: I tensorflow/core/framework/local_rendezvous.cc:423] Local rendezvous recv item cancelled. Key hash: 8056836469799998605\n",
      "2024-10-25 01:04:05.433052: I tensorflow/core/framework/local_rendezvous.cc:423] Local rendezvous recv item cancelled. Key hash: 16918664414020247758\n"
     ]
    },
    {
     "name": "stdout",
     "output_type": "stream",
     "text": [
      "\u001b[1m39/39\u001b[0m \u001b[32m━━━━━━━━━━━━━━━━━━━━\u001b[0m\u001b[37m\u001b[0m \u001b[1m14s\u001b[0m 352ms/step - accuracy: 0.6997 - loss: 0.6881 - val_accuracy: 0.6389 - val_loss: 0.8497\n",
      "Epoch 234/400\n",
      "\u001b[1m 1/39\u001b[0m \u001b[37m━━━━━━━━━━━━━━━━━━━━\u001b[0m \u001b[1m1s\u001b[0m 31ms/step - accuracy: 0.7500 - loss: 0.7069"
     ]
    },
    {
     "name": "stderr",
     "output_type": "stream",
     "text": [
      "2024-10-25 01:04:19.181687: I tensorflow/core/framework/local_rendezvous.cc:423] Local rendezvous recv item cancelled. Key hash: 8056836469799998605\n",
      "2024-10-25 01:04:19.181740: I tensorflow/core/framework/local_rendezvous.cc:423] Local rendezvous recv item cancelled. Key hash: 16918664414020247758\n"
     ]
    },
    {
     "name": "stdout",
     "output_type": "stream",
     "text": [
      "\u001b[1m39/39\u001b[0m \u001b[32m━━━━━━━━━━━━━━━━━━━━\u001b[0m\u001b[37m\u001b[0m \u001b[1m0s\u001b[0m 6ms/step - accuracy: 0.7500 - loss: 0.7069 - val_accuracy: 0.7778 - val_loss: 0.9155\n",
      "Epoch 235/400\n"
     ]
    },
    {
     "name": "stderr",
     "output_type": "stream",
     "text": [
      "2024-10-25 01:04:19.420997: I tensorflow/core/framework/local_rendezvous.cc:423] Local rendezvous recv item cancelled. Key hash: 16918664414020247758\n"
     ]
    },
    {
     "name": "stdout",
     "output_type": "stream",
     "text": [
      "\u001b[1m39/39\u001b[0m \u001b[32m━━━━━━━━━━━━━━━━━━━━\u001b[0m\u001b[37m\u001b[0m \u001b[1m14s\u001b[0m 351ms/step - accuracy: 0.7177 - loss: 0.6753 - val_accuracy: 0.6250 - val_loss: 0.8416\n",
      "Epoch 236/400\n",
      "\u001b[1m39/39\u001b[0m \u001b[32m━━━━━━━━━━━━━━━━━━━━\u001b[0m\u001b[37m\u001b[0m \u001b[1m0s\u001b[0m 7ms/step - accuracy: 0.6471 - loss: 0.7413 - val_accuracy: 0.5926 - val_loss: 1.1622\n",
      "Epoch 237/400\n"
     ]
    },
    {
     "name": "stderr",
     "output_type": "stream",
     "text": [
      "2024-10-25 01:04:33.372996: I tensorflow/core/framework/local_rendezvous.cc:423] Local rendezvous recv item cancelled. Key hash: 8056836469799998605\n",
      "2024-10-25 01:04:33.373052: I tensorflow/core/framework/local_rendezvous.cc:423] Local rendezvous recv item cancelled. Key hash: 16918664414020247758\n"
     ]
    },
    {
     "name": "stdout",
     "output_type": "stream",
     "text": [
      "\u001b[1m39/39\u001b[0m \u001b[32m━━━━━━━━━━━━━━━━━━━━\u001b[0m\u001b[37m\u001b[0m \u001b[1m13s\u001b[0m 343ms/step - accuracy: 0.7113 - loss: 0.6861 - val_accuracy: 0.6076 - val_loss: 0.9069\n",
      "Epoch 238/400\n",
      "\u001b[1m 1/39\u001b[0m \u001b[37m━━━━━━━━━━━━━━━━━━━━\u001b[0m \u001b[1m1s\u001b[0m 33ms/step - accuracy: 0.6562 - loss: 0.6414"
     ]
    },
    {
     "name": "stderr",
     "output_type": "stream",
     "text": [
      "2024-10-25 01:04:46.779787: I tensorflow/core/framework/local_rendezvous.cc:423] Local rendezvous recv item cancelled. Key hash: 8056836469799998605\n",
      "2024-10-25 01:04:46.779917: I tensorflow/core/framework/local_rendezvous.cc:423] Local rendezvous recv item cancelled. Key hash: 16918664414020247758\n"
     ]
    },
    {
     "name": "stdout",
     "output_type": "stream",
     "text": [
      "\u001b[1m39/39\u001b[0m \u001b[32m━━━━━━━━━━━━━━━━━━━━\u001b[0m\u001b[37m\u001b[0m \u001b[1m0s\u001b[0m 8ms/step - accuracy: 0.6562 - loss: 0.6414 - val_accuracy: 0.5926 - val_loss: 0.9309\n",
      "Epoch 239/400\n",
      "\u001b[1m39/39\u001b[0m \u001b[32m━━━━━━━━━━━━━━━━━━━━\u001b[0m\u001b[37m\u001b[0m \u001b[1m14s\u001b[0m 348ms/step - accuracy: 0.6946 - loss: 0.6844 - val_accuracy: 0.6076 - val_loss: 0.8978\n",
      "Epoch 240/400\n",
      "\u001b[1m 1/39\u001b[0m \u001b[37m━━━━━━━━━━━━━━━━━━━━\u001b[0m \u001b[1m1s\u001b[0m 34ms/step - accuracy: 0.6562 - loss: 0.6402"
     ]
    },
    {
     "name": "stderr",
     "output_type": "stream",
     "text": [
      "2024-10-25 01:05:00.690097: I tensorflow/core/framework/local_rendezvous.cc:423] Local rendezvous recv item cancelled. Key hash: 8056836469799998605\n"
     ]
    },
    {
     "name": "stdout",
     "output_type": "stream",
     "text": [
      "\u001b[1m39/39\u001b[0m \u001b[32m━━━━━━━━━━━━━━━━━━━━\u001b[0m\u001b[37m\u001b[0m \u001b[1m0s\u001b[0m 7ms/step - accuracy: 0.6562 - loss: 0.6402 - val_accuracy: 0.6296 - val_loss: 0.7615\n",
      "Epoch 241/400\n"
     ]
    },
    {
     "name": "stderr",
     "output_type": "stream",
     "text": [
      "2024-10-25 01:05:00.946113: I tensorflow/core/framework/local_rendezvous.cc:423] Local rendezvous recv item cancelled. Key hash: 16918664414020247758\n"
     ]
    },
    {
     "name": "stdout",
     "output_type": "stream",
     "text": [
      "\u001b[1m39/39\u001b[0m \u001b[32m━━━━━━━━━━━━━━━━━━━━\u001b[0m\u001b[37m\u001b[0m \u001b[1m14s\u001b[0m 352ms/step - accuracy: 0.7203 - loss: 0.6514 - val_accuracy: 0.6285 - val_loss: 0.8848\n",
      "Epoch 242/400\n",
      "\u001b[1m 1/39\u001b[0m \u001b[37m━━━━━━━━━━━━━━━━━━━━\u001b[0m \u001b[1m1s\u001b[0m 32ms/step - accuracy: 0.6875 - loss: 0.6704"
     ]
    },
    {
     "name": "stderr",
     "output_type": "stream",
     "text": [
      "2024-10-25 01:05:14.698403: I tensorflow/core/framework/local_rendezvous.cc:423] Local rendezvous recv item cancelled. Key hash: 8056836469799998605\n",
      "2024-10-25 01:05:14.698520: I tensorflow/core/framework/local_rendezvous.cc:423] Local rendezvous recv item cancelled. Key hash: 16918664414020247758\n"
     ]
    },
    {
     "name": "stdout",
     "output_type": "stream",
     "text": [
      "\u001b[1m39/39\u001b[0m \u001b[32m━━━━━━━━━━━━━━━━━━━━\u001b[0m\u001b[37m\u001b[0m \u001b[1m0s\u001b[0m 6ms/step - accuracy: 0.6875 - loss: 0.6704 - val_accuracy: 0.7037 - val_loss: 0.7236\n",
      "Epoch 243/400\n",
      "\u001b[1m39/39\u001b[0m \u001b[32m━━━━━━━━━━━━━━━━━━━━\u001b[0m\u001b[37m\u001b[0m \u001b[1m14s\u001b[0m 350ms/step - accuracy: 0.7112 - loss: 0.6488 - val_accuracy: 0.5868 - val_loss: 0.8888\n",
      "Epoch 244/400\n",
      "\u001b[1m 1/39\u001b[0m \u001b[37m━━━━━━━━━━━━━━━━━━━━\u001b[0m \u001b[1m1s\u001b[0m 33ms/step - accuracy: 0.7188 - loss: 0.6749"
     ]
    },
    {
     "name": "stderr",
     "output_type": "stream",
     "text": [
      "2024-10-25 01:05:28.629228: I tensorflow/core/framework/local_rendezvous.cc:423] Local rendezvous recv item cancelled. Key hash: 8056836469799998605\n"
     ]
    },
    {
     "name": "stdout",
     "output_type": "stream",
     "text": [
      "\u001b[1m39/39\u001b[0m \u001b[32m━━━━━━━━━━━━━━━━━━━━\u001b[0m\u001b[37m\u001b[0m \u001b[1m0s\u001b[0m 6ms/step - accuracy: 0.7188 - loss: 0.6749 - val_accuracy: 0.6296 - val_loss: 0.8503\n",
      "Epoch 245/400\n",
      "\u001b[1m39/39\u001b[0m \u001b[32m━━━━━━━━━━━━━━━━━━━━\u001b[0m\u001b[37m\u001b[0m \u001b[1m13s\u001b[0m 346ms/step - accuracy: 0.7187 - loss: 0.6929 - val_accuracy: 0.6007 - val_loss: 0.8683\n",
      "Epoch 246/400\n",
      "\u001b[1m 1/39\u001b[0m \u001b[37m━━━━━━━━━━━━━━━━━━━━\u001b[0m \u001b[1m1s\u001b[0m 34ms/step - accuracy: 0.6562 - loss: 0.8245"
     ]
    },
    {
     "name": "stderr",
     "output_type": "stream",
     "text": [
      "2024-10-25 01:05:42.370384: I tensorflow/core/framework/local_rendezvous.cc:423] Local rendezvous recv item cancelled. Key hash: 8056836469799998605\n",
      "2024-10-25 01:05:42.370503: I tensorflow/core/framework/local_rendezvous.cc:423] Local rendezvous recv item cancelled. Key hash: 16918664414020247758\n"
     ]
    },
    {
     "name": "stdout",
     "output_type": "stream",
     "text": [
      "\u001b[1m39/39\u001b[0m \u001b[32m━━━━━━━━━━━━━━━━━━━━\u001b[0m\u001b[37m\u001b[0m \u001b[1m0s\u001b[0m 5ms/step - accuracy: 0.6562 - loss: 0.8245 - val_accuracy: 0.7037 - val_loss: 0.7617\n",
      "Epoch 247/400\n",
      "\u001b[1m39/39\u001b[0m \u001b[32m━━━━━━━━━━━━━━━━━━━━\u001b[0m\u001b[37m\u001b[0m \u001b[1m14s\u001b[0m 350ms/step - accuracy: 0.7085 - loss: 0.6669 - val_accuracy: 0.6111 - val_loss: 0.9460\n",
      "Epoch 248/400\n",
      "\u001b[1m 1/39\u001b[0m \u001b[37m━━━━━━━━━━━━━━━━━━━━\u001b[0m \u001b[1m1s\u001b[0m 33ms/step - accuracy: 0.6250 - loss: 0.8298"
     ]
    },
    {
     "name": "stderr",
     "output_type": "stream",
     "text": [
      "2024-10-25 01:05:56.267873: I tensorflow/core/framework/local_rendezvous.cc:423] Local rendezvous recv item cancelled. Key hash: 8056836469799998605\n"
     ]
    },
    {
     "name": "stdout",
     "output_type": "stream",
     "text": [
      "\u001b[1m39/39\u001b[0m \u001b[32m━━━━━━━━━━━━━━━━━━━━\u001b[0m\u001b[37m\u001b[0m \u001b[1m0s\u001b[0m 6ms/step - accuracy: 0.6250 - loss: 0.8298 - val_accuracy: 0.5926 - val_loss: 0.7839\n",
      "Epoch 249/400\n"
     ]
    },
    {
     "name": "stderr",
     "output_type": "stream",
     "text": [
      "2024-10-25 01:05:56.510363: I tensorflow/core/framework/local_rendezvous.cc:423] Local rendezvous recv item cancelled. Key hash: 8056836469799998605\n",
      "2024-10-25 01:05:56.510417: I tensorflow/core/framework/local_rendezvous.cc:423] Local rendezvous recv item cancelled. Key hash: 16918664414020247758\n"
     ]
    },
    {
     "name": "stdout",
     "output_type": "stream",
     "text": [
      "\u001b[1m39/39\u001b[0m \u001b[32m━━━━━━━━━━━━━━━━━━━━\u001b[0m\u001b[37m\u001b[0m \u001b[1m14s\u001b[0m 349ms/step - accuracy: 0.7208 - loss: 0.6494 - val_accuracy: 0.6250 - val_loss: 0.8843\n",
      "Epoch 250/400\n",
      "\u001b[1m 1/39\u001b[0m \u001b[37m━━━━━━━━━━━━━━━━━━━━\u001b[0m \u001b[1m1s\u001b[0m 30ms/step - accuracy: 0.6875 - loss: 0.7562"
     ]
    },
    {
     "name": "stderr",
     "output_type": "stream",
     "text": [
      "2024-10-25 01:06:10.143189: I tensorflow/core/framework/local_rendezvous.cc:423] Local rendezvous recv item cancelled. Key hash: 8056836469799998605\n"
     ]
    },
    {
     "name": "stdout",
     "output_type": "stream",
     "text": [
      "\u001b[1m39/39\u001b[0m \u001b[32m━━━━━━━━━━━━━━━━━━━━\u001b[0m\u001b[37m\u001b[0m \u001b[1m0s\u001b[0m 7ms/step - accuracy: 0.6875 - loss: 0.7562 - val_accuracy: 0.4444 - val_loss: 0.9840\n",
      "Epoch 251/400\n"
     ]
    },
    {
     "name": "stderr",
     "output_type": "stream",
     "text": [
      "2024-10-25 01:06:10.401425: I tensorflow/core/framework/local_rendezvous.cc:423] Local rendezvous recv item cancelled. Key hash: 8056836469799998605\n",
      "2024-10-25 01:06:10.401486: I tensorflow/core/framework/local_rendezvous.cc:423] Local rendezvous recv item cancelled. Key hash: 16918664414020247758\n"
     ]
    },
    {
     "name": "stdout",
     "output_type": "stream",
     "text": [
      "\u001b[1m39/39\u001b[0m \u001b[32m━━━━━━━━━━━━━━━━━━━━\u001b[0m\u001b[37m\u001b[0m \u001b[1m14s\u001b[0m 350ms/step - accuracy: 0.7087 - loss: 0.6811 - val_accuracy: 0.6354 - val_loss: 0.8546\n",
      "Epoch 252/400\n",
      "\u001b[1m 1/39\u001b[0m \u001b[37m━━━━━━━━━━━━━━━━━━━━\u001b[0m \u001b[1m1s\u001b[0m 32ms/step - accuracy: 0.8750 - loss: 0.4700"
     ]
    },
    {
     "name": "stderr",
     "output_type": "stream",
     "text": [
      "2024-10-25 01:06:24.083331: I tensorflow/core/framework/local_rendezvous.cc:423] Local rendezvous recv item cancelled. Key hash: 8056836469799998605\n",
      "2024-10-25 01:06:24.083446: I tensorflow/core/framework/local_rendezvous.cc:423] Local rendezvous recv item cancelled. Key hash: 16918664414020247758\n"
     ]
    },
    {
     "name": "stdout",
     "output_type": "stream",
     "text": [
      "\u001b[1m39/39\u001b[0m \u001b[32m━━━━━━━━━━━━━━━━━━━━\u001b[0m\u001b[37m\u001b[0m \u001b[1m0s\u001b[0m 8ms/step - accuracy: 0.8750 - loss: 0.4700 - val_accuracy: 0.5556 - val_loss: 1.0819\n",
      "Epoch 253/400\n"
     ]
    },
    {
     "name": "stderr",
     "output_type": "stream",
     "text": [
      "2024-10-25 01:06:24.378814: I tensorflow/core/framework/local_rendezvous.cc:423] Local rendezvous recv item cancelled. Key hash: 8056836469799998605\n",
      "2024-10-25 01:06:24.378859: I tensorflow/core/framework/local_rendezvous.cc:423] Local rendezvous recv item cancelled. Key hash: 16918664414020247758\n"
     ]
    },
    {
     "name": "stdout",
     "output_type": "stream",
     "text": [
      "\u001b[1m39/39\u001b[0m \u001b[32m━━━━━━━━━━━━━━━━━━━━\u001b[0m\u001b[37m\u001b[0m \u001b[1m14s\u001b[0m 353ms/step - accuracy: 0.7218 - loss: 0.6604 - val_accuracy: 0.6146 - val_loss: 0.8769\n",
      "Epoch 254/400\n",
      "\u001b[1m 1/39\u001b[0m \u001b[37m━━━━━━━━━━━━━━━━━━━━\u001b[0m \u001b[1m1s\u001b[0m 33ms/step - accuracy: 0.5625 - loss: 0.9665"
     ]
    },
    {
     "name": "stderr",
     "output_type": "stream",
     "text": [
      "2024-10-25 01:06:38.162845: I tensorflow/core/framework/local_rendezvous.cc:423] Local rendezvous recv item cancelled. Key hash: 8056836469799998605\n"
     ]
    },
    {
     "name": "stdout",
     "output_type": "stream",
     "text": [
      "\u001b[1m39/39\u001b[0m \u001b[32m━━━━━━━━━━━━━━━━━━━━\u001b[0m\u001b[37m\u001b[0m \u001b[1m0s\u001b[0m 6ms/step - accuracy: 0.5625 - loss: 0.9665 - val_accuracy: 0.7407 - val_loss: 0.6677\n",
      "Epoch 255/400\n",
      "\u001b[1m39/39\u001b[0m \u001b[32m━━━━━━━━━━━━━━━━━━━━\u001b[0m\u001b[37m\u001b[0m \u001b[1m14s\u001b[0m 350ms/step - accuracy: 0.7123 - loss: 0.6808 - val_accuracy: 0.5868 - val_loss: 0.8771\n",
      "Epoch 256/400\n",
      "\u001b[1m 1/39\u001b[0m \u001b[37m━━━━━━━━━━━━━━━━━━━━\u001b[0m \u001b[1m1s\u001b[0m 33ms/step - accuracy: 0.6875 - loss: 0.6927"
     ]
    },
    {
     "name": "stderr",
     "output_type": "stream",
     "text": [
      "2024-10-25 01:06:52.089908: I tensorflow/core/framework/local_rendezvous.cc:423] Local rendezvous recv item cancelled. Key hash: 8056836469799998605\n"
     ]
    },
    {
     "name": "stdout",
     "output_type": "stream",
     "text": [
      "\u001b[1m39/39\u001b[0m \u001b[32m━━━━━━━━━━━━━━━━━━━━\u001b[0m\u001b[37m\u001b[0m \u001b[1m0s\u001b[0m 6ms/step - accuracy: 0.6875 - loss: 0.6927 - val_accuracy: 0.6296 - val_loss: 0.9652\n",
      "Epoch 257/400\n"
     ]
    },
    {
     "name": "stderr",
     "output_type": "stream",
     "text": [
      "2024-10-25 01:06:52.303371: I tensorflow/core/framework/local_rendezvous.cc:404] Local rendezvous is aborting with status: OUT_OF_RANGE: End of sequence\n",
      "\t [[{{node IteratorGetNext}}]]\n",
      "\t [[IteratorGetNext/_2]]\n",
      "2024-10-25 01:06:52.303474: I tensorflow/core/framework/local_rendezvous.cc:423] Local rendezvous recv item cancelled. Key hash: 8056836469799998605\n",
      "2024-10-25 01:06:52.303517: I tensorflow/core/framework/local_rendezvous.cc:423] Local rendezvous recv item cancelled. Key hash: 16918664414020247758\n"
     ]
    },
    {
     "name": "stdout",
     "output_type": "stream",
     "text": [
      "\u001b[1m39/39\u001b[0m \u001b[32m━━━━━━━━━━━━━━━━━━━━\u001b[0m\u001b[37m\u001b[0m \u001b[1m14s\u001b[0m 350ms/step - accuracy: 0.7148 - loss: 0.6612 - val_accuracy: 0.5938 - val_loss: 0.8951\n",
      "Epoch 258/400\n",
      "\u001b[1m 1/39\u001b[0m \u001b[37m━━━━━━━━━━━━━━━━━━━━\u001b[0m \u001b[1m1s\u001b[0m 32ms/step - accuracy: 0.7812 - loss: 0.6187"
     ]
    },
    {
     "name": "stderr",
     "output_type": "stream",
     "text": [
      "2024-10-25 01:07:05.987614: I tensorflow/core/framework/local_rendezvous.cc:423] Local rendezvous recv item cancelled. Key hash: 8056836469799998605\n"
     ]
    },
    {
     "name": "stdout",
     "output_type": "stream",
     "text": [
      "\u001b[1m39/39\u001b[0m \u001b[32m━━━━━━━━━━━━━━━━━━━━\u001b[0m\u001b[37m\u001b[0m \u001b[1m0s\u001b[0m 6ms/step - accuracy: 0.7812 - loss: 0.6187 - val_accuracy: 0.7778 - val_loss: 0.6577\n",
      "Epoch 259/400\n",
      "\u001b[1m39/39\u001b[0m \u001b[32m━━━━━━━━━━━━━━━━━━━━\u001b[0m\u001b[37m\u001b[0m \u001b[1m14s\u001b[0m 347ms/step - accuracy: 0.7071 - loss: 0.6649 - val_accuracy: 0.6076 - val_loss: 0.8572\n",
      "Epoch 260/400\n",
      "\u001b[1m 1/39\u001b[0m \u001b[37m━━━━━━━━━━━━━━━━━━━━\u001b[0m \u001b[1m1s\u001b[0m 31ms/step - accuracy: 0.7812 - loss: 0.6452"
     ]
    },
    {
     "name": "stderr",
     "output_type": "stream",
     "text": [
      "2024-10-25 01:07:19.765608: I tensorflow/core/framework/local_rendezvous.cc:423] Local rendezvous recv item cancelled. Key hash: 8056836469799998605\n"
     ]
    },
    {
     "name": "stdout",
     "output_type": "stream",
     "text": [
      "\u001b[1m39/39\u001b[0m \u001b[32m━━━━━━━━━━━━━━━━━━━━\u001b[0m\u001b[37m\u001b[0m \u001b[1m0s\u001b[0m 6ms/step - accuracy: 0.7812 - loss: 0.6452 - val_accuracy: 0.3333 - val_loss: 1.3332\n",
      "Epoch 261/400\n"
     ]
    },
    {
     "name": "stderr",
     "output_type": "stream",
     "text": [
      "2024-10-25 01:07:19.981704: I tensorflow/core/framework/local_rendezvous.cc:423] Local rendezvous recv item cancelled. Key hash: 8056836469799998605\n",
      "2024-10-25 01:07:19.981814: I tensorflow/core/framework/local_rendezvous.cc:423] Local rendezvous recv item cancelled. Key hash: 16918664414020247758\n"
     ]
    },
    {
     "name": "stdout",
     "output_type": "stream",
     "text": [
      "\u001b[1m39/39\u001b[0m \u001b[32m━━━━━━━━━━━━━━━━━━━━\u001b[0m\u001b[37m\u001b[0m \u001b[1m13s\u001b[0m 342ms/step - accuracy: 0.7310 - loss: 0.6463 - val_accuracy: 0.6146 - val_loss: 0.8917\n",
      "Epoch 262/400\n",
      "\u001b[1m39/39\u001b[0m \u001b[32m━━━━━━━━━━━━━━━━━━━━\u001b[0m\u001b[37m\u001b[0m \u001b[1m0s\u001b[0m 6ms/step - accuracy: 0.8125 - loss: 0.4022 - val_accuracy: 0.6667 - val_loss: 0.8022\n",
      "Epoch 263/400\n"
     ]
    },
    {
     "name": "stderr",
     "output_type": "stream",
     "text": [
      "2024-10-25 01:07:33.579004: I tensorflow/core/framework/local_rendezvous.cc:423] Local rendezvous recv item cancelled. Key hash: 16918664414020247758\n"
     ]
    },
    {
     "name": "stdout",
     "output_type": "stream",
     "text": [
      "\u001b[1m39/39\u001b[0m \u001b[32m━━━━━━━━━━━━━━━━━━━━\u001b[0m\u001b[37m\u001b[0m \u001b[1m14s\u001b[0m 351ms/step - accuracy: 0.7293 - loss: 0.6564 - val_accuracy: 0.6076 - val_loss: 0.8945\n",
      "Epoch 264/400\n",
      "\u001b[1m 1/39\u001b[0m \u001b[37m━━━━━━━━━━━━━━━━━━━━\u001b[0m \u001b[1m1s\u001b[0m 34ms/step - accuracy: 0.6875 - loss: 0.8023"
     ]
    },
    {
     "name": "stderr",
     "output_type": "stream",
     "text": [
      "2024-10-25 01:07:47.270064: I tensorflow/core/framework/local_rendezvous.cc:423] Local rendezvous recv item cancelled. Key hash: 8056836469799998605\n",
      "2024-10-25 01:07:47.270133: I tensorflow/core/framework/local_rendezvous.cc:423] Local rendezvous recv item cancelled. Key hash: 16918664414020247758\n"
     ]
    },
    {
     "name": "stdout",
     "output_type": "stream",
     "text": [
      "\u001b[1m39/39\u001b[0m \u001b[32m━━━━━━━━━━━━━━━━━━━━\u001b[0m\u001b[37m\u001b[0m \u001b[1m0s\u001b[0m 6ms/step - accuracy: 0.6875 - loss: 0.8023 - val_accuracy: 0.8519 - val_loss: 0.5857\n",
      "Epoch 265/400\n"
     ]
    },
    {
     "name": "stderr",
     "output_type": "stream",
     "text": [
      "2024-10-25 01:07:47.486630: I tensorflow/core/framework/local_rendezvous.cc:423] Local rendezvous recv item cancelled. Key hash: 16918664414020247758\n"
     ]
    },
    {
     "name": "stdout",
     "output_type": "stream",
     "text": [
      "\u001b[1m39/39\u001b[0m \u001b[32m━━━━━━━━━━━━━━━━━━━━\u001b[0m\u001b[37m\u001b[0m \u001b[1m14s\u001b[0m 356ms/step - accuracy: 0.7265 - loss: 0.6569 - val_accuracy: 0.6285 - val_loss: 0.8472\n",
      "Epoch 266/400\n",
      "\u001b[1m 1/39\u001b[0m \u001b[37m━━━━━━━━━━━━━━━━━━━━\u001b[0m \u001b[1m1s\u001b[0m 35ms/step - accuracy: 0.7812 - loss: 0.7321"
     ]
    },
    {
     "name": "stderr",
     "output_type": "stream",
     "text": [
      "2024-10-25 01:08:01.395353: I tensorflow/core/framework/local_rendezvous.cc:423] Local rendezvous recv item cancelled. Key hash: 8056836469799998605\n"
     ]
    },
    {
     "name": "stdout",
     "output_type": "stream",
     "text": [
      "\u001b[1m39/39\u001b[0m \u001b[32m━━━━━━━━━━━━━━━━━━━━\u001b[0m\u001b[37m\u001b[0m \u001b[1m0s\u001b[0m 8ms/step - accuracy: 0.7812 - loss: 0.7321 - val_accuracy: 0.5556 - val_loss: 0.9034\n",
      "Epoch 267/400\n"
     ]
    },
    {
     "name": "stderr",
     "output_type": "stream",
     "text": [
      "2024-10-25 01:08:01.694142: I tensorflow/core/framework/local_rendezvous.cc:423] Local rendezvous recv item cancelled. Key hash: 8056836469799998605\n",
      "2024-10-25 01:08:01.694199: I tensorflow/core/framework/local_rendezvous.cc:423] Local rendezvous recv item cancelled. Key hash: 16918664414020247758\n"
     ]
    },
    {
     "name": "stdout",
     "output_type": "stream",
     "text": [
      "\u001b[1m39/39\u001b[0m \u001b[32m━━━━━━━━━━━━━━━━━━━━\u001b[0m\u001b[37m\u001b[0m \u001b[1m14s\u001b[0m 352ms/step - accuracy: 0.7314 - loss: 0.6506 - val_accuracy: 0.5868 - val_loss: 0.8747\n",
      "Epoch 268/400\n",
      "\u001b[1m 1/39\u001b[0m \u001b[37m━━━━━━━━━━━━━━━━━━━━\u001b[0m \u001b[1m1s\u001b[0m 31ms/step - accuracy: 0.9062 - loss: 0.4948"
     ]
    },
    {
     "name": "stderr",
     "output_type": "stream",
     "text": [
      "2024-10-25 01:08:15.432438: I tensorflow/core/framework/local_rendezvous.cc:423] Local rendezvous recv item cancelled. Key hash: 8056836469799998605\n"
     ]
    },
    {
     "name": "stdout",
     "output_type": "stream",
     "text": [
      "\u001b[1m39/39\u001b[0m \u001b[32m━━━━━━━━━━━━━━━━━━━━\u001b[0m\u001b[37m\u001b[0m \u001b[1m0s\u001b[0m 6ms/step - accuracy: 0.9062 - loss: 0.4948 - val_accuracy: 0.4815 - val_loss: 1.0265\n",
      "Epoch 269/400\n"
     ]
    },
    {
     "name": "stderr",
     "output_type": "stream",
     "text": [
      "2024-10-25 01:08:15.671888: I tensorflow/core/framework/local_rendezvous.cc:423] Local rendezvous recv item cancelled. Key hash: 8056836469799998605\n",
      "2024-10-25 01:08:15.671951: I tensorflow/core/framework/local_rendezvous.cc:423] Local rendezvous recv item cancelled. Key hash: 16918664414020247758\n"
     ]
    },
    {
     "name": "stdout",
     "output_type": "stream",
     "text": [
      "\u001b[1m39/39\u001b[0m \u001b[32m━━━━━━━━━━━━━━━━━━━━\u001b[0m\u001b[37m\u001b[0m \u001b[1m14s\u001b[0m 350ms/step - accuracy: 0.7059 - loss: 0.6844 - val_accuracy: 0.5903 - val_loss: 0.8901\n",
      "Epoch 270/400\n",
      "\u001b[1m 1/39\u001b[0m \u001b[37m━━━━━━━━━━━━━━━━━━━━\u001b[0m \u001b[1m1s\u001b[0m 31ms/step - accuracy: 0.7500 - loss: 0.5821"
     ]
    },
    {
     "name": "stderr",
     "output_type": "stream",
     "text": [
      "2024-10-25 01:08:29.366356: I tensorflow/core/framework/local_rendezvous.cc:423] Local rendezvous recv item cancelled. Key hash: 8056836469799998605\n"
     ]
    },
    {
     "name": "stdout",
     "output_type": "stream",
     "text": [
      "\u001b[1m39/39\u001b[0m \u001b[32m━━━━━━━━━━━━━━━━━━━━\u001b[0m\u001b[37m\u001b[0m \u001b[1m0s\u001b[0m 7ms/step - accuracy: 0.7500 - loss: 0.5821 - val_accuracy: 0.7037 - val_loss: 0.6968\n",
      "Epoch 271/400\n"
     ]
    },
    {
     "name": "stderr",
     "output_type": "stream",
     "text": [
      "2024-10-25 01:08:29.618737: I tensorflow/core/framework/local_rendezvous.cc:423] Local rendezvous recv item cancelled. Key hash: 8056836469799998605\n",
      "2024-10-25 01:08:29.618792: I tensorflow/core/framework/local_rendezvous.cc:423] Local rendezvous recv item cancelled. Key hash: 16918664414020247758\n"
     ]
    },
    {
     "name": "stdout",
     "output_type": "stream",
     "text": [
      "\u001b[1m39/39\u001b[0m \u001b[32m━━━━━━━━━━━━━━━━━━━━\u001b[0m\u001b[37m\u001b[0m \u001b[1m14s\u001b[0m 359ms/step - accuracy: 0.7454 - loss: 0.6396 - val_accuracy: 0.6285 - val_loss: 0.9120\n",
      "Epoch 272/400\n",
      "\u001b[1m39/39\u001b[0m \u001b[32m━━━━━━━━━━━━━━━━━━━━\u001b[0m\u001b[37m\u001b[0m \u001b[1m0s\u001b[0m 6ms/step - accuracy: 0.6250 - loss: 0.6695 - val_accuracy: 0.7778 - val_loss: 0.6845\n",
      "Epoch 273/400\n",
      "\u001b[1m39/39\u001b[0m \u001b[32m━━━━━━━━━━━━━━━━━━━━\u001b[0m\u001b[37m\u001b[0m \u001b[1m14s\u001b[0m 349ms/step - accuracy: 0.7105 - loss: 0.6356 - val_accuracy: 0.6215 - val_loss: 0.8969\n",
      "Epoch 274/400\n",
      "\u001b[1m39/39\u001b[0m \u001b[32m━━━━━━━━━━━━━━━━━━━━\u001b[0m\u001b[37m\u001b[0m \u001b[1m0s\u001b[0m 6ms/step - accuracy: 0.7188 - loss: 0.8613 - val_accuracy: 0.7407 - val_loss: 0.6477\n",
      "Epoch 275/400\n",
      "\u001b[1m39/39\u001b[0m \u001b[32m━━━━━━━━━━━━━━━━━━━━\u001b[0m\u001b[37m\u001b[0m \u001b[1m14s\u001b[0m 348ms/step - accuracy: 0.7207 - loss: 0.6304 - val_accuracy: 0.6181 - val_loss: 0.8915\n",
      "Epoch 276/400\n",
      "\u001b[1m 1/39\u001b[0m \u001b[37m━━━━━━━━━━━━━━━━━━━━\u001b[0m \u001b[1m1s\u001b[0m 38ms/step - accuracy: 0.5938 - loss: 0.7762"
     ]
    },
    {
     "name": "stderr",
     "output_type": "stream",
     "text": [
      "2024-10-25 01:09:11.364671: I tensorflow/core/framework/local_rendezvous.cc:423] Local rendezvous recv item cancelled. Key hash: 8056836469799998605\n"
     ]
    },
    {
     "name": "stdout",
     "output_type": "stream",
     "text": [
      "\u001b[1m39/39\u001b[0m \u001b[32m━━━━━━━━━━━━━━━━━━━━\u001b[0m\u001b[37m\u001b[0m \u001b[1m0s\u001b[0m 9ms/step - accuracy: 0.5938 - loss: 0.7762 - val_accuracy: 0.7037 - val_loss: 0.5616\n",
      "Epoch 277/400\n"
     ]
    },
    {
     "name": "stderr",
     "output_type": "stream",
     "text": [
      "2024-10-25 01:09:11.714704: I tensorflow/core/framework/local_rendezvous.cc:423] Local rendezvous recv item cancelled. Key hash: 8056836469799998605\n",
      "2024-10-25 01:09:11.714833: I tensorflow/core/framework/local_rendezvous.cc:423] Local rendezvous recv item cancelled. Key hash: 16918664414020247758\n"
     ]
    },
    {
     "name": "stdout",
     "output_type": "stream",
     "text": [
      "\u001b[1m39/39\u001b[0m \u001b[32m━━━━━━━━━━━━━━━━━━━━\u001b[0m\u001b[37m\u001b[0m \u001b[1m14s\u001b[0m 348ms/step - accuracy: 0.7288 - loss: 0.6303 - val_accuracy: 0.6389 - val_loss: 0.8631\n",
      "Epoch 278/400\n",
      "\u001b[1m 1/39\u001b[0m \u001b[37m━━━━━━━━━━━━━━━━━━━━\u001b[0m \u001b[1m1s\u001b[0m 33ms/step - accuracy: 0.6875 - loss: 0.6719"
     ]
    },
    {
     "name": "stderr",
     "output_type": "stream",
     "text": [
      "2024-10-25 01:09:25.319380: I tensorflow/core/framework/local_rendezvous.cc:423] Local rendezvous recv item cancelled. Key hash: 8056836469799998605\n",
      "2024-10-25 01:09:25.319443: I tensorflow/core/framework/local_rendezvous.cc:423] Local rendezvous recv item cancelled. Key hash: 16918664414020247758\n"
     ]
    },
    {
     "name": "stdout",
     "output_type": "stream",
     "text": [
      "\u001b[1m39/39\u001b[0m \u001b[32m━━━━━━━━━━━━━━━━━━━━\u001b[0m\u001b[37m\u001b[0m \u001b[1m0s\u001b[0m 7ms/step - accuracy: 0.6875 - loss: 0.6719 - val_accuracy: 0.5556 - val_loss: 0.9528\n",
      "Epoch 279/400\n",
      "\u001b[1m39/39\u001b[0m \u001b[32m━━━━━━━━━━━━━━━━━━━━\u001b[0m\u001b[37m\u001b[0m \u001b[1m14s\u001b[0m 357ms/step - accuracy: 0.7287 - loss: 0.6541 - val_accuracy: 0.6215 - val_loss: 0.9149\n",
      "Epoch 280/400\n",
      "\u001b[1m39/39\u001b[0m \u001b[32m━━━━━━━━━━━━━━━━━━━━\u001b[0m\u001b[37m\u001b[0m \u001b[1m0s\u001b[0m 6ms/step - accuracy: 0.6471 - loss: 0.7020 - val_accuracy: 0.7037 - val_loss: 0.7477\n",
      "Epoch 281/400\n",
      "\u001b[1m39/39\u001b[0m \u001b[32m━━━━━━━━━━━━━━━━━━━━\u001b[0m\u001b[37m\u001b[0m \u001b[1m14s\u001b[0m 347ms/step - accuracy: 0.7058 - loss: 0.6595 - val_accuracy: 0.6354 - val_loss: 0.8478\n",
      "Epoch 282/400\n",
      "\u001b[1m 1/39\u001b[0m \u001b[37m━━━━━━━━━━━━━━━━━━━━\u001b[0m \u001b[1m1s\u001b[0m 31ms/step - accuracy: 0.6562 - loss: 0.7370"
     ]
    },
    {
     "name": "stderr",
     "output_type": "stream",
     "text": [
      "2024-10-25 01:09:53.318861: I tensorflow/core/framework/local_rendezvous.cc:423] Local rendezvous recv item cancelled. Key hash: 8056836469799998605\n"
     ]
    },
    {
     "name": "stdout",
     "output_type": "stream",
     "text": [
      "\u001b[1m39/39\u001b[0m \u001b[32m━━━━━━━━━━━━━━━━━━━━\u001b[0m\u001b[37m\u001b[0m \u001b[1m0s\u001b[0m 6ms/step - accuracy: 0.6562 - loss: 0.7370 - val_accuracy: 0.6296 - val_loss: 0.9561\n",
      "Epoch 283/400\n"
     ]
    },
    {
     "name": "stderr",
     "output_type": "stream",
     "text": [
      "2024-10-25 01:09:53.566998: I tensorflow/core/framework/local_rendezvous.cc:423] Local rendezvous recv item cancelled. Key hash: 8056836469799998605\n",
      "2024-10-25 01:09:53.567127: I tensorflow/core/framework/local_rendezvous.cc:423] Local rendezvous recv item cancelled. Key hash: 16918664414020247758\n"
     ]
    },
    {
     "name": "stdout",
     "output_type": "stream",
     "text": [
      "\u001b[1m39/39\u001b[0m \u001b[32m━━━━━━━━━━━━━━━━━━━━\u001b[0m\u001b[37m\u001b[0m \u001b[1m14s\u001b[0m 347ms/step - accuracy: 0.7099 - loss: 0.6793 - val_accuracy: 0.6007 - val_loss: 0.8680\n",
      "Epoch 284/400\n",
      "\u001b[1m 1/39\u001b[0m \u001b[37m━━━━━━━━━━━━━━━━━━━━\u001b[0m \u001b[1m1s\u001b[0m 31ms/step - accuracy: 0.8750 - loss: 0.5670"
     ]
    },
    {
     "name": "stderr",
     "output_type": "stream",
     "text": [
      "2024-10-25 01:10:07.124409: I tensorflow/core/framework/local_rendezvous.cc:423] Local rendezvous recv item cancelled. Key hash: 8056836469799998605\n"
     ]
    },
    {
     "name": "stdout",
     "output_type": "stream",
     "text": [
      "\u001b[1m39/39\u001b[0m \u001b[32m━━━━━━━━━━━━━━━━━━━━\u001b[0m\u001b[37m\u001b[0m \u001b[1m0s\u001b[0m 6ms/step - accuracy: 0.8750 - loss: 0.5670 - val_accuracy: 0.6667 - val_loss: 0.7038\n",
      "Epoch 285/400\n"
     ]
    },
    {
     "name": "stderr",
     "output_type": "stream",
     "text": [
      "2024-10-25 01:10:07.362338: I tensorflow/core/framework/local_rendezvous.cc:423] Local rendezvous recv item cancelled. Key hash: 8056836469799998605\n",
      "2024-10-25 01:10:07.362421: I tensorflow/core/framework/local_rendezvous.cc:423] Local rendezvous recv item cancelled. Key hash: 16918664414020247758\n"
     ]
    },
    {
     "name": "stdout",
     "output_type": "stream",
     "text": [
      "\u001b[1m39/39\u001b[0m \u001b[32m━━━━━━━━━━━━━━━━━━━━\u001b[0m\u001b[37m\u001b[0m \u001b[1m14s\u001b[0m 353ms/step - accuracy: 0.7021 - loss: 0.6781 - val_accuracy: 0.6076 - val_loss: 0.8601\n",
      "Epoch 286/400\n",
      "\u001b[1m 1/39\u001b[0m \u001b[37m━━━━━━━━━━━━━━━━━━━━\u001b[0m \u001b[1m1s\u001b[0m 30ms/step - accuracy: 0.6875 - loss: 0.6578"
     ]
    },
    {
     "name": "stderr",
     "output_type": "stream",
     "text": [
      "2024-10-25 01:10:21.186912: I tensorflow/core/framework/local_rendezvous.cc:423] Local rendezvous recv item cancelled. Key hash: 8056836469799998605\n"
     ]
    },
    {
     "name": "stdout",
     "output_type": "stream",
     "text": [
      "\u001b[1m39/39\u001b[0m \u001b[32m━━━━━━━━━━━━━━━━━━━━\u001b[0m\u001b[37m\u001b[0m \u001b[1m0s\u001b[0m 6ms/step - accuracy: 0.6875 - loss: 0.6578 - val_accuracy: 0.6296 - val_loss: 0.9261\n",
      "Epoch 287/400\n"
     ]
    },
    {
     "name": "stderr",
     "output_type": "stream",
     "text": [
      "2024-10-25 01:10:21.406786: I tensorflow/core/framework/local_rendezvous.cc:423] Local rendezvous recv item cancelled. Key hash: 16918664414020247758\n"
     ]
    },
    {
     "name": "stdout",
     "output_type": "stream",
     "text": [
      "\u001b[1m39/39\u001b[0m \u001b[32m━━━━━━━━━━━━━━━━━━━━\u001b[0m\u001b[37m\u001b[0m \u001b[1m14s\u001b[0m 352ms/step - accuracy: 0.7167 - loss: 0.6725 - val_accuracy: 0.5799 - val_loss: 0.8617\n",
      "Epoch 288/400\n",
      "\u001b[1m 1/39\u001b[0m \u001b[37m━━━━━━━━━━━━━━━━━━━━\u001b[0m \u001b[1m1s\u001b[0m 33ms/step - accuracy: 0.7188 - loss: 0.5986"
     ]
    },
    {
     "name": "stderr",
     "output_type": "stream",
     "text": [
      "2024-10-25 01:10:35.176184: I tensorflow/core/framework/local_rendezvous.cc:423] Local rendezvous recv item cancelled. Key hash: 8056836469799998605\n"
     ]
    },
    {
     "name": "stdout",
     "output_type": "stream",
     "text": [
      "\u001b[1m39/39\u001b[0m \u001b[32m━━━━━━━━━━━━━━━━━━━━\u001b[0m\u001b[37m\u001b[0m \u001b[1m0s\u001b[0m 6ms/step - accuracy: 0.7188 - loss: 0.5986 - val_accuracy: 0.6667 - val_loss: 0.9213\n",
      "Epoch 289/400\n"
     ]
    },
    {
     "name": "stderr",
     "output_type": "stream",
     "text": [
      "2024-10-25 01:10:35.393508: I tensorflow/core/framework/local_rendezvous.cc:423] Local rendezvous recv item cancelled. Key hash: 8056836469799998605\n",
      "2024-10-25 01:10:35.393566: I tensorflow/core/framework/local_rendezvous.cc:423] Local rendezvous recv item cancelled. Key hash: 16918664414020247758\n"
     ]
    },
    {
     "name": "stdout",
     "output_type": "stream",
     "text": [
      "\u001b[1m39/39\u001b[0m \u001b[32m━━━━━━━━━━━━━━━━━━━━\u001b[0m\u001b[37m\u001b[0m \u001b[1m14s\u001b[0m 351ms/step - accuracy: 0.7122 - loss: 0.6527 - val_accuracy: 0.6354 - val_loss: 0.8666\n",
      "Epoch 290/400\n",
      "\u001b[1m 1/39\u001b[0m \u001b[37m━━━━━━━━━━━━━━━━━━━━\u001b[0m \u001b[1m1s\u001b[0m 31ms/step - accuracy: 0.6562 - loss: 0.6988"
     ]
    },
    {
     "name": "stderr",
     "output_type": "stream",
     "text": [
      "2024-10-25 01:10:49.119485: I tensorflow/core/framework/local_rendezvous.cc:423] Local rendezvous recv item cancelled. Key hash: 8056836469799998605\n",
      "2024-10-25 01:10:49.119538: I tensorflow/core/framework/local_rendezvous.cc:423] Local rendezvous recv item cancelled. Key hash: 16918664414020247758\n"
     ]
    },
    {
     "name": "stdout",
     "output_type": "stream",
     "text": [
      "\u001b[1m39/39\u001b[0m \u001b[32m━━━━━━━━━━━━━━━━━━━━\u001b[0m\u001b[37m\u001b[0m \u001b[1m0s\u001b[0m 6ms/step - accuracy: 0.6562 - loss: 0.6988 - val_accuracy: 0.4815 - val_loss: 1.1491\n",
      "Epoch 291/400\n"
     ]
    },
    {
     "name": "stderr",
     "output_type": "stream",
     "text": [
      "2024-10-25 01:10:49.348558: I tensorflow/core/framework/local_rendezvous.cc:423] Local rendezvous recv item cancelled. Key hash: 8056836469799998605\n",
      "2024-10-25 01:10:49.348601: I tensorflow/core/framework/local_rendezvous.cc:423] Local rendezvous recv item cancelled. Key hash: 16918664414020247758\n"
     ]
    },
    {
     "name": "stdout",
     "output_type": "stream",
     "text": [
      "\u001b[1m39/39\u001b[0m \u001b[32m━━━━━━━━━━━━━━━━━━━━\u001b[0m\u001b[37m\u001b[0m \u001b[1m14s\u001b[0m 352ms/step - accuracy: 0.7228 - loss: 0.6217 - val_accuracy: 0.6458 - val_loss: 0.8328\n",
      "Epoch 292/400\n",
      "\u001b[1m 1/39\u001b[0m \u001b[37m━━━━━━━━━━━━━━━━━━━━\u001b[0m \u001b[1m1s\u001b[0m 33ms/step - accuracy: 0.6250 - loss: 0.7575"
     ]
    },
    {
     "name": "stderr",
     "output_type": "stream",
     "text": [
      "2024-10-25 01:11:03.081283: I tensorflow/core/framework/local_rendezvous.cc:423] Local rendezvous recv item cancelled. Key hash: 8056836469799998605\n"
     ]
    },
    {
     "name": "stdout",
     "output_type": "stream",
     "text": [
      "\u001b[1m39/39\u001b[0m \u001b[32m━━━━━━━━━━━━━━━━━━━━\u001b[0m\u001b[37m\u001b[0m \u001b[1m0s\u001b[0m 6ms/step - accuracy: 0.6250 - loss: 0.7575 - val_accuracy: 0.7037 - val_loss: 0.8033\n",
      "Epoch 293/400\n",
      "\u001b[1m39/39\u001b[0m \u001b[32m━━━━━━━━━━━━━━━━━━━━\u001b[0m\u001b[37m\u001b[0m \u001b[1m14s\u001b[0m 357ms/step - accuracy: 0.7373 - loss: 0.6302 - val_accuracy: 0.6250 - val_loss: 0.8804\n",
      "Epoch 294/400\n",
      "\u001b[1m 1/39\u001b[0m \u001b[37m━━━━━━━━━━━━━━━━━━━━\u001b[0m \u001b[1m1s\u001b[0m 33ms/step - accuracy: 0.7500 - loss: 0.5706"
     ]
    },
    {
     "name": "stderr",
     "output_type": "stream",
     "text": [
      "2024-10-25 01:11:17.259436: I tensorflow/core/framework/local_rendezvous.cc:423] Local rendezvous recv item cancelled. Key hash: 8056836469799998605\n"
     ]
    },
    {
     "name": "stdout",
     "output_type": "stream",
     "text": [
      "\u001b[1m39/39\u001b[0m \u001b[32m━━━━━━━━━━━━━━━━━━━━\u001b[0m\u001b[37m\u001b[0m \u001b[1m0s\u001b[0m 6ms/step - accuracy: 0.7500 - loss: 0.5706 - val_accuracy: 0.6667 - val_loss: 0.6981\n",
      "Epoch 295/400\n"
     ]
    },
    {
     "name": "stderr",
     "output_type": "stream",
     "text": [
      "2024-10-25 01:11:17.483792: I tensorflow/core/framework/local_rendezvous.cc:423] Local rendezvous recv item cancelled. Key hash: 8056836469799998605\n",
      "2024-10-25 01:11:17.483850: I tensorflow/core/framework/local_rendezvous.cc:423] Local rendezvous recv item cancelled. Key hash: 16918664414020247758\n"
     ]
    },
    {
     "name": "stdout",
     "output_type": "stream",
     "text": [
      "\u001b[1m39/39\u001b[0m \u001b[32m━━━━━━━━━━━━━━━━━━━━\u001b[0m\u001b[37m\u001b[0m \u001b[1m14s\u001b[0m 353ms/step - accuracy: 0.7571 - loss: 0.6232 - val_accuracy: 0.6354 - val_loss: 0.8507\n",
      "Epoch 296/400\n",
      "\u001b[1m 1/39\u001b[0m \u001b[37m━━━━━━━━━━━━━━━━━━━━\u001b[0m \u001b[1m1s\u001b[0m 33ms/step - accuracy: 0.6562 - loss: 0.7135"
     ]
    },
    {
     "name": "stderr",
     "output_type": "stream",
     "text": [
      "2024-10-25 01:11:31.286943: I tensorflow/core/framework/local_rendezvous.cc:423] Local rendezvous recv item cancelled. Key hash: 8056836469799998605\n",
      "2024-10-25 01:11:31.287017: I tensorflow/core/framework/local_rendezvous.cc:423] Local rendezvous recv item cancelled. Key hash: 16918664414020247758\n"
     ]
    },
    {
     "name": "stdout",
     "output_type": "stream",
     "text": [
      "\u001b[1m39/39\u001b[0m \u001b[32m━━━━━━━━━━━━━━━━━━━━\u001b[0m\u001b[37m\u001b[0m \u001b[1m0s\u001b[0m 6ms/step - accuracy: 0.6562 - loss: 0.7135 - val_accuracy: 0.5556 - val_loss: 0.9843\n",
      "Epoch 297/400\n"
     ]
    },
    {
     "name": "stderr",
     "output_type": "stream",
     "text": [
      "2024-10-25 01:11:31.518320: I tensorflow/core/framework/local_rendezvous.cc:423] Local rendezvous recv item cancelled. Key hash: 16918664414020247758\n"
     ]
    },
    {
     "name": "stdout",
     "output_type": "stream",
     "text": [
      "\u001b[1m39/39\u001b[0m \u001b[32m━━━━━━━━━━━━━━━━━━━━\u001b[0m\u001b[37m\u001b[0m \u001b[1m13s\u001b[0m 343ms/step - accuracy: 0.7509 - loss: 0.6269 - val_accuracy: 0.6111 - val_loss: 0.8666\n",
      "Epoch 298/400\n",
      "\u001b[1m 1/39\u001b[0m \u001b[37m━━━━━━━━━━━━━━━━━━━━\u001b[0m \u001b[1m1s\u001b[0m 33ms/step - accuracy: 0.8125 - loss: 0.4831"
     ]
    },
    {
     "name": "stderr",
     "output_type": "stream",
     "text": [
      "2024-10-25 01:11:44.957125: I tensorflow/core/framework/local_rendezvous.cc:423] Local rendezvous recv item cancelled. Key hash: 8056836469799998605\n"
     ]
    },
    {
     "name": "stdout",
     "output_type": "stream",
     "text": [
      "\u001b[1m39/39\u001b[0m \u001b[32m━━━━━━━━━━━━━━━━━━━━\u001b[0m\u001b[37m\u001b[0m \u001b[1m0s\u001b[0m 6ms/step - accuracy: 0.8125 - loss: 0.4831 - val_accuracy: 0.6296 - val_loss: 0.8421\n",
      "Epoch 299/400\n"
     ]
    },
    {
     "name": "stderr",
     "output_type": "stream",
     "text": [
      "2024-10-25 01:11:45.185005: I tensorflow/core/framework/local_rendezvous.cc:423] Local rendezvous recv item cancelled. Key hash: 8056836469799998605\n",
      "2024-10-25 01:11:45.185062: I tensorflow/core/framework/local_rendezvous.cc:423] Local rendezvous recv item cancelled. Key hash: 16918664414020247758\n"
     ]
    },
    {
     "name": "stdout",
     "output_type": "stream",
     "text": [
      "\u001b[1m39/39\u001b[0m \u001b[32m━━━━━━━━━━━━━━━━━━━━\u001b[0m\u001b[37m\u001b[0m \u001b[1m13s\u001b[0m 350ms/step - accuracy: 0.7223 - loss: 0.6733 - val_accuracy: 0.6146 - val_loss: 0.8762\n",
      "Epoch 300/400\n",
      "\u001b[1m 1/39\u001b[0m \u001b[37m━━━━━━━━━━━━━━━━━━━━\u001b[0m \u001b[1m1s\u001b[0m 32ms/step - accuracy: 0.5625 - loss: 0.8330"
     ]
    },
    {
     "name": "stderr",
     "output_type": "stream",
     "text": [
      "2024-10-25 01:11:58.704886: I tensorflow/core/framework/local_rendezvous.cc:423] Local rendezvous recv item cancelled. Key hash: 8056836469799998605\n"
     ]
    },
    {
     "name": "stdout",
     "output_type": "stream",
     "text": [
      "\u001b[1m39/39\u001b[0m \u001b[32m━━━━━━━━━━━━━━━━━━━━\u001b[0m\u001b[37m\u001b[0m \u001b[1m0s\u001b[0m 6ms/step - accuracy: 0.5625 - loss: 0.8330 - val_accuracy: 0.4074 - val_loss: 1.0144\n",
      "Epoch 301/400\n",
      "\u001b[1m39/39\u001b[0m \u001b[32m━━━━━━━━━━━━━━━━━━━━\u001b[0m\u001b[37m\u001b[0m \u001b[1m14s\u001b[0m 350ms/step - accuracy: 0.6955 - loss: 0.6948 - val_accuracy: 0.6215 - val_loss: 0.8548\n",
      "Epoch 302/400\n",
      "\u001b[1m 1/39\u001b[0m \u001b[37m━━━━━━━━━━━━━━━━━━━━\u001b[0m \u001b[1m1s\u001b[0m 31ms/step - accuracy: 0.6562 - loss: 0.7499"
     ]
    },
    {
     "name": "stderr",
     "output_type": "stream",
     "text": [
      "2024-10-25 01:12:12.613179: I tensorflow/core/framework/local_rendezvous.cc:423] Local rendezvous recv item cancelled. Key hash: 8056836469799998605\n"
     ]
    },
    {
     "name": "stdout",
     "output_type": "stream",
     "text": [
      "\u001b[1m39/39\u001b[0m \u001b[32m━━━━━━━━━━━━━━━━━━━━\u001b[0m\u001b[37m\u001b[0m \u001b[1m0s\u001b[0m 6ms/step - accuracy: 0.6562 - loss: 0.7499 - val_accuracy: 0.3704 - val_loss: 1.1428\n",
      "Epoch 303/400\n"
     ]
    },
    {
     "name": "stderr",
     "output_type": "stream",
     "text": [
      "2024-10-25 01:12:12.836879: I tensorflow/core/framework/local_rendezvous.cc:423] Local rendezvous recv item cancelled. Key hash: 8056836469799998605\n",
      "2024-10-25 01:12:12.836927: I tensorflow/core/framework/local_rendezvous.cc:423] Local rendezvous recv item cancelled. Key hash: 16918664414020247758\n"
     ]
    },
    {
     "name": "stdout",
     "output_type": "stream",
     "text": [
      "\u001b[1m39/39\u001b[0m \u001b[32m━━━━━━━━━━━━━━━━━━━━\u001b[0m\u001b[37m\u001b[0m \u001b[1m14s\u001b[0m 349ms/step - accuracy: 0.7492 - loss: 0.6215 - val_accuracy: 0.6285 - val_loss: 0.8752\n",
      "Epoch 304/400\n",
      "\u001b[1m 1/39\u001b[0m \u001b[37m━━━━━━━━━━━━━━━━━━━━\u001b[0m \u001b[1m1s\u001b[0m 33ms/step - accuracy: 0.7500 - loss: 0.6069"
     ]
    },
    {
     "name": "stderr",
     "output_type": "stream",
     "text": [
      "2024-10-25 01:12:26.478612: I tensorflow/core/framework/local_rendezvous.cc:423] Local rendezvous recv item cancelled. Key hash: 8056836469799998605\n"
     ]
    },
    {
     "name": "stdout",
     "output_type": "stream",
     "text": [
      "\u001b[1m39/39\u001b[0m \u001b[32m━━━━━━━━━━━━━━━━━━━━\u001b[0m\u001b[37m\u001b[0m \u001b[1m0s\u001b[0m 5ms/step - accuracy: 0.7500 - loss: 0.6069 - val_accuracy: 0.5556 - val_loss: 0.9655\n",
      "Epoch 305/400\n"
     ]
    },
    {
     "name": "stderr",
     "output_type": "stream",
     "text": [
      "2024-10-25 01:12:26.690955: I tensorflow/core/framework/local_rendezvous.cc:423] Local rendezvous recv item cancelled. Key hash: 8056836469799998605\n",
      "2024-10-25 01:12:26.691024: I tensorflow/core/framework/local_rendezvous.cc:423] Local rendezvous recv item cancelled. Key hash: 16918664414020247758\n"
     ]
    },
    {
     "name": "stdout",
     "output_type": "stream",
     "text": [
      "\u001b[1m39/39\u001b[0m \u001b[32m━━━━━━━━━━━━━━━━━━━━\u001b[0m\u001b[37m\u001b[0m \u001b[1m14s\u001b[0m 347ms/step - accuracy: 0.7170 - loss: 0.6289 - val_accuracy: 0.6562 - val_loss: 0.9139\n",
      "Epoch 306/400\n",
      "\u001b[1m 1/39\u001b[0m \u001b[37m━━━━━━━━━━━━━━━━━━━━\u001b[0m \u001b[1m1s\u001b[0m 32ms/step - accuracy: 0.7500 - loss: 0.6244"
     ]
    },
    {
     "name": "stderr",
     "output_type": "stream",
     "text": [
      "2024-10-25 01:12:40.255033: I tensorflow/core/framework/local_rendezvous.cc:423] Local rendezvous recv item cancelled. Key hash: 8056836469799998605\n"
     ]
    },
    {
     "name": "stdout",
     "output_type": "stream",
     "text": [
      "\u001b[1m39/39\u001b[0m \u001b[32m━━━━━━━━━━━━━━━━━━━━\u001b[0m\u001b[37m\u001b[0m \u001b[1m0s\u001b[0m 6ms/step - accuracy: 0.7500 - loss: 0.6244 - val_accuracy: 0.6296 - val_loss: 0.8462\n",
      "Epoch 307/400\n",
      "\u001b[1m39/39\u001b[0m \u001b[32m━━━━━━━━━━━━━━━━━━━━\u001b[0m\u001b[37m\u001b[0m \u001b[1m14s\u001b[0m 353ms/step - accuracy: 0.7073 - loss: 0.6847 - val_accuracy: 0.6389 - val_loss: 0.8602\n",
      "Epoch 308/400\n",
      "\u001b[1m 1/39\u001b[0m \u001b[37m━━━━━━━━━━━━━━━━━━━━\u001b[0m \u001b[1m1s\u001b[0m 33ms/step - accuracy: 0.8438 - loss: 0.4816"
     ]
    },
    {
     "name": "stderr",
     "output_type": "stream",
     "text": [
      "2024-10-25 01:12:54.275348: I tensorflow/core/framework/local_rendezvous.cc:423] Local rendezvous recv item cancelled. Key hash: 8056836469799998605\n"
     ]
    },
    {
     "name": "stdout",
     "output_type": "stream",
     "text": [
      "\u001b[1m39/39\u001b[0m \u001b[32m━━━━━━━━━━━━━━━━━━━━\u001b[0m\u001b[37m\u001b[0m \u001b[1m0s\u001b[0m 6ms/step - accuracy: 0.8438 - loss: 0.4816 - val_accuracy: 0.5926 - val_loss: 0.7533\n",
      "Epoch 309/400\n"
     ]
    },
    {
     "name": "stderr",
     "output_type": "stream",
     "text": [
      "2024-10-25 01:12:54.487384: I tensorflow/core/framework/local_rendezvous.cc:423] Local rendezvous recv item cancelled. Key hash: 8056836469799998605\n",
      "2024-10-25 01:12:54.487428: I tensorflow/core/framework/local_rendezvous.cc:423] Local rendezvous recv item cancelled. Key hash: 16918664414020247758\n"
     ]
    },
    {
     "name": "stdout",
     "output_type": "stream",
     "text": [
      "\u001b[1m39/39\u001b[0m \u001b[32m━━━━━━━━━━━━━━━━━━━━\u001b[0m\u001b[37m\u001b[0m \u001b[1m14s\u001b[0m 349ms/step - accuracy: 0.7420 - loss: 0.6211 - val_accuracy: 0.6111 - val_loss: 0.8986\n",
      "Epoch 310/400\n",
      "\u001b[1m 1/39\u001b[0m \u001b[37m━━━━━━━━━━━━━━━━━━━━\u001b[0m \u001b[1m1s\u001b[0m 33ms/step - accuracy: 0.6875 - loss: 0.7291"
     ]
    },
    {
     "name": "stderr",
     "output_type": "stream",
     "text": [
      "2024-10-25 01:13:08.141081: I tensorflow/core/framework/local_rendezvous.cc:423] Local rendezvous recv item cancelled. Key hash: 8056836469799998605\n"
     ]
    },
    {
     "name": "stdout",
     "output_type": "stream",
     "text": [
      "\u001b[1m39/39\u001b[0m \u001b[32m━━━━━━━━━━━━━━━━━━━━\u001b[0m\u001b[37m\u001b[0m \u001b[1m0s\u001b[0m 9ms/step - accuracy: 0.6875 - loss: 0.7291 - val_accuracy: 0.7407 - val_loss: 0.6218\n",
      "Epoch 311/400\n",
      "\u001b[1m39/39\u001b[0m \u001b[32m━━━━━━━━━━━━━━━━━━━━\u001b[0m\u001b[37m\u001b[0m \u001b[1m14s\u001b[0m 354ms/step - accuracy: 0.7514 - loss: 0.6199 - val_accuracy: 0.6215 - val_loss: 0.8602\n",
      "Epoch 312/400\n",
      "\u001b[1m39/39\u001b[0m \u001b[32m━━━━━━━━━━━━━━━━━━━━\u001b[0m\u001b[37m\u001b[0m \u001b[1m0s\u001b[0m 6ms/step - accuracy: 0.5938 - loss: 0.7841 - val_accuracy: 0.5185 - val_loss: 1.0621\n",
      "Epoch 313/400\n"
     ]
    },
    {
     "name": "stderr",
     "output_type": "stream",
     "text": [
      "2024-10-25 01:13:22.594671: I tensorflow/core/framework/local_rendezvous.cc:423] Local rendezvous recv item cancelled. Key hash: 16918664414020247758\n"
     ]
    },
    {
     "name": "stdout",
     "output_type": "stream",
     "text": [
      "\u001b[1m39/39\u001b[0m \u001b[32m━━━━━━━━━━━━━━━━━━━━\u001b[0m\u001b[37m\u001b[0m \u001b[1m14s\u001b[0m 349ms/step - accuracy: 0.7389 - loss: 0.6387 - val_accuracy: 0.6215 - val_loss: 0.9273\n",
      "Epoch 314/400\n",
      "\u001b[1m 1/39\u001b[0m \u001b[37m━━━━━━━━━━━━━━━━━━━━\u001b[0m \u001b[1m1s\u001b[0m 30ms/step - accuracy: 0.7500 - loss: 0.5805"
     ]
    },
    {
     "name": "stderr",
     "output_type": "stream",
     "text": [
      "2024-10-25 01:13:36.225480: I tensorflow/core/framework/local_rendezvous.cc:423] Local rendezvous recv item cancelled. Key hash: 8056836469799998605\n"
     ]
    },
    {
     "name": "stdout",
     "output_type": "stream",
     "text": [
      "\u001b[1m39/39\u001b[0m \u001b[32m━━━━━━━━━━━━━━━━━━━━\u001b[0m\u001b[37m\u001b[0m \u001b[1m0s\u001b[0m 6ms/step - accuracy: 0.7500 - loss: 0.5805 - val_accuracy: 0.7037 - val_loss: 0.6958\n",
      "Epoch 315/400\n",
      "\u001b[1m39/39\u001b[0m \u001b[32m━━━━━━━━━━━━━━━━━━━━\u001b[0m\u001b[37m\u001b[0m \u001b[1m14s\u001b[0m 349ms/step - accuracy: 0.7135 - loss: 0.6638 - val_accuracy: 0.6111 - val_loss: 0.8472\n",
      "Epoch 316/400\n",
      "\u001b[1m 1/39\u001b[0m \u001b[37m━━━━━━━━━━━━━━━━━━━━\u001b[0m \u001b[1m1s\u001b[0m 32ms/step - accuracy: 0.7188 - loss: 0.6868"
     ]
    },
    {
     "name": "stderr",
     "output_type": "stream",
     "text": [
      "2024-10-25 01:13:50.078748: I tensorflow/core/framework/local_rendezvous.cc:423] Local rendezvous recv item cancelled. Key hash: 8056836469799998605\n"
     ]
    },
    {
     "name": "stdout",
     "output_type": "stream",
     "text": [
      "\u001b[1m39/39\u001b[0m \u001b[32m━━━━━━━━━━━━━━━━━━━━\u001b[0m\u001b[37m\u001b[0m \u001b[1m0s\u001b[0m 6ms/step - accuracy: 0.7188 - loss: 0.6868 - val_accuracy: 0.6667 - val_loss: 1.0430\n",
      "Epoch 317/400\n"
     ]
    },
    {
     "name": "stderr",
     "output_type": "stream",
     "text": [
      "2024-10-25 01:13:50.308516: I tensorflow/core/framework/local_rendezvous.cc:423] Local rendezvous recv item cancelled. Key hash: 8056836469799998605\n",
      "2024-10-25 01:13:50.308642: I tensorflow/core/framework/local_rendezvous.cc:423] Local rendezvous recv item cancelled. Key hash: 16918664414020247758\n"
     ]
    },
    {
     "name": "stdout",
     "output_type": "stream",
     "text": [
      "\u001b[1m39/39\u001b[0m \u001b[32m━━━━━━━━━━━━━━━━━━━━\u001b[0m\u001b[37m\u001b[0m \u001b[1m14s\u001b[0m 349ms/step - accuracy: 0.7411 - loss: 0.6366 - val_accuracy: 0.6146 - val_loss: 0.9084\n",
      "Epoch 318/400\n",
      "\u001b[1m 1/39\u001b[0m \u001b[37m━━━━━━━━━━━━━━━━━━━━\u001b[0m \u001b[1m1s\u001b[0m 33ms/step - accuracy: 0.7188 - loss: 0.6096"
     ]
    },
    {
     "name": "stderr",
     "output_type": "stream",
     "text": [
      "2024-10-25 01:14:03.942786: I tensorflow/core/framework/local_rendezvous.cc:423] Local rendezvous recv item cancelled. Key hash: 8056836469799998605\n"
     ]
    },
    {
     "name": "stdout",
     "output_type": "stream",
     "text": [
      "\u001b[1m39/39\u001b[0m \u001b[32m━━━━━━━━━━━━━━━━━━━━\u001b[0m\u001b[37m\u001b[0m \u001b[1m0s\u001b[0m 7ms/step - accuracy: 0.7188 - loss: 0.6096 - val_accuracy: 0.4815 - val_loss: 0.9809\n",
      "Epoch 319/400\n",
      "\u001b[1m39/39\u001b[0m \u001b[32m━━━━━━━━━━━━━━━━━━━━\u001b[0m\u001b[37m\u001b[0m \u001b[1m14s\u001b[0m 350ms/step - accuracy: 0.7321 - loss: 0.6435 - val_accuracy: 0.6493 - val_loss: 0.8654\n",
      "Epoch 320/400\n",
      "\u001b[1m 1/39\u001b[0m \u001b[37m━━━━━━━━━━━━━━━━━━━━\u001b[0m \u001b[1m1s\u001b[0m 31ms/step - accuracy: 0.8125 - loss: 0.5988"
     ]
    },
    {
     "name": "stderr",
     "output_type": "stream",
     "text": [
      "2024-10-25 01:14:17.883721: I tensorflow/core/framework/local_rendezvous.cc:423] Local rendezvous recv item cancelled. Key hash: 8056836469799998605\n"
     ]
    },
    {
     "name": "stdout",
     "output_type": "stream",
     "text": [
      "\u001b[1m39/39\u001b[0m \u001b[32m━━━━━━━━━━━━━━━━━━━━\u001b[0m\u001b[37m\u001b[0m \u001b[1m0s\u001b[0m 6ms/step - accuracy: 0.8125 - loss: 0.5988 - val_accuracy: 0.5185 - val_loss: 1.0165\n",
      "Epoch 321/400\n"
     ]
    },
    {
     "name": "stderr",
     "output_type": "stream",
     "text": [
      "2024-10-25 01:14:18.134713: I tensorflow/core/framework/local_rendezvous.cc:423] Local rendezvous recv item cancelled. Key hash: 8056836469799998605\n",
      "2024-10-25 01:14:18.134759: I tensorflow/core/framework/local_rendezvous.cc:423] Local rendezvous recv item cancelled. Key hash: 16918664414020247758\n"
     ]
    },
    {
     "name": "stdout",
     "output_type": "stream",
     "text": [
      "\u001b[1m39/39\u001b[0m \u001b[32m━━━━━━━━━━━━━━━━━━━━\u001b[0m\u001b[37m\u001b[0m \u001b[1m14s\u001b[0m 350ms/step - accuracy: 0.7490 - loss: 0.6019 - val_accuracy: 0.6528 - val_loss: 0.8252\n",
      "Epoch 322/400\n",
      "\u001b[1m39/39\u001b[0m \u001b[32m━━━━━━━━━━━━━━━━━━━━\u001b[0m\u001b[37m\u001b[0m \u001b[1m0s\u001b[0m 6ms/step - accuracy: 0.7500 - loss: 0.6194 - val_accuracy: 0.5185 - val_loss: 1.0272\n",
      "Epoch 323/400\n"
     ]
    },
    {
     "name": "stderr",
     "output_type": "stream",
     "text": [
      "2024-10-25 01:14:32.024317: I tensorflow/core/framework/local_rendezvous.cc:423] Local rendezvous recv item cancelled. Key hash: 8056836469799998605\n",
      "2024-10-25 01:14:32.024366: I tensorflow/core/framework/local_rendezvous.cc:423] Local rendezvous recv item cancelled. Key hash: 16918664414020247758\n"
     ]
    },
    {
     "name": "stdout",
     "output_type": "stream",
     "text": [
      "\u001b[1m39/39\u001b[0m \u001b[32m━━━━━━━━━━━━━━━━━━━━\u001b[0m\u001b[37m\u001b[0m \u001b[1m14s\u001b[0m 352ms/step - accuracy: 0.7321 - loss: 0.6278 - val_accuracy: 0.5938 - val_loss: 0.8828\n",
      "Epoch 324/400\n",
      "\u001b[1m 1/39\u001b[0m \u001b[37m━━━━━━━━━━━━━━━━━━━━\u001b[0m \u001b[1m1s\u001b[0m 32ms/step - accuracy: 0.8438 - loss: 0.5135"
     ]
    },
    {
     "name": "stderr",
     "output_type": "stream",
     "text": [
      "2024-10-25 01:14:45.794865: I tensorflow/core/framework/local_rendezvous.cc:423] Local rendezvous recv item cancelled. Key hash: 8056836469799998605\n"
     ]
    },
    {
     "name": "stdout",
     "output_type": "stream",
     "text": [
      "\u001b[1m39/39\u001b[0m \u001b[32m━━━━━━━━━━━━━━━━━━━━\u001b[0m\u001b[37m\u001b[0m \u001b[1m0s\u001b[0m 6ms/step - accuracy: 0.8438 - loss: 0.5135 - val_accuracy: 0.6667 - val_loss: 1.0046\n",
      "Epoch 325/400\n"
     ]
    },
    {
     "name": "stderr",
     "output_type": "stream",
     "text": [
      "2024-10-25 01:14:46.010669: I tensorflow/core/framework/local_rendezvous.cc:423] Local rendezvous recv item cancelled. Key hash: 8056836469799998605\n",
      "2024-10-25 01:14:46.010724: I tensorflow/core/framework/local_rendezvous.cc:423] Local rendezvous recv item cancelled. Key hash: 16918664414020247758\n"
     ]
    },
    {
     "name": "stdout",
     "output_type": "stream",
     "text": [
      "\u001b[1m39/39\u001b[0m \u001b[32m━━━━━━━━━━━━━━━━━━━━\u001b[0m\u001b[37m\u001b[0m \u001b[1m14s\u001b[0m 349ms/step - accuracy: 0.7124 - loss: 0.6480 - val_accuracy: 0.6215 - val_loss: 0.8170\n",
      "Epoch 326/400\n",
      "\u001b[1m 1/39\u001b[0m \u001b[37m━━━━━━━━━━━━━━━━━━━━\u001b[0m \u001b[1m1s\u001b[0m 32ms/step - accuracy: 0.6250 - loss: 0.7413"
     ]
    },
    {
     "name": "stderr",
     "output_type": "stream",
     "text": [
      "2024-10-25 01:14:59.631002: I tensorflow/core/framework/local_rendezvous.cc:423] Local rendezvous recv item cancelled. Key hash: 8056836469799998605\n"
     ]
    },
    {
     "name": "stdout",
     "output_type": "stream",
     "text": [
      "\u001b[1m39/39\u001b[0m \u001b[32m━━━━━━━━━━━━━━━━━━━━\u001b[0m\u001b[37m\u001b[0m \u001b[1m0s\u001b[0m 6ms/step - accuracy: 0.6250 - loss: 0.7413 - val_accuracy: 0.5556 - val_loss: 1.0262\n",
      "Epoch 327/400\n",
      "\u001b[1m39/39\u001b[0m \u001b[32m━━━━━━━━━━━━━━━━━━━━\u001b[0m\u001b[37m\u001b[0m \u001b[1m14s\u001b[0m 349ms/step - accuracy: 0.7484 - loss: 0.6207 - val_accuracy: 0.6562 - val_loss: 0.8321\n",
      "Epoch 328/400\n",
      "\u001b[1m39/39\u001b[0m \u001b[32m━━━━━━━━━━━━━━━━━━━━\u001b[0m\u001b[37m\u001b[0m \u001b[1m0s\u001b[0m 6ms/step - accuracy: 0.7188 - loss: 0.6683 - val_accuracy: 0.5185 - val_loss: 1.1164\n",
      "Epoch 329/400\n"
     ]
    },
    {
     "name": "stderr",
     "output_type": "stream",
     "text": [
      "2024-10-25 01:15:13.745660: I tensorflow/core/framework/local_rendezvous.cc:423] Local rendezvous recv item cancelled. Key hash: 8056836469799998605\n",
      "2024-10-25 01:15:13.745769: I tensorflow/core/framework/local_rendezvous.cc:423] Local rendezvous recv item cancelled. Key hash: 16918664414020247758\n"
     ]
    },
    {
     "name": "stdout",
     "output_type": "stream",
     "text": [
      "\u001b[1m39/39\u001b[0m \u001b[32m━━━━━━━━━━━━━━━━━━━━\u001b[0m\u001b[37m\u001b[0m \u001b[1m13s\u001b[0m 343ms/step - accuracy: 0.7394 - loss: 0.6080 - val_accuracy: 0.6285 - val_loss: 0.9372\n",
      "Epoch 330/400\n",
      "\u001b[1m 1/39\u001b[0m \u001b[37m━━━━━━━━━━━━━━━━━━━━\u001b[0m \u001b[1m1s\u001b[0m 33ms/step - accuracy: 0.8750 - loss: 0.4082"
     ]
    },
    {
     "name": "stderr",
     "output_type": "stream",
     "text": [
      "2024-10-25 01:15:27.170009: I tensorflow/core/framework/local_rendezvous.cc:423] Local rendezvous recv item cancelled. Key hash: 8056836469799998605\n"
     ]
    },
    {
     "name": "stdout",
     "output_type": "stream",
     "text": [
      "\u001b[1m39/39\u001b[0m \u001b[32m━━━━━━━━━━━━━━━━━━━━\u001b[0m\u001b[37m\u001b[0m \u001b[1m0s\u001b[0m 6ms/step - accuracy: 0.8750 - loss: 0.4082 - val_accuracy: 0.7037 - val_loss: 0.7593\n",
      "Epoch 331/400\n"
     ]
    },
    {
     "name": "stderr",
     "output_type": "stream",
     "text": [
      "2024-10-25 01:15:27.411522: I tensorflow/core/framework/local_rendezvous.cc:423] Local rendezvous recv item cancelled. Key hash: 8056836469799998605\n",
      "2024-10-25 01:15:27.411573: I tensorflow/core/framework/local_rendezvous.cc:423] Local rendezvous recv item cancelled. Key hash: 16918664414020247758\n"
     ]
    },
    {
     "name": "stdout",
     "output_type": "stream",
     "text": [
      "\u001b[1m39/39\u001b[0m \u001b[32m━━━━━━━━━━━━━━━━━━━━\u001b[0m\u001b[37m\u001b[0m \u001b[1m14s\u001b[0m 352ms/step - accuracy: 0.7447 - loss: 0.6158 - val_accuracy: 0.6285 - val_loss: 0.8645\n",
      "Epoch 332/400\n",
      "\u001b[1m 1/39\u001b[0m \u001b[37m━━━━━━━━━━━━━━━━━━━━\u001b[0m \u001b[1m1s\u001b[0m 33ms/step - accuracy: 0.8125 - loss: 0.5049"
     ]
    },
    {
     "name": "stderr",
     "output_type": "stream",
     "text": [
      "2024-10-25 01:15:41.016205: I tensorflow/core/framework/local_rendezvous.cc:423] Local rendezvous recv item cancelled. Key hash: 8056836469799998605\n"
     ]
    },
    {
     "name": "stdout",
     "output_type": "stream",
     "text": [
      "\u001b[1m39/39\u001b[0m \u001b[32m━━━━━━━━━━━━━━━━━━━━\u001b[0m\u001b[37m\u001b[0m \u001b[1m0s\u001b[0m 7ms/step - accuracy: 0.8125 - loss: 0.5049 - val_accuracy: 0.7407 - val_loss: 0.7388\n",
      "Epoch 333/400\n"
     ]
    },
    {
     "name": "stderr",
     "output_type": "stream",
     "text": [
      "2024-10-25 01:15:41.282708: I tensorflow/core/framework/local_rendezvous.cc:423] Local rendezvous recv item cancelled. Key hash: 8056836469799998605\n",
      "2024-10-25 01:15:41.282762: I tensorflow/core/framework/local_rendezvous.cc:423] Local rendezvous recv item cancelled. Key hash: 16918664414020247758\n"
     ]
    },
    {
     "name": "stdout",
     "output_type": "stream",
     "text": [
      "\u001b[1m39/39\u001b[0m \u001b[32m━━━━━━━━━━━━━━━━━━━━\u001b[0m\u001b[37m\u001b[0m \u001b[1m13s\u001b[0m 346ms/step - accuracy: 0.7410 - loss: 0.6207 - val_accuracy: 0.6424 - val_loss: 0.8733\n",
      "Epoch 334/400\n",
      "\u001b[1m 1/39\u001b[0m \u001b[37m━━━━━━━━━━━━━━━━━━━━\u001b[0m \u001b[1m1s\u001b[0m 32ms/step - accuracy: 0.6875 - loss: 0.7452"
     ]
    },
    {
     "name": "stderr",
     "output_type": "stream",
     "text": [
      "2024-10-25 01:15:54.803184: I tensorflow/core/framework/local_rendezvous.cc:423] Local rendezvous recv item cancelled. Key hash: 8056836469799998605\n"
     ]
    },
    {
     "name": "stdout",
     "output_type": "stream",
     "text": [
      "\u001b[1m39/39\u001b[0m \u001b[32m━━━━━━━━━━━━━━━━━━━━\u001b[0m\u001b[37m\u001b[0m \u001b[1m0s\u001b[0m 6ms/step - accuracy: 0.6875 - loss: 0.7452 - val_accuracy: 0.5926 - val_loss: 1.1380\n",
      "Epoch 335/400\n",
      "\u001b[1m39/39\u001b[0m \u001b[32m━━━━━━━━━━━━━━━━━━━━\u001b[0m\u001b[37m\u001b[0m \u001b[1m14s\u001b[0m 354ms/step - accuracy: 0.7295 - loss: 0.6430 - val_accuracy: 0.6424 - val_loss: 0.8435\n",
      "Epoch 336/400\n",
      "\u001b[1m39/39\u001b[0m \u001b[32m━━━━━━━━━━━━━━━━━━━━\u001b[0m\u001b[37m\u001b[0m \u001b[1m0s\u001b[0m 7ms/step - accuracy: 0.7500 - loss: 0.6314 - val_accuracy: 0.7037 - val_loss: 0.6722\n",
      "Epoch 337/400\n"
     ]
    },
    {
     "name": "stderr",
     "output_type": "stream",
     "text": [
      "2024-10-25 01:16:09.165039: I tensorflow/core/framework/local_rendezvous.cc:423] Local rendezvous recv item cancelled. Key hash: 8056836469799998605\n",
      "2024-10-25 01:16:09.165172: I tensorflow/core/framework/local_rendezvous.cc:423] Local rendezvous recv item cancelled. Key hash: 16918664414020247758\n"
     ]
    },
    {
     "name": "stdout",
     "output_type": "stream",
     "text": [
      "\u001b[1m39/39\u001b[0m \u001b[32m━━━━━━━━━━━━━━━━━━━━\u001b[0m\u001b[37m\u001b[0m \u001b[1m14s\u001b[0m 353ms/step - accuracy: 0.7523 - loss: 0.5865 - val_accuracy: 0.6424 - val_loss: 0.8363\n",
      "Epoch 338/400\n",
      "\u001b[1m 1/39\u001b[0m \u001b[37m━━━━━━━━━━━━━━━━━━━━\u001b[0m \u001b[1m1s\u001b[0m 33ms/step - accuracy: 0.8125 - loss: 0.4755"
     ]
    },
    {
     "name": "stderr",
     "output_type": "stream",
     "text": [
      "2024-10-25 01:16:22.948621: I tensorflow/core/framework/local_rendezvous.cc:423] Local rendezvous recv item cancelled. Key hash: 8056836469799998605\n"
     ]
    },
    {
     "name": "stdout",
     "output_type": "stream",
     "text": [
      "\u001b[1m39/39\u001b[0m \u001b[32m━━━━━━━━━━━━━━━━━━━━\u001b[0m\u001b[37m\u001b[0m \u001b[1m0s\u001b[0m 7ms/step - accuracy: 0.8125 - loss: 0.4755 - val_accuracy: 0.7037 - val_loss: 0.6964\n",
      "Epoch 339/400\n",
      "\u001b[1m39/39\u001b[0m \u001b[32m━━━━━━━━━━━━━━━━━━━━\u001b[0m\u001b[37m\u001b[0m \u001b[1m14s\u001b[0m 350ms/step - accuracy: 0.7668 - loss: 0.5704 - val_accuracy: 0.6319 - val_loss: 0.8318\n",
      "Epoch 340/400\n",
      "\u001b[1m 1/39\u001b[0m \u001b[37m━━━━━━━━━━━━━━━━━━━━\u001b[0m \u001b[1m1s\u001b[0m 34ms/step - accuracy: 0.7188 - loss: 0.5556"
     ]
    },
    {
     "name": "stderr",
     "output_type": "stream",
     "text": [
      "2024-10-25 01:16:36.865971: I tensorflow/core/framework/local_rendezvous.cc:423] Local rendezvous recv item cancelled. Key hash: 8056836469799998605\n",
      "2024-10-25 01:16:36.866109: I tensorflow/core/framework/local_rendezvous.cc:423] Local rendezvous recv item cancelled. Key hash: 16918664414020247758\n",
      "2024-10-25 01:16:37.086411: I tensorflow/core/framework/local_rendezvous.cc:423] Local rendezvous recv item cancelled. Key hash: 8056836469799998605\n",
      "2024-10-25 01:16:37.086573: I tensorflow/core/framework/local_rendezvous.cc:423] Local rendezvous recv item cancelled. Key hash: 16918664414020247758\n"
     ]
    },
    {
     "name": "stdout",
     "output_type": "stream",
     "text": [
      "\u001b[1m39/39\u001b[0m \u001b[32m━━━━━━━━━━━━━━━━━━━━\u001b[0m\u001b[37m\u001b[0m \u001b[1m3s\u001b[0m 66ms/step - accuracy: 0.7188 - loss: 0.5556 - val_accuracy: 0.7778 - val_loss: 0.6500\n",
      "Epoch 341/400\n",
      "\u001b[1m39/39\u001b[0m \u001b[32m━━━━━━━━━━━━━━━━━━━━\u001b[0m\u001b[37m\u001b[0m \u001b[1m14s\u001b[0m 354ms/step - accuracy: 0.7154 - loss: 0.6739 - val_accuracy: 0.6250 - val_loss: 0.8802\n",
      "Epoch 342/400\n",
      "\u001b[1m 1/39\u001b[0m \u001b[37m━━━━━━━━━━━━━━━━━━━━\u001b[0m \u001b[1m0s\u001b[0m 21ms/step - accuracy: 0.5882 - loss: 0.7790"
     ]
    },
    {
     "name": "stderr",
     "output_type": "stream",
     "text": [
      "2024-10-25 01:16:53.212964: I tensorflow/core/framework/local_rendezvous.cc:423] Local rendezvous recv item cancelled. Key hash: 8056836469799998605\n"
     ]
    },
    {
     "name": "stdout",
     "output_type": "stream",
     "text": [
      "\u001b[1m39/39\u001b[0m \u001b[32m━━━━━━━━━━━━━━━━━━━━\u001b[0m\u001b[37m\u001b[0m \u001b[1m0s\u001b[0m 7ms/step - accuracy: 0.5882 - loss: 0.7790 - val_accuracy: 0.5926 - val_loss: 0.7996\n",
      "Epoch 343/400\n",
      "\u001b[1m39/39\u001b[0m \u001b[32m━━━━━━━━━━━━━━━━━━━━\u001b[0m\u001b[37m\u001b[0m \u001b[1m13s\u001b[0m 346ms/step - accuracy: 0.7403 - loss: 0.6046 - val_accuracy: 0.6250 - val_loss: 0.8542\n",
      "Epoch 344/400\n",
      "\u001b[1m 1/39\u001b[0m \u001b[37m━━━━━━━━━━━━━━━━━━━━\u001b[0m \u001b[1m1s\u001b[0m 31ms/step - accuracy: 0.6875 - loss: 0.5996"
     ]
    },
    {
     "name": "stderr",
     "output_type": "stream",
     "text": [
      "2024-10-25 01:17:06.980070: I tensorflow/core/framework/local_rendezvous.cc:423] Local rendezvous recv item cancelled. Key hash: 8056836469799998605\n"
     ]
    },
    {
     "name": "stdout",
     "output_type": "stream",
     "text": [
      "\u001b[1m39/39\u001b[0m \u001b[32m━━━━━━━━━━━━━━━━━━━━\u001b[0m\u001b[37m\u001b[0m \u001b[1m0s\u001b[0m 6ms/step - accuracy: 0.6875 - loss: 0.5996 - val_accuracy: 0.7037 - val_loss: 0.7986\n",
      "Epoch 345/400\n"
     ]
    },
    {
     "name": "stderr",
     "output_type": "stream",
     "text": [
      "2024-10-25 01:17:07.211872: I tensorflow/core/framework/local_rendezvous.cc:423] Local rendezvous recv item cancelled. Key hash: 16918664414020247758\n"
     ]
    },
    {
     "name": "stdout",
     "output_type": "stream",
     "text": [
      "\u001b[1m39/39\u001b[0m \u001b[32m━━━━━━━━━━━━━━━━━━━━\u001b[0m\u001b[37m\u001b[0m \u001b[1m14s\u001b[0m 348ms/step - accuracy: 0.7391 - loss: 0.6153 - val_accuracy: 0.6285 - val_loss: 0.8964\n",
      "Epoch 346/400\n",
      "\u001b[1m 1/39\u001b[0m \u001b[37m━━━━━━━━━━━━━━━━━━━━\u001b[0m \u001b[1m1s\u001b[0m 32ms/step - accuracy: 0.6875 - loss: 0.7525"
     ]
    },
    {
     "name": "stderr",
     "output_type": "stream",
     "text": [
      "2024-10-25 01:17:20.818596: I tensorflow/core/framework/local_rendezvous.cc:423] Local rendezvous recv item cancelled. Key hash: 8056836469799998605\n"
     ]
    },
    {
     "name": "stdout",
     "output_type": "stream",
     "text": [
      "\u001b[1m39/39\u001b[0m \u001b[32m━━━━━━━━━━━━━━━━━━━━\u001b[0m\u001b[37m\u001b[0m \u001b[1m0s\u001b[0m 6ms/step - accuracy: 0.6875 - loss: 0.7525 - val_accuracy: 0.6667 - val_loss: 0.7458\n",
      "Epoch 347/400\n",
      "\u001b[1m39/39\u001b[0m \u001b[32m━━━━━━━━━━━━━━━━━━━━\u001b[0m\u001b[37m\u001b[0m \u001b[1m14s\u001b[0m 358ms/step - accuracy: 0.7106 - loss: 0.6459 - val_accuracy: 0.6076 - val_loss: 0.8672\n",
      "Epoch 348/400\n",
      "\u001b[1m 1/39\u001b[0m \u001b[37m━━━━━━━━━━━━━━━━━━━━\u001b[0m \u001b[1m1s\u001b[0m 34ms/step - accuracy: 0.6562 - loss: 0.7592"
     ]
    },
    {
     "name": "stderr",
     "output_type": "stream",
     "text": [
      "2024-10-25 01:17:35.041789: I tensorflow/core/framework/local_rendezvous.cc:423] Local rendezvous recv item cancelled. Key hash: 8056836469799998605\n"
     ]
    },
    {
     "name": "stdout",
     "output_type": "stream",
     "text": [
      "\u001b[1m39/39\u001b[0m \u001b[32m━━━━━━━━━━━━━━━━━━━━\u001b[0m\u001b[37m\u001b[0m \u001b[1m0s\u001b[0m 7ms/step - accuracy: 0.6562 - loss: 0.7592 - val_accuracy: 0.6667 - val_loss: 0.8736\n",
      "Epoch 349/400\n",
      "\u001b[1m39/39\u001b[0m \u001b[32m━━━━━━━━━━━━━━━━━━━━\u001b[0m\u001b[37m\u001b[0m \u001b[1m13s\u001b[0m 346ms/step - accuracy: 0.7232 - loss: 0.6161 - val_accuracy: 0.6146 - val_loss: 0.8236\n",
      "Epoch 350/400\n",
      "\u001b[1m 1/39\u001b[0m \u001b[37m━━━━━━━━━━━━━━━━━━━━\u001b[0m \u001b[1m1s\u001b[0m 32ms/step - accuracy: 0.7500 - loss: 0.7187"
     ]
    },
    {
     "name": "stderr",
     "output_type": "stream",
     "text": [
      "2024-10-25 01:17:48.805865: I tensorflow/core/framework/local_rendezvous.cc:423] Local rendezvous recv item cancelled. Key hash: 8056836469799998605\n",
      "2024-10-25 01:17:48.805983: I tensorflow/core/framework/local_rendezvous.cc:423] Local rendezvous recv item cancelled. Key hash: 16918664414020247758\n"
     ]
    },
    {
     "name": "stdout",
     "output_type": "stream",
     "text": [
      "\u001b[1m39/39\u001b[0m \u001b[32m━━━━━━━━━━━━━━━━━━━━\u001b[0m\u001b[37m\u001b[0m \u001b[1m0s\u001b[0m 6ms/step - accuracy: 0.7500 - loss: 0.7187 - val_accuracy: 0.5556 - val_loss: 0.9868\n",
      "Epoch 351/400\n"
     ]
    },
    {
     "name": "stderr",
     "output_type": "stream",
     "text": [
      "2024-10-25 01:17:49.047998: I tensorflow/core/framework/local_rendezvous.cc:423] Local rendezvous recv item cancelled. Key hash: 8056836469799998605\n",
      "2024-10-25 01:17:49.048076: I tensorflow/core/framework/local_rendezvous.cc:423] Local rendezvous recv item cancelled. Key hash: 16918664414020247758\n"
     ]
    },
    {
     "name": "stdout",
     "output_type": "stream",
     "text": [
      "\u001b[1m39/39\u001b[0m \u001b[32m━━━━━━━━━━━━━━━━━━━━\u001b[0m\u001b[37m\u001b[0m \u001b[1m14s\u001b[0m 348ms/step - accuracy: 0.7490 - loss: 0.6024 - val_accuracy: 0.5938 - val_loss: 0.9385\n",
      "Epoch 352/400\n",
      "\u001b[1m 1/39\u001b[0m \u001b[37m━━━━━━━━━━━━━━━━━━━━\u001b[0m \u001b[1m1s\u001b[0m 33ms/step - accuracy: 0.8438 - loss: 0.4521"
     ]
    },
    {
     "name": "stderr",
     "output_type": "stream",
     "text": [
      "2024-10-25 01:18:02.669536: I tensorflow/core/framework/local_rendezvous.cc:423] Local rendezvous recv item cancelled. Key hash: 8056836469799998605\n"
     ]
    },
    {
     "name": "stdout",
     "output_type": "stream",
     "text": [
      "\u001b[1m39/39\u001b[0m \u001b[32m━━━━━━━━━━━━━━━━━━━━\u001b[0m\u001b[37m\u001b[0m \u001b[1m0s\u001b[0m 6ms/step - accuracy: 0.8438 - loss: 0.4521 - val_accuracy: 0.5926 - val_loss: 0.9469\n",
      "Epoch 353/400\n",
      "\u001b[1m39/39\u001b[0m \u001b[32m━━━━━━━━━━━━━━━━━━━━\u001b[0m\u001b[37m\u001b[0m \u001b[1m14s\u001b[0m 353ms/step - accuracy: 0.7382 - loss: 0.6247 - val_accuracy: 0.6042 - val_loss: 0.8947\n",
      "Epoch 354/400\n",
      "\u001b[1m 1/39\u001b[0m \u001b[37m━━━━━━━━━━━━━━━━━━━━\u001b[0m \u001b[1m1s\u001b[0m 30ms/step - accuracy: 0.8125 - loss: 0.6283"
     ]
    },
    {
     "name": "stderr",
     "output_type": "stream",
     "text": [
      "2024-10-25 01:18:16.711612: I tensorflow/core/framework/local_rendezvous.cc:423] Local rendezvous recv item cancelled. Key hash: 8056836469799998605\n"
     ]
    },
    {
     "name": "stdout",
     "output_type": "stream",
     "text": [
      "\u001b[1m39/39\u001b[0m \u001b[32m━━━━━━━━━━━━━━━━━━━━\u001b[0m\u001b[37m\u001b[0m \u001b[1m0s\u001b[0m 6ms/step - accuracy: 0.8125 - loss: 0.6283 - val_accuracy: 0.7037 - val_loss: 0.8289\n",
      "Epoch 355/400\n"
     ]
    },
    {
     "name": "stderr",
     "output_type": "stream",
     "text": [
      "2024-10-25 01:18:16.953196: I tensorflow/core/framework/local_rendezvous.cc:423] Local rendezvous recv item cancelled. Key hash: 8056836469799998605\n",
      "2024-10-25 01:18:16.953250: I tensorflow/core/framework/local_rendezvous.cc:423] Local rendezvous recv item cancelled. Key hash: 16918664414020247758\n"
     ]
    },
    {
     "name": "stdout",
     "output_type": "stream",
     "text": [
      "\u001b[1m39/39\u001b[0m \u001b[32m━━━━━━━━━━━━━━━━━━━━\u001b[0m\u001b[37m\u001b[0m \u001b[1m14s\u001b[0m 354ms/step - accuracy: 0.7467 - loss: 0.6032 - val_accuracy: 0.6285 - val_loss: 0.9139\n",
      "Epoch 356/400\n",
      "\u001b[1m39/39\u001b[0m \u001b[32m━━━━━━━━━━━━━━━━━━━━\u001b[0m\u001b[37m\u001b[0m \u001b[1m0s\u001b[0m 6ms/step - accuracy: 0.7812 - loss: 0.5440 - val_accuracy: 0.7037 - val_loss: 0.7630\n",
      "Epoch 357/400\n"
     ]
    },
    {
     "name": "stderr",
     "output_type": "stream",
     "text": [
      "2024-10-25 01:18:31.029025: I tensorflow/core/framework/local_rendezvous.cc:423] Local rendezvous recv item cancelled. Key hash: 8056836469799998605\n",
      "2024-10-25 01:18:31.029130: I tensorflow/core/framework/local_rendezvous.cc:423] Local rendezvous recv item cancelled. Key hash: 16918664414020247758\n"
     ]
    },
    {
     "name": "stdout",
     "output_type": "stream",
     "text": [
      "\u001b[1m39/39\u001b[0m \u001b[32m━━━━━━━━━━━━━━━━━━━━\u001b[0m\u001b[37m\u001b[0m \u001b[1m14s\u001b[0m 357ms/step - accuracy: 0.7391 - loss: 0.6138 - val_accuracy: 0.6458 - val_loss: 0.8467\n",
      "Epoch 358/400\n",
      "\u001b[1m 1/39\u001b[0m \u001b[37m━━━━━━━━━━━━━━━━━━━━\u001b[0m \u001b[1m1s\u001b[0m 32ms/step - accuracy: 1.0000 - loss: 0.2978"
     ]
    },
    {
     "name": "stderr",
     "output_type": "stream",
     "text": [
      "2024-10-25 01:18:44.955385: I tensorflow/core/framework/local_rendezvous.cc:423] Local rendezvous recv item cancelled. Key hash: 8056836469799998605\n"
     ]
    },
    {
     "name": "stdout",
     "output_type": "stream",
     "text": [
      "\u001b[1m39/39\u001b[0m \u001b[32m━━━━━━━━━━━━━━━━━━━━\u001b[0m\u001b[37m\u001b[0m \u001b[1m0s\u001b[0m 6ms/step - accuracy: 1.0000 - loss: 0.2978 - val_accuracy: 0.5556 - val_loss: 1.0669\n",
      "Epoch 359/400\n"
     ]
    },
    {
     "name": "stderr",
     "output_type": "stream",
     "text": [
      "2024-10-25 01:18:45.200815: I tensorflow/core/framework/local_rendezvous.cc:423] Local rendezvous recv item cancelled. Key hash: 8056836469799998605\n",
      "2024-10-25 01:18:45.200864: I tensorflow/core/framework/local_rendezvous.cc:423] Local rendezvous recv item cancelled. Key hash: 16918664414020247758\n"
     ]
    },
    {
     "name": "stdout",
     "output_type": "stream",
     "text": [
      "\u001b[1m39/39\u001b[0m \u001b[32m━━━━━━━━━━━━━━━━━━━━\u001b[0m\u001b[37m\u001b[0m \u001b[1m13s\u001b[0m 345ms/step - accuracy: 0.7583 - loss: 0.6010 - val_accuracy: 0.6146 - val_loss: 0.8656\n",
      "Epoch 360/400\n",
      "\u001b[1m 1/39\u001b[0m \u001b[37m━━━━━━━━━━━━━━━━━━━━\u001b[0m \u001b[1m1s\u001b[0m 31ms/step - accuracy: 0.8125 - loss: 0.5768"
     ]
    },
    {
     "name": "stderr",
     "output_type": "stream",
     "text": [
      "2024-10-25 01:18:58.684319: I tensorflow/core/framework/local_rendezvous.cc:423] Local rendezvous recv item cancelled. Key hash: 8056836469799998605\n"
     ]
    },
    {
     "name": "stdout",
     "output_type": "stream",
     "text": [
      "\u001b[1m39/39\u001b[0m \u001b[32m━━━━━━━━━━━━━━━━━━━━\u001b[0m\u001b[37m\u001b[0m \u001b[1m0s\u001b[0m 6ms/step - accuracy: 0.8125 - loss: 0.5768 - val_accuracy: 0.5926 - val_loss: 1.3118\n",
      "Epoch 361/400\n"
     ]
    },
    {
     "name": "stderr",
     "output_type": "stream",
     "text": [
      "2024-10-25 01:18:58.933408: I tensorflow/core/framework/local_rendezvous.cc:423] Local rendezvous recv item cancelled. Key hash: 16918664414020247758\n"
     ]
    },
    {
     "name": "stdout",
     "output_type": "stream",
     "text": [
      "\u001b[1m39/39\u001b[0m \u001b[32m━━━━━━━━━━━━━━━━━━━━\u001b[0m\u001b[37m\u001b[0m \u001b[1m14s\u001b[0m 349ms/step - accuracy: 0.7475 - loss: 0.6337 - val_accuracy: 0.6285 - val_loss: 0.8424\n",
      "Epoch 362/400\n",
      "\u001b[1m 1/39\u001b[0m \u001b[37m━━━━━━━━━━━━━━━━━━━━\u001b[0m \u001b[1m1s\u001b[0m 34ms/step - accuracy: 0.5938 - loss: 0.7767"
     ]
    },
    {
     "name": "stderr",
     "output_type": "stream",
     "text": [
      "2024-10-25 01:19:12.589401: I tensorflow/core/framework/local_rendezvous.cc:423] Local rendezvous recv item cancelled. Key hash: 8056836469799998605\n"
     ]
    },
    {
     "name": "stdout",
     "output_type": "stream",
     "text": [
      "\u001b[1m39/39\u001b[0m \u001b[32m━━━━━━━━━━━━━━━━━━━━\u001b[0m\u001b[37m\u001b[0m \u001b[1m0s\u001b[0m 7ms/step - accuracy: 0.5938 - loss: 0.7767 - val_accuracy: 0.6667 - val_loss: 0.7143\n",
      "Epoch 363/400\n",
      "\u001b[1m39/39\u001b[0m \u001b[32m━━━━━━━━━━━━━━━━━━━━\u001b[0m\u001b[37m\u001b[0m \u001b[1m14s\u001b[0m 354ms/step - accuracy: 0.7380 - loss: 0.6124 - val_accuracy: 0.6562 - val_loss: 0.8331\n",
      "Epoch 364/400\n",
      "\u001b[1m39/39\u001b[0m \u001b[32m━━━━━━━━━━━━━━━━━━━━\u001b[0m\u001b[37m\u001b[0m \u001b[1m0s\u001b[0m 7ms/step - accuracy: 0.7812 - loss: 0.5192 - val_accuracy: 0.7407 - val_loss: 0.7450\n",
      "Epoch 365/400\n"
     ]
    },
    {
     "name": "stderr",
     "output_type": "stream",
     "text": [
      "2024-10-25 01:19:26.947072: I tensorflow/core/framework/local_rendezvous.cc:423] Local rendezvous recv item cancelled. Key hash: 8056836469799998605\n",
      "2024-10-25 01:19:26.947116: I tensorflow/core/framework/local_rendezvous.cc:423] Local rendezvous recv item cancelled. Key hash: 16918664414020247758\n"
     ]
    },
    {
     "name": "stdout",
     "output_type": "stream",
     "text": [
      "\u001b[1m39/39\u001b[0m \u001b[32m━━━━━━━━━━━━━━━━━━━━\u001b[0m\u001b[37m\u001b[0m \u001b[1m14s\u001b[0m 355ms/step - accuracy: 0.7387 - loss: 0.6448 - val_accuracy: 0.6528 - val_loss: 0.8571\n",
      "Epoch 366/400\n",
      "\u001b[1m 1/39\u001b[0m \u001b[37m━━━━━━━━━━━━━━━━━━━━\u001b[0m \u001b[1m1s\u001b[0m 33ms/step - accuracy: 0.7812 - loss: 0.4953"
     ]
    },
    {
     "name": "stderr",
     "output_type": "stream",
     "text": [
      "2024-10-25 01:19:40.804663: I tensorflow/core/framework/local_rendezvous.cc:423] Local rendezvous recv item cancelled. Key hash: 8056836469799998605\n"
     ]
    },
    {
     "name": "stdout",
     "output_type": "stream",
     "text": [
      "\u001b[1m39/39\u001b[0m \u001b[32m━━━━━━━━━━━━━━━━━━━━\u001b[0m\u001b[37m\u001b[0m \u001b[1m0s\u001b[0m 6ms/step - accuracy: 0.7812 - loss: 0.4953 - val_accuracy: 0.5556 - val_loss: 0.8657\n",
      "Epoch 367/400\n"
     ]
    },
    {
     "name": "stderr",
     "output_type": "stream",
     "text": [
      "2024-10-25 01:19:41.031988: I tensorflow/core/framework/local_rendezvous.cc:423] Local rendezvous recv item cancelled. Key hash: 8056836469799998605\n",
      "2024-10-25 01:19:41.032109: I tensorflow/core/framework/local_rendezvous.cc:423] Local rendezvous recv item cancelled. Key hash: 16918664414020247758\n"
     ]
    },
    {
     "name": "stdout",
     "output_type": "stream",
     "text": [
      "\u001b[1m39/39\u001b[0m \u001b[32m━━━━━━━━━━━━━━━━━━━━\u001b[0m\u001b[37m\u001b[0m \u001b[1m14s\u001b[0m 350ms/step - accuracy: 0.7288 - loss: 0.6213 - val_accuracy: 0.6528 - val_loss: 0.8330\n",
      "Epoch 368/400\n",
      "\u001b[1m 1/39\u001b[0m \u001b[37m━━━━━━━━━━━━━━━━━━━━\u001b[0m \u001b[1m1s\u001b[0m 34ms/step - accuracy: 0.7812 - loss: 0.4824"
     ]
    },
    {
     "name": "stderr",
     "output_type": "stream",
     "text": [
      "2024-10-25 01:19:54.719538: I tensorflow/core/framework/local_rendezvous.cc:423] Local rendezvous recv item cancelled. Key hash: 8056836469799998605\n"
     ]
    },
    {
     "name": "stdout",
     "output_type": "stream",
     "text": [
      "\u001b[1m39/39\u001b[0m \u001b[32m━━━━━━━━━━━━━━━━━━━━\u001b[0m\u001b[37m\u001b[0m \u001b[1m0s\u001b[0m 7ms/step - accuracy: 0.7812 - loss: 0.4824 - val_accuracy: 0.6296 - val_loss: 0.8888\n",
      "Epoch 369/400\n"
     ]
    },
    {
     "name": "stderr",
     "output_type": "stream",
     "text": [
      "2024-10-25 01:19:54.994604: I tensorflow/core/framework/local_rendezvous.cc:423] Local rendezvous recv item cancelled. Key hash: 8056836469799998605\n",
      "2024-10-25 01:19:54.994657: I tensorflow/core/framework/local_rendezvous.cc:423] Local rendezvous recv item cancelled. Key hash: 16918664414020247758\n"
     ]
    },
    {
     "name": "stdout",
     "output_type": "stream",
     "text": [
      "\u001b[1m39/39\u001b[0m \u001b[32m━━━━━━━━━━━━━━━━━━━━\u001b[0m\u001b[37m\u001b[0m \u001b[1m14s\u001b[0m 362ms/step - accuracy: 0.7409 - loss: 0.6075 - val_accuracy: 0.6111 - val_loss: 0.9128\n",
      "Epoch 370/400\n",
      "\u001b[1m 1/39\u001b[0m \u001b[37m━━━━━━━━━━━━━━━━━━━━\u001b[0m \u001b[1m1s\u001b[0m 35ms/step - accuracy: 0.8438 - loss: 0.5179"
     ]
    },
    {
     "name": "stderr",
     "output_type": "stream",
     "text": [
      "2024-10-25 01:20:09.155449: I tensorflow/core/framework/local_rendezvous.cc:423] Local rendezvous recv item cancelled. Key hash: 8056836469799998605\n"
     ]
    },
    {
     "name": "stdout",
     "output_type": "stream",
     "text": [
      "\u001b[1m39/39\u001b[0m \u001b[32m━━━━━━━━━━━━━━━━━━━━\u001b[0m\u001b[37m\u001b[0m \u001b[1m0s\u001b[0m 5ms/step - accuracy: 0.8438 - loss: 0.5179 - val_accuracy: 0.6296 - val_loss: 0.7117\n",
      "Epoch 371/400\n",
      "\u001b[1m39/39\u001b[0m \u001b[32m━━━━━━━━━━━━━━━━━━━━\u001b[0m\u001b[37m\u001b[0m \u001b[1m14s\u001b[0m 347ms/step - accuracy: 0.7285 - loss: 0.6171 - val_accuracy: 0.6181 - val_loss: 0.8717\n",
      "Epoch 372/400\n",
      "\u001b[1m 1/39\u001b[0m \u001b[37m━━━━━━━━━━━━━━━━━━━━\u001b[0m \u001b[1m1s\u001b[0m 32ms/step - accuracy: 0.6875 - loss: 0.6357"
     ]
    },
    {
     "name": "stderr",
     "output_type": "stream",
     "text": [
      "2024-10-25 01:20:22.915605: I tensorflow/core/framework/local_rendezvous.cc:423] Local rendezvous recv item cancelled. Key hash: 8056836469799998605\n",
      "2024-10-25 01:20:22.915727: I tensorflow/core/framework/local_rendezvous.cc:423] Local rendezvous recv item cancelled. Key hash: 16918664414020247758\n"
     ]
    },
    {
     "name": "stdout",
     "output_type": "stream",
     "text": [
      "\u001b[1m39/39\u001b[0m \u001b[32m━━━━━━━━━━━━━━━━━━━━\u001b[0m\u001b[37m\u001b[0m \u001b[1m0s\u001b[0m 7ms/step - accuracy: 0.6875 - loss: 0.6357 - val_accuracy: 0.4815 - val_loss: 0.9524\n",
      "Epoch 373/400\n",
      "\u001b[1m39/39\u001b[0m \u001b[32m━━━━━━━━━━━━━━━━━━━━\u001b[0m\u001b[37m\u001b[0m \u001b[1m14s\u001b[0m 349ms/step - accuracy: 0.7356 - loss: 0.6057 - val_accuracy: 0.6493 - val_loss: 0.8516\n",
      "Epoch 374/400\n",
      "\u001b[1m 1/39\u001b[0m \u001b[37m━━━━━━━━━━━━━━━━━━━━\u001b[0m \u001b[1m1s\u001b[0m 31ms/step - accuracy: 0.8750 - loss: 0.4593"
     ]
    },
    {
     "name": "stderr",
     "output_type": "stream",
     "text": [
      "2024-10-25 01:20:36.806531: I tensorflow/core/framework/local_rendezvous.cc:423] Local rendezvous recv item cancelled. Key hash: 8056836469799998605\n",
      "2024-10-25 01:20:36.806596: I tensorflow/core/framework/local_rendezvous.cc:423] Local rendezvous recv item cancelled. Key hash: 16918664414020247758\n"
     ]
    },
    {
     "name": "stdout",
     "output_type": "stream",
     "text": [
      "\u001b[1m39/39\u001b[0m \u001b[32m━━━━━━━━━━━━━━━━━━━━\u001b[0m\u001b[37m\u001b[0m \u001b[1m0s\u001b[0m 6ms/step - accuracy: 0.8750 - loss: 0.4593 - val_accuracy: 0.5556 - val_loss: 0.9780\n",
      "Epoch 375/400\n",
      "\u001b[1m39/39\u001b[0m \u001b[32m━━━━━━━━━━━━━━━━━━━━\u001b[0m\u001b[37m\u001b[0m \u001b[1m14s\u001b[0m 351ms/step - accuracy: 0.7469 - loss: 0.5988 - val_accuracy: 0.6701 - val_loss: 0.8387\n",
      "Epoch 376/400\n",
      "\u001b[1m 1/39\u001b[0m \u001b[37m━━━━━━━━━━━━━━━━━━━━\u001b[0m \u001b[1m1s\u001b[0m 34ms/step - accuracy: 0.6875 - loss: 0.6524"
     ]
    },
    {
     "name": "stderr",
     "output_type": "stream",
     "text": [
      "2024-10-25 01:20:50.743498: I tensorflow/core/framework/local_rendezvous.cc:423] Local rendezvous recv item cancelled. Key hash: 8056836469799998605\n"
     ]
    },
    {
     "name": "stdout",
     "output_type": "stream",
     "text": [
      "\u001b[1m39/39\u001b[0m \u001b[32m━━━━━━━━━━━━━━━━━━━━\u001b[0m\u001b[37m\u001b[0m \u001b[1m0s\u001b[0m 6ms/step - accuracy: 0.6875 - loss: 0.6524 - val_accuracy: 0.7037 - val_loss: 0.6862\n",
      "Epoch 377/400\n",
      "\u001b[1m39/39\u001b[0m \u001b[32m━━━━━━━━━━━━━━━━━━━━\u001b[0m\u001b[37m\u001b[0m \u001b[1m13s\u001b[0m 346ms/step - accuracy: 0.7358 - loss: 0.5908 - val_accuracy: 0.6250 - val_loss: 0.9147\n",
      "Epoch 378/400\n",
      "\u001b[1m39/39\u001b[0m \u001b[32m━━━━━━━━━━━━━━━━━━━━\u001b[0m\u001b[37m\u001b[0m \u001b[1m0s\u001b[0m 6ms/step - accuracy: 0.8438 - loss: 0.4131 - val_accuracy: 0.6667 - val_loss: 0.6262\n",
      "Epoch 379/400\n"
     ]
    },
    {
     "name": "stderr",
     "output_type": "stream",
     "text": [
      "2024-10-25 01:21:04.736735: I tensorflow/core/framework/local_rendezvous.cc:423] Local rendezvous recv item cancelled. Key hash: 8056836469799998605\n",
      "2024-10-25 01:21:04.736856: I tensorflow/core/framework/local_rendezvous.cc:423] Local rendezvous recv item cancelled. Key hash: 16918664414020247758\n"
     ]
    },
    {
     "name": "stdout",
     "output_type": "stream",
     "text": [
      "\u001b[1m39/39\u001b[0m \u001b[32m━━━━━━━━━━━━━━━━━━━━\u001b[0m\u001b[37m\u001b[0m \u001b[1m13s\u001b[0m 345ms/step - accuracy: 0.7581 - loss: 0.5793 - val_accuracy: 0.6146 - val_loss: 0.8785\n",
      "Epoch 380/400\n",
      "\u001b[1m39/39\u001b[0m \u001b[32m━━━━━━━━━━━━━━━━━━━━\u001b[0m\u001b[37m\u001b[0m \u001b[1m0s\u001b[0m 6ms/step - accuracy: 0.8125 - loss: 0.5440 - val_accuracy: 0.6667 - val_loss: 0.8713\n",
      "Epoch 381/400\n"
     ]
    },
    {
     "name": "stderr",
     "output_type": "stream",
     "text": [
      "2024-10-25 01:21:18.467140: I tensorflow/core/framework/local_rendezvous.cc:423] Local rendezvous recv item cancelled. Key hash: 8056836469799998605\n",
      "2024-10-25 01:21:18.467194: I tensorflow/core/framework/local_rendezvous.cc:423] Local rendezvous recv item cancelled. Key hash: 16918664414020247758\n"
     ]
    },
    {
     "name": "stdout",
     "output_type": "stream",
     "text": [
      "\u001b[1m39/39\u001b[0m \u001b[32m━━━━━━━━━━━━━━━━━━━━\u001b[0m\u001b[37m\u001b[0m \u001b[1m14s\u001b[0m 349ms/step - accuracy: 0.7301 - loss: 0.6015 - val_accuracy: 0.6389 - val_loss: 0.8293\n",
      "Epoch 382/400\n",
      "\u001b[1m 1/39\u001b[0m \u001b[37m━━━━━━━━━━━━━━━━━━━━\u001b[0m \u001b[1m1s\u001b[0m 31ms/step - accuracy: 0.7500 - loss: 0.5610"
     ]
    },
    {
     "name": "stderr",
     "output_type": "stream",
     "text": [
      "2024-10-25 01:21:32.095426: I tensorflow/core/framework/local_rendezvous.cc:423] Local rendezvous recv item cancelled. Key hash: 8056836469799998605\n"
     ]
    },
    {
     "name": "stdout",
     "output_type": "stream",
     "text": [
      "\u001b[1m39/39\u001b[0m \u001b[32m━━━━━━━━━━━━━━━━━━━━\u001b[0m\u001b[37m\u001b[0m \u001b[1m0s\u001b[0m 6ms/step - accuracy: 0.7500 - loss: 0.5610 - val_accuracy: 0.5185 - val_loss: 1.0864\n",
      "Epoch 383/400\n"
     ]
    },
    {
     "name": "stderr",
     "output_type": "stream",
     "text": [
      "2024-10-25 01:21:32.334060: I tensorflow/core/framework/local_rendezvous.cc:423] Local rendezvous recv item cancelled. Key hash: 8056836469799998605\n",
      "2024-10-25 01:21:32.334198: I tensorflow/core/framework/local_rendezvous.cc:423] Local rendezvous recv item cancelled. Key hash: 16918664414020247758\n"
     ]
    },
    {
     "name": "stdout",
     "output_type": "stream",
     "text": [
      "\u001b[1m39/39\u001b[0m \u001b[32m━━━━━━━━━━━━━━━━━━━━\u001b[0m\u001b[37m\u001b[0m \u001b[1m14s\u001b[0m 347ms/step - accuracy: 0.7657 - loss: 0.5715 - val_accuracy: 0.6424 - val_loss: 0.8826\n",
      "Epoch 384/400\n",
      "\u001b[1m 1/39\u001b[0m \u001b[37m━━━━━━━━━━━━━━━━━━━━\u001b[0m \u001b[1m1s\u001b[0m 32ms/step - accuracy: 0.7500 - loss: 0.5659"
     ]
    },
    {
     "name": "stderr",
     "output_type": "stream",
     "text": [
      "2024-10-25 01:21:45.885364: I tensorflow/core/framework/local_rendezvous.cc:423] Local rendezvous recv item cancelled. Key hash: 8056836469799998605\n",
      "2024-10-25 01:21:45.885486: I tensorflow/core/framework/local_rendezvous.cc:423] Local rendezvous recv item cancelled. Key hash: 16918664414020247758\n"
     ]
    },
    {
     "name": "stdout",
     "output_type": "stream",
     "text": [
      "\u001b[1m39/39\u001b[0m \u001b[32m━━━━━━━━━━━━━━━━━━━━\u001b[0m\u001b[37m\u001b[0m \u001b[1m0s\u001b[0m 6ms/step - accuracy: 0.7500 - loss: 0.5659 - val_accuracy: 0.6667 - val_loss: 0.8651\n",
      "Epoch 385/400\n"
     ]
    },
    {
     "name": "stderr",
     "output_type": "stream",
     "text": [
      "2024-10-25 01:21:46.132511: I tensorflow/core/framework/local_rendezvous.cc:423] Local rendezvous recv item cancelled. Key hash: 8056836469799998605\n",
      "2024-10-25 01:21:46.132611: I tensorflow/core/framework/local_rendezvous.cc:423] Local rendezvous recv item cancelled. Key hash: 16918664414020247758\n"
     ]
    },
    {
     "name": "stdout",
     "output_type": "stream",
     "text": [
      "\u001b[1m39/39\u001b[0m \u001b[32m━━━━━━━━━━━━━━━━━━━━\u001b[0m\u001b[37m\u001b[0m \u001b[1m13s\u001b[0m 344ms/step - accuracy: 0.7576 - loss: 0.5879 - val_accuracy: 0.6458 - val_loss: 0.8729\n",
      "Epoch 386/400\n",
      "\u001b[1m 1/39\u001b[0m \u001b[37m━━━━━━━━━━━━━━━━━━━━\u001b[0m \u001b[1m1s\u001b[0m 32ms/step - accuracy: 0.5625 - loss: 0.8785"
     ]
    },
    {
     "name": "stderr",
     "output_type": "stream",
     "text": [
      "2024-10-25 01:21:59.600442: I tensorflow/core/framework/local_rendezvous.cc:423] Local rendezvous recv item cancelled. Key hash: 8056836469799998605\n"
     ]
    },
    {
     "name": "stdout",
     "output_type": "stream",
     "text": [
      "\u001b[1m39/39\u001b[0m \u001b[32m━━━━━━━━━━━━━━━━━━━━\u001b[0m\u001b[37m\u001b[0m \u001b[1m0s\u001b[0m 9ms/step - accuracy: 0.5625 - loss: 0.8785 - val_accuracy: 0.7037 - val_loss: 0.7157\n",
      "Epoch 387/400\n"
     ]
    },
    {
     "name": "stderr",
     "output_type": "stream",
     "text": [
      "2024-10-25 01:21:59.948989: I tensorflow/core/framework/local_rendezvous.cc:423] Local rendezvous recv item cancelled. Key hash: 8056836469799998605\n",
      "2024-10-25 01:21:59.949038: I tensorflow/core/framework/local_rendezvous.cc:423] Local rendezvous recv item cancelled. Key hash: 16918664414020247758\n"
     ]
    },
    {
     "name": "stdout",
     "output_type": "stream",
     "text": [
      "\u001b[1m39/39\u001b[0m \u001b[32m━━━━━━━━━━━━━━━━━━━━\u001b[0m\u001b[37m\u001b[0m \u001b[1m13s\u001b[0m 346ms/step - accuracy: 0.7613 - loss: 0.5937 - val_accuracy: 0.6215 - val_loss: 0.8955\n",
      "Epoch 388/400\n",
      "\u001b[1m 1/39\u001b[0m \u001b[37m━━━━━━━━━━━━━━━━━━━━\u001b[0m \u001b[1m1s\u001b[0m 33ms/step - accuracy: 0.8438 - loss: 0.5374"
     ]
    },
    {
     "name": "stderr",
     "output_type": "stream",
     "text": [
      "2024-10-25 01:22:13.473481: I tensorflow/core/framework/local_rendezvous.cc:423] Local rendezvous recv item cancelled. Key hash: 8056836469799998605\n",
      "2024-10-25 01:22:13.473604: I tensorflow/core/framework/local_rendezvous.cc:423] Local rendezvous recv item cancelled. Key hash: 16918664414020247758\n"
     ]
    },
    {
     "name": "stdout",
     "output_type": "stream",
     "text": [
      "\u001b[1m39/39\u001b[0m \u001b[32m━━━━━━━━━━━━━━━━━━━━\u001b[0m\u001b[37m\u001b[0m \u001b[1m0s\u001b[0m 7ms/step - accuracy: 0.8438 - loss: 0.5374 - val_accuracy: 0.5185 - val_loss: 1.0179\n",
      "Epoch 389/400\n"
     ]
    },
    {
     "name": "stderr",
     "output_type": "stream",
     "text": [
      "2024-10-25 01:22:13.724279: I tensorflow/core/framework/local_rendezvous.cc:423] Local rendezvous recv item cancelled. Key hash: 8056836469799998605\n",
      "2024-10-25 01:22:13.724359: I tensorflow/core/framework/local_rendezvous.cc:423] Local rendezvous recv item cancelled. Key hash: 16918664414020247758\n"
     ]
    },
    {
     "name": "stdout",
     "output_type": "stream",
     "text": [
      "\u001b[1m39/39\u001b[0m \u001b[32m━━━━━━━━━━━━━━━━━━━━\u001b[0m\u001b[37m\u001b[0m \u001b[1m14s\u001b[0m 347ms/step - accuracy: 0.7421 - loss: 0.6103 - val_accuracy: 0.6389 - val_loss: 0.8625\n",
      "Epoch 390/400\n",
      "\u001b[1m39/39\u001b[0m \u001b[32m━━━━━━━━━━━━━━━━━━━━\u001b[0m\u001b[37m\u001b[0m \u001b[1m0s\u001b[0m 7ms/step - accuracy: 0.8438 - loss: 0.3917 - val_accuracy: 0.6667 - val_loss: 1.0021\n",
      "Epoch 391/400\n"
     ]
    },
    {
     "name": "stderr",
     "output_type": "stream",
     "text": [
      "2024-10-25 01:22:27.538500: I tensorflow/core/framework/local_rendezvous.cc:423] Local rendezvous recv item cancelled. Key hash: 8056836469799998605\n",
      "2024-10-25 01:22:27.538555: I tensorflow/core/framework/local_rendezvous.cc:423] Local rendezvous recv item cancelled. Key hash: 16918664414020247758\n"
     ]
    },
    {
     "name": "stdout",
     "output_type": "stream",
     "text": [
      "\u001b[1m39/39\u001b[0m \u001b[32m━━━━━━━━━━━━━━━━━━━━\u001b[0m\u001b[37m\u001b[0m \u001b[1m14s\u001b[0m 351ms/step - accuracy: 0.7549 - loss: 0.5772 - val_accuracy: 0.5972 - val_loss: 0.9178\n",
      "Epoch 392/400\n",
      "\u001b[1m 1/39\u001b[0m \u001b[37m━━━━━━━━━━━━━━━━━━━━\u001b[0m \u001b[1m1s\u001b[0m 31ms/step - accuracy: 0.8125 - loss: 0.4361"
     ]
    },
    {
     "name": "stderr",
     "output_type": "stream",
     "text": [
      "2024-10-25 01:22:41.239604: I tensorflow/core/framework/local_rendezvous.cc:423] Local rendezvous recv item cancelled. Key hash: 8056836469799998605\n"
     ]
    },
    {
     "name": "stdout",
     "output_type": "stream",
     "text": [
      "\u001b[1m39/39\u001b[0m \u001b[32m━━━━━━━━━━━━━━━━━━━━\u001b[0m\u001b[37m\u001b[0m \u001b[1m0s\u001b[0m 7ms/step - accuracy: 0.8125 - loss: 0.4361 - val_accuracy: 0.6296 - val_loss: 0.6909\n",
      "Epoch 393/400\n"
     ]
    },
    {
     "name": "stderr",
     "output_type": "stream",
     "text": [
      "2024-10-25 01:22:41.529545: I tensorflow/core/framework/local_rendezvous.cc:423] Local rendezvous recv item cancelled. Key hash: 8056836469799998605\n",
      "2024-10-25 01:22:41.529592: I tensorflow/core/framework/local_rendezvous.cc:423] Local rendezvous recv item cancelled. Key hash: 16918664414020247758\n"
     ]
    },
    {
     "name": "stdout",
     "output_type": "stream",
     "text": [
      "\u001b[1m39/39\u001b[0m \u001b[32m━━━━━━━━━━━━━━━━━━━━\u001b[0m\u001b[37m\u001b[0m \u001b[1m14s\u001b[0m 351ms/step - accuracy: 0.7648 - loss: 0.5690 - val_accuracy: 0.6424 - val_loss: 0.8334\n",
      "Epoch 394/400\n",
      "\u001b[1m 1/39\u001b[0m \u001b[37m━━━━━━━━━━━━━━━━━━━━\u001b[0m \u001b[1m1s\u001b[0m 33ms/step - accuracy: 0.8438 - loss: 0.4467"
     ]
    },
    {
     "name": "stderr",
     "output_type": "stream",
     "text": [
      "2024-10-25 01:22:55.240189: I tensorflow/core/framework/local_rendezvous.cc:423] Local rendezvous recv item cancelled. Key hash: 8056836469799998605\n"
     ]
    },
    {
     "name": "stdout",
     "output_type": "stream",
     "text": [
      "\u001b[1m39/39\u001b[0m \u001b[32m━━━━━━━━━━━━━━━━━━━━\u001b[0m\u001b[37m\u001b[0m \u001b[1m0s\u001b[0m 7ms/step - accuracy: 0.8438 - loss: 0.4467 - val_accuracy: 0.4815 - val_loss: 1.0410\n",
      "Epoch 395/400\n",
      "\u001b[1m39/39\u001b[0m \u001b[32m━━━━━━━━━━━━━━━━━━━━\u001b[0m\u001b[37m\u001b[0m \u001b[1m13s\u001b[0m 345ms/step - accuracy: 0.7644 - loss: 0.5778 - val_accuracy: 0.6111 - val_loss: 0.8859\n",
      "Epoch 396/400\n",
      "\u001b[1m 1/39\u001b[0m \u001b[37m━━━━━━━━━━━━━━━━━━━━\u001b[0m \u001b[1m1s\u001b[0m 35ms/step - accuracy: 0.7188 - loss: 0.6975"
     ]
    },
    {
     "name": "stderr",
     "output_type": "stream",
     "text": [
      "2024-10-25 01:23:08.983460: I tensorflow/core/framework/local_rendezvous.cc:423] Local rendezvous recv item cancelled. Key hash: 8056836469799998605\n",
      "2024-10-25 01:23:08.983578: I tensorflow/core/framework/local_rendezvous.cc:423] Local rendezvous recv item cancelled. Key hash: 16918664414020247758\n"
     ]
    },
    {
     "name": "stdout",
     "output_type": "stream",
     "text": [
      "\u001b[1m39/39\u001b[0m \u001b[32m━━━━━━━━━━━━━━━━━━━━\u001b[0m\u001b[37m\u001b[0m \u001b[1m0s\u001b[0m 5ms/step - accuracy: 0.7188 - loss: 0.6975 - val_accuracy: 0.4815 - val_loss: 1.0741\n",
      "Epoch 397/400\n",
      "\u001b[1m39/39\u001b[0m \u001b[32m━━━━━━━━━━━━━━━━━━━━\u001b[0m\u001b[37m\u001b[0m \u001b[1m14s\u001b[0m 349ms/step - accuracy: 0.7774 - loss: 0.5558 - val_accuracy: 0.6319 - val_loss: 0.9151\n",
      "Epoch 398/400\n",
      "\u001b[1m 1/39\u001b[0m \u001b[37m━━━━━━━━━━━━━━━━━━━━\u001b[0m \u001b[1m1s\u001b[0m 30ms/step - accuracy: 0.7188 - loss: 0.6221"
     ]
    },
    {
     "name": "stderr",
     "output_type": "stream",
     "text": [
      "2024-10-25 01:23:22.824158: I tensorflow/core/framework/local_rendezvous.cc:423] Local rendezvous recv item cancelled. Key hash: 8056836469799998605\n"
     ]
    },
    {
     "name": "stdout",
     "output_type": "stream",
     "text": [
      "\u001b[1m39/39\u001b[0m \u001b[32m━━━━━━━━━━━━━━━━━━━━\u001b[0m\u001b[37m\u001b[0m \u001b[1m0s\u001b[0m 5ms/step - accuracy: 0.7188 - loss: 0.6221 - val_accuracy: 0.6296 - val_loss: 0.9064\n",
      "Epoch 399/400\n"
     ]
    },
    {
     "name": "stderr",
     "output_type": "stream",
     "text": [
      "2024-10-25 01:23:23.033971: I tensorflow/core/framework/local_rendezvous.cc:423] Local rendezvous recv item cancelled. Key hash: 8056836469799998605\n",
      "2024-10-25 01:23:23.034021: I tensorflow/core/framework/local_rendezvous.cc:423] Local rendezvous recv item cancelled. Key hash: 16918664414020247758\n"
     ]
    },
    {
     "name": "stdout",
     "output_type": "stream",
     "text": [
      "\u001b[1m39/39\u001b[0m \u001b[32m━━━━━━━━━━━━━━━━━━━━\u001b[0m\u001b[37m\u001b[0m \u001b[1m14s\u001b[0m 349ms/step - accuracy: 0.7203 - loss: 0.6135 - val_accuracy: 0.6285 - val_loss: 0.8876\n",
      "Epoch 400/400\n",
      "\u001b[1m 1/39\u001b[0m \u001b[37m━━━━━━━━━━━━━━━━━━━━\u001b[0m \u001b[1m1s\u001b[0m 35ms/step - accuracy: 0.7188 - loss: 0.5155"
     ]
    },
    {
     "name": "stderr",
     "output_type": "stream",
     "text": [
      "2024-10-25 01:23:36.678197: I tensorflow/core/framework/local_rendezvous.cc:423] Local rendezvous recv item cancelled. Key hash: 8056836469799998605\n"
     ]
    },
    {
     "name": "stdout",
     "output_type": "stream",
     "text": [
      "\u001b[1m39/39\u001b[0m \u001b[32m━━━━━━━━━━━━━━━━━━━━\u001b[0m\u001b[37m\u001b[0m \u001b[1m0s\u001b[0m 5ms/step - accuracy: 0.7188 - loss: 0.5155 - val_accuracy: 0.7037 - val_loss: 0.6055\n",
      "모델 학습 완료\n"
     ]
    }
   ],
   "source": [
    "# 모델 학습 진행\n",
    "history = model.fit(\n",
    "    train_generator,  # 훈련 데이터 로더\n",
    "    steps_per_epoch=train_generator.samples // train_generator.batch_size,  # 한 epoch당 훈련 단계 수\n",
    "    validation_data=validation_generator,  # 검증 데이터 로더\n",
    "    validation_steps=validation_generator.samples // validation_generator.batch_size,  # 한 epoch당 검증 단계 수\n",
    "    epochs=400  # 학습 반복 횟수\n",
    ")\n",
    "\n",
    "# 학습 결과 출력\n",
    "print(\"모델 학습 완료\")\n"
   ]
  },
  {
   "cell_type": "markdown",
   "metadata": {},
   "source": [
    "5. 모델 평가 및 F1 스코어 계산\n",
    "- 평가 데이터 준비: 학습과 검증에 사용되지 않은 테스트 데이터를 준비합니다.\n",
    "모델 평가: 학습된 모델을 사용해 예측을 수행하고, 실제 레이블과 비교하여 Precision, Recall, F1 스코어를 계산합니다."
   ]
  },
  {
   "cell_type": "code",
   "execution_count": 11,
   "metadata": {},
   "outputs": [
    {
     "name": "stdout",
     "output_type": "stream",
     "text": [
      "\u001b[1m50/50\u001b[0m \u001b[32m━━━━━━━━━━━━━━━━━━━━\u001b[0m\u001b[37m\u001b[0m \u001b[1m1s\u001b[0m 28ms/step\n",
      "이미지: 1. 낚시어선 이동.jpg, 예측 클래스: 이동\n",
      "이미지: 1. 낚시어선 조업.jpg, 예측 클래스: 표류\n",
      "이미지: 1. 낚시어선 표류.jpg, 예측 클래스: 표류\n",
      "이미지: 1. 등광조망 이동.jpg, 예측 클래스: 조업\n",
      "이미지: 1. 등광조망 표류.jpg, 예측 클래스: 조업\n",
      "이미지: 1. 범장망 이동.jpg, 예측 클래스: 표류\n",
      "이미지: 1. 범장망 조업.jpg, 예측 클래스: 표류\n",
      "이미지: 1. 범장망 표류.jpg, 예측 클래스: 표류\n",
      "이미지: 1. 안강망 이동.jpg, 예측 클래스: 표류\n",
      "이미지: 1. 안강망 조업.jpg, 예측 클래스: 이동\n",
      "이미지: 1. 안강망 표류.jpg, 예측 클래스: 표류\n",
      "이미지: 1. 연승 이동.jpg, 예측 클래스: 이동\n",
      "이미지: 1. 연승 표류.jpg, 예측 클래스: 조업\n",
      "이미지: 1. 유망 이동.jpg, 예측 클래스: 조업\n",
      "이미지: 1. 유망 조업.jpg, 예측 클래스: 표류\n",
      "이미지: 1. 유망 표류.jpg, 예측 클래스: 표류\n",
      "이미지: 1. 저인망 이동.jpg, 예측 클래스: 이동\n",
      "이미지: 1. 저인망 조업.jpg, 예측 클래스: 표류\n",
      "이미지: 1. 저인망 표류.jpg, 예측 클래스: 조업\n",
      "이미지: 1. 채낚기  표류.jpg, 예측 클래스: 표류\n",
      "이미지: 1. 채낚기 이동.jpg, 예측 클래스: 이동\n",
      "이미지: 1. 채낚기 조업.jpg, 예측 클래스: 표류\n",
      "이미지: 1. 타망 이동.jpg, 예측 클래스: 이동\n",
      "이미지: 1. 타망 조업.jpg, 예측 클래스: 이동\n",
      "이미지: 1. 타망 표류.jpg, 예측 클래스: 표류\n",
      "이미지: 1. 통발 이동.jpg, 예측 클래스: 이동\n",
      "이미지: 1. 통발 조업.jpg, 예측 클래스: 표류\n",
      "이미지: 1. 통발 표류.jpg, 예측 클래스: 이동\n",
      "이미지: 1.등광조망 조업.jpg, 예측 클래스: 표류\n",
      "이미지: 10. 낚시어선 이동.jpg, 예측 클래스: 이동\n",
      "이미지: 10. 낚시어선 조업.jpg, 예측 클래스: 조업\n",
      "이미지: 10. 낚시어선 표류.jpg, 예측 클래스: 표류\n",
      "이미지: 10. 등광조망 이동.jpg, 예측 클래스: 이동\n",
      "이미지: 10. 등광조망 조업.jpg, 예측 클래스: 조업\n",
      "이미지: 10. 등광조망 표류.jpg, 예측 클래스: 표류\n",
      "이미지: 10. 범장망 이동.jpg, 예측 클래스: 이동\n",
      "이미지: 10. 범장망 조업.jpg, 예측 클래스: 표류\n",
      "이미지: 10. 범장망 표류.jpg, 예측 클래스: 표류\n",
      "이미지: 10. 안강망 이동.jpg, 예측 클래스: 이동\n",
      "이미지: 10. 안강망 조업.jpg, 예측 클래스: 표류\n",
      "이미지: 10. 안강망 표류.jpg, 예측 클래스: 표류\n",
      "이미지: 10. 연승 이동.jpg, 예측 클래스: 이동\n",
      "이미지: 10. 연승 표류.jpg, 예측 클래스: 표류\n",
      "이미지: 10. 유망 이동.jpg, 예측 클래스: 이동\n",
      "이미지: 10. 유망 조업.jpg, 예측 클래스: 조업\n",
      "이미지: 10. 유망 표류.jpg, 예측 클래스: 표류\n",
      "이미지: 10. 저인망 이동.jpg, 예측 클래스: 표류\n",
      "이미지: 10. 저인망 조업.jpg, 예측 클래스: 표류\n",
      "이미지: 10. 채낚기 이동.jpg, 예측 클래스: 이동\n",
      "이미지: 10. 채낚기 표류.jpg, 예측 클래스: 표류\n",
      "이미지: 10. 타망 이동.jpg, 예측 클래스: 표류\n",
      "이미지: 10. 타망 조업.jpg, 예측 클래스: 표류\n",
      "이미지: 10. 타망 표류.jpg, 예측 클래스: 표류\n",
      "이미지: 10. 통발 이동.jpg, 예측 클래스: 표류\n",
      "이미지: 10. 통발 표류.jpg, 예측 클래스: 조업\n",
      "이미지: 100 타망 이동.jpg, 예측 클래스: 표류\n",
      "이미지: 100. 범장망 이동.jpg, 예측 클래스: 이동\n",
      "이미지: 100. 범장망 표류.jpg, 예측 클래스: 표류\n",
      "이미지: 100. 유망 표류.jpg, 예측 클래스: 표류\n",
      "이미지: 100. 타망 조업.jpg, 예측 클래스: 표류\n",
      "이미지: 100. 타망 표류.jpg, 예측 클래스: 표류\n",
      "이미지: 101 타망 이동.jpg, 예측 클래스: 표류\n",
      "이미지: 101. 범장망 이동.jpg, 예측 클래스: 표류\n",
      "이미지: 101. 범장망 표류.jpg, 예측 클래스: 조업\n",
      "이미지: 101. 유망 표류.jpg, 예측 클래스: 표류\n",
      "이미지: 101. 타망 조업.jpg, 예측 클래스: 조업\n",
      "이미지: 101. 타망 표류.jpg, 예측 클래스: 표류\n",
      "이미지: 102 타망 이동.jpg, 예측 클래스: 표류\n",
      "이미지: 102. 범장망 이동.jpg, 예측 클래스: 이동\n",
      "이미지: 102. 범장망 표류.jpg, 예측 클래스: 표류\n",
      "이미지: 102. 유망 표류.jpg, 예측 클래스: 표류\n",
      "이미지: 102. 타망 조업.jpg, 예측 클래스: 조업\n",
      "이미지: 102. 타망 표류.jpg, 예측 클래스: 표류\n",
      "이미지: 103 타망 이동.jpg, 예측 클래스: 표류\n",
      "이미지: 103. 범장망 이동.jpg, 예측 클래스: 표류\n",
      "이미지: 103. 범장망 표류.jpg, 예측 클래스: 표류\n",
      "이미지: 103. 유망 표류.jpg, 예측 클래스: 표류\n",
      "이미지: 103. 타망 조업.jpg, 예측 클래스: 표류\n",
      "이미지: 103. 타망 표류.jpg, 예측 클래스: 표류\n",
      "이미지: 104 타망 이동.jpg, 예측 클래스: 표류\n",
      "이미지: 104. 범장망 이동.jpg, 예측 클래스: 이동\n",
      "이미지: 104. 범장망 표류.jpg, 예측 클래스: 표류\n",
      "이미지: 104. 유망 표류.jpg, 예측 클래스: 표류\n",
      "이미지: 104. 타망 조업.jpg, 예측 클래스: 표류\n",
      "이미지: 104. 타망 표류.jpg, 예측 클래스: 이동\n",
      "이미지: 105. 범장망 이동.jpg, 예측 클래스: 이동\n",
      "이미지: 105. 범장망 표류.jpg, 예측 클래스: 표류\n",
      "이미지: 105. 유망 표류.jpg, 예측 클래스: 표류\n",
      "이미지: 105. 타망 조업.jpg, 예측 클래스: 표류\n",
      "이미지: 105. 타망 표류.jpg, 예측 클래스: 표류\n",
      "이미지: 106 타망 이동.jpg, 예측 클래스: 표류\n",
      "이미지: 106. 범장망 이동.jpg, 예측 클래스: 표류\n",
      "이미지: 106. 범장망 표류.jpg, 예측 클래스: 표류\n",
      "이미지: 106. 유망 표류.jpg, 예측 클래스: 표류\n",
      "이미지: 106. 타망 조업.jpg, 예측 클래스: 표류\n",
      "이미지: 106. 타망 표류.jpg, 예측 클래스: 표류\n",
      "이미지: 107 타망 이동.jpg, 예측 클래스: 표류\n",
      "이미지: 107. 범장망 이동.jpg, 예측 클래스: 이동\n",
      "이미지: 107. 범장망 표류.jpg, 예측 클래스: 표류\n",
      "이미지: 107. 유망 표류.jpg, 예측 클래스: 표류\n",
      "이미지: 107. 타망 조업.jpg, 예측 클래스: 표류\n",
      "이미지: 107. 타망 표류.jpg, 예측 클래스: 표류\n",
      "이미지: 108 타망 이동.jpg, 예측 클래스: 표류\n",
      "이미지: 108. 범장망 이동.jpg, 예측 클래스: 표류\n",
      "이미지: 108. 범장망 표류.jpg, 예측 클래스: 표류\n",
      "이미지: 108. 유망 표류.jpg, 예측 클래스: 표류\n",
      "이미지: 108. 타망 조업.jpg, 예측 클래스: 표류\n",
      "이미지: 108. 타망 표류.jpg, 예측 클래스: 표류\n",
      "이미지: 109 타망 이동.jpg, 예측 클래스: 표류\n",
      "이미지: 109. 범장망 이동.jpg, 예측 클래스: 이동\n",
      "이미지: 109. 범장망 표류.jpg, 예측 클래스: 표류\n",
      "이미지: 109. 유망 표류.jpg, 예측 클래스: 표류\n",
      "이미지: 109. 타망 조업.jpg, 예측 클래스: 조업\n",
      "이미지: 109. 타망 표류.jpg, 예측 클래스: 표류\n",
      "이미지: 11. 낚시어선 이동.jpg, 예측 클래스: 이동\n",
      "이미지: 11. 낚시어선 조업.jpg, 예측 클래스: 표류\n",
      "이미지: 11. 등광조망 이동.jpg, 예측 클래스: 이동\n",
      "이미지: 11. 등광조망 조업.jpg, 예측 클래스: 조업\n",
      "이미지: 11. 등광조망 표류.jpg, 예측 클래스: 조업\n",
      "이미지: 11. 범장망 이동.jpg, 예측 클래스: 이동\n",
      "이미지: 11. 범장망 조업.jpg, 예측 클래스: 표류\n",
      "이미지: 11. 범장망 표류.jpg, 예측 클래스: 표류\n",
      "이미지: 11. 안강망 이동.jpg, 예측 클래스: 조업\n",
      "이미지: 11. 안강망 조업.jpg, 예측 클래스: 조업\n",
      "이미지: 11. 연승 이동.jpg, 예측 클래스: 이동\n",
      "이미지: 11. 연승 표류.jpg, 예측 클래스: 표류\n",
      "이미지: 11. 유망 이동.jpg, 예측 클래스: 이동\n",
      "이미지: 11. 유망 조업.jpg, 예측 클래스: 표류\n",
      "이미지: 11. 유망 표류.jpg, 예측 클래스: 이동\n",
      "이미지: 11. 저인망 이동.jpg, 예측 클래스: 이동\n",
      "이미지: 11. 저인망 조업.jpg, 예측 클래스: 이동\n",
      "이미지: 11. 채낚기 이동.jpg, 예측 클래스: 조업\n",
      "이미지: 11. 채낚기 표류.jpg, 예측 클래스: 이동\n",
      "이미지: 11. 타망 이동.jpg, 예측 클래스: 이동\n",
      "이미지: 11. 타망 조업.jpg, 예측 클래스: 표류\n",
      "이미지: 11. 타망 표류.jpg, 예측 클래스: 표류\n",
      "이미지: 11. 통발 이동.jpg, 예측 클래스: 이동\n",
      "이미지: 11. 통발 표류.jpg, 예측 클래스: 표류\n",
      "이미지: 110 타망 이동.jpg, 예측 클래스: 표류\n",
      "이미지: 110. 범장망 이동.jpg, 예측 클래스: 이동\n",
      "이미지: 110. 범장망 표류.jpg, 예측 클래스: 표류\n",
      "이미지: 110. 유망 표류.jpg, 예측 클래스: 표류\n",
      "이미지: 110. 타망 조업.jpg, 예측 클래스: 조업\n",
      "이미지: 110. 타망 표류.jpg, 예측 클래스: 표류\n",
      "이미지: 111 타망 이동.jpg, 예측 클래스: 이동\n",
      "이미지: 111. 범장망 이동.jpg, 예측 클래스: 이동\n",
      "이미지: 111. 범장망 표류.jpg, 예측 클래스: 표류\n",
      "이미지: 111. 유망 표류.jpg, 예측 클래스: 이동\n",
      "이미지: 111. 타망 조업.jpg, 예측 클래스: 표류\n",
      "이미지: 111. 타망 표류.jpg, 예측 클래스: 표류\n",
      "이미지: 112 타망 이동.jpg, 예측 클래스: 표류\n",
      "이미지: 112. 범장망 이동.jpg, 예측 클래스: 이동\n",
      "이미지: 112. 범장망 표류.jpg, 예측 클래스: 표류\n",
      "이미지: 112. 유망 표류.jpg, 예측 클래스: 표류\n",
      "이미지: 112. 타망 조업.jpg, 예측 클래스: 조업\n",
      "이미지: 112. 타망 표류.jpg, 예측 클래스: 표류\n",
      "이미지: 113 타망 이동.jpg, 예측 클래스: 표류\n",
      "이미지: 113. 범장망 이동.jpg, 예측 클래스: 이동\n",
      "이미지: 113. 범장망 표류.jpg, 예측 클래스: 표류\n",
      "이미지: 113. 유망 표류.jpg, 예측 클래스: 표류\n",
      "이미지: 113. 타망 조업.jpg, 예측 클래스: 조업\n",
      "이미지: 113. 타망 표류.jpg, 예측 클래스: 표류\n",
      "이미지: 114 타망 이동.jpg, 예측 클래스: 표류\n",
      "이미지: 114. 범장망 표류.jpg, 예측 클래스: 표류\n",
      "이미지: 114. 유망 표류.jpg, 예측 클래스: 표류\n",
      "이미지: 114. 타망 조업.jpg, 예측 클래스: 표류\n",
      "이미지: 114. 타망 표류.jpg, 예측 클래스: 조업\n",
      "이미지: 115 타망 이동.jpg, 예측 클래스: 표류\n",
      "이미지: 115. 범장망 표류.jpg, 예측 클래스: 표류\n",
      "이미지: 115. 유망 표류.jpg, 예측 클래스: 표류\n",
      "이미지: 115. 타망 조업.jpg, 예측 클래스: 표류\n",
      "이미지: 115. 타망 표류.jpg, 예측 클래스: 표류\n",
      "이미지: 116 타망 이동.jpg, 예측 클래스: 표류\n",
      "이미지: 116. 유망 표류.jpg, 예측 클래스: 표류\n",
      "이미지: 116. 타망 조업.jpg, 예측 클래스: 표류\n",
      "이미지: 116. 타망 표류.jpg, 예측 클래스: 표류\n",
      "이미지: 116.. 범장망 표류.jpg, 예측 클래스: 표류\n",
      "이미지: 117 타망 이동.jpg, 예측 클래스: 표류\n",
      "이미지: 117. 범장망 표류.jpg, 예측 클래스: 표류\n",
      "이미지: 117. 유망 표류.jpg, 예측 클래스: 이동\n",
      "이미지: 117. 타망 조업.jpg, 예측 클래스: 조업\n",
      "이미지: 117. 타망 표류.jpg, 예측 클래스: 표류\n",
      "이미지: 118 타망 이동.jpg, 예측 클래스: 표류\n",
      "이미지: 118. 범장망 표류.jpg, 예측 클래스: 표류\n",
      "이미지: 118. 유망 표류.jpg, 예측 클래스: 표류\n",
      "이미지: 118. 타망 조업.jpg, 예측 클래스: 표류\n",
      "이미지: 118. 타망 표류.jpg, 예측 클래스: 표류\n",
      "이미지: 119 타망 이동.jpg, 예측 클래스: 이동\n",
      "이미지: 119. 범장망 표류.jpg, 예측 클래스: 표류\n",
      "이미지: 119. 유망 표류.jpg, 예측 클래스: 이동\n",
      "이미지: 119. 타망 표류.jpg, 예측 클래스: 표류\n",
      "이미지: 12 등광조망 조업.jpg, 예측 클래스: 조업\n",
      "이미지: 12. 낚시어선 조업.jpg, 예측 클래스: 조업\n",
      "이미지: 12. 등광조망 이동.jpg, 예측 클래스: 표류\n",
      "이미지: 12. 등광조망 표류.jpg, 예측 클래스: 표류\n",
      "이미지: 12. 범장망 이동.jpg, 예측 클래스: 이동\n",
      "이미지: 12. 범장망 조업.jpg, 예측 클래스: 조업\n",
      "이미지: 12. 범장망 표류.jpg, 예측 클래스: 표류\n",
      "이미지: 12. 안강망 이동.jpg, 예측 클래스: 표류\n",
      "이미지: 12. 안강망 조업.jpg, 예측 클래스: 이동\n",
      "이미지: 12. 안강망 표류.jpg, 예측 클래스: 표류\n",
      "이미지: 12. 연승 이동.jpg, 예측 클래스: 이동\n",
      "이미지: 12. 연승 표류.jpg, 예측 클래스: 표류\n",
      "이미지: 12. 유망 이동.jpg, 예측 클래스: 이동\n",
      "이미지: 12. 유망 조업.jpg, 예측 클래스: 표류\n",
      "이미지: 12. 유망 표류.jpg, 예측 클래스: 표류\n",
      "이미지: 12. 저인망 이동.jpg, 예측 클래스: 표류\n",
      "이미지: 12. 저인망 조업.jpg, 예측 클래스: 이동\n",
      "이미지: 12. 채낚기 이동.jpg, 예측 클래스: 이동\n",
      "이미지: 12. 타망 이동.jpg, 예측 클래스: 이동\n",
      "이미지: 12. 타망 조업.jpg, 예측 클래스: 조업\n",
      "이미지: 12. 타망 표류.jpg, 예측 클래스: 조업\n",
      "이미지: 12. 통발 이동.jpg, 예측 클래스: 이동\n",
      "이미지: 120 타망 이동.jpg, 예측 클래스: 이동\n",
      "이미지: 120. 범장망 표류.jpg, 예측 클래스: 표류\n",
      "이미지: 120. 유망 표류.jpg, 예측 클래스: 표류\n",
      "이미지: 120. 타망 조업.jpg, 예측 클래스: 이동\n",
      "이미지: 120. 타망 표류.jpg, 예측 클래스: 표류\n",
      "이미지: 121 타망 이동.jpg, 예측 클래스: 표류\n",
      "이미지: 121. 범장망 표류.jpg, 예측 클래스: 표류\n",
      "이미지: 121. 유망 표류.jpg, 예측 클래스: 표류\n",
      "이미지: 121. 타망 조업.jpg, 예측 클래스: 조업\n",
      "이미지: 121. 타망 표류.jpg, 예측 클래스: 표류\n",
      "이미지: 122 타망 이동.jpg, 예측 클래스: 이동\n",
      "이미지: 122. 범장망 표류.jpg, 예측 클래스: 표류\n",
      "이미지: 122. 유망 표류.jpg, 예측 클래스: 표류\n",
      "이미지: 122. 타망 조업.jpg, 예측 클래스: 조업\n",
      "이미지: 122. 타망 표류.jpg, 예측 클래스: 표류\n",
      "이미지: 123 타망 이동.jpg, 예측 클래스: 표류\n",
      "이미지: 123. 범장망 표류.jpg, 예측 클래스: 표류\n",
      "이미지: 123. 유망 표류.jpg, 예측 클래스: 표류\n",
      "이미지: 123. 타망 조업.jpg, 예측 클래스: 표류\n",
      "이미지: 123. 타망 표류.jpg, 예측 클래스: 표류\n",
      "이미지: 124 타망 이동.jpg, 예측 클래스: 표류\n",
      "이미지: 124. 범장망 표류.jpg, 예측 클래스: 표류\n",
      "이미지: 124. 유망 표류.jpg, 예측 클래스: 표류\n",
      "이미지: 124. 타망 조업.jpg, 예측 클래스: 조업\n",
      "이미지: 124. 타망 표류.jpg, 예측 클래스: 표류\n",
      "이미지: 125 타망 이동.jpg, 예측 클래스: 이동\n",
      "이미지: 125. 범장망 표류.jpg, 예측 클래스: 표류\n",
      "이미지: 125. 유망 표류.jpg, 예측 클래스: 표류\n",
      "이미지: 125. 타망 조업.jpg, 예측 클래스: 이동\n",
      "이미지: 125. 타망 표류.jpg, 예측 클래스: 표류\n",
      "이미지: 126 타망 이동.jpg, 예측 클래스: 표류\n",
      "이미지: 126. 범장망 표류.jpg, 예측 클래스: 표류\n",
      "이미지: 126. 유망 표류.jpg, 예측 클래스: 표류\n",
      "이미지: 126. 타망 조업.jpg, 예측 클래스: 조업\n",
      "이미지: 127 타망 이동.jpg, 예측 클래스: 표류\n",
      "이미지: 127. 범장망 표류.jpg, 예측 클래스: 표류\n",
      "이미지: 127. 유망 표류.jpg, 예측 클래스: 표류\n",
      "이미지: 127. 타망 조업.jpg, 예측 클래스: 표류\n",
      "이미지: 128 타망 이동.jpg, 예측 클래스: 표류\n",
      "이미지: 128. 범장망 표류.jpg, 예측 클래스: 표류\n",
      "이미지: 128. 유망 표류.jpg, 예측 클래스: 표류\n",
      "이미지: 128. 타망 조업.jpg, 예측 클래스: 표류\n",
      "이미지: 129 타망 이동.jpg, 예측 클래스: 표류\n",
      "이미지: 129. 범장망 표류.jpg, 예측 클래스: 표류\n",
      "이미지: 129. 유망 표류.jpg, 예측 클래스: 표류\n",
      "이미지: 129. 타망 조업.jpg, 예측 클래스: 표류\n",
      "이미지: 13. 낚시어선 이동.jpg, 예측 클래스: 이동\n",
      "이미지: 13. 낚시어선 조업.jpg, 예측 클래스: 조업\n",
      "이미지: 13. 등광조망 이동.jpg, 예측 클래스: 이동\n",
      "이미지: 13. 등광조망 조업.jpg, 예측 클래스: 조업\n",
      "이미지: 13. 범장망 이동.jpg, 예측 클래스: 표류\n",
      "이미지: 13. 범장망 조업.jpg, 예측 클래스: 표류\n",
      "이미지: 13. 범장망 표류.jpg, 예측 클래스: 표류\n",
      "이미지: 13. 안강망 이동.jpg, 예측 클래스: 조업\n",
      "이미지: 13. 안강망 조업.jpg, 예측 클래스: 조업\n",
      "이미지: 13. 안강망 표류.jpg, 예측 클래스: 표류\n",
      "이미지: 13. 연승 이동.jpg, 예측 클래스: 표류\n",
      "이미지: 13. 연승 표류.jpg, 예측 클래스: 표류\n",
      "이미지: 13. 유망 이동.jpg, 예측 클래스: 표류\n",
      "이미지: 13. 유망 조업.jpg, 예측 클래스: 표류\n",
      "이미지: 13. 유망 표류.jpg, 예측 클래스: 표류\n",
      "이미지: 13. 저인망 이동.jpg, 예측 클래스: 조업\n",
      "이미지: 13. 저인망 조업.jpg, 예측 클래스: 표류\n",
      "이미지: 13. 채낚기 이동.jpg, 예측 클래스: 이동\n",
      "이미지: 13. 채낚기 표류.jpg, 예측 클래스: 이동\n",
      "이미지: 13. 타망 이동.jpg, 예측 클래스: 이동\n",
      "이미지: 13. 타망 조업.jpg, 예측 클래스: 표류\n",
      "이미지: 13. 타망 표류.jpg, 예측 클래스: 표류\n",
      "이미지: 13. 통발 이동.jpg, 예측 클래스: 표류\n",
      "이미지: 130 타망 이동.png, 예측 클래스: 조업\n",
      "이미지: 130. 범장망 표류.jpg, 예측 클래스: 표류\n",
      "이미지: 130. 타망 조업.jpg, 예측 클래스: 표류\n",
      "이미지: 131. 범장망 표류.jpg, 예측 클래스: 표류\n",
      "이미지: 131. 타망 이동.jpg, 예측 클래스: 이동\n",
      "이미지: 131. 타망 조업.jpg, 예측 클래스: 표류\n",
      "이미지: 132. 범장망 표류.jpg, 예측 클래스: 표류\n",
      "이미지: 132. 타망 이동.jpg, 예측 클래스: 표류\n",
      "이미지: 132. 타망 조업.jpg, 예측 클래스: 표류\n",
      "이미지: 133. 범장망 표류.jpg, 예측 클래스: 표류\n",
      "이미지: 133. 타망 이동.jpg, 예측 클래스: 표류\n",
      "이미지: 133. 타망 조업.jpg, 예측 클래스: 조업\n",
      "이미지: 134. 범장망 표류.jpg, 예측 클래스: 표류\n",
      "이미지: 134. 타망 이동.jpg, 예측 클래스: 이동\n",
      "이미지: 135. 범장망 표류.jpg, 예측 클래스: 표류\n",
      "이미지: 135. 타망 이동.jpg, 예측 클래스: 표류\n",
      "이미지: 136. 범장망 표류.jpg, 예측 클래스: 표류\n",
      "이미지: 136. 타망 이동.jpg, 예측 클래스: 이동\n",
      "이미지: 137. 범장망 표류.jpg, 예측 클래스: 표류\n",
      "이미지: 137. 타망 이동.jpg, 예측 클래스: 이동\n",
      "이미지: 138. 범장망 표류.jpg, 예측 클래스: 표류\n",
      "이미지: 138. 타망 이동.jpg, 예측 클래스: 이동\n",
      "이미지: 139. 범장망 표류.jpg, 예측 클래스: 표류\n",
      "이미지: 139. 타망 이동.jpg, 예측 클래스: 이동\n",
      "이미지: 14. 낚시어선 이동.jpg, 예측 클래스: 조업\n",
      "이미지: 14. 낚시어선 조업.jpg, 예측 클래스: 조업\n",
      "이미지: 14. 등광조망 이동.jpg, 예측 클래스: 표류\n",
      "이미지: 14. 등광조망 조업.jpg, 예측 클래스: 표류\n",
      "이미지: 14. 등광조망 표류.jpg, 예측 클래스: 표류\n",
      "이미지: 14. 범장망 이동.jpg, 예측 클래스: 이동\n",
      "이미지: 14. 범장망 조업.jpg, 예측 클래스: 표류\n",
      "이미지: 14. 범장망 표류.jpg, 예측 클래스: 표류\n",
      "이미지: 14. 안강망 이동.jpg, 예측 클래스: 조업\n",
      "이미지: 14. 안강망 조업.jpg, 예측 클래스: 조업\n",
      "이미지: 14. 안강망 표류.jpg, 예측 클래스: 표류\n",
      "이미지: 14. 연승 이동.jpg, 예측 클래스: 이동\n",
      "이미지: 14. 연승 표류.png, 예측 클래스: 표류\n",
      "이미지: 14. 유망 이동.jpg, 예측 클래스: 이동\n",
      "이미지: 14. 유망 표류.jpg, 예측 클래스: 표류\n",
      "이미지: 14. 저인망 이동.jpg, 예측 클래스: 이동\n",
      "이미지: 14. 저인망 조업.jpg, 예측 클래스: 이동\n",
      "이미지: 14. 채낚기 이동.jpg, 예측 클래스: 이동\n",
      "이미지: 14. 채낚기 표류.jpg, 예측 클래스: 조업\n",
      "이미지: 14. 타망 이동.jpg, 예측 클래스: 조업\n",
      "이미지: 14. 타망 조업.jpg, 예측 클래스: 조업\n",
      "이미지: 14. 타망 표류.jpg, 예측 클래스: 표류\n",
      "이미지: 14. 통발 이동.jpg, 예측 클래스: 표류\n",
      "이미지: 140. 범장망 표류.jpg, 예측 클래스: 표류\n",
      "이미지: 140. 타망 이동.jpg, 예측 클래스: 이동\n",
      "이미지: 141. 범장망 표류.jpg, 예측 클래스: 표류\n",
      "이미지: 141. 타망 이동.jpg, 예측 클래스: 이동\n",
      "이미지: 142. 범장망 표류.jpg, 예측 클래스: 표류\n",
      "이미지: 142. 타망 이동.jpg, 예측 클래스: 이동\n",
      "이미지: 143. 범장망 표류.jpg, 예측 클래스: 표류\n",
      "이미지: 143. 타망 이동.jpg, 예측 클래스: 이동\n",
      "이미지: 144. 범장망 표류.jpg, 예측 클래스: 표류\n",
      "이미지: 144. 타망 이동.jpg, 예측 클래스: 이동\n",
      "이미지: 145. 범장망 표류.jpg, 예측 클래스: 표류\n",
      "이미지: 145. 타망 이동.jpg, 예측 클래스: 이동\n",
      "이미지: 146. 범장망 표류.jpg, 예측 클래스: 표류\n",
      "이미지: 146. 타망 이동.jpg, 예측 클래스: 이동\n",
      "이미지: 147. 범장망 표류.jpg, 예측 클래스: 표류\n",
      "이미지: 147. 타망 이동.jpg, 예측 클래스: 이동\n",
      "이미지: 148. 범장망 표류.jpg, 예측 클래스: 표류\n",
      "이미지: 148. 타망 이동.jpg, 예측 클래스: 표류\n",
      "이미지: 149. 범장망 표류.jpg, 예측 클래스: 표류\n",
      "이미지: 149. 타망 이동.jpg, 예측 클래스: 이동\n",
      "이미지: 15. 낚시어선 이동.jpg, 예측 클래스: 이동\n",
      "이미지: 15. 낚시어선 조업.jpg, 예측 클래스: 조업\n",
      "이미지: 15. 등광조망 이동.jpg, 예측 클래스: 조업\n",
      "이미지: 15. 등광조망 조업.png, 예측 클래스: 조업\n",
      "이미지: 15. 등광조망 표류.jpg, 예측 클래스: 조업\n",
      "이미지: 15. 범장망 이동.jpg, 예측 클래스: 이동\n",
      "이미지: 15. 범장망 조업.jpg, 예측 클래스: 표류\n",
      "이미지: 15. 범장망 표류.jpg, 예측 클래스: 조업\n",
      "이미지: 15. 안강망 이동.jpg, 예측 클래스: 이동\n",
      "이미지: 15. 안강망 조업.jpg, 예측 클래스: 이동\n",
      "이미지: 15. 안강망 표류.jpg, 예측 클래스: 표류\n",
      "이미지: 15. 연승 이동.jpg, 예측 클래스: 이동\n",
      "이미지: 15. 연승 표류.jpg, 예측 클래스: 표류\n",
      "이미지: 15. 유망 이동.jpg, 예측 클래스: 이동\n",
      "이미지: 15. 유망 조업.jpg, 예측 클래스: 표류\n",
      "이미지: 15. 유망 표류.jpg, 예측 클래스: 표류\n",
      "이미지: 15. 저인망 조업.jpg, 예측 클래스: 표류\n",
      "이미지: 15. 채낚기 이동.jpg, 예측 클래스: 이동\n",
      "이미지: 15. 채낚기 표류.jpg, 예측 클래스: 조업\n",
      "이미지: 15. 타망 이동.jpg, 예측 클래스: 이동\n",
      "이미지: 15. 타망 조업.jpg, 예측 클래스: 조업\n",
      "이미지: 15. 타망 표류.jpg, 예측 클래스: 표류\n",
      "이미지: 150. 범장망 표류.jpg, 예측 클래스: 표류\n",
      "이미지: 150. 타망 이동.jpg, 예측 클래스: 이동\n",
      "이미지: 151. 범장망 표류.jpg, 예측 클래스: 표류\n",
      "이미지: 151. 타망 이동.jpg, 예측 클래스: 표류\n",
      "이미지: 152. 범장망 표류.jpg, 예측 클래스: 표류\n",
      "이미지: 152. 타망 이동.jpg, 예측 클래스: 이동\n",
      "이미지: 153. 범장망 표류.jpg, 예측 클래스: 표류\n",
      "이미지: 153. 타망 이동.jpg, 예측 클래스: 표류\n",
      "이미지: 154. 범장망 표류.jpg, 예측 클래스: 이동\n",
      "이미지: 154. 타망 이동.jpg, 예측 클래스: 이동\n",
      "이미지: 155. 범장망 표류.jpg, 예측 클래스: 이동\n",
      "이미지: 155. 타망 이동.jpg, 예측 클래스: 이동\n",
      "이미지: 156. 범장망 표류.jpg, 예측 클래스: 이동\n",
      "이미지: 156. 타망 이동.jpg, 예측 클래스: 표류\n",
      "이미지: 157. 범장망 표류.jpg, 예측 클래스: 표류\n",
      "이미지: 157. 타망 이동.jpg, 예측 클래스: 이동\n",
      "이미지: 158. 범장망 표류.jpg, 예측 클래스: 표류\n",
      "이미지: 158. 타망 이동.jpg, 예측 클래스: 이동\n",
      "이미지: 159. 범장망 표류.jpg, 예측 클래스: 이동\n",
      "이미지: 159. 타망 이동.jpg, 예측 클래스: 표류\n",
      "이미지: 16. 낚시어선 이동.jpg, 예측 클래스: 이동\n",
      "이미지: 16. 낚시어선 조업.jpg, 예측 클래스: 표류\n",
      "이미지: 16. 등광조망 이동.jpg, 예측 클래스: 이동\n",
      "이미지: 16. 등광조망 조업.jpg, 예측 클래스: 이동\n",
      "이미지: 16. 등광조망 표류.jpg, 예측 클래스: 표류\n",
      "이미지: 16. 범장망 이동.jpg, 예측 클래스: 표류\n",
      "이미지: 16. 범장망 조업.jpg, 예측 클래스: 표류\n",
      "이미지: 16. 범장망 표류.jpg, 예측 클래스: 표류\n",
      "이미지: 16. 안강망 이동.jpg, 예측 클래스: 이동\n",
      "이미지: 16. 안강망 조업.jpg, 예측 클래스: 이동\n",
      "이미지: 16. 안강망 표류.jpg, 예측 클래스: 표류\n",
      "이미지: 16. 연승 이동.jpg, 예측 클래스: 이동\n",
      "이미지: 16. 연승 표류.jpg, 예측 클래스: 표류\n",
      "이미지: 16. 유망 조업.jpg, 예측 클래스: 표류\n",
      "이미지: 16. 유망 표류.jpg, 예측 클래스: 표류\n",
      "이미지: 16. 저인망 이동.jpg, 예측 클래스: 표류\n",
      "이미지: 16. 저인망 조업.jpg, 예측 클래스: 이동\n",
      "이미지: 16. 채낚기 이동.jpg, 예측 클래스: 표류\n",
      "이미지: 16. 채낚기 표류.jpg, 예측 클래스: 표류\n",
      "이미지: 16. 타망 이동.jpg, 예측 클래스: 이동\n",
      "이미지: 16. 타망 조업.jpg, 예측 클래스: 이동\n",
      "이미지: 16. 타망 표류.jpg, 예측 클래스: 표류\n",
      "이미지: 16. 통발 이동.jpg, 예측 클래스: 이동\n",
      "이미지: 160. 범장망 표류.jpg, 예측 클래스: 표류\n",
      "이미지: 160. 타망 이동.jpg, 예측 클래스: 이동\n",
      "이미지: 161. 범장망 표류.jpg, 예측 클래스: 표류\n",
      "이미지: 161. 타망 이동.jpg, 예측 클래스: 이동\n",
      "이미지: 162. 범장망 표류.jpg, 예측 클래스: 표류\n",
      "이미지: 163. 범장망 표류.jpg, 예측 클래스: 표류\n",
      "이미지: 163. 타망 이동.jpg, 예측 클래스: 표류\n",
      "이미지: 164. 범장망 표류.jpg, 예측 클래스: 표류\n",
      "이미지: 164. 타망 이동.jpg, 예측 클래스: 이동\n",
      "이미지: 165. 범장망 표류.jpg, 예측 클래스: 표류\n",
      "이미지: 165. 타망 이동.jpg, 예측 클래스: 이동\n",
      "이미지: 166. 범장망 표류.jpg, 예측 클래스: 표류\n",
      "이미지: 166. 타망 이동.jpg, 예측 클래스: 표류\n",
      "이미지: 167. 범장망 표류.jpg, 예측 클래스: 표류\n",
      "이미지: 167. 타망 이동.jpg, 예측 클래스: 표류\n",
      "이미지: 168. 범장망 표류.jpg, 예측 클래스: 이동\n",
      "이미지: 168. 타망 이동.jpg, 예측 클래스: 이동\n",
      "이미지: 169. 범장망 표류.jpg, 예측 클래스: 표류\n",
      "이미지: 17. 낚시어선 이동.jpg, 예측 클래스: 이동\n",
      "이미지: 17. 낚시어선 조업.jpg, 예측 클래스: 표류\n",
      "이미지: 17. 등광조망 이동.jpg, 예측 클래스: 이동\n",
      "이미지: 17. 등광조망 조업.jpg, 예측 클래스: 조업\n",
      "이미지: 17. 등광조망 표류.jpg, 예측 클래스: 표류\n",
      "이미지: 17. 범장망 이동.jpg, 예측 클래스: 표류\n",
      "이미지: 17. 범장망 조업.jpg, 예측 클래스: 표류\n",
      "이미지: 17. 범장망 표류.jpg, 예측 클래스: 표류\n",
      "이미지: 17. 안강망 이동.jpg, 예측 클래스: 이동\n",
      "이미지: 17. 연승 이동.jpg, 예측 클래스: 이동\n",
      "이미지: 17. 연승 표류.jpg, 예측 클래스: 표류\n",
      "이미지: 17. 유망 이동.jpg, 예측 클래스: 이동\n",
      "이미지: 17. 유망 조업.jpg, 예측 클래스: 조업\n",
      "이미지: 17. 유망 표류.jpg, 예측 클래스: 표류\n",
      "이미지: 17. 저인망 이동.jpg, 예측 클래스: 이동\n",
      "이미지: 17. 채낚기 이동.jpg, 예측 클래스: 이동\n",
      "이미지: 17. 채낚기 표류.jpg, 예측 클래스: 표류\n",
      "이미지: 17. 타망 이동.jpg, 예측 클래스: 이동\n",
      "이미지: 17. 타망 조업.jpg, 예측 클래스: 표류\n",
      "이미지: 17. 타망 표류.jpg, 예측 클래스: 표류\n",
      "이미지: 17. 통발 이동.jpg, 예측 클래스: 이동\n",
      "이미지: 170. 범장망 표류.jpg, 예측 클래스: 표류\n",
      "이미지: 171. 범장망 표류.jpg, 예측 클래스: 이동\n",
      "이미지: 172. 범장망 표류.jpg, 예측 클래스: 표류\n",
      "이미지: 173. 범장망 표류.jpg, 예측 클래스: 표류\n",
      "이미지: 174. 범장망 표류.jpg, 예측 클래스: 표류\n",
      "이미지: 175. 범장망 표류.jpg, 예측 클래스: 표류\n",
      "이미지: 176. 범장망 표류.jpg, 예측 클래스: 표류\n",
      "이미지: 177. 범장망 표류.jpg, 예측 클래스: 표류\n",
      "이미지: 178. 범장망 표류.jpg, 예측 클래스: 표류\n",
      "이미지: 179. 범장망 표류.jpg, 예측 클래스: 표류\n",
      "이미지: 18. 낚시어선 이동.jpg, 예측 클래스: 표류\n",
      "이미지: 18. 낚시어선 조업.jpg, 예측 클래스: 조업\n",
      "이미지: 18. 등광조망 이동.jpg, 예측 클래스: 이동\n",
      "이미지: 18. 등광조망 조업.jpg, 예측 클래스: 조업\n",
      "이미지: 18. 등광조망 표류.jpg, 예측 클래스: 표류\n",
      "이미지: 18. 범장망 이동.jpg, 예측 클래스: 표류\n",
      "이미지: 18. 범장망 조업.jpg, 예측 클래스: 표류\n",
      "이미지: 18. 범장망 표류.jpg, 예측 클래스: 표류\n",
      "이미지: 18. 안강망 이동.jpg, 예측 클래스: 이동\n",
      "이미지: 18. 연승 이동.jpg, 예측 클래스: 이동\n",
      "이미지: 18. 연승 표류.jpg, 예측 클래스: 표류\n",
      "이미지: 18. 유망 이동.jpg, 예측 클래스: 이동\n",
      "이미지: 18. 유망 조업.jpg, 예측 클래스: 조업\n",
      "이미지: 18. 유망 표류.jpg, 예측 클래스: 표류\n",
      "이미지: 18. 저인망 이동.jpg, 예측 클래스: 이동\n",
      "이미지: 18. 저인망 조업.jpg, 예측 클래스: 이동\n",
      "이미지: 18. 채낚기 표류.jpg, 예측 클래스: 표류\n",
      "이미지: 18. 타망 이동.jpg, 예측 클래스: 이동\n",
      "이미지: 18. 타망 조업.jpg, 예측 클래스: 조업\n",
      "이미지: 18. 타망 표류.jpg, 예측 클래스: 표류\n",
      "이미지: 18. 통발 이동.jpg, 예측 클래스: 표류\n",
      "이미지: 180. 범장망 표류.jpg, 예측 클래스: 표류\n",
      "이미지: 181. 범장망 표류.jpg, 예측 클래스: 표류\n",
      "이미지: 182. 범장망 표류.jpg, 예측 클래스: 표류\n",
      "이미지: 183. 범장망 표류.jpg, 예측 클래스: 표류\n",
      "이미지: 184. 범장망 표류.jpg, 예측 클래스: 표류\n",
      "이미지: 185. 범장망 표류.jpg, 예측 클래스: 표류\n",
      "이미지: 186. 범장망 표류.jpg, 예측 클래스: 표류\n",
      "이미지: 187. 범장망 표류.jpg, 예측 클래스: 표류\n",
      "이미지: 188. 범장망 표류.jpg, 예측 클래스: 표류\n",
      "이미지: 189. 범장망 표류.jpg, 예측 클래스: 표류\n",
      "이미지: 19. 낚시어선 이동.jpg, 예측 클래스: 이동\n",
      "이미지: 19. 낚시어선 조업.jpg, 예측 클래스: 조업\n",
      "이미지: 19. 등광조망 이동.jpg, 예측 클래스: 표류\n",
      "이미지: 19. 등광조망 조업.jpg, 예측 클래스: 표류\n",
      "이미지: 19. 등광조망 표류.jpg, 예측 클래스: 표류\n",
      "이미지: 19. 범장망 이동.jpg, 예측 클래스: 이동\n",
      "이미지: 19. 범장망 조업.jpg, 예측 클래스: 표류\n",
      "이미지: 19. 범장망 표류.jpg, 예측 클래스: 표류\n",
      "이미지: 19. 안강망 이동.jpg, 예측 클래스: 이동\n",
      "이미지: 19. 연승 이동.jpg, 예측 클래스: 표류\n",
      "이미지: 19. 연승 표류.jpg, 예측 클래스: 표류\n",
      "이미지: 19. 유망 이동.jpg, 예측 클래스: 이동\n",
      "이미지: 19. 유망 조업.jpg, 예측 클래스: 표류\n",
      "이미지: 19. 유망 표류.jpg, 예측 클래스: 표류\n",
      "이미지: 19. 저인망 이동.jpg, 예측 클래스: 이동\n",
      "이미지: 19. 저인망 조업.jpg, 예측 클래스: 이동\n",
      "이미지: 19. 채낚기 표류.jpg, 예측 클래스: 이동\n",
      "이미지: 19. 타망 이동.jpg, 예측 클래스: 이동\n",
      "이미지: 19. 타망 조업.jpg, 예측 클래스: 표류\n",
      "이미지: 19. 타망 표류.jpg, 예측 클래스: 표류\n",
      "이미지: 19. 통발 이동.jpg, 예측 클래스: 표류\n",
      "이미지: 190. 범장망 표류.jpg, 예측 클래스: 표류\n",
      "이미지: 191. 범장망 표류.jpg, 예측 클래스: 표류\n",
      "이미지: 192. 범장망 표류.jpg, 예측 클래스: 이동\n",
      "이미지: 193. 범장망 표류.jpg, 예측 클래스: 표류\n",
      "이미지: 194. 범장망 표류.jpg, 예측 클래스: 표류\n",
      "이미지: 195. 범장망 표류.jpg, 예측 클래스: 표류\n",
      "이미지: 196. 범장망 표류.jpg, 예측 클래스: 표류\n",
      "이미지: 197. 범장망 표류.jpg, 예측 클래스: 이동\n",
      "이미지: 198. 범장망 표류.jpg, 예측 클래스: 표류\n",
      "이미지: 199. 범장망 표류.jpg, 예측 클래스: 표류\n",
      "이미지: 2. 낚시어선 이동.jpg, 예측 클래스: 이동\n",
      "이미지: 2. 낚시어선 조업.jpg, 예측 클래스: 표류\n",
      "이미지: 2. 낚시어선 표류.jpg, 예측 클래스: 표류\n",
      "이미지: 2. 등광조망 이동.jpg, 예측 클래스: 표류\n",
      "이미지: 2. 등광조망 표류.jpg, 예측 클래스: 이동\n",
      "이미지: 2. 범장망 이동.jpg, 예측 클래스: 표류\n",
      "이미지: 2. 범장망 조업.jpg, 예측 클래스: 조업\n",
      "이미지: 2. 범장망 표류.jpg, 예측 클래스: 표류\n",
      "이미지: 2. 안강망 이동.jpg, 예측 클래스: 이동\n",
      "이미지: 2. 안강망 표류.jpg, 예측 클래스: 표류\n",
      "이미지: 2. 연승 이동.jpg, 예측 클래스: 표류\n",
      "이미지: 2. 연승 표류.jpg, 예측 클래스: 표류\n",
      "이미지: 2. 유망 이동.jpg, 예측 클래스: 이동\n",
      "이미지: 2. 유망 조업.jpg, 예측 클래스: 조업\n",
      "이미지: 2. 유망 표류.jpg, 예측 클래스: 표류\n",
      "이미지: 2. 저인망 이동.jpg, 예측 클래스: 이동\n",
      "이미지: 2. 저인망 조업.jpg, 예측 클래스: 표류\n",
      "이미지: 2. 저인망 표류.jpg, 예측 클래스: 표류\n",
      "이미지: 2. 채낚기  표류.jpg, 예측 클래스: 이동\n",
      "이미지: 2. 채낚기 이동.jpg, 예측 클래스: 이동\n",
      "이미지: 2. 채낚기 조업.jpg, 예측 클래스: 표류\n",
      "이미지: 2. 타망 이동.jpg, 예측 클래스: 이동\n",
      "이미지: 2. 타망 조업.jpg, 예측 클래스: 조업\n",
      "이미지: 2. 타망 표류.jpg, 예측 클래스: 표류\n",
      "이미지: 2. 통발 이동.jpg, 예측 클래스: 표류\n",
      "이미지: 2. 통발 조업.jpg, 예측 클래스: 조업\n",
      "이미지: 2. 통발 표류.jpg, 예측 클래스: 표류\n",
      "이미지: 2.등광조망 조업.jpg, 예측 클래스: 조업\n",
      "이미지: 20. 낚시어선 이동.jpg, 예측 클래스: 이동\n",
      "이미지: 20. 낚시어선 조업.jpg, 예측 클래스: 표류\n",
      "이미지: 20. 등광조망 이동.jpg, 예측 클래스: 표류\n",
      "이미지: 20. 등광조망 조업.jpg, 예측 클래스: 표류\n",
      "이미지: 20. 등광조망 표류.jpg, 예측 클래스: 표류\n",
      "이미지: 20. 범장망 이동.jpg, 예측 클래스: 표류\n",
      "이미지: 20. 범장망 조업.jpg, 예측 클래스: 표류\n",
      "이미지: 20. 범장망 표류.jpg, 예측 클래스: 표류\n",
      "이미지: 20. 안강망 이동.jpg, 예측 클래스: 표류\n",
      "이미지: 20. 연승 이동.jpg, 예측 클래스: 이동\n",
      "이미지: 20. 연승 표류.jpg, 예측 클래스: 표류\n",
      "이미지: 20. 유망 이동.jpg, 예측 클래스: 이동\n",
      "이미지: 20. 유망 표류.jpg, 예측 클래스: 이동\n",
      "이미지: 20. 저인망 이동.jpg, 예측 클래스: 이동\n",
      "이미지: 20. 저인망 조업.jpg, 예측 클래스: 이동\n",
      "이미지: 20. 채낚기 표류.jpg, 예측 클래스: 표류\n",
      "이미지: 20. 타망 이동.jpg, 예측 클래스: 이동\n",
      "이미지: 20. 타망 조업.jpg, 예측 클래스: 표류\n",
      "이미지: 20. 타망 표류.jpg, 예측 클래스: 표류\n",
      "이미지: 20. 통발 이동.jpg, 예측 클래스: 이동\n",
      "이미지: 200. 범장망 표류.jpg, 예측 클래스: 표류\n",
      "이미지: 201. 범장망 표류.jpg, 예측 클래스: 이동\n",
      "이미지: 202. 범장망 표류.jpg, 예측 클래스: 표류\n",
      "이미지: 203. 범장망 표류.jpg, 예측 클래스: 표류\n",
      "이미지: 204. 범장망 표류.jpg, 예측 클래스: 이동\n",
      "이미지: 205. 범장망 표류.jpg, 예측 클래스: 표류\n",
      "이미지: 206. 범장망 표류.jpg, 예측 클래스: 이동\n",
      "이미지: 207. 범장망 표류.jpg, 예측 클래스: 표류\n",
      "이미지: 208. 범장망 표류.jpg, 예측 클래스: 표류\n",
      "이미지: 209. 범장망 표류.jpg, 예측 클래스: 표류\n",
      "이미지: 21. 낚시어선 이동.jpg, 예측 클래스: 이동\n",
      "이미지: 21. 낚시어선 조업.jpg, 예측 클래스: 조업\n",
      "이미지: 21. 등광조망 이동.jpg, 예측 클래스: 이동\n",
      "이미지: 21. 등광조망 조업.jpg, 예측 클래스: 표류\n",
      "이미지: 21. 등광조망 표류.jpg, 예측 클래스: 표류\n",
      "이미지: 21. 범장망 이동.jpg, 예측 클래스: 표류\n",
      "이미지: 21. 범장망 조업.jpg, 예측 클래스: 표류\n",
      "이미지: 21. 범장망 표류.jpg, 예측 클래스: 표류\n",
      "이미지: 21. 안강망 이동.jpg, 예측 클래스: 표류\n",
      "이미지: 21. 연승 이동.jpg, 예측 클래스: 표류\n",
      "이미지: 21. 유망 이동.jpg, 예측 클래스: 이동\n",
      "이미지: 21. 유망 조업.jpg, 예측 클래스: 이동\n",
      "이미지: 21. 유망 표류.jpg, 예측 클래스: 표류\n",
      "이미지: 21. 저인망 이동.jpg, 예측 클래스: 이동\n",
      "이미지: 21. 저인망 조업.jpg, 예측 클래스: 조업\n",
      "이미지: 21. 채낚기 표류.jpg, 예측 클래스: 표류\n",
      "이미지: 21. 타망 이동.jpg, 예측 클래스: 이동\n",
      "이미지: 21. 타망 표류.jpg, 예측 클래스: 이동\n",
      "이미지: 21. 통발 이동.jpg, 예측 클래스: 이동\n",
      "이미지: 210. 범장망 표류.jpg, 예측 클래스: 표류\n",
      "이미지: 211. 범장망 표류.jpg, 예측 클래스: 표류\n",
      "이미지: 212. 범장망 표류.jpg, 예측 클래스: 이동\n",
      "이미지: 213. 범장망 표류.jpg, 예측 클래스: 표류\n",
      "이미지: 214. 범장망 표류.jpg, 예측 클래스: 표류\n",
      "이미지: 215. 범장망 표류.jpg, 예측 클래스: 표류\n",
      "이미지: 216. 범장망 표류.jpg, 예측 클래스: 표류\n",
      "이미지: 217. 범장망 표류.jpg, 예측 클래스: 표류\n",
      "이미지: 218. 범장망 표류.jpg, 예측 클래스: 표류\n",
      "이미지: 219. 범장망 표류.jpg, 예측 클래스: 표류\n",
      "이미지: 22. 낚시어선 이동.jpg, 예측 클래스: 조업\n",
      "이미지: 22. 낚시어선 조업.jpg, 예측 클래스: 조업\n",
      "이미지: 22. 등광조망 이동.jpg, 예측 클래스: 표류\n",
      "이미지: 22. 등광조망 조업.jpg, 예측 클래스: 표류\n",
      "이미지: 22. 등광조망 표류.jpg, 예측 클래스: 표류\n",
      "이미지: 22. 범장망 이동.jpg, 예측 클래스: 이동\n",
      "이미지: 22. 범장망 조업.jpg, 예측 클래스: 조업\n",
      "이미지: 22. 범장망 표류.jpg, 예측 클래스: 표류\n",
      "이미지: 22. 안강망 이동.jpg, 예측 클래스: 이동\n",
      "이미지: 22. 연승 이동.jpg, 예측 클래스: 표류\n",
      "이미지: 22. 연승 표류.jpg, 예측 클래스: 표류\n",
      "이미지: 22. 유망 이동.jpg, 예측 클래스: 표류\n",
      "이미지: 22. 유망 조업.jpg, 예측 클래스: 표류\n",
      "이미지: 22. 유망 표류.jpg, 예측 클래스: 표류\n",
      "이미지: 22. 저인망 이동.jpg, 예측 클래스: 이동\n",
      "이미지: 22. 저인망 조업.jpg, 예측 클래스: 이동\n",
      "이미지: 22. 채낚기 표류.jpg, 예측 클래스: 표류\n",
      "이미지: 22. 타망 이동.jpg, 예측 클래스: 표류\n",
      "이미지: 22. 타망 조업.jpg, 예측 클래스: 조업\n",
      "이미지: 22. 타망 표류.jpg, 예측 클래스: 표류\n",
      "이미지: 22. 통발 이동.jpg, 예측 클래스: 이동\n",
      "이미지: 220. 범장망 표류.jpg, 예측 클래스: 표류\n",
      "이미지: 221. 범장망 표류.jpg, 예측 클래스: 표류\n",
      "이미지: 222. 범장망 표류.jpg, 예측 클래스: 표류\n",
      "이미지: 223. 범장망 표류.jpg, 예측 클래스: 표류\n",
      "이미지: 224. 범장망 표류.jpg, 예측 클래스: 표류\n",
      "이미지: 225. 범장망 표류.jpg, 예측 클래스: 표류\n",
      "이미지: 226. 범장망 표류.jpg, 예측 클래스: 표류\n",
      "이미지: 227. 범장망 표류.jpg, 예측 클래스: 표류\n",
      "이미지: 228. 범장망 표류.jpg, 예측 클래스: 표류\n",
      "이미지: 229. 범장망 표류.jpg, 예측 클래스: 표류\n",
      "이미지: 23. 낚시어선 이동.jpg, 예측 클래스: 이동\n",
      "이미지: 23. 낚시어선 조업.jpg, 예측 클래스: 조업\n",
      "이미지: 23. 등광조망 조업.jpg, 예측 클래스: 표류\n",
      "이미지: 23. 등광조망 표류.jpg, 예측 클래스: 표류\n",
      "이미지: 23. 범장망 이동.jpg, 예측 클래스: 표류\n",
      "이미지: 23. 범장망 조업.jpg, 예측 클래스: 표류\n",
      "이미지: 23. 범장망 표류.jpg, 예측 클래스: 표류\n",
      "이미지: 23. 연승 이동.jpg, 예측 클래스: 이동\n",
      "이미지: 23. 연승 표류.jpg, 예측 클래스: 표류\n",
      "이미지: 23. 유망 이동.jpg, 예측 클래스: 표류\n",
      "이미지: 23. 유망 조업.jpg, 예측 클래스: 조업\n",
      "이미지: 23. 유망 표류.jpg, 예측 클래스: 표류\n",
      "이미지: 23. 저인망 이동.jpg, 예측 클래스: 이동\n",
      "이미지: 23. 저인망 조업.jpg, 예측 클래스: 조업\n",
      "이미지: 23. 채낚기 표류.jpg, 예측 클래스: 표류\n",
      "이미지: 23. 타망 이동.jpg, 예측 클래스: 이동\n",
      "이미지: 23. 타망 조업.jpg, 예측 클래스: 표류\n",
      "이미지: 23. 타망 표류.jpg, 예측 클래스: 조업\n",
      "이미지: 23. 통발 이동.jpg, 예측 클래스: 표류\n",
      "이미지: 23.등광조망 이동.jpg, 예측 클래스: 이동\n",
      "이미지: 230. 범장망 표류.jpg, 예측 클래스: 표류\n",
      "이미지: 231. 범장망 표류.jpg, 예측 클래스: 표류\n",
      "이미지: 232. 범장망 표류.jpg, 예측 클래스: 표류\n",
      "이미지: 233. 범장망 표류.jpg, 예측 클래스: 표류\n",
      "이미지: 234. 범장망 표류.jpg, 예측 클래스: 표류\n",
      "이미지: 235. 범장망 표류.jpg, 예측 클래스: 표류\n",
      "이미지: 236. 범장망 표류.jpg, 예측 클래스: 표류\n",
      "이미지: 237. 범장망 표류.jpg, 예측 클래스: 표류\n",
      "이미지: 238. 범장망 표류.jpg, 예측 클래스: 표류\n",
      "이미지: 239. 범장망 표류.jpg, 예측 클래스: 표류\n",
      "이미지: 24. 낚시어선 이동.jpg, 예측 클래스: 표류\n",
      "이미지: 24. 낚시어선 조업.jpg, 예측 클래스: 조업\n",
      "이미지: 24. 등광조망 이동.jpg, 예측 클래스: 이동\n",
      "이미지: 24. 등광조망 조업.jpg, 예측 클래스: 표류\n",
      "이미지: 24. 등광조망 표류.jpg, 예측 클래스: 표류\n",
      "이미지: 24. 범장망 이동.jpg, 예측 클래스: 이동\n",
      "이미지: 24. 범장망 조업.jpg, 예측 클래스: 표류\n",
      "이미지: 24. 연승 이동.jpg, 예측 클래스: 이동\n",
      "이미지: 24. 유망 이동.jpg, 예측 클래스: 이동\n",
      "이미지: 24. 유망 조업.jpg, 예측 클래스: 표류\n",
      "이미지: 24. 유망 표류.jpg, 예측 클래스: 표류\n",
      "이미지: 24. 저인망 이동.jpg, 예측 클래스: 이동\n",
      "이미지: 24. 저인망 조업.jpg, 예측 클래스: 이동\n",
      "이미지: 24. 채낚기 표류.jpg, 예측 클래스: 표류\n",
      "이미지: 24. 타망 이동.jpg, 예측 클래스: 이동\n",
      "이미지: 24. 타망 조업.jpg, 예측 클래스: 이동\n",
      "이미지: 24. 타망 표류.jpg, 예측 클래스: 표류\n",
      "이미지: 24. 통발 이동.jpg, 예측 클래스: 표류\n",
      "이미지: 240. 범장망 표류.jpg, 예측 클래스: 표류\n",
      "이미지: 241. 범장망 표류.jpg, 예측 클래스: 표류\n",
      "이미지: 242. 범장망 표류.jpg, 예측 클래스: 표류\n",
      "이미지: 243. 범장망 표류.jpg, 예측 클래스: 표류\n",
      "이미지: 244. 범장망 표류.jpg, 예측 클래스: 표류\n",
      "이미지: 245. 범장망 표류.jpg, 예측 클래스: 표류\n",
      "이미지: 246. 범장망 표류.jpg, 예측 클래스: 표류\n",
      "이미지: 247. 범장망 표류.jpg, 예측 클래스: 표류\n",
      "이미지: 248. 범장망 표류.jpg, 예측 클래스: 표류\n",
      "이미지: 249. 범장망 표류.jpg, 예측 클래스: 표류\n",
      "이미지: 25. 낚시어선 이동.jpg, 예측 클래스: 이동\n",
      "이미지: 25. 낚시어선 조업.jpg, 예측 클래스: 조업\n",
      "이미지: 25. 등광조망 조업.jpg, 예측 클래스: 표류\n",
      "이미지: 25. 범장망 이동.jpg, 예측 클래스: 표류\n",
      "이미지: 25. 범장망 표류.jpg, 예측 클래스: 표류\n",
      "이미지: 25. 연승 이동.jpg, 예측 클래스: 조업\n",
      "이미지: 25. 유망 이동.jpg, 예측 클래스: 이동\n",
      "이미지: 25. 유망 조업.jpg, 예측 클래스: 표류\n",
      "이미지: 25. 유망 표류.jpg, 예측 클래스: 표류\n",
      "이미지: 25. 저인망 이동.jpg, 예측 클래스: 이동\n",
      "이미지: 25. 채낚기 표류.jpg, 예측 클래스: 표류\n",
      "이미지: 25. 타망 이동.jpg, 예측 클래스: 이동\n",
      "이미지: 25. 타망 조업.jpg, 예측 클래스: 표류\n",
      "이미지: 25. 타망 표류.jpg, 예측 클래스: 표류\n",
      "이미지: 250. 범장망 표류.jpg, 예측 클래스: 표류\n",
      "이미지: 251. 범장망 표류.jpg, 예측 클래스: 표류\n",
      "이미지: 252. 범장망 표류.jpg, 예측 클래스: 표류\n",
      "이미지: 253. 범장망 표류.jpg, 예측 클래스: 표류\n",
      "이미지: 254. 범장망 표류.jpg, 예측 클래스: 표류\n",
      "이미지: 255. 범장망 표류.jpg, 예측 클래스: 표류\n",
      "이미지: 256. 범장망 표류.jpg, 예측 클래스: 표류\n",
      "이미지: 257. 범장망 표류.jpg, 예측 클래스: 표류\n",
      "이미지: 258. 범장망 표류.jpg, 예측 클래스: 표류\n",
      "이미지: 259. 범장망 표류.jpg, 예측 클래스: 표류\n",
      "이미지: 26. 낚시어선 이동.jpg, 예측 클래스: 이동\n",
      "이미지: 26. 낚시어선 조업.jpg, 예측 클래스: 조업\n",
      "이미지: 26. 등광조망 이동.jpg, 예측 클래스: 이동\n",
      "이미지: 26. 등광조망 조업.jpg, 예측 클래스: 조업\n",
      "이미지: 26. 범장망 표류.jpg, 예측 클래스: 표류\n",
      "이미지: 26. 연승 이동.jpg, 예측 클래스: 이동\n",
      "이미지: 26. 유망 이동.jpg, 예측 클래스: 이동\n",
      "이미지: 26. 유망 조업.jpg, 예측 클래스: 조업\n",
      "이미지: 26. 유망 표류.jpg, 예측 클래스: 표류\n",
      "이미지: 26. 저인망 이동.jpg, 예측 클래스: 이동\n",
      "이미지: 26. 채낚기 표류.jpg, 예측 클래스: 표류\n",
      "이미지: 26. 타망 이동.jpg, 예측 클래스: 표류\n",
      "이미지: 26. 타망 조업.jpg, 예측 클래스: 이동\n",
      "이미지: 26. 타망 표류.jpg, 예측 클래스: 표류\n",
      "이미지: 26. 통발 이동.jpg, 예측 클래스: 이동\n",
      "이미지: 260. 범장망 표류.jpg, 예측 클래스: 표류\n",
      "이미지: 261. 범장망 표류.jpg, 예측 클래스: 이동\n",
      "이미지: 262. 범장망 표류.png, 예측 클래스: 표류\n",
      "이미지: 263. 범장망 표류.png, 예측 클래스: 표류\n",
      "이미지: 264. 범장망 표류.jpg, 예측 클래스: 표류\n",
      "이미지: 265. 범장망 표류.jpg, 예측 클래스: 표류\n",
      "이미지: 266. 범장망 표류.jpg, 예측 클래스: 표류\n",
      "이미지: 267. 범장망 표류.jpg, 예측 클래스: 표류\n",
      "이미지: 268. 범장망 표류.jpg, 예측 클래스: 표류\n",
      "이미지: 269. 범장망 표류.jpg, 예측 클래스: 표류\n",
      "이미지: 27. 낚시어선 이동.jpg, 예측 클래스: 조업\n",
      "이미지: 27. 낚시어선 조업.jpg, 예측 클래스: 조업\n",
      "이미지: 27. 등광조망 이동.jpg, 예측 클래스: 이동\n",
      "이미지: 27. 등광조망 조업.jpg, 예측 클래스: 표류\n",
      "이미지: 27. 범장망 이동.jpg, 예측 클래스: 이동\n",
      "이미지: 27. 범장망 표류.jpg, 예측 클래스: 표류\n",
      "이미지: 27. 연승 이동.jpg, 예측 클래스: 이동\n",
      "이미지: 27. 유망 이동.jpg, 예측 클래스: 표류\n",
      "이미지: 27. 유망 조업.jpg, 예측 클래스: 표류\n",
      "이미지: 27. 유망 표류.jpg, 예측 클래스: 표류\n",
      "이미지: 27. 저인망 이동.jpg, 예측 클래스: 이동\n",
      "이미지: 27. 채낚기 표류.jpg, 예측 클래스: 표류\n",
      "이미지: 27. 타망 이동.jpg, 예측 클래스: 이동\n",
      "이미지: 27. 타망 조업.jpg, 예측 클래스: 조업\n",
      "이미지: 27. 타망 표류.jpg, 예측 클래스: 표류\n",
      "이미지: 27. 통발 이동.jpg, 예측 클래스: 이동\n",
      "이미지: 270. 범장망 표류.jpg, 예측 클래스: 표류\n",
      "이미지: 271. 범장망 표류.jpg, 예측 클래스: 표류\n",
      "이미지: 272. 범장망 표류.jpg, 예측 클래스: 조업\n",
      "이미지: 273. 범장망 표류.jpg, 예측 클래스: 표류\n",
      "이미지: 274. 범장망 표류.jpg, 예측 클래스: 이동\n",
      "이미지: 275. 범장망 표류.jpg, 예측 클래스: 표류\n",
      "이미지: 276. 범장망 표류.jpg, 예측 클래스: 표류\n",
      "이미지: 277. 범장망 표류.jpg, 예측 클래스: 표류\n",
      "이미지: 278. 범장망 표류.jpg, 예측 클래스: 표류\n",
      "이미지: 279. 범장망 표류.jpg, 예측 클래스: 이동\n",
      "이미지: 28. 낚시어선 이동.jpg, 예측 클래스: 이동\n",
      "이미지: 28. 낚시어선 조업.jpg, 예측 클래스: 조업\n",
      "이미지: 28. 등광조망 이동.jpg, 예측 클래스: 표류\n",
      "이미지: 28. 등광조망 조업.jpg, 예측 클래스: 표류\n",
      "이미지: 28. 범장망 이동.jpg, 예측 클래스: 표류\n",
      "이미지: 28. 범장망 표류.jpg, 예측 클래스: 표류\n",
      "이미지: 28. 연승 이동.jpg, 예측 클래스: 표류\n",
      "이미지: 28. 유망 이동.jpg, 예측 클래스: 이동\n",
      "이미지: 28. 유망 조업.jpg, 예측 클래스: 표류\n",
      "이미지: 28. 유망 표류.jpg, 예측 클래스: 표류\n",
      "이미지: 28. 저인망 이동.jpg, 예측 클래스: 이동\n",
      "이미지: 28. 타망 이동.jpg, 예측 클래스: 이동\n",
      "이미지: 28. 타망 조업.jpg, 예측 클래스: 조업\n",
      "이미지: 28. 타망 표류.jpg, 예측 클래스: 표류\n",
      "이미지: 28. 통발 이동.jpg, 예측 클래스: 표류\n",
      "이미지: 280. 범장망 표류.jpg, 예측 클래스: 표류\n",
      "이미지: 281. 범장망 표류.jpg, 예측 클래스: 표류\n",
      "이미지: 282. 범장망 표류.jpg, 예측 클래스: 표류\n",
      "이미지: 283. 범장망 표류.jpg, 예측 클래스: 표류\n",
      "이미지: 284. 범장망 표류.jpg, 예측 클래스: 표류\n",
      "이미지: 285. 범장망 표류.jpg, 예측 클래스: 표류\n",
      "이미지: 286. 범장망 표류.jpg, 예측 클래스: 표류\n",
      "이미지: 287. 범장망 표류.jpg, 예측 클래스: 표류\n",
      "이미지: 289. 범장망 표류.jpg, 예측 클래스: 표류\n",
      "이미지: 29. 낚시어선 이동.jpg, 예측 클래스: 이동\n",
      "이미지: 29. 낚시어선 조업.jpg, 예측 클래스: 표류\n",
      "이미지: 29. 등광조망 이동.jpg, 예측 클래스: 이동\n",
      "이미지: 29. 등광조망 조업.jpg, 예측 클래스: 표류\n",
      "이미지: 29. 범장망 이동.jpg, 예측 클래스: 이동\n",
      "이미지: 29. 범장망 표류.jpg, 예측 클래스: 표류\n",
      "이미지: 29. 연승 이동.jpg, 예측 클래스: 표류\n",
      "이미지: 29. 유망 이동.jpg, 예측 클래스: 표류\n",
      "이미지: 29. 유망 조업.jpg, 예측 클래스: 표류\n",
      "이미지: 29. 유망 표류.jpg, 예측 클래스: 표류\n",
      "이미지: 29. 저인망 이동.jpg, 예측 클래스: 이동\n",
      "이미지: 29. 채낚기 표류.jpg, 예측 클래스: 표류\n",
      "이미지: 29. 타망 이동.jpg, 예측 클래스: 표류\n",
      "이미지: 29. 타망 조업.jpg, 예측 클래스: 표류\n",
      "이미지: 29. 타망 표류.jpg, 예측 클래스: 표류\n",
      "이미지: 29. 통발 이동.jpg, 예측 클래스: 표류\n",
      "이미지: 290. 범장망 표류.jpg, 예측 클래스: 표류\n",
      "이미지: 291. 범장망 표류.jpg, 예측 클래스: 표류\n",
      "이미지: 292. 범장망 표류.jpg, 예측 클래스: 표류\n",
      "이미지: 293. 범장망 표류.jpg, 예측 클래스: 표류\n",
      "이미지: 294. 범장망 표류.jpg, 예측 클래스: 표류\n",
      "이미지: 295. 범장망 표류.jpg, 예측 클래스: 표류\n",
      "이미지: 296. 범장망 표류.jpg, 예측 클래스: 표류\n",
      "이미지: 297. 범장망 표류.jpg, 예측 클래스: 표류\n",
      "이미지: 298. 범장망 표류.jpg, 예측 클래스: 표류\n",
      "이미지: 299. 범장망 표류.jpg, 예측 클래스: 표류\n",
      "이미지: 3. 낚시어선 이동.jpg, 예측 클래스: 이동\n",
      "이미지: 3. 낚시어선 표류.jpg, 예측 클래스: 표류\n",
      "이미지: 3. 등광조망 이동.jpg, 예측 클래스: 표류\n",
      "이미지: 3. 등광조망 조업.jpg, 예측 클래스: 조업\n",
      "이미지: 3. 등광조망 표류.jpg, 예측 클래스: 이동\n",
      "이미지: 3. 범장망 이동.jpg, 예측 클래스: 표류\n",
      "이미지: 3. 범장망 조업.jpg, 예측 클래스: 표류\n",
      "이미지: 3. 범장망 표류.jpg, 예측 클래스: 표류\n",
      "이미지: 3. 안강망 이동.jpg, 예측 클래스: 이동\n",
      "이미지: 3. 안강망 조업.jpg, 예측 클래스: 표류\n",
      "이미지: 3. 안강망 표류.jpg, 예측 클래스: 표류\n",
      "이미지: 3. 연승 이동.jpg, 예측 클래스: 이동\n",
      "이미지: 3. 유망 이동.jpg, 예측 클래스: 표류\n",
      "이미지: 3. 유망 조업.jpg, 예측 클래스: 조업\n",
      "이미지: 3. 유망 표류.jpg, 예측 클래스: 표류\n",
      "이미지: 3. 저인망 이동.jpg, 예측 클래스: 표류\n",
      "이미지: 3. 저인망 조업.jpg, 예측 클래스: 이동\n",
      "이미지: 3. 저인망 표류.jpg, 예측 클래스: 표류\n",
      "이미지: 3. 채낚기  표류.jpg, 예측 클래스: 조업\n",
      "이미지: 3. 채낚기 조업.jpg, 예측 클래스: 표류\n",
      "이미지: 3. 타망 이동.jpg, 예측 클래스: 이동\n",
      "이미지: 3. 타망 조업.jpg, 예측 클래스: 조업\n",
      "이미지: 3. 타망 표류.jpg, 예측 클래스: 표류\n",
      "이미지: 3. 통발 이동.jpg, 예측 클래스: 이동\n",
      "이미지: 3. 통발 표류.jpg, 예측 클래스: 표류\n",
      "이미지: 30. 낚시어선 이동.jpg, 예측 클래스: 표류\n",
      "이미지: 30. 낚시어선 조업.jpg, 예측 클래스: 조업\n",
      "이미지: 30. 등광조망 이동.jpg, 예측 클래스: 이동\n",
      "이미지: 30. 등광조망 조업.jpg, 예측 클래스: 표류\n",
      "이미지: 30. 범장망 이동.jpg, 예측 클래스: 표류\n",
      "이미지: 30. 범장망 표류.jpg, 예측 클래스: 표류\n",
      "이미지: 30. 연승 이동.jpg, 예측 클래스: 이동\n",
      "이미지: 30. 유망 이동.jpg, 예측 클래스: 표류\n",
      "이미지: 30. 유망 조업.jpg, 예측 클래스: 조업\n",
      "이미지: 30. 유망 표류.jpg, 예측 클래스: 조업\n",
      "이미지: 30. 저인망 이동.jpg, 예측 클래스: 표류\n",
      "이미지: 30. 채낚기 표류.jpg, 예측 클래스: 표류\n",
      "이미지: 30. 타망 이동.jpg, 예측 클래스: 이동\n",
      "이미지: 30. 타망 조업.jpg, 예측 클래스: 이동\n",
      "이미지: 30. 타망 표류.jpg, 예측 클래스: 표류\n",
      "이미지: 30. 통발 이동.jpg, 예측 클래스: 표류\n",
      "이미지: 300. 범장망 표류.jpg, 예측 클래스: 표류\n",
      "이미지: 301. 범장망 표류.jpg, 예측 클래스: 표류\n",
      "이미지: 302. 범장망 표류.jpg, 예측 클래스: 표류\n",
      "이미지: 303. 범장망 표류.jpg, 예측 클래스: 표류\n",
      "이미지: 304. 범장망 표류.jpg, 예측 클래스: 표류\n",
      "이미지: 305. 범장망 표류.jpg, 예측 클래스: 표류\n",
      "이미지: 306. 범장망 표류.jpg, 예측 클래스: 표류\n",
      "이미지: 31. 낚시어선 이동.jpg, 예측 클래스: 이동\n",
      "이미지: 31. 낚시어선 조업.jpg, 예측 클래스: 표류\n",
      "이미지: 31. 등광조망 조업.jpg, 예측 클래스: 표류\n",
      "이미지: 31. 범장망 이동.jpg, 예측 클래스: 이동\n",
      "이미지: 31. 범장망 표류.jpg, 예측 클래스: 표류\n",
      "이미지: 31. 연승 이동.jpg, 예측 클래스: 이동\n",
      "이미지: 31. 유망 이동.jpg, 예측 클래스: 이동\n",
      "이미지: 31. 유망 조업.jpg, 예측 클래스: 표류\n",
      "이미지: 31. 유망 표류.jpg, 예측 클래스: 표류\n",
      "이미지: 31. 저인망 이동.jpg, 예측 클래스: 표류\n",
      "이미지: 31. 채낚기 표류.jpg, 예측 클래스: 이동\n",
      "이미지: 31. 타망 이동.jpg, 예측 클래스: 이동\n",
      "이미지: 31. 타망 조업.jpg, 예측 클래스: 표류\n",
      "이미지: 31. 타망 표류.jpg, 예측 클래스: 표류\n",
      "이미지: 31. 통발 이동.jpg, 예측 클래스: 이동\n",
      "이미지: 32. 낚시어선 이동.jpg, 예측 클래스: 이동\n",
      "이미지: 32. 낚시어선 조업.jpg, 예측 클래스: 조업\n",
      "이미지: 32. 등광조망 조업.jpg, 예측 클래스: 표류\n",
      "이미지: 32. 범장망 이동.jpg, 예측 클래스: 이동\n",
      "이미지: 32. 범장망 표류.jpg, 예측 클래스: 표류\n",
      "이미지: 32. 연승 이동.jpg, 예측 클래스: 이동\n",
      "이미지: 32. 유망 조업.jpg, 예측 클래스: 표류\n",
      "이미지: 32. 유망 표류.jpg, 예측 클래스: 표류\n",
      "이미지: 32. 저인망 이동.jpg, 예측 클래스: 이동\n",
      "이미지: 32. 채낚기 표류.jpg, 예측 클래스: 이동\n",
      "이미지: 32. 타망 이동.jpg, 예측 클래스: 조업\n",
      "이미지: 32. 타망 조업.jpg, 예측 클래스: 조업\n",
      "이미지: 32. 타망 표류.jpg, 예측 클래스: 표류\n",
      "이미지: 32. 통발 이동.jpg, 예측 클래스: 이동\n",
      "이미지: 33. 낚시어선 이동.jpg, 예측 클래스: 이동\n",
      "이미지: 33. 낚시어선 조업.jpg, 예측 클래스: 조업\n",
      "이미지: 33. 등광조망 조업.jpg, 예측 클래스: 표류\n",
      "이미지: 33. 범장망 이동.jpg, 예측 클래스: 이동\n",
      "이미지: 33. 범장망 표류.jpg, 예측 클래스: 표류\n",
      "이미지: 33. 연승 이동.jpg, 예측 클래스: 조업\n",
      "이미지: 33. 유망 이동.jpg, 예측 클래스: 이동\n",
      "이미지: 33. 유망 조업.jpg, 예측 클래스: 조업\n",
      "이미지: 33. 유망 표류.jpg, 예측 클래스: 표류\n",
      "이미지: 33. 저인망 이동.jpg, 예측 클래스: 이동\n",
      "이미지: 33. 채낚기 표류.jpg, 예측 클래스: 표류\n",
      "이미지: 33. 타망 이동.jpg, 예측 클래스: 조업\n",
      "이미지: 33. 타망 조업.jpg, 예측 클래스: 조업\n",
      "이미지: 33. 타망 표류.jpg, 예측 클래스: 표류\n",
      "이미지: 33. 통발 이동.jpg, 예측 클래스: 이동\n",
      "이미지: 34. 낚시어선 조업.jpg, 예측 클래스: 조업\n",
      "이미지: 34. 범장망 이동.jpg, 예측 클래스: 이동\n",
      "이미지: 34. 범장망 표류.jpg, 예측 클래스: 표류\n",
      "이미지: 34. 연승 이동.jpg, 예측 클래스: 이동\n",
      "이미지: 34. 유망 이동.jpg, 예측 클래스: 이동\n",
      "이미지: 34. 유망 표류.jpg, 예측 클래스: 표류\n",
      "이미지: 34. 저인망 이동.jpg, 예측 클래스: 이동\n",
      "이미지: 34. 채낚기 표류.jpg, 예측 클래스: 조업\n",
      "이미지: 34. 타망 이동.jpg, 예측 클래스: 표류\n",
      "이미지: 34. 타망 조업.jpg, 예측 클래스: 표류\n",
      "이미지: 34. 통발 이동.jpg, 예측 클래스: 표류\n",
      "이미지: 35. 낚시어선 조업.jpg, 예측 클래스: 조업\n",
      "이미지: 35. 등광조망 조업.jpg, 예측 클래스: 조업\n",
      "이미지: 35. 범장망 이동.jpg, 예측 클래스: 이동\n",
      "이미지: 35. 범장망 표류.jpg, 예측 클래스: 표류\n",
      "이미지: 35. 유망 이동.jpg, 예측 클래스: 이동\n",
      "이미지: 35. 유망 표류.jpg, 예측 클래스: 표류\n",
      "이미지: 35. 저인망 이동.jpg, 예측 클래스: 이동\n",
      "이미지: 35. 타망 이동.jpg, 예측 클래스: 이동\n",
      "이미지: 35. 타망 조업.jpg, 예측 클래스: 표류\n",
      "이미지: 35. 타망 표류.jpg, 예측 클래스: 표류\n",
      "이미지: 35. 통발 이동.jpg, 예측 클래스: 표류\n",
      "이미지: 36. 낚시어선 조업.jpg, 예측 클래스: 조업\n",
      "이미지: 36. 등광조망 조업.jpg, 예측 클래스: 표류\n",
      "이미지: 36. 범장망 이동.jpg, 예측 클래스: 이동\n",
      "이미지: 36. 범장망 표류.jpg, 예측 클래스: 표류\n",
      "이미지: 36. 유망 이동.jpg, 예측 클래스: 이동\n",
      "이미지: 36. 유망 표류.jpg, 예측 클래스: 표류\n",
      "이미지: 36. 저인망 이동.jpg, 예측 클래스: 표류\n",
      "이미지: 36. 타망 ldehd.jpg, 예측 클래스: 이동\n",
      "이미지: 36. 타망 조업.jpg, 예측 클래스: 조업\n",
      "이미지: 36. 타망 표류.jpg, 예측 클래스: 표류\n",
      "이미지: 36. 통발 이동.jpg, 예측 클래스: 이동\n",
      "이미지: 37. 낚시어선 조업.jpg, 예측 클래스: 조업\n",
      "이미지: 37. 등광조망 조업.jpg, 예측 클래스: 조업\n",
      "이미지: 37. 범장망 이동.jpg, 예측 클래스: 표류\n",
      "이미지: 37. 범장망 표류.jpg, 예측 클래스: 표류\n",
      "이미지: 37. 유망 이동.jpg, 예측 클래스: 이동\n",
      "이미지: 37. 유망 표류.jpg, 예측 클래스: 표류\n",
      "이미지: 37. 저인망 이동.jpg, 예측 클래스: 표류\n",
      "이미지: 37. 타망 이동.jpg, 예측 클래스: 표류\n",
      "이미지: 37. 타망 조업.jpg, 예측 클래스: 조업\n",
      "이미지: 37. 타망 표류.jpg, 예측 클래스: 이동\n",
      "이미지: 37. 통발 이동.jpg, 예측 클래스: 이동\n",
      "이미지: 38. 낚시어선 조업.jpg, 예측 클래스: 조업\n",
      "이미지: 38. 등광조망 조업.jpg, 예측 클래스: 표류\n",
      "이미지: 38. 범장망 표류.jpg, 예측 클래스: 표류\n",
      "이미지: 38. 유망 이동.jpg, 예측 클래스: 이동\n",
      "이미지: 38. 유망 표류.jpg, 예측 클래스: 표류\n",
      "이미지: 38. 저인망 이동.jpg, 예측 클래스: 이동\n",
      "이미지: 38. 채낚기 표류.jpg, 예측 클래스: 조업\n",
      "이미지: 38. 타망 이동.jpg, 예측 클래스: 이동\n",
      "이미지: 38. 타망 조업.jpg, 예측 클래스: 조업\n",
      "이미지: 38. 타망 표류.jpg, 예측 클래스: 표류\n",
      "이미지: 38. 통발 이동.jpg, 예측 클래스: 이동\n",
      "이미지: 39. 낚시어선 이동.png, 예측 클래스: 이동\n",
      "이미지: 39. 낚시어선 조업.jpg, 예측 클래스: 이동\n",
      "이미지: 39. 등광조망 조업.png, 예측 클래스: 표류\n",
      "이미지: 39. 범장망 이동.jpg, 예측 클래스: 표류\n",
      "이미지: 39. 범장망 표류.jpg, 예측 클래스: 표류\n",
      "이미지: 39. 유망 이동.jpg, 예측 클래스: 이동\n",
      "이미지: 39. 유망 표류.jpg, 예측 클래스: 표류\n",
      "이미지: 39. 저인망 이동.jpg, 예측 클래스: 이동\n",
      "이미지: 39. 채낚기 표류.jpg, 예측 클래스: 표류\n",
      "이미지: 39. 타망 이동.jpg, 예측 클래스: 이동\n",
      "이미지: 39. 타망 조업.jpg, 예측 클래스: 조업\n",
      "이미지: 39. 타망 표류.jpg, 예측 클래스: 표류\n",
      "이미지: 39. 통발 이동.jpg, 예측 클래스: 이동\n",
      "이미지: 4. 낚시어선 이동.jpg, 예측 클래스: 이동\n",
      "이미지: 4. 낚시어선 조업.jpg, 예측 클래스: 조업\n",
      "이미지: 4. 낚시어선 표류.jpg, 예측 클래스: 표류\n",
      "이미지: 4. 등광조망 이동.jpg, 예측 클래스: 이동\n",
      "이미지: 4. 등광조망 조업.jpg, 예측 클래스: 조업\n",
      "이미지: 4. 등광조망 표류.jpg, 예측 클래스: 표류\n",
      "이미지: 4. 범장망 이동.jpg, 예측 클래스: 이동\n",
      "이미지: 4. 범장망 조업.jpg, 예측 클래스: 조업\n",
      "이미지: 4. 범장망 표류.jpg, 예측 클래스: 이동\n",
      "이미지: 4. 안강망 이동.jpg, 예측 클래스: 표류\n",
      "이미지: 4. 안강망 조업.jpg, 예측 클래스: 표류\n",
      "이미지: 4. 안강망 표류.jpg, 예측 클래스: 표류\n",
      "이미지: 4. 연승 표류.jpg, 예측 클래스: 표류\n",
      "이미지: 4. 유망 이동.jpg, 예측 클래스: 조업\n",
      "이미지: 4. 유망 조업.jpg, 예측 클래스: 표류\n",
      "이미지: 4. 유망 표류.jpg, 예측 클래스: 표류\n",
      "이미지: 4. 저인망 이동.jpg, 예측 클래스: 표류\n",
      "이미지: 4. 저인망 조업.jpg, 예측 클래스: 표류\n",
      "이미지: 4. 저인망 표류.jpg, 예측 클래스: 표류\n",
      "이미지: 4. 채낚기  표류.jpg, 예측 클래스: 표류\n",
      "이미지: 4. 채낚기 이동.jpg, 예측 클래스: 이동\n",
      "이미지: 4. 채낚기 조업.jpg, 예측 클래스: 표류\n",
      "이미지: 4. 타망 이동.jpg, 예측 클래스: 이동\n",
      "이미지: 4. 타망 조업.jpg, 예측 클래스: 이동\n",
      "이미지: 4. 타망 표류.jpg, 예측 클래스: 조업\n",
      "이미지: 4. 통발 이동.jpg, 예측 클래스: 표류\n",
      "이미지: 4. 통발 표류.jpg, 예측 클래스: 표류\n",
      "이미지: 40. 낚시어선 이동.png, 예측 클래스: 이동\n",
      "이미지: 40. 등광조망 조업.jpg, 예측 클래스: 조업\n",
      "이미지: 40. 범장망 이동.jpg, 예측 클래스: 이동\n",
      "이미지: 40. 범장망 표류.jpg, 예측 클래스: 표류\n",
      "이미지: 40. 유망 이동.jpg, 예측 클래스: 이동\n",
      "이미지: 40. 유망 표류.jpg, 예측 클래스: 표류\n",
      "이미지: 40. 저인망 이동.jpg, 예측 클래스: 이동\n",
      "이미지: 40. 채낚기 표류.jpg, 예측 클래스: 이동\n",
      "이미지: 40. 타망 이동.jpg, 예측 클래스: 이동\n",
      "이미지: 40. 타망 조업.jpg, 예측 클래스: 조업\n",
      "이미지: 40. 타망 표류.jpg, 예측 클래스: 표류\n",
      "이미지: 40. 통발 이동.jpg, 예측 클래스: 표류\n",
      "이미지: 41. 낚시어선 이동.png, 예측 클래스: 이동\n",
      "이미지: 41. 낚시어선 조업.jpg, 예측 클래스: 조업\n",
      "이미지: 41. 등광조망 조업.jpg, 예측 클래스: 조업\n",
      "이미지: 41. 범장망 이동.jpg, 예측 클래스: 표류\n",
      "이미지: 41. 유망 이동.jpg, 예측 클래스: 표류\n",
      "이미지: 41. 유망 표류.jpg, 예측 클래스: 표류\n",
      "이미지: 41. 저인망 이동.jpg, 예측 클래스: 이동\n",
      "이미지: 41. 채낚기 표류.jpg, 예측 클래스: 표류\n",
      "이미지: 41. 타망 이동.jpg, 예측 클래스: 이동\n",
      "이미지: 41. 타망 조업.jpg, 예측 클래스: 표류\n",
      "이미지: 41. 타망 표류.jpg, 예측 클래스: 표류\n",
      "이미지: 41. 통발 이동.jpg, 예측 클래스: 이동\n",
      "이미지: 42. 낚시어선 이동.png, 예측 클래스: 이동\n",
      "이미지: 42. 낚시어선 조업.jpg, 예측 클래스: 조업\n",
      "이미지: 42. 등광조망 조업.jpg, 예측 클래스: 이동\n",
      "이미지: 42. 범장망 이동.jpg, 예측 클래스: 표류\n",
      "이미지: 42. 범장망 표류.jpg, 예측 클래스: 표류\n",
      "이미지: 42. 유망 표류.jpg, 예측 클래스: 표류\n",
      "이미지: 42. 저인망 이동.jpg, 예측 클래스: 이동\n",
      "이미지: 42. 채낚기 표류.jpg, 예측 클래스: 이동\n",
      "이미지: 42. 타망 이동.jpg, 예측 클래스: 표류\n",
      "이미지: 42. 타망 조업.jpg, 예측 클래스: 조업\n",
      "이미지: 42. 타망 표류.jpg, 예측 클래스: 표류\n",
      "이미지: 42. 통발 이동.jpg, 예측 클래스: 조업\n",
      "이미지: 43. 낚시어선 이동.png, 예측 클래스: 이동\n",
      "이미지: 43. 낚시어선 조업.jpg, 예측 클래스: 조업\n",
      "이미지: 43. 등광조망 조업.jpg, 예측 클래스: 조업\n",
      "이미지: 43. 범장망 이동.jpg, 예측 클래스: 표류\n",
      "이미지: 43. 범장망 표류.jpg, 예측 클래스: 표류\n",
      "이미지: 43. 유망 표류.jpg, 예측 클래스: 표류\n",
      "이미지: 43. 타망 이동.jpg, 예측 클래스: 표류\n",
      "이미지: 43. 타망 조업.jpg, 예측 클래스: 조업\n",
      "이미지: 43. 타망 표류.jpg, 예측 클래스: 표류\n",
      "이미지: 43. 통발 이동.jpg, 예측 클래스: 이동\n",
      "이미지: 44. 낚시어선 이동.jpg, 예측 클래스: 이동\n",
      "이미지: 44. 낚시어선 조업.jpg, 예측 클래스: 조업\n",
      "이미지: 44. 등광조망 조업.jpg, 예측 클래스: 표류\n",
      "이미지: 44. 범장망 이동.jpg, 예측 클래스: 표류\n",
      "이미지: 44. 범장망 표류.jpg, 예측 클래스: 표류\n",
      "이미지: 44. 유망 표류.jpg, 예측 클래스: 표류\n",
      "이미지: 44. 저인망 이동.jpg, 예측 클래스: 이동\n",
      "이미지: 44. 타망 이동.jpg, 예측 클래스: 표류\n",
      "이미지: 44. 타망 조업.jpg, 예측 클래스: 표류\n",
      "이미지: 44. 타망 표류.jpg, 예측 클래스: 표류\n",
      "이미지: 44. 통발 이동.jpg, 예측 클래스: 이동\n",
      "이미지: 45. 낚시어선 이동.jpg, 예측 클래스: 이동\n",
      "이미지: 45. 낚시어선 조업.jpg, 예측 클래스: 표류\n",
      "이미지: 45. 등광조망 조업.jpg, 예측 클래스: 표류\n",
      "이미지: 45. 범장망 이동.jpg, 예측 클래스: 표류\n",
      "이미지: 45. 범장망 표류.jpg, 예측 클래스: 표류\n",
      "이미지: 45. 유망 표류.jpg, 예측 클래스: 표류\n",
      "이미지: 45. 저인망 이동.jpg, 예측 클래스: 이동\n",
      "이미지: 45. 타망 이동.jpg, 예측 클래스: 표류\n",
      "이미지: 45. 타망 조업.jpg, 예측 클래스: 조업\n",
      "이미지: 45. 타망 표류.jpg, 예측 클래스: 표류\n",
      "이미지: 45. 통발 이동.jpg, 예측 클래스: 이동\n",
      "이미지: 46. 낚시어선 이동.jpg, 예측 클래스: 이동\n",
      "이미지: 46. 낚시어선 조업.jpg, 예측 클래스: 조업\n",
      "이미지: 46. 범장망 이동.jpg, 예측 클래스: 이동\n",
      "이미지: 46. 범장망 표류.jpg, 예측 클래스: 표류\n",
      "이미지: 46. 유망 표류.jpg, 예측 클래스: 표류\n",
      "이미지: 46. 저인망 이동.jpg, 예측 클래스: 이동\n",
      "이미지: 46. 타망 이동.jpg, 예측 클래스: 이동\n",
      "이미지: 46. 타망 조업.jpg, 예측 클래스: 이동\n",
      "이미지: 46. 타망 표류.jpg, 예측 클래스: 표류\n",
      "이미지: 46. 통발 이동.jpg, 예측 클래스: 이동\n",
      "이미지: 47. 낚시어선 이동.jpg, 예측 클래스: 조업\n",
      "이미지: 47. 낚시어선 조업.jpg, 예측 클래스: 조업\n",
      "이미지: 47. 등광조망 조업.jpg, 예측 클래스: 조업\n",
      "이미지: 47. 범장망 이동.jpg, 예측 클래스: 이동\n",
      "이미지: 47. 범장망 표류.jpg, 예측 클래스: 표류\n",
      "이미지: 47. 유망 표류.jpg, 예측 클래스: 이동\n",
      "이미지: 47. 저인망 이동.jpg, 예측 클래스: 이동\n",
      "이미지: 47. 타망 이동.jpg, 예측 클래스: 이동\n",
      "이미지: 47. 타망 조업.jpg, 예측 클래스: 조업\n",
      "이미지: 47. 타망 표류.jpg, 예측 클래스: 표류\n",
      "이미지: 47. 통발 이동.jpg, 예측 클래스: 이동\n",
      "이미지: 48. 낚시어선 이동.jpg, 예측 클래스: 이동\n",
      "이미지: 48. 낚시어선 조업.jpg, 예측 클래스: 조업\n",
      "이미지: 48. 등광조망 조업.jpg, 예측 클래스: 조업\n",
      "이미지: 48. 범장망 이동.jpg, 예측 클래스: 이동\n",
      "이미지: 48. 범장망 표류.jpg, 예측 클래스: 표류\n",
      "이미지: 48. 저인망 이동.jpg, 예측 클래스: 이동\n",
      "이미지: 48. 타망 이동.jpg, 예측 클래스: 표류\n",
      "이미지: 48. 타망 조업.jpg, 예측 클래스: 표류\n",
      "이미지: 48. 타망 표류.jpg, 예측 클래스: 표류\n",
      "이미지: 48. 통발 이동.jpg, 예측 클래스: 이동\n",
      "이미지: 49. 낚시어선 조업.jpg, 예측 클래스: 표류\n",
      "이미지: 49. 등광조망 조업.jpg, 예측 클래스: 이동\n",
      "이미지: 49. 범장망 이동.jpg, 예측 클래스: 이동\n",
      "이미지: 49. 범장망 표류.jpg, 예측 클래스: 표류\n",
      "이미지: 49. 유망 표류.jpg, 예측 클래스: 이동\n",
      "이미지: 49. 저인망 이동.jpg, 예측 클래스: 표류\n",
      "이미지: 49. 타망 이동.jpg, 예측 클래스: 이동\n",
      "이미지: 49. 타망 조업.jpg, 예측 클래스: 표류\n",
      "이미지: 49. 타망 표류.jpg, 예측 클래스: 표류\n",
      "이미지: 49. 통발 이동.jpg, 예측 클래스: 이동\n",
      "이미지: 5. 낚시어선 이동.jpg, 예측 클래스: 이동\n",
      "이미지: 5. 낚시어선 조업.jpg, 예측 클래스: 조업\n",
      "이미지: 5. 등광조망 이동.jpg, 예측 클래스: 이동\n",
      "이미지: 5. 등광조망 조업.jpg, 예측 클래스: 조업\n",
      "이미지: 5. 등광조망 표류.jpg, 예측 클래스: 표류\n",
      "이미지: 5. 범장망 이동.jpg, 예측 클래스: 이동\n",
      "이미지: 5. 범장망 표류.jpg, 예측 클래스: 표류\n",
      "이미지: 5. 안강망 이동.jpg, 예측 클래스: 표류\n",
      "이미지: 5. 안강망 조업.jpg, 예측 클래스: 조업\n",
      "이미지: 5. 연승 이동.jpg, 예측 클래스: 이동\n",
      "이미지: 5. 연승 표류.jpg, 예측 클래스: 이동\n",
      "이미지: 5. 유망 이동.jpg, 예측 클래스: 조업\n",
      "이미지: 5. 유망 조업.jpg, 예측 클래스: 이동\n",
      "이미지: 5. 유망 표류.jpg, 예측 클래스: 표류\n",
      "이미지: 5. 저인망 이동.jpg, 예측 클래스: 이동\n",
      "이미지: 5. 저인망 조업.jpg, 예측 클래스: 표류\n",
      "이미지: 5. 채낚기  표류.jpg, 예측 클래스: 표류\n",
      "이미지: 5. 채낚기 이동.jpg, 예측 클래스: 이동\n",
      "이미지: 5. 타망 이동.jpg, 예측 클래스: 이동\n",
      "이미지: 5. 타망 조업.jpg, 예측 클래스: 표류\n",
      "이미지: 5. 타망 표류.jpg, 예측 클래스: 조업\n",
      "이미지: 5. 통발 이동.jpg, 예측 클래스: 이동\n",
      "이미지: 5. 통발 표류.jpg, 예측 클래스: 표류\n",
      "이미지: 50 낚시어선 조업.jpg, 예측 클래스: 조업\n",
      "이미지: 50. 낚시어선 이동.jpg, 예측 클래스: 조업\n",
      "이미지: 50. 범장망 이동.jpg, 예측 클래스: 이동\n",
      "이미지: 50. 범장망 표류.jpg, 예측 클래스: 표류\n",
      "이미지: 50. 유망 표류.jpg, 예측 클래스: 표류\n",
      "이미지: 50. 저인망 이동.jpg, 예측 클래스: 이동\n",
      "이미지: 50. 타망 이동.jpg, 예측 클래스: 이동\n",
      "이미지: 50. 타망 조업.jpg, 예측 클래스: 표류\n",
      "이미지: 50. 타망 표류.jpg, 예측 클래스: 표류\n",
      "이미지: 51. 낚시어선 이동.jpg, 예측 클래스: 이동\n",
      "이미지: 51. 낚시어선 조업.jpg, 예측 클래스: 표류\n",
      "이미지: 51. 범장망 이동.jpg, 예측 클래스: 이동\n",
      "이미지: 51. 범장망 표류.jpg, 예측 클래스: 표류\n",
      "이미지: 51. 유망 표류.jpg, 예측 클래스: 표류\n",
      "이미지: 51. 저인망 이동.jpg, 예측 클래스: 이동\n",
      "이미지: 51. 타망 이동.jpg, 예측 클래스: 표류\n",
      "이미지: 51. 타망 조업.jpg, 예측 클래스: 표류\n",
      "이미지: 51. 타망 표류.jpg, 예측 클래스: 이동\n",
      "이미지: 52. 낚시어선 이동.jpg, 예측 클래스: 이동\n",
      "이미지: 52. 낚시어선 조업.jpg, 예측 클래스: 조업\n",
      "이미지: 52. 범장망 이동.jpg, 예측 클래스: 표류\n",
      "이미지: 52. 범장망 표류.jpg, 예측 클래스: 표류\n",
      "이미지: 52. 유망 표류.jpg, 예측 클래스: 표류\n",
      "이미지: 52. 저인망 이동.jpg, 예측 클래스: 표류\n",
      "이미지: 52. 타망 이동.jpg, 예측 클래스: 이동\n",
      "이미지: 52. 타망 조업.jpg, 예측 클래스: 표류\n",
      "이미지: 52. 타망 표류.jpg, 예측 클래스: 표류\n",
      "이미지: 52. 통발 이동.jpg, 예측 클래스: 이동\n",
      "이미지: 53. 낚시어선 이동.jpg, 예측 클래스: 이동\n",
      "이미지: 53. 낚시어선 조업.jpg, 예측 클래스: 조업\n",
      "이미지: 53. 범장망 이동.jpg, 예측 클래스: 이동\n",
      "이미지: 53. 범장망 표류.jpg, 예측 클래스: 표류\n",
      "이미지: 53. 유망 표류.jpg, 예측 클래스: 표류\n",
      "이미지: 53. 저인망 이동.jpg, 예측 클래스: 표류\n",
      "이미지: 53. 타망 이동.jpg, 예측 클래스: 이동\n",
      "이미지: 53. 타망 조업.jpg, 예측 클래스: 표류\n",
      "이미지: 53. 타망 표류.jpg, 예측 클래스: 표류\n",
      "이미지: 54. 낚시어선 이동.jpg, 예측 클래스: 조업\n",
      "이미지: 54. 낚시어선 조업.jpg, 예측 클래스: 표류\n",
      "이미지: 54. 범장망 이동.jpg, 예측 클래스: 표류\n",
      "이미지: 54. 범장망 표류.jpg, 예측 클래스: 표류\n",
      "이미지: 54. 타망 이동.jpg, 예측 클래스: 표류\n",
      "이미지: 54. 타망 조업.jpg, 예측 클래스: 조업\n",
      "이미지: 54. 타망 표류.jpg, 예측 클래스: 표류\n",
      "이미지: 55. 낚시어선 이동.jpg, 예측 클래스: 이동\n",
      "이미지: 55. 낚시어선 조업.jpg, 예측 클래스: 조업\n",
      "이미지: 55. 범장망 이동.jpg, 예측 클래스: 이동\n",
      "이미지: 55. 범장망 표류.jpg, 예측 클래스: 표류\n",
      "이미지: 55. 유망 표류.jpg, 예측 클래스: 표류\n",
      "이미지: 55. 타망 이동.jpg, 예측 클래스: 이동\n",
      "이미지: 55. 타망 조업.jpg, 예측 클래스: 표류\n",
      "이미지: 55. 타망 표류.jpg, 예측 클래스: 표류\n",
      "이미지: 55. 통발 이동.jpg, 예측 클래스: 이동\n",
      "이미지: 56. 낚시어선 이동.jpg, 예측 클래스: 이동\n",
      "이미지: 56. 낚시어선 조업.jpg, 예측 클래스: 조업\n",
      "이미지: 56. 범장망 이동.jpg, 예측 클래스: 표류\n",
      "이미지: 56. 범장망 표류.jpg, 예측 클래스: 표류\n",
      "이미지: 56. 유망 표류.png, 예측 클래스: 표류\n",
      "이미지: 56. 타망 이동.jpg, 예측 클래스: 이동\n",
      "이미지: 56. 타망 조업.jpg, 예측 클래스: 조업\n",
      "이미지: 56. 타망 표류.jpg, 예측 클래스: 표류\n",
      "이미지: 56. 통발 이동.jpg, 예측 클래스: 이동\n",
      "이미지: 57. 낚시어선 이동.jpg, 예측 클래스: 이동\n",
      "이미지: 57. 낚시어선 조업.jpg, 예측 클래스: 조업\n",
      "이미지: 57. 범장망 이동.jpg, 예측 클래스: 표류\n",
      "이미지: 57. 범장망 표류.jpg, 예측 클래스: 표류\n",
      "이미지: 57. 유망 표류.jpg, 예측 클래스: 표류\n",
      "이미지: 57. 타망 이동.jpg, 예측 클래스: 이동\n",
      "이미지: 57. 타망 조업.jpg, 예측 클래스: 조업\n",
      "이미지: 57. 타망 표류.jpg, 예측 클래스: 표류\n",
      "이미지: 57. 통발 이동.jpg, 예측 클래스: 표류\n",
      "이미지: 58. 낚시어선 조업.jpg, 예측 클래스: 조업\n",
      "이미지: 58. 범장망 이동.jpg, 예측 클래스: 표류\n",
      "이미지: 58. 범장망 표류.jpg, 예측 클래스: 표류\n",
      "이미지: 58. 유망 표류.png, 예측 클래스: 표류\n",
      "이미지: 58. 타망 이동.jpg, 예측 클래스: 이동\n",
      "이미지: 58. 타망 조업.jpg, 예측 클래스: 표류\n",
      "이미지: 58. 타망 표류.jpg, 예측 클래스: 표류\n",
      "이미지: 58. 통발 이동.jpg, 예측 클래스: 이동\n",
      "이미지: 59. 낚시어선 조업.jpg, 예측 클래스: 표류\n",
      "이미지: 59. 범장망 이동.jpg, 예측 클래스: 표류\n",
      "이미지: 59. 범장망 표류.jpg, 예측 클래스: 표류\n",
      "이미지: 59. 유망 표류.jpg, 예측 클래스: 표류\n",
      "이미지: 59. 타망 이동.jpg, 예측 클래스: 이동\n",
      "이미지: 59. 타망 조업.jpg, 예측 클래스: 조업\n",
      "이미지: 59. 타망 표류.jpg, 예측 클래스: 조업\n",
      "이미지: 59. 통발 이동.jpg, 예측 클래스: 이동\n",
      "이미지: 6. 낚시어선 이동.jpg, 예측 클래스: 이동\n",
      "이미지: 6. 낚시어선 조업.jpg, 예측 클래스: 이동\n",
      "이미지: 6. 낚시어선 표류.jpg, 예측 클래스: 표류\n",
      "이미지: 6. 등광조망 이동.jpg, 예측 클래스: 이동\n",
      "이미지: 6. 등광조망 조업.jpg, 예측 클래스: 조업\n",
      "이미지: 6. 등광조망 표류.jpg, 예측 클래스: 조업\n",
      "이미지: 6. 범장망 이동.jpg, 예측 클래스: 이동\n",
      "이미지: 6. 범장망 조업.jpg, 예측 클래스: 표류\n",
      "이미지: 6. 범장망 표류.jpg, 예측 클래스: 조업\n",
      "이미지: 6. 안강망 이동.jpg, 예측 클래스: 이동\n",
      "이미지: 6. 안강망 조업.jpg, 예측 클래스: 표류\n",
      "이미지: 6. 안강망 표류.jpg, 예측 클래스: 표류\n",
      "이미지: 6. 연승 이동.jpg, 예측 클래스: 표류\n",
      "이미지: 6. 연승 표류.jpg, 예측 클래스: 표류\n",
      "이미지: 6. 유망 이동.jpg, 예측 클래스: 이동\n",
      "이미지: 6. 유망 조업.jpg, 예측 클래스: 표류\n",
      "이미지: 6. 유망 표류.jpg, 예측 클래스: 표류\n",
      "이미지: 6. 저인망 이동.jpg, 예측 클래스: 조업\n",
      "이미지: 6. 저인망 조업.jpg, 예측 클래스: 표류\n",
      "이미지: 6. 저인망 표류.jpg, 예측 클래스: 표류\n",
      "이미지: 6. 채낚기  표류.jpg, 예측 클래스: 조업\n",
      "이미지: 6. 채낚기 이동.jpg, 예측 클래스: 이동\n",
      "이미지: 6. 타망 이동.jpg, 예측 클래스: 표류\n",
      "이미지: 6. 타망 조업.jpg, 예측 클래스: 표류\n",
      "이미지: 6. 타망 표류.jpg, 예측 클래스: 조업\n",
      "이미지: 6. 통발 이동.jpg, 예측 클래스: 이동\n",
      "이미지: 6. 통발 표류.jpg, 예측 클래스: 표류\n",
      "이미지: 60. 낚시어선 조업.jpg, 예측 클래스: 조업\n",
      "이미지: 60. 범장망 이동.jpg, 예측 클래스: 표류\n",
      "이미지: 60. 범장망 표류.jpg, 예측 클래스: 표류\n",
      "이미지: 60. 유망 표류.jpg, 예측 클래스: 표류\n",
      "이미지: 60. 타망 이동.jpg, 예측 클래스: 이동\n",
      "이미지: 60. 타망 표류.jpg, 예측 클래스: 표류\n",
      "이미지: 60. 통발 이동.jpg, 예측 클래스: 이동\n",
      "이미지: 61. 낚시어선 조업.jpg, 예측 클래스: 조업\n",
      "이미지: 61. 범장망 이동.jpg, 예측 클래스: 이동\n",
      "이미지: 61. 범장망 표류.jpg, 예측 클래스: 표류\n",
      "이미지: 61. 유망 표류.jpg, 예측 클래스: 표류\n",
      "이미지: 61. 타망 이동.jpg, 예측 클래스: 표류\n",
      "이미지: 61. 타망 조업.jpg, 예측 클래스: 조업\n",
      "이미지: 61. 타망 표류.png, 예측 클래스: 표류\n",
      "이미지: 61. 통발 이동.jpg, 예측 클래스: 이동\n",
      "이미지: 62. 낚시어선 조업.jpg, 예측 클래스: 조업\n",
      "이미지: 62. 범장망 이동.jpg, 예측 클래스: 표류\n",
      "이미지: 62. 범장망 표류.jpg, 예측 클래스: 표류\n",
      "이미지: 62. 유망 표류.jpg, 예측 클래스: 표류\n",
      "이미지: 62. 타망 이동.jpg, 예측 클래스: 이동\n",
      "이미지: 62. 타망 조업.jpg, 예측 클래스: 표류\n",
      "이미지: 62. 타망 표류.jpg, 예측 클래스: 표류\n",
      "이미지: 62. 통발 이동.jpg, 예측 클래스: 이동\n",
      "이미지: 63. 낚시어선 조업.jpg, 예측 클래스: 조업\n",
      "이미지: 63. 범장망 이동.jpg, 예측 클래스: 표류\n",
      "이미지: 63. 범장망 표류.jpg, 예측 클래스: 표류\n",
      "이미지: 63. 유망 표류.jpg, 예측 클래스: 표류\n",
      "이미지: 63. 타망 이동.jpg, 예측 클래스: 이동\n",
      "이미지: 63. 타망 조업.jpg, 예측 클래스: 표류\n",
      "이미지: 63. 타망 표류.png, 예측 클래스: 표류\n",
      "이미지: 63. 통발 이동.jpg, 예측 클래스: 이동\n",
      "이미지: 64. 낚시어선 조업.jpg, 예측 클래스: 조업\n",
      "이미지: 64. 범장망 이동.jpg, 예측 클래스: 표류\n",
      "이미지: 64. 범장망 표류.jpg, 예측 클래스: 표류\n",
      "이미지: 64. 유망 표류.jpg, 예측 클래스: 표류\n",
      "이미지: 64. 타망 이동.jpg, 예측 클래스: 이동\n",
      "이미지: 64. 타망 조업.jpg, 예측 클래스: 조업\n",
      "이미지: 64. 타망 표류.jpg, 예측 클래스: 표류\n",
      "이미지: 64. 통발 이동.jpg, 예측 클래스: 이동\n",
      "이미지: 65. 낚시어선 조업.jpg, 예측 클래스: 조업\n",
      "이미지: 65. 범장망 이동.jpg, 예측 클래스: 표류\n",
      "이미지: 65. 범장망 표류.jpg, 예측 클래스: 표류\n",
      "이미지: 65. 유망 표류.jpg, 예측 클래스: 표류\n",
      "이미지: 65. 타망 이동.jpg, 예측 클래스: 이동\n",
      "이미지: 65. 타망 조업.jpg, 예측 클래스: 표류\n",
      "이미지: 65. 타망 표류.png, 예측 클래스: 표류\n",
      "이미지: 65. 통발 이동.jpg, 예측 클래스: 이동\n",
      "이미지: 66. 낚시어선 조업.jpg, 예측 클래스: 조업\n",
      "이미지: 66. 범장망 이동.jpg, 예측 클래스: 이동\n",
      "이미지: 66. 범장망 표류.jpg, 예측 클래스: 표류\n",
      "이미지: 66. 유망 표류.jpg, 예측 클래스: 표류\n",
      "이미지: 66. 타망 이동.jpg, 예측 클래스: 이동\n",
      "이미지: 66. 타망 조업.jpg, 예측 클래스: 표류\n",
      "이미지: 66. 타망 표류.jpg, 예측 클래스: 표류\n",
      "이미지: 67. 낚시어선 조업.jpg, 예측 클래스: 조업\n",
      "이미지: 67. 범장망 이동.jpg, 예측 클래스: 이동\n",
      "이미지: 67. 범장망 표류.jpg, 예측 클래스: 표류\n",
      "이미지: 67. 유망 표류.jpg, 예측 클래스: 표류\n",
      "이미지: 67. 타망 이동.jpg, 예측 클래스: 이동\n",
      "이미지: 67. 타망 조업.jpg, 예측 클래스: 표류\n",
      "이미지: 68. 낚시어선 조업.jpg, 예측 클래스: 조업\n",
      "이미지: 68. 범장망 이동.jpg, 예측 클래스: 표류\n",
      "이미지: 68. 범장망 표류.jpg, 예측 클래스: 표류\n",
      "이미지: 68. 유망 표류.jpg, 예측 클래스: 표류\n",
      "이미지: 68. 타망 이동.jpg, 예측 클래스: 이동\n",
      "이미지: 68. 타망 조업.jpg, 예측 클래스: 조업\n",
      "이미지: 68. 타망 표류.jpg, 예측 클래스: 표류\n",
      "이미지: 69. 낚시어선 조업.jpg, 예측 클래스: 조업\n",
      "이미지: 69. 범장망 이동.jpg, 예측 클래스: 이동\n",
      "이미지: 69. 범장망 표류.jpg, 예측 클래스: 표류\n",
      "이미지: 69. 유망 표류.jpg, 예측 클래스: 표류\n",
      "이미지: 69. 타망 이동.jpg, 예측 클래스: 표류\n",
      "이미지: 69. 타망 조업.jpg, 예측 클래스: 조업\n",
      "이미지: 69. 타망 표류.jpg, 예측 클래스: 표류\n",
      "이미지: 7. 낚시어선 이동.jpg, 예측 클래스: 이동\n",
      "이미지: 7. 낚시어선 조업.jpg, 예측 클래스: 조업\n",
      "이미지: 7. 낚시어선 표류.jpg, 예측 클래스: 표류\n",
      "이미지: 7. 범장망 이동.jpg, 예측 클래스: 이동\n",
      "이미지: 7. 범장망 조업.jpg, 예측 클래스: 조업\n",
      "이미지: 7. 범장망 표류.jpg, 예측 클래스: 표류\n",
      "이미지: 7. 안강망 조업.jpg, 예측 클래스: 조업\n",
      "이미지: 7. 안강망 표류.jpg, 예측 클래스: 표류\n",
      "이미지: 7. 연승 이동.jpg, 예측 클래스: 이동\n",
      "이미지: 7. 연승 표류.jpg, 예측 클래스: 표류\n",
      "이미지: 7. 유망 이동.jpg, 예측 클래스: 표류\n",
      "이미지: 7. 유망 조업.jpg, 예측 클래스: 조업\n",
      "이미지: 7. 유망 표류.jpg, 예측 클래스: 표류\n",
      "이미지: 7. 저인망 이동.jpg, 예측 클래스: 표류\n",
      "이미지: 7. 저인망 조업.jpg, 예측 클래스: 조업\n",
      "이미지: 7. 채낚기  표류.jpg, 예측 클래스: 이동\n",
      "이미지: 7. 채낚기 이동.jpg, 예측 클래스: 표류\n",
      "이미지: 7. 타망 이동.jpg, 예측 클래스: 이동\n",
      "이미지: 7. 타망 조업.jpg, 예측 클래스: 이동\n",
      "이미지: 7. 타망 표류.jpg, 예측 클래스: 표류\n",
      "이미지: 7. 통발 이동.jpg, 예측 클래스: 이동\n",
      "이미지: 7. 통발 표류.jpg, 예측 클래스: 표류\n",
      "이미지: 70. 범장망 이동.jpg, 예측 클래스: 이동\n",
      "이미지: 70. 범장망 표류.jpg, 예측 클래스: 이동\n",
      "이미지: 70. 유망 표류.jpg, 예측 클래스: 이동\n",
      "이미지: 70. 타망 이동.jpg, 예측 클래스: 이동\n",
      "이미지: 70. 타망 조업.png, 예측 클래스: 표류\n",
      "이미지: 70. 타망 표류.jpg, 예측 클래스: 표류\n",
      "이미지: 71. 범장망 이동.jpg, 예측 클래스: 표류\n",
      "이미지: 71. 범장망 표류.jpg, 예측 클래스: 표류\n",
      "이미지: 71. 유망 표류.jpg, 예측 클래스: 표류\n",
      "이미지: 71. 타망 이동.jpg, 예측 클래스: 이동\n",
      "이미지: 71. 타망 조업.jpg, 예측 클래스: 조업\n",
      "이미지: 71. 타망 표류.jpg, 예측 클래스: 표류\n",
      "이미지: 72. 범장망 이동.jpg, 예측 클래스: 이동\n",
      "이미지: 72. 범장망 표류.jpg, 예측 클래스: 표류\n",
      "이미지: 72. 유망 표류.jpg, 예측 클래스: 표류\n",
      "이미지: 72. 타망 이동.jpg, 예측 클래스: 조업\n",
      "이미지: 72. 타망 조업.jpg, 예측 클래스: 조업\n",
      "이미지: 73 타망 이동.jpg, 예측 클래스: 표류\n",
      "이미지: 73. 범장망 이동.jpg, 예측 클래스: 이동\n",
      "이미지: 73. 범장망 표류.jpg, 예측 클래스: 표류\n",
      "이미지: 73. 유망 표류.jpg, 예측 클래스: 표류\n",
      "이미지: 73. 타망 조업.jpg, 예측 클래스: 조업\n",
      "이미지: 73. 타망 표류.jpg, 예측 클래스: 표류\n",
      "이미지: 74 타망 이동.jpg, 예측 클래스: 표류\n",
      "이미지: 74. 범장망 이동.jpg, 예측 클래스: 이동\n",
      "이미지: 74. 범장망 표류.jpg, 예측 클래스: 표류\n",
      "이미지: 74. 유망 표류.jpg, 예측 클래스: 표류\n",
      "이미지: 74. 타망 조업.jpg, 예측 클래스: 조업\n",
      "이미지: 74. 타망 표류.jpg, 예측 클래스: 표류\n",
      "이미지: 75 타망 이동.jpg, 예측 클래스: 표류\n",
      "이미지: 75. 범장망 이동.jpg, 예측 클래스: 표류\n",
      "이미지: 75. 범장망 표류.jpg, 예측 클래스: 조업\n",
      "이미지: 75. 유망 표류.jpg, 예측 클래스: 표류\n",
      "이미지: 75. 타망 조업.jpg, 예측 클래스: 표류\n",
      "이미지: 75. 타망 표류.jpg, 예측 클래스: 표류\n",
      "이미지: 76 타망 이동.jpg, 예측 클래스: 표류\n",
      "이미지: 76. 범장망 이동.jpg, 예측 클래스: 표류\n",
      "이미지: 76. 범장망 표류.jpg, 예측 클래스: 표류\n",
      "이미지: 76. 유망 표류.jpg, 예측 클래스: 표류\n",
      "이미지: 76. 타망 조업.jpg, 예측 클래스: 표류\n",
      "이미지: 76. 타망 표류.jpg, 예측 클래스: 표류\n",
      "이미지: 77 타망 이동.jpg, 예측 클래스: 표류\n",
      "이미지: 77. 범장망 이동.jpg, 예측 클래스: 표류\n",
      "이미지: 77. 범장망 표류.jpg, 예측 클래스: 이동\n",
      "이미지: 77. 유망 표류.jpg, 예측 클래스: 표류\n",
      "이미지: 77. 타망 조업.jpg, 예측 클래스: 표류\n",
      "이미지: 77. 타망 표류.jpg, 예측 클래스: 표류\n",
      "이미지: 78 타망 이동.jpg, 예측 클래스: 이동\n",
      "이미지: 78. 범장망 이동.jpg, 예측 클래스: 이동\n",
      "이미지: 78. 범장망 표류.jpg, 예측 클래스: 표류\n",
      "이미지: 78. 유망 표류.jpg, 예측 클래스: 표류\n",
      "이미지: 78. 타망 조업.jpg, 예측 클래스: 표류\n",
      "이미지: 78. 타망 표류.jpg, 예측 클래스: 표류\n",
      "이미지: 79 타망 이동.png, 예측 클래스: 표류\n",
      "이미지: 79. 범장망 이동.jpg, 예측 클래스: 표류\n",
      "이미지: 79. 범장망 표류.jpg, 예측 클래스: 표류\n",
      "이미지: 79. 유망 표류.jpg, 예측 클래스: 표류\n",
      "이미지: 79. 타망 조업.jpg, 예측 클래스: 이동\n",
      "이미지: 79. 타망 표류.jpg, 예측 클래스: 표류\n",
      "이미지: 8. 낚시어선 이동.jpg, 예측 클래스: 이동\n",
      "이미지: 8. 낚시어선 조업.jpg, 예측 클래스: 조업\n",
      "이미지: 8. 낚시어선 표류.jpg, 예측 클래스: 표류\n",
      "이미지: 8. 등광조망 이동.jpg, 예측 클래스: 이동\n",
      "이미지: 8. 등광조망 조업.jpg, 예측 클래스: 조업\n",
      "이미지: 8. 등광조망 표류.jpg, 예측 클래스: 표류\n",
      "이미지: 8. 범장망 이동.jpg, 예측 클래스: 표류\n",
      "이미지: 8. 범장망 조업.jpg, 예측 클래스: 조업\n",
      "이미지: 8. 범장망 표류.jpg, 예측 클래스: 표류\n",
      "이미지: 8. 안강망 이동.jpg, 예측 클래스: 표류\n",
      "이미지: 8. 안강망 조업.jpg, 예측 클래스: 표류\n",
      "이미지: 8. 안강망 표류.jpg, 예측 클래스: 조업\n",
      "이미지: 8. 연승 이동.jpg, 예측 클래스: 이동\n",
      "이미지: 8. 연승 표류.jpg, 예측 클래스: 표류\n",
      "이미지: 8. 유망 이동.jpg, 예측 클래스: 표류\n",
      "이미지: 8. 유망 조업.jpg, 예측 클래스: 조업\n",
      "이미지: 8. 유망 표류.jpg, 예측 클래스: 표류\n",
      "이미지: 8. 저인망 이동.jpg, 예측 클래스: 이동\n",
      "이미지: 8. 저인망 조업.jpg, 예측 클래스: 조업\n",
      "이미지: 8. 채낚기  표류.jpg, 예측 클래스: 표류\n",
      "이미지: 8. 채낚기 이동.jpg, 예측 클래스: 이동\n",
      "이미지: 8. 타망 조업.jpg, 예측 클래스: 표류\n",
      "이미지: 8. 타망 표류.jpg, 예측 클래스: 표류\n",
      "이미지: 8. 통발 이동.jpg, 예측 클래스: 표류\n",
      "이미지: 8. 통발 표류.jpg, 예측 클래스: 이동\n",
      "이미지: 80 타망 이동.jpg, 예측 클래스: 표류\n",
      "이미지: 80. 범장망 이동.jpg, 예측 클래스: 이동\n",
      "이미지: 80. 범장망 표류.jpg, 예측 클래스: 표류\n",
      "이미지: 80. 유망 표류.jpg, 예측 클래스: 표류\n",
      "이미지: 80. 타망 조업.jpg, 예측 클래스: 조업\n",
      "이미지: 80. 타망 표류.jpg, 예측 클래스: 표류\n",
      "이미지: 81 타망 이동.png, 예측 클래스: 표류\n",
      "이미지: 81. 범장망 이동.jpg, 예측 클래스: 이동\n",
      "이미지: 81. 범장망 표류.jpg, 예측 클래스: 표류\n",
      "이미지: 81. 유망 표류.jpg, 예측 클래스: 표류\n",
      "이미지: 81. 타망 조업.jpg, 예측 클래스: 표류\n",
      "이미지: 81. 타망 표류.jpg, 예측 클래스: 표류\n",
      "이미지: 82 타망 이동.jpg, 예측 클래스: 이동\n",
      "이미지: 82. 범장망 이동.jpg, 예측 클래스: 표류\n",
      "이미지: 82. 범장망 표류.jpg, 예측 클래스: 표류\n",
      "이미지: 82. 유망 표류.jpg, 예측 클래스: 표류\n",
      "이미지: 82. 타망 조업.jpg, 예측 클래스: 조업\n",
      "이미지: 82. 타망 표류.jpg, 예측 클래스: 표류\n",
      "이미지: 83 타망 이동.png, 예측 클래스: 표류\n",
      "이미지: 83. 범장망 이동.jpg, 예측 클래스: 표류\n",
      "이미지: 83. 범장망 표류.jpg, 예측 클래스: 표류\n",
      "이미지: 83. 유망 표류.jpg, 예측 클래스: 표류\n",
      "이미지: 83. 타망 조업.jpg, 예측 클래스: 조업\n",
      "이미지: 83. 타망 표류.jpg, 예측 클래스: 표류\n",
      "이미지: 84 타망 이동.jpg, 예측 클래스: 표류\n",
      "이미지: 84. 범장망 이동.jpg, 예측 클래스: 표류\n",
      "이미지: 84. 범장망 표류.jpg, 예측 클래스: 표류\n",
      "이미지: 84. 유망 표류.jpg, 예측 클래스: 표류\n",
      "이미지: 84. 타망 조업.jpg, 예측 클래스: 이동\n",
      "이미지: 84. 타망 표류.jpg, 예측 클래스: 표류\n",
      "이미지: 85 타망 이동.png, 예측 클래스: 이동\n",
      "이미지: 85. 범장망 이동.jpg, 예측 클래스: 표류\n",
      "이미지: 85. 범장망 표류.jpg, 예측 클래스: 표류\n",
      "이미지: 85. 유망 표류.jpg, 예측 클래스: 표류\n",
      "이미지: 85. 타망 조업.jpg, 예측 클래스: 조업\n",
      "이미지: 85. 타망 표류.jpg, 예측 클래스: 표류\n",
      "이미지: 86 타망 이동.jpg, 예측 클래스: 표류\n",
      "이미지: 86. 범장망 이동.jpg, 예측 클래스: 이동\n",
      "이미지: 86. 범장망 표류.jpg, 예측 클래스: 표류\n",
      "이미지: 86. 타망 조업.jpg, 예측 클래스: 표류\n",
      "이미지: 86. 타망 표류.jpg, 예측 클래스: 표류\n",
      "이미지: 87 타망 이동.png, 예측 클래스: 이동\n",
      "이미지: 87. 범장망 이동.jpg, 예측 클래스: 이동\n",
      "이미지: 87. 범장망 표류.jpg, 예측 클래스: 표류\n",
      "이미지: 87. 유망 표류.jpg, 예측 클래스: 표류\n",
      "이미지: 87. 타망 조업.jpg, 예측 클래스: 조업\n",
      "이미지: 87. 타망 표류.jpg, 예측 클래스: 표류\n",
      "이미지: 88 타망 이동.jpg, 예측 클래스: 표류\n",
      "이미지: 88. 범장망 이동.jpg, 예측 클래스: 표류\n",
      "이미지: 88. 범장망 표류.jpg, 예측 클래스: 표류\n",
      "이미지: 88. 유망 표류.jpg, 예측 클래스: 표류\n",
      "이미지: 88. 타망 조업.jpg, 예측 클래스: 표류\n",
      "이미지: 88. 타망 표류.jpg, 예측 클래스: 표류\n",
      "이미지: 89 타망 이동.jpg, 예측 클래스: 표류\n",
      "이미지: 89. 범장망 이동.jpg, 예측 클래스: 이동\n",
      "이미지: 89. 범장망 표류.jpg, 예측 클래스: 표류\n",
      "이미지: 89. 유망 표류.jpg, 예측 클래스: 표류\n",
      "이미지: 89. 타망 조업.jpg, 예측 클래스: 조업\n",
      "이미지: 89. 타망 표류.png, 예측 클래스: 표류\n",
      "이미지: 9. 낚시어선 이동.jpg, 예측 클래스: 이동\n",
      "이미지: 9. 낚시어선 표류.jpg, 예측 클래스: 표류\n",
      "이미지: 9. 등광조망 이동.jpg, 예측 클래스: 표류\n",
      "이미지: 9. 등광조망 조업.jpg, 예측 클래스: 조업\n",
      "이미지: 9. 등광조망 표류.jpg, 예측 클래스: 조업\n",
      "이미지: 9. 범장망 이동.jpg, 예측 클래스: 표류\n",
      "이미지: 9. 범장망 조업.jpg, 예측 클래스: 표류\n",
      "이미지: 9. 범장망 표류.jpg, 예측 클래스: 표류\n",
      "이미지: 9. 안강망 이동.jpg, 예측 클래스: 표류\n",
      "이미지: 9. 안강망 조업.jpg, 예측 클래스: 이동\n",
      "이미지: 9. 안강망 표류.jpg, 예측 클래스: 표류\n",
      "이미지: 9. 연승 이동.jpg, 예측 클래스: 이동\n",
      "이미지: 9. 연승 표류.jpg, 예측 클래스: 표류\n",
      "이미지: 9. 유망 이동.jpg, 예측 클래스: 이동\n",
      "이미지: 9. 유망 조업.jpg, 예측 클래스: 표류\n",
      "이미지: 9. 유망 표류.jpg, 예측 클래스: 표류\n",
      "이미지: 9. 저인망 이동.jpg, 예측 클래스: 표류\n",
      "이미지: 9. 저인망 조업.jpg, 예측 클래스: 조업\n",
      "이미지: 9. 채낚기  표류.jpg, 예측 클래스: 표류\n",
      "이미지: 9. 채낚기 이동.jpg, 예측 클래스: 이동\n",
      "이미지: 9. 타망 이동.jpg, 예측 클래스: 표류\n",
      "이미지: 9. 타망 조업.jpg, 예측 클래스: 표류\n",
      "이미지: 9. 타망 표류.jpg, 예측 클래스: 표류\n",
      "이미지: 9. 통발 이동.jpg, 예측 클래스: 이동\n",
      "이미지: 90 타망 이동.jpg, 예측 클래스: 이동\n",
      "이미지: 90. 범장망 이동.jpg, 예측 클래스: 표류\n",
      "이미지: 90. 범장망 표류.jpg, 예측 클래스: 표류\n",
      "이미지: 90. 유망 표류.jpg, 예측 클래스: 조업\n",
      "이미지: 90. 타망 조업.png, 예측 클래스: 조업\n",
      "이미지: 90. 타망 표류.jpg, 예측 클래스: 이동\n",
      "이미지: 91 타망 이동.jpg, 예측 클래스: 이동\n",
      "이미지: 91. 범장망 이동.jpg, 예측 클래스: 표류\n",
      "이미지: 91. 범장망 표류.jpg, 예측 클래스: 표류\n",
      "이미지: 91. 유망 표류.jpg, 예측 클래스: 조업\n",
      "이미지: 91. 타망 조업.jpg, 예측 클래스: 이동\n",
      "이미지: 91. 타망 표류.jpg, 예측 클래스: 표류\n",
      "이미지: 92 타망 이동.jpg, 예측 클래스: 이동\n",
      "이미지: 92. 범장망 이동.jpg, 예측 클래스: 이동\n",
      "이미지: 92. 범장망 표류.jpg, 예측 클래스: 표류\n",
      "이미지: 92. 유망 표류.jpg, 예측 클래스: 표류\n",
      "이미지: 92. 타망 조업.jpg, 예측 클래스: 조업\n",
      "이미지: 92. 타망 표류.jpg, 예측 클래스: 표류\n",
      "이미지: 93 타망 이동.jpg, 예측 클래스: 이동\n",
      "이미지: 93. 범장망 이동.jpg, 예측 클래스: 표류\n",
      "이미지: 93. 범장망 표류.jpg, 예측 클래스: 표류\n",
      "이미지: 93. 유망 표류.jpg, 예측 클래스: 표류\n",
      "이미지: 93. 타망 조업.jpg, 예측 클래스: 조업\n",
      "이미지: 93. 타망 표류.jpg, 예측 클래스: 표류\n",
      "이미지: 94 타망 이동.jpg, 예측 클래스: 이동\n",
      "이미지: 94. 범장망 이동.jpg, 예측 클래스: 표류\n",
      "이미지: 94. 범장망 표류.jpg, 예측 클래스: 표류\n",
      "이미지: 94. 유망 표류.jpg, 예측 클래스: 표류\n",
      "이미지: 94. 타망 조업.jpg, 예측 클래스: 조업\n",
      "이미지: 94. 타망 표류.jpg, 예측 클래스: 표류\n",
      "이미지: 95 타망 이동.jpg, 예측 클래스: 표류\n",
      "이미지: 95. 범장망 이동.jpg, 예측 클래스: 표류\n",
      "이미지: 95. 범장망 표류.jpg, 예측 클래스: 표류\n",
      "이미지: 95. 유망 표류.png, 예측 클래스: 표류\n",
      "이미지: 95. 타망 조업.jpg, 예측 클래스: 조업\n",
      "이미지: 95. 타망 표류.jpg, 예측 클래스: 표류\n",
      "이미지: 96 타망 이동.jpg, 예측 클래스: 표류\n",
      "이미지: 96. 범장망 이동.jpg, 예측 클래스: 표류\n",
      "이미지: 96. 범장망 표류.jpg, 예측 클래스: 표류\n",
      "이미지: 96. 유망 표류.jpg, 예측 클래스: 표류\n",
      "이미지: 96. 타망 조업.jpg, 예측 클래스: 조업\n",
      "이미지: 96. 타망 표류.jpg, 예측 클래스: 표류\n",
      "이미지: 97 타망 이동.jpg, 예측 클래스: 조업\n",
      "이미지: 97. 범장망 이동.jpg, 예측 클래스: 이동\n",
      "이미지: 97. 범장망 표류.jpg, 예측 클래스: 표류\n",
      "이미지: 97. 유망 표류.jpg, 예측 클래스: 표류\n",
      "이미지: 97. 타망 조업.jpg, 예측 클래스: 표류\n",
      "이미지: 97. 타망 표류.jpg, 예측 클래스: 표류\n",
      "이미지: 98 타망 이동.jpg, 예측 클래스: 표류\n",
      "이미지: 98. 범장망 표류.jpg, 예측 클래스: 표류\n",
      "이미지: 98. 유망 표류.jpg, 예측 클래스: 표류\n",
      "이미지: 98. 타망 조업.jpg, 예측 클래스: 조업\n",
      "이미지: 98. 타망 표류.jpg, 예측 클래스: 표류\n",
      "이미지: 99 타망 이동.jpg, 예측 클래스: 조업\n",
      "이미지: 99. 범장망 이동.jpg, 예측 클래스: 이동\n",
      "이미지: 99. 범장망 표류.jpg, 예측 클래스: 표류\n",
      "이미지: 99. 유망 표류.jpg, 예측 클래스: 표류\n",
      "이미지: 99. 타망 조업.jpg, 예측 클래스: 조업\n",
      "이미지: 99. 타망 표류.jpg, 예측 클래스: 표류\n",
      "총 1104개의 이미지가 올바르게 예측되었습니다.\n"
     ]
    }
   ],
   "source": [
    "import os\n",
    "import cv2\n",
    "import numpy as np\n",
    "\n",
    "# 모델 불러오기 (이미 학습된 모델이라고 가정)\n",
    "# model = ...\n",
    "\n",
    "# 예측할 테스트 이미지가 저장된 폴더 경로\n",
    "test_images_path = '/home/elicer/FIshing_vessel-1/imgdata'\n",
    "\n",
    "# 이미지 로드 및 예측\n",
    "test_images = []\n",
    "image_names = []\n",
    "\n",
    "# 파일 이름을 정렬하여 순서대로 처리\n",
    "for filename in sorted(os.listdir(test_images_path)):\n",
    "    if filename.endswith(('.jpg', '.jpeg', '.png')):\n",
    "        img_path = os.path.join(test_images_path, filename)\n",
    "        image = cv2.imread(img_path)\n",
    "        if image is None:\n",
    "            print(f\"이미지 읽기 실패: {img_path}\")\n",
    "            continue\n",
    "        \n",
    "        # 이미지 크기 조정 (VGG 입력 크기에 맞게)\n",
    "        image = cv2.resize(image, (224, 224))\n",
    "        test_images.append(image)\n",
    "        image_names.append(filename)\n",
    "\n",
    "# 이미지 배열을 numpy 배열로 변환 및 정규화\n",
    "X_test = np.array(test_images) / 255.0  # 정규화\n",
    "\n",
    "# 모델을 사용하여 예측 수행\n",
    "y_pred_probs = model.predict(X_test)\n",
    "y_pred = np.argmax(y_pred_probs, axis=1)\n",
    "\n",
    "# 클래스 이름 정의 (예: 이동, 조업, 표류)\n",
    "class_names = ['이동', '조업', '표류']\n",
    "\n",
    "# 예측 결과 출력 및 정답 비교\n",
    "correct_count = 0\n",
    "\n",
    "for i, filename in enumerate(image_names):\n",
    "    predicted_class = class_names[y_pred[i]]\n",
    "    print(f\"이미지: {filename}, 예측 클래스: {predicted_class}\")\n",
    "    \n",
    "    # 파일명에서 마지막 단어 추출 (예: '이동', '조업', '표류')\n",
    "    actual_class = filename.split()[-1].split('.')[0]  # 확장자 제거 후 마지막 단어 추출\n",
    "    if actual_class == predicted_class:\n",
    "        correct_count += 1\n",
    "\n",
    "# 총 몇 개가 동일한지 출력\n",
    "print(f\"총 {correct_count}개의 이미지가 올바르게 예측되었습니다.\")\n"
   ]
  },
  {
   "cell_type": "code",
   "execution_count": 14,
   "metadata": {},
   "outputs": [
    {
     "name": "stdout",
     "output_type": "stream",
     "text": [
      "\u001b[1m50/50\u001b[0m \u001b[32m━━━━━━━━━━━━━━━━━━━━\u001b[0m\u001b[37m\u001b[0m \u001b[1m5s\u001b[0m 99ms/step\n",
      "분류 보고서:\n",
      "              precision    recall  f1-score   support\n",
      "\n",
      "          이동       0.81      0.61      0.70       571\n",
      "          조업       0.74      0.47      0.57       340\n",
      "          표류       0.64      0.89      0.74       669\n",
      "\n",
      "    accuracy                           0.70      1580\n",
      "   macro avg       0.73      0.66      0.67      1580\n",
      "weighted avg       0.72      0.70      0.69      1580\n",
      "\n",
      "매크로 평균 F1 스코어: 0.6714\n"
     ]
    }
   ],
   "source": [
    "import os\n",
    "import cv2\n",
    "import numpy as np\n",
    "from sklearn.metrics import classification_report, f1_score\n",
    "\n",
    "# 모델 불러오기 (이미 학습된 모델이라고 가정)\n",
    "# model = ...\n",
    "\n",
    "# 예측할 테스트 이미지가 저장된 폴더 경로\n",
    "test_images_path = '/home/elicer/FIshing_vessel-1/imgdata'\n",
    "\n",
    "# 이미지 로드 및 예측\n",
    "test_images = []\n",
    "y_true = []\n",
    "image_names = []\n",
    "\n",
    "# 클래스 이름 정의 (예: 이동, 조업, 표류)\n",
    "class_names = ['이동', '조업', '표류']\n",
    "state_to_label = {state: idx for idx, state in enumerate(class_names)}  # 상태를 인덱스로 변환하는 매핑\n",
    "\n",
    "# 파일 이름을 정렬하여 순서대로 처리\n",
    "for filename in sorted(os.listdir(test_images_path)):\n",
    "    if filename.endswith(('.jpg', '.jpeg', '.png')):\n",
    "        img_path = os.path.join(test_images_path, filename)\n",
    "        image = cv2.imread(img_path)\n",
    "        if image is None:\n",
    "            print(f\"이미지 읽기 실패: {img_path}\")\n",
    "            continue\n",
    "\n",
    "        # 파일 이름에서 레이블 추출\n",
    "        actual_class = filename.split()[-1].split('.')[0]\n",
    "        if actual_class in state_to_label:\n",
    "            # 이미지 크기 조정 (VGG 입력 크기에 맞게)\n",
    "            image = cv2.resize(image, (224, 224))\n",
    "            test_images.append(image)\n",
    "            image_names.append(filename)\n",
    "            y_true.append(state_to_label[actual_class])\n",
    "\n",
    "# 이미지 배열을 numpy 배열로 변환 및 정규화\n",
    "X_test = np.array(test_images) / 255.0  # 정규화\n",
    "y_true = np.array(y_true)\n",
    "\n",
    "# 모델을 사용하여 예측 수행\n",
    "y_pred_probs = model.predict(X_test)\n",
    "y_pred = np.argmax(y_pred_probs, axis=1)\n",
    "\n",
    "# F1 스코어 계산 및 분류 보고서 출력\n",
    "print(\"분류 보고서:\")\n",
    "print(classification_report(y_true, y_pred, target_names=class_names))\n",
    "\n",
    "# F1 스코어 계산 (매크로 평균)\n",
    "f1 = f1_score(y_true, y_pred, average='macro')\n",
    "print(f\"매크로 평균 F1 스코어: {f1:.4f}\")\n"
   ]
  },
  {
   "cell_type": "code",
   "execution_count": 15,
   "metadata": {},
   "outputs": [
    {
     "name": "stderr",
     "output_type": "stream",
     "text": [
      "WARNING:absl:You are saving your model as an HDF5 file via `model.save()` or `keras.saving.save_model(model)`. This file format is considered legacy. We recommend using instead the native Keras format, e.g. `model.save('my_model.keras')` or `keras.saving.save_model(model, 'my_model.keras')`. \n"
     ]
    },
    {
     "name": "stdout",
     "output_type": "stream",
     "text": [
      "모델이 저장되었습니다: /home/elicer/FIshing_vessel-1/saved_model/vessel_state_VGG_model.h5\n"
     ]
    }
   ],
   "source": [
    "# 모델 저장 경로 지정\n",
    "model_save_path = \"/home/elicer/FIshing_vessel-1/saved_model/vessel_state_VGG_model.h5\"\n",
    "\n",
    "# 모델 저장\n",
    "model.save(model_save_path)\n",
    "print(f\"모델이 저장되었습니다: {model_save_path}\")\n"
   ]
  },
  {
   "cell_type": "code",
   "execution_count": 6,
   "metadata": {},
   "outputs": [
    {
     "name": "stderr",
     "output_type": "stream",
     "text": [
      "WARNING:absl:Compiled the loaded model, but the compiled metrics have yet to be built. `model.compile_metrics` will be empty until you train or evaluate the model.\n"
     ]
    }
   ],
   "source": [
    "import tensorflow as tf\n",
    "\n",
    "model = tf.keras.models.load_model('vessel_state_VGG_model.h5')\n",
    "model.save_weights('vessel_state_VGG.weights.h5')"
   ]
  }
 ],
 "metadata": {
  "kernelspec": {
   "display_name": "Python 3",
   "language": "python",
   "name": "python3"
  },
  "language_info": {
   "codemirror_mode": {
    "name": "ipython",
    "version": 3
   },
   "file_extension": ".py",
   "mimetype": "text/x-python",
   "name": "python",
   "nbconvert_exporter": "python",
   "pygments_lexer": "ipython3",
   "version": "3.10.13"
  }
 },
 "nbformat": 4,
 "nbformat_minor": 2
}
