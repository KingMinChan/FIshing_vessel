{
 "cells": [
  {
   "cell_type": "markdown",
   "metadata": {},
   "source": [
    "# VGG state detection"
   ]
  },
  {
   "cell_type": "markdown",
   "metadata": {},
   "source": [
    "1. 데이터 준비 및 분석\n",
    "\n",
    "\n",
    "- 데이터 전처리\n",
    "\n",
    "\n",
    "- 이미지 크기 조정: VGG 모델은 224x224 크기의 입력을 요구하므로, 이미지를 동일한 크기로 조정해야 합니다.\n",
    "\n",
    "\n",
    "- 레이블 생성: results.csv에서 이미지 파일과 상태 정보를 추출하여 학습 데이터의 레이블을 만듭니다. 상태는 각각의 클래스(예: 이동, 정박, 조업 중 등)로 레이블링합니다.\n",
    "\n",
    "\n",
    "    \n",
    "- 데이터 증강(Data Augmentation): 이미지 데이터를 증강하여 학습을 위한 다양한 데이터를 준비합니다. 이를 통해 모델의 일반화를 높일 수 있습니다."
   ]
  },
  {
   "cell_type": "code",
   "execution_count": 1,
   "metadata": {},
   "outputs": [
    {
     "name": "stdout",
     "output_type": "stream",
     "text": [
      "이미지 저장 완료: /home/elicer/FIshing_vessel-1/resized_imgdata/1. 낚시어선 이동.jpg\n",
      "이미지 저장 완료: /home/elicer/FIshing_vessel-1/resized_imgdata/1. 낚시어선 조업.jpg\n",
      "이미지 저장 완료: /home/elicer/FIshing_vessel-1/resized_imgdata/1. 낚시어선 표류.jpg\n",
      "이미지 저장 완료: /home/elicer/FIshing_vessel-1/resized_imgdata/1. 등광조망 이동.jpg\n",
      "이미지 저장 완료: /home/elicer/FIshing_vessel-1/resized_imgdata/1. 등광조망 표류.jpg\n",
      "이미지 저장 완료: /home/elicer/FIshing_vessel-1/resized_imgdata/1. 범장망 이동.jpg\n",
      "이미지 저장 완료: /home/elicer/FIshing_vessel-1/resized_imgdata/1. 범장망 조업.jpg\n",
      "이미지 저장 완료: /home/elicer/FIshing_vessel-1/resized_imgdata/1. 범장망 표류.jpg\n",
      "이미지 저장 완료: /home/elicer/FIshing_vessel-1/resized_imgdata/1. 안강망 이동.jpg\n",
      "이미지 저장 완료: /home/elicer/FIshing_vessel-1/resized_imgdata/1. 안강망 조업.jpg\n",
      "이미지 저장 완료: /home/elicer/FIshing_vessel-1/resized_imgdata/1. 안강망 표류.jpg\n",
      "이미지 저장 완료: /home/elicer/FIshing_vessel-1/resized_imgdata/1. 연승 이동.jpg\n",
      "이미지 저장 완료: /home/elicer/FIshing_vessel-1/resized_imgdata/1. 연승 표류.jpg\n",
      "이미지 저장 완료: /home/elicer/FIshing_vessel-1/resized_imgdata/1. 유망 이동.jpg\n",
      "이미지 저장 완료: /home/elicer/FIshing_vessel-1/resized_imgdata/1. 유망 조업.jpg\n",
      "이미지 저장 완료: /home/elicer/FIshing_vessel-1/resized_imgdata/1. 유망 표류.jpg\n",
      "이미지 저장 완료: /home/elicer/FIshing_vessel-1/resized_imgdata/1. 저인망 이동.jpg\n",
      "이미지 저장 완료: /home/elicer/FIshing_vessel-1/resized_imgdata/1. 저인망 조업.jpg\n",
      "이미지 저장 완료: /home/elicer/FIshing_vessel-1/resized_imgdata/1. 저인망 표류.jpg\n",
      "이미지 저장 완료: /home/elicer/FIshing_vessel-1/resized_imgdata/1. 채낚기  표류.jpg\n",
      "이미지 저장 완료: /home/elicer/FIshing_vessel-1/resized_imgdata/1. 채낚기 이동.jpg\n",
      "이미지 저장 완료: /home/elicer/FIshing_vessel-1/resized_imgdata/1. 채낚기 조업.jpg\n",
      "이미지 저장 완료: /home/elicer/FIshing_vessel-1/resized_imgdata/1. 타망 이동.jpg\n",
      "이미지 저장 완료: /home/elicer/FIshing_vessel-1/resized_imgdata/1. 타망 조업.jpg\n",
      "이미지 저장 완료: /home/elicer/FIshing_vessel-1/resized_imgdata/1. 타망 표류.jpg\n",
      "이미지 저장 완료: /home/elicer/FIshing_vessel-1/resized_imgdata/1. 통발 이동.jpg\n",
      "이미지 저장 완료: /home/elicer/FIshing_vessel-1/resized_imgdata/1. 통발 표류.jpg\n",
      "이미지 저장 완료: /home/elicer/FIshing_vessel-1/resized_imgdata/1. 통발 조업.jpg\n",
      "이미지 저장 완료: /home/elicer/FIshing_vessel-1/resized_imgdata/1.등광조망 조업.jpg\n",
      "이미지 저장 완료: /home/elicer/FIshing_vessel-1/resized_imgdata/10. 낚시어선 이동.jpg\n",
      "이미지 저장 완료: /home/elicer/FIshing_vessel-1/resized_imgdata/10. 낚시어선 조업.jpg\n",
      "이미지 저장 완료: /home/elicer/FIshing_vessel-1/resized_imgdata/10. 낚시어선 표류.jpg\n",
      "이미지 저장 완료: /home/elicer/FIshing_vessel-1/resized_imgdata/10. 등광조망 이동.jpg\n",
      "이미지 저장 완료: /home/elicer/FIshing_vessel-1/resized_imgdata/10. 등광조망 조업.jpg\n",
      "이미지 저장 완료: /home/elicer/FIshing_vessel-1/resized_imgdata/10. 등광조망 표류.jpg\n",
      "이미지 저장 완료: /home/elicer/FIshing_vessel-1/resized_imgdata/10. 범장망 이동.jpg\n",
      "이미지 저장 완료: /home/elicer/FIshing_vessel-1/resized_imgdata/10. 범장망 표류.jpg\n",
      "이미지 저장 완료: /home/elicer/FIshing_vessel-1/resized_imgdata/10. 범장망 조업.jpg\n",
      "이미지 저장 완료: /home/elicer/FIshing_vessel-1/resized_imgdata/10. 안강망 이동.jpg\n",
      "이미지 저장 완료: /home/elicer/FIshing_vessel-1/resized_imgdata/10. 안강망 조업.jpg\n",
      "이미지 저장 완료: /home/elicer/FIshing_vessel-1/resized_imgdata/10. 안강망 표류.jpg\n",
      "이미지 저장 완료: /home/elicer/FIshing_vessel-1/resized_imgdata/10. 연승 이동.jpg\n",
      "이미지 저장 완료: /home/elicer/FIshing_vessel-1/resized_imgdata/10. 유망 이동.jpg\n",
      "이미지 저장 완료: /home/elicer/FIshing_vessel-1/resized_imgdata/10. 유망 표류.jpg\n",
      "이미지 저장 완료: /home/elicer/FIshing_vessel-1/resized_imgdata/10. 연승 표류.jpg\n",
      "이미지 저장 완료: /home/elicer/FIshing_vessel-1/resized_imgdata/10. 유망 조업.jpg\n",
      "이미지 저장 완료: /home/elicer/FIshing_vessel-1/resized_imgdata/10. 저인망 이동.jpg\n",
      "이미지 저장 완료: /home/elicer/FIshing_vessel-1/resized_imgdata/10. 저인망 조업.jpg\n",
      "이미지 저장 완료: /home/elicer/FIshing_vessel-1/resized_imgdata/10. 채낚기 이동.jpg\n",
      "이미지 저장 완료: /home/elicer/FIshing_vessel-1/resized_imgdata/10. 채낚기 표류.jpg\n",
      "이미지 저장 완료: /home/elicer/FIshing_vessel-1/resized_imgdata/10. 타망 이동.jpg\n",
      "이미지 저장 완료: /home/elicer/FIshing_vessel-1/resized_imgdata/10. 타망 조업.jpg\n",
      "이미지 저장 완료: /home/elicer/FIshing_vessel-1/resized_imgdata/10. 타망 표류.jpg\n",
      "이미지 저장 완료: /home/elicer/FIshing_vessel-1/resized_imgdata/10. 통발 이동.jpg\n",
      "이미지 저장 완료: /home/elicer/FIshing_vessel-1/resized_imgdata/100 타망 이동.jpg\n",
      "이미지 저장 완료: /home/elicer/FIshing_vessel-1/resized_imgdata/10. 통발 표류.jpg\n",
      "이미지 저장 완료: /home/elicer/FIshing_vessel-1/resized_imgdata/100. 범장망 이동.jpg\n",
      "이미지 저장 완료: /home/elicer/FIshing_vessel-1/resized_imgdata/100. 범장망 표류.jpg\n",
      "이미지 저장 완료: /home/elicer/FIshing_vessel-1/resized_imgdata/100. 타망 조업.jpg\n",
      "이미지 저장 완료: /home/elicer/FIshing_vessel-1/resized_imgdata/100. 유망 표류.jpg\n",
      "이미지 저장 완료: /home/elicer/FIshing_vessel-1/resized_imgdata/100. 타망 표류.jpg\n",
      "이미지 저장 완료: /home/elicer/FIshing_vessel-1/resized_imgdata/101 타망 이동.jpg\n",
      "이미지 저장 완료: /home/elicer/FIshing_vessel-1/resized_imgdata/101. 범장망 이동.jpg\n",
      "이미지 저장 완료: /home/elicer/FIshing_vessel-1/resized_imgdata/101. 범장망 표류.jpg\n",
      "이미지 저장 완료: /home/elicer/FIshing_vessel-1/resized_imgdata/101. 타망 조업.jpg\n",
      "이미지 저장 완료: /home/elicer/FIshing_vessel-1/resized_imgdata/101. 유망 표류.jpg\n",
      "이미지 저장 완료: /home/elicer/FIshing_vessel-1/resized_imgdata/101. 타망 표류.jpg\n",
      "이미지 저장 완료: /home/elicer/FIshing_vessel-1/resized_imgdata/102 타망 이동.jpg\n",
      "이미지 저장 완료: /home/elicer/FIshing_vessel-1/resized_imgdata/102. 범장망 이동.jpg\n",
      "이미지 저장 완료: /home/elicer/FIshing_vessel-1/resized_imgdata/102. 범장망 표류.jpg\n",
      "이미지 저장 완료: /home/elicer/FIshing_vessel-1/resized_imgdata/102. 유망 표류.jpg\n",
      "이미지 저장 완료: /home/elicer/FIshing_vessel-1/resized_imgdata/102. 타망 조업.jpg\n",
      "이미지 저장 완료: /home/elicer/FIshing_vessel-1/resized_imgdata/102. 타망 표류.jpg\n",
      "이미지 저장 완료: /home/elicer/FIshing_vessel-1/resized_imgdata/103 타망 이동.jpg\n",
      "이미지 저장 완료: /home/elicer/FIshing_vessel-1/resized_imgdata/103. 범장망 이동.jpg\n",
      "이미지 저장 완료: /home/elicer/FIshing_vessel-1/resized_imgdata/103. 범장망 표류.jpg\n",
      "이미지 저장 완료: /home/elicer/FIshing_vessel-1/resized_imgdata/103. 유망 표류.jpg\n",
      "이미지 저장 완료: /home/elicer/FIshing_vessel-1/resized_imgdata/103. 타망 조업.jpg\n",
      "이미지 저장 완료: /home/elicer/FIshing_vessel-1/resized_imgdata/103. 타망 표류.jpg\n",
      "이미지 저장 완료: /home/elicer/FIshing_vessel-1/resized_imgdata/104 타망 이동.jpg\n",
      "이미지 저장 완료: /home/elicer/FIshing_vessel-1/resized_imgdata/104. 유망 표류.jpg\n",
      "이미지 저장 완료: /home/elicer/FIshing_vessel-1/resized_imgdata/104. 범장망 이동.jpg\n",
      "이미지 저장 완료: /home/elicer/FIshing_vessel-1/resized_imgdata/104. 범장망 표류.jpg\n",
      "이미지 저장 완료: /home/elicer/FIshing_vessel-1/resized_imgdata/104. 타망 조업.jpg\n",
      "이미지 저장 완료: /home/elicer/FIshing_vessel-1/resized_imgdata/104. 타망 표류.jpg\n",
      "이미지 저장 완료: /home/elicer/FIshing_vessel-1/resized_imgdata/105. 범장망 이동.jpg\n",
      "이미지 저장 완료: /home/elicer/FIshing_vessel-1/resized_imgdata/105. 유망 표류.jpg\n",
      "이미지 저장 완료: /home/elicer/FIshing_vessel-1/resized_imgdata/105. 타망 표류.jpg\n",
      "이미지 저장 완료: /home/elicer/FIshing_vessel-1/resized_imgdata/105. 범장망 표류.jpg\n",
      "이미지 저장 완료: /home/elicer/FIshing_vessel-1/resized_imgdata/106 타망 이동.jpg\n",
      "이미지 저장 완료: /home/elicer/FIshing_vessel-1/resized_imgdata/105. 타망 조업.jpg\n",
      "이미지 저장 완료: /home/elicer/FIshing_vessel-1/resized_imgdata/106. 범장망 이동.jpg\n",
      "이미지 저장 완료: /home/elicer/FIshing_vessel-1/resized_imgdata/106. 범장망 표류.jpg\n",
      "이미지 저장 완료: /home/elicer/FIshing_vessel-1/resized_imgdata/106. 유망 표류.jpg\n",
      "이미지 저장 완료: /home/elicer/FIshing_vessel-1/resized_imgdata/106. 타망 조업.jpg\n",
      "이미지 저장 완료: /home/elicer/FIshing_vessel-1/resized_imgdata/106. 타망 표류.jpg\n",
      "이미지 저장 완료: /home/elicer/FIshing_vessel-1/resized_imgdata/107 타망 이동.jpg\n",
      "이미지 저장 완료: /home/elicer/FIshing_vessel-1/resized_imgdata/107. 범장망 이동.jpg\n",
      "이미지 저장 완료: /home/elicer/FIshing_vessel-1/resized_imgdata/107. 유망 표류.jpg\n",
      "이미지 저장 완료: /home/elicer/FIshing_vessel-1/resized_imgdata/107. 타망 조업.jpg\n",
      "이미지 저장 완료: /home/elicer/FIshing_vessel-1/resized_imgdata/107. 범장망 표류.jpg\n",
      "이미지 저장 완료: /home/elicer/FIshing_vessel-1/resized_imgdata/107. 타망 표류.jpg\n",
      "이미지 저장 완료: /home/elicer/FIshing_vessel-1/resized_imgdata/108 타망 이동.jpg\n",
      "이미지 저장 완료: /home/elicer/FIshing_vessel-1/resized_imgdata/108. 범장망 이동.jpg\n",
      "이미지 저장 완료: /home/elicer/FIshing_vessel-1/resized_imgdata/108. 범장망 표류.jpg\n",
      "이미지 저장 완료: /home/elicer/FIshing_vessel-1/resized_imgdata/108. 유망 표류.jpg\n",
      "이미지 저장 완료: /home/elicer/FIshing_vessel-1/resized_imgdata/108. 타망 조업.jpg\n",
      "이미지 저장 완료: /home/elicer/FIshing_vessel-1/resized_imgdata/108. 타망 표류.jpg\n",
      "이미지 저장 완료: /home/elicer/FIshing_vessel-1/resized_imgdata/109 타망 이동.jpg\n",
      "이미지 저장 완료: /home/elicer/FIshing_vessel-1/resized_imgdata/109. 범장망 이동.jpg\n",
      "이미지 저장 완료: /home/elicer/FIshing_vessel-1/resized_imgdata/109. 유망 표류.jpg\n",
      "이미지 저장 완료: /home/elicer/FIshing_vessel-1/resized_imgdata/109. 범장망 표류.jpg\n",
      "이미지 저장 완료: /home/elicer/FIshing_vessel-1/resized_imgdata/109. 타망 조업.jpg\n",
      "이미지 저장 완료: /home/elicer/FIshing_vessel-1/resized_imgdata/109. 타망 표류.jpg\n",
      "이미지 저장 완료: /home/elicer/FIshing_vessel-1/resized_imgdata/11. 낚시어선 이동.jpg\n",
      "이미지 저장 완료: /home/elicer/FIshing_vessel-1/resized_imgdata/11. 낚시어선 조업.jpg\n",
      "이미지 저장 완료: /home/elicer/FIshing_vessel-1/resized_imgdata/11. 등광조망 이동.jpg\n",
      "이미지 저장 완료: /home/elicer/FIshing_vessel-1/resized_imgdata/11. 등광조망 조업.jpg\n",
      "이미지 저장 완료: /home/elicer/FIshing_vessel-1/resized_imgdata/11. 등광조망 표류.jpg\n",
      "이미지 저장 완료: /home/elicer/FIshing_vessel-1/resized_imgdata/11. 범장망 이동.jpg\n",
      "이미지 저장 완료: /home/elicer/FIshing_vessel-1/resized_imgdata/11. 범장망 조업.jpg\n",
      "이미지 저장 완료: /home/elicer/FIshing_vessel-1/resized_imgdata/11. 범장망 표류.jpg\n",
      "이미지 저장 완료: /home/elicer/FIshing_vessel-1/resized_imgdata/11. 안강망 이동.jpg\n",
      "이미지 저장 완료: /home/elicer/FIshing_vessel-1/resized_imgdata/11. 안강망 조업.jpg\n",
      "이미지 저장 완료: /home/elicer/FIshing_vessel-1/resized_imgdata/11. 연승 이동.jpg\n",
      "이미지 저장 완료: /home/elicer/FIshing_vessel-1/resized_imgdata/11. 유망 이동.jpg\n",
      "이미지 저장 완료: /home/elicer/FIshing_vessel-1/resized_imgdata/11. 연승 표류.jpg\n",
      "이미지 저장 완료: /home/elicer/FIshing_vessel-1/resized_imgdata/11. 유망 표류.jpg\n",
      "이미지 저장 완료: /home/elicer/FIshing_vessel-1/resized_imgdata/11. 유망 조업.jpg\n",
      "이미지 저장 완료: /home/elicer/FIshing_vessel-1/resized_imgdata/11. 저인망 이동.jpg\n",
      "이미지 저장 완료: /home/elicer/FIshing_vessel-1/resized_imgdata/11. 저인망 조업.jpg\n",
      "이미지 저장 완료: /home/elicer/FIshing_vessel-1/resized_imgdata/11. 채낚기 이동.jpg\n",
      "이미지 저장 완료: /home/elicer/FIshing_vessel-1/resized_imgdata/11. 채낚기 표류.jpg\n",
      "이미지 저장 완료: /home/elicer/FIshing_vessel-1/resized_imgdata/11. 타망 이동.jpg\n",
      "이미지 저장 완료: /home/elicer/FIshing_vessel-1/resized_imgdata/11. 타망 조업.jpg\n",
      "이미지 저장 완료: /home/elicer/FIshing_vessel-1/resized_imgdata/11. 타망 표류.jpg\n",
      "이미지 저장 완료: /home/elicer/FIshing_vessel-1/resized_imgdata/11. 통발 이동.jpg\n",
      "이미지 저장 완료: /home/elicer/FIshing_vessel-1/resized_imgdata/11. 통발 표류.jpg\n",
      "이미지 저장 완료: /home/elicer/FIshing_vessel-1/resized_imgdata/110 타망 이동.jpg\n",
      "이미지 저장 완료: /home/elicer/FIshing_vessel-1/resized_imgdata/110. 범장망 이동.jpg\n",
      "이미지 저장 완료: /home/elicer/FIshing_vessel-1/resized_imgdata/110. 범장망 표류.jpg\n",
      "이미지 저장 완료: /home/elicer/FIshing_vessel-1/resized_imgdata/110. 유망 표류.jpg\n",
      "이미지 저장 완료: /home/elicer/FIshing_vessel-1/resized_imgdata/110. 타망 조업.jpg\n",
      "이미지 저장 완료: /home/elicer/FIshing_vessel-1/resized_imgdata/110. 타망 표류.jpg\n",
      "이미지 저장 완료: /home/elicer/FIshing_vessel-1/resized_imgdata/111 타망 이동.jpg\n",
      "이미지 저장 완료: /home/elicer/FIshing_vessel-1/resized_imgdata/111. 범장망 이동.jpg\n",
      "이미지 저장 완료: /home/elicer/FIshing_vessel-1/resized_imgdata/111. 범장망 표류.jpg\n",
      "이미지 저장 완료: /home/elicer/FIshing_vessel-1/resized_imgdata/111. 유망 표류.jpg\n",
      "이미지 저장 완료: /home/elicer/FIshing_vessel-1/resized_imgdata/111. 타망 조업.jpg\n",
      "이미지 저장 완료: /home/elicer/FIshing_vessel-1/resized_imgdata/111. 타망 표류.jpg\n",
      "이미지 저장 완료: /home/elicer/FIshing_vessel-1/resized_imgdata/112 타망 이동.jpg\n",
      "이미지 저장 완료: /home/elicer/FIshing_vessel-1/resized_imgdata/112. 범장망 이동.jpg\n",
      "이미지 저장 완료: /home/elicer/FIshing_vessel-1/resized_imgdata/112. 범장망 표류.jpg\n",
      "이미지 저장 완료: /home/elicer/FIshing_vessel-1/resized_imgdata/112. 유망 표류.jpg\n",
      "이미지 저장 완료: /home/elicer/FIshing_vessel-1/resized_imgdata/112. 타망 조업.jpg\n",
      "이미지 저장 완료: /home/elicer/FIshing_vessel-1/resized_imgdata/112. 타망 표류.jpg\n",
      "이미지 저장 완료: /home/elicer/FIshing_vessel-1/resized_imgdata/113 타망 이동.jpg\n",
      "이미지 저장 완료: /home/elicer/FIshing_vessel-1/resized_imgdata/113. 범장망 이동.jpg\n",
      "이미지 저장 완료: /home/elicer/FIshing_vessel-1/resized_imgdata/113. 범장망 표류.jpg\n",
      "이미지 저장 완료: /home/elicer/FIshing_vessel-1/resized_imgdata/113. 유망 표류.jpg\n",
      "이미지 저장 완료: /home/elicer/FIshing_vessel-1/resized_imgdata/113. 타망 표류.jpg\n",
      "이미지 저장 완료: /home/elicer/FIshing_vessel-1/resized_imgdata/113. 타망 조업.jpg\n",
      "이미지 저장 완료: /home/elicer/FIshing_vessel-1/resized_imgdata/114 타망 이동.jpg\n",
      "이미지 저장 완료: /home/elicer/FIshing_vessel-1/resized_imgdata/114. 범장망 표류.jpg\n",
      "이미지 저장 완료: /home/elicer/FIshing_vessel-1/resized_imgdata/114. 유망 표류.jpg\n",
      "이미지 저장 완료: /home/elicer/FIshing_vessel-1/resized_imgdata/114. 타망 조업.jpg\n",
      "이미지 저장 완료: /home/elicer/FIshing_vessel-1/resized_imgdata/114. 타망 표류.jpg\n",
      "이미지 저장 완료: /home/elicer/FIshing_vessel-1/resized_imgdata/115 타망 이동.jpg\n",
      "이미지 저장 완료: /home/elicer/FIshing_vessel-1/resized_imgdata/115. 범장망 표류.jpg\n",
      "이미지 저장 완료: /home/elicer/FIshing_vessel-1/resized_imgdata/115. 유망 표류.jpg\n",
      "이미지 저장 완료: /home/elicer/FIshing_vessel-1/resized_imgdata/115. 타망 조업.jpg\n",
      "이미지 저장 완료: /home/elicer/FIshing_vessel-1/resized_imgdata/115. 타망 표류.jpg\n",
      "이미지 저장 완료: /home/elicer/FIshing_vessel-1/resized_imgdata/116 타망 이동.jpg\n",
      "이미지 저장 완료: /home/elicer/FIshing_vessel-1/resized_imgdata/116. 유망 표류.jpg\n",
      "이미지 저장 완료: /home/elicer/FIshing_vessel-1/resized_imgdata/116. 타망 조업.jpg\n",
      "이미지 저장 완료: /home/elicer/FIshing_vessel-1/resized_imgdata/116. 타망 표류.jpg\n",
      "이미지 저장 완료: /home/elicer/FIshing_vessel-1/resized_imgdata/116.. 범장망 표류.jpg\n",
      "이미지 저장 완료: /home/elicer/FIshing_vessel-1/resized_imgdata/117 타망 이동.jpg\n",
      "이미지 저장 완료: /home/elicer/FIshing_vessel-1/resized_imgdata/117. 범장망 표류.jpg\n",
      "이미지 저장 완료: /home/elicer/FIshing_vessel-1/resized_imgdata/117. 타망 조업.jpg\n",
      "이미지 저장 완료: /home/elicer/FIshing_vessel-1/resized_imgdata/117. 유망 표류.jpg\n",
      "이미지 저장 완료: /home/elicer/FIshing_vessel-1/resized_imgdata/118 타망 이동.jpg\n",
      "이미지 저장 완료: /home/elicer/FIshing_vessel-1/resized_imgdata/117. 타망 표류.jpg\n",
      "이미지 저장 완료: /home/elicer/FIshing_vessel-1/resized_imgdata/118. 유망 표류.jpg\n",
      "이미지 저장 완료: /home/elicer/FIshing_vessel-1/resized_imgdata/118. 범장망 표류.jpg\n",
      "이미지 저장 완료: /home/elicer/FIshing_vessel-1/resized_imgdata/118. 타망 조업.jpg\n",
      "이미지 저장 완료: /home/elicer/FIshing_vessel-1/resized_imgdata/118. 타망 표류.jpg\n",
      "이미지 저장 완료: /home/elicer/FIshing_vessel-1/resized_imgdata/119 타망 이동.jpg\n",
      "이미지 저장 완료: /home/elicer/FIshing_vessel-1/resized_imgdata/119. 범장망 표류.jpg\n",
      "이미지 저장 완료: /home/elicer/FIshing_vessel-1/resized_imgdata/119. 유망 표류.jpg\n",
      "이미지 저장 완료: /home/elicer/FIshing_vessel-1/resized_imgdata/119. 타망 표류.jpg\n",
      "이미지 저장 완료: /home/elicer/FIshing_vessel-1/resized_imgdata/12 등광조망 조업.jpg\n",
      "이미지 저장 완료: /home/elicer/FIshing_vessel-1/resized_imgdata/12. 낚시어선 조업.jpg\n",
      "이미지 저장 완료: /home/elicer/FIshing_vessel-1/resized_imgdata/12. 등광조망 이동.jpg\n",
      "이미지 저장 완료: /home/elicer/FIshing_vessel-1/resized_imgdata/12. 등광조망 표류.jpg\n",
      "이미지 저장 완료: /home/elicer/FIshing_vessel-1/resized_imgdata/12. 범장망 이동.jpg\n",
      "이미지 저장 완료: /home/elicer/FIshing_vessel-1/resized_imgdata/12. 범장망 조업.jpg\n",
      "이미지 저장 완료: /home/elicer/FIshing_vessel-1/resized_imgdata/12. 범장망 표류.jpg\n",
      "이미지 저장 완료: /home/elicer/FIshing_vessel-1/resized_imgdata/12. 안강망 이동.jpg\n",
      "이미지 저장 완료: /home/elicer/FIshing_vessel-1/resized_imgdata/12. 안강망 조업.jpg\n",
      "이미지 저장 완료: /home/elicer/FIshing_vessel-1/resized_imgdata/12. 안강망 표류.jpg\n",
      "이미지 저장 완료: /home/elicer/FIshing_vessel-1/resized_imgdata/12. 연승 이동.jpg\n",
      "이미지 저장 완료: /home/elicer/FIshing_vessel-1/resized_imgdata/12. 연승 표류.jpg\n",
      "이미지 저장 완료: /home/elicer/FIshing_vessel-1/resized_imgdata/12. 유망 이동.jpg\n",
      "이미지 저장 완료: /home/elicer/FIshing_vessel-1/resized_imgdata/12. 유망 조업.jpg\n",
      "이미지 저장 완료: /home/elicer/FIshing_vessel-1/resized_imgdata/12. 유망 표류.jpg\n",
      "이미지 저장 완료: /home/elicer/FIshing_vessel-1/resized_imgdata/12. 저인망 이동.jpg\n",
      "이미지 저장 완료: /home/elicer/FIshing_vessel-1/resized_imgdata/12. 저인망 조업.jpg\n",
      "이미지 저장 완료: /home/elicer/FIshing_vessel-1/resized_imgdata/12. 채낚기 이동.jpg\n",
      "이미지 저장 완료: /home/elicer/FIshing_vessel-1/resized_imgdata/12. 타망 이동.jpg\n",
      "이미지 저장 완료: /home/elicer/FIshing_vessel-1/resized_imgdata/12. 타망 조업.jpg\n",
      "이미지 저장 완료: /home/elicer/FIshing_vessel-1/resized_imgdata/12. 타망 표류.jpg\n",
      "이미지 저장 완료: /home/elicer/FIshing_vessel-1/resized_imgdata/12. 통발 이동.jpg\n",
      "이미지 저장 완료: /home/elicer/FIshing_vessel-1/resized_imgdata/120 타망 이동.jpg\n",
      "이미지 저장 완료: /home/elicer/FIshing_vessel-1/resized_imgdata/120. 범장망 표류.jpg\n",
      "이미지 저장 완료: /home/elicer/FIshing_vessel-1/resized_imgdata/120. 유망 표류.jpg\n",
      "이미지 저장 완료: /home/elicer/FIshing_vessel-1/resized_imgdata/120. 타망 조업.jpg\n",
      "이미지 저장 완료: /home/elicer/FIshing_vessel-1/resized_imgdata/120. 타망 표류.jpg\n",
      "이미지 저장 완료: /home/elicer/FIshing_vessel-1/resized_imgdata/121 타망 이동.jpg\n",
      "이미지 저장 완료: /home/elicer/FIshing_vessel-1/resized_imgdata/121. 범장망 표류.jpg\n",
      "이미지 저장 완료: /home/elicer/FIshing_vessel-1/resized_imgdata/121. 타망 조업.jpg\n",
      "이미지 저장 완료: /home/elicer/FIshing_vessel-1/resized_imgdata/121. 유망 표류.jpg\n",
      "이미지 저장 완료: /home/elicer/FIshing_vessel-1/resized_imgdata/121. 타망 표류.jpg\n",
      "이미지 저장 완료: /home/elicer/FIshing_vessel-1/resized_imgdata/122 타망 이동.jpg\n",
      "이미지 저장 완료: /home/elicer/FIshing_vessel-1/resized_imgdata/122. 범장망 표류.jpg\n",
      "이미지 저장 완료: /home/elicer/FIshing_vessel-1/resized_imgdata/122. 유망 표류.jpg\n",
      "이미지 저장 완료: /home/elicer/FIshing_vessel-1/resized_imgdata/122. 타망 조업.jpg\n",
      "이미지 저장 완료: /home/elicer/FIshing_vessel-1/resized_imgdata/122. 타망 표류.jpg\n",
      "이미지 저장 완료: /home/elicer/FIshing_vessel-1/resized_imgdata/123 타망 이동.jpg\n",
      "이미지 저장 완료: /home/elicer/FIshing_vessel-1/resized_imgdata/123. 범장망 표류.jpg\n",
      "이미지 저장 완료: /home/elicer/FIshing_vessel-1/resized_imgdata/123. 유망 표류.jpg\n",
      "이미지 저장 완료: /home/elicer/FIshing_vessel-1/resized_imgdata/123. 타망 조업.jpg\n",
      "이미지 저장 완료: /home/elicer/FIshing_vessel-1/resized_imgdata/123. 타망 표류.jpg\n",
      "이미지 저장 완료: /home/elicer/FIshing_vessel-1/resized_imgdata/124. 범장망 표류.jpg\n",
      "이미지 저장 완료: /home/elicer/FIshing_vessel-1/resized_imgdata/124 타망 이동.jpg\n",
      "이미지 저장 완료: /home/elicer/FIshing_vessel-1/resized_imgdata/124. 유망 표류.jpg\n",
      "이미지 저장 완료: /home/elicer/FIshing_vessel-1/resized_imgdata/124. 타망 표류.jpg\n",
      "이미지 저장 완료: /home/elicer/FIshing_vessel-1/resized_imgdata/124. 타망 조업.jpg\n",
      "이미지 저장 완료: /home/elicer/FIshing_vessel-1/resized_imgdata/125 타망 이동.jpg\n",
      "이미지 저장 완료: /home/elicer/FIshing_vessel-1/resized_imgdata/125. 범장망 표류.jpg\n",
      "이미지 저장 완료: /home/elicer/FIshing_vessel-1/resized_imgdata/125. 유망 표류.jpg\n",
      "이미지 저장 완료: /home/elicer/FIshing_vessel-1/resized_imgdata/125. 타망 조업.jpg\n",
      "이미지 저장 완료: /home/elicer/FIshing_vessel-1/resized_imgdata/125. 타망 표류.jpg\n",
      "이미지 저장 완료: /home/elicer/FIshing_vessel-1/resized_imgdata/126 타망 이동.jpg\n",
      "이미지 저장 완료: /home/elicer/FIshing_vessel-1/resized_imgdata/126. 범장망 표류.jpg\n",
      "이미지 저장 완료: /home/elicer/FIshing_vessel-1/resized_imgdata/127 타망 이동.jpg\n",
      "이미지 저장 완료: /home/elicer/FIshing_vessel-1/resized_imgdata/126. 유망 표류.jpg\n",
      "이미지 저장 완료: /home/elicer/FIshing_vessel-1/resized_imgdata/127. 범장망 표류.jpg\n",
      "이미지 저장 완료: /home/elicer/FIshing_vessel-1/resized_imgdata/126. 타망 조업.jpg\n",
      "이미지 저장 완료: /home/elicer/FIshing_vessel-1/resized_imgdata/127. 유망 표류.jpg\n",
      "이미지 저장 완료: /home/elicer/FIshing_vessel-1/resized_imgdata/127. 타망 조업.jpg\n",
      "이미지 저장 완료: /home/elicer/FIshing_vessel-1/resized_imgdata/128 타망 이동.jpg\n",
      "이미지 저장 완료: /home/elicer/FIshing_vessel-1/resized_imgdata/128. 범장망 표류.jpg\n",
      "이미지 저장 완료: /home/elicer/FIshing_vessel-1/resized_imgdata/128. 유망 표류.jpg\n",
      "이미지 저장 완료: /home/elicer/FIshing_vessel-1/resized_imgdata/128. 타망 조업.jpg\n",
      "이미지 저장 완료: /home/elicer/FIshing_vessel-1/resized_imgdata/129 타망 이동.jpg\n",
      "이미지 저장 완료: /home/elicer/FIshing_vessel-1/resized_imgdata/129. 범장망 표류.jpg\n",
      "이미지 저장 완료: /home/elicer/FIshing_vessel-1/resized_imgdata/129. 유망 표류.jpg\n",
      "이미지 저장 완료: /home/elicer/FIshing_vessel-1/resized_imgdata/129. 타망 조업.jpg\n",
      "이미지 저장 완료: /home/elicer/FIshing_vessel-1/resized_imgdata/13. 낚시어선 이동.jpg\n",
      "이미지 저장 완료: /home/elicer/FIshing_vessel-1/resized_imgdata/13. 낚시어선 조업.jpg\n",
      "이미지 저장 완료: /home/elicer/FIshing_vessel-1/resized_imgdata/13. 등광조망 이동.jpg\n",
      "이미지 저장 완료: /home/elicer/FIshing_vessel-1/resized_imgdata/13. 범장망 표류.jpg\n",
      "이미지 저장 완료: /home/elicer/FIshing_vessel-1/resized_imgdata/13. 범장망 이동.jpg\n",
      "이미지 저장 완료: /home/elicer/FIshing_vessel-1/resized_imgdata/13. 등광조망 조업.jpg\n",
      "이미지 저장 완료: /home/elicer/FIshing_vessel-1/resized_imgdata/13. 범장망 조업.jpg\n",
      "이미지 저장 완료: /home/elicer/FIshing_vessel-1/resized_imgdata/13. 안강망 이동.jpg\n",
      "이미지 저장 완료: /home/elicer/FIshing_vessel-1/resized_imgdata/13. 안강망 조업.jpg\n",
      "이미지 저장 완료: /home/elicer/FIshing_vessel-1/resized_imgdata/13. 안강망 표류.jpg\n",
      "이미지 저장 완료: /home/elicer/FIshing_vessel-1/resized_imgdata/13. 연승 이동.jpg\n",
      "이미지 저장 완료: /home/elicer/FIshing_vessel-1/resized_imgdata/13. 연승 표류.jpg\n",
      "이미지 저장 완료: /home/elicer/FIshing_vessel-1/resized_imgdata/13. 유망 이동.jpg\n",
      "이미지 저장 완료: /home/elicer/FIshing_vessel-1/resized_imgdata/13. 유망 표류.jpg\n",
      "이미지 저장 완료: /home/elicer/FIshing_vessel-1/resized_imgdata/13. 유망 조업.jpg\n",
      "이미지 저장 완료: /home/elicer/FIshing_vessel-1/resized_imgdata/13. 저인망 이동.jpg\n",
      "이미지 저장 완료: /home/elicer/FIshing_vessel-1/resized_imgdata/13. 저인망 조업.jpg\n",
      "이미지 저장 완료: /home/elicer/FIshing_vessel-1/resized_imgdata/13. 채낚기 표류.jpg\n",
      "이미지 저장 완료: /home/elicer/FIshing_vessel-1/resized_imgdata/13. 채낚기 이동.jpg\n",
      "이미지 저장 완료: /home/elicer/FIshing_vessel-1/resized_imgdata/13. 타망 이동.jpg\n",
      "이미지 저장 완료: /home/elicer/FIshing_vessel-1/resized_imgdata/13. 타망 조업.jpg\n",
      "이미지 저장 완료: /home/elicer/FIshing_vessel-1/resized_imgdata/130 타망 이동.png\n",
      "이미지 저장 완료: /home/elicer/FIshing_vessel-1/resized_imgdata/13. 타망 표류.jpg\n",
      "이미지 저장 완료: /home/elicer/FIshing_vessel-1/resized_imgdata/13. 통발 이동.jpg\n",
      "이미지 저장 완료: /home/elicer/FIshing_vessel-1/resized_imgdata/130. 범장망 표류.jpg\n",
      "이미지 저장 완료: /home/elicer/FIshing_vessel-1/resized_imgdata/131. 범장망 표류.jpg\n",
      "이미지 저장 완료: /home/elicer/FIshing_vessel-1/resized_imgdata/130. 타망 조업.jpg\n",
      "이미지 저장 완료: /home/elicer/FIshing_vessel-1/resized_imgdata/131. 타망 이동.jpg\n",
      "이미지 저장 완료: /home/elicer/FIshing_vessel-1/resized_imgdata/131. 타망 조업.jpg\n",
      "이미지 저장 완료: /home/elicer/FIshing_vessel-1/resized_imgdata/132. 범장망 표류.jpg\n",
      "이미지 저장 완료: /home/elicer/FIshing_vessel-1/resized_imgdata/132. 타망 이동.jpg\n",
      "이미지 저장 완료: /home/elicer/FIshing_vessel-1/resized_imgdata/132. 타망 조업.jpg\n",
      "이미지 저장 완료: /home/elicer/FIshing_vessel-1/resized_imgdata/133. 범장망 표류.jpg\n",
      "이미지 저장 완료: /home/elicer/FIshing_vessel-1/resized_imgdata/133. 타망 조업.jpg\n",
      "이미지 저장 완료: /home/elicer/FIshing_vessel-1/resized_imgdata/133. 타망 이동.jpg\n",
      "이미지 저장 완료: /home/elicer/FIshing_vessel-1/resized_imgdata/134. 범장망 표류.jpg\n",
      "이미지 저장 완료: /home/elicer/FIshing_vessel-1/resized_imgdata/134. 타망 이동.jpg\n",
      "이미지 저장 완료: /home/elicer/FIshing_vessel-1/resized_imgdata/135. 범장망 표류.jpg\n",
      "이미지 저장 완료: /home/elicer/FIshing_vessel-1/resized_imgdata/135. 타망 이동.jpg\n",
      "이미지 저장 완료: /home/elicer/FIshing_vessel-1/resized_imgdata/136. 범장망 표류.jpg\n",
      "이미지 저장 완료: /home/elicer/FIshing_vessel-1/resized_imgdata/137. 타망 이동.jpg\n",
      "이미지 저장 완료: /home/elicer/FIshing_vessel-1/resized_imgdata/137. 범장망 표류.jpg\n",
      "이미지 저장 완료: /home/elicer/FIshing_vessel-1/resized_imgdata/136. 타망 이동.jpg\n",
      "이미지 저장 완료: /home/elicer/FIshing_vessel-1/resized_imgdata/138. 범장망 표류.jpg\n",
      "이미지 저장 완료: /home/elicer/FIshing_vessel-1/resized_imgdata/138. 타망 이동.jpg\n",
      "이미지 저장 완료: /home/elicer/FIshing_vessel-1/resized_imgdata/139. 범장망 표류.jpg\n",
      "이미지 저장 완료: /home/elicer/FIshing_vessel-1/resized_imgdata/139. 타망 이동.jpg\n",
      "이미지 저장 완료: /home/elicer/FIshing_vessel-1/resized_imgdata/14. 낚시어선 이동.jpg\n",
      "이미지 저장 완료: /home/elicer/FIshing_vessel-1/resized_imgdata/14. 낚시어선 조업.jpg\n",
      "이미지 저장 완료: /home/elicer/FIshing_vessel-1/resized_imgdata/14. 등광조망 이동.jpg\n",
      "이미지 저장 완료: /home/elicer/FIshing_vessel-1/resized_imgdata/14. 등광조망 표류.jpg\n",
      "이미지 저장 완료: /home/elicer/FIshing_vessel-1/resized_imgdata/14. 등광조망 조업.jpg\n",
      "이미지 저장 완료: /home/elicer/FIshing_vessel-1/resized_imgdata/14. 범장망 이동.jpg\n",
      "이미지 저장 완료: /home/elicer/FIshing_vessel-1/resized_imgdata/14. 범장망 조업.jpg\n",
      "이미지 저장 완료: /home/elicer/FIshing_vessel-1/resized_imgdata/14. 범장망 표류.jpg\n",
      "이미지 저장 완료: /home/elicer/FIshing_vessel-1/resized_imgdata/14. 안강망 이동.jpg\n",
      "이미지 저장 완료: /home/elicer/FIshing_vessel-1/resized_imgdata/14. 안강망 조업.jpg\n",
      "이미지 저장 완료: /home/elicer/FIshing_vessel-1/resized_imgdata/14. 안강망 표류.jpg\n",
      "이미지 저장 완료: /home/elicer/FIshing_vessel-1/resized_imgdata/14. 연승 이동.jpg\n",
      "이미지 저장 완료: /home/elicer/FIshing_vessel-1/resized_imgdata/14. 유망 이동.jpg\n",
      "이미지 저장 완료: /home/elicer/FIshing_vessel-1/resized_imgdata/14. 유망 표류.jpg\n",
      "이미지 저장 완료: /home/elicer/FIshing_vessel-1/resized_imgdata/14. 연승 표류.png\n",
      "이미지 저장 완료: /home/elicer/FIshing_vessel-1/resized_imgdata/14. 저인망 이동.jpg\n",
      "이미지 저장 완료: /home/elicer/FIshing_vessel-1/resized_imgdata/14. 저인망 조업.jpg\n",
      "이미지 저장 완료: /home/elicer/FIshing_vessel-1/resized_imgdata/14. 채낚기 이동.jpg\n",
      "이미지 저장 완료: /home/elicer/FIshing_vessel-1/resized_imgdata/14. 채낚기 표류.jpg\n",
      "이미지 저장 완료: /home/elicer/FIshing_vessel-1/resized_imgdata/14. 타망 이동.jpg\n",
      "이미지 저장 완료: /home/elicer/FIshing_vessel-1/resized_imgdata/14. 타망 조업.jpg\n",
      "이미지 저장 완료: /home/elicer/FIshing_vessel-1/resized_imgdata/14. 타망 표류.jpg\n",
      "이미지 저장 완료: /home/elicer/FIshing_vessel-1/resized_imgdata/14. 통발 이동.jpg\n",
      "이미지 저장 완료: /home/elicer/FIshing_vessel-1/resized_imgdata/140. 범장망 표류.jpg\n",
      "이미지 저장 완료: /home/elicer/FIshing_vessel-1/resized_imgdata/141. 범장망 표류.jpg\n",
      "이미지 저장 완료: /home/elicer/FIshing_vessel-1/resized_imgdata/140. 타망 이동.jpg\n",
      "이미지 저장 완료: /home/elicer/FIshing_vessel-1/resized_imgdata/141. 타망 이동.jpg\n",
      "이미지 저장 완료: /home/elicer/FIshing_vessel-1/resized_imgdata/142. 범장망 표류.jpg\n",
      "이미지 저장 완료: /home/elicer/FIshing_vessel-1/resized_imgdata/142. 타망 이동.jpg\n",
      "이미지 저장 완료: /home/elicer/FIshing_vessel-1/resized_imgdata/143. 범장망 표류.jpg\n",
      "이미지 저장 완료: /home/elicer/FIshing_vessel-1/resized_imgdata/143. 타망 이동.jpg\n",
      "이미지 저장 완료: /home/elicer/FIshing_vessel-1/resized_imgdata/144. 범장망 표류.jpg\n",
      "이미지 저장 완료: /home/elicer/FIshing_vessel-1/resized_imgdata/144. 타망 이동.jpg\n",
      "이미지 저장 완료: /home/elicer/FIshing_vessel-1/resized_imgdata/145. 범장망 표류.jpg\n",
      "이미지 저장 완료: /home/elicer/FIshing_vessel-1/resized_imgdata/145. 타망 이동.jpg\n",
      "이미지 저장 완료: /home/elicer/FIshing_vessel-1/resized_imgdata/146. 범장망 표류.jpg\n",
      "이미지 저장 완료: /home/elicer/FIshing_vessel-1/resized_imgdata/146. 타망 이동.jpg\n",
      "이미지 저장 완료: /home/elicer/FIshing_vessel-1/resized_imgdata/147. 범장망 표류.jpg\n",
      "이미지 저장 완료: /home/elicer/FIshing_vessel-1/resized_imgdata/147. 타망 이동.jpg\n",
      "이미지 저장 완료: /home/elicer/FIshing_vessel-1/resized_imgdata/148. 범장망 표류.jpg\n",
      "이미지 저장 완료: /home/elicer/FIshing_vessel-1/resized_imgdata/148. 타망 이동.jpg\n",
      "이미지 저장 완료: /home/elicer/FIshing_vessel-1/resized_imgdata/149. 범장망 표류.jpg\n",
      "이미지 저장 완료: /home/elicer/FIshing_vessel-1/resized_imgdata/15. 낚시어선 이동.jpg\n",
      "이미지 저장 완료: /home/elicer/FIshing_vessel-1/resized_imgdata/15. 낚시어선 조업.jpg\n",
      "이미지 저장 완료: /home/elicer/FIshing_vessel-1/resized_imgdata/15. 등광조망 이동.jpg\n",
      "이미지 저장 완료: /home/elicer/FIshing_vessel-1/resized_imgdata/149. 타망 이동.jpg\n",
      "이미지 저장 완료: /home/elicer/FIshing_vessel-1/resized_imgdata/15. 등광조망 표류.jpg\n",
      "이미지 저장 완료: /home/elicer/FIshing_vessel-1/resized_imgdata/15. 등광조망 조업.png\n",
      "이미지 저장 완료: /home/elicer/FIshing_vessel-1/resized_imgdata/15. 범장망 이동.jpg\n",
      "이미지 저장 완료: /home/elicer/FIshing_vessel-1/resized_imgdata/15. 범장망 조업.jpg\n",
      "이미지 저장 완료: /home/elicer/FIshing_vessel-1/resized_imgdata/15. 범장망 표류.jpg\n",
      "이미지 저장 완료: /home/elicer/FIshing_vessel-1/resized_imgdata/15. 안강망 이동.jpg\n",
      "이미지 저장 완료: /home/elicer/FIshing_vessel-1/resized_imgdata/15. 안강망 조업.jpg\n",
      "이미지 저장 완료: /home/elicer/FIshing_vessel-1/resized_imgdata/15. 안강망 표류.jpg\n",
      "이미지 저장 완료: /home/elicer/FIshing_vessel-1/resized_imgdata/15. 연승 이동.jpg\n",
      "이미지 저장 완료: /home/elicer/FIshing_vessel-1/resized_imgdata/15. 연승 표류.jpg\n",
      "이미지 저장 완료: /home/elicer/FIshing_vessel-1/resized_imgdata/15. 유망 이동.jpg\n",
      "이미지 저장 완료: /home/elicer/FIshing_vessel-1/resized_imgdata/15. 유망 조업.jpg\n",
      "이미지 저장 완료: /home/elicer/FIshing_vessel-1/resized_imgdata/15. 유망 표류.jpg\n",
      "이미지 저장 완료: /home/elicer/FIshing_vessel-1/resized_imgdata/15. 저인망 조업.jpg\n",
      "이미지 저장 완료: /home/elicer/FIshing_vessel-1/resized_imgdata/15. 채낚기 이동.jpg\n",
      "이미지 저장 완료: /home/elicer/FIshing_vessel-1/resized_imgdata/15. 채낚기 표류.jpg\n",
      "이미지 저장 완료: /home/elicer/FIshing_vessel-1/resized_imgdata/15. 타망 이동.jpg\n",
      "이미지 저장 완료: /home/elicer/FIshing_vessel-1/resized_imgdata/150. 타망 이동.jpg\n",
      "이미지 저장 완료: /home/elicer/FIshing_vessel-1/resized_imgdata/150. 범장망 표류.jpg\n",
      "이미지 저장 완료: /home/elicer/FIshing_vessel-1/resized_imgdata/15. 타망 표류.jpg\n",
      "이미지 저장 완료: /home/elicer/FIshing_vessel-1/resized_imgdata/15. 타망 조업.jpg\n",
      "이미지 저장 완료: /home/elicer/FIshing_vessel-1/resized_imgdata/151. 범장망 표류.jpg\n",
      "이미지 저장 완료: /home/elicer/FIshing_vessel-1/resized_imgdata/151. 타망 이동.jpg\n",
      "이미지 저장 완료: /home/elicer/FIshing_vessel-1/resized_imgdata/152. 범장망 표류.jpg\n",
      "이미지 저장 완료: /home/elicer/FIshing_vessel-1/resized_imgdata/152. 타망 이동.jpg\n",
      "이미지 저장 완료: /home/elicer/FIshing_vessel-1/resized_imgdata/153. 범장망 표류.jpg\n",
      "이미지 저장 완료: /home/elicer/FIshing_vessel-1/resized_imgdata/154. 범장망 표류.jpg\n",
      "이미지 저장 완료: /home/elicer/FIshing_vessel-1/resized_imgdata/153. 타망 이동.jpg\n",
      "이미지 저장 완료: /home/elicer/FIshing_vessel-1/resized_imgdata/154. 타망 이동.jpg\n",
      "이미지 저장 완료: /home/elicer/FIshing_vessel-1/resized_imgdata/155. 타망 이동.jpg\n",
      "이미지 저장 완료: /home/elicer/FIshing_vessel-1/resized_imgdata/155. 범장망 표류.jpg\n",
      "이미지 저장 완료: /home/elicer/FIshing_vessel-1/resized_imgdata/156. 범장망 표류.jpg\n",
      "이미지 저장 완료: /home/elicer/FIshing_vessel-1/resized_imgdata/156. 타망 이동.jpg\n",
      "이미지 저장 완료: /home/elicer/FIshing_vessel-1/resized_imgdata/157. 범장망 표류.jpg\n",
      "이미지 저장 완료: /home/elicer/FIshing_vessel-1/resized_imgdata/157. 타망 이동.jpg\n",
      "이미지 저장 완료: /home/elicer/FIshing_vessel-1/resized_imgdata/158. 범장망 표류.jpg\n",
      "이미지 저장 완료: /home/elicer/FIshing_vessel-1/resized_imgdata/158. 타망 이동.jpg\n",
      "이미지 저장 완료: /home/elicer/FIshing_vessel-1/resized_imgdata/159. 범장망 표류.jpg\n",
      "이미지 저장 완료: /home/elicer/FIshing_vessel-1/resized_imgdata/16. 낚시어선 조업.jpg\n",
      "이미지 저장 완료: /home/elicer/FIshing_vessel-1/resized_imgdata/16. 낚시어선 이동.jpg\n",
      "이미지 저장 완료: /home/elicer/FIshing_vessel-1/resized_imgdata/159. 타망 이동.jpg\n",
      "이미지 저장 완료: /home/elicer/FIshing_vessel-1/resized_imgdata/16. 등광조망 이동.jpg\n",
      "이미지 저장 완료: /home/elicer/FIshing_vessel-1/resized_imgdata/16. 등광조망 조업.jpg\n",
      "이미지 저장 완료: /home/elicer/FIshing_vessel-1/resized_imgdata/16. 등광조망 표류.jpg\n",
      "이미지 저장 완료: /home/elicer/FIshing_vessel-1/resized_imgdata/16. 범장망 이동.jpg\n",
      "이미지 저장 완료: /home/elicer/FIshing_vessel-1/resized_imgdata/16. 범장망 조업.jpg\n",
      "이미지 저장 완료: /home/elicer/FIshing_vessel-1/resized_imgdata/16. 범장망 표류.jpg\n",
      "이미지 저장 완료: /home/elicer/FIshing_vessel-1/resized_imgdata/16. 안강망 이동.jpg\n",
      "이미지 저장 완료: /home/elicer/FIshing_vessel-1/resized_imgdata/16. 안강망 조업.jpg\n",
      "이미지 저장 완료: /home/elicer/FIshing_vessel-1/resized_imgdata/16. 연승 이동.jpg\n",
      "이미지 저장 완료: /home/elicer/FIshing_vessel-1/resized_imgdata/16. 안강망 표류.jpg\n",
      "이미지 저장 완료: /home/elicer/FIshing_vessel-1/resized_imgdata/16. 유망 조업.jpg\n",
      "이미지 저장 완료: /home/elicer/FIshing_vessel-1/resized_imgdata/16. 연승 표류.jpg\n",
      "이미지 저장 완료: /home/elicer/FIshing_vessel-1/resized_imgdata/16. 유망 표류.jpg\n",
      "이미지 저장 완료: /home/elicer/FIshing_vessel-1/resized_imgdata/16. 저인망 이동.jpg\n",
      "이미지 저장 완료: /home/elicer/FIshing_vessel-1/resized_imgdata/16. 저인망 조업.jpg\n",
      "이미지 저장 완료: /home/elicer/FIshing_vessel-1/resized_imgdata/16. 채낚기 이동.jpg\n",
      "이미지 저장 완료: /home/elicer/FIshing_vessel-1/resized_imgdata/16. 채낚기 표류.jpg\n",
      "이미지 저장 완료: /home/elicer/FIshing_vessel-1/resized_imgdata/16. 타망 이동.jpg\n",
      "이미지 저장 완료: /home/elicer/FIshing_vessel-1/resized_imgdata/16. 타망 조업.jpg\n",
      "이미지 저장 완료: /home/elicer/FIshing_vessel-1/resized_imgdata/16. 타망 표류.jpg\n",
      "이미지 저장 완료: /home/elicer/FIshing_vessel-1/resized_imgdata/16. 통발 이동.jpg\n",
      "이미지 저장 완료: /home/elicer/FIshing_vessel-1/resized_imgdata/160. 범장망 표류.jpg\n",
      "이미지 저장 완료: /home/elicer/FIshing_vessel-1/resized_imgdata/161. 범장망 표류.jpg\n",
      "이미지 저장 완료: /home/elicer/FIshing_vessel-1/resized_imgdata/160. 타망 이동.jpg\n",
      "이미지 저장 완료: /home/elicer/FIshing_vessel-1/resized_imgdata/161. 타망 이동.jpg\n",
      "이미지 저장 완료: /home/elicer/FIshing_vessel-1/resized_imgdata/162. 범장망 표류.jpg\n",
      "이미지 저장 완료: /home/elicer/FIshing_vessel-1/resized_imgdata/163. 범장망 표류.jpg\n",
      "이미지 저장 완료: /home/elicer/FIshing_vessel-1/resized_imgdata/163. 타망 이동.jpg\n",
      "이미지 저장 완료: /home/elicer/FIshing_vessel-1/resized_imgdata/164. 범장망 표류.jpg\n",
      "이미지 저장 완료: /home/elicer/FIshing_vessel-1/resized_imgdata/164. 타망 이동.jpg\n",
      "이미지 저장 완료: /home/elicer/FIshing_vessel-1/resized_imgdata/165. 범장망 표류.jpg\n",
      "이미지 저장 완료: /home/elicer/FIshing_vessel-1/resized_imgdata/165. 타망 이동.jpg\n",
      "이미지 저장 완료: /home/elicer/FIshing_vessel-1/resized_imgdata/166. 범장망 표류.jpg\n",
      "이미지 저장 완료: /home/elicer/FIshing_vessel-1/resized_imgdata/166. 타망 이동.jpg\n",
      "이미지 저장 완료: /home/elicer/FIshing_vessel-1/resized_imgdata/167. 범장망 표류.jpg\n",
      "이미지 저장 완료: /home/elicer/FIshing_vessel-1/resized_imgdata/167. 타망 이동.jpg\n",
      "이미지 저장 완료: /home/elicer/FIshing_vessel-1/resized_imgdata/168. 범장망 표류.jpg\n",
      "이미지 저장 완료: /home/elicer/FIshing_vessel-1/resized_imgdata/168. 타망 이동.jpg\n",
      "이미지 저장 완료: /home/elicer/FIshing_vessel-1/resized_imgdata/169. 범장망 표류.jpg\n",
      "이미지 저장 완료: /home/elicer/FIshing_vessel-1/resized_imgdata/17. 낚시어선 이동.jpg\n",
      "이미지 저장 완료: /home/elicer/FIshing_vessel-1/resized_imgdata/17. 낚시어선 조업.jpg\n",
      "이미지 저장 완료: /home/elicer/FIshing_vessel-1/resized_imgdata/17. 등광조망 이동.jpg\n",
      "이미지 저장 완료: /home/elicer/FIshing_vessel-1/resized_imgdata/17. 등광조망 조업.jpg\n",
      "이미지 저장 완료: /home/elicer/FIshing_vessel-1/resized_imgdata/17. 등광조망 표류.jpg\n",
      "이미지 저장 완료: /home/elicer/FIshing_vessel-1/resized_imgdata/17. 범장망 이동.jpg\n",
      "이미지 저장 완료: /home/elicer/FIshing_vessel-1/resized_imgdata/17. 범장망 조업.jpg\n",
      "이미지 저장 완료: /home/elicer/FIshing_vessel-1/resized_imgdata/17. 범장망 표류.jpg\n",
      "이미지 저장 완료: /home/elicer/FIshing_vessel-1/resized_imgdata/17. 안강망 이동.jpg\n",
      "이미지 저장 완료: /home/elicer/FIshing_vessel-1/resized_imgdata/17. 연승 이동.jpg\n",
      "이미지 저장 완료: /home/elicer/FIshing_vessel-1/resized_imgdata/17. 유망 조업.jpg\n",
      "이미지 저장 완료: /home/elicer/FIshing_vessel-1/resized_imgdata/17. 유망 표류.jpg\n",
      "이미지 저장 완료: /home/elicer/FIshing_vessel-1/resized_imgdata/17. 유망 이동.jpg\n",
      "이미지 저장 완료: /home/elicer/FIshing_vessel-1/resized_imgdata/17. 연승 표류.jpg\n",
      "이미지 저장 완료: /home/elicer/FIshing_vessel-1/resized_imgdata/17. 저인망 이동.jpg\n",
      "이미지 저장 완료: /home/elicer/FIshing_vessel-1/resized_imgdata/17. 채낚기 이동.jpg\n",
      "이미지 저장 완료: /home/elicer/FIshing_vessel-1/resized_imgdata/17. 타망 이동.jpg\n",
      "이미지 저장 완료: /home/elicer/FIshing_vessel-1/resized_imgdata/17. 채낚기 표류.jpg\n",
      "이미지 저장 완료: /home/elicer/FIshing_vessel-1/resized_imgdata/17. 타망 조업.jpg\n",
      "이미지 저장 완료: /home/elicer/FIshing_vessel-1/resized_imgdata/17. 타망 표류.jpg\n",
      "이미지 저장 완료: /home/elicer/FIshing_vessel-1/resized_imgdata/17. 통발 이동.jpg\n",
      "이미지 저장 완료: /home/elicer/FIshing_vessel-1/resized_imgdata/170. 범장망 표류.jpg\n",
      "이미지 저장 완료: /home/elicer/FIshing_vessel-1/resized_imgdata/171. 범장망 표류.jpg\n",
      "이미지 저장 완료: /home/elicer/FIshing_vessel-1/resized_imgdata/172. 범장망 표류.jpg\n",
      "이미지 저장 완료: /home/elicer/FIshing_vessel-1/resized_imgdata/173. 범장망 표류.jpg\n",
      "이미지 저장 완료: /home/elicer/FIshing_vessel-1/resized_imgdata/174. 범장망 표류.jpg\n",
      "이미지 저장 완료: /home/elicer/FIshing_vessel-1/resized_imgdata/175. 범장망 표류.jpg\n",
      "이미지 저장 완료: /home/elicer/FIshing_vessel-1/resized_imgdata/177. 범장망 표류.jpg\n",
      "이미지 저장 완료: /home/elicer/FIshing_vessel-1/resized_imgdata/176. 범장망 표류.jpg\n",
      "이미지 저장 완료: /home/elicer/FIshing_vessel-1/resized_imgdata/178. 범장망 표류.jpg\n",
      "이미지 저장 완료: /home/elicer/FIshing_vessel-1/resized_imgdata/18. 낚시어선 이동.jpg\n",
      "이미지 저장 완료: /home/elicer/FIshing_vessel-1/resized_imgdata/18. 낚시어선 조업.jpg\n",
      "이미지 저장 완료: /home/elicer/FIshing_vessel-1/resized_imgdata/179. 범장망 표류.jpg\n",
      "이미지 저장 완료: /home/elicer/FIshing_vessel-1/resized_imgdata/18. 등광조망 이동.jpg\n",
      "이미지 저장 완료: /home/elicer/FIshing_vessel-1/resized_imgdata/18. 등광조망 조업.jpg\n",
      "이미지 저장 완료: /home/elicer/FIshing_vessel-1/resized_imgdata/18. 등광조망 표류.jpg\n",
      "이미지 저장 완료: /home/elicer/FIshing_vessel-1/resized_imgdata/18. 범장망 이동.jpg\n",
      "이미지 저장 완료: /home/elicer/FIshing_vessel-1/resized_imgdata/18. 범장망 조업.jpg\n",
      "이미지 저장 완료: /home/elicer/FIshing_vessel-1/resized_imgdata/18. 범장망 표류.jpg\n",
      "이미지 저장 완료: /home/elicer/FIshing_vessel-1/resized_imgdata/18. 연승 이동.jpg\n",
      "이미지 저장 완료: /home/elicer/FIshing_vessel-1/resized_imgdata/18. 안강망 이동.jpg\n",
      "이미지 저장 완료: /home/elicer/FIshing_vessel-1/resized_imgdata/18. 연승 표류.jpg\n",
      "이미지 저장 완료: /home/elicer/FIshing_vessel-1/resized_imgdata/18. 유망 이동.jpg\n",
      "이미지 저장 완료: /home/elicer/FIshing_vessel-1/resized_imgdata/18. 유망 조업.jpg\n",
      "이미지 저장 완료: /home/elicer/FIshing_vessel-1/resized_imgdata/18. 유망 표류.jpg\n",
      "이미지 저장 완료: /home/elicer/FIshing_vessel-1/resized_imgdata/18. 저인망 이동.jpg\n",
      "이미지 저장 완료: /home/elicer/FIshing_vessel-1/resized_imgdata/18. 채낚기 표류.jpg\n",
      "이미지 저장 완료: /home/elicer/FIshing_vessel-1/resized_imgdata/18. 저인망 조업.jpg\n",
      "이미지 저장 완료: /home/elicer/FIshing_vessel-1/resized_imgdata/18. 타망 이동.jpg\n",
      "이미지 저장 완료: /home/elicer/FIshing_vessel-1/resized_imgdata/18. 타망 표류.jpg\n",
      "이미지 저장 완료: /home/elicer/FIshing_vessel-1/resized_imgdata/18. 타망 조업.jpg\n",
      "이미지 저장 완료: /home/elicer/FIshing_vessel-1/resized_imgdata/18. 통발 이동.jpg\n",
      "이미지 저장 완료: /home/elicer/FIshing_vessel-1/resized_imgdata/180. 범장망 표류.jpg\n",
      "이미지 저장 완료: /home/elicer/FIshing_vessel-1/resized_imgdata/181. 범장망 표류.jpg\n",
      "이미지 저장 완료: /home/elicer/FIshing_vessel-1/resized_imgdata/182. 범장망 표류.jpg\n",
      "이미지 저장 완료: /home/elicer/FIshing_vessel-1/resized_imgdata/184. 범장망 표류.jpg\n",
      "이미지 저장 완료: /home/elicer/FIshing_vessel-1/resized_imgdata/183. 범장망 표류.jpg\n",
      "이미지 저장 완료: /home/elicer/FIshing_vessel-1/resized_imgdata/185. 범장망 표류.jpg\n",
      "이미지 저장 완료: /home/elicer/FIshing_vessel-1/resized_imgdata/186. 범장망 표류.jpg\n",
      "이미지 저장 완료: /home/elicer/FIshing_vessel-1/resized_imgdata/187. 범장망 표류.jpg\n",
      "이미지 저장 완료: /home/elicer/FIshing_vessel-1/resized_imgdata/188. 범장망 표류.jpg\n",
      "이미지 저장 완료: /home/elicer/FIshing_vessel-1/resized_imgdata/19. 낚시어선 이동.jpg\n",
      "이미지 저장 완료: /home/elicer/FIshing_vessel-1/resized_imgdata/189. 범장망 표류.jpg\n",
      "이미지 저장 완료: /home/elicer/FIshing_vessel-1/resized_imgdata/19. 낚시어선 조업.jpg\n",
      "이미지 저장 완료: /home/elicer/FIshing_vessel-1/resized_imgdata/19. 등광조망 이동.jpg\n",
      "이미지 저장 완료: /home/elicer/FIshing_vessel-1/resized_imgdata/19. 등광조망 조업.jpg\n",
      "이미지 저장 완료: /home/elicer/FIshing_vessel-1/resized_imgdata/19. 등광조망 표류.jpg\n",
      "이미지 저장 완료: /home/elicer/FIshing_vessel-1/resized_imgdata/19. 범장망 이동.jpg\n",
      "이미지 저장 완료: /home/elicer/FIshing_vessel-1/resized_imgdata/19. 범장망 조업.jpg\n",
      "이미지 저장 완료: /home/elicer/FIshing_vessel-1/resized_imgdata/19. 범장망 표류.jpg\n",
      "이미지 저장 완료: /home/elicer/FIshing_vessel-1/resized_imgdata/19. 안강망 이동.jpg\n",
      "이미지 저장 완료: /home/elicer/FIshing_vessel-1/resized_imgdata/19. 연승 이동.jpg\n",
      "이미지 저장 완료: /home/elicer/FIshing_vessel-1/resized_imgdata/19. 유망 이동.jpg\n",
      "이미지 저장 완료: /home/elicer/FIshing_vessel-1/resized_imgdata/19. 유망 표류.jpg\n",
      "이미지 저장 완료: /home/elicer/FIshing_vessel-1/resized_imgdata/19. 연승 표류.jpg\n",
      "이미지 저장 완료: /home/elicer/FIshing_vessel-1/resized_imgdata/19. 유망 조업.jpg\n",
      "이미지 저장 완료: /home/elicer/FIshing_vessel-1/resized_imgdata/19. 저인망 이동.jpg\n",
      "이미지 저장 완료: /home/elicer/FIshing_vessel-1/resized_imgdata/19. 저인망 조업.jpg\n",
      "이미지 저장 완료: /home/elicer/FIshing_vessel-1/resized_imgdata/19. 채낚기 표류.jpg\n",
      "이미지 저장 완료: /home/elicer/FIshing_vessel-1/resized_imgdata/19. 타망 이동.jpg\n",
      "이미지 저장 완료: /home/elicer/FIshing_vessel-1/resized_imgdata/19. 타망 조업.jpg\n",
      "이미지 저장 완료: /home/elicer/FIshing_vessel-1/resized_imgdata/19. 타망 표류.jpg\n",
      "이미지 저장 완료: /home/elicer/FIshing_vessel-1/resized_imgdata/19. 통발 이동.jpg\n",
      "이미지 저장 완료: /home/elicer/FIshing_vessel-1/resized_imgdata/190. 범장망 표류.jpg\n",
      "이미지 저장 완료: /home/elicer/FIshing_vessel-1/resized_imgdata/191. 범장망 표류.jpg\n",
      "이미지 저장 완료: /home/elicer/FIshing_vessel-1/resized_imgdata/192. 범장망 표류.jpg\n",
      "이미지 저장 완료: /home/elicer/FIshing_vessel-1/resized_imgdata/193. 범장망 표류.jpg\n",
      "이미지 저장 완료: /home/elicer/FIshing_vessel-1/resized_imgdata/194. 범장망 표류.jpg\n",
      "이미지 저장 완료: /home/elicer/FIshing_vessel-1/resized_imgdata/195. 범장망 표류.jpg\n",
      "이미지 저장 완료: /home/elicer/FIshing_vessel-1/resized_imgdata/196. 범장망 표류.jpg\n",
      "이미지 저장 완료: /home/elicer/FIshing_vessel-1/resized_imgdata/197. 범장망 표류.jpg\n",
      "이미지 저장 완료: /home/elicer/FIshing_vessel-1/resized_imgdata/2. 낚시어선 이동.jpg\n",
      "이미지 저장 완료: /home/elicer/FIshing_vessel-1/resized_imgdata/2. 낚시어선 조업.jpg\n",
      "이미지 저장 완료: /home/elicer/FIshing_vessel-1/resized_imgdata/199. 범장망 표류.jpg\n",
      "이미지 저장 완료: /home/elicer/FIshing_vessel-1/resized_imgdata/198. 범장망 표류.jpg\n",
      "이미지 저장 완료: /home/elicer/FIshing_vessel-1/resized_imgdata/2. 낚시어선 표류.jpg\n",
      "이미지 저장 완료: /home/elicer/FIshing_vessel-1/resized_imgdata/2. 등광조망 이동.jpg\n",
      "이미지 저장 완료: /home/elicer/FIshing_vessel-1/resized_imgdata/2. 등광조망 표류.jpg\n",
      "이미지 저장 완료: /home/elicer/FIshing_vessel-1/resized_imgdata/2. 범장망 이동.jpg\n",
      "이미지 저장 완료: /home/elicer/FIshing_vessel-1/resized_imgdata/2. 범장망 조업.jpg\n",
      "이미지 저장 완료: /home/elicer/FIshing_vessel-1/resized_imgdata/2. 범장망 표류.jpg\n",
      "이미지 저장 완료: /home/elicer/FIshing_vessel-1/resized_imgdata/2. 안강망 이동.jpg\n",
      "이미지 저장 완료: /home/elicer/FIshing_vessel-1/resized_imgdata/2. 안강망 표류.jpg\n",
      "이미지 저장 완료: /home/elicer/FIshing_vessel-1/resized_imgdata/2. 연승 이동.jpg\n",
      "이미지 저장 완료: /home/elicer/FIshing_vessel-1/resized_imgdata/2. 연승 표류.jpg\n",
      "이미지 저장 완료: /home/elicer/FIshing_vessel-1/resized_imgdata/2. 유망 이동.jpg\n",
      "이미지 저장 완료: /home/elicer/FIshing_vessel-1/resized_imgdata/2. 유망 조업.jpg\n",
      "이미지 저장 완료: /home/elicer/FIshing_vessel-1/resized_imgdata/2. 유망 표류.jpg\n",
      "이미지 저장 완료: /home/elicer/FIshing_vessel-1/resized_imgdata/2. 저인망 이동.jpg\n",
      "이미지 저장 완료: /home/elicer/FIshing_vessel-1/resized_imgdata/2. 저인망 조업.jpg\n",
      "이미지 저장 완료: /home/elicer/FIshing_vessel-1/resized_imgdata/2. 저인망 표류.jpg\n",
      "이미지 저장 완료: /home/elicer/FIshing_vessel-1/resized_imgdata/2. 채낚기  표류.jpg\n",
      "이미지 저장 완료: /home/elicer/FIshing_vessel-1/resized_imgdata/2. 채낚기 이동.jpg\n",
      "이미지 저장 완료: /home/elicer/FIshing_vessel-1/resized_imgdata/2. 채낚기 조업.jpg\n",
      "이미지 저장 완료: /home/elicer/FIshing_vessel-1/resized_imgdata/2. 타망 이동.jpg\n",
      "이미지 저장 완료: /home/elicer/FIshing_vessel-1/resized_imgdata/2. 타망 조업.jpg\n",
      "이미지 저장 완료: /home/elicer/FIshing_vessel-1/resized_imgdata/2. 타망 표류.jpg\n",
      "이미지 저장 완료: /home/elicer/FIshing_vessel-1/resized_imgdata/2. 통발 이동.jpg\n",
      "이미지 저장 완료: /home/elicer/FIshing_vessel-1/resized_imgdata/2. 통발 조업.jpg\n",
      "이미지 저장 완료: /home/elicer/FIshing_vessel-1/resized_imgdata/2. 통발 표류.jpg\n",
      "이미지 저장 완료: /home/elicer/FIshing_vessel-1/resized_imgdata/2.등광조망 조업.jpg\n",
      "이미지 저장 완료: /home/elicer/FIshing_vessel-1/resized_imgdata/20. 낚시어선 이동.jpg\n",
      "이미지 저장 완료: /home/elicer/FIshing_vessel-1/resized_imgdata/20. 낚시어선 조업.jpg\n",
      "이미지 저장 완료: /home/elicer/FIshing_vessel-1/resized_imgdata/20. 등광조망 이동.jpg\n",
      "이미지 저장 완료: /home/elicer/FIshing_vessel-1/resized_imgdata/20. 범장망 이동.jpg\n",
      "이미지 저장 완료: /home/elicer/FIshing_vessel-1/resized_imgdata/20. 등광조망 조업.jpg\n",
      "이미지 저장 완료: /home/elicer/FIshing_vessel-1/resized_imgdata/20. 등광조망 표류.jpg\n",
      "이미지 저장 완료: /home/elicer/FIshing_vessel-1/resized_imgdata/20. 안강망 이동.jpg\n",
      "이미지 저장 완료: /home/elicer/FIshing_vessel-1/resized_imgdata/20. 범장망 조업.jpg\n",
      "이미지 저장 완료: /home/elicer/FIshing_vessel-1/resized_imgdata/20. 범장망 표류.jpg\n",
      "이미지 저장 완료: /home/elicer/FIshing_vessel-1/resized_imgdata/20. 연승 이동.jpg\n",
      "이미지 저장 완료: /home/elicer/FIshing_vessel-1/resized_imgdata/20. 연승 표류.jpg\n",
      "이미지 저장 완료: /home/elicer/FIshing_vessel-1/resized_imgdata/20. 유망 이동.jpg\n",
      "이미지 저장 완료: /home/elicer/FIshing_vessel-1/resized_imgdata/20. 유망 표류.jpg\n",
      "이미지 저장 완료: /home/elicer/FIshing_vessel-1/resized_imgdata/20. 저인망 이동.jpg\n",
      "이미지 저장 완료: /home/elicer/FIshing_vessel-1/resized_imgdata/20. 저인망 조업.jpg\n",
      "이미지 저장 완료: /home/elicer/FIshing_vessel-1/resized_imgdata/20. 타망 이동.jpg\n",
      "이미지 저장 완료: /home/elicer/FIshing_vessel-1/resized_imgdata/20. 채낚기 표류.jpg\n",
      "이미지 저장 완료: /home/elicer/FIshing_vessel-1/resized_imgdata/20. 타망 조업.jpg\n",
      "이미지 저장 완료: /home/elicer/FIshing_vessel-1/resized_imgdata/20. 타망 표류.jpg\n",
      "이미지 저장 완료: /home/elicer/FIshing_vessel-1/resized_imgdata/20. 통발 이동.jpg\n",
      "이미지 저장 완료: /home/elicer/FIshing_vessel-1/resized_imgdata/200. 범장망 표류.jpg\n",
      "이미지 저장 완료: /home/elicer/FIshing_vessel-1/resized_imgdata/201. 범장망 표류.jpg\n",
      "이미지 저장 완료: /home/elicer/FIshing_vessel-1/resized_imgdata/202. 범장망 표류.jpg\n",
      "이미지 저장 완료: /home/elicer/FIshing_vessel-1/resized_imgdata/203. 범장망 표류.jpg\n",
      "이미지 저장 완료: /home/elicer/FIshing_vessel-1/resized_imgdata/204. 범장망 표류.jpg\n",
      "이미지 저장 완료: /home/elicer/FIshing_vessel-1/resized_imgdata/205. 범장망 표류.jpg\n",
      "이미지 저장 완료: /home/elicer/FIshing_vessel-1/resized_imgdata/206. 범장망 표류.jpg\n",
      "이미지 저장 완료: /home/elicer/FIshing_vessel-1/resized_imgdata/207. 범장망 표류.jpg\n",
      "이미지 저장 완료: /home/elicer/FIshing_vessel-1/resized_imgdata/208. 범장망 표류.jpg\n",
      "이미지 저장 완료: /home/elicer/FIshing_vessel-1/resized_imgdata/209. 범장망 표류.jpg\n",
      "이미지 저장 완료: /home/elicer/FIshing_vessel-1/resized_imgdata/21. 낚시어선 이동.jpg\n",
      "이미지 저장 완료: /home/elicer/FIshing_vessel-1/resized_imgdata/21. 낚시어선 조업.jpg\n",
      "이미지 저장 완료: /home/elicer/FIshing_vessel-1/resized_imgdata/21. 등광조망 이동.jpg\n",
      "이미지 저장 완료: /home/elicer/FIshing_vessel-1/resized_imgdata/21. 등광조망 조업.jpg\n",
      "이미지 저장 완료: /home/elicer/FIshing_vessel-1/resized_imgdata/21. 등광조망 표류.jpg\n",
      "이미지 저장 완료: /home/elicer/FIshing_vessel-1/resized_imgdata/21. 범장망 이동.jpg\n",
      "이미지 저장 완료: /home/elicer/FIshing_vessel-1/resized_imgdata/21. 범장망 조업.jpg\n",
      "이미지 저장 완료: /home/elicer/FIshing_vessel-1/resized_imgdata/21. 범장망 표류.jpg\n",
      "이미지 저장 완료: /home/elicer/FIshing_vessel-1/resized_imgdata/21. 안강망 이동.jpg\n",
      "이미지 저장 완료: /home/elicer/FIshing_vessel-1/resized_imgdata/21. 연승 이동.jpg\n",
      "이미지 저장 완료: /home/elicer/FIshing_vessel-1/resized_imgdata/21. 유망 이동.jpg\n",
      "이미지 저장 완료: /home/elicer/FIshing_vessel-1/resized_imgdata/21. 유망 조업.jpg\n",
      "이미지 저장 완료: /home/elicer/FIshing_vessel-1/resized_imgdata/21. 유망 표류.jpg\n",
      "이미지 저장 완료: /home/elicer/FIshing_vessel-1/resized_imgdata/21. 저인망 이동.jpg\n",
      "이미지 저장 완료: /home/elicer/FIshing_vessel-1/resized_imgdata/21. 저인망 조업.jpg\n",
      "이미지 저장 완료: /home/elicer/FIshing_vessel-1/resized_imgdata/21. 채낚기 표류.jpg\n",
      "이미지 저장 완료: /home/elicer/FIshing_vessel-1/resized_imgdata/21. 타망 이동.jpg\n",
      "이미지 저장 완료: /home/elicer/FIshing_vessel-1/resized_imgdata/21. 타망 표류.jpg\n",
      "이미지 저장 완료: /home/elicer/FIshing_vessel-1/resized_imgdata/21. 통발 이동.jpg\n",
      "이미지 저장 완료: /home/elicer/FIshing_vessel-1/resized_imgdata/210. 범장망 표류.jpg\n",
      "이미지 저장 완료: /home/elicer/FIshing_vessel-1/resized_imgdata/211. 범장망 표류.jpg\n",
      "이미지 저장 완료: /home/elicer/FIshing_vessel-1/resized_imgdata/214. 범장망 표류.jpg\n",
      "이미지 저장 완료: /home/elicer/FIshing_vessel-1/resized_imgdata/212. 범장망 표류.jpg\n",
      "이미지 저장 완료: /home/elicer/FIshing_vessel-1/resized_imgdata/213. 범장망 표류.jpg\n",
      "이미지 저장 완료: /home/elicer/FIshing_vessel-1/resized_imgdata/215. 범장망 표류.jpg\n",
      "이미지 저장 완료: /home/elicer/FIshing_vessel-1/resized_imgdata/216. 범장망 표류.jpg\n",
      "이미지 저장 완료: /home/elicer/FIshing_vessel-1/resized_imgdata/217. 범장망 표류.jpg\n",
      "이미지 저장 완료: /home/elicer/FIshing_vessel-1/resized_imgdata/218. 범장망 표류.jpg\n",
      "이미지 저장 완료: /home/elicer/FIshing_vessel-1/resized_imgdata/219. 범장망 표류.jpg\n",
      "이미지 저장 완료: /home/elicer/FIshing_vessel-1/resized_imgdata/22. 낚시어선 이동.jpg\n",
      "이미지 저장 완료: /home/elicer/FIshing_vessel-1/resized_imgdata/22. 낚시어선 조업.jpg\n",
      "이미지 저장 완료: /home/elicer/FIshing_vessel-1/resized_imgdata/22. 등광조망 이동.jpg\n",
      "이미지 저장 완료: /home/elicer/FIshing_vessel-1/resized_imgdata/22. 등광조망 조업.jpg\n",
      "이미지 저장 완료: /home/elicer/FIshing_vessel-1/resized_imgdata/22. 등광조망 표류.jpg\n",
      "이미지 저장 완료: /home/elicer/FIshing_vessel-1/resized_imgdata/22. 범장망 이동.jpg\n",
      "이미지 저장 완료: /home/elicer/FIshing_vessel-1/resized_imgdata/22. 범장망 조업.jpg\n",
      "이미지 저장 완료: /home/elicer/FIshing_vessel-1/resized_imgdata/22. 범장망 표류.jpg\n",
      "이미지 저장 완료: /home/elicer/FIshing_vessel-1/resized_imgdata/22. 안강망 이동.jpg\n",
      "이미지 저장 완료: /home/elicer/FIshing_vessel-1/resized_imgdata/22. 연승 이동.jpg\n",
      "이미지 저장 완료: /home/elicer/FIshing_vessel-1/resized_imgdata/22. 유망 이동.jpg\n",
      "이미지 저장 완료: /home/elicer/FIshing_vessel-1/resized_imgdata/22. 유망 조업.jpg\n",
      "이미지 저장 완료: /home/elicer/FIshing_vessel-1/resized_imgdata/22. 연승 표류.jpg\n",
      "이미지 저장 완료: /home/elicer/FIshing_vessel-1/resized_imgdata/22. 유망 표류.jpg\n",
      "이미지 저장 완료: /home/elicer/FIshing_vessel-1/resized_imgdata/22. 저인망 이동.jpg\n",
      "이미지 저장 완료: /home/elicer/FIshing_vessel-1/resized_imgdata/22. 채낚기 표류.jpg\n",
      "이미지 저장 완료: /home/elicer/FIshing_vessel-1/resized_imgdata/22. 타망 이동.jpg\n",
      "이미지 저장 완료: /home/elicer/FIshing_vessel-1/resized_imgdata/22. 저인망 조업.jpg\n",
      "이미지 저장 완료: /home/elicer/FIshing_vessel-1/resized_imgdata/22. 타망 조업.jpg\n",
      "이미지 저장 완료: /home/elicer/FIshing_vessel-1/resized_imgdata/22. 타망 표류.jpg\n",
      "이미지 저장 완료: /home/elicer/FIshing_vessel-1/resized_imgdata/22. 통발 이동.jpg\n",
      "이미지 저장 완료: /home/elicer/FIshing_vessel-1/resized_imgdata/220. 범장망 표류.jpg\n",
      "이미지 저장 완료: /home/elicer/FIshing_vessel-1/resized_imgdata/221. 범장망 표류.jpg\n",
      "이미지 저장 완료: /home/elicer/FIshing_vessel-1/resized_imgdata/222. 범장망 표류.jpg\n",
      "이미지 저장 완료: /home/elicer/FIshing_vessel-1/resized_imgdata/223. 범장망 표류.jpg\n",
      "이미지 저장 완료: /home/elicer/FIshing_vessel-1/resized_imgdata/224. 범장망 표류.jpg\n",
      "이미지 저장 완료: /home/elicer/FIshing_vessel-1/resized_imgdata/226. 범장망 표류.jpg\n",
      "이미지 저장 완료: /home/elicer/FIshing_vessel-1/resized_imgdata/225. 범장망 표류.jpg\n",
      "이미지 저장 완료: /home/elicer/FIshing_vessel-1/resized_imgdata/227. 범장망 표류.jpg\n",
      "이미지 저장 완료: /home/elicer/FIshing_vessel-1/resized_imgdata/228. 범장망 표류.jpg\n",
      "이미지 저장 완료: /home/elicer/FIshing_vessel-1/resized_imgdata/23. 낚시어선 이동.jpg\n",
      "이미지 저장 완료: /home/elicer/FIshing_vessel-1/resized_imgdata/229. 범장망 표류.jpg\n",
      "이미지 저장 완료: /home/elicer/FIshing_vessel-1/resized_imgdata/23. 낚시어선 조업.jpg\n",
      "이미지 저장 완료: /home/elicer/FIshing_vessel-1/resized_imgdata/23. 등광조망 조업.jpg\n",
      "이미지 저장 완료: /home/elicer/FIshing_vessel-1/resized_imgdata/23. 등광조망 표류.jpg\n",
      "이미지 저장 완료: /home/elicer/FIshing_vessel-1/resized_imgdata/23. 범장망 이동.jpg\n",
      "이미지 저장 완료: /home/elicer/FIshing_vessel-1/resized_imgdata/23. 범장망 조업.jpg\n",
      "이미지 저장 완료: /home/elicer/FIshing_vessel-1/resized_imgdata/23. 범장망 표류.jpg\n",
      "이미지 저장 완료: /home/elicer/FIshing_vessel-1/resized_imgdata/23. 연승 이동.jpg\n",
      "이미지 저장 완료: /home/elicer/FIshing_vessel-1/resized_imgdata/23. 연승 표류.jpg\n",
      "이미지 저장 완료: /home/elicer/FIshing_vessel-1/resized_imgdata/23. 유망 이동.jpg\n",
      "이미지 저장 완료: /home/elicer/FIshing_vessel-1/resized_imgdata/23. 유망 조업.jpg\n",
      "이미지 저장 완료: /home/elicer/FIshing_vessel-1/resized_imgdata/23. 유망 표류.jpg\n",
      "이미지 저장 완료: /home/elicer/FIshing_vessel-1/resized_imgdata/23. 저인망 이동.jpg\n",
      "이미지 저장 완료: /home/elicer/FIshing_vessel-1/resized_imgdata/23. 저인망 조업.jpg\n",
      "이미지 저장 완료: /home/elicer/FIshing_vessel-1/resized_imgdata/23. 채낚기 표류.jpg\n",
      "이미지 저장 완료: /home/elicer/FIshing_vessel-1/resized_imgdata/23. 타망 조업.jpg\n",
      "이미지 저장 완료: /home/elicer/FIshing_vessel-1/resized_imgdata/23. 타망 이동.jpg\n",
      "이미지 저장 완료: /home/elicer/FIshing_vessel-1/resized_imgdata/23. 타망 표류.jpg\n",
      "이미지 저장 완료: /home/elicer/FIshing_vessel-1/resized_imgdata/23. 통발 이동.jpg\n",
      "이미지 저장 완료: /home/elicer/FIshing_vessel-1/resized_imgdata/23.등광조망 이동.jpg\n",
      "이미지 저장 완료: /home/elicer/FIshing_vessel-1/resized_imgdata/230. 범장망 표류.jpg\n",
      "이미지 저장 완료: /home/elicer/FIshing_vessel-1/resized_imgdata/231. 범장망 표류.jpg\n",
      "이미지 저장 완료: /home/elicer/FIshing_vessel-1/resized_imgdata/232. 범장망 표류.jpg\n",
      "이미지 저장 완료: /home/elicer/FIshing_vessel-1/resized_imgdata/233. 범장망 표류.jpg\n",
      "이미지 저장 완료: /home/elicer/FIshing_vessel-1/resized_imgdata/234. 범장망 표류.jpg\n",
      "이미지 저장 완료: /home/elicer/FIshing_vessel-1/resized_imgdata/235. 범장망 표류.jpg\n",
      "이미지 저장 완료: /home/elicer/FIshing_vessel-1/resized_imgdata/236. 범장망 표류.jpg\n",
      "이미지 저장 완료: /home/elicer/FIshing_vessel-1/resized_imgdata/237. 범장망 표류.jpg\n",
      "이미지 저장 완료: /home/elicer/FIshing_vessel-1/resized_imgdata/238. 범장망 표류.jpg\n",
      "이미지 저장 완료: /home/elicer/FIshing_vessel-1/resized_imgdata/239. 범장망 표류.jpg\n",
      "이미지 저장 완료: /home/elicer/FIshing_vessel-1/resized_imgdata/24. 낚시어선 이동.jpg\n",
      "이미지 저장 완료: /home/elicer/FIshing_vessel-1/resized_imgdata/24. 낚시어선 조업.jpg\n",
      "이미지 저장 완료: /home/elicer/FIshing_vessel-1/resized_imgdata/24. 등광조망 이동.jpg\n",
      "이미지 저장 완료: /home/elicer/FIshing_vessel-1/resized_imgdata/24. 등광조망 조업.jpg\n",
      "이미지 저장 완료: /home/elicer/FIshing_vessel-1/resized_imgdata/24. 범장망 이동.jpg\n",
      "이미지 저장 완료: /home/elicer/FIshing_vessel-1/resized_imgdata/24. 등광조망 표류.jpg\n",
      "이미지 저장 완료: /home/elicer/FIshing_vessel-1/resized_imgdata/24. 범장망 조업.jpg\n",
      "이미지 저장 완료: /home/elicer/FIshing_vessel-1/resized_imgdata/24. 연승 이동.jpg\n",
      "이미지 저장 완료: /home/elicer/FIshing_vessel-1/resized_imgdata/24. 유망 이동.jpg\n",
      "이미지 저장 완료: /home/elicer/FIshing_vessel-1/resized_imgdata/24. 유망 표류.jpg\n",
      "이미지 저장 완료: /home/elicer/FIshing_vessel-1/resized_imgdata/24. 저인망 이동.jpg\n",
      "이미지 저장 완료: /home/elicer/FIshing_vessel-1/resized_imgdata/24. 유망 조업.jpg\n",
      "이미지 저장 완료: /home/elicer/FIshing_vessel-1/resized_imgdata/24. 타망 이동.jpg\n",
      "이미지 저장 완료: /home/elicer/FIshing_vessel-1/resized_imgdata/24. 채낚기 표류.jpg\n",
      "이미지 저장 완료: /home/elicer/FIshing_vessel-1/resized_imgdata/24. 저인망 조업.jpg\n",
      "이미지 저장 완료: /home/elicer/FIshing_vessel-1/resized_imgdata/24. 타망 조업.jpg\n",
      "이미지 저장 완료: /home/elicer/FIshing_vessel-1/resized_imgdata/24. 타망 표류.jpg\n",
      "이미지 저장 완료: /home/elicer/FIshing_vessel-1/resized_imgdata/24. 통발 이동.jpg\n",
      "이미지 저장 완료: /home/elicer/FIshing_vessel-1/resized_imgdata/240. 범장망 표류.jpg\n",
      "이미지 저장 완료: /home/elicer/FIshing_vessel-1/resized_imgdata/241. 범장망 표류.jpg\n",
      "이미지 저장 완료: /home/elicer/FIshing_vessel-1/resized_imgdata/242. 범장망 표류.jpg\n",
      "이미지 저장 완료: /home/elicer/FIshing_vessel-1/resized_imgdata/243. 범장망 표류.jpg\n",
      "이미지 저장 완료: /home/elicer/FIshing_vessel-1/resized_imgdata/244. 범장망 표류.jpg\n",
      "이미지 저장 완료: /home/elicer/FIshing_vessel-1/resized_imgdata/245. 범장망 표류.jpg\n",
      "이미지 저장 완료: /home/elicer/FIshing_vessel-1/resized_imgdata/246. 범장망 표류.jpg\n",
      "이미지 저장 완료: /home/elicer/FIshing_vessel-1/resized_imgdata/247. 범장망 표류.jpg\n",
      "이미지 저장 완료: /home/elicer/FIshing_vessel-1/resized_imgdata/248. 범장망 표류.jpg\n",
      "이미지 저장 완료: /home/elicer/FIshing_vessel-1/resized_imgdata/249. 범장망 표류.jpg\n",
      "이미지 저장 완료: /home/elicer/FIshing_vessel-1/resized_imgdata/25. 낚시어선 이동.jpg\n",
      "이미지 저장 완료: /home/elicer/FIshing_vessel-1/resized_imgdata/25. 등광조망 조업.jpg\n",
      "이미지 저장 완료: /home/elicer/FIshing_vessel-1/resized_imgdata/25. 낚시어선 조업.jpg\n",
      "이미지 저장 완료: /home/elicer/FIshing_vessel-1/resized_imgdata/25. 범장망 이동.jpg\n",
      "이미지 저장 완료: /home/elicer/FIshing_vessel-1/resized_imgdata/25. 범장망 표류.jpg\n",
      "이미지 저장 완료: /home/elicer/FIshing_vessel-1/resized_imgdata/25. 연승 이동.jpg\n",
      "이미지 저장 완료: /home/elicer/FIshing_vessel-1/resized_imgdata/25. 유망 조업.jpg\n",
      "이미지 저장 완료: /home/elicer/FIshing_vessel-1/resized_imgdata/25. 유망 이동.jpg\n",
      "이미지 저장 완료: /home/elicer/FIshing_vessel-1/resized_imgdata/25. 유망 표류.jpg\n",
      "이미지 저장 완료: /home/elicer/FIshing_vessel-1/resized_imgdata/25. 저인망 이동.jpg\n",
      "이미지 저장 완료: /home/elicer/FIshing_vessel-1/resized_imgdata/25. 채낚기 표류.jpg\n",
      "이미지 저장 완료: /home/elicer/FIshing_vessel-1/resized_imgdata/25. 타망 이동.jpg\n",
      "이미지 저장 완료: /home/elicer/FIshing_vessel-1/resized_imgdata/25. 타망 조업.jpg\n",
      "이미지 저장 완료: /home/elicer/FIshing_vessel-1/resized_imgdata/25. 타망 표류.jpg\n",
      "이미지 저장 완료: /home/elicer/FIshing_vessel-1/resized_imgdata/251. 범장망 표류.jpg\n",
      "이미지 저장 완료: /home/elicer/FIshing_vessel-1/resized_imgdata/250. 범장망 표류.jpg\n",
      "이미지 저장 완료: /home/elicer/FIshing_vessel-1/resized_imgdata/252. 범장망 표류.jpg\n",
      "이미지 저장 완료: /home/elicer/FIshing_vessel-1/resized_imgdata/253. 범장망 표류.jpg\n",
      "이미지 저장 완료: /home/elicer/FIshing_vessel-1/resized_imgdata/254. 범장망 표류.jpg\n",
      "이미지 저장 완료: /home/elicer/FIshing_vessel-1/resized_imgdata/255. 범장망 표류.jpg\n",
      "이미지 저장 완료: /home/elicer/FIshing_vessel-1/resized_imgdata/256. 범장망 표류.jpg\n",
      "이미지 저장 완료: /home/elicer/FIshing_vessel-1/resized_imgdata/257. 범장망 표류.jpg\n",
      "이미지 저장 완료: /home/elicer/FIshing_vessel-1/resized_imgdata/258. 범장망 표류.jpg\n",
      "이미지 저장 완료: /home/elicer/FIshing_vessel-1/resized_imgdata/259. 범장망 표류.jpg\n",
      "이미지 저장 완료: /home/elicer/FIshing_vessel-1/resized_imgdata/26. 낚시어선 이동.jpg\n",
      "이미지 저장 완료: /home/elicer/FIshing_vessel-1/resized_imgdata/26. 낚시어선 조업.jpg\n",
      "이미지 저장 완료: /home/elicer/FIshing_vessel-1/resized_imgdata/26. 등광조망 이동.jpg\n",
      "이미지 저장 완료: /home/elicer/FIshing_vessel-1/resized_imgdata/26. 등광조망 조업.jpg\n",
      "이미지 저장 완료: /home/elicer/FIshing_vessel-1/resized_imgdata/26. 범장망 표류.jpg\n",
      "이미지 저장 완료: /home/elicer/FIshing_vessel-1/resized_imgdata/26. 연승 이동.jpg\n",
      "이미지 저장 완료: /home/elicer/FIshing_vessel-1/resized_imgdata/26. 유망 이동.jpg\n",
      "이미지 저장 완료: /home/elicer/FIshing_vessel-1/resized_imgdata/26. 유망 조업.jpg\n",
      "이미지 저장 완료: /home/elicer/FIshing_vessel-1/resized_imgdata/26. 유망 표류.jpg\n",
      "이미지 저장 완료: /home/elicer/FIshing_vessel-1/resized_imgdata/26. 저인망 이동.jpg\n",
      "이미지 저장 완료: /home/elicer/FIshing_vessel-1/resized_imgdata/26. 채낚기 표류.jpg\n",
      "이미지 저장 완료: /home/elicer/FIshing_vessel-1/resized_imgdata/26. 타망 이동.jpg\n",
      "이미지 저장 완료: /home/elicer/FIshing_vessel-1/resized_imgdata/26. 타망 조업.jpg\n",
      "이미지 저장 완료: /home/elicer/FIshing_vessel-1/resized_imgdata/26. 타망 표류.jpg\n",
      "이미지 저장 완료: /home/elicer/FIshing_vessel-1/resized_imgdata/26. 통발 이동.jpg\n",
      "이미지 저장 완료: /home/elicer/FIshing_vessel-1/resized_imgdata/262. 범장망 표류.png\n",
      "이미지 저장 완료: /home/elicer/FIshing_vessel-1/resized_imgdata/263. 범장망 표류.png\n",
      "이미지 저장 완료: /home/elicer/FIshing_vessel-1/resized_imgdata/260. 범장망 표류.jpg\n",
      "이미지 저장 완료: /home/elicer/FIshing_vessel-1/resized_imgdata/261. 범장망 표류.jpg\n",
      "이미지 저장 완료: /home/elicer/FIshing_vessel-1/resized_imgdata/264. 범장망 표류.jpg\n",
      "이미지 저장 완료: /home/elicer/FIshing_vessel-1/resized_imgdata/265. 범장망 표류.jpg\n",
      "이미지 저장 완료: /home/elicer/FIshing_vessel-1/resized_imgdata/266. 범장망 표류.jpg\n",
      "이미지 저장 완료: /home/elicer/FIshing_vessel-1/resized_imgdata/267. 범장망 표류.jpg\n",
      "이미지 저장 완료: /home/elicer/FIshing_vessel-1/resized_imgdata/268. 범장망 표류.jpg\n",
      "이미지 저장 완료: /home/elicer/FIshing_vessel-1/resized_imgdata/269. 범장망 표류.jpg\n",
      "이미지 저장 완료: /home/elicer/FIshing_vessel-1/resized_imgdata/27. 낚시어선 이동.jpg\n",
      "이미지 저장 완료: /home/elicer/FIshing_vessel-1/resized_imgdata/27. 낚시어선 조업.jpg\n",
      "이미지 저장 완료: /home/elicer/FIshing_vessel-1/resized_imgdata/27. 등광조망 이동.jpg\n",
      "이미지 저장 완료: /home/elicer/FIshing_vessel-1/resized_imgdata/27. 범장망 표류.jpg\n",
      "이미지 저장 완료: /home/elicer/FIshing_vessel-1/resized_imgdata/27. 범장망 이동.jpg\n",
      "이미지 저장 완료: /home/elicer/FIshing_vessel-1/resized_imgdata/27. 등광조망 조업.jpg\n",
      "이미지 저장 완료: /home/elicer/FIshing_vessel-1/resized_imgdata/27. 연승 이동.jpg\n",
      "이미지 저장 완료: /home/elicer/FIshing_vessel-1/resized_imgdata/27. 유망 이동.jpg\n",
      "이미지 저장 완료: /home/elicer/FIshing_vessel-1/resized_imgdata/27. 유망 조업.jpg\n",
      "이미지 저장 완료: /home/elicer/FIshing_vessel-1/resized_imgdata/27. 유망 표류.jpg\n",
      "이미지 저장 완료: /home/elicer/FIshing_vessel-1/resized_imgdata/27. 저인망 이동.jpg\n",
      "이미지 저장 완료: /home/elicer/FIshing_vessel-1/resized_imgdata/27. 채낚기 표류.jpg\n",
      "이미지 저장 완료: /home/elicer/FIshing_vessel-1/resized_imgdata/27. 타망 이동.jpg\n",
      "이미지 저장 완료: /home/elicer/FIshing_vessel-1/resized_imgdata/27. 타망 조업.jpg\n",
      "이미지 저장 완료: /home/elicer/FIshing_vessel-1/resized_imgdata/27. 타망 표류.jpg\n",
      "이미지 저장 완료: /home/elicer/FIshing_vessel-1/resized_imgdata/27. 통발 이동.jpg\n",
      "이미지 저장 완료: /home/elicer/FIshing_vessel-1/resized_imgdata/270. 범장망 표류.jpg\n",
      "이미지 저장 완료: /home/elicer/FIshing_vessel-1/resized_imgdata/271. 범장망 표류.jpg\n",
      "이미지 저장 완료: /home/elicer/FIshing_vessel-1/resized_imgdata/272. 범장망 표류.jpg\n",
      "이미지 저장 완료: /home/elicer/FIshing_vessel-1/resized_imgdata/273. 범장망 표류.jpg\n",
      "이미지 저장 완료: /home/elicer/FIshing_vessel-1/resized_imgdata/274. 범장망 표류.jpg\n",
      "이미지 저장 완료: /home/elicer/FIshing_vessel-1/resized_imgdata/275. 범장망 표류.jpg\n",
      "이미지 저장 완료: /home/elicer/FIshing_vessel-1/resized_imgdata/276. 범장망 표류.jpg\n",
      "이미지 저장 완료: /home/elicer/FIshing_vessel-1/resized_imgdata/278. 범장망 표류.jpg\n",
      "이미지 저장 완료: /home/elicer/FIshing_vessel-1/resized_imgdata/277. 범장망 표류.jpg\n",
      "이미지 저장 완료: /home/elicer/FIshing_vessel-1/resized_imgdata/279. 범장망 표류.jpg\n",
      "이미지 저장 완료: /home/elicer/FIshing_vessel-1/resized_imgdata/28. 낚시어선 이동.jpg\n",
      "이미지 저장 완료: /home/elicer/FIshing_vessel-1/resized_imgdata/28. 낚시어선 조업.jpg\n",
      "이미지 저장 완료: /home/elicer/FIshing_vessel-1/resized_imgdata/28. 등광조망 이동.jpg\n",
      "이미지 저장 완료: /home/elicer/FIshing_vessel-1/resized_imgdata/28. 등광조망 조업.jpg\n",
      "이미지 저장 완료: /home/elicer/FIshing_vessel-1/resized_imgdata/28. 범장망 이동.jpg\n",
      "이미지 저장 완료: /home/elicer/FIshing_vessel-1/resized_imgdata/28. 범장망 표류.jpg\n",
      "이미지 저장 완료: /home/elicer/FIshing_vessel-1/resized_imgdata/28. 연승 이동.jpg\n",
      "이미지 저장 완료: /home/elicer/FIshing_vessel-1/resized_imgdata/28. 유망 이동.jpg\n",
      "이미지 저장 완료: /home/elicer/FIshing_vessel-1/resized_imgdata/28. 유망 표류.jpg\n",
      "이미지 저장 완료: /home/elicer/FIshing_vessel-1/resized_imgdata/28. 유망 조업.jpg\n",
      "이미지 저장 완료: /home/elicer/FIshing_vessel-1/resized_imgdata/28. 저인망 이동.jpg\n",
      "이미지 저장 완료: /home/elicer/FIshing_vessel-1/resized_imgdata/28. 타망 이동.jpg\n",
      "이미지 저장 완료: /home/elicer/FIshing_vessel-1/resized_imgdata/28. 타망 조업.jpg\n",
      "이미지 저장 완료: /home/elicer/FIshing_vessel-1/resized_imgdata/28. 타망 표류.jpg\n",
      "이미지 저장 완료: /home/elicer/FIshing_vessel-1/resized_imgdata/28. 통발 이동.jpg\n",
      "이미지 저장 완료: /home/elicer/FIshing_vessel-1/resized_imgdata/280. 범장망 표류.jpg\n",
      "이미지 저장 완료: /home/elicer/FIshing_vessel-1/resized_imgdata/281. 범장망 표류.jpg\n",
      "이미지 저장 완료: /home/elicer/FIshing_vessel-1/resized_imgdata/282. 범장망 표류.jpg\n",
      "이미지 저장 완료: /home/elicer/FIshing_vessel-1/resized_imgdata/283. 범장망 표류.jpg\n",
      "이미지 저장 완료: /home/elicer/FIshing_vessel-1/resized_imgdata/284. 범장망 표류.jpg\n",
      "이미지 저장 완료: /home/elicer/FIshing_vessel-1/resized_imgdata/285. 범장망 표류.jpg\n",
      "이미지 저장 완료: /home/elicer/FIshing_vessel-1/resized_imgdata/286. 범장망 표류.jpg\n",
      "이미지 저장 완료: /home/elicer/FIshing_vessel-1/resized_imgdata/287. 범장망 표류.jpg\n",
      "이미지 저장 완료: /home/elicer/FIshing_vessel-1/resized_imgdata/289. 범장망 표류.jpg\n",
      "이미지 저장 완료: /home/elicer/FIshing_vessel-1/resized_imgdata/29. 낚시어선 이동.jpg\n",
      "이미지 저장 완료: /home/elicer/FIshing_vessel-1/resized_imgdata/4. 유망 표류.jpg\n",
      "이미지 저장 완료: /home/elicer/FIshing_vessel-1/resized_imgdata/29. 낚시어선 조업.jpg\n",
      "이미지 저장 완료: /home/elicer/FIshing_vessel-1/resized_imgdata/29. 등광조망 이동.jpg\n",
      "이미지 저장 완료: /home/elicer/FIshing_vessel-1/resized_imgdata/29. 범장망 이동.jpg\n",
      "이미지 저장 완료: /home/elicer/FIshing_vessel-1/resized_imgdata/29. 등광조망 조업.jpg\n",
      "이미지 저장 완료: /home/elicer/FIshing_vessel-1/resized_imgdata/29. 범장망 표류.jpg\n",
      "이미지 저장 완료: /home/elicer/FIshing_vessel-1/resized_imgdata/29. 연승 이동.jpg\n",
      "이미지 저장 완료: /home/elicer/FIshing_vessel-1/resized_imgdata/29. 유망 이동.jpg\n",
      "이미지 저장 완료: /home/elicer/FIshing_vessel-1/resized_imgdata/29. 유망 조업.jpg\n",
      "이미지 저장 완료: /home/elicer/FIshing_vessel-1/resized_imgdata/29. 유망 표류.jpg\n",
      "이미지 저장 완료: /home/elicer/FIshing_vessel-1/resized_imgdata/29. 저인망 이동.jpg\n",
      "이미지 저장 완료: /home/elicer/FIshing_vessel-1/resized_imgdata/29. 채낚기 표류.jpg\n",
      "이미지 저장 완료: /home/elicer/FIshing_vessel-1/resized_imgdata/29. 타망 이동.jpg\n",
      "이미지 저장 완료: /home/elicer/FIshing_vessel-1/resized_imgdata/29. 타망 조업.jpg\n",
      "이미지 저장 완료: /home/elicer/FIshing_vessel-1/resized_imgdata/290. 범장망 표류.jpg\n",
      "이미지 저장 완료: /home/elicer/FIshing_vessel-1/resized_imgdata/29. 통발 이동.jpg\n",
      "이미지 저장 완료: /home/elicer/FIshing_vessel-1/resized_imgdata/29. 타망 표류.jpg\n",
      "이미지 저장 완료: /home/elicer/FIshing_vessel-1/resized_imgdata/291. 범장망 표류.jpg\n",
      "이미지 저장 완료: /home/elicer/FIshing_vessel-1/resized_imgdata/292. 범장망 표류.jpg\n",
      "이미지 저장 완료: /home/elicer/FIshing_vessel-1/resized_imgdata/293. 범장망 표류.jpg\n",
      "이미지 저장 완료: /home/elicer/FIshing_vessel-1/resized_imgdata/294. 범장망 표류.jpg\n",
      "이미지 저장 완료: /home/elicer/FIshing_vessel-1/resized_imgdata/295. 범장망 표류.jpg\n",
      "이미지 저장 완료: /home/elicer/FIshing_vessel-1/resized_imgdata/296. 범장망 표류.jpg\n",
      "이미지 저장 완료: /home/elicer/FIshing_vessel-1/resized_imgdata/297. 범장망 표류.jpg\n",
      "이미지 저장 완료: /home/elicer/FIshing_vessel-1/resized_imgdata/298. 범장망 표류.jpg\n",
      "이미지 저장 완료: /home/elicer/FIshing_vessel-1/resized_imgdata/3. 낚시어선 이동.jpg\n",
      "이미지 저장 완료: /home/elicer/FIshing_vessel-1/resized_imgdata/299. 범장망 표류.jpg\n",
      "이미지 저장 완료: /home/elicer/FIshing_vessel-1/resized_imgdata/3. 낚시어선 표류.jpg\n",
      "이미지 저장 완료: /home/elicer/FIshing_vessel-1/resized_imgdata/3. 등광조망 이동.jpg\n",
      "이미지 저장 완료: /home/elicer/FIshing_vessel-1/resized_imgdata/3. 등광조망 표류.jpg\n",
      "이미지 저장 완료: /home/elicer/FIshing_vessel-1/resized_imgdata/3. 등광조망 조업.jpg\n",
      "이미지 저장 완료: /home/elicer/FIshing_vessel-1/resized_imgdata/3. 범장망 이동.jpg\n",
      "이미지 저장 완료: /home/elicer/FIshing_vessel-1/resized_imgdata/3. 범장망 표류.jpg\n",
      "이미지 저장 완료: /home/elicer/FIshing_vessel-1/resized_imgdata/3. 범장망 조업.jpg\n",
      "이미지 저장 완료: /home/elicer/FIshing_vessel-1/resized_imgdata/3. 안강망 이동.jpg\n",
      "이미지 저장 완료: /home/elicer/FIshing_vessel-1/resized_imgdata/3. 안강망 조업.jpg\n",
      "이미지 저장 완료: /home/elicer/FIshing_vessel-1/resized_imgdata/3. 안강망 표류.jpg\n",
      "이미지 저장 완료: /home/elicer/FIshing_vessel-1/resized_imgdata/3. 유망 이동.jpg\n",
      "이미지 저장 완료: /home/elicer/FIshing_vessel-1/resized_imgdata/3. 연승 이동.jpg\n",
      "이미지 저장 완료: /home/elicer/FIshing_vessel-1/resized_imgdata/3. 유망 조업.jpg\n",
      "이미지 저장 완료: /home/elicer/FIshing_vessel-1/resized_imgdata/3. 유망 표류.jpg\n",
      "이미지 저장 완료: /home/elicer/FIshing_vessel-1/resized_imgdata/3. 저인망 이동.jpg\n",
      "이미지 저장 완료: /home/elicer/FIshing_vessel-1/resized_imgdata/3. 저인망 조업.jpg\n",
      "이미지 저장 완료: /home/elicer/FIshing_vessel-1/resized_imgdata/3. 저인망 표류.jpg\n",
      "이미지 저장 완료: /home/elicer/FIshing_vessel-1/resized_imgdata/3. 채낚기  표류.jpg\n",
      "이미지 저장 완료: /home/elicer/FIshing_vessel-1/resized_imgdata/3. 타망 이동.jpg\n",
      "이미지 저장 완료: /home/elicer/FIshing_vessel-1/resized_imgdata/3. 채낚기 조업.jpg\n",
      "이미지 저장 완료: /home/elicer/FIshing_vessel-1/resized_imgdata/3. 타망 조업.jpg\n",
      "이미지 저장 완료: /home/elicer/FIshing_vessel-1/resized_imgdata/3. 타망 표류.jpg\n",
      "이미지 저장 완료: /home/elicer/FIshing_vessel-1/resized_imgdata/3. 통발 이동.jpg\n",
      "이미지 저장 완료: /home/elicer/FIshing_vessel-1/resized_imgdata/3. 통발 표류.jpg\n",
      "이미지 저장 완료: /home/elicer/FIshing_vessel-1/resized_imgdata/30. 낚시어선 이동.jpg\n",
      "이미지 저장 완료: /home/elicer/FIshing_vessel-1/resized_imgdata/30. 낚시어선 조업.jpg\n",
      "이미지 저장 완료: /home/elicer/FIshing_vessel-1/resized_imgdata/30. 등광조망 이동.jpg\n",
      "이미지 저장 완료: /home/elicer/FIshing_vessel-1/resized_imgdata/30. 범장망 이동.jpg\n",
      "이미지 저장 완료: /home/elicer/FIshing_vessel-1/resized_imgdata/30. 등광조망 조업.jpg\n",
      "이미지 저장 완료: /home/elicer/FIshing_vessel-1/resized_imgdata/30. 범장망 표류.jpg\n",
      "이미지 저장 완료: /home/elicer/FIshing_vessel-1/resized_imgdata/30. 연승 이동.jpg\n",
      "이미지 저장 완료: /home/elicer/FIshing_vessel-1/resized_imgdata/30. 유망 이동.jpg\n",
      "이미지 저장 완료: /home/elicer/FIshing_vessel-1/resized_imgdata/30. 유망 조업.jpg\n",
      "이미지 저장 완료: /home/elicer/FIshing_vessel-1/resized_imgdata/30. 유망 표류.jpg\n",
      "이미지 저장 완료: /home/elicer/FIshing_vessel-1/resized_imgdata/30. 저인망 이동.jpg\n",
      "이미지 저장 완료: /home/elicer/FIshing_vessel-1/resized_imgdata/30. 채낚기 표류.jpg\n",
      "이미지 저장 완료: /home/elicer/FIshing_vessel-1/resized_imgdata/30. 타망 이동.jpg\n",
      "이미지 저장 완료: /home/elicer/FIshing_vessel-1/resized_imgdata/30. 타망 표류.jpg\n",
      "이미지 저장 완료: /home/elicer/FIshing_vessel-1/resized_imgdata/30. 타망 조업.jpg\n",
      "이미지 저장 완료: /home/elicer/FIshing_vessel-1/resized_imgdata/30. 통발 이동.jpg\n",
      "이미지 저장 완료: /home/elicer/FIshing_vessel-1/resized_imgdata/300. 범장망 표류.jpg\n",
      "이미지 저장 완료: /home/elicer/FIshing_vessel-1/resized_imgdata/301. 범장망 표류.jpg\n",
      "이미지 저장 완료: /home/elicer/FIshing_vessel-1/resized_imgdata/302. 범장망 표류.jpg\n",
      "이미지 저장 완료: /home/elicer/FIshing_vessel-1/resized_imgdata/303. 범장망 표류.jpg\n",
      "이미지 저장 완료: /home/elicer/FIshing_vessel-1/resized_imgdata/304. 범장망 표류.jpg\n",
      "이미지 저장 완료: /home/elicer/FIshing_vessel-1/resized_imgdata/305. 범장망 표류.jpg\n",
      "이미지 저장 완료: /home/elicer/FIshing_vessel-1/resized_imgdata/306. 범장망 표류.jpg\n",
      "이미지 저장 완료: /home/elicer/FIshing_vessel-1/resized_imgdata/31. 낚시어선 이동.jpg\n",
      "이미지 저장 완료: /home/elicer/FIshing_vessel-1/resized_imgdata/31. 낚시어선 조업.jpg\n",
      "이미지 저장 완료: /home/elicer/FIshing_vessel-1/resized_imgdata/31. 등광조망 조업.jpg\n",
      "이미지 저장 완료: /home/elicer/FIshing_vessel-1/resized_imgdata/31. 범장망 이동.jpg\n",
      "이미지 저장 완료: /home/elicer/FIshing_vessel-1/resized_imgdata/31. 범장망 표류.jpg\n",
      "이미지 저장 완료: /home/elicer/FIshing_vessel-1/resized_imgdata/31. 유망 이동.jpg\n",
      "이미지 저장 완료: /home/elicer/FIshing_vessel-1/resized_imgdata/31. 연승 이동.jpg\n",
      "이미지 저장 완료: /home/elicer/FIshing_vessel-1/resized_imgdata/31. 유망 조업.jpg\n",
      "이미지 저장 완료: /home/elicer/FIshing_vessel-1/resized_imgdata/31. 유망 표류.jpg\n",
      "이미지 저장 완료: /home/elicer/FIshing_vessel-1/resized_imgdata/31. 저인망 이동.jpg\n",
      "이미지 저장 완료: /home/elicer/FIshing_vessel-1/resized_imgdata/31. 타망 조업.jpg\n",
      "이미지 저장 완료: /home/elicer/FIshing_vessel-1/resized_imgdata/31. 채낚기 표류.jpg\n",
      "이미지 저장 완료: /home/elicer/FIshing_vessel-1/resized_imgdata/31. 타망 이동.jpg\n",
      "이미지 저장 완료: /home/elicer/FIshing_vessel-1/resized_imgdata/31. 타망 표류.jpg\n",
      "이미지 저장 완료: /home/elicer/FIshing_vessel-1/resized_imgdata/31. 통발 이동.jpg\n",
      "이미지 저장 완료: /home/elicer/FIshing_vessel-1/resized_imgdata/32. 낚시어선 이동.jpg\n",
      "이미지 저장 완료: /home/elicer/FIshing_vessel-1/resized_imgdata/32. 낚시어선 조업.jpg\n",
      "이미지 저장 완료: /home/elicer/FIshing_vessel-1/resized_imgdata/32. 등광조망 조업.jpg\n",
      "이미지 저장 완료: /home/elicer/FIshing_vessel-1/resized_imgdata/32. 범장망 이동.jpg\n",
      "이미지 저장 완료: /home/elicer/FIshing_vessel-1/resized_imgdata/32. 범장망 표류.jpg\n",
      "이미지 저장 완료: /home/elicer/FIshing_vessel-1/resized_imgdata/32. 연승 이동.jpg\n",
      "이미지 저장 완료: /home/elicer/FIshing_vessel-1/resized_imgdata/32. 유망 조업.jpg\n",
      "이미지 저장 완료: /home/elicer/FIshing_vessel-1/resized_imgdata/32. 저인망 이동.jpg\n",
      "이미지 저장 완료: /home/elicer/FIshing_vessel-1/resized_imgdata/32. 유망 표류.jpg\n",
      "이미지 저장 완료: /home/elicer/FIshing_vessel-1/resized_imgdata/32. 채낚기 표류.jpg\n",
      "이미지 저장 완료: /home/elicer/FIshing_vessel-1/resized_imgdata/32. 타망 이동.jpg\n",
      "이미지 저장 완료: /home/elicer/FIshing_vessel-1/resized_imgdata/32. 타망 조업.jpg\n",
      "이미지 저장 완료: /home/elicer/FIshing_vessel-1/resized_imgdata/32. 타망 표류.jpg\n",
      "이미지 저장 완료: /home/elicer/FIshing_vessel-1/resized_imgdata/32. 통발 이동.jpg\n",
      "이미지 저장 완료: /home/elicer/FIshing_vessel-1/resized_imgdata/33. 낚시어선 이동.jpg\n",
      "이미지 저장 완료: /home/elicer/FIshing_vessel-1/resized_imgdata/33. 낚시어선 조업.jpg\n",
      "이미지 저장 완료: /home/elicer/FIshing_vessel-1/resized_imgdata/33. 등광조망 조업.jpg\n",
      "이미지 저장 완료: /home/elicer/FIshing_vessel-1/resized_imgdata/33. 범장망 이동.jpg\n",
      "이미지 저장 완료: /home/elicer/FIshing_vessel-1/resized_imgdata/33. 범장망 표류.jpg\n",
      "이미지 저장 완료: /home/elicer/FIshing_vessel-1/resized_imgdata/33. 연승 이동.jpg\n",
      "이미지 저장 완료: /home/elicer/FIshing_vessel-1/resized_imgdata/33. 유망 이동.jpg\n",
      "이미지 저장 완료: /home/elicer/FIshing_vessel-1/resized_imgdata/33. 유망 조업.jpg\n",
      "이미지 저장 완료: /home/elicer/FIshing_vessel-1/resized_imgdata/33. 유망 표류.jpg\n",
      "이미지 저장 완료: /home/elicer/FIshing_vessel-1/resized_imgdata/33. 저인망 이동.jpg\n",
      "이미지 저장 완료: /home/elicer/FIshing_vessel-1/resized_imgdata/33. 채낚기 표류.jpg\n",
      "이미지 저장 완료: /home/elicer/FIshing_vessel-1/resized_imgdata/33. 타망 이동.jpg\n",
      "이미지 저장 완료: /home/elicer/FIshing_vessel-1/resized_imgdata/33. 타망 조업.jpg\n",
      "이미지 저장 완료: /home/elicer/FIshing_vessel-1/resized_imgdata/33. 타망 표류.jpg\n",
      "이미지 저장 완료: /home/elicer/FIshing_vessel-1/resized_imgdata/33. 통발 이동.jpg\n",
      "이미지 저장 완료: /home/elicer/FIshing_vessel-1/resized_imgdata/34. 낚시어선 조업.jpg\n",
      "이미지 저장 완료: /home/elicer/FIshing_vessel-1/resized_imgdata/34. 범장망 이동.jpg\n",
      "이미지 저장 완료: /home/elicer/FIshing_vessel-1/resized_imgdata/34. 범장망 표류.jpg\n",
      "이미지 저장 완료: /home/elicer/FIshing_vessel-1/resized_imgdata/34. 유망 이동.jpg\n",
      "이미지 저장 완료: /home/elicer/FIshing_vessel-1/resized_imgdata/34. 연승 이동.jpg\n",
      "이미지 저장 완료: /home/elicer/FIshing_vessel-1/resized_imgdata/34. 유망 표류.jpg\n",
      "이미지 저장 완료: /home/elicer/FIshing_vessel-1/resized_imgdata/34. 저인망 이동.jpg\n",
      "이미지 저장 완료: /home/elicer/FIshing_vessel-1/resized_imgdata/34. 채낚기 표류.jpg\n",
      "이미지 저장 완료: /home/elicer/FIshing_vessel-1/resized_imgdata/34. 타망 이동.jpg\n",
      "이미지 저장 완료: /home/elicer/FIshing_vessel-1/resized_imgdata/34. 타망 조업.jpg\n",
      "이미지 저장 완료: /home/elicer/FIshing_vessel-1/resized_imgdata/34. 통발 이동.jpg\n",
      "이미지 저장 완료: /home/elicer/FIshing_vessel-1/resized_imgdata/35. 낚시어선 조업.jpg\n",
      "이미지 저장 완료: /home/elicer/FIshing_vessel-1/resized_imgdata/35. 등광조망 조업.jpg\n",
      "이미지 저장 완료: /home/elicer/FIshing_vessel-1/resized_imgdata/35. 범장망 이동.jpg\n",
      "이미지 저장 완료: /home/elicer/FIshing_vessel-1/resized_imgdata/35. 범장망 표류.jpg\n",
      "이미지 저장 완료: /home/elicer/FIshing_vessel-1/resized_imgdata/35. 유망 이동.jpg\n",
      "이미지 저장 완료: /home/elicer/FIshing_vessel-1/resized_imgdata/35. 유망 표류.jpg\n",
      "이미지 저장 완료: /home/elicer/FIshing_vessel-1/resized_imgdata/35. 저인망 이동.jpg\n",
      "이미지 저장 완료: /home/elicer/FIshing_vessel-1/resized_imgdata/35. 타망 이동.jpg\n",
      "이미지 저장 완료: /home/elicer/FIshing_vessel-1/resized_imgdata/35. 타망 표류.jpg\n",
      "이미지 저장 완료: /home/elicer/FIshing_vessel-1/resized_imgdata/35. 타망 조업.jpg\n",
      "이미지 저장 완료: /home/elicer/FIshing_vessel-1/resized_imgdata/35. 통발 이동.jpg\n",
      "이미지 저장 완료: /home/elicer/FIshing_vessel-1/resized_imgdata/36. 낚시어선 조업.jpg\n",
      "이미지 저장 완료: /home/elicer/FIshing_vessel-1/resized_imgdata/36. 등광조망 조업.jpg\n",
      "이미지 저장 완료: /home/elicer/FIshing_vessel-1/resized_imgdata/36. 범장망 표류.jpg\n",
      "이미지 저장 완료: /home/elicer/FIshing_vessel-1/resized_imgdata/36. 범장망 이동.jpg\n",
      "이미지 저장 완료: /home/elicer/FIshing_vessel-1/resized_imgdata/36. 유망 이동.jpg\n",
      "이미지 저장 완료: /home/elicer/FIshing_vessel-1/resized_imgdata/36. 유망 표류.jpg\n",
      "이미지 저장 완료: /home/elicer/FIshing_vessel-1/resized_imgdata/36. 저인망 이동.jpg\n",
      "이미지 저장 완료: /home/elicer/FIshing_vessel-1/resized_imgdata/36. 타망 ldehd.jpg\n",
      "이미지 저장 완료: /home/elicer/FIshing_vessel-1/resized_imgdata/36. 타망 조업.jpg\n",
      "이미지 저장 완료: /home/elicer/FIshing_vessel-1/resized_imgdata/36. 타망 표류.jpg\n",
      "이미지 저장 완료: /home/elicer/FIshing_vessel-1/resized_imgdata/36. 통발 이동.jpg\n",
      "이미지 저장 완료: /home/elicer/FIshing_vessel-1/resized_imgdata/37. 낚시어선 조업.jpg\n",
      "이미지 저장 완료: /home/elicer/FIshing_vessel-1/resized_imgdata/37. 등광조망 조업.jpg\n",
      "이미지 저장 완료: /home/elicer/FIshing_vessel-1/resized_imgdata/37. 범장망 이동.jpg\n",
      "이미지 저장 완료: /home/elicer/FIshing_vessel-1/resized_imgdata/37. 범장망 표류.jpg\n",
      "이미지 저장 완료: /home/elicer/FIshing_vessel-1/resized_imgdata/37. 유망 이동.jpg\n",
      "이미지 저장 완료: /home/elicer/FIshing_vessel-1/resized_imgdata/37. 유망 표류.jpg\n",
      "이미지 저장 완료: /home/elicer/FIshing_vessel-1/resized_imgdata/37. 저인망 이동.jpg\n",
      "이미지 저장 완료: /home/elicer/FIshing_vessel-1/resized_imgdata/37. 타망 이동.jpg\n",
      "이미지 저장 완료: /home/elicer/FIshing_vessel-1/resized_imgdata/37. 타망 조업.jpg\n",
      "이미지 저장 완료: /home/elicer/FIshing_vessel-1/resized_imgdata/37. 타망 표류.jpg\n",
      "이미지 저장 완료: /home/elicer/FIshing_vessel-1/resized_imgdata/37. 통발 이동.jpg\n",
      "이미지 저장 완료: /home/elicer/FIshing_vessel-1/resized_imgdata/38. 낚시어선 조업.jpg\n",
      "이미지 저장 완료: /home/elicer/FIshing_vessel-1/resized_imgdata/38. 등광조망 조업.jpg\n",
      "이미지 저장 완료: /home/elicer/FIshing_vessel-1/resized_imgdata/38. 범장망 표류.jpg\n",
      "이미지 저장 완료: /home/elicer/FIshing_vessel-1/resized_imgdata/38. 유망 이동.jpg\n",
      "이미지 저장 완료: /home/elicer/FIshing_vessel-1/resized_imgdata/38. 유망 표류.jpg\n",
      "이미지 저장 완료: /home/elicer/FIshing_vessel-1/resized_imgdata/38. 저인망 이동.jpg\n",
      "이미지 저장 완료: /home/elicer/FIshing_vessel-1/resized_imgdata/38. 채낚기 표류.jpg\n",
      "이미지 저장 완료: /home/elicer/FIshing_vessel-1/resized_imgdata/38. 타망 이동.jpg\n",
      "이미지 저장 완료: /home/elicer/FIshing_vessel-1/resized_imgdata/38. 타망 조업.jpg\n",
      "이미지 저장 완료: /home/elicer/FIshing_vessel-1/resized_imgdata/38. 타망 표류.jpg\n",
      "이미지 저장 완료: /home/elicer/FIshing_vessel-1/resized_imgdata/38. 통발 이동.jpg\n",
      "이미지 저장 완료: /home/elicer/FIshing_vessel-1/resized_imgdata/39. 낚시어선 이동.png\n",
      "이미지 저장 완료: /home/elicer/FIshing_vessel-1/resized_imgdata/39. 낚시어선 조업.jpg\n",
      "이미지 저장 완료: /home/elicer/FIshing_vessel-1/resized_imgdata/39. 등광조망 조업.png\n",
      "이미지 저장 완료: /home/elicer/FIshing_vessel-1/resized_imgdata/39. 범장망 이동.jpg\n",
      "이미지 저장 완료: /home/elicer/FIshing_vessel-1/resized_imgdata/39. 범장망 표류.jpg\n",
      "이미지 저장 완료: /home/elicer/FIshing_vessel-1/resized_imgdata/39. 유망 이동.jpg\n",
      "이미지 저장 완료: /home/elicer/FIshing_vessel-1/resized_imgdata/39. 유망 표류.jpg\n",
      "이미지 저장 완료: /home/elicer/FIshing_vessel-1/resized_imgdata/39. 저인망 이동.jpg\n",
      "이미지 저장 완료: /home/elicer/FIshing_vessel-1/resized_imgdata/39. 채낚기 표류.jpg\n",
      "이미지 저장 완료: /home/elicer/FIshing_vessel-1/resized_imgdata/39. 타망 이동.jpg\n",
      "이미지 저장 완료: /home/elicer/FIshing_vessel-1/resized_imgdata/39. 타망 조업.jpg\n",
      "이미지 저장 완료: /home/elicer/FIshing_vessel-1/resized_imgdata/39. 타망 표류.jpg\n",
      "이미지 저장 완료: /home/elicer/FIshing_vessel-1/resized_imgdata/39. 통발 이동.jpg\n",
      "이미지 저장 완료: /home/elicer/FIshing_vessel-1/resized_imgdata/4. 낚시어선 이동.jpg\n",
      "이미지 저장 완료: /home/elicer/FIshing_vessel-1/resized_imgdata/4. 낚시어선 조업.jpg\n",
      "이미지 저장 완료: /home/elicer/FIshing_vessel-1/resized_imgdata/4. 낚시어선 표류.jpg\n",
      "이미지 저장 완료: /home/elicer/FIshing_vessel-1/resized_imgdata/4. 등광조망 이동.jpg\n",
      "이미지 저장 완료: /home/elicer/FIshing_vessel-1/resized_imgdata/4. 등광조망 조업.jpg\n",
      "이미지 저장 완료: /home/elicer/FIshing_vessel-1/resized_imgdata/4. 등광조망 표류.jpg\n",
      "이미지 저장 완료: /home/elicer/FIshing_vessel-1/resized_imgdata/4. 범장망 이동.jpg\n",
      "이미지 저장 완료: /home/elicer/FIshing_vessel-1/resized_imgdata/4. 범장망 조업.jpg\n",
      "이미지 저장 완료: /home/elicer/FIshing_vessel-1/resized_imgdata/4. 범장망 표류.jpg\n",
      "이미지 저장 완료: /home/elicer/FIshing_vessel-1/resized_imgdata/4. 안강망 이동.jpg\n",
      "이미지 저장 완료: /home/elicer/FIshing_vessel-1/resized_imgdata/4. 안강망 조업.jpg\n",
      "이미지 저장 완료: /home/elicer/FIshing_vessel-1/resized_imgdata/4. 안강망 표류.jpg\n",
      "이미지 저장 완료: /home/elicer/FIshing_vessel-1/resized_imgdata/4. 연승 표류.jpg\n",
      "이미지 저장 완료: /home/elicer/FIshing_vessel-1/resized_imgdata/4. 유망 이동.jpg\n",
      "이미지 저장 완료: /home/elicer/FIshing_vessel-1/resized_imgdata/4. 유망 조업.jpg\n",
      "이미지 저장 완료: /home/elicer/FIshing_vessel-1/resized_imgdata/4. 저인망 이동.jpg\n",
      "이미지 저장 완료: /home/elicer/FIshing_vessel-1/resized_imgdata/4. 저인망 조업.jpg\n",
      "이미지 저장 완료: /home/elicer/FIshing_vessel-1/resized_imgdata/4. 저인망 표류.jpg\n",
      "이미지 저장 완료: /home/elicer/FIshing_vessel-1/resized_imgdata/4. 채낚기  표류.jpg\n",
      "이미지 저장 완료: /home/elicer/FIshing_vessel-1/resized_imgdata/4. 채낚기 이동.jpg\n",
      "이미지 저장 완료: /home/elicer/FIshing_vessel-1/resized_imgdata/4. 채낚기 조업.jpg\n",
      "이미지 저장 완료: /home/elicer/FIshing_vessel-1/resized_imgdata/4. 타망 이동.jpg\n",
      "이미지 저장 완료: /home/elicer/FIshing_vessel-1/resized_imgdata/4. 타망 조업.jpg\n",
      "이미지 저장 완료: /home/elicer/FIshing_vessel-1/resized_imgdata/4. 타망 표류.jpg\n",
      "이미지 저장 완료: /home/elicer/FIshing_vessel-1/resized_imgdata/4. 통발 이동.jpg\n",
      "이미지 저장 완료: /home/elicer/FIshing_vessel-1/resized_imgdata/4. 통발 표류.jpg\n",
      "이미지 저장 완료: /home/elicer/FIshing_vessel-1/resized_imgdata/40. 낚시어선 이동.png\n",
      "이미지 저장 완료: /home/elicer/FIshing_vessel-1/resized_imgdata/40. 등광조망 조업.jpg\n",
      "이미지 저장 완료: /home/elicer/FIshing_vessel-1/resized_imgdata/40. 범장망 이동.jpg\n",
      "이미지 저장 완료: /home/elicer/FIshing_vessel-1/resized_imgdata/40. 범장망 표류.jpg\n",
      "이미지 저장 완료: /home/elicer/FIshing_vessel-1/resized_imgdata/40. 유망 이동.jpg\n",
      "이미지 저장 완료: /home/elicer/FIshing_vessel-1/resized_imgdata/40. 유망 표류.jpg\n",
      "이미지 저장 완료: /home/elicer/FIshing_vessel-1/resized_imgdata/40. 저인망 이동.jpg\n",
      "이미지 저장 완료: /home/elicer/FIshing_vessel-1/resized_imgdata/40. 채낚기 표류.jpg\n",
      "이미지 저장 완료: /home/elicer/FIshing_vessel-1/resized_imgdata/40. 타망 조업.jpg\n",
      "이미지 저장 완료: /home/elicer/FIshing_vessel-1/resized_imgdata/40. 타망 이동.jpg\n",
      "이미지 저장 완료: /home/elicer/FIshing_vessel-1/resized_imgdata/40. 타망 표류.jpg\n",
      "이미지 저장 완료: /home/elicer/FIshing_vessel-1/resized_imgdata/40. 통발 이동.jpg\n",
      "이미지 저장 완료: /home/elicer/FIshing_vessel-1/resized_imgdata/41. 낚시어선 이동.png\n",
      "이미지 저장 완료: /home/elicer/FIshing_vessel-1/resized_imgdata/41. 낚시어선 조업.jpg\n",
      "이미지 저장 완료: /home/elicer/FIshing_vessel-1/resized_imgdata/41. 등광조망 조업.jpg\n",
      "이미지 저장 완료: /home/elicer/FIshing_vessel-1/resized_imgdata/41. 범장망 이동.jpg\n",
      "이미지 저장 완료: /home/elicer/FIshing_vessel-1/resized_imgdata/41. 유망 이동.jpg\n",
      "이미지 저장 완료: /home/elicer/FIshing_vessel-1/resized_imgdata/41. 유망 표류.jpg\n",
      "이미지 저장 완료: /home/elicer/FIshing_vessel-1/resized_imgdata/41. 저인망 이동.jpg\n",
      "이미지 저장 완료: /home/elicer/FIshing_vessel-1/resized_imgdata/41. 채낚기 표류.jpg\n",
      "이미지 저장 완료: /home/elicer/FIshing_vessel-1/resized_imgdata/41. 타망 이동.jpg\n",
      "이미지 저장 완료: /home/elicer/FIshing_vessel-1/resized_imgdata/41. 타망 조업.jpg\n",
      "이미지 저장 완료: /home/elicer/FIshing_vessel-1/resized_imgdata/41. 타망 표류.jpg\n",
      "이미지 저장 완료: /home/elicer/FIshing_vessel-1/resized_imgdata/41. 통발 이동.jpg\n",
      "이미지 저장 완료: /home/elicer/FIshing_vessel-1/resized_imgdata/42. 낚시어선 이동.png\n",
      "이미지 저장 완료: /home/elicer/FIshing_vessel-1/resized_imgdata/42. 낚시어선 조업.jpg\n",
      "이미지 저장 완료: /home/elicer/FIshing_vessel-1/resized_imgdata/42. 등광조망 조업.jpg\n",
      "이미지 저장 완료: /home/elicer/FIshing_vessel-1/resized_imgdata/42. 범장망 이동.jpg\n",
      "이미지 저장 완료: /home/elicer/FIshing_vessel-1/resized_imgdata/42. 유망 표류.jpg\n",
      "이미지 저장 완료: /home/elicer/FIshing_vessel-1/resized_imgdata/42. 범장망 표류.jpg\n",
      "이미지 저장 완료: /home/elicer/FIshing_vessel-1/resized_imgdata/42. 저인망 이동.jpg\n",
      "이미지 저장 완료: /home/elicer/FIshing_vessel-1/resized_imgdata/42. 채낚기 표류.jpg\n",
      "이미지 저장 완료: /home/elicer/FIshing_vessel-1/resized_imgdata/42. 타망 이동.jpg\n",
      "이미지 저장 완료: /home/elicer/FIshing_vessel-1/resized_imgdata/42. 타망 조업.jpg\n",
      "이미지 저장 완료: /home/elicer/FIshing_vessel-1/resized_imgdata/42. 타망 표류.jpg\n",
      "이미지 저장 완료: /home/elicer/FIshing_vessel-1/resized_imgdata/42. 통발 이동.jpg\n",
      "이미지 저장 완료: /home/elicer/FIshing_vessel-1/resized_imgdata/43. 낚시어선 이동.png\n",
      "이미지 저장 완료: /home/elicer/FIshing_vessel-1/resized_imgdata/43. 낚시어선 조업.jpg\n",
      "이미지 저장 완료: /home/elicer/FIshing_vessel-1/resized_imgdata/43. 등광조망 조업.jpg\n",
      "이미지 저장 완료: /home/elicer/FIshing_vessel-1/resized_imgdata/43. 범장망 이동.jpg\n",
      "이미지 저장 완료: /home/elicer/FIshing_vessel-1/resized_imgdata/43. 범장망 표류.jpg\n",
      "이미지 저장 완료: /home/elicer/FIshing_vessel-1/resized_imgdata/43. 유망 표류.jpg\n",
      "이미지 저장 완료: /home/elicer/FIshing_vessel-1/resized_imgdata/43. 타망 이동.jpg\n",
      "이미지 저장 완료: /home/elicer/FIshing_vessel-1/resized_imgdata/43. 타망 조업.jpg\n",
      "이미지 저장 완료: /home/elicer/FIshing_vessel-1/resized_imgdata/43. 타망 표류.jpg\n",
      "이미지 저장 완료: /home/elicer/FIshing_vessel-1/resized_imgdata/43. 통발 이동.jpg\n",
      "이미지 저장 완료: /home/elicer/FIshing_vessel-1/resized_imgdata/44. 낚시어선 이동.jpg\n",
      "이미지 저장 완료: /home/elicer/FIshing_vessel-1/resized_imgdata/44. 낚시어선 조업.jpg\n",
      "이미지 저장 완료: /home/elicer/FIshing_vessel-1/resized_imgdata/44. 등광조망 조업.jpg\n",
      "이미지 저장 완료: /home/elicer/FIshing_vessel-1/resized_imgdata/44. 범장망 이동.jpg\n",
      "이미지 저장 완료: /home/elicer/FIshing_vessel-1/resized_imgdata/44. 범장망 표류.jpg\n",
      "이미지 저장 완료: /home/elicer/FIshing_vessel-1/resized_imgdata/44. 유망 표류.jpg\n",
      "이미지 저장 완료: /home/elicer/FIshing_vessel-1/resized_imgdata/44. 저인망 이동.jpg\n",
      "이미지 저장 완료: /home/elicer/FIshing_vessel-1/resized_imgdata/44. 타망 이동.jpg\n",
      "이미지 저장 완료: /home/elicer/FIshing_vessel-1/resized_imgdata/44. 타망 조업.jpg\n",
      "이미지 저장 완료: /home/elicer/FIshing_vessel-1/resized_imgdata/45. 낚시어선 이동.jpg\n",
      "이미지 저장 완료: /home/elicer/FIshing_vessel-1/resized_imgdata/44. 타망 표류.jpg\n",
      "이미지 저장 완료: /home/elicer/FIshing_vessel-1/resized_imgdata/44. 통발 이동.jpg\n",
      "이미지 저장 완료: /home/elicer/FIshing_vessel-1/resized_imgdata/45. 낚시어선 조업.jpg\n",
      "이미지 저장 완료: /home/elicer/FIshing_vessel-1/resized_imgdata/45. 등광조망 조업.jpg\n",
      "이미지 저장 완료: /home/elicer/FIshing_vessel-1/resized_imgdata/45. 범장망 이동.jpg\n",
      "이미지 저장 완료: /home/elicer/FIshing_vessel-1/resized_imgdata/45. 유망 표류.jpg\n",
      "이미지 저장 완료: /home/elicer/FIshing_vessel-1/resized_imgdata/45. 범장망 표류.jpg\n",
      "이미지 저장 완료: /home/elicer/FIshing_vessel-1/resized_imgdata/45. 타망 이동.jpg\n",
      "이미지 저장 완료: /home/elicer/FIshing_vessel-1/resized_imgdata/45. 저인망 이동.jpg\n",
      "이미지 저장 완료: /home/elicer/FIshing_vessel-1/resized_imgdata/45. 타망 조업.jpg\n",
      "이미지 저장 완료: /home/elicer/FIshing_vessel-1/resized_imgdata/45. 타망 표류.jpg\n",
      "이미지 저장 완료: /home/elicer/FIshing_vessel-1/resized_imgdata/46. 낚시어선 이동.jpg\n",
      "이미지 저장 완료: /home/elicer/FIshing_vessel-1/resized_imgdata/45. 통발 이동.jpg\n",
      "이미지 저장 완료: /home/elicer/FIshing_vessel-1/resized_imgdata/46. 낚시어선 조업.jpg\n",
      "이미지 저장 완료: /home/elicer/FIshing_vessel-1/resized_imgdata/46. 범장망 이동.jpg\n",
      "이미지 저장 완료: /home/elicer/FIshing_vessel-1/resized_imgdata/46. 범장망 표류.jpg\n",
      "이미지 저장 완료: /home/elicer/FIshing_vessel-1/resized_imgdata/46. 유망 표류.jpg\n",
      "이미지 저장 완료: /home/elicer/FIshing_vessel-1/resized_imgdata/46. 저인망 이동.jpg\n",
      "이미지 저장 완료: /home/elicer/FIshing_vessel-1/resized_imgdata/46. 타망 이동.jpg\n",
      "이미지 저장 완료: /home/elicer/FIshing_vessel-1/resized_imgdata/46. 타망 조업.jpg\n",
      "이미지 저장 완료: /home/elicer/FIshing_vessel-1/resized_imgdata/46. 타망 표류.jpg\n",
      "이미지 저장 완료: /home/elicer/FIshing_vessel-1/resized_imgdata/46. 통발 이동.jpg\n",
      "이미지 저장 완료: /home/elicer/FIshing_vessel-1/resized_imgdata/47. 낚시어선 이동.jpg\n",
      "이미지 저장 완료: /home/elicer/FIshing_vessel-1/resized_imgdata/47. 낚시어선 조업.jpg\n",
      "이미지 저장 완료: /home/elicer/FIshing_vessel-1/resized_imgdata/47. 범장망 이동.jpg\n",
      "이미지 저장 완료: /home/elicer/FIshing_vessel-1/resized_imgdata/47. 범장망 표류.jpg\n",
      "이미지 저장 완료: /home/elicer/FIshing_vessel-1/resized_imgdata/47. 등광조망 조업.jpg\n",
      "이미지 저장 완료: /home/elicer/FIshing_vessel-1/resized_imgdata/47. 저인망 이동.jpg\n",
      "이미지 저장 완료: /home/elicer/FIshing_vessel-1/resized_imgdata/47. 유망 표류.jpg\n",
      "이미지 저장 완료: /home/elicer/FIshing_vessel-1/resized_imgdata/47. 타망 이동.jpg\n",
      "이미지 저장 완료: /home/elicer/FIshing_vessel-1/resized_imgdata/47. 타망 조업.jpg\n",
      "이미지 저장 완료: /home/elicer/FIshing_vessel-1/resized_imgdata/47. 타망 표류.jpg\n",
      "이미지 저장 완료: /home/elicer/FIshing_vessel-1/resized_imgdata/47. 통발 이동.jpg\n",
      "이미지 저장 완료: /home/elicer/FIshing_vessel-1/resized_imgdata/48. 낚시어선 이동.jpg\n",
      "이미지 저장 완료: /home/elicer/FIshing_vessel-1/resized_imgdata/48. 낚시어선 조업.jpg\n",
      "이미지 저장 완료: /home/elicer/FIshing_vessel-1/resized_imgdata/48. 등광조망 조업.jpg\n",
      "이미지 저장 완료: /home/elicer/FIshing_vessel-1/resized_imgdata/48. 범장망 이동.jpg\n",
      "이미지 저장 완료: /home/elicer/FIshing_vessel-1/resized_imgdata/48. 범장망 표류.jpg\n",
      "이미지 저장 완료: /home/elicer/FIshing_vessel-1/resized_imgdata/48. 저인망 이동.jpg\n",
      "이미지 저장 완료: /home/elicer/FIshing_vessel-1/resized_imgdata/48. 타망 이동.jpg\n",
      "이미지 저장 완료: /home/elicer/FIshing_vessel-1/resized_imgdata/48. 타망 조업.jpg\n",
      "이미지 저장 완료: /home/elicer/FIshing_vessel-1/resized_imgdata/48. 타망 표류.jpg\n",
      "이미지 저장 완료: /home/elicer/FIshing_vessel-1/resized_imgdata/49. 등광조망 조업.jpg\n",
      "이미지 저장 완료: /home/elicer/FIshing_vessel-1/resized_imgdata/48. 통발 이동.jpg\n",
      "이미지 저장 완료: /home/elicer/FIshing_vessel-1/resized_imgdata/49. 범장망 표류.jpg\n",
      "이미지 저장 완료: /home/elicer/FIshing_vessel-1/resized_imgdata/49. 범장망 이동.jpg\n",
      "이미지 저장 완료: /home/elicer/FIshing_vessel-1/resized_imgdata/49. 낚시어선 조업.jpg\n",
      "이미지 저장 완료: /home/elicer/FIshing_vessel-1/resized_imgdata/49. 유망 표류.jpg\n",
      "이미지 저장 완료: /home/elicer/FIshing_vessel-1/resized_imgdata/49. 저인망 이동.jpg\n",
      "이미지 저장 완료: /home/elicer/FIshing_vessel-1/resized_imgdata/49. 타망 이동.jpg\n",
      "이미지 저장 완료: /home/elicer/FIshing_vessel-1/resized_imgdata/49. 타망 조업.jpg\n",
      "이미지 저장 완료: /home/elicer/FIshing_vessel-1/resized_imgdata/49. 타망 표류.jpg\n",
      "이미지 저장 완료: /home/elicer/FIshing_vessel-1/resized_imgdata/49. 통발 이동.jpg\n",
      "이미지 저장 완료: /home/elicer/FIshing_vessel-1/resized_imgdata/5. 낚시어선 이동.jpg\n",
      "이미지 저장 완료: /home/elicer/FIshing_vessel-1/resized_imgdata/5. 낚시어선 조업.jpg\n",
      "이미지 저장 완료: /home/elicer/FIshing_vessel-1/resized_imgdata/5. 등광조망 이동.jpg\n",
      "이미지 저장 완료: /home/elicer/FIshing_vessel-1/resized_imgdata/5. 등광조망 표류.jpg\n",
      "이미지 저장 완료: /home/elicer/FIshing_vessel-1/resized_imgdata/5. 범장망 이동.jpg\n",
      "이미지 저장 완료: /home/elicer/FIshing_vessel-1/resized_imgdata/5. 등광조망 조업.jpg\n",
      "이미지 저장 완료: /home/elicer/FIshing_vessel-1/resized_imgdata/5. 범장망 표류.jpg\n",
      "이미지 저장 완료: /home/elicer/FIshing_vessel-1/resized_imgdata/5. 안강망 이동.jpg\n",
      "이미지 저장 완료: /home/elicer/FIshing_vessel-1/resized_imgdata/5. 안강망 조업.jpg\n",
      "이미지 저장 완료: /home/elicer/FIshing_vessel-1/resized_imgdata/5. 연승 이동.jpg\n",
      "이미지 저장 완료: /home/elicer/FIshing_vessel-1/resized_imgdata/5. 연승 표류.jpg\n",
      "이미지 저장 완료: /home/elicer/FIshing_vessel-1/resized_imgdata/5. 유망 조업.jpg\n",
      "이미지 저장 완료: /home/elicer/FIshing_vessel-1/resized_imgdata/5. 유망 이동.jpg\n",
      "이미지 저장 완료: /home/elicer/FIshing_vessel-1/resized_imgdata/5. 유망 표류.jpg\n",
      "이미지 저장 완료: /home/elicer/FIshing_vessel-1/resized_imgdata/5. 저인망 이동.jpg\n",
      "이미지 저장 완료: /home/elicer/FIshing_vessel-1/resized_imgdata/5. 저인망 조업.jpg\n",
      "이미지 저장 완료: /home/elicer/FIshing_vessel-1/resized_imgdata/5. 채낚기  표류.jpg\n",
      "이미지 저장 완료: /home/elicer/FIshing_vessel-1/resized_imgdata/5. 채낚기 이동.jpg\n",
      "이미지 저장 완료: /home/elicer/FIshing_vessel-1/resized_imgdata/5. 타망 이동.jpg\n",
      "이미지 저장 완료: /home/elicer/FIshing_vessel-1/resized_imgdata/5. 타망 조업.jpg\n",
      "이미지 저장 완료: /home/elicer/FIshing_vessel-1/resized_imgdata/5. 타망 표류.jpg\n",
      "이미지 저장 완료: /home/elicer/FIshing_vessel-1/resized_imgdata/5. 통발 이동.jpg\n",
      "이미지 저장 완료: /home/elicer/FIshing_vessel-1/resized_imgdata/5. 통발 표류.jpg\n",
      "이미지 저장 완료: /home/elicer/FIshing_vessel-1/resized_imgdata/50 낚시어선 조업.jpg\n",
      "이미지 저장 완료: /home/elicer/FIshing_vessel-1/resized_imgdata/50. 낚시어선 이동.jpg\n",
      "이미지 저장 완료: /home/elicer/FIshing_vessel-1/resized_imgdata/50. 범장망 이동.jpg\n",
      "이미지 저장 완료: /home/elicer/FIshing_vessel-1/resized_imgdata/50. 범장망 표류.jpg\n",
      "이미지 저장 완료: /home/elicer/FIshing_vessel-1/resized_imgdata/50. 유망 표류.jpg\n",
      "이미지 저장 완료: /home/elicer/FIshing_vessel-1/resized_imgdata/50. 타망 이동.jpg\n",
      "이미지 저장 완료: /home/elicer/FIshing_vessel-1/resized_imgdata/50. 타망 조업.jpg\n",
      "이미지 저장 완료: /home/elicer/FIshing_vessel-1/resized_imgdata/50. 저인망 이동.jpg\n",
      "이미지 저장 완료: /home/elicer/FIshing_vessel-1/resized_imgdata/50. 타망 표류.jpg\n",
      "이미지 저장 완료: /home/elicer/FIshing_vessel-1/resized_imgdata/51. 낚시어선 이동.jpg\n",
      "이미지 저장 완료: /home/elicer/FIshing_vessel-1/resized_imgdata/51. 범장망 표류.jpg\n",
      "이미지 저장 완료: /home/elicer/FIshing_vessel-1/resized_imgdata/51. 낚시어선 조업.jpg\n",
      "이미지 저장 완료: /home/elicer/FIshing_vessel-1/resized_imgdata/51. 범장망 이동.jpg\n",
      "이미지 저장 완료: /home/elicer/FIshing_vessel-1/resized_imgdata/51. 유망 표류.jpg\n",
      "이미지 저장 완료: /home/elicer/FIshing_vessel-1/resized_imgdata/51. 타망 이동.jpg\n",
      "이미지 저장 완료: /home/elicer/FIshing_vessel-1/resized_imgdata/51. 저인망 이동.jpg\n",
      "이미지 저장 완료: /home/elicer/FIshing_vessel-1/resized_imgdata/51. 타망 조업.jpg\n",
      "이미지 저장 완료: /home/elicer/FIshing_vessel-1/resized_imgdata/51. 타망 표류.jpg\n",
      "이미지 저장 완료: /home/elicer/FIshing_vessel-1/resized_imgdata/52. 낚시어선 이동.jpg\n",
      "이미지 저장 완료: /home/elicer/FIshing_vessel-1/resized_imgdata/52. 낚시어선 조업.jpg\n",
      "이미지 저장 완료: /home/elicer/FIshing_vessel-1/resized_imgdata/52. 범장망 이동.jpg\n",
      "이미지 저장 완료: /home/elicer/FIshing_vessel-1/resized_imgdata/52. 범장망 표류.jpg\n",
      "이미지 저장 완료: /home/elicer/FIshing_vessel-1/resized_imgdata/52. 유망 표류.jpg\n",
      "이미지 저장 완료: /home/elicer/FIshing_vessel-1/resized_imgdata/52. 저인망 이동.jpg\n",
      "이미지 저장 완료: /home/elicer/FIshing_vessel-1/resized_imgdata/52. 타망 이동.jpg\n",
      "이미지 저장 완료: /home/elicer/FIshing_vessel-1/resized_imgdata/52. 타망 조업.jpg\n",
      "이미지 저장 완료: /home/elicer/FIshing_vessel-1/resized_imgdata/52. 타망 표류.jpg\n",
      "이미지 저장 완료: /home/elicer/FIshing_vessel-1/resized_imgdata/52. 통발 이동.jpg\n",
      "이미지 저장 완료: /home/elicer/FIshing_vessel-1/resized_imgdata/53. 낚시어선 조업.jpg\n",
      "이미지 저장 완료: /home/elicer/FIshing_vessel-1/resized_imgdata/53. 범장망 이동.jpg\n",
      "이미지 저장 완료: /home/elicer/FIshing_vessel-1/resized_imgdata/53. 범장망 표류.jpg\n",
      "이미지 저장 완료: /home/elicer/FIshing_vessel-1/resized_imgdata/53. 낚시어선 이동.jpg\n",
      "이미지 저장 완료: /home/elicer/FIshing_vessel-1/resized_imgdata/53. 유망 표류.jpg\n",
      "이미지 저장 완료: /home/elicer/FIshing_vessel-1/resized_imgdata/53. 저인망 이동.jpg\n",
      "이미지 저장 완료: /home/elicer/FIshing_vessel-1/resized_imgdata/53. 타망 이동.jpg\n",
      "이미지 저장 완료: /home/elicer/FIshing_vessel-1/resized_imgdata/53. 타망 조업.jpg\n",
      "이미지 저장 완료: /home/elicer/FIshing_vessel-1/resized_imgdata/53. 타망 표류.jpg\n",
      "이미지 저장 완료: /home/elicer/FIshing_vessel-1/resized_imgdata/54. 낚시어선 조업.jpg\n",
      "이미지 저장 완료: /home/elicer/FIshing_vessel-1/resized_imgdata/54. 낚시어선 이동.jpg\n",
      "이미지 저장 완료: /home/elicer/FIshing_vessel-1/resized_imgdata/54. 범장망 표류.jpg\n",
      "이미지 저장 완료: /home/elicer/FIshing_vessel-1/resized_imgdata/54. 범장망 이동.jpg\n",
      "이미지 저장 완료: /home/elicer/FIshing_vessel-1/resized_imgdata/54. 타망 조업.jpg\n",
      "이미지 저장 완료: /home/elicer/FIshing_vessel-1/resized_imgdata/54. 타망 이동.jpg\n",
      "이미지 저장 완료: /home/elicer/FIshing_vessel-1/resized_imgdata/54. 타망 표류.jpg\n",
      "이미지 저장 완료: /home/elicer/FIshing_vessel-1/resized_imgdata/55. 낚시어선 이동.jpg\n",
      "이미지 저장 완료: /home/elicer/FIshing_vessel-1/resized_imgdata/55. 낚시어선 조업.jpg\n",
      "이미지 저장 완료: /home/elicer/FIshing_vessel-1/resized_imgdata/55. 범장망 이동.jpg\n",
      "이미지 저장 완료: /home/elicer/FIshing_vessel-1/resized_imgdata/55. 범장망 표류.jpg\n",
      "이미지 저장 완료: /home/elicer/FIshing_vessel-1/resized_imgdata/55. 유망 표류.jpg\n",
      "이미지 저장 완료: /home/elicer/FIshing_vessel-1/resized_imgdata/55. 타망 이동.jpg\n",
      "이미지 저장 완료: /home/elicer/FIshing_vessel-1/resized_imgdata/55. 타망 조업.jpg\n",
      "이미지 저장 완료: /home/elicer/FIshing_vessel-1/resized_imgdata/55. 타망 표류.jpg\n",
      "이미지 저장 완료: /home/elicer/FIshing_vessel-1/resized_imgdata/55. 통발 이동.jpg\n",
      "이미지 저장 완료: /home/elicer/FIshing_vessel-1/resized_imgdata/56. 낚시어선 이동.jpg\n",
      "이미지 저장 완료: /home/elicer/FIshing_vessel-1/resized_imgdata/56. 낚시어선 조업.jpg\n",
      "이미지 저장 완료: /home/elicer/FIshing_vessel-1/resized_imgdata/56. 범장망 이동.jpg\n",
      "이미지 저장 완료: /home/elicer/FIshing_vessel-1/resized_imgdata/56. 유망 표류.png\n",
      "이미지 저장 완료: /home/elicer/FIshing_vessel-1/resized_imgdata/56. 범장망 표류.jpg\n",
      "이미지 저장 완료: /home/elicer/FIshing_vessel-1/resized_imgdata/56. 타망 이동.jpg\n",
      "이미지 저장 완료: /home/elicer/FIshing_vessel-1/resized_imgdata/56. 타망 조업.jpg\n",
      "이미지 저장 완료: /home/elicer/FIshing_vessel-1/resized_imgdata/56. 타망 표류.jpg\n",
      "이미지 저장 완료: /home/elicer/FIshing_vessel-1/resized_imgdata/56. 통발 이동.jpg\n",
      "이미지 저장 완료: /home/elicer/FIshing_vessel-1/resized_imgdata/57. 낚시어선 이동.jpg\n",
      "이미지 저장 완료: /home/elicer/FIshing_vessel-1/resized_imgdata/57. 낚시어선 조업.jpg\n",
      "이미지 저장 완료: /home/elicer/FIshing_vessel-1/resized_imgdata/57. 범장망 이동.jpg\n",
      "이미지 저장 완료: /home/elicer/FIshing_vessel-1/resized_imgdata/57. 범장망 표류.jpg\n",
      "이미지 저장 완료: /home/elicer/FIshing_vessel-1/resized_imgdata/57. 유망 표류.jpg\n",
      "이미지 저장 완료: /home/elicer/FIshing_vessel-1/resized_imgdata/57. 타망 이동.jpg\n",
      "이미지 저장 완료: /home/elicer/FIshing_vessel-1/resized_imgdata/57. 타망 조업.jpg\n",
      "이미지 저장 완료: /home/elicer/FIshing_vessel-1/resized_imgdata/57. 타망 표류.jpg\n",
      "이미지 저장 완료: /home/elicer/FIshing_vessel-1/resized_imgdata/57. 통발 이동.jpg\n",
      "이미지 저장 완료: /home/elicer/FIshing_vessel-1/resized_imgdata/58. 낚시어선 조업.jpg\n",
      "이미지 저장 완료: /home/elicer/FIshing_vessel-1/resized_imgdata/58. 범장망 표류.jpg\n",
      "이미지 저장 완료: /home/elicer/FIshing_vessel-1/resized_imgdata/58. 범장망 이동.jpg\n",
      "이미지 저장 완료: /home/elicer/FIshing_vessel-1/resized_imgdata/58. 유망 표류.png\n",
      "이미지 저장 완료: /home/elicer/FIshing_vessel-1/resized_imgdata/58. 타망 이동.jpg\n",
      "이미지 저장 완료: /home/elicer/FIshing_vessel-1/resized_imgdata/58. 타망 조업.jpg\n",
      "이미지 저장 완료: /home/elicer/FIshing_vessel-1/resized_imgdata/58. 타망 표류.jpg\n",
      "이미지 저장 완료: /home/elicer/FIshing_vessel-1/resized_imgdata/58. 통발 이동.jpg\n",
      "이미지 저장 완료: /home/elicer/FIshing_vessel-1/resized_imgdata/59. 낚시어선 조업.jpg\n",
      "이미지 저장 완료: /home/elicer/FIshing_vessel-1/resized_imgdata/59. 범장망 이동.jpg\n",
      "이미지 저장 완료: /home/elicer/FIshing_vessel-1/resized_imgdata/59. 범장망 표류.jpg\n",
      "이미지 저장 완료: /home/elicer/FIshing_vessel-1/resized_imgdata/59. 유망 표류.jpg\n",
      "이미지 저장 완료: /home/elicer/FIshing_vessel-1/resized_imgdata/59. 타망 이동.jpg\n",
      "이미지 저장 완료: /home/elicer/FIshing_vessel-1/resized_imgdata/59. 타망 조업.jpg\n",
      "이미지 저장 완료: /home/elicer/FIshing_vessel-1/resized_imgdata/59. 타망 표류.jpg\n",
      "이미지 저장 완료: /home/elicer/FIshing_vessel-1/resized_imgdata/6. 낚시어선 이동.jpg\n",
      "이미지 저장 완료: /home/elicer/FIshing_vessel-1/resized_imgdata/59. 통발 이동.jpg\n",
      "이미지 저장 완료: /home/elicer/FIshing_vessel-1/resized_imgdata/6. 낚시어선 조업.jpg\n",
      "이미지 저장 완료: /home/elicer/FIshing_vessel-1/resized_imgdata/6. 등광조망 이동.jpg\n",
      "이미지 저장 완료: /home/elicer/FIshing_vessel-1/resized_imgdata/6. 낚시어선 표류.jpg\n",
      "이미지 저장 완료: /home/elicer/FIshing_vessel-1/resized_imgdata/6. 등광조망 표류.jpg\n",
      "이미지 저장 완료: /home/elicer/FIshing_vessel-1/resized_imgdata/6. 범장망 이동.jpg\n",
      "이미지 저장 완료: /home/elicer/FIshing_vessel-1/resized_imgdata/6. 등광조망 조업.jpg\n",
      "이미지 저장 완료: /home/elicer/FIshing_vessel-1/resized_imgdata/6. 범장망 조업.jpg\n",
      "이미지 저장 완료: /home/elicer/FIshing_vessel-1/resized_imgdata/6. 범장망 표류.jpg\n",
      "이미지 저장 완료: /home/elicer/FIshing_vessel-1/resized_imgdata/6. 안강망 조업.jpg\n",
      "이미지 저장 완료: /home/elicer/FIshing_vessel-1/resized_imgdata/6. 안강망 이동.jpg\n",
      "이미지 저장 완료: /home/elicer/FIshing_vessel-1/resized_imgdata/6. 안강망 표류.jpg\n",
      "이미지 저장 완료: /home/elicer/FIshing_vessel-1/resized_imgdata/6. 연승 이동.jpg\n",
      "이미지 저장 완료: /home/elicer/FIshing_vessel-1/resized_imgdata/6. 연승 표류.jpg\n",
      "이미지 저장 완료: /home/elicer/FIshing_vessel-1/resized_imgdata/6. 유망 이동.jpg\n",
      "이미지 저장 완료: /home/elicer/FIshing_vessel-1/resized_imgdata/6. 유망 조업.jpg\n",
      "이미지 저장 완료: /home/elicer/FIshing_vessel-1/resized_imgdata/6. 유망 표류.jpg\n",
      "이미지 저장 완료: /home/elicer/FIshing_vessel-1/resized_imgdata/6. 저인망 이동.jpg\n",
      "이미지 저장 완료: /home/elicer/FIshing_vessel-1/resized_imgdata/6. 저인망 조업.jpg\n",
      "이미지 저장 완료: /home/elicer/FIshing_vessel-1/resized_imgdata/6. 저인망 표류.jpg\n",
      "이미지 저장 완료: /home/elicer/FIshing_vessel-1/resized_imgdata/6. 채낚기  표류.jpg\n",
      "이미지 저장 완료: /home/elicer/FIshing_vessel-1/resized_imgdata/6. 채낚기 이동.jpg\n",
      "이미지 저장 완료: /home/elicer/FIshing_vessel-1/resized_imgdata/6. 타망 이동.jpg\n",
      "이미지 저장 완료: /home/elicer/FIshing_vessel-1/resized_imgdata/6. 타망 조업.jpg\n",
      "이미지 저장 완료: /home/elicer/FIshing_vessel-1/resized_imgdata/6. 타망 표류.jpg\n",
      "이미지 저장 완료: /home/elicer/FIshing_vessel-1/resized_imgdata/6. 통발 이동.jpg\n",
      "이미지 저장 완료: /home/elicer/FIshing_vessel-1/resized_imgdata/6. 통발 표류.jpg\n",
      "이미지 저장 완료: /home/elicer/FIshing_vessel-1/resized_imgdata/60. 낚시어선 조업.jpg\n",
      "이미지 저장 완료: /home/elicer/FIshing_vessel-1/resized_imgdata/60. 범장망 이동.jpg\n",
      "이미지 저장 완료: /home/elicer/FIshing_vessel-1/resized_imgdata/60. 범장망 표류.jpg\n",
      "이미지 저장 완료: /home/elicer/FIshing_vessel-1/resized_imgdata/60. 유망 표류.jpg\n",
      "이미지 저장 완료: /home/elicer/FIshing_vessel-1/resized_imgdata/60. 타망 이동.jpg\n",
      "이미지 저장 완료: /home/elicer/FIshing_vessel-1/resized_imgdata/60. 타망 표류.jpg\n",
      "이미지 저장 완료: /home/elicer/FIshing_vessel-1/resized_imgdata/60. 통발 이동.jpg\n",
      "이미지 저장 완료: /home/elicer/FIshing_vessel-1/resized_imgdata/61. 낚시어선 조업.jpg\n",
      "이미지 저장 완료: /home/elicer/FIshing_vessel-1/resized_imgdata/61. 범장망 이동.jpg\n",
      "이미지 저장 완료: /home/elicer/FIshing_vessel-1/resized_imgdata/61. 범장망 표류.jpg\n",
      "이미지 저장 완료: /home/elicer/FIshing_vessel-1/resized_imgdata/61. 유망 표류.jpg\n",
      "이미지 저장 완료: /home/elicer/FIshing_vessel-1/resized_imgdata/61. 타망 이동.jpg\n",
      "이미지 저장 완료: /home/elicer/FIshing_vessel-1/resized_imgdata/61. 타망 조업.jpg\n",
      "이미지 저장 완료: /home/elicer/FIshing_vessel-1/resized_imgdata/61. 타망 표류.png\n",
      "이미지 저장 완료: /home/elicer/FIshing_vessel-1/resized_imgdata/61. 통발 이동.jpg\n",
      "이미지 저장 완료: /home/elicer/FIshing_vessel-1/resized_imgdata/62. 낚시어선 조업.jpg\n",
      "이미지 저장 완료: /home/elicer/FIshing_vessel-1/resized_imgdata/62. 범장망 이동.jpg\n",
      "이미지 저장 완료: /home/elicer/FIshing_vessel-1/resized_imgdata/62. 범장망 표류.jpg\n",
      "이미지 저장 완료: /home/elicer/FIshing_vessel-1/resized_imgdata/62. 유망 표류.jpg\n",
      "이미지 저장 완료: /home/elicer/FIshing_vessel-1/resized_imgdata/62. 타망 이동.jpg\n",
      "이미지 저장 완료: /home/elicer/FIshing_vessel-1/resized_imgdata/62. 타망 조업.jpg\n",
      "이미지 저장 완료: /home/elicer/FIshing_vessel-1/resized_imgdata/62. 타망 표류.jpg\n",
      "이미지 저장 완료: /home/elicer/FIshing_vessel-1/resized_imgdata/62. 통발 이동.jpg\n",
      "이미지 저장 완료: /home/elicer/FIshing_vessel-1/resized_imgdata/63. 낚시어선 조업.jpg\n",
      "이미지 저장 완료: /home/elicer/FIshing_vessel-1/resized_imgdata/63. 범장망 이동.jpg\n",
      "이미지 저장 완료: /home/elicer/FIshing_vessel-1/resized_imgdata/63. 범장망 표류.jpg\n",
      "이미지 저장 완료: /home/elicer/FIshing_vessel-1/resized_imgdata/63. 유망 표류.jpg\n",
      "이미지 저장 완료: /home/elicer/FIshing_vessel-1/resized_imgdata/63. 타망 이동.jpg\n",
      "이미지 저장 완료: /home/elicer/FIshing_vessel-1/resized_imgdata/63. 타망 조업.jpg\n",
      "이미지 저장 완료: /home/elicer/FIshing_vessel-1/resized_imgdata/63. 통발 이동.jpg\n",
      "이미지 저장 완료: /home/elicer/FIshing_vessel-1/resized_imgdata/63. 타망 표류.png\n",
      "이미지 저장 완료: /home/elicer/FIshing_vessel-1/resized_imgdata/64. 낚시어선 조업.jpg\n",
      "이미지 저장 완료: /home/elicer/FIshing_vessel-1/resized_imgdata/64. 범장망 이동.jpg\n",
      "이미지 저장 완료: /home/elicer/FIshing_vessel-1/resized_imgdata/64. 범장망 표류.jpg\n",
      "이미지 저장 완료: /home/elicer/FIshing_vessel-1/resized_imgdata/64. 유망 표류.jpg\n",
      "이미지 저장 완료: /home/elicer/FIshing_vessel-1/resized_imgdata/64. 타망 이동.jpg\n",
      "이미지 저장 완료: /home/elicer/FIshing_vessel-1/resized_imgdata/64. 타망 조업.jpg\n",
      "이미지 저장 완료: /home/elicer/FIshing_vessel-1/resized_imgdata/64. 타망 표류.jpg\n",
      "이미지 저장 완료: /home/elicer/FIshing_vessel-1/resized_imgdata/64. 통발 이동.jpg\n",
      "이미지 저장 완료: /home/elicer/FIshing_vessel-1/resized_imgdata/65. 낚시어선 조업.jpg\n",
      "이미지 저장 완료: /home/elicer/FIshing_vessel-1/resized_imgdata/65. 범장망 이동.jpg\n",
      "이미지 저장 완료: /home/elicer/FIshing_vessel-1/resized_imgdata/65. 범장망 표류.jpg\n",
      "이미지 저장 완료: /home/elicer/FIshing_vessel-1/resized_imgdata/65. 유망 표류.jpg\n",
      "이미지 저장 완료: /home/elicer/FIshing_vessel-1/resized_imgdata/65. 타망 조업.jpg\n",
      "이미지 저장 완료: /home/elicer/FIshing_vessel-1/resized_imgdata/65. 타망 이동.jpg\n",
      "이미지 저장 완료: /home/elicer/FIshing_vessel-1/resized_imgdata/65. 타망 표류.png\n",
      "이미지 저장 완료: /home/elicer/FIshing_vessel-1/resized_imgdata/65. 통발 이동.jpg\n",
      "이미지 저장 완료: /home/elicer/FIshing_vessel-1/resized_imgdata/66. 낚시어선 조업.jpg\n",
      "이미지 저장 완료: /home/elicer/FIshing_vessel-1/resized_imgdata/66. 범장망 이동.jpg\n",
      "이미지 저장 완료: /home/elicer/FIshing_vessel-1/resized_imgdata/66. 범장망 표류.jpg\n",
      "이미지 저장 완료: /home/elicer/FIshing_vessel-1/resized_imgdata/66. 유망 표류.jpg\n",
      "이미지 저장 완료: /home/elicer/FIshing_vessel-1/resized_imgdata/66. 타망 이동.jpg\n",
      "이미지 저장 완료: /home/elicer/FIshing_vessel-1/resized_imgdata/66. 타망 조업.jpg\n",
      "이미지 저장 완료: /home/elicer/FIshing_vessel-1/resized_imgdata/66. 타망 표류.jpg\n",
      "이미지 저장 완료: /home/elicer/FIshing_vessel-1/resized_imgdata/67. 범장망 이동.jpg\n",
      "이미지 저장 완료: /home/elicer/FIshing_vessel-1/resized_imgdata/67. 낚시어선 조업.jpg\n",
      "이미지 저장 완료: /home/elicer/FIshing_vessel-1/resized_imgdata/67. 범장망 표류.jpg\n",
      "이미지 저장 완료: /home/elicer/FIshing_vessel-1/resized_imgdata/67. 유망 표류.jpg\n",
      "이미지 저장 완료: /home/elicer/FIshing_vessel-1/resized_imgdata/67. 타망 이동.jpg\n",
      "이미지 저장 완료: /home/elicer/FIshing_vessel-1/resized_imgdata/67. 타망 조업.jpg\n",
      "이미지 저장 완료: /home/elicer/FIshing_vessel-1/resized_imgdata/68. 낚시어선 조업.jpg\n",
      "이미지 저장 완료: /home/elicer/FIshing_vessel-1/resized_imgdata/68. 범장망 이동.jpg\n",
      "이미지 저장 완료: /home/elicer/FIshing_vessel-1/resized_imgdata/68. 범장망 표류.jpg\n",
      "이미지 저장 완료: /home/elicer/FIshing_vessel-1/resized_imgdata/68. 유망 표류.jpg\n",
      "이미지 저장 완료: /home/elicer/FIshing_vessel-1/resized_imgdata/68. 타망 이동.jpg\n",
      "이미지 저장 완료: /home/elicer/FIshing_vessel-1/resized_imgdata/68. 타망 조업.jpg\n",
      "이미지 저장 완료: /home/elicer/FIshing_vessel-1/resized_imgdata/68. 타망 표류.jpg\n",
      "이미지 저장 완료: /home/elicer/FIshing_vessel-1/resized_imgdata/69. 낚시어선 조업.jpg\n",
      "이미지 저장 완료: /home/elicer/FIshing_vessel-1/resized_imgdata/69. 범장망 이동.jpg\n",
      "이미지 저장 완료: /home/elicer/FIshing_vessel-1/resized_imgdata/69. 범장망 표류.jpg\n",
      "이미지 저장 완료: /home/elicer/FIshing_vessel-1/resized_imgdata/69. 유망 표류.jpg\n",
      "이미지 저장 완료: /home/elicer/FIshing_vessel-1/resized_imgdata/69. 타망 이동.jpg\n",
      "이미지 저장 완료: /home/elicer/FIshing_vessel-1/resized_imgdata/69. 타망 조업.jpg\n",
      "이미지 저장 완료: /home/elicer/FIshing_vessel-1/resized_imgdata/69. 타망 표류.jpg\n",
      "이미지 저장 완료: /home/elicer/FIshing_vessel-1/resized_imgdata/7. 낚시어선 이동.jpg\n",
      "이미지 저장 완료: /home/elicer/FIshing_vessel-1/resized_imgdata/7. 낚시어선 조업.jpg\n",
      "이미지 저장 완료: /home/elicer/FIshing_vessel-1/resized_imgdata/7. 낚시어선 표류.jpg\n",
      "이미지 저장 완료: /home/elicer/FIshing_vessel-1/resized_imgdata/7. 범장망 이동.jpg\n",
      "이미지 저장 완료: /home/elicer/FIshing_vessel-1/resized_imgdata/7. 범장망 조업.jpg\n",
      "이미지 저장 완료: /home/elicer/FIshing_vessel-1/resized_imgdata/7. 안강망 조업.jpg\n",
      "이미지 저장 완료: /home/elicer/FIshing_vessel-1/resized_imgdata/7. 범장망 표류.jpg\n",
      "이미지 저장 완료: /home/elicer/FIshing_vessel-1/resized_imgdata/7. 안강망 표류.jpg\n",
      "이미지 저장 완료: /home/elicer/FIshing_vessel-1/resized_imgdata/7. 연승 이동.jpg\n",
      "이미지 저장 완료: /home/elicer/FIshing_vessel-1/resized_imgdata/7. 연승 표류.jpg\n",
      "이미지 저장 완료: /home/elicer/FIshing_vessel-1/resized_imgdata/7. 유망 이동.jpg\n",
      "이미지 저장 완료: /home/elicer/FIshing_vessel-1/resized_imgdata/7. 유망 조업.jpg\n",
      "이미지 저장 완료: /home/elicer/FIshing_vessel-1/resized_imgdata/7. 유망 표류.jpg\n",
      "이미지 저장 완료: /home/elicer/FIshing_vessel-1/resized_imgdata/7. 저인망 이동.jpg\n",
      "이미지 저장 완료: /home/elicer/FIshing_vessel-1/resized_imgdata/7. 저인망 조업.jpg\n",
      "이미지 저장 완료: /home/elicer/FIshing_vessel-1/resized_imgdata/7. 채낚기  표류.jpg\n",
      "이미지 저장 완료: /home/elicer/FIshing_vessel-1/resized_imgdata/7. 채낚기 이동.jpg\n",
      "이미지 저장 완료: /home/elicer/FIshing_vessel-1/resized_imgdata/7. 타망 이동.jpg\n",
      "이미지 저장 완료: /home/elicer/FIshing_vessel-1/resized_imgdata/7. 타망 조업.jpg\n",
      "이미지 저장 완료: /home/elicer/FIshing_vessel-1/resized_imgdata/7. 타망 표류.jpg\n",
      "이미지 저장 완료: /home/elicer/FIshing_vessel-1/resized_imgdata/7. 통발 이동.jpg\n",
      "이미지 저장 완료: /home/elicer/FIshing_vessel-1/resized_imgdata/7. 통발 표류.jpg\n",
      "이미지 저장 완료: /home/elicer/FIshing_vessel-1/resized_imgdata/70. 범장망 표류.jpg\n",
      "이미지 저장 완료: /home/elicer/FIshing_vessel-1/resized_imgdata/70. 범장망 이동.jpg\n",
      "이미지 저장 완료: /home/elicer/FIshing_vessel-1/resized_imgdata/70. 유망 표류.jpg\n",
      "이미지 저장 완료: /home/elicer/FIshing_vessel-1/resized_imgdata/70. 타망 조업.png\n",
      "이미지 저장 완료: /home/elicer/FIshing_vessel-1/resized_imgdata/70. 타망 이동.jpg\n",
      "이미지 저장 완료: /home/elicer/FIshing_vessel-1/resized_imgdata/70. 타망 표류.jpg\n",
      "이미지 저장 완료: /home/elicer/FIshing_vessel-1/resized_imgdata/71. 범장망 이동.jpg\n",
      "이미지 저장 완료: /home/elicer/FIshing_vessel-1/resized_imgdata/71. 범장망 표류.jpg\n",
      "이미지 저장 완료: /home/elicer/FIshing_vessel-1/resized_imgdata/71. 유망 표류.jpg\n",
      "이미지 저장 완료: /home/elicer/FIshing_vessel-1/resized_imgdata/71. 타망 이동.jpg\n",
      "이미지 저장 완료: /home/elicer/FIshing_vessel-1/resized_imgdata/71. 타망 조업.jpg\n",
      "이미지 저장 완료: /home/elicer/FIshing_vessel-1/resized_imgdata/71. 타망 표류.jpg\n",
      "이미지 저장 완료: /home/elicer/FIshing_vessel-1/resized_imgdata/72. 범장망 이동.jpg\n",
      "이미지 저장 완료: /home/elicer/FIshing_vessel-1/resized_imgdata/72. 범장망 표류.jpg\n",
      "이미지 저장 완료: /home/elicer/FIshing_vessel-1/resized_imgdata/72. 유망 표류.jpg\n",
      "이미지 저장 완료: /home/elicer/FIshing_vessel-1/resized_imgdata/72. 타망 조업.jpg\n",
      "이미지 저장 완료: /home/elicer/FIshing_vessel-1/resized_imgdata/72. 타망 이동.jpg\n",
      "이미지 저장 완료: /home/elicer/FIshing_vessel-1/resized_imgdata/73 타망 이동.jpg\n",
      "이미지 저장 완료: /home/elicer/FIshing_vessel-1/resized_imgdata/73. 범장망 이동.jpg\n",
      "이미지 저장 완료: /home/elicer/FIshing_vessel-1/resized_imgdata/73. 유망 표류.jpg\n",
      "이미지 저장 완료: /home/elicer/FIshing_vessel-1/resized_imgdata/73. 범장망 표류.jpg\n",
      "이미지 저장 완료: /home/elicer/FIshing_vessel-1/resized_imgdata/73. 타망 조업.jpg\n",
      "이미지 저장 완료: /home/elicer/FIshing_vessel-1/resized_imgdata/73. 타망 표류.jpg\n",
      "이미지 저장 완료: /home/elicer/FIshing_vessel-1/resized_imgdata/74 타망 이동.jpg\n",
      "이미지 저장 완료: /home/elicer/FIshing_vessel-1/resized_imgdata/74. 범장망 이동.jpg\n",
      "이미지 저장 완료: /home/elicer/FIshing_vessel-1/resized_imgdata/74. 범장망 표류.jpg\n",
      "이미지 저장 완료: /home/elicer/FIshing_vessel-1/resized_imgdata/74. 유망 표류.jpg\n",
      "이미지 저장 완료: /home/elicer/FIshing_vessel-1/resized_imgdata/74. 타망 조업.jpg\n",
      "이미지 저장 완료: /home/elicer/FIshing_vessel-1/resized_imgdata/74. 타망 표류.jpg\n",
      "이미지 저장 완료: /home/elicer/FIshing_vessel-1/resized_imgdata/75 타망 이동.jpg\n",
      "이미지 저장 완료: /home/elicer/FIshing_vessel-1/resized_imgdata/75. 범장망 이동.jpg\n",
      "이미지 저장 완료: /home/elicer/FIshing_vessel-1/resized_imgdata/75. 범장망 표류.jpg\n",
      "이미지 저장 완료: /home/elicer/FIshing_vessel-1/resized_imgdata/75. 유망 표류.jpg\n",
      "이미지 저장 완료: /home/elicer/FIshing_vessel-1/resized_imgdata/75. 타망 조업.jpg\n",
      "이미지 저장 완료: /home/elicer/FIshing_vessel-1/resized_imgdata/76 타망 이동.jpg\n",
      "이미지 저장 완료: /home/elicer/FIshing_vessel-1/resized_imgdata/75. 타망 표류.jpg\n",
      "이미지 저장 완료: /home/elicer/FIshing_vessel-1/resized_imgdata/76. 범장망 이동.jpg\n",
      "이미지 저장 완료: /home/elicer/FIshing_vessel-1/resized_imgdata/76. 범장망 표류.jpg\n",
      "이미지 저장 완료: /home/elicer/FIshing_vessel-1/resized_imgdata/76. 유망 표류.jpg\n",
      "이미지 저장 완료: /home/elicer/FIshing_vessel-1/resized_imgdata/76. 타망 조업.jpg\n",
      "이미지 저장 완료: /home/elicer/FIshing_vessel-1/resized_imgdata/76. 타망 표류.jpg\n",
      "이미지 저장 완료: /home/elicer/FIshing_vessel-1/resized_imgdata/77 타망 이동.jpg\n",
      "이미지 저장 완료: /home/elicer/FIshing_vessel-1/resized_imgdata/77. 범장망 이동.jpg\n",
      "이미지 저장 완료: /home/elicer/FIshing_vessel-1/resized_imgdata/77. 범장망 표류.jpg\n",
      "이미지 저장 완료: /home/elicer/FIshing_vessel-1/resized_imgdata/77. 유망 표류.jpg\n",
      "이미지 저장 완료: /home/elicer/FIshing_vessel-1/resized_imgdata/77. 타망 조업.jpg\n",
      "이미지 저장 완료: /home/elicer/FIshing_vessel-1/resized_imgdata/77. 타망 표류.jpg\n",
      "이미지 저장 완료: /home/elicer/FIshing_vessel-1/resized_imgdata/78 타망 이동.jpg\n",
      "이미지 저장 완료: /home/elicer/FIshing_vessel-1/resized_imgdata/78. 범장망 이동.jpg\n",
      "이미지 저장 완료: /home/elicer/FIshing_vessel-1/resized_imgdata/78. 범장망 표류.jpg\n",
      "이미지 저장 완료: /home/elicer/FIshing_vessel-1/resized_imgdata/78. 유망 표류.jpg\n",
      "이미지 저장 완료: /home/elicer/FIshing_vessel-1/resized_imgdata/78. 타망 표류.jpg\n",
      "이미지 저장 완료: /home/elicer/FIshing_vessel-1/resized_imgdata/78. 타망 조업.jpg\n",
      "이미지 저장 완료: /home/elicer/FIshing_vessel-1/resized_imgdata/79. 범장망 이동.jpg\n",
      "이미지 저장 완료: /home/elicer/FIshing_vessel-1/resized_imgdata/79. 범장망 표류.jpg\n",
      "이미지 저장 완료: /home/elicer/FIshing_vessel-1/resized_imgdata/79 타망 이동.png\n",
      "이미지 저장 완료: /home/elicer/FIshing_vessel-1/resized_imgdata/79. 유망 표류.jpg\n",
      "이미지 저장 완료: /home/elicer/FIshing_vessel-1/resized_imgdata/79. 타망 조업.jpg\n",
      "이미지 저장 완료: /home/elicer/FIshing_vessel-1/resized_imgdata/79. 타망 표류.jpg\n",
      "이미지 저장 완료: /home/elicer/FIshing_vessel-1/resized_imgdata/8. 낚시어선 이동.jpg\n",
      "이미지 저장 완료: /home/elicer/FIshing_vessel-1/resized_imgdata/8. 낚시어선 조업.jpg\n",
      "이미지 저장 완료: /home/elicer/FIshing_vessel-1/resized_imgdata/8. 낚시어선 표류.jpg\n",
      "이미지 저장 완료: /home/elicer/FIshing_vessel-1/resized_imgdata/8. 등광조망 이동.jpg\n",
      "이미지 저장 완료: /home/elicer/FIshing_vessel-1/resized_imgdata/8. 등광조망 조업.jpg\n",
      "이미지 저장 완료: /home/elicer/FIshing_vessel-1/resized_imgdata/8. 등광조망 표류.jpg\n",
      "이미지 저장 완료: /home/elicer/FIshing_vessel-1/resized_imgdata/8. 범장망 이동.jpg\n",
      "이미지 저장 완료: /home/elicer/FIshing_vessel-1/resized_imgdata/8. 범장망 표류.jpg\n",
      "이미지 저장 완료: /home/elicer/FIshing_vessel-1/resized_imgdata/8. 범장망 조업.jpg\n",
      "이미지 저장 완료: /home/elicer/FIshing_vessel-1/resized_imgdata/8. 안강망 이동.jpg\n",
      "이미지 저장 완료: /home/elicer/FIshing_vessel-1/resized_imgdata/8. 안강망 조업.jpg\n",
      "이미지 저장 완료: /home/elicer/FIshing_vessel-1/resized_imgdata/8. 안강망 표류.jpg\n",
      "이미지 저장 완료: /home/elicer/FIshing_vessel-1/resized_imgdata/8. 연승 이동.jpg\n",
      "이미지 저장 완료: /home/elicer/FIshing_vessel-1/resized_imgdata/8. 연승 표류.jpg\n",
      "이미지 저장 완료: /home/elicer/FIshing_vessel-1/resized_imgdata/8. 유망 이동.jpg\n",
      "이미지 저장 완료: /home/elicer/FIshing_vessel-1/resized_imgdata/8. 유망 표류.jpg\n",
      "이미지 저장 완료: /home/elicer/FIshing_vessel-1/resized_imgdata/8. 유망 조업.jpg\n",
      "이미지 저장 완료: /home/elicer/FIshing_vessel-1/resized_imgdata/8. 저인망 이동.jpg\n",
      "이미지 저장 완료: /home/elicer/FIshing_vessel-1/resized_imgdata/8. 저인망 조업.jpg\n",
      "이미지 저장 완료: /home/elicer/FIshing_vessel-1/resized_imgdata/8. 채낚기  표류.jpg\n",
      "이미지 저장 완료: /home/elicer/FIshing_vessel-1/resized_imgdata/8. 채낚기 이동.jpg\n",
      "이미지 저장 완료: /home/elicer/FIshing_vessel-1/resized_imgdata/8. 타망 조업.jpg\n",
      "이미지 저장 완료: /home/elicer/FIshing_vessel-1/resized_imgdata/8. 타망 표류.jpg\n",
      "이미지 저장 완료: /home/elicer/FIshing_vessel-1/resized_imgdata/8. 통발 이동.jpg\n",
      "이미지 저장 완료: /home/elicer/FIshing_vessel-1/resized_imgdata/80 타망 이동.jpg\n",
      "이미지 저장 완료: /home/elicer/FIshing_vessel-1/resized_imgdata/80. 범장망 이동.jpg\n",
      "이미지 저장 완료: /home/elicer/FIshing_vessel-1/resized_imgdata/8. 통발 표류.jpg\n",
      "이미지 저장 완료: /home/elicer/FIshing_vessel-1/resized_imgdata/80. 범장망 표류.jpg\n",
      "이미지 저장 완료: /home/elicer/FIshing_vessel-1/resized_imgdata/80. 유망 표류.jpg\n",
      "이미지 저장 완료: /home/elicer/FIshing_vessel-1/resized_imgdata/80. 타망 조업.jpg\n",
      "이미지 저장 완료: /home/elicer/FIshing_vessel-1/resized_imgdata/80. 타망 표류.jpg\n",
      "이미지 저장 완료: /home/elicer/FIshing_vessel-1/resized_imgdata/81 타망 이동.png\n",
      "이미지 저장 완료: /home/elicer/FIshing_vessel-1/resized_imgdata/81. 범장망 표류.jpg\n",
      "이미지 저장 완료: /home/elicer/FIshing_vessel-1/resized_imgdata/81. 유망 표류.jpg\n",
      "이미지 저장 완료: /home/elicer/FIshing_vessel-1/resized_imgdata/81. 범장망 이동.jpg\n",
      "이미지 저장 완료: /home/elicer/FIshing_vessel-1/resized_imgdata/81. 타망 조업.jpg\n",
      "이미지 저장 완료: /home/elicer/FIshing_vessel-1/resized_imgdata/81. 타망 표류.jpg\n",
      "이미지 저장 완료: /home/elicer/FIshing_vessel-1/resized_imgdata/82 타망 이동.jpg\n",
      "이미지 저장 완료: /home/elicer/FIshing_vessel-1/resized_imgdata/82. 범장망 이동.jpg\n",
      "이미지 저장 완료: /home/elicer/FIshing_vessel-1/resized_imgdata/82. 범장망 표류.jpg\n",
      "이미지 저장 완료: /home/elicer/FIshing_vessel-1/resized_imgdata/82. 유망 표류.jpg\n",
      "이미지 저장 완료: /home/elicer/FIshing_vessel-1/resized_imgdata/82. 타망 조업.jpg\n",
      "이미지 저장 완료: /home/elicer/FIshing_vessel-1/resized_imgdata/82. 타망 표류.jpg\n",
      "이미지 저장 완료: /home/elicer/FIshing_vessel-1/resized_imgdata/83 타망 이동.png\n",
      "이미지 저장 완료: /home/elicer/FIshing_vessel-1/resized_imgdata/83. 범장망 이동.jpg\n",
      "이미지 저장 완료: /home/elicer/FIshing_vessel-1/resized_imgdata/83. 유망 표류.jpg\n",
      "이미지 저장 완료: /home/elicer/FIshing_vessel-1/resized_imgdata/83. 범장망 표류.jpg\n",
      "이미지 저장 완료: /home/elicer/FIshing_vessel-1/resized_imgdata/83. 타망 조업.jpg\n",
      "이미지 저장 완료: /home/elicer/FIshing_vessel-1/resized_imgdata/83. 타망 표류.jpg\n",
      "이미지 저장 완료: /home/elicer/FIshing_vessel-1/resized_imgdata/84 타망 이동.jpg\n",
      "이미지 저장 완료: /home/elicer/FIshing_vessel-1/resized_imgdata/84. 범장망 이동.jpg\n",
      "이미지 저장 완료: /home/elicer/FIshing_vessel-1/resized_imgdata/84. 범장망 표류.jpg\n",
      "이미지 저장 완료: /home/elicer/FIshing_vessel-1/resized_imgdata/84. 유망 표류.jpg\n",
      "이미지 저장 완료: /home/elicer/FIshing_vessel-1/resized_imgdata/84. 타망 조업.jpg\n",
      "이미지 저장 완료: /home/elicer/FIshing_vessel-1/resized_imgdata/84. 타망 표류.jpg\n",
      "이미지 저장 완료: /home/elicer/FIshing_vessel-1/resized_imgdata/85 타망 이동.png\n",
      "이미지 저장 완료: /home/elicer/FIshing_vessel-1/resized_imgdata/85. 범장망 이동.jpg\n",
      "이미지 저장 완료: /home/elicer/FIshing_vessel-1/resized_imgdata/85. 범장망 표류.jpg\n",
      "이미지 저장 완료: /home/elicer/FIshing_vessel-1/resized_imgdata/85. 유망 표류.jpg\n",
      "이미지 저장 완료: /home/elicer/FIshing_vessel-1/resized_imgdata/85. 타망 조업.jpg\n",
      "이미지 저장 완료: /home/elicer/FIshing_vessel-1/resized_imgdata/85. 타망 표류.jpg\n",
      "이미지 저장 완료: /home/elicer/FIshing_vessel-1/resized_imgdata/86 타망 이동.jpg\n",
      "이미지 저장 완료: /home/elicer/FIshing_vessel-1/resized_imgdata/86. 범장망 이동.jpg\n",
      "이미지 저장 완료: /home/elicer/FIshing_vessel-1/resized_imgdata/86. 타망 조업.jpg\n",
      "이미지 저장 완료: /home/elicer/FIshing_vessel-1/resized_imgdata/86. 범장망 표류.jpg\n",
      "이미지 저장 완료: /home/elicer/FIshing_vessel-1/resized_imgdata/87 타망 이동.png\n",
      "이미지 저장 완료: /home/elicer/FIshing_vessel-1/resized_imgdata/86. 타망 표류.jpg\n",
      "이미지 저장 완료: /home/elicer/FIshing_vessel-1/resized_imgdata/87. 범장망 이동.jpg\n",
      "이미지 저장 완료: /home/elicer/FIshing_vessel-1/resized_imgdata/87. 범장망 표류.jpg\n",
      "이미지 저장 완료: /home/elicer/FIshing_vessel-1/resized_imgdata/87. 유망 표류.jpg\n",
      "이미지 저장 완료: /home/elicer/FIshing_vessel-1/resized_imgdata/87. 타망 조업.jpg\n",
      "이미지 저장 완료: /home/elicer/FIshing_vessel-1/resized_imgdata/87. 타망 표류.jpg\n",
      "이미지 저장 완료: /home/elicer/FIshing_vessel-1/resized_imgdata/88 타망 이동.jpg\n",
      "이미지 저장 완료: /home/elicer/FIshing_vessel-1/resized_imgdata/88. 범장망 이동.jpg\n",
      "이미지 저장 완료: /home/elicer/FIshing_vessel-1/resized_imgdata/88. 범장망 표류.jpg\n",
      "이미지 저장 완료: /home/elicer/FIshing_vessel-1/resized_imgdata/88. 유망 표류.jpg\n",
      "이미지 저장 완료: /home/elicer/FIshing_vessel-1/resized_imgdata/88. 타망 조업.jpg\n",
      "이미지 저장 완료: /home/elicer/FIshing_vessel-1/resized_imgdata/88. 타망 표류.jpg\n",
      "이미지 저장 완료: /home/elicer/FIshing_vessel-1/resized_imgdata/89 타망 이동.jpg\n",
      "이미지 저장 완료: /home/elicer/FIshing_vessel-1/resized_imgdata/89. 범장망 이동.jpg\n",
      "이미지 저장 완료: /home/elicer/FIshing_vessel-1/resized_imgdata/89. 범장망 표류.jpg\n",
      "이미지 저장 완료: /home/elicer/FIshing_vessel-1/resized_imgdata/89. 유망 표류.jpg\n",
      "이미지 저장 완료: /home/elicer/FIshing_vessel-1/resized_imgdata/89. 타망 조업.jpg\n",
      "이미지 저장 완료: /home/elicer/FIshing_vessel-1/resized_imgdata/9. 낚시어선 이동.jpg\n",
      "이미지 저장 완료: /home/elicer/FIshing_vessel-1/resized_imgdata/9. 등광조망 이동.jpg\n",
      "이미지 저장 완료: /home/elicer/FIshing_vessel-1/resized_imgdata/9. 낚시어선 표류.jpg\n",
      "이미지 저장 완료: /home/elicer/FIshing_vessel-1/resized_imgdata/9. 등광조망 조업.jpg\n",
      "이미지 저장 완료: /home/elicer/FIshing_vessel-1/resized_imgdata/9. 등광조망 표류.jpg\n",
      "이미지 저장 완료: /home/elicer/FIshing_vessel-1/resized_imgdata/89. 타망 표류.png\n",
      "이미지 저장 완료: /home/elicer/FIshing_vessel-1/resized_imgdata/9. 범장망 이동.jpg\n",
      "이미지 저장 완료: /home/elicer/FIshing_vessel-1/resized_imgdata/9. 범장망 조업.jpg\n",
      "이미지 저장 완료: /home/elicer/FIshing_vessel-1/resized_imgdata/9. 범장망 표류.jpg\n",
      "이미지 저장 완료: /home/elicer/FIshing_vessel-1/resized_imgdata/9. 안강망 이동.jpg\n",
      "이미지 저장 완료: /home/elicer/FIshing_vessel-1/resized_imgdata/9. 안강망 조업.jpg\n",
      "이미지 저장 완료: /home/elicer/FIshing_vessel-1/resized_imgdata/9. 안강망 표류.jpg\n",
      "이미지 저장 완료: /home/elicer/FIshing_vessel-1/resized_imgdata/9. 연승 이동.jpg\n",
      "이미지 저장 완료: /home/elicer/FIshing_vessel-1/resized_imgdata/9. 연승 표류.jpg\n",
      "이미지 저장 완료: /home/elicer/FIshing_vessel-1/resized_imgdata/9. 유망 이동.jpg\n",
      "이미지 저장 완료: /home/elicer/FIshing_vessel-1/resized_imgdata/9. 유망 조업.jpg\n",
      "이미지 저장 완료: /home/elicer/FIshing_vessel-1/resized_imgdata/9. 유망 표류.jpg\n",
      "이미지 저장 완료: /home/elicer/FIshing_vessel-1/resized_imgdata/9. 저인망 이동.jpg\n",
      "이미지 저장 완료: /home/elicer/FIshing_vessel-1/resized_imgdata/9. 저인망 조업.jpg\n",
      "이미지 저장 완료: /home/elicer/FIshing_vessel-1/resized_imgdata/9. 채낚기  표류.jpg\n",
      "이미지 저장 완료: /home/elicer/FIshing_vessel-1/resized_imgdata/9. 타망 이동.jpg\n",
      "이미지 저장 완료: /home/elicer/FIshing_vessel-1/resized_imgdata/9. 채낚기 이동.jpg\n",
      "이미지 저장 완료: /home/elicer/FIshing_vessel-1/resized_imgdata/9. 타망 조업.jpg\n",
      "이미지 저장 완료: /home/elicer/FIshing_vessel-1/resized_imgdata/9. 통발 이동.jpg\n",
      "이미지 저장 완료: /home/elicer/FIshing_vessel-1/resized_imgdata/9. 타망 표류.jpg\n",
      "이미지 저장 완료: /home/elicer/FIshing_vessel-1/resized_imgdata/90. 범장망 이동.jpg\n",
      "이미지 저장 완료: /home/elicer/FIshing_vessel-1/resized_imgdata/90 타망 이동.jpg\n",
      "이미지 저장 완료: /home/elicer/FIshing_vessel-1/resized_imgdata/90. 범장망 표류.jpg\n",
      "이미지 저장 완료: /home/elicer/FIshing_vessel-1/resized_imgdata/90. 유망 표류.jpg\n",
      "이미지 저장 완료: /home/elicer/FIshing_vessel-1/resized_imgdata/90. 타망 조업.png\n",
      "이미지 저장 완료: /home/elicer/FIshing_vessel-1/resized_imgdata/90. 타망 표류.jpg\n",
      "이미지 저장 완료: /home/elicer/FIshing_vessel-1/resized_imgdata/91 타망 이동.jpg\n",
      "이미지 저장 완료: /home/elicer/FIshing_vessel-1/resized_imgdata/91. 유망 표류.jpg\n",
      "이미지 저장 완료: /home/elicer/FIshing_vessel-1/resized_imgdata/91. 범장망 이동.jpg\n",
      "이미지 저장 완료: /home/elicer/FIshing_vessel-1/resized_imgdata/91. 범장망 표류.jpg\n",
      "이미지 저장 완료: /home/elicer/FIshing_vessel-1/resized_imgdata/91. 타망 조업.jpg\n",
      "이미지 저장 완료: /home/elicer/FIshing_vessel-1/resized_imgdata/91. 타망 표류.jpg\n",
      "이미지 저장 완료: /home/elicer/FIshing_vessel-1/resized_imgdata/92 타망 이동.jpg\n",
      "이미지 저장 완료: /home/elicer/FIshing_vessel-1/resized_imgdata/92. 범장망 이동.jpg\n",
      "이미지 저장 완료: /home/elicer/FIshing_vessel-1/resized_imgdata/92. 유망 표류.jpg\n",
      "이미지 저장 완료: /home/elicer/FIshing_vessel-1/resized_imgdata/92. 범장망 표류.jpg\n",
      "이미지 저장 완료: /home/elicer/FIshing_vessel-1/resized_imgdata/92. 타망 표류.jpg\n",
      "이미지 저장 완료: /home/elicer/FIshing_vessel-1/resized_imgdata/92. 타망 조업.jpg\n",
      "이미지 저장 완료: /home/elicer/FIshing_vessel-1/resized_imgdata/93 타망 이동.jpg\n",
      "이미지 저장 완료: /home/elicer/FIshing_vessel-1/resized_imgdata/93. 범장망 이동.jpg\n",
      "이미지 저장 완료: /home/elicer/FIshing_vessel-1/resized_imgdata/93. 범장망 표류.jpg\n",
      "이미지 저장 완료: /home/elicer/FIshing_vessel-1/resized_imgdata/93. 유망 표류.jpg\n",
      "이미지 저장 완료: /home/elicer/FIshing_vessel-1/resized_imgdata/93. 타망 조업.jpg\n",
      "이미지 저장 완료: /home/elicer/FIshing_vessel-1/resized_imgdata/93. 타망 표류.jpg\n",
      "이미지 저장 완료: /home/elicer/FIshing_vessel-1/resized_imgdata/94 타망 이동.jpg\n",
      "이미지 저장 완료: /home/elicer/FIshing_vessel-1/resized_imgdata/94. 범장망 이동.jpg\n",
      "이미지 저장 완료: /home/elicer/FIshing_vessel-1/resized_imgdata/94. 유망 표류.jpg\n",
      "이미지 저장 완료: /home/elicer/FIshing_vessel-1/resized_imgdata/94. 범장망 표류.jpg\n",
      "이미지 저장 완료: /home/elicer/FIshing_vessel-1/resized_imgdata/94. 타망 조업.jpg\n",
      "이미지 저장 완료: /home/elicer/FIshing_vessel-1/resized_imgdata/94. 타망 표류.jpg\n",
      "이미지 저장 완료: /home/elicer/FIshing_vessel-1/resized_imgdata/95 타망 이동.jpg\n",
      "이미지 저장 완료: /home/elicer/FIshing_vessel-1/resized_imgdata/95. 범장망 이동.jpg\n",
      "이미지 저장 완료: /home/elicer/FIshing_vessel-1/resized_imgdata/95. 범장망 표류.jpg\n",
      "이미지 저장 완료: /home/elicer/FIshing_vessel-1/resized_imgdata/95. 유망 표류.png\n",
      "이미지 저장 완료: /home/elicer/FIshing_vessel-1/resized_imgdata/95. 타망 조업.jpg\n",
      "이미지 저장 완료: /home/elicer/FIshing_vessel-1/resized_imgdata/95. 타망 표류.jpg\n",
      "이미지 저장 완료: /home/elicer/FIshing_vessel-1/resized_imgdata/96 타망 이동.jpg\n",
      "이미지 저장 완료: /home/elicer/FIshing_vessel-1/resized_imgdata/96. 범장망 표류.jpg\n",
      "이미지 저장 완료: /home/elicer/FIshing_vessel-1/resized_imgdata/96. 범장망 이동.jpg\n",
      "이미지 저장 완료: /home/elicer/FIshing_vessel-1/resized_imgdata/96. 유망 표류.jpg\n",
      "이미지 저장 완료: /home/elicer/FIshing_vessel-1/resized_imgdata/96. 타망 조업.jpg\n",
      "이미지 저장 완료: /home/elicer/FIshing_vessel-1/resized_imgdata/97 타망 이동.jpg\n",
      "이미지 저장 완료: /home/elicer/FIshing_vessel-1/resized_imgdata/96. 타망 표류.jpg\n",
      "이미지 저장 완료: /home/elicer/FIshing_vessel-1/resized_imgdata/97. 범장망 이동.jpg\n",
      "이미지 저장 완료: /home/elicer/FIshing_vessel-1/resized_imgdata/97. 범장망 표류.jpg\n",
      "이미지 저장 완료: /home/elicer/FIshing_vessel-1/resized_imgdata/97. 유망 표류.jpg\n",
      "이미지 저장 완료: /home/elicer/FIshing_vessel-1/resized_imgdata/97. 타망 조업.jpg\n",
      "이미지 저장 완료: /home/elicer/FIshing_vessel-1/resized_imgdata/97. 타망 표류.jpg\n",
      "이미지 저장 완료: /home/elicer/FIshing_vessel-1/resized_imgdata/98 타망 이동.jpg\n",
      "이미지 저장 완료: /home/elicer/FIshing_vessel-1/resized_imgdata/98. 범장망 표류.jpg\n",
      "이미지 저장 완료: /home/elicer/FIshing_vessel-1/resized_imgdata/98. 유망 표류.jpg\n",
      "이미지 저장 완료: /home/elicer/FIshing_vessel-1/resized_imgdata/98. 타망 조업.jpg\n",
      "이미지 저장 완료: /home/elicer/FIshing_vessel-1/resized_imgdata/98. 타망 표류.jpg\n",
      "이미지 저장 완료: /home/elicer/FIshing_vessel-1/resized_imgdata/99 타망 이동.jpg\n",
      "이미지 저장 완료: /home/elicer/FIshing_vessel-1/resized_imgdata/99. 범장망 이동.jpg\n",
      "이미지 저장 완료: /home/elicer/FIshing_vessel-1/resized_imgdata/99. 범장망 표류.jpg\n",
      "이미지 저장 완료: /home/elicer/FIshing_vessel-1/resized_imgdata/99. 유망 표류.jpg\n",
      "이미지 저장 완료: /home/elicer/FIshing_vessel-1/resized_imgdata/99. 타망 조업.jpg\n",
      "이미지 저장 완료: /home/elicer/FIshing_vessel-1/resized_imgdata/99. 타망 표류.jpg\n",
      "모든 이미지의 크기 조정 완료\n"
     ]
    }
   ],
   "source": [
    "import os\n",
    "import cv2\n",
    "\n",
    "# 이미지가 저장된 폴더 경로 지정\n",
    "input_folder = '/home/elicer/FIshing_vessel-1/imgdata'  # 원본 이미지 폴더 경로\n",
    "output_folder = '/home/elicer/FIshing_vessel-1/resized_imgdata'  # 리사이즈된 이미지 저장 폴더 경로\n",
    "\n",
    "# 출력 폴더가 존재하지 않으면 생성\n",
    "if not os.path.exists(output_folder):\n",
    "    os.makedirs(output_folder)\n",
    "\n",
    "# 이미지 크기 설정 (VGG 모델의 입력 크기에 맞춤)\n",
    "target_size = (224, 224)\n",
    "\n",
    "# 폴더 내 모든 이미지 파일에 대해 크기 조정\n",
    "for filename in os.listdir(input_folder):\n",
    "    if filename.endswith(('.jpg', '.jpeg', '.png')):  # 이미지 파일만 처리\n",
    "        # 이미지 파일 경로\n",
    "        input_path = os.path.join(input_folder, filename)\n",
    "        \n",
    "        # 이미지 읽기\n",
    "        image = cv2.imread(input_path)\n",
    "        if image is None:\n",
    "            print(f\"이미지 읽기 실패: {input_path}\")\n",
    "            continue\n",
    "        \n",
    "        # 이미지 크기 조정\n",
    "        resized_image = cv2.resize(image, target_size)\n",
    "        \n",
    "        # 리사이즈된 이미지 저장 경로\n",
    "        output_path = os.path.join(output_folder, filename)\n",
    "        \n",
    "        # 리사이즈된 이미지 저장\n",
    "        cv2.imwrite(output_path, resized_image)\n",
    "        print(f\"이미지 저장 완료: {output_path}\")\n",
    "\n",
    "print(\"모든 이미지의 크기 조정 완료\")\n"
   ]
  },
  {
   "cell_type": "markdown",
   "metadata": {},
   "source": [
    "테스트용 이미지 resize"
   ]
  },
  {
   "cell_type": "code",
   "execution_count": 2,
   "metadata": {},
   "outputs": [
    {
     "ename": "FileNotFoundError",
     "evalue": "[Errno 2] No such file or directory: '/home/elicer/FIshing_vessel-1/mini_test'",
     "output_type": "error",
     "traceback": [
      "\u001b[0;31m---------------------------------------------------------------------------\u001b[0m",
      "\u001b[0;31mFileNotFoundError\u001b[0m                         Traceback (most recent call last)",
      "\u001b[1;32m/home/elicer/FIshing_vessel-1/fishing_vessel_state_VGG.ipynb Cell 5\u001b[0m line \u001b[0;36m1\n\u001b[1;32m     <a href='vscode-notebook-cell://jspgnexcsnaxgemt.tunnel-pt.elice.io/home/elicer/FIshing_vessel-1/fishing_vessel_state_VGG.ipynb#W4sdnNjb2RlLXJlbW90ZQ%3D%3D?line=12'>13</a>\u001b[0m target_size \u001b[39m=\u001b[39m (\u001b[39m224\u001b[39m, \u001b[39m224\u001b[39m)\n\u001b[1;32m     <a href='vscode-notebook-cell://jspgnexcsnaxgemt.tunnel-pt.elice.io/home/elicer/FIshing_vessel-1/fishing_vessel_state_VGG.ipynb#W4sdnNjb2RlLXJlbW90ZQ%3D%3D?line=14'>15</a>\u001b[0m \u001b[39m# 폴더 내 모든 이미지 파일에 대해 크기 조정\u001b[39;00m\n\u001b[0;32m---> <a href='vscode-notebook-cell://jspgnexcsnaxgemt.tunnel-pt.elice.io/home/elicer/FIshing_vessel-1/fishing_vessel_state_VGG.ipynb#W4sdnNjb2RlLXJlbW90ZQ%3D%3D?line=15'>16</a>\u001b[0m \u001b[39mfor\u001b[39;00m filename \u001b[39min\u001b[39;00m os\u001b[39m.\u001b[39;49mlistdir(input_folder):\n\u001b[1;32m     <a href='vscode-notebook-cell://jspgnexcsnaxgemt.tunnel-pt.elice.io/home/elicer/FIshing_vessel-1/fishing_vessel_state_VGG.ipynb#W4sdnNjb2RlLXJlbW90ZQ%3D%3D?line=16'>17</a>\u001b[0m     \u001b[39mif\u001b[39;00m filename\u001b[39m.\u001b[39mendswith((\u001b[39m'\u001b[39m\u001b[39m.jpg\u001b[39m\u001b[39m'\u001b[39m, \u001b[39m'\u001b[39m\u001b[39m.jpeg\u001b[39m\u001b[39m'\u001b[39m, \u001b[39m'\u001b[39m\u001b[39m.png\u001b[39m\u001b[39m'\u001b[39m)):  \u001b[39m# 이미지 파일만 처리\u001b[39;00m\n\u001b[1;32m     <a href='vscode-notebook-cell://jspgnexcsnaxgemt.tunnel-pt.elice.io/home/elicer/FIshing_vessel-1/fishing_vessel_state_VGG.ipynb#W4sdnNjb2RlLXJlbW90ZQ%3D%3D?line=17'>18</a>\u001b[0m         \u001b[39m# 이미지 파일 경로\u001b[39;00m\n\u001b[1;32m     <a href='vscode-notebook-cell://jspgnexcsnaxgemt.tunnel-pt.elice.io/home/elicer/FIshing_vessel-1/fishing_vessel_state_VGG.ipynb#W4sdnNjb2RlLXJlbW90ZQ%3D%3D?line=18'>19</a>\u001b[0m         input_path \u001b[39m=\u001b[39m os\u001b[39m.\u001b[39mpath\u001b[39m.\u001b[39mjoin(input_folder, filename)\n",
      "\u001b[0;31mFileNotFoundError\u001b[0m: [Errno 2] No such file or directory: '/home/elicer/FIshing_vessel-1/mini_test'"
     ]
    }
   ],
   "source": [
    "# import os\n",
    "# import cv2\n",
    "\n",
    "# # 이미지가 저장된 폴더 경로 지정\n",
    "# input_folder = '/home/elicer/FIshing_vessel-1/mini_test'  # 원본 이미지 폴더 경로\n",
    "# output_folder = '/home/elicer/FIshing_vessel-1/resized_minitest'  # 리사이즈된 이미지 저장 폴더 경로\n",
    "\n",
    "# # 출력 폴더가 존재하지 않으면 생성\n",
    "# if not os.path.exists(output_folder):\n",
    "#     os.makedirs(output_folder)\n",
    "\n",
    "# # 이미지 크기 설정 (VGG 모델의 입력 크기에 맞춤)\n",
    "# target_size = (224, 224)\n",
    "\n",
    "# # 폴더 내 모든 이미지 파일에 대해 크기 조정\n",
    "# for filename in os.listdir(input_folder):\n",
    "#     if filename.endswith(('.jpg', '.jpeg', '.png')):  # 이미지 파일만 처리\n",
    "#         # 이미지 파일 경로\n",
    "#         input_path = os.path.join(input_folder, filename)\n",
    "        \n",
    "#         # 이미지 읽기\n",
    "#         image = cv2.imread(input_path)\n",
    "#         if image is None:\n",
    "#             print(f\"이미지 읽기 실패: {input_path}\")\n",
    "#             continue\n",
    "        \n",
    "#         # 이미지 크기 조정\n",
    "#         resized_image = cv2.resize(image, target_size)\n",
    "        \n",
    "#         # 리사이즈된 이미지 저장 경로\n",
    "#         output_path = os.path.join(output_folder, filename)\n",
    "        \n",
    "#         # 리사이즈된 이미지 저장\n",
    "#         cv2.imwrite(output_path, resized_image)\n",
    "#         print(f\"이미지 저장 완료: {output_path}\")\n",
    "\n",
    "# print(\"모든 이미지의 크기 조정 완료\")\n"
   ]
  },
  {
   "cell_type": "markdown",
   "metadata": {},
   "source": [
    "2. 데이터 로더 작성\n",
    "- Keras ImageDataGenerator 사용: ImageDataGenerator를 이용하여 이미지 데이터를 불러오고, 훈련 데이터와 검증 데이터를 생성합니다. 이 단계에서는 데이터를 train, validation으로 나누어 학습과 평가의 균형을 맞춥니다."
   ]
  },
  {
   "cell_type": "code",
   "execution_count": 3,
   "metadata": {},
   "outputs": [
    {
     "name": "stdout",
     "output_type": "stream",
     "text": [
      "이미지 이동 완료: /home/elicer/FIshing_vessel-1/resized_imgdata/1. 낚시어선 이동.jpg -> /home/elicer/FIshing_vessel-1/categorized_imgdata/이동/1. 낚시어선 이동.jpg\n",
      "이미지 이동 완료: /home/elicer/FIshing_vessel-1/resized_imgdata/1. 낚시어선 조업.jpg -> /home/elicer/FIshing_vessel-1/categorized_imgdata/조업/1. 낚시어선 조업.jpg\n",
      "이미지 이동 완료: /home/elicer/FIshing_vessel-1/resized_imgdata/1. 낚시어선 표류.jpg -> /home/elicer/FIshing_vessel-1/categorized_imgdata/표류/1. 낚시어선 표류.jpg\n",
      "이미지 이동 완료: /home/elicer/FIshing_vessel-1/resized_imgdata/1. 등광조망 이동.jpg -> /home/elicer/FIshing_vessel-1/categorized_imgdata/이동/1. 등광조망 이동.jpg\n",
      "이미지 이동 완료: /home/elicer/FIshing_vessel-1/resized_imgdata/1. 등광조망 표류.jpg -> /home/elicer/FIshing_vessel-1/categorized_imgdata/표류/1. 등광조망 표류.jpg\n",
      "이미지 이동 완료: /home/elicer/FIshing_vessel-1/resized_imgdata/1. 범장망 이동.jpg -> /home/elicer/FIshing_vessel-1/categorized_imgdata/이동/1. 범장망 이동.jpg\n",
      "이미지 이동 완료: /home/elicer/FIshing_vessel-1/resized_imgdata/1. 범장망 조업.jpg -> /home/elicer/FIshing_vessel-1/categorized_imgdata/조업/1. 범장망 조업.jpg\n",
      "이미지 이동 완료: /home/elicer/FIshing_vessel-1/resized_imgdata/1. 범장망 표류.jpg -> /home/elicer/FIshing_vessel-1/categorized_imgdata/표류/1. 범장망 표류.jpg\n",
      "이미지 이동 완료: /home/elicer/FIshing_vessel-1/resized_imgdata/1. 안강망 이동.jpg -> /home/elicer/FIshing_vessel-1/categorized_imgdata/이동/1. 안강망 이동.jpg\n",
      "이미지 이동 완료: /home/elicer/FIshing_vessel-1/resized_imgdata/1. 안강망 조업.jpg -> /home/elicer/FIshing_vessel-1/categorized_imgdata/조업/1. 안강망 조업.jpg\n",
      "이미지 이동 완료: /home/elicer/FIshing_vessel-1/resized_imgdata/1. 안강망 표류.jpg -> /home/elicer/FIshing_vessel-1/categorized_imgdata/표류/1. 안강망 표류.jpg\n",
      "이미지 이동 완료: /home/elicer/FIshing_vessel-1/resized_imgdata/1. 연승 이동.jpg -> /home/elicer/FIshing_vessel-1/categorized_imgdata/이동/1. 연승 이동.jpg\n",
      "이미지 이동 완료: /home/elicer/FIshing_vessel-1/resized_imgdata/1. 연승 표류.jpg -> /home/elicer/FIshing_vessel-1/categorized_imgdata/표류/1. 연승 표류.jpg\n",
      "이미지 이동 완료: /home/elicer/FIshing_vessel-1/resized_imgdata/1. 유망 이동.jpg -> /home/elicer/FIshing_vessel-1/categorized_imgdata/이동/1. 유망 이동.jpg\n",
      "이미지 이동 완료: /home/elicer/FIshing_vessel-1/resized_imgdata/1. 유망 조업.jpg -> /home/elicer/FIshing_vessel-1/categorized_imgdata/조업/1. 유망 조업.jpg\n",
      "이미지 이동 완료: /home/elicer/FIshing_vessel-1/resized_imgdata/1. 유망 표류.jpg -> /home/elicer/FIshing_vessel-1/categorized_imgdata/표류/1. 유망 표류.jpg\n",
      "이미지 이동 완료: /home/elicer/FIshing_vessel-1/resized_imgdata/1. 저인망 이동.jpg -> /home/elicer/FIshing_vessel-1/categorized_imgdata/이동/1. 저인망 이동.jpg\n",
      "이미지 이동 완료: /home/elicer/FIshing_vessel-1/resized_imgdata/1. 저인망 조업.jpg -> /home/elicer/FIshing_vessel-1/categorized_imgdata/조업/1. 저인망 조업.jpg\n",
      "이미지 이동 완료: /home/elicer/FIshing_vessel-1/resized_imgdata/1. 저인망 표류.jpg -> /home/elicer/FIshing_vessel-1/categorized_imgdata/표류/1. 저인망 표류.jpg\n",
      "이미지 이동 완료: /home/elicer/FIshing_vessel-1/resized_imgdata/1. 채낚기  표류.jpg -> /home/elicer/FIshing_vessel-1/categorized_imgdata/표류/1. 채낚기  표류.jpg\n",
      "이미지 이동 완료: /home/elicer/FIshing_vessel-1/resized_imgdata/1. 채낚기 이동.jpg -> /home/elicer/FIshing_vessel-1/categorized_imgdata/이동/1. 채낚기 이동.jpg\n",
      "이미지 이동 완료: /home/elicer/FIshing_vessel-1/resized_imgdata/1. 채낚기 조업.jpg -> /home/elicer/FIshing_vessel-1/categorized_imgdata/조업/1. 채낚기 조업.jpg\n",
      "이미지 이동 완료: /home/elicer/FIshing_vessel-1/resized_imgdata/1. 타망 이동.jpg -> /home/elicer/FIshing_vessel-1/categorized_imgdata/이동/1. 타망 이동.jpg\n",
      "이미지 이동 완료: /home/elicer/FIshing_vessel-1/resized_imgdata/1. 타망 조업.jpg -> /home/elicer/FIshing_vessel-1/categorized_imgdata/조업/1. 타망 조업.jpg\n",
      "이미지 이동 완료: /home/elicer/FIshing_vessel-1/resized_imgdata/1. 타망 표류.jpg -> /home/elicer/FIshing_vessel-1/categorized_imgdata/표류/1. 타망 표류.jpg\n",
      "이미지 이동 완료: /home/elicer/FIshing_vessel-1/resized_imgdata/1. 통발 이동.jpg -> /home/elicer/FIshing_vessel-1/categorized_imgdata/이동/1. 통발 이동.jpg\n",
      "이미지 이동 완료: /home/elicer/FIshing_vessel-1/resized_imgdata/1. 통발 표류.jpg -> /home/elicer/FIshing_vessel-1/categorized_imgdata/표류/1. 통발 표류.jpg\n",
      "이미지 이동 완료: /home/elicer/FIshing_vessel-1/resized_imgdata/1. 통발 조업.jpg -> /home/elicer/FIshing_vessel-1/categorized_imgdata/조업/1. 통발 조업.jpg\n",
      "이미지 이동 완료: /home/elicer/FIshing_vessel-1/resized_imgdata/1.등광조망 조업.jpg -> /home/elicer/FIshing_vessel-1/categorized_imgdata/조업/1.등광조망 조업.jpg\n",
      "이미지 이동 완료: /home/elicer/FIshing_vessel-1/resized_imgdata/10. 낚시어선 이동.jpg -> /home/elicer/FIshing_vessel-1/categorized_imgdata/이동/10. 낚시어선 이동.jpg\n",
      "이미지 이동 완료: /home/elicer/FIshing_vessel-1/resized_imgdata/10. 낚시어선 조업.jpg -> /home/elicer/FIshing_vessel-1/categorized_imgdata/조업/10. 낚시어선 조업.jpg\n",
      "이미지 이동 완료: /home/elicer/FIshing_vessel-1/resized_imgdata/10. 낚시어선 표류.jpg -> /home/elicer/FIshing_vessel-1/categorized_imgdata/표류/10. 낚시어선 표류.jpg\n",
      "이미지 이동 완료: /home/elicer/FIshing_vessel-1/resized_imgdata/10. 등광조망 이동.jpg -> /home/elicer/FIshing_vessel-1/categorized_imgdata/이동/10. 등광조망 이동.jpg\n",
      "이미지 이동 완료: /home/elicer/FIshing_vessel-1/resized_imgdata/10. 등광조망 조업.jpg -> /home/elicer/FIshing_vessel-1/categorized_imgdata/조업/10. 등광조망 조업.jpg\n",
      "이미지 이동 완료: /home/elicer/FIshing_vessel-1/resized_imgdata/10. 등광조망 표류.jpg -> /home/elicer/FIshing_vessel-1/categorized_imgdata/표류/10. 등광조망 표류.jpg\n",
      "이미지 이동 완료: /home/elicer/FIshing_vessel-1/resized_imgdata/10. 범장망 이동.jpg -> /home/elicer/FIshing_vessel-1/categorized_imgdata/이동/10. 범장망 이동.jpg\n",
      "이미지 이동 완료: /home/elicer/FIshing_vessel-1/resized_imgdata/10. 범장망 표류.jpg -> /home/elicer/FIshing_vessel-1/categorized_imgdata/표류/10. 범장망 표류.jpg\n",
      "이미지 이동 완료: /home/elicer/FIshing_vessel-1/resized_imgdata/10. 범장망 조업.jpg -> /home/elicer/FIshing_vessel-1/categorized_imgdata/조업/10. 범장망 조업.jpg\n",
      "이미지 이동 완료: /home/elicer/FIshing_vessel-1/resized_imgdata/10. 안강망 이동.jpg -> /home/elicer/FIshing_vessel-1/categorized_imgdata/이동/10. 안강망 이동.jpg\n",
      "이미지 이동 완료: /home/elicer/FIshing_vessel-1/resized_imgdata/10. 안강망 조업.jpg -> /home/elicer/FIshing_vessel-1/categorized_imgdata/조업/10. 안강망 조업.jpg\n",
      "이미지 이동 완료: /home/elicer/FIshing_vessel-1/resized_imgdata/10. 안강망 표류.jpg -> /home/elicer/FIshing_vessel-1/categorized_imgdata/표류/10. 안강망 표류.jpg\n",
      "이미지 이동 완료: /home/elicer/FIshing_vessel-1/resized_imgdata/10. 연승 이동.jpg -> /home/elicer/FIshing_vessel-1/categorized_imgdata/이동/10. 연승 이동.jpg\n",
      "이미지 이동 완료: /home/elicer/FIshing_vessel-1/resized_imgdata/10. 유망 이동.jpg -> /home/elicer/FIshing_vessel-1/categorized_imgdata/이동/10. 유망 이동.jpg\n",
      "이미지 이동 완료: /home/elicer/FIshing_vessel-1/resized_imgdata/10. 유망 표류.jpg -> /home/elicer/FIshing_vessel-1/categorized_imgdata/표류/10. 유망 표류.jpg\n",
      "이미지 이동 완료: /home/elicer/FIshing_vessel-1/resized_imgdata/10. 연승 표류.jpg -> /home/elicer/FIshing_vessel-1/categorized_imgdata/표류/10. 연승 표류.jpg\n",
      "이미지 이동 완료: /home/elicer/FIshing_vessel-1/resized_imgdata/10. 유망 조업.jpg -> /home/elicer/FIshing_vessel-1/categorized_imgdata/조업/10. 유망 조업.jpg\n",
      "이미지 이동 완료: /home/elicer/FIshing_vessel-1/resized_imgdata/10. 저인망 이동.jpg -> /home/elicer/FIshing_vessel-1/categorized_imgdata/이동/10. 저인망 이동.jpg\n",
      "이미지 이동 완료: /home/elicer/FIshing_vessel-1/resized_imgdata/10. 저인망 조업.jpg -> /home/elicer/FIshing_vessel-1/categorized_imgdata/조업/10. 저인망 조업.jpg\n",
      "이미지 이동 완료: /home/elicer/FIshing_vessel-1/resized_imgdata/10. 채낚기 이동.jpg -> /home/elicer/FIshing_vessel-1/categorized_imgdata/이동/10. 채낚기 이동.jpg\n",
      "이미지 이동 완료: /home/elicer/FIshing_vessel-1/resized_imgdata/10. 채낚기 표류.jpg -> /home/elicer/FIshing_vessel-1/categorized_imgdata/표류/10. 채낚기 표류.jpg\n",
      "이미지 이동 완료: /home/elicer/FIshing_vessel-1/resized_imgdata/10. 타망 이동.jpg -> /home/elicer/FIshing_vessel-1/categorized_imgdata/이동/10. 타망 이동.jpg\n",
      "이미지 이동 완료: /home/elicer/FIshing_vessel-1/resized_imgdata/10. 타망 조업.jpg -> /home/elicer/FIshing_vessel-1/categorized_imgdata/조업/10. 타망 조업.jpg\n",
      "이미지 이동 완료: /home/elicer/FIshing_vessel-1/resized_imgdata/10. 타망 표류.jpg -> /home/elicer/FIshing_vessel-1/categorized_imgdata/표류/10. 타망 표류.jpg\n",
      "이미지 이동 완료: /home/elicer/FIshing_vessel-1/resized_imgdata/10. 통발 이동.jpg -> /home/elicer/FIshing_vessel-1/categorized_imgdata/이동/10. 통발 이동.jpg\n",
      "이미지 이동 완료: /home/elicer/FIshing_vessel-1/resized_imgdata/100 타망 이동.jpg -> /home/elicer/FIshing_vessel-1/categorized_imgdata/이동/100 타망 이동.jpg\n",
      "이미지 이동 완료: /home/elicer/FIshing_vessel-1/resized_imgdata/10. 통발 표류.jpg -> /home/elicer/FIshing_vessel-1/categorized_imgdata/표류/10. 통발 표류.jpg\n",
      "이미지 이동 완료: /home/elicer/FIshing_vessel-1/resized_imgdata/100. 범장망 이동.jpg -> /home/elicer/FIshing_vessel-1/categorized_imgdata/이동/100. 범장망 이동.jpg\n",
      "이미지 이동 완료: /home/elicer/FIshing_vessel-1/resized_imgdata/100. 범장망 표류.jpg -> /home/elicer/FIshing_vessel-1/categorized_imgdata/표류/100. 범장망 표류.jpg\n",
      "이미지 이동 완료: /home/elicer/FIshing_vessel-1/resized_imgdata/100. 타망 조업.jpg -> /home/elicer/FIshing_vessel-1/categorized_imgdata/조업/100. 타망 조업.jpg\n",
      "이미지 이동 완료: /home/elicer/FIshing_vessel-1/resized_imgdata/100. 유망 표류.jpg -> /home/elicer/FIshing_vessel-1/categorized_imgdata/표류/100. 유망 표류.jpg\n",
      "이미지 이동 완료: /home/elicer/FIshing_vessel-1/resized_imgdata/100. 타망 표류.jpg -> /home/elicer/FIshing_vessel-1/categorized_imgdata/표류/100. 타망 표류.jpg\n",
      "이미지 이동 완료: /home/elicer/FIshing_vessel-1/resized_imgdata/101 타망 이동.jpg -> /home/elicer/FIshing_vessel-1/categorized_imgdata/이동/101 타망 이동.jpg\n",
      "이미지 이동 완료: /home/elicer/FIshing_vessel-1/resized_imgdata/101. 범장망 이동.jpg -> /home/elicer/FIshing_vessel-1/categorized_imgdata/이동/101. 범장망 이동.jpg\n",
      "이미지 이동 완료: /home/elicer/FIshing_vessel-1/resized_imgdata/101. 범장망 표류.jpg -> /home/elicer/FIshing_vessel-1/categorized_imgdata/표류/101. 범장망 표류.jpg\n",
      "이미지 이동 완료: /home/elicer/FIshing_vessel-1/resized_imgdata/101. 타망 조업.jpg -> /home/elicer/FIshing_vessel-1/categorized_imgdata/조업/101. 타망 조업.jpg\n",
      "이미지 이동 완료: /home/elicer/FIshing_vessel-1/resized_imgdata/101. 유망 표류.jpg -> /home/elicer/FIshing_vessel-1/categorized_imgdata/표류/101. 유망 표류.jpg\n",
      "이미지 이동 완료: /home/elicer/FIshing_vessel-1/resized_imgdata/101. 타망 표류.jpg -> /home/elicer/FIshing_vessel-1/categorized_imgdata/표류/101. 타망 표류.jpg\n",
      "이미지 이동 완료: /home/elicer/FIshing_vessel-1/resized_imgdata/102 타망 이동.jpg -> /home/elicer/FIshing_vessel-1/categorized_imgdata/이동/102 타망 이동.jpg\n",
      "이미지 이동 완료: /home/elicer/FIshing_vessel-1/resized_imgdata/102. 범장망 이동.jpg -> /home/elicer/FIshing_vessel-1/categorized_imgdata/이동/102. 범장망 이동.jpg\n",
      "이미지 이동 완료: /home/elicer/FIshing_vessel-1/resized_imgdata/102. 범장망 표류.jpg -> /home/elicer/FIshing_vessel-1/categorized_imgdata/표류/102. 범장망 표류.jpg\n",
      "이미지 이동 완료: /home/elicer/FIshing_vessel-1/resized_imgdata/102. 유망 표류.jpg -> /home/elicer/FIshing_vessel-1/categorized_imgdata/표류/102. 유망 표류.jpg\n",
      "이미지 이동 완료: /home/elicer/FIshing_vessel-1/resized_imgdata/102. 타망 조업.jpg -> /home/elicer/FIshing_vessel-1/categorized_imgdata/조업/102. 타망 조업.jpg\n",
      "이미지 이동 완료: /home/elicer/FIshing_vessel-1/resized_imgdata/102. 타망 표류.jpg -> /home/elicer/FIshing_vessel-1/categorized_imgdata/표류/102. 타망 표류.jpg\n",
      "이미지 이동 완료: /home/elicer/FIshing_vessel-1/resized_imgdata/103 타망 이동.jpg -> /home/elicer/FIshing_vessel-1/categorized_imgdata/이동/103 타망 이동.jpg\n",
      "이미지 이동 완료: /home/elicer/FIshing_vessel-1/resized_imgdata/103. 범장망 이동.jpg -> /home/elicer/FIshing_vessel-1/categorized_imgdata/이동/103. 범장망 이동.jpg\n",
      "이미지 이동 완료: /home/elicer/FIshing_vessel-1/resized_imgdata/103. 범장망 표류.jpg -> /home/elicer/FIshing_vessel-1/categorized_imgdata/표류/103. 범장망 표류.jpg\n",
      "이미지 이동 완료: /home/elicer/FIshing_vessel-1/resized_imgdata/103. 유망 표류.jpg -> /home/elicer/FIshing_vessel-1/categorized_imgdata/표류/103. 유망 표류.jpg\n",
      "이미지 이동 완료: /home/elicer/FIshing_vessel-1/resized_imgdata/103. 타망 조업.jpg -> /home/elicer/FIshing_vessel-1/categorized_imgdata/조업/103. 타망 조업.jpg\n",
      "이미지 이동 완료: /home/elicer/FIshing_vessel-1/resized_imgdata/103. 타망 표류.jpg -> /home/elicer/FIshing_vessel-1/categorized_imgdata/표류/103. 타망 표류.jpg\n",
      "이미지 이동 완료: /home/elicer/FIshing_vessel-1/resized_imgdata/104 타망 이동.jpg -> /home/elicer/FIshing_vessel-1/categorized_imgdata/이동/104 타망 이동.jpg\n",
      "이미지 이동 완료: /home/elicer/FIshing_vessel-1/resized_imgdata/104. 유망 표류.jpg -> /home/elicer/FIshing_vessel-1/categorized_imgdata/표류/104. 유망 표류.jpg\n",
      "이미지 이동 완료: /home/elicer/FIshing_vessel-1/resized_imgdata/104. 범장망 이동.jpg -> /home/elicer/FIshing_vessel-1/categorized_imgdata/이동/104. 범장망 이동.jpg\n",
      "이미지 이동 완료: /home/elicer/FIshing_vessel-1/resized_imgdata/104. 범장망 표류.jpg -> /home/elicer/FIshing_vessel-1/categorized_imgdata/표류/104. 범장망 표류.jpg\n",
      "이미지 이동 완료: /home/elicer/FIshing_vessel-1/resized_imgdata/104. 타망 조업.jpg -> /home/elicer/FIshing_vessel-1/categorized_imgdata/조업/104. 타망 조업.jpg\n",
      "이미지 이동 완료: /home/elicer/FIshing_vessel-1/resized_imgdata/104. 타망 표류.jpg -> /home/elicer/FIshing_vessel-1/categorized_imgdata/표류/104. 타망 표류.jpg\n",
      "이미지 이동 완료: /home/elicer/FIshing_vessel-1/resized_imgdata/105. 범장망 이동.jpg -> /home/elicer/FIshing_vessel-1/categorized_imgdata/이동/105. 범장망 이동.jpg\n",
      "이미지 이동 완료: /home/elicer/FIshing_vessel-1/resized_imgdata/105. 유망 표류.jpg -> /home/elicer/FIshing_vessel-1/categorized_imgdata/표류/105. 유망 표류.jpg\n",
      "이미지 이동 완료: /home/elicer/FIshing_vessel-1/resized_imgdata/105. 타망 표류.jpg -> /home/elicer/FIshing_vessel-1/categorized_imgdata/표류/105. 타망 표류.jpg\n",
      "이미지 이동 완료: /home/elicer/FIshing_vessel-1/resized_imgdata/105. 범장망 표류.jpg -> /home/elicer/FIshing_vessel-1/categorized_imgdata/표류/105. 범장망 표류.jpg\n",
      "이미지 이동 완료: /home/elicer/FIshing_vessel-1/resized_imgdata/106 타망 이동.jpg -> /home/elicer/FIshing_vessel-1/categorized_imgdata/이동/106 타망 이동.jpg\n",
      "이미지 이동 완료: /home/elicer/FIshing_vessel-1/resized_imgdata/105. 타망 조업.jpg -> /home/elicer/FIshing_vessel-1/categorized_imgdata/조업/105. 타망 조업.jpg\n",
      "이미지 이동 완료: /home/elicer/FIshing_vessel-1/resized_imgdata/106. 범장망 이동.jpg -> /home/elicer/FIshing_vessel-1/categorized_imgdata/이동/106. 범장망 이동.jpg\n",
      "이미지 이동 완료: /home/elicer/FIshing_vessel-1/resized_imgdata/106. 범장망 표류.jpg -> /home/elicer/FIshing_vessel-1/categorized_imgdata/표류/106. 범장망 표류.jpg\n",
      "이미지 이동 완료: /home/elicer/FIshing_vessel-1/resized_imgdata/106. 유망 표류.jpg -> /home/elicer/FIshing_vessel-1/categorized_imgdata/표류/106. 유망 표류.jpg\n",
      "이미지 이동 완료: /home/elicer/FIshing_vessel-1/resized_imgdata/106. 타망 조업.jpg -> /home/elicer/FIshing_vessel-1/categorized_imgdata/조업/106. 타망 조업.jpg\n",
      "이미지 이동 완료: /home/elicer/FIshing_vessel-1/resized_imgdata/106. 타망 표류.jpg -> /home/elicer/FIshing_vessel-1/categorized_imgdata/표류/106. 타망 표류.jpg\n",
      "이미지 이동 완료: /home/elicer/FIshing_vessel-1/resized_imgdata/107 타망 이동.jpg -> /home/elicer/FIshing_vessel-1/categorized_imgdata/이동/107 타망 이동.jpg\n",
      "이미지 이동 완료: /home/elicer/FIshing_vessel-1/resized_imgdata/107. 범장망 이동.jpg -> /home/elicer/FIshing_vessel-1/categorized_imgdata/이동/107. 범장망 이동.jpg\n",
      "이미지 이동 완료: /home/elicer/FIshing_vessel-1/resized_imgdata/107. 유망 표류.jpg -> /home/elicer/FIshing_vessel-1/categorized_imgdata/표류/107. 유망 표류.jpg\n",
      "이미지 이동 완료: /home/elicer/FIshing_vessel-1/resized_imgdata/107. 타망 조업.jpg -> /home/elicer/FIshing_vessel-1/categorized_imgdata/조업/107. 타망 조업.jpg\n",
      "이미지 이동 완료: /home/elicer/FIshing_vessel-1/resized_imgdata/107. 범장망 표류.jpg -> /home/elicer/FIshing_vessel-1/categorized_imgdata/표류/107. 범장망 표류.jpg\n",
      "이미지 이동 완료: /home/elicer/FIshing_vessel-1/resized_imgdata/107. 타망 표류.jpg -> /home/elicer/FIshing_vessel-1/categorized_imgdata/표류/107. 타망 표류.jpg\n",
      "이미지 이동 완료: /home/elicer/FIshing_vessel-1/resized_imgdata/108 타망 이동.jpg -> /home/elicer/FIshing_vessel-1/categorized_imgdata/이동/108 타망 이동.jpg\n",
      "이미지 이동 완료: /home/elicer/FIshing_vessel-1/resized_imgdata/108. 범장망 이동.jpg -> /home/elicer/FIshing_vessel-1/categorized_imgdata/이동/108. 범장망 이동.jpg\n",
      "이미지 이동 완료: /home/elicer/FIshing_vessel-1/resized_imgdata/108. 범장망 표류.jpg -> /home/elicer/FIshing_vessel-1/categorized_imgdata/표류/108. 범장망 표류.jpg\n",
      "이미지 이동 완료: /home/elicer/FIshing_vessel-1/resized_imgdata/108. 유망 표류.jpg -> /home/elicer/FIshing_vessel-1/categorized_imgdata/표류/108. 유망 표류.jpg\n",
      "이미지 이동 완료: /home/elicer/FIshing_vessel-1/resized_imgdata/108. 타망 조업.jpg -> /home/elicer/FIshing_vessel-1/categorized_imgdata/조업/108. 타망 조업.jpg\n",
      "이미지 이동 완료: /home/elicer/FIshing_vessel-1/resized_imgdata/108. 타망 표류.jpg -> /home/elicer/FIshing_vessel-1/categorized_imgdata/표류/108. 타망 표류.jpg\n",
      "이미지 이동 완료: /home/elicer/FIshing_vessel-1/resized_imgdata/109 타망 이동.jpg -> /home/elicer/FIshing_vessel-1/categorized_imgdata/이동/109 타망 이동.jpg\n",
      "이미지 이동 완료: /home/elicer/FIshing_vessel-1/resized_imgdata/109. 범장망 이동.jpg -> /home/elicer/FIshing_vessel-1/categorized_imgdata/이동/109. 범장망 이동.jpg\n",
      "이미지 이동 완료: /home/elicer/FIshing_vessel-1/resized_imgdata/109. 유망 표류.jpg -> /home/elicer/FIshing_vessel-1/categorized_imgdata/표류/109. 유망 표류.jpg\n",
      "이미지 이동 완료: /home/elicer/FIshing_vessel-1/resized_imgdata/109. 범장망 표류.jpg -> /home/elicer/FIshing_vessel-1/categorized_imgdata/표류/109. 범장망 표류.jpg\n",
      "이미지 이동 완료: /home/elicer/FIshing_vessel-1/resized_imgdata/109. 타망 조업.jpg -> /home/elicer/FIshing_vessel-1/categorized_imgdata/조업/109. 타망 조업.jpg\n",
      "이미지 이동 완료: /home/elicer/FIshing_vessel-1/resized_imgdata/109. 타망 표류.jpg -> /home/elicer/FIshing_vessel-1/categorized_imgdata/표류/109. 타망 표류.jpg\n",
      "이미지 이동 완료: /home/elicer/FIshing_vessel-1/resized_imgdata/11. 낚시어선 이동.jpg -> /home/elicer/FIshing_vessel-1/categorized_imgdata/이동/11. 낚시어선 이동.jpg\n",
      "이미지 이동 완료: /home/elicer/FIshing_vessel-1/resized_imgdata/11. 낚시어선 조업.jpg -> /home/elicer/FIshing_vessel-1/categorized_imgdata/조업/11. 낚시어선 조업.jpg\n",
      "이미지 이동 완료: /home/elicer/FIshing_vessel-1/resized_imgdata/11. 등광조망 이동.jpg -> /home/elicer/FIshing_vessel-1/categorized_imgdata/이동/11. 등광조망 이동.jpg\n",
      "이미지 이동 완료: /home/elicer/FIshing_vessel-1/resized_imgdata/11. 등광조망 조업.jpg -> /home/elicer/FIshing_vessel-1/categorized_imgdata/조업/11. 등광조망 조업.jpg\n",
      "이미지 이동 완료: /home/elicer/FIshing_vessel-1/resized_imgdata/11. 등광조망 표류.jpg -> /home/elicer/FIshing_vessel-1/categorized_imgdata/표류/11. 등광조망 표류.jpg\n",
      "이미지 이동 완료: /home/elicer/FIshing_vessel-1/resized_imgdata/11. 범장망 이동.jpg -> /home/elicer/FIshing_vessel-1/categorized_imgdata/이동/11. 범장망 이동.jpg\n",
      "이미지 이동 완료: /home/elicer/FIshing_vessel-1/resized_imgdata/11. 범장망 조업.jpg -> /home/elicer/FIshing_vessel-1/categorized_imgdata/조업/11. 범장망 조업.jpg\n",
      "이미지 이동 완료: /home/elicer/FIshing_vessel-1/resized_imgdata/11. 범장망 표류.jpg -> /home/elicer/FIshing_vessel-1/categorized_imgdata/표류/11. 범장망 표류.jpg\n",
      "이미지 이동 완료: /home/elicer/FIshing_vessel-1/resized_imgdata/11. 안강망 이동.jpg -> /home/elicer/FIshing_vessel-1/categorized_imgdata/이동/11. 안강망 이동.jpg\n",
      "이미지 이동 완료: /home/elicer/FIshing_vessel-1/resized_imgdata/11. 안강망 조업.jpg -> /home/elicer/FIshing_vessel-1/categorized_imgdata/조업/11. 안강망 조업.jpg\n",
      "이미지 이동 완료: /home/elicer/FIshing_vessel-1/resized_imgdata/11. 연승 이동.jpg -> /home/elicer/FIshing_vessel-1/categorized_imgdata/이동/11. 연승 이동.jpg\n",
      "이미지 이동 완료: /home/elicer/FIshing_vessel-1/resized_imgdata/11. 유망 이동.jpg -> /home/elicer/FIshing_vessel-1/categorized_imgdata/이동/11. 유망 이동.jpg\n",
      "이미지 이동 완료: /home/elicer/FIshing_vessel-1/resized_imgdata/11. 연승 표류.jpg -> /home/elicer/FIshing_vessel-1/categorized_imgdata/표류/11. 연승 표류.jpg\n",
      "이미지 이동 완료: /home/elicer/FIshing_vessel-1/resized_imgdata/11. 유망 표류.jpg -> /home/elicer/FIshing_vessel-1/categorized_imgdata/표류/11. 유망 표류.jpg\n",
      "이미지 이동 완료: /home/elicer/FIshing_vessel-1/resized_imgdata/11. 유망 조업.jpg -> /home/elicer/FIshing_vessel-1/categorized_imgdata/조업/11. 유망 조업.jpg\n",
      "이미지 이동 완료: /home/elicer/FIshing_vessel-1/resized_imgdata/11. 저인망 이동.jpg -> /home/elicer/FIshing_vessel-1/categorized_imgdata/이동/11. 저인망 이동.jpg\n",
      "이미지 이동 완료: /home/elicer/FIshing_vessel-1/resized_imgdata/11. 저인망 조업.jpg -> /home/elicer/FIshing_vessel-1/categorized_imgdata/조업/11. 저인망 조업.jpg\n",
      "이미지 이동 완료: /home/elicer/FIshing_vessel-1/resized_imgdata/11. 채낚기 이동.jpg -> /home/elicer/FIshing_vessel-1/categorized_imgdata/이동/11. 채낚기 이동.jpg\n",
      "이미지 이동 완료: /home/elicer/FIshing_vessel-1/resized_imgdata/11. 채낚기 표류.jpg -> /home/elicer/FIshing_vessel-1/categorized_imgdata/표류/11. 채낚기 표류.jpg\n",
      "이미지 이동 완료: /home/elicer/FIshing_vessel-1/resized_imgdata/11. 타망 이동.jpg -> /home/elicer/FIshing_vessel-1/categorized_imgdata/이동/11. 타망 이동.jpg\n",
      "이미지 이동 완료: /home/elicer/FIshing_vessel-1/resized_imgdata/11. 타망 조업.jpg -> /home/elicer/FIshing_vessel-1/categorized_imgdata/조업/11. 타망 조업.jpg\n",
      "이미지 이동 완료: /home/elicer/FIshing_vessel-1/resized_imgdata/11. 타망 표류.jpg -> /home/elicer/FIshing_vessel-1/categorized_imgdata/표류/11. 타망 표류.jpg\n",
      "이미지 이동 완료: /home/elicer/FIshing_vessel-1/resized_imgdata/11. 통발 이동.jpg -> /home/elicer/FIshing_vessel-1/categorized_imgdata/이동/11. 통발 이동.jpg\n",
      "이미지 이동 완료: /home/elicer/FIshing_vessel-1/resized_imgdata/11. 통발 표류.jpg -> /home/elicer/FIshing_vessel-1/categorized_imgdata/표류/11. 통발 표류.jpg\n",
      "이미지 이동 완료: /home/elicer/FIshing_vessel-1/resized_imgdata/110 타망 이동.jpg -> /home/elicer/FIshing_vessel-1/categorized_imgdata/이동/110 타망 이동.jpg\n",
      "이미지 이동 완료: /home/elicer/FIshing_vessel-1/resized_imgdata/110. 범장망 이동.jpg -> /home/elicer/FIshing_vessel-1/categorized_imgdata/이동/110. 범장망 이동.jpg\n",
      "이미지 이동 완료: /home/elicer/FIshing_vessel-1/resized_imgdata/110. 범장망 표류.jpg -> /home/elicer/FIshing_vessel-1/categorized_imgdata/표류/110. 범장망 표류.jpg\n",
      "이미지 이동 완료: /home/elicer/FIshing_vessel-1/resized_imgdata/110. 유망 표류.jpg -> /home/elicer/FIshing_vessel-1/categorized_imgdata/표류/110. 유망 표류.jpg\n",
      "이미지 이동 완료: /home/elicer/FIshing_vessel-1/resized_imgdata/110. 타망 조업.jpg -> /home/elicer/FIshing_vessel-1/categorized_imgdata/조업/110. 타망 조업.jpg\n",
      "이미지 이동 완료: /home/elicer/FIshing_vessel-1/resized_imgdata/110. 타망 표류.jpg -> /home/elicer/FIshing_vessel-1/categorized_imgdata/표류/110. 타망 표류.jpg\n",
      "이미지 이동 완료: /home/elicer/FIshing_vessel-1/resized_imgdata/111 타망 이동.jpg -> /home/elicer/FIshing_vessel-1/categorized_imgdata/이동/111 타망 이동.jpg\n",
      "이미지 이동 완료: /home/elicer/FIshing_vessel-1/resized_imgdata/111. 범장망 이동.jpg -> /home/elicer/FIshing_vessel-1/categorized_imgdata/이동/111. 범장망 이동.jpg\n",
      "이미지 이동 완료: /home/elicer/FIshing_vessel-1/resized_imgdata/111. 범장망 표류.jpg -> /home/elicer/FIshing_vessel-1/categorized_imgdata/표류/111. 범장망 표류.jpg\n",
      "이미지 이동 완료: /home/elicer/FIshing_vessel-1/resized_imgdata/111. 유망 표류.jpg -> /home/elicer/FIshing_vessel-1/categorized_imgdata/표류/111. 유망 표류.jpg\n",
      "이미지 이동 완료: /home/elicer/FIshing_vessel-1/resized_imgdata/111. 타망 조업.jpg -> /home/elicer/FIshing_vessel-1/categorized_imgdata/조업/111. 타망 조업.jpg\n",
      "이미지 이동 완료: /home/elicer/FIshing_vessel-1/resized_imgdata/111. 타망 표류.jpg -> /home/elicer/FIshing_vessel-1/categorized_imgdata/표류/111. 타망 표류.jpg\n",
      "이미지 이동 완료: /home/elicer/FIshing_vessel-1/resized_imgdata/112 타망 이동.jpg -> /home/elicer/FIshing_vessel-1/categorized_imgdata/이동/112 타망 이동.jpg\n",
      "이미지 이동 완료: /home/elicer/FIshing_vessel-1/resized_imgdata/112. 범장망 이동.jpg -> /home/elicer/FIshing_vessel-1/categorized_imgdata/이동/112. 범장망 이동.jpg\n",
      "이미지 이동 완료: /home/elicer/FIshing_vessel-1/resized_imgdata/112. 범장망 표류.jpg -> /home/elicer/FIshing_vessel-1/categorized_imgdata/표류/112. 범장망 표류.jpg\n",
      "이미지 이동 완료: /home/elicer/FIshing_vessel-1/resized_imgdata/112. 유망 표류.jpg -> /home/elicer/FIshing_vessel-1/categorized_imgdata/표류/112. 유망 표류.jpg\n",
      "이미지 이동 완료: /home/elicer/FIshing_vessel-1/resized_imgdata/112. 타망 조업.jpg -> /home/elicer/FIshing_vessel-1/categorized_imgdata/조업/112. 타망 조업.jpg\n",
      "이미지 이동 완료: /home/elicer/FIshing_vessel-1/resized_imgdata/112. 타망 표류.jpg -> /home/elicer/FIshing_vessel-1/categorized_imgdata/표류/112. 타망 표류.jpg\n",
      "이미지 이동 완료: /home/elicer/FIshing_vessel-1/resized_imgdata/113 타망 이동.jpg -> /home/elicer/FIshing_vessel-1/categorized_imgdata/이동/113 타망 이동.jpg\n",
      "이미지 이동 완료: /home/elicer/FIshing_vessel-1/resized_imgdata/113. 범장망 이동.jpg -> /home/elicer/FIshing_vessel-1/categorized_imgdata/이동/113. 범장망 이동.jpg\n",
      "이미지 이동 완료: /home/elicer/FIshing_vessel-1/resized_imgdata/113. 범장망 표류.jpg -> /home/elicer/FIshing_vessel-1/categorized_imgdata/표류/113. 범장망 표류.jpg\n",
      "이미지 이동 완료: /home/elicer/FIshing_vessel-1/resized_imgdata/113. 유망 표류.jpg -> /home/elicer/FIshing_vessel-1/categorized_imgdata/표류/113. 유망 표류.jpg\n",
      "이미지 이동 완료: /home/elicer/FIshing_vessel-1/resized_imgdata/113. 타망 표류.jpg -> /home/elicer/FIshing_vessel-1/categorized_imgdata/표류/113. 타망 표류.jpg\n",
      "이미지 이동 완료: /home/elicer/FIshing_vessel-1/resized_imgdata/113. 타망 조업.jpg -> /home/elicer/FIshing_vessel-1/categorized_imgdata/조업/113. 타망 조업.jpg\n",
      "이미지 이동 완료: /home/elicer/FIshing_vessel-1/resized_imgdata/114 타망 이동.jpg -> /home/elicer/FIshing_vessel-1/categorized_imgdata/이동/114 타망 이동.jpg\n",
      "이미지 이동 완료: /home/elicer/FIshing_vessel-1/resized_imgdata/114. 범장망 표류.jpg -> /home/elicer/FIshing_vessel-1/categorized_imgdata/표류/114. 범장망 표류.jpg\n",
      "이미지 이동 완료: /home/elicer/FIshing_vessel-1/resized_imgdata/114. 유망 표류.jpg -> /home/elicer/FIshing_vessel-1/categorized_imgdata/표류/114. 유망 표류.jpg\n",
      "이미지 이동 완료: /home/elicer/FIshing_vessel-1/resized_imgdata/114. 타망 조업.jpg -> /home/elicer/FIshing_vessel-1/categorized_imgdata/조업/114. 타망 조업.jpg\n",
      "이미지 이동 완료: /home/elicer/FIshing_vessel-1/resized_imgdata/114. 타망 표류.jpg -> /home/elicer/FIshing_vessel-1/categorized_imgdata/표류/114. 타망 표류.jpg\n",
      "이미지 이동 완료: /home/elicer/FIshing_vessel-1/resized_imgdata/115 타망 이동.jpg -> /home/elicer/FIshing_vessel-1/categorized_imgdata/이동/115 타망 이동.jpg\n",
      "이미지 이동 완료: /home/elicer/FIshing_vessel-1/resized_imgdata/115. 범장망 표류.jpg -> /home/elicer/FIshing_vessel-1/categorized_imgdata/표류/115. 범장망 표류.jpg\n",
      "이미지 이동 완료: /home/elicer/FIshing_vessel-1/resized_imgdata/115. 유망 표류.jpg -> /home/elicer/FIshing_vessel-1/categorized_imgdata/표류/115. 유망 표류.jpg\n",
      "이미지 이동 완료: /home/elicer/FIshing_vessel-1/resized_imgdata/115. 타망 조업.jpg -> /home/elicer/FIshing_vessel-1/categorized_imgdata/조업/115. 타망 조업.jpg\n",
      "이미지 이동 완료: /home/elicer/FIshing_vessel-1/resized_imgdata/115. 타망 표류.jpg -> /home/elicer/FIshing_vessel-1/categorized_imgdata/표류/115. 타망 표류.jpg\n",
      "이미지 이동 완료: /home/elicer/FIshing_vessel-1/resized_imgdata/116 타망 이동.jpg -> /home/elicer/FIshing_vessel-1/categorized_imgdata/이동/116 타망 이동.jpg\n",
      "이미지 이동 완료: /home/elicer/FIshing_vessel-1/resized_imgdata/116. 유망 표류.jpg -> /home/elicer/FIshing_vessel-1/categorized_imgdata/표류/116. 유망 표류.jpg\n",
      "이미지 이동 완료: /home/elicer/FIshing_vessel-1/resized_imgdata/116. 타망 조업.jpg -> /home/elicer/FIshing_vessel-1/categorized_imgdata/조업/116. 타망 조업.jpg\n",
      "이미지 이동 완료: /home/elicer/FIshing_vessel-1/resized_imgdata/116. 타망 표류.jpg -> /home/elicer/FIshing_vessel-1/categorized_imgdata/표류/116. 타망 표류.jpg\n",
      "이미지 이동 완료: /home/elicer/FIshing_vessel-1/resized_imgdata/116.. 범장망 표류.jpg -> /home/elicer/FIshing_vessel-1/categorized_imgdata/표류/116.. 범장망 표류.jpg\n",
      "이미지 이동 완료: /home/elicer/FIshing_vessel-1/resized_imgdata/117 타망 이동.jpg -> /home/elicer/FIshing_vessel-1/categorized_imgdata/이동/117 타망 이동.jpg\n",
      "이미지 이동 완료: /home/elicer/FIshing_vessel-1/resized_imgdata/117. 범장망 표류.jpg -> /home/elicer/FIshing_vessel-1/categorized_imgdata/표류/117. 범장망 표류.jpg\n",
      "이미지 이동 완료: /home/elicer/FIshing_vessel-1/resized_imgdata/117. 타망 조업.jpg -> /home/elicer/FIshing_vessel-1/categorized_imgdata/조업/117. 타망 조업.jpg\n",
      "이미지 이동 완료: /home/elicer/FIshing_vessel-1/resized_imgdata/117. 유망 표류.jpg -> /home/elicer/FIshing_vessel-1/categorized_imgdata/표류/117. 유망 표류.jpg\n",
      "이미지 이동 완료: /home/elicer/FIshing_vessel-1/resized_imgdata/118 타망 이동.jpg -> /home/elicer/FIshing_vessel-1/categorized_imgdata/이동/118 타망 이동.jpg\n",
      "이미지 이동 완료: /home/elicer/FIshing_vessel-1/resized_imgdata/117. 타망 표류.jpg -> /home/elicer/FIshing_vessel-1/categorized_imgdata/표류/117. 타망 표류.jpg\n",
      "이미지 이동 완료: /home/elicer/FIshing_vessel-1/resized_imgdata/118. 유망 표류.jpg -> /home/elicer/FIshing_vessel-1/categorized_imgdata/표류/118. 유망 표류.jpg\n",
      "이미지 이동 완료: /home/elicer/FIshing_vessel-1/resized_imgdata/118. 범장망 표류.jpg -> /home/elicer/FIshing_vessel-1/categorized_imgdata/표류/118. 범장망 표류.jpg\n",
      "이미지 이동 완료: /home/elicer/FIshing_vessel-1/resized_imgdata/118. 타망 조업.jpg -> /home/elicer/FIshing_vessel-1/categorized_imgdata/조업/118. 타망 조업.jpg\n",
      "이미지 이동 완료: /home/elicer/FIshing_vessel-1/resized_imgdata/118. 타망 표류.jpg -> /home/elicer/FIshing_vessel-1/categorized_imgdata/표류/118. 타망 표류.jpg\n",
      "이미지 이동 완료: /home/elicer/FIshing_vessel-1/resized_imgdata/119 타망 이동.jpg -> /home/elicer/FIshing_vessel-1/categorized_imgdata/이동/119 타망 이동.jpg\n",
      "이미지 이동 완료: /home/elicer/FIshing_vessel-1/resized_imgdata/119. 범장망 표류.jpg -> /home/elicer/FIshing_vessel-1/categorized_imgdata/표류/119. 범장망 표류.jpg\n",
      "이미지 이동 완료: /home/elicer/FIshing_vessel-1/resized_imgdata/119. 유망 표류.jpg -> /home/elicer/FIshing_vessel-1/categorized_imgdata/표류/119. 유망 표류.jpg\n",
      "이미지 이동 완료: /home/elicer/FIshing_vessel-1/resized_imgdata/119. 타망 표류.jpg -> /home/elicer/FIshing_vessel-1/categorized_imgdata/표류/119. 타망 표류.jpg\n",
      "이미지 이동 완료: /home/elicer/FIshing_vessel-1/resized_imgdata/12 등광조망 조업.jpg -> /home/elicer/FIshing_vessel-1/categorized_imgdata/조업/12 등광조망 조업.jpg\n",
      "이미지 이동 완료: /home/elicer/FIshing_vessel-1/resized_imgdata/12. 낚시어선 조업.jpg -> /home/elicer/FIshing_vessel-1/categorized_imgdata/조업/12. 낚시어선 조업.jpg\n",
      "이미지 이동 완료: /home/elicer/FIshing_vessel-1/resized_imgdata/12. 등광조망 이동.jpg -> /home/elicer/FIshing_vessel-1/categorized_imgdata/이동/12. 등광조망 이동.jpg\n",
      "이미지 이동 완료: /home/elicer/FIshing_vessel-1/resized_imgdata/12. 등광조망 표류.jpg -> /home/elicer/FIshing_vessel-1/categorized_imgdata/표류/12. 등광조망 표류.jpg\n",
      "이미지 이동 완료: /home/elicer/FIshing_vessel-1/resized_imgdata/12. 범장망 이동.jpg -> /home/elicer/FIshing_vessel-1/categorized_imgdata/이동/12. 범장망 이동.jpg\n",
      "이미지 이동 완료: /home/elicer/FIshing_vessel-1/resized_imgdata/12. 범장망 조업.jpg -> /home/elicer/FIshing_vessel-1/categorized_imgdata/조업/12. 범장망 조업.jpg\n",
      "이미지 이동 완료: /home/elicer/FIshing_vessel-1/resized_imgdata/12. 범장망 표류.jpg -> /home/elicer/FIshing_vessel-1/categorized_imgdata/표류/12. 범장망 표류.jpg\n",
      "이미지 이동 완료: /home/elicer/FIshing_vessel-1/resized_imgdata/12. 안강망 이동.jpg -> /home/elicer/FIshing_vessel-1/categorized_imgdata/이동/12. 안강망 이동.jpg\n",
      "이미지 이동 완료: /home/elicer/FIshing_vessel-1/resized_imgdata/12. 안강망 조업.jpg -> /home/elicer/FIshing_vessel-1/categorized_imgdata/조업/12. 안강망 조업.jpg\n",
      "이미지 이동 완료: /home/elicer/FIshing_vessel-1/resized_imgdata/12. 안강망 표류.jpg -> /home/elicer/FIshing_vessel-1/categorized_imgdata/표류/12. 안강망 표류.jpg\n",
      "이미지 이동 완료: /home/elicer/FIshing_vessel-1/resized_imgdata/12. 연승 이동.jpg -> /home/elicer/FIshing_vessel-1/categorized_imgdata/이동/12. 연승 이동.jpg\n",
      "이미지 이동 완료: /home/elicer/FIshing_vessel-1/resized_imgdata/12. 연승 표류.jpg -> /home/elicer/FIshing_vessel-1/categorized_imgdata/표류/12. 연승 표류.jpg\n",
      "이미지 이동 완료: /home/elicer/FIshing_vessel-1/resized_imgdata/12. 유망 이동.jpg -> /home/elicer/FIshing_vessel-1/categorized_imgdata/이동/12. 유망 이동.jpg\n",
      "이미지 이동 완료: /home/elicer/FIshing_vessel-1/resized_imgdata/12. 유망 조업.jpg -> /home/elicer/FIshing_vessel-1/categorized_imgdata/조업/12. 유망 조업.jpg\n",
      "이미지 이동 완료: /home/elicer/FIshing_vessel-1/resized_imgdata/12. 유망 표류.jpg -> /home/elicer/FIshing_vessel-1/categorized_imgdata/표류/12. 유망 표류.jpg\n",
      "이미지 이동 완료: /home/elicer/FIshing_vessel-1/resized_imgdata/12. 저인망 이동.jpg -> /home/elicer/FIshing_vessel-1/categorized_imgdata/이동/12. 저인망 이동.jpg\n",
      "이미지 이동 완료: /home/elicer/FIshing_vessel-1/resized_imgdata/12. 저인망 조업.jpg -> /home/elicer/FIshing_vessel-1/categorized_imgdata/조업/12. 저인망 조업.jpg\n",
      "이미지 이동 완료: /home/elicer/FIshing_vessel-1/resized_imgdata/12. 채낚기 이동.jpg -> /home/elicer/FIshing_vessel-1/categorized_imgdata/이동/12. 채낚기 이동.jpg\n",
      "이미지 이동 완료: /home/elicer/FIshing_vessel-1/resized_imgdata/12. 타망 이동.jpg -> /home/elicer/FIshing_vessel-1/categorized_imgdata/이동/12. 타망 이동.jpg\n",
      "이미지 이동 완료: /home/elicer/FIshing_vessel-1/resized_imgdata/12. 타망 조업.jpg -> /home/elicer/FIshing_vessel-1/categorized_imgdata/조업/12. 타망 조업.jpg\n",
      "이미지 이동 완료: /home/elicer/FIshing_vessel-1/resized_imgdata/12. 타망 표류.jpg -> /home/elicer/FIshing_vessel-1/categorized_imgdata/표류/12. 타망 표류.jpg\n",
      "이미지 이동 완료: /home/elicer/FIshing_vessel-1/resized_imgdata/12. 통발 이동.jpg -> /home/elicer/FIshing_vessel-1/categorized_imgdata/이동/12. 통발 이동.jpg\n",
      "이미지 이동 완료: /home/elicer/FIshing_vessel-1/resized_imgdata/120 타망 이동.jpg -> /home/elicer/FIshing_vessel-1/categorized_imgdata/이동/120 타망 이동.jpg\n",
      "이미지 이동 완료: /home/elicer/FIshing_vessel-1/resized_imgdata/120. 범장망 표류.jpg -> /home/elicer/FIshing_vessel-1/categorized_imgdata/표류/120. 범장망 표류.jpg\n",
      "이미지 이동 완료: /home/elicer/FIshing_vessel-1/resized_imgdata/120. 유망 표류.jpg -> /home/elicer/FIshing_vessel-1/categorized_imgdata/표류/120. 유망 표류.jpg\n",
      "이미지 이동 완료: /home/elicer/FIshing_vessel-1/resized_imgdata/120. 타망 조업.jpg -> /home/elicer/FIshing_vessel-1/categorized_imgdata/조업/120. 타망 조업.jpg\n",
      "이미지 이동 완료: /home/elicer/FIshing_vessel-1/resized_imgdata/120. 타망 표류.jpg -> /home/elicer/FIshing_vessel-1/categorized_imgdata/표류/120. 타망 표류.jpg\n",
      "이미지 이동 완료: /home/elicer/FIshing_vessel-1/resized_imgdata/121 타망 이동.jpg -> /home/elicer/FIshing_vessel-1/categorized_imgdata/이동/121 타망 이동.jpg\n",
      "이미지 이동 완료: /home/elicer/FIshing_vessel-1/resized_imgdata/121. 범장망 표류.jpg -> /home/elicer/FIshing_vessel-1/categorized_imgdata/표류/121. 범장망 표류.jpg\n",
      "이미지 이동 완료: /home/elicer/FIshing_vessel-1/resized_imgdata/121. 타망 조업.jpg -> /home/elicer/FIshing_vessel-1/categorized_imgdata/조업/121. 타망 조업.jpg\n",
      "이미지 이동 완료: /home/elicer/FIshing_vessel-1/resized_imgdata/121. 유망 표류.jpg -> /home/elicer/FIshing_vessel-1/categorized_imgdata/표류/121. 유망 표류.jpg\n",
      "이미지 이동 완료: /home/elicer/FIshing_vessel-1/resized_imgdata/121. 타망 표류.jpg -> /home/elicer/FIshing_vessel-1/categorized_imgdata/표류/121. 타망 표류.jpg\n",
      "이미지 이동 완료: /home/elicer/FIshing_vessel-1/resized_imgdata/122 타망 이동.jpg -> /home/elicer/FIshing_vessel-1/categorized_imgdata/이동/122 타망 이동.jpg\n",
      "이미지 이동 완료: /home/elicer/FIshing_vessel-1/resized_imgdata/122. 범장망 표류.jpg -> /home/elicer/FIshing_vessel-1/categorized_imgdata/표류/122. 범장망 표류.jpg\n",
      "이미지 이동 완료: /home/elicer/FIshing_vessel-1/resized_imgdata/122. 유망 표류.jpg -> /home/elicer/FIshing_vessel-1/categorized_imgdata/표류/122. 유망 표류.jpg\n",
      "이미지 이동 완료: /home/elicer/FIshing_vessel-1/resized_imgdata/122. 타망 조업.jpg -> /home/elicer/FIshing_vessel-1/categorized_imgdata/조업/122. 타망 조업.jpg\n",
      "이미지 이동 완료: /home/elicer/FIshing_vessel-1/resized_imgdata/122. 타망 표류.jpg -> /home/elicer/FIshing_vessel-1/categorized_imgdata/표류/122. 타망 표류.jpg\n",
      "이미지 이동 완료: /home/elicer/FIshing_vessel-1/resized_imgdata/123 타망 이동.jpg -> /home/elicer/FIshing_vessel-1/categorized_imgdata/이동/123 타망 이동.jpg\n",
      "이미지 이동 완료: /home/elicer/FIshing_vessel-1/resized_imgdata/123. 범장망 표류.jpg -> /home/elicer/FIshing_vessel-1/categorized_imgdata/표류/123. 범장망 표류.jpg\n",
      "이미지 이동 완료: /home/elicer/FIshing_vessel-1/resized_imgdata/123. 유망 표류.jpg -> /home/elicer/FIshing_vessel-1/categorized_imgdata/표류/123. 유망 표류.jpg\n",
      "이미지 이동 완료: /home/elicer/FIshing_vessel-1/resized_imgdata/123. 타망 조업.jpg -> /home/elicer/FIshing_vessel-1/categorized_imgdata/조업/123. 타망 조업.jpg\n",
      "이미지 이동 완료: /home/elicer/FIshing_vessel-1/resized_imgdata/123. 타망 표류.jpg -> /home/elicer/FIshing_vessel-1/categorized_imgdata/표류/123. 타망 표류.jpg\n",
      "이미지 이동 완료: /home/elicer/FIshing_vessel-1/resized_imgdata/124. 범장망 표류.jpg -> /home/elicer/FIshing_vessel-1/categorized_imgdata/표류/124. 범장망 표류.jpg\n",
      "이미지 이동 완료: /home/elicer/FIshing_vessel-1/resized_imgdata/124 타망 이동.jpg -> /home/elicer/FIshing_vessel-1/categorized_imgdata/이동/124 타망 이동.jpg\n",
      "이미지 이동 완료: /home/elicer/FIshing_vessel-1/resized_imgdata/124. 유망 표류.jpg -> /home/elicer/FIshing_vessel-1/categorized_imgdata/표류/124. 유망 표류.jpg\n",
      "이미지 이동 완료: /home/elicer/FIshing_vessel-1/resized_imgdata/124. 타망 표류.jpg -> /home/elicer/FIshing_vessel-1/categorized_imgdata/표류/124. 타망 표류.jpg\n",
      "이미지 이동 완료: /home/elicer/FIshing_vessel-1/resized_imgdata/124. 타망 조업.jpg -> /home/elicer/FIshing_vessel-1/categorized_imgdata/조업/124. 타망 조업.jpg\n",
      "이미지 이동 완료: /home/elicer/FIshing_vessel-1/resized_imgdata/125 타망 이동.jpg -> /home/elicer/FIshing_vessel-1/categorized_imgdata/이동/125 타망 이동.jpg\n",
      "이미지 이동 완료: /home/elicer/FIshing_vessel-1/resized_imgdata/125. 범장망 표류.jpg -> /home/elicer/FIshing_vessel-1/categorized_imgdata/표류/125. 범장망 표류.jpg\n",
      "이미지 이동 완료: /home/elicer/FIshing_vessel-1/resized_imgdata/125. 유망 표류.jpg -> /home/elicer/FIshing_vessel-1/categorized_imgdata/표류/125. 유망 표류.jpg\n",
      "이미지 이동 완료: /home/elicer/FIshing_vessel-1/resized_imgdata/125. 타망 조업.jpg -> /home/elicer/FIshing_vessel-1/categorized_imgdata/조업/125. 타망 조업.jpg\n",
      "이미지 이동 완료: /home/elicer/FIshing_vessel-1/resized_imgdata/125. 타망 표류.jpg -> /home/elicer/FIshing_vessel-1/categorized_imgdata/표류/125. 타망 표류.jpg\n",
      "이미지 이동 완료: /home/elicer/FIshing_vessel-1/resized_imgdata/126 타망 이동.jpg -> /home/elicer/FIshing_vessel-1/categorized_imgdata/이동/126 타망 이동.jpg\n",
      "이미지 이동 완료: /home/elicer/FIshing_vessel-1/resized_imgdata/126. 범장망 표류.jpg -> /home/elicer/FIshing_vessel-1/categorized_imgdata/표류/126. 범장망 표류.jpg\n",
      "이미지 이동 완료: /home/elicer/FIshing_vessel-1/resized_imgdata/127 타망 이동.jpg -> /home/elicer/FIshing_vessel-1/categorized_imgdata/이동/127 타망 이동.jpg\n",
      "이미지 이동 완료: /home/elicer/FIshing_vessel-1/resized_imgdata/126. 유망 표류.jpg -> /home/elicer/FIshing_vessel-1/categorized_imgdata/표류/126. 유망 표류.jpg\n",
      "이미지 이동 완료: /home/elicer/FIshing_vessel-1/resized_imgdata/127. 범장망 표류.jpg -> /home/elicer/FIshing_vessel-1/categorized_imgdata/표류/127. 범장망 표류.jpg\n",
      "이미지 이동 완료: /home/elicer/FIshing_vessel-1/resized_imgdata/126. 타망 조업.jpg -> /home/elicer/FIshing_vessel-1/categorized_imgdata/조업/126. 타망 조업.jpg\n",
      "이미지 이동 완료: /home/elicer/FIshing_vessel-1/resized_imgdata/127. 유망 표류.jpg -> /home/elicer/FIshing_vessel-1/categorized_imgdata/표류/127. 유망 표류.jpg\n",
      "이미지 이동 완료: /home/elicer/FIshing_vessel-1/resized_imgdata/127. 타망 조업.jpg -> /home/elicer/FIshing_vessel-1/categorized_imgdata/조업/127. 타망 조업.jpg\n",
      "이미지 이동 완료: /home/elicer/FIshing_vessel-1/resized_imgdata/128 타망 이동.jpg -> /home/elicer/FIshing_vessel-1/categorized_imgdata/이동/128 타망 이동.jpg\n",
      "이미지 이동 완료: /home/elicer/FIshing_vessel-1/resized_imgdata/128. 범장망 표류.jpg -> /home/elicer/FIshing_vessel-1/categorized_imgdata/표류/128. 범장망 표류.jpg\n",
      "이미지 이동 완료: /home/elicer/FIshing_vessel-1/resized_imgdata/128. 유망 표류.jpg -> /home/elicer/FIshing_vessel-1/categorized_imgdata/표류/128. 유망 표류.jpg\n",
      "이미지 이동 완료: /home/elicer/FIshing_vessel-1/resized_imgdata/128. 타망 조업.jpg -> /home/elicer/FIshing_vessel-1/categorized_imgdata/조업/128. 타망 조업.jpg\n",
      "이미지 이동 완료: /home/elicer/FIshing_vessel-1/resized_imgdata/129 타망 이동.jpg -> /home/elicer/FIshing_vessel-1/categorized_imgdata/이동/129 타망 이동.jpg\n",
      "이미지 이동 완료: /home/elicer/FIshing_vessel-1/resized_imgdata/129. 범장망 표류.jpg -> /home/elicer/FIshing_vessel-1/categorized_imgdata/표류/129. 범장망 표류.jpg\n",
      "이미지 이동 완료: /home/elicer/FIshing_vessel-1/resized_imgdata/129. 유망 표류.jpg -> /home/elicer/FIshing_vessel-1/categorized_imgdata/표류/129. 유망 표류.jpg\n",
      "이미지 이동 완료: /home/elicer/FIshing_vessel-1/resized_imgdata/129. 타망 조업.jpg -> /home/elicer/FIshing_vessel-1/categorized_imgdata/조업/129. 타망 조업.jpg\n",
      "이미지 이동 완료: /home/elicer/FIshing_vessel-1/resized_imgdata/13. 낚시어선 이동.jpg -> /home/elicer/FIshing_vessel-1/categorized_imgdata/이동/13. 낚시어선 이동.jpg\n",
      "이미지 이동 완료: /home/elicer/FIshing_vessel-1/resized_imgdata/13. 낚시어선 조업.jpg -> /home/elicer/FIshing_vessel-1/categorized_imgdata/조업/13. 낚시어선 조업.jpg\n",
      "이미지 이동 완료: /home/elicer/FIshing_vessel-1/resized_imgdata/13. 등광조망 이동.jpg -> /home/elicer/FIshing_vessel-1/categorized_imgdata/이동/13. 등광조망 이동.jpg\n",
      "이미지 이동 완료: /home/elicer/FIshing_vessel-1/resized_imgdata/13. 범장망 표류.jpg -> /home/elicer/FIshing_vessel-1/categorized_imgdata/표류/13. 범장망 표류.jpg\n",
      "이미지 이동 완료: /home/elicer/FIshing_vessel-1/resized_imgdata/13. 범장망 이동.jpg -> /home/elicer/FIshing_vessel-1/categorized_imgdata/이동/13. 범장망 이동.jpg\n",
      "이미지 이동 완료: /home/elicer/FIshing_vessel-1/resized_imgdata/13. 등광조망 조업.jpg -> /home/elicer/FIshing_vessel-1/categorized_imgdata/조업/13. 등광조망 조업.jpg\n",
      "이미지 이동 완료: /home/elicer/FIshing_vessel-1/resized_imgdata/13. 범장망 조업.jpg -> /home/elicer/FIshing_vessel-1/categorized_imgdata/조업/13. 범장망 조업.jpg\n",
      "이미지 이동 완료: /home/elicer/FIshing_vessel-1/resized_imgdata/13. 안강망 이동.jpg -> /home/elicer/FIshing_vessel-1/categorized_imgdata/이동/13. 안강망 이동.jpg\n",
      "이미지 이동 완료: /home/elicer/FIshing_vessel-1/resized_imgdata/13. 안강망 조업.jpg -> /home/elicer/FIshing_vessel-1/categorized_imgdata/조업/13. 안강망 조업.jpg\n",
      "이미지 이동 완료: /home/elicer/FIshing_vessel-1/resized_imgdata/13. 안강망 표류.jpg -> /home/elicer/FIshing_vessel-1/categorized_imgdata/표류/13. 안강망 표류.jpg\n",
      "이미지 이동 완료: /home/elicer/FIshing_vessel-1/resized_imgdata/13. 연승 이동.jpg -> /home/elicer/FIshing_vessel-1/categorized_imgdata/이동/13. 연승 이동.jpg\n",
      "이미지 이동 완료: /home/elicer/FIshing_vessel-1/resized_imgdata/13. 연승 표류.jpg -> /home/elicer/FIshing_vessel-1/categorized_imgdata/표류/13. 연승 표류.jpg\n",
      "이미지 이동 완료: /home/elicer/FIshing_vessel-1/resized_imgdata/13. 유망 이동.jpg -> /home/elicer/FIshing_vessel-1/categorized_imgdata/이동/13. 유망 이동.jpg\n",
      "이미지 이동 완료: /home/elicer/FIshing_vessel-1/resized_imgdata/13. 유망 표류.jpg -> /home/elicer/FIshing_vessel-1/categorized_imgdata/표류/13. 유망 표류.jpg\n",
      "이미지 이동 완료: /home/elicer/FIshing_vessel-1/resized_imgdata/13. 유망 조업.jpg -> /home/elicer/FIshing_vessel-1/categorized_imgdata/조업/13. 유망 조업.jpg\n",
      "이미지 이동 완료: /home/elicer/FIshing_vessel-1/resized_imgdata/13. 저인망 이동.jpg -> /home/elicer/FIshing_vessel-1/categorized_imgdata/이동/13. 저인망 이동.jpg\n",
      "이미지 이동 완료: /home/elicer/FIshing_vessel-1/resized_imgdata/13. 저인망 조업.jpg -> /home/elicer/FIshing_vessel-1/categorized_imgdata/조업/13. 저인망 조업.jpg\n",
      "이미지 이동 완료: /home/elicer/FIshing_vessel-1/resized_imgdata/13. 채낚기 표류.jpg -> /home/elicer/FIshing_vessel-1/categorized_imgdata/표류/13. 채낚기 표류.jpg\n",
      "이미지 이동 완료: /home/elicer/FIshing_vessel-1/resized_imgdata/13. 채낚기 이동.jpg -> /home/elicer/FIshing_vessel-1/categorized_imgdata/이동/13. 채낚기 이동.jpg\n",
      "이미지 이동 완료: /home/elicer/FIshing_vessel-1/resized_imgdata/13. 타망 이동.jpg -> /home/elicer/FIshing_vessel-1/categorized_imgdata/이동/13. 타망 이동.jpg\n",
      "이미지 이동 완료: /home/elicer/FIshing_vessel-1/resized_imgdata/13. 타망 조업.jpg -> /home/elicer/FIshing_vessel-1/categorized_imgdata/조업/13. 타망 조업.jpg\n",
      "이미지 이동 완료: /home/elicer/FIshing_vessel-1/resized_imgdata/130 타망 이동.png -> /home/elicer/FIshing_vessel-1/categorized_imgdata/이동/130 타망 이동.png\n",
      "이미지 이동 완료: /home/elicer/FIshing_vessel-1/resized_imgdata/13. 타망 표류.jpg -> /home/elicer/FIshing_vessel-1/categorized_imgdata/표류/13. 타망 표류.jpg\n",
      "이미지 이동 완료: /home/elicer/FIshing_vessel-1/resized_imgdata/13. 통발 이동.jpg -> /home/elicer/FIshing_vessel-1/categorized_imgdata/이동/13. 통발 이동.jpg\n",
      "이미지 이동 완료: /home/elicer/FIshing_vessel-1/resized_imgdata/130. 범장망 표류.jpg -> /home/elicer/FIshing_vessel-1/categorized_imgdata/표류/130. 범장망 표류.jpg\n",
      "이미지 이동 완료: /home/elicer/FIshing_vessel-1/resized_imgdata/131. 범장망 표류.jpg -> /home/elicer/FIshing_vessel-1/categorized_imgdata/표류/131. 범장망 표류.jpg\n",
      "이미지 이동 완료: /home/elicer/FIshing_vessel-1/resized_imgdata/130. 타망 조업.jpg -> /home/elicer/FIshing_vessel-1/categorized_imgdata/조업/130. 타망 조업.jpg\n",
      "이미지 이동 완료: /home/elicer/FIshing_vessel-1/resized_imgdata/131. 타망 이동.jpg -> /home/elicer/FIshing_vessel-1/categorized_imgdata/이동/131. 타망 이동.jpg\n",
      "이미지 이동 완료: /home/elicer/FIshing_vessel-1/resized_imgdata/131. 타망 조업.jpg -> /home/elicer/FIshing_vessel-1/categorized_imgdata/조업/131. 타망 조업.jpg\n",
      "이미지 이동 완료: /home/elicer/FIshing_vessel-1/resized_imgdata/132. 범장망 표류.jpg -> /home/elicer/FIshing_vessel-1/categorized_imgdata/표류/132. 범장망 표류.jpg\n",
      "이미지 이동 완료: /home/elicer/FIshing_vessel-1/resized_imgdata/132. 타망 이동.jpg -> /home/elicer/FIshing_vessel-1/categorized_imgdata/이동/132. 타망 이동.jpg\n",
      "이미지 이동 완료: /home/elicer/FIshing_vessel-1/resized_imgdata/132. 타망 조업.jpg -> /home/elicer/FIshing_vessel-1/categorized_imgdata/조업/132. 타망 조업.jpg\n",
      "이미지 이동 완료: /home/elicer/FIshing_vessel-1/resized_imgdata/133. 범장망 표류.jpg -> /home/elicer/FIshing_vessel-1/categorized_imgdata/표류/133. 범장망 표류.jpg\n",
      "이미지 이동 완료: /home/elicer/FIshing_vessel-1/resized_imgdata/133. 타망 조업.jpg -> /home/elicer/FIshing_vessel-1/categorized_imgdata/조업/133. 타망 조업.jpg\n",
      "이미지 이동 완료: /home/elicer/FIshing_vessel-1/resized_imgdata/133. 타망 이동.jpg -> /home/elicer/FIshing_vessel-1/categorized_imgdata/이동/133. 타망 이동.jpg\n",
      "이미지 이동 완료: /home/elicer/FIshing_vessel-1/resized_imgdata/134. 범장망 표류.jpg -> /home/elicer/FIshing_vessel-1/categorized_imgdata/표류/134. 범장망 표류.jpg\n",
      "이미지 이동 완료: /home/elicer/FIshing_vessel-1/resized_imgdata/134. 타망 이동.jpg -> /home/elicer/FIshing_vessel-1/categorized_imgdata/이동/134. 타망 이동.jpg\n",
      "이미지 이동 완료: /home/elicer/FIshing_vessel-1/resized_imgdata/135. 범장망 표류.jpg -> /home/elicer/FIshing_vessel-1/categorized_imgdata/표류/135. 범장망 표류.jpg\n",
      "이미지 이동 완료: /home/elicer/FIshing_vessel-1/resized_imgdata/135. 타망 이동.jpg -> /home/elicer/FIshing_vessel-1/categorized_imgdata/이동/135. 타망 이동.jpg\n",
      "이미지 이동 완료: /home/elicer/FIshing_vessel-1/resized_imgdata/136. 범장망 표류.jpg -> /home/elicer/FIshing_vessel-1/categorized_imgdata/표류/136. 범장망 표류.jpg\n",
      "이미지 이동 완료: /home/elicer/FIshing_vessel-1/resized_imgdata/137. 타망 이동.jpg -> /home/elicer/FIshing_vessel-1/categorized_imgdata/이동/137. 타망 이동.jpg\n",
      "이미지 이동 완료: /home/elicer/FIshing_vessel-1/resized_imgdata/137. 범장망 표류.jpg -> /home/elicer/FIshing_vessel-1/categorized_imgdata/표류/137. 범장망 표류.jpg\n",
      "이미지 이동 완료: /home/elicer/FIshing_vessel-1/resized_imgdata/136. 타망 이동.jpg -> /home/elicer/FIshing_vessel-1/categorized_imgdata/이동/136. 타망 이동.jpg\n",
      "이미지 이동 완료: /home/elicer/FIshing_vessel-1/resized_imgdata/138. 범장망 표류.jpg -> /home/elicer/FIshing_vessel-1/categorized_imgdata/표류/138. 범장망 표류.jpg\n",
      "이미지 이동 완료: /home/elicer/FIshing_vessel-1/resized_imgdata/138. 타망 이동.jpg -> /home/elicer/FIshing_vessel-1/categorized_imgdata/이동/138. 타망 이동.jpg\n",
      "이미지 이동 완료: /home/elicer/FIshing_vessel-1/resized_imgdata/139. 범장망 표류.jpg -> /home/elicer/FIshing_vessel-1/categorized_imgdata/표류/139. 범장망 표류.jpg\n",
      "이미지 이동 완료: /home/elicer/FIshing_vessel-1/resized_imgdata/139. 타망 이동.jpg -> /home/elicer/FIshing_vessel-1/categorized_imgdata/이동/139. 타망 이동.jpg\n",
      "이미지 이동 완료: /home/elicer/FIshing_vessel-1/resized_imgdata/14. 낚시어선 이동.jpg -> /home/elicer/FIshing_vessel-1/categorized_imgdata/이동/14. 낚시어선 이동.jpg\n",
      "이미지 이동 완료: /home/elicer/FIshing_vessel-1/resized_imgdata/14. 낚시어선 조업.jpg -> /home/elicer/FIshing_vessel-1/categorized_imgdata/조업/14. 낚시어선 조업.jpg\n",
      "이미지 이동 완료: /home/elicer/FIshing_vessel-1/resized_imgdata/14. 등광조망 이동.jpg -> /home/elicer/FIshing_vessel-1/categorized_imgdata/이동/14. 등광조망 이동.jpg\n",
      "이미지 이동 완료: /home/elicer/FIshing_vessel-1/resized_imgdata/14. 등광조망 표류.jpg -> /home/elicer/FIshing_vessel-1/categorized_imgdata/표류/14. 등광조망 표류.jpg\n",
      "이미지 이동 완료: /home/elicer/FIshing_vessel-1/resized_imgdata/14. 등광조망 조업.jpg -> /home/elicer/FIshing_vessel-1/categorized_imgdata/조업/14. 등광조망 조업.jpg\n",
      "이미지 이동 완료: /home/elicer/FIshing_vessel-1/resized_imgdata/14. 범장망 이동.jpg -> /home/elicer/FIshing_vessel-1/categorized_imgdata/이동/14. 범장망 이동.jpg\n",
      "이미지 이동 완료: /home/elicer/FIshing_vessel-1/resized_imgdata/14. 범장망 조업.jpg -> /home/elicer/FIshing_vessel-1/categorized_imgdata/조업/14. 범장망 조업.jpg\n",
      "이미지 이동 완료: /home/elicer/FIshing_vessel-1/resized_imgdata/14. 범장망 표류.jpg -> /home/elicer/FIshing_vessel-1/categorized_imgdata/표류/14. 범장망 표류.jpg\n",
      "이미지 이동 완료: /home/elicer/FIshing_vessel-1/resized_imgdata/14. 안강망 이동.jpg -> /home/elicer/FIshing_vessel-1/categorized_imgdata/이동/14. 안강망 이동.jpg\n",
      "이미지 이동 완료: /home/elicer/FIshing_vessel-1/resized_imgdata/14. 안강망 조업.jpg -> /home/elicer/FIshing_vessel-1/categorized_imgdata/조업/14. 안강망 조업.jpg\n",
      "이미지 이동 완료: /home/elicer/FIshing_vessel-1/resized_imgdata/14. 안강망 표류.jpg -> /home/elicer/FIshing_vessel-1/categorized_imgdata/표류/14. 안강망 표류.jpg\n",
      "이미지 이동 완료: /home/elicer/FIshing_vessel-1/resized_imgdata/14. 연승 이동.jpg -> /home/elicer/FIshing_vessel-1/categorized_imgdata/이동/14. 연승 이동.jpg\n",
      "이미지 이동 완료: /home/elicer/FIshing_vessel-1/resized_imgdata/14. 유망 이동.jpg -> /home/elicer/FIshing_vessel-1/categorized_imgdata/이동/14. 유망 이동.jpg\n",
      "이미지 이동 완료: /home/elicer/FIshing_vessel-1/resized_imgdata/14. 유망 표류.jpg -> /home/elicer/FIshing_vessel-1/categorized_imgdata/표류/14. 유망 표류.jpg\n",
      "이미지 이동 완료: /home/elicer/FIshing_vessel-1/resized_imgdata/14. 연승 표류.png -> /home/elicer/FIshing_vessel-1/categorized_imgdata/표류/14. 연승 표류.png\n",
      "이미지 이동 완료: /home/elicer/FIshing_vessel-1/resized_imgdata/14. 저인망 이동.jpg -> /home/elicer/FIshing_vessel-1/categorized_imgdata/이동/14. 저인망 이동.jpg\n",
      "이미지 이동 완료: /home/elicer/FIshing_vessel-1/resized_imgdata/14. 저인망 조업.jpg -> /home/elicer/FIshing_vessel-1/categorized_imgdata/조업/14. 저인망 조업.jpg\n",
      "이미지 이동 완료: /home/elicer/FIshing_vessel-1/resized_imgdata/14. 채낚기 이동.jpg -> /home/elicer/FIshing_vessel-1/categorized_imgdata/이동/14. 채낚기 이동.jpg\n",
      "이미지 이동 완료: /home/elicer/FIshing_vessel-1/resized_imgdata/14. 채낚기 표류.jpg -> /home/elicer/FIshing_vessel-1/categorized_imgdata/표류/14. 채낚기 표류.jpg\n",
      "이미지 이동 완료: /home/elicer/FIshing_vessel-1/resized_imgdata/14. 타망 이동.jpg -> /home/elicer/FIshing_vessel-1/categorized_imgdata/이동/14. 타망 이동.jpg\n",
      "이미지 이동 완료: /home/elicer/FIshing_vessel-1/resized_imgdata/14. 타망 조업.jpg -> /home/elicer/FIshing_vessel-1/categorized_imgdata/조업/14. 타망 조업.jpg\n",
      "이미지 이동 완료: /home/elicer/FIshing_vessel-1/resized_imgdata/14. 타망 표류.jpg -> /home/elicer/FIshing_vessel-1/categorized_imgdata/표류/14. 타망 표류.jpg\n",
      "이미지 이동 완료: /home/elicer/FIshing_vessel-1/resized_imgdata/14. 통발 이동.jpg -> /home/elicer/FIshing_vessel-1/categorized_imgdata/이동/14. 통발 이동.jpg\n",
      "이미지 이동 완료: /home/elicer/FIshing_vessel-1/resized_imgdata/140. 범장망 표류.jpg -> /home/elicer/FIshing_vessel-1/categorized_imgdata/표류/140. 범장망 표류.jpg\n",
      "이미지 이동 완료: /home/elicer/FIshing_vessel-1/resized_imgdata/141. 범장망 표류.jpg -> /home/elicer/FIshing_vessel-1/categorized_imgdata/표류/141. 범장망 표류.jpg\n",
      "이미지 이동 완료: /home/elicer/FIshing_vessel-1/resized_imgdata/140. 타망 이동.jpg -> /home/elicer/FIshing_vessel-1/categorized_imgdata/이동/140. 타망 이동.jpg\n",
      "이미지 이동 완료: /home/elicer/FIshing_vessel-1/resized_imgdata/141. 타망 이동.jpg -> /home/elicer/FIshing_vessel-1/categorized_imgdata/이동/141. 타망 이동.jpg\n",
      "이미지 이동 완료: /home/elicer/FIshing_vessel-1/resized_imgdata/142. 범장망 표류.jpg -> /home/elicer/FIshing_vessel-1/categorized_imgdata/표류/142. 범장망 표류.jpg\n",
      "이미지 이동 완료: /home/elicer/FIshing_vessel-1/resized_imgdata/142. 타망 이동.jpg -> /home/elicer/FIshing_vessel-1/categorized_imgdata/이동/142. 타망 이동.jpg\n",
      "이미지 이동 완료: /home/elicer/FIshing_vessel-1/resized_imgdata/143. 범장망 표류.jpg -> /home/elicer/FIshing_vessel-1/categorized_imgdata/표류/143. 범장망 표류.jpg\n",
      "이미지 이동 완료: /home/elicer/FIshing_vessel-1/resized_imgdata/143. 타망 이동.jpg -> /home/elicer/FIshing_vessel-1/categorized_imgdata/이동/143. 타망 이동.jpg\n",
      "이미지 이동 완료: /home/elicer/FIshing_vessel-1/resized_imgdata/144. 범장망 표류.jpg -> /home/elicer/FIshing_vessel-1/categorized_imgdata/표류/144. 범장망 표류.jpg\n",
      "이미지 이동 완료: /home/elicer/FIshing_vessel-1/resized_imgdata/144. 타망 이동.jpg -> /home/elicer/FIshing_vessel-1/categorized_imgdata/이동/144. 타망 이동.jpg\n",
      "이미지 이동 완료: /home/elicer/FIshing_vessel-1/resized_imgdata/145. 범장망 표류.jpg -> /home/elicer/FIshing_vessel-1/categorized_imgdata/표류/145. 범장망 표류.jpg\n",
      "이미지 이동 완료: /home/elicer/FIshing_vessel-1/resized_imgdata/145. 타망 이동.jpg -> /home/elicer/FIshing_vessel-1/categorized_imgdata/이동/145. 타망 이동.jpg\n",
      "이미지 이동 완료: /home/elicer/FIshing_vessel-1/resized_imgdata/146. 범장망 표류.jpg -> /home/elicer/FIshing_vessel-1/categorized_imgdata/표류/146. 범장망 표류.jpg\n",
      "이미지 이동 완료: /home/elicer/FIshing_vessel-1/resized_imgdata/146. 타망 이동.jpg -> /home/elicer/FIshing_vessel-1/categorized_imgdata/이동/146. 타망 이동.jpg\n",
      "이미지 이동 완료: /home/elicer/FIshing_vessel-1/resized_imgdata/147. 범장망 표류.jpg -> /home/elicer/FIshing_vessel-1/categorized_imgdata/표류/147. 범장망 표류.jpg\n",
      "이미지 이동 완료: /home/elicer/FIshing_vessel-1/resized_imgdata/147. 타망 이동.jpg -> /home/elicer/FIshing_vessel-1/categorized_imgdata/이동/147. 타망 이동.jpg\n",
      "이미지 이동 완료: /home/elicer/FIshing_vessel-1/resized_imgdata/148. 범장망 표류.jpg -> /home/elicer/FIshing_vessel-1/categorized_imgdata/표류/148. 범장망 표류.jpg\n",
      "이미지 이동 완료: /home/elicer/FIshing_vessel-1/resized_imgdata/148. 타망 이동.jpg -> /home/elicer/FIshing_vessel-1/categorized_imgdata/이동/148. 타망 이동.jpg\n",
      "이미지 이동 완료: /home/elicer/FIshing_vessel-1/resized_imgdata/149. 범장망 표류.jpg -> /home/elicer/FIshing_vessel-1/categorized_imgdata/표류/149. 범장망 표류.jpg\n",
      "이미지 이동 완료: /home/elicer/FIshing_vessel-1/resized_imgdata/15. 낚시어선 이동.jpg -> /home/elicer/FIshing_vessel-1/categorized_imgdata/이동/15. 낚시어선 이동.jpg\n",
      "이미지 이동 완료: /home/elicer/FIshing_vessel-1/resized_imgdata/15. 낚시어선 조업.jpg -> /home/elicer/FIshing_vessel-1/categorized_imgdata/조업/15. 낚시어선 조업.jpg\n",
      "이미지 이동 완료: /home/elicer/FIshing_vessel-1/resized_imgdata/15. 등광조망 이동.jpg -> /home/elicer/FIshing_vessel-1/categorized_imgdata/이동/15. 등광조망 이동.jpg\n",
      "이미지 이동 완료: /home/elicer/FIshing_vessel-1/resized_imgdata/149. 타망 이동.jpg -> /home/elicer/FIshing_vessel-1/categorized_imgdata/이동/149. 타망 이동.jpg\n",
      "이미지 이동 완료: /home/elicer/FIshing_vessel-1/resized_imgdata/15. 등광조망 표류.jpg -> /home/elicer/FIshing_vessel-1/categorized_imgdata/표류/15. 등광조망 표류.jpg\n",
      "이미지 이동 완료: /home/elicer/FIshing_vessel-1/resized_imgdata/15. 등광조망 조업.png -> /home/elicer/FIshing_vessel-1/categorized_imgdata/조업/15. 등광조망 조업.png\n",
      "이미지 이동 완료: /home/elicer/FIshing_vessel-1/resized_imgdata/15. 범장망 이동.jpg -> /home/elicer/FIshing_vessel-1/categorized_imgdata/이동/15. 범장망 이동.jpg\n",
      "이미지 이동 완료: /home/elicer/FIshing_vessel-1/resized_imgdata/15. 범장망 조업.jpg -> /home/elicer/FIshing_vessel-1/categorized_imgdata/조업/15. 범장망 조업.jpg\n",
      "이미지 이동 완료: /home/elicer/FIshing_vessel-1/resized_imgdata/15. 범장망 표류.jpg -> /home/elicer/FIshing_vessel-1/categorized_imgdata/표류/15. 범장망 표류.jpg\n",
      "이미지 이동 완료: /home/elicer/FIshing_vessel-1/resized_imgdata/15. 안강망 이동.jpg -> /home/elicer/FIshing_vessel-1/categorized_imgdata/이동/15. 안강망 이동.jpg\n",
      "이미지 이동 완료: /home/elicer/FIshing_vessel-1/resized_imgdata/15. 안강망 조업.jpg -> /home/elicer/FIshing_vessel-1/categorized_imgdata/조업/15. 안강망 조업.jpg\n",
      "이미지 이동 완료: /home/elicer/FIshing_vessel-1/resized_imgdata/15. 안강망 표류.jpg -> /home/elicer/FIshing_vessel-1/categorized_imgdata/표류/15. 안강망 표류.jpg\n",
      "이미지 이동 완료: /home/elicer/FIshing_vessel-1/resized_imgdata/15. 연승 이동.jpg -> /home/elicer/FIshing_vessel-1/categorized_imgdata/이동/15. 연승 이동.jpg\n",
      "이미지 이동 완료: /home/elicer/FIshing_vessel-1/resized_imgdata/15. 연승 표류.jpg -> /home/elicer/FIshing_vessel-1/categorized_imgdata/표류/15. 연승 표류.jpg\n",
      "이미지 이동 완료: /home/elicer/FIshing_vessel-1/resized_imgdata/15. 유망 이동.jpg -> /home/elicer/FIshing_vessel-1/categorized_imgdata/이동/15. 유망 이동.jpg\n",
      "이미지 이동 완료: /home/elicer/FIshing_vessel-1/resized_imgdata/15. 유망 조업.jpg -> /home/elicer/FIshing_vessel-1/categorized_imgdata/조업/15. 유망 조업.jpg\n",
      "이미지 이동 완료: /home/elicer/FIshing_vessel-1/resized_imgdata/15. 유망 표류.jpg -> /home/elicer/FIshing_vessel-1/categorized_imgdata/표류/15. 유망 표류.jpg\n",
      "이미지 이동 완료: /home/elicer/FIshing_vessel-1/resized_imgdata/15. 저인망 조업.jpg -> /home/elicer/FIshing_vessel-1/categorized_imgdata/조업/15. 저인망 조업.jpg\n",
      "이미지 이동 완료: /home/elicer/FIshing_vessel-1/resized_imgdata/15. 채낚기 이동.jpg -> /home/elicer/FIshing_vessel-1/categorized_imgdata/이동/15. 채낚기 이동.jpg\n",
      "이미지 이동 완료: /home/elicer/FIshing_vessel-1/resized_imgdata/15. 채낚기 표류.jpg -> /home/elicer/FIshing_vessel-1/categorized_imgdata/표류/15. 채낚기 표류.jpg\n",
      "이미지 이동 완료: /home/elicer/FIshing_vessel-1/resized_imgdata/15. 타망 이동.jpg -> /home/elicer/FIshing_vessel-1/categorized_imgdata/이동/15. 타망 이동.jpg\n",
      "이미지 이동 완료: /home/elicer/FIshing_vessel-1/resized_imgdata/150. 타망 이동.jpg -> /home/elicer/FIshing_vessel-1/categorized_imgdata/이동/150. 타망 이동.jpg\n",
      "이미지 이동 완료: /home/elicer/FIshing_vessel-1/resized_imgdata/150. 범장망 표류.jpg -> /home/elicer/FIshing_vessel-1/categorized_imgdata/표류/150. 범장망 표류.jpg\n",
      "이미지 이동 완료: /home/elicer/FIshing_vessel-1/resized_imgdata/15. 타망 표류.jpg -> /home/elicer/FIshing_vessel-1/categorized_imgdata/표류/15. 타망 표류.jpg\n",
      "이미지 이동 완료: /home/elicer/FIshing_vessel-1/resized_imgdata/15. 타망 조업.jpg -> /home/elicer/FIshing_vessel-1/categorized_imgdata/조업/15. 타망 조업.jpg\n",
      "이미지 이동 완료: /home/elicer/FIshing_vessel-1/resized_imgdata/151. 범장망 표류.jpg -> /home/elicer/FIshing_vessel-1/categorized_imgdata/표류/151. 범장망 표류.jpg\n",
      "이미지 이동 완료: /home/elicer/FIshing_vessel-1/resized_imgdata/151. 타망 이동.jpg -> /home/elicer/FIshing_vessel-1/categorized_imgdata/이동/151. 타망 이동.jpg\n",
      "이미지 이동 완료: /home/elicer/FIshing_vessel-1/resized_imgdata/152. 범장망 표류.jpg -> /home/elicer/FIshing_vessel-1/categorized_imgdata/표류/152. 범장망 표류.jpg\n",
      "이미지 이동 완료: /home/elicer/FIshing_vessel-1/resized_imgdata/152. 타망 이동.jpg -> /home/elicer/FIshing_vessel-1/categorized_imgdata/이동/152. 타망 이동.jpg\n",
      "이미지 이동 완료: /home/elicer/FIshing_vessel-1/resized_imgdata/153. 범장망 표류.jpg -> /home/elicer/FIshing_vessel-1/categorized_imgdata/표류/153. 범장망 표류.jpg\n",
      "이미지 이동 완료: /home/elicer/FIshing_vessel-1/resized_imgdata/154. 범장망 표류.jpg -> /home/elicer/FIshing_vessel-1/categorized_imgdata/표류/154. 범장망 표류.jpg\n",
      "이미지 이동 완료: /home/elicer/FIshing_vessel-1/resized_imgdata/153. 타망 이동.jpg -> /home/elicer/FIshing_vessel-1/categorized_imgdata/이동/153. 타망 이동.jpg\n",
      "이미지 이동 완료: /home/elicer/FIshing_vessel-1/resized_imgdata/154. 타망 이동.jpg -> /home/elicer/FIshing_vessel-1/categorized_imgdata/이동/154. 타망 이동.jpg\n",
      "이미지 이동 완료: /home/elicer/FIshing_vessel-1/resized_imgdata/155. 타망 이동.jpg -> /home/elicer/FIshing_vessel-1/categorized_imgdata/이동/155. 타망 이동.jpg\n",
      "이미지 이동 완료: /home/elicer/FIshing_vessel-1/resized_imgdata/155. 범장망 표류.jpg -> /home/elicer/FIshing_vessel-1/categorized_imgdata/표류/155. 범장망 표류.jpg\n",
      "이미지 이동 완료: /home/elicer/FIshing_vessel-1/resized_imgdata/156. 범장망 표류.jpg -> /home/elicer/FIshing_vessel-1/categorized_imgdata/표류/156. 범장망 표류.jpg\n",
      "이미지 이동 완료: /home/elicer/FIshing_vessel-1/resized_imgdata/156. 타망 이동.jpg -> /home/elicer/FIshing_vessel-1/categorized_imgdata/이동/156. 타망 이동.jpg\n",
      "이미지 이동 완료: /home/elicer/FIshing_vessel-1/resized_imgdata/157. 범장망 표류.jpg -> /home/elicer/FIshing_vessel-1/categorized_imgdata/표류/157. 범장망 표류.jpg\n",
      "이미지 이동 완료: /home/elicer/FIshing_vessel-1/resized_imgdata/157. 타망 이동.jpg -> /home/elicer/FIshing_vessel-1/categorized_imgdata/이동/157. 타망 이동.jpg\n",
      "이미지 이동 완료: /home/elicer/FIshing_vessel-1/resized_imgdata/158. 범장망 표류.jpg -> /home/elicer/FIshing_vessel-1/categorized_imgdata/표류/158. 범장망 표류.jpg\n",
      "이미지 이동 완료: /home/elicer/FIshing_vessel-1/resized_imgdata/158. 타망 이동.jpg -> /home/elicer/FIshing_vessel-1/categorized_imgdata/이동/158. 타망 이동.jpg\n",
      "이미지 이동 완료: /home/elicer/FIshing_vessel-1/resized_imgdata/159. 범장망 표류.jpg -> /home/elicer/FIshing_vessel-1/categorized_imgdata/표류/159. 범장망 표류.jpg\n",
      "이미지 이동 완료: /home/elicer/FIshing_vessel-1/resized_imgdata/16. 낚시어선 조업.jpg -> /home/elicer/FIshing_vessel-1/categorized_imgdata/조업/16. 낚시어선 조업.jpg\n",
      "이미지 이동 완료: /home/elicer/FIshing_vessel-1/resized_imgdata/16. 낚시어선 이동.jpg -> /home/elicer/FIshing_vessel-1/categorized_imgdata/이동/16. 낚시어선 이동.jpg\n",
      "이미지 이동 완료: /home/elicer/FIshing_vessel-1/resized_imgdata/159. 타망 이동.jpg -> /home/elicer/FIshing_vessel-1/categorized_imgdata/이동/159. 타망 이동.jpg\n",
      "이미지 이동 완료: /home/elicer/FIshing_vessel-1/resized_imgdata/16. 등광조망 이동.jpg -> /home/elicer/FIshing_vessel-1/categorized_imgdata/이동/16. 등광조망 이동.jpg\n",
      "이미지 이동 완료: /home/elicer/FIshing_vessel-1/resized_imgdata/16. 등광조망 조업.jpg -> /home/elicer/FIshing_vessel-1/categorized_imgdata/조업/16. 등광조망 조업.jpg\n",
      "이미지 이동 완료: /home/elicer/FIshing_vessel-1/resized_imgdata/16. 등광조망 표류.jpg -> /home/elicer/FIshing_vessel-1/categorized_imgdata/표류/16. 등광조망 표류.jpg\n",
      "이미지 이동 완료: /home/elicer/FIshing_vessel-1/resized_imgdata/16. 범장망 이동.jpg -> /home/elicer/FIshing_vessel-1/categorized_imgdata/이동/16. 범장망 이동.jpg\n",
      "이미지 이동 완료: /home/elicer/FIshing_vessel-1/resized_imgdata/16. 범장망 조업.jpg -> /home/elicer/FIshing_vessel-1/categorized_imgdata/조업/16. 범장망 조업.jpg\n",
      "이미지 이동 완료: /home/elicer/FIshing_vessel-1/resized_imgdata/16. 범장망 표류.jpg -> /home/elicer/FIshing_vessel-1/categorized_imgdata/표류/16. 범장망 표류.jpg\n",
      "이미지 이동 완료: /home/elicer/FIshing_vessel-1/resized_imgdata/16. 안강망 이동.jpg -> /home/elicer/FIshing_vessel-1/categorized_imgdata/이동/16. 안강망 이동.jpg\n",
      "이미지 이동 완료: /home/elicer/FIshing_vessel-1/resized_imgdata/16. 안강망 조업.jpg -> /home/elicer/FIshing_vessel-1/categorized_imgdata/조업/16. 안강망 조업.jpg\n",
      "이미지 이동 완료: /home/elicer/FIshing_vessel-1/resized_imgdata/16. 연승 이동.jpg -> /home/elicer/FIshing_vessel-1/categorized_imgdata/이동/16. 연승 이동.jpg\n",
      "이미지 이동 완료: /home/elicer/FIshing_vessel-1/resized_imgdata/4. 통발 표류.jpg -> /home/elicer/FIshing_vessel-1/categorized_imgdata/표류/4. 통발 표류.jpg\n",
      "이미지 이동 완료: /home/elicer/FIshing_vessel-1/resized_imgdata/16. 안강망 표류.jpg -> /home/elicer/FIshing_vessel-1/categorized_imgdata/표류/16. 안강망 표류.jpg\n",
      "이미지 이동 완료: /home/elicer/FIshing_vessel-1/resized_imgdata/16. 유망 조업.jpg -> /home/elicer/FIshing_vessel-1/categorized_imgdata/조업/16. 유망 조업.jpg\n",
      "이미지 이동 완료: /home/elicer/FIshing_vessel-1/resized_imgdata/16. 연승 표류.jpg -> /home/elicer/FIshing_vessel-1/categorized_imgdata/표류/16. 연승 표류.jpg\n",
      "이미지 이동 완료: /home/elicer/FIshing_vessel-1/resized_imgdata/16. 유망 표류.jpg -> /home/elicer/FIshing_vessel-1/categorized_imgdata/표류/16. 유망 표류.jpg\n",
      "이미지 이동 완료: /home/elicer/FIshing_vessel-1/resized_imgdata/16. 저인망 이동.jpg -> /home/elicer/FIshing_vessel-1/categorized_imgdata/이동/16. 저인망 이동.jpg\n",
      "이미지 이동 완료: /home/elicer/FIshing_vessel-1/resized_imgdata/16. 저인망 조업.jpg -> /home/elicer/FIshing_vessel-1/categorized_imgdata/조업/16. 저인망 조업.jpg\n",
      "이미지 이동 완료: /home/elicer/FIshing_vessel-1/resized_imgdata/16. 채낚기 이동.jpg -> /home/elicer/FIshing_vessel-1/categorized_imgdata/이동/16. 채낚기 이동.jpg\n",
      "이미지 이동 완료: /home/elicer/FIshing_vessel-1/resized_imgdata/16. 채낚기 표류.jpg -> /home/elicer/FIshing_vessel-1/categorized_imgdata/표류/16. 채낚기 표류.jpg\n",
      "이미지 이동 완료: /home/elicer/FIshing_vessel-1/resized_imgdata/16. 타망 이동.jpg -> /home/elicer/FIshing_vessel-1/categorized_imgdata/이동/16. 타망 이동.jpg\n",
      "이미지 이동 완료: /home/elicer/FIshing_vessel-1/resized_imgdata/16. 타망 조업.jpg -> /home/elicer/FIshing_vessel-1/categorized_imgdata/조업/16. 타망 조업.jpg\n",
      "이미지 이동 완료: /home/elicer/FIshing_vessel-1/resized_imgdata/16. 타망 표류.jpg -> /home/elicer/FIshing_vessel-1/categorized_imgdata/표류/16. 타망 표류.jpg\n",
      "이미지 이동 완료: /home/elicer/FIshing_vessel-1/resized_imgdata/16. 통발 이동.jpg -> /home/elicer/FIshing_vessel-1/categorized_imgdata/이동/16. 통발 이동.jpg\n",
      "이미지 이동 완료: /home/elicer/FIshing_vessel-1/resized_imgdata/160. 범장망 표류.jpg -> /home/elicer/FIshing_vessel-1/categorized_imgdata/표류/160. 범장망 표류.jpg\n",
      "이미지 이동 완료: /home/elicer/FIshing_vessel-1/resized_imgdata/161. 범장망 표류.jpg -> /home/elicer/FIshing_vessel-1/categorized_imgdata/표류/161. 범장망 표류.jpg\n",
      "이미지 이동 완료: /home/elicer/FIshing_vessel-1/resized_imgdata/160. 타망 이동.jpg -> /home/elicer/FIshing_vessel-1/categorized_imgdata/이동/160. 타망 이동.jpg\n",
      "이미지 이동 완료: /home/elicer/FIshing_vessel-1/resized_imgdata/161. 타망 이동.jpg -> /home/elicer/FIshing_vessel-1/categorized_imgdata/이동/161. 타망 이동.jpg\n",
      "이미지 이동 완료: /home/elicer/FIshing_vessel-1/resized_imgdata/162. 범장망 표류.jpg -> /home/elicer/FIshing_vessel-1/categorized_imgdata/표류/162. 범장망 표류.jpg\n",
      "이미지 이동 완료: /home/elicer/FIshing_vessel-1/resized_imgdata/163. 범장망 표류.jpg -> /home/elicer/FIshing_vessel-1/categorized_imgdata/표류/163. 범장망 표류.jpg\n",
      "이미지 이동 완료: /home/elicer/FIshing_vessel-1/resized_imgdata/163. 타망 이동.jpg -> /home/elicer/FIshing_vessel-1/categorized_imgdata/이동/163. 타망 이동.jpg\n",
      "이미지 이동 완료: /home/elicer/FIshing_vessel-1/resized_imgdata/164. 범장망 표류.jpg -> /home/elicer/FIshing_vessel-1/categorized_imgdata/표류/164. 범장망 표류.jpg\n",
      "이미지 이동 완료: /home/elicer/FIshing_vessel-1/resized_imgdata/164. 타망 이동.jpg -> /home/elicer/FIshing_vessel-1/categorized_imgdata/이동/164. 타망 이동.jpg\n",
      "이미지 이동 완료: /home/elicer/FIshing_vessel-1/resized_imgdata/165. 범장망 표류.jpg -> /home/elicer/FIshing_vessel-1/categorized_imgdata/표류/165. 범장망 표류.jpg\n",
      "이미지 이동 완료: /home/elicer/FIshing_vessel-1/resized_imgdata/165. 타망 이동.jpg -> /home/elicer/FIshing_vessel-1/categorized_imgdata/이동/165. 타망 이동.jpg\n",
      "이미지 이동 완료: /home/elicer/FIshing_vessel-1/resized_imgdata/166. 범장망 표류.jpg -> /home/elicer/FIshing_vessel-1/categorized_imgdata/표류/166. 범장망 표류.jpg\n",
      "이미지 이동 완료: /home/elicer/FIshing_vessel-1/resized_imgdata/166. 타망 이동.jpg -> /home/elicer/FIshing_vessel-1/categorized_imgdata/이동/166. 타망 이동.jpg\n",
      "이미지 이동 완료: /home/elicer/FIshing_vessel-1/resized_imgdata/167. 범장망 표류.jpg -> /home/elicer/FIshing_vessel-1/categorized_imgdata/표류/167. 범장망 표류.jpg\n",
      "이미지 이동 완료: /home/elicer/FIshing_vessel-1/resized_imgdata/167. 타망 이동.jpg -> /home/elicer/FIshing_vessel-1/categorized_imgdata/이동/167. 타망 이동.jpg\n",
      "이미지 이동 완료: /home/elicer/FIshing_vessel-1/resized_imgdata/168. 범장망 표류.jpg -> /home/elicer/FIshing_vessel-1/categorized_imgdata/표류/168. 범장망 표류.jpg\n",
      "이미지 이동 완료: /home/elicer/FIshing_vessel-1/resized_imgdata/168. 타망 이동.jpg -> /home/elicer/FIshing_vessel-1/categorized_imgdata/이동/168. 타망 이동.jpg\n",
      "이미지 이동 완료: /home/elicer/FIshing_vessel-1/resized_imgdata/169. 범장망 표류.jpg -> /home/elicer/FIshing_vessel-1/categorized_imgdata/표류/169. 범장망 표류.jpg\n",
      "이미지 이동 완료: /home/elicer/FIshing_vessel-1/resized_imgdata/17. 낚시어선 이동.jpg -> /home/elicer/FIshing_vessel-1/categorized_imgdata/이동/17. 낚시어선 이동.jpg\n",
      "이미지 이동 완료: /home/elicer/FIshing_vessel-1/resized_imgdata/17. 낚시어선 조업.jpg -> /home/elicer/FIshing_vessel-1/categorized_imgdata/조업/17. 낚시어선 조업.jpg\n",
      "이미지 이동 완료: /home/elicer/FIshing_vessel-1/resized_imgdata/17. 등광조망 이동.jpg -> /home/elicer/FIshing_vessel-1/categorized_imgdata/이동/17. 등광조망 이동.jpg\n",
      "이미지 이동 완료: /home/elicer/FIshing_vessel-1/resized_imgdata/17. 등광조망 조업.jpg -> /home/elicer/FIshing_vessel-1/categorized_imgdata/조업/17. 등광조망 조업.jpg\n",
      "이미지 이동 완료: /home/elicer/FIshing_vessel-1/resized_imgdata/17. 등광조망 표류.jpg -> /home/elicer/FIshing_vessel-1/categorized_imgdata/표류/17. 등광조망 표류.jpg\n",
      "이미지 이동 완료: /home/elicer/FIshing_vessel-1/resized_imgdata/17. 범장망 이동.jpg -> /home/elicer/FIshing_vessel-1/categorized_imgdata/이동/17. 범장망 이동.jpg\n",
      "이미지 이동 완료: /home/elicer/FIshing_vessel-1/resized_imgdata/17. 범장망 조업.jpg -> /home/elicer/FIshing_vessel-1/categorized_imgdata/조업/17. 범장망 조업.jpg\n",
      "이미지 이동 완료: /home/elicer/FIshing_vessel-1/resized_imgdata/17. 범장망 표류.jpg -> /home/elicer/FIshing_vessel-1/categorized_imgdata/표류/17. 범장망 표류.jpg\n",
      "이미지 이동 완료: /home/elicer/FIshing_vessel-1/resized_imgdata/17. 안강망 이동.jpg -> /home/elicer/FIshing_vessel-1/categorized_imgdata/이동/17. 안강망 이동.jpg\n",
      "이미지 이동 완료: /home/elicer/FIshing_vessel-1/resized_imgdata/17. 연승 이동.jpg -> /home/elicer/FIshing_vessel-1/categorized_imgdata/이동/17. 연승 이동.jpg\n",
      "이미지 이동 완료: /home/elicer/FIshing_vessel-1/resized_imgdata/17. 유망 조업.jpg -> /home/elicer/FIshing_vessel-1/categorized_imgdata/조업/17. 유망 조업.jpg\n",
      "이미지 이동 완료: /home/elicer/FIshing_vessel-1/resized_imgdata/17. 유망 표류.jpg -> /home/elicer/FIshing_vessel-1/categorized_imgdata/표류/17. 유망 표류.jpg\n",
      "이미지 이동 완료: /home/elicer/FIshing_vessel-1/resized_imgdata/17. 유망 이동.jpg -> /home/elicer/FIshing_vessel-1/categorized_imgdata/이동/17. 유망 이동.jpg\n",
      "이미지 이동 완료: /home/elicer/FIshing_vessel-1/resized_imgdata/17. 연승 표류.jpg -> /home/elicer/FIshing_vessel-1/categorized_imgdata/표류/17. 연승 표류.jpg\n",
      "이미지 이동 완료: /home/elicer/FIshing_vessel-1/resized_imgdata/17. 저인망 이동.jpg -> /home/elicer/FIshing_vessel-1/categorized_imgdata/이동/17. 저인망 이동.jpg\n",
      "이미지 이동 완료: /home/elicer/FIshing_vessel-1/resized_imgdata/17. 채낚기 이동.jpg -> /home/elicer/FIshing_vessel-1/categorized_imgdata/이동/17. 채낚기 이동.jpg\n",
      "이미지 이동 완료: /home/elicer/FIshing_vessel-1/resized_imgdata/17. 타망 이동.jpg -> /home/elicer/FIshing_vessel-1/categorized_imgdata/이동/17. 타망 이동.jpg\n",
      "이미지 이동 완료: /home/elicer/FIshing_vessel-1/resized_imgdata/17. 채낚기 표류.jpg -> /home/elicer/FIshing_vessel-1/categorized_imgdata/표류/17. 채낚기 표류.jpg\n",
      "이미지 이동 완료: /home/elicer/FIshing_vessel-1/resized_imgdata/17. 타망 조업.jpg -> /home/elicer/FIshing_vessel-1/categorized_imgdata/조업/17. 타망 조업.jpg\n",
      "이미지 이동 완료: /home/elicer/FIshing_vessel-1/resized_imgdata/17. 타망 표류.jpg -> /home/elicer/FIshing_vessel-1/categorized_imgdata/표류/17. 타망 표류.jpg\n",
      "이미지 이동 완료: /home/elicer/FIshing_vessel-1/resized_imgdata/17. 통발 이동.jpg -> /home/elicer/FIshing_vessel-1/categorized_imgdata/이동/17. 통발 이동.jpg\n",
      "이미지 이동 완료: /home/elicer/FIshing_vessel-1/resized_imgdata/170. 범장망 표류.jpg -> /home/elicer/FIshing_vessel-1/categorized_imgdata/표류/170. 범장망 표류.jpg\n",
      "이미지 이동 완료: /home/elicer/FIshing_vessel-1/resized_imgdata/171. 범장망 표류.jpg -> /home/elicer/FIshing_vessel-1/categorized_imgdata/표류/171. 범장망 표류.jpg\n",
      "이미지 이동 완료: /home/elicer/FIshing_vessel-1/resized_imgdata/172. 범장망 표류.jpg -> /home/elicer/FIshing_vessel-1/categorized_imgdata/표류/172. 범장망 표류.jpg\n",
      "이미지 이동 완료: /home/elicer/FIshing_vessel-1/resized_imgdata/173. 범장망 표류.jpg -> /home/elicer/FIshing_vessel-1/categorized_imgdata/표류/173. 범장망 표류.jpg\n",
      "이미지 이동 완료: /home/elicer/FIshing_vessel-1/resized_imgdata/174. 범장망 표류.jpg -> /home/elicer/FIshing_vessel-1/categorized_imgdata/표류/174. 범장망 표류.jpg\n",
      "이미지 이동 완료: /home/elicer/FIshing_vessel-1/resized_imgdata/175. 범장망 표류.jpg -> /home/elicer/FIshing_vessel-1/categorized_imgdata/표류/175. 범장망 표류.jpg\n",
      "이미지 이동 완료: /home/elicer/FIshing_vessel-1/resized_imgdata/177. 범장망 표류.jpg -> /home/elicer/FIshing_vessel-1/categorized_imgdata/표류/177. 범장망 표류.jpg\n",
      "이미지 이동 완료: /home/elicer/FIshing_vessel-1/resized_imgdata/176. 범장망 표류.jpg -> /home/elicer/FIshing_vessel-1/categorized_imgdata/표류/176. 범장망 표류.jpg\n",
      "이미지 이동 완료: /home/elicer/FIshing_vessel-1/resized_imgdata/178. 범장망 표류.jpg -> /home/elicer/FIshing_vessel-1/categorized_imgdata/표류/178. 범장망 표류.jpg\n",
      "이미지 이동 완료: /home/elicer/FIshing_vessel-1/resized_imgdata/18. 낚시어선 이동.jpg -> /home/elicer/FIshing_vessel-1/categorized_imgdata/이동/18. 낚시어선 이동.jpg\n",
      "이미지 이동 완료: /home/elicer/FIshing_vessel-1/resized_imgdata/18. 낚시어선 조업.jpg -> /home/elicer/FIshing_vessel-1/categorized_imgdata/조업/18. 낚시어선 조업.jpg\n",
      "이미지 이동 완료: /home/elicer/FIshing_vessel-1/resized_imgdata/179. 범장망 표류.jpg -> /home/elicer/FIshing_vessel-1/categorized_imgdata/표류/179. 범장망 표류.jpg\n",
      "이미지 이동 완료: /home/elicer/FIshing_vessel-1/resized_imgdata/18. 등광조망 이동.jpg -> /home/elicer/FIshing_vessel-1/categorized_imgdata/이동/18. 등광조망 이동.jpg\n",
      "이미지 이동 완료: /home/elicer/FIshing_vessel-1/resized_imgdata/18. 등광조망 조업.jpg -> /home/elicer/FIshing_vessel-1/categorized_imgdata/조업/18. 등광조망 조업.jpg\n",
      "이미지 이동 완료: /home/elicer/FIshing_vessel-1/resized_imgdata/18. 등광조망 표류.jpg -> /home/elicer/FIshing_vessel-1/categorized_imgdata/표류/18. 등광조망 표류.jpg\n",
      "이미지 이동 완료: /home/elicer/FIshing_vessel-1/resized_imgdata/18. 범장망 이동.jpg -> /home/elicer/FIshing_vessel-1/categorized_imgdata/이동/18. 범장망 이동.jpg\n",
      "이미지 이동 완료: /home/elicer/FIshing_vessel-1/resized_imgdata/18. 범장망 조업.jpg -> /home/elicer/FIshing_vessel-1/categorized_imgdata/조업/18. 범장망 조업.jpg\n",
      "이미지 이동 완료: /home/elicer/FIshing_vessel-1/resized_imgdata/18. 범장망 표류.jpg -> /home/elicer/FIshing_vessel-1/categorized_imgdata/표류/18. 범장망 표류.jpg\n",
      "이미지 이동 완료: /home/elicer/FIshing_vessel-1/resized_imgdata/18. 연승 이동.jpg -> /home/elicer/FIshing_vessel-1/categorized_imgdata/이동/18. 연승 이동.jpg\n",
      "이미지 이동 완료: /home/elicer/FIshing_vessel-1/resized_imgdata/18. 안강망 이동.jpg -> /home/elicer/FIshing_vessel-1/categorized_imgdata/이동/18. 안강망 이동.jpg\n",
      "이미지 이동 완료: /home/elicer/FIshing_vessel-1/resized_imgdata/18. 연승 표류.jpg -> /home/elicer/FIshing_vessel-1/categorized_imgdata/표류/18. 연승 표류.jpg\n",
      "이미지 이동 완료: /home/elicer/FIshing_vessel-1/resized_imgdata/18. 유망 이동.jpg -> /home/elicer/FIshing_vessel-1/categorized_imgdata/이동/18. 유망 이동.jpg\n",
      "이미지 이동 완료: /home/elicer/FIshing_vessel-1/resized_imgdata/18. 유망 조업.jpg -> /home/elicer/FIshing_vessel-1/categorized_imgdata/조업/18. 유망 조업.jpg\n",
      "이미지 이동 완료: /home/elicer/FIshing_vessel-1/resized_imgdata/18. 유망 표류.jpg -> /home/elicer/FIshing_vessel-1/categorized_imgdata/표류/18. 유망 표류.jpg\n",
      "이미지 이동 완료: /home/elicer/FIshing_vessel-1/resized_imgdata/18. 저인망 이동.jpg -> /home/elicer/FIshing_vessel-1/categorized_imgdata/이동/18. 저인망 이동.jpg\n",
      "이미지 이동 완료: /home/elicer/FIshing_vessel-1/resized_imgdata/18. 채낚기 표류.jpg -> /home/elicer/FIshing_vessel-1/categorized_imgdata/표류/18. 채낚기 표류.jpg\n",
      "이미지 이동 완료: /home/elicer/FIshing_vessel-1/resized_imgdata/18. 저인망 조업.jpg -> /home/elicer/FIshing_vessel-1/categorized_imgdata/조업/18. 저인망 조업.jpg\n",
      "이미지 이동 완료: /home/elicer/FIshing_vessel-1/resized_imgdata/18. 타망 이동.jpg -> /home/elicer/FIshing_vessel-1/categorized_imgdata/이동/18. 타망 이동.jpg\n",
      "이미지 이동 완료: /home/elicer/FIshing_vessel-1/resized_imgdata/18. 타망 표류.jpg -> /home/elicer/FIshing_vessel-1/categorized_imgdata/표류/18. 타망 표류.jpg\n",
      "이미지 이동 완료: /home/elicer/FIshing_vessel-1/resized_imgdata/18. 타망 조업.jpg -> /home/elicer/FIshing_vessel-1/categorized_imgdata/조업/18. 타망 조업.jpg\n",
      "이미지 이동 완료: /home/elicer/FIshing_vessel-1/resized_imgdata/18. 통발 이동.jpg -> /home/elicer/FIshing_vessel-1/categorized_imgdata/이동/18. 통발 이동.jpg\n",
      "이미지 이동 완료: /home/elicer/FIshing_vessel-1/resized_imgdata/180. 범장망 표류.jpg -> /home/elicer/FIshing_vessel-1/categorized_imgdata/표류/180. 범장망 표류.jpg\n",
      "이미지 이동 완료: /home/elicer/FIshing_vessel-1/resized_imgdata/181. 범장망 표류.jpg -> /home/elicer/FIshing_vessel-1/categorized_imgdata/표류/181. 범장망 표류.jpg\n",
      "이미지 이동 완료: /home/elicer/FIshing_vessel-1/resized_imgdata/182. 범장망 표류.jpg -> /home/elicer/FIshing_vessel-1/categorized_imgdata/표류/182. 범장망 표류.jpg\n",
      "이미지 이동 완료: /home/elicer/FIshing_vessel-1/resized_imgdata/184. 범장망 표류.jpg -> /home/elicer/FIshing_vessel-1/categorized_imgdata/표류/184. 범장망 표류.jpg\n",
      "이미지 이동 완료: /home/elicer/FIshing_vessel-1/resized_imgdata/183. 범장망 표류.jpg -> /home/elicer/FIshing_vessel-1/categorized_imgdata/표류/183. 범장망 표류.jpg\n",
      "이미지 이동 완료: /home/elicer/FIshing_vessel-1/resized_imgdata/185. 범장망 표류.jpg -> /home/elicer/FIshing_vessel-1/categorized_imgdata/표류/185. 범장망 표류.jpg\n",
      "이미지 이동 완료: /home/elicer/FIshing_vessel-1/resized_imgdata/186. 범장망 표류.jpg -> /home/elicer/FIshing_vessel-1/categorized_imgdata/표류/186. 범장망 표류.jpg\n",
      "이미지 이동 완료: /home/elicer/FIshing_vessel-1/resized_imgdata/187. 범장망 표류.jpg -> /home/elicer/FIshing_vessel-1/categorized_imgdata/표류/187. 범장망 표류.jpg\n",
      "이미지 이동 완료: /home/elicer/FIshing_vessel-1/resized_imgdata/188. 범장망 표류.jpg -> /home/elicer/FIshing_vessel-1/categorized_imgdata/표류/188. 범장망 표류.jpg\n",
      "이미지 이동 완료: /home/elicer/FIshing_vessel-1/resized_imgdata/19. 낚시어선 이동.jpg -> /home/elicer/FIshing_vessel-1/categorized_imgdata/이동/19. 낚시어선 이동.jpg\n",
      "이미지 이동 완료: /home/elicer/FIshing_vessel-1/resized_imgdata/189. 범장망 표류.jpg -> /home/elicer/FIshing_vessel-1/categorized_imgdata/표류/189. 범장망 표류.jpg\n",
      "이미지 이동 완료: /home/elicer/FIshing_vessel-1/resized_imgdata/19. 낚시어선 조업.jpg -> /home/elicer/FIshing_vessel-1/categorized_imgdata/조업/19. 낚시어선 조업.jpg\n",
      "이미지 이동 완료: /home/elicer/FIshing_vessel-1/resized_imgdata/19. 등광조망 이동.jpg -> /home/elicer/FIshing_vessel-1/categorized_imgdata/이동/19. 등광조망 이동.jpg\n",
      "이미지 이동 완료: /home/elicer/FIshing_vessel-1/resized_imgdata/19. 등광조망 조업.jpg -> /home/elicer/FIshing_vessel-1/categorized_imgdata/조업/19. 등광조망 조업.jpg\n",
      "이미지 이동 완료: /home/elicer/FIshing_vessel-1/resized_imgdata/19. 등광조망 표류.jpg -> /home/elicer/FIshing_vessel-1/categorized_imgdata/표류/19. 등광조망 표류.jpg\n",
      "이미지 이동 완료: /home/elicer/FIshing_vessel-1/resized_imgdata/19. 범장망 이동.jpg -> /home/elicer/FIshing_vessel-1/categorized_imgdata/이동/19. 범장망 이동.jpg\n",
      "이미지 이동 완료: /home/elicer/FIshing_vessel-1/resized_imgdata/19. 범장망 조업.jpg -> /home/elicer/FIshing_vessel-1/categorized_imgdata/조업/19. 범장망 조업.jpg\n",
      "이미지 이동 완료: /home/elicer/FIshing_vessel-1/resized_imgdata/19. 범장망 표류.jpg -> /home/elicer/FIshing_vessel-1/categorized_imgdata/표류/19. 범장망 표류.jpg\n",
      "이미지 이동 완료: /home/elicer/FIshing_vessel-1/resized_imgdata/4. 통발 이동.jpg -> /home/elicer/FIshing_vessel-1/categorized_imgdata/이동/4. 통발 이동.jpg\n",
      "이미지 이동 완료: /home/elicer/FIshing_vessel-1/resized_imgdata/19. 안강망 이동.jpg -> /home/elicer/FIshing_vessel-1/categorized_imgdata/이동/19. 안강망 이동.jpg\n",
      "이미지 이동 완료: /home/elicer/FIshing_vessel-1/resized_imgdata/19. 연승 이동.jpg -> /home/elicer/FIshing_vessel-1/categorized_imgdata/이동/19. 연승 이동.jpg\n",
      "이미지 이동 완료: /home/elicer/FIshing_vessel-1/resized_imgdata/19. 유망 이동.jpg -> /home/elicer/FIshing_vessel-1/categorized_imgdata/이동/19. 유망 이동.jpg\n",
      "이미지 이동 완료: /home/elicer/FIshing_vessel-1/resized_imgdata/19. 유망 표류.jpg -> /home/elicer/FIshing_vessel-1/categorized_imgdata/표류/19. 유망 표류.jpg\n",
      "이미지 이동 완료: /home/elicer/FIshing_vessel-1/resized_imgdata/19. 연승 표류.jpg -> /home/elicer/FIshing_vessel-1/categorized_imgdata/표류/19. 연승 표류.jpg\n",
      "이미지 이동 완료: /home/elicer/FIshing_vessel-1/resized_imgdata/19. 유망 조업.jpg -> /home/elicer/FIshing_vessel-1/categorized_imgdata/조업/19. 유망 조업.jpg\n",
      "이미지 이동 완료: /home/elicer/FIshing_vessel-1/resized_imgdata/19. 저인망 이동.jpg -> /home/elicer/FIshing_vessel-1/categorized_imgdata/이동/19. 저인망 이동.jpg\n",
      "이미지 이동 완료: /home/elicer/FIshing_vessel-1/resized_imgdata/19. 저인망 조업.jpg -> /home/elicer/FIshing_vessel-1/categorized_imgdata/조업/19. 저인망 조업.jpg\n",
      "이미지 이동 완료: /home/elicer/FIshing_vessel-1/resized_imgdata/19. 채낚기 표류.jpg -> /home/elicer/FIshing_vessel-1/categorized_imgdata/표류/19. 채낚기 표류.jpg\n",
      "이미지 이동 완료: /home/elicer/FIshing_vessel-1/resized_imgdata/19. 타망 이동.jpg -> /home/elicer/FIshing_vessel-1/categorized_imgdata/이동/19. 타망 이동.jpg\n",
      "이미지 이동 완료: /home/elicer/FIshing_vessel-1/resized_imgdata/19. 타망 조업.jpg -> /home/elicer/FIshing_vessel-1/categorized_imgdata/조업/19. 타망 조업.jpg\n",
      "이미지 이동 완료: /home/elicer/FIshing_vessel-1/resized_imgdata/19. 타망 표류.jpg -> /home/elicer/FIshing_vessel-1/categorized_imgdata/표류/19. 타망 표류.jpg\n",
      "이미지 이동 완료: /home/elicer/FIshing_vessel-1/resized_imgdata/19. 통발 이동.jpg -> /home/elicer/FIshing_vessel-1/categorized_imgdata/이동/19. 통발 이동.jpg\n",
      "이미지 이동 완료: /home/elicer/FIshing_vessel-1/resized_imgdata/190. 범장망 표류.jpg -> /home/elicer/FIshing_vessel-1/categorized_imgdata/표류/190. 범장망 표류.jpg\n",
      "이미지 이동 완료: /home/elicer/FIshing_vessel-1/resized_imgdata/191. 범장망 표류.jpg -> /home/elicer/FIshing_vessel-1/categorized_imgdata/표류/191. 범장망 표류.jpg\n",
      "이미지 이동 완료: /home/elicer/FIshing_vessel-1/resized_imgdata/192. 범장망 표류.jpg -> /home/elicer/FIshing_vessel-1/categorized_imgdata/표류/192. 범장망 표류.jpg\n",
      "이미지 이동 완료: /home/elicer/FIshing_vessel-1/resized_imgdata/193. 범장망 표류.jpg -> /home/elicer/FIshing_vessel-1/categorized_imgdata/표류/193. 범장망 표류.jpg\n",
      "이미지 이동 완료: /home/elicer/FIshing_vessel-1/resized_imgdata/194. 범장망 표류.jpg -> /home/elicer/FIshing_vessel-1/categorized_imgdata/표류/194. 범장망 표류.jpg\n",
      "이미지 이동 완료: /home/elicer/FIshing_vessel-1/resized_imgdata/195. 범장망 표류.jpg -> /home/elicer/FIshing_vessel-1/categorized_imgdata/표류/195. 범장망 표류.jpg\n",
      "이미지 이동 완료: /home/elicer/FIshing_vessel-1/resized_imgdata/196. 범장망 표류.jpg -> /home/elicer/FIshing_vessel-1/categorized_imgdata/표류/196. 범장망 표류.jpg\n",
      "이미지 이동 완료: /home/elicer/FIshing_vessel-1/resized_imgdata/197. 범장망 표류.jpg -> /home/elicer/FIshing_vessel-1/categorized_imgdata/표류/197. 범장망 표류.jpg\n",
      "이미지 이동 완료: /home/elicer/FIshing_vessel-1/resized_imgdata/2. 낚시어선 이동.jpg -> /home/elicer/FIshing_vessel-1/categorized_imgdata/이동/2. 낚시어선 이동.jpg\n",
      "이미지 이동 완료: /home/elicer/FIshing_vessel-1/resized_imgdata/2. 낚시어선 조업.jpg -> /home/elicer/FIshing_vessel-1/categorized_imgdata/조업/2. 낚시어선 조업.jpg\n",
      "이미지 이동 완료: /home/elicer/FIshing_vessel-1/resized_imgdata/199. 범장망 표류.jpg -> /home/elicer/FIshing_vessel-1/categorized_imgdata/표류/199. 범장망 표류.jpg\n",
      "이미지 이동 완료: /home/elicer/FIshing_vessel-1/resized_imgdata/198. 범장망 표류.jpg -> /home/elicer/FIshing_vessel-1/categorized_imgdata/표류/198. 범장망 표류.jpg\n",
      "이미지 이동 완료: /home/elicer/FIshing_vessel-1/resized_imgdata/2. 낚시어선 표류.jpg -> /home/elicer/FIshing_vessel-1/categorized_imgdata/표류/2. 낚시어선 표류.jpg\n",
      "이미지 이동 완료: /home/elicer/FIshing_vessel-1/resized_imgdata/2. 등광조망 이동.jpg -> /home/elicer/FIshing_vessel-1/categorized_imgdata/이동/2. 등광조망 이동.jpg\n",
      "이미지 이동 완료: /home/elicer/FIshing_vessel-1/resized_imgdata/2. 등광조망 표류.jpg -> /home/elicer/FIshing_vessel-1/categorized_imgdata/표류/2. 등광조망 표류.jpg\n",
      "이미지 이동 완료: /home/elicer/FIshing_vessel-1/resized_imgdata/2. 범장망 이동.jpg -> /home/elicer/FIshing_vessel-1/categorized_imgdata/이동/2. 범장망 이동.jpg\n",
      "이미지 이동 완료: /home/elicer/FIshing_vessel-1/resized_imgdata/2. 범장망 조업.jpg -> /home/elicer/FIshing_vessel-1/categorized_imgdata/조업/2. 범장망 조업.jpg\n",
      "이미지 이동 완료: /home/elicer/FIshing_vessel-1/resized_imgdata/2. 범장망 표류.jpg -> /home/elicer/FIshing_vessel-1/categorized_imgdata/표류/2. 범장망 표류.jpg\n",
      "이미지 이동 완료: /home/elicer/FIshing_vessel-1/resized_imgdata/2. 안강망 이동.jpg -> /home/elicer/FIshing_vessel-1/categorized_imgdata/이동/2. 안강망 이동.jpg\n",
      "이미지 이동 완료: /home/elicer/FIshing_vessel-1/resized_imgdata/2. 안강망 표류.jpg -> /home/elicer/FIshing_vessel-1/categorized_imgdata/표류/2. 안강망 표류.jpg\n",
      "이미지 이동 완료: /home/elicer/FIshing_vessel-1/resized_imgdata/2. 연승 이동.jpg -> /home/elicer/FIshing_vessel-1/categorized_imgdata/이동/2. 연승 이동.jpg\n",
      "이미지 이동 완료: /home/elicer/FIshing_vessel-1/resized_imgdata/2. 연승 표류.jpg -> /home/elicer/FIshing_vessel-1/categorized_imgdata/표류/2. 연승 표류.jpg\n",
      "이미지 이동 완료: /home/elicer/FIshing_vessel-1/resized_imgdata/2. 유망 이동.jpg -> /home/elicer/FIshing_vessel-1/categorized_imgdata/이동/2. 유망 이동.jpg\n",
      "이미지 이동 완료: /home/elicer/FIshing_vessel-1/resized_imgdata/2. 유망 조업.jpg -> /home/elicer/FIshing_vessel-1/categorized_imgdata/조업/2. 유망 조업.jpg\n",
      "이미지 이동 완료: /home/elicer/FIshing_vessel-1/resized_imgdata/2. 유망 표류.jpg -> /home/elicer/FIshing_vessel-1/categorized_imgdata/표류/2. 유망 표류.jpg\n",
      "이미지 이동 완료: /home/elicer/FIshing_vessel-1/resized_imgdata/2. 저인망 이동.jpg -> /home/elicer/FIshing_vessel-1/categorized_imgdata/이동/2. 저인망 이동.jpg\n",
      "이미지 이동 완료: /home/elicer/FIshing_vessel-1/resized_imgdata/2. 저인망 조업.jpg -> /home/elicer/FIshing_vessel-1/categorized_imgdata/조업/2. 저인망 조업.jpg\n",
      "이미지 이동 완료: /home/elicer/FIshing_vessel-1/resized_imgdata/2. 저인망 표류.jpg -> /home/elicer/FIshing_vessel-1/categorized_imgdata/표류/2. 저인망 표류.jpg\n",
      "이미지 이동 완료: /home/elicer/FIshing_vessel-1/resized_imgdata/2. 채낚기  표류.jpg -> /home/elicer/FIshing_vessel-1/categorized_imgdata/표류/2. 채낚기  표류.jpg\n",
      "이미지 이동 완료: /home/elicer/FIshing_vessel-1/resized_imgdata/2. 채낚기 이동.jpg -> /home/elicer/FIshing_vessel-1/categorized_imgdata/이동/2. 채낚기 이동.jpg\n",
      "이미지 이동 완료: /home/elicer/FIshing_vessel-1/resized_imgdata/2. 채낚기 조업.jpg -> /home/elicer/FIshing_vessel-1/categorized_imgdata/조업/2. 채낚기 조업.jpg\n",
      "이미지 이동 완료: /home/elicer/FIshing_vessel-1/resized_imgdata/2. 타망 이동.jpg -> /home/elicer/FIshing_vessel-1/categorized_imgdata/이동/2. 타망 이동.jpg\n",
      "이미지 이동 완료: /home/elicer/FIshing_vessel-1/resized_imgdata/2. 타망 조업.jpg -> /home/elicer/FIshing_vessel-1/categorized_imgdata/조업/2. 타망 조업.jpg\n",
      "이미지 이동 완료: /home/elicer/FIshing_vessel-1/resized_imgdata/2. 타망 표류.jpg -> /home/elicer/FIshing_vessel-1/categorized_imgdata/표류/2. 타망 표류.jpg\n",
      "이미지 이동 완료: /home/elicer/FIshing_vessel-1/resized_imgdata/2. 통발 이동.jpg -> /home/elicer/FIshing_vessel-1/categorized_imgdata/이동/2. 통발 이동.jpg\n",
      "이미지 이동 완료: /home/elicer/FIshing_vessel-1/resized_imgdata/2. 통발 조업.jpg -> /home/elicer/FIshing_vessel-1/categorized_imgdata/조업/2. 통발 조업.jpg\n",
      "이미지 이동 완료: /home/elicer/FIshing_vessel-1/resized_imgdata/2. 통발 표류.jpg -> /home/elicer/FIshing_vessel-1/categorized_imgdata/표류/2. 통발 표류.jpg\n",
      "이미지 이동 완료: /home/elicer/FIshing_vessel-1/resized_imgdata/2.등광조망 조업.jpg -> /home/elicer/FIshing_vessel-1/categorized_imgdata/조업/2.등광조망 조업.jpg\n",
      "이미지 이동 완료: /home/elicer/FIshing_vessel-1/resized_imgdata/20. 낚시어선 이동.jpg -> /home/elicer/FIshing_vessel-1/categorized_imgdata/이동/20. 낚시어선 이동.jpg\n",
      "이미지 이동 완료: /home/elicer/FIshing_vessel-1/resized_imgdata/20. 낚시어선 조업.jpg -> /home/elicer/FIshing_vessel-1/categorized_imgdata/조업/20. 낚시어선 조업.jpg\n",
      "이미지 이동 완료: /home/elicer/FIshing_vessel-1/resized_imgdata/20. 등광조망 이동.jpg -> /home/elicer/FIshing_vessel-1/categorized_imgdata/이동/20. 등광조망 이동.jpg\n",
      "이미지 이동 완료: /home/elicer/FIshing_vessel-1/resized_imgdata/20. 범장망 이동.jpg -> /home/elicer/FIshing_vessel-1/categorized_imgdata/이동/20. 범장망 이동.jpg\n",
      "이미지 이동 완료: /home/elicer/FIshing_vessel-1/resized_imgdata/20. 등광조망 조업.jpg -> /home/elicer/FIshing_vessel-1/categorized_imgdata/조업/20. 등광조망 조업.jpg\n",
      "이미지 이동 완료: /home/elicer/FIshing_vessel-1/resized_imgdata/20. 등광조망 표류.jpg -> /home/elicer/FIshing_vessel-1/categorized_imgdata/표류/20. 등광조망 표류.jpg\n",
      "이미지 이동 완료: /home/elicer/FIshing_vessel-1/resized_imgdata/20. 안강망 이동.jpg -> /home/elicer/FIshing_vessel-1/categorized_imgdata/이동/20. 안강망 이동.jpg\n",
      "이미지 이동 완료: /home/elicer/FIshing_vessel-1/resized_imgdata/20. 범장망 조업.jpg -> /home/elicer/FIshing_vessel-1/categorized_imgdata/조업/20. 범장망 조업.jpg\n",
      "이미지 이동 완료: /home/elicer/FIshing_vessel-1/resized_imgdata/20. 범장망 표류.jpg -> /home/elicer/FIshing_vessel-1/categorized_imgdata/표류/20. 범장망 표류.jpg\n",
      "이미지 이동 완료: /home/elicer/FIshing_vessel-1/resized_imgdata/20. 연승 이동.jpg -> /home/elicer/FIshing_vessel-1/categorized_imgdata/이동/20. 연승 이동.jpg\n",
      "이미지 이동 완료: /home/elicer/FIshing_vessel-1/resized_imgdata/20. 연승 표류.jpg -> /home/elicer/FIshing_vessel-1/categorized_imgdata/표류/20. 연승 표류.jpg\n",
      "이미지 이동 완료: /home/elicer/FIshing_vessel-1/resized_imgdata/20. 유망 이동.jpg -> /home/elicer/FIshing_vessel-1/categorized_imgdata/이동/20. 유망 이동.jpg\n",
      "이미지 이동 완료: /home/elicer/FIshing_vessel-1/resized_imgdata/20. 유망 표류.jpg -> /home/elicer/FIshing_vessel-1/categorized_imgdata/표류/20. 유망 표류.jpg\n",
      "이미지 이동 완료: /home/elicer/FIshing_vessel-1/resized_imgdata/20. 저인망 이동.jpg -> /home/elicer/FIshing_vessel-1/categorized_imgdata/이동/20. 저인망 이동.jpg\n",
      "이미지 이동 완료: /home/elicer/FIshing_vessel-1/resized_imgdata/20. 저인망 조업.jpg -> /home/elicer/FIshing_vessel-1/categorized_imgdata/조업/20. 저인망 조업.jpg\n",
      "이미지 이동 완료: /home/elicer/FIshing_vessel-1/resized_imgdata/20. 타망 이동.jpg -> /home/elicer/FIshing_vessel-1/categorized_imgdata/이동/20. 타망 이동.jpg\n",
      "이미지 이동 완료: /home/elicer/FIshing_vessel-1/resized_imgdata/20. 채낚기 표류.jpg -> /home/elicer/FIshing_vessel-1/categorized_imgdata/표류/20. 채낚기 표류.jpg\n",
      "이미지 이동 완료: /home/elicer/FIshing_vessel-1/resized_imgdata/20. 타망 조업.jpg -> /home/elicer/FIshing_vessel-1/categorized_imgdata/조업/20. 타망 조업.jpg\n",
      "이미지 이동 완료: /home/elicer/FIshing_vessel-1/resized_imgdata/20. 타망 표류.jpg -> /home/elicer/FIshing_vessel-1/categorized_imgdata/표류/20. 타망 표류.jpg\n",
      "이미지 이동 완료: /home/elicer/FIshing_vessel-1/resized_imgdata/20. 통발 이동.jpg -> /home/elicer/FIshing_vessel-1/categorized_imgdata/이동/20. 통발 이동.jpg\n",
      "이미지 이동 완료: /home/elicer/FIshing_vessel-1/resized_imgdata/200. 범장망 표류.jpg -> /home/elicer/FIshing_vessel-1/categorized_imgdata/표류/200. 범장망 표류.jpg\n",
      "이미지 이동 완료: /home/elicer/FIshing_vessel-1/resized_imgdata/201. 범장망 표류.jpg -> /home/elicer/FIshing_vessel-1/categorized_imgdata/표류/201. 범장망 표류.jpg\n",
      "이미지 이동 완료: /home/elicer/FIshing_vessel-1/resized_imgdata/202. 범장망 표류.jpg -> /home/elicer/FIshing_vessel-1/categorized_imgdata/표류/202. 범장망 표류.jpg\n",
      "이미지 이동 완료: /home/elicer/FIshing_vessel-1/resized_imgdata/203. 범장망 표류.jpg -> /home/elicer/FIshing_vessel-1/categorized_imgdata/표류/203. 범장망 표류.jpg\n",
      "이미지 이동 완료: /home/elicer/FIshing_vessel-1/resized_imgdata/204. 범장망 표류.jpg -> /home/elicer/FIshing_vessel-1/categorized_imgdata/표류/204. 범장망 표류.jpg\n",
      "이미지 이동 완료: /home/elicer/FIshing_vessel-1/resized_imgdata/205. 범장망 표류.jpg -> /home/elicer/FIshing_vessel-1/categorized_imgdata/표류/205. 범장망 표류.jpg\n",
      "이미지 이동 완료: /home/elicer/FIshing_vessel-1/resized_imgdata/206. 범장망 표류.jpg -> /home/elicer/FIshing_vessel-1/categorized_imgdata/표류/206. 범장망 표류.jpg\n",
      "이미지 이동 완료: /home/elicer/FIshing_vessel-1/resized_imgdata/207. 범장망 표류.jpg -> /home/elicer/FIshing_vessel-1/categorized_imgdata/표류/207. 범장망 표류.jpg\n",
      "이미지 이동 완료: /home/elicer/FIshing_vessel-1/resized_imgdata/208. 범장망 표류.jpg -> /home/elicer/FIshing_vessel-1/categorized_imgdata/표류/208. 범장망 표류.jpg\n",
      "이미지 이동 완료: /home/elicer/FIshing_vessel-1/resized_imgdata/209. 범장망 표류.jpg -> /home/elicer/FIshing_vessel-1/categorized_imgdata/표류/209. 범장망 표류.jpg\n",
      "이미지 이동 완료: /home/elicer/FIshing_vessel-1/resized_imgdata/21. 낚시어선 이동.jpg -> /home/elicer/FIshing_vessel-1/categorized_imgdata/이동/21. 낚시어선 이동.jpg\n",
      "이미지 이동 완료: /home/elicer/FIshing_vessel-1/resized_imgdata/21. 낚시어선 조업.jpg -> /home/elicer/FIshing_vessel-1/categorized_imgdata/조업/21. 낚시어선 조업.jpg\n",
      "이미지 이동 완료: /home/elicer/FIshing_vessel-1/resized_imgdata/21. 등광조망 이동.jpg -> /home/elicer/FIshing_vessel-1/categorized_imgdata/이동/21. 등광조망 이동.jpg\n",
      "이미지 이동 완료: /home/elicer/FIshing_vessel-1/resized_imgdata/21. 등광조망 조업.jpg -> /home/elicer/FIshing_vessel-1/categorized_imgdata/조업/21. 등광조망 조업.jpg\n",
      "이미지 이동 완료: /home/elicer/FIshing_vessel-1/resized_imgdata/21. 등광조망 표류.jpg -> /home/elicer/FIshing_vessel-1/categorized_imgdata/표류/21. 등광조망 표류.jpg\n",
      "이미지 이동 완료: /home/elicer/FIshing_vessel-1/resized_imgdata/21. 범장망 이동.jpg -> /home/elicer/FIshing_vessel-1/categorized_imgdata/이동/21. 범장망 이동.jpg\n",
      "이미지 이동 완료: /home/elicer/FIshing_vessel-1/resized_imgdata/21. 범장망 조업.jpg -> /home/elicer/FIshing_vessel-1/categorized_imgdata/조업/21. 범장망 조업.jpg\n",
      "이미지 이동 완료: /home/elicer/FIshing_vessel-1/resized_imgdata/21. 범장망 표류.jpg -> /home/elicer/FIshing_vessel-1/categorized_imgdata/표류/21. 범장망 표류.jpg\n",
      "이미지 이동 완료: /home/elicer/FIshing_vessel-1/resized_imgdata/21. 안강망 이동.jpg -> /home/elicer/FIshing_vessel-1/categorized_imgdata/이동/21. 안강망 이동.jpg\n",
      "이미지 이동 완료: /home/elicer/FIshing_vessel-1/resized_imgdata/21. 연승 이동.jpg -> /home/elicer/FIshing_vessel-1/categorized_imgdata/이동/21. 연승 이동.jpg\n",
      "이미지 이동 완료: /home/elicer/FIshing_vessel-1/resized_imgdata/21. 유망 이동.jpg -> /home/elicer/FIshing_vessel-1/categorized_imgdata/이동/21. 유망 이동.jpg\n",
      "이미지 이동 완료: /home/elicer/FIshing_vessel-1/resized_imgdata/21. 유망 조업.jpg -> /home/elicer/FIshing_vessel-1/categorized_imgdata/조업/21. 유망 조업.jpg\n",
      "이미지 이동 완료: /home/elicer/FIshing_vessel-1/resized_imgdata/21. 유망 표류.jpg -> /home/elicer/FIshing_vessel-1/categorized_imgdata/표류/21. 유망 표류.jpg\n",
      "이미지 이동 완료: /home/elicer/FIshing_vessel-1/resized_imgdata/21. 저인망 이동.jpg -> /home/elicer/FIshing_vessel-1/categorized_imgdata/이동/21. 저인망 이동.jpg\n",
      "이미지 이동 완료: /home/elicer/FIshing_vessel-1/resized_imgdata/21. 저인망 조업.jpg -> /home/elicer/FIshing_vessel-1/categorized_imgdata/조업/21. 저인망 조업.jpg\n",
      "이미지 이동 완료: /home/elicer/FIshing_vessel-1/resized_imgdata/21. 채낚기 표류.jpg -> /home/elicer/FIshing_vessel-1/categorized_imgdata/표류/21. 채낚기 표류.jpg\n",
      "이미지 이동 완료: /home/elicer/FIshing_vessel-1/resized_imgdata/21. 타망 이동.jpg -> /home/elicer/FIshing_vessel-1/categorized_imgdata/이동/21. 타망 이동.jpg\n",
      "이미지 이동 완료: /home/elicer/FIshing_vessel-1/resized_imgdata/21. 타망 표류.jpg -> /home/elicer/FIshing_vessel-1/categorized_imgdata/표류/21. 타망 표류.jpg\n",
      "이미지 이동 완료: /home/elicer/FIshing_vessel-1/resized_imgdata/21. 통발 이동.jpg -> /home/elicer/FIshing_vessel-1/categorized_imgdata/이동/21. 통발 이동.jpg\n",
      "이미지 이동 완료: /home/elicer/FIshing_vessel-1/resized_imgdata/210. 범장망 표류.jpg -> /home/elicer/FIshing_vessel-1/categorized_imgdata/표류/210. 범장망 표류.jpg\n",
      "이미지 이동 완료: /home/elicer/FIshing_vessel-1/resized_imgdata/211. 범장망 표류.jpg -> /home/elicer/FIshing_vessel-1/categorized_imgdata/표류/211. 범장망 표류.jpg\n",
      "이미지 이동 완료: /home/elicer/FIshing_vessel-1/resized_imgdata/214. 범장망 표류.jpg -> /home/elicer/FIshing_vessel-1/categorized_imgdata/표류/214. 범장망 표류.jpg\n",
      "이미지 이동 완료: /home/elicer/FIshing_vessel-1/resized_imgdata/212. 범장망 표류.jpg -> /home/elicer/FIshing_vessel-1/categorized_imgdata/표류/212. 범장망 표류.jpg\n",
      "이미지 이동 완료: /home/elicer/FIshing_vessel-1/resized_imgdata/213. 범장망 표류.jpg -> /home/elicer/FIshing_vessel-1/categorized_imgdata/표류/213. 범장망 표류.jpg\n",
      "이미지 이동 완료: /home/elicer/FIshing_vessel-1/resized_imgdata/215. 범장망 표류.jpg -> /home/elicer/FIshing_vessel-1/categorized_imgdata/표류/215. 범장망 표류.jpg\n",
      "이미지 이동 완료: /home/elicer/FIshing_vessel-1/resized_imgdata/216. 범장망 표류.jpg -> /home/elicer/FIshing_vessel-1/categorized_imgdata/표류/216. 범장망 표류.jpg\n",
      "이미지 이동 완료: /home/elicer/FIshing_vessel-1/resized_imgdata/217. 범장망 표류.jpg -> /home/elicer/FIshing_vessel-1/categorized_imgdata/표류/217. 범장망 표류.jpg\n",
      "이미지 이동 완료: /home/elicer/FIshing_vessel-1/resized_imgdata/218. 범장망 표류.jpg -> /home/elicer/FIshing_vessel-1/categorized_imgdata/표류/218. 범장망 표류.jpg\n",
      "이미지 이동 완료: /home/elicer/FIshing_vessel-1/resized_imgdata/219. 범장망 표류.jpg -> /home/elicer/FIshing_vessel-1/categorized_imgdata/표류/219. 범장망 표류.jpg\n",
      "이미지 이동 완료: /home/elicer/FIshing_vessel-1/resized_imgdata/22. 낚시어선 이동.jpg -> /home/elicer/FIshing_vessel-1/categorized_imgdata/이동/22. 낚시어선 이동.jpg\n",
      "이미지 이동 완료: /home/elicer/FIshing_vessel-1/resized_imgdata/22. 낚시어선 조업.jpg -> /home/elicer/FIshing_vessel-1/categorized_imgdata/조업/22. 낚시어선 조업.jpg\n",
      "이미지 이동 완료: /home/elicer/FIshing_vessel-1/resized_imgdata/22. 등광조망 이동.jpg -> /home/elicer/FIshing_vessel-1/categorized_imgdata/이동/22. 등광조망 이동.jpg\n",
      "이미지 이동 완료: /home/elicer/FIshing_vessel-1/resized_imgdata/22. 등광조망 조업.jpg -> /home/elicer/FIshing_vessel-1/categorized_imgdata/조업/22. 등광조망 조업.jpg\n",
      "이미지 이동 완료: /home/elicer/FIshing_vessel-1/resized_imgdata/22. 등광조망 표류.jpg -> /home/elicer/FIshing_vessel-1/categorized_imgdata/표류/22. 등광조망 표류.jpg\n",
      "이미지 이동 완료: /home/elicer/FIshing_vessel-1/resized_imgdata/22. 범장망 이동.jpg -> /home/elicer/FIshing_vessel-1/categorized_imgdata/이동/22. 범장망 이동.jpg\n",
      "이미지 이동 완료: /home/elicer/FIshing_vessel-1/resized_imgdata/22. 범장망 조업.jpg -> /home/elicer/FIshing_vessel-1/categorized_imgdata/조업/22. 범장망 조업.jpg\n",
      "이미지 이동 완료: /home/elicer/FIshing_vessel-1/resized_imgdata/22. 범장망 표류.jpg -> /home/elicer/FIshing_vessel-1/categorized_imgdata/표류/22. 범장망 표류.jpg\n",
      "이미지 이동 완료: /home/elicer/FIshing_vessel-1/resized_imgdata/22. 안강망 이동.jpg -> /home/elicer/FIshing_vessel-1/categorized_imgdata/이동/22. 안강망 이동.jpg\n",
      "이미지 이동 완료: /home/elicer/FIshing_vessel-1/resized_imgdata/22. 연승 이동.jpg -> /home/elicer/FIshing_vessel-1/categorized_imgdata/이동/22. 연승 이동.jpg\n",
      "이미지 이동 완료: /home/elicer/FIshing_vessel-1/resized_imgdata/22. 유망 이동.jpg -> /home/elicer/FIshing_vessel-1/categorized_imgdata/이동/22. 유망 이동.jpg\n",
      "이미지 이동 완료: /home/elicer/FIshing_vessel-1/resized_imgdata/22. 유망 조업.jpg -> /home/elicer/FIshing_vessel-1/categorized_imgdata/조업/22. 유망 조업.jpg\n",
      "이미지 이동 완료: /home/elicer/FIshing_vessel-1/resized_imgdata/22. 연승 표류.jpg -> /home/elicer/FIshing_vessel-1/categorized_imgdata/표류/22. 연승 표류.jpg\n",
      "이미지 이동 완료: /home/elicer/FIshing_vessel-1/resized_imgdata/22. 유망 표류.jpg -> /home/elicer/FIshing_vessel-1/categorized_imgdata/표류/22. 유망 표류.jpg\n",
      "이미지 이동 완료: /home/elicer/FIshing_vessel-1/resized_imgdata/22. 저인망 이동.jpg -> /home/elicer/FIshing_vessel-1/categorized_imgdata/이동/22. 저인망 이동.jpg\n",
      "이미지 이동 완료: /home/elicer/FIshing_vessel-1/resized_imgdata/22. 채낚기 표류.jpg -> /home/elicer/FIshing_vessel-1/categorized_imgdata/표류/22. 채낚기 표류.jpg\n",
      "이미지 이동 완료: /home/elicer/FIshing_vessel-1/resized_imgdata/22. 타망 이동.jpg -> /home/elicer/FIshing_vessel-1/categorized_imgdata/이동/22. 타망 이동.jpg\n",
      "이미지 이동 완료: /home/elicer/FIshing_vessel-1/resized_imgdata/22. 저인망 조업.jpg -> /home/elicer/FIshing_vessel-1/categorized_imgdata/조업/22. 저인망 조업.jpg\n",
      "이미지 이동 완료: /home/elicer/FIshing_vessel-1/resized_imgdata/22. 타망 조업.jpg -> /home/elicer/FIshing_vessel-1/categorized_imgdata/조업/22. 타망 조업.jpg\n",
      "이미지 이동 완료: /home/elicer/FIshing_vessel-1/resized_imgdata/22. 타망 표류.jpg -> /home/elicer/FIshing_vessel-1/categorized_imgdata/표류/22. 타망 표류.jpg\n",
      "이미지 이동 완료: /home/elicer/FIshing_vessel-1/resized_imgdata/22. 통발 이동.jpg -> /home/elicer/FIshing_vessel-1/categorized_imgdata/이동/22. 통발 이동.jpg\n",
      "이미지 이동 완료: /home/elicer/FIshing_vessel-1/resized_imgdata/220. 범장망 표류.jpg -> /home/elicer/FIshing_vessel-1/categorized_imgdata/표류/220. 범장망 표류.jpg\n",
      "이미지 이동 완료: /home/elicer/FIshing_vessel-1/resized_imgdata/221. 범장망 표류.jpg -> /home/elicer/FIshing_vessel-1/categorized_imgdata/표류/221. 범장망 표류.jpg\n",
      "이미지 이동 완료: /home/elicer/FIshing_vessel-1/resized_imgdata/222. 범장망 표류.jpg -> /home/elicer/FIshing_vessel-1/categorized_imgdata/표류/222. 범장망 표류.jpg\n",
      "이미지 이동 완료: /home/elicer/FIshing_vessel-1/resized_imgdata/223. 범장망 표류.jpg -> /home/elicer/FIshing_vessel-1/categorized_imgdata/표류/223. 범장망 표류.jpg\n",
      "이미지 이동 완료: /home/elicer/FIshing_vessel-1/resized_imgdata/224. 범장망 표류.jpg -> /home/elicer/FIshing_vessel-1/categorized_imgdata/표류/224. 범장망 표류.jpg\n",
      "이미지 이동 완료: /home/elicer/FIshing_vessel-1/resized_imgdata/226. 범장망 표류.jpg -> /home/elicer/FIshing_vessel-1/categorized_imgdata/표류/226. 범장망 표류.jpg\n",
      "이미지 이동 완료: /home/elicer/FIshing_vessel-1/resized_imgdata/225. 범장망 표류.jpg -> /home/elicer/FIshing_vessel-1/categorized_imgdata/표류/225. 범장망 표류.jpg\n",
      "이미지 이동 완료: /home/elicer/FIshing_vessel-1/resized_imgdata/227. 범장망 표류.jpg -> /home/elicer/FIshing_vessel-1/categorized_imgdata/표류/227. 범장망 표류.jpg\n",
      "이미지 이동 완료: /home/elicer/FIshing_vessel-1/resized_imgdata/228. 범장망 표류.jpg -> /home/elicer/FIshing_vessel-1/categorized_imgdata/표류/228. 범장망 표류.jpg\n",
      "이미지 이동 완료: /home/elicer/FIshing_vessel-1/resized_imgdata/23. 낚시어선 이동.jpg -> /home/elicer/FIshing_vessel-1/categorized_imgdata/이동/23. 낚시어선 이동.jpg\n",
      "이미지 이동 완료: /home/elicer/FIshing_vessel-1/resized_imgdata/229. 범장망 표류.jpg -> /home/elicer/FIshing_vessel-1/categorized_imgdata/표류/229. 범장망 표류.jpg\n",
      "이미지 이동 완료: /home/elicer/FIshing_vessel-1/resized_imgdata/23. 낚시어선 조업.jpg -> /home/elicer/FIshing_vessel-1/categorized_imgdata/조업/23. 낚시어선 조업.jpg\n",
      "이미지 이동 완료: /home/elicer/FIshing_vessel-1/resized_imgdata/23. 등광조망 조업.jpg -> /home/elicer/FIshing_vessel-1/categorized_imgdata/조업/23. 등광조망 조업.jpg\n",
      "이미지 이동 완료: /home/elicer/FIshing_vessel-1/resized_imgdata/23. 등광조망 표류.jpg -> /home/elicer/FIshing_vessel-1/categorized_imgdata/표류/23. 등광조망 표류.jpg\n",
      "이미지 이동 완료: /home/elicer/FIshing_vessel-1/resized_imgdata/23. 범장망 이동.jpg -> /home/elicer/FIshing_vessel-1/categorized_imgdata/이동/23. 범장망 이동.jpg\n",
      "이미지 이동 완료: /home/elicer/FIshing_vessel-1/resized_imgdata/23. 범장망 조업.jpg -> /home/elicer/FIshing_vessel-1/categorized_imgdata/조업/23. 범장망 조업.jpg\n",
      "이미지 이동 완료: /home/elicer/FIshing_vessel-1/resized_imgdata/23. 범장망 표류.jpg -> /home/elicer/FIshing_vessel-1/categorized_imgdata/표류/23. 범장망 표류.jpg\n",
      "이미지 이동 완료: /home/elicer/FIshing_vessel-1/resized_imgdata/23. 연승 이동.jpg -> /home/elicer/FIshing_vessel-1/categorized_imgdata/이동/23. 연승 이동.jpg\n",
      "이미지 이동 완료: /home/elicer/FIshing_vessel-1/resized_imgdata/23. 연승 표류.jpg -> /home/elicer/FIshing_vessel-1/categorized_imgdata/표류/23. 연승 표류.jpg\n",
      "이미지 이동 완료: /home/elicer/FIshing_vessel-1/resized_imgdata/23. 유망 이동.jpg -> /home/elicer/FIshing_vessel-1/categorized_imgdata/이동/23. 유망 이동.jpg\n",
      "이미지 이동 완료: /home/elicer/FIshing_vessel-1/resized_imgdata/23. 유망 조업.jpg -> /home/elicer/FIshing_vessel-1/categorized_imgdata/조업/23. 유망 조업.jpg\n",
      "이미지 이동 완료: /home/elicer/FIshing_vessel-1/resized_imgdata/23. 유망 표류.jpg -> /home/elicer/FIshing_vessel-1/categorized_imgdata/표류/23. 유망 표류.jpg\n",
      "이미지 이동 완료: /home/elicer/FIshing_vessel-1/resized_imgdata/23. 저인망 이동.jpg -> /home/elicer/FIshing_vessel-1/categorized_imgdata/이동/23. 저인망 이동.jpg\n",
      "이미지 이동 완료: /home/elicer/FIshing_vessel-1/resized_imgdata/23. 저인망 조업.jpg -> /home/elicer/FIshing_vessel-1/categorized_imgdata/조업/23. 저인망 조업.jpg\n",
      "이미지 이동 완료: /home/elicer/FIshing_vessel-1/resized_imgdata/23. 채낚기 표류.jpg -> /home/elicer/FIshing_vessel-1/categorized_imgdata/표류/23. 채낚기 표류.jpg\n",
      "이미지 이동 완료: /home/elicer/FIshing_vessel-1/resized_imgdata/23. 타망 조업.jpg -> /home/elicer/FIshing_vessel-1/categorized_imgdata/조업/23. 타망 조업.jpg\n",
      "이미지 이동 완료: /home/elicer/FIshing_vessel-1/resized_imgdata/23. 타망 이동.jpg -> /home/elicer/FIshing_vessel-1/categorized_imgdata/이동/23. 타망 이동.jpg\n",
      "이미지 이동 완료: /home/elicer/FIshing_vessel-1/resized_imgdata/23. 타망 표류.jpg -> /home/elicer/FIshing_vessel-1/categorized_imgdata/표류/23. 타망 표류.jpg\n",
      "이미지 이동 완료: /home/elicer/FIshing_vessel-1/resized_imgdata/23. 통발 이동.jpg -> /home/elicer/FIshing_vessel-1/categorized_imgdata/이동/23. 통발 이동.jpg\n",
      "이미지 이동 완료: /home/elicer/FIshing_vessel-1/resized_imgdata/23.등광조망 이동.jpg -> /home/elicer/FIshing_vessel-1/categorized_imgdata/이동/23.등광조망 이동.jpg\n",
      "이미지 이동 완료: /home/elicer/FIshing_vessel-1/resized_imgdata/230. 범장망 표류.jpg -> /home/elicer/FIshing_vessel-1/categorized_imgdata/표류/230. 범장망 표류.jpg\n",
      "이미지 이동 완료: /home/elicer/FIshing_vessel-1/resized_imgdata/231. 범장망 표류.jpg -> /home/elicer/FIshing_vessel-1/categorized_imgdata/표류/231. 범장망 표류.jpg\n",
      "이미지 이동 완료: /home/elicer/FIshing_vessel-1/resized_imgdata/232. 범장망 표류.jpg -> /home/elicer/FIshing_vessel-1/categorized_imgdata/표류/232. 범장망 표류.jpg\n",
      "이미지 이동 완료: /home/elicer/FIshing_vessel-1/resized_imgdata/233. 범장망 표류.jpg -> /home/elicer/FIshing_vessel-1/categorized_imgdata/표류/233. 범장망 표류.jpg\n",
      "이미지 이동 완료: /home/elicer/FIshing_vessel-1/resized_imgdata/234. 범장망 표류.jpg -> /home/elicer/FIshing_vessel-1/categorized_imgdata/표류/234. 범장망 표류.jpg\n",
      "이미지 이동 완료: /home/elicer/FIshing_vessel-1/resized_imgdata/235. 범장망 표류.jpg -> /home/elicer/FIshing_vessel-1/categorized_imgdata/표류/235. 범장망 표류.jpg\n",
      "이미지 이동 완료: /home/elicer/FIshing_vessel-1/resized_imgdata/236. 범장망 표류.jpg -> /home/elicer/FIshing_vessel-1/categorized_imgdata/표류/236. 범장망 표류.jpg\n",
      "이미지 이동 완료: /home/elicer/FIshing_vessel-1/resized_imgdata/237. 범장망 표류.jpg -> /home/elicer/FIshing_vessel-1/categorized_imgdata/표류/237. 범장망 표류.jpg\n",
      "이미지 이동 완료: /home/elicer/FIshing_vessel-1/resized_imgdata/238. 범장망 표류.jpg -> /home/elicer/FIshing_vessel-1/categorized_imgdata/표류/238. 범장망 표류.jpg\n",
      "이미지 이동 완료: /home/elicer/FIshing_vessel-1/resized_imgdata/239. 범장망 표류.jpg -> /home/elicer/FIshing_vessel-1/categorized_imgdata/표류/239. 범장망 표류.jpg\n",
      "이미지 이동 완료: /home/elicer/FIshing_vessel-1/resized_imgdata/24. 낚시어선 이동.jpg -> /home/elicer/FIshing_vessel-1/categorized_imgdata/이동/24. 낚시어선 이동.jpg\n",
      "이미지 이동 완료: /home/elicer/FIshing_vessel-1/resized_imgdata/24. 낚시어선 조업.jpg -> /home/elicer/FIshing_vessel-1/categorized_imgdata/조업/24. 낚시어선 조업.jpg\n",
      "이미지 이동 완료: /home/elicer/FIshing_vessel-1/resized_imgdata/24. 등광조망 이동.jpg -> /home/elicer/FIshing_vessel-1/categorized_imgdata/이동/24. 등광조망 이동.jpg\n",
      "이미지 이동 완료: /home/elicer/FIshing_vessel-1/resized_imgdata/24. 등광조망 조업.jpg -> /home/elicer/FIshing_vessel-1/categorized_imgdata/조업/24. 등광조망 조업.jpg\n",
      "이미지 이동 완료: /home/elicer/FIshing_vessel-1/resized_imgdata/24. 범장망 이동.jpg -> /home/elicer/FIshing_vessel-1/categorized_imgdata/이동/24. 범장망 이동.jpg\n",
      "이미지 이동 완료: /home/elicer/FIshing_vessel-1/resized_imgdata/24. 등광조망 표류.jpg -> /home/elicer/FIshing_vessel-1/categorized_imgdata/표류/24. 등광조망 표류.jpg\n",
      "이미지 이동 완료: /home/elicer/FIshing_vessel-1/resized_imgdata/24. 범장망 조업.jpg -> /home/elicer/FIshing_vessel-1/categorized_imgdata/조업/24. 범장망 조업.jpg\n",
      "이미지 이동 완료: /home/elicer/FIshing_vessel-1/resized_imgdata/24. 연승 이동.jpg -> /home/elicer/FIshing_vessel-1/categorized_imgdata/이동/24. 연승 이동.jpg\n",
      "이미지 이동 완료: /home/elicer/FIshing_vessel-1/resized_imgdata/24. 유망 이동.jpg -> /home/elicer/FIshing_vessel-1/categorized_imgdata/이동/24. 유망 이동.jpg\n",
      "이미지 이동 완료: /home/elicer/FIshing_vessel-1/resized_imgdata/24. 유망 표류.jpg -> /home/elicer/FIshing_vessel-1/categorized_imgdata/표류/24. 유망 표류.jpg\n",
      "이미지 이동 완료: /home/elicer/FIshing_vessel-1/resized_imgdata/24. 저인망 이동.jpg -> /home/elicer/FIshing_vessel-1/categorized_imgdata/이동/24. 저인망 이동.jpg\n",
      "이미지 이동 완료: /home/elicer/FIshing_vessel-1/resized_imgdata/24. 유망 조업.jpg -> /home/elicer/FIshing_vessel-1/categorized_imgdata/조업/24. 유망 조업.jpg\n",
      "이미지 이동 완료: /home/elicer/FIshing_vessel-1/resized_imgdata/24. 타망 이동.jpg -> /home/elicer/FIshing_vessel-1/categorized_imgdata/이동/24. 타망 이동.jpg\n",
      "이미지 이동 완료: /home/elicer/FIshing_vessel-1/resized_imgdata/24. 채낚기 표류.jpg -> /home/elicer/FIshing_vessel-1/categorized_imgdata/표류/24. 채낚기 표류.jpg\n",
      "이미지 이동 완료: /home/elicer/FIshing_vessel-1/resized_imgdata/24. 저인망 조업.jpg -> /home/elicer/FIshing_vessel-1/categorized_imgdata/조업/24. 저인망 조업.jpg\n",
      "이미지 이동 완료: /home/elicer/FIshing_vessel-1/resized_imgdata/24. 타망 조업.jpg -> /home/elicer/FIshing_vessel-1/categorized_imgdata/조업/24. 타망 조업.jpg\n",
      "이미지 이동 완료: /home/elicer/FIshing_vessel-1/resized_imgdata/24. 타망 표류.jpg -> /home/elicer/FIshing_vessel-1/categorized_imgdata/표류/24. 타망 표류.jpg\n",
      "이미지 이동 완료: /home/elicer/FIshing_vessel-1/resized_imgdata/24. 통발 이동.jpg -> /home/elicer/FIshing_vessel-1/categorized_imgdata/이동/24. 통발 이동.jpg\n",
      "이미지 이동 완료: /home/elicer/FIshing_vessel-1/resized_imgdata/240. 범장망 표류.jpg -> /home/elicer/FIshing_vessel-1/categorized_imgdata/표류/240. 범장망 표류.jpg\n",
      "이미지 이동 완료: /home/elicer/FIshing_vessel-1/resized_imgdata/241. 범장망 표류.jpg -> /home/elicer/FIshing_vessel-1/categorized_imgdata/표류/241. 범장망 표류.jpg\n",
      "이미지 이동 완료: /home/elicer/FIshing_vessel-1/resized_imgdata/242. 범장망 표류.jpg -> /home/elicer/FIshing_vessel-1/categorized_imgdata/표류/242. 범장망 표류.jpg\n",
      "이미지 이동 완료: /home/elicer/FIshing_vessel-1/resized_imgdata/243. 범장망 표류.jpg -> /home/elicer/FIshing_vessel-1/categorized_imgdata/표류/243. 범장망 표류.jpg\n",
      "이미지 이동 완료: /home/elicer/FIshing_vessel-1/resized_imgdata/244. 범장망 표류.jpg -> /home/elicer/FIshing_vessel-1/categorized_imgdata/표류/244. 범장망 표류.jpg\n",
      "이미지 이동 완료: /home/elicer/FIshing_vessel-1/resized_imgdata/245. 범장망 표류.jpg -> /home/elicer/FIshing_vessel-1/categorized_imgdata/표류/245. 범장망 표류.jpg\n",
      "이미지 이동 완료: /home/elicer/FIshing_vessel-1/resized_imgdata/246. 범장망 표류.jpg -> /home/elicer/FIshing_vessel-1/categorized_imgdata/표류/246. 범장망 표류.jpg\n",
      "이미지 이동 완료: /home/elicer/FIshing_vessel-1/resized_imgdata/247. 범장망 표류.jpg -> /home/elicer/FIshing_vessel-1/categorized_imgdata/표류/247. 범장망 표류.jpg\n",
      "이미지 이동 완료: /home/elicer/FIshing_vessel-1/resized_imgdata/248. 범장망 표류.jpg -> /home/elicer/FIshing_vessel-1/categorized_imgdata/표류/248. 범장망 표류.jpg\n",
      "이미지 이동 완료: /home/elicer/FIshing_vessel-1/resized_imgdata/249. 범장망 표류.jpg -> /home/elicer/FIshing_vessel-1/categorized_imgdata/표류/249. 범장망 표류.jpg\n",
      "이미지 이동 완료: /home/elicer/FIshing_vessel-1/resized_imgdata/25. 낚시어선 이동.jpg -> /home/elicer/FIshing_vessel-1/categorized_imgdata/이동/25. 낚시어선 이동.jpg\n",
      "이미지 이동 완료: /home/elicer/FIshing_vessel-1/resized_imgdata/25. 등광조망 조업.jpg -> /home/elicer/FIshing_vessel-1/categorized_imgdata/조업/25. 등광조망 조업.jpg\n",
      "이미지 이동 완료: /home/elicer/FIshing_vessel-1/resized_imgdata/25. 낚시어선 조업.jpg -> /home/elicer/FIshing_vessel-1/categorized_imgdata/조업/25. 낚시어선 조업.jpg\n",
      "이미지 이동 완료: /home/elicer/FIshing_vessel-1/resized_imgdata/25. 범장망 이동.jpg -> /home/elicer/FIshing_vessel-1/categorized_imgdata/이동/25. 범장망 이동.jpg\n",
      "이미지 이동 완료: /home/elicer/FIshing_vessel-1/resized_imgdata/4. 타망 표류.jpg -> /home/elicer/FIshing_vessel-1/categorized_imgdata/표류/4. 타망 표류.jpg\n",
      "이미지 이동 완료: /home/elicer/FIshing_vessel-1/resized_imgdata/25. 범장망 표류.jpg -> /home/elicer/FIshing_vessel-1/categorized_imgdata/표류/25. 범장망 표류.jpg\n",
      "이미지 이동 완료: /home/elicer/FIshing_vessel-1/resized_imgdata/25. 연승 이동.jpg -> /home/elicer/FIshing_vessel-1/categorized_imgdata/이동/25. 연승 이동.jpg\n",
      "이미지 이동 완료: /home/elicer/FIshing_vessel-1/resized_imgdata/25. 유망 조업.jpg -> /home/elicer/FIshing_vessel-1/categorized_imgdata/조업/25. 유망 조업.jpg\n",
      "이미지 이동 완료: /home/elicer/FIshing_vessel-1/resized_imgdata/25. 유망 이동.jpg -> /home/elicer/FIshing_vessel-1/categorized_imgdata/이동/25. 유망 이동.jpg\n",
      "이미지 이동 완료: /home/elicer/FIshing_vessel-1/resized_imgdata/25. 유망 표류.jpg -> /home/elicer/FIshing_vessel-1/categorized_imgdata/표류/25. 유망 표류.jpg\n",
      "이미지 이동 완료: /home/elicer/FIshing_vessel-1/resized_imgdata/25. 저인망 이동.jpg -> /home/elicer/FIshing_vessel-1/categorized_imgdata/이동/25. 저인망 이동.jpg\n",
      "이미지 이동 완료: /home/elicer/FIshing_vessel-1/resized_imgdata/25. 채낚기 표류.jpg -> /home/elicer/FIshing_vessel-1/categorized_imgdata/표류/25. 채낚기 표류.jpg\n",
      "이미지 이동 완료: /home/elicer/FIshing_vessel-1/resized_imgdata/25. 타망 이동.jpg -> /home/elicer/FIshing_vessel-1/categorized_imgdata/이동/25. 타망 이동.jpg\n",
      "이미지 이동 완료: /home/elicer/FIshing_vessel-1/resized_imgdata/25. 타망 조업.jpg -> /home/elicer/FIshing_vessel-1/categorized_imgdata/조업/25. 타망 조업.jpg\n",
      "이미지 이동 완료: /home/elicer/FIshing_vessel-1/resized_imgdata/25. 타망 표류.jpg -> /home/elicer/FIshing_vessel-1/categorized_imgdata/표류/25. 타망 표류.jpg\n",
      "이미지 이동 완료: /home/elicer/FIshing_vessel-1/resized_imgdata/251. 범장망 표류.jpg -> /home/elicer/FIshing_vessel-1/categorized_imgdata/표류/251. 범장망 표류.jpg\n",
      "이미지 이동 완료: /home/elicer/FIshing_vessel-1/resized_imgdata/250. 범장망 표류.jpg -> /home/elicer/FIshing_vessel-1/categorized_imgdata/표류/250. 범장망 표류.jpg\n",
      "이미지 이동 완료: /home/elicer/FIshing_vessel-1/resized_imgdata/252. 범장망 표류.jpg -> /home/elicer/FIshing_vessel-1/categorized_imgdata/표류/252. 범장망 표류.jpg\n",
      "이미지 이동 완료: /home/elicer/FIshing_vessel-1/resized_imgdata/253. 범장망 표류.jpg -> /home/elicer/FIshing_vessel-1/categorized_imgdata/표류/253. 범장망 표류.jpg\n",
      "이미지 이동 완료: /home/elicer/FIshing_vessel-1/resized_imgdata/254. 범장망 표류.jpg -> /home/elicer/FIshing_vessel-1/categorized_imgdata/표류/254. 범장망 표류.jpg\n",
      "이미지 이동 완료: /home/elicer/FIshing_vessel-1/resized_imgdata/255. 범장망 표류.jpg -> /home/elicer/FIshing_vessel-1/categorized_imgdata/표류/255. 범장망 표류.jpg\n",
      "이미지 이동 완료: /home/elicer/FIshing_vessel-1/resized_imgdata/256. 범장망 표류.jpg -> /home/elicer/FIshing_vessel-1/categorized_imgdata/표류/256. 범장망 표류.jpg\n",
      "이미지 이동 완료: /home/elicer/FIshing_vessel-1/resized_imgdata/257. 범장망 표류.jpg -> /home/elicer/FIshing_vessel-1/categorized_imgdata/표류/257. 범장망 표류.jpg\n",
      "이미지 이동 완료: /home/elicer/FIshing_vessel-1/resized_imgdata/258. 범장망 표류.jpg -> /home/elicer/FIshing_vessel-1/categorized_imgdata/표류/258. 범장망 표류.jpg\n",
      "이미지 이동 완료: /home/elicer/FIshing_vessel-1/resized_imgdata/259. 범장망 표류.jpg -> /home/elicer/FIshing_vessel-1/categorized_imgdata/표류/259. 범장망 표류.jpg\n",
      "이미지 이동 완료: /home/elicer/FIshing_vessel-1/resized_imgdata/26. 낚시어선 이동.jpg -> /home/elicer/FIshing_vessel-1/categorized_imgdata/이동/26. 낚시어선 이동.jpg\n",
      "이미지 이동 완료: /home/elicer/FIshing_vessel-1/resized_imgdata/26. 낚시어선 조업.jpg -> /home/elicer/FIshing_vessel-1/categorized_imgdata/조업/26. 낚시어선 조업.jpg\n",
      "이미지 이동 완료: /home/elicer/FIshing_vessel-1/resized_imgdata/26. 등광조망 이동.jpg -> /home/elicer/FIshing_vessel-1/categorized_imgdata/이동/26. 등광조망 이동.jpg\n",
      "이미지 이동 완료: /home/elicer/FIshing_vessel-1/resized_imgdata/26. 등광조망 조업.jpg -> /home/elicer/FIshing_vessel-1/categorized_imgdata/조업/26. 등광조망 조업.jpg\n",
      "이미지 이동 완료: /home/elicer/FIshing_vessel-1/resized_imgdata/26. 범장망 표류.jpg -> /home/elicer/FIshing_vessel-1/categorized_imgdata/표류/26. 범장망 표류.jpg\n",
      "이미지 이동 완료: /home/elicer/FIshing_vessel-1/resized_imgdata/26. 연승 이동.jpg -> /home/elicer/FIshing_vessel-1/categorized_imgdata/이동/26. 연승 이동.jpg\n",
      "이미지 이동 완료: /home/elicer/FIshing_vessel-1/resized_imgdata/26. 유망 이동.jpg -> /home/elicer/FIshing_vessel-1/categorized_imgdata/이동/26. 유망 이동.jpg\n",
      "이미지 이동 완료: /home/elicer/FIshing_vessel-1/resized_imgdata/26. 유망 조업.jpg -> /home/elicer/FIshing_vessel-1/categorized_imgdata/조업/26. 유망 조업.jpg\n",
      "이미지 이동 완료: /home/elicer/FIshing_vessel-1/resized_imgdata/26. 유망 표류.jpg -> /home/elicer/FIshing_vessel-1/categorized_imgdata/표류/26. 유망 표류.jpg\n",
      "이미지 이동 완료: /home/elicer/FIshing_vessel-1/resized_imgdata/26. 저인망 이동.jpg -> /home/elicer/FIshing_vessel-1/categorized_imgdata/이동/26. 저인망 이동.jpg\n",
      "이미지 이동 완료: /home/elicer/FIshing_vessel-1/resized_imgdata/26. 채낚기 표류.jpg -> /home/elicer/FIshing_vessel-1/categorized_imgdata/표류/26. 채낚기 표류.jpg\n",
      "이미지 이동 완료: /home/elicer/FIshing_vessel-1/resized_imgdata/26. 타망 이동.jpg -> /home/elicer/FIshing_vessel-1/categorized_imgdata/이동/26. 타망 이동.jpg\n",
      "이미지 이동 완료: /home/elicer/FIshing_vessel-1/resized_imgdata/26. 타망 조업.jpg -> /home/elicer/FIshing_vessel-1/categorized_imgdata/조업/26. 타망 조업.jpg\n",
      "이미지 이동 완료: /home/elicer/FIshing_vessel-1/resized_imgdata/26. 타망 표류.jpg -> /home/elicer/FIshing_vessel-1/categorized_imgdata/표류/26. 타망 표류.jpg\n",
      "이미지 이동 완료: /home/elicer/FIshing_vessel-1/resized_imgdata/26. 통발 이동.jpg -> /home/elicer/FIshing_vessel-1/categorized_imgdata/이동/26. 통발 이동.jpg\n",
      "이미지 이동 완료: /home/elicer/FIshing_vessel-1/resized_imgdata/262. 범장망 표류.png -> /home/elicer/FIshing_vessel-1/categorized_imgdata/표류/262. 범장망 표류.png\n",
      "이미지 이동 완료: /home/elicer/FIshing_vessel-1/resized_imgdata/263. 범장망 표류.png -> /home/elicer/FIshing_vessel-1/categorized_imgdata/표류/263. 범장망 표류.png\n",
      "이미지 이동 완료: /home/elicer/FIshing_vessel-1/resized_imgdata/260. 범장망 표류.jpg -> /home/elicer/FIshing_vessel-1/categorized_imgdata/표류/260. 범장망 표류.jpg\n",
      "이미지 이동 완료: /home/elicer/FIshing_vessel-1/resized_imgdata/261. 범장망 표류.jpg -> /home/elicer/FIshing_vessel-1/categorized_imgdata/표류/261. 범장망 표류.jpg\n",
      "이미지 이동 완료: /home/elicer/FIshing_vessel-1/resized_imgdata/264. 범장망 표류.jpg -> /home/elicer/FIshing_vessel-1/categorized_imgdata/표류/264. 범장망 표류.jpg\n",
      "이미지 이동 완료: /home/elicer/FIshing_vessel-1/resized_imgdata/265. 범장망 표류.jpg -> /home/elicer/FIshing_vessel-1/categorized_imgdata/표류/265. 범장망 표류.jpg\n",
      "이미지 이동 완료: /home/elicer/FIshing_vessel-1/resized_imgdata/266. 범장망 표류.jpg -> /home/elicer/FIshing_vessel-1/categorized_imgdata/표류/266. 범장망 표류.jpg\n",
      "이미지 이동 완료: /home/elicer/FIshing_vessel-1/resized_imgdata/267. 범장망 표류.jpg -> /home/elicer/FIshing_vessel-1/categorized_imgdata/표류/267. 범장망 표류.jpg\n",
      "이미지 이동 완료: /home/elicer/FIshing_vessel-1/resized_imgdata/268. 범장망 표류.jpg -> /home/elicer/FIshing_vessel-1/categorized_imgdata/표류/268. 범장망 표류.jpg\n",
      "이미지 이동 완료: /home/elicer/FIshing_vessel-1/resized_imgdata/269. 범장망 표류.jpg -> /home/elicer/FIshing_vessel-1/categorized_imgdata/표류/269. 범장망 표류.jpg\n",
      "이미지 이동 완료: /home/elicer/FIshing_vessel-1/resized_imgdata/27. 낚시어선 이동.jpg -> /home/elicer/FIshing_vessel-1/categorized_imgdata/이동/27. 낚시어선 이동.jpg\n",
      "이미지 이동 완료: /home/elicer/FIshing_vessel-1/resized_imgdata/27. 낚시어선 조업.jpg -> /home/elicer/FIshing_vessel-1/categorized_imgdata/조업/27. 낚시어선 조업.jpg\n",
      "이미지 이동 완료: /home/elicer/FIshing_vessel-1/resized_imgdata/27. 등광조망 이동.jpg -> /home/elicer/FIshing_vessel-1/categorized_imgdata/이동/27. 등광조망 이동.jpg\n",
      "이미지 이동 완료: /home/elicer/FIshing_vessel-1/resized_imgdata/27. 범장망 표류.jpg -> /home/elicer/FIshing_vessel-1/categorized_imgdata/표류/27. 범장망 표류.jpg\n",
      "이미지 이동 완료: /home/elicer/FIshing_vessel-1/resized_imgdata/27. 범장망 이동.jpg -> /home/elicer/FIshing_vessel-1/categorized_imgdata/이동/27. 범장망 이동.jpg\n",
      "이미지 이동 완료: /home/elicer/FIshing_vessel-1/resized_imgdata/27. 등광조망 조업.jpg -> /home/elicer/FIshing_vessel-1/categorized_imgdata/조업/27. 등광조망 조업.jpg\n",
      "이미지 이동 완료: /home/elicer/FIshing_vessel-1/resized_imgdata/27. 연승 이동.jpg -> /home/elicer/FIshing_vessel-1/categorized_imgdata/이동/27. 연승 이동.jpg\n",
      "이미지 이동 완료: /home/elicer/FIshing_vessel-1/resized_imgdata/27. 유망 이동.jpg -> /home/elicer/FIshing_vessel-1/categorized_imgdata/이동/27. 유망 이동.jpg\n",
      "이미지 이동 완료: /home/elicer/FIshing_vessel-1/resized_imgdata/27. 유망 조업.jpg -> /home/elicer/FIshing_vessel-1/categorized_imgdata/조업/27. 유망 조업.jpg\n",
      "이미지 이동 완료: /home/elicer/FIshing_vessel-1/resized_imgdata/27. 유망 표류.jpg -> /home/elicer/FIshing_vessel-1/categorized_imgdata/표류/27. 유망 표류.jpg\n",
      "이미지 이동 완료: /home/elicer/FIshing_vessel-1/resized_imgdata/27. 저인망 이동.jpg -> /home/elicer/FIshing_vessel-1/categorized_imgdata/이동/27. 저인망 이동.jpg\n",
      "이미지 이동 완료: /home/elicer/FIshing_vessel-1/resized_imgdata/27. 채낚기 표류.jpg -> /home/elicer/FIshing_vessel-1/categorized_imgdata/표류/27. 채낚기 표류.jpg\n",
      "이미지 이동 완료: /home/elicer/FIshing_vessel-1/resized_imgdata/27. 타망 이동.jpg -> /home/elicer/FIshing_vessel-1/categorized_imgdata/이동/27. 타망 이동.jpg\n",
      "이미지 이동 완료: /home/elicer/FIshing_vessel-1/resized_imgdata/27. 타망 조업.jpg -> /home/elicer/FIshing_vessel-1/categorized_imgdata/조업/27. 타망 조업.jpg\n",
      "이미지 이동 완료: /home/elicer/FIshing_vessel-1/resized_imgdata/27. 타망 표류.jpg -> /home/elicer/FIshing_vessel-1/categorized_imgdata/표류/27. 타망 표류.jpg\n",
      "이미지 이동 완료: /home/elicer/FIshing_vessel-1/resized_imgdata/27. 통발 이동.jpg -> /home/elicer/FIshing_vessel-1/categorized_imgdata/이동/27. 통발 이동.jpg\n",
      "이미지 이동 완료: /home/elicer/FIshing_vessel-1/resized_imgdata/270. 범장망 표류.jpg -> /home/elicer/FIshing_vessel-1/categorized_imgdata/표류/270. 범장망 표류.jpg\n",
      "이미지 이동 완료: /home/elicer/FIshing_vessel-1/resized_imgdata/271. 범장망 표류.jpg -> /home/elicer/FIshing_vessel-1/categorized_imgdata/표류/271. 범장망 표류.jpg\n",
      "이미지 이동 완료: /home/elicer/FIshing_vessel-1/resized_imgdata/272. 범장망 표류.jpg -> /home/elicer/FIshing_vessel-1/categorized_imgdata/표류/272. 범장망 표류.jpg\n",
      "이미지 이동 완료: /home/elicer/FIshing_vessel-1/resized_imgdata/273. 범장망 표류.jpg -> /home/elicer/FIshing_vessel-1/categorized_imgdata/표류/273. 범장망 표류.jpg\n",
      "이미지 이동 완료: /home/elicer/FIshing_vessel-1/resized_imgdata/274. 범장망 표류.jpg -> /home/elicer/FIshing_vessel-1/categorized_imgdata/표류/274. 범장망 표류.jpg\n",
      "이미지 이동 완료: /home/elicer/FIshing_vessel-1/resized_imgdata/275. 범장망 표류.jpg -> /home/elicer/FIshing_vessel-1/categorized_imgdata/표류/275. 범장망 표류.jpg\n",
      "이미지 이동 완료: /home/elicer/FIshing_vessel-1/resized_imgdata/276. 범장망 표류.jpg -> /home/elicer/FIshing_vessel-1/categorized_imgdata/표류/276. 범장망 표류.jpg\n",
      "이미지 이동 완료: /home/elicer/FIshing_vessel-1/resized_imgdata/278. 범장망 표류.jpg -> /home/elicer/FIshing_vessel-1/categorized_imgdata/표류/278. 범장망 표류.jpg\n",
      "이미지 이동 완료: /home/elicer/FIshing_vessel-1/resized_imgdata/277. 범장망 표류.jpg -> /home/elicer/FIshing_vessel-1/categorized_imgdata/표류/277. 범장망 표류.jpg\n",
      "이미지 이동 완료: /home/elicer/FIshing_vessel-1/resized_imgdata/279. 범장망 표류.jpg -> /home/elicer/FIshing_vessel-1/categorized_imgdata/표류/279. 범장망 표류.jpg\n",
      "이미지 이동 완료: /home/elicer/FIshing_vessel-1/resized_imgdata/28. 낚시어선 이동.jpg -> /home/elicer/FIshing_vessel-1/categorized_imgdata/이동/28. 낚시어선 이동.jpg\n",
      "이미지 이동 완료: /home/elicer/FIshing_vessel-1/resized_imgdata/28. 낚시어선 조업.jpg -> /home/elicer/FIshing_vessel-1/categorized_imgdata/조업/28. 낚시어선 조업.jpg\n",
      "이미지 이동 완료: /home/elicer/FIshing_vessel-1/resized_imgdata/28. 등광조망 이동.jpg -> /home/elicer/FIshing_vessel-1/categorized_imgdata/이동/28. 등광조망 이동.jpg\n",
      "이미지 이동 완료: /home/elicer/FIshing_vessel-1/resized_imgdata/28. 등광조망 조업.jpg -> /home/elicer/FIshing_vessel-1/categorized_imgdata/조업/28. 등광조망 조업.jpg\n",
      "이미지 이동 완료: /home/elicer/FIshing_vessel-1/resized_imgdata/28. 범장망 이동.jpg -> /home/elicer/FIshing_vessel-1/categorized_imgdata/이동/28. 범장망 이동.jpg\n",
      "이미지 이동 완료: /home/elicer/FIshing_vessel-1/resized_imgdata/28. 범장망 표류.jpg -> /home/elicer/FIshing_vessel-1/categorized_imgdata/표류/28. 범장망 표류.jpg\n",
      "이미지 이동 완료: /home/elicer/FIshing_vessel-1/resized_imgdata/28. 연승 이동.jpg -> /home/elicer/FIshing_vessel-1/categorized_imgdata/이동/28. 연승 이동.jpg\n",
      "이미지 이동 완료: /home/elicer/FIshing_vessel-1/resized_imgdata/28. 유망 이동.jpg -> /home/elicer/FIshing_vessel-1/categorized_imgdata/이동/28. 유망 이동.jpg\n",
      "이미지 이동 완료: /home/elicer/FIshing_vessel-1/resized_imgdata/28. 유망 표류.jpg -> /home/elicer/FIshing_vessel-1/categorized_imgdata/표류/28. 유망 표류.jpg\n",
      "이미지 이동 완료: /home/elicer/FIshing_vessel-1/resized_imgdata/28. 유망 조업.jpg -> /home/elicer/FIshing_vessel-1/categorized_imgdata/조업/28. 유망 조업.jpg\n",
      "이미지 이동 완료: /home/elicer/FIshing_vessel-1/resized_imgdata/28. 저인망 이동.jpg -> /home/elicer/FIshing_vessel-1/categorized_imgdata/이동/28. 저인망 이동.jpg\n",
      "이미지 이동 완료: /home/elicer/FIshing_vessel-1/resized_imgdata/28. 타망 이동.jpg -> /home/elicer/FIshing_vessel-1/categorized_imgdata/이동/28. 타망 이동.jpg\n",
      "이미지 이동 완료: /home/elicer/FIshing_vessel-1/resized_imgdata/28. 타망 조업.jpg -> /home/elicer/FIshing_vessel-1/categorized_imgdata/조업/28. 타망 조업.jpg\n",
      "이미지 이동 완료: /home/elicer/FIshing_vessel-1/resized_imgdata/28. 타망 표류.jpg -> /home/elicer/FIshing_vessel-1/categorized_imgdata/표류/28. 타망 표류.jpg\n",
      "이미지 이동 완료: /home/elicer/FIshing_vessel-1/resized_imgdata/28. 통발 이동.jpg -> /home/elicer/FIshing_vessel-1/categorized_imgdata/이동/28. 통발 이동.jpg\n",
      "이미지 이동 완료: /home/elicer/FIshing_vessel-1/resized_imgdata/280. 범장망 표류.jpg -> /home/elicer/FIshing_vessel-1/categorized_imgdata/표류/280. 범장망 표류.jpg\n",
      "이미지 이동 완료: /home/elicer/FIshing_vessel-1/resized_imgdata/281. 범장망 표류.jpg -> /home/elicer/FIshing_vessel-1/categorized_imgdata/표류/281. 범장망 표류.jpg\n",
      "이미지 이동 완료: /home/elicer/FIshing_vessel-1/resized_imgdata/282. 범장망 표류.jpg -> /home/elicer/FIshing_vessel-1/categorized_imgdata/표류/282. 범장망 표류.jpg\n",
      "이미지 이동 완료: /home/elicer/FIshing_vessel-1/resized_imgdata/283. 범장망 표류.jpg -> /home/elicer/FIshing_vessel-1/categorized_imgdata/표류/283. 범장망 표류.jpg\n",
      "이미지 이동 완료: /home/elicer/FIshing_vessel-1/resized_imgdata/284. 범장망 표류.jpg -> /home/elicer/FIshing_vessel-1/categorized_imgdata/표류/284. 범장망 표류.jpg\n",
      "이미지 이동 완료: /home/elicer/FIshing_vessel-1/resized_imgdata/285. 범장망 표류.jpg -> /home/elicer/FIshing_vessel-1/categorized_imgdata/표류/285. 범장망 표류.jpg\n",
      "이미지 이동 완료: /home/elicer/FIshing_vessel-1/resized_imgdata/286. 범장망 표류.jpg -> /home/elicer/FIshing_vessel-1/categorized_imgdata/표류/286. 범장망 표류.jpg\n",
      "이미지 이동 완료: /home/elicer/FIshing_vessel-1/resized_imgdata/287. 범장망 표류.jpg -> /home/elicer/FIshing_vessel-1/categorized_imgdata/표류/287. 범장망 표류.jpg\n",
      "이미지 이동 완료: /home/elicer/FIshing_vessel-1/resized_imgdata/289. 범장망 표류.jpg -> /home/elicer/FIshing_vessel-1/categorized_imgdata/표류/289. 범장망 표류.jpg\n",
      "이미지 이동 완료: /home/elicer/FIshing_vessel-1/resized_imgdata/29. 낚시어선 이동.jpg -> /home/elicer/FIshing_vessel-1/categorized_imgdata/이동/29. 낚시어선 이동.jpg\n",
      "이미지 이동 완료: /home/elicer/FIshing_vessel-1/resized_imgdata/4. 유망 표류.jpg -> /home/elicer/FIshing_vessel-1/categorized_imgdata/표류/4. 유망 표류.jpg\n",
      "이미지 이동 완료: /home/elicer/FIshing_vessel-1/resized_imgdata/29. 낚시어선 조업.jpg -> /home/elicer/FIshing_vessel-1/categorized_imgdata/조업/29. 낚시어선 조업.jpg\n",
      "이미지 이동 완료: /home/elicer/FIshing_vessel-1/resized_imgdata/29. 등광조망 이동.jpg -> /home/elicer/FIshing_vessel-1/categorized_imgdata/이동/29. 등광조망 이동.jpg\n",
      "이미지 이동 완료: /home/elicer/FIshing_vessel-1/resized_imgdata/29. 범장망 이동.jpg -> /home/elicer/FIshing_vessel-1/categorized_imgdata/이동/29. 범장망 이동.jpg\n",
      "이미지 이동 완료: /home/elicer/FIshing_vessel-1/resized_imgdata/29. 등광조망 조업.jpg -> /home/elicer/FIshing_vessel-1/categorized_imgdata/조업/29. 등광조망 조업.jpg\n",
      "이미지 이동 완료: /home/elicer/FIshing_vessel-1/resized_imgdata/29. 범장망 표류.jpg -> /home/elicer/FIshing_vessel-1/categorized_imgdata/표류/29. 범장망 표류.jpg\n",
      "이미지 이동 완료: /home/elicer/FIshing_vessel-1/resized_imgdata/29. 연승 이동.jpg -> /home/elicer/FIshing_vessel-1/categorized_imgdata/이동/29. 연승 이동.jpg\n",
      "이미지 이동 완료: /home/elicer/FIshing_vessel-1/resized_imgdata/29. 유망 이동.jpg -> /home/elicer/FIshing_vessel-1/categorized_imgdata/이동/29. 유망 이동.jpg\n",
      "이미지 이동 완료: /home/elicer/FIshing_vessel-1/resized_imgdata/29. 유망 조업.jpg -> /home/elicer/FIshing_vessel-1/categorized_imgdata/조업/29. 유망 조업.jpg\n",
      "이미지 이동 완료: /home/elicer/FIshing_vessel-1/resized_imgdata/29. 유망 표류.jpg -> /home/elicer/FIshing_vessel-1/categorized_imgdata/표류/29. 유망 표류.jpg\n",
      "이미지 이동 완료: /home/elicer/FIshing_vessel-1/resized_imgdata/29. 저인망 이동.jpg -> /home/elicer/FIshing_vessel-1/categorized_imgdata/이동/29. 저인망 이동.jpg\n",
      "이미지 이동 완료: /home/elicer/FIshing_vessel-1/resized_imgdata/29. 채낚기 표류.jpg -> /home/elicer/FIshing_vessel-1/categorized_imgdata/표류/29. 채낚기 표류.jpg\n",
      "이미지 이동 완료: /home/elicer/FIshing_vessel-1/resized_imgdata/29. 타망 이동.jpg -> /home/elicer/FIshing_vessel-1/categorized_imgdata/이동/29. 타망 이동.jpg\n",
      "이미지 이동 완료: /home/elicer/FIshing_vessel-1/resized_imgdata/29. 타망 조업.jpg -> /home/elicer/FIshing_vessel-1/categorized_imgdata/조업/29. 타망 조업.jpg\n",
      "이미지 이동 완료: /home/elicer/FIshing_vessel-1/resized_imgdata/290. 범장망 표류.jpg -> /home/elicer/FIshing_vessel-1/categorized_imgdata/표류/290. 범장망 표류.jpg\n",
      "이미지 이동 완료: /home/elicer/FIshing_vessel-1/resized_imgdata/29. 통발 이동.jpg -> /home/elicer/FIshing_vessel-1/categorized_imgdata/이동/29. 통발 이동.jpg\n",
      "이미지 이동 완료: /home/elicer/FIshing_vessel-1/resized_imgdata/29. 타망 표류.jpg -> /home/elicer/FIshing_vessel-1/categorized_imgdata/표류/29. 타망 표류.jpg\n",
      "이미지 이동 완료: /home/elicer/FIshing_vessel-1/resized_imgdata/291. 범장망 표류.jpg -> /home/elicer/FIshing_vessel-1/categorized_imgdata/표류/291. 범장망 표류.jpg\n",
      "이미지 이동 완료: /home/elicer/FIshing_vessel-1/resized_imgdata/292. 범장망 표류.jpg -> /home/elicer/FIshing_vessel-1/categorized_imgdata/표류/292. 범장망 표류.jpg\n",
      "이미지 이동 완료: /home/elicer/FIshing_vessel-1/resized_imgdata/293. 범장망 표류.jpg -> /home/elicer/FIshing_vessel-1/categorized_imgdata/표류/293. 범장망 표류.jpg\n",
      "이미지 이동 완료: /home/elicer/FIshing_vessel-1/resized_imgdata/294. 범장망 표류.jpg -> /home/elicer/FIshing_vessel-1/categorized_imgdata/표류/294. 범장망 표류.jpg\n",
      "이미지 이동 완료: /home/elicer/FIshing_vessel-1/resized_imgdata/295. 범장망 표류.jpg -> /home/elicer/FIshing_vessel-1/categorized_imgdata/표류/295. 범장망 표류.jpg\n",
      "이미지 이동 완료: /home/elicer/FIshing_vessel-1/resized_imgdata/296. 범장망 표류.jpg -> /home/elicer/FIshing_vessel-1/categorized_imgdata/표류/296. 범장망 표류.jpg\n",
      "이미지 이동 완료: /home/elicer/FIshing_vessel-1/resized_imgdata/297. 범장망 표류.jpg -> /home/elicer/FIshing_vessel-1/categorized_imgdata/표류/297. 범장망 표류.jpg\n",
      "이미지 이동 완료: /home/elicer/FIshing_vessel-1/resized_imgdata/298. 범장망 표류.jpg -> /home/elicer/FIshing_vessel-1/categorized_imgdata/표류/298. 범장망 표류.jpg\n",
      "이미지 이동 완료: /home/elicer/FIshing_vessel-1/resized_imgdata/3. 낚시어선 이동.jpg -> /home/elicer/FIshing_vessel-1/categorized_imgdata/이동/3. 낚시어선 이동.jpg\n",
      "이미지 이동 완료: /home/elicer/FIshing_vessel-1/resized_imgdata/299. 범장망 표류.jpg -> /home/elicer/FIshing_vessel-1/categorized_imgdata/표류/299. 범장망 표류.jpg\n",
      "이미지 이동 완료: /home/elicer/FIshing_vessel-1/resized_imgdata/3. 낚시어선 표류.jpg -> /home/elicer/FIshing_vessel-1/categorized_imgdata/표류/3. 낚시어선 표류.jpg\n",
      "이미지 이동 완료: /home/elicer/FIshing_vessel-1/resized_imgdata/3. 등광조망 이동.jpg -> /home/elicer/FIshing_vessel-1/categorized_imgdata/이동/3. 등광조망 이동.jpg\n",
      "이미지 이동 완료: /home/elicer/FIshing_vessel-1/resized_imgdata/3. 등광조망 표류.jpg -> /home/elicer/FIshing_vessel-1/categorized_imgdata/표류/3. 등광조망 표류.jpg\n",
      "이미지 이동 완료: /home/elicer/FIshing_vessel-1/resized_imgdata/3. 등광조망 조업.jpg -> /home/elicer/FIshing_vessel-1/categorized_imgdata/조업/3. 등광조망 조업.jpg\n",
      "이미지 이동 완료: /home/elicer/FIshing_vessel-1/resized_imgdata/3. 범장망 이동.jpg -> /home/elicer/FIshing_vessel-1/categorized_imgdata/이동/3. 범장망 이동.jpg\n",
      "이미지 이동 완료: /home/elicer/FIshing_vessel-1/resized_imgdata/3. 범장망 표류.jpg -> /home/elicer/FIshing_vessel-1/categorized_imgdata/표류/3. 범장망 표류.jpg\n",
      "이미지 이동 완료: /home/elicer/FIshing_vessel-1/resized_imgdata/3. 범장망 조업.jpg -> /home/elicer/FIshing_vessel-1/categorized_imgdata/조업/3. 범장망 조업.jpg\n",
      "이미지 이동 완료: /home/elicer/FIshing_vessel-1/resized_imgdata/3. 안강망 이동.jpg -> /home/elicer/FIshing_vessel-1/categorized_imgdata/이동/3. 안강망 이동.jpg\n",
      "이미지 이동 완료: /home/elicer/FIshing_vessel-1/resized_imgdata/3. 안강망 조업.jpg -> /home/elicer/FIshing_vessel-1/categorized_imgdata/조업/3. 안강망 조업.jpg\n",
      "이미지 이동 완료: /home/elicer/FIshing_vessel-1/resized_imgdata/3. 안강망 표류.jpg -> /home/elicer/FIshing_vessel-1/categorized_imgdata/표류/3. 안강망 표류.jpg\n",
      "이미지 이동 완료: /home/elicer/FIshing_vessel-1/resized_imgdata/3. 유망 이동.jpg -> /home/elicer/FIshing_vessel-1/categorized_imgdata/이동/3. 유망 이동.jpg\n",
      "이미지 이동 완료: /home/elicer/FIshing_vessel-1/resized_imgdata/3. 연승 이동.jpg -> /home/elicer/FIshing_vessel-1/categorized_imgdata/이동/3. 연승 이동.jpg\n",
      "이미지 이동 완료: /home/elicer/FIshing_vessel-1/resized_imgdata/3. 유망 조업.jpg -> /home/elicer/FIshing_vessel-1/categorized_imgdata/조업/3. 유망 조업.jpg\n",
      "이미지 이동 완료: /home/elicer/FIshing_vessel-1/resized_imgdata/3. 유망 표류.jpg -> /home/elicer/FIshing_vessel-1/categorized_imgdata/표류/3. 유망 표류.jpg\n",
      "이미지 이동 완료: /home/elicer/FIshing_vessel-1/resized_imgdata/3. 저인망 이동.jpg -> /home/elicer/FIshing_vessel-1/categorized_imgdata/이동/3. 저인망 이동.jpg\n",
      "이미지 이동 완료: /home/elicer/FIshing_vessel-1/resized_imgdata/3. 저인망 조업.jpg -> /home/elicer/FIshing_vessel-1/categorized_imgdata/조업/3. 저인망 조업.jpg\n",
      "이미지 이동 완료: /home/elicer/FIshing_vessel-1/resized_imgdata/3. 저인망 표류.jpg -> /home/elicer/FIshing_vessel-1/categorized_imgdata/표류/3. 저인망 표류.jpg\n",
      "이미지 이동 완료: /home/elicer/FIshing_vessel-1/resized_imgdata/3. 채낚기  표류.jpg -> /home/elicer/FIshing_vessel-1/categorized_imgdata/표류/3. 채낚기  표류.jpg\n",
      "이미지 이동 완료: /home/elicer/FIshing_vessel-1/resized_imgdata/3. 타망 이동.jpg -> /home/elicer/FIshing_vessel-1/categorized_imgdata/이동/3. 타망 이동.jpg\n",
      "이미지 이동 완료: /home/elicer/FIshing_vessel-1/resized_imgdata/3. 채낚기 조업.jpg -> /home/elicer/FIshing_vessel-1/categorized_imgdata/조업/3. 채낚기 조업.jpg\n",
      "이미지 이동 완료: /home/elicer/FIshing_vessel-1/resized_imgdata/3. 타망 조업.jpg -> /home/elicer/FIshing_vessel-1/categorized_imgdata/조업/3. 타망 조업.jpg\n",
      "이미지 이동 완료: /home/elicer/FIshing_vessel-1/resized_imgdata/3. 타망 표류.jpg -> /home/elicer/FIshing_vessel-1/categorized_imgdata/표류/3. 타망 표류.jpg\n",
      "이미지 이동 완료: /home/elicer/FIshing_vessel-1/resized_imgdata/3. 통발 이동.jpg -> /home/elicer/FIshing_vessel-1/categorized_imgdata/이동/3. 통발 이동.jpg\n",
      "이미지 이동 완료: /home/elicer/FIshing_vessel-1/resized_imgdata/3. 통발 표류.jpg -> /home/elicer/FIshing_vessel-1/categorized_imgdata/표류/3. 통발 표류.jpg\n",
      "이미지 이동 완료: /home/elicer/FIshing_vessel-1/resized_imgdata/30. 낚시어선 이동.jpg -> /home/elicer/FIshing_vessel-1/categorized_imgdata/이동/30. 낚시어선 이동.jpg\n",
      "이미지 이동 완료: /home/elicer/FIshing_vessel-1/resized_imgdata/30. 낚시어선 조업.jpg -> /home/elicer/FIshing_vessel-1/categorized_imgdata/조업/30. 낚시어선 조업.jpg\n",
      "이미지 이동 완료: /home/elicer/FIshing_vessel-1/resized_imgdata/30. 등광조망 이동.jpg -> /home/elicer/FIshing_vessel-1/categorized_imgdata/이동/30. 등광조망 이동.jpg\n",
      "이미지 이동 완료: /home/elicer/FIshing_vessel-1/resized_imgdata/30. 범장망 이동.jpg -> /home/elicer/FIshing_vessel-1/categorized_imgdata/이동/30. 범장망 이동.jpg\n",
      "이미지 이동 완료: /home/elicer/FIshing_vessel-1/resized_imgdata/30. 등광조망 조업.jpg -> /home/elicer/FIshing_vessel-1/categorized_imgdata/조업/30. 등광조망 조업.jpg\n",
      "이미지 이동 완료: /home/elicer/FIshing_vessel-1/resized_imgdata/30. 범장망 표류.jpg -> /home/elicer/FIshing_vessel-1/categorized_imgdata/표류/30. 범장망 표류.jpg\n",
      "이미지 이동 완료: /home/elicer/FIshing_vessel-1/resized_imgdata/30. 연승 이동.jpg -> /home/elicer/FIshing_vessel-1/categorized_imgdata/이동/30. 연승 이동.jpg\n",
      "이미지 이동 완료: /home/elicer/FIshing_vessel-1/resized_imgdata/30. 유망 이동.jpg -> /home/elicer/FIshing_vessel-1/categorized_imgdata/이동/30. 유망 이동.jpg\n",
      "이미지 이동 완료: /home/elicer/FIshing_vessel-1/resized_imgdata/30. 유망 조업.jpg -> /home/elicer/FIshing_vessel-1/categorized_imgdata/조업/30. 유망 조업.jpg\n",
      "이미지 이동 완료: /home/elicer/FIshing_vessel-1/resized_imgdata/30. 유망 표류.jpg -> /home/elicer/FIshing_vessel-1/categorized_imgdata/표류/30. 유망 표류.jpg\n",
      "이미지 이동 완료: /home/elicer/FIshing_vessel-1/resized_imgdata/30. 저인망 이동.jpg -> /home/elicer/FIshing_vessel-1/categorized_imgdata/이동/30. 저인망 이동.jpg\n",
      "이미지 이동 완료: /home/elicer/FIshing_vessel-1/resized_imgdata/30. 채낚기 표류.jpg -> /home/elicer/FIshing_vessel-1/categorized_imgdata/표류/30. 채낚기 표류.jpg\n",
      "이미지 이동 완료: /home/elicer/FIshing_vessel-1/resized_imgdata/30. 타망 이동.jpg -> /home/elicer/FIshing_vessel-1/categorized_imgdata/이동/30. 타망 이동.jpg\n",
      "이미지 이동 완료: /home/elicer/FIshing_vessel-1/resized_imgdata/30. 타망 표류.jpg -> /home/elicer/FIshing_vessel-1/categorized_imgdata/표류/30. 타망 표류.jpg\n",
      "이미지 이동 완료: /home/elicer/FIshing_vessel-1/resized_imgdata/30. 타망 조업.jpg -> /home/elicer/FIshing_vessel-1/categorized_imgdata/조업/30. 타망 조업.jpg\n",
      "이미지 이동 완료: /home/elicer/FIshing_vessel-1/resized_imgdata/30. 통발 이동.jpg -> /home/elicer/FIshing_vessel-1/categorized_imgdata/이동/30. 통발 이동.jpg\n",
      "이미지 이동 완료: /home/elicer/FIshing_vessel-1/resized_imgdata/300. 범장망 표류.jpg -> /home/elicer/FIshing_vessel-1/categorized_imgdata/표류/300. 범장망 표류.jpg\n",
      "이미지 이동 완료: /home/elicer/FIshing_vessel-1/resized_imgdata/301. 범장망 표류.jpg -> /home/elicer/FIshing_vessel-1/categorized_imgdata/표류/301. 범장망 표류.jpg\n",
      "이미지 이동 완료: /home/elicer/FIshing_vessel-1/resized_imgdata/302. 범장망 표류.jpg -> /home/elicer/FIshing_vessel-1/categorized_imgdata/표류/302. 범장망 표류.jpg\n",
      "이미지 이동 완료: /home/elicer/FIshing_vessel-1/resized_imgdata/303. 범장망 표류.jpg -> /home/elicer/FIshing_vessel-1/categorized_imgdata/표류/303. 범장망 표류.jpg\n",
      "이미지 이동 완료: /home/elicer/FIshing_vessel-1/resized_imgdata/304. 범장망 표류.jpg -> /home/elicer/FIshing_vessel-1/categorized_imgdata/표류/304. 범장망 표류.jpg\n",
      "이미지 이동 완료: /home/elicer/FIshing_vessel-1/resized_imgdata/305. 범장망 표류.jpg -> /home/elicer/FIshing_vessel-1/categorized_imgdata/표류/305. 범장망 표류.jpg\n",
      "이미지 이동 완료: /home/elicer/FIshing_vessel-1/resized_imgdata/306. 범장망 표류.jpg -> /home/elicer/FIshing_vessel-1/categorized_imgdata/표류/306. 범장망 표류.jpg\n",
      "이미지 이동 완료: /home/elicer/FIshing_vessel-1/resized_imgdata/31. 낚시어선 이동.jpg -> /home/elicer/FIshing_vessel-1/categorized_imgdata/이동/31. 낚시어선 이동.jpg\n",
      "이미지 이동 완료: /home/elicer/FIshing_vessel-1/resized_imgdata/31. 낚시어선 조업.jpg -> /home/elicer/FIshing_vessel-1/categorized_imgdata/조업/31. 낚시어선 조업.jpg\n",
      "이미지 이동 완료: /home/elicer/FIshing_vessel-1/resized_imgdata/31. 등광조망 조업.jpg -> /home/elicer/FIshing_vessel-1/categorized_imgdata/조업/31. 등광조망 조업.jpg\n",
      "이미지 이동 완료: /home/elicer/FIshing_vessel-1/resized_imgdata/31. 범장망 이동.jpg -> /home/elicer/FIshing_vessel-1/categorized_imgdata/이동/31. 범장망 이동.jpg\n",
      "이미지 이동 완료: /home/elicer/FIshing_vessel-1/resized_imgdata/31. 범장망 표류.jpg -> /home/elicer/FIshing_vessel-1/categorized_imgdata/표류/31. 범장망 표류.jpg\n",
      "이미지 이동 완료: /home/elicer/FIshing_vessel-1/resized_imgdata/31. 유망 이동.jpg -> /home/elicer/FIshing_vessel-1/categorized_imgdata/이동/31. 유망 이동.jpg\n",
      "이미지 이동 완료: /home/elicer/FIshing_vessel-1/resized_imgdata/31. 연승 이동.jpg -> /home/elicer/FIshing_vessel-1/categorized_imgdata/이동/31. 연승 이동.jpg\n",
      "이미지 이동 완료: /home/elicer/FIshing_vessel-1/resized_imgdata/31. 유망 조업.jpg -> /home/elicer/FIshing_vessel-1/categorized_imgdata/조업/31. 유망 조업.jpg\n",
      "이미지 이동 완료: /home/elicer/FIshing_vessel-1/resized_imgdata/31. 유망 표류.jpg -> /home/elicer/FIshing_vessel-1/categorized_imgdata/표류/31. 유망 표류.jpg\n",
      "이미지 이동 완료: /home/elicer/FIshing_vessel-1/resized_imgdata/31. 저인망 이동.jpg -> /home/elicer/FIshing_vessel-1/categorized_imgdata/이동/31. 저인망 이동.jpg\n",
      "이미지 이동 완료: /home/elicer/FIshing_vessel-1/resized_imgdata/31. 타망 조업.jpg -> /home/elicer/FIshing_vessel-1/categorized_imgdata/조업/31. 타망 조업.jpg\n",
      "이미지 이동 완료: /home/elicer/FIshing_vessel-1/resized_imgdata/31. 채낚기 표류.jpg -> /home/elicer/FIshing_vessel-1/categorized_imgdata/표류/31. 채낚기 표류.jpg\n",
      "이미지 이동 완료: /home/elicer/FIshing_vessel-1/resized_imgdata/31. 타망 이동.jpg -> /home/elicer/FIshing_vessel-1/categorized_imgdata/이동/31. 타망 이동.jpg\n",
      "이미지 이동 완료: /home/elicer/FIshing_vessel-1/resized_imgdata/31. 타망 표류.jpg -> /home/elicer/FIshing_vessel-1/categorized_imgdata/표류/31. 타망 표류.jpg\n",
      "이미지 이동 완료: /home/elicer/FIshing_vessel-1/resized_imgdata/31. 통발 이동.jpg -> /home/elicer/FIshing_vessel-1/categorized_imgdata/이동/31. 통발 이동.jpg\n",
      "이미지 이동 완료: /home/elicer/FIshing_vessel-1/resized_imgdata/32. 낚시어선 이동.jpg -> /home/elicer/FIshing_vessel-1/categorized_imgdata/이동/32. 낚시어선 이동.jpg\n",
      "이미지 이동 완료: /home/elicer/FIshing_vessel-1/resized_imgdata/32. 낚시어선 조업.jpg -> /home/elicer/FIshing_vessel-1/categorized_imgdata/조업/32. 낚시어선 조업.jpg\n",
      "이미지 이동 완료: /home/elicer/FIshing_vessel-1/resized_imgdata/32. 등광조망 조업.jpg -> /home/elicer/FIshing_vessel-1/categorized_imgdata/조업/32. 등광조망 조업.jpg\n",
      "이미지 이동 완료: /home/elicer/FIshing_vessel-1/resized_imgdata/32. 범장망 이동.jpg -> /home/elicer/FIshing_vessel-1/categorized_imgdata/이동/32. 범장망 이동.jpg\n",
      "이미지 이동 완료: /home/elicer/FIshing_vessel-1/resized_imgdata/32. 범장망 표류.jpg -> /home/elicer/FIshing_vessel-1/categorized_imgdata/표류/32. 범장망 표류.jpg\n",
      "이미지 이동 완료: /home/elicer/FIshing_vessel-1/resized_imgdata/32. 연승 이동.jpg -> /home/elicer/FIshing_vessel-1/categorized_imgdata/이동/32. 연승 이동.jpg\n",
      "이미지 이동 완료: /home/elicer/FIshing_vessel-1/resized_imgdata/32. 유망 조업.jpg -> /home/elicer/FIshing_vessel-1/categorized_imgdata/조업/32. 유망 조업.jpg\n",
      "이미지 이동 완료: /home/elicer/FIshing_vessel-1/resized_imgdata/32. 저인망 이동.jpg -> /home/elicer/FIshing_vessel-1/categorized_imgdata/이동/32. 저인망 이동.jpg\n",
      "이미지 이동 완료: /home/elicer/FIshing_vessel-1/resized_imgdata/32. 유망 표류.jpg -> /home/elicer/FIshing_vessel-1/categorized_imgdata/표류/32. 유망 표류.jpg\n",
      "이미지 이동 완료: /home/elicer/FIshing_vessel-1/resized_imgdata/32. 채낚기 표류.jpg -> /home/elicer/FIshing_vessel-1/categorized_imgdata/표류/32. 채낚기 표류.jpg\n",
      "이미지 이동 완료: /home/elicer/FIshing_vessel-1/resized_imgdata/32. 타망 이동.jpg -> /home/elicer/FIshing_vessel-1/categorized_imgdata/이동/32. 타망 이동.jpg\n",
      "이미지 이동 완료: /home/elicer/FIshing_vessel-1/resized_imgdata/32. 타망 조업.jpg -> /home/elicer/FIshing_vessel-1/categorized_imgdata/조업/32. 타망 조업.jpg\n",
      "이미지 이동 완료: /home/elicer/FIshing_vessel-1/resized_imgdata/32. 타망 표류.jpg -> /home/elicer/FIshing_vessel-1/categorized_imgdata/표류/32. 타망 표류.jpg\n",
      "이미지 이동 완료: /home/elicer/FIshing_vessel-1/resized_imgdata/32. 통발 이동.jpg -> /home/elicer/FIshing_vessel-1/categorized_imgdata/이동/32. 통발 이동.jpg\n",
      "이미지 이동 완료: /home/elicer/FIshing_vessel-1/resized_imgdata/33. 낚시어선 이동.jpg -> /home/elicer/FIshing_vessel-1/categorized_imgdata/이동/33. 낚시어선 이동.jpg\n",
      "이미지 이동 완료: /home/elicer/FIshing_vessel-1/resized_imgdata/33. 낚시어선 조업.jpg -> /home/elicer/FIshing_vessel-1/categorized_imgdata/조업/33. 낚시어선 조업.jpg\n",
      "이미지 이동 완료: /home/elicer/FIshing_vessel-1/resized_imgdata/33. 등광조망 조업.jpg -> /home/elicer/FIshing_vessel-1/categorized_imgdata/조업/33. 등광조망 조업.jpg\n",
      "이미지 이동 완료: /home/elicer/FIshing_vessel-1/resized_imgdata/33. 범장망 이동.jpg -> /home/elicer/FIshing_vessel-1/categorized_imgdata/이동/33. 범장망 이동.jpg\n",
      "이미지 이동 완료: /home/elicer/FIshing_vessel-1/resized_imgdata/33. 범장망 표류.jpg -> /home/elicer/FIshing_vessel-1/categorized_imgdata/표류/33. 범장망 표류.jpg\n",
      "이미지 이동 완료: /home/elicer/FIshing_vessel-1/resized_imgdata/33. 연승 이동.jpg -> /home/elicer/FIshing_vessel-1/categorized_imgdata/이동/33. 연승 이동.jpg\n",
      "이미지 이동 완료: /home/elicer/FIshing_vessel-1/resized_imgdata/33. 유망 이동.jpg -> /home/elicer/FIshing_vessel-1/categorized_imgdata/이동/33. 유망 이동.jpg\n",
      "이미지 이동 완료: /home/elicer/FIshing_vessel-1/resized_imgdata/33. 유망 조업.jpg -> /home/elicer/FIshing_vessel-1/categorized_imgdata/조업/33. 유망 조업.jpg\n",
      "이미지 이동 완료: /home/elicer/FIshing_vessel-1/resized_imgdata/33. 유망 표류.jpg -> /home/elicer/FIshing_vessel-1/categorized_imgdata/표류/33. 유망 표류.jpg\n",
      "이미지 이동 완료: /home/elicer/FIshing_vessel-1/resized_imgdata/33. 저인망 이동.jpg -> /home/elicer/FIshing_vessel-1/categorized_imgdata/이동/33. 저인망 이동.jpg\n",
      "이미지 이동 완료: /home/elicer/FIshing_vessel-1/resized_imgdata/33. 채낚기 표류.jpg -> /home/elicer/FIshing_vessel-1/categorized_imgdata/표류/33. 채낚기 표류.jpg\n",
      "이미지 이동 완료: /home/elicer/FIshing_vessel-1/resized_imgdata/33. 타망 이동.jpg -> /home/elicer/FIshing_vessel-1/categorized_imgdata/이동/33. 타망 이동.jpg\n",
      "이미지 이동 완료: /home/elicer/FIshing_vessel-1/resized_imgdata/33. 타망 조업.jpg -> /home/elicer/FIshing_vessel-1/categorized_imgdata/조업/33. 타망 조업.jpg\n",
      "이미지 이동 완료: /home/elicer/FIshing_vessel-1/resized_imgdata/33. 타망 표류.jpg -> /home/elicer/FIshing_vessel-1/categorized_imgdata/표류/33. 타망 표류.jpg\n",
      "이미지 이동 완료: /home/elicer/FIshing_vessel-1/resized_imgdata/33. 통발 이동.jpg -> /home/elicer/FIshing_vessel-1/categorized_imgdata/이동/33. 통발 이동.jpg\n",
      "이미지 이동 완료: /home/elicer/FIshing_vessel-1/resized_imgdata/34. 낚시어선 조업.jpg -> /home/elicer/FIshing_vessel-1/categorized_imgdata/조업/34. 낚시어선 조업.jpg\n",
      "이미지 이동 완료: /home/elicer/FIshing_vessel-1/resized_imgdata/34. 범장망 이동.jpg -> /home/elicer/FIshing_vessel-1/categorized_imgdata/이동/34. 범장망 이동.jpg\n",
      "이미지 이동 완료: /home/elicer/FIshing_vessel-1/resized_imgdata/34. 범장망 표류.jpg -> /home/elicer/FIshing_vessel-1/categorized_imgdata/표류/34. 범장망 표류.jpg\n",
      "이미지 이동 완료: /home/elicer/FIshing_vessel-1/resized_imgdata/34. 유망 이동.jpg -> /home/elicer/FIshing_vessel-1/categorized_imgdata/이동/34. 유망 이동.jpg\n",
      "이미지 이동 완료: /home/elicer/FIshing_vessel-1/resized_imgdata/34. 연승 이동.jpg -> /home/elicer/FIshing_vessel-1/categorized_imgdata/이동/34. 연승 이동.jpg\n",
      "이미지 이동 완료: /home/elicer/FIshing_vessel-1/resized_imgdata/34. 유망 표류.jpg -> /home/elicer/FIshing_vessel-1/categorized_imgdata/표류/34. 유망 표류.jpg\n",
      "이미지 이동 완료: /home/elicer/FIshing_vessel-1/resized_imgdata/34. 저인망 이동.jpg -> /home/elicer/FIshing_vessel-1/categorized_imgdata/이동/34. 저인망 이동.jpg\n",
      "이미지 이동 완료: /home/elicer/FIshing_vessel-1/resized_imgdata/34. 채낚기 표류.jpg -> /home/elicer/FIshing_vessel-1/categorized_imgdata/표류/34. 채낚기 표류.jpg\n",
      "이미지 이동 완료: /home/elicer/FIshing_vessel-1/resized_imgdata/34. 타망 이동.jpg -> /home/elicer/FIshing_vessel-1/categorized_imgdata/이동/34. 타망 이동.jpg\n",
      "이미지 이동 완료: /home/elicer/FIshing_vessel-1/resized_imgdata/34. 타망 조업.jpg -> /home/elicer/FIshing_vessel-1/categorized_imgdata/조업/34. 타망 조업.jpg\n",
      "이미지 이동 완료: /home/elicer/FIshing_vessel-1/resized_imgdata/34. 통발 이동.jpg -> /home/elicer/FIshing_vessel-1/categorized_imgdata/이동/34. 통발 이동.jpg\n",
      "이미지 이동 완료: /home/elicer/FIshing_vessel-1/resized_imgdata/35. 낚시어선 조업.jpg -> /home/elicer/FIshing_vessel-1/categorized_imgdata/조업/35. 낚시어선 조업.jpg\n",
      "이미지 이동 완료: /home/elicer/FIshing_vessel-1/resized_imgdata/35. 등광조망 조업.jpg -> /home/elicer/FIshing_vessel-1/categorized_imgdata/조업/35. 등광조망 조업.jpg\n",
      "이미지 이동 완료: /home/elicer/FIshing_vessel-1/resized_imgdata/35. 범장망 이동.jpg -> /home/elicer/FIshing_vessel-1/categorized_imgdata/이동/35. 범장망 이동.jpg\n",
      "이미지 이동 완료: /home/elicer/FIshing_vessel-1/resized_imgdata/35. 범장망 표류.jpg -> /home/elicer/FIshing_vessel-1/categorized_imgdata/표류/35. 범장망 표류.jpg\n",
      "이미지 이동 완료: /home/elicer/FIshing_vessel-1/resized_imgdata/35. 유망 이동.jpg -> /home/elicer/FIshing_vessel-1/categorized_imgdata/이동/35. 유망 이동.jpg\n",
      "이미지 이동 완료: /home/elicer/FIshing_vessel-1/resized_imgdata/35. 유망 표류.jpg -> /home/elicer/FIshing_vessel-1/categorized_imgdata/표류/35. 유망 표류.jpg\n",
      "이미지 이동 완료: /home/elicer/FIshing_vessel-1/resized_imgdata/35. 저인망 이동.jpg -> /home/elicer/FIshing_vessel-1/categorized_imgdata/이동/35. 저인망 이동.jpg\n",
      "이미지 이동 완료: /home/elicer/FIshing_vessel-1/resized_imgdata/35. 타망 이동.jpg -> /home/elicer/FIshing_vessel-1/categorized_imgdata/이동/35. 타망 이동.jpg\n",
      "이미지 이동 완료: /home/elicer/FIshing_vessel-1/resized_imgdata/35. 타망 표류.jpg -> /home/elicer/FIshing_vessel-1/categorized_imgdata/표류/35. 타망 표류.jpg\n",
      "이미지 이동 완료: /home/elicer/FIshing_vessel-1/resized_imgdata/35. 타망 조업.jpg -> /home/elicer/FIshing_vessel-1/categorized_imgdata/조업/35. 타망 조업.jpg\n",
      "이미지 이동 완료: /home/elicer/FIshing_vessel-1/resized_imgdata/35. 통발 이동.jpg -> /home/elicer/FIshing_vessel-1/categorized_imgdata/이동/35. 통발 이동.jpg\n",
      "이미지 이동 완료: /home/elicer/FIshing_vessel-1/resized_imgdata/36. 낚시어선 조업.jpg -> /home/elicer/FIshing_vessel-1/categorized_imgdata/조업/36. 낚시어선 조업.jpg\n",
      "이미지 이동 완료: /home/elicer/FIshing_vessel-1/resized_imgdata/36. 등광조망 조업.jpg -> /home/elicer/FIshing_vessel-1/categorized_imgdata/조업/36. 등광조망 조업.jpg\n",
      "이미지 이동 완료: /home/elicer/FIshing_vessel-1/resized_imgdata/36. 범장망 표류.jpg -> /home/elicer/FIshing_vessel-1/categorized_imgdata/표류/36. 범장망 표류.jpg\n",
      "이미지 이동 완료: /home/elicer/FIshing_vessel-1/resized_imgdata/36. 범장망 이동.jpg -> /home/elicer/FIshing_vessel-1/categorized_imgdata/이동/36. 범장망 이동.jpg\n",
      "이미지 이동 완료: /home/elicer/FIshing_vessel-1/resized_imgdata/36. 유망 이동.jpg -> /home/elicer/FIshing_vessel-1/categorized_imgdata/이동/36. 유망 이동.jpg\n",
      "이미지 이동 완료: /home/elicer/FIshing_vessel-1/resized_imgdata/36. 유망 표류.jpg -> /home/elicer/FIshing_vessel-1/categorized_imgdata/표류/36. 유망 표류.jpg\n",
      "이미지 이동 완료: /home/elicer/FIshing_vessel-1/resized_imgdata/36. 저인망 이동.jpg -> /home/elicer/FIshing_vessel-1/categorized_imgdata/이동/36. 저인망 이동.jpg\n",
      "이미지 이동 완료: /home/elicer/FIshing_vessel-1/resized_imgdata/36. 타망 조업.jpg -> /home/elicer/FIshing_vessel-1/categorized_imgdata/조업/36. 타망 조업.jpg\n",
      "이미지 이동 완료: /home/elicer/FIshing_vessel-1/resized_imgdata/36. 타망 표류.jpg -> /home/elicer/FIshing_vessel-1/categorized_imgdata/표류/36. 타망 표류.jpg\n",
      "이미지 이동 완료: /home/elicer/FIshing_vessel-1/resized_imgdata/36. 통발 이동.jpg -> /home/elicer/FIshing_vessel-1/categorized_imgdata/이동/36. 통발 이동.jpg\n",
      "이미지 이동 완료: /home/elicer/FIshing_vessel-1/resized_imgdata/37. 낚시어선 조업.jpg -> /home/elicer/FIshing_vessel-1/categorized_imgdata/조업/37. 낚시어선 조업.jpg\n",
      "이미지 이동 완료: /home/elicer/FIshing_vessel-1/resized_imgdata/37. 등광조망 조업.jpg -> /home/elicer/FIshing_vessel-1/categorized_imgdata/조업/37. 등광조망 조업.jpg\n",
      "이미지 이동 완료: /home/elicer/FIshing_vessel-1/resized_imgdata/37. 범장망 이동.jpg -> /home/elicer/FIshing_vessel-1/categorized_imgdata/이동/37. 범장망 이동.jpg\n",
      "이미지 이동 완료: /home/elicer/FIshing_vessel-1/resized_imgdata/37. 범장망 표류.jpg -> /home/elicer/FIshing_vessel-1/categorized_imgdata/표류/37. 범장망 표류.jpg\n",
      "이미지 이동 완료: /home/elicer/FIshing_vessel-1/resized_imgdata/37. 유망 이동.jpg -> /home/elicer/FIshing_vessel-1/categorized_imgdata/이동/37. 유망 이동.jpg\n",
      "이미지 이동 완료: /home/elicer/FIshing_vessel-1/resized_imgdata/37. 유망 표류.jpg -> /home/elicer/FIshing_vessel-1/categorized_imgdata/표류/37. 유망 표류.jpg\n",
      "이미지 이동 완료: /home/elicer/FIshing_vessel-1/resized_imgdata/37. 저인망 이동.jpg -> /home/elicer/FIshing_vessel-1/categorized_imgdata/이동/37. 저인망 이동.jpg\n",
      "이미지 이동 완료: /home/elicer/FIshing_vessel-1/resized_imgdata/37. 타망 이동.jpg -> /home/elicer/FIshing_vessel-1/categorized_imgdata/이동/37. 타망 이동.jpg\n",
      "이미지 이동 완료: /home/elicer/FIshing_vessel-1/resized_imgdata/37. 타망 조업.jpg -> /home/elicer/FIshing_vessel-1/categorized_imgdata/조업/37. 타망 조업.jpg\n",
      "이미지 이동 완료: /home/elicer/FIshing_vessel-1/resized_imgdata/37. 타망 표류.jpg -> /home/elicer/FIshing_vessel-1/categorized_imgdata/표류/37. 타망 표류.jpg\n",
      "이미지 이동 완료: /home/elicer/FIshing_vessel-1/resized_imgdata/37. 통발 이동.jpg -> /home/elicer/FIshing_vessel-1/categorized_imgdata/이동/37. 통발 이동.jpg\n",
      "이미지 이동 완료: /home/elicer/FIshing_vessel-1/resized_imgdata/38. 낚시어선 조업.jpg -> /home/elicer/FIshing_vessel-1/categorized_imgdata/조업/38. 낚시어선 조업.jpg\n",
      "이미지 이동 완료: /home/elicer/FIshing_vessel-1/resized_imgdata/38. 등광조망 조업.jpg -> /home/elicer/FIshing_vessel-1/categorized_imgdata/조업/38. 등광조망 조업.jpg\n",
      "이미지 이동 완료: /home/elicer/FIshing_vessel-1/resized_imgdata/38. 범장망 표류.jpg -> /home/elicer/FIshing_vessel-1/categorized_imgdata/표류/38. 범장망 표류.jpg\n",
      "이미지 이동 완료: /home/elicer/FIshing_vessel-1/resized_imgdata/38. 유망 이동.jpg -> /home/elicer/FIshing_vessel-1/categorized_imgdata/이동/38. 유망 이동.jpg\n",
      "이미지 이동 완료: /home/elicer/FIshing_vessel-1/resized_imgdata/38. 유망 표류.jpg -> /home/elicer/FIshing_vessel-1/categorized_imgdata/표류/38. 유망 표류.jpg\n",
      "이미지 이동 완료: /home/elicer/FIshing_vessel-1/resized_imgdata/38. 저인망 이동.jpg -> /home/elicer/FIshing_vessel-1/categorized_imgdata/이동/38. 저인망 이동.jpg\n",
      "이미지 이동 완료: /home/elicer/FIshing_vessel-1/resized_imgdata/38. 채낚기 표류.jpg -> /home/elicer/FIshing_vessel-1/categorized_imgdata/표류/38. 채낚기 표류.jpg\n",
      "이미지 이동 완료: /home/elicer/FIshing_vessel-1/resized_imgdata/38. 타망 이동.jpg -> /home/elicer/FIshing_vessel-1/categorized_imgdata/이동/38. 타망 이동.jpg\n",
      "이미지 이동 완료: /home/elicer/FIshing_vessel-1/resized_imgdata/38. 타망 조업.jpg -> /home/elicer/FIshing_vessel-1/categorized_imgdata/조업/38. 타망 조업.jpg\n",
      "이미지 이동 완료: /home/elicer/FIshing_vessel-1/resized_imgdata/38. 타망 표류.jpg -> /home/elicer/FIshing_vessel-1/categorized_imgdata/표류/38. 타망 표류.jpg\n",
      "이미지 이동 완료: /home/elicer/FIshing_vessel-1/resized_imgdata/38. 통발 이동.jpg -> /home/elicer/FIshing_vessel-1/categorized_imgdata/이동/38. 통발 이동.jpg\n",
      "이미지 이동 완료: /home/elicer/FIshing_vessel-1/resized_imgdata/39. 낚시어선 이동.png -> /home/elicer/FIshing_vessel-1/categorized_imgdata/이동/39. 낚시어선 이동.png\n",
      "이미지 이동 완료: /home/elicer/FIshing_vessel-1/resized_imgdata/39. 낚시어선 조업.jpg -> /home/elicer/FIshing_vessel-1/categorized_imgdata/조업/39. 낚시어선 조업.jpg\n",
      "이미지 이동 완료: /home/elicer/FIshing_vessel-1/resized_imgdata/39. 등광조망 조업.png -> /home/elicer/FIshing_vessel-1/categorized_imgdata/조업/39. 등광조망 조업.png\n",
      "이미지 이동 완료: /home/elicer/FIshing_vessel-1/resized_imgdata/39. 범장망 이동.jpg -> /home/elicer/FIshing_vessel-1/categorized_imgdata/이동/39. 범장망 이동.jpg\n",
      "이미지 이동 완료: /home/elicer/FIshing_vessel-1/resized_imgdata/39. 범장망 표류.jpg -> /home/elicer/FIshing_vessel-1/categorized_imgdata/표류/39. 범장망 표류.jpg\n",
      "이미지 이동 완료: /home/elicer/FIshing_vessel-1/resized_imgdata/39. 유망 이동.jpg -> /home/elicer/FIshing_vessel-1/categorized_imgdata/이동/39. 유망 이동.jpg\n",
      "이미지 이동 완료: /home/elicer/FIshing_vessel-1/resized_imgdata/39. 유망 표류.jpg -> /home/elicer/FIshing_vessel-1/categorized_imgdata/표류/39. 유망 표류.jpg\n",
      "이미지 이동 완료: /home/elicer/FIshing_vessel-1/resized_imgdata/39. 저인망 이동.jpg -> /home/elicer/FIshing_vessel-1/categorized_imgdata/이동/39. 저인망 이동.jpg\n",
      "이미지 이동 완료: /home/elicer/FIshing_vessel-1/resized_imgdata/39. 채낚기 표류.jpg -> /home/elicer/FIshing_vessel-1/categorized_imgdata/표류/39. 채낚기 표류.jpg\n",
      "이미지 이동 완료: /home/elicer/FIshing_vessel-1/resized_imgdata/39. 타망 이동.jpg -> /home/elicer/FIshing_vessel-1/categorized_imgdata/이동/39. 타망 이동.jpg\n",
      "이미지 이동 완료: /home/elicer/FIshing_vessel-1/resized_imgdata/39. 타망 조업.jpg -> /home/elicer/FIshing_vessel-1/categorized_imgdata/조업/39. 타망 조업.jpg\n",
      "이미지 이동 완료: /home/elicer/FIshing_vessel-1/resized_imgdata/39. 타망 표류.jpg -> /home/elicer/FIshing_vessel-1/categorized_imgdata/표류/39. 타망 표류.jpg\n",
      "이미지 이동 완료: /home/elicer/FIshing_vessel-1/resized_imgdata/39. 통발 이동.jpg -> /home/elicer/FIshing_vessel-1/categorized_imgdata/이동/39. 통발 이동.jpg\n",
      "이미지 이동 완료: /home/elicer/FIshing_vessel-1/resized_imgdata/4. 낚시어선 이동.jpg -> /home/elicer/FIshing_vessel-1/categorized_imgdata/이동/4. 낚시어선 이동.jpg\n",
      "이미지 이동 완료: /home/elicer/FIshing_vessel-1/resized_imgdata/4. 낚시어선 조업.jpg -> /home/elicer/FIshing_vessel-1/categorized_imgdata/조업/4. 낚시어선 조업.jpg\n",
      "이미지 이동 완료: /home/elicer/FIshing_vessel-1/resized_imgdata/4. 낚시어선 표류.jpg -> /home/elicer/FIshing_vessel-1/categorized_imgdata/표류/4. 낚시어선 표류.jpg\n",
      "이미지 이동 완료: /home/elicer/FIshing_vessel-1/resized_imgdata/4. 등광조망 이동.jpg -> /home/elicer/FIshing_vessel-1/categorized_imgdata/이동/4. 등광조망 이동.jpg\n",
      "이미지 이동 완료: /home/elicer/FIshing_vessel-1/resized_imgdata/4. 등광조망 조업.jpg -> /home/elicer/FIshing_vessel-1/categorized_imgdata/조업/4. 등광조망 조업.jpg\n",
      "이미지 이동 완료: /home/elicer/FIshing_vessel-1/resized_imgdata/4. 등광조망 표류.jpg -> /home/elicer/FIshing_vessel-1/categorized_imgdata/표류/4. 등광조망 표류.jpg\n",
      "이미지 이동 완료: /home/elicer/FIshing_vessel-1/resized_imgdata/4. 범장망 이동.jpg -> /home/elicer/FIshing_vessel-1/categorized_imgdata/이동/4. 범장망 이동.jpg\n",
      "이미지 이동 완료: /home/elicer/FIshing_vessel-1/resized_imgdata/4. 범장망 조업.jpg -> /home/elicer/FIshing_vessel-1/categorized_imgdata/조업/4. 범장망 조업.jpg\n",
      "이미지 이동 완료: /home/elicer/FIshing_vessel-1/resized_imgdata/4. 범장망 표류.jpg -> /home/elicer/FIshing_vessel-1/categorized_imgdata/표류/4. 범장망 표류.jpg\n",
      "이미지 이동 완료: /home/elicer/FIshing_vessel-1/resized_imgdata/4. 안강망 이동.jpg -> /home/elicer/FIshing_vessel-1/categorized_imgdata/이동/4. 안강망 이동.jpg\n",
      "이미지 이동 완료: /home/elicer/FIshing_vessel-1/resized_imgdata/4. 안강망 조업.jpg -> /home/elicer/FIshing_vessel-1/categorized_imgdata/조업/4. 안강망 조업.jpg\n",
      "이미지 이동 완료: /home/elicer/FIshing_vessel-1/resized_imgdata/4. 안강망 표류.jpg -> /home/elicer/FIshing_vessel-1/categorized_imgdata/표류/4. 안강망 표류.jpg\n",
      "이미지 이동 완료: /home/elicer/FIshing_vessel-1/resized_imgdata/4. 연승 표류.jpg -> /home/elicer/FIshing_vessel-1/categorized_imgdata/표류/4. 연승 표류.jpg\n",
      "이미지 이동 완료: /home/elicer/FIshing_vessel-1/resized_imgdata/4. 유망 이동.jpg -> /home/elicer/FIshing_vessel-1/categorized_imgdata/이동/4. 유망 이동.jpg\n",
      "이미지 이동 완료: /home/elicer/FIshing_vessel-1/resized_imgdata/4. 유망 조업.jpg -> /home/elicer/FIshing_vessel-1/categorized_imgdata/조업/4. 유망 조업.jpg\n",
      "이미지 이동 완료: /home/elicer/FIshing_vessel-1/resized_imgdata/4. 저인망 이동.jpg -> /home/elicer/FIshing_vessel-1/categorized_imgdata/이동/4. 저인망 이동.jpg\n",
      "이미지 이동 완료: /home/elicer/FIshing_vessel-1/resized_imgdata/4. 저인망 조업.jpg -> /home/elicer/FIshing_vessel-1/categorized_imgdata/조업/4. 저인망 조업.jpg\n",
      "이미지 이동 완료: /home/elicer/FIshing_vessel-1/resized_imgdata/4. 저인망 표류.jpg -> /home/elicer/FIshing_vessel-1/categorized_imgdata/표류/4. 저인망 표류.jpg\n",
      "이미지 이동 완료: /home/elicer/FIshing_vessel-1/resized_imgdata/4. 채낚기  표류.jpg -> /home/elicer/FIshing_vessel-1/categorized_imgdata/표류/4. 채낚기  표류.jpg\n",
      "이미지 이동 완료: /home/elicer/FIshing_vessel-1/resized_imgdata/4. 채낚기 이동.jpg -> /home/elicer/FIshing_vessel-1/categorized_imgdata/이동/4. 채낚기 이동.jpg\n",
      "이미지 이동 완료: /home/elicer/FIshing_vessel-1/resized_imgdata/4. 채낚기 조업.jpg -> /home/elicer/FIshing_vessel-1/categorized_imgdata/조업/4. 채낚기 조업.jpg\n",
      "이미지 이동 완료: /home/elicer/FIshing_vessel-1/resized_imgdata/4. 타망 이동.jpg -> /home/elicer/FIshing_vessel-1/categorized_imgdata/이동/4. 타망 이동.jpg\n",
      "이미지 이동 완료: /home/elicer/FIshing_vessel-1/resized_imgdata/4. 타망 조업.jpg -> /home/elicer/FIshing_vessel-1/categorized_imgdata/조업/4. 타망 조업.jpg\n",
      "이미지 이동 완료: /home/elicer/FIshing_vessel-1/resized_imgdata/40. 낚시어선 이동.png -> /home/elicer/FIshing_vessel-1/categorized_imgdata/이동/40. 낚시어선 이동.png\n",
      "이미지 이동 완료: /home/elicer/FIshing_vessel-1/resized_imgdata/40. 등광조망 조업.jpg -> /home/elicer/FIshing_vessel-1/categorized_imgdata/조업/40. 등광조망 조업.jpg\n",
      "이미지 이동 완료: /home/elicer/FIshing_vessel-1/resized_imgdata/40. 범장망 이동.jpg -> /home/elicer/FIshing_vessel-1/categorized_imgdata/이동/40. 범장망 이동.jpg\n",
      "이미지 이동 완료: /home/elicer/FIshing_vessel-1/resized_imgdata/40. 범장망 표류.jpg -> /home/elicer/FIshing_vessel-1/categorized_imgdata/표류/40. 범장망 표류.jpg\n",
      "이미지 이동 완료: /home/elicer/FIshing_vessel-1/resized_imgdata/40. 유망 이동.jpg -> /home/elicer/FIshing_vessel-1/categorized_imgdata/이동/40. 유망 이동.jpg\n",
      "이미지 이동 완료: /home/elicer/FIshing_vessel-1/resized_imgdata/40. 유망 표류.jpg -> /home/elicer/FIshing_vessel-1/categorized_imgdata/표류/40. 유망 표류.jpg\n",
      "이미지 이동 완료: /home/elicer/FIshing_vessel-1/resized_imgdata/40. 저인망 이동.jpg -> /home/elicer/FIshing_vessel-1/categorized_imgdata/이동/40. 저인망 이동.jpg\n",
      "이미지 이동 완료: /home/elicer/FIshing_vessel-1/resized_imgdata/40. 채낚기 표류.jpg -> /home/elicer/FIshing_vessel-1/categorized_imgdata/표류/40. 채낚기 표류.jpg\n",
      "이미지 이동 완료: /home/elicer/FIshing_vessel-1/resized_imgdata/40. 타망 조업.jpg -> /home/elicer/FIshing_vessel-1/categorized_imgdata/조업/40. 타망 조업.jpg\n",
      "이미지 이동 완료: /home/elicer/FIshing_vessel-1/resized_imgdata/40. 타망 이동.jpg -> /home/elicer/FIshing_vessel-1/categorized_imgdata/이동/40. 타망 이동.jpg\n",
      "이미지 이동 완료: /home/elicer/FIshing_vessel-1/resized_imgdata/40. 타망 표류.jpg -> /home/elicer/FIshing_vessel-1/categorized_imgdata/표류/40. 타망 표류.jpg\n",
      "이미지 이동 완료: /home/elicer/FIshing_vessel-1/resized_imgdata/40. 통발 이동.jpg -> /home/elicer/FIshing_vessel-1/categorized_imgdata/이동/40. 통발 이동.jpg\n",
      "이미지 이동 완료: /home/elicer/FIshing_vessel-1/resized_imgdata/41. 낚시어선 이동.png -> /home/elicer/FIshing_vessel-1/categorized_imgdata/이동/41. 낚시어선 이동.png\n",
      "이미지 이동 완료: /home/elicer/FIshing_vessel-1/resized_imgdata/41. 낚시어선 조업.jpg -> /home/elicer/FIshing_vessel-1/categorized_imgdata/조업/41. 낚시어선 조업.jpg\n",
      "이미지 이동 완료: /home/elicer/FIshing_vessel-1/resized_imgdata/41. 등광조망 조업.jpg -> /home/elicer/FIshing_vessel-1/categorized_imgdata/조업/41. 등광조망 조업.jpg\n",
      "이미지 이동 완료: /home/elicer/FIshing_vessel-1/resized_imgdata/41. 범장망 이동.jpg -> /home/elicer/FIshing_vessel-1/categorized_imgdata/이동/41. 범장망 이동.jpg\n",
      "이미지 이동 완료: /home/elicer/FIshing_vessel-1/resized_imgdata/41. 유망 이동.jpg -> /home/elicer/FIshing_vessel-1/categorized_imgdata/이동/41. 유망 이동.jpg\n",
      "이미지 이동 완료: /home/elicer/FIshing_vessel-1/resized_imgdata/41. 유망 표류.jpg -> /home/elicer/FIshing_vessel-1/categorized_imgdata/표류/41. 유망 표류.jpg\n",
      "이미지 이동 완료: /home/elicer/FIshing_vessel-1/resized_imgdata/41. 저인망 이동.jpg -> /home/elicer/FIshing_vessel-1/categorized_imgdata/이동/41. 저인망 이동.jpg\n",
      "이미지 이동 완료: /home/elicer/FIshing_vessel-1/resized_imgdata/41. 채낚기 표류.jpg -> /home/elicer/FIshing_vessel-1/categorized_imgdata/표류/41. 채낚기 표류.jpg\n",
      "이미지 이동 완료: /home/elicer/FIshing_vessel-1/resized_imgdata/41. 타망 이동.jpg -> /home/elicer/FIshing_vessel-1/categorized_imgdata/이동/41. 타망 이동.jpg\n",
      "이미지 이동 완료: /home/elicer/FIshing_vessel-1/resized_imgdata/41. 타망 조업.jpg -> /home/elicer/FIshing_vessel-1/categorized_imgdata/조업/41. 타망 조업.jpg\n",
      "이미지 이동 완료: /home/elicer/FIshing_vessel-1/resized_imgdata/41. 타망 표류.jpg -> /home/elicer/FIshing_vessel-1/categorized_imgdata/표류/41. 타망 표류.jpg\n",
      "이미지 이동 완료: /home/elicer/FIshing_vessel-1/resized_imgdata/41. 통발 이동.jpg -> /home/elicer/FIshing_vessel-1/categorized_imgdata/이동/41. 통발 이동.jpg\n",
      "이미지 이동 완료: /home/elicer/FIshing_vessel-1/resized_imgdata/42. 낚시어선 이동.png -> /home/elicer/FIshing_vessel-1/categorized_imgdata/이동/42. 낚시어선 이동.png\n",
      "이미지 이동 완료: /home/elicer/FIshing_vessel-1/resized_imgdata/42. 낚시어선 조업.jpg -> /home/elicer/FIshing_vessel-1/categorized_imgdata/조업/42. 낚시어선 조업.jpg\n",
      "이미지 이동 완료: /home/elicer/FIshing_vessel-1/resized_imgdata/42. 등광조망 조업.jpg -> /home/elicer/FIshing_vessel-1/categorized_imgdata/조업/42. 등광조망 조업.jpg\n",
      "이미지 이동 완료: /home/elicer/FIshing_vessel-1/resized_imgdata/42. 범장망 이동.jpg -> /home/elicer/FIshing_vessel-1/categorized_imgdata/이동/42. 범장망 이동.jpg\n",
      "이미지 이동 완료: /home/elicer/FIshing_vessel-1/resized_imgdata/42. 유망 표류.jpg -> /home/elicer/FIshing_vessel-1/categorized_imgdata/표류/42. 유망 표류.jpg\n",
      "이미지 이동 완료: /home/elicer/FIshing_vessel-1/resized_imgdata/42. 범장망 표류.jpg -> /home/elicer/FIshing_vessel-1/categorized_imgdata/표류/42. 범장망 표류.jpg\n",
      "이미지 이동 완료: /home/elicer/FIshing_vessel-1/resized_imgdata/42. 저인망 이동.jpg -> /home/elicer/FIshing_vessel-1/categorized_imgdata/이동/42. 저인망 이동.jpg\n",
      "이미지 이동 완료: /home/elicer/FIshing_vessel-1/resized_imgdata/42. 채낚기 표류.jpg -> /home/elicer/FIshing_vessel-1/categorized_imgdata/표류/42. 채낚기 표류.jpg\n",
      "이미지 이동 완료: /home/elicer/FIshing_vessel-1/resized_imgdata/42. 타망 이동.jpg -> /home/elicer/FIshing_vessel-1/categorized_imgdata/이동/42. 타망 이동.jpg\n",
      "이미지 이동 완료: /home/elicer/FIshing_vessel-1/resized_imgdata/42. 타망 조업.jpg -> /home/elicer/FIshing_vessel-1/categorized_imgdata/조업/42. 타망 조업.jpg\n",
      "이미지 이동 완료: /home/elicer/FIshing_vessel-1/resized_imgdata/42. 타망 표류.jpg -> /home/elicer/FIshing_vessel-1/categorized_imgdata/표류/42. 타망 표류.jpg\n",
      "이미지 이동 완료: /home/elicer/FIshing_vessel-1/resized_imgdata/42. 통발 이동.jpg -> /home/elicer/FIshing_vessel-1/categorized_imgdata/이동/42. 통발 이동.jpg\n",
      "이미지 이동 완료: /home/elicer/FIshing_vessel-1/resized_imgdata/43. 낚시어선 이동.png -> /home/elicer/FIshing_vessel-1/categorized_imgdata/이동/43. 낚시어선 이동.png\n",
      "이미지 이동 완료: /home/elicer/FIshing_vessel-1/resized_imgdata/43. 낚시어선 조업.jpg -> /home/elicer/FIshing_vessel-1/categorized_imgdata/조업/43. 낚시어선 조업.jpg\n",
      "이미지 이동 완료: /home/elicer/FIshing_vessel-1/resized_imgdata/43. 등광조망 조업.jpg -> /home/elicer/FIshing_vessel-1/categorized_imgdata/조업/43. 등광조망 조업.jpg\n",
      "이미지 이동 완료: /home/elicer/FIshing_vessel-1/resized_imgdata/43. 범장망 이동.jpg -> /home/elicer/FIshing_vessel-1/categorized_imgdata/이동/43. 범장망 이동.jpg\n",
      "이미지 이동 완료: /home/elicer/FIshing_vessel-1/resized_imgdata/43. 범장망 표류.jpg -> /home/elicer/FIshing_vessel-1/categorized_imgdata/표류/43. 범장망 표류.jpg\n",
      "이미지 이동 완료: /home/elicer/FIshing_vessel-1/resized_imgdata/43. 유망 표류.jpg -> /home/elicer/FIshing_vessel-1/categorized_imgdata/표류/43. 유망 표류.jpg\n",
      "이미지 이동 완료: /home/elicer/FIshing_vessel-1/resized_imgdata/43. 타망 이동.jpg -> /home/elicer/FIshing_vessel-1/categorized_imgdata/이동/43. 타망 이동.jpg\n",
      "이미지 이동 완료: /home/elicer/FIshing_vessel-1/resized_imgdata/43. 타망 조업.jpg -> /home/elicer/FIshing_vessel-1/categorized_imgdata/조업/43. 타망 조업.jpg\n",
      "이미지 이동 완료: /home/elicer/FIshing_vessel-1/resized_imgdata/43. 타망 표류.jpg -> /home/elicer/FIshing_vessel-1/categorized_imgdata/표류/43. 타망 표류.jpg\n",
      "이미지 이동 완료: /home/elicer/FIshing_vessel-1/resized_imgdata/43. 통발 이동.jpg -> /home/elicer/FIshing_vessel-1/categorized_imgdata/이동/43. 통발 이동.jpg\n",
      "이미지 이동 완료: /home/elicer/FIshing_vessel-1/resized_imgdata/44. 낚시어선 이동.jpg -> /home/elicer/FIshing_vessel-1/categorized_imgdata/이동/44. 낚시어선 이동.jpg\n",
      "이미지 이동 완료: /home/elicer/FIshing_vessel-1/resized_imgdata/44. 낚시어선 조업.jpg -> /home/elicer/FIshing_vessel-1/categorized_imgdata/조업/44. 낚시어선 조업.jpg\n",
      "이미지 이동 완료: /home/elicer/FIshing_vessel-1/resized_imgdata/44. 등광조망 조업.jpg -> /home/elicer/FIshing_vessel-1/categorized_imgdata/조업/44. 등광조망 조업.jpg\n",
      "이미지 이동 완료: /home/elicer/FIshing_vessel-1/resized_imgdata/44. 범장망 이동.jpg -> /home/elicer/FIshing_vessel-1/categorized_imgdata/이동/44. 범장망 이동.jpg\n",
      "이미지 이동 완료: /home/elicer/FIshing_vessel-1/resized_imgdata/44. 범장망 표류.jpg -> /home/elicer/FIshing_vessel-1/categorized_imgdata/표류/44. 범장망 표류.jpg\n",
      "이미지 이동 완료: /home/elicer/FIshing_vessel-1/resized_imgdata/44. 유망 표류.jpg -> /home/elicer/FIshing_vessel-1/categorized_imgdata/표류/44. 유망 표류.jpg\n",
      "이미지 이동 완료: /home/elicer/FIshing_vessel-1/resized_imgdata/44. 저인망 이동.jpg -> /home/elicer/FIshing_vessel-1/categorized_imgdata/이동/44. 저인망 이동.jpg\n",
      "이미지 이동 완료: /home/elicer/FIshing_vessel-1/resized_imgdata/44. 타망 이동.jpg -> /home/elicer/FIshing_vessel-1/categorized_imgdata/이동/44. 타망 이동.jpg\n",
      "이미지 이동 완료: /home/elicer/FIshing_vessel-1/resized_imgdata/44. 타망 조업.jpg -> /home/elicer/FIshing_vessel-1/categorized_imgdata/조업/44. 타망 조업.jpg\n",
      "이미지 이동 완료: /home/elicer/FIshing_vessel-1/resized_imgdata/45. 낚시어선 이동.jpg -> /home/elicer/FIshing_vessel-1/categorized_imgdata/이동/45. 낚시어선 이동.jpg\n",
      "이미지 이동 완료: /home/elicer/FIshing_vessel-1/resized_imgdata/44. 타망 표류.jpg -> /home/elicer/FIshing_vessel-1/categorized_imgdata/표류/44. 타망 표류.jpg\n",
      "이미지 이동 완료: /home/elicer/FIshing_vessel-1/resized_imgdata/44. 통발 이동.jpg -> /home/elicer/FIshing_vessel-1/categorized_imgdata/이동/44. 통발 이동.jpg\n",
      "이미지 이동 완료: /home/elicer/FIshing_vessel-1/resized_imgdata/45. 낚시어선 조업.jpg -> /home/elicer/FIshing_vessel-1/categorized_imgdata/조업/45. 낚시어선 조업.jpg\n",
      "이미지 이동 완료: /home/elicer/FIshing_vessel-1/resized_imgdata/45. 등광조망 조업.jpg -> /home/elicer/FIshing_vessel-1/categorized_imgdata/조업/45. 등광조망 조업.jpg\n",
      "이미지 이동 완료: /home/elicer/FIshing_vessel-1/resized_imgdata/45. 범장망 이동.jpg -> /home/elicer/FIshing_vessel-1/categorized_imgdata/이동/45. 범장망 이동.jpg\n",
      "이미지 이동 완료: /home/elicer/FIshing_vessel-1/resized_imgdata/45. 유망 표류.jpg -> /home/elicer/FIshing_vessel-1/categorized_imgdata/표류/45. 유망 표류.jpg\n",
      "이미지 이동 완료: /home/elicer/FIshing_vessel-1/resized_imgdata/45. 범장망 표류.jpg -> /home/elicer/FIshing_vessel-1/categorized_imgdata/표류/45. 범장망 표류.jpg\n",
      "이미지 이동 완료: /home/elicer/FIshing_vessel-1/resized_imgdata/45. 타망 이동.jpg -> /home/elicer/FIshing_vessel-1/categorized_imgdata/이동/45. 타망 이동.jpg\n",
      "이미지 이동 완료: /home/elicer/FIshing_vessel-1/resized_imgdata/45. 저인망 이동.jpg -> /home/elicer/FIshing_vessel-1/categorized_imgdata/이동/45. 저인망 이동.jpg\n",
      "이미지 이동 완료: /home/elicer/FIshing_vessel-1/resized_imgdata/45. 타망 조업.jpg -> /home/elicer/FIshing_vessel-1/categorized_imgdata/조업/45. 타망 조업.jpg\n",
      "이미지 이동 완료: /home/elicer/FIshing_vessel-1/resized_imgdata/45. 타망 표류.jpg -> /home/elicer/FIshing_vessel-1/categorized_imgdata/표류/45. 타망 표류.jpg\n",
      "이미지 이동 완료: /home/elicer/FIshing_vessel-1/resized_imgdata/46. 낚시어선 이동.jpg -> /home/elicer/FIshing_vessel-1/categorized_imgdata/이동/46. 낚시어선 이동.jpg\n",
      "이미지 이동 완료: /home/elicer/FIshing_vessel-1/resized_imgdata/45. 통발 이동.jpg -> /home/elicer/FIshing_vessel-1/categorized_imgdata/이동/45. 통발 이동.jpg\n",
      "이미지 이동 완료: /home/elicer/FIshing_vessel-1/resized_imgdata/46. 낚시어선 조업.jpg -> /home/elicer/FIshing_vessel-1/categorized_imgdata/조업/46. 낚시어선 조업.jpg\n",
      "이미지 이동 완료: /home/elicer/FIshing_vessel-1/resized_imgdata/46. 범장망 이동.jpg -> /home/elicer/FIshing_vessel-1/categorized_imgdata/이동/46. 범장망 이동.jpg\n",
      "이미지 이동 완료: /home/elicer/FIshing_vessel-1/resized_imgdata/46. 범장망 표류.jpg -> /home/elicer/FIshing_vessel-1/categorized_imgdata/표류/46. 범장망 표류.jpg\n",
      "이미지 이동 완료: /home/elicer/FIshing_vessel-1/resized_imgdata/46. 유망 표류.jpg -> /home/elicer/FIshing_vessel-1/categorized_imgdata/표류/46. 유망 표류.jpg\n",
      "이미지 이동 완료: /home/elicer/FIshing_vessel-1/resized_imgdata/46. 저인망 이동.jpg -> /home/elicer/FIshing_vessel-1/categorized_imgdata/이동/46. 저인망 이동.jpg\n",
      "이미지 이동 완료: /home/elicer/FIshing_vessel-1/resized_imgdata/46. 타망 이동.jpg -> /home/elicer/FIshing_vessel-1/categorized_imgdata/이동/46. 타망 이동.jpg\n",
      "이미지 이동 완료: /home/elicer/FIshing_vessel-1/resized_imgdata/46. 타망 조업.jpg -> /home/elicer/FIshing_vessel-1/categorized_imgdata/조업/46. 타망 조업.jpg\n",
      "이미지 이동 완료: /home/elicer/FIshing_vessel-1/resized_imgdata/46. 타망 표류.jpg -> /home/elicer/FIshing_vessel-1/categorized_imgdata/표류/46. 타망 표류.jpg\n",
      "이미지 이동 완료: /home/elicer/FIshing_vessel-1/resized_imgdata/46. 통발 이동.jpg -> /home/elicer/FIshing_vessel-1/categorized_imgdata/이동/46. 통발 이동.jpg\n",
      "이미지 이동 완료: /home/elicer/FIshing_vessel-1/resized_imgdata/47. 낚시어선 이동.jpg -> /home/elicer/FIshing_vessel-1/categorized_imgdata/이동/47. 낚시어선 이동.jpg\n",
      "이미지 이동 완료: /home/elicer/FIshing_vessel-1/resized_imgdata/47. 낚시어선 조업.jpg -> /home/elicer/FIshing_vessel-1/categorized_imgdata/조업/47. 낚시어선 조업.jpg\n",
      "이미지 이동 완료: /home/elicer/FIshing_vessel-1/resized_imgdata/47. 범장망 이동.jpg -> /home/elicer/FIshing_vessel-1/categorized_imgdata/이동/47. 범장망 이동.jpg\n",
      "이미지 이동 완료: /home/elicer/FIshing_vessel-1/resized_imgdata/47. 범장망 표류.jpg -> /home/elicer/FIshing_vessel-1/categorized_imgdata/표류/47. 범장망 표류.jpg\n",
      "이미지 이동 완료: /home/elicer/FIshing_vessel-1/resized_imgdata/47. 등광조망 조업.jpg -> /home/elicer/FIshing_vessel-1/categorized_imgdata/조업/47. 등광조망 조업.jpg\n",
      "이미지 이동 완료: /home/elicer/FIshing_vessel-1/resized_imgdata/47. 저인망 이동.jpg -> /home/elicer/FIshing_vessel-1/categorized_imgdata/이동/47. 저인망 이동.jpg\n",
      "이미지 이동 완료: /home/elicer/FIshing_vessel-1/resized_imgdata/47. 유망 표류.jpg -> /home/elicer/FIshing_vessel-1/categorized_imgdata/표류/47. 유망 표류.jpg\n",
      "이미지 이동 완료: /home/elicer/FIshing_vessel-1/resized_imgdata/47. 타망 이동.jpg -> /home/elicer/FIshing_vessel-1/categorized_imgdata/이동/47. 타망 이동.jpg\n",
      "이미지 이동 완료: /home/elicer/FIshing_vessel-1/resized_imgdata/47. 타망 조업.jpg -> /home/elicer/FIshing_vessel-1/categorized_imgdata/조업/47. 타망 조업.jpg\n",
      "이미지 이동 완료: /home/elicer/FIshing_vessel-1/resized_imgdata/47. 타망 표류.jpg -> /home/elicer/FIshing_vessel-1/categorized_imgdata/표류/47. 타망 표류.jpg\n",
      "이미지 이동 완료: /home/elicer/FIshing_vessel-1/resized_imgdata/47. 통발 이동.jpg -> /home/elicer/FIshing_vessel-1/categorized_imgdata/이동/47. 통발 이동.jpg\n",
      "이미지 이동 완료: /home/elicer/FIshing_vessel-1/resized_imgdata/48. 낚시어선 이동.jpg -> /home/elicer/FIshing_vessel-1/categorized_imgdata/이동/48. 낚시어선 이동.jpg\n",
      "이미지 이동 완료: /home/elicer/FIshing_vessel-1/resized_imgdata/48. 낚시어선 조업.jpg -> /home/elicer/FIshing_vessel-1/categorized_imgdata/조업/48. 낚시어선 조업.jpg\n",
      "이미지 이동 완료: /home/elicer/FIshing_vessel-1/resized_imgdata/48. 등광조망 조업.jpg -> /home/elicer/FIshing_vessel-1/categorized_imgdata/조업/48. 등광조망 조업.jpg\n",
      "이미지 이동 완료: /home/elicer/FIshing_vessel-1/resized_imgdata/48. 범장망 이동.jpg -> /home/elicer/FIshing_vessel-1/categorized_imgdata/이동/48. 범장망 이동.jpg\n",
      "이미지 이동 완료: /home/elicer/FIshing_vessel-1/resized_imgdata/48. 범장망 표류.jpg -> /home/elicer/FIshing_vessel-1/categorized_imgdata/표류/48. 범장망 표류.jpg\n",
      "이미지 이동 완료: /home/elicer/FIshing_vessel-1/resized_imgdata/48. 저인망 이동.jpg -> /home/elicer/FIshing_vessel-1/categorized_imgdata/이동/48. 저인망 이동.jpg\n",
      "이미지 이동 완료: /home/elicer/FIshing_vessel-1/resized_imgdata/48. 타망 이동.jpg -> /home/elicer/FIshing_vessel-1/categorized_imgdata/이동/48. 타망 이동.jpg\n",
      "이미지 이동 완료: /home/elicer/FIshing_vessel-1/resized_imgdata/48. 타망 조업.jpg -> /home/elicer/FIshing_vessel-1/categorized_imgdata/조업/48. 타망 조업.jpg\n",
      "이미지 이동 완료: /home/elicer/FIshing_vessel-1/resized_imgdata/48. 타망 표류.jpg -> /home/elicer/FIshing_vessel-1/categorized_imgdata/표류/48. 타망 표류.jpg\n",
      "이미지 이동 완료: /home/elicer/FIshing_vessel-1/resized_imgdata/49. 등광조망 조업.jpg -> /home/elicer/FIshing_vessel-1/categorized_imgdata/조업/49. 등광조망 조업.jpg\n",
      "이미지 이동 완료: /home/elicer/FIshing_vessel-1/resized_imgdata/48. 통발 이동.jpg -> /home/elicer/FIshing_vessel-1/categorized_imgdata/이동/48. 통발 이동.jpg\n",
      "이미지 이동 완료: /home/elicer/FIshing_vessel-1/resized_imgdata/49. 범장망 표류.jpg -> /home/elicer/FIshing_vessel-1/categorized_imgdata/표류/49. 범장망 표류.jpg\n",
      "이미지 이동 완료: /home/elicer/FIshing_vessel-1/resized_imgdata/49. 범장망 이동.jpg -> /home/elicer/FIshing_vessel-1/categorized_imgdata/이동/49. 범장망 이동.jpg\n",
      "이미지 이동 완료: /home/elicer/FIshing_vessel-1/resized_imgdata/49. 낚시어선 조업.jpg -> /home/elicer/FIshing_vessel-1/categorized_imgdata/조업/49. 낚시어선 조업.jpg\n",
      "이미지 이동 완료: /home/elicer/FIshing_vessel-1/resized_imgdata/49. 유망 표류.jpg -> /home/elicer/FIshing_vessel-1/categorized_imgdata/표류/49. 유망 표류.jpg\n",
      "이미지 이동 완료: /home/elicer/FIshing_vessel-1/resized_imgdata/49. 저인망 이동.jpg -> /home/elicer/FIshing_vessel-1/categorized_imgdata/이동/49. 저인망 이동.jpg\n",
      "이미지 이동 완료: /home/elicer/FIshing_vessel-1/resized_imgdata/49. 타망 이동.jpg -> /home/elicer/FIshing_vessel-1/categorized_imgdata/이동/49. 타망 이동.jpg\n",
      "이미지 이동 완료: /home/elicer/FIshing_vessel-1/resized_imgdata/49. 타망 조업.jpg -> /home/elicer/FIshing_vessel-1/categorized_imgdata/조업/49. 타망 조업.jpg\n",
      "이미지 이동 완료: /home/elicer/FIshing_vessel-1/resized_imgdata/49. 타망 표류.jpg -> /home/elicer/FIshing_vessel-1/categorized_imgdata/표류/49. 타망 표류.jpg\n",
      "이미지 이동 완료: /home/elicer/FIshing_vessel-1/resized_imgdata/49. 통발 이동.jpg -> /home/elicer/FIshing_vessel-1/categorized_imgdata/이동/49. 통발 이동.jpg\n",
      "이미지 이동 완료: /home/elicer/FIshing_vessel-1/resized_imgdata/5. 낚시어선 이동.jpg -> /home/elicer/FIshing_vessel-1/categorized_imgdata/이동/5. 낚시어선 이동.jpg\n",
      "이미지 이동 완료: /home/elicer/FIshing_vessel-1/resized_imgdata/5. 낚시어선 조업.jpg -> /home/elicer/FIshing_vessel-1/categorized_imgdata/조업/5. 낚시어선 조업.jpg\n",
      "이미지 이동 완료: /home/elicer/FIshing_vessel-1/resized_imgdata/5. 등광조망 이동.jpg -> /home/elicer/FIshing_vessel-1/categorized_imgdata/이동/5. 등광조망 이동.jpg\n",
      "이미지 이동 완료: /home/elicer/FIshing_vessel-1/resized_imgdata/5. 등광조망 표류.jpg -> /home/elicer/FIshing_vessel-1/categorized_imgdata/표류/5. 등광조망 표류.jpg\n",
      "이미지 이동 완료: /home/elicer/FIshing_vessel-1/resized_imgdata/5. 범장망 이동.jpg -> /home/elicer/FIshing_vessel-1/categorized_imgdata/이동/5. 범장망 이동.jpg\n",
      "이미지 이동 완료: /home/elicer/FIshing_vessel-1/resized_imgdata/5. 등광조망 조업.jpg -> /home/elicer/FIshing_vessel-1/categorized_imgdata/조업/5. 등광조망 조업.jpg\n",
      "이미지 이동 완료: /home/elicer/FIshing_vessel-1/resized_imgdata/5. 범장망 표류.jpg -> /home/elicer/FIshing_vessel-1/categorized_imgdata/표류/5. 범장망 표류.jpg\n",
      "이미지 이동 완료: /home/elicer/FIshing_vessel-1/resized_imgdata/5. 안강망 이동.jpg -> /home/elicer/FIshing_vessel-1/categorized_imgdata/이동/5. 안강망 이동.jpg\n",
      "이미지 이동 완료: /home/elicer/FIshing_vessel-1/resized_imgdata/5. 안강망 조업.jpg -> /home/elicer/FIshing_vessel-1/categorized_imgdata/조업/5. 안강망 조업.jpg\n",
      "이미지 이동 완료: /home/elicer/FIshing_vessel-1/resized_imgdata/5. 연승 이동.jpg -> /home/elicer/FIshing_vessel-1/categorized_imgdata/이동/5. 연승 이동.jpg\n",
      "이미지 이동 완료: /home/elicer/FIshing_vessel-1/resized_imgdata/5. 연승 표류.jpg -> /home/elicer/FIshing_vessel-1/categorized_imgdata/표류/5. 연승 표류.jpg\n",
      "이미지 이동 완료: /home/elicer/FIshing_vessel-1/resized_imgdata/5. 유망 조업.jpg -> /home/elicer/FIshing_vessel-1/categorized_imgdata/조업/5. 유망 조업.jpg\n",
      "이미지 이동 완료: /home/elicer/FIshing_vessel-1/resized_imgdata/5. 유망 이동.jpg -> /home/elicer/FIshing_vessel-1/categorized_imgdata/이동/5. 유망 이동.jpg\n",
      "이미지 이동 완료: /home/elicer/FIshing_vessel-1/resized_imgdata/5. 유망 표류.jpg -> /home/elicer/FIshing_vessel-1/categorized_imgdata/표류/5. 유망 표류.jpg\n",
      "이미지 이동 완료: /home/elicer/FIshing_vessel-1/resized_imgdata/5. 저인망 이동.jpg -> /home/elicer/FIshing_vessel-1/categorized_imgdata/이동/5. 저인망 이동.jpg\n",
      "이미지 이동 완료: /home/elicer/FIshing_vessel-1/resized_imgdata/5. 저인망 조업.jpg -> /home/elicer/FIshing_vessel-1/categorized_imgdata/조업/5. 저인망 조업.jpg\n",
      "이미지 이동 완료: /home/elicer/FIshing_vessel-1/resized_imgdata/5. 채낚기  표류.jpg -> /home/elicer/FIshing_vessel-1/categorized_imgdata/표류/5. 채낚기  표류.jpg\n",
      "이미지 이동 완료: /home/elicer/FIshing_vessel-1/resized_imgdata/5. 채낚기 이동.jpg -> /home/elicer/FIshing_vessel-1/categorized_imgdata/이동/5. 채낚기 이동.jpg\n",
      "이미지 이동 완료: /home/elicer/FIshing_vessel-1/resized_imgdata/5. 타망 이동.jpg -> /home/elicer/FIshing_vessel-1/categorized_imgdata/이동/5. 타망 이동.jpg\n",
      "이미지 이동 완료: /home/elicer/FIshing_vessel-1/resized_imgdata/5. 타망 조업.jpg -> /home/elicer/FIshing_vessel-1/categorized_imgdata/조업/5. 타망 조업.jpg\n",
      "이미지 이동 완료: /home/elicer/FIshing_vessel-1/resized_imgdata/5. 타망 표류.jpg -> /home/elicer/FIshing_vessel-1/categorized_imgdata/표류/5. 타망 표류.jpg\n",
      "이미지 이동 완료: /home/elicer/FIshing_vessel-1/resized_imgdata/5. 통발 이동.jpg -> /home/elicer/FIshing_vessel-1/categorized_imgdata/이동/5. 통발 이동.jpg\n",
      "이미지 이동 완료: /home/elicer/FIshing_vessel-1/resized_imgdata/5. 통발 표류.jpg -> /home/elicer/FIshing_vessel-1/categorized_imgdata/표류/5. 통발 표류.jpg\n",
      "이미지 이동 완료: /home/elicer/FIshing_vessel-1/resized_imgdata/50 낚시어선 조업.jpg -> /home/elicer/FIshing_vessel-1/categorized_imgdata/조업/50 낚시어선 조업.jpg\n",
      "이미지 이동 완료: /home/elicer/FIshing_vessel-1/resized_imgdata/50. 낚시어선 이동.jpg -> /home/elicer/FIshing_vessel-1/categorized_imgdata/이동/50. 낚시어선 이동.jpg\n",
      "이미지 이동 완료: /home/elicer/FIshing_vessel-1/resized_imgdata/50. 범장망 이동.jpg -> /home/elicer/FIshing_vessel-1/categorized_imgdata/이동/50. 범장망 이동.jpg\n",
      "이미지 이동 완료: /home/elicer/FIshing_vessel-1/resized_imgdata/50. 범장망 표류.jpg -> /home/elicer/FIshing_vessel-1/categorized_imgdata/표류/50. 범장망 표류.jpg\n",
      "이미지 이동 완료: /home/elicer/FIshing_vessel-1/resized_imgdata/50. 유망 표류.jpg -> /home/elicer/FIshing_vessel-1/categorized_imgdata/표류/50. 유망 표류.jpg\n",
      "이미지 이동 완료: /home/elicer/FIshing_vessel-1/resized_imgdata/50. 타망 이동.jpg -> /home/elicer/FIshing_vessel-1/categorized_imgdata/이동/50. 타망 이동.jpg\n",
      "이미지 이동 완료: /home/elicer/FIshing_vessel-1/resized_imgdata/50. 타망 조업.jpg -> /home/elicer/FIshing_vessel-1/categorized_imgdata/조업/50. 타망 조업.jpg\n",
      "이미지 이동 완료: /home/elicer/FIshing_vessel-1/resized_imgdata/50. 저인망 이동.jpg -> /home/elicer/FIshing_vessel-1/categorized_imgdata/이동/50. 저인망 이동.jpg\n",
      "이미지 이동 완료: /home/elicer/FIshing_vessel-1/resized_imgdata/50. 타망 표류.jpg -> /home/elicer/FIshing_vessel-1/categorized_imgdata/표류/50. 타망 표류.jpg\n",
      "이미지 이동 완료: /home/elicer/FIshing_vessel-1/resized_imgdata/51. 낚시어선 이동.jpg -> /home/elicer/FIshing_vessel-1/categorized_imgdata/이동/51. 낚시어선 이동.jpg\n",
      "이미지 이동 완료: /home/elicer/FIshing_vessel-1/resized_imgdata/51. 범장망 표류.jpg -> /home/elicer/FIshing_vessel-1/categorized_imgdata/표류/51. 범장망 표류.jpg\n",
      "이미지 이동 완료: /home/elicer/FIshing_vessel-1/resized_imgdata/51. 낚시어선 조업.jpg -> /home/elicer/FIshing_vessel-1/categorized_imgdata/조업/51. 낚시어선 조업.jpg\n",
      "이미지 이동 완료: /home/elicer/FIshing_vessel-1/resized_imgdata/51. 범장망 이동.jpg -> /home/elicer/FIshing_vessel-1/categorized_imgdata/이동/51. 범장망 이동.jpg\n",
      "이미지 이동 완료: /home/elicer/FIshing_vessel-1/resized_imgdata/51. 유망 표류.jpg -> /home/elicer/FIshing_vessel-1/categorized_imgdata/표류/51. 유망 표류.jpg\n",
      "이미지 이동 완료: /home/elicer/FIshing_vessel-1/resized_imgdata/51. 타망 이동.jpg -> /home/elicer/FIshing_vessel-1/categorized_imgdata/이동/51. 타망 이동.jpg\n",
      "이미지 이동 완료: /home/elicer/FIshing_vessel-1/resized_imgdata/51. 저인망 이동.jpg -> /home/elicer/FIshing_vessel-1/categorized_imgdata/이동/51. 저인망 이동.jpg\n",
      "이미지 이동 완료: /home/elicer/FIshing_vessel-1/resized_imgdata/51. 타망 조업.jpg -> /home/elicer/FIshing_vessel-1/categorized_imgdata/조업/51. 타망 조업.jpg\n",
      "이미지 이동 완료: /home/elicer/FIshing_vessel-1/resized_imgdata/51. 타망 표류.jpg -> /home/elicer/FIshing_vessel-1/categorized_imgdata/표류/51. 타망 표류.jpg\n",
      "이미지 이동 완료: /home/elicer/FIshing_vessel-1/resized_imgdata/52. 낚시어선 이동.jpg -> /home/elicer/FIshing_vessel-1/categorized_imgdata/이동/52. 낚시어선 이동.jpg\n",
      "이미지 이동 완료: /home/elicer/FIshing_vessel-1/resized_imgdata/52. 낚시어선 조업.jpg -> /home/elicer/FIshing_vessel-1/categorized_imgdata/조업/52. 낚시어선 조업.jpg\n",
      "이미지 이동 완료: /home/elicer/FIshing_vessel-1/resized_imgdata/52. 범장망 이동.jpg -> /home/elicer/FIshing_vessel-1/categorized_imgdata/이동/52. 범장망 이동.jpg\n",
      "이미지 이동 완료: /home/elicer/FIshing_vessel-1/resized_imgdata/52. 범장망 표류.jpg -> /home/elicer/FIshing_vessel-1/categorized_imgdata/표류/52. 범장망 표류.jpg\n",
      "이미지 이동 완료: /home/elicer/FIshing_vessel-1/resized_imgdata/52. 유망 표류.jpg -> /home/elicer/FIshing_vessel-1/categorized_imgdata/표류/52. 유망 표류.jpg\n",
      "이미지 이동 완료: /home/elicer/FIshing_vessel-1/resized_imgdata/52. 저인망 이동.jpg -> /home/elicer/FIshing_vessel-1/categorized_imgdata/이동/52. 저인망 이동.jpg\n",
      "이미지 이동 완료: /home/elicer/FIshing_vessel-1/resized_imgdata/52. 타망 이동.jpg -> /home/elicer/FIshing_vessel-1/categorized_imgdata/이동/52. 타망 이동.jpg\n",
      "이미지 이동 완료: /home/elicer/FIshing_vessel-1/resized_imgdata/52. 타망 조업.jpg -> /home/elicer/FIshing_vessel-1/categorized_imgdata/조업/52. 타망 조업.jpg\n",
      "이미지 이동 완료: /home/elicer/FIshing_vessel-1/resized_imgdata/52. 타망 표류.jpg -> /home/elicer/FIshing_vessel-1/categorized_imgdata/표류/52. 타망 표류.jpg\n",
      "이미지 이동 완료: /home/elicer/FIshing_vessel-1/resized_imgdata/52. 통발 이동.jpg -> /home/elicer/FIshing_vessel-1/categorized_imgdata/이동/52. 통발 이동.jpg\n",
      "이미지 이동 완료: /home/elicer/FIshing_vessel-1/resized_imgdata/53. 낚시어선 조업.jpg -> /home/elicer/FIshing_vessel-1/categorized_imgdata/조업/53. 낚시어선 조업.jpg\n",
      "이미지 이동 완료: /home/elicer/FIshing_vessel-1/resized_imgdata/53. 범장망 이동.jpg -> /home/elicer/FIshing_vessel-1/categorized_imgdata/이동/53. 범장망 이동.jpg\n",
      "이미지 이동 완료: /home/elicer/FIshing_vessel-1/resized_imgdata/53. 범장망 표류.jpg -> /home/elicer/FIshing_vessel-1/categorized_imgdata/표류/53. 범장망 표류.jpg\n",
      "이미지 이동 완료: /home/elicer/FIshing_vessel-1/resized_imgdata/53. 낚시어선 이동.jpg -> /home/elicer/FIshing_vessel-1/categorized_imgdata/이동/53. 낚시어선 이동.jpg\n",
      "이미지 이동 완료: /home/elicer/FIshing_vessel-1/resized_imgdata/53. 유망 표류.jpg -> /home/elicer/FIshing_vessel-1/categorized_imgdata/표류/53. 유망 표류.jpg\n",
      "이미지 이동 완료: /home/elicer/FIshing_vessel-1/resized_imgdata/53. 저인망 이동.jpg -> /home/elicer/FIshing_vessel-1/categorized_imgdata/이동/53. 저인망 이동.jpg\n",
      "이미지 이동 완료: /home/elicer/FIshing_vessel-1/resized_imgdata/53. 타망 이동.jpg -> /home/elicer/FIshing_vessel-1/categorized_imgdata/이동/53. 타망 이동.jpg\n",
      "이미지 이동 완료: /home/elicer/FIshing_vessel-1/resized_imgdata/53. 타망 조업.jpg -> /home/elicer/FIshing_vessel-1/categorized_imgdata/조업/53. 타망 조업.jpg\n",
      "이미지 이동 완료: /home/elicer/FIshing_vessel-1/resized_imgdata/53. 타망 표류.jpg -> /home/elicer/FIshing_vessel-1/categorized_imgdata/표류/53. 타망 표류.jpg\n",
      "이미지 이동 완료: /home/elicer/FIshing_vessel-1/resized_imgdata/54. 낚시어선 조업.jpg -> /home/elicer/FIshing_vessel-1/categorized_imgdata/조업/54. 낚시어선 조업.jpg\n",
      "이미지 이동 완료: /home/elicer/FIshing_vessel-1/resized_imgdata/54. 낚시어선 이동.jpg -> /home/elicer/FIshing_vessel-1/categorized_imgdata/이동/54. 낚시어선 이동.jpg\n",
      "이미지 이동 완료: /home/elicer/FIshing_vessel-1/resized_imgdata/54. 범장망 표류.jpg -> /home/elicer/FIshing_vessel-1/categorized_imgdata/표류/54. 범장망 표류.jpg\n",
      "이미지 이동 완료: /home/elicer/FIshing_vessel-1/resized_imgdata/54. 범장망 이동.jpg -> /home/elicer/FIshing_vessel-1/categorized_imgdata/이동/54. 범장망 이동.jpg\n",
      "이미지 이동 완료: /home/elicer/FIshing_vessel-1/resized_imgdata/54. 타망 조업.jpg -> /home/elicer/FIshing_vessel-1/categorized_imgdata/조업/54. 타망 조업.jpg\n",
      "이미지 이동 완료: /home/elicer/FIshing_vessel-1/resized_imgdata/54. 타망 이동.jpg -> /home/elicer/FIshing_vessel-1/categorized_imgdata/이동/54. 타망 이동.jpg\n",
      "이미지 이동 완료: /home/elicer/FIshing_vessel-1/resized_imgdata/54. 타망 표류.jpg -> /home/elicer/FIshing_vessel-1/categorized_imgdata/표류/54. 타망 표류.jpg\n",
      "이미지 이동 완료: /home/elicer/FIshing_vessel-1/resized_imgdata/55. 낚시어선 이동.jpg -> /home/elicer/FIshing_vessel-1/categorized_imgdata/이동/55. 낚시어선 이동.jpg\n",
      "이미지 이동 완료: /home/elicer/FIshing_vessel-1/resized_imgdata/55. 낚시어선 조업.jpg -> /home/elicer/FIshing_vessel-1/categorized_imgdata/조업/55. 낚시어선 조업.jpg\n",
      "이미지 이동 완료: /home/elicer/FIshing_vessel-1/resized_imgdata/55. 범장망 이동.jpg -> /home/elicer/FIshing_vessel-1/categorized_imgdata/이동/55. 범장망 이동.jpg\n",
      "이미지 이동 완료: /home/elicer/FIshing_vessel-1/resized_imgdata/55. 범장망 표류.jpg -> /home/elicer/FIshing_vessel-1/categorized_imgdata/표류/55. 범장망 표류.jpg\n",
      "이미지 이동 완료: /home/elicer/FIshing_vessel-1/resized_imgdata/55. 유망 표류.jpg -> /home/elicer/FIshing_vessel-1/categorized_imgdata/표류/55. 유망 표류.jpg\n",
      "이미지 이동 완료: /home/elicer/FIshing_vessel-1/resized_imgdata/55. 타망 이동.jpg -> /home/elicer/FIshing_vessel-1/categorized_imgdata/이동/55. 타망 이동.jpg\n",
      "이미지 이동 완료: /home/elicer/FIshing_vessel-1/resized_imgdata/55. 타망 조업.jpg -> /home/elicer/FIshing_vessel-1/categorized_imgdata/조업/55. 타망 조업.jpg\n",
      "이미지 이동 완료: /home/elicer/FIshing_vessel-1/resized_imgdata/55. 타망 표류.jpg -> /home/elicer/FIshing_vessel-1/categorized_imgdata/표류/55. 타망 표류.jpg\n",
      "이미지 이동 완료: /home/elicer/FIshing_vessel-1/resized_imgdata/55. 통발 이동.jpg -> /home/elicer/FIshing_vessel-1/categorized_imgdata/이동/55. 통발 이동.jpg\n",
      "이미지 이동 완료: /home/elicer/FIshing_vessel-1/resized_imgdata/56. 낚시어선 이동.jpg -> /home/elicer/FIshing_vessel-1/categorized_imgdata/이동/56. 낚시어선 이동.jpg\n",
      "이미지 이동 완료: /home/elicer/FIshing_vessel-1/resized_imgdata/56. 낚시어선 조업.jpg -> /home/elicer/FIshing_vessel-1/categorized_imgdata/조업/56. 낚시어선 조업.jpg\n",
      "이미지 이동 완료: /home/elicer/FIshing_vessel-1/resized_imgdata/56. 범장망 이동.jpg -> /home/elicer/FIshing_vessel-1/categorized_imgdata/이동/56. 범장망 이동.jpg\n",
      "이미지 이동 완료: /home/elicer/FIshing_vessel-1/resized_imgdata/56. 유망 표류.png -> /home/elicer/FIshing_vessel-1/categorized_imgdata/표류/56. 유망 표류.png\n",
      "이미지 이동 완료: /home/elicer/FIshing_vessel-1/resized_imgdata/56. 범장망 표류.jpg -> /home/elicer/FIshing_vessel-1/categorized_imgdata/표류/56. 범장망 표류.jpg\n",
      "이미지 이동 완료: /home/elicer/FIshing_vessel-1/resized_imgdata/56. 타망 이동.jpg -> /home/elicer/FIshing_vessel-1/categorized_imgdata/이동/56. 타망 이동.jpg\n",
      "이미지 이동 완료: /home/elicer/FIshing_vessel-1/resized_imgdata/56. 타망 조업.jpg -> /home/elicer/FIshing_vessel-1/categorized_imgdata/조업/56. 타망 조업.jpg\n",
      "이미지 이동 완료: /home/elicer/FIshing_vessel-1/resized_imgdata/56. 타망 표류.jpg -> /home/elicer/FIshing_vessel-1/categorized_imgdata/표류/56. 타망 표류.jpg\n",
      "이미지 이동 완료: /home/elicer/FIshing_vessel-1/resized_imgdata/56. 통발 이동.jpg -> /home/elicer/FIshing_vessel-1/categorized_imgdata/이동/56. 통발 이동.jpg\n",
      "이미지 이동 완료: /home/elicer/FIshing_vessel-1/resized_imgdata/57. 낚시어선 이동.jpg -> /home/elicer/FIshing_vessel-1/categorized_imgdata/이동/57. 낚시어선 이동.jpg\n",
      "이미지 이동 완료: /home/elicer/FIshing_vessel-1/resized_imgdata/57. 낚시어선 조업.jpg -> /home/elicer/FIshing_vessel-1/categorized_imgdata/조업/57. 낚시어선 조업.jpg\n",
      "이미지 이동 완료: /home/elicer/FIshing_vessel-1/resized_imgdata/57. 범장망 이동.jpg -> /home/elicer/FIshing_vessel-1/categorized_imgdata/이동/57. 범장망 이동.jpg\n",
      "이미지 이동 완료: /home/elicer/FIshing_vessel-1/resized_imgdata/57. 범장망 표류.jpg -> /home/elicer/FIshing_vessel-1/categorized_imgdata/표류/57. 범장망 표류.jpg\n",
      "이미지 이동 완료: /home/elicer/FIshing_vessel-1/resized_imgdata/57. 유망 표류.jpg -> /home/elicer/FIshing_vessel-1/categorized_imgdata/표류/57. 유망 표류.jpg\n",
      "이미지 이동 완료: /home/elicer/FIshing_vessel-1/resized_imgdata/57. 타망 이동.jpg -> /home/elicer/FIshing_vessel-1/categorized_imgdata/이동/57. 타망 이동.jpg\n",
      "이미지 이동 완료: /home/elicer/FIshing_vessel-1/resized_imgdata/57. 타망 조업.jpg -> /home/elicer/FIshing_vessel-1/categorized_imgdata/조업/57. 타망 조업.jpg\n",
      "이미지 이동 완료: /home/elicer/FIshing_vessel-1/resized_imgdata/57. 타망 표류.jpg -> /home/elicer/FIshing_vessel-1/categorized_imgdata/표류/57. 타망 표류.jpg\n",
      "이미지 이동 완료: /home/elicer/FIshing_vessel-1/resized_imgdata/57. 통발 이동.jpg -> /home/elicer/FIshing_vessel-1/categorized_imgdata/이동/57. 통발 이동.jpg\n",
      "이미지 이동 완료: /home/elicer/FIshing_vessel-1/resized_imgdata/58. 낚시어선 조업.jpg -> /home/elicer/FIshing_vessel-1/categorized_imgdata/조업/58. 낚시어선 조업.jpg\n",
      "이미지 이동 완료: /home/elicer/FIshing_vessel-1/resized_imgdata/58. 범장망 표류.jpg -> /home/elicer/FIshing_vessel-1/categorized_imgdata/표류/58. 범장망 표류.jpg\n",
      "이미지 이동 완료: /home/elicer/FIshing_vessel-1/resized_imgdata/58. 범장망 이동.jpg -> /home/elicer/FIshing_vessel-1/categorized_imgdata/이동/58. 범장망 이동.jpg\n",
      "이미지 이동 완료: /home/elicer/FIshing_vessel-1/resized_imgdata/58. 유망 표류.png -> /home/elicer/FIshing_vessel-1/categorized_imgdata/표류/58. 유망 표류.png\n",
      "이미지 이동 완료: /home/elicer/FIshing_vessel-1/resized_imgdata/58. 타망 이동.jpg -> /home/elicer/FIshing_vessel-1/categorized_imgdata/이동/58. 타망 이동.jpg\n",
      "이미지 이동 완료: /home/elicer/FIshing_vessel-1/resized_imgdata/58. 타망 조업.jpg -> /home/elicer/FIshing_vessel-1/categorized_imgdata/조업/58. 타망 조업.jpg\n",
      "이미지 이동 완료: /home/elicer/FIshing_vessel-1/resized_imgdata/58. 타망 표류.jpg -> /home/elicer/FIshing_vessel-1/categorized_imgdata/표류/58. 타망 표류.jpg\n",
      "이미지 이동 완료: /home/elicer/FIshing_vessel-1/resized_imgdata/58. 통발 이동.jpg -> /home/elicer/FIshing_vessel-1/categorized_imgdata/이동/58. 통발 이동.jpg\n",
      "이미지 이동 완료: /home/elicer/FIshing_vessel-1/resized_imgdata/59. 낚시어선 조업.jpg -> /home/elicer/FIshing_vessel-1/categorized_imgdata/조업/59. 낚시어선 조업.jpg\n",
      "이미지 이동 완료: /home/elicer/FIshing_vessel-1/resized_imgdata/59. 범장망 이동.jpg -> /home/elicer/FIshing_vessel-1/categorized_imgdata/이동/59. 범장망 이동.jpg\n",
      "이미지 이동 완료: /home/elicer/FIshing_vessel-1/resized_imgdata/59. 범장망 표류.jpg -> /home/elicer/FIshing_vessel-1/categorized_imgdata/표류/59. 범장망 표류.jpg\n",
      "이미지 이동 완료: /home/elicer/FIshing_vessel-1/resized_imgdata/59. 유망 표류.jpg -> /home/elicer/FIshing_vessel-1/categorized_imgdata/표류/59. 유망 표류.jpg\n",
      "이미지 이동 완료: /home/elicer/FIshing_vessel-1/resized_imgdata/59. 타망 이동.jpg -> /home/elicer/FIshing_vessel-1/categorized_imgdata/이동/59. 타망 이동.jpg\n",
      "이미지 이동 완료: /home/elicer/FIshing_vessel-1/resized_imgdata/59. 타망 조업.jpg -> /home/elicer/FIshing_vessel-1/categorized_imgdata/조업/59. 타망 조업.jpg\n",
      "이미지 이동 완료: /home/elicer/FIshing_vessel-1/resized_imgdata/59. 타망 표류.jpg -> /home/elicer/FIshing_vessel-1/categorized_imgdata/표류/59. 타망 표류.jpg\n",
      "이미지 이동 완료: /home/elicer/FIshing_vessel-1/resized_imgdata/6. 낚시어선 이동.jpg -> /home/elicer/FIshing_vessel-1/categorized_imgdata/이동/6. 낚시어선 이동.jpg\n",
      "이미지 이동 완료: /home/elicer/FIshing_vessel-1/resized_imgdata/59. 통발 이동.jpg -> /home/elicer/FIshing_vessel-1/categorized_imgdata/이동/59. 통발 이동.jpg\n",
      "이미지 이동 완료: /home/elicer/FIshing_vessel-1/resized_imgdata/6. 낚시어선 조업.jpg -> /home/elicer/FIshing_vessel-1/categorized_imgdata/조업/6. 낚시어선 조업.jpg\n",
      "이미지 이동 완료: /home/elicer/FIshing_vessel-1/resized_imgdata/6. 등광조망 이동.jpg -> /home/elicer/FIshing_vessel-1/categorized_imgdata/이동/6. 등광조망 이동.jpg\n",
      "이미지 이동 완료: /home/elicer/FIshing_vessel-1/resized_imgdata/6. 낚시어선 표류.jpg -> /home/elicer/FIshing_vessel-1/categorized_imgdata/표류/6. 낚시어선 표류.jpg\n",
      "이미지 이동 완료: /home/elicer/FIshing_vessel-1/resized_imgdata/6. 등광조망 표류.jpg -> /home/elicer/FIshing_vessel-1/categorized_imgdata/표류/6. 등광조망 표류.jpg\n",
      "이미지 이동 완료: /home/elicer/FIshing_vessel-1/resized_imgdata/6. 범장망 이동.jpg -> /home/elicer/FIshing_vessel-1/categorized_imgdata/이동/6. 범장망 이동.jpg\n",
      "이미지 이동 완료: /home/elicer/FIshing_vessel-1/resized_imgdata/6. 등광조망 조업.jpg -> /home/elicer/FIshing_vessel-1/categorized_imgdata/조업/6. 등광조망 조업.jpg\n",
      "이미지 이동 완료: /home/elicer/FIshing_vessel-1/resized_imgdata/6. 범장망 조업.jpg -> /home/elicer/FIshing_vessel-1/categorized_imgdata/조업/6. 범장망 조업.jpg\n",
      "이미지 이동 완료: /home/elicer/FIshing_vessel-1/resized_imgdata/6. 범장망 표류.jpg -> /home/elicer/FIshing_vessel-1/categorized_imgdata/표류/6. 범장망 표류.jpg\n",
      "이미지 이동 완료: /home/elicer/FIshing_vessel-1/resized_imgdata/6. 안강망 조업.jpg -> /home/elicer/FIshing_vessel-1/categorized_imgdata/조업/6. 안강망 조업.jpg\n",
      "이미지 이동 완료: /home/elicer/FIshing_vessel-1/resized_imgdata/6. 안강망 이동.jpg -> /home/elicer/FIshing_vessel-1/categorized_imgdata/이동/6. 안강망 이동.jpg\n",
      "이미지 이동 완료: /home/elicer/FIshing_vessel-1/resized_imgdata/6. 안강망 표류.jpg -> /home/elicer/FIshing_vessel-1/categorized_imgdata/표류/6. 안강망 표류.jpg\n",
      "이미지 이동 완료: /home/elicer/FIshing_vessel-1/resized_imgdata/6. 연승 이동.jpg -> /home/elicer/FIshing_vessel-1/categorized_imgdata/이동/6. 연승 이동.jpg\n",
      "이미지 이동 완료: /home/elicer/FIshing_vessel-1/resized_imgdata/6. 연승 표류.jpg -> /home/elicer/FIshing_vessel-1/categorized_imgdata/표류/6. 연승 표류.jpg\n",
      "이미지 이동 완료: /home/elicer/FIshing_vessel-1/resized_imgdata/6. 유망 이동.jpg -> /home/elicer/FIshing_vessel-1/categorized_imgdata/이동/6. 유망 이동.jpg\n",
      "이미지 이동 완료: /home/elicer/FIshing_vessel-1/resized_imgdata/6. 유망 조업.jpg -> /home/elicer/FIshing_vessel-1/categorized_imgdata/조업/6. 유망 조업.jpg\n",
      "이미지 이동 완료: /home/elicer/FIshing_vessel-1/resized_imgdata/6. 유망 표류.jpg -> /home/elicer/FIshing_vessel-1/categorized_imgdata/표류/6. 유망 표류.jpg\n",
      "이미지 이동 완료: /home/elicer/FIshing_vessel-1/resized_imgdata/6. 저인망 이동.jpg -> /home/elicer/FIshing_vessel-1/categorized_imgdata/이동/6. 저인망 이동.jpg\n",
      "이미지 이동 완료: /home/elicer/FIshing_vessel-1/resized_imgdata/6. 저인망 조업.jpg -> /home/elicer/FIshing_vessel-1/categorized_imgdata/조업/6. 저인망 조업.jpg\n",
      "이미지 이동 완료: /home/elicer/FIshing_vessel-1/resized_imgdata/6. 저인망 표류.jpg -> /home/elicer/FIshing_vessel-1/categorized_imgdata/표류/6. 저인망 표류.jpg\n",
      "이미지 이동 완료: /home/elicer/FIshing_vessel-1/resized_imgdata/6. 채낚기  표류.jpg -> /home/elicer/FIshing_vessel-1/categorized_imgdata/표류/6. 채낚기  표류.jpg\n",
      "이미지 이동 완료: /home/elicer/FIshing_vessel-1/resized_imgdata/6. 채낚기 이동.jpg -> /home/elicer/FIshing_vessel-1/categorized_imgdata/이동/6. 채낚기 이동.jpg\n",
      "이미지 이동 완료: /home/elicer/FIshing_vessel-1/resized_imgdata/6. 타망 이동.jpg -> /home/elicer/FIshing_vessel-1/categorized_imgdata/이동/6. 타망 이동.jpg\n",
      "이미지 이동 완료: /home/elicer/FIshing_vessel-1/resized_imgdata/6. 타망 조업.jpg -> /home/elicer/FIshing_vessel-1/categorized_imgdata/조업/6. 타망 조업.jpg\n",
      "이미지 이동 완료: /home/elicer/FIshing_vessel-1/resized_imgdata/6. 타망 표류.jpg -> /home/elicer/FIshing_vessel-1/categorized_imgdata/표류/6. 타망 표류.jpg\n",
      "이미지 이동 완료: /home/elicer/FIshing_vessel-1/resized_imgdata/6. 통발 이동.jpg -> /home/elicer/FIshing_vessel-1/categorized_imgdata/이동/6. 통발 이동.jpg\n",
      "이미지 이동 완료: /home/elicer/FIshing_vessel-1/resized_imgdata/6. 통발 표류.jpg -> /home/elicer/FIshing_vessel-1/categorized_imgdata/표류/6. 통발 표류.jpg\n",
      "이미지 이동 완료: /home/elicer/FIshing_vessel-1/resized_imgdata/60. 낚시어선 조업.jpg -> /home/elicer/FIshing_vessel-1/categorized_imgdata/조업/60. 낚시어선 조업.jpg\n",
      "이미지 이동 완료: /home/elicer/FIshing_vessel-1/resized_imgdata/60. 범장망 이동.jpg -> /home/elicer/FIshing_vessel-1/categorized_imgdata/이동/60. 범장망 이동.jpg\n",
      "이미지 이동 완료: /home/elicer/FIshing_vessel-1/resized_imgdata/60. 범장망 표류.jpg -> /home/elicer/FIshing_vessel-1/categorized_imgdata/표류/60. 범장망 표류.jpg\n",
      "이미지 이동 완료: /home/elicer/FIshing_vessel-1/resized_imgdata/60. 유망 표류.jpg -> /home/elicer/FIshing_vessel-1/categorized_imgdata/표류/60. 유망 표류.jpg\n",
      "이미지 이동 완료: /home/elicer/FIshing_vessel-1/resized_imgdata/60. 타망 이동.jpg -> /home/elicer/FIshing_vessel-1/categorized_imgdata/이동/60. 타망 이동.jpg\n",
      "이미지 이동 완료: /home/elicer/FIshing_vessel-1/resized_imgdata/60. 타망 표류.jpg -> /home/elicer/FIshing_vessel-1/categorized_imgdata/표류/60. 타망 표류.jpg\n",
      "이미지 이동 완료: /home/elicer/FIshing_vessel-1/resized_imgdata/60. 통발 이동.jpg -> /home/elicer/FIshing_vessel-1/categorized_imgdata/이동/60. 통발 이동.jpg\n",
      "이미지 이동 완료: /home/elicer/FIshing_vessel-1/resized_imgdata/61. 낚시어선 조업.jpg -> /home/elicer/FIshing_vessel-1/categorized_imgdata/조업/61. 낚시어선 조업.jpg\n",
      "이미지 이동 완료: /home/elicer/FIshing_vessel-1/resized_imgdata/61. 범장망 이동.jpg -> /home/elicer/FIshing_vessel-1/categorized_imgdata/이동/61. 범장망 이동.jpg\n",
      "이미지 이동 완료: /home/elicer/FIshing_vessel-1/resized_imgdata/61. 범장망 표류.jpg -> /home/elicer/FIshing_vessel-1/categorized_imgdata/표류/61. 범장망 표류.jpg\n",
      "이미지 이동 완료: /home/elicer/FIshing_vessel-1/resized_imgdata/61. 유망 표류.jpg -> /home/elicer/FIshing_vessel-1/categorized_imgdata/표류/61. 유망 표류.jpg\n",
      "이미지 이동 완료: /home/elicer/FIshing_vessel-1/resized_imgdata/61. 타망 이동.jpg -> /home/elicer/FIshing_vessel-1/categorized_imgdata/이동/61. 타망 이동.jpg\n",
      "이미지 이동 완료: /home/elicer/FIshing_vessel-1/resized_imgdata/61. 타망 조업.jpg -> /home/elicer/FIshing_vessel-1/categorized_imgdata/조업/61. 타망 조업.jpg\n",
      "이미지 이동 완료: /home/elicer/FIshing_vessel-1/resized_imgdata/61. 타망 표류.png -> /home/elicer/FIshing_vessel-1/categorized_imgdata/표류/61. 타망 표류.png\n",
      "이미지 이동 완료: /home/elicer/FIshing_vessel-1/resized_imgdata/61. 통발 이동.jpg -> /home/elicer/FIshing_vessel-1/categorized_imgdata/이동/61. 통발 이동.jpg\n",
      "이미지 이동 완료: /home/elicer/FIshing_vessel-1/resized_imgdata/62. 낚시어선 조업.jpg -> /home/elicer/FIshing_vessel-1/categorized_imgdata/조업/62. 낚시어선 조업.jpg\n",
      "이미지 이동 완료: /home/elicer/FIshing_vessel-1/resized_imgdata/62. 범장망 이동.jpg -> /home/elicer/FIshing_vessel-1/categorized_imgdata/이동/62. 범장망 이동.jpg\n",
      "이미지 이동 완료: /home/elicer/FIshing_vessel-1/resized_imgdata/62. 범장망 표류.jpg -> /home/elicer/FIshing_vessel-1/categorized_imgdata/표류/62. 범장망 표류.jpg\n",
      "이미지 이동 완료: /home/elicer/FIshing_vessel-1/resized_imgdata/62. 유망 표류.jpg -> /home/elicer/FIshing_vessel-1/categorized_imgdata/표류/62. 유망 표류.jpg\n",
      "이미지 이동 완료: /home/elicer/FIshing_vessel-1/resized_imgdata/62. 타망 이동.jpg -> /home/elicer/FIshing_vessel-1/categorized_imgdata/이동/62. 타망 이동.jpg\n",
      "이미지 이동 완료: /home/elicer/FIshing_vessel-1/resized_imgdata/62. 타망 조업.jpg -> /home/elicer/FIshing_vessel-1/categorized_imgdata/조업/62. 타망 조업.jpg\n",
      "이미지 이동 완료: /home/elicer/FIshing_vessel-1/resized_imgdata/62. 타망 표류.jpg -> /home/elicer/FIshing_vessel-1/categorized_imgdata/표류/62. 타망 표류.jpg\n",
      "이미지 이동 완료: /home/elicer/FIshing_vessel-1/resized_imgdata/62. 통발 이동.jpg -> /home/elicer/FIshing_vessel-1/categorized_imgdata/이동/62. 통발 이동.jpg\n",
      "이미지 이동 완료: /home/elicer/FIshing_vessel-1/resized_imgdata/63. 낚시어선 조업.jpg -> /home/elicer/FIshing_vessel-1/categorized_imgdata/조업/63. 낚시어선 조업.jpg\n",
      "이미지 이동 완료: /home/elicer/FIshing_vessel-1/resized_imgdata/63. 범장망 이동.jpg -> /home/elicer/FIshing_vessel-1/categorized_imgdata/이동/63. 범장망 이동.jpg\n",
      "이미지 이동 완료: /home/elicer/FIshing_vessel-1/resized_imgdata/63. 범장망 표류.jpg -> /home/elicer/FIshing_vessel-1/categorized_imgdata/표류/63. 범장망 표류.jpg\n",
      "이미지 이동 완료: /home/elicer/FIshing_vessel-1/resized_imgdata/63. 유망 표류.jpg -> /home/elicer/FIshing_vessel-1/categorized_imgdata/표류/63. 유망 표류.jpg\n",
      "이미지 이동 완료: /home/elicer/FIshing_vessel-1/resized_imgdata/63. 타망 이동.jpg -> /home/elicer/FIshing_vessel-1/categorized_imgdata/이동/63. 타망 이동.jpg\n",
      "이미지 이동 완료: /home/elicer/FIshing_vessel-1/resized_imgdata/63. 타망 조업.jpg -> /home/elicer/FIshing_vessel-1/categorized_imgdata/조업/63. 타망 조업.jpg\n",
      "이미지 이동 완료: /home/elicer/FIshing_vessel-1/resized_imgdata/63. 통발 이동.jpg -> /home/elicer/FIshing_vessel-1/categorized_imgdata/이동/63. 통발 이동.jpg\n",
      "이미지 이동 완료: /home/elicer/FIshing_vessel-1/resized_imgdata/63. 타망 표류.png -> /home/elicer/FIshing_vessel-1/categorized_imgdata/표류/63. 타망 표류.png\n",
      "이미지 이동 완료: /home/elicer/FIshing_vessel-1/resized_imgdata/64. 낚시어선 조업.jpg -> /home/elicer/FIshing_vessel-1/categorized_imgdata/조업/64. 낚시어선 조업.jpg\n",
      "이미지 이동 완료: /home/elicer/FIshing_vessel-1/resized_imgdata/64. 범장망 이동.jpg -> /home/elicer/FIshing_vessel-1/categorized_imgdata/이동/64. 범장망 이동.jpg\n",
      "이미지 이동 완료: /home/elicer/FIshing_vessel-1/resized_imgdata/64. 범장망 표류.jpg -> /home/elicer/FIshing_vessel-1/categorized_imgdata/표류/64. 범장망 표류.jpg\n",
      "이미지 이동 완료: /home/elicer/FIshing_vessel-1/resized_imgdata/64. 유망 표류.jpg -> /home/elicer/FIshing_vessel-1/categorized_imgdata/표류/64. 유망 표류.jpg\n",
      "이미지 이동 완료: /home/elicer/FIshing_vessel-1/resized_imgdata/64. 타망 이동.jpg -> /home/elicer/FIshing_vessel-1/categorized_imgdata/이동/64. 타망 이동.jpg\n",
      "이미지 이동 완료: /home/elicer/FIshing_vessel-1/resized_imgdata/64. 타망 조업.jpg -> /home/elicer/FIshing_vessel-1/categorized_imgdata/조업/64. 타망 조업.jpg\n",
      "이미지 이동 완료: /home/elicer/FIshing_vessel-1/resized_imgdata/64. 타망 표류.jpg -> /home/elicer/FIshing_vessel-1/categorized_imgdata/표류/64. 타망 표류.jpg\n",
      "이미지 이동 완료: /home/elicer/FIshing_vessel-1/resized_imgdata/64. 통발 이동.jpg -> /home/elicer/FIshing_vessel-1/categorized_imgdata/이동/64. 통발 이동.jpg\n",
      "이미지 이동 완료: /home/elicer/FIshing_vessel-1/resized_imgdata/65. 낚시어선 조업.jpg -> /home/elicer/FIshing_vessel-1/categorized_imgdata/조업/65. 낚시어선 조업.jpg\n",
      "이미지 이동 완료: /home/elicer/FIshing_vessel-1/resized_imgdata/65. 범장망 이동.jpg -> /home/elicer/FIshing_vessel-1/categorized_imgdata/이동/65. 범장망 이동.jpg\n",
      "이미지 이동 완료: /home/elicer/FIshing_vessel-1/resized_imgdata/65. 범장망 표류.jpg -> /home/elicer/FIshing_vessel-1/categorized_imgdata/표류/65. 범장망 표류.jpg\n",
      "이미지 이동 완료: /home/elicer/FIshing_vessel-1/resized_imgdata/65. 유망 표류.jpg -> /home/elicer/FIshing_vessel-1/categorized_imgdata/표류/65. 유망 표류.jpg\n",
      "이미지 이동 완료: /home/elicer/FIshing_vessel-1/resized_imgdata/65. 타망 조업.jpg -> /home/elicer/FIshing_vessel-1/categorized_imgdata/조업/65. 타망 조업.jpg\n",
      "이미지 이동 완료: /home/elicer/FIshing_vessel-1/resized_imgdata/65. 타망 이동.jpg -> /home/elicer/FIshing_vessel-1/categorized_imgdata/이동/65. 타망 이동.jpg\n",
      "이미지 이동 완료: /home/elicer/FIshing_vessel-1/resized_imgdata/65. 타망 표류.png -> /home/elicer/FIshing_vessel-1/categorized_imgdata/표류/65. 타망 표류.png\n",
      "이미지 이동 완료: /home/elicer/FIshing_vessel-1/resized_imgdata/65. 통발 이동.jpg -> /home/elicer/FIshing_vessel-1/categorized_imgdata/이동/65. 통발 이동.jpg\n",
      "이미지 이동 완료: /home/elicer/FIshing_vessel-1/resized_imgdata/66. 낚시어선 조업.jpg -> /home/elicer/FIshing_vessel-1/categorized_imgdata/조업/66. 낚시어선 조업.jpg\n",
      "이미지 이동 완료: /home/elicer/FIshing_vessel-1/resized_imgdata/66. 범장망 이동.jpg -> /home/elicer/FIshing_vessel-1/categorized_imgdata/이동/66. 범장망 이동.jpg\n",
      "이미지 이동 완료: /home/elicer/FIshing_vessel-1/resized_imgdata/66. 범장망 표류.jpg -> /home/elicer/FIshing_vessel-1/categorized_imgdata/표류/66. 범장망 표류.jpg\n",
      "이미지 이동 완료: /home/elicer/FIshing_vessel-1/resized_imgdata/66. 유망 표류.jpg -> /home/elicer/FIshing_vessel-1/categorized_imgdata/표류/66. 유망 표류.jpg\n",
      "이미지 이동 완료: /home/elicer/FIshing_vessel-1/resized_imgdata/66. 타망 이동.jpg -> /home/elicer/FIshing_vessel-1/categorized_imgdata/이동/66. 타망 이동.jpg\n",
      "이미지 이동 완료: /home/elicer/FIshing_vessel-1/resized_imgdata/66. 타망 조업.jpg -> /home/elicer/FIshing_vessel-1/categorized_imgdata/조업/66. 타망 조업.jpg\n",
      "이미지 이동 완료: /home/elicer/FIshing_vessel-1/resized_imgdata/66. 타망 표류.jpg -> /home/elicer/FIshing_vessel-1/categorized_imgdata/표류/66. 타망 표류.jpg\n",
      "이미지 이동 완료: /home/elicer/FIshing_vessel-1/resized_imgdata/67. 범장망 이동.jpg -> /home/elicer/FIshing_vessel-1/categorized_imgdata/이동/67. 범장망 이동.jpg\n",
      "이미지 이동 완료: /home/elicer/FIshing_vessel-1/resized_imgdata/67. 낚시어선 조업.jpg -> /home/elicer/FIshing_vessel-1/categorized_imgdata/조업/67. 낚시어선 조업.jpg\n",
      "이미지 이동 완료: /home/elicer/FIshing_vessel-1/resized_imgdata/67. 범장망 표류.jpg -> /home/elicer/FIshing_vessel-1/categorized_imgdata/표류/67. 범장망 표류.jpg\n",
      "이미지 이동 완료: /home/elicer/FIshing_vessel-1/resized_imgdata/67. 유망 표류.jpg -> /home/elicer/FIshing_vessel-1/categorized_imgdata/표류/67. 유망 표류.jpg\n",
      "이미지 이동 완료: /home/elicer/FIshing_vessel-1/resized_imgdata/67. 타망 이동.jpg -> /home/elicer/FIshing_vessel-1/categorized_imgdata/이동/67. 타망 이동.jpg\n",
      "이미지 이동 완료: /home/elicer/FIshing_vessel-1/resized_imgdata/67. 타망 조업.jpg -> /home/elicer/FIshing_vessel-1/categorized_imgdata/조업/67. 타망 조업.jpg\n",
      "이미지 이동 완료: /home/elicer/FIshing_vessel-1/resized_imgdata/68. 낚시어선 조업.jpg -> /home/elicer/FIshing_vessel-1/categorized_imgdata/조업/68. 낚시어선 조업.jpg\n",
      "이미지 이동 완료: /home/elicer/FIshing_vessel-1/resized_imgdata/68. 범장망 이동.jpg -> /home/elicer/FIshing_vessel-1/categorized_imgdata/이동/68. 범장망 이동.jpg\n",
      "이미지 이동 완료: /home/elicer/FIshing_vessel-1/resized_imgdata/68. 범장망 표류.jpg -> /home/elicer/FIshing_vessel-1/categorized_imgdata/표류/68. 범장망 표류.jpg\n",
      "이미지 이동 완료: /home/elicer/FIshing_vessel-1/resized_imgdata/68. 유망 표류.jpg -> /home/elicer/FIshing_vessel-1/categorized_imgdata/표류/68. 유망 표류.jpg\n",
      "이미지 이동 완료: /home/elicer/FIshing_vessel-1/resized_imgdata/68. 타망 이동.jpg -> /home/elicer/FIshing_vessel-1/categorized_imgdata/이동/68. 타망 이동.jpg\n",
      "이미지 이동 완료: /home/elicer/FIshing_vessel-1/resized_imgdata/68. 타망 조업.jpg -> /home/elicer/FIshing_vessel-1/categorized_imgdata/조업/68. 타망 조업.jpg\n",
      "이미지 이동 완료: /home/elicer/FIshing_vessel-1/resized_imgdata/68. 타망 표류.jpg -> /home/elicer/FIshing_vessel-1/categorized_imgdata/표류/68. 타망 표류.jpg\n",
      "이미지 이동 완료: /home/elicer/FIshing_vessel-1/resized_imgdata/69. 낚시어선 조업.jpg -> /home/elicer/FIshing_vessel-1/categorized_imgdata/조업/69. 낚시어선 조업.jpg\n",
      "이미지 이동 완료: /home/elicer/FIshing_vessel-1/resized_imgdata/69. 범장망 이동.jpg -> /home/elicer/FIshing_vessel-1/categorized_imgdata/이동/69. 범장망 이동.jpg\n",
      "이미지 이동 완료: /home/elicer/FIshing_vessel-1/resized_imgdata/69. 범장망 표류.jpg -> /home/elicer/FIshing_vessel-1/categorized_imgdata/표류/69. 범장망 표류.jpg\n",
      "이미지 이동 완료: /home/elicer/FIshing_vessel-1/resized_imgdata/69. 유망 표류.jpg -> /home/elicer/FIshing_vessel-1/categorized_imgdata/표류/69. 유망 표류.jpg\n",
      "이미지 이동 완료: /home/elicer/FIshing_vessel-1/resized_imgdata/69. 타망 이동.jpg -> /home/elicer/FIshing_vessel-1/categorized_imgdata/이동/69. 타망 이동.jpg\n",
      "이미지 이동 완료: /home/elicer/FIshing_vessel-1/resized_imgdata/69. 타망 조업.jpg -> /home/elicer/FIshing_vessel-1/categorized_imgdata/조업/69. 타망 조업.jpg\n",
      "이미지 이동 완료: /home/elicer/FIshing_vessel-1/resized_imgdata/69. 타망 표류.jpg -> /home/elicer/FIshing_vessel-1/categorized_imgdata/표류/69. 타망 표류.jpg\n",
      "이미지 이동 완료: /home/elicer/FIshing_vessel-1/resized_imgdata/7. 낚시어선 이동.jpg -> /home/elicer/FIshing_vessel-1/categorized_imgdata/이동/7. 낚시어선 이동.jpg\n",
      "이미지 이동 완료: /home/elicer/FIshing_vessel-1/resized_imgdata/7. 낚시어선 조업.jpg -> /home/elicer/FIshing_vessel-1/categorized_imgdata/조업/7. 낚시어선 조업.jpg\n",
      "이미지 이동 완료: /home/elicer/FIshing_vessel-1/resized_imgdata/7. 낚시어선 표류.jpg -> /home/elicer/FIshing_vessel-1/categorized_imgdata/표류/7. 낚시어선 표류.jpg\n",
      "이미지 이동 완료: /home/elicer/FIshing_vessel-1/resized_imgdata/7. 범장망 이동.jpg -> /home/elicer/FIshing_vessel-1/categorized_imgdata/이동/7. 범장망 이동.jpg\n",
      "이미지 이동 완료: /home/elicer/FIshing_vessel-1/resized_imgdata/7. 범장망 조업.jpg -> /home/elicer/FIshing_vessel-1/categorized_imgdata/조업/7. 범장망 조업.jpg\n",
      "이미지 이동 완료: /home/elicer/FIshing_vessel-1/resized_imgdata/7. 안강망 조업.jpg -> /home/elicer/FIshing_vessel-1/categorized_imgdata/조업/7. 안강망 조업.jpg\n",
      "이미지 이동 완료: /home/elicer/FIshing_vessel-1/resized_imgdata/7. 범장망 표류.jpg -> /home/elicer/FIshing_vessel-1/categorized_imgdata/표류/7. 범장망 표류.jpg\n",
      "이미지 이동 완료: /home/elicer/FIshing_vessel-1/resized_imgdata/7. 안강망 표류.jpg -> /home/elicer/FIshing_vessel-1/categorized_imgdata/표류/7. 안강망 표류.jpg\n",
      "이미지 이동 완료: /home/elicer/FIshing_vessel-1/resized_imgdata/7. 연승 이동.jpg -> /home/elicer/FIshing_vessel-1/categorized_imgdata/이동/7. 연승 이동.jpg\n",
      "이미지 이동 완료: /home/elicer/FIshing_vessel-1/resized_imgdata/7. 연승 표류.jpg -> /home/elicer/FIshing_vessel-1/categorized_imgdata/표류/7. 연승 표류.jpg\n",
      "이미지 이동 완료: /home/elicer/FIshing_vessel-1/resized_imgdata/7. 유망 이동.jpg -> /home/elicer/FIshing_vessel-1/categorized_imgdata/이동/7. 유망 이동.jpg\n",
      "이미지 이동 완료: /home/elicer/FIshing_vessel-1/resized_imgdata/7. 유망 조업.jpg -> /home/elicer/FIshing_vessel-1/categorized_imgdata/조업/7. 유망 조업.jpg\n",
      "이미지 이동 완료: /home/elicer/FIshing_vessel-1/resized_imgdata/7. 유망 표류.jpg -> /home/elicer/FIshing_vessel-1/categorized_imgdata/표류/7. 유망 표류.jpg\n",
      "이미지 이동 완료: /home/elicer/FIshing_vessel-1/resized_imgdata/7. 저인망 이동.jpg -> /home/elicer/FIshing_vessel-1/categorized_imgdata/이동/7. 저인망 이동.jpg\n",
      "이미지 이동 완료: /home/elicer/FIshing_vessel-1/resized_imgdata/7. 저인망 조업.jpg -> /home/elicer/FIshing_vessel-1/categorized_imgdata/조업/7. 저인망 조업.jpg\n",
      "이미지 이동 완료: /home/elicer/FIshing_vessel-1/resized_imgdata/7. 채낚기  표류.jpg -> /home/elicer/FIshing_vessel-1/categorized_imgdata/표류/7. 채낚기  표류.jpg\n",
      "이미지 이동 완료: /home/elicer/FIshing_vessel-1/resized_imgdata/7. 채낚기 이동.jpg -> /home/elicer/FIshing_vessel-1/categorized_imgdata/이동/7. 채낚기 이동.jpg\n",
      "이미지 이동 완료: /home/elicer/FIshing_vessel-1/resized_imgdata/7. 타망 이동.jpg -> /home/elicer/FIshing_vessel-1/categorized_imgdata/이동/7. 타망 이동.jpg\n",
      "이미지 이동 완료: /home/elicer/FIshing_vessel-1/resized_imgdata/7. 타망 조업.jpg -> /home/elicer/FIshing_vessel-1/categorized_imgdata/조업/7. 타망 조업.jpg\n",
      "이미지 이동 완료: /home/elicer/FIshing_vessel-1/resized_imgdata/7. 타망 표류.jpg -> /home/elicer/FIshing_vessel-1/categorized_imgdata/표류/7. 타망 표류.jpg\n",
      "이미지 이동 완료: /home/elicer/FIshing_vessel-1/resized_imgdata/7. 통발 이동.jpg -> /home/elicer/FIshing_vessel-1/categorized_imgdata/이동/7. 통발 이동.jpg\n",
      "이미지 이동 완료: /home/elicer/FIshing_vessel-1/resized_imgdata/7. 통발 표류.jpg -> /home/elicer/FIshing_vessel-1/categorized_imgdata/표류/7. 통발 표류.jpg\n",
      "이미지 이동 완료: /home/elicer/FIshing_vessel-1/resized_imgdata/70. 범장망 표류.jpg -> /home/elicer/FIshing_vessel-1/categorized_imgdata/표류/70. 범장망 표류.jpg\n",
      "이미지 이동 완료: /home/elicer/FIshing_vessel-1/resized_imgdata/70. 범장망 이동.jpg -> /home/elicer/FIshing_vessel-1/categorized_imgdata/이동/70. 범장망 이동.jpg\n",
      "이미지 이동 완료: /home/elicer/FIshing_vessel-1/resized_imgdata/70. 유망 표류.jpg -> /home/elicer/FIshing_vessel-1/categorized_imgdata/표류/70. 유망 표류.jpg\n",
      "이미지 이동 완료: /home/elicer/FIshing_vessel-1/resized_imgdata/70. 타망 조업.png -> /home/elicer/FIshing_vessel-1/categorized_imgdata/조업/70. 타망 조업.png\n",
      "이미지 이동 완료: /home/elicer/FIshing_vessel-1/resized_imgdata/70. 타망 이동.jpg -> /home/elicer/FIshing_vessel-1/categorized_imgdata/이동/70. 타망 이동.jpg\n",
      "이미지 이동 완료: /home/elicer/FIshing_vessel-1/resized_imgdata/70. 타망 표류.jpg -> /home/elicer/FIshing_vessel-1/categorized_imgdata/표류/70. 타망 표류.jpg\n",
      "이미지 이동 완료: /home/elicer/FIshing_vessel-1/resized_imgdata/71. 범장망 이동.jpg -> /home/elicer/FIshing_vessel-1/categorized_imgdata/이동/71. 범장망 이동.jpg\n",
      "이미지 이동 완료: /home/elicer/FIshing_vessel-1/resized_imgdata/71. 범장망 표류.jpg -> /home/elicer/FIshing_vessel-1/categorized_imgdata/표류/71. 범장망 표류.jpg\n",
      "이미지 이동 완료: /home/elicer/FIshing_vessel-1/resized_imgdata/71. 유망 표류.jpg -> /home/elicer/FIshing_vessel-1/categorized_imgdata/표류/71. 유망 표류.jpg\n",
      "이미지 이동 완료: /home/elicer/FIshing_vessel-1/resized_imgdata/71. 타망 이동.jpg -> /home/elicer/FIshing_vessel-1/categorized_imgdata/이동/71. 타망 이동.jpg\n",
      "이미지 이동 완료: /home/elicer/FIshing_vessel-1/resized_imgdata/71. 타망 조업.jpg -> /home/elicer/FIshing_vessel-1/categorized_imgdata/조업/71. 타망 조업.jpg\n",
      "이미지 이동 완료: /home/elicer/FIshing_vessel-1/resized_imgdata/71. 타망 표류.jpg -> /home/elicer/FIshing_vessel-1/categorized_imgdata/표류/71. 타망 표류.jpg\n",
      "이미지 이동 완료: /home/elicer/FIshing_vessel-1/resized_imgdata/72. 범장망 이동.jpg -> /home/elicer/FIshing_vessel-1/categorized_imgdata/이동/72. 범장망 이동.jpg\n",
      "이미지 이동 완료: /home/elicer/FIshing_vessel-1/resized_imgdata/72. 범장망 표류.jpg -> /home/elicer/FIshing_vessel-1/categorized_imgdata/표류/72. 범장망 표류.jpg\n",
      "이미지 이동 완료: /home/elicer/FIshing_vessel-1/resized_imgdata/72. 유망 표류.jpg -> /home/elicer/FIshing_vessel-1/categorized_imgdata/표류/72. 유망 표류.jpg\n",
      "이미지 이동 완료: /home/elicer/FIshing_vessel-1/resized_imgdata/72. 타망 조업.jpg -> /home/elicer/FIshing_vessel-1/categorized_imgdata/조업/72. 타망 조업.jpg\n",
      "이미지 이동 완료: /home/elicer/FIshing_vessel-1/resized_imgdata/72. 타망 이동.jpg -> /home/elicer/FIshing_vessel-1/categorized_imgdata/이동/72. 타망 이동.jpg\n",
      "이미지 이동 완료: /home/elicer/FIshing_vessel-1/resized_imgdata/73 타망 이동.jpg -> /home/elicer/FIshing_vessel-1/categorized_imgdata/이동/73 타망 이동.jpg\n",
      "이미지 이동 완료: /home/elicer/FIshing_vessel-1/resized_imgdata/73. 범장망 이동.jpg -> /home/elicer/FIshing_vessel-1/categorized_imgdata/이동/73. 범장망 이동.jpg\n",
      "이미지 이동 완료: /home/elicer/FIshing_vessel-1/resized_imgdata/73. 유망 표류.jpg -> /home/elicer/FIshing_vessel-1/categorized_imgdata/표류/73. 유망 표류.jpg\n",
      "이미지 이동 완료: /home/elicer/FIshing_vessel-1/resized_imgdata/73. 범장망 표류.jpg -> /home/elicer/FIshing_vessel-1/categorized_imgdata/표류/73. 범장망 표류.jpg\n",
      "이미지 이동 완료: /home/elicer/FIshing_vessel-1/resized_imgdata/73. 타망 조업.jpg -> /home/elicer/FIshing_vessel-1/categorized_imgdata/조업/73. 타망 조업.jpg\n",
      "이미지 이동 완료: /home/elicer/FIshing_vessel-1/resized_imgdata/73. 타망 표류.jpg -> /home/elicer/FIshing_vessel-1/categorized_imgdata/표류/73. 타망 표류.jpg\n",
      "이미지 이동 완료: /home/elicer/FIshing_vessel-1/resized_imgdata/74 타망 이동.jpg -> /home/elicer/FIshing_vessel-1/categorized_imgdata/이동/74 타망 이동.jpg\n",
      "이미지 이동 완료: /home/elicer/FIshing_vessel-1/resized_imgdata/74. 범장망 이동.jpg -> /home/elicer/FIshing_vessel-1/categorized_imgdata/이동/74. 범장망 이동.jpg\n",
      "이미지 이동 완료: /home/elicer/FIshing_vessel-1/resized_imgdata/74. 범장망 표류.jpg -> /home/elicer/FIshing_vessel-1/categorized_imgdata/표류/74. 범장망 표류.jpg\n",
      "이미지 이동 완료: /home/elicer/FIshing_vessel-1/resized_imgdata/74. 유망 표류.jpg -> /home/elicer/FIshing_vessel-1/categorized_imgdata/표류/74. 유망 표류.jpg\n",
      "이미지 이동 완료: /home/elicer/FIshing_vessel-1/resized_imgdata/74. 타망 조업.jpg -> /home/elicer/FIshing_vessel-1/categorized_imgdata/조업/74. 타망 조업.jpg\n",
      "이미지 이동 완료: /home/elicer/FIshing_vessel-1/resized_imgdata/74. 타망 표류.jpg -> /home/elicer/FIshing_vessel-1/categorized_imgdata/표류/74. 타망 표류.jpg\n",
      "이미지 이동 완료: /home/elicer/FIshing_vessel-1/resized_imgdata/75 타망 이동.jpg -> /home/elicer/FIshing_vessel-1/categorized_imgdata/이동/75 타망 이동.jpg\n",
      "이미지 이동 완료: /home/elicer/FIshing_vessel-1/resized_imgdata/75. 범장망 이동.jpg -> /home/elicer/FIshing_vessel-1/categorized_imgdata/이동/75. 범장망 이동.jpg\n",
      "이미지 이동 완료: /home/elicer/FIshing_vessel-1/resized_imgdata/75. 범장망 표류.jpg -> /home/elicer/FIshing_vessel-1/categorized_imgdata/표류/75. 범장망 표류.jpg\n",
      "이미지 이동 완료: /home/elicer/FIshing_vessel-1/resized_imgdata/75. 유망 표류.jpg -> /home/elicer/FIshing_vessel-1/categorized_imgdata/표류/75. 유망 표류.jpg\n",
      "이미지 이동 완료: /home/elicer/FIshing_vessel-1/resized_imgdata/75. 타망 조업.jpg -> /home/elicer/FIshing_vessel-1/categorized_imgdata/조업/75. 타망 조업.jpg\n",
      "이미지 이동 완료: /home/elicer/FIshing_vessel-1/resized_imgdata/76 타망 이동.jpg -> /home/elicer/FIshing_vessel-1/categorized_imgdata/이동/76 타망 이동.jpg\n",
      "이미지 이동 완료: /home/elicer/FIshing_vessel-1/resized_imgdata/75. 타망 표류.jpg -> /home/elicer/FIshing_vessel-1/categorized_imgdata/표류/75. 타망 표류.jpg\n",
      "이미지 이동 완료: /home/elicer/FIshing_vessel-1/resized_imgdata/76. 범장망 이동.jpg -> /home/elicer/FIshing_vessel-1/categorized_imgdata/이동/76. 범장망 이동.jpg\n",
      "이미지 이동 완료: /home/elicer/FIshing_vessel-1/resized_imgdata/76. 범장망 표류.jpg -> /home/elicer/FIshing_vessel-1/categorized_imgdata/표류/76. 범장망 표류.jpg\n",
      "이미지 이동 완료: /home/elicer/FIshing_vessel-1/resized_imgdata/76. 유망 표류.jpg -> /home/elicer/FIshing_vessel-1/categorized_imgdata/표류/76. 유망 표류.jpg\n",
      "이미지 이동 완료: /home/elicer/FIshing_vessel-1/resized_imgdata/76. 타망 조업.jpg -> /home/elicer/FIshing_vessel-1/categorized_imgdata/조업/76. 타망 조업.jpg\n",
      "이미지 이동 완료: /home/elicer/FIshing_vessel-1/resized_imgdata/76. 타망 표류.jpg -> /home/elicer/FIshing_vessel-1/categorized_imgdata/표류/76. 타망 표류.jpg\n",
      "이미지 이동 완료: /home/elicer/FIshing_vessel-1/resized_imgdata/77 타망 이동.jpg -> /home/elicer/FIshing_vessel-1/categorized_imgdata/이동/77 타망 이동.jpg\n",
      "이미지 이동 완료: /home/elicer/FIshing_vessel-1/resized_imgdata/77. 범장망 이동.jpg -> /home/elicer/FIshing_vessel-1/categorized_imgdata/이동/77. 범장망 이동.jpg\n",
      "이미지 이동 완료: /home/elicer/FIshing_vessel-1/resized_imgdata/77. 범장망 표류.jpg -> /home/elicer/FIshing_vessel-1/categorized_imgdata/표류/77. 범장망 표류.jpg\n",
      "이미지 이동 완료: /home/elicer/FIshing_vessel-1/resized_imgdata/77. 유망 표류.jpg -> /home/elicer/FIshing_vessel-1/categorized_imgdata/표류/77. 유망 표류.jpg\n",
      "이미지 이동 완료: /home/elicer/FIshing_vessel-1/resized_imgdata/77. 타망 조업.jpg -> /home/elicer/FIshing_vessel-1/categorized_imgdata/조업/77. 타망 조업.jpg\n",
      "이미지 이동 완료: /home/elicer/FIshing_vessel-1/resized_imgdata/77. 타망 표류.jpg -> /home/elicer/FIshing_vessel-1/categorized_imgdata/표류/77. 타망 표류.jpg\n",
      "이미지 이동 완료: /home/elicer/FIshing_vessel-1/resized_imgdata/78 타망 이동.jpg -> /home/elicer/FIshing_vessel-1/categorized_imgdata/이동/78 타망 이동.jpg\n",
      "이미지 이동 완료: /home/elicer/FIshing_vessel-1/resized_imgdata/78. 범장망 이동.jpg -> /home/elicer/FIshing_vessel-1/categorized_imgdata/이동/78. 범장망 이동.jpg\n",
      "이미지 이동 완료: /home/elicer/FIshing_vessel-1/resized_imgdata/78. 범장망 표류.jpg -> /home/elicer/FIshing_vessel-1/categorized_imgdata/표류/78. 범장망 표류.jpg\n",
      "이미지 이동 완료: /home/elicer/FIshing_vessel-1/resized_imgdata/78. 유망 표류.jpg -> /home/elicer/FIshing_vessel-1/categorized_imgdata/표류/78. 유망 표류.jpg\n",
      "이미지 이동 완료: /home/elicer/FIshing_vessel-1/resized_imgdata/78. 타망 표류.jpg -> /home/elicer/FIshing_vessel-1/categorized_imgdata/표류/78. 타망 표류.jpg\n",
      "이미지 이동 완료: /home/elicer/FIshing_vessel-1/resized_imgdata/78. 타망 조업.jpg -> /home/elicer/FIshing_vessel-1/categorized_imgdata/조업/78. 타망 조업.jpg\n",
      "이미지 이동 완료: /home/elicer/FIshing_vessel-1/resized_imgdata/79. 범장망 이동.jpg -> /home/elicer/FIshing_vessel-1/categorized_imgdata/이동/79. 범장망 이동.jpg\n",
      "이미지 이동 완료: /home/elicer/FIshing_vessel-1/resized_imgdata/79. 범장망 표류.jpg -> /home/elicer/FIshing_vessel-1/categorized_imgdata/표류/79. 범장망 표류.jpg\n",
      "이미지 이동 완료: /home/elicer/FIshing_vessel-1/resized_imgdata/79 타망 이동.png -> /home/elicer/FIshing_vessel-1/categorized_imgdata/이동/79 타망 이동.png\n",
      "이미지 이동 완료: /home/elicer/FIshing_vessel-1/resized_imgdata/79. 유망 표류.jpg -> /home/elicer/FIshing_vessel-1/categorized_imgdata/표류/79. 유망 표류.jpg\n",
      "이미지 이동 완료: /home/elicer/FIshing_vessel-1/resized_imgdata/79. 타망 조업.jpg -> /home/elicer/FIshing_vessel-1/categorized_imgdata/조업/79. 타망 조업.jpg\n",
      "이미지 이동 완료: /home/elicer/FIshing_vessel-1/resized_imgdata/79. 타망 표류.jpg -> /home/elicer/FIshing_vessel-1/categorized_imgdata/표류/79. 타망 표류.jpg\n",
      "이미지 이동 완료: /home/elicer/FIshing_vessel-1/resized_imgdata/8. 낚시어선 이동.jpg -> /home/elicer/FIshing_vessel-1/categorized_imgdata/이동/8. 낚시어선 이동.jpg\n",
      "이미지 이동 완료: /home/elicer/FIshing_vessel-1/resized_imgdata/8. 낚시어선 조업.jpg -> /home/elicer/FIshing_vessel-1/categorized_imgdata/조업/8. 낚시어선 조업.jpg\n",
      "이미지 이동 완료: /home/elicer/FIshing_vessel-1/resized_imgdata/8. 낚시어선 표류.jpg -> /home/elicer/FIshing_vessel-1/categorized_imgdata/표류/8. 낚시어선 표류.jpg\n",
      "이미지 이동 완료: /home/elicer/FIshing_vessel-1/resized_imgdata/8. 등광조망 이동.jpg -> /home/elicer/FIshing_vessel-1/categorized_imgdata/이동/8. 등광조망 이동.jpg\n",
      "이미지 이동 완료: /home/elicer/FIshing_vessel-1/resized_imgdata/8. 등광조망 조업.jpg -> /home/elicer/FIshing_vessel-1/categorized_imgdata/조업/8. 등광조망 조업.jpg\n",
      "이미지 이동 완료: /home/elicer/FIshing_vessel-1/resized_imgdata/8. 등광조망 표류.jpg -> /home/elicer/FIshing_vessel-1/categorized_imgdata/표류/8. 등광조망 표류.jpg\n",
      "이미지 이동 완료: /home/elicer/FIshing_vessel-1/resized_imgdata/8. 범장망 이동.jpg -> /home/elicer/FIshing_vessel-1/categorized_imgdata/이동/8. 범장망 이동.jpg\n",
      "이미지 이동 완료: /home/elicer/FIshing_vessel-1/resized_imgdata/8. 범장망 표류.jpg -> /home/elicer/FIshing_vessel-1/categorized_imgdata/표류/8. 범장망 표류.jpg\n",
      "이미지 이동 완료: /home/elicer/FIshing_vessel-1/resized_imgdata/8. 범장망 조업.jpg -> /home/elicer/FIshing_vessel-1/categorized_imgdata/조업/8. 범장망 조업.jpg\n",
      "이미지 이동 완료: /home/elicer/FIshing_vessel-1/resized_imgdata/8. 안강망 이동.jpg -> /home/elicer/FIshing_vessel-1/categorized_imgdata/이동/8. 안강망 이동.jpg\n",
      "이미지 이동 완료: /home/elicer/FIshing_vessel-1/resized_imgdata/8. 안강망 조업.jpg -> /home/elicer/FIshing_vessel-1/categorized_imgdata/조업/8. 안강망 조업.jpg\n",
      "이미지 이동 완료: /home/elicer/FIshing_vessel-1/resized_imgdata/8. 안강망 표류.jpg -> /home/elicer/FIshing_vessel-1/categorized_imgdata/표류/8. 안강망 표류.jpg\n",
      "이미지 이동 완료: /home/elicer/FIshing_vessel-1/resized_imgdata/8. 연승 이동.jpg -> /home/elicer/FIshing_vessel-1/categorized_imgdata/이동/8. 연승 이동.jpg\n",
      "이미지 이동 완료: /home/elicer/FIshing_vessel-1/resized_imgdata/8. 연승 표류.jpg -> /home/elicer/FIshing_vessel-1/categorized_imgdata/표류/8. 연승 표류.jpg\n",
      "이미지 이동 완료: /home/elicer/FIshing_vessel-1/resized_imgdata/8. 유망 이동.jpg -> /home/elicer/FIshing_vessel-1/categorized_imgdata/이동/8. 유망 이동.jpg\n",
      "이미지 이동 완료: /home/elicer/FIshing_vessel-1/resized_imgdata/8. 유망 표류.jpg -> /home/elicer/FIshing_vessel-1/categorized_imgdata/표류/8. 유망 표류.jpg\n",
      "이미지 이동 완료: /home/elicer/FIshing_vessel-1/resized_imgdata/8. 유망 조업.jpg -> /home/elicer/FIshing_vessel-1/categorized_imgdata/조업/8. 유망 조업.jpg\n",
      "이미지 이동 완료: /home/elicer/FIshing_vessel-1/resized_imgdata/8. 저인망 이동.jpg -> /home/elicer/FIshing_vessel-1/categorized_imgdata/이동/8. 저인망 이동.jpg\n",
      "이미지 이동 완료: /home/elicer/FIshing_vessel-1/resized_imgdata/8. 저인망 조업.jpg -> /home/elicer/FIshing_vessel-1/categorized_imgdata/조업/8. 저인망 조업.jpg\n",
      "이미지 이동 완료: /home/elicer/FIshing_vessel-1/resized_imgdata/8. 채낚기  표류.jpg -> /home/elicer/FIshing_vessel-1/categorized_imgdata/표류/8. 채낚기  표류.jpg\n",
      "이미지 이동 완료: /home/elicer/FIshing_vessel-1/resized_imgdata/8. 채낚기 이동.jpg -> /home/elicer/FIshing_vessel-1/categorized_imgdata/이동/8. 채낚기 이동.jpg\n",
      "이미지 이동 완료: /home/elicer/FIshing_vessel-1/resized_imgdata/8. 타망 조업.jpg -> /home/elicer/FIshing_vessel-1/categorized_imgdata/조업/8. 타망 조업.jpg\n",
      "이미지 이동 완료: /home/elicer/FIshing_vessel-1/resized_imgdata/8. 타망 표류.jpg -> /home/elicer/FIshing_vessel-1/categorized_imgdata/표류/8. 타망 표류.jpg\n",
      "이미지 이동 완료: /home/elicer/FIshing_vessel-1/resized_imgdata/8. 통발 이동.jpg -> /home/elicer/FIshing_vessel-1/categorized_imgdata/이동/8. 통발 이동.jpg\n",
      "이미지 이동 완료: /home/elicer/FIshing_vessel-1/resized_imgdata/80 타망 이동.jpg -> /home/elicer/FIshing_vessel-1/categorized_imgdata/이동/80 타망 이동.jpg\n",
      "이미지 이동 완료: /home/elicer/FIshing_vessel-1/resized_imgdata/80. 범장망 이동.jpg -> /home/elicer/FIshing_vessel-1/categorized_imgdata/이동/80. 범장망 이동.jpg\n",
      "이미지 이동 완료: /home/elicer/FIshing_vessel-1/resized_imgdata/8. 통발 표류.jpg -> /home/elicer/FIshing_vessel-1/categorized_imgdata/표류/8. 통발 표류.jpg\n",
      "이미지 이동 완료: /home/elicer/FIshing_vessel-1/resized_imgdata/80. 범장망 표류.jpg -> /home/elicer/FIshing_vessel-1/categorized_imgdata/표류/80. 범장망 표류.jpg\n",
      "이미지 이동 완료: /home/elicer/FIshing_vessel-1/resized_imgdata/80. 유망 표류.jpg -> /home/elicer/FIshing_vessel-1/categorized_imgdata/표류/80. 유망 표류.jpg\n",
      "이미지 이동 완료: /home/elicer/FIshing_vessel-1/resized_imgdata/80. 타망 조업.jpg -> /home/elicer/FIshing_vessel-1/categorized_imgdata/조업/80. 타망 조업.jpg\n",
      "이미지 이동 완료: /home/elicer/FIshing_vessel-1/resized_imgdata/80. 타망 표류.jpg -> /home/elicer/FIshing_vessel-1/categorized_imgdata/표류/80. 타망 표류.jpg\n",
      "이미지 이동 완료: /home/elicer/FIshing_vessel-1/resized_imgdata/81 타망 이동.png -> /home/elicer/FIshing_vessel-1/categorized_imgdata/이동/81 타망 이동.png\n",
      "이미지 이동 완료: /home/elicer/FIshing_vessel-1/resized_imgdata/81. 범장망 표류.jpg -> /home/elicer/FIshing_vessel-1/categorized_imgdata/표류/81. 범장망 표류.jpg\n",
      "이미지 이동 완료: /home/elicer/FIshing_vessel-1/resized_imgdata/81. 유망 표류.jpg -> /home/elicer/FIshing_vessel-1/categorized_imgdata/표류/81. 유망 표류.jpg\n",
      "이미지 이동 완료: /home/elicer/FIshing_vessel-1/resized_imgdata/81. 범장망 이동.jpg -> /home/elicer/FIshing_vessel-1/categorized_imgdata/이동/81. 범장망 이동.jpg\n",
      "이미지 이동 완료: /home/elicer/FIshing_vessel-1/resized_imgdata/81. 타망 조업.jpg -> /home/elicer/FIshing_vessel-1/categorized_imgdata/조업/81. 타망 조업.jpg\n",
      "이미지 이동 완료: /home/elicer/FIshing_vessel-1/resized_imgdata/81. 타망 표류.jpg -> /home/elicer/FIshing_vessel-1/categorized_imgdata/표류/81. 타망 표류.jpg\n",
      "이미지 이동 완료: /home/elicer/FIshing_vessel-1/resized_imgdata/82 타망 이동.jpg -> /home/elicer/FIshing_vessel-1/categorized_imgdata/이동/82 타망 이동.jpg\n",
      "이미지 이동 완료: /home/elicer/FIshing_vessel-1/resized_imgdata/82. 범장망 이동.jpg -> /home/elicer/FIshing_vessel-1/categorized_imgdata/이동/82. 범장망 이동.jpg\n",
      "이미지 이동 완료: /home/elicer/FIshing_vessel-1/resized_imgdata/82. 범장망 표류.jpg -> /home/elicer/FIshing_vessel-1/categorized_imgdata/표류/82. 범장망 표류.jpg\n",
      "이미지 이동 완료: /home/elicer/FIshing_vessel-1/resized_imgdata/82. 유망 표류.jpg -> /home/elicer/FIshing_vessel-1/categorized_imgdata/표류/82. 유망 표류.jpg\n",
      "이미지 이동 완료: /home/elicer/FIshing_vessel-1/resized_imgdata/82. 타망 조업.jpg -> /home/elicer/FIshing_vessel-1/categorized_imgdata/조업/82. 타망 조업.jpg\n",
      "이미지 이동 완료: /home/elicer/FIshing_vessel-1/resized_imgdata/82. 타망 표류.jpg -> /home/elicer/FIshing_vessel-1/categorized_imgdata/표류/82. 타망 표류.jpg\n",
      "이미지 이동 완료: /home/elicer/FIshing_vessel-1/resized_imgdata/83 타망 이동.png -> /home/elicer/FIshing_vessel-1/categorized_imgdata/이동/83 타망 이동.png\n",
      "이미지 이동 완료: /home/elicer/FIshing_vessel-1/resized_imgdata/83. 범장망 이동.jpg -> /home/elicer/FIshing_vessel-1/categorized_imgdata/이동/83. 범장망 이동.jpg\n",
      "이미지 이동 완료: /home/elicer/FIshing_vessel-1/resized_imgdata/83. 유망 표류.jpg -> /home/elicer/FIshing_vessel-1/categorized_imgdata/표류/83. 유망 표류.jpg\n",
      "이미지 이동 완료: /home/elicer/FIshing_vessel-1/resized_imgdata/83. 범장망 표류.jpg -> /home/elicer/FIshing_vessel-1/categorized_imgdata/표류/83. 범장망 표류.jpg\n",
      "이미지 이동 완료: /home/elicer/FIshing_vessel-1/resized_imgdata/83. 타망 조업.jpg -> /home/elicer/FIshing_vessel-1/categorized_imgdata/조업/83. 타망 조업.jpg\n",
      "이미지 이동 완료: /home/elicer/FIshing_vessel-1/resized_imgdata/83. 타망 표류.jpg -> /home/elicer/FIshing_vessel-1/categorized_imgdata/표류/83. 타망 표류.jpg\n",
      "이미지 이동 완료: /home/elicer/FIshing_vessel-1/resized_imgdata/84 타망 이동.jpg -> /home/elicer/FIshing_vessel-1/categorized_imgdata/이동/84 타망 이동.jpg\n",
      "이미지 이동 완료: /home/elicer/FIshing_vessel-1/resized_imgdata/84. 범장망 이동.jpg -> /home/elicer/FIshing_vessel-1/categorized_imgdata/이동/84. 범장망 이동.jpg\n",
      "이미지 이동 완료: /home/elicer/FIshing_vessel-1/resized_imgdata/84. 범장망 표류.jpg -> /home/elicer/FIshing_vessel-1/categorized_imgdata/표류/84. 범장망 표류.jpg\n",
      "이미지 이동 완료: /home/elicer/FIshing_vessel-1/resized_imgdata/84. 유망 표류.jpg -> /home/elicer/FIshing_vessel-1/categorized_imgdata/표류/84. 유망 표류.jpg\n",
      "이미지 이동 완료: /home/elicer/FIshing_vessel-1/resized_imgdata/84. 타망 조업.jpg -> /home/elicer/FIshing_vessel-1/categorized_imgdata/조업/84. 타망 조업.jpg\n",
      "이미지 이동 완료: /home/elicer/FIshing_vessel-1/resized_imgdata/84. 타망 표류.jpg -> /home/elicer/FIshing_vessel-1/categorized_imgdata/표류/84. 타망 표류.jpg\n",
      "이미지 이동 완료: /home/elicer/FIshing_vessel-1/resized_imgdata/85 타망 이동.png -> /home/elicer/FIshing_vessel-1/categorized_imgdata/이동/85 타망 이동.png\n",
      "이미지 이동 완료: /home/elicer/FIshing_vessel-1/resized_imgdata/85. 범장망 이동.jpg -> /home/elicer/FIshing_vessel-1/categorized_imgdata/이동/85. 범장망 이동.jpg\n",
      "이미지 이동 완료: /home/elicer/FIshing_vessel-1/resized_imgdata/85. 범장망 표류.jpg -> /home/elicer/FIshing_vessel-1/categorized_imgdata/표류/85. 범장망 표류.jpg\n",
      "이미지 이동 완료: /home/elicer/FIshing_vessel-1/resized_imgdata/85. 유망 표류.jpg -> /home/elicer/FIshing_vessel-1/categorized_imgdata/표류/85. 유망 표류.jpg\n",
      "이미지 이동 완료: /home/elicer/FIshing_vessel-1/resized_imgdata/85. 타망 조업.jpg -> /home/elicer/FIshing_vessel-1/categorized_imgdata/조업/85. 타망 조업.jpg\n",
      "이미지 이동 완료: /home/elicer/FIshing_vessel-1/resized_imgdata/85. 타망 표류.jpg -> /home/elicer/FIshing_vessel-1/categorized_imgdata/표류/85. 타망 표류.jpg\n",
      "이미지 이동 완료: /home/elicer/FIshing_vessel-1/resized_imgdata/86 타망 이동.jpg -> /home/elicer/FIshing_vessel-1/categorized_imgdata/이동/86 타망 이동.jpg\n",
      "이미지 이동 완료: /home/elicer/FIshing_vessel-1/resized_imgdata/86. 범장망 이동.jpg -> /home/elicer/FIshing_vessel-1/categorized_imgdata/이동/86. 범장망 이동.jpg\n",
      "이미지 이동 완료: /home/elicer/FIshing_vessel-1/resized_imgdata/86. 타망 조업.jpg -> /home/elicer/FIshing_vessel-1/categorized_imgdata/조업/86. 타망 조업.jpg\n",
      "이미지 이동 완료: /home/elicer/FIshing_vessel-1/resized_imgdata/86. 범장망 표류.jpg -> /home/elicer/FIshing_vessel-1/categorized_imgdata/표류/86. 범장망 표류.jpg\n",
      "이미지 이동 완료: /home/elicer/FIshing_vessel-1/resized_imgdata/87 타망 이동.png -> /home/elicer/FIshing_vessel-1/categorized_imgdata/이동/87 타망 이동.png\n",
      "이미지 이동 완료: /home/elicer/FIshing_vessel-1/resized_imgdata/86. 타망 표류.jpg -> /home/elicer/FIshing_vessel-1/categorized_imgdata/표류/86. 타망 표류.jpg\n",
      "이미지 이동 완료: /home/elicer/FIshing_vessel-1/resized_imgdata/87. 범장망 이동.jpg -> /home/elicer/FIshing_vessel-1/categorized_imgdata/이동/87. 범장망 이동.jpg\n",
      "이미지 이동 완료: /home/elicer/FIshing_vessel-1/resized_imgdata/87. 범장망 표류.jpg -> /home/elicer/FIshing_vessel-1/categorized_imgdata/표류/87. 범장망 표류.jpg\n",
      "이미지 이동 완료: /home/elicer/FIshing_vessel-1/resized_imgdata/87. 유망 표류.jpg -> /home/elicer/FIshing_vessel-1/categorized_imgdata/표류/87. 유망 표류.jpg\n",
      "이미지 이동 완료: /home/elicer/FIshing_vessel-1/resized_imgdata/87. 타망 조업.jpg -> /home/elicer/FIshing_vessel-1/categorized_imgdata/조업/87. 타망 조업.jpg\n",
      "이미지 이동 완료: /home/elicer/FIshing_vessel-1/resized_imgdata/87. 타망 표류.jpg -> /home/elicer/FIshing_vessel-1/categorized_imgdata/표류/87. 타망 표류.jpg\n",
      "이미지 이동 완료: /home/elicer/FIshing_vessel-1/resized_imgdata/88 타망 이동.jpg -> /home/elicer/FIshing_vessel-1/categorized_imgdata/이동/88 타망 이동.jpg\n",
      "이미지 이동 완료: /home/elicer/FIshing_vessel-1/resized_imgdata/88. 범장망 이동.jpg -> /home/elicer/FIshing_vessel-1/categorized_imgdata/이동/88. 범장망 이동.jpg\n",
      "이미지 이동 완료: /home/elicer/FIshing_vessel-1/resized_imgdata/88. 범장망 표류.jpg -> /home/elicer/FIshing_vessel-1/categorized_imgdata/표류/88. 범장망 표류.jpg\n",
      "이미지 이동 완료: /home/elicer/FIshing_vessel-1/resized_imgdata/88. 유망 표류.jpg -> /home/elicer/FIshing_vessel-1/categorized_imgdata/표류/88. 유망 표류.jpg\n",
      "이미지 이동 완료: /home/elicer/FIshing_vessel-1/resized_imgdata/88. 타망 조업.jpg -> /home/elicer/FIshing_vessel-1/categorized_imgdata/조업/88. 타망 조업.jpg\n",
      "이미지 이동 완료: /home/elicer/FIshing_vessel-1/resized_imgdata/88. 타망 표류.jpg -> /home/elicer/FIshing_vessel-1/categorized_imgdata/표류/88. 타망 표류.jpg\n",
      "이미지 이동 완료: /home/elicer/FIshing_vessel-1/resized_imgdata/89 타망 이동.jpg -> /home/elicer/FIshing_vessel-1/categorized_imgdata/이동/89 타망 이동.jpg\n",
      "이미지 이동 완료: /home/elicer/FIshing_vessel-1/resized_imgdata/89. 범장망 이동.jpg -> /home/elicer/FIshing_vessel-1/categorized_imgdata/이동/89. 범장망 이동.jpg\n",
      "이미지 이동 완료: /home/elicer/FIshing_vessel-1/resized_imgdata/89. 범장망 표류.jpg -> /home/elicer/FIshing_vessel-1/categorized_imgdata/표류/89. 범장망 표류.jpg\n",
      "이미지 이동 완료: /home/elicer/FIshing_vessel-1/resized_imgdata/89. 유망 표류.jpg -> /home/elicer/FIshing_vessel-1/categorized_imgdata/표류/89. 유망 표류.jpg\n",
      "이미지 이동 완료: /home/elicer/FIshing_vessel-1/resized_imgdata/89. 타망 조업.jpg -> /home/elicer/FIshing_vessel-1/categorized_imgdata/조업/89. 타망 조업.jpg\n",
      "이미지 이동 완료: /home/elicer/FIshing_vessel-1/resized_imgdata/9. 낚시어선 이동.jpg -> /home/elicer/FIshing_vessel-1/categorized_imgdata/이동/9. 낚시어선 이동.jpg\n",
      "이미지 이동 완료: /home/elicer/FIshing_vessel-1/resized_imgdata/9. 등광조망 이동.jpg -> /home/elicer/FIshing_vessel-1/categorized_imgdata/이동/9. 등광조망 이동.jpg\n",
      "이미지 이동 완료: /home/elicer/FIshing_vessel-1/resized_imgdata/9. 낚시어선 표류.jpg -> /home/elicer/FIshing_vessel-1/categorized_imgdata/표류/9. 낚시어선 표류.jpg\n",
      "이미지 이동 완료: /home/elicer/FIshing_vessel-1/resized_imgdata/9. 등광조망 조업.jpg -> /home/elicer/FIshing_vessel-1/categorized_imgdata/조업/9. 등광조망 조업.jpg\n",
      "이미지 이동 완료: /home/elicer/FIshing_vessel-1/resized_imgdata/9. 등광조망 표류.jpg -> /home/elicer/FIshing_vessel-1/categorized_imgdata/표류/9. 등광조망 표류.jpg\n",
      "이미지 이동 완료: /home/elicer/FIshing_vessel-1/resized_imgdata/89. 타망 표류.png -> /home/elicer/FIshing_vessel-1/categorized_imgdata/표류/89. 타망 표류.png\n",
      "이미지 이동 완료: /home/elicer/FIshing_vessel-1/resized_imgdata/9. 범장망 이동.jpg -> /home/elicer/FIshing_vessel-1/categorized_imgdata/이동/9. 범장망 이동.jpg\n",
      "이미지 이동 완료: /home/elicer/FIshing_vessel-1/resized_imgdata/9. 범장망 조업.jpg -> /home/elicer/FIshing_vessel-1/categorized_imgdata/조업/9. 범장망 조업.jpg\n",
      "이미지 이동 완료: /home/elicer/FIshing_vessel-1/resized_imgdata/9. 범장망 표류.jpg -> /home/elicer/FIshing_vessel-1/categorized_imgdata/표류/9. 범장망 표류.jpg\n",
      "이미지 이동 완료: /home/elicer/FIshing_vessel-1/resized_imgdata/9. 안강망 이동.jpg -> /home/elicer/FIshing_vessel-1/categorized_imgdata/이동/9. 안강망 이동.jpg\n",
      "이미지 이동 완료: /home/elicer/FIshing_vessel-1/resized_imgdata/9. 안강망 조업.jpg -> /home/elicer/FIshing_vessel-1/categorized_imgdata/조업/9. 안강망 조업.jpg\n",
      "이미지 이동 완료: /home/elicer/FIshing_vessel-1/resized_imgdata/9. 안강망 표류.jpg -> /home/elicer/FIshing_vessel-1/categorized_imgdata/표류/9. 안강망 표류.jpg\n",
      "이미지 이동 완료: /home/elicer/FIshing_vessel-1/resized_imgdata/9. 연승 이동.jpg -> /home/elicer/FIshing_vessel-1/categorized_imgdata/이동/9. 연승 이동.jpg\n",
      "이미지 이동 완료: /home/elicer/FIshing_vessel-1/resized_imgdata/9. 연승 표류.jpg -> /home/elicer/FIshing_vessel-1/categorized_imgdata/표류/9. 연승 표류.jpg\n",
      "이미지 이동 완료: /home/elicer/FIshing_vessel-1/resized_imgdata/9. 유망 이동.jpg -> /home/elicer/FIshing_vessel-1/categorized_imgdata/이동/9. 유망 이동.jpg\n",
      "이미지 이동 완료: /home/elicer/FIshing_vessel-1/resized_imgdata/9. 유망 조업.jpg -> /home/elicer/FIshing_vessel-1/categorized_imgdata/조업/9. 유망 조업.jpg\n",
      "이미지 이동 완료: /home/elicer/FIshing_vessel-1/resized_imgdata/9. 유망 표류.jpg -> /home/elicer/FIshing_vessel-1/categorized_imgdata/표류/9. 유망 표류.jpg\n",
      "이미지 이동 완료: /home/elicer/FIshing_vessel-1/resized_imgdata/9. 저인망 이동.jpg -> /home/elicer/FIshing_vessel-1/categorized_imgdata/이동/9. 저인망 이동.jpg\n",
      "이미지 이동 완료: /home/elicer/FIshing_vessel-1/resized_imgdata/9. 저인망 조업.jpg -> /home/elicer/FIshing_vessel-1/categorized_imgdata/조업/9. 저인망 조업.jpg\n",
      "이미지 이동 완료: /home/elicer/FIshing_vessel-1/resized_imgdata/9. 채낚기  표류.jpg -> /home/elicer/FIshing_vessel-1/categorized_imgdata/표류/9. 채낚기  표류.jpg\n",
      "이미지 이동 완료: /home/elicer/FIshing_vessel-1/resized_imgdata/9. 타망 이동.jpg -> /home/elicer/FIshing_vessel-1/categorized_imgdata/이동/9. 타망 이동.jpg\n",
      "이미지 이동 완료: /home/elicer/FIshing_vessel-1/resized_imgdata/9. 채낚기 이동.jpg -> /home/elicer/FIshing_vessel-1/categorized_imgdata/이동/9. 채낚기 이동.jpg\n",
      "이미지 이동 완료: /home/elicer/FIshing_vessel-1/resized_imgdata/9. 타망 조업.jpg -> /home/elicer/FIshing_vessel-1/categorized_imgdata/조업/9. 타망 조업.jpg\n",
      "이미지 이동 완료: /home/elicer/FIshing_vessel-1/resized_imgdata/9. 통발 이동.jpg -> /home/elicer/FIshing_vessel-1/categorized_imgdata/이동/9. 통발 이동.jpg\n",
      "이미지 이동 완료: /home/elicer/FIshing_vessel-1/resized_imgdata/9. 타망 표류.jpg -> /home/elicer/FIshing_vessel-1/categorized_imgdata/표류/9. 타망 표류.jpg\n",
      "이미지 이동 완료: /home/elicer/FIshing_vessel-1/resized_imgdata/90. 범장망 이동.jpg -> /home/elicer/FIshing_vessel-1/categorized_imgdata/이동/90. 범장망 이동.jpg\n",
      "이미지 이동 완료: /home/elicer/FIshing_vessel-1/resized_imgdata/90 타망 이동.jpg -> /home/elicer/FIshing_vessel-1/categorized_imgdata/이동/90 타망 이동.jpg\n",
      "이미지 이동 완료: /home/elicer/FIshing_vessel-1/resized_imgdata/90. 범장망 표류.jpg -> /home/elicer/FIshing_vessel-1/categorized_imgdata/표류/90. 범장망 표류.jpg\n",
      "이미지 이동 완료: /home/elicer/FIshing_vessel-1/resized_imgdata/90. 유망 표류.jpg -> /home/elicer/FIshing_vessel-1/categorized_imgdata/표류/90. 유망 표류.jpg\n",
      "이미지 이동 완료: /home/elicer/FIshing_vessel-1/resized_imgdata/90. 타망 조업.png -> /home/elicer/FIshing_vessel-1/categorized_imgdata/조업/90. 타망 조업.png\n",
      "이미지 이동 완료: /home/elicer/FIshing_vessel-1/resized_imgdata/90. 타망 표류.jpg -> /home/elicer/FIshing_vessel-1/categorized_imgdata/표류/90. 타망 표류.jpg\n",
      "이미지 이동 완료: /home/elicer/FIshing_vessel-1/resized_imgdata/91 타망 이동.jpg -> /home/elicer/FIshing_vessel-1/categorized_imgdata/이동/91 타망 이동.jpg\n",
      "이미지 이동 완료: /home/elicer/FIshing_vessel-1/resized_imgdata/91. 유망 표류.jpg -> /home/elicer/FIshing_vessel-1/categorized_imgdata/표류/91. 유망 표류.jpg\n",
      "이미지 이동 완료: /home/elicer/FIshing_vessel-1/resized_imgdata/91. 범장망 이동.jpg -> /home/elicer/FIshing_vessel-1/categorized_imgdata/이동/91. 범장망 이동.jpg\n",
      "이미지 이동 완료: /home/elicer/FIshing_vessel-1/resized_imgdata/91. 범장망 표류.jpg -> /home/elicer/FIshing_vessel-1/categorized_imgdata/표류/91. 범장망 표류.jpg\n",
      "이미지 이동 완료: /home/elicer/FIshing_vessel-1/resized_imgdata/91. 타망 조업.jpg -> /home/elicer/FIshing_vessel-1/categorized_imgdata/조업/91. 타망 조업.jpg\n",
      "이미지 이동 완료: /home/elicer/FIshing_vessel-1/resized_imgdata/91. 타망 표류.jpg -> /home/elicer/FIshing_vessel-1/categorized_imgdata/표류/91. 타망 표류.jpg\n",
      "이미지 이동 완료: /home/elicer/FIshing_vessel-1/resized_imgdata/92 타망 이동.jpg -> /home/elicer/FIshing_vessel-1/categorized_imgdata/이동/92 타망 이동.jpg\n",
      "이미지 이동 완료: /home/elicer/FIshing_vessel-1/resized_imgdata/92. 범장망 이동.jpg -> /home/elicer/FIshing_vessel-1/categorized_imgdata/이동/92. 범장망 이동.jpg\n",
      "이미지 이동 완료: /home/elicer/FIshing_vessel-1/resized_imgdata/92. 유망 표류.jpg -> /home/elicer/FIshing_vessel-1/categorized_imgdata/표류/92. 유망 표류.jpg\n",
      "이미지 이동 완료: /home/elicer/FIshing_vessel-1/resized_imgdata/92. 범장망 표류.jpg -> /home/elicer/FIshing_vessel-1/categorized_imgdata/표류/92. 범장망 표류.jpg\n",
      "이미지 이동 완료: /home/elicer/FIshing_vessel-1/resized_imgdata/92. 타망 표류.jpg -> /home/elicer/FIshing_vessel-1/categorized_imgdata/표류/92. 타망 표류.jpg\n",
      "이미지 이동 완료: /home/elicer/FIshing_vessel-1/resized_imgdata/92. 타망 조업.jpg -> /home/elicer/FIshing_vessel-1/categorized_imgdata/조업/92. 타망 조업.jpg\n",
      "이미지 이동 완료: /home/elicer/FIshing_vessel-1/resized_imgdata/93 타망 이동.jpg -> /home/elicer/FIshing_vessel-1/categorized_imgdata/이동/93 타망 이동.jpg\n",
      "이미지 이동 완료: /home/elicer/FIshing_vessel-1/resized_imgdata/93. 범장망 이동.jpg -> /home/elicer/FIshing_vessel-1/categorized_imgdata/이동/93. 범장망 이동.jpg\n",
      "이미지 이동 완료: /home/elicer/FIshing_vessel-1/resized_imgdata/93. 범장망 표류.jpg -> /home/elicer/FIshing_vessel-1/categorized_imgdata/표류/93. 범장망 표류.jpg\n",
      "이미지 이동 완료: /home/elicer/FIshing_vessel-1/resized_imgdata/93. 유망 표류.jpg -> /home/elicer/FIshing_vessel-1/categorized_imgdata/표류/93. 유망 표류.jpg\n",
      "이미지 이동 완료: /home/elicer/FIshing_vessel-1/resized_imgdata/93. 타망 조업.jpg -> /home/elicer/FIshing_vessel-1/categorized_imgdata/조업/93. 타망 조업.jpg\n",
      "이미지 이동 완료: /home/elicer/FIshing_vessel-1/resized_imgdata/93. 타망 표류.jpg -> /home/elicer/FIshing_vessel-1/categorized_imgdata/표류/93. 타망 표류.jpg\n",
      "이미지 이동 완료: /home/elicer/FIshing_vessel-1/resized_imgdata/94 타망 이동.jpg -> /home/elicer/FIshing_vessel-1/categorized_imgdata/이동/94 타망 이동.jpg\n",
      "이미지 이동 완료: /home/elicer/FIshing_vessel-1/resized_imgdata/94. 범장망 이동.jpg -> /home/elicer/FIshing_vessel-1/categorized_imgdata/이동/94. 범장망 이동.jpg\n",
      "이미지 이동 완료: /home/elicer/FIshing_vessel-1/resized_imgdata/94. 유망 표류.jpg -> /home/elicer/FIshing_vessel-1/categorized_imgdata/표류/94. 유망 표류.jpg\n",
      "이미지 이동 완료: /home/elicer/FIshing_vessel-1/resized_imgdata/94. 범장망 표류.jpg -> /home/elicer/FIshing_vessel-1/categorized_imgdata/표류/94. 범장망 표류.jpg\n",
      "이미지 이동 완료: /home/elicer/FIshing_vessel-1/resized_imgdata/94. 타망 조업.jpg -> /home/elicer/FIshing_vessel-1/categorized_imgdata/조업/94. 타망 조업.jpg\n",
      "이미지 이동 완료: /home/elicer/FIshing_vessel-1/resized_imgdata/94. 타망 표류.jpg -> /home/elicer/FIshing_vessel-1/categorized_imgdata/표류/94. 타망 표류.jpg\n",
      "이미지 이동 완료: /home/elicer/FIshing_vessel-1/resized_imgdata/95 타망 이동.jpg -> /home/elicer/FIshing_vessel-1/categorized_imgdata/이동/95 타망 이동.jpg\n",
      "이미지 이동 완료: /home/elicer/FIshing_vessel-1/resized_imgdata/95. 범장망 이동.jpg -> /home/elicer/FIshing_vessel-1/categorized_imgdata/이동/95. 범장망 이동.jpg\n",
      "이미지 이동 완료: /home/elicer/FIshing_vessel-1/resized_imgdata/95. 범장망 표류.jpg -> /home/elicer/FIshing_vessel-1/categorized_imgdata/표류/95. 범장망 표류.jpg\n",
      "이미지 이동 완료: /home/elicer/FIshing_vessel-1/resized_imgdata/95. 유망 표류.png -> /home/elicer/FIshing_vessel-1/categorized_imgdata/표류/95. 유망 표류.png\n",
      "이미지 이동 완료: /home/elicer/FIshing_vessel-1/resized_imgdata/95. 타망 조업.jpg -> /home/elicer/FIshing_vessel-1/categorized_imgdata/조업/95. 타망 조업.jpg\n",
      "이미지 이동 완료: /home/elicer/FIshing_vessel-1/resized_imgdata/95. 타망 표류.jpg -> /home/elicer/FIshing_vessel-1/categorized_imgdata/표류/95. 타망 표류.jpg\n",
      "이미지 이동 완료: /home/elicer/FIshing_vessel-1/resized_imgdata/96 타망 이동.jpg -> /home/elicer/FIshing_vessel-1/categorized_imgdata/이동/96 타망 이동.jpg\n",
      "이미지 이동 완료: /home/elicer/FIshing_vessel-1/resized_imgdata/96. 범장망 표류.jpg -> /home/elicer/FIshing_vessel-1/categorized_imgdata/표류/96. 범장망 표류.jpg\n",
      "이미지 이동 완료: /home/elicer/FIshing_vessel-1/resized_imgdata/96. 범장망 이동.jpg -> /home/elicer/FIshing_vessel-1/categorized_imgdata/이동/96. 범장망 이동.jpg\n",
      "이미지 이동 완료: /home/elicer/FIshing_vessel-1/resized_imgdata/96. 유망 표류.jpg -> /home/elicer/FIshing_vessel-1/categorized_imgdata/표류/96. 유망 표류.jpg\n",
      "이미지 이동 완료: /home/elicer/FIshing_vessel-1/resized_imgdata/96. 타망 조업.jpg -> /home/elicer/FIshing_vessel-1/categorized_imgdata/조업/96. 타망 조업.jpg\n",
      "이미지 이동 완료: /home/elicer/FIshing_vessel-1/resized_imgdata/97 타망 이동.jpg -> /home/elicer/FIshing_vessel-1/categorized_imgdata/이동/97 타망 이동.jpg\n",
      "이미지 이동 완료: /home/elicer/FIshing_vessel-1/resized_imgdata/96. 타망 표류.jpg -> /home/elicer/FIshing_vessel-1/categorized_imgdata/표류/96. 타망 표류.jpg\n",
      "이미지 이동 완료: /home/elicer/FIshing_vessel-1/resized_imgdata/97. 범장망 이동.jpg -> /home/elicer/FIshing_vessel-1/categorized_imgdata/이동/97. 범장망 이동.jpg\n",
      "이미지 이동 완료: /home/elicer/FIshing_vessel-1/resized_imgdata/97. 범장망 표류.jpg -> /home/elicer/FIshing_vessel-1/categorized_imgdata/표류/97. 범장망 표류.jpg\n",
      "이미지 이동 완료: /home/elicer/FIshing_vessel-1/resized_imgdata/97. 유망 표류.jpg -> /home/elicer/FIshing_vessel-1/categorized_imgdata/표류/97. 유망 표류.jpg\n",
      "이미지 이동 완료: /home/elicer/FIshing_vessel-1/resized_imgdata/97. 타망 조업.jpg -> /home/elicer/FIshing_vessel-1/categorized_imgdata/조업/97. 타망 조업.jpg\n",
      "이미지 이동 완료: /home/elicer/FIshing_vessel-1/resized_imgdata/97. 타망 표류.jpg -> /home/elicer/FIshing_vessel-1/categorized_imgdata/표류/97. 타망 표류.jpg\n",
      "이미지 이동 완료: /home/elicer/FIshing_vessel-1/resized_imgdata/98 타망 이동.jpg -> /home/elicer/FIshing_vessel-1/categorized_imgdata/이동/98 타망 이동.jpg\n",
      "이미지 이동 완료: /home/elicer/FIshing_vessel-1/resized_imgdata/98. 범장망 표류.jpg -> /home/elicer/FIshing_vessel-1/categorized_imgdata/표류/98. 범장망 표류.jpg\n",
      "이미지 이동 완료: /home/elicer/FIshing_vessel-1/resized_imgdata/98. 유망 표류.jpg -> /home/elicer/FIshing_vessel-1/categorized_imgdata/표류/98. 유망 표류.jpg\n",
      "이미지 이동 완료: /home/elicer/FIshing_vessel-1/resized_imgdata/98. 타망 조업.jpg -> /home/elicer/FIshing_vessel-1/categorized_imgdata/조업/98. 타망 조업.jpg\n",
      "이미지 이동 완료: /home/elicer/FIshing_vessel-1/resized_imgdata/98. 타망 표류.jpg -> /home/elicer/FIshing_vessel-1/categorized_imgdata/표류/98. 타망 표류.jpg\n",
      "이미지 이동 완료: /home/elicer/FIshing_vessel-1/resized_imgdata/99 타망 이동.jpg -> /home/elicer/FIshing_vessel-1/categorized_imgdata/이동/99 타망 이동.jpg\n",
      "이미지 이동 완료: /home/elicer/FIshing_vessel-1/resized_imgdata/99. 범장망 이동.jpg -> /home/elicer/FIshing_vessel-1/categorized_imgdata/이동/99. 범장망 이동.jpg\n",
      "이미지 이동 완료: /home/elicer/FIshing_vessel-1/resized_imgdata/99. 범장망 표류.jpg -> /home/elicer/FIshing_vessel-1/categorized_imgdata/표류/99. 범장망 표류.jpg\n",
      "이미지 이동 완료: /home/elicer/FIshing_vessel-1/resized_imgdata/99. 유망 표류.jpg -> /home/elicer/FIshing_vessel-1/categorized_imgdata/표류/99. 유망 표류.jpg\n",
      "이미지 이동 완료: /home/elicer/FIshing_vessel-1/resized_imgdata/99. 타망 조업.jpg -> /home/elicer/FIshing_vessel-1/categorized_imgdata/조업/99. 타망 조업.jpg\n",
      "이미지 이동 완료: /home/elicer/FIshing_vessel-1/resized_imgdata/99. 타망 표류.jpg -> /home/elicer/FIshing_vessel-1/categorized_imgdata/표류/99. 타망 표류.jpg\n",
      "모든 이미지의 상태별 분류 완료\n"
     ]
    }
   ],
   "source": [
    "import os\n",
    "import shutil\n",
    "\n",
    "# 이미지가 저장된 폴더 경로 지정\n",
    "input_folder = '/home/elicer/FIshing_vessel-1/resized_imgdata'\n",
    "output_base_folder = '/home/elicer/FIshing_vessel-1/categorized_imgdata'\n",
    "\n",
    "# 출력 폴더가 존재하지 않으면 생성\n",
    "if not os.path.exists(output_base_folder):\n",
    "    os.makedirs(output_base_folder)\n",
    "\n",
    "# 이미지 분류 기준 단어 목록\n",
    "states = ['이동', '조업', '표류']\n",
    "\n",
    "# 이미지 파일들을 반복하며 상태에 따라 분류\n",
    "for filename in os.listdir(input_folder):\n",
    "    if filename.endswith(('.jpg', '.jpeg', '.png')):  # 이미지 파일만 처리\n",
    "        # 파일 이름에서 상태 단어 추출\n",
    "        for state in states:\n",
    "            if state in filename:\n",
    "                # 상태에 해당하는 폴더 생성\n",
    "                output_folder = os.path.join(output_base_folder, state)\n",
    "                if not os.path.exists(output_folder):\n",
    "                    os.makedirs(output_folder)\n",
    "                \n",
    "                # 이미지 파일 이동\n",
    "                src_path = os.path.join(input_folder, filename)\n",
    "                dst_path = os.path.join(output_folder, filename)\n",
    "                shutil.move(src_path, dst_path)\n",
    "                print(f\"이미지 이동 완료: {src_path} -> {dst_path}\")\n",
    "                break\n",
    "\n",
    "print(\"모든 이미지의 상태별 분류 완료\")\n"
   ]
  },
  {
   "cell_type": "code",
   "execution_count": 4,
   "metadata": {},
   "outputs": [
    {
     "name": "stderr",
     "output_type": "stream",
     "text": [
      "2024-10-24 00:46:24.421693: I tensorflow/core/util/port.cc:153] oneDNN custom operations are on. You may see slightly different numerical results due to floating-point round-off errors from different computation orders. To turn them off, set the environment variable `TF_ENABLE_ONEDNN_OPTS=0`.\n",
      "2024-10-24 00:46:24.437197: E external/local_xla/xla/stream_executor/cuda/cuda_fft.cc:485] Unable to register cuFFT factory: Attempting to register factory for plugin cuFFT when one has already been registered\n",
      "2024-10-24 00:46:24.452635: E external/local_xla/xla/stream_executor/cuda/cuda_dnn.cc:8454] Unable to register cuDNN factory: Attempting to register factory for plugin cuDNN when one has already been registered\n",
      "2024-10-24 00:46:24.457275: E external/local_xla/xla/stream_executor/cuda/cuda_blas.cc:1452] Unable to register cuBLAS factory: Attempting to register factory for plugin cuBLAS when one has already been registered\n",
      "2024-10-24 00:46:24.470067: I tensorflow/core/platform/cpu_feature_guard.cc:210] This TensorFlow binary is optimized to use available CPU instructions in performance-critical operations.\n",
      "To enable the following instructions: AVX2 AVX512F AVX512_VNNI FMA, in other operations, rebuild TensorFlow with the appropriate compiler flags.\n",
      "2024-10-24 00:46:25.512961: W tensorflow/compiler/tf2tensorrt/utils/py_utils.cc:38] TF-TRT Warning: Could not find TensorRT\n"
     ]
    },
    {
     "name": "stdout",
     "output_type": "stream",
     "text": [
      "Found 1265 images belonging to 3 classes.\n",
      "Found 315 images belonging to 3 classes.\n",
      "훈련 및 검증 데이터 로더 생성 완료\n"
     ]
    }
   ],
   "source": [
    "from tensorflow.keras.preprocessing.image import ImageDataGenerator\n",
    "\n",
    "# 데이터 경로 지정\n",
    "train_data_directory = '/home/elicer/FIshing_vessel-1/categorized_imgdata'  # 리사이즈된 이미지가 저장된 폴더 경로\n",
    "\n",
    "# ImageDataGenerator 생성 및 데이터 증강 적용\n",
    "train_datagen = ImageDataGenerator(\n",
    "    rescale=1.0/255,  # 이미지 값을 0-1 범위로 스케일링\n",
    "    rotation_range=30,  # 이미지 회전 범위 (도)\n",
    "    width_shift_range=0.2,  # 가로 방향으로 이미지 이동 범위 (비율)\n",
    "    height_shift_range=0.2,  # 세로 방향으로 이미지 이동 범위 (비율)\n",
    "    shear_range=0.2,  # 이미지 시어 변환 범위\n",
    "    zoom_range=0.2,  # 이미지 줌 범위\n",
    "    horizontal_flip=True,  # 이미지 좌우 반전\n",
    "    fill_mode='nearest',  # 변환 시 생기는 빈 공간을 채우는 방식\n",
    "    validation_split=0.2  # 데이터의 20%는 검증용으로 사용\n",
    ")\n",
    "\n",
    "# 훈련 데이터 로더 생성\n",
    "train_generator = train_datagen.flow_from_directory(\n",
    "    train_data_directory,  # 이미지가 저장된 경로\n",
    "    target_size=(224, 224),  # 이미지 크기 (VGG 모델에 맞게 224x224)\n",
    "    batch_size=32,  # 배치 크기\n",
    "    class_mode='categorical',  # 레이블 형식 (다중 클래스 분류)\n",
    "    subset='training'  # 훈련 데이터로 사용\n",
    ")\n",
    "\n",
    "# 검증 데이터 로더 생성\n",
    "validation_generator = train_datagen.flow_from_directory(\n",
    "    train_data_directory,  # 이미지가 저장된 경로\n",
    "    target_size=(224, 224),  # 이미지 크기\n",
    "    batch_size=32,  # 배치 크기\n",
    "    class_mode='categorical',  # 레이블 형식\n",
    "    subset='validation'  # 검증 데이터로 사용\n",
    ")\n",
    "\n",
    "print(\"훈련 및 검증 데이터 로더 생성 완료\")\n"
   ]
  },
  {
   "cell_type": "markdown",
   "metadata": {},
   "source": [
    "3. VGG 모델 구축 및 전이 학습 적용\n",
    "- 사전 학습된 VGG 모델 불러오기:\n",
    "VGG16 또는 VGG19 모델을 ImageNet 가중치를 사용하여 불러오고, 최상단 레이어는 제외합니다.\n",
    "새로운 Fully Connected Layer를 추가하여 어선 상태를 분류할 수 있도록 수정합니다."
   ]
  },
  {
   "cell_type": "code",
   "execution_count": 5,
   "metadata": {},
   "outputs": [
    {
     "name": "stderr",
     "output_type": "stream",
     "text": [
      "2024-10-24 00:46:31.643868: I tensorflow/core/common_runtime/gpu/gpu_device.cc:2021] Created device /job:localhost/replica:0/task:0/device:GPU:0 with 38716 MB memory:  -> device: 0, name: NVIDIA A100 80GB PCIe MIG 3g.40gb, pci bus id: 0000:17:00.0, compute capability: 8.0\n"
     ]
    },
    {
     "name": "stdout",
     "output_type": "stream",
     "text": [
      "VGG16 기반 전이 학습 모델 생성 및 컴파일 완료\n"
     ]
    }
   ],
   "source": [
    "from tensorflow.keras.applications import VGG16\n",
    "from tensorflow.keras import models, layers, optimizers\n",
    "\n",
    "# 사전 학습된 VGG16 모델 불러오기 (최상단 분류 레이어 제외)\n",
    "base_model = VGG16(weights='imagenet', include_top=False, input_shape=(224, 224, 3))\n",
    "\n",
    "# 기존 레이어를 고정하여 전이 학습에 사용\n",
    "base_model.trainable = False\n",
    "\n",
    "# 새로운 분류 레이어 쌓기\n",
    "model = models.Sequential()\n",
    "model.add(base_model)\n",
    "model.add(layers.Flatten())\n",
    "model.add(layers.Dense(512, activation='relu'))  # Fully Connected Layer 추가\n",
    "model.add(layers.Dropout(0.5))  # 과적합 방지를 위한 Dropout\n",
    "model.add(layers.Dense(3, activation='softmax'))  # 어선 상태 클래스 수에 맞게 출력 노드 설정 (예: 3개의 상태)\n",
    "\n",
    "# 모델 컴파일\n",
    "model.compile(optimizer=optimizers.Adam(learning_rate=0.0001),\n",
    "              loss='categorical_crossentropy',\n",
    "              metrics=['accuracy'])\n",
    "\n",
    "print(\"VGG16 기반 전이 학습 모델 생성 및 컴파일 완료\")\n"
   ]
  },
  {
   "cell_type": "markdown",
   "metadata": {},
   "source": [
    "4. 모델 학습\n",
    "- 모델 학습 진행: 학습 데이터(train_generator)와 검증 데이터(validation_generator)를 사용해 모델을 학습시킵니다."
   ]
  },
  {
   "cell_type": "code",
   "execution_count": 9,
   "metadata": {},
   "outputs": [
    {
     "name": "stdout",
     "output_type": "stream",
     "text": [
      "Epoch 1/400\n",
      "\u001b[1m39/39\u001b[0m \u001b[32m━━━━━━━━━━━━━━━━━━━━\u001b[0m\u001b[37m\u001b[0m \u001b[1m14s\u001b[0m 369ms/step - accuracy: 0.7146 - loss: 0.6412 - val_accuracy: 0.6458 - val_loss: 0.8766\n",
      "Epoch 2/400\n",
      "\u001b[1m 1/39\u001b[0m \u001b[37m━━━━━━━━━━━━━━━━━━━━\u001b[0m \u001b[1m1s\u001b[0m 34ms/step - accuracy: 0.7812 - loss: 0.5695"
     ]
    },
    {
     "name": "stderr",
     "output_type": "stream",
     "text": [
      "2024-10-24 01:24:06.283070: I tensorflow/core/framework/local_rendezvous.cc:423] Local rendezvous recv item cancelled. Key hash: 2918327929679280915\n",
      "2024-10-24 01:24:06.283169: I tensorflow/core/framework/local_rendezvous.cc:423] Local rendezvous recv item cancelled. Key hash: 15736871328311997881\n"
     ]
    },
    {
     "name": "stdout",
     "output_type": "stream",
     "text": [
      "\u001b[1m39/39\u001b[0m \u001b[32m━━━━━━━━━━━━━━━━━━━━\u001b[0m\u001b[37m\u001b[0m \u001b[1m0s\u001b[0m 6ms/step - accuracy: 0.7812 - loss: 0.5695 - val_accuracy: 0.7037 - val_loss: 0.9527\n",
      "Epoch 3/400\n"
     ]
    },
    {
     "name": "stderr",
     "output_type": "stream",
     "text": [
      "2024-10-24 01:24:06.495482: I tensorflow/core/framework/local_rendezvous.cc:423] Local rendezvous recv item cancelled. Key hash: 2918327929679280915\n",
      "2024-10-24 01:24:06.495538: I tensorflow/core/framework/local_rendezvous.cc:423] Local rendezvous recv item cancelled. Key hash: 15736871328311997881\n"
     ]
    },
    {
     "name": "stdout",
     "output_type": "stream",
     "text": [
      "\u001b[1m39/39\u001b[0m \u001b[32m━━━━━━━━━━━━━━━━━━━━\u001b[0m\u001b[37m\u001b[0m \u001b[1m13s\u001b[0m 344ms/step - accuracy: 0.7280 - loss: 0.6236 - val_accuracy: 0.6146 - val_loss: 0.8606\n",
      "Epoch 4/400\n",
      "\u001b[1m 1/39\u001b[0m \u001b[37m━━━━━━━━━━━━━━━━━━━━\u001b[0m \u001b[1m1s\u001b[0m 31ms/step - accuracy: 0.7188 - loss: 0.6007"
     ]
    },
    {
     "name": "stderr",
     "output_type": "stream",
     "text": [
      "2024-10-24 01:24:19.956642: I tensorflow/core/framework/local_rendezvous.cc:423] Local rendezvous recv item cancelled. Key hash: 2918327929679280915\n",
      "2024-10-24 01:24:19.956701: I tensorflow/core/framework/local_rendezvous.cc:423] Local rendezvous recv item cancelled. Key hash: 15736871328311997881\n"
     ]
    },
    {
     "name": "stdout",
     "output_type": "stream",
     "text": [
      "\u001b[1m39/39\u001b[0m \u001b[32m━━━━━━━━━━━━━━━━━━━━\u001b[0m\u001b[37m\u001b[0m \u001b[1m0s\u001b[0m 7ms/step - accuracy: 0.7188 - loss: 0.6007 - val_accuracy: 0.5926 - val_loss: 1.0097\n",
      "Epoch 5/400\n"
     ]
    },
    {
     "name": "stderr",
     "output_type": "stream",
     "text": [
      "2024-10-24 01:24:20.224423: I tensorflow/core/framework/local_rendezvous.cc:423] Local rendezvous recv item cancelled. Key hash: 2918327929679280915\n",
      "2024-10-24 01:24:20.224483: I tensorflow/core/framework/local_rendezvous.cc:423] Local rendezvous recv item cancelled. Key hash: 15736871328311997881\n"
     ]
    },
    {
     "name": "stdout",
     "output_type": "stream",
     "text": [
      "\u001b[1m39/39\u001b[0m \u001b[32m━━━━━━━━━━━━━━━━━━━━\u001b[0m\u001b[37m\u001b[0m \u001b[1m14s\u001b[0m 347ms/step - accuracy: 0.7608 - loss: 0.5993 - val_accuracy: 0.6076 - val_loss: 0.8921\n",
      "Epoch 6/400\n",
      "\u001b[1m 1/39\u001b[0m \u001b[37m━━━━━━━━━━━━━━━━━━━━\u001b[0m \u001b[1m1s\u001b[0m 33ms/step - accuracy: 0.7500 - loss: 0.5549"
     ]
    },
    {
     "name": "stderr",
     "output_type": "stream",
     "text": [
      "2024-10-24 01:24:33.771855: I tensorflow/core/framework/local_rendezvous.cc:423] Local rendezvous recv item cancelled. Key hash: 2918327929679280915\n",
      "2024-10-24 01:24:33.771965: I tensorflow/core/framework/local_rendezvous.cc:423] Local rendezvous recv item cancelled. Key hash: 15736871328311997881\n"
     ]
    },
    {
     "name": "stdout",
     "output_type": "stream",
     "text": [
      "\u001b[1m39/39\u001b[0m \u001b[32m━━━━━━━━━━━━━━━━━━━━\u001b[0m\u001b[37m\u001b[0m \u001b[1m0s\u001b[0m 7ms/step - accuracy: 0.7500 - loss: 0.5549 - val_accuracy: 0.5926 - val_loss: 0.8222\n",
      "Epoch 7/400\n"
     ]
    },
    {
     "name": "stderr",
     "output_type": "stream",
     "text": [
      "2024-10-24 01:24:34.030883: I tensorflow/core/framework/local_rendezvous.cc:423] Local rendezvous recv item cancelled. Key hash: 2918327929679280915\n",
      "2024-10-24 01:24:34.030940: I tensorflow/core/framework/local_rendezvous.cc:423] Local rendezvous recv item cancelled. Key hash: 15736871328311997881\n"
     ]
    },
    {
     "name": "stdout",
     "output_type": "stream",
     "text": [
      "\u001b[1m39/39\u001b[0m \u001b[32m━━━━━━━━━━━━━━━━━━━━\u001b[0m\u001b[37m\u001b[0m \u001b[1m14s\u001b[0m 349ms/step - accuracy: 0.7412 - loss: 0.6147 - val_accuracy: 0.6181 - val_loss: 0.9726\n",
      "Epoch 8/400\n",
      "\u001b[1m 1/39\u001b[0m \u001b[37m━━━━━━━━━━━━━━━━━━━━\u001b[0m \u001b[1m1s\u001b[0m 34ms/step - accuracy: 0.7500 - loss: 0.5578"
     ]
    },
    {
     "name": "stderr",
     "output_type": "stream",
     "text": [
      "2024-10-24 01:24:47.677454: I tensorflow/core/framework/local_rendezvous.cc:423] Local rendezvous recv item cancelled. Key hash: 2918327929679280915\n",
      "2024-10-24 01:24:47.677562: I tensorflow/core/framework/local_rendezvous.cc:423] Local rendezvous recv item cancelled. Key hash: 15736871328311997881\n"
     ]
    },
    {
     "name": "stdout",
     "output_type": "stream",
     "text": [
      "\u001b[1m39/39\u001b[0m \u001b[32m━━━━━━━━━━━━━━━━━━━━\u001b[0m\u001b[37m\u001b[0m \u001b[1m0s\u001b[0m 5ms/step - accuracy: 0.7500 - loss: 0.5578 - val_accuracy: 0.6667 - val_loss: 0.8080\n",
      "Epoch 9/400\n"
     ]
    },
    {
     "name": "stderr",
     "output_type": "stream",
     "text": [
      "2024-10-24 01:24:47.880790: I tensorflow/core/framework/local_rendezvous.cc:423] Local rendezvous recv item cancelled. Key hash: 2918327929679280915\n",
      "2024-10-24 01:24:47.881202: I tensorflow/core/framework/local_rendezvous.cc:423] Local rendezvous recv item cancelled. Key hash: 15736871328311997881\n"
     ]
    },
    {
     "name": "stdout",
     "output_type": "stream",
     "text": [
      "\u001b[1m39/39\u001b[0m \u001b[32m━━━━━━━━━━━━━━━━━━━━\u001b[0m\u001b[37m\u001b[0m \u001b[1m14s\u001b[0m 349ms/step - accuracy: 0.7146 - loss: 0.6386 - val_accuracy: 0.6076 - val_loss: 0.9131\n",
      "Epoch 10/400\n",
      "\u001b[1m 1/39\u001b[0m \u001b[37m━━━━━━━━━━━━━━━━━━━━\u001b[0m \u001b[1m1s\u001b[0m 34ms/step - accuracy: 0.6562 - loss: 0.6803"
     ]
    },
    {
     "name": "stderr",
     "output_type": "stream",
     "text": [
      "2024-10-24 01:25:01.528016: I tensorflow/core/framework/local_rendezvous.cc:423] Local rendezvous recv item cancelled. Key hash: 2918327929679280915\n",
      "2024-10-24 01:25:01.528144: I tensorflow/core/framework/local_rendezvous.cc:423] Local rendezvous recv item cancelled. Key hash: 15736871328311997881\n",
      "2024-10-24 01:25:01.753569: I tensorflow/core/framework/local_rendezvous.cc:423] Local rendezvous recv item cancelled. Key hash: 2918327929679280915\n",
      "2024-10-24 01:25:01.753646: I tensorflow/core/framework/local_rendezvous.cc:423] Local rendezvous recv item cancelled. Key hash: 15736871328311997881\n"
     ]
    },
    {
     "name": "stdout",
     "output_type": "stream",
     "text": [
      "\u001b[1m39/39\u001b[0m \u001b[32m━━━━━━━━━━━━━━━━━━━━\u001b[0m\u001b[37m\u001b[0m \u001b[1m2s\u001b[0m 64ms/step - accuracy: 0.6562 - loss: 0.6803 - val_accuracy: 0.7407 - val_loss: 0.6755\n",
      "Epoch 11/400\n",
      "\u001b[1m39/39\u001b[0m \u001b[32m━━━━━━━━━━━━━━━━━━━━\u001b[0m\u001b[37m\u001b[0m \u001b[1m14s\u001b[0m 354ms/step - accuracy: 0.7181 - loss: 0.6300 - val_accuracy: 0.5938 - val_loss: 0.9127\n",
      "Epoch 12/400\n",
      "\u001b[1m39/39\u001b[0m \u001b[32m━━━━━━━━━━━━━━━━━━━━\u001b[0m\u001b[37m\u001b[0m \u001b[1m0s\u001b[0m 5ms/step - accuracy: 0.7812 - loss: 0.4906 - val_accuracy: 0.6296 - val_loss: 0.8010\n",
      "Epoch 13/400\n"
     ]
    },
    {
     "name": "stderr",
     "output_type": "stream",
     "text": [
      "2024-10-24 01:25:17.982669: I tensorflow/core/framework/local_rendezvous.cc:423] Local rendezvous recv item cancelled. Key hash: 2918327929679280915\n",
      "2024-10-24 01:25:17.982773: I tensorflow/core/framework/local_rendezvous.cc:423] Local rendezvous recv item cancelled. Key hash: 15736871328311997881\n"
     ]
    },
    {
     "name": "stdout",
     "output_type": "stream",
     "text": [
      "\u001b[1m39/39\u001b[0m \u001b[32m━━━━━━━━━━━━━━━━━━━━\u001b[0m\u001b[37m\u001b[0m \u001b[1m14s\u001b[0m 347ms/step - accuracy: 0.7270 - loss: 0.6357 - val_accuracy: 0.6354 - val_loss: 0.8422\n",
      "Epoch 14/400\n",
      "\u001b[1m 1/39\u001b[0m \u001b[37m━━━━━━━━━━━━━━━━━━━━\u001b[0m \u001b[1m1s\u001b[0m 36ms/step - accuracy: 0.8438 - loss: 0.4761"
     ]
    },
    {
     "name": "stderr",
     "output_type": "stream",
     "text": [
      "2024-10-24 01:25:31.569644: I tensorflow/core/framework/local_rendezvous.cc:423] Local rendezvous recv item cancelled. Key hash: 2918327929679280915\n",
      "2024-10-24 01:25:31.569696: I tensorflow/core/framework/local_rendezvous.cc:423] Local rendezvous recv item cancelled. Key hash: 15736871328311997881\n"
     ]
    },
    {
     "name": "stdout",
     "output_type": "stream",
     "text": [
      "\u001b[1m39/39\u001b[0m \u001b[32m━━━━━━━━━━━━━━━━━━━━\u001b[0m\u001b[37m\u001b[0m \u001b[1m0s\u001b[0m 7ms/step - accuracy: 0.8438 - loss: 0.4761 - val_accuracy: 0.5926 - val_loss: 0.7350\n",
      "Epoch 15/400\n"
     ]
    },
    {
     "name": "stderr",
     "output_type": "stream",
     "text": [
      "2024-10-24 01:25:31.831016: I tensorflow/core/framework/local_rendezvous.cc:423] Local rendezvous recv item cancelled. Key hash: 2918327929679280915\n",
      "2024-10-24 01:25:31.831072: I tensorflow/core/framework/local_rendezvous.cc:423] Local rendezvous recv item cancelled. Key hash: 15736871328311997881\n"
     ]
    },
    {
     "name": "stdout",
     "output_type": "stream",
     "text": [
      "\u001b[1m39/39\u001b[0m \u001b[32m━━━━━━━━━━━━━━━━━━━━\u001b[0m\u001b[37m\u001b[0m \u001b[1m13s\u001b[0m 346ms/step - accuracy: 0.7219 - loss: 0.6516 - val_accuracy: 0.6285 - val_loss: 0.8767\n",
      "Epoch 16/400\n",
      "\u001b[1m 1/39\u001b[0m \u001b[37m━━━━━━━━━━━━━━━━━━━━\u001b[0m \u001b[1m1s\u001b[0m 31ms/step - accuracy: 0.5625 - loss: 0.8915"
     ]
    },
    {
     "name": "stderr",
     "output_type": "stream",
     "text": [
      "2024-10-24 01:25:45.359594: I tensorflow/core/framework/local_rendezvous.cc:423] Local rendezvous recv item cancelled. Key hash: 2918327929679280915\n",
      "2024-10-24 01:25:45.359660: I tensorflow/core/framework/local_rendezvous.cc:423] Local rendezvous recv item cancelled. Key hash: 15736871328311997881\n"
     ]
    },
    {
     "name": "stdout",
     "output_type": "stream",
     "text": [
      "\u001b[1m39/39\u001b[0m \u001b[32m━━━━━━━━━━━━━━━━━━━━\u001b[0m\u001b[37m\u001b[0m \u001b[1m0s\u001b[0m 6ms/step - accuracy: 0.5625 - loss: 0.8915 - val_accuracy: 0.5556 - val_loss: 0.8675\n",
      "Epoch 17/400\n"
     ]
    },
    {
     "name": "stderr",
     "output_type": "stream",
     "text": [
      "2024-10-24 01:25:45.590833: I tensorflow/core/framework/local_rendezvous.cc:423] Local rendezvous recv item cancelled. Key hash: 2918327929679280915\n",
      "2024-10-24 01:25:45.590882: I tensorflow/core/framework/local_rendezvous.cc:423] Local rendezvous recv item cancelled. Key hash: 15736871328311997881\n"
     ]
    },
    {
     "name": "stdout",
     "output_type": "stream",
     "text": [
      "\u001b[1m39/39\u001b[0m \u001b[32m━━━━━━━━━━━━━━━━━━━━\u001b[0m\u001b[37m\u001b[0m \u001b[1m14s\u001b[0m 351ms/step - accuracy: 0.7293 - loss: 0.6160 - val_accuracy: 0.6562 - val_loss: 0.8186\n",
      "Epoch 18/400\n",
      "\u001b[1m 1/39\u001b[0m \u001b[37m━━━━━━━━━━━━━━━━━━━━\u001b[0m \u001b[1m1s\u001b[0m 38ms/step - accuracy: 0.7500 - loss: 0.5531"
     ]
    },
    {
     "name": "stderr",
     "output_type": "stream",
     "text": [
      "2024-10-24 01:25:59.312727: I tensorflow/core/framework/local_rendezvous.cc:423] Local rendezvous recv item cancelled. Key hash: 2918327929679280915\n",
      "2024-10-24 01:25:59.312831: I tensorflow/core/framework/local_rendezvous.cc:423] Local rendezvous recv item cancelled. Key hash: 15736871328311997881\n"
     ]
    },
    {
     "name": "stdout",
     "output_type": "stream",
     "text": [
      "\u001b[1m39/39\u001b[0m \u001b[32m━━━━━━━━━━━━━━━━━━━━\u001b[0m\u001b[37m\u001b[0m \u001b[1m0s\u001b[0m 6ms/step - accuracy: 0.7500 - loss: 0.5531 - val_accuracy: 0.5926 - val_loss: 0.8148\n",
      "Epoch 19/400\n"
     ]
    },
    {
     "name": "stderr",
     "output_type": "stream",
     "text": [
      "2024-10-24 01:25:59.560126: I tensorflow/core/framework/local_rendezvous.cc:423] Local rendezvous recv item cancelled. Key hash: 2918327929679280915\n",
      "2024-10-24 01:25:59.560183: I tensorflow/core/framework/local_rendezvous.cc:423] Local rendezvous recv item cancelled. Key hash: 15736871328311997881\n"
     ]
    },
    {
     "name": "stdout",
     "output_type": "stream",
     "text": [
      "\u001b[1m39/39\u001b[0m \u001b[32m━━━━━━━━━━━━━━━━━━━━\u001b[0m\u001b[37m\u001b[0m \u001b[1m14s\u001b[0m 355ms/step - accuracy: 0.7343 - loss: 0.6415 - val_accuracy: 0.6597 - val_loss: 0.8384\n",
      "Epoch 20/400\n",
      "\u001b[1m 1/39\u001b[0m \u001b[37m━━━━━━━━━━━━━━━━━━━━\u001b[0m \u001b[1m1s\u001b[0m 32ms/step - accuracy: 0.5312 - loss: 0.8673"
     ]
    },
    {
     "name": "stderr",
     "output_type": "stream",
     "text": [
      "2024-10-24 01:26:13.420929: I tensorflow/core/framework/local_rendezvous.cc:423] Local rendezvous recv item cancelled. Key hash: 2918327929679280915\n",
      "2024-10-24 01:26:13.421059: I tensorflow/core/framework/local_rendezvous.cc:423] Local rendezvous recv item cancelled. Key hash: 15736871328311997881\n"
     ]
    },
    {
     "name": "stdout",
     "output_type": "stream",
     "text": [
      "\u001b[1m39/39\u001b[0m \u001b[32m━━━━━━━━━━━━━━━━━━━━\u001b[0m\u001b[37m\u001b[0m \u001b[1m0s\u001b[0m 6ms/step - accuracy: 0.5312 - loss: 0.8673 - val_accuracy: 0.6667 - val_loss: 0.7364\n",
      "Epoch 21/400\n",
      "\u001b[1m39/39\u001b[0m \u001b[32m━━━━━━━━━━━━━━━━━━━━\u001b[0m\u001b[37m\u001b[0m \u001b[1m14s\u001b[0m 350ms/step - accuracy: 0.7423 - loss: 0.6013 - val_accuracy: 0.6667 - val_loss: 0.8302\n",
      "Epoch 22/400\n",
      "\u001b[1m39/39\u001b[0m \u001b[32m━━━━━━━━━━━━━━━━━━━━\u001b[0m\u001b[37m\u001b[0m \u001b[1m0s\u001b[0m 7ms/step - accuracy: 0.6562 - loss: 0.7867 - val_accuracy: 0.5926 - val_loss: 0.8816\n",
      "Epoch 23/400\n",
      "\u001b[1m39/39\u001b[0m \u001b[32m━━━━━━━━━━━━━━━━━━━━\u001b[0m\u001b[37m\u001b[0m \u001b[1m13s\u001b[0m 342ms/step - accuracy: 0.7669 - loss: 0.5702 - val_accuracy: 0.6042 - val_loss: 0.9012\n",
      "Epoch 24/400\n",
      "\u001b[1m 1/39\u001b[0m \u001b[37m━━━━━━━━━━━━━━━━━━━━\u001b[0m \u001b[1m1s\u001b[0m 32ms/step - accuracy: 0.7500 - loss: 0.5937"
     ]
    },
    {
     "name": "stderr",
     "output_type": "stream",
     "text": [
      "2024-10-24 01:26:40.956059: I tensorflow/core/framework/local_rendezvous.cc:423] Local rendezvous recv item cancelled. Key hash: 2918327929679280915\n",
      "2024-10-24 01:26:40.956180: I tensorflow/core/framework/local_rendezvous.cc:423] Local rendezvous recv item cancelled. Key hash: 15736871328311997881\n"
     ]
    },
    {
     "name": "stdout",
     "output_type": "stream",
     "text": [
      "\u001b[1m39/39\u001b[0m \u001b[32m━━━━━━━━━━━━━━━━━━━━\u001b[0m\u001b[37m\u001b[0m \u001b[1m0s\u001b[0m 6ms/step - accuracy: 0.7500 - loss: 0.5937 - val_accuracy: 0.7037 - val_loss: 0.9665\n",
      "Epoch 25/400\n"
     ]
    },
    {
     "name": "stderr",
     "output_type": "stream",
     "text": [
      "2024-10-24 01:26:41.188532: I tensorflow/core/framework/local_rendezvous.cc:423] Local rendezvous recv item cancelled. Key hash: 2918327929679280915\n",
      "2024-10-24 01:26:41.188663: I tensorflow/core/framework/local_rendezvous.cc:423] Local rendezvous recv item cancelled. Key hash: 15736871328311997881\n"
     ]
    },
    {
     "name": "stdout",
     "output_type": "stream",
     "text": [
      "\u001b[1m39/39\u001b[0m \u001b[32m━━━━━━━━━━━━━━━━━━━━\u001b[0m\u001b[37m\u001b[0m \u001b[1m14s\u001b[0m 347ms/step - accuracy: 0.7295 - loss: 0.6257 - val_accuracy: 0.6285 - val_loss: 0.8477\n",
      "Epoch 26/400\n",
      "\u001b[1m 1/39\u001b[0m \u001b[37m━━━━━━━━━━━━━━━━━━━━\u001b[0m \u001b[1m1s\u001b[0m 31ms/step - accuracy: 0.7500 - loss: 0.5578"
     ]
    },
    {
     "name": "stderr",
     "output_type": "stream",
     "text": [
      "2024-10-24 01:26:54.752878: I tensorflow/core/framework/local_rendezvous.cc:423] Local rendezvous recv item cancelled. Key hash: 2918327929679280915\n"
     ]
    },
    {
     "name": "stdout",
     "output_type": "stream",
     "text": [
      "\u001b[1m39/39\u001b[0m \u001b[32m━━━━━━━━━━━━━━━━━━━━\u001b[0m\u001b[37m\u001b[0m \u001b[1m0s\u001b[0m 6ms/step - accuracy: 0.7500 - loss: 0.5578 - val_accuracy: 0.6296 - val_loss: 0.9658\n",
      "Epoch 27/400\n"
     ]
    },
    {
     "name": "stderr",
     "output_type": "stream",
     "text": [
      "2024-10-24 01:26:54.999540: I tensorflow/core/framework/local_rendezvous.cc:423] Local rendezvous recv item cancelled. Key hash: 2918327929679280915\n",
      "2024-10-24 01:26:54.999589: I tensorflow/core/framework/local_rendezvous.cc:423] Local rendezvous recv item cancelled. Key hash: 15736871328311997881\n"
     ]
    },
    {
     "name": "stdout",
     "output_type": "stream",
     "text": [
      "\u001b[1m39/39\u001b[0m \u001b[32m━━━━━━━━━━━━━━━━━━━━\u001b[0m\u001b[37m\u001b[0m \u001b[1m14s\u001b[0m 351ms/step - accuracy: 0.7387 - loss: 0.6049 - val_accuracy: 0.5729 - val_loss: 0.9112\n",
      "Epoch 28/400\n",
      "\u001b[1m 1/39\u001b[0m \u001b[37m━━━━━━━━━━━━━━━━━━━━\u001b[0m \u001b[1m1s\u001b[0m 35ms/step - accuracy: 0.7812 - loss: 0.5989"
     ]
    },
    {
     "name": "stderr",
     "output_type": "stream",
     "text": [
      "2024-10-24 01:27:08.707592: I tensorflow/core/framework/local_rendezvous.cc:423] Local rendezvous recv item cancelled. Key hash: 2918327929679280915\n",
      "2024-10-24 01:27:08.707655: I tensorflow/core/framework/local_rendezvous.cc:423] Local rendezvous recv item cancelled. Key hash: 15736871328311997881\n"
     ]
    },
    {
     "name": "stdout",
     "output_type": "stream",
     "text": [
      "\u001b[1m39/39\u001b[0m \u001b[32m━━━━━━━━━━━━━━━━━━━━\u001b[0m\u001b[37m\u001b[0m \u001b[1m0s\u001b[0m 7ms/step - accuracy: 0.7812 - loss: 0.5989 - val_accuracy: 0.5926 - val_loss: 1.0824\n",
      "Epoch 29/400\n"
     ]
    },
    {
     "name": "stderr",
     "output_type": "stream",
     "text": [
      "2024-10-24 01:27:08.964071: I tensorflow/core/framework/local_rendezvous.cc:423] Local rendezvous recv item cancelled. Key hash: 2918327929679280915\n"
     ]
    },
    {
     "name": "stdout",
     "output_type": "stream",
     "text": [
      "\u001b[1m39/39\u001b[0m \u001b[32m━━━━━━━━━━━━━━━━━━━━\u001b[0m\u001b[37m\u001b[0m \u001b[1m14s\u001b[0m 360ms/step - accuracy: 0.7453 - loss: 0.6086 - val_accuracy: 0.6042 - val_loss: 0.9298\n",
      "Epoch 30/400\n",
      "\u001b[1m 1/39\u001b[0m \u001b[37m━━━━━━━━━━━━━━━━━━━━\u001b[0m \u001b[1m1s\u001b[0m 32ms/step - accuracy: 0.7188 - loss: 0.6762"
     ]
    },
    {
     "name": "stderr",
     "output_type": "stream",
     "text": [
      "2024-10-24 01:27:23.012975: I tensorflow/core/framework/local_rendezvous.cc:423] Local rendezvous recv item cancelled. Key hash: 2918327929679280915\n",
      "2024-10-24 01:27:23.013033: I tensorflow/core/framework/local_rendezvous.cc:423] Local rendezvous recv item cancelled. Key hash: 15736871328311997881\n"
     ]
    },
    {
     "name": "stdout",
     "output_type": "stream",
     "text": [
      "\u001b[1m39/39\u001b[0m \u001b[32m━━━━━━━━━━━━━━━━━━━━\u001b[0m\u001b[37m\u001b[0m \u001b[1m0s\u001b[0m 6ms/step - accuracy: 0.7188 - loss: 0.6762 - val_accuracy: 0.7037 - val_loss: 0.7591\n",
      "Epoch 31/400\n",
      "\u001b[1m39/39\u001b[0m \u001b[32m━━━━━━━━━━━━━━━━━━━━\u001b[0m\u001b[37m\u001b[0m \u001b[1m14s\u001b[0m 352ms/step - accuracy: 0.7537 - loss: 0.5948 - val_accuracy: 0.5938 - val_loss: 0.9070\n",
      "Epoch 32/400\n",
      "\u001b[1m 1/39\u001b[0m \u001b[37m━━━━━━━━━━━━━━━━━━━━\u001b[0m \u001b[1m0s\u001b[0m 20ms/step - accuracy: 0.6471 - loss: 0.6773"
     ]
    },
    {
     "name": "stderr",
     "output_type": "stream",
     "text": [
      "2024-10-24 01:27:37.035675: I tensorflow/core/framework/local_rendezvous.cc:423] Local rendezvous recv item cancelled. Key hash: 2918327929679280915\n",
      "2024-10-24 01:27:37.035732: I tensorflow/core/framework/local_rendezvous.cc:423] Local rendezvous recv item cancelled. Key hash: 15736871328311997881\n"
     ]
    },
    {
     "name": "stdout",
     "output_type": "stream",
     "text": [
      "\u001b[1m39/39\u001b[0m \u001b[32m━━━━━━━━━━━━━━━━━━━━\u001b[0m\u001b[37m\u001b[0m \u001b[1m0s\u001b[0m 7ms/step - accuracy: 0.6471 - loss: 0.6773 - val_accuracy: 0.6667 - val_loss: 0.7235\n",
      "Epoch 33/400\n",
      "\u001b[1m39/39\u001b[0m \u001b[32m━━━━━━━━━━━━━━━━━━━━\u001b[0m\u001b[37m\u001b[0m \u001b[1m14s\u001b[0m 346ms/step - accuracy: 0.7634 - loss: 0.5826 - val_accuracy: 0.6250 - val_loss: 0.9089\n",
      "Epoch 34/400\n",
      "\u001b[1m 1/39\u001b[0m \u001b[37m━━━━━━━━━━━━━━━━━━━━\u001b[0m \u001b[1m1s\u001b[0m 45ms/step - accuracy: 0.7188 - loss: 0.8128"
     ]
    },
    {
     "name": "stderr",
     "output_type": "stream",
     "text": [
      "2024-10-24 01:27:50.842237: I tensorflow/core/framework/local_rendezvous.cc:423] Local rendezvous recv item cancelled. Key hash: 2918327929679280915\n",
      "2024-10-24 01:27:50.842345: I tensorflow/core/framework/local_rendezvous.cc:423] Local rendezvous recv item cancelled. Key hash: 15736871328311997881\n"
     ]
    },
    {
     "name": "stdout",
     "output_type": "stream",
     "text": [
      "\u001b[1m39/39\u001b[0m \u001b[32m━━━━━━━━━━━━━━━━━━━━\u001b[0m\u001b[37m\u001b[0m \u001b[1m0s\u001b[0m 6ms/step - accuracy: 0.7188 - loss: 0.8128 - val_accuracy: 0.5185 - val_loss: 1.2462\n",
      "Epoch 35/400\n",
      "\u001b[1m39/39\u001b[0m \u001b[32m━━━━━━━━━━━━━━━━━━━━\u001b[0m\u001b[37m\u001b[0m \u001b[1m14s\u001b[0m 349ms/step - accuracy: 0.7571 - loss: 0.5989 - val_accuracy: 0.5938 - val_loss: 0.8844\n",
      "Epoch 36/400\n",
      "\u001b[1m 1/39\u001b[0m \u001b[37m━━━━━━━━━━━━━━━━━━━━\u001b[0m \u001b[1m1s\u001b[0m 31ms/step - accuracy: 0.7812 - loss: 0.5642"
     ]
    },
    {
     "name": "stderr",
     "output_type": "stream",
     "text": [
      "2024-10-24 01:28:04.710947: I tensorflow/core/framework/local_rendezvous.cc:423] Local rendezvous recv item cancelled. Key hash: 2918327929679280915\n"
     ]
    },
    {
     "name": "stdout",
     "output_type": "stream",
     "text": [
      "\u001b[1m39/39\u001b[0m \u001b[32m━━━━━━━━━━━━━━━━━━━━\u001b[0m\u001b[37m\u001b[0m \u001b[1m0s\u001b[0m 6ms/step - accuracy: 0.7812 - loss: 0.5642 - val_accuracy: 0.7778 - val_loss: 0.5624\n",
      "Epoch 37/400\n"
     ]
    },
    {
     "name": "stderr",
     "output_type": "stream",
     "text": [
      "2024-10-24 01:28:04.934870: I tensorflow/core/framework/local_rendezvous.cc:423] Local rendezvous recv item cancelled. Key hash: 2918327929679280915\n",
      "2024-10-24 01:28:04.934926: I tensorflow/core/framework/local_rendezvous.cc:423] Local rendezvous recv item cancelled. Key hash: 15736871328311997881\n"
     ]
    },
    {
     "name": "stdout",
     "output_type": "stream",
     "text": [
      "\u001b[1m39/39\u001b[0m \u001b[32m━━━━━━━━━━━━━━━━━━━━\u001b[0m\u001b[37m\u001b[0m \u001b[1m14s\u001b[0m 346ms/step - accuracy: 0.7328 - loss: 0.6420 - val_accuracy: 0.6562 - val_loss: 0.8902\n",
      "Epoch 38/400\n",
      "\u001b[1m 1/39\u001b[0m \u001b[37m━━━━━━━━━━━━━━━━━━━━\u001b[0m \u001b[1m1s\u001b[0m 31ms/step - accuracy: 0.6250 - loss: 0.8586"
     ]
    },
    {
     "name": "stderr",
     "output_type": "stream",
     "text": [
      "2024-10-24 01:28:18.480690: I tensorflow/core/framework/local_rendezvous.cc:423] Local rendezvous recv item cancelled. Key hash: 2918327929679280915\n",
      "2024-10-24 01:28:18.480759: I tensorflow/core/framework/local_rendezvous.cc:423] Local rendezvous recv item cancelled. Key hash: 15736871328311997881\n"
     ]
    },
    {
     "name": "stdout",
     "output_type": "stream",
     "text": [
      "\u001b[1m39/39\u001b[0m \u001b[32m━━━━━━━━━━━━━━━━━━━━\u001b[0m\u001b[37m\u001b[0m \u001b[1m0s\u001b[0m 6ms/step - accuracy: 0.6250 - loss: 0.8586 - val_accuracy: 0.7778 - val_loss: 0.6759\n",
      "Epoch 39/400\n"
     ]
    },
    {
     "name": "stderr",
     "output_type": "stream",
     "text": [
      "2024-10-24 01:28:18.705591: I tensorflow/core/framework/local_rendezvous.cc:423] Local rendezvous recv item cancelled. Key hash: 2918327929679280915\n"
     ]
    },
    {
     "name": "stdout",
     "output_type": "stream",
     "text": [
      "\u001b[1m39/39\u001b[0m \u001b[32m━━━━━━━━━━━━━━━━━━━━\u001b[0m\u001b[37m\u001b[0m \u001b[1m13s\u001b[0m 343ms/step - accuracy: 0.7414 - loss: 0.6083 - val_accuracy: 0.6146 - val_loss: 0.8931\n",
      "Epoch 40/400\n",
      "\u001b[1m 1/39\u001b[0m \u001b[37m━━━━━━━━━━━━━━━━━━━━\u001b[0m \u001b[1m1s\u001b[0m 34ms/step - accuracy: 0.8125 - loss: 0.5013"
     ]
    },
    {
     "name": "stderr",
     "output_type": "stream",
     "text": [
      "2024-10-24 01:28:32.127213: I tensorflow/core/framework/local_rendezvous.cc:423] Local rendezvous recv item cancelled. Key hash: 2918327929679280915\n",
      "2024-10-24 01:28:32.127320: I tensorflow/core/framework/local_rendezvous.cc:423] Local rendezvous recv item cancelled. Key hash: 15736871328311997881\n"
     ]
    },
    {
     "name": "stdout",
     "output_type": "stream",
     "text": [
      "\u001b[1m39/39\u001b[0m \u001b[32m━━━━━━━━━━━━━━━━━━━━\u001b[0m\u001b[37m\u001b[0m \u001b[1m0s\u001b[0m 6ms/step - accuracy: 0.8125 - loss: 0.5013 - val_accuracy: 0.5556 - val_loss: 1.1161\n",
      "Epoch 41/400\n"
     ]
    },
    {
     "name": "stderr",
     "output_type": "stream",
     "text": [
      "2024-10-24 01:28:32.358278: I tensorflow/core/framework/local_rendezvous.cc:423] Local rendezvous recv item cancelled. Key hash: 2918327929679280915\n",
      "2024-10-24 01:28:32.358383: I tensorflow/core/framework/local_rendezvous.cc:423] Local rendezvous recv item cancelled. Key hash: 15736871328311997881\n"
     ]
    },
    {
     "name": "stdout",
     "output_type": "stream",
     "text": [
      "\u001b[1m39/39\u001b[0m \u001b[32m━━━━━━━━━━━━━━━━━━━━\u001b[0m\u001b[37m\u001b[0m \u001b[1m14s\u001b[0m 355ms/step - accuracy: 0.7415 - loss: 0.6300 - val_accuracy: 0.6354 - val_loss: 0.8689\n",
      "Epoch 42/400\n",
      "\u001b[1m39/39\u001b[0m \u001b[32m━━━━━━━━━━━━━━━━━━━━\u001b[0m\u001b[37m\u001b[0m \u001b[1m0s\u001b[0m 7ms/step - accuracy: 0.7647 - loss: 0.6299 - val_accuracy: 0.7407 - val_loss: 0.6878\n",
      "Epoch 43/400\n"
     ]
    },
    {
     "name": "stderr",
     "output_type": "stream",
     "text": [
      "2024-10-24 01:28:46.462417: I tensorflow/core/framework/local_rendezvous.cc:423] Local rendezvous recv item cancelled. Key hash: 2918327929679280915\n"
     ]
    },
    {
     "name": "stdout",
     "output_type": "stream",
     "text": [
      "\u001b[1m39/39\u001b[0m \u001b[32m━━━━━━━━━━━━━━━━━━━━\u001b[0m\u001b[37m\u001b[0m \u001b[1m13s\u001b[0m 345ms/step - accuracy: 0.7502 - loss: 0.5936 - val_accuracy: 0.6250 - val_loss: 0.8777\n",
      "Epoch 44/400\n",
      "\u001b[1m 1/39\u001b[0m \u001b[37m━━━━━━━━━━━━━━━━━━━━\u001b[0m \u001b[1m1s\u001b[0m 34ms/step - accuracy: 0.6250 - loss: 0.7599"
     ]
    },
    {
     "name": "stderr",
     "output_type": "stream",
     "text": [
      "2024-10-24 01:28:59.960198: I tensorflow/core/framework/local_rendezvous.cc:423] Local rendezvous recv item cancelled. Key hash: 2918327929679280915\n",
      "2024-10-24 01:28:59.960284: I tensorflow/core/framework/local_rendezvous.cc:423] Local rendezvous recv item cancelled. Key hash: 15736871328311997881\n"
     ]
    },
    {
     "name": "stdout",
     "output_type": "stream",
     "text": [
      "\u001b[1m39/39\u001b[0m \u001b[32m━━━━━━━━━━━━━━━━━━━━\u001b[0m\u001b[37m\u001b[0m \u001b[1m0s\u001b[0m 9ms/step - accuracy: 0.6250 - loss: 0.7599 - val_accuracy: 0.4815 - val_loss: 1.0271\n",
      "Epoch 45/400\n",
      "\u001b[1m39/39\u001b[0m \u001b[32m━━━━━━━━━━━━━━━━━━━━\u001b[0m\u001b[37m\u001b[0m \u001b[1m14s\u001b[0m 355ms/step - accuracy: 0.7212 - loss: 0.6331 - val_accuracy: 0.6701 - val_loss: 0.8432\n",
      "Epoch 46/400\n",
      "\u001b[1m 1/39\u001b[0m \u001b[37m━━━━━━━━━━━━━━━━━━━━\u001b[0m \u001b[1m1s\u001b[0m 31ms/step - accuracy: 0.7500 - loss: 0.5598"
     ]
    },
    {
     "name": "stderr",
     "output_type": "stream",
     "text": [
      "2024-10-24 01:29:14.141162: I tensorflow/core/framework/local_rendezvous.cc:423] Local rendezvous recv item cancelled. Key hash: 2918327929679280915\n"
     ]
    },
    {
     "name": "stdout",
     "output_type": "stream",
     "text": [
      "\u001b[1m39/39\u001b[0m \u001b[32m━━━━━━━━━━━━━━━━━━━━\u001b[0m\u001b[37m\u001b[0m \u001b[1m0s\u001b[0m 6ms/step - accuracy: 0.7500 - loss: 0.5598 - val_accuracy: 0.5185 - val_loss: 0.9176\n",
      "Epoch 47/400\n",
      "\u001b[1m39/39\u001b[0m \u001b[32m━━━━━━━━━━━━━━━━━━━━\u001b[0m\u001b[37m\u001b[0m \u001b[1m14s\u001b[0m 358ms/step - accuracy: 0.7534 - loss: 0.5996 - val_accuracy: 0.6528 - val_loss: 0.8544\n",
      "Epoch 48/400\n",
      "\u001b[1m 1/39\u001b[0m \u001b[37m━━━━━━━━━━━━━━━━━━━━\u001b[0m \u001b[1m1s\u001b[0m 32ms/step - accuracy: 0.7812 - loss: 0.5508"
     ]
    },
    {
     "name": "stderr",
     "output_type": "stream",
     "text": [
      "2024-10-24 01:29:28.353687: I tensorflow/core/framework/local_rendezvous.cc:423] Local rendezvous recv item cancelled. Key hash: 2918327929679280915\n",
      "2024-10-24 01:29:28.353747: I tensorflow/core/framework/local_rendezvous.cc:423] Local rendezvous recv item cancelled. Key hash: 15736871328311997881\n"
     ]
    },
    {
     "name": "stdout",
     "output_type": "stream",
     "text": [
      "\u001b[1m39/39\u001b[0m \u001b[32m━━━━━━━━━━━━━━━━━━━━\u001b[0m\u001b[37m\u001b[0m \u001b[1m0s\u001b[0m 6ms/step - accuracy: 0.7812 - loss: 0.5508 - val_accuracy: 0.6296 - val_loss: 0.9153\n",
      "Epoch 49/400\n"
     ]
    },
    {
     "name": "stderr",
     "output_type": "stream",
     "text": [
      "2024-10-24 01:29:28.567567: I tensorflow/core/framework/local_rendezvous.cc:423] Local rendezvous recv item cancelled. Key hash: 2918327929679280915\n",
      "2024-10-24 01:29:28.567686: I tensorflow/core/framework/local_rendezvous.cc:423] Local rendezvous recv item cancelled. Key hash: 15736871328311997881\n"
     ]
    },
    {
     "name": "stdout",
     "output_type": "stream",
     "text": [
      "\u001b[1m39/39\u001b[0m \u001b[32m━━━━━━━━━━━━━━━━━━━━\u001b[0m\u001b[37m\u001b[0m \u001b[1m14s\u001b[0m 349ms/step - accuracy: 0.7637 - loss: 0.6133 - val_accuracy: 0.6597 - val_loss: 0.8245\n",
      "Epoch 50/400\n",
      "\u001b[1m 1/39\u001b[0m \u001b[37m━━━━━━━━━━━━━━━━━━━━\u001b[0m \u001b[1m1s\u001b[0m 38ms/step - accuracy: 0.6875 - loss: 0.7121"
     ]
    },
    {
     "name": "stderr",
     "output_type": "stream",
     "text": [
      "2024-10-24 01:29:42.225139: I tensorflow/core/framework/local_rendezvous.cc:423] Local rendezvous recv item cancelled. Key hash: 2918327929679280915\n",
      "2024-10-24 01:29:42.225279: I tensorflow/core/framework/local_rendezvous.cc:423] Local rendezvous recv item cancelled. Key hash: 15736871328311997881\n"
     ]
    },
    {
     "name": "stdout",
     "output_type": "stream",
     "text": [
      "\u001b[1m39/39\u001b[0m \u001b[32m━━━━━━━━━━━━━━━━━━━━\u001b[0m\u001b[37m\u001b[0m \u001b[1m0s\u001b[0m 6ms/step - accuracy: 0.6875 - loss: 0.7121 - val_accuracy: 0.5926 - val_loss: 0.8644\n",
      "Epoch 51/400\n"
     ]
    },
    {
     "name": "stderr",
     "output_type": "stream",
     "text": [
      "2024-10-24 01:29:42.440286: I tensorflow/core/framework/local_rendezvous.cc:423] Local rendezvous recv item cancelled. Key hash: 2918327929679280915\n",
      "2024-10-24 01:29:42.440346: I tensorflow/core/framework/local_rendezvous.cc:423] Local rendezvous recv item cancelled. Key hash: 15736871328311997881\n"
     ]
    },
    {
     "name": "stdout",
     "output_type": "stream",
     "text": [
      "\u001b[1m39/39\u001b[0m \u001b[32m━━━━━━━━━━━━━━━━━━━━\u001b[0m\u001b[37m\u001b[0m \u001b[1m14s\u001b[0m 347ms/step - accuracy: 0.7371 - loss: 0.6111 - val_accuracy: 0.6493 - val_loss: 0.8666\n",
      "Epoch 52/400\n",
      "\u001b[1m 1/39\u001b[0m \u001b[37m━━━━━━━━━━━━━━━━━━━━\u001b[0m \u001b[1m1s\u001b[0m 32ms/step - accuracy: 0.8125 - loss: 0.4574"
     ]
    },
    {
     "name": "stderr",
     "output_type": "stream",
     "text": [
      "2024-10-24 01:29:56.030092: I tensorflow/core/framework/local_rendezvous.cc:423] Local rendezvous recv item cancelled. Key hash: 2918327929679280915\n",
      "2024-10-24 01:29:56.030171: I tensorflow/core/framework/local_rendezvous.cc:423] Local rendezvous recv item cancelled. Key hash: 15736871328311997881\n"
     ]
    },
    {
     "name": "stdout",
     "output_type": "stream",
     "text": [
      "\u001b[1m39/39\u001b[0m \u001b[32m━━━━━━━━━━━━━━━━━━━━\u001b[0m\u001b[37m\u001b[0m \u001b[1m0s\u001b[0m 6ms/step - accuracy: 0.8125 - loss: 0.4574 - val_accuracy: 0.5556 - val_loss: 1.1360\n",
      "Epoch 53/400\n"
     ]
    },
    {
     "name": "stderr",
     "output_type": "stream",
     "text": [
      "2024-10-24 01:29:56.254448: I tensorflow/core/framework/local_rendezvous.cc:423] Local rendezvous recv item cancelled. Key hash: 2918327929679280915\n",
      "2024-10-24 01:29:56.254513: I tensorflow/core/framework/local_rendezvous.cc:423] Local rendezvous recv item cancelled. Key hash: 15736871328311997881\n"
     ]
    },
    {
     "name": "stdout",
     "output_type": "stream",
     "text": [
      "\u001b[1m39/39\u001b[0m \u001b[32m━━━━━━━━━━━━━━━━━━━━\u001b[0m\u001b[37m\u001b[0m \u001b[1m14s\u001b[0m 356ms/step - accuracy: 0.7464 - loss: 0.6213 - val_accuracy: 0.6042 - val_loss: 0.8757\n",
      "Epoch 54/400\n",
      "\u001b[1m 1/39\u001b[0m \u001b[37m━━━━━━━━━━━━━━━━━━━━\u001b[0m \u001b[1m1s\u001b[0m 33ms/step - accuracy: 0.8125 - loss: 0.5363"
     ]
    },
    {
     "name": "stderr",
     "output_type": "stream",
     "text": [
      "2024-10-24 01:30:10.182539: I tensorflow/core/framework/local_rendezvous.cc:423] Local rendezvous recv item cancelled. Key hash: 2918327929679280915\n",
      "2024-10-24 01:30:10.182673: I tensorflow/core/framework/local_rendezvous.cc:423] Local rendezvous recv item cancelled. Key hash: 15736871328311997881\n"
     ]
    },
    {
     "name": "stdout",
     "output_type": "stream",
     "text": [
      "\u001b[1m39/39\u001b[0m \u001b[32m━━━━━━━━━━━━━━━━━━━━\u001b[0m\u001b[37m\u001b[0m \u001b[1m0s\u001b[0m 5ms/step - accuracy: 0.8125 - loss: 0.5363 - val_accuracy: 0.5926 - val_loss: 1.0416\n",
      "Epoch 55/400\n"
     ]
    },
    {
     "name": "stderr",
     "output_type": "stream",
     "text": [
      "2024-10-24 01:30:10.392473: I tensorflow/core/framework/local_rendezvous.cc:423] Local rendezvous recv item cancelled. Key hash: 2918327929679280915\n",
      "2024-10-24 01:30:10.392581: I tensorflow/core/framework/local_rendezvous.cc:423] Local rendezvous recv item cancelled. Key hash: 15736871328311997881\n"
     ]
    },
    {
     "name": "stdout",
     "output_type": "stream",
     "text": [
      "\u001b[1m39/39\u001b[0m \u001b[32m━━━━━━━━━━━━━━━━━━━━\u001b[0m\u001b[37m\u001b[0m \u001b[1m14s\u001b[0m 348ms/step - accuracy: 0.7599 - loss: 0.5776 - val_accuracy: 0.6562 - val_loss: 0.8737\n",
      "Epoch 56/400\n",
      "\u001b[1m 1/39\u001b[0m \u001b[37m━━━━━━━━━━━━━━━━━━━━\u001b[0m \u001b[1m1s\u001b[0m 30ms/step - accuracy: 0.6875 - loss: 0.6611"
     ]
    },
    {
     "name": "stderr",
     "output_type": "stream",
     "text": [
      "2024-10-24 01:30:23.978255: I tensorflow/core/framework/local_rendezvous.cc:423] Local rendezvous recv item cancelled. Key hash: 2918327929679280915\n",
      "2024-10-24 01:30:23.978320: I tensorflow/core/framework/local_rendezvous.cc:423] Local rendezvous recv item cancelled. Key hash: 15736871328311997881\n"
     ]
    },
    {
     "name": "stdout",
     "output_type": "stream",
     "text": [
      "\u001b[1m39/39\u001b[0m \u001b[32m━━━━━━━━━━━━━━━━━━━━\u001b[0m\u001b[37m\u001b[0m \u001b[1m0s\u001b[0m 6ms/step - accuracy: 0.6875 - loss: 0.6611 - val_accuracy: 0.4444 - val_loss: 1.0795\n",
      "Epoch 57/400\n",
      "\u001b[1m39/39\u001b[0m \u001b[32m━━━━━━━━━━━━━━━━━━━━\u001b[0m\u001b[37m\u001b[0m \u001b[1m13s\u001b[0m 344ms/step - accuracy: 0.7452 - loss: 0.6253 - val_accuracy: 0.6389 - val_loss: 0.9298\n",
      "Epoch 58/400\n",
      "\u001b[1m 1/39\u001b[0m \u001b[37m━━━━━━━━━━━━━━━━━━━━\u001b[0m \u001b[1m1s\u001b[0m 31ms/step - accuracy: 0.5938 - loss: 0.8762"
     ]
    },
    {
     "name": "stderr",
     "output_type": "stream",
     "text": [
      "2024-10-24 01:30:37.691536: I tensorflow/core/framework/local_rendezvous.cc:423] Local rendezvous recv item cancelled. Key hash: 2918327929679280915\n"
     ]
    },
    {
     "name": "stdout",
     "output_type": "stream",
     "text": [
      "\u001b[1m39/39\u001b[0m \u001b[32m━━━━━━━━━━━━━━━━━━━━\u001b[0m\u001b[37m\u001b[0m \u001b[1m0s\u001b[0m 7ms/step - accuracy: 0.5938 - loss: 0.8762 - val_accuracy: 0.5926 - val_loss: 0.9006\n",
      "Epoch 59/400\n"
     ]
    },
    {
     "name": "stderr",
     "output_type": "stream",
     "text": [
      "2024-10-24 01:30:37.946072: I tensorflow/core/framework/local_rendezvous.cc:423] Local rendezvous recv item cancelled. Key hash: 2918327929679280915\n",
      "2024-10-24 01:30:37.946144: I tensorflow/core/framework/local_rendezvous.cc:423] Local rendezvous recv item cancelled. Key hash: 15736871328311997881\n"
     ]
    },
    {
     "name": "stdout",
     "output_type": "stream",
     "text": [
      "\u001b[1m39/39\u001b[0m \u001b[32m━━━━━━━━━━━━━━━━━━━━\u001b[0m\u001b[37m\u001b[0m \u001b[1m14s\u001b[0m 350ms/step - accuracy: 0.7153 - loss: 0.6473 - val_accuracy: 0.6319 - val_loss: 0.8713\n",
      "Epoch 60/400\n",
      "\u001b[1m 1/39\u001b[0m \u001b[37m━━━━━━━━━━━━━━━━━━━━\u001b[0m \u001b[1m1s\u001b[0m 32ms/step - accuracy: 0.6250 - loss: 0.8543"
     ]
    },
    {
     "name": "stderr",
     "output_type": "stream",
     "text": [
      "2024-10-24 01:30:51.605330: I tensorflow/core/framework/local_rendezvous.cc:423] Local rendezvous recv item cancelled. Key hash: 2918327929679280915\n"
     ]
    },
    {
     "name": "stdout",
     "output_type": "stream",
     "text": [
      "\u001b[1m39/39\u001b[0m \u001b[32m━━━━━━━━━━━━━━━━━━━━\u001b[0m\u001b[37m\u001b[0m \u001b[1m0s\u001b[0m 6ms/step - accuracy: 0.6250 - loss: 0.8543 - val_accuracy: 0.7407 - val_loss: 0.7027\n",
      "Epoch 61/400\n"
     ]
    },
    {
     "name": "stderr",
     "output_type": "stream",
     "text": [
      "2024-10-24 01:30:51.848523: I tensorflow/core/framework/local_rendezvous.cc:423] Local rendezvous recv item cancelled. Key hash: 2918327929679280915\n",
      "2024-10-24 01:30:51.848564: I tensorflow/core/framework/local_rendezvous.cc:423] Local rendezvous recv item cancelled. Key hash: 15736871328311997881\n"
     ]
    },
    {
     "name": "stdout",
     "output_type": "stream",
     "text": [
      "\u001b[1m39/39\u001b[0m \u001b[32m━━━━━━━━━━━━━━━━━━━━\u001b[0m\u001b[37m\u001b[0m \u001b[1m14s\u001b[0m 348ms/step - accuracy: 0.7461 - loss: 0.6053 - val_accuracy: 0.6319 - val_loss: 0.8303\n",
      "Epoch 62/400\n",
      "\u001b[1m 1/39\u001b[0m \u001b[37m━━━━━━━━━━━━━━━━━━━━\u001b[0m \u001b[1m1s\u001b[0m 38ms/step - accuracy: 0.7500 - loss: 0.7099"
     ]
    },
    {
     "name": "stderr",
     "output_type": "stream",
     "text": [
      "2024-10-24 01:31:05.465914: I tensorflow/core/framework/local_rendezvous.cc:423] Local rendezvous recv item cancelled. Key hash: 2918327929679280915\n",
      "2024-10-24 01:31:05.465976: I tensorflow/core/framework/local_rendezvous.cc:423] Local rendezvous recv item cancelled. Key hash: 15736871328311997881\n"
     ]
    },
    {
     "name": "stdout",
     "output_type": "stream",
     "text": [
      "\u001b[1m39/39\u001b[0m \u001b[32m━━━━━━━━━━━━━━━━━━━━\u001b[0m\u001b[37m\u001b[0m \u001b[1m0s\u001b[0m 6ms/step - accuracy: 0.7500 - loss: 0.7099 - val_accuracy: 0.7037 - val_loss: 0.7932\n",
      "Epoch 63/400\n"
     ]
    },
    {
     "name": "stderr",
     "output_type": "stream",
     "text": [
      "2024-10-24 01:31:05.692251: I tensorflow/core/framework/local_rendezvous.cc:423] Local rendezvous recv item cancelled. Key hash: 2918327929679280915\n",
      "2024-10-24 01:31:05.692302: I tensorflow/core/framework/local_rendezvous.cc:423] Local rendezvous recv item cancelled. Key hash: 15736871328311997881\n"
     ]
    },
    {
     "name": "stdout",
     "output_type": "stream",
     "text": [
      "\u001b[1m39/39\u001b[0m \u001b[32m━━━━━━━━━━━━━━━━━━━━\u001b[0m\u001b[37m\u001b[0m \u001b[1m13s\u001b[0m 342ms/step - accuracy: 0.7634 - loss: 0.5751 - val_accuracy: 0.6042 - val_loss: 0.9748\n",
      "Epoch 64/400\n",
      "\u001b[1m 1/39\u001b[0m \u001b[37m━━━━━━━━━━━━━━━━━━━━\u001b[0m \u001b[1m1s\u001b[0m 33ms/step - accuracy: 0.6875 - loss: 0.6618"
     ]
    },
    {
     "name": "stderr",
     "output_type": "stream",
     "text": [
      "2024-10-24 01:31:19.094726: I tensorflow/core/framework/local_rendezvous.cc:423] Local rendezvous recv item cancelled. Key hash: 2918327929679280915\n",
      "2024-10-24 01:31:19.094788: I tensorflow/core/framework/local_rendezvous.cc:423] Local rendezvous recv item cancelled. Key hash: 15736871328311997881\n"
     ]
    },
    {
     "name": "stdout",
     "output_type": "stream",
     "text": [
      "\u001b[1m39/39\u001b[0m \u001b[32m━━━━━━━━━━━━━━━━━━━━\u001b[0m\u001b[37m\u001b[0m \u001b[1m0s\u001b[0m 6ms/step - accuracy: 0.6875 - loss: 0.6618 - val_accuracy: 0.8148 - val_loss: 0.4421\n",
      "Epoch 65/400\n"
     ]
    },
    {
     "name": "stderr",
     "output_type": "stream",
     "text": [
      "2024-10-24 01:31:19.326554: I tensorflow/core/framework/local_rendezvous.cc:423] Local rendezvous recv item cancelled. Key hash: 2918327929679280915\n",
      "2024-10-24 01:31:19.326599: I tensorflow/core/framework/local_rendezvous.cc:423] Local rendezvous recv item cancelled. Key hash: 15736871328311997881\n"
     ]
    },
    {
     "name": "stdout",
     "output_type": "stream",
     "text": [
      "\u001b[1m39/39\u001b[0m \u001b[32m━━━━━━━━━━━━━━━━━━━━\u001b[0m\u001b[37m\u001b[0m \u001b[1m14s\u001b[0m 356ms/step - accuracy: 0.7410 - loss: 0.6113 - val_accuracy: 0.6042 - val_loss: 0.9097\n",
      "Epoch 66/400\n",
      "\u001b[1m39/39\u001b[0m \u001b[32m━━━━━━━━━━━━━━━━━━━━\u001b[0m\u001b[37m\u001b[0m \u001b[1m0s\u001b[0m 6ms/step - accuracy: 0.6875 - loss: 0.6599 - val_accuracy: 0.6296 - val_loss: 0.9348\n",
      "Epoch 67/400\n",
      "\u001b[1m39/39\u001b[0m \u001b[32m━━━━━━━━━━━━━━━━━━━━\u001b[0m\u001b[37m\u001b[0m \u001b[1m14s\u001b[0m 353ms/step - accuracy: 0.7603 - loss: 0.5586 - val_accuracy: 0.6042 - val_loss: 0.8662\n",
      "Epoch 68/400\n",
      "\u001b[1m 1/39\u001b[0m \u001b[37m━━━━━━━━━━━━━━━━━━━━\u001b[0m \u001b[1m1s\u001b[0m 31ms/step - accuracy: 0.7188 - loss: 0.5317"
     ]
    },
    {
     "name": "stderr",
     "output_type": "stream",
     "text": [
      "2024-10-24 01:31:47.262542: I tensorflow/core/framework/local_rendezvous.cc:423] Local rendezvous recv item cancelled. Key hash: 2918327929679280915\n",
      "2024-10-24 01:31:47.262598: I tensorflow/core/framework/local_rendezvous.cc:423] Local rendezvous recv item cancelled. Key hash: 15736871328311997881\n"
     ]
    },
    {
     "name": "stdout",
     "output_type": "stream",
     "text": [
      "\u001b[1m39/39\u001b[0m \u001b[32m━━━━━━━━━━━━━━━━━━━━\u001b[0m\u001b[37m\u001b[0m \u001b[1m0s\u001b[0m 6ms/step - accuracy: 0.7188 - loss: 0.5317 - val_accuracy: 0.5556 - val_loss: 1.0611\n",
      "Epoch 69/400\n",
      "\u001b[1m39/39\u001b[0m \u001b[32m━━━━━━━━━━━━━━━━━━━━\u001b[0m\u001b[37m\u001b[0m \u001b[1m14s\u001b[0m 350ms/step - accuracy: 0.7458 - loss: 0.6082 - val_accuracy: 0.6250 - val_loss: 0.8580\n",
      "Epoch 70/400\n",
      "\u001b[1m 1/39\u001b[0m \u001b[37m━━━━━━━━━━━━━━━━━━━━\u001b[0m \u001b[1m1s\u001b[0m 33ms/step - accuracy: 0.7812 - loss: 0.6482"
     ]
    },
    {
     "name": "stderr",
     "output_type": "stream",
     "text": [
      "2024-10-24 01:32:01.179468: I tensorflow/core/framework/local_rendezvous.cc:423] Local rendezvous recv item cancelled. Key hash: 2918327929679280915\n",
      "2024-10-24 01:32:01.179531: I tensorflow/core/framework/local_rendezvous.cc:423] Local rendezvous recv item cancelled. Key hash: 15736871328311997881\n"
     ]
    },
    {
     "name": "stdout",
     "output_type": "stream",
     "text": [
      "\u001b[1m39/39\u001b[0m \u001b[32m━━━━━━━━━━━━━━━━━━━━\u001b[0m\u001b[37m\u001b[0m \u001b[1m0s\u001b[0m 6ms/step - accuracy: 0.7812 - loss: 0.6482 - val_accuracy: 0.5926 - val_loss: 1.0245\n",
      "Epoch 71/400\n"
     ]
    },
    {
     "name": "stderr",
     "output_type": "stream",
     "text": [
      "2024-10-24 01:32:01.392435: I tensorflow/core/framework/local_rendezvous.cc:423] Local rendezvous recv item cancelled. Key hash: 2918327929679280915\n",
      "2024-10-24 01:32:01.392482: I tensorflow/core/framework/local_rendezvous.cc:423] Local rendezvous recv item cancelled. Key hash: 15736871328311997881\n"
     ]
    },
    {
     "name": "stdout",
     "output_type": "stream",
     "text": [
      "\u001b[1m39/39\u001b[0m \u001b[32m━━━━━━━━━━━━━━━━━━━━\u001b[0m\u001b[37m\u001b[0m \u001b[1m14s\u001b[0m 354ms/step - accuracy: 0.7551 - loss: 0.5877 - val_accuracy: 0.6632 - val_loss: 0.8087\n",
      "Epoch 72/400\n",
      "\u001b[1m 1/39\u001b[0m \u001b[37m━━━━━━━━━━━━━━━━━━━━\u001b[0m \u001b[1m1s\u001b[0m 38ms/step - accuracy: 0.6875 - loss: 0.6411"
     ]
    },
    {
     "name": "stderr",
     "output_type": "stream",
     "text": [
      "2024-10-24 01:32:15.222725: I tensorflow/core/framework/local_rendezvous.cc:423] Local rendezvous recv item cancelled. Key hash: 2918327929679280915\n",
      "2024-10-24 01:32:15.222793: I tensorflow/core/framework/local_rendezvous.cc:423] Local rendezvous recv item cancelled. Key hash: 15736871328311997881\n"
     ]
    },
    {
     "name": "stdout",
     "output_type": "stream",
     "text": [
      "\u001b[1m39/39\u001b[0m \u001b[32m━━━━━━━━━━━━━━━━━━━━\u001b[0m\u001b[37m\u001b[0m \u001b[1m0s\u001b[0m 5ms/step - accuracy: 0.6875 - loss: 0.6411 - val_accuracy: 0.6667 - val_loss: 0.6788\n",
      "Epoch 73/400\n"
     ]
    },
    {
     "name": "stderr",
     "output_type": "stream",
     "text": [
      "2024-10-24 01:32:15.428849: I tensorflow/core/framework/local_rendezvous.cc:423] Local rendezvous recv item cancelled. Key hash: 2918327929679280915\n",
      "2024-10-24 01:32:15.428905: I tensorflow/core/framework/local_rendezvous.cc:423] Local rendezvous recv item cancelled. Key hash: 15736871328311997881\n"
     ]
    },
    {
     "name": "stdout",
     "output_type": "stream",
     "text": [
      "\u001b[1m39/39\u001b[0m \u001b[32m━━━━━━━━━━━━━━━━━━━━\u001b[0m\u001b[37m\u001b[0m \u001b[1m14s\u001b[0m 348ms/step - accuracy: 0.7169 - loss: 0.6458 - val_accuracy: 0.6181 - val_loss: 0.8501\n",
      "Epoch 74/400\n",
      "\u001b[1m 1/39\u001b[0m \u001b[37m━━━━━━━━━━━━━━━━━━━━\u001b[0m \u001b[1m1s\u001b[0m 34ms/step - accuracy: 0.5938 - loss: 0.7694"
     ]
    },
    {
     "name": "stderr",
     "output_type": "stream",
     "text": [
      "2024-10-24 01:32:29.071259: I tensorflow/core/framework/local_rendezvous.cc:423] Local rendezvous recv item cancelled. Key hash: 2918327929679280915\n"
     ]
    },
    {
     "name": "stdout",
     "output_type": "stream",
     "text": [
      "\u001b[1m39/39\u001b[0m \u001b[32m━━━━━━━━━━━━━━━━━━━━\u001b[0m\u001b[37m\u001b[0m \u001b[1m0s\u001b[0m 7ms/step - accuracy: 0.5938 - loss: 0.7694 - val_accuracy: 0.6296 - val_loss: 0.9089\n",
      "Epoch 75/400\n"
     ]
    },
    {
     "name": "stderr",
     "output_type": "stream",
     "text": [
      "2024-10-24 01:32:29.348934: I tensorflow/core/framework/local_rendezvous.cc:423] Local rendezvous recv item cancelled. Key hash: 2918327929679280915\n"
     ]
    },
    {
     "name": "stdout",
     "output_type": "stream",
     "text": [
      "\u001b[1m39/39\u001b[0m \u001b[32m━━━━━━━━━━━━━━━━━━━━\u001b[0m\u001b[37m\u001b[0m \u001b[1m14s\u001b[0m 349ms/step - accuracy: 0.7760 - loss: 0.5584 - val_accuracy: 0.6389 - val_loss: 0.8938\n",
      "Epoch 76/400\n",
      "\u001b[1m 1/39\u001b[0m \u001b[37m━━━━━━━━━━━━━━━━━━━━\u001b[0m \u001b[1m1s\u001b[0m 33ms/step - accuracy: 0.7812 - loss: 0.5706"
     ]
    },
    {
     "name": "stderr",
     "output_type": "stream",
     "text": [
      "2024-10-24 01:32:42.996729: I tensorflow/core/framework/local_rendezvous.cc:423] Local rendezvous recv item cancelled. Key hash: 2918327929679280915\n"
     ]
    },
    {
     "name": "stdout",
     "output_type": "stream",
     "text": [
      "\u001b[1m39/39\u001b[0m \u001b[32m━━━━━━━━━━━━━━━━━━━━\u001b[0m\u001b[37m\u001b[0m \u001b[1m0s\u001b[0m 6ms/step - accuracy: 0.7812 - loss: 0.5706 - val_accuracy: 0.7037 - val_loss: 0.6715\n",
      "Epoch 77/400\n",
      "\u001b[1m39/39\u001b[0m \u001b[32m━━━━━━━━━━━━━━━━━━━━\u001b[0m\u001b[37m\u001b[0m \u001b[1m13s\u001b[0m 344ms/step - accuracy: 0.7428 - loss: 0.5921 - val_accuracy: 0.6319 - val_loss: 0.8624\n",
      "Epoch 78/400\n",
      "\u001b[1m 1/39\u001b[0m \u001b[37m━━━━━━━━━━━━━━━━━━━━\u001b[0m \u001b[1m1s\u001b[0m 34ms/step - accuracy: 0.7500 - loss: 0.5731"
     ]
    },
    {
     "name": "stderr",
     "output_type": "stream",
     "text": [
      "2024-10-24 01:32:56.667057: I tensorflow/core/framework/local_rendezvous.cc:423] Local rendezvous recv item cancelled. Key hash: 2918327929679280915\n",
      "2024-10-24 01:32:56.667158: I tensorflow/core/framework/local_rendezvous.cc:423] Local rendezvous recv item cancelled. Key hash: 15736871328311997881\n"
     ]
    },
    {
     "name": "stdout",
     "output_type": "stream",
     "text": [
      "\u001b[1m39/39\u001b[0m \u001b[32m━━━━━━━━━━━━━━━━━━━━\u001b[0m\u001b[37m\u001b[0m \u001b[1m0s\u001b[0m 5ms/step - accuracy: 0.7500 - loss: 0.5731 - val_accuracy: 0.7778 - val_loss: 0.6345\n",
      "Epoch 79/400\n"
     ]
    },
    {
     "name": "stderr",
     "output_type": "stream",
     "text": [
      "2024-10-24 01:32:56.879165: I tensorflow/core/framework/local_rendezvous.cc:423] Local rendezvous recv item cancelled. Key hash: 2918327929679280915\n",
      "2024-10-24 01:32:56.879231: I tensorflow/core/framework/local_rendezvous.cc:423] Local rendezvous recv item cancelled. Key hash: 15736871328311997881\n"
     ]
    },
    {
     "name": "stdout",
     "output_type": "stream",
     "text": [
      "\u001b[1m39/39\u001b[0m \u001b[32m━━━━━━━━━━━━━━━━━━━━\u001b[0m\u001b[37m\u001b[0m \u001b[1m14s\u001b[0m 349ms/step - accuracy: 0.7173 - loss: 0.6261 - val_accuracy: 0.6389 - val_loss: 0.8244\n",
      "Epoch 80/400\n",
      "\u001b[1m 1/39\u001b[0m \u001b[37m━━━━━━━━━━━━━━━━━━━━\u001b[0m \u001b[1m1s\u001b[0m 34ms/step - accuracy: 0.7188 - loss: 0.5816"
     ]
    },
    {
     "name": "stderr",
     "output_type": "stream",
     "text": [
      "2024-10-24 01:33:10.534472: I tensorflow/core/framework/local_rendezvous.cc:423] Local rendezvous recv item cancelled. Key hash: 2918327929679280915\n",
      "2024-10-24 01:33:10.534533: I tensorflow/core/framework/local_rendezvous.cc:423] Local rendezvous recv item cancelled. Key hash: 15736871328311997881\n"
     ]
    },
    {
     "name": "stdout",
     "output_type": "stream",
     "text": [
      "\u001b[1m39/39\u001b[0m \u001b[32m━━━━━━━━━━━━━━━━━━━━\u001b[0m\u001b[37m\u001b[0m \u001b[1m0s\u001b[0m 6ms/step - accuracy: 0.7188 - loss: 0.5816 - val_accuracy: 0.4815 - val_loss: 1.3550\n",
      "Epoch 81/400\n"
     ]
    },
    {
     "name": "stderr",
     "output_type": "stream",
     "text": [
      "2024-10-24 01:33:10.768752: I tensorflow/core/framework/local_rendezvous.cc:423] Local rendezvous recv item cancelled. Key hash: 2918327929679280915\n",
      "2024-10-24 01:33:10.768794: I tensorflow/core/framework/local_rendezvous.cc:423] Local rendezvous recv item cancelled. Key hash: 15736871328311997881\n"
     ]
    },
    {
     "name": "stdout",
     "output_type": "stream",
     "text": [
      "\u001b[1m39/39\u001b[0m \u001b[32m━━━━━━━━━━━━━━━━━━━━\u001b[0m\u001b[37m\u001b[0m \u001b[1m14s\u001b[0m 354ms/step - accuracy: 0.7736 - loss: 0.5711 - val_accuracy: 0.6667 - val_loss: 0.8162\n",
      "Epoch 82/400\n",
      "\u001b[1m 1/39\u001b[0m \u001b[37m━━━━━━━━━━━━━━━━━━━━\u001b[0m \u001b[1m1s\u001b[0m 38ms/step - accuracy: 0.7500 - loss: 0.6281"
     ]
    },
    {
     "name": "stderr",
     "output_type": "stream",
     "text": [
      "2024-10-24 01:33:24.626634: I tensorflow/core/framework/local_rendezvous.cc:423] Local rendezvous recv item cancelled. Key hash: 2918327929679280915\n",
      "2024-10-24 01:33:24.626748: I tensorflow/core/framework/local_rendezvous.cc:423] Local rendezvous recv item cancelled. Key hash: 15736871328311997881\n"
     ]
    },
    {
     "name": "stdout",
     "output_type": "stream",
     "text": [
      "\u001b[1m39/39\u001b[0m \u001b[32m━━━━━━━━━━━━━━━━━━━━\u001b[0m\u001b[37m\u001b[0m \u001b[1m0s\u001b[0m 6ms/step - accuracy: 0.7500 - loss: 0.6281 - val_accuracy: 0.5926 - val_loss: 1.0590\n",
      "Epoch 83/400\n"
     ]
    },
    {
     "name": "stderr",
     "output_type": "stream",
     "text": [
      "2024-10-24 01:33:24.842248: I tensorflow/core/framework/local_rendezvous.cc:423] Local rendezvous recv item cancelled. Key hash: 2918327929679280915\n",
      "2024-10-24 01:33:24.842337: I tensorflow/core/framework/local_rendezvous.cc:423] Local rendezvous recv item cancelled. Key hash: 15736871328311997881\n"
     ]
    },
    {
     "name": "stdout",
     "output_type": "stream",
     "text": [
      "\u001b[1m39/39\u001b[0m \u001b[32m━━━━━━━━━━━━━━━━━━━━\u001b[0m\u001b[37m\u001b[0m \u001b[1m14s\u001b[0m 350ms/step - accuracy: 0.7363 - loss: 0.6188 - val_accuracy: 0.6319 - val_loss: 0.9066\n",
      "Epoch 84/400\n",
      "\u001b[1m 1/39\u001b[0m \u001b[37m━━━━━━━━━━━━━━━━━━━━\u001b[0m \u001b[1m1s\u001b[0m 32ms/step - accuracy: 0.7812 - loss: 0.4830"
     ]
    },
    {
     "name": "stderr",
     "output_type": "stream",
     "text": [
      "2024-10-24 01:33:38.542747: I tensorflow/core/framework/local_rendezvous.cc:423] Local rendezvous recv item cancelled. Key hash: 2918327929679280915\n",
      "2024-10-24 01:33:38.542806: I tensorflow/core/framework/local_rendezvous.cc:423] Local rendezvous recv item cancelled. Key hash: 15736871328311997881\n"
     ]
    },
    {
     "name": "stdout",
     "output_type": "stream",
     "text": [
      "\u001b[1m39/39\u001b[0m \u001b[32m━━━━━━━━━━━━━━━━━━━━\u001b[0m\u001b[37m\u001b[0m \u001b[1m0s\u001b[0m 6ms/step - accuracy: 0.7812 - loss: 0.4830 - val_accuracy: 0.5556 - val_loss: 0.8249\n",
      "Epoch 85/400\n",
      "\u001b[1m39/39\u001b[0m \u001b[32m━━━━━━━━━━━━━━━━━━━━\u001b[0m\u001b[37m\u001b[0m \u001b[1m14s\u001b[0m 351ms/step - accuracy: 0.7493 - loss: 0.6016 - val_accuracy: 0.5868 - val_loss: 0.8937\n",
      "Epoch 86/400\n",
      "\u001b[1m 1/39\u001b[0m \u001b[37m━━━━━━━━━━━━━━━━━━━━\u001b[0m \u001b[1m1s\u001b[0m 34ms/step - accuracy: 0.7188 - loss: 0.6652"
     ]
    },
    {
     "name": "stderr",
     "output_type": "stream",
     "text": [
      "2024-10-24 01:33:52.503376: I tensorflow/core/framework/local_rendezvous.cc:423] Local rendezvous recv item cancelled. Key hash: 2918327929679280915\n",
      "2024-10-24 01:33:52.503434: I tensorflow/core/framework/local_rendezvous.cc:423] Local rendezvous recv item cancelled. Key hash: 15736871328311997881\n"
     ]
    },
    {
     "name": "stdout",
     "output_type": "stream",
     "text": [
      "\u001b[1m39/39\u001b[0m \u001b[32m━━━━━━━━━━━━━━━━━━━━\u001b[0m\u001b[37m\u001b[0m \u001b[1m0s\u001b[0m 6ms/step - accuracy: 0.7188 - loss: 0.6652 - val_accuracy: 0.5556 - val_loss: 0.9875\n",
      "Epoch 87/400\n"
     ]
    },
    {
     "name": "stderr",
     "output_type": "stream",
     "text": [
      "2024-10-24 01:33:52.743253: I tensorflow/core/framework/local_rendezvous.cc:423] Local rendezvous recv item cancelled. Key hash: 2918327929679280915\n",
      "2024-10-24 01:33:52.743299: I tensorflow/core/framework/local_rendezvous.cc:423] Local rendezvous recv item cancelled. Key hash: 15736871328311997881\n"
     ]
    },
    {
     "name": "stdout",
     "output_type": "stream",
     "text": [
      "\u001b[1m39/39\u001b[0m \u001b[32m━━━━━━━━━━━━━━━━━━━━\u001b[0m\u001b[37m\u001b[0m \u001b[1m14s\u001b[0m 348ms/step - accuracy: 0.7459 - loss: 0.6129 - val_accuracy: 0.6250 - val_loss: 0.8982\n",
      "Epoch 88/400\n",
      "\u001b[1m 1/39\u001b[0m \u001b[37m━━━━━━━━━━━━━━━━━━━━\u001b[0m \u001b[1m1s\u001b[0m 34ms/step - accuracy: 0.6875 - loss: 0.7479"
     ]
    },
    {
     "name": "stderr",
     "output_type": "stream",
     "text": [
      "2024-10-24 01:34:06.345579: I tensorflow/core/framework/local_rendezvous.cc:423] Local rendezvous recv item cancelled. Key hash: 2918327929679280915\n",
      "2024-10-24 01:34:06.345646: I tensorflow/core/framework/local_rendezvous.cc:423] Local rendezvous recv item cancelled. Key hash: 15736871328311997881\n"
     ]
    },
    {
     "name": "stdout",
     "output_type": "stream",
     "text": [
      "\u001b[1m39/39\u001b[0m \u001b[32m━━━━━━━━━━━━━━━━━━━━\u001b[0m\u001b[37m\u001b[0m \u001b[1m0s\u001b[0m 5ms/step - accuracy: 0.6875 - loss: 0.7479 - val_accuracy: 0.6296 - val_loss: 0.8791\n",
      "Epoch 89/400\n",
      "\u001b[1m39/39\u001b[0m \u001b[32m━━━━━━━━━━━━━━━━━━━━\u001b[0m\u001b[37m\u001b[0m \u001b[1m14s\u001b[0m 352ms/step - accuracy: 0.7363 - loss: 0.5952 - val_accuracy: 0.6528 - val_loss: 0.8567\n",
      "Epoch 90/400\n",
      "\u001b[1m 1/39\u001b[0m \u001b[37m━━━━━━━━━━━━━━━━━━━━\u001b[0m \u001b[1m1s\u001b[0m 39ms/step - accuracy: 0.7188 - loss: 0.6644"
     ]
    },
    {
     "name": "stderr",
     "output_type": "stream",
     "text": [
      "2024-10-24 01:34:20.332563: I tensorflow/core/framework/local_rendezvous.cc:423] Local rendezvous recv item cancelled. Key hash: 2918327929679280915\n",
      "2024-10-24 01:34:20.332699: I tensorflow/core/framework/local_rendezvous.cc:423] Local rendezvous recv item cancelled. Key hash: 15736871328311997881\n"
     ]
    },
    {
     "name": "stdout",
     "output_type": "stream",
     "text": [
      "\u001b[1m39/39\u001b[0m \u001b[32m━━━━━━━━━━━━━━━━━━━━\u001b[0m\u001b[37m\u001b[0m \u001b[1m0s\u001b[0m 5ms/step - accuracy: 0.7188 - loss: 0.6644 - val_accuracy: 0.7778 - val_loss: 0.6305\n",
      "Epoch 91/400\n"
     ]
    },
    {
     "name": "stderr",
     "output_type": "stream",
     "text": [
      "2024-10-24 01:34:20.535540: I tensorflow/core/framework/local_rendezvous.cc:423] Local rendezvous recv item cancelled. Key hash: 2918327929679280915\n",
      "2024-10-24 01:34:20.535587: I tensorflow/core/framework/local_rendezvous.cc:423] Local rendezvous recv item cancelled. Key hash: 15736871328311997881\n"
     ]
    },
    {
     "name": "stdout",
     "output_type": "stream",
     "text": [
      "\u001b[1m39/39\u001b[0m \u001b[32m━━━━━━━━━━━━━━━━━━━━\u001b[0m\u001b[37m\u001b[0m \u001b[1m14s\u001b[0m 350ms/step - accuracy: 0.7649 - loss: 0.5432 - val_accuracy: 0.6389 - val_loss: 0.8735\n",
      "Epoch 92/400\n",
      "\u001b[1m 1/39\u001b[0m \u001b[37m━━━━━━━━━━━━━━━━━━━━\u001b[0m \u001b[1m1s\u001b[0m 30ms/step - accuracy: 0.5938 - loss: 0.7789"
     ]
    },
    {
     "name": "stderr",
     "output_type": "stream",
     "text": [
      "2024-10-24 01:34:34.197691: I tensorflow/core/framework/local_rendezvous.cc:423] Local rendezvous recv item cancelled. Key hash: 2918327929679280915\n",
      "2024-10-24 01:34:34.197752: I tensorflow/core/framework/local_rendezvous.cc:423] Local rendezvous recv item cancelled. Key hash: 15736871328311997881\n"
     ]
    },
    {
     "name": "stdout",
     "output_type": "stream",
     "text": [
      "\u001b[1m39/39\u001b[0m \u001b[32m━━━━━━━━━━━━━━━━━━━━\u001b[0m\u001b[37m\u001b[0m \u001b[1m0s\u001b[0m 7ms/step - accuracy: 0.5938 - loss: 0.7789 - val_accuracy: 0.5926 - val_loss: 0.9598\n",
      "Epoch 93/400\n"
     ]
    },
    {
     "name": "stderr",
     "output_type": "stream",
     "text": [
      "2024-10-24 01:34:34.482748: I tensorflow/core/framework/local_rendezvous.cc:423] Local rendezvous recv item cancelled. Key hash: 2918327929679280915\n",
      "2024-10-24 01:34:34.482789: I tensorflow/core/framework/local_rendezvous.cc:423] Local rendezvous recv item cancelled. Key hash: 15736871328311997881\n"
     ]
    },
    {
     "name": "stdout",
     "output_type": "stream",
     "text": [
      "\u001b[1m39/39\u001b[0m \u001b[32m━━━━━━━━━━━━━━━━━━━━\u001b[0m\u001b[37m\u001b[0m \u001b[1m13s\u001b[0m 346ms/step - accuracy: 0.7606 - loss: 0.5905 - val_accuracy: 0.6007 - val_loss: 0.9634\n",
      "Epoch 94/400\n",
      "\u001b[1m 1/39\u001b[0m \u001b[37m━━━━━━━━━━━━━━━━━━━━\u001b[0m \u001b[1m1s\u001b[0m 34ms/step - accuracy: 0.7188 - loss: 0.6396"
     ]
    },
    {
     "name": "stderr",
     "output_type": "stream",
     "text": [
      "2024-10-24 01:34:48.008709: I tensorflow/core/framework/local_rendezvous.cc:423] Local rendezvous recv item cancelled. Key hash: 2918327929679280915\n",
      "2024-10-24 01:34:48.008785: I tensorflow/core/framework/local_rendezvous.cc:423] Local rendezvous recv item cancelled. Key hash: 15736871328311997881\n"
     ]
    },
    {
     "name": "stdout",
     "output_type": "stream",
     "text": [
      "\u001b[1m39/39\u001b[0m \u001b[32m━━━━━━━━━━━━━━━━━━━━\u001b[0m\u001b[37m\u001b[0m \u001b[1m0s\u001b[0m 7ms/step - accuracy: 0.7188 - loss: 0.6396 - val_accuracy: 0.5556 - val_loss: 0.9490\n",
      "Epoch 95/400\n"
     ]
    },
    {
     "name": "stderr",
     "output_type": "stream",
     "text": [
      "2024-10-24 01:34:48.268427: I tensorflow/core/framework/local_rendezvous.cc:423] Local rendezvous recv item cancelled. Key hash: 2918327929679280915\n",
      "2024-10-24 01:34:48.268492: I tensorflow/core/framework/local_rendezvous.cc:423] Local rendezvous recv item cancelled. Key hash: 15736871328311997881\n"
     ]
    },
    {
     "name": "stdout",
     "output_type": "stream",
     "text": [
      "\u001b[1m39/39\u001b[0m \u001b[32m━━━━━━━━━━━━━━━━━━━━\u001b[0m\u001b[37m\u001b[0m \u001b[1m14s\u001b[0m 347ms/step - accuracy: 0.7392 - loss: 0.6216 - val_accuracy: 0.6354 - val_loss: 0.8892\n",
      "Epoch 96/400\n",
      "\u001b[1m 1/39\u001b[0m \u001b[37m━━━━━━━━━━━━━━━━━━━━\u001b[0m \u001b[1m1s\u001b[0m 32ms/step - accuracy: 0.7188 - loss: 0.6962"
     ]
    },
    {
     "name": "stderr",
     "output_type": "stream",
     "text": [
      "2024-10-24 01:35:01.821199: I tensorflow/core/framework/local_rendezvous.cc:423] Local rendezvous recv item cancelled. Key hash: 2918327929679280915\n"
     ]
    },
    {
     "name": "stdout",
     "output_type": "stream",
     "text": [
      "\u001b[1m39/39\u001b[0m \u001b[32m━━━━━━━━━━━━━━━━━━━━\u001b[0m\u001b[37m\u001b[0m \u001b[1m0s\u001b[0m 6ms/step - accuracy: 0.7188 - loss: 0.6962 - val_accuracy: 0.5556 - val_loss: 1.1924\n",
      "Epoch 97/400\n"
     ]
    },
    {
     "name": "stderr",
     "output_type": "stream",
     "text": [
      "2024-10-24 01:35:02.042325: I tensorflow/core/framework/local_rendezvous.cc:423] Local rendezvous recv item cancelled. Key hash: 2918327929679280915\n",
      "2024-10-24 01:35:02.042374: I tensorflow/core/framework/local_rendezvous.cc:423] Local rendezvous recv item cancelled. Key hash: 15736871328311997881\n"
     ]
    },
    {
     "name": "stdout",
     "output_type": "stream",
     "text": [
      "\u001b[1m39/39\u001b[0m \u001b[32m━━━━━━━━━━━━━━━━━━━━\u001b[0m\u001b[37m\u001b[0m \u001b[1m14s\u001b[0m 352ms/step - accuracy: 0.7658 - loss: 0.5936 - val_accuracy: 0.6424 - val_loss: 0.8930\n",
      "Epoch 98/400\n",
      "\u001b[1m 1/39\u001b[0m \u001b[37m━━━━━━━━━━━━━━━━━━━━\u001b[0m \u001b[1m1s\u001b[0m 32ms/step - accuracy: 0.7812 - loss: 0.4956"
     ]
    },
    {
     "name": "stderr",
     "output_type": "stream",
     "text": [
      "2024-10-24 01:35:15.835081: I tensorflow/core/framework/local_rendezvous.cc:423] Local rendezvous recv item cancelled. Key hash: 2918327929679280915\n",
      "2024-10-24 01:35:15.835139: I tensorflow/core/framework/local_rendezvous.cc:423] Local rendezvous recv item cancelled. Key hash: 15736871328311997881\n"
     ]
    },
    {
     "name": "stdout",
     "output_type": "stream",
     "text": [
      "\u001b[1m39/39\u001b[0m \u001b[32m━━━━━━━━━━━━━━━━━━━━\u001b[0m\u001b[37m\u001b[0m \u001b[1m0s\u001b[0m 6ms/step - accuracy: 0.7812 - loss: 0.4956 - val_accuracy: 0.4444 - val_loss: 1.1367\n",
      "Epoch 99/400\n"
     ]
    },
    {
     "name": "stderr",
     "output_type": "stream",
     "text": [
      "2024-10-24 01:35:16.075016: I tensorflow/core/framework/local_rendezvous.cc:423] Local rendezvous recv item cancelled. Key hash: 2918327929679280915\n",
      "2024-10-24 01:35:16.075060: I tensorflow/core/framework/local_rendezvous.cc:423] Local rendezvous recv item cancelled. Key hash: 15736871328311997881\n"
     ]
    },
    {
     "name": "stdout",
     "output_type": "stream",
     "text": [
      "\u001b[1m39/39\u001b[0m \u001b[32m━━━━━━━━━━━━━━━━━━━━\u001b[0m\u001b[37m\u001b[0m \u001b[1m14s\u001b[0m 350ms/step - accuracy: 0.7817 - loss: 0.5441 - val_accuracy: 0.6424 - val_loss: 0.8854\n",
      "Epoch 100/400\n",
      "\u001b[1m 1/39\u001b[0m \u001b[37m━━━━━━━━━━━━━━━━━━━━\u001b[0m \u001b[1m1s\u001b[0m 32ms/step - accuracy: 0.8750 - loss: 0.5605"
     ]
    },
    {
     "name": "stderr",
     "output_type": "stream",
     "text": [
      "2024-10-24 01:35:29.742644: I tensorflow/core/framework/local_rendezvous.cc:423] Local rendezvous recv item cancelled. Key hash: 2918327929679280915\n",
      "2024-10-24 01:35:29.742763: I tensorflow/core/framework/local_rendezvous.cc:423] Local rendezvous recv item cancelled. Key hash: 15736871328311997881\n"
     ]
    },
    {
     "name": "stdout",
     "output_type": "stream",
     "text": [
      "\u001b[1m39/39\u001b[0m \u001b[32m━━━━━━━━━━━━━━━━━━━━\u001b[0m\u001b[37m\u001b[0m \u001b[1m0s\u001b[0m 6ms/step - accuracy: 0.8750 - loss: 0.5605 - val_accuracy: 0.6296 - val_loss: 0.7799\n",
      "Epoch 101/400\n",
      "\u001b[1m39/39\u001b[0m \u001b[32m━━━━━━━━━━━━━━━━━━━━\u001b[0m\u001b[37m\u001b[0m \u001b[1m13s\u001b[0m 346ms/step - accuracy: 0.7590 - loss: 0.5805 - val_accuracy: 0.6215 - val_loss: 0.8731\n",
      "Epoch 102/400\n",
      "\u001b[1m 1/39\u001b[0m \u001b[37m━━━━━━━━━━━━━━━━━━━━\u001b[0m \u001b[1m1s\u001b[0m 33ms/step - accuracy: 0.8125 - loss: 0.5252"
     ]
    },
    {
     "name": "stderr",
     "output_type": "stream",
     "text": [
      "2024-10-24 01:35:43.505737: I tensorflow/core/framework/local_rendezvous.cc:423] Local rendezvous recv item cancelled. Key hash: 2918327929679280915\n",
      "2024-10-24 01:35:43.505865: I tensorflow/core/framework/local_rendezvous.cc:423] Local rendezvous recv item cancelled. Key hash: 15736871328311997881\n"
     ]
    },
    {
     "name": "stdout",
     "output_type": "stream",
     "text": [
      "\u001b[1m39/39\u001b[0m \u001b[32m━━━━━━━━━━━━━━━━━━━━\u001b[0m\u001b[37m\u001b[0m \u001b[1m0s\u001b[0m 5ms/step - accuracy: 0.8125 - loss: 0.5252 - val_accuracy: 0.7778 - val_loss: 0.6582\n",
      "Epoch 103/400\n"
     ]
    },
    {
     "name": "stderr",
     "output_type": "stream",
     "text": [
      "2024-10-24 01:35:43.714519: I tensorflow/core/framework/local_rendezvous.cc:423] Local rendezvous recv item cancelled. Key hash: 2918327929679280915\n",
      "2024-10-24 01:35:43.714631: I tensorflow/core/framework/local_rendezvous.cc:423] Local rendezvous recv item cancelled. Key hash: 15736871328311997881\n"
     ]
    },
    {
     "name": "stdout",
     "output_type": "stream",
     "text": [
      "\u001b[1m39/39\u001b[0m \u001b[32m━━━━━━━━━━━━━━━━━━━━\u001b[0m\u001b[37m\u001b[0m \u001b[1m14s\u001b[0m 348ms/step - accuracy: 0.7822 - loss: 0.5623 - val_accuracy: 0.6354 - val_loss: 0.8613\n",
      "Epoch 104/400\n",
      "\u001b[1m39/39\u001b[0m \u001b[32m━━━━━━━━━━━━━━━━━━━━\u001b[0m\u001b[37m\u001b[0m \u001b[1m0s\u001b[0m 5ms/step - accuracy: 0.7812 - loss: 0.4887 - val_accuracy: 0.6667 - val_loss: 0.9174\n",
      "Epoch 105/400\n",
      "\u001b[1m39/39\u001b[0m \u001b[32m━━━━━━━━━━━━━━━━━━━━\u001b[0m\u001b[37m\u001b[0m \u001b[1m14s\u001b[0m 347ms/step - accuracy: 0.7282 - loss: 0.6093 - val_accuracy: 0.6944 - val_loss: 0.8133\n",
      "Epoch 106/400\n",
      "\u001b[1m 1/39\u001b[0m \u001b[37m━━━━━━━━━━━━━━━━━━━━\u001b[0m \u001b[1m1s\u001b[0m 33ms/step - accuracy: 0.9062 - loss: 0.5087"
     ]
    },
    {
     "name": "stderr",
     "output_type": "stream",
     "text": [
      "2024-10-24 01:36:11.122388: I tensorflow/core/framework/local_rendezvous.cc:423] Local rendezvous recv item cancelled. Key hash: 2918327929679280915\n"
     ]
    },
    {
     "name": "stdout",
     "output_type": "stream",
     "text": [
      "\u001b[1m39/39\u001b[0m \u001b[32m━━━━━━━━━━━━━━━━━━━━\u001b[0m\u001b[37m\u001b[0m \u001b[1m0s\u001b[0m 6ms/step - accuracy: 0.9062 - loss: 0.5087 - val_accuracy: 0.7037 - val_loss: 0.6894\n",
      "Epoch 107/400\n",
      "\u001b[1m39/39\u001b[0m \u001b[32m━━━━━━━━━━━━━━━━━━━━\u001b[0m\u001b[37m\u001b[0m \u001b[1m13s\u001b[0m 344ms/step - accuracy: 0.7662 - loss: 0.5928 - val_accuracy: 0.6285 - val_loss: 0.8814\n",
      "Epoch 108/400\n",
      "\u001b[1m 1/39\u001b[0m \u001b[37m━━━━━━━━━━━━━━━━━━━━\u001b[0m \u001b[1m1s\u001b[0m 30ms/step - accuracy: 0.7188 - loss: 0.5607"
     ]
    },
    {
     "name": "stderr",
     "output_type": "stream",
     "text": [
      "2024-10-24 01:36:24.811450: I tensorflow/core/framework/local_rendezvous.cc:423] Local rendezvous recv item cancelled. Key hash: 2918327929679280915\n",
      "2024-10-24 01:36:24.811509: I tensorflow/core/framework/local_rendezvous.cc:423] Local rendezvous recv item cancelled. Key hash: 15736871328311997881\n"
     ]
    },
    {
     "name": "stdout",
     "output_type": "stream",
     "text": [
      "\u001b[1m39/39\u001b[0m \u001b[32m━━━━━━━━━━━━━━━━━━━━\u001b[0m\u001b[37m\u001b[0m \u001b[1m0s\u001b[0m 5ms/step - accuracy: 0.7188 - loss: 0.5607 - val_accuracy: 0.6296 - val_loss: 0.9544\n",
      "Epoch 109/400\n"
     ]
    },
    {
     "name": "stderr",
     "output_type": "stream",
     "text": [
      "2024-10-24 01:36:25.019482: I tensorflow/core/framework/local_rendezvous.cc:423] Local rendezvous recv item cancelled. Key hash: 2918327929679280915\n",
      "2024-10-24 01:36:25.019535: I tensorflow/core/framework/local_rendezvous.cc:423] Local rendezvous recv item cancelled. Key hash: 15736871328311997881\n"
     ]
    },
    {
     "name": "stdout",
     "output_type": "stream",
     "text": [
      "\u001b[1m39/39\u001b[0m \u001b[32m━━━━━━━━━━━━━━━━━━━━\u001b[0m\u001b[37m\u001b[0m \u001b[1m13s\u001b[0m 344ms/step - accuracy: 0.7623 - loss: 0.5984 - val_accuracy: 0.6007 - val_loss: 0.8387\n",
      "Epoch 110/400\n",
      "\u001b[1m 1/39\u001b[0m \u001b[37m━━━━━━━━━━━━━━━━━━━━\u001b[0m \u001b[1m1s\u001b[0m 34ms/step - accuracy: 0.8125 - loss: 0.8154"
     ]
    },
    {
     "name": "stderr",
     "output_type": "stream",
     "text": [
      "2024-10-24 01:36:38.494717: I tensorflow/core/framework/local_rendezvous.cc:423] Local rendezvous recv item cancelled. Key hash: 2918327929679280915\n",
      "2024-10-24 01:36:38.494778: I tensorflow/core/framework/local_rendezvous.cc:423] Local rendezvous recv item cancelled. Key hash: 15736871328311997881\n"
     ]
    },
    {
     "name": "stdout",
     "output_type": "stream",
     "text": [
      "\u001b[1m39/39\u001b[0m \u001b[32m━━━━━━━━━━━━━━━━━━━━\u001b[0m\u001b[37m\u001b[0m \u001b[1m0s\u001b[0m 6ms/step - accuracy: 0.8125 - loss: 0.8154 - val_accuracy: 0.6667 - val_loss: 0.9989\n",
      "Epoch 111/400\n"
     ]
    },
    {
     "name": "stderr",
     "output_type": "stream",
     "text": [
      "2024-10-24 01:36:38.728466: I tensorflow/core/framework/local_rendezvous.cc:423] Local rendezvous recv item cancelled. Key hash: 2918327929679280915\n",
      "2024-10-24 01:36:38.728508: I tensorflow/core/framework/local_rendezvous.cc:423] Local rendezvous recv item cancelled. Key hash: 15736871328311997881\n"
     ]
    },
    {
     "name": "stdout",
     "output_type": "stream",
     "text": [
      "\u001b[1m39/39\u001b[0m \u001b[32m━━━━━━━━━━━━━━━━━━━━\u001b[0m\u001b[37m\u001b[0m \u001b[1m13s\u001b[0m 345ms/step - accuracy: 0.7486 - loss: 0.5685 - val_accuracy: 0.6458 - val_loss: 0.8863\n",
      "Epoch 112/400\n",
      "\u001b[1m 1/39\u001b[0m \u001b[37m━━━━━━━━━━━━━━━━━━━━\u001b[0m \u001b[1m1s\u001b[0m 34ms/step - accuracy: 0.7188 - loss: 0.6682"
     ]
    },
    {
     "name": "stderr",
     "output_type": "stream",
     "text": [
      "2024-10-24 01:36:52.213895: I tensorflow/core/framework/local_rendezvous.cc:423] Local rendezvous recv item cancelled. Key hash: 2918327929679280915\n",
      "2024-10-24 01:36:52.213945: I tensorflow/core/framework/local_rendezvous.cc:423] Local rendezvous recv item cancelled. Key hash: 15736871328311997881\n"
     ]
    },
    {
     "name": "stdout",
     "output_type": "stream",
     "text": [
      "\u001b[1m39/39\u001b[0m \u001b[32m━━━━━━━━━━━━━━━━━━━━\u001b[0m\u001b[37m\u001b[0m \u001b[1m0s\u001b[0m 6ms/step - accuracy: 0.7188 - loss: 0.6682 - val_accuracy: 0.5185 - val_loss: 0.7955\n",
      "Epoch 113/400\n",
      "\u001b[1m39/39\u001b[0m \u001b[32m━━━━━━━━━━━━━━━━━━━━\u001b[0m\u001b[37m\u001b[0m \u001b[1m13s\u001b[0m 345ms/step - accuracy: 0.7620 - loss: 0.5687 - val_accuracy: 0.6562 - val_loss: 0.8633\n",
      "Epoch 114/400\n",
      "\u001b[1m 1/39\u001b[0m \u001b[37m━━━━━━━━━━━━━━━━━━━━\u001b[0m \u001b[1m1s\u001b[0m 32ms/step - accuracy: 0.7812 - loss: 0.5679"
     ]
    },
    {
     "name": "stderr",
     "output_type": "stream",
     "text": [
      "2024-10-24 01:37:05.924581: I tensorflow/core/framework/local_rendezvous.cc:423] Local rendezvous recv item cancelled. Key hash: 2918327929679280915\n",
      "2024-10-24 01:37:05.924696: I tensorflow/core/framework/local_rendezvous.cc:423] Local rendezvous recv item cancelled. Key hash: 15736871328311997881\n"
     ]
    },
    {
     "name": "stdout",
     "output_type": "stream",
     "text": [
      "\u001b[1m39/39\u001b[0m \u001b[32m━━━━━━━━━━━━━━━━━━━━\u001b[0m\u001b[37m\u001b[0m \u001b[1m0s\u001b[0m 5ms/step - accuracy: 0.7812 - loss: 0.5679 - val_accuracy: 0.7407 - val_loss: 0.8318\n",
      "Epoch 115/400\n"
     ]
    },
    {
     "name": "stderr",
     "output_type": "stream",
     "text": [
      "2024-10-24 01:37:06.135792: I tensorflow/core/framework/local_rendezvous.cc:423] Local rendezvous recv item cancelled. Key hash: 2918327929679280915\n",
      "2024-10-24 01:37:06.135925: I tensorflow/core/framework/local_rendezvous.cc:423] Local rendezvous recv item cancelled. Key hash: 15736871328311997881\n"
     ]
    },
    {
     "name": "stdout",
     "output_type": "stream",
     "text": [
      "\u001b[1m39/39\u001b[0m \u001b[32m━━━━━━━━━━━━━━━━━━━━\u001b[0m\u001b[37m\u001b[0m \u001b[1m14s\u001b[0m 352ms/step - accuracy: 0.7524 - loss: 0.5885 - val_accuracy: 0.6597 - val_loss: 0.8148\n",
      "Epoch 116/400\n",
      "\u001b[1m 1/39\u001b[0m \u001b[37m━━━━━━━━━━━━━━━━━━━━\u001b[0m \u001b[1m1s\u001b[0m 32ms/step - accuracy: 0.8438 - loss: 0.4868"
     ]
    },
    {
     "name": "stderr",
     "output_type": "stream",
     "text": [
      "2024-10-24 01:37:19.909245: I tensorflow/core/framework/local_rendezvous.cc:423] Local rendezvous recv item cancelled. Key hash: 2918327929679280915\n"
     ]
    },
    {
     "name": "stdout",
     "output_type": "stream",
     "text": [
      "\u001b[1m39/39\u001b[0m \u001b[32m━━━━━━━━━━━━━━━━━━━━\u001b[0m\u001b[37m\u001b[0m \u001b[1m0s\u001b[0m 6ms/step - accuracy: 0.8438 - loss: 0.4868 - val_accuracy: 0.5926 - val_loss: 1.0938\n",
      "Epoch 117/400\n"
     ]
    },
    {
     "name": "stderr",
     "output_type": "stream",
     "text": [
      "2024-10-24 01:37:20.127644: I tensorflow/core/framework/local_rendezvous.cc:423] Local rendezvous recv item cancelled. Key hash: 2918327929679280915\n",
      "2024-10-24 01:37:20.127689: I tensorflow/core/framework/local_rendezvous.cc:423] Local rendezvous recv item cancelled. Key hash: 15736871328311997881\n"
     ]
    },
    {
     "name": "stdout",
     "output_type": "stream",
     "text": [
      "\u001b[1m39/39\u001b[0m \u001b[32m━━━━━━━━━━━━━━━━━━━━\u001b[0m\u001b[37m\u001b[0m \u001b[1m14s\u001b[0m 347ms/step - accuracy: 0.7464 - loss: 0.5713 - val_accuracy: 0.6007 - val_loss: 0.9436\n",
      "Epoch 118/400\n",
      "\u001b[1m 1/39\u001b[0m \u001b[37m━━━━━━━━━━━━━━━━━━━━\u001b[0m \u001b[1m1s\u001b[0m 31ms/step - accuracy: 0.7188 - loss: 0.6990"
     ]
    },
    {
     "name": "stderr",
     "output_type": "stream",
     "text": [
      "2024-10-24 01:37:33.672862: I tensorflow/core/framework/local_rendezvous.cc:423] Local rendezvous recv item cancelled. Key hash: 2918327929679280915\n",
      "2024-10-24 01:37:33.672916: I tensorflow/core/framework/local_rendezvous.cc:423] Local rendezvous recv item cancelled. Key hash: 15736871328311997881\n"
     ]
    },
    {
     "name": "stdout",
     "output_type": "stream",
     "text": [
      "\u001b[1m39/39\u001b[0m \u001b[32m━━━━━━━━━━━━━━━━━━━━\u001b[0m\u001b[37m\u001b[0m \u001b[1m0s\u001b[0m 6ms/step - accuracy: 0.7188 - loss: 0.6990 - val_accuracy: 0.8148 - val_loss: 0.5876\n",
      "Epoch 119/400\n"
     ]
    },
    {
     "name": "stderr",
     "output_type": "stream",
     "text": [
      "2024-10-24 01:37:33.904807: I tensorflow/core/framework/local_rendezvous.cc:423] Local rendezvous recv item cancelled. Key hash: 2918327929679280915\n",
      "2024-10-24 01:37:33.904858: I tensorflow/core/framework/local_rendezvous.cc:423] Local rendezvous recv item cancelled. Key hash: 15736871328311997881\n"
     ]
    },
    {
     "name": "stdout",
     "output_type": "stream",
     "text": [
      "\u001b[1m39/39\u001b[0m \u001b[32m━━━━━━━━━━━━━━━━━━━━\u001b[0m\u001b[37m\u001b[0m \u001b[1m13s\u001b[0m 341ms/step - accuracy: 0.7736 - loss: 0.5552 - val_accuracy: 0.6493 - val_loss: 0.8356\n",
      "Epoch 120/400\n",
      "\u001b[1m 1/39\u001b[0m \u001b[37m━━━━━━━━━━━━━━━━━━━━\u001b[0m \u001b[1m1s\u001b[0m 32ms/step - accuracy: 0.6875 - loss: 0.6364"
     ]
    },
    {
     "name": "stderr",
     "output_type": "stream",
     "text": [
      "2024-10-24 01:37:47.254400: I tensorflow/core/framework/local_rendezvous.cc:423] Local rendezvous recv item cancelled. Key hash: 2918327929679280915\n",
      "2024-10-24 01:37:47.254514: I tensorflow/core/framework/local_rendezvous.cc:423] Local rendezvous recv item cancelled. Key hash: 15736871328311997881\n"
     ]
    },
    {
     "name": "stdout",
     "output_type": "stream",
     "text": [
      "\u001b[1m39/39\u001b[0m \u001b[32m━━━━━━━━━━━━━━━━━━━━\u001b[0m\u001b[37m\u001b[0m \u001b[1m0s\u001b[0m 6ms/step - accuracy: 0.6875 - loss: 0.6364 - val_accuracy: 0.5556 - val_loss: 1.1544\n",
      "Epoch 121/400\n"
     ]
    },
    {
     "name": "stderr",
     "output_type": "stream",
     "text": [
      "2024-10-24 01:37:47.471114: I tensorflow/core/framework/local_rendezvous.cc:423] Local rendezvous recv item cancelled. Key hash: 2918327929679280915\n"
     ]
    },
    {
     "name": "stdout",
     "output_type": "stream",
     "text": [
      "\u001b[1m39/39\u001b[0m \u001b[32m━━━━━━━━━━━━━━━━━━━━\u001b[0m\u001b[37m\u001b[0m \u001b[1m13s\u001b[0m 346ms/step - accuracy: 0.7521 - loss: 0.5998 - val_accuracy: 0.6701 - val_loss: 0.8435\n",
      "Epoch 122/400\n",
      "\u001b[1m 1/39\u001b[0m \u001b[37m━━━━━━━━━━━━━━━━━━━━\u001b[0m \u001b[1m1s\u001b[0m 34ms/step - accuracy: 0.7812 - loss: 0.5703"
     ]
    },
    {
     "name": "stderr",
     "output_type": "stream",
     "text": [
      "2024-10-24 01:38:01.016629: I tensorflow/core/framework/local_rendezvous.cc:423] Local rendezvous recv item cancelled. Key hash: 2918327929679280915\n",
      "2024-10-24 01:38:01.016746: I tensorflow/core/framework/local_rendezvous.cc:423] Local rendezvous recv item cancelled. Key hash: 15736871328311997881\n"
     ]
    },
    {
     "name": "stdout",
     "output_type": "stream",
     "text": [
      "\u001b[1m39/39\u001b[0m \u001b[32m━━━━━━━━━━━━━━━━━━━━\u001b[0m\u001b[37m\u001b[0m \u001b[1m0s\u001b[0m 5ms/step - accuracy: 0.7812 - loss: 0.5703 - val_accuracy: 0.7037 - val_loss: 0.6277\n",
      "Epoch 123/400\n"
     ]
    },
    {
     "name": "stderr",
     "output_type": "stream",
     "text": [
      "2024-10-24 01:38:01.222919: I tensorflow/core/framework/local_rendezvous.cc:423] Local rendezvous recv item cancelled. Key hash: 2918327929679280915\n",
      "2024-10-24 01:38:01.223015: I tensorflow/core/framework/local_rendezvous.cc:423] Local rendezvous recv item cancelled. Key hash: 15736871328311997881\n"
     ]
    },
    {
     "name": "stdout",
     "output_type": "stream",
     "text": [
      "\u001b[1m39/39\u001b[0m \u001b[32m━━━━━━━━━━━━━━━━━━━━\u001b[0m\u001b[37m\u001b[0m \u001b[1m13s\u001b[0m 344ms/step - accuracy: 0.7527 - loss: 0.5617 - val_accuracy: 0.6111 - val_loss: 0.9212\n",
      "Epoch 124/400\n",
      "\u001b[1m 1/39\u001b[0m \u001b[37m━━━━━━━━━━━━━━━━━━━━\u001b[0m \u001b[1m1s\u001b[0m 33ms/step - accuracy: 0.9062 - loss: 0.4222"
     ]
    },
    {
     "name": "stderr",
     "output_type": "stream",
     "text": [
      "2024-10-24 01:38:14.680412: I tensorflow/core/framework/local_rendezvous.cc:423] Local rendezvous recv item cancelled. Key hash: 2918327929679280915\n",
      "2024-10-24 01:38:14.680481: I tensorflow/core/framework/local_rendezvous.cc:423] Local rendezvous recv item cancelled. Key hash: 15736871328311997881\n"
     ]
    },
    {
     "name": "stdout",
     "output_type": "stream",
     "text": [
      "\u001b[1m39/39\u001b[0m \u001b[32m━━━━━━━━━━━━━━━━━━━━\u001b[0m\u001b[37m\u001b[0m \u001b[1m0s\u001b[0m 5ms/step - accuracy: 0.9062 - loss: 0.4222 - val_accuracy: 0.7407 - val_loss: 0.6357\n",
      "Epoch 125/400\n",
      "\u001b[1m39/39\u001b[0m \u001b[32m━━━━━━━━━━━━━━━━━━━━\u001b[0m\u001b[37m\u001b[0m \u001b[1m14s\u001b[0m 350ms/step - accuracy: 0.7647 - loss: 0.5595 - val_accuracy: 0.6562 - val_loss: 0.9304\n",
      "Epoch 126/400\n",
      "\u001b[1m 1/39\u001b[0m \u001b[37m━━━━━━━━━━━━━━━━━━━━\u001b[0m \u001b[1m1s\u001b[0m 46ms/step - accuracy: 0.7812 - loss: 0.5161"
     ]
    },
    {
     "name": "stderr",
     "output_type": "stream",
     "text": [
      "2024-10-24 01:38:28.603631: I tensorflow/core/framework/local_rendezvous.cc:423] Local rendezvous recv item cancelled. Key hash: 2918327929679280915\n",
      "2024-10-24 01:38:28.603730: I tensorflow/core/framework/local_rendezvous.cc:423] Local rendezvous recv item cancelled. Key hash: 15736871328311997881\n",
      "2024-10-24 01:38:28.804243: I tensorflow/core/framework/local_rendezvous.cc:423] Local rendezvous recv item cancelled. Key hash: 2918327929679280915\n",
      "2024-10-24 01:38:28.804338: I tensorflow/core/framework/local_rendezvous.cc:423] Local rendezvous recv item cancelled. Key hash: 15736871328311997881\n"
     ]
    },
    {
     "name": "stdout",
     "output_type": "stream",
     "text": [
      "\u001b[1m39/39\u001b[0m \u001b[32m━━━━━━━━━━━━━━━━━━━━\u001b[0m\u001b[37m\u001b[0m \u001b[1m0s\u001b[0m 5ms/step - accuracy: 0.7812 - loss: 0.5161 - val_accuracy: 0.6667 - val_loss: 0.7909\n",
      "Epoch 127/400\n",
      "\u001b[1m39/39\u001b[0m \u001b[32m━━━━━━━━━━━━━━━━━━━━\u001b[0m\u001b[37m\u001b[0m \u001b[1m14s\u001b[0m 348ms/step - accuracy: 0.7281 - loss: 0.6114 - val_accuracy: 0.6181 - val_loss: 0.8943\n",
      "Epoch 128/400\n",
      "\u001b[1m 1/39\u001b[0m \u001b[37m━━━━━━━━━━━━━━━━━━━━\u001b[0m \u001b[1m1s\u001b[0m 31ms/step - accuracy: 0.8125 - loss: 0.5185"
     ]
    },
    {
     "name": "stderr",
     "output_type": "stream",
     "text": [
      "2024-10-24 01:38:42.398086: I tensorflow/core/framework/local_rendezvous.cc:423] Local rendezvous recv item cancelled. Key hash: 2918327929679280915\n",
      "2024-10-24 01:38:42.398131: I tensorflow/core/framework/local_rendezvous.cc:423] Local rendezvous recv item cancelled. Key hash: 15736871328311997881\n"
     ]
    },
    {
     "name": "stdout",
     "output_type": "stream",
     "text": [
      "\u001b[1m39/39\u001b[0m \u001b[32m━━━━━━━━━━━━━━━━━━━━\u001b[0m\u001b[37m\u001b[0m \u001b[1m0s\u001b[0m 6ms/step - accuracy: 0.8125 - loss: 0.5185 - val_accuracy: 0.5185 - val_loss: 1.3137\n",
      "Epoch 129/400\n",
      "\u001b[1m39/39\u001b[0m \u001b[32m━━━━━━━━━━━━━━━━━━━━\u001b[0m\u001b[37m\u001b[0m \u001b[1m13s\u001b[0m 345ms/step - accuracy: 0.7422 - loss: 0.6128 - val_accuracy: 0.6354 - val_loss: 0.9206\n",
      "Epoch 130/400\n",
      "\u001b[1m 1/39\u001b[0m \u001b[37m━━━━━━━━━━━━━━━━━━━━\u001b[0m \u001b[1m1s\u001b[0m 34ms/step - accuracy: 0.8125 - loss: 0.4289"
     ]
    },
    {
     "name": "stderr",
     "output_type": "stream",
     "text": [
      "2024-10-24 01:38:56.116120: I tensorflow/core/framework/local_rendezvous.cc:423] Local rendezvous recv item cancelled. Key hash: 2918327929679280915\n",
      "2024-10-24 01:38:56.116237: I tensorflow/core/framework/local_rendezvous.cc:423] Local rendezvous recv item cancelled. Key hash: 15736871328311997881\n",
      "2024-10-24 01:38:56.317921: I tensorflow/core/framework/local_rendezvous.cc:423] Local rendezvous recv item cancelled. Key hash: 2918327929679280915\n",
      "2024-10-24 01:38:56.318025: I tensorflow/core/framework/local_rendezvous.cc:423] Local rendezvous recv item cancelled. Key hash: 15736871328311997881\n"
     ]
    },
    {
     "name": "stdout",
     "output_type": "stream",
     "text": [
      "\u001b[1m39/39\u001b[0m \u001b[32m━━━━━━━━━━━━━━━━━━━━\u001b[0m\u001b[37m\u001b[0m \u001b[1m0s\u001b[0m 5ms/step - accuracy: 0.8125 - loss: 0.4289 - val_accuracy: 0.7778 - val_loss: 0.7402\n",
      "Epoch 131/400\n",
      "\u001b[1m39/39\u001b[0m \u001b[32m━━━━━━━━━━━━━━━━━━━━\u001b[0m\u001b[37m\u001b[0m \u001b[1m14s\u001b[0m 350ms/step - accuracy: 0.7830 - loss: 0.5719 - val_accuracy: 0.6493 - val_loss: 0.9051\n",
      "Epoch 132/400\n",
      "\u001b[1m 1/39\u001b[0m \u001b[37m━━━━━━━━━━━━━━━━━━━━\u001b[0m \u001b[1m1s\u001b[0m 34ms/step - accuracy: 0.8125 - loss: 0.3943"
     ]
    },
    {
     "name": "stderr",
     "output_type": "stream",
     "text": [
      "2024-10-24 01:39:09.995583: I tensorflow/core/framework/local_rendezvous.cc:423] Local rendezvous recv item cancelled. Key hash: 2918327929679280915\n",
      "2024-10-24 01:39:09.995707: I tensorflow/core/framework/local_rendezvous.cc:423] Local rendezvous recv item cancelled. Key hash: 15736871328311997881\n"
     ]
    },
    {
     "name": "stdout",
     "output_type": "stream",
     "text": [
      "\u001b[1m39/39\u001b[0m \u001b[32m━━━━━━━━━━━━━━━━━━━━\u001b[0m\u001b[37m\u001b[0m \u001b[1m0s\u001b[0m 6ms/step - accuracy: 0.8125 - loss: 0.3943 - val_accuracy: 0.5556 - val_loss: 0.9862\n",
      "Epoch 133/400\n"
     ]
    },
    {
     "name": "stderr",
     "output_type": "stream",
     "text": [
      "2024-10-24 01:39:10.219292: I tensorflow/core/framework/local_rendezvous.cc:423] Local rendezvous recv item cancelled. Key hash: 2918327929679280915\n",
      "2024-10-24 01:39:10.219406: I tensorflow/core/framework/local_rendezvous.cc:423] Local rendezvous recv item cancelled. Key hash: 15736871328311997881\n"
     ]
    },
    {
     "name": "stdout",
     "output_type": "stream",
     "text": [
      "\u001b[1m39/39\u001b[0m \u001b[32m━━━━━━━━━━━━━━━━━━━━\u001b[0m\u001b[37m\u001b[0m \u001b[1m14s\u001b[0m 362ms/step - accuracy: 0.7646 - loss: 0.5676 - val_accuracy: 0.6285 - val_loss: 0.8567\n",
      "Epoch 134/400\n",
      "\u001b[1m 1/39\u001b[0m \u001b[37m━━━━━━━━━━━━━━━━━━━━\u001b[0m \u001b[1m1s\u001b[0m 34ms/step - accuracy: 0.7500 - loss: 0.5407"
     ]
    },
    {
     "name": "stderr",
     "output_type": "stream",
     "text": [
      "2024-10-24 01:39:24.362227: I tensorflow/core/framework/local_rendezvous.cc:423] Local rendezvous recv item cancelled. Key hash: 2918327929679280915\n",
      "2024-10-24 01:39:24.362294: I tensorflow/core/framework/local_rendezvous.cc:423] Local rendezvous recv item cancelled. Key hash: 15736871328311997881\n"
     ]
    },
    {
     "name": "stdout",
     "output_type": "stream",
     "text": [
      "\u001b[1m39/39\u001b[0m \u001b[32m━━━━━━━━━━━━━━━━━━━━\u001b[0m\u001b[37m\u001b[0m \u001b[1m0s\u001b[0m 6ms/step - accuracy: 0.7500 - loss: 0.5407 - val_accuracy: 0.5556 - val_loss: 1.0652\n",
      "Epoch 135/400\n",
      "\u001b[1m39/39\u001b[0m \u001b[32m━━━━━━━━━━━━━━━━━━━━\u001b[0m\u001b[37m\u001b[0m \u001b[1m13s\u001b[0m 344ms/step - accuracy: 0.7611 - loss: 0.5792 - val_accuracy: 0.6146 - val_loss: 0.9162\n",
      "Epoch 136/400\n",
      "\u001b[1m 1/39\u001b[0m \u001b[37m━━━━━━━━━━━━━━━━━━━━\u001b[0m \u001b[1m1s\u001b[0m 34ms/step - accuracy: 0.8438 - loss: 0.3928"
     ]
    },
    {
     "name": "stderr",
     "output_type": "stream",
     "text": [
      "2024-10-24 01:39:38.042275: I tensorflow/core/framework/local_rendezvous.cc:423] Local rendezvous recv item cancelled. Key hash: 2918327929679280915\n",
      "2024-10-24 01:39:38.042398: I tensorflow/core/framework/local_rendezvous.cc:423] Local rendezvous recv item cancelled. Key hash: 15736871328311997881\n"
     ]
    },
    {
     "name": "stdout",
     "output_type": "stream",
     "text": [
      "\u001b[1m39/39\u001b[0m \u001b[32m━━━━━━━━━━━━━━━━━━━━\u001b[0m\u001b[37m\u001b[0m \u001b[1m0s\u001b[0m 6ms/step - accuracy: 0.8438 - loss: 0.3928 - val_accuracy: 0.5926 - val_loss: 0.8368\n",
      "Epoch 137/400\n",
      "\u001b[1m39/39\u001b[0m \u001b[32m━━━━━━━━━━━━━━━━━━━━\u001b[0m\u001b[37m\u001b[0m \u001b[1m14s\u001b[0m 347ms/step - accuracy: 0.7705 - loss: 0.5573 - val_accuracy: 0.6597 - val_loss: 0.7885\n",
      "Epoch 138/400\n",
      "\u001b[1m 1/39\u001b[0m \u001b[37m━━━━━━━━━━━━━━━━━━━━\u001b[0m \u001b[1m1s\u001b[0m 34ms/step - accuracy: 0.7188 - loss: 0.6097"
     ]
    },
    {
     "name": "stderr",
     "output_type": "stream",
     "text": [
      "2024-10-24 01:39:51.839326: I tensorflow/core/framework/local_rendezvous.cc:423] Local rendezvous recv item cancelled. Key hash: 2918327929679280915\n",
      "2024-10-24 01:39:51.839435: I tensorflow/core/framework/local_rendezvous.cc:423] Local rendezvous recv item cancelled. Key hash: 15736871328311997881\n",
      "2024-10-24 01:39:52.043576: I tensorflow/core/framework/local_rendezvous.cc:423] Local rendezvous recv item cancelled. Key hash: 2918327929679280915\n",
      "2024-10-24 01:39:52.043703: I tensorflow/core/framework/local_rendezvous.cc:423] Local rendezvous recv item cancelled. Key hash: 15736871328311997881\n"
     ]
    },
    {
     "name": "stdout",
     "output_type": "stream",
     "text": [
      "\u001b[1m39/39\u001b[0m \u001b[32m━━━━━━━━━━━━━━━━━━━━\u001b[0m\u001b[37m\u001b[0m \u001b[1m0s\u001b[0m 5ms/step - accuracy: 0.7188 - loss: 0.6097 - val_accuracy: 0.4444 - val_loss: 1.3936\n",
      "Epoch 139/400\n",
      "\u001b[1m39/39\u001b[0m \u001b[32m━━━━━━━━━━━━━━━━━━━━\u001b[0m\u001b[37m\u001b[0m \u001b[1m14s\u001b[0m 348ms/step - accuracy: 0.7805 - loss: 0.5395 - val_accuracy: 0.6562 - val_loss: 0.8432\n",
      "Epoch 140/400\n",
      "\u001b[1m 1/39\u001b[0m \u001b[37m━━━━━━━━━━━━━━━━━━━━\u001b[0m \u001b[1m1s\u001b[0m 36ms/step - accuracy: 0.8125 - loss: 0.4595"
     ]
    },
    {
     "name": "stderr",
     "output_type": "stream",
     "text": [
      "2024-10-24 01:40:05.677987: I tensorflow/core/framework/local_rendezvous.cc:423] Local rendezvous recv item cancelled. Key hash: 2918327929679280915\n",
      "2024-10-24 01:40:05.678091: I tensorflow/core/framework/local_rendezvous.cc:423] Local rendezvous recv item cancelled. Key hash: 15736871328311997881\n"
     ]
    },
    {
     "name": "stdout",
     "output_type": "stream",
     "text": [
      "\u001b[1m39/39\u001b[0m \u001b[32m━━━━━━━━━━━━━━━━━━━━\u001b[0m\u001b[37m\u001b[0m \u001b[1m0s\u001b[0m 6ms/step - accuracy: 0.8125 - loss: 0.4595 - val_accuracy: 0.6667 - val_loss: 0.8636\n",
      "Epoch 141/400\n"
     ]
    },
    {
     "name": "stderr",
     "output_type": "stream",
     "text": [
      "2024-10-24 01:40:05.902055: I tensorflow/core/framework/local_rendezvous.cc:423] Local rendezvous recv item cancelled. Key hash: 2918327929679280915\n",
      "2024-10-24 01:40:05.902099: I tensorflow/core/framework/local_rendezvous.cc:423] Local rendezvous recv item cancelled. Key hash: 15736871328311997881\n"
     ]
    },
    {
     "name": "stdout",
     "output_type": "stream",
     "text": [
      "\u001b[1m39/39\u001b[0m \u001b[32m━━━━━━━━━━━━━━━━━━━━\u001b[0m\u001b[37m\u001b[0m \u001b[1m14s\u001b[0m 349ms/step - accuracy: 0.7864 - loss: 0.5326 - val_accuracy: 0.6354 - val_loss: 0.8798\n",
      "Epoch 142/400\n",
      "\u001b[1m 1/39\u001b[0m \u001b[37m━━━━━━━━━━━━━━━━━━━━\u001b[0m \u001b[1m1s\u001b[0m 33ms/step - accuracy: 0.8438 - loss: 0.4490"
     ]
    },
    {
     "name": "stderr",
     "output_type": "stream",
     "text": [
      "2024-10-24 01:40:19.538995: I tensorflow/core/framework/local_rendezvous.cc:423] Local rendezvous recv item cancelled. Key hash: 2918327929679280915\n",
      "2024-10-24 01:40:19.539116: I tensorflow/core/framework/local_rendezvous.cc:423] Local rendezvous recv item cancelled. Key hash: 15736871328311997881\n"
     ]
    },
    {
     "name": "stdout",
     "output_type": "stream",
     "text": [
      "\u001b[1m39/39\u001b[0m \u001b[32m━━━━━━━━━━━━━━━━━━━━\u001b[0m\u001b[37m\u001b[0m \u001b[1m0s\u001b[0m 6ms/step - accuracy: 0.8438 - loss: 0.4490 - val_accuracy: 0.6667 - val_loss: 0.7753\n",
      "Epoch 143/400\n"
     ]
    },
    {
     "name": "stderr",
     "output_type": "stream",
     "text": [
      "2024-10-24 01:40:19.759284: I tensorflow/core/framework/local_rendezvous.cc:423] Local rendezvous recv item cancelled. Key hash: 2918327929679280915\n",
      "2024-10-24 01:40:19.759333: I tensorflow/core/framework/local_rendezvous.cc:423] Local rendezvous recv item cancelled. Key hash: 15736871328311997881\n"
     ]
    },
    {
     "name": "stdout",
     "output_type": "stream",
     "text": [
      "\u001b[1m39/39\u001b[0m \u001b[32m━━━━━━━━━━━━━━━━━━━━\u001b[0m\u001b[37m\u001b[0m \u001b[1m13s\u001b[0m 345ms/step - accuracy: 0.7693 - loss: 0.5679 - val_accuracy: 0.6146 - val_loss: 0.8697\n",
      "Epoch 144/400\n",
      "\u001b[1m39/39\u001b[0m \u001b[32m━━━━━━━━━━━━━━━━━━━━\u001b[0m\u001b[37m\u001b[0m \u001b[1m0s\u001b[0m 6ms/step - accuracy: 0.8438 - loss: 0.4734 - val_accuracy: 0.6296 - val_loss: 0.9093\n",
      "Epoch 145/400\n"
     ]
    },
    {
     "name": "stderr",
     "output_type": "stream",
     "text": [
      "2024-10-24 01:40:33.452302: I tensorflow/core/framework/local_rendezvous.cc:423] Local rendezvous recv item cancelled. Key hash: 2918327929679280915\n",
      "2024-10-24 01:40:33.452425: I tensorflow/core/framework/local_rendezvous.cc:423] Local rendezvous recv item cancelled. Key hash: 15736871328311997881\n"
     ]
    },
    {
     "name": "stdout",
     "output_type": "stream",
     "text": [
      "\u001b[1m39/39\u001b[0m \u001b[32m━━━━━━━━━━━━━━━━━━━━\u001b[0m\u001b[37m\u001b[0m \u001b[1m13s\u001b[0m 344ms/step - accuracy: 0.7731 - loss: 0.5513 - val_accuracy: 0.6528 - val_loss: 0.8931\n",
      "Epoch 146/400\n",
      "\u001b[1m 1/39\u001b[0m \u001b[37m━━━━━━━━━━━━━━━━━━━━\u001b[0m \u001b[1m1s\u001b[0m 35ms/step - accuracy: 0.8750 - loss: 0.4440"
     ]
    },
    {
     "name": "stderr",
     "output_type": "stream",
     "text": [
      "2024-10-24 01:40:46.925131: I tensorflow/core/framework/local_rendezvous.cc:423] Local rendezvous recv item cancelled. Key hash: 2918327929679280915\n",
      "2024-10-24 01:40:46.925234: I tensorflow/core/framework/local_rendezvous.cc:423] Local rendezvous recv item cancelled. Key hash: 15736871328311997881\n"
     ]
    },
    {
     "name": "stdout",
     "output_type": "stream",
     "text": [
      "\u001b[1m39/39\u001b[0m \u001b[32m━━━━━━━━━━━━━━━━━━━━\u001b[0m\u001b[37m\u001b[0m \u001b[1m0s\u001b[0m 5ms/step - accuracy: 0.8750 - loss: 0.4440 - val_accuracy: 0.6667 - val_loss: 0.6832\n",
      "Epoch 147/400\n"
     ]
    },
    {
     "name": "stderr",
     "output_type": "stream",
     "text": [
      "2024-10-24 01:40:47.131556: I tensorflow/core/framework/local_rendezvous.cc:423] Local rendezvous recv item cancelled. Key hash: 2918327929679280915\n",
      "2024-10-24 01:40:47.131661: I tensorflow/core/framework/local_rendezvous.cc:423] Local rendezvous recv item cancelled. Key hash: 15736871328311997881\n"
     ]
    },
    {
     "name": "stdout",
     "output_type": "stream",
     "text": [
      "\u001b[1m39/39\u001b[0m \u001b[32m━━━━━━━━━━━━━━━━━━━━\u001b[0m\u001b[37m\u001b[0m \u001b[1m13s\u001b[0m 346ms/step - accuracy: 0.7623 - loss: 0.5779 - val_accuracy: 0.6424 - val_loss: 0.8726\n",
      "Epoch 148/400\n",
      "\u001b[1m 1/39\u001b[0m \u001b[37m━━━━━━━━━━━━━━━━━━━━\u001b[0m \u001b[1m1s\u001b[0m 34ms/step - accuracy: 0.6875 - loss: 0.7216"
     ]
    },
    {
     "name": "stderr",
     "output_type": "stream",
     "text": [
      "2024-10-24 01:41:00.655255: I tensorflow/core/framework/local_rendezvous.cc:423] Local rendezvous recv item cancelled. Key hash: 2918327929679280915\n"
     ]
    },
    {
     "name": "stdout",
     "output_type": "stream",
     "text": [
      "\u001b[1m39/39\u001b[0m \u001b[32m━━━━━━━━━━━━━━━━━━━━\u001b[0m\u001b[37m\u001b[0m \u001b[1m0s\u001b[0m 6ms/step - accuracy: 0.6875 - loss: 0.7216 - val_accuracy: 0.6667 - val_loss: 0.8948\n",
      "Epoch 149/400\n",
      "\u001b[1m39/39\u001b[0m \u001b[32m━━━━━━━━━━━━━━━━━━━━\u001b[0m\u001b[37m\u001b[0m \u001b[1m13s\u001b[0m 346ms/step - accuracy: 0.7423 - loss: 0.5995 - val_accuracy: 0.6840 - val_loss: 0.8479\n",
      "Epoch 150/400\n",
      "\u001b[1m 1/39\u001b[0m \u001b[37m━━━━━━━━━━━━━━━━━━━━\u001b[0m \u001b[1m1s\u001b[0m 34ms/step - accuracy: 0.8125 - loss: 0.5034"
     ]
    },
    {
     "name": "stderr",
     "output_type": "stream",
     "text": [
      "2024-10-24 01:41:14.416405: I tensorflow/core/framework/local_rendezvous.cc:423] Local rendezvous recv item cancelled. Key hash: 2918327929679280915\n",
      "2024-10-24 01:41:14.416518: I tensorflow/core/framework/local_rendezvous.cc:423] Local rendezvous recv item cancelled. Key hash: 15736871328311997881\n"
     ]
    },
    {
     "name": "stdout",
     "output_type": "stream",
     "text": [
      "\u001b[1m39/39\u001b[0m \u001b[32m━━━━━━━━━━━━━━━━━━━━\u001b[0m\u001b[37m\u001b[0m \u001b[1m0s\u001b[0m 7ms/step - accuracy: 0.8125 - loss: 0.5034 - val_accuracy: 0.6667 - val_loss: 0.8661\n",
      "Epoch 151/400\n"
     ]
    },
    {
     "name": "stderr",
     "output_type": "stream",
     "text": [
      "2024-10-24 01:41:14.680792: I tensorflow/core/framework/local_rendezvous.cc:423] Local rendezvous recv item cancelled. Key hash: 2918327929679280915\n",
      "2024-10-24 01:41:14.680854: I tensorflow/core/framework/local_rendezvous.cc:423] Local rendezvous recv item cancelled. Key hash: 15736871328311997881\n"
     ]
    },
    {
     "name": "stdout",
     "output_type": "stream",
     "text": [
      "\u001b[1m39/39\u001b[0m \u001b[32m━━━━━━━━━━━━━━━━━━━━\u001b[0m\u001b[37m\u001b[0m \u001b[1m13s\u001b[0m 341ms/step - accuracy: 0.7684 - loss: 0.5513 - val_accuracy: 0.6667 - val_loss: 0.8060\n",
      "Epoch 152/400\n",
      "\u001b[1m 1/39\u001b[0m \u001b[37m━━━━━━━━━━━━━━━━━━━━\u001b[0m \u001b[1m1s\u001b[0m 34ms/step - accuracy: 0.5938 - loss: 0.8004"
     ]
    },
    {
     "name": "stderr",
     "output_type": "stream",
     "text": [
      "2024-10-24 01:41:28.059100: I tensorflow/core/framework/local_rendezvous.cc:423] Local rendezvous recv item cancelled. Key hash: 2918327929679280915\n",
      "2024-10-24 01:41:28.059204: I tensorflow/core/framework/local_rendezvous.cc:423] Local rendezvous recv item cancelled. Key hash: 15736871328311997881\n"
     ]
    },
    {
     "name": "stdout",
     "output_type": "stream",
     "text": [
      "\u001b[1m39/39\u001b[0m \u001b[32m━━━━━━━━━━━━━━━━━━━━\u001b[0m\u001b[37m\u001b[0m \u001b[1m0s\u001b[0m 5ms/step - accuracy: 0.5938 - loss: 0.8004 - val_accuracy: 0.5556 - val_loss: 0.8735\n",
      "Epoch 153/400\n",
      "\u001b[1m39/39\u001b[0m \u001b[32m━━━━━━━━━━━━━━━━━━━━\u001b[0m\u001b[37m\u001b[0m \u001b[1m14s\u001b[0m 347ms/step - accuracy: 0.7759 - loss: 0.5524 - val_accuracy: 0.6562 - val_loss: 0.8946\n",
      "Epoch 154/400\n",
      "\u001b[1m 1/39\u001b[0m \u001b[37m━━━━━━━━━━━━━━━━━━━━\u001b[0m \u001b[1m1s\u001b[0m 30ms/step - accuracy: 0.7500 - loss: 0.6222"
     ]
    },
    {
     "name": "stderr",
     "output_type": "stream",
     "text": [
      "2024-10-24 01:41:41.816120: I tensorflow/core/framework/local_rendezvous.cc:423] Local rendezvous recv item cancelled. Key hash: 2918327929679280915\n",
      "2024-10-24 01:41:41.816168: I tensorflow/core/framework/local_rendezvous.cc:423] Local rendezvous recv item cancelled. Key hash: 15736871328311997881\n"
     ]
    },
    {
     "name": "stdout",
     "output_type": "stream",
     "text": [
      "\u001b[1m39/39\u001b[0m \u001b[32m━━━━━━━━━━━━━━━━━━━━\u001b[0m\u001b[37m\u001b[0m \u001b[1m0s\u001b[0m 6ms/step - accuracy: 0.7500 - loss: 0.6222 - val_accuracy: 0.7037 - val_loss: 0.6871\n",
      "Epoch 155/400\n"
     ]
    },
    {
     "name": "stderr",
     "output_type": "stream",
     "text": [
      "2024-10-24 01:41:42.036782: I tensorflow/core/framework/local_rendezvous.cc:423] Local rendezvous recv item cancelled. Key hash: 2918327929679280915\n",
      "2024-10-24 01:41:42.036828: I tensorflow/core/framework/local_rendezvous.cc:423] Local rendezvous recv item cancelled. Key hash: 15736871328311997881\n"
     ]
    },
    {
     "name": "stdout",
     "output_type": "stream",
     "text": [
      "\u001b[1m39/39\u001b[0m \u001b[32m━━━━━━━━━━━━━━━━━━━━\u001b[0m\u001b[37m\u001b[0m \u001b[1m14s\u001b[0m 356ms/step - accuracy: 0.7311 - loss: 0.6018 - val_accuracy: 0.6493 - val_loss: 0.8870\n",
      "Epoch 156/400\n",
      "\u001b[1m 1/39\u001b[0m \u001b[37m━━━━━━━━━━━━━━━━━━━━\u001b[0m \u001b[1m1s\u001b[0m 33ms/step - accuracy: 0.5938 - loss: 0.9074"
     ]
    },
    {
     "name": "stderr",
     "output_type": "stream",
     "text": [
      "2024-10-24 01:41:55.932295: I tensorflow/core/framework/local_rendezvous.cc:423] Local rendezvous recv item cancelled. Key hash: 2918327929679280915\n",
      "2024-10-24 01:41:55.932390: I tensorflow/core/framework/local_rendezvous.cc:423] Local rendezvous recv item cancelled. Key hash: 15736871328311997881\n"
     ]
    },
    {
     "name": "stdout",
     "output_type": "stream",
     "text": [
      "\u001b[1m39/39\u001b[0m \u001b[32m━━━━━━━━━━━━━━━━━━━━\u001b[0m\u001b[37m\u001b[0m \u001b[1m0s\u001b[0m 5ms/step - accuracy: 0.5938 - loss: 0.9074 - val_accuracy: 0.6667 - val_loss: 0.8378\n",
      "Epoch 157/400\n",
      "\u001b[1m39/39\u001b[0m \u001b[32m━━━━━━━━━━━━━━━━━━━━\u001b[0m\u001b[37m\u001b[0m \u001b[1m13s\u001b[0m 345ms/step - accuracy: 0.7543 - loss: 0.5864 - val_accuracy: 0.6354 - val_loss: 0.9411\n",
      "Epoch 158/400\n",
      "\u001b[1m 1/39\u001b[0m \u001b[37m━━━━━━━━━━━━━━━━━━━━\u001b[0m \u001b[1m1s\u001b[0m 35ms/step - accuracy: 0.7500 - loss: 0.5325"
     ]
    },
    {
     "name": "stderr",
     "output_type": "stream",
     "text": [
      "2024-10-24 01:42:09.634134: I tensorflow/core/framework/local_rendezvous.cc:423] Local rendezvous recv item cancelled. Key hash: 2918327929679280915\n",
      "2024-10-24 01:42:09.634184: I tensorflow/core/framework/local_rendezvous.cc:423] Local rendezvous recv item cancelled. Key hash: 15736871328311997881\n"
     ]
    },
    {
     "name": "stdout",
     "output_type": "stream",
     "text": [
      "\u001b[1m39/39\u001b[0m \u001b[32m━━━━━━━━━━━━━━━━━━━━\u001b[0m\u001b[37m\u001b[0m \u001b[1m0s\u001b[0m 5ms/step - accuracy: 0.7500 - loss: 0.5325 - val_accuracy: 0.7778 - val_loss: 0.9437\n",
      "Epoch 159/400\n",
      "\u001b[1m39/39\u001b[0m \u001b[32m━━━━━━━━━━━━━━━━━━━━\u001b[0m\u001b[37m\u001b[0m \u001b[1m14s\u001b[0m 355ms/step - accuracy: 0.7659 - loss: 0.5921 - val_accuracy: 0.6458 - val_loss: 0.8734\n",
      "Epoch 160/400\n",
      "\u001b[1m 1/39\u001b[0m \u001b[37m━━━━━━━━━━━━━━━━━━━━\u001b[0m \u001b[1m1s\u001b[0m 35ms/step - accuracy: 0.7812 - loss: 0.6430"
     ]
    },
    {
     "name": "stderr",
     "output_type": "stream",
     "text": [
      "2024-10-24 01:42:23.703138: I tensorflow/core/framework/local_rendezvous.cc:423] Local rendezvous recv item cancelled. Key hash: 2918327929679280915\n",
      "2024-10-24 01:42:23.703261: I tensorflow/core/framework/local_rendezvous.cc:423] Local rendezvous recv item cancelled. Key hash: 15736871328311997881\n",
      "2024-10-24 01:42:23.903265: I tensorflow/core/framework/local_rendezvous.cc:423] Local rendezvous recv item cancelled. Key hash: 2918327929679280915\n",
      "2024-10-24 01:42:23.903375: I tensorflow/core/framework/local_rendezvous.cc:423] Local rendezvous recv item cancelled. Key hash: 15736871328311997881\n"
     ]
    },
    {
     "name": "stdout",
     "output_type": "stream",
     "text": [
      "\u001b[1m39/39\u001b[0m \u001b[32m━━━━━━━━━━━━━━━━━━━━\u001b[0m\u001b[37m\u001b[0m \u001b[1m0s\u001b[0m 5ms/step - accuracy: 0.7812 - loss: 0.6430 - val_accuracy: 0.6296 - val_loss: 0.8845\n",
      "Epoch 161/400\n",
      "\u001b[1m39/39\u001b[0m \u001b[32m━━━━━━━━━━━━━━━━━━━━\u001b[0m\u001b[37m\u001b[0m \u001b[1m14s\u001b[0m 357ms/step - accuracy: 0.7723 - loss: 0.5525 - val_accuracy: 0.5833 - val_loss: 0.9306\n",
      "Epoch 162/400\n",
      "\u001b[1m 1/39\u001b[0m \u001b[37m━━━━━━━━━━━━━━━━━━━━\u001b[0m \u001b[1m1s\u001b[0m 31ms/step - accuracy: 0.7188 - loss: 0.6999"
     ]
    },
    {
     "name": "stderr",
     "output_type": "stream",
     "text": [
      "2024-10-24 01:42:37.824454: I tensorflow/core/framework/local_rendezvous.cc:423] Local rendezvous recv item cancelled. Key hash: 2918327929679280915\n",
      "2024-10-24 01:42:37.824509: I tensorflow/core/framework/local_rendezvous.cc:423] Local rendezvous recv item cancelled. Key hash: 15736871328311997881\n"
     ]
    },
    {
     "name": "stdout",
     "output_type": "stream",
     "text": [
      "\u001b[1m39/39\u001b[0m \u001b[32m━━━━━━━━━━━━━━━━━━━━\u001b[0m\u001b[37m\u001b[0m \u001b[1m0s\u001b[0m 7ms/step - accuracy: 0.7188 - loss: 0.6999 - val_accuracy: 0.5926 - val_loss: 1.0278\n",
      "Epoch 163/400\n",
      "\u001b[1m39/39\u001b[0m \u001b[32m━━━━━━━━━━━━━━━━━━━━\u001b[0m\u001b[37m\u001b[0m \u001b[1m14s\u001b[0m 348ms/step - accuracy: 0.7684 - loss: 0.5444 - val_accuracy: 0.6736 - val_loss: 0.8382\n",
      "Epoch 164/400\n",
      "\u001b[1m 1/39\u001b[0m \u001b[37m━━━━━━━━━━━━━━━━━━━━\u001b[0m \u001b[1m1s\u001b[0m 33ms/step - accuracy: 0.7500 - loss: 0.5216"
     ]
    },
    {
     "name": "stderr",
     "output_type": "stream",
     "text": [
      "2024-10-24 01:42:51.673970: I tensorflow/core/framework/local_rendezvous.cc:423] Local rendezvous recv item cancelled. Key hash: 2918327929679280915\n"
     ]
    },
    {
     "name": "stdout",
     "output_type": "stream",
     "text": [
      "\u001b[1m39/39\u001b[0m \u001b[32m━━━━━━━━━━━━━━━━━━━━\u001b[0m\u001b[37m\u001b[0m \u001b[1m0s\u001b[0m 6ms/step - accuracy: 0.7500 - loss: 0.5216 - val_accuracy: 0.5185 - val_loss: 0.9838\n",
      "Epoch 165/400\n"
     ]
    },
    {
     "name": "stderr",
     "output_type": "stream",
     "text": [
      "2024-10-24 01:42:51.891891: I tensorflow/core/framework/local_rendezvous.cc:423] Local rendezvous recv item cancelled. Key hash: 2918327929679280915\n",
      "2024-10-24 01:42:51.892001: I tensorflow/core/framework/local_rendezvous.cc:423] Local rendezvous recv item cancelled. Key hash: 15736871328311997881\n"
     ]
    },
    {
     "name": "stdout",
     "output_type": "stream",
     "text": [
      "\u001b[1m39/39\u001b[0m \u001b[32m━━━━━━━━━━━━━━━━━━━━\u001b[0m\u001b[37m\u001b[0m \u001b[1m14s\u001b[0m 350ms/step - accuracy: 0.7613 - loss: 0.5598 - val_accuracy: 0.6181 - val_loss: 0.9375\n",
      "Epoch 166/400\n",
      "\u001b[1m 1/39\u001b[0m \u001b[37m━━━━━━━━━━━━━━━━━━━━\u001b[0m \u001b[1m1s\u001b[0m 35ms/step - accuracy: 0.7188 - loss: 0.6518"
     ]
    },
    {
     "name": "stderr",
     "output_type": "stream",
     "text": [
      "2024-10-24 01:43:05.591248: I tensorflow/core/framework/local_rendezvous.cc:423] Local rendezvous recv item cancelled. Key hash: 2918327929679280915\n",
      "2024-10-24 01:43:05.591350: I tensorflow/core/framework/local_rendezvous.cc:423] Local rendezvous recv item cancelled. Key hash: 15736871328311997881\n",
      "2024-10-24 01:43:05.793711: I tensorflow/core/framework/local_rendezvous.cc:423] Local rendezvous recv item cancelled. Key hash: 2918327929679280915\n"
     ]
    },
    {
     "name": "stdout",
     "output_type": "stream",
     "text": [
      "\u001b[1m39/39\u001b[0m \u001b[32m━━━━━━━━━━━━━━━━━━━━\u001b[0m\u001b[37m\u001b[0m \u001b[1m0s\u001b[0m 5ms/step - accuracy: 0.7188 - loss: 0.6518 - val_accuracy: 0.7407 - val_loss: 0.6569\n",
      "Epoch 167/400\n"
     ]
    },
    {
     "name": "stderr",
     "output_type": "stream",
     "text": [
      "2024-10-24 01:43:05.793757: I tensorflow/core/framework/local_rendezvous.cc:423] Local rendezvous recv item cancelled. Key hash: 15736871328311997881\n"
     ]
    },
    {
     "name": "stdout",
     "output_type": "stream",
     "text": [
      "\u001b[1m39/39\u001b[0m \u001b[32m━━━━━━━━━━━━━━━━━━━━\u001b[0m\u001b[37m\u001b[0m \u001b[1m14s\u001b[0m 351ms/step - accuracy: 0.7766 - loss: 0.5617 - val_accuracy: 0.6528 - val_loss: 0.8251\n",
      "Epoch 168/400\n",
      "\u001b[1m 1/39\u001b[0m \u001b[37m━━━━━━━━━━━━━━━━━━━━\u001b[0m \u001b[1m1s\u001b[0m 34ms/step - accuracy: 0.7500 - loss: 0.6746"
     ]
    },
    {
     "name": "stderr",
     "output_type": "stream",
     "text": [
      "2024-10-24 01:43:19.509294: I tensorflow/core/framework/local_rendezvous.cc:423] Local rendezvous recv item cancelled. Key hash: 2918327929679280915\n",
      "2024-10-24 01:43:19.509414: I tensorflow/core/framework/local_rendezvous.cc:423] Local rendezvous recv item cancelled. Key hash: 15736871328311997881\n",
      "2024-10-24 01:43:19.713228: I tensorflow/core/framework/local_rendezvous.cc:423] Local rendezvous recv item cancelled. Key hash: 2918327929679280915\n",
      "2024-10-24 01:43:19.713336: I tensorflow/core/framework/local_rendezvous.cc:423] Local rendezvous recv item cancelled. Key hash: 15736871328311997881\n"
     ]
    },
    {
     "name": "stdout",
     "output_type": "stream",
     "text": [
      "\u001b[1m39/39\u001b[0m \u001b[32m━━━━━━━━━━━━━━━━━━━━\u001b[0m\u001b[37m\u001b[0m \u001b[1m0s\u001b[0m 5ms/step - accuracy: 0.7500 - loss: 0.6746 - val_accuracy: 0.4444 - val_loss: 1.1798\n",
      "Epoch 169/400\n",
      "\u001b[1m39/39\u001b[0m \u001b[32m━━━━━━━━━━━━━━━━━━━━\u001b[0m\u001b[37m\u001b[0m \u001b[1m14s\u001b[0m 354ms/step - accuracy: 0.7564 - loss: 0.5736 - val_accuracy: 0.6667 - val_loss: 0.8531\n",
      "Epoch 170/400\n",
      "\u001b[1m 1/39\u001b[0m \u001b[37m━━━━━━━━━━━━━━━━━━━━\u001b[0m \u001b[1m1s\u001b[0m 34ms/step - accuracy: 0.8125 - loss: 0.5664"
     ]
    },
    {
     "name": "stderr",
     "output_type": "stream",
     "text": [
      "2024-10-24 01:43:33.576306: I tensorflow/core/framework/local_rendezvous.cc:423] Local rendezvous recv item cancelled. Key hash: 2918327929679280915\n",
      "2024-10-24 01:43:33.576367: I tensorflow/core/framework/local_rendezvous.cc:423] Local rendezvous recv item cancelled. Key hash: 15736871328311997881\n"
     ]
    },
    {
     "name": "stdout",
     "output_type": "stream",
     "text": [
      "\u001b[1m39/39\u001b[0m \u001b[32m━━━━━━━━━━━━━━━━━━━━\u001b[0m\u001b[37m\u001b[0m \u001b[1m0s\u001b[0m 6ms/step - accuracy: 0.8125 - loss: 0.5664 - val_accuracy: 0.6667 - val_loss: 1.1996\n",
      "Epoch 171/400\n"
     ]
    },
    {
     "name": "stderr",
     "output_type": "stream",
     "text": [
      "2024-10-24 01:43:33.795407: I tensorflow/core/framework/local_rendezvous.cc:423] Local rendezvous recv item cancelled. Key hash: 2918327929679280915\n",
      "2024-10-24 01:43:33.795462: I tensorflow/core/framework/local_rendezvous.cc:423] Local rendezvous recv item cancelled. Key hash: 15736871328311997881\n"
     ]
    },
    {
     "name": "stdout",
     "output_type": "stream",
     "text": [
      "\u001b[1m39/39\u001b[0m \u001b[32m━━━━━━━━━━━━━━━━━━━━\u001b[0m\u001b[37m\u001b[0m \u001b[1m14s\u001b[0m 348ms/step - accuracy: 0.7914 - loss: 0.5053 - val_accuracy: 0.6354 - val_loss: 0.8804\n",
      "Epoch 172/400\n",
      "\u001b[1m 1/39\u001b[0m \u001b[37m━━━━━━━━━━━━━━━━━━━━\u001b[0m \u001b[1m1s\u001b[0m 32ms/step - accuracy: 0.6562 - loss: 0.7655"
     ]
    },
    {
     "name": "stderr",
     "output_type": "stream",
     "text": [
      "2024-10-24 01:43:47.403085: I tensorflow/core/framework/local_rendezvous.cc:423] Local rendezvous recv item cancelled. Key hash: 2918327929679280915\n",
      "2024-10-24 01:43:47.403195: I tensorflow/core/framework/local_rendezvous.cc:423] Local rendezvous recv item cancelled. Key hash: 15736871328311997881\n"
     ]
    },
    {
     "name": "stdout",
     "output_type": "stream",
     "text": [
      "\u001b[1m39/39\u001b[0m \u001b[32m━━━━━━━━━━━━━━━━━━━━\u001b[0m\u001b[37m\u001b[0m \u001b[1m0s\u001b[0m 6ms/step - accuracy: 0.6562 - loss: 0.7655 - val_accuracy: 0.7037 - val_loss: 0.6613\n",
      "Epoch 173/400\n"
     ]
    },
    {
     "name": "stderr",
     "output_type": "stream",
     "text": [
      "2024-10-24 01:43:47.642442: I tensorflow/core/framework/local_rendezvous.cc:423] Local rendezvous recv item cancelled. Key hash: 2918327929679280915\n",
      "2024-10-24 01:43:47.642500: I tensorflow/core/framework/local_rendezvous.cc:423] Local rendezvous recv item cancelled. Key hash: 15736871328311997881\n"
     ]
    },
    {
     "name": "stdout",
     "output_type": "stream",
     "text": [
      "\u001b[1m39/39\u001b[0m \u001b[32m━━━━━━━━━━━━━━━━━━━━\u001b[0m\u001b[37m\u001b[0m \u001b[1m14s\u001b[0m 349ms/step - accuracy: 0.7839 - loss: 0.5303 - val_accuracy: 0.6389 - val_loss: 0.8988\n",
      "Epoch 174/400\n",
      "\u001b[1m 1/39\u001b[0m \u001b[37m━━━━━━━━━━━━━━━━━━━━\u001b[0m \u001b[1m1s\u001b[0m 49ms/step - accuracy: 0.7812 - loss: 0.5375"
     ]
    },
    {
     "name": "stderr",
     "output_type": "stream",
     "text": [
      "2024-10-24 01:44:01.304241: I tensorflow/core/framework/local_rendezvous.cc:423] Local rendezvous recv item cancelled. Key hash: 2918327929679280915\n",
      "2024-10-24 01:44:01.304465: I tensorflow/core/framework/local_rendezvous.cc:423] Local rendezvous recv item cancelled. Key hash: 15736871328311997881\n"
     ]
    },
    {
     "name": "stdout",
     "output_type": "stream",
     "text": [
      "\u001b[1m39/39\u001b[0m \u001b[32m━━━━━━━━━━━━━━━━━━━━\u001b[0m\u001b[37m\u001b[0m \u001b[1m0s\u001b[0m 6ms/step - accuracy: 0.7812 - loss: 0.5375 - val_accuracy: 0.7407 - val_loss: 0.7928\n",
      "Epoch 175/400\n",
      "\u001b[1m39/39\u001b[0m \u001b[32m━━━━━━━━━━━━━━━━━━━━\u001b[0m\u001b[37m\u001b[0m \u001b[1m13s\u001b[0m 345ms/step - accuracy: 0.7688 - loss: 0.5756 - val_accuracy: 0.6389 - val_loss: 0.9585\n",
      "Epoch 176/400\n",
      "\u001b[1m 1/39\u001b[0m \u001b[37m━━━━━━━━━━━━━━━━━━━━\u001b[0m \u001b[1m1s\u001b[0m 33ms/step - accuracy: 0.7188 - loss: 0.5604"
     ]
    },
    {
     "name": "stderr",
     "output_type": "stream",
     "text": [
      "2024-10-24 01:44:15.009550: I tensorflow/core/framework/local_rendezvous.cc:423] Local rendezvous recv item cancelled. Key hash: 2918327929679280915\n",
      "2024-10-24 01:44:15.009613: I tensorflow/core/framework/local_rendezvous.cc:423] Local rendezvous recv item cancelled. Key hash: 15736871328311997881\n"
     ]
    },
    {
     "name": "stdout",
     "output_type": "stream",
     "text": [
      "\u001b[1m39/39\u001b[0m \u001b[32m━━━━━━━━━━━━━━━━━━━━\u001b[0m\u001b[37m\u001b[0m \u001b[1m0s\u001b[0m 6ms/step - accuracy: 0.7188 - loss: 0.5604 - val_accuracy: 0.7037 - val_loss: 0.6005\n",
      "Epoch 177/400\n"
     ]
    },
    {
     "name": "stderr",
     "output_type": "stream",
     "text": [
      "2024-10-24 01:44:15.236867: I tensorflow/core/framework/local_rendezvous.cc:423] Local rendezvous recv item cancelled. Key hash: 2918327929679280915\n",
      "2024-10-24 01:44:15.236936: I tensorflow/core/framework/local_rendezvous.cc:423] Local rendezvous recv item cancelled. Key hash: 15736871328311997881\n"
     ]
    },
    {
     "name": "stdout",
     "output_type": "stream",
     "text": [
      "\u001b[1m39/39\u001b[0m \u001b[32m━━━━━━━━━━━━━━━━━━━━\u001b[0m\u001b[37m\u001b[0m \u001b[1m14s\u001b[0m 350ms/step - accuracy: 0.7881 - loss: 0.5433 - val_accuracy: 0.6806 - val_loss: 0.8053\n",
      "Epoch 178/400\n",
      "\u001b[1m 1/39\u001b[0m \u001b[37m━━━━━━━━━━━━━━━━━━━━\u001b[0m \u001b[1m1s\u001b[0m 35ms/step - accuracy: 1.0000 - loss: 0.3359"
     ]
    },
    {
     "name": "stderr",
     "output_type": "stream",
     "text": [
      "2024-10-24 01:44:28.928067: I tensorflow/core/framework/local_rendezvous.cc:423] Local rendezvous recv item cancelled. Key hash: 2918327929679280915\n",
      "2024-10-24 01:44:28.928131: I tensorflow/core/framework/local_rendezvous.cc:423] Local rendezvous recv item cancelled. Key hash: 15736871328311997881\n"
     ]
    },
    {
     "name": "stdout",
     "output_type": "stream",
     "text": [
      "\u001b[1m39/39\u001b[0m \u001b[32m━━━━━━━━━━━━━━━━━━━━\u001b[0m\u001b[37m\u001b[0m \u001b[1m0s\u001b[0m 7ms/step - accuracy: 1.0000 - loss: 0.3359 - val_accuracy: 0.7037 - val_loss: 0.6772\n",
      "Epoch 179/400\n"
     ]
    },
    {
     "name": "stderr",
     "output_type": "stream",
     "text": [
      "2024-10-24 01:44:29.214045: I tensorflow/core/framework/local_rendezvous.cc:423] Local rendezvous recv item cancelled. Key hash: 2918327929679280915\n",
      "2024-10-24 01:44:29.214097: I tensorflow/core/framework/local_rendezvous.cc:423] Local rendezvous recv item cancelled. Key hash: 15736871328311997881\n"
     ]
    },
    {
     "name": "stdout",
     "output_type": "stream",
     "text": [
      "\u001b[1m39/39\u001b[0m \u001b[32m━━━━━━━━━━━━━━━━━━━━\u001b[0m\u001b[37m\u001b[0m \u001b[1m14s\u001b[0m 350ms/step - accuracy: 0.7647 - loss: 0.5459 - val_accuracy: 0.6771 - val_loss: 0.8253\n",
      "Epoch 180/400\n",
      "\u001b[1m39/39\u001b[0m \u001b[32m━━━━━━━━━━━━━━━━━━━━\u001b[0m\u001b[37m\u001b[0m \u001b[1m0s\u001b[0m 5ms/step - accuracy: 0.8750 - loss: 0.3889 - val_accuracy: 0.6296 - val_loss: 0.8257\n",
      "Epoch 181/400\n"
     ]
    },
    {
     "name": "stderr",
     "output_type": "stream",
     "text": [
      "2024-10-24 01:44:43.109965: I tensorflow/core/framework/local_rendezvous.cc:423] Local rendezvous recv item cancelled. Key hash: 2918327929679280915\n",
      "2024-10-24 01:44:43.110013: I tensorflow/core/framework/local_rendezvous.cc:423] Local rendezvous recv item cancelled. Key hash: 15736871328311997881\n"
     ]
    },
    {
     "name": "stdout",
     "output_type": "stream",
     "text": [
      "\u001b[1m39/39\u001b[0m \u001b[32m━━━━━━━━━━━━━━━━━━━━\u001b[0m\u001b[37m\u001b[0m \u001b[1m14s\u001b[0m 355ms/step - accuracy: 0.7653 - loss: 0.5371 - val_accuracy: 0.6042 - val_loss: 0.9318\n",
      "Epoch 182/400\n",
      "\u001b[1m 1/39\u001b[0m \u001b[37m━━━━━━━━━━━━━━━━━━━━\u001b[0m \u001b[1m1s\u001b[0m 33ms/step - accuracy: 0.8438 - loss: 0.4394"
     ]
    },
    {
     "name": "stderr",
     "output_type": "stream",
     "text": [
      "2024-10-24 01:44:56.985163: I tensorflow/core/framework/local_rendezvous.cc:423] Local rendezvous recv item cancelled. Key hash: 2918327929679280915\n",
      "2024-10-24 01:44:56.985223: I tensorflow/core/framework/local_rendezvous.cc:423] Local rendezvous recv item cancelled. Key hash: 15736871328311997881\n"
     ]
    },
    {
     "name": "stdout",
     "output_type": "stream",
     "text": [
      "\u001b[1m39/39\u001b[0m \u001b[32m━━━━━━━━━━━━━━━━━━━━\u001b[0m\u001b[37m\u001b[0m \u001b[1m0s\u001b[0m 7ms/step - accuracy: 0.8438 - loss: 0.4394 - val_accuracy: 0.7778 - val_loss: 0.5329\n",
      "Epoch 183/400\n"
     ]
    },
    {
     "name": "stderr",
     "output_type": "stream",
     "text": [
      "2024-10-24 01:44:57.241577: I tensorflow/core/framework/local_rendezvous.cc:423] Local rendezvous recv item cancelled. Key hash: 2918327929679280915\n",
      "2024-10-24 01:44:57.241699: I tensorflow/core/framework/local_rendezvous.cc:423] Local rendezvous recv item cancelled. Key hash: 15736871328311997881\n"
     ]
    },
    {
     "name": "stdout",
     "output_type": "stream",
     "text": [
      "\u001b[1m39/39\u001b[0m \u001b[32m━━━━━━━━━━━━━━━━━━━━\u001b[0m\u001b[37m\u001b[0m \u001b[1m14s\u001b[0m 352ms/step - accuracy: 0.7722 - loss: 0.5304 - val_accuracy: 0.6458 - val_loss: 0.8417\n",
      "Epoch 184/400\n",
      "\u001b[1m 1/39\u001b[0m \u001b[37m━━━━━━━━━━━━━━━━━━━━\u001b[0m \u001b[1m1s\u001b[0m 31ms/step - accuracy: 0.8125 - loss: 0.4776"
     ]
    },
    {
     "name": "stderr",
     "output_type": "stream",
     "text": [
      "2024-10-24 01:45:11.010389: I tensorflow/core/framework/local_rendezvous.cc:423] Local rendezvous recv item cancelled. Key hash: 2918327929679280915\n",
      "2024-10-24 01:45:11.010440: I tensorflow/core/framework/local_rendezvous.cc:423] Local rendezvous recv item cancelled. Key hash: 15736871328311997881\n"
     ]
    },
    {
     "name": "stdout",
     "output_type": "stream",
     "text": [
      "\u001b[1m39/39\u001b[0m \u001b[32m━━━━━━━━━━━━━━━━━━━━\u001b[0m\u001b[37m\u001b[0m \u001b[1m0s\u001b[0m 6ms/step - accuracy: 0.8125 - loss: 0.4776 - val_accuracy: 0.5556 - val_loss: 1.1327\n",
      "Epoch 185/400\n"
     ]
    },
    {
     "name": "stderr",
     "output_type": "stream",
     "text": [
      "2024-10-24 01:45:11.230311: I tensorflow/core/framework/local_rendezvous.cc:423] Local rendezvous recv item cancelled. Key hash: 2918327929679280915\n",
      "2024-10-24 01:45:11.230360: I tensorflow/core/framework/local_rendezvous.cc:423] Local rendezvous recv item cancelled. Key hash: 15736871328311997881\n"
     ]
    },
    {
     "name": "stdout",
     "output_type": "stream",
     "text": [
      "\u001b[1m39/39\u001b[0m \u001b[32m━━━━━━━━━━━━━━━━━━━━\u001b[0m\u001b[37m\u001b[0m \u001b[1m14s\u001b[0m 352ms/step - accuracy: 0.7661 - loss: 0.5650 - val_accuracy: 0.6111 - val_loss: 0.8970\n",
      "Epoch 186/400\n",
      "\u001b[1m 1/39\u001b[0m \u001b[37m━━━━━━━━━━━━━━━━━━━━\u001b[0m \u001b[1m1s\u001b[0m 39ms/step - accuracy: 0.7812 - loss: 0.3947"
     ]
    },
    {
     "name": "stderr",
     "output_type": "stream",
     "text": [
      "2024-10-24 01:45:24.981648: I tensorflow/core/framework/local_rendezvous.cc:423] Local rendezvous recv item cancelled. Key hash: 2918327929679280915\n",
      "2024-10-24 01:45:24.981767: I tensorflow/core/framework/local_rendezvous.cc:423] Local rendezvous recv item cancelled. Key hash: 15736871328311997881\n",
      "2024-10-24 01:45:25.183245: I tensorflow/core/framework/local_rendezvous.cc:423] Local rendezvous recv item cancelled. Key hash: 2918327929679280915\n",
      "2024-10-24 01:45:25.183297: I tensorflow/core/framework/local_rendezvous.cc:423] Local rendezvous recv item cancelled. Key hash: 15736871328311997881\n"
     ]
    },
    {
     "name": "stdout",
     "output_type": "stream",
     "text": [
      "\u001b[1m39/39\u001b[0m \u001b[32m━━━━━━━━━━━━━━━━━━━━\u001b[0m\u001b[37m\u001b[0m \u001b[1m0s\u001b[0m 5ms/step - accuracy: 0.7812 - loss: 0.3947 - val_accuracy: 0.5185 - val_loss: 0.8644\n",
      "Epoch 187/400\n",
      "\u001b[1m39/39\u001b[0m \u001b[32m━━━━━━━━━━━━━━━━━━━━\u001b[0m\u001b[37m\u001b[0m \u001b[1m13s\u001b[0m 344ms/step - accuracy: 0.7708 - loss: 0.5714 - val_accuracy: 0.6354 - val_loss: 0.8616\n",
      "Epoch 188/400\n",
      "\u001b[1m 1/39\u001b[0m \u001b[37m━━━━━━━━━━━━━━━━━━━━\u001b[0m \u001b[1m1s\u001b[0m 46ms/step - accuracy: 0.8125 - loss: 0.4433"
     ]
    },
    {
     "name": "stderr",
     "output_type": "stream",
     "text": [
      "2024-10-24 01:45:38.645387: I tensorflow/core/framework/local_rendezvous.cc:423] Local rendezvous recv item cancelled. Key hash: 2918327929679280915\n",
      "2024-10-24 01:45:38.645496: I tensorflow/core/framework/local_rendezvous.cc:423] Local rendezvous recv item cancelled. Key hash: 15736871328311997881\n",
      "2024-10-24 01:45:38.837217: I tensorflow/core/framework/local_rendezvous.cc:423] Local rendezvous recv item cancelled. Key hash: 2918327929679280915\n",
      "2024-10-24 01:45:38.837260: I tensorflow/core/framework/local_rendezvous.cc:423] Local rendezvous recv item cancelled. Key hash: 15736871328311997881\n"
     ]
    },
    {
     "name": "stdout",
     "output_type": "stream",
     "text": [
      "\u001b[1m39/39\u001b[0m \u001b[32m━━━━━━━━━━━━━━━━━━━━\u001b[0m\u001b[37m\u001b[0m \u001b[1m0s\u001b[0m 5ms/step - accuracy: 0.8125 - loss: 0.4433 - val_accuracy: 0.6667 - val_loss: 0.9463\n",
      "Epoch 189/400\n",
      "\u001b[1m39/39\u001b[0m \u001b[32m━━━━━━━━━━━━━━━━━━━━\u001b[0m\u001b[37m\u001b[0m \u001b[1m14s\u001b[0m 347ms/step - accuracy: 0.7977 - loss: 0.4842 - val_accuracy: 0.6458 - val_loss: 0.8531\n",
      "Epoch 190/400\n",
      "\u001b[1m 1/39\u001b[0m \u001b[37m━━━━━━━━━━━━━━━━━━━━\u001b[0m \u001b[1m1s\u001b[0m 33ms/step - accuracy: 0.6875 - loss: 0.6777"
     ]
    },
    {
     "name": "stderr",
     "output_type": "stream",
     "text": [
      "2024-10-24 01:45:52.389679: I tensorflow/core/framework/local_rendezvous.cc:423] Local rendezvous recv item cancelled. Key hash: 2918327929679280915\n",
      "2024-10-24 01:45:52.389786: I tensorflow/core/framework/local_rendezvous.cc:423] Local rendezvous recv item cancelled. Key hash: 15736871328311997881\n"
     ]
    },
    {
     "name": "stdout",
     "output_type": "stream",
     "text": [
      "\u001b[1m39/39\u001b[0m \u001b[32m━━━━━━━━━━━━━━━━━━━━\u001b[0m\u001b[37m\u001b[0m \u001b[1m0s\u001b[0m 6ms/step - accuracy: 0.6875 - loss: 0.6777 - val_accuracy: 0.7037 - val_loss: 0.8868\n",
      "Epoch 191/400\n"
     ]
    },
    {
     "name": "stderr",
     "output_type": "stream",
     "text": [
      "2024-10-24 01:45:52.620744: I tensorflow/core/framework/local_rendezvous.cc:423] Local rendezvous recv item cancelled. Key hash: 2918327929679280915\n"
     ]
    },
    {
     "name": "stdout",
     "output_type": "stream",
     "text": [
      "\u001b[1m39/39\u001b[0m \u001b[32m━━━━━━━━━━━━━━━━━━━━\u001b[0m\u001b[37m\u001b[0m \u001b[1m13s\u001b[0m 346ms/step - accuracy: 0.7603 - loss: 0.5439 - val_accuracy: 0.6597 - val_loss: 0.8553\n",
      "Epoch 192/400\n",
      "\u001b[1m 1/39\u001b[0m \u001b[37m━━━━━━━━━━━━━━━━━━━━\u001b[0m \u001b[1m1s\u001b[0m 34ms/step - accuracy: 0.8125 - loss: 0.4636"
     ]
    },
    {
     "name": "stderr",
     "output_type": "stream",
     "text": [
      "2024-10-24 01:46:06.137637: I tensorflow/core/framework/local_rendezvous.cc:423] Local rendezvous recv item cancelled. Key hash: 2918327929679280915\n"
     ]
    },
    {
     "name": "stdout",
     "output_type": "stream",
     "text": [
      "\u001b[1m39/39\u001b[0m \u001b[32m━━━━━━━━━━━━━━━━━━━━\u001b[0m\u001b[37m\u001b[0m \u001b[1m0s\u001b[0m 6ms/step - accuracy: 0.8125 - loss: 0.4636 - val_accuracy: 0.4815 - val_loss: 1.1146\n",
      "Epoch 193/400\n"
     ]
    },
    {
     "name": "stderr",
     "output_type": "stream",
     "text": [
      "2024-10-24 01:46:06.365264: I tensorflow/core/framework/local_rendezvous.cc:423] Local rendezvous recv item cancelled. Key hash: 2918327929679280915\n",
      "2024-10-24 01:46:06.365308: I tensorflow/core/framework/local_rendezvous.cc:423] Local rendezvous recv item cancelled. Key hash: 15736871328311997881\n"
     ]
    },
    {
     "name": "stdout",
     "output_type": "stream",
     "text": [
      "\u001b[1m39/39\u001b[0m \u001b[32m━━━━━━━━━━━━━━━━━━━━\u001b[0m\u001b[37m\u001b[0m \u001b[1m13s\u001b[0m 343ms/step - accuracy: 0.7882 - loss: 0.5466 - val_accuracy: 0.6493 - val_loss: 0.9077\n",
      "Epoch 194/400\n",
      "\u001b[1m 1/39\u001b[0m \u001b[37m━━━━━━━━━━━━━━━━━━━━\u001b[0m \u001b[1m1s\u001b[0m 32ms/step - accuracy: 0.6250 - loss: 0.7715"
     ]
    },
    {
     "name": "stderr",
     "output_type": "stream",
     "text": [
      "2024-10-24 01:46:19.758401: I tensorflow/core/framework/local_rendezvous.cc:423] Local rendezvous recv item cancelled. Key hash: 2918327929679280915\n",
      "2024-10-24 01:46:19.758446: I tensorflow/core/framework/local_rendezvous.cc:423] Local rendezvous recv item cancelled. Key hash: 15736871328311997881\n"
     ]
    },
    {
     "name": "stdout",
     "output_type": "stream",
     "text": [
      "\u001b[1m39/39\u001b[0m \u001b[32m━━━━━━━━━━━━━━━━━━━━\u001b[0m\u001b[37m\u001b[0m \u001b[1m0s\u001b[0m 6ms/step - accuracy: 0.6250 - loss: 0.7715 - val_accuracy: 0.5556 - val_loss: 0.9502\n",
      "Epoch 195/400\n"
     ]
    },
    {
     "name": "stderr",
     "output_type": "stream",
     "text": [
      "2024-10-24 01:46:19.974169: I tensorflow/core/framework/local_rendezvous.cc:423] Local rendezvous recv item cancelled. Key hash: 2918327929679280915\n",
      "2024-10-24 01:46:19.974242: I tensorflow/core/framework/local_rendezvous.cc:423] Local rendezvous recv item cancelled. Key hash: 15736871328311997881\n"
     ]
    },
    {
     "name": "stdout",
     "output_type": "stream",
     "text": [
      "\u001b[1m39/39\u001b[0m \u001b[32m━━━━━━━━━━━━━━━━━━━━\u001b[0m\u001b[37m\u001b[0m \u001b[1m13s\u001b[0m 343ms/step - accuracy: 0.7532 - loss: 0.5738 - val_accuracy: 0.6667 - val_loss: 0.8327\n",
      "Epoch 196/400\n",
      "\u001b[1m 1/39\u001b[0m \u001b[37m━━━━━━━━━━━━━━━━━━━━\u001b[0m \u001b[1m1s\u001b[0m 32ms/step - accuracy: 0.8125 - loss: 0.4586"
     ]
    },
    {
     "name": "stderr",
     "output_type": "stream",
     "text": [
      "2024-10-24 01:46:33.388945: I tensorflow/core/framework/local_rendezvous.cc:423] Local rendezvous recv item cancelled. Key hash: 2918327929679280915\n",
      "2024-10-24 01:46:33.389023: I tensorflow/core/framework/local_rendezvous.cc:423] Local rendezvous recv item cancelled. Key hash: 15736871328311997881\n"
     ]
    },
    {
     "name": "stdout",
     "output_type": "stream",
     "text": [
      "\u001b[1m39/39\u001b[0m \u001b[32m━━━━━━━━━━━━━━━━━━━━\u001b[0m\u001b[37m\u001b[0m \u001b[1m0s\u001b[0m 6ms/step - accuracy: 0.8125 - loss: 0.4586 - val_accuracy: 0.5556 - val_loss: 1.0760\n",
      "Epoch 197/400\n"
     ]
    },
    {
     "name": "stderr",
     "output_type": "stream",
     "text": [
      "2024-10-24 01:46:33.605812: I tensorflow/core/framework/local_rendezvous.cc:423] Local rendezvous recv item cancelled. Key hash: 2918327929679280915\n",
      "2024-10-24 01:46:33.605853: I tensorflow/core/framework/local_rendezvous.cc:423] Local rendezvous recv item cancelled. Key hash: 15736871328311997881\n"
     ]
    },
    {
     "name": "stdout",
     "output_type": "stream",
     "text": [
      "\u001b[1m39/39\u001b[0m \u001b[32m━━━━━━━━━━━━━━━━━━━━\u001b[0m\u001b[37m\u001b[0m \u001b[1m14s\u001b[0m 347ms/step - accuracy: 0.7915 - loss: 0.4900 - val_accuracy: 0.6701 - val_loss: 0.8836\n",
      "Epoch 198/400\n",
      "\u001b[1m 1/39\u001b[0m \u001b[37m━━━━━━━━━━━━━━━━━━━━\u001b[0m \u001b[1m1s\u001b[0m 33ms/step - accuracy: 0.8438 - loss: 0.4458"
     ]
    },
    {
     "name": "stderr",
     "output_type": "stream",
     "text": [
      "2024-10-24 01:46:47.188844: I tensorflow/core/framework/local_rendezvous.cc:423] Local rendezvous recv item cancelled. Key hash: 2918327929679280915\n",
      "2024-10-24 01:46:47.188975: I tensorflow/core/framework/local_rendezvous.cc:423] Local rendezvous recv item cancelled. Key hash: 15736871328311997881\n"
     ]
    },
    {
     "name": "stdout",
     "output_type": "stream",
     "text": [
      "\u001b[1m39/39\u001b[0m \u001b[32m━━━━━━━━━━━━━━━━━━━━\u001b[0m\u001b[37m\u001b[0m \u001b[1m0s\u001b[0m 6ms/step - accuracy: 0.8438 - loss: 0.4458 - val_accuracy: 0.6667 - val_loss: 1.0298\n",
      "Epoch 199/400\n"
     ]
    },
    {
     "name": "stderr",
     "output_type": "stream",
     "text": [
      "2024-10-24 01:46:47.407599: I tensorflow/core/framework/local_rendezvous.cc:423] Local rendezvous recv item cancelled. Key hash: 2918327929679280915\n"
     ]
    },
    {
     "name": "stdout",
     "output_type": "stream",
     "text": [
      "\u001b[1m39/39\u001b[0m \u001b[32m━━━━━━━━━━━━━━━━━━━━\u001b[0m\u001b[37m\u001b[0m \u001b[1m14s\u001b[0m 348ms/step - accuracy: 0.7761 - loss: 0.5392 - val_accuracy: 0.6667 - val_loss: 0.8702\n",
      "Epoch 200/400\n",
      "\u001b[1m 1/39\u001b[0m \u001b[37m━━━━━━━━━━━━━━━━━━━━\u001b[0m \u001b[1m1s\u001b[0m 31ms/step - accuracy: 0.7500 - loss: 0.5369"
     ]
    },
    {
     "name": "stderr",
     "output_type": "stream",
     "text": [
      "2024-10-24 01:47:00.989978: I tensorflow/core/framework/local_rendezvous.cc:423] Local rendezvous recv item cancelled. Key hash: 2918327929679280915\n",
      "2024-10-24 01:47:00.990015: I tensorflow/core/framework/local_rendezvous.cc:423] Local rendezvous recv item cancelled. Key hash: 15736871328311997881\n"
     ]
    },
    {
     "name": "stdout",
     "output_type": "stream",
     "text": [
      "\u001b[1m39/39\u001b[0m \u001b[32m━━━━━━━━━━━━━━━━━━━━\u001b[0m\u001b[37m\u001b[0m \u001b[1m0s\u001b[0m 6ms/step - accuracy: 0.7500 - loss: 0.5369 - val_accuracy: 0.4815 - val_loss: 0.9980\n",
      "Epoch 201/400\n",
      "\u001b[1m39/39\u001b[0m \u001b[32m━━━━━━━━━━━━━━━━━━━━\u001b[0m\u001b[37m\u001b[0m \u001b[1m14s\u001b[0m 350ms/step - accuracy: 0.7440 - loss: 0.5415 - val_accuracy: 0.6875 - val_loss: 0.8506\n",
      "Epoch 202/400\n",
      "\u001b[1m 1/39\u001b[0m \u001b[37m━━━━━━━━━━━━━━━━━━━━\u001b[0m \u001b[1m1s\u001b[0m 34ms/step - accuracy: 0.8438 - loss: 0.4462"
     ]
    },
    {
     "name": "stderr",
     "output_type": "stream",
     "text": [
      "2024-10-24 01:47:14.901086: I tensorflow/core/framework/local_rendezvous.cc:423] Local rendezvous recv item cancelled. Key hash: 2918327929679280915\n",
      "2024-10-24 01:47:14.901219: I tensorflow/core/framework/local_rendezvous.cc:423] Local rendezvous recv item cancelled. Key hash: 15736871328311997881\n"
     ]
    },
    {
     "name": "stdout",
     "output_type": "stream",
     "text": [
      "\u001b[1m39/39\u001b[0m \u001b[32m━━━━━━━━━━━━━━━━━━━━\u001b[0m\u001b[37m\u001b[0m \u001b[1m0s\u001b[0m 5ms/step - accuracy: 0.8438 - loss: 0.4462 - val_accuracy: 0.6296 - val_loss: 1.1260\n",
      "Epoch 203/400\n"
     ]
    },
    {
     "name": "stderr",
     "output_type": "stream",
     "text": [
      "2024-10-24 01:47:15.111570: I tensorflow/core/framework/local_rendezvous.cc:423] Local rendezvous recv item cancelled. Key hash: 2918327929679280915\n"
     ]
    },
    {
     "name": "stdout",
     "output_type": "stream",
     "text": [
      "\u001b[1m39/39\u001b[0m \u001b[32m━━━━━━━━━━━━━━━━━━━━\u001b[0m\u001b[37m\u001b[0m \u001b[1m14s\u001b[0m 358ms/step - accuracy: 0.7691 - loss: 0.5569 - val_accuracy: 0.6493 - val_loss: 0.8651\n",
      "Epoch 204/400\n",
      "\u001b[1m39/39\u001b[0m \u001b[32m━━━━━━━━━━━━━━━━━━━━\u001b[0m\u001b[37m\u001b[0m \u001b[1m0s\u001b[0m 6ms/step - accuracy: 0.8438 - loss: 0.4578 - val_accuracy: 0.6667 - val_loss: 0.8569\n",
      "Epoch 205/400\n"
     ]
    },
    {
     "name": "stderr",
     "output_type": "stream",
     "text": [
      "2024-10-24 01:47:29.334195: I tensorflow/core/framework/local_rendezvous.cc:423] Local rendezvous recv item cancelled. Key hash: 2918327929679280915\n",
      "2024-10-24 01:47:29.334271: I tensorflow/core/framework/local_rendezvous.cc:423] Local rendezvous recv item cancelled. Key hash: 15736871328311997881\n"
     ]
    },
    {
     "name": "stdout",
     "output_type": "stream",
     "text": [
      "\u001b[1m39/39\u001b[0m \u001b[32m━━━━━━━━━━━━━━━━━━━━\u001b[0m\u001b[37m\u001b[0m \u001b[1m14s\u001b[0m 353ms/step - accuracy: 0.7865 - loss: 0.5190 - val_accuracy: 0.6597 - val_loss: 0.8031\n",
      "Epoch 206/400\n",
      "\u001b[1m 1/39\u001b[0m \u001b[37m━━━━━━━━━━━━━━━━━━━━\u001b[0m \u001b[1m2s\u001b[0m 58ms/step - accuracy: 0.7188 - loss: 0.6812"
     ]
    },
    {
     "name": "stderr",
     "output_type": "stream",
     "text": [
      "2024-10-24 01:47:43.148888: I tensorflow/core/framework/local_rendezvous.cc:423] Local rendezvous recv item cancelled. Key hash: 2918327929679280915\n",
      "2024-10-24 01:47:43.149016: I tensorflow/core/framework/local_rendezvous.cc:423] Local rendezvous recv item cancelled. Key hash: 15736871328311997881\n"
     ]
    },
    {
     "name": "stdout",
     "output_type": "stream",
     "text": [
      "\u001b[1m39/39\u001b[0m \u001b[32m━━━━━━━━━━━━━━━━━━━━\u001b[0m\u001b[37m\u001b[0m \u001b[1m0s\u001b[0m 6ms/step - accuracy: 0.7188 - loss: 0.6812 - val_accuracy: 0.5185 - val_loss: 1.1611\n",
      "Epoch 207/400\n"
     ]
    },
    {
     "name": "stderr",
     "output_type": "stream",
     "text": [
      "2024-10-24 01:47:43.377343: I tensorflow/core/framework/local_rendezvous.cc:423] Local rendezvous recv item cancelled. Key hash: 2918327929679280915\n"
     ]
    },
    {
     "name": "stdout",
     "output_type": "stream",
     "text": [
      "\u001b[1m39/39\u001b[0m \u001b[32m━━━━━━━━━━━━━━━━━━━━\u001b[0m\u001b[37m\u001b[0m \u001b[1m14s\u001b[0m 347ms/step - accuracy: 0.7943 - loss: 0.5430 - val_accuracy: 0.6215 - val_loss: 0.9020\n",
      "Epoch 208/400\n",
      "\u001b[1m 1/39\u001b[0m \u001b[37m━━━━━━━━━━━━━━━━━━━━\u001b[0m \u001b[1m1s\u001b[0m 34ms/step - accuracy: 0.9062 - loss: 0.3646"
     ]
    },
    {
     "name": "stderr",
     "output_type": "stream",
     "text": [
      "2024-10-24 01:47:56.933044: I tensorflow/core/framework/local_rendezvous.cc:423] Local rendezvous recv item cancelled. Key hash: 2918327929679280915\n",
      "2024-10-24 01:47:56.933145: I tensorflow/core/framework/local_rendezvous.cc:423] Local rendezvous recv item cancelled. Key hash: 15736871328311997881\n"
     ]
    },
    {
     "name": "stdout",
     "output_type": "stream",
     "text": [
      "\u001b[1m39/39\u001b[0m \u001b[32m━━━━━━━━━━━━━━━━━━━━\u001b[0m\u001b[37m\u001b[0m \u001b[1m0s\u001b[0m 8ms/step - accuracy: 0.9062 - loss: 0.3646 - val_accuracy: 0.7037 - val_loss: 0.9464\n",
      "Epoch 209/400\n"
     ]
    },
    {
     "name": "stderr",
     "output_type": "stream",
     "text": [
      "2024-10-24 01:47:57.256517: I tensorflow/core/framework/local_rendezvous.cc:423] Local rendezvous recv item cancelled. Key hash: 2918327929679280915\n"
     ]
    },
    {
     "name": "stdout",
     "output_type": "stream",
     "text": [
      "\u001b[1m39/39\u001b[0m \u001b[32m━━━━━━━━━━━━━━━━━━━━\u001b[0m\u001b[37m\u001b[0m \u001b[1m14s\u001b[0m 347ms/step - accuracy: 0.7735 - loss: 0.5474 - val_accuracy: 0.6146 - val_loss: 0.8885\n",
      "Epoch 210/400\n",
      "\u001b[1m 1/39\u001b[0m \u001b[37m━━━━━━━━━━━━━━━━━━━━\u001b[0m \u001b[1m1s\u001b[0m 31ms/step - accuracy: 0.7812 - loss: 0.5429"
     ]
    },
    {
     "name": "stderr",
     "output_type": "stream",
     "text": [
      "2024-10-24 01:48:10.812585: I tensorflow/core/framework/local_rendezvous.cc:423] Local rendezvous recv item cancelled. Key hash: 2918327929679280915\n",
      "2024-10-24 01:48:10.812659: I tensorflow/core/framework/local_rendezvous.cc:423] Local rendezvous recv item cancelled. Key hash: 15736871328311997881\n"
     ]
    },
    {
     "name": "stdout",
     "output_type": "stream",
     "text": [
      "\u001b[1m39/39\u001b[0m \u001b[32m━━━━━━━━━━━━━━━━━━━━\u001b[0m\u001b[37m\u001b[0m \u001b[1m0s\u001b[0m 6ms/step - accuracy: 0.7812 - loss: 0.5429 - val_accuracy: 0.6667 - val_loss: 0.7109\n",
      "Epoch 211/400\n"
     ]
    },
    {
     "name": "stderr",
     "output_type": "stream",
     "text": [
      "2024-10-24 01:48:11.052959: I tensorflow/core/framework/local_rendezvous.cc:423] Local rendezvous recv item cancelled. Key hash: 2918327929679280915\n",
      "2024-10-24 01:48:11.053022: I tensorflow/core/framework/local_rendezvous.cc:423] Local rendezvous recv item cancelled. Key hash: 15736871328311997881\n"
     ]
    },
    {
     "name": "stdout",
     "output_type": "stream",
     "text": [
      "\u001b[1m39/39\u001b[0m \u001b[32m━━━━━━━━━━━━━━━━━━━━\u001b[0m\u001b[37m\u001b[0m \u001b[1m13s\u001b[0m 346ms/step - accuracy: 0.7570 - loss: 0.5588 - val_accuracy: 0.6736 - val_loss: 0.8411\n",
      "Epoch 212/400\n",
      "\u001b[1m 1/39\u001b[0m \u001b[37m━━━━━━━━━━━━━━━━━━━━\u001b[0m \u001b[1m1s\u001b[0m 31ms/step - accuracy: 0.8125 - loss: 0.4419"
     ]
    },
    {
     "name": "stderr",
     "output_type": "stream",
     "text": [
      "2024-10-24 01:48:24.588548: I tensorflow/core/framework/local_rendezvous.cc:423] Local rendezvous recv item cancelled. Key hash: 2918327929679280915\n",
      "2024-10-24 01:48:24.588594: I tensorflow/core/framework/local_rendezvous.cc:423] Local rendezvous recv item cancelled. Key hash: 15736871328311997881\n"
     ]
    },
    {
     "name": "stdout",
     "output_type": "stream",
     "text": [
      "\u001b[1m39/39\u001b[0m \u001b[32m━━━━━━━━━━━━━━━━━━━━\u001b[0m\u001b[37m\u001b[0m \u001b[1m0s\u001b[0m 6ms/step - accuracy: 0.8125 - loss: 0.4419 - val_accuracy: 0.5556 - val_loss: 1.0815\n",
      "Epoch 213/400\n"
     ]
    },
    {
     "name": "stderr",
     "output_type": "stream",
     "text": [
      "2024-10-24 01:48:24.812264: I tensorflow/core/framework/local_rendezvous.cc:404] Local rendezvous is aborting with status: OUT_OF_RANGE: End of sequence\n",
      "\t [[{{node IteratorGetNext}}]]\n",
      "\t [[IteratorGetNext/_2]]\n",
      "2024-10-24 01:48:24.812367: I tensorflow/core/framework/local_rendezvous.cc:423] Local rendezvous recv item cancelled. Key hash: 2918327929679280915\n",
      "2024-10-24 01:48:24.812409: I tensorflow/core/framework/local_rendezvous.cc:423] Local rendezvous recv item cancelled. Key hash: 15736871328311997881\n"
     ]
    },
    {
     "name": "stdout",
     "output_type": "stream",
     "text": [
      "\u001b[1m39/39\u001b[0m \u001b[32m━━━━━━━━━━━━━━━━━━━━\u001b[0m\u001b[37m\u001b[0m \u001b[1m14s\u001b[0m 352ms/step - accuracy: 0.7854 - loss: 0.5317 - val_accuracy: 0.6736 - val_loss: 0.8653\n",
      "Epoch 214/400\n",
      "\u001b[1m 1/39\u001b[0m \u001b[37m━━━━━━━━━━━━━━━━━━━━\u001b[0m \u001b[1m1s\u001b[0m 32ms/step - accuracy: 0.6875 - loss: 0.6187"
     ]
    },
    {
     "name": "stderr",
     "output_type": "stream",
     "text": [
      "2024-10-24 01:48:38.605465: I tensorflow/core/framework/local_rendezvous.cc:423] Local rendezvous recv item cancelled. Key hash: 2918327929679280915\n",
      "2024-10-24 01:48:38.605528: I tensorflow/core/framework/local_rendezvous.cc:423] Local rendezvous recv item cancelled. Key hash: 15736871328311997881\n"
     ]
    },
    {
     "name": "stdout",
     "output_type": "stream",
     "text": [
      "\u001b[1m39/39\u001b[0m \u001b[32m━━━━━━━━━━━━━━━━━━━━\u001b[0m\u001b[37m\u001b[0m \u001b[1m0s\u001b[0m 5ms/step - accuracy: 0.6875 - loss: 0.6187 - val_accuracy: 0.4815 - val_loss: 1.0992\n",
      "Epoch 215/400\n",
      "\u001b[1m39/39\u001b[0m \u001b[32m━━━━━━━━━━━━━━━━━━━━\u001b[0m\u001b[37m\u001b[0m \u001b[1m14s\u001b[0m 350ms/step - accuracy: 0.7701 - loss: 0.5298 - val_accuracy: 0.6528 - val_loss: 0.8663\n",
      "Epoch 216/400\n",
      "\u001b[1m 1/39\u001b[0m \u001b[37m━━━━━━━━━━━━━━━━━━━━\u001b[0m \u001b[1m1s\u001b[0m 31ms/step - accuracy: 0.7812 - loss: 0.5087"
     ]
    },
    {
     "name": "stderr",
     "output_type": "stream",
     "text": [
      "2024-10-24 01:48:52.482017: I tensorflow/core/framework/local_rendezvous.cc:423] Local rendezvous recv item cancelled. Key hash: 2918327929679280915\n",
      "2024-10-24 01:48:52.482091: I tensorflow/core/framework/local_rendezvous.cc:423] Local rendezvous recv item cancelled. Key hash: 15736871328311997881\n"
     ]
    },
    {
     "name": "stdout",
     "output_type": "stream",
     "text": [
      "\u001b[1m39/39\u001b[0m \u001b[32m━━━━━━━━━━━━━━━━━━━━\u001b[0m\u001b[37m\u001b[0m \u001b[1m0s\u001b[0m 5ms/step - accuracy: 0.7812 - loss: 0.5087 - val_accuracy: 0.7778 - val_loss: 0.6333\n",
      "Epoch 217/400\n"
     ]
    },
    {
     "name": "stderr",
     "output_type": "stream",
     "text": [
      "2024-10-24 01:48:52.687301: I tensorflow/core/framework/local_rendezvous.cc:423] Local rendezvous recv item cancelled. Key hash: 2918327929679280915\n",
      "2024-10-24 01:48:52.687370: I tensorflow/core/framework/local_rendezvous.cc:423] Local rendezvous recv item cancelled. Key hash: 15736871328311997881\n"
     ]
    },
    {
     "name": "stdout",
     "output_type": "stream",
     "text": [
      "\u001b[1m39/39\u001b[0m \u001b[32m━━━━━━━━━━━━━━━━━━━━\u001b[0m\u001b[37m\u001b[0m \u001b[1m13s\u001b[0m 344ms/step - accuracy: 0.7772 - loss: 0.5485 - val_accuracy: 0.6111 - val_loss: 1.0176\n",
      "Epoch 218/400\n",
      "\u001b[1m 1/39\u001b[0m \u001b[37m━━━━━━━━━━━━━━━━━━━━\u001b[0m \u001b[1m1s\u001b[0m 31ms/step - accuracy: 0.8125 - loss: 0.4076"
     ]
    },
    {
     "name": "stderr",
     "output_type": "stream",
     "text": [
      "2024-10-24 01:49:06.138383: I tensorflow/core/framework/local_rendezvous.cc:423] Local rendezvous recv item cancelled. Key hash: 2918327929679280915\n",
      "2024-10-24 01:49:06.138431: I tensorflow/core/framework/local_rendezvous.cc:423] Local rendezvous recv item cancelled. Key hash: 15736871328311997881\n"
     ]
    },
    {
     "name": "stdout",
     "output_type": "stream",
     "text": [
      "\u001b[1m39/39\u001b[0m \u001b[32m━━━━━━━━━━━━━━━━━━━━\u001b[0m\u001b[37m\u001b[0m \u001b[1m0s\u001b[0m 7ms/step - accuracy: 0.8125 - loss: 0.4076 - val_accuracy: 0.8889 - val_loss: 0.7030\n",
      "Epoch 219/400\n"
     ]
    },
    {
     "name": "stderr",
     "output_type": "stream",
     "text": [
      "2024-10-24 01:49:06.409296: I tensorflow/core/framework/local_rendezvous.cc:423] Local rendezvous recv item cancelled. Key hash: 2918327929679280915\n",
      "2024-10-24 01:49:06.409359: I tensorflow/core/framework/local_rendezvous.cc:423] Local rendezvous recv item cancelled. Key hash: 15736871328311997881\n"
     ]
    },
    {
     "name": "stdout",
     "output_type": "stream",
     "text": [
      "\u001b[1m39/39\u001b[0m \u001b[32m━━━━━━━━━━━━━━━━━━━━\u001b[0m\u001b[37m\u001b[0m \u001b[1m13s\u001b[0m 345ms/step - accuracy: 0.7791 - loss: 0.5434 - val_accuracy: 0.6493 - val_loss: 0.8956\n",
      "Epoch 220/400\n",
      "\u001b[1m39/39\u001b[0m \u001b[32m━━━━━━━━━━━━━━━━━━━━\u001b[0m\u001b[37m\u001b[0m \u001b[1m0s\u001b[0m 7ms/step - accuracy: 0.7812 - loss: 0.4163 - val_accuracy: 0.7037 - val_loss: 0.9377\n",
      "Epoch 221/400\n"
     ]
    },
    {
     "name": "stderr",
     "output_type": "stream",
     "text": [
      "2024-10-24 01:49:20.140305: I tensorflow/core/framework/local_rendezvous.cc:423] Local rendezvous recv item cancelled. Key hash: 2918327929679280915\n",
      "2024-10-24 01:49:20.140359: I tensorflow/core/framework/local_rendezvous.cc:423] Local rendezvous recv item cancelled. Key hash: 15736871328311997881\n"
     ]
    },
    {
     "name": "stdout",
     "output_type": "stream",
     "text": [
      "\u001b[1m39/39\u001b[0m \u001b[32m━━━━━━━━━━━━━━━━━━━━\u001b[0m\u001b[37m\u001b[0m \u001b[1m14s\u001b[0m 352ms/step - accuracy: 0.7639 - loss: 0.5614 - val_accuracy: 0.6354 - val_loss: 0.8720\n",
      "Epoch 222/400\n",
      "\u001b[1m 1/39\u001b[0m \u001b[37m━━━━━━━━━━━━━━━━━━━━\u001b[0m \u001b[1m1s\u001b[0m 34ms/step - accuracy: 0.7812 - loss: 0.4453"
     ]
    },
    {
     "name": "stderr",
     "output_type": "stream",
     "text": [
      "2024-10-24 01:49:33.905855: I tensorflow/core/framework/local_rendezvous.cc:423] Local rendezvous recv item cancelled. Key hash: 2918327929679280915\n",
      "2024-10-24 01:49:33.905968: I tensorflow/core/framework/local_rendezvous.cc:423] Local rendezvous recv item cancelled. Key hash: 15736871328311997881\n"
     ]
    },
    {
     "name": "stdout",
     "output_type": "stream",
     "text": [
      "\u001b[1m39/39\u001b[0m \u001b[32m━━━━━━━━━━━━━━━━━━━━\u001b[0m\u001b[37m\u001b[0m \u001b[1m0s\u001b[0m 7ms/step - accuracy: 0.7812 - loss: 0.4453 - val_accuracy: 0.5185 - val_loss: 1.2602\n",
      "Epoch 223/400\n"
     ]
    },
    {
     "name": "stderr",
     "output_type": "stream",
     "text": [
      "2024-10-24 01:49:34.165744: I tensorflow/core/framework/local_rendezvous.cc:423] Local rendezvous recv item cancelled. Key hash: 2918327929679280915\n",
      "2024-10-24 01:49:34.165815: I tensorflow/core/framework/local_rendezvous.cc:423] Local rendezvous recv item cancelled. Key hash: 15736871328311997881\n"
     ]
    },
    {
     "name": "stdout",
     "output_type": "stream",
     "text": [
      "\u001b[1m39/39\u001b[0m \u001b[32m━━━━━━━━━━━━━━━━━━━━\u001b[0m\u001b[37m\u001b[0m \u001b[1m14s\u001b[0m 350ms/step - accuracy: 0.7739 - loss: 0.5381 - val_accuracy: 0.6111 - val_loss: 0.8732\n",
      "Epoch 224/400\n",
      "\u001b[1m 1/39\u001b[0m \u001b[37m━━━━━━━━━━━━━━━━━━━━\u001b[0m \u001b[1m1s\u001b[0m 31ms/step - accuracy: 0.6875 - loss: 0.5995"
     ]
    },
    {
     "name": "stderr",
     "output_type": "stream",
     "text": [
      "2024-10-24 01:49:47.837226: I tensorflow/core/framework/local_rendezvous.cc:423] Local rendezvous recv item cancelled. Key hash: 2918327929679280915\n",
      "2024-10-24 01:49:47.837284: I tensorflow/core/framework/local_rendezvous.cc:423] Local rendezvous recv item cancelled. Key hash: 15736871328311997881\n"
     ]
    },
    {
     "name": "stdout",
     "output_type": "stream",
     "text": [
      "\u001b[1m39/39\u001b[0m \u001b[32m━━━━━━━━━━━━━━━━━━━━\u001b[0m\u001b[37m\u001b[0m \u001b[1m0s\u001b[0m 6ms/step - accuracy: 0.6875 - loss: 0.5995 - val_accuracy: 0.6296 - val_loss: 1.0865\n",
      "Epoch 225/400\n"
     ]
    },
    {
     "name": "stderr",
     "output_type": "stream",
     "text": [
      "2024-10-24 01:49:48.068865: I tensorflow/core/framework/local_rendezvous.cc:423] Local rendezvous recv item cancelled. Key hash: 2918327929679280915\n",
      "2024-10-24 01:49:48.068921: I tensorflow/core/framework/local_rendezvous.cc:423] Local rendezvous recv item cancelled. Key hash: 15736871328311997881\n"
     ]
    },
    {
     "name": "stdout",
     "output_type": "stream",
     "text": [
      "\u001b[1m39/39\u001b[0m \u001b[32m━━━━━━━━━━━━━━━━━━━━\u001b[0m\u001b[37m\u001b[0m \u001b[1m14s\u001b[0m 353ms/step - accuracy: 0.8013 - loss: 0.4666 - val_accuracy: 0.6319 - val_loss: 0.8952\n",
      "Epoch 226/400\n",
      "\u001b[1m 1/39\u001b[0m \u001b[37m━━━━━━━━━━━━━━━━━━━━\u001b[0m \u001b[1m0s\u001b[0m 20ms/step - accuracy: 0.8824 - loss: 0.3955"
     ]
    },
    {
     "name": "stderr",
     "output_type": "stream",
     "text": [
      "2024-10-24 01:50:01.860171: I tensorflow/core/framework/local_rendezvous.cc:423] Local rendezvous recv item cancelled. Key hash: 2918327929679280915\n",
      "2024-10-24 01:50:01.860246: I tensorflow/core/framework/local_rendezvous.cc:423] Local rendezvous recv item cancelled. Key hash: 15736871328311997881\n"
     ]
    },
    {
     "name": "stdout",
     "output_type": "stream",
     "text": [
      "\u001b[1m39/39\u001b[0m \u001b[32m━━━━━━━━━━━━━━━━━━━━\u001b[0m\u001b[37m\u001b[0m \u001b[1m0s\u001b[0m 6ms/step - accuracy: 0.8824 - loss: 0.3955 - val_accuracy: 0.6667 - val_loss: 1.0426\n",
      "Epoch 227/400\n"
     ]
    },
    {
     "name": "stderr",
     "output_type": "stream",
     "text": [
      "2024-10-24 01:50:02.084717: I tensorflow/core/framework/local_rendezvous.cc:423] Local rendezvous recv item cancelled. Key hash: 2918327929679280915\n",
      "2024-10-24 01:50:02.084789: I tensorflow/core/framework/local_rendezvous.cc:423] Local rendezvous recv item cancelled. Key hash: 15736871328311997881\n"
     ]
    },
    {
     "name": "stdout",
     "output_type": "stream",
     "text": [
      "\u001b[1m39/39\u001b[0m \u001b[32m━━━━━━━━━━━━━━━━━━━━\u001b[0m\u001b[37m\u001b[0m \u001b[1m14s\u001b[0m 354ms/step - accuracy: 0.7647 - loss: 0.5319 - val_accuracy: 0.6215 - val_loss: 0.8547\n",
      "Epoch 228/400\n",
      "\u001b[1m 1/39\u001b[0m \u001b[37m━━━━━━━━━━━━━━━━━━━━\u001b[0m \u001b[1m1s\u001b[0m 33ms/step - accuracy: 0.9375 - loss: 0.2730"
     ]
    },
    {
     "name": "stderr",
     "output_type": "stream",
     "text": [
      "2024-10-24 01:50:15.796001: I tensorflow/core/framework/local_rendezvous.cc:423] Local rendezvous recv item cancelled. Key hash: 2918327929679280915\n",
      "2024-10-24 01:50:15.796070: I tensorflow/core/framework/local_rendezvous.cc:423] Local rendezvous recv item cancelled. Key hash: 15736871328311997881\n"
     ]
    },
    {
     "name": "stdout",
     "output_type": "stream",
     "text": [
      "\u001b[1m39/39\u001b[0m \u001b[32m━━━━━━━━━━━━━━━━━━━━\u001b[0m\u001b[37m\u001b[0m \u001b[1m0s\u001b[0m 6ms/step - accuracy: 0.9375 - loss: 0.2730 - val_accuracy: 0.6667 - val_loss: 1.0414\n",
      "Epoch 229/400\n"
     ]
    },
    {
     "name": "stderr",
     "output_type": "stream",
     "text": [
      "2024-10-24 01:50:16.024949: I tensorflow/core/framework/local_rendezvous.cc:423] Local rendezvous recv item cancelled. Key hash: 2918327929679280915\n",
      "2024-10-24 01:50:16.025016: I tensorflow/core/framework/local_rendezvous.cc:423] Local rendezvous recv item cancelled. Key hash: 15736871328311997881\n"
     ]
    },
    {
     "name": "stdout",
     "output_type": "stream",
     "text": [
      "\u001b[1m39/39\u001b[0m \u001b[32m━━━━━━━━━━━━━━━━━━━━\u001b[0m\u001b[37m\u001b[0m \u001b[1m14s\u001b[0m 347ms/step - accuracy: 0.7611 - loss: 0.5904 - val_accuracy: 0.6354 - val_loss: 0.8737\n",
      "Epoch 230/400\n",
      "\u001b[1m39/39\u001b[0m \u001b[32m━━━━━━━━━━━━━━━━━━━━\u001b[0m\u001b[37m\u001b[0m \u001b[1m0s\u001b[0m 7ms/step - accuracy: 0.8125 - loss: 0.5612 - val_accuracy: 0.6667 - val_loss: 0.9344\n",
      "Epoch 231/400\n"
     ]
    },
    {
     "name": "stderr",
     "output_type": "stream",
     "text": [
      "2024-10-24 01:50:29.839515: I tensorflow/core/framework/local_rendezvous.cc:423] Local rendezvous recv item cancelled. Key hash: 2918327929679280915\n",
      "2024-10-24 01:50:29.839570: I tensorflow/core/framework/local_rendezvous.cc:423] Local rendezvous recv item cancelled. Key hash: 15736871328311997881\n"
     ]
    },
    {
     "name": "stdout",
     "output_type": "stream",
     "text": [
      "\u001b[1m39/39\u001b[0m \u001b[32m━━━━━━━━━━━━━━━━━━━━\u001b[0m\u001b[37m\u001b[0m \u001b[1m14s\u001b[0m 351ms/step - accuracy: 0.7885 - loss: 0.5120 - val_accuracy: 0.6424 - val_loss: 0.8914\n",
      "Epoch 232/400\n",
      "\u001b[1m 1/39\u001b[0m \u001b[37m━━━━━━━━━━━━━━━━━━━━\u001b[0m \u001b[1m1s\u001b[0m 45ms/step - accuracy: 0.7500 - loss: 0.6330"
     ]
    },
    {
     "name": "stderr",
     "output_type": "stream",
     "text": [
      "2024-10-24 01:50:43.553774: I tensorflow/core/framework/local_rendezvous.cc:423] Local rendezvous recv item cancelled. Key hash: 2918327929679280915\n",
      "2024-10-24 01:50:43.553882: I tensorflow/core/framework/local_rendezvous.cc:423] Local rendezvous recv item cancelled. Key hash: 15736871328311997881\n"
     ]
    },
    {
     "name": "stdout",
     "output_type": "stream",
     "text": [
      "\u001b[1m39/39\u001b[0m \u001b[32m━━━━━━━━━━━━━━━━━━━━\u001b[0m\u001b[37m\u001b[0m \u001b[1m0s\u001b[0m 6ms/step - accuracy: 0.7500 - loss: 0.6330 - val_accuracy: 0.5926 - val_loss: 0.9316\n",
      "Epoch 233/400\n"
     ]
    },
    {
     "name": "stderr",
     "output_type": "stream",
     "text": [
      "2024-10-24 01:50:43.778590: I tensorflow/core/framework/local_rendezvous.cc:423] Local rendezvous recv item cancelled. Key hash: 2918327929679280915\n",
      "2024-10-24 01:50:43.778688: I tensorflow/core/framework/local_rendezvous.cc:423] Local rendezvous recv item cancelled. Key hash: 15736871328311997881\n"
     ]
    },
    {
     "name": "stdout",
     "output_type": "stream",
     "text": [
      "\u001b[1m39/39\u001b[0m \u001b[32m━━━━━━━━━━━━━━━━━━━━\u001b[0m\u001b[37m\u001b[0m \u001b[1m14s\u001b[0m 348ms/step - accuracy: 0.7602 - loss: 0.5409 - val_accuracy: 0.6319 - val_loss: 0.9076\n",
      "Epoch 234/400\n",
      "\u001b[1m 1/39\u001b[0m \u001b[37m━━━━━━━━━━━━━━━━━━━━\u001b[0m \u001b[1m1s\u001b[0m 31ms/step - accuracy: 0.8438 - loss: 0.4780"
     ]
    },
    {
     "name": "stderr",
     "output_type": "stream",
     "text": [
      "2024-10-24 01:50:57.407906: I tensorflow/core/framework/local_rendezvous.cc:423] Local rendezvous recv item cancelled. Key hash: 2918327929679280915\n",
      "2024-10-24 01:50:57.407984: I tensorflow/core/framework/local_rendezvous.cc:423] Local rendezvous recv item cancelled. Key hash: 15736871328311997881\n"
     ]
    },
    {
     "name": "stdout",
     "output_type": "stream",
     "text": [
      "\u001b[1m39/39\u001b[0m \u001b[32m━━━━━━━━━━━━━━━━━━━━\u001b[0m\u001b[37m\u001b[0m \u001b[1m0s\u001b[0m 7ms/step - accuracy: 0.8438 - loss: 0.4780 - val_accuracy: 0.5185 - val_loss: 0.8030\n",
      "Epoch 235/400\n"
     ]
    },
    {
     "name": "stderr",
     "output_type": "stream",
     "text": [
      "2024-10-24 01:50:57.662570: I tensorflow/core/framework/local_rendezvous.cc:423] Local rendezvous recv item cancelled. Key hash: 2918327929679280915\n",
      "2024-10-24 01:50:57.662631: I tensorflow/core/framework/local_rendezvous.cc:423] Local rendezvous recv item cancelled. Key hash: 15736871328311997881\n"
     ]
    },
    {
     "name": "stdout",
     "output_type": "stream",
     "text": [
      "\u001b[1m39/39\u001b[0m \u001b[32m━━━━━━━━━━━━━━━━━━━━\u001b[0m\u001b[37m\u001b[0m \u001b[1m14s\u001b[0m 349ms/step - accuracy: 0.7820 - loss: 0.5121 - val_accuracy: 0.5833 - val_loss: 0.9392\n",
      "Epoch 236/400\n",
      "\u001b[1m 1/39\u001b[0m \u001b[37m━━━━━━━━━━━━━━━━━━━━\u001b[0m \u001b[1m1s\u001b[0m 31ms/step - accuracy: 0.8750 - loss: 0.4636"
     ]
    },
    {
     "name": "stderr",
     "output_type": "stream",
     "text": [
      "2024-10-24 01:51:11.315175: I tensorflow/core/framework/local_rendezvous.cc:423] Local rendezvous recv item cancelled. Key hash: 2918327929679280915\n",
      "2024-10-24 01:51:11.315235: I tensorflow/core/framework/local_rendezvous.cc:423] Local rendezvous recv item cancelled. Key hash: 15736871328311997881\n"
     ]
    },
    {
     "name": "stdout",
     "output_type": "stream",
     "text": [
      "\u001b[1m39/39\u001b[0m \u001b[32m━━━━━━━━━━━━━━━━━━━━\u001b[0m\u001b[37m\u001b[0m \u001b[1m0s\u001b[0m 7ms/step - accuracy: 0.8750 - loss: 0.4636 - val_accuracy: 0.5926 - val_loss: 0.9230\n",
      "Epoch 237/400\n"
     ]
    },
    {
     "name": "stderr",
     "output_type": "stream",
     "text": [
      "2024-10-24 01:51:11.583243: I tensorflow/core/framework/local_rendezvous.cc:423] Local rendezvous recv item cancelled. Key hash: 2918327929679280915\n"
     ]
    },
    {
     "name": "stdout",
     "output_type": "stream",
     "text": [
      "\u001b[1m39/39\u001b[0m \u001b[32m━━━━━━━━━━━━━━━━━━━━\u001b[0m\u001b[37m\u001b[0m \u001b[1m14s\u001b[0m 351ms/step - accuracy: 0.7974 - loss: 0.4977 - val_accuracy: 0.6632 - val_loss: 0.8281\n",
      "Epoch 238/400\n",
      "\u001b[1m39/39\u001b[0m \u001b[32m━━━━━━━━━━━━━━━━━━━━\u001b[0m\u001b[37m\u001b[0m \u001b[1m0s\u001b[0m 7ms/step - accuracy: 0.8750 - loss: 0.3827 - val_accuracy: 0.4815 - val_loss: 1.2613\n",
      "Epoch 239/400\n",
      "\u001b[1m39/39\u001b[0m \u001b[32m━━━━━━━━━━━━━━━━━━━━\u001b[0m\u001b[37m\u001b[0m \u001b[1m14s\u001b[0m 350ms/step - accuracy: 0.7954 - loss: 0.5061 - val_accuracy: 0.6562 - val_loss: 0.8295\n",
      "Epoch 240/400\n",
      "\u001b[1m 1/39\u001b[0m \u001b[37m━━━━━━━━━━━━━━━━━━━━\u001b[0m \u001b[1m1s\u001b[0m 32ms/step - accuracy: 0.8750 - loss: 0.3932"
     ]
    },
    {
     "name": "stderr",
     "output_type": "stream",
     "text": [
      "2024-10-24 01:51:39.199840: I tensorflow/core/framework/local_rendezvous.cc:423] Local rendezvous recv item cancelled. Key hash: 2918327929679280915\n"
     ]
    },
    {
     "name": "stdout",
     "output_type": "stream",
     "text": [
      "\u001b[1m39/39\u001b[0m \u001b[32m━━━━━━━━━━━━━━━━━━━━\u001b[0m\u001b[37m\u001b[0m \u001b[1m0s\u001b[0m 9ms/step - accuracy: 0.8750 - loss: 0.3932 - val_accuracy: 0.6667 - val_loss: 1.4190\n",
      "Epoch 241/400\n",
      "\u001b[1m39/39\u001b[0m \u001b[32m━━━━━━━━━━━━━━━━━━━━\u001b[0m\u001b[37m\u001b[0m \u001b[1m13s\u001b[0m 345ms/step - accuracy: 0.7865 - loss: 0.5023 - val_accuracy: 0.6285 - val_loss: 0.9332\n",
      "Epoch 242/400\n",
      "\u001b[1m 1/39\u001b[0m \u001b[37m━━━━━━━━━━━━━━━━━━━━\u001b[0m \u001b[1m1s\u001b[0m 32ms/step - accuracy: 0.6875 - loss: 0.5105"
     ]
    },
    {
     "name": "stderr",
     "output_type": "stream",
     "text": [
      "2024-10-24 01:51:53.017954: I tensorflow/core/framework/local_rendezvous.cc:423] Local rendezvous recv item cancelled. Key hash: 2918327929679280915\n"
     ]
    },
    {
     "name": "stdout",
     "output_type": "stream",
     "text": [
      "\u001b[1m39/39\u001b[0m \u001b[32m━━━━━━━━━━━━━━━━━━━━\u001b[0m\u001b[37m\u001b[0m \u001b[1m0s\u001b[0m 5ms/step - accuracy: 0.6875 - loss: 0.5105 - val_accuracy: 0.5926 - val_loss: 0.9650\n",
      "Epoch 243/400\n"
     ]
    },
    {
     "name": "stderr",
     "output_type": "stream",
     "text": [
      "2024-10-24 01:51:53.224773: I tensorflow/core/framework/local_rendezvous.cc:423] Local rendezvous recv item cancelled. Key hash: 2918327929679280915\n",
      "2024-10-24 01:51:53.224823: I tensorflow/core/framework/local_rendezvous.cc:423] Local rendezvous recv item cancelled. Key hash: 15736871328311997881\n"
     ]
    },
    {
     "name": "stdout",
     "output_type": "stream",
     "text": [
      "\u001b[1m39/39\u001b[0m \u001b[32m━━━━━━━━━━━━━━━━━━━━\u001b[0m\u001b[37m\u001b[0m \u001b[1m14s\u001b[0m 354ms/step - accuracy: 0.7981 - loss: 0.4748 - val_accuracy: 0.6076 - val_loss: 0.9369\n",
      "Epoch 244/400\n",
      "\u001b[1m 1/39\u001b[0m \u001b[37m━━━━━━━━━━━━━━━━━━━━\u001b[0m \u001b[1m1s\u001b[0m 37ms/step - accuracy: 0.8750 - loss: 0.3927"
     ]
    },
    {
     "name": "stderr",
     "output_type": "stream",
     "text": [
      "2024-10-24 01:52:07.074982: I tensorflow/core/framework/local_rendezvous.cc:423] Local rendezvous recv item cancelled. Key hash: 2918327929679280915\n",
      "2024-10-24 01:52:07.075043: I tensorflow/core/framework/local_rendezvous.cc:423] Local rendezvous recv item cancelled. Key hash: 15736871328311997881\n"
     ]
    },
    {
     "name": "stdout",
     "output_type": "stream",
     "text": [
      "\u001b[1m39/39\u001b[0m \u001b[32m━━━━━━━━━━━━━━━━━━━━\u001b[0m\u001b[37m\u001b[0m \u001b[1m0s\u001b[0m 6ms/step - accuracy: 0.8750 - loss: 0.3927 - val_accuracy: 0.7407 - val_loss: 0.7842\n",
      "Epoch 245/400\n"
     ]
    },
    {
     "name": "stderr",
     "output_type": "stream",
     "text": [
      "2024-10-24 01:52:07.304561: I tensorflow/core/framework/local_rendezvous.cc:423] Local rendezvous recv item cancelled. Key hash: 2918327929679280915\n",
      "2024-10-24 01:52:07.304629: I tensorflow/core/framework/local_rendezvous.cc:423] Local rendezvous recv item cancelled. Key hash: 15736871328311997881\n"
     ]
    },
    {
     "name": "stdout",
     "output_type": "stream",
     "text": [
      "\u001b[1m39/39\u001b[0m \u001b[32m━━━━━━━━━━━━━━━━━━━━\u001b[0m\u001b[37m\u001b[0m \u001b[1m14s\u001b[0m 348ms/step - accuracy: 0.7607 - loss: 0.5477 - val_accuracy: 0.6875 - val_loss: 0.8641\n",
      "Epoch 246/400\n",
      "\u001b[1m 1/39\u001b[0m \u001b[37m━━━━━━━━━━━━━━━━━━━━\u001b[0m \u001b[1m1s\u001b[0m 33ms/step - accuracy: 0.7812 - loss: 0.5475"
     ]
    },
    {
     "name": "stderr",
     "output_type": "stream",
     "text": [
      "2024-10-24 01:52:20.904570: I tensorflow/core/framework/local_rendezvous.cc:423] Local rendezvous recv item cancelled. Key hash: 2918327929679280915\n"
     ]
    },
    {
     "name": "stdout",
     "output_type": "stream",
     "text": [
      "\u001b[1m39/39\u001b[0m \u001b[32m━━━━━━━━━━━━━━━━━━━━\u001b[0m\u001b[37m\u001b[0m \u001b[1m0s\u001b[0m 6ms/step - accuracy: 0.7812 - loss: 0.5475 - val_accuracy: 0.6667 - val_loss: 0.8330\n",
      "Epoch 247/400\n"
     ]
    },
    {
     "name": "stderr",
     "output_type": "stream",
     "text": [
      "2024-10-24 01:52:21.133846: I tensorflow/core/framework/local_rendezvous.cc:423] Local rendezvous recv item cancelled. Key hash: 2918327929679280915\n",
      "2024-10-24 01:52:21.133882: I tensorflow/core/framework/local_rendezvous.cc:423] Local rendezvous recv item cancelled. Key hash: 15736871328311997881\n"
     ]
    },
    {
     "name": "stdout",
     "output_type": "stream",
     "text": [
      "\u001b[1m39/39\u001b[0m \u001b[32m━━━━━━━━━━━━━━━━━━━━\u001b[0m\u001b[37m\u001b[0m \u001b[1m14s\u001b[0m 350ms/step - accuracy: 0.8022 - loss: 0.4865 - val_accuracy: 0.6667 - val_loss: 0.8329\n",
      "Epoch 248/400\n",
      "\u001b[1m 1/39\u001b[0m \u001b[37m━━━━━━━━━━━━━━━━━━━━\u001b[0m \u001b[1m1s\u001b[0m 30ms/step - accuracy: 0.8438 - loss: 0.4620"
     ]
    },
    {
     "name": "stderr",
     "output_type": "stream",
     "text": [
      "2024-10-24 01:52:34.797953: I tensorflow/core/framework/local_rendezvous.cc:423] Local rendezvous recv item cancelled. Key hash: 2918327929679280915\n",
      "2024-10-24 01:52:34.797995: I tensorflow/core/framework/local_rendezvous.cc:423] Local rendezvous recv item cancelled. Key hash: 15736871328311997881\n"
     ]
    },
    {
     "name": "stdout",
     "output_type": "stream",
     "text": [
      "\u001b[1m39/39\u001b[0m \u001b[32m━━━━━━━━━━━━━━━━━━━━\u001b[0m\u001b[37m\u001b[0m \u001b[1m0s\u001b[0m 5ms/step - accuracy: 0.8438 - loss: 0.4620 - val_accuracy: 0.5185 - val_loss: 1.4714\n",
      "Epoch 249/400\n"
     ]
    },
    {
     "name": "stderr",
     "output_type": "stream",
     "text": [
      "2024-10-24 01:52:35.010642: I tensorflow/core/framework/local_rendezvous.cc:423] Local rendezvous recv item cancelled. Key hash: 2918327929679280915\n"
     ]
    },
    {
     "name": "stdout",
     "output_type": "stream",
     "text": [
      "\u001b[1m39/39\u001b[0m \u001b[32m━━━━━━━━━━━━━━━━━━━━\u001b[0m\u001b[37m\u001b[0m \u001b[1m14s\u001b[0m 354ms/step - accuracy: 0.7926 - loss: 0.5145 - val_accuracy: 0.6840 - val_loss: 0.8204\n",
      "Epoch 250/400\n",
      "\u001b[1m 1/39\u001b[0m \u001b[37m━━━━━━━━━━━━━━━━━━━━\u001b[0m \u001b[1m1s\u001b[0m 32ms/step - accuracy: 0.9375 - loss: 0.3779"
     ]
    },
    {
     "name": "stderr",
     "output_type": "stream",
     "text": [
      "2024-10-24 01:52:48.828860: I tensorflow/core/framework/local_rendezvous.cc:423] Local rendezvous recv item cancelled. Key hash: 2918327929679280915\n",
      "2024-10-24 01:52:48.828916: I tensorflow/core/framework/local_rendezvous.cc:423] Local rendezvous recv item cancelled. Key hash: 15736871328311997881\n"
     ]
    },
    {
     "name": "stdout",
     "output_type": "stream",
     "text": [
      "\u001b[1m39/39\u001b[0m \u001b[32m━━━━━━━━━━━━━━━━━━━━\u001b[0m\u001b[37m\u001b[0m \u001b[1m0s\u001b[0m 8ms/step - accuracy: 0.9375 - loss: 0.3779 - val_accuracy: 0.4444 - val_loss: 1.2239\n",
      "Epoch 251/400\n",
      "\u001b[1m39/39\u001b[0m \u001b[32m━━━━━━━━━━━━━━━━━━━━\u001b[0m\u001b[37m\u001b[0m \u001b[1m14s\u001b[0m 346ms/step - accuracy: 0.7866 - loss: 0.5117 - val_accuracy: 0.6319 - val_loss: 0.8643\n",
      "Epoch 252/400\n",
      "\u001b[1m39/39\u001b[0m \u001b[32m━━━━━━━━━━━━━━━━━━━━\u001b[0m\u001b[37m\u001b[0m \u001b[1m0s\u001b[0m 6ms/step - accuracy: 0.8125 - loss: 0.5963 - val_accuracy: 0.7407 - val_loss: 0.7181\n",
      "Epoch 253/400\n"
     ]
    },
    {
     "name": "stderr",
     "output_type": "stream",
     "text": [
      "2024-10-24 01:53:02.918575: I tensorflow/core/framework/local_rendezvous.cc:423] Local rendezvous recv item cancelled. Key hash: 2918327929679280915\n",
      "2024-10-24 01:53:02.918624: I tensorflow/core/framework/local_rendezvous.cc:423] Local rendezvous recv item cancelled. Key hash: 15736871328311997881\n"
     ]
    },
    {
     "name": "stdout",
     "output_type": "stream",
     "text": [
      "\u001b[1m39/39\u001b[0m \u001b[32m━━━━━━━━━━━━━━━━━━━━\u001b[0m\u001b[37m\u001b[0m \u001b[1m14s\u001b[0m 351ms/step - accuracy: 0.7623 - loss: 0.5453 - val_accuracy: 0.6458 - val_loss: 0.8675\n",
      "Epoch 254/400\n",
      "\u001b[1m 1/39\u001b[0m \u001b[37m━━━━━━━━━━━━━━━━━━━━\u001b[0m \u001b[1m1s\u001b[0m 31ms/step - accuracy: 0.6875 - loss: 0.7058"
     ]
    },
    {
     "name": "stderr",
     "output_type": "stream",
     "text": [
      "2024-10-24 01:53:16.626421: I tensorflow/core/framework/local_rendezvous.cc:423] Local rendezvous recv item cancelled. Key hash: 2918327929679280915\n",
      "2024-10-24 01:53:16.626474: I tensorflow/core/framework/local_rendezvous.cc:423] Local rendezvous recv item cancelled. Key hash: 15736871328311997881\n"
     ]
    },
    {
     "name": "stdout",
     "output_type": "stream",
     "text": [
      "\u001b[1m39/39\u001b[0m \u001b[32m━━━━━━━━━━━━━━━━━━━━\u001b[0m\u001b[37m\u001b[0m \u001b[1m0s\u001b[0m 7ms/step - accuracy: 0.6875 - loss: 0.7058 - val_accuracy: 0.7037 - val_loss: 0.8471\n",
      "Epoch 255/400\n"
     ]
    },
    {
     "name": "stderr",
     "output_type": "stream",
     "text": [
      "2024-10-24 01:53:16.890400: I tensorflow/core/framework/local_rendezvous.cc:423] Local rendezvous recv item cancelled. Key hash: 2918327929679280915\n"
     ]
    },
    {
     "name": "stdout",
     "output_type": "stream",
     "text": [
      "\u001b[1m39/39\u001b[0m \u001b[32m━━━━━━━━━━━━━━━━━━━━\u001b[0m\u001b[37m\u001b[0m \u001b[1m14s\u001b[0m 353ms/step - accuracy: 0.8001 - loss: 0.4987 - val_accuracy: 0.6562 - val_loss: 0.8705\n",
      "Epoch 256/400\n",
      "\u001b[1m 1/39\u001b[0m \u001b[37m━━━━━━━━━━━━━━━━━━━━\u001b[0m \u001b[1m1s\u001b[0m 45ms/step - accuracy: 0.9062 - loss: 0.2901"
     ]
    },
    {
     "name": "stderr",
     "output_type": "stream",
     "text": [
      "2024-10-24 01:53:30.678190: I tensorflow/core/framework/local_rendezvous.cc:423] Local rendezvous recv item cancelled. Key hash: 2918327929679280915\n",
      "2024-10-24 01:53:30.678246: I tensorflow/core/framework/local_rendezvous.cc:423] Local rendezvous recv item cancelled. Key hash: 15736871328311997881\n",
      "2024-10-24 01:53:30.872724: I tensorflow/core/framework/local_rendezvous.cc:423] Local rendezvous recv item cancelled. Key hash: 2918327929679280915\n",
      "2024-10-24 01:53:30.872775: I tensorflow/core/framework/local_rendezvous.cc:423] Local rendezvous recv item cancelled. Key hash: 15736871328311997881\n"
     ]
    },
    {
     "name": "stdout",
     "output_type": "stream",
     "text": [
      "\u001b[1m39/39\u001b[0m \u001b[32m━━━━━━━━━━━━━━━━━━━━\u001b[0m\u001b[37m\u001b[0m \u001b[1m0s\u001b[0m 5ms/step - accuracy: 0.9062 - loss: 0.2901 - val_accuracy: 0.5556 - val_loss: 1.2388\n",
      "Epoch 257/400\n",
      "\u001b[1m39/39\u001b[0m \u001b[32m━━━━━━━━━━━━━━━━━━━━\u001b[0m\u001b[37m\u001b[0m \u001b[1m14s\u001b[0m 347ms/step - accuracy: 0.7945 - loss: 0.5310 - val_accuracy: 0.6979 - val_loss: 0.8268\n",
      "Epoch 258/400\n",
      "\u001b[1m 1/39\u001b[0m \u001b[37m━━━━━━━━━━━━━━━━━━━━\u001b[0m \u001b[1m1s\u001b[0m 31ms/step - accuracy: 0.6875 - loss: 0.6457"
     ]
    },
    {
     "name": "stderr",
     "output_type": "stream",
     "text": [
      "2024-10-24 01:53:44.436750: I tensorflow/core/framework/local_rendezvous.cc:423] Local rendezvous recv item cancelled. Key hash: 2918327929679280915\n",
      "2024-10-24 01:53:44.436808: I tensorflow/core/framework/local_rendezvous.cc:423] Local rendezvous recv item cancelled. Key hash: 15736871328311997881\n"
     ]
    },
    {
     "name": "stdout",
     "output_type": "stream",
     "text": [
      "\u001b[1m39/39\u001b[0m \u001b[32m━━━━━━━━━━━━━━━━━━━━\u001b[0m\u001b[37m\u001b[0m \u001b[1m0s\u001b[0m 6ms/step - accuracy: 0.6875 - loss: 0.6457 - val_accuracy: 0.5926 - val_loss: 0.9023\n",
      "Epoch 259/400\n"
     ]
    },
    {
     "name": "stderr",
     "output_type": "stream",
     "text": [
      "2024-10-24 01:53:44.652876: I tensorflow/core/framework/local_rendezvous.cc:423] Local rendezvous recv item cancelled. Key hash: 2918327929679280915\n",
      "2024-10-24 01:53:44.652987: I tensorflow/core/framework/local_rendezvous.cc:423] Local rendezvous recv item cancelled. Key hash: 15736871328311997881\n"
     ]
    },
    {
     "name": "stdout",
     "output_type": "stream",
     "text": [
      "\u001b[1m39/39\u001b[0m \u001b[32m━━━━━━━━━━━━━━━━━━━━\u001b[0m\u001b[37m\u001b[0m \u001b[1m14s\u001b[0m 348ms/step - accuracy: 0.8053 - loss: 0.4885 - val_accuracy: 0.6354 - val_loss: 0.8921\n",
      "Epoch 260/400\n",
      "\u001b[1m 1/39\u001b[0m \u001b[37m━━━━━━━━━━━━━━━━━━━━\u001b[0m \u001b[1m1s\u001b[0m 34ms/step - accuracy: 0.9062 - loss: 0.3455"
     ]
    },
    {
     "name": "stderr",
     "output_type": "stream",
     "text": [
      "2024-10-24 01:53:58.258534: I tensorflow/core/framework/local_rendezvous.cc:423] Local rendezvous recv item cancelled. Key hash: 2918327929679280915\n",
      "2024-10-24 01:53:58.258590: I tensorflow/core/framework/local_rendezvous.cc:423] Local rendezvous recv item cancelled. Key hash: 15736871328311997881\n"
     ]
    },
    {
     "name": "stdout",
     "output_type": "stream",
     "text": [
      "\u001b[1m39/39\u001b[0m \u001b[32m━━━━━━━━━━━━━━━━━━━━\u001b[0m\u001b[37m\u001b[0m \u001b[1m0s\u001b[0m 6ms/step - accuracy: 0.9062 - loss: 0.3455 - val_accuracy: 0.6667 - val_loss: 0.9636\n",
      "Epoch 261/400\n"
     ]
    },
    {
     "name": "stderr",
     "output_type": "stream",
     "text": [
      "2024-10-24 01:53:58.496422: I tensorflow/core/framework/local_rendezvous.cc:423] Local rendezvous recv item cancelled. Key hash: 2918327929679280915\n",
      "2024-10-24 01:53:58.496469: I tensorflow/core/framework/local_rendezvous.cc:423] Local rendezvous recv item cancelled. Key hash: 15736871328311997881\n"
     ]
    },
    {
     "name": "stdout",
     "output_type": "stream",
     "text": [
      "\u001b[1m39/39\u001b[0m \u001b[32m━━━━━━━━━━━━━━━━━━━━\u001b[0m\u001b[37m\u001b[0m \u001b[1m14s\u001b[0m 349ms/step - accuracy: 0.7787 - loss: 0.5189 - val_accuracy: 0.6042 - val_loss: 0.9256\n",
      "Epoch 262/400\n",
      "\u001b[1m 1/39\u001b[0m \u001b[37m━━━━━━━━━━━━━━━━━━━━\u001b[0m \u001b[1m1s\u001b[0m 33ms/step - accuracy: 0.9062 - loss: 0.4026"
     ]
    },
    {
     "name": "stderr",
     "output_type": "stream",
     "text": [
      "2024-10-24 01:54:12.176246: I tensorflow/core/framework/local_rendezvous.cc:423] Local rendezvous recv item cancelled. Key hash: 2918327929679280915\n",
      "2024-10-24 01:54:12.176306: I tensorflow/core/framework/local_rendezvous.cc:423] Local rendezvous recv item cancelled. Key hash: 15736871328311997881\n"
     ]
    },
    {
     "name": "stdout",
     "output_type": "stream",
     "text": [
      "\u001b[1m39/39\u001b[0m \u001b[32m━━━━━━━━━━━━━━━━━━━━\u001b[0m\u001b[37m\u001b[0m \u001b[1m0s\u001b[0m 6ms/step - accuracy: 0.9062 - loss: 0.4026 - val_accuracy: 0.7407 - val_loss: 0.8141\n",
      "Epoch 263/400\n",
      "\u001b[1m39/39\u001b[0m \u001b[32m━━━━━━━━━━━━━━━━━━━━\u001b[0m\u001b[37m\u001b[0m \u001b[1m14s\u001b[0m 356ms/step - accuracy: 0.7836 - loss: 0.5271 - val_accuracy: 0.6771 - val_loss: 0.8462\n",
      "Epoch 264/400\n",
      "\u001b[1m 1/39\u001b[0m \u001b[37m━━━━━━━━━━━━━━━━━━━━\u001b[0m \u001b[1m1s\u001b[0m 33ms/step - accuracy: 0.6562 - loss: 0.5872"
     ]
    },
    {
     "name": "stderr",
     "output_type": "stream",
     "text": [
      "2024-10-24 01:54:26.307574: I tensorflow/core/framework/local_rendezvous.cc:423] Local rendezvous recv item cancelled. Key hash: 2918327929679280915\n"
     ]
    },
    {
     "name": "stdout",
     "output_type": "stream",
     "text": [
      "\u001b[1m39/39\u001b[0m \u001b[32m━━━━━━━━━━━━━━━━━━━━\u001b[0m\u001b[37m\u001b[0m \u001b[1m0s\u001b[0m 6ms/step - accuracy: 0.6562 - loss: 0.5872 - val_accuracy: 0.5926 - val_loss: 0.9716\n",
      "Epoch 265/400\n"
     ]
    },
    {
     "name": "stderr",
     "output_type": "stream",
     "text": [
      "2024-10-24 01:54:26.543099: I tensorflow/core/framework/local_rendezvous.cc:423] Local rendezvous recv item cancelled. Key hash: 2918327929679280915\n"
     ]
    },
    {
     "name": "stdout",
     "output_type": "stream",
     "text": [
      "\u001b[1m39/39\u001b[0m \u001b[32m━━━━━━━━━━━━━━━━━━━━\u001b[0m\u001b[37m\u001b[0m \u001b[1m14s\u001b[0m 347ms/step - accuracy: 0.7948 - loss: 0.4942 - val_accuracy: 0.6528 - val_loss: 0.8523\n",
      "Epoch 266/400\n",
      "\u001b[1m 1/39\u001b[0m \u001b[37m━━━━━━━━━━━━━━━━━━━━\u001b[0m \u001b[1m1s\u001b[0m 32ms/step - accuracy: 0.7500 - loss: 0.5833"
     ]
    },
    {
     "name": "stderr",
     "output_type": "stream",
     "text": [
      "2024-10-24 01:54:40.113185: I tensorflow/core/framework/local_rendezvous.cc:423] Local rendezvous recv item cancelled. Key hash: 2918327929679280915\n"
     ]
    },
    {
     "name": "stdout",
     "output_type": "stream",
     "text": [
      "\u001b[1m39/39\u001b[0m \u001b[32m━━━━━━━━━━━━━━━━━━━━\u001b[0m\u001b[37m\u001b[0m \u001b[1m0s\u001b[0m 6ms/step - accuracy: 0.7500 - loss: 0.5833 - val_accuracy: 0.5926 - val_loss: 1.0269\n",
      "Epoch 267/400\n"
     ]
    },
    {
     "name": "stderr",
     "output_type": "stream",
     "text": [
      "2024-10-24 01:54:40.328791: I tensorflow/core/framework/local_rendezvous.cc:423] Local rendezvous recv item cancelled. Key hash: 2918327929679280915\n",
      "2024-10-24 01:54:40.328839: I tensorflow/core/framework/local_rendezvous.cc:423] Local rendezvous recv item cancelled. Key hash: 15736871328311997881\n"
     ]
    },
    {
     "name": "stdout",
     "output_type": "stream",
     "text": [
      "\u001b[1m39/39\u001b[0m \u001b[32m━━━━━━━━━━━━━━━━━━━━\u001b[0m\u001b[37m\u001b[0m \u001b[1m14s\u001b[0m 347ms/step - accuracy: 0.7928 - loss: 0.5225 - val_accuracy: 0.6875 - val_loss: 0.8388\n",
      "Epoch 268/400\n",
      "\u001b[1m 1/39\u001b[0m \u001b[37m━━━━━━━━━━━━━━━━━━━━\u001b[0m \u001b[1m1s\u001b[0m 33ms/step - accuracy: 0.8125 - loss: 0.4098"
     ]
    },
    {
     "name": "stderr",
     "output_type": "stream",
     "text": [
      "2024-10-24 01:54:53.895446: I tensorflow/core/framework/local_rendezvous.cc:423] Local rendezvous recv item cancelled. Key hash: 2918327929679280915\n",
      "2024-10-24 01:54:53.895508: I tensorflow/core/framework/local_rendezvous.cc:423] Local rendezvous recv item cancelled. Key hash: 15736871328311997881\n"
     ]
    },
    {
     "name": "stdout",
     "output_type": "stream",
     "text": [
      "\u001b[1m39/39\u001b[0m \u001b[32m━━━━━━━━━━━━━━━━━━━━\u001b[0m\u001b[37m\u001b[0m \u001b[1m0s\u001b[0m 6ms/step - accuracy: 0.8125 - loss: 0.4098 - val_accuracy: 0.4815 - val_loss: 1.1295\n",
      "Epoch 269/400\n"
     ]
    },
    {
     "name": "stderr",
     "output_type": "stream",
     "text": [
      "2024-10-24 01:54:54.120346: I tensorflow/core/framework/local_rendezvous.cc:423] Local rendezvous recv item cancelled. Key hash: 2918327929679280915\n",
      "2024-10-24 01:54:54.120399: I tensorflow/core/framework/local_rendezvous.cc:423] Local rendezvous recv item cancelled. Key hash: 15736871328311997881\n"
     ]
    },
    {
     "name": "stdout",
     "output_type": "stream",
     "text": [
      "\u001b[1m39/39\u001b[0m \u001b[32m━━━━━━━━━━━━━━━━━━━━\u001b[0m\u001b[37m\u001b[0m \u001b[1m14s\u001b[0m 360ms/step - accuracy: 0.8055 - loss: 0.5046 - val_accuracy: 0.6042 - val_loss: 0.9407\n",
      "Epoch 270/400\n",
      "\u001b[1m 1/39\u001b[0m \u001b[37m━━━━━━━━━━━━━━━━━━━━\u001b[0m \u001b[1m0s\u001b[0m 19ms/step - accuracy: 0.7059 - loss: 0.6269"
     ]
    },
    {
     "name": "stderr",
     "output_type": "stream",
     "text": [
      "2024-10-24 01:55:08.177952: I tensorflow/core/framework/local_rendezvous.cc:423] Local rendezvous recv item cancelled. Key hash: 2918327929679280915\n",
      "2024-10-24 01:55:08.178006: I tensorflow/core/framework/local_rendezvous.cc:423] Local rendezvous recv item cancelled. Key hash: 15736871328311997881\n"
     ]
    },
    {
     "name": "stdout",
     "output_type": "stream",
     "text": [
      "\u001b[1m39/39\u001b[0m \u001b[32m━━━━━━━━━━━━━━━━━━━━\u001b[0m\u001b[37m\u001b[0m \u001b[1m0s\u001b[0m 6ms/step - accuracy: 0.7059 - loss: 0.6269 - val_accuracy: 0.8148 - val_loss: 0.4974\n",
      "Epoch 271/400\n"
     ]
    },
    {
     "name": "stderr",
     "output_type": "stream",
     "text": [
      "2024-10-24 01:55:08.395897: I tensorflow/core/framework/local_rendezvous.cc:423] Local rendezvous recv item cancelled. Key hash: 2918327929679280915\n"
     ]
    },
    {
     "name": "stdout",
     "output_type": "stream",
     "text": [
      "\u001b[1m39/39\u001b[0m \u001b[32m━━━━━━━━━━━━━━━━━━━━\u001b[0m\u001b[37m\u001b[0m \u001b[1m14s\u001b[0m 347ms/step - accuracy: 0.7974 - loss: 0.4840 - val_accuracy: 0.6285 - val_loss: 0.8751\n",
      "Epoch 272/400\n",
      "\u001b[1m 1/39\u001b[0m \u001b[37m━━━━━━━━━━━━━━━━━━━━\u001b[0m \u001b[1m1s\u001b[0m 37ms/step - accuracy: 0.6875 - loss: 0.6803"
     ]
    },
    {
     "name": "stderr",
     "output_type": "stream",
     "text": [
      "2024-10-24 01:55:21.966522: I tensorflow/core/framework/local_rendezvous.cc:423] Local rendezvous recv item cancelled. Key hash: 2918327929679280915\n",
      "2024-10-24 01:55:21.966580: I tensorflow/core/framework/local_rendezvous.cc:423] Local rendezvous recv item cancelled. Key hash: 15736871328311997881\n"
     ]
    },
    {
     "name": "stdout",
     "output_type": "stream",
     "text": [
      "\u001b[1m39/39\u001b[0m \u001b[32m━━━━━━━━━━━━━━━━━━━━\u001b[0m\u001b[37m\u001b[0m \u001b[1m0s\u001b[0m 6ms/step - accuracy: 0.6875 - loss: 0.6803 - val_accuracy: 0.7407 - val_loss: 0.5324\n",
      "Epoch 273/400\n"
     ]
    },
    {
     "name": "stderr",
     "output_type": "stream",
     "text": [
      "2024-10-24 01:55:22.212411: I tensorflow/core/framework/local_rendezvous.cc:423] Local rendezvous recv item cancelled. Key hash: 2918327929679280915\n",
      "2024-10-24 01:55:22.212453: I tensorflow/core/framework/local_rendezvous.cc:423] Local rendezvous recv item cancelled. Key hash: 15736871328311997881\n"
     ]
    },
    {
     "name": "stdout",
     "output_type": "stream",
     "text": [
      "\u001b[1m39/39\u001b[0m \u001b[32m━━━━━━━━━━━━━━━━━━━━\u001b[0m\u001b[37m\u001b[0m \u001b[1m14s\u001b[0m 348ms/step - accuracy: 0.8126 - loss: 0.4631 - val_accuracy: 0.6389 - val_loss: 0.9292\n",
      "Epoch 274/400\n",
      "\u001b[1m 1/39\u001b[0m \u001b[37m━━━━━━━━━━━━━━━━━━━━\u001b[0m \u001b[1m1s\u001b[0m 33ms/step - accuracy: 0.6875 - loss: 0.6474"
     ]
    },
    {
     "name": "stderr",
     "output_type": "stream",
     "text": [
      "2024-10-24 01:55:35.836873: I tensorflow/core/framework/local_rendezvous.cc:423] Local rendezvous recv item cancelled. Key hash: 2918327929679280915\n"
     ]
    },
    {
     "name": "stdout",
     "output_type": "stream",
     "text": [
      "\u001b[1m39/39\u001b[0m \u001b[32m━━━━━━━━━━━━━━━━━━━━\u001b[0m\u001b[37m\u001b[0m \u001b[1m0s\u001b[0m 7ms/step - accuracy: 0.6875 - loss: 0.6474 - val_accuracy: 0.5556 - val_loss: 1.1171\n",
      "Epoch 275/400\n"
     ]
    },
    {
     "name": "stderr",
     "output_type": "stream",
     "text": [
      "2024-10-24 01:55:36.098832: I tensorflow/core/framework/local_rendezvous.cc:423] Local rendezvous recv item cancelled. Key hash: 2918327929679280915\n",
      "2024-10-24 01:55:36.098898: I tensorflow/core/framework/local_rendezvous.cc:423] Local rendezvous recv item cancelled. Key hash: 15736871328311997881\n"
     ]
    },
    {
     "name": "stdout",
     "output_type": "stream",
     "text": [
      "\u001b[1m39/39\u001b[0m \u001b[32m━━━━━━━━━━━━━━━━━━━━\u001b[0m\u001b[37m\u001b[0m \u001b[1m14s\u001b[0m 349ms/step - accuracy: 0.7894 - loss: 0.5070 - val_accuracy: 0.6771 - val_loss: 0.9306\n",
      "Epoch 276/400\n",
      "\u001b[1m 1/39\u001b[0m \u001b[37m━━━━━━━━━━━━━━━━━━━━\u001b[0m \u001b[1m1s\u001b[0m 35ms/step - accuracy: 0.7812 - loss: 0.5598"
     ]
    },
    {
     "name": "stderr",
     "output_type": "stream",
     "text": [
      "2024-10-24 01:55:49.752963: I tensorflow/core/framework/local_rendezvous.cc:423] Local rendezvous recv item cancelled. Key hash: 2918327929679280915\n",
      "2024-10-24 01:55:49.753022: I tensorflow/core/framework/local_rendezvous.cc:423] Local rendezvous recv item cancelled. Key hash: 15736871328311997881\n"
     ]
    },
    {
     "name": "stdout",
     "output_type": "stream",
     "text": [
      "\u001b[1m39/39\u001b[0m \u001b[32m━━━━━━━━━━━━━━━━━━━━\u001b[0m\u001b[37m\u001b[0m \u001b[1m0s\u001b[0m 6ms/step - accuracy: 0.7812 - loss: 0.5598 - val_accuracy: 0.5926 - val_loss: 0.9289\n",
      "Epoch 277/400\n",
      "\u001b[1m39/39\u001b[0m \u001b[32m━━━━━━━━━━━━━━━━━━━━\u001b[0m\u001b[37m\u001b[0m \u001b[1m13s\u001b[0m 345ms/step - accuracy: 0.8064 - loss: 0.4803 - val_accuracy: 0.6389 - val_loss: 0.8810\n",
      "Epoch 278/400\n",
      "\u001b[1m 1/39\u001b[0m \u001b[37m━━━━━━━━━━━━━━━━━━━━\u001b[0m \u001b[1m1s\u001b[0m 31ms/step - accuracy: 0.7188 - loss: 0.5320"
     ]
    },
    {
     "name": "stderr",
     "output_type": "stream",
     "text": [
      "2024-10-24 01:56:03.467379: I tensorflow/core/framework/local_rendezvous.cc:423] Local rendezvous recv item cancelled. Key hash: 2918327929679280915\n",
      "2024-10-24 01:56:03.467446: I tensorflow/core/framework/local_rendezvous.cc:423] Local rendezvous recv item cancelled. Key hash: 15736871328311997881\n"
     ]
    },
    {
     "name": "stdout",
     "output_type": "stream",
     "text": [
      "\u001b[1m39/39\u001b[0m \u001b[32m━━━━━━━━━━━━━━━━━━━━\u001b[0m\u001b[37m\u001b[0m \u001b[1m0s\u001b[0m 5ms/step - accuracy: 0.7188 - loss: 0.5320 - val_accuracy: 0.7778 - val_loss: 0.5663\n",
      "Epoch 279/400\n"
     ]
    },
    {
     "name": "stderr",
     "output_type": "stream",
     "text": [
      "2024-10-24 01:56:03.676568: I tensorflow/core/framework/local_rendezvous.cc:423] Local rendezvous recv item cancelled. Key hash: 2918327929679280915\n",
      "2024-10-24 01:56:03.676608: I tensorflow/core/framework/local_rendezvous.cc:423] Local rendezvous recv item cancelled. Key hash: 15736871328311997881\n"
     ]
    },
    {
     "name": "stdout",
     "output_type": "stream",
     "text": [
      "\u001b[1m39/39\u001b[0m \u001b[32m━━━━━━━━━━━━━━━━━━━━\u001b[0m\u001b[37m\u001b[0m \u001b[1m14s\u001b[0m 350ms/step - accuracy: 0.7555 - loss: 0.5522 - val_accuracy: 0.6632 - val_loss: 0.9153\n",
      "Epoch 280/400\n",
      "\u001b[1m 1/39\u001b[0m \u001b[37m━━━━━━━━━━━━━━━━━━━━\u001b[0m \u001b[1m1s\u001b[0m 36ms/step - accuracy: 0.7812 - loss: 0.4857"
     ]
    },
    {
     "name": "stderr",
     "output_type": "stream",
     "text": [
      "2024-10-24 01:56:17.365210: I tensorflow/core/framework/local_rendezvous.cc:423] Local rendezvous recv item cancelled. Key hash: 2918327929679280915\n"
     ]
    },
    {
     "name": "stdout",
     "output_type": "stream",
     "text": [
      "\u001b[1m39/39\u001b[0m \u001b[32m━━━━━━━━━━━━━━━━━━━━\u001b[0m\u001b[37m\u001b[0m \u001b[1m0s\u001b[0m 6ms/step - accuracy: 0.7812 - loss: 0.4857 - val_accuracy: 0.6667 - val_loss: 0.8150\n",
      "Epoch 281/400\n"
     ]
    },
    {
     "name": "stderr",
     "output_type": "stream",
     "text": [
      "2024-10-24 01:56:17.608187: I tensorflow/core/framework/local_rendezvous.cc:423] Local rendezvous recv item cancelled. Key hash: 2918327929679280915\n",
      "2024-10-24 01:56:17.608238: I tensorflow/core/framework/local_rendezvous.cc:423] Local rendezvous recv item cancelled. Key hash: 15736871328311997881\n"
     ]
    },
    {
     "name": "stdout",
     "output_type": "stream",
     "text": [
      "\u001b[1m39/39\u001b[0m \u001b[32m━━━━━━━━━━━━━━━━━━━━\u001b[0m\u001b[37m\u001b[0m \u001b[1m14s\u001b[0m 352ms/step - accuracy: 0.7843 - loss: 0.5175 - val_accuracy: 0.6632 - val_loss: 0.8687\n",
      "Epoch 282/400\n",
      "\u001b[1m 1/39\u001b[0m \u001b[37m━━━━━━━━━━━━━━━━━━━━\u001b[0m \u001b[1m1s\u001b[0m 31ms/step - accuracy: 0.7188 - loss: 0.6220"
     ]
    },
    {
     "name": "stderr",
     "output_type": "stream",
     "text": [
      "2024-10-24 01:56:31.347255: I tensorflow/core/framework/local_rendezvous.cc:423] Local rendezvous recv item cancelled. Key hash: 2918327929679280915\n",
      "2024-10-24 01:56:31.347314: I tensorflow/core/framework/local_rendezvous.cc:423] Local rendezvous recv item cancelled. Key hash: 15736871328311997881\n"
     ]
    },
    {
     "name": "stdout",
     "output_type": "stream",
     "text": [
      "\u001b[1m39/39\u001b[0m \u001b[32m━━━━━━━━━━━━━━━━━━━━\u001b[0m\u001b[37m\u001b[0m \u001b[1m0s\u001b[0m 9ms/step - accuracy: 0.7188 - loss: 0.6220 - val_accuracy: 0.4815 - val_loss: 1.2347\n",
      "Epoch 283/400\n"
     ]
    },
    {
     "name": "stderr",
     "output_type": "stream",
     "text": [
      "2024-10-24 01:56:31.693045: I tensorflow/core/framework/local_rendezvous.cc:423] Local rendezvous recv item cancelled. Key hash: 2918327929679280915\n",
      "2024-10-24 01:56:31.693090: I tensorflow/core/framework/local_rendezvous.cc:423] Local rendezvous recv item cancelled. Key hash: 15736871328311997881\n"
     ]
    },
    {
     "name": "stdout",
     "output_type": "stream",
     "text": [
      "\u001b[1m39/39\u001b[0m \u001b[32m━━━━━━━━━━━━━━━━━━━━\u001b[0m\u001b[37m\u001b[0m \u001b[1m14s\u001b[0m 347ms/step - accuracy: 0.7863 - loss: 0.5082 - val_accuracy: 0.6250 - val_loss: 0.8897\n",
      "Epoch 284/400\n",
      "\u001b[1m 1/39\u001b[0m \u001b[37m━━━━━━━━━━━━━━━━━━━━\u001b[0m \u001b[1m1s\u001b[0m 31ms/step - accuracy: 0.8125 - loss: 0.4167"
     ]
    },
    {
     "name": "stderr",
     "output_type": "stream",
     "text": [
      "2024-10-24 01:56:45.275253: I tensorflow/core/framework/local_rendezvous.cc:423] Local rendezvous recv item cancelled. Key hash: 2918327929679280915\n"
     ]
    },
    {
     "name": "stdout",
     "output_type": "stream",
     "text": [
      "\u001b[1m39/39\u001b[0m \u001b[32m━━━━━━━━━━━━━━━━━━━━\u001b[0m\u001b[37m\u001b[0m \u001b[1m0s\u001b[0m 7ms/step - accuracy: 0.8125 - loss: 0.4167 - val_accuracy: 0.6667 - val_loss: 0.9726\n",
      "Epoch 285/400\n"
     ]
    },
    {
     "name": "stderr",
     "output_type": "stream",
     "text": [
      "2024-10-24 01:56:45.538104: I tensorflow/core/framework/local_rendezvous.cc:423] Local rendezvous recv item cancelled. Key hash: 2918327929679280915\n",
      "2024-10-24 01:56:45.538147: I tensorflow/core/framework/local_rendezvous.cc:423] Local rendezvous recv item cancelled. Key hash: 15736871328311997881\n"
     ]
    },
    {
     "name": "stdout",
     "output_type": "stream",
     "text": [
      "\u001b[1m39/39\u001b[0m \u001b[32m━━━━━━━━━━━━━━━━━━━━\u001b[0m\u001b[37m\u001b[0m \u001b[1m14s\u001b[0m 351ms/step - accuracy: 0.8034 - loss: 0.5209 - val_accuracy: 0.6354 - val_loss: 0.8519\n",
      "Epoch 286/400\n",
      "\u001b[1m 1/39\u001b[0m \u001b[37m━━━━━━━━━━━━━━━━━━━━\u001b[0m \u001b[1m1s\u001b[0m 37ms/step - accuracy: 0.7500 - loss: 0.5314"
     ]
    },
    {
     "name": "stderr",
     "output_type": "stream",
     "text": [
      "2024-10-24 01:56:59.247992: I tensorflow/core/framework/local_rendezvous.cc:423] Local rendezvous recv item cancelled. Key hash: 2918327929679280915\n",
      "2024-10-24 01:56:59.248077: I tensorflow/core/framework/local_rendezvous.cc:423] Local rendezvous recv item cancelled. Key hash: 15736871328311997881\n"
     ]
    },
    {
     "name": "stdout",
     "output_type": "stream",
     "text": [
      "\u001b[1m39/39\u001b[0m \u001b[32m━━━━━━━━━━━━━━━━━━━━\u001b[0m\u001b[37m\u001b[0m \u001b[1m0s\u001b[0m 6ms/step - accuracy: 0.7500 - loss: 0.5314 - val_accuracy: 0.5556 - val_loss: 1.1206\n",
      "Epoch 287/400\n",
      "\u001b[1m39/39\u001b[0m \u001b[32m━━━━━━━━━━━━━━━━━━━━\u001b[0m\u001b[37m\u001b[0m \u001b[1m14s\u001b[0m 353ms/step - accuracy: 0.7963 - loss: 0.4893 - val_accuracy: 0.7257 - val_loss: 0.7577\n",
      "Epoch 288/400\n",
      "\u001b[1m 1/39\u001b[0m \u001b[37m━━━━━━━━━━━━━━━━━━━━\u001b[0m \u001b[1m1s\u001b[0m 31ms/step - accuracy: 0.9375 - loss: 0.4307"
     ]
    },
    {
     "name": "stderr",
     "output_type": "stream",
     "text": [
      "2024-10-24 01:57:13.248909: I tensorflow/core/framework/local_rendezvous.cc:423] Local rendezvous recv item cancelled. Key hash: 2918327929679280915\n",
      "2024-10-24 01:57:13.248959: I tensorflow/core/framework/local_rendezvous.cc:423] Local rendezvous recv item cancelled. Key hash: 15736871328311997881\n"
     ]
    },
    {
     "name": "stdout",
     "output_type": "stream",
     "text": [
      "\u001b[1m39/39\u001b[0m \u001b[32m━━━━━━━━━━━━━━━━━━━━\u001b[0m\u001b[37m\u001b[0m \u001b[1m0s\u001b[0m 6ms/step - accuracy: 0.9375 - loss: 0.4307 - val_accuracy: 0.5556 - val_loss: 1.3129\n",
      "Epoch 289/400\n"
     ]
    },
    {
     "name": "stderr",
     "output_type": "stream",
     "text": [
      "2024-10-24 01:57:13.476295: I tensorflow/core/framework/local_rendezvous.cc:423] Local rendezvous recv item cancelled. Key hash: 2918327929679280915\n",
      "2024-10-24 01:57:13.476350: I tensorflow/core/framework/local_rendezvous.cc:423] Local rendezvous recv item cancelled. Key hash: 15736871328311997881\n"
     ]
    },
    {
     "name": "stdout",
     "output_type": "stream",
     "text": [
      "\u001b[1m39/39\u001b[0m \u001b[32m━━━━━━━━━━━━━━━━━━━━\u001b[0m\u001b[37m\u001b[0m \u001b[1m14s\u001b[0m 350ms/step - accuracy: 0.7912 - loss: 0.4999 - val_accuracy: 0.6389 - val_loss: 0.9174\n",
      "Epoch 290/400\n",
      "\u001b[1m 1/39\u001b[0m \u001b[37m━━━━━━━━━━━━━━━━━━━━\u001b[0m \u001b[1m1s\u001b[0m 33ms/step - accuracy: 0.8125 - loss: 0.4927"
     ]
    },
    {
     "name": "stderr",
     "output_type": "stream",
     "text": [
      "2024-10-24 01:57:27.161848: I tensorflow/core/framework/local_rendezvous.cc:423] Local rendezvous recv item cancelled. Key hash: 2918327929679280915\n",
      "2024-10-24 01:57:27.161917: I tensorflow/core/framework/local_rendezvous.cc:423] Local rendezvous recv item cancelled. Key hash: 15736871328311997881\n"
     ]
    },
    {
     "name": "stdout",
     "output_type": "stream",
     "text": [
      "\u001b[1m39/39\u001b[0m \u001b[32m━━━━━━━━━━━━━━━━━━━━\u001b[0m\u001b[37m\u001b[0m \u001b[1m0s\u001b[0m 6ms/step - accuracy: 0.8125 - loss: 0.4927 - val_accuracy: 0.6296 - val_loss: 0.8895\n",
      "Epoch 291/400\n"
     ]
    },
    {
     "name": "stderr",
     "output_type": "stream",
     "text": [
      "2024-10-24 01:57:27.384832: I tensorflow/core/framework/local_rendezvous.cc:423] Local rendezvous recv item cancelled. Key hash: 2918327929679280915\n",
      "2024-10-24 01:57:27.384877: I tensorflow/core/framework/local_rendezvous.cc:423] Local rendezvous recv item cancelled. Key hash: 15736871328311997881\n"
     ]
    },
    {
     "name": "stdout",
     "output_type": "stream",
     "text": [
      "\u001b[1m39/39\u001b[0m \u001b[32m━━━━━━━━━━━━━━━━━━━━\u001b[0m\u001b[37m\u001b[0m \u001b[1m14s\u001b[0m 351ms/step - accuracy: 0.7830 - loss: 0.5127 - val_accuracy: 0.6806 - val_loss: 0.8937\n",
      "Epoch 292/400\n",
      "\u001b[1m 1/39\u001b[0m \u001b[37m━━━━━━━━━━━━━━━━━━━━\u001b[0m \u001b[1m1s\u001b[0m 32ms/step - accuracy: 0.9062 - loss: 0.4586"
     ]
    },
    {
     "name": "stderr",
     "output_type": "stream",
     "text": [
      "2024-10-24 01:57:41.112102: I tensorflow/core/framework/local_rendezvous.cc:423] Local rendezvous recv item cancelled. Key hash: 2918327929679280915\n",
      "2024-10-24 01:57:41.112209: I tensorflow/core/framework/local_rendezvous.cc:423] Local rendezvous recv item cancelled. Key hash: 15736871328311997881\n"
     ]
    },
    {
     "name": "stdout",
     "output_type": "stream",
     "text": [
      "\u001b[1m39/39\u001b[0m \u001b[32m━━━━━━━━━━━━━━━━━━━━\u001b[0m\u001b[37m\u001b[0m \u001b[1m0s\u001b[0m 6ms/step - accuracy: 0.9062 - loss: 0.4586 - val_accuracy: 0.6296 - val_loss: 1.0379\n",
      "Epoch 293/400\n"
     ]
    },
    {
     "name": "stderr",
     "output_type": "stream",
     "text": [
      "2024-10-24 01:57:41.355189: I tensorflow/core/framework/local_rendezvous.cc:423] Local rendezvous recv item cancelled. Key hash: 2918327929679280915\n",
      "2024-10-24 01:57:41.355233: I tensorflow/core/framework/local_rendezvous.cc:423] Local rendezvous recv item cancelled. Key hash: 15736871328311997881\n"
     ]
    },
    {
     "name": "stdout",
     "output_type": "stream",
     "text": [
      "\u001b[1m39/39\u001b[0m \u001b[32m━━━━━━━━━━━━━━━━━━━━\u001b[0m\u001b[37m\u001b[0m \u001b[1m14s\u001b[0m 350ms/step - accuracy: 0.8054 - loss: 0.4834 - val_accuracy: 0.6354 - val_loss: 0.9960\n",
      "Epoch 294/400\n",
      "\u001b[1m 1/39\u001b[0m \u001b[37m━━━━━━━━━━━━━━━━━━━━\u001b[0m \u001b[1m1s\u001b[0m 33ms/step - accuracy: 0.6875 - loss: 0.5962"
     ]
    },
    {
     "name": "stderr",
     "output_type": "stream",
     "text": [
      "2024-10-24 01:57:55.047342: I tensorflow/core/framework/local_rendezvous.cc:423] Local rendezvous recv item cancelled. Key hash: 2918327929679280915\n",
      "2024-10-24 01:57:55.047410: I tensorflow/core/framework/local_rendezvous.cc:423] Local rendezvous recv item cancelled. Key hash: 15736871328311997881\n"
     ]
    },
    {
     "name": "stdout",
     "output_type": "stream",
     "text": [
      "\u001b[1m39/39\u001b[0m \u001b[32m━━━━━━━━━━━━━━━━━━━━\u001b[0m\u001b[37m\u001b[0m \u001b[1m0s\u001b[0m 9ms/step - accuracy: 0.6875 - loss: 0.5962 - val_accuracy: 0.7778 - val_loss: 0.7897\n",
      "Epoch 295/400\n"
     ]
    },
    {
     "name": "stderr",
     "output_type": "stream",
     "text": [
      "2024-10-24 01:57:55.376474: I tensorflow/core/framework/local_rendezvous.cc:423] Local rendezvous recv item cancelled. Key hash: 2918327929679280915\n",
      "2024-10-24 01:57:55.376526: I tensorflow/core/framework/local_rendezvous.cc:423] Local rendezvous recv item cancelled. Key hash: 15736871328311997881\n"
     ]
    },
    {
     "name": "stdout",
     "output_type": "stream",
     "text": [
      "\u001b[1m39/39\u001b[0m \u001b[32m━━━━━━━━━━━━━━━━━━━━\u001b[0m\u001b[37m\u001b[0m \u001b[1m14s\u001b[0m 353ms/step - accuracy: 0.8009 - loss: 0.4807 - val_accuracy: 0.6840 - val_loss: 0.9016\n",
      "Epoch 296/400\n",
      "\u001b[1m 1/39\u001b[0m \u001b[37m━━━━━━━━━━━━━━━━━━━━\u001b[0m \u001b[1m1s\u001b[0m 35ms/step - accuracy: 0.7500 - loss: 0.5435"
     ]
    },
    {
     "name": "stderr",
     "output_type": "stream",
     "text": [
      "2024-10-24 01:58:09.191289: I tensorflow/core/framework/local_rendezvous.cc:423] Local rendezvous recv item cancelled. Key hash: 2918327929679280915\n",
      "2024-10-24 01:58:09.191356: I tensorflow/core/framework/local_rendezvous.cc:423] Local rendezvous recv item cancelled. Key hash: 15736871328311997881\n"
     ]
    },
    {
     "name": "stdout",
     "output_type": "stream",
     "text": [
      "\u001b[1m39/39\u001b[0m \u001b[32m━━━━━━━━━━━━━━━━━━━━\u001b[0m\u001b[37m\u001b[0m \u001b[1m0s\u001b[0m 6ms/step - accuracy: 0.7500 - loss: 0.5435 - val_accuracy: 0.5185 - val_loss: 1.0644\n",
      "Epoch 297/400\n"
     ]
    },
    {
     "name": "stderr",
     "output_type": "stream",
     "text": [
      "2024-10-24 01:58:09.431637: I tensorflow/core/framework/local_rendezvous.cc:423] Local rendezvous recv item cancelled. Key hash: 2918327929679280915\n",
      "2024-10-24 01:58:09.431684: I tensorflow/core/framework/local_rendezvous.cc:423] Local rendezvous recv item cancelled. Key hash: 15736871328311997881\n"
     ]
    },
    {
     "name": "stdout",
     "output_type": "stream",
     "text": [
      "\u001b[1m39/39\u001b[0m \u001b[32m━━━━━━━━━━━━━━━━━━━━\u001b[0m\u001b[37m\u001b[0m \u001b[1m14s\u001b[0m 355ms/step - accuracy: 0.7875 - loss: 0.5046 - val_accuracy: 0.6389 - val_loss: 0.9562\n",
      "Epoch 298/400\n",
      "\u001b[1m 1/39\u001b[0m \u001b[37m━━━━━━━━━━━━━━━━━━━━\u001b[0m \u001b[1m1s\u001b[0m 32ms/step - accuracy: 0.7812 - loss: 0.5342"
     ]
    },
    {
     "name": "stderr",
     "output_type": "stream",
     "text": [
      "2024-10-24 01:58:23.175824: I tensorflow/core/framework/local_rendezvous.cc:423] Local rendezvous recv item cancelled. Key hash: 2918327929679280915\n"
     ]
    },
    {
     "name": "stdout",
     "output_type": "stream",
     "text": [
      "\u001b[1m39/39\u001b[0m \u001b[32m━━━━━━━━━━━━━━━━━━━━\u001b[0m\u001b[37m\u001b[0m \u001b[1m0s\u001b[0m 7ms/step - accuracy: 0.7812 - loss: 0.5342 - val_accuracy: 0.6667 - val_loss: 0.6417\n",
      "Epoch 299/400\n"
     ]
    },
    {
     "name": "stderr",
     "output_type": "stream",
     "text": [
      "2024-10-24 01:58:23.442341: I tensorflow/core/framework/local_rendezvous.cc:423] Local rendezvous recv item cancelled. Key hash: 2918327929679280915\n"
     ]
    },
    {
     "name": "stdout",
     "output_type": "stream",
     "text": [
      "\u001b[1m39/39\u001b[0m \u001b[32m━━━━━━━━━━━━━━━━━━━━\u001b[0m\u001b[37m\u001b[0m \u001b[1m14s\u001b[0m 352ms/step - accuracy: 0.8018 - loss: 0.4829 - val_accuracy: 0.6736 - val_loss: 0.9089\n",
      "Epoch 300/400\n",
      "\u001b[1m39/39\u001b[0m \u001b[32m━━━━━━━━━━━━━━━━━━━━\u001b[0m\u001b[37m\u001b[0m \u001b[1m0s\u001b[0m 9ms/step - accuracy: 0.7500 - loss: 0.5534 - val_accuracy: 0.5556 - val_loss: 0.8729\n",
      "Epoch 301/400\n",
      "\u001b[1m39/39\u001b[0m \u001b[32m━━━━━━━━━━━━━━━━━━━━\u001b[0m\u001b[37m\u001b[0m \u001b[1m13s\u001b[0m 345ms/step - accuracy: 0.8413 - loss: 0.4486 - val_accuracy: 0.6528 - val_loss: 0.9176\n",
      "Epoch 302/400\n",
      "\u001b[1m 1/39\u001b[0m \u001b[37m━━━━━━━━━━━━━━━━━━━━\u001b[0m \u001b[1m1s\u001b[0m 34ms/step - accuracy: 0.9062 - loss: 0.3426"
     ]
    },
    {
     "name": "stderr",
     "output_type": "stream",
     "text": [
      "2024-10-24 01:58:51.031968: I tensorflow/core/framework/local_rendezvous.cc:423] Local rendezvous recv item cancelled. Key hash: 2918327929679280915\n",
      "2024-10-24 01:58:51.032096: I tensorflow/core/framework/local_rendezvous.cc:423] Local rendezvous recv item cancelled. Key hash: 15736871328311997881\n"
     ]
    },
    {
     "name": "stdout",
     "output_type": "stream",
     "text": [
      "\u001b[1m39/39\u001b[0m \u001b[32m━━━━━━━━━━━━━━━━━━━━\u001b[0m\u001b[37m\u001b[0m \u001b[1m0s\u001b[0m 7ms/step - accuracy: 0.9062 - loss: 0.3426 - val_accuracy: 0.7037 - val_loss: 0.5741\n",
      "Epoch 303/400\n"
     ]
    },
    {
     "name": "stderr",
     "output_type": "stream",
     "text": [
      "2024-10-24 01:58:51.288522: I tensorflow/core/framework/local_rendezvous.cc:423] Local rendezvous recv item cancelled. Key hash: 2918327929679280915\n",
      "2024-10-24 01:58:51.288564: I tensorflow/core/framework/local_rendezvous.cc:423] Local rendezvous recv item cancelled. Key hash: 15736871328311997881\n"
     ]
    },
    {
     "name": "stdout",
     "output_type": "stream",
     "text": [
      "\u001b[1m39/39\u001b[0m \u001b[32m━━━━━━━━━━━━━━━━━━━━\u001b[0m\u001b[37m\u001b[0m \u001b[1m13s\u001b[0m 345ms/step - accuracy: 0.8180 - loss: 0.4589 - val_accuracy: 0.6354 - val_loss: 0.8829\n",
      "Epoch 304/400\n",
      "\u001b[1m 1/39\u001b[0m \u001b[37m━━━━━━━━━━━━━━━━━━━━\u001b[0m \u001b[1m1s\u001b[0m 38ms/step - accuracy: 0.7188 - loss: 0.5932"
     ]
    },
    {
     "name": "stderr",
     "output_type": "stream",
     "text": [
      "2024-10-24 01:59:04.783745: I tensorflow/core/framework/local_rendezvous.cc:423] Local rendezvous recv item cancelled. Key hash: 2918327929679280915\n",
      "2024-10-24 01:59:04.783856: I tensorflow/core/framework/local_rendezvous.cc:423] Local rendezvous recv item cancelled. Key hash: 15736871328311997881\n"
     ]
    },
    {
     "name": "stdout",
     "output_type": "stream",
     "text": [
      "\u001b[1m39/39\u001b[0m \u001b[32m━━━━━━━━━━━━━━━━━━━━\u001b[0m\u001b[37m\u001b[0m \u001b[1m0s\u001b[0m 8ms/step - accuracy: 0.7188 - loss: 0.5932 - val_accuracy: 0.7037 - val_loss: 0.7501\n",
      "Epoch 305/400\n"
     ]
    },
    {
     "name": "stderr",
     "output_type": "stream",
     "text": [
      "2024-10-24 01:59:05.102857: I tensorflow/core/framework/local_rendezvous.cc:423] Local rendezvous recv item cancelled. Key hash: 2918327929679280915\n",
      "2024-10-24 01:59:05.102941: I tensorflow/core/framework/local_rendezvous.cc:423] Local rendezvous recv item cancelled. Key hash: 15736871328311997881\n"
     ]
    },
    {
     "name": "stdout",
     "output_type": "stream",
     "text": [
      "\u001b[1m39/39\u001b[0m \u001b[32m━━━━━━━━━━━━━━━━━━━━\u001b[0m\u001b[37m\u001b[0m \u001b[1m14s\u001b[0m 349ms/step - accuracy: 0.8051 - loss: 0.4819 - val_accuracy: 0.6771 - val_loss: 0.8351\n",
      "Epoch 306/400\n",
      "\u001b[1m 1/39\u001b[0m \u001b[37m━━━━━━━━━━━━━━━━━━━━\u001b[0m \u001b[1m1s\u001b[0m 32ms/step - accuracy: 0.7812 - loss: 0.5710"
     ]
    },
    {
     "name": "stderr",
     "output_type": "stream",
     "text": [
      "2024-10-24 01:59:18.762378: I tensorflow/core/framework/local_rendezvous.cc:423] Local rendezvous recv item cancelled. Key hash: 2918327929679280915\n"
     ]
    },
    {
     "name": "stdout",
     "output_type": "stream",
     "text": [
      "\u001b[1m39/39\u001b[0m \u001b[32m━━━━━━━━━━━━━━━━━━━━\u001b[0m\u001b[37m\u001b[0m \u001b[1m0s\u001b[0m 6ms/step - accuracy: 0.7812 - loss: 0.5710 - val_accuracy: 0.5556 - val_loss: 1.2193\n",
      "Epoch 307/400\n"
     ]
    },
    {
     "name": "stderr",
     "output_type": "stream",
     "text": [
      "2024-10-24 01:59:18.994697: I tensorflow/core/framework/local_rendezvous.cc:423] Local rendezvous recv item cancelled. Key hash: 2918327929679280915\n",
      "2024-10-24 01:59:18.994740: I tensorflow/core/framework/local_rendezvous.cc:423] Local rendezvous recv item cancelled. Key hash: 15736871328311997881\n"
     ]
    },
    {
     "name": "stdout",
     "output_type": "stream",
     "text": [
      "\u001b[1m39/39\u001b[0m \u001b[32m━━━━━━━━━━━━━━━━━━━━\u001b[0m\u001b[37m\u001b[0m \u001b[1m14s\u001b[0m 349ms/step - accuracy: 0.8084 - loss: 0.4597 - val_accuracy: 0.6389 - val_loss: 0.9356\n",
      "Epoch 308/400\n",
      "\u001b[1m 1/39\u001b[0m \u001b[37m━━━━━━━━━━━━━━━━━━━━\u001b[0m \u001b[1m1s\u001b[0m 31ms/step - accuracy: 0.8125 - loss: 0.4295"
     ]
    },
    {
     "name": "stderr",
     "output_type": "stream",
     "text": [
      "2024-10-24 01:59:32.618408: I tensorflow/core/framework/local_rendezvous.cc:423] Local rendezvous recv item cancelled. Key hash: 2918327929679280915\n",
      "2024-10-24 01:59:32.618463: I tensorflow/core/framework/local_rendezvous.cc:423] Local rendezvous recv item cancelled. Key hash: 15736871328311997881\n"
     ]
    },
    {
     "name": "stdout",
     "output_type": "stream",
     "text": [
      "\u001b[1m39/39\u001b[0m \u001b[32m━━━━━━━━━━━━━━━━━━━━\u001b[0m\u001b[37m\u001b[0m \u001b[1m0s\u001b[0m 9ms/step - accuracy: 0.8125 - loss: 0.4295 - val_accuracy: 0.5926 - val_loss: 0.9090\n",
      "Epoch 309/400\n"
     ]
    },
    {
     "name": "stderr",
     "output_type": "stream",
     "text": [
      "2024-10-24 01:59:32.959937: I tensorflow/core/framework/local_rendezvous.cc:423] Local rendezvous recv item cancelled. Key hash: 2918327929679280915\n",
      "2024-10-24 01:59:32.959999: I tensorflow/core/framework/local_rendezvous.cc:423] Local rendezvous recv item cancelled. Key hash: 15736871328311997881\n"
     ]
    },
    {
     "name": "stdout",
     "output_type": "stream",
     "text": [
      "\u001b[1m39/39\u001b[0m \u001b[32m━━━━━━━━━━━━━━━━━━━━\u001b[0m\u001b[37m\u001b[0m \u001b[1m14s\u001b[0m 346ms/step - accuracy: 0.7943 - loss: 0.5050 - val_accuracy: 0.6597 - val_loss: 0.8792\n",
      "Epoch 310/400\n",
      "\u001b[1m 1/39\u001b[0m \u001b[37m━━━━━━━━━━━━━━━━━━━━\u001b[0m \u001b[1m1s\u001b[0m 33ms/step - accuracy: 0.6562 - loss: 0.5237"
     ]
    },
    {
     "name": "stderr",
     "output_type": "stream",
     "text": [
      "2024-10-24 01:59:46.502235: I tensorflow/core/framework/local_rendezvous.cc:423] Local rendezvous recv item cancelled. Key hash: 2918327929679280915\n",
      "2024-10-24 01:59:46.502301: I tensorflow/core/framework/local_rendezvous.cc:423] Local rendezvous recv item cancelled. Key hash: 15736871328311997881\n"
     ]
    },
    {
     "name": "stdout",
     "output_type": "stream",
     "text": [
      "\u001b[1m39/39\u001b[0m \u001b[32m━━━━━━━━━━━━━━━━━━━━\u001b[0m\u001b[37m\u001b[0m \u001b[1m0s\u001b[0m 6ms/step - accuracy: 0.6562 - loss: 0.5237 - val_accuracy: 0.4444 - val_loss: 1.1231\n",
      "Epoch 311/400\n"
     ]
    },
    {
     "name": "stderr",
     "output_type": "stream",
     "text": [
      "2024-10-24 01:59:46.720725: I tensorflow/core/framework/local_rendezvous.cc:423] Local rendezvous recv item cancelled. Key hash: 2918327929679280915\n",
      "2024-10-24 01:59:46.720773: I tensorflow/core/framework/local_rendezvous.cc:423] Local rendezvous recv item cancelled. Key hash: 15736871328311997881\n"
     ]
    },
    {
     "name": "stdout",
     "output_type": "stream",
     "text": [
      "\u001b[1m39/39\u001b[0m \u001b[32m━━━━━━━━━━━━━━━━━━━━\u001b[0m\u001b[37m\u001b[0m \u001b[1m14s\u001b[0m 347ms/step - accuracy: 0.8096 - loss: 0.4656 - val_accuracy: 0.6424 - val_loss: 0.8695\n",
      "Epoch 312/400\n",
      "\u001b[1m 1/39\u001b[0m \u001b[37m━━━━━━━━━━━━━━━━━━━━\u001b[0m \u001b[1m1s\u001b[0m 33ms/step - accuracy: 0.7188 - loss: 0.5329"
     ]
    },
    {
     "name": "stderr",
     "output_type": "stream",
     "text": [
      "2024-10-24 02:00:00.318879: I tensorflow/core/framework/local_rendezvous.cc:423] Local rendezvous recv item cancelled. Key hash: 2918327929679280915\n",
      "2024-10-24 02:00:00.318999: I tensorflow/core/framework/local_rendezvous.cc:423] Local rendezvous recv item cancelled. Key hash: 15736871328311997881\n"
     ]
    },
    {
     "name": "stdout",
     "output_type": "stream",
     "text": [
      "\u001b[1m39/39\u001b[0m \u001b[32m━━━━━━━━━━━━━━━━━━━━\u001b[0m\u001b[37m\u001b[0m \u001b[1m0s\u001b[0m 6ms/step - accuracy: 0.7188 - loss: 0.5329 - val_accuracy: 0.7778 - val_loss: 0.9535\n",
      "Epoch 313/400\n",
      "\u001b[1m39/39\u001b[0m \u001b[32m━━━━━━━━━━━━━━━━━━━━\u001b[0m\u001b[37m\u001b[0m \u001b[1m14s\u001b[0m 346ms/step - accuracy: 0.7915 - loss: 0.4884 - val_accuracy: 0.6632 - val_loss: 0.8725\n",
      "Epoch 314/400\n",
      "\u001b[1m 1/39\u001b[0m \u001b[37m━━━━━━━━━━━━━━━━━━━━\u001b[0m \u001b[1m1s\u001b[0m 35ms/step - accuracy: 0.7812 - loss: 0.4812"
     ]
    },
    {
     "name": "stderr",
     "output_type": "stream",
     "text": [
      "2024-10-24 02:00:14.083846: I tensorflow/core/framework/local_rendezvous.cc:423] Local rendezvous recv item cancelled. Key hash: 2918327929679280915\n",
      "2024-10-24 02:00:14.083953: I tensorflow/core/framework/local_rendezvous.cc:423] Local rendezvous recv item cancelled. Key hash: 15736871328311997881\n"
     ]
    },
    {
     "name": "stdout",
     "output_type": "stream",
     "text": [
      "\u001b[1m39/39\u001b[0m \u001b[32m━━━━━━━━━━━━━━━━━━━━\u001b[0m\u001b[37m\u001b[0m \u001b[1m0s\u001b[0m 5ms/step - accuracy: 0.7812 - loss: 0.4812 - val_accuracy: 0.7037 - val_loss: 0.7765\n",
      "Epoch 315/400\n",
      "\u001b[1m39/39\u001b[0m \u001b[32m━━━━━━━━━━━━━━━━━━━━\u001b[0m\u001b[37m\u001b[0m \u001b[1m14s\u001b[0m 349ms/step - accuracy: 0.7961 - loss: 0.4613 - val_accuracy: 0.6528 - val_loss: 0.9114\n",
      "Epoch 316/400\n",
      "\u001b[1m 1/39\u001b[0m \u001b[37m━━━━━━━━━━━━━━━━━━━━\u001b[0m \u001b[1m1s\u001b[0m 31ms/step - accuracy: 0.8125 - loss: 0.4957"
     ]
    },
    {
     "name": "stderr",
     "output_type": "stream",
     "text": [
      "2024-10-24 02:00:27.915397: I tensorflow/core/framework/local_rendezvous.cc:423] Local rendezvous recv item cancelled. Key hash: 2918327929679280915\n"
     ]
    },
    {
     "name": "stdout",
     "output_type": "stream",
     "text": [
      "\u001b[1m39/39\u001b[0m \u001b[32m━━━━━━━━━━━━━━━━━━━━\u001b[0m\u001b[37m\u001b[0m \u001b[1m0s\u001b[0m 6ms/step - accuracy: 0.8125 - loss: 0.4957 - val_accuracy: 0.7407 - val_loss: 0.6725\n",
      "Epoch 317/400\n"
     ]
    },
    {
     "name": "stderr",
     "output_type": "stream",
     "text": [
      "2024-10-24 02:00:28.129040: I tensorflow/core/framework/local_rendezvous.cc:423] Local rendezvous recv item cancelled. Key hash: 2918327929679280915\n",
      "2024-10-24 02:00:28.129152: I tensorflow/core/framework/local_rendezvous.cc:423] Local rendezvous recv item cancelled. Key hash: 15736871328311997881\n"
     ]
    },
    {
     "name": "stdout",
     "output_type": "stream",
     "text": [
      "\u001b[1m39/39\u001b[0m \u001b[32m━━━━━━━━━━━━━━━━━━━━\u001b[0m\u001b[37m\u001b[0m \u001b[1m14s\u001b[0m 351ms/step - accuracy: 0.7962 - loss: 0.4935 - val_accuracy: 0.6181 - val_loss: 0.8635\n",
      "Epoch 318/400\n",
      "\u001b[1m 1/39\u001b[0m \u001b[37m━━━━━━━━━━━━━━━━━━━━\u001b[0m \u001b[1m1s\u001b[0m 34ms/step - accuracy: 0.7500 - loss: 0.6221"
     ]
    },
    {
     "name": "stderr",
     "output_type": "stream",
     "text": [
      "2024-10-24 02:00:41.861563: I tensorflow/core/framework/local_rendezvous.cc:423] Local rendezvous recv item cancelled. Key hash: 2918327929679280915\n",
      "2024-10-24 02:00:41.861665: I tensorflow/core/framework/local_rendezvous.cc:423] Local rendezvous recv item cancelled. Key hash: 15736871328311997881\n",
      "2024-10-24 02:00:42.056892: I tensorflow/core/framework/local_rendezvous.cc:423] Local rendezvous recv item cancelled. Key hash: 2918327929679280915\n",
      "2024-10-24 02:00:42.057007: I tensorflow/core/framework/local_rendezvous.cc:423] Local rendezvous recv item cancelled. Key hash: 15736871328311997881\n"
     ]
    },
    {
     "name": "stdout",
     "output_type": "stream",
     "text": [
      "\u001b[1m39/39\u001b[0m \u001b[32m━━━━━━━━━━━━━━━━━━━━\u001b[0m\u001b[37m\u001b[0m \u001b[1m0s\u001b[0m 5ms/step - accuracy: 0.7500 - loss: 0.6221 - val_accuracy: 0.5926 - val_loss: 0.8290\n",
      "Epoch 319/400\n",
      "\u001b[1m39/39\u001b[0m \u001b[32m━━━━━━━━━━━━━━━━━━━━\u001b[0m\u001b[37m\u001b[0m \u001b[1m14s\u001b[0m 350ms/step - accuracy: 0.8144 - loss: 0.4785 - val_accuracy: 0.6458 - val_loss: 0.9248\n",
      "Epoch 320/400\n",
      "\u001b[1m 1/39\u001b[0m \u001b[37m━━━━━━━━━━━━━━━━━━━━\u001b[0m \u001b[1m1s\u001b[0m 44ms/step - accuracy: 0.8750 - loss: 0.3537"
     ]
    },
    {
     "name": "stderr",
     "output_type": "stream",
     "text": [
      "2024-10-24 02:00:55.734647: I tensorflow/core/framework/local_rendezvous.cc:423] Local rendezvous recv item cancelled. Key hash: 2918327929679280915\n"
     ]
    },
    {
     "name": "stdout",
     "output_type": "stream",
     "text": [
      "\u001b[1m39/39\u001b[0m \u001b[32m━━━━━━━━━━━━━━━━━━━━\u001b[0m\u001b[37m\u001b[0m \u001b[1m0s\u001b[0m 5ms/step - accuracy: 0.8750 - loss: 0.3537 - val_accuracy: 0.7037 - val_loss: 0.6361\n",
      "Epoch 321/400\n",
      "\u001b[1m39/39\u001b[0m \u001b[32m━━━━━━━━━━━━━━━━━━━━\u001b[0m\u001b[37m\u001b[0m \u001b[1m13s\u001b[0m 340ms/step - accuracy: 0.8027 - loss: 0.4875 - val_accuracy: 0.6285 - val_loss: 0.9017\n",
      "Epoch 322/400\n",
      "\u001b[1m 1/39\u001b[0m \u001b[37m━━━━━━━━━━━━━━━━━━━━\u001b[0m \u001b[1m1s\u001b[0m 34ms/step - accuracy: 0.7812 - loss: 0.4552"
     ]
    },
    {
     "name": "stderr",
     "output_type": "stream",
     "text": [
      "2024-10-24 02:01:09.228447: I tensorflow/core/framework/local_rendezvous.cc:423] Local rendezvous recv item cancelled. Key hash: 2918327929679280915\n",
      "2024-10-24 02:01:09.228502: I tensorflow/core/framework/local_rendezvous.cc:423] Local rendezvous recv item cancelled. Key hash: 15736871328311997881\n"
     ]
    },
    {
     "name": "stdout",
     "output_type": "stream",
     "text": [
      "\u001b[1m39/39\u001b[0m \u001b[32m━━━━━━━━━━━━━━━━━━━━\u001b[0m\u001b[37m\u001b[0m \u001b[1m0s\u001b[0m 5ms/step - accuracy: 0.7812 - loss: 0.4552 - val_accuracy: 0.5926 - val_loss: 0.9689\n",
      "Epoch 323/400\n"
     ]
    },
    {
     "name": "stderr",
     "output_type": "stream",
     "text": [
      "2024-10-24 02:01:09.441048: I tensorflow/core/framework/local_rendezvous.cc:423] Local rendezvous recv item cancelled. Key hash: 2918327929679280915\n",
      "2024-10-24 02:01:09.441095: I tensorflow/core/framework/local_rendezvous.cc:423] Local rendezvous recv item cancelled. Key hash: 15736871328311997881\n"
     ]
    },
    {
     "name": "stdout",
     "output_type": "stream",
     "text": [
      "\u001b[1m39/39\u001b[0m \u001b[32m━━━━━━━━━━━━━━━━━━━━\u001b[0m\u001b[37m\u001b[0m \u001b[1m13s\u001b[0m 346ms/step - accuracy: 0.8059 - loss: 0.4810 - val_accuracy: 0.6111 - val_loss: 0.9471\n",
      "Epoch 324/400\n",
      "\u001b[1m 1/39\u001b[0m \u001b[37m━━━━━━━━━━━━━━━━━━━━\u001b[0m \u001b[1m1s\u001b[0m 33ms/step - accuracy: 0.9375 - loss: 0.2761"
     ]
    },
    {
     "name": "stderr",
     "output_type": "stream",
     "text": [
      "2024-10-24 02:01:22.950697: I tensorflow/core/framework/local_rendezvous.cc:423] Local rendezvous recv item cancelled. Key hash: 2918327929679280915\n",
      "2024-10-24 02:01:22.950755: I tensorflow/core/framework/local_rendezvous.cc:423] Local rendezvous recv item cancelled. Key hash: 15736871328311997881\n"
     ]
    },
    {
     "name": "stdout",
     "output_type": "stream",
     "text": [
      "\u001b[1m39/39\u001b[0m \u001b[32m━━━━━━━━━━━━━━━━━━━━\u001b[0m\u001b[37m\u001b[0m \u001b[1m0s\u001b[0m 6ms/step - accuracy: 0.9375 - loss: 0.2761 - val_accuracy: 0.8519 - val_loss: 0.6052\n",
      "Epoch 325/400\n"
     ]
    },
    {
     "name": "stderr",
     "output_type": "stream",
     "text": [
      "2024-10-24 02:01:23.177191: I tensorflow/core/framework/local_rendezvous.cc:423] Local rendezvous recv item cancelled. Key hash: 2918327929679280915\n",
      "2024-10-24 02:01:23.177235: I tensorflow/core/framework/local_rendezvous.cc:423] Local rendezvous recv item cancelled. Key hash: 15736871328311997881\n"
     ]
    },
    {
     "name": "stdout",
     "output_type": "stream",
     "text": [
      "\u001b[1m39/39\u001b[0m \u001b[32m━━━━━━━━━━━━━━━━━━━━\u001b[0m\u001b[37m\u001b[0m \u001b[1m14s\u001b[0m 349ms/step - accuracy: 0.7984 - loss: 0.5121 - val_accuracy: 0.6354 - val_loss: 0.9242\n",
      "Epoch 326/400\n",
      "\u001b[1m 1/39\u001b[0m \u001b[37m━━━━━━━━━━━━━━━━━━━━\u001b[0m \u001b[1m1s\u001b[0m 32ms/step - accuracy: 0.7500 - loss: 0.5175"
     ]
    },
    {
     "name": "stderr",
     "output_type": "stream",
     "text": [
      "2024-10-24 02:01:36.832991: I tensorflow/core/framework/local_rendezvous.cc:423] Local rendezvous recv item cancelled. Key hash: 2918327929679280915\n",
      "2024-10-24 02:01:36.833056: I tensorflow/core/framework/local_rendezvous.cc:423] Local rendezvous recv item cancelled. Key hash: 15736871328311997881\n"
     ]
    },
    {
     "name": "stdout",
     "output_type": "stream",
     "text": [
      "\u001b[1m39/39\u001b[0m \u001b[32m━━━━━━━━━━━━━━━━━━━━\u001b[0m\u001b[37m\u001b[0m \u001b[1m0s\u001b[0m 6ms/step - accuracy: 0.7500 - loss: 0.5175 - val_accuracy: 0.5926 - val_loss: 0.7022\n",
      "Epoch 327/400\n"
     ]
    },
    {
     "name": "stderr",
     "output_type": "stream",
     "text": [
      "2024-10-24 02:01:37.053746: I tensorflow/core/framework/local_rendezvous.cc:423] Local rendezvous recv item cancelled. Key hash: 2918327929679280915\n",
      "2024-10-24 02:01:37.053807: I tensorflow/core/framework/local_rendezvous.cc:423] Local rendezvous recv item cancelled. Key hash: 15736871328311997881\n"
     ]
    },
    {
     "name": "stdout",
     "output_type": "stream",
     "text": [
      "\u001b[1m39/39\u001b[0m \u001b[32m━━━━━━━━━━━━━━━━━━━━\u001b[0m\u001b[37m\u001b[0m \u001b[1m14s\u001b[0m 351ms/step - accuracy: 0.8160 - loss: 0.4670 - val_accuracy: 0.6736 - val_loss: 0.8360\n",
      "Epoch 328/400\n",
      "\u001b[1m 1/39\u001b[0m \u001b[37m━━━━━━━━━━━━━━━━━━━━\u001b[0m \u001b[1m1s\u001b[0m 34ms/step - accuracy: 0.7188 - loss: 0.5510"
     ]
    },
    {
     "name": "stderr",
     "output_type": "stream",
     "text": [
      "2024-10-24 02:01:50.782895: I tensorflow/core/framework/local_rendezvous.cc:423] Local rendezvous recv item cancelled. Key hash: 2918327929679280915\n",
      "2024-10-24 02:01:50.782942: I tensorflow/core/framework/local_rendezvous.cc:423] Local rendezvous recv item cancelled. Key hash: 15736871328311997881\n"
     ]
    },
    {
     "name": "stdout",
     "output_type": "stream",
     "text": [
      "\u001b[1m39/39\u001b[0m \u001b[32m━━━━━━━━━━━━━━━━━━━━\u001b[0m\u001b[37m\u001b[0m \u001b[1m0s\u001b[0m 5ms/step - accuracy: 0.7188 - loss: 0.5510 - val_accuracy: 0.5185 - val_loss: 1.2678\n",
      "Epoch 329/400\n"
     ]
    },
    {
     "name": "stderr",
     "output_type": "stream",
     "text": [
      "2024-10-24 02:01:50.992819: I tensorflow/core/framework/local_rendezvous.cc:423] Local rendezvous recv item cancelled. Key hash: 2918327929679280915\n",
      "2024-10-24 02:01:50.992881: I tensorflow/core/framework/local_rendezvous.cc:423] Local rendezvous recv item cancelled. Key hash: 15736871328311997881\n"
     ]
    },
    {
     "name": "stdout",
     "output_type": "stream",
     "text": [
      "\u001b[1m39/39\u001b[0m \u001b[32m━━━━━━━━━━━━━━━━━━━━\u001b[0m\u001b[37m\u001b[0m \u001b[1m13s\u001b[0m 346ms/step - accuracy: 0.8011 - loss: 0.4882 - val_accuracy: 0.6493 - val_loss: 0.8898\n",
      "Epoch 330/400\n",
      "\u001b[1m 1/39\u001b[0m \u001b[37m━━━━━━━━━━━━━━━━━━━━\u001b[0m \u001b[1m1s\u001b[0m 34ms/step - accuracy: 0.7812 - loss: 0.6695"
     ]
    },
    {
     "name": "stderr",
     "output_type": "stream",
     "text": [
      "2024-10-24 02:02:04.512315: I tensorflow/core/framework/local_rendezvous.cc:423] Local rendezvous recv item cancelled. Key hash: 2918327929679280915\n",
      "2024-10-24 02:02:04.512421: I tensorflow/core/framework/local_rendezvous.cc:423] Local rendezvous recv item cancelled. Key hash: 15736871328311997881\n"
     ]
    },
    {
     "name": "stdout",
     "output_type": "stream",
     "text": [
      "\u001b[1m39/39\u001b[0m \u001b[32m━━━━━━━━━━━━━━━━━━━━\u001b[0m\u001b[37m\u001b[0m \u001b[1m0s\u001b[0m 5ms/step - accuracy: 0.7812 - loss: 0.6695 - val_accuracy: 0.5556 - val_loss: 0.8248\n",
      "Epoch 331/400\n"
     ]
    },
    {
     "name": "stderr",
     "output_type": "stream",
     "text": [
      "2024-10-24 02:02:04.715277: I tensorflow/core/framework/local_rendezvous.cc:423] Local rendezvous recv item cancelled. Key hash: 2918327929679280915\n",
      "2024-10-24 02:02:04.715321: I tensorflow/core/framework/local_rendezvous.cc:423] Local rendezvous recv item cancelled. Key hash: 15736871328311997881\n"
     ]
    },
    {
     "name": "stdout",
     "output_type": "stream",
     "text": [
      "\u001b[1m39/39\u001b[0m \u001b[32m━━━━━━━━━━━━━━━━━━━━\u001b[0m\u001b[37m\u001b[0m \u001b[1m13s\u001b[0m 341ms/step - accuracy: 0.8153 - loss: 0.4715 - val_accuracy: 0.6458 - val_loss: 0.8827\n",
      "Epoch 332/400\n",
      "\u001b[1m39/39\u001b[0m \u001b[32m━━━━━━━━━━━━━━━━━━━━\u001b[0m\u001b[37m\u001b[0m \u001b[1m0s\u001b[0m 5ms/step - accuracy: 0.7812 - loss: 0.5510 - val_accuracy: 0.7407 - val_loss: 0.8995\n",
      "Epoch 333/400\n",
      "\u001b[1m39/39\u001b[0m \u001b[32m━━━━━━━━━━━━━━━━━━━━\u001b[0m\u001b[37m\u001b[0m \u001b[1m14s\u001b[0m 348ms/step - accuracy: 0.8016 - loss: 0.4845 - val_accuracy: 0.6771 - val_loss: 0.8938\n",
      "Epoch 334/400\n",
      "\u001b[1m 1/39\u001b[0m \u001b[37m━━━━━━━━━━━━━━━━━━━━\u001b[0m \u001b[1m0s\u001b[0m 20ms/step - accuracy: 0.9412 - loss: 0.3357"
     ]
    },
    {
     "name": "stderr",
     "output_type": "stream",
     "text": [
      "2024-10-24 02:02:31.884092: I tensorflow/core/framework/local_rendezvous.cc:423] Local rendezvous recv item cancelled. Key hash: 2918327929679280915\n",
      "2024-10-24 02:02:31.884217: I tensorflow/core/framework/local_rendezvous.cc:423] Local rendezvous recv item cancelled. Key hash: 15736871328311997881\n"
     ]
    },
    {
     "name": "stdout",
     "output_type": "stream",
     "text": [
      "\u001b[1m39/39\u001b[0m \u001b[32m━━━━━━━━━━━━━━━━━━━━\u001b[0m\u001b[37m\u001b[0m \u001b[1m0s\u001b[0m 6ms/step - accuracy: 0.9412 - loss: 0.3357 - val_accuracy: 0.6296 - val_loss: 1.0449\n",
      "Epoch 335/400\n"
     ]
    },
    {
     "name": "stderr",
     "output_type": "stream",
     "text": [
      "2024-10-24 02:02:32.110628: I tensorflow/core/framework/local_rendezvous.cc:423] Local rendezvous recv item cancelled. Key hash: 2918327929679280915\n",
      "2024-10-24 02:02:32.110699: I tensorflow/core/framework/local_rendezvous.cc:423] Local rendezvous recv item cancelled. Key hash: 15736871328311997881\n"
     ]
    },
    {
     "name": "stdout",
     "output_type": "stream",
     "text": [
      "\u001b[1m39/39\u001b[0m \u001b[32m━━━━━━━━━━━━━━━━━━━━\u001b[0m\u001b[37m\u001b[0m \u001b[1m14s\u001b[0m 362ms/step - accuracy: 0.8114 - loss: 0.4496 - val_accuracy: 0.6597 - val_loss: 0.8170\n",
      "Epoch 336/400\n",
      "\u001b[1m 1/39\u001b[0m \u001b[37m━━━━━━━━━━━━━━━━━━━━\u001b[0m \u001b[1m1s\u001b[0m 33ms/step - accuracy: 0.7812 - loss: 0.4597"
     ]
    },
    {
     "name": "stderr",
     "output_type": "stream",
     "text": [
      "2024-10-24 02:02:46.278144: I tensorflow/core/framework/local_rendezvous.cc:423] Local rendezvous recv item cancelled. Key hash: 2918327929679280915\n"
     ]
    },
    {
     "name": "stdout",
     "output_type": "stream",
     "text": [
      "\u001b[1m39/39\u001b[0m \u001b[32m━━━━━━━━━━━━━━━━━━━━\u001b[0m\u001b[37m\u001b[0m \u001b[1m0s\u001b[0m 6ms/step - accuracy: 0.7812 - loss: 0.4597 - val_accuracy: 0.6296 - val_loss: 1.1007\n",
      "Epoch 337/400\n",
      "\u001b[1m39/39\u001b[0m \u001b[32m━━━━━━━━━━━━━━━━━━━━\u001b[0m\u001b[37m\u001b[0m \u001b[1m14s\u001b[0m 349ms/step - accuracy: 0.8023 - loss: 0.5305 - val_accuracy: 0.6319 - val_loss: 0.9185\n",
      "Epoch 338/400\n",
      "\u001b[1m 1/39\u001b[0m \u001b[37m━━━━━━━━━━━━━━━━━━━━\u001b[0m \u001b[1m1s\u001b[0m 33ms/step - accuracy: 0.6875 - loss: 0.5714"
     ]
    },
    {
     "name": "stderr",
     "output_type": "stream",
     "text": [
      "2024-10-24 02:03:00.150970: I tensorflow/core/framework/local_rendezvous.cc:423] Local rendezvous recv item cancelled. Key hash: 2918327929679280915\n",
      "2024-10-24 02:03:00.151107: I tensorflow/core/framework/local_rendezvous.cc:423] Local rendezvous recv item cancelled. Key hash: 15736871328311997881\n"
     ]
    },
    {
     "name": "stdout",
     "output_type": "stream",
     "text": [
      "\u001b[1m39/39\u001b[0m \u001b[32m━━━━━━━━━━━━━━━━━━━━\u001b[0m\u001b[37m\u001b[0m \u001b[1m0s\u001b[0m 7ms/step - accuracy: 0.6875 - loss: 0.5714 - val_accuracy: 0.7778 - val_loss: 0.4796\n",
      "Epoch 339/400\n"
     ]
    },
    {
     "name": "stderr",
     "output_type": "stream",
     "text": [
      "2024-10-24 02:03:00.420661: I tensorflow/core/framework/local_rendezvous.cc:423] Local rendezvous recv item cancelled. Key hash: 2918327929679280915\n",
      "2024-10-24 02:03:00.420712: I tensorflow/core/framework/local_rendezvous.cc:423] Local rendezvous recv item cancelled. Key hash: 15736871328311997881\n"
     ]
    },
    {
     "name": "stdout",
     "output_type": "stream",
     "text": [
      "\u001b[1m39/39\u001b[0m \u001b[32m━━━━━━━━━━━━━━━━━━━━\u001b[0m\u001b[37m\u001b[0m \u001b[1m14s\u001b[0m 351ms/step - accuracy: 0.8050 - loss: 0.4692 - val_accuracy: 0.6840 - val_loss: 0.8479\n",
      "Epoch 340/400\n",
      "\u001b[1m 1/39\u001b[0m \u001b[37m━━━━━━━━━━━━━━━━━━━━\u001b[0m \u001b[1m1s\u001b[0m 32ms/step - accuracy: 0.7812 - loss: 0.4690"
     ]
    },
    {
     "name": "stderr",
     "output_type": "stream",
     "text": [
      "2024-10-24 02:03:14.145161: I tensorflow/core/framework/local_rendezvous.cc:423] Local rendezvous recv item cancelled. Key hash: 2918327929679280915\n",
      "2024-10-24 02:03:14.145223: I tensorflow/core/framework/local_rendezvous.cc:423] Local rendezvous recv item cancelled. Key hash: 15736871328311997881\n"
     ]
    },
    {
     "name": "stdout",
     "output_type": "stream",
     "text": [
      "\u001b[1m39/39\u001b[0m \u001b[32m━━━━━━━━━━━━━━━━━━━━\u001b[0m\u001b[37m\u001b[0m \u001b[1m0s\u001b[0m 7ms/step - accuracy: 0.7812 - loss: 0.4690 - val_accuracy: 0.6296 - val_loss: 0.9018\n",
      "Epoch 341/400\n"
     ]
    },
    {
     "name": "stderr",
     "output_type": "stream",
     "text": [
      "2024-10-24 02:03:14.405493: I tensorflow/core/framework/local_rendezvous.cc:423] Local rendezvous recv item cancelled. Key hash: 2918327929679280915\n",
      "2024-10-24 02:03:14.405551: I tensorflow/core/framework/local_rendezvous.cc:423] Local rendezvous recv item cancelled. Key hash: 15736871328311997881\n"
     ]
    },
    {
     "name": "stdout",
     "output_type": "stream",
     "text": [
      "\u001b[1m39/39\u001b[0m \u001b[32m━━━━━━━━━━━━━━━━━━━━\u001b[0m\u001b[37m\u001b[0m \u001b[1m14s\u001b[0m 347ms/step - accuracy: 0.8111 - loss: 0.4679 - val_accuracy: 0.6458 - val_loss: 0.9221\n",
      "Epoch 342/400\n",
      "\u001b[1m 1/39\u001b[0m \u001b[37m━━━━━━━━━━━━━━━━━━━━\u001b[0m \u001b[1m1s\u001b[0m 33ms/step - accuracy: 0.9375 - loss: 0.3809"
     ]
    },
    {
     "name": "stderr",
     "output_type": "stream",
     "text": [
      "2024-10-24 02:03:27.950506: I tensorflow/core/framework/local_rendezvous.cc:423] Local rendezvous recv item cancelled. Key hash: 2918327929679280915\n"
     ]
    },
    {
     "name": "stdout",
     "output_type": "stream",
     "text": [
      "\u001b[1m39/39\u001b[0m \u001b[32m━━━━━━━━━━━━━━━━━━━━\u001b[0m\u001b[37m\u001b[0m \u001b[1m0s\u001b[0m 6ms/step - accuracy: 0.9375 - loss: 0.3809 - val_accuracy: 0.7407 - val_loss: 0.8905\n",
      "Epoch 343/400\n",
      "\u001b[1m39/39\u001b[0m \u001b[32m━━━━━━━━━━━━━━━━━━━━\u001b[0m\u001b[37m\u001b[0m \u001b[1m14s\u001b[0m 350ms/step - accuracy: 0.7884 - loss: 0.5393 - val_accuracy: 0.6458 - val_loss: 0.8791\n",
      "Epoch 344/400\n",
      "\u001b[1m 1/39\u001b[0m \u001b[37m━━━━━━━━━━━━━━━━━━━━\u001b[0m \u001b[1m1s\u001b[0m 32ms/step - accuracy: 0.8125 - loss: 0.3762"
     ]
    },
    {
     "name": "stderr",
     "output_type": "stream",
     "text": [
      "2024-10-24 02:03:41.850531: I tensorflow/core/framework/local_rendezvous.cc:423] Local rendezvous recv item cancelled. Key hash: 2918327929679280915\n",
      "2024-10-24 02:03:41.850621: I tensorflow/core/framework/local_rendezvous.cc:423] Local rendezvous recv item cancelled. Key hash: 15736871328311997881\n"
     ]
    },
    {
     "name": "stdout",
     "output_type": "stream",
     "text": [
      "\u001b[1m39/39\u001b[0m \u001b[32m━━━━━━━━━━━━━━━━━━━━\u001b[0m\u001b[37m\u001b[0m \u001b[1m0s\u001b[0m 7ms/step - accuracy: 0.8125 - loss: 0.3762 - val_accuracy: 0.5185 - val_loss: 0.9479\n",
      "Epoch 345/400\n"
     ]
    },
    {
     "name": "stderr",
     "output_type": "stream",
     "text": [
      "2024-10-24 02:03:42.119974: I tensorflow/core/framework/local_rendezvous.cc:423] Local rendezvous recv item cancelled. Key hash: 2918327929679280915\n",
      "2024-10-24 02:03:42.120018: I tensorflow/core/framework/local_rendezvous.cc:423] Local rendezvous recv item cancelled. Key hash: 15736871328311997881\n"
     ]
    },
    {
     "name": "stdout",
     "output_type": "stream",
     "text": [
      "\u001b[1m39/39\u001b[0m \u001b[32m━━━━━━━━━━━━━━━━━━━━\u001b[0m\u001b[37m\u001b[0m \u001b[1m14s\u001b[0m 348ms/step - accuracy: 0.8157 - loss: 0.4589 - val_accuracy: 0.6493 - val_loss: 0.8945\n",
      "Epoch 346/400\n",
      "\u001b[1m 1/39\u001b[0m \u001b[37m━━━━━━━━━━━━━━━━━━━━\u001b[0m \u001b[1m1s\u001b[0m 35ms/step - accuracy: 0.8438 - loss: 0.4756"
     ]
    },
    {
     "name": "stderr",
     "output_type": "stream",
     "text": [
      "2024-10-24 02:03:55.717622: I tensorflow/core/framework/local_rendezvous.cc:423] Local rendezvous recv item cancelled. Key hash: 2918327929679280915\n",
      "2024-10-24 02:03:55.717670: I tensorflow/core/framework/local_rendezvous.cc:423] Local rendezvous recv item cancelled. Key hash: 15736871328311997881\n"
     ]
    },
    {
     "name": "stdout",
     "output_type": "stream",
     "text": [
      "\u001b[1m39/39\u001b[0m \u001b[32m━━━━━━━━━━━━━━━━━━━━\u001b[0m\u001b[37m\u001b[0m \u001b[1m0s\u001b[0m 6ms/step - accuracy: 0.8438 - loss: 0.4756 - val_accuracy: 0.7037 - val_loss: 0.6557\n",
      "Epoch 347/400\n",
      "\u001b[1m39/39\u001b[0m \u001b[32m━━━━━━━━━━━━━━━━━━━━\u001b[0m\u001b[37m\u001b[0m \u001b[1m14s\u001b[0m 347ms/step - accuracy: 0.8257 - loss: 0.4623 - val_accuracy: 0.6493 - val_loss: 0.8600\n",
      "Epoch 348/400\n",
      "\u001b[1m 1/39\u001b[0m \u001b[37m━━━━━━━━━━━━━━━━━━━━\u001b[0m \u001b[1m1s\u001b[0m 32ms/step - accuracy: 0.8750 - loss: 0.4097"
     ]
    },
    {
     "name": "stderr",
     "output_type": "stream",
     "text": [
      "2024-10-24 02:04:09.504608: I tensorflow/core/framework/local_rendezvous.cc:423] Local rendezvous recv item cancelled. Key hash: 2918327929679280915\n",
      "2024-10-24 02:04:09.504668: I tensorflow/core/framework/local_rendezvous.cc:423] Local rendezvous recv item cancelled. Key hash: 15736871328311997881\n"
     ]
    },
    {
     "name": "stdout",
     "output_type": "stream",
     "text": [
      "\u001b[1m39/39\u001b[0m \u001b[32m━━━━━━━━━━━━━━━━━━━━\u001b[0m\u001b[37m\u001b[0m \u001b[1m0s\u001b[0m 6ms/step - accuracy: 0.8750 - loss: 0.4097 - val_accuracy: 0.6667 - val_loss: 0.8464\n",
      "Epoch 349/400\n"
     ]
    },
    {
     "name": "stderr",
     "output_type": "stream",
     "text": [
      "2024-10-24 02:04:09.738138: I tensorflow/core/framework/local_rendezvous.cc:423] Local rendezvous recv item cancelled. Key hash: 2918327929679280915\n",
      "2024-10-24 02:04:09.738241: I tensorflow/core/framework/local_rendezvous.cc:423] Local rendezvous recv item cancelled. Key hash: 15736871328311997881\n"
     ]
    },
    {
     "name": "stdout",
     "output_type": "stream",
     "text": [
      "\u001b[1m39/39\u001b[0m \u001b[32m━━━━━━━━━━━━━━━━━━━━\u001b[0m\u001b[37m\u001b[0m \u001b[1m14s\u001b[0m 349ms/step - accuracy: 0.7930 - loss: 0.4885 - val_accuracy: 0.6910 - val_loss: 0.8351\n",
      "Epoch 350/400\n",
      "\u001b[1m 1/39\u001b[0m \u001b[37m━━━━━━━━━━━━━━━━━━━━\u001b[0m \u001b[1m1s\u001b[0m 34ms/step - accuracy: 0.7812 - loss: 0.4486"
     ]
    },
    {
     "name": "stderr",
     "output_type": "stream",
     "text": [
      "2024-10-24 02:04:23.380525: I tensorflow/core/framework/local_rendezvous.cc:423] Local rendezvous recv item cancelled. Key hash: 2918327929679280915\n",
      "2024-10-24 02:04:23.380584: I tensorflow/core/framework/local_rendezvous.cc:423] Local rendezvous recv item cancelled. Key hash: 15736871328311997881\n"
     ]
    },
    {
     "name": "stdout",
     "output_type": "stream",
     "text": [
      "\u001b[1m39/39\u001b[0m \u001b[32m━━━━━━━━━━━━━━━━━━━━\u001b[0m\u001b[37m\u001b[0m \u001b[1m0s\u001b[0m 7ms/step - accuracy: 0.7812 - loss: 0.4486 - val_accuracy: 0.6667 - val_loss: 0.9382\n",
      "Epoch 351/400\n"
     ]
    },
    {
     "name": "stderr",
     "output_type": "stream",
     "text": [
      "2024-10-24 02:04:23.657734: I tensorflow/core/framework/local_rendezvous.cc:423] Local rendezvous recv item cancelled. Key hash: 2918327929679280915\n",
      "2024-10-24 02:04:23.657784: I tensorflow/core/framework/local_rendezvous.cc:423] Local rendezvous recv item cancelled. Key hash: 15736871328311997881\n"
     ]
    },
    {
     "name": "stdout",
     "output_type": "stream",
     "text": [
      "\u001b[1m39/39\u001b[0m \u001b[32m━━━━━━━━━━━━━━━━━━━━\u001b[0m\u001b[37m\u001b[0m \u001b[1m14s\u001b[0m 347ms/step - accuracy: 0.7972 - loss: 0.4846 - val_accuracy: 0.6354 - val_loss: 0.9586\n",
      "Epoch 352/400\n",
      "\u001b[1m 1/39\u001b[0m \u001b[37m━━━━━━━━━━━━━━━━━━━━\u001b[0m \u001b[1m1s\u001b[0m 34ms/step - accuracy: 0.7188 - loss: 0.6106"
     ]
    },
    {
     "name": "stderr",
     "output_type": "stream",
     "text": [
      "2024-10-24 02:04:37.209175: I tensorflow/core/framework/local_rendezvous.cc:423] Local rendezvous recv item cancelled. Key hash: 2918327929679280915\n",
      "2024-10-24 02:04:37.209282: I tensorflow/core/framework/local_rendezvous.cc:423] Local rendezvous recv item cancelled. Key hash: 15736871328311997881\n"
     ]
    },
    {
     "name": "stdout",
     "output_type": "stream",
     "text": [
      "\u001b[1m39/39\u001b[0m \u001b[32m━━━━━━━━━━━━━━━━━━━━\u001b[0m\u001b[37m\u001b[0m \u001b[1m0s\u001b[0m 6ms/step - accuracy: 0.7188 - loss: 0.6106 - val_accuracy: 0.6667 - val_loss: 0.7264\n",
      "Epoch 353/400\n"
     ]
    },
    {
     "name": "stderr",
     "output_type": "stream",
     "text": [
      "2024-10-24 02:04:37.447561: I tensorflow/core/framework/local_rendezvous.cc:423] Local rendezvous recv item cancelled. Key hash: 2918327929679280915\n"
     ]
    },
    {
     "name": "stdout",
     "output_type": "stream",
     "text": [
      "\u001b[1m39/39\u001b[0m \u001b[32m━━━━━━━━━━━━━━━━━━━━\u001b[0m\u001b[37m\u001b[0m \u001b[1m14s\u001b[0m 355ms/step - accuracy: 0.7907 - loss: 0.4987 - val_accuracy: 0.6458 - val_loss: 0.9107\n",
      "Epoch 354/400\n",
      "\u001b[1m 1/39\u001b[0m \u001b[37m━━━━━━━━━━━━━━━━━━━━\u001b[0m \u001b[1m1s\u001b[0m 34ms/step - accuracy: 0.7500 - loss: 0.5459"
     ]
    },
    {
     "name": "stderr",
     "output_type": "stream",
     "text": [
      "2024-10-24 02:04:51.429780: I tensorflow/core/framework/local_rendezvous.cc:423] Local rendezvous recv item cancelled. Key hash: 2918327929679280915\n",
      "2024-10-24 02:04:51.429884: I tensorflow/core/framework/local_rendezvous.cc:423] Local rendezvous recv item cancelled. Key hash: 15736871328311997881\n"
     ]
    },
    {
     "name": "stdout",
     "output_type": "stream",
     "text": [
      "\u001b[1m39/39\u001b[0m \u001b[32m━━━━━━━━━━━━━━━━━━━━\u001b[0m\u001b[37m\u001b[0m \u001b[1m0s\u001b[0m 6ms/step - accuracy: 0.7500 - loss: 0.5459 - val_accuracy: 0.6667 - val_loss: 1.0144\n",
      "Epoch 355/400\n",
      "\u001b[1m39/39\u001b[0m \u001b[32m━━━━━━━━━━━━━━━━━━━━\u001b[0m\u001b[37m\u001b[0m \u001b[1m14s\u001b[0m 350ms/step - accuracy: 0.7962 - loss: 0.4785 - val_accuracy: 0.6389 - val_loss: 0.9013\n",
      "Epoch 356/400\n",
      "\u001b[1m 1/39\u001b[0m \u001b[37m━━━━━━━━━━━━━━━━━━━━\u001b[0m \u001b[1m1s\u001b[0m 35ms/step - accuracy: 0.8125 - loss: 0.4672"
     ]
    },
    {
     "name": "stderr",
     "output_type": "stream",
     "text": [
      "2024-10-24 02:05:05.349931: I tensorflow/core/framework/local_rendezvous.cc:423] Local rendezvous recv item cancelled. Key hash: 2918327929679280915\n",
      "2024-10-24 02:05:05.350054: I tensorflow/core/framework/local_rendezvous.cc:423] Local rendezvous recv item cancelled. Key hash: 15736871328311997881\n"
     ]
    },
    {
     "name": "stdout",
     "output_type": "stream",
     "text": [
      "\u001b[1m39/39\u001b[0m \u001b[32m━━━━━━━━━━━━━━━━━━━━\u001b[0m\u001b[37m\u001b[0m \u001b[1m0s\u001b[0m 6ms/step - accuracy: 0.8125 - loss: 0.4672 - val_accuracy: 0.6667 - val_loss: 0.6701\n",
      "Epoch 357/400\n",
      "\u001b[1m39/39\u001b[0m \u001b[32m━━━━━━━━━━━━━━━━━━━━\u001b[0m\u001b[37m\u001b[0m \u001b[1m14s\u001b[0m 348ms/step - accuracy: 0.7889 - loss: 0.4972 - val_accuracy: 0.6632 - val_loss: 0.8805\n",
      "Epoch 358/400\n",
      "\u001b[1m 1/39\u001b[0m \u001b[37m━━━━━━━━━━━━━━━━━━━━\u001b[0m \u001b[1m1s\u001b[0m 33ms/step - accuracy: 0.7188 - loss: 0.6868"
     ]
    },
    {
     "name": "stderr",
     "output_type": "stream",
     "text": [
      "2024-10-24 02:05:19.173196: I tensorflow/core/framework/local_rendezvous.cc:423] Local rendezvous recv item cancelled. Key hash: 2918327929679280915\n",
      "2024-10-24 02:05:19.173304: I tensorflow/core/framework/local_rendezvous.cc:423] Local rendezvous recv item cancelled. Key hash: 15736871328311997881\n"
     ]
    },
    {
     "name": "stdout",
     "output_type": "stream",
     "text": [
      "\u001b[1m39/39\u001b[0m \u001b[32m━━━━━━━━━━━━━━━━━━━━\u001b[0m\u001b[37m\u001b[0m \u001b[1m0s\u001b[0m 6ms/step - accuracy: 0.7188 - loss: 0.6868 - val_accuracy: 0.7407 - val_loss: 0.7194\n",
      "Epoch 359/400\n"
     ]
    },
    {
     "name": "stderr",
     "output_type": "stream",
     "text": [
      "2024-10-24 02:05:19.398452: I tensorflow/core/framework/local_rendezvous.cc:423] Local rendezvous recv item cancelled. Key hash: 2918327929679280915\n",
      "2024-10-24 02:05:19.398561: I tensorflow/core/framework/local_rendezvous.cc:423] Local rendezvous recv item cancelled. Key hash: 15736871328311997881\n"
     ]
    },
    {
     "name": "stdout",
     "output_type": "stream",
     "text": [
      "\u001b[1m39/39\u001b[0m \u001b[32m━━━━━━━━━━━━━━━━━━━━\u001b[0m\u001b[37m\u001b[0m \u001b[1m14s\u001b[0m 361ms/step - accuracy: 0.7858 - loss: 0.4810 - val_accuracy: 0.6562 - val_loss: 0.8437\n",
      "Epoch 360/400\n",
      "\u001b[1m 1/39\u001b[0m \u001b[37m━━━━━━━━━━━━━━━━━━━━\u001b[0m \u001b[1m1s\u001b[0m 36ms/step - accuracy: 0.8125 - loss: 0.4824"
     ]
    },
    {
     "name": "stderr",
     "output_type": "stream",
     "text": [
      "2024-10-24 02:05:33.327904: I tensorflow/core/framework/local_rendezvous.cc:423] Local rendezvous recv item cancelled. Key hash: 2918327929679280915\n",
      "2024-10-24 02:05:33.327953: I tensorflow/core/framework/local_rendezvous.cc:423] Local rendezvous recv item cancelled. Key hash: 15736871328311997881\n"
     ]
    },
    {
     "name": "stdout",
     "output_type": "stream",
     "text": [
      "\u001b[1m39/39\u001b[0m \u001b[32m━━━━━━━━━━━━━━━━━━━━\u001b[0m\u001b[37m\u001b[0m \u001b[1m0s\u001b[0m 6ms/step - accuracy: 0.8125 - loss: 0.4824 - val_accuracy: 0.5926 - val_loss: 0.9613\n",
      "Epoch 361/400\n"
     ]
    },
    {
     "name": "stderr",
     "output_type": "stream",
     "text": [
      "2024-10-24 02:05:33.557620: I tensorflow/core/framework/local_rendezvous.cc:423] Local rendezvous recv item cancelled. Key hash: 2918327929679280915\n",
      "2024-10-24 02:05:33.557669: I tensorflow/core/framework/local_rendezvous.cc:423] Local rendezvous recv item cancelled. Key hash: 15736871328311997881\n"
     ]
    },
    {
     "name": "stdout",
     "output_type": "stream",
     "text": [
      "\u001b[1m39/39\u001b[0m \u001b[32m━━━━━━━━━━━━━━━━━━━━\u001b[0m\u001b[37m\u001b[0m \u001b[1m14s\u001b[0m 348ms/step - accuracy: 0.8206 - loss: 0.4470 - val_accuracy: 0.6736 - val_loss: 0.8164\n",
      "Epoch 362/400\n",
      "\u001b[1m 1/39\u001b[0m \u001b[37m━━━━━━━━━━━━━━━━━━━━\u001b[0m \u001b[1m1s\u001b[0m 34ms/step - accuracy: 0.8125 - loss: 0.4437"
     ]
    },
    {
     "name": "stderr",
     "output_type": "stream",
     "text": [
      "2024-10-24 02:05:47.155575: I tensorflow/core/framework/local_rendezvous.cc:423] Local rendezvous recv item cancelled. Key hash: 2918327929679280915\n",
      "2024-10-24 02:05:47.155651: I tensorflow/core/framework/local_rendezvous.cc:423] Local rendezvous recv item cancelled. Key hash: 15736871328311997881\n"
     ]
    },
    {
     "name": "stdout",
     "output_type": "stream",
     "text": [
      "\u001b[1m39/39\u001b[0m \u001b[32m━━━━━━━━━━━━━━━━━━━━\u001b[0m\u001b[37m\u001b[0m \u001b[1m0s\u001b[0m 6ms/step - accuracy: 0.8125 - loss: 0.4437 - val_accuracy: 0.6667 - val_loss: 0.8182\n",
      "Epoch 363/400\n"
     ]
    },
    {
     "name": "stderr",
     "output_type": "stream",
     "text": [
      "2024-10-24 02:05:47.373817: I tensorflow/core/framework/local_rendezvous.cc:423] Local rendezvous recv item cancelled. Key hash: 2918327929679280915\n",
      "2024-10-24 02:05:47.373906: I tensorflow/core/framework/local_rendezvous.cc:423] Local rendezvous recv item cancelled. Key hash: 15736871328311997881\n"
     ]
    },
    {
     "name": "stdout",
     "output_type": "stream",
     "text": [
      "\u001b[1m39/39\u001b[0m \u001b[32m━━━━━━━━━━━━━━━━━━━━\u001b[0m\u001b[37m\u001b[0m \u001b[1m14s\u001b[0m 349ms/step - accuracy: 0.7991 - loss: 0.5006 - val_accuracy: 0.7083 - val_loss: 0.7859\n",
      "Epoch 364/400\n",
      "\u001b[1m 1/39\u001b[0m \u001b[37m━━━━━━━━━━━━━━━━━━━━\u001b[0m \u001b[1m1s\u001b[0m 33ms/step - accuracy: 0.8750 - loss: 0.4136"
     ]
    },
    {
     "name": "stderr",
     "output_type": "stream",
     "text": [
      "2024-10-24 02:06:01.004022: I tensorflow/core/framework/local_rendezvous.cc:423] Local rendezvous recv item cancelled. Key hash: 2918327929679280915\n"
     ]
    },
    {
     "name": "stdout",
     "output_type": "stream",
     "text": [
      "\u001b[1m39/39\u001b[0m \u001b[32m━━━━━━━━━━━━━━━━━━━━\u001b[0m\u001b[37m\u001b[0m \u001b[1m0s\u001b[0m 6ms/step - accuracy: 0.8750 - loss: 0.4136 - val_accuracy: 0.5185 - val_loss: 1.2517\n",
      "Epoch 365/400\n"
     ]
    },
    {
     "name": "stderr",
     "output_type": "stream",
     "text": [
      "2024-10-24 02:06:01.223804: I tensorflow/core/framework/local_rendezvous.cc:423] Local rendezvous recv item cancelled. Key hash: 2918327929679280915\n"
     ]
    },
    {
     "name": "stdout",
     "output_type": "stream",
     "text": [
      "\u001b[1m39/39\u001b[0m \u001b[32m━━━━━━━━━━━━━━━━━━━━\u001b[0m\u001b[37m\u001b[0m \u001b[1m14s\u001b[0m 355ms/step - accuracy: 0.7902 - loss: 0.4859 - val_accuracy: 0.6840 - val_loss: 0.8938\n",
      "Epoch 366/400\n",
      "\u001b[1m 1/39\u001b[0m \u001b[37m━━━━━━━━━━━━━━━━━━━━\u001b[0m \u001b[1m0s\u001b[0m 22ms/step - accuracy: 0.8235 - loss: 0.4717"
     ]
    },
    {
     "name": "stderr",
     "output_type": "stream",
     "text": [
      "2024-10-24 02:06:15.100471: I tensorflow/core/framework/local_rendezvous.cc:423] Local rendezvous recv item cancelled. Key hash: 2918327929679280915\n",
      "2024-10-24 02:06:15.100801: I tensorflow/core/framework/local_rendezvous.cc:423] Local rendezvous recv item cancelled. Key hash: 15736871328311997881\n"
     ]
    },
    {
     "name": "stdout",
     "output_type": "stream",
     "text": [
      "\u001b[1m39/39\u001b[0m \u001b[32m━━━━━━━━━━━━━━━━━━━━\u001b[0m\u001b[37m\u001b[0m \u001b[1m0s\u001b[0m 6ms/step - accuracy: 0.8235 - loss: 0.4717 - val_accuracy: 0.5185 - val_loss: 0.9702\n",
      "Epoch 367/400\n"
     ]
    },
    {
     "name": "stderr",
     "output_type": "stream",
     "text": [
      "2024-10-24 02:06:15.330426: I tensorflow/core/framework/local_rendezvous.cc:423] Local rendezvous recv item cancelled. Key hash: 2918327929679280915\n",
      "2024-10-24 02:06:15.330470: I tensorflow/core/framework/local_rendezvous.cc:423] Local rendezvous recv item cancelled. Key hash: 15736871328311997881\n"
     ]
    },
    {
     "name": "stdout",
     "output_type": "stream",
     "text": [
      "\u001b[1m39/39\u001b[0m \u001b[32m━━━━━━━━━━━━━━━━━━━━\u001b[0m\u001b[37m\u001b[0m \u001b[1m14s\u001b[0m 350ms/step - accuracy: 0.8049 - loss: 0.4732 - val_accuracy: 0.6597 - val_loss: 0.9499\n",
      "Epoch 368/400\n",
      "\u001b[1m 1/39\u001b[0m \u001b[37m━━━━━━━━━━━━━━━━━━━━\u001b[0m \u001b[1m1s\u001b[0m 34ms/step - accuracy: 0.9062 - loss: 0.3128"
     ]
    },
    {
     "name": "stderr",
     "output_type": "stream",
     "text": [
      "2024-10-24 02:06:29.021386: I tensorflow/core/framework/local_rendezvous.cc:423] Local rendezvous recv item cancelled. Key hash: 2918327929679280915\n",
      "2024-10-24 02:06:29.021491: I tensorflow/core/framework/local_rendezvous.cc:423] Local rendezvous recv item cancelled. Key hash: 15736871328311997881\n",
      "2024-10-24 02:06:29.221285: I tensorflow/core/framework/local_rendezvous.cc:423] Local rendezvous recv item cancelled. Key hash: 2918327929679280915\n",
      "2024-10-24 02:06:29.221405: I tensorflow/core/framework/local_rendezvous.cc:423] Local rendezvous recv item cancelled. Key hash: 15736871328311997881\n"
     ]
    },
    {
     "name": "stdout",
     "output_type": "stream",
     "text": [
      "\u001b[1m39/39\u001b[0m \u001b[32m━━━━━━━━━━━━━━━━━━━━\u001b[0m\u001b[37m\u001b[0m \u001b[1m0s\u001b[0m 5ms/step - accuracy: 0.9062 - loss: 0.3128 - val_accuracy: 0.6667 - val_loss: 0.9450\n",
      "Epoch 369/400\n",
      "\u001b[1m39/39\u001b[0m \u001b[32m━━━━━━━━━━━━━━━━━━━━\u001b[0m\u001b[37m\u001b[0m \u001b[1m14s\u001b[0m 351ms/step - accuracy: 0.8107 - loss: 0.4764 - val_accuracy: 0.6389 - val_loss: 0.8651\n",
      "Epoch 370/400\n",
      "\u001b[1m 1/39\u001b[0m \u001b[37m━━━━━━━━━━━━━━━━━━━━\u001b[0m \u001b[1m1s\u001b[0m 32ms/step - accuracy: 0.7812 - loss: 0.5578"
     ]
    },
    {
     "name": "stderr",
     "output_type": "stream",
     "text": [
      "2024-10-24 02:06:42.965324: I tensorflow/core/framework/local_rendezvous.cc:423] Local rendezvous recv item cancelled. Key hash: 2918327929679280915\n",
      "2024-10-24 02:06:42.965451: I tensorflow/core/framework/local_rendezvous.cc:423] Local rendezvous recv item cancelled. Key hash: 15736871328311997881\n"
     ]
    },
    {
     "name": "stdout",
     "output_type": "stream",
     "text": [
      "\u001b[1m39/39\u001b[0m \u001b[32m━━━━━━━━━━━━━━━━━━━━\u001b[0m\u001b[37m\u001b[0m \u001b[1m0s\u001b[0m 6ms/step - accuracy: 0.7812 - loss: 0.5578 - val_accuracy: 0.7407 - val_loss: 0.6825\n",
      "Epoch 371/400\n"
     ]
    },
    {
     "name": "stderr",
     "output_type": "stream",
     "text": [
      "2024-10-24 02:06:43.193169: I tensorflow/core/framework/local_rendezvous.cc:423] Local rendezvous recv item cancelled. Key hash: 2918327929679280915\n",
      "2024-10-24 02:06:43.193283: I tensorflow/core/framework/local_rendezvous.cc:423] Local rendezvous recv item cancelled. Key hash: 15736871328311997881\n"
     ]
    },
    {
     "name": "stdout",
     "output_type": "stream",
     "text": [
      "\u001b[1m39/39\u001b[0m \u001b[32m━━━━━━━━━━━━━━━━━━━━\u001b[0m\u001b[37m\u001b[0m \u001b[1m20s\u001b[0m 348ms/step - accuracy: 0.8164 - loss: 0.4916 - val_accuracy: 0.6389 - val_loss: 0.8660\n",
      "Epoch 372/400\n",
      "\u001b[1m 1/39\u001b[0m \u001b[37m━━━━━━━━━━━━━━━━━━━━\u001b[0m \u001b[1m1s\u001b[0m 32ms/step - accuracy: 0.7812 - loss: 0.4393"
     ]
    },
    {
     "name": "stderr",
     "output_type": "stream",
     "text": [
      "2024-10-24 02:07:03.275557: I tensorflow/core/framework/local_rendezvous.cc:423] Local rendezvous recv item cancelled. Key hash: 2918327929679280915\n",
      "2024-10-24 02:07:03.275616: I tensorflow/core/framework/local_rendezvous.cc:423] Local rendezvous recv item cancelled. Key hash: 15736871328311997881\n"
     ]
    },
    {
     "name": "stdout",
     "output_type": "stream",
     "text": [
      "\u001b[1m39/39\u001b[0m \u001b[32m━━━━━━━━━━━━━━━━━━━━\u001b[0m\u001b[37m\u001b[0m \u001b[1m0s\u001b[0m 6ms/step - accuracy: 0.7812 - loss: 0.4393 - val_accuracy: 0.5556 - val_loss: 1.0625\n",
      "Epoch 373/400\n"
     ]
    },
    {
     "name": "stderr",
     "output_type": "stream",
     "text": [
      "2024-10-24 02:07:03.493988: I tensorflow/core/framework/local_rendezvous.cc:423] Local rendezvous recv item cancelled. Key hash: 2918327929679280915\n",
      "2024-10-24 02:07:03.494031: I tensorflow/core/framework/local_rendezvous.cc:423] Local rendezvous recv item cancelled. Key hash: 15736871328311997881\n"
     ]
    },
    {
     "name": "stdout",
     "output_type": "stream",
     "text": [
      "\u001b[1m39/39\u001b[0m \u001b[32m━━━━━━━━━━━━━━━━━━━━\u001b[0m\u001b[37m\u001b[0m \u001b[1m14s\u001b[0m 348ms/step - accuracy: 0.7821 - loss: 0.4828 - val_accuracy: 0.6667 - val_loss: 0.8690\n",
      "Epoch 374/400\n",
      "\u001b[1m 1/39\u001b[0m \u001b[37m━━━━━━━━━━━━━━━━━━━━\u001b[0m \u001b[1m1s\u001b[0m 37ms/step - accuracy: 0.8750 - loss: 0.3406"
     ]
    },
    {
     "name": "stderr",
     "output_type": "stream",
     "text": [
      "2024-10-24 02:07:17.097111: I tensorflow/core/framework/local_rendezvous.cc:423] Local rendezvous recv item cancelled. Key hash: 2918327929679280915\n",
      "2024-10-24 02:07:17.097159: I tensorflow/core/framework/local_rendezvous.cc:423] Local rendezvous recv item cancelled. Key hash: 15736871328311997881\n"
     ]
    },
    {
     "name": "stdout",
     "output_type": "stream",
     "text": [
      "\u001b[1m39/39\u001b[0m \u001b[32m━━━━━━━━━━━━━━━━━━━━\u001b[0m\u001b[37m\u001b[0m \u001b[1m0s\u001b[0m 7ms/step - accuracy: 0.8750 - loss: 0.3406 - val_accuracy: 0.6667 - val_loss: 0.9975\n",
      "Epoch 375/400\n"
     ]
    },
    {
     "name": "stderr",
     "output_type": "stream",
     "text": [
      "2024-10-24 02:07:17.348751: I tensorflow/core/framework/local_rendezvous.cc:423] Local rendezvous recv item cancelled. Key hash: 2918327929679280915\n"
     ]
    },
    {
     "name": "stdout",
     "output_type": "stream",
     "text": [
      "\u001b[1m39/39\u001b[0m \u001b[32m━━━━━━━━━━━━━━━━━━━━\u001b[0m\u001b[37m\u001b[0m \u001b[1m14s\u001b[0m 353ms/step - accuracy: 0.7732 - loss: 0.5003 - val_accuracy: 0.6389 - val_loss: 0.8621\n",
      "Epoch 376/400\n",
      "\u001b[1m 1/39\u001b[0m \u001b[37m━━━━━━━━━━━━━━━━━━━━\u001b[0m \u001b[1m0s\u001b[0m 22ms/step - accuracy: 0.8824 - loss: 0.2463"
     ]
    },
    {
     "name": "stderr",
     "output_type": "stream",
     "text": [
      "2024-10-24 02:07:31.148529: I tensorflow/core/framework/local_rendezvous.cc:423] Local rendezvous recv item cancelled. Key hash: 2918327929679280915\n",
      "2024-10-24 02:07:31.148593: I tensorflow/core/framework/local_rendezvous.cc:423] Local rendezvous recv item cancelled. Key hash: 15736871328311997881\n"
     ]
    },
    {
     "name": "stdout",
     "output_type": "stream",
     "text": [
      "\u001b[1m39/39\u001b[0m \u001b[32m━━━━━━━━━━━━━━━━━━━━\u001b[0m\u001b[37m\u001b[0m \u001b[1m0s\u001b[0m 9ms/step - accuracy: 0.8824 - loss: 0.2463 - val_accuracy: 0.8889 - val_loss: 0.4358\n",
      "Epoch 377/400\n",
      "\u001b[1m39/39\u001b[0m \u001b[32m━━━━━━━━━━━━━━━━━━━━\u001b[0m\u001b[37m\u001b[0m \u001b[1m14s\u001b[0m 354ms/step - accuracy: 0.8243 - loss: 0.4670 - val_accuracy: 0.6458 - val_loss: 0.8432\n",
      "Epoch 378/400\n",
      "\u001b[1m 1/39\u001b[0m \u001b[37m━━━━━━━━━━━━━━━━━━━━\u001b[0m \u001b[1m1s\u001b[0m 38ms/step - accuracy: 0.7500 - loss: 0.5597"
     ]
    },
    {
     "name": "stderr",
     "output_type": "stream",
     "text": [
      "2024-10-24 02:07:45.312870: I tensorflow/core/framework/local_rendezvous.cc:423] Local rendezvous recv item cancelled. Key hash: 2918327929679280915\n",
      "2024-10-24 02:07:45.312924: I tensorflow/core/framework/local_rendezvous.cc:423] Local rendezvous recv item cancelled. Key hash: 15736871328311997881\n"
     ]
    },
    {
     "name": "stdout",
     "output_type": "stream",
     "text": [
      "\u001b[1m39/39\u001b[0m \u001b[32m━━━━━━━━━━━━━━━━━━━━\u001b[0m\u001b[37m\u001b[0m \u001b[1m0s\u001b[0m 7ms/step - accuracy: 0.7500 - loss: 0.5597 - val_accuracy: 0.6296 - val_loss: 1.2597\n",
      "Epoch 379/400\n"
     ]
    },
    {
     "name": "stderr",
     "output_type": "stream",
     "text": [
      "2024-10-24 02:07:45.584439: I tensorflow/core/framework/local_rendezvous.cc:423] Local rendezvous recv item cancelled. Key hash: 2918327929679280915\n",
      "2024-10-24 02:07:45.584489: I tensorflow/core/framework/local_rendezvous.cc:423] Local rendezvous recv item cancelled. Key hash: 15736871328311997881\n"
     ]
    },
    {
     "name": "stdout",
     "output_type": "stream",
     "text": [
      "\u001b[1m39/39\u001b[0m \u001b[32m━━━━━━━━━━━━━━━━━━━━\u001b[0m\u001b[37m\u001b[0m \u001b[1m13s\u001b[0m 343ms/step - accuracy: 0.8106 - loss: 0.4747 - val_accuracy: 0.6806 - val_loss: 0.8606\n",
      "Epoch 380/400\n",
      "\u001b[1m 1/39\u001b[0m \u001b[37m━━━━━━━━━━━━━━━━━━━━\u001b[0m \u001b[1m1s\u001b[0m 32ms/step - accuracy: 0.7188 - loss: 0.5921"
     ]
    },
    {
     "name": "stderr",
     "output_type": "stream",
     "text": [
      "2024-10-24 02:07:58.993470: I tensorflow/core/framework/local_rendezvous.cc:423] Local rendezvous recv item cancelled. Key hash: 2918327929679280915\n",
      "2024-10-24 02:07:58.993531: I tensorflow/core/framework/local_rendezvous.cc:423] Local rendezvous recv item cancelled. Key hash: 15736871328311997881\n"
     ]
    },
    {
     "name": "stdout",
     "output_type": "stream",
     "text": [
      "\u001b[1m39/39\u001b[0m \u001b[32m━━━━━━━━━━━━━━━━━━━━\u001b[0m\u001b[37m\u001b[0m \u001b[1m0s\u001b[0m 6ms/step - accuracy: 0.7188 - loss: 0.5921 - val_accuracy: 0.6296 - val_loss: 0.9451\n",
      "Epoch 381/400\n"
     ]
    },
    {
     "name": "stderr",
     "output_type": "stream",
     "text": [
      "2024-10-24 02:07:59.225262: I tensorflow/core/framework/local_rendezvous.cc:423] Local rendezvous recv item cancelled. Key hash: 2918327929679280915\n",
      "2024-10-24 02:07:59.225313: I tensorflow/core/framework/local_rendezvous.cc:423] Local rendezvous recv item cancelled. Key hash: 15736871328311997881\n"
     ]
    },
    {
     "name": "stdout",
     "output_type": "stream",
     "text": [
      "\u001b[1m39/39\u001b[0m \u001b[32m━━━━━━━━━━━━━━━━━━━━\u001b[0m\u001b[37m\u001b[0m \u001b[1m14s\u001b[0m 352ms/step - accuracy: 0.8179 - loss: 0.4450 - val_accuracy: 0.6910 - val_loss: 0.8687\n",
      "Epoch 382/400\n",
      "\u001b[1m 1/39\u001b[0m \u001b[37m━━━━━━━━━━━━━━━━━━━━\u001b[0m \u001b[1m1s\u001b[0m 35ms/step - accuracy: 0.6875 - loss: 0.6089"
     ]
    },
    {
     "name": "stderr",
     "output_type": "stream",
     "text": [
      "2024-10-24 02:08:13.028336: I tensorflow/core/framework/local_rendezvous.cc:423] Local rendezvous recv item cancelled. Key hash: 2918327929679280915\n",
      "2024-10-24 02:08:13.028467: I tensorflow/core/framework/local_rendezvous.cc:423] Local rendezvous recv item cancelled. Key hash: 15736871328311997881\n"
     ]
    },
    {
     "name": "stdout",
     "output_type": "stream",
     "text": [
      "\u001b[1m39/39\u001b[0m \u001b[32m━━━━━━━━━━━━━━━━━━━━\u001b[0m\u001b[37m\u001b[0m \u001b[1m0s\u001b[0m 11ms/step - accuracy: 0.6875 - loss: 0.6089 - val_accuracy: 0.5185 - val_loss: 1.0234\n",
      "Epoch 383/400\n"
     ]
    },
    {
     "name": "stderr",
     "output_type": "stream",
     "text": [
      "2024-10-24 02:08:13.432072: I tensorflow/core/framework/local_rendezvous.cc:423] Local rendezvous recv item cancelled. Key hash: 2918327929679280915\n",
      "2024-10-24 02:08:13.432167: I tensorflow/core/framework/local_rendezvous.cc:423] Local rendezvous recv item cancelled. Key hash: 15736871328311997881\n"
     ]
    },
    {
     "name": "stdout",
     "output_type": "stream",
     "text": [
      "\u001b[1m39/39\u001b[0m \u001b[32m━━━━━━━━━━━━━━━━━━━━\u001b[0m\u001b[37m\u001b[0m \u001b[1m14s\u001b[0m 350ms/step - accuracy: 0.8255 - loss: 0.4563 - val_accuracy: 0.6910 - val_loss: 0.8610\n",
      "Epoch 384/400\n",
      "\u001b[1m 1/39\u001b[0m \u001b[37m━━━━━━━━━━━━━━━━━━━━\u001b[0m \u001b[1m1s\u001b[0m 34ms/step - accuracy: 0.7188 - loss: 0.5415"
     ]
    },
    {
     "name": "stderr",
     "output_type": "stream",
     "text": [
      "2024-10-24 02:08:27.105893: I tensorflow/core/framework/local_rendezvous.cc:423] Local rendezvous recv item cancelled. Key hash: 2918327929679280915\n",
      "2024-10-24 02:08:27.106002: I tensorflow/core/framework/local_rendezvous.cc:423] Local rendezvous recv item cancelled. Key hash: 15736871328311997881\n"
     ]
    },
    {
     "name": "stdout",
     "output_type": "stream",
     "text": [
      "\u001b[1m39/39\u001b[0m \u001b[32m━━━━━━━━━━━━━━━━━━━━\u001b[0m\u001b[37m\u001b[0m \u001b[1m0s\u001b[0m 5ms/step - accuracy: 0.7188 - loss: 0.5415 - val_accuracy: 0.7407 - val_loss: 0.9814\n",
      "Epoch 385/400\n"
     ]
    },
    {
     "name": "stderr",
     "output_type": "stream",
     "text": [
      "2024-10-24 02:08:27.315023: I tensorflow/core/framework/local_rendezvous.cc:423] Local rendezvous recv item cancelled. Key hash: 2918327929679280915\n",
      "2024-10-24 02:08:27.315071: I tensorflow/core/framework/local_rendezvous.cc:423] Local rendezvous recv item cancelled. Key hash: 15736871328311997881\n"
     ]
    },
    {
     "name": "stdout",
     "output_type": "stream",
     "text": [
      "\u001b[1m39/39\u001b[0m \u001b[32m━━━━━━━━━━━━━━━━━━━━\u001b[0m\u001b[37m\u001b[0m \u001b[1m14s\u001b[0m 354ms/step - accuracy: 0.7961 - loss: 0.4893 - val_accuracy: 0.7188 - val_loss: 0.7508\n",
      "Epoch 386/400\n",
      "\u001b[1m 1/39\u001b[0m \u001b[37m━━━━━━━━━━━━━━━━━━━━\u001b[0m \u001b[1m1s\u001b[0m 31ms/step - accuracy: 0.8438 - loss: 0.3685"
     ]
    },
    {
     "name": "stderr",
     "output_type": "stream",
     "text": [
      "2024-10-24 02:08:41.122361: I tensorflow/core/framework/local_rendezvous.cc:423] Local rendezvous recv item cancelled. Key hash: 2918327929679280915\n",
      "2024-10-24 02:08:41.122396: I tensorflow/core/framework/local_rendezvous.cc:423] Local rendezvous recv item cancelled. Key hash: 15736871328311997881\n"
     ]
    },
    {
     "name": "stdout",
     "output_type": "stream",
     "text": [
      "\u001b[1m39/39\u001b[0m \u001b[32m━━━━━━━━━━━━━━━━━━━━\u001b[0m\u001b[37m\u001b[0m \u001b[1m0s\u001b[0m 6ms/step - accuracy: 0.8438 - loss: 0.3685 - val_accuracy: 0.5185 - val_loss: 0.9299\n",
      "Epoch 387/400\n"
     ]
    },
    {
     "name": "stderr",
     "output_type": "stream",
     "text": [
      "2024-10-24 02:08:41.345667: I tensorflow/core/framework/local_rendezvous.cc:423] Local rendezvous recv item cancelled. Key hash: 2918327929679280915\n",
      "2024-10-24 02:08:41.345709: I tensorflow/core/framework/local_rendezvous.cc:423] Local rendezvous recv item cancelled. Key hash: 15736871328311997881\n"
     ]
    },
    {
     "name": "stdout",
     "output_type": "stream",
     "text": [
      "\u001b[1m39/39\u001b[0m \u001b[32m━━━━━━━━━━━━━━━━━━━━\u001b[0m\u001b[37m\u001b[0m \u001b[1m20s\u001b[0m 348ms/step - accuracy: 0.8185 - loss: 0.4545 - val_accuracy: 0.6875 - val_loss: 0.8341\n",
      "Epoch 388/400\n",
      "\u001b[1m 1/39\u001b[0m \u001b[37m━━━━━━━━━━━━━━━━━━━━\u001b[0m \u001b[1m1s\u001b[0m 33ms/step - accuracy: 0.8750 - loss: 0.4505"
     ]
    },
    {
     "name": "stderr",
     "output_type": "stream",
     "text": [
      "2024-10-24 02:09:01.439230: I tensorflow/core/framework/local_rendezvous.cc:423] Local rendezvous recv item cancelled. Key hash: 2918327929679280915\n",
      "2024-10-24 02:09:01.439282: I tensorflow/core/framework/local_rendezvous.cc:423] Local rendezvous recv item cancelled. Key hash: 15736871328311997881\n"
     ]
    },
    {
     "name": "stdout",
     "output_type": "stream",
     "text": [
      "\u001b[1m39/39\u001b[0m \u001b[32m━━━━━━━━━━━━━━━━━━━━\u001b[0m\u001b[37m\u001b[0m \u001b[1m0s\u001b[0m 9ms/step - accuracy: 0.8750 - loss: 0.4505 - val_accuracy: 0.5556 - val_loss: 1.3433\n",
      "Epoch 389/400\n"
     ]
    },
    {
     "name": "stderr",
     "output_type": "stream",
     "text": [
      "2024-10-24 02:09:01.770599: I tensorflow/core/framework/local_rendezvous.cc:423] Local rendezvous recv item cancelled. Key hash: 2918327929679280915\n",
      "2024-10-24 02:09:01.770703: I tensorflow/core/framework/local_rendezvous.cc:423] Local rendezvous recv item cancelled. Key hash: 15736871328311997881\n"
     ]
    },
    {
     "name": "stdout",
     "output_type": "stream",
     "text": [
      "\u001b[1m39/39\u001b[0m \u001b[32m━━━━━━━━━━━━━━━━━━━━\u001b[0m\u001b[37m\u001b[0m \u001b[1m14s\u001b[0m 347ms/step - accuracy: 0.8106 - loss: 0.4777 - val_accuracy: 0.6875 - val_loss: 0.8839\n",
      "Epoch 390/400\n",
      "\u001b[1m 1/39\u001b[0m \u001b[37m━━━━━━━━━━━━━━━━━━━━\u001b[0m \u001b[1m1s\u001b[0m 34ms/step - accuracy: 0.7188 - loss: 0.5116"
     ]
    },
    {
     "name": "stderr",
     "output_type": "stream",
     "text": [
      "2024-10-24 02:09:15.329271: I tensorflow/core/framework/local_rendezvous.cc:423] Local rendezvous recv item cancelled. Key hash: 2918327929679280915\n",
      "2024-10-24 02:09:15.329338: I tensorflow/core/framework/local_rendezvous.cc:423] Local rendezvous recv item cancelled. Key hash: 15736871328311997881\n"
     ]
    },
    {
     "name": "stdout",
     "output_type": "stream",
     "text": [
      "\u001b[1m39/39\u001b[0m \u001b[32m━━━━━━━━━━━━━━━━━━━━\u001b[0m\u001b[37m\u001b[0m \u001b[1m0s\u001b[0m 6ms/step - accuracy: 0.7188 - loss: 0.5116 - val_accuracy: 0.6667 - val_loss: 0.6124\n",
      "Epoch 391/400\n"
     ]
    },
    {
     "name": "stderr",
     "output_type": "stream",
     "text": [
      "2024-10-24 02:09:15.557903: I tensorflow/core/framework/local_rendezvous.cc:423] Local rendezvous recv item cancelled. Key hash: 2918327929679280915\n"
     ]
    },
    {
     "name": "stdout",
     "output_type": "stream",
     "text": [
      "\u001b[1m39/39\u001b[0m \u001b[32m━━━━━━━━━━━━━━━━━━━━\u001b[0m\u001b[37m\u001b[0m \u001b[1m14s\u001b[0m 350ms/step - accuracy: 0.8224 - loss: 0.4539 - val_accuracy: 0.6493 - val_loss: 0.8457\n",
      "Epoch 392/400\n",
      "\u001b[1m 1/39\u001b[0m \u001b[37m━━━━━━━━━━━━━━━━━━━━\u001b[0m \u001b[1m1s\u001b[0m 34ms/step - accuracy: 0.8438 - loss: 0.4750"
     ]
    },
    {
     "name": "stderr",
     "output_type": "stream",
     "text": [
      "2024-10-24 02:09:29.244135: I tensorflow/core/framework/local_rendezvous.cc:423] Local rendezvous recv item cancelled. Key hash: 2918327929679280915\n",
      "2024-10-24 02:09:29.244235: I tensorflow/core/framework/local_rendezvous.cc:423] Local rendezvous recv item cancelled. Key hash: 15736871328311997881\n"
     ]
    },
    {
     "name": "stdout",
     "output_type": "stream",
     "text": [
      "\u001b[1m39/39\u001b[0m \u001b[32m━━━━━━━━━━━━━━━━━━━━\u001b[0m\u001b[37m\u001b[0m \u001b[1m0s\u001b[0m 6ms/step - accuracy: 0.8438 - loss: 0.4750 - val_accuracy: 0.7407 - val_loss: 0.7869\n",
      "Epoch 393/400\n"
     ]
    },
    {
     "name": "stderr",
     "output_type": "stream",
     "text": [
      "2024-10-24 02:09:29.460805: I tensorflow/core/framework/local_rendezvous.cc:423] Local rendezvous recv item cancelled. Key hash: 2918327929679280915\n",
      "2024-10-24 02:09:29.460897: I tensorflow/core/framework/local_rendezvous.cc:423] Local rendezvous recv item cancelled. Key hash: 15736871328311997881\n"
     ]
    },
    {
     "name": "stdout",
     "output_type": "stream",
     "text": [
      "\u001b[1m39/39\u001b[0m \u001b[32m━━━━━━━━━━━━━━━━━━━━\u001b[0m\u001b[37m\u001b[0m \u001b[1m13s\u001b[0m 344ms/step - accuracy: 0.8120 - loss: 0.4687 - val_accuracy: 0.6771 - val_loss: 0.9576\n",
      "Epoch 394/400\n",
      "\u001b[1m 1/39\u001b[0m \u001b[37m━━━━━━━━━━━━━━━━━━━━\u001b[0m \u001b[1m1s\u001b[0m 33ms/step - accuracy: 0.7500 - loss: 0.4618"
     ]
    },
    {
     "name": "stderr",
     "output_type": "stream",
     "text": [
      "2024-10-24 02:09:42.920343: I tensorflow/core/framework/local_rendezvous.cc:423] Local rendezvous recv item cancelled. Key hash: 2918327929679280915\n"
     ]
    },
    {
     "name": "stdout",
     "output_type": "stream",
     "text": [
      "\u001b[1m39/39\u001b[0m \u001b[32m━━━━━━━━━━━━━━━━━━━━\u001b[0m\u001b[37m\u001b[0m \u001b[1m0s\u001b[0m 7ms/step - accuracy: 0.7500 - loss: 0.4618 - val_accuracy: 0.7778 - val_loss: 0.5111\n",
      "Epoch 395/400\n"
     ]
    },
    {
     "name": "stderr",
     "output_type": "stream",
     "text": [
      "2024-10-24 02:09:43.173868: I tensorflow/core/framework/local_rendezvous.cc:423] Local rendezvous recv item cancelled. Key hash: 2918327929679280915\n",
      "2024-10-24 02:09:43.173933: I tensorflow/core/framework/local_rendezvous.cc:423] Local rendezvous recv item cancelled. Key hash: 15736871328311997881\n"
     ]
    },
    {
     "name": "stdout",
     "output_type": "stream",
     "text": [
      "\u001b[1m39/39\u001b[0m \u001b[32m━━━━━━━━━━━━━━━━━━━━\u001b[0m\u001b[37m\u001b[0m \u001b[1m14s\u001b[0m 347ms/step - accuracy: 0.8203 - loss: 0.4607 - val_accuracy: 0.6771 - val_loss: 0.8630\n",
      "Epoch 396/400\n",
      "\u001b[1m 1/39\u001b[0m \u001b[37m━━━━━━━━━━━━━━━━━━━━\u001b[0m \u001b[1m1s\u001b[0m 34ms/step - accuracy: 0.8125 - loss: 0.4562"
     ]
    },
    {
     "name": "stderr",
     "output_type": "stream",
     "text": [
      "2024-10-24 02:09:56.749555: I tensorflow/core/framework/local_rendezvous.cc:423] Local rendezvous recv item cancelled. Key hash: 2918327929679280915\n"
     ]
    },
    {
     "name": "stdout",
     "output_type": "stream",
     "text": [
      "\u001b[1m39/39\u001b[0m \u001b[32m━━━━━━━━━━━━━━━━━━━━\u001b[0m\u001b[37m\u001b[0m \u001b[1m0s\u001b[0m 6ms/step - accuracy: 0.8125 - loss: 0.4562 - val_accuracy: 0.5185 - val_loss: 1.1635\n",
      "Epoch 397/400\n"
     ]
    },
    {
     "name": "stderr",
     "output_type": "stream",
     "text": [
      "2024-10-24 02:09:56.972355: I tensorflow/core/framework/local_rendezvous.cc:423] Local rendezvous recv item cancelled. Key hash: 2918327929679280915\n",
      "2024-10-24 02:09:56.972412: I tensorflow/core/framework/local_rendezvous.cc:423] Local rendezvous recv item cancelled. Key hash: 15736871328311997881\n"
     ]
    },
    {
     "name": "stdout",
     "output_type": "stream",
     "text": [
      "\u001b[1m39/39\u001b[0m \u001b[32m━━━━━━━━━━━━━━━━━━━━\u001b[0m\u001b[37m\u001b[0m \u001b[1m14s\u001b[0m 349ms/step - accuracy: 0.7997 - loss: 0.4735 - val_accuracy: 0.6806 - val_loss: 0.8397\n",
      "Epoch 398/400\n",
      "\u001b[1m 1/39\u001b[0m \u001b[37m━━━━━━━━━━━━━━━━━━━━\u001b[0m \u001b[1m0s\u001b[0m 19ms/step - accuracy: 0.8824 - loss: 0.3107"
     ]
    },
    {
     "name": "stderr",
     "output_type": "stream",
     "text": [
      "2024-10-24 02:10:10.645004: I tensorflow/core/framework/local_rendezvous.cc:423] Local rendezvous recv item cancelled. Key hash: 2918327929679280915\n",
      "2024-10-24 02:10:10.645080: I tensorflow/core/framework/local_rendezvous.cc:423] Local rendezvous recv item cancelled. Key hash: 15736871328311997881\n"
     ]
    },
    {
     "name": "stdout",
     "output_type": "stream",
     "text": [
      "\u001b[1m39/39\u001b[0m \u001b[32m━━━━━━━━━━━━━━━━━━━━\u001b[0m\u001b[37m\u001b[0m \u001b[1m0s\u001b[0m 7ms/step - accuracy: 0.8824 - loss: 0.3107 - val_accuracy: 0.4815 - val_loss: 1.0641\n",
      "Epoch 399/400\n"
     ]
    },
    {
     "name": "stderr",
     "output_type": "stream",
     "text": [
      "2024-10-24 02:10:10.893214: I tensorflow/core/framework/local_rendezvous.cc:423] Local rendezvous recv item cancelled. Key hash: 2918327929679280915\n",
      "2024-10-24 02:10:10.893268: I tensorflow/core/framework/local_rendezvous.cc:423] Local rendezvous recv item cancelled. Key hash: 15736871328311997881\n"
     ]
    },
    {
     "name": "stdout",
     "output_type": "stream",
     "text": [
      "\u001b[1m39/39\u001b[0m \u001b[32m━━━━━━━━━━━━━━━━━━━━\u001b[0m\u001b[37m\u001b[0m \u001b[1m14s\u001b[0m 348ms/step - accuracy: 0.8229 - loss: 0.4370 - val_accuracy: 0.6562 - val_loss: 0.9213\n",
      "Epoch 400/400\n",
      "\u001b[1m 1/39\u001b[0m \u001b[37m━━━━━━━━━━━━━━━━━━━━\u001b[0m \u001b[1m1s\u001b[0m 46ms/step - accuracy: 0.6562 - loss: 0.5691"
     ]
    },
    {
     "name": "stderr",
     "output_type": "stream",
     "text": [
      "2024-10-24 02:10:24.519352: I tensorflow/core/framework/local_rendezvous.cc:423] Local rendezvous recv item cancelled. Key hash: 2918327929679280915\n",
      "2024-10-24 02:10:24.519404: I tensorflow/core/framework/local_rendezvous.cc:423] Local rendezvous recv item cancelled. Key hash: 15736871328311997881\n"
     ]
    },
    {
     "name": "stdout",
     "output_type": "stream",
     "text": [
      "\u001b[1m39/39\u001b[0m \u001b[32m━━━━━━━━━━━━━━━━━━━━\u001b[0m\u001b[37m\u001b[0m \u001b[1m0s\u001b[0m 6ms/step - accuracy: 0.6562 - loss: 0.5691 - val_accuracy: 0.7037 - val_loss: 0.8074\n",
      "모델 학습 완료\n"
     ]
    },
    {
     "name": "stderr",
     "output_type": "stream",
     "text": [
      "2024-10-24 02:10:24.770854: I tensorflow/core/framework/local_rendezvous.cc:423] Local rendezvous recv item cancelled. Key hash: 2918327929679280915\n",
      "2024-10-24 02:10:24.770899: I tensorflow/core/framework/local_rendezvous.cc:423] Local rendezvous recv item cancelled. Key hash: 15736871328311997881\n"
     ]
    }
   ],
   "source": [
    "# 모델 학습 진행\n",
    "history = model.fit(\n",
    "    train_generator,  # 훈련 데이터 로더\n",
    "    steps_per_epoch=train_generator.samples // train_generator.batch_size,  # 한 epoch당 훈련 단계 수\n",
    "    validation_data=validation_generator,  # 검증 데이터 로더\n",
    "    validation_steps=validation_generator.samples // validation_generator.batch_size,  # 한 epoch당 검증 단계 수\n",
    "    epochs=400  # 학습 반복 횟수\n",
    ")\n",
    "\n",
    "# 학습 결과 출력\n",
    "print(\"모델 학습 완료\")\n"
   ]
  },
  {
   "cell_type": "markdown",
   "metadata": {},
   "source": [
    "5. 모델 평가 및 F1 스코어 계산\n",
    "- 평가 데이터 준비: 학습과 검증에 사용되지 않은 테스트 데이터를 준비합니다.\n",
    "모델 평가: 학습된 모델을 사용해 예측을 수행하고, 실제 레이블과 비교하여 Precision, Recall, F1 스코어를 계산합니다."
   ]
  },
  {
   "cell_type": "code",
   "execution_count": 1,
   "metadata": {},
   "outputs": [
    {
     "ename": "NameError",
     "evalue": "name 'model' is not defined",
     "output_type": "error",
     "traceback": [
      "\u001b[0;31m---------------------------------------------------------------------------\u001b[0m",
      "\u001b[0;31mNameError\u001b[0m                                 Traceback (most recent call last)",
      "\u001b[1;32m/home/elicer/FIshing_vessel-1/fishing_vessel_state_VGG.ipynb Cell 14\u001b[0m line \u001b[0;36m3\n\u001b[1;32m     <a href='vscode-notebook-cell://jspgnexcsnaxgemt.tunnel-pt.elice.io/home/elicer/FIshing_vessel-1/fishing_vessel_state_VGG.ipynb#X16sdnNjb2RlLXJlbW90ZQ%3D%3D?line=35'>36</a>\u001b[0m y_true \u001b[39m=\u001b[39m np\u001b[39m.\u001b[39marray(y_true)\n\u001b[1;32m     <a href='vscode-notebook-cell://jspgnexcsnaxgemt.tunnel-pt.elice.io/home/elicer/FIshing_vessel-1/fishing_vessel_state_VGG.ipynb#X16sdnNjb2RlLXJlbW90ZQ%3D%3D?line=37'>38</a>\u001b[0m \u001b[39m# 모델을 사용하여 예측 수행\u001b[39;00m\n\u001b[0;32m---> <a href='vscode-notebook-cell://jspgnexcsnaxgemt.tunnel-pt.elice.io/home/elicer/FIshing_vessel-1/fishing_vessel_state_VGG.ipynb#X16sdnNjb2RlLXJlbW90ZQ%3D%3D?line=38'>39</a>\u001b[0m y_pred_probs \u001b[39m=\u001b[39m model\u001b[39m.\u001b[39mpredict(X_test)\n\u001b[1;32m     <a href='vscode-notebook-cell://jspgnexcsnaxgemt.tunnel-pt.elice.io/home/elicer/FIshing_vessel-1/fishing_vessel_state_VGG.ipynb#X16sdnNjb2RlLXJlbW90ZQ%3D%3D?line=39'>40</a>\u001b[0m y_pred \u001b[39m=\u001b[39m np\u001b[39m.\u001b[39margmax(y_pred_probs, axis\u001b[39m=\u001b[39m\u001b[39m1\u001b[39m)\n\u001b[1;32m     <a href='vscode-notebook-cell://jspgnexcsnaxgemt.tunnel-pt.elice.io/home/elicer/FIshing_vessel-1/fishing_vessel_state_VGG.ipynb#X16sdnNjb2RlLXJlbW90ZQ%3D%3D?line=41'>42</a>\u001b[0m \u001b[39m# 분류 보고서 출력\u001b[39;00m\n",
      "\u001b[0;31mNameError\u001b[0m: name 'model' is not defined"
     ]
    }
   ],
   "source": [
    "import os\n",
    "import cv2\n",
    "from sklearn.metrics import classification_report, f1_score, precision_score, recall_score\n",
    "import numpy as np\n",
    "\n",
    "# 테스트 데이터 불러오기\n",
    "mini_test_path = '/home/elicer/FIshing_vessel-1/imgdata'\n",
    "images = []\n",
    "y_true = []\n",
    "\n",
    "# 상태 분류 단어 리스트\n",
    "states = ['이동', '조업', '표류']\n",
    "state_to_label = {state: idx for idx, state in enumerate(states)}  # 상태를 인덱스로 변환하는 매핑\n",
    "\n",
    "# 이미지와 레이블 불러오기\n",
    "for filename in os.listdir(mini_test_path):\n",
    "    if filename.endswith(('.jpg', '.jpeg', '.png')):\n",
    "        img_path = os.path.join(mini_test_path, filename)\n",
    "        image = cv2.imread(img_path)\n",
    "        if image is None:\n",
    "            print(f\"이미지 읽기 실패: {img_path}\")\n",
    "            continue\n",
    "        \n",
    "        # 이미지 크기 조정 (VGG 입력 크기에 맞게)\n",
    "        image = cv2.resize(image, (224, 224))\n",
    "        images.append(image)\n",
    "        \n",
    "        # 파일 이름에서 레이블 추출\n",
    "        for state in states:\n",
    "            if state in filename:\n",
    "                y_true.append(state_to_label[state])\n",
    "                break\n",
    "\n",
    "# 이미지 배열을 numpy 배열로 변환\n",
    "X_test = np.array(images) / 255.0  # 정규화\n",
    "y_true = np.array(y_true)\n",
    "\n",
    "# 모델을 사용하여 예측 수행\n",
    "y_pred_probs = model.predict(X_test)\n",
    "y_pred = np.argmax(y_pred_probs, axis=1)\n",
    "\n",
    "# 분류 보고서 출력\n",
    "print(\"분류 보고서:\")\n",
    "print(classification_report(y_true, y_pred, target_names=states))\n",
    "\n",
    "# F1 스코어 계산 (매크로 평균)\n",
    "f1 = f1_score(y_true, y_pred, average='macro')\n",
    "precision = precision_score(y_true, y_pred, average='macro')\n",
    "recall = recall_score(y_true, y_pred, average='macro')\n",
    "\n",
    "print(f\"매크로 평균 F1 스코어: {f1:.4f}\")\n",
    "print(f\"매크로 평균 Precision: {precision:.4f}\")\n",
    "print(f\"매크로 평균 Recall: {recall:.4f}\")\n"
   ]
  },
  {
   "cell_type": "code",
   "execution_count": 12,
   "metadata": {},
   "outputs": [
    {
     "name": "stdout",
     "output_type": "stream",
     "text": [
      "\u001b[1m2/2\u001b[0m \u001b[32m━━━━━━━━━━━━━━━━━━━━\u001b[0m\u001b[37m\u001b[0m \u001b[1m0s\u001b[0m 27ms/step\n",
      "이미지: 1.jpg, 예측 클래스: 이동\n",
      "이미지: 10.jpg, 예측 클래스: 표류\n",
      "이미지: 11.jpg, 예측 클래스: 조업\n",
      "이미지: 12.jpg, 예측 클래스: 표류\n",
      "이미지: 13.jpg, 예측 클래스: 이동\n",
      "이미지: 14.jpg, 예측 클래스: 표류\n",
      "이미지: 15.jpg, 예측 클래스: 조업\n",
      "이미지: 16.jpg, 예측 클래스: 이동\n",
      "이미지: 17.jpg, 예측 클래스: 조업\n",
      "이미지: 18.jpg, 예측 클래스: 표류\n",
      "이미지: 19.jpg, 예측 클래스: 표류\n",
      "이미지: 2.jpg, 예측 클래스: 조업\n",
      "이미지: 20.jpg, 예측 클래스: 이동\n",
      "이미지: 21.jpg, 예측 클래스: 이동\n",
      "이미지: 22.jpg, 예측 클래스: 이동\n",
      "이미지: 23.jpg, 예측 클래스: 이동\n",
      "이미지: 24.jpg, 예측 클래스: 이동\n",
      "이미지: 25.jpg, 예측 클래스: 이동\n",
      "이미지: 26.jpg, 예측 클래스: 표류\n",
      "이미지: 27.jpg, 예측 클래스: 표류\n",
      "이미지: 28.jpg, 예측 클래스: 이동\n",
      "이미지: 29.jpg, 예측 클래스: 표류\n",
      "이미지: 3.jpg, 예측 클래스: 표류\n",
      "이미지: 30.jpg, 예측 클래스: 이동\n",
      "이미지: 31.jpg, 예측 클래스: 표류\n",
      "이미지: 32.jpg, 예측 클래스: 이동\n",
      "이미지: 33.jpg, 예측 클래스: 조업\n",
      "이미지: 34.jpg, 예측 클래스: 표류\n",
      "이미지: 35.jpg, 예측 클래스: 이동\n",
      "이미지: 36.jpg, 예측 클래스: 표류\n",
      "이미지: 37.jpg, 예측 클래스: 이동\n",
      "이미지: 38.jpg, 예측 클래스: 표류\n",
      "이미지: 39.jpg, 예측 클래스: 표류\n",
      "이미지: 4.jpg, 예측 클래스: 이동\n",
      "이미지: 40.jpg, 예측 클래스: 이동\n",
      "이미지: 41.jpg, 예측 클래스: 이동\n",
      "이미지: 42.jpg, 예측 클래스: 조업\n",
      "이미지: 43.jpg, 예측 클래스: 이동\n",
      "이미지: 44.jpg, 예측 클래스: 표류\n",
      "이미지: 45.jpg, 예측 클래스: 표류\n",
      "이미지: 46.jpg, 예측 클래스: 이동\n",
      "이미지: 47.jpg, 예측 클래스: 표류\n",
      "이미지: 48.jpg, 예측 클래스: 표류\n",
      "이미지: 49.jpg, 예측 클래스: 표류\n",
      "이미지: 5.jpg, 예측 클래스: 이동\n",
      "이미지: 50.jpg, 예측 클래스: 표류\n",
      "이미지: 51.jpg, 예측 클래스: 표류\n",
      "이미지: 52.jpg, 예측 클래스: 표류\n",
      "이미지: 53.jpg, 예측 클래스: 표류\n",
      "이미지: 6.jpg, 예측 클래스: 표류\n",
      "이미지: 7.jpg, 예측 클래스: 표류\n",
      "이미지: 8.jpg, 예측 클래스: 이동\n",
      "이미지: 9.jpg, 예측 클래스: 표류\n"
     ]
    }
   ],
   "source": [
    "import os\n",
    "import cv2\n",
    "import numpy as np\n",
    "\n",
    "# 모델 불러오기 (이미 학습된 모델이라고 가정)\n",
    "# model = ...\n",
    "\n",
    "# 예측할 테스트 이미지가 저장된 폴더 경로\n",
    "test_images_path = '/home/elicer/FIshing_vessel-1/테스트셋'\n",
    "\n",
    "# 이미지 로드 및 예측\n",
    "test_images = []\n",
    "image_names = []\n",
    "\n",
    "# 파일 이름을 정렬하여 순서대로 처리\n",
    "for filename in sorted(os.listdir(test_images_path)):\n",
    "    if filename.endswith(('.jpg', '.jpeg', '.png')):\n",
    "        img_path = os.path.join(test_images_path, filename)\n",
    "        image = cv2.imread(img_path)\n",
    "        if image is None:\n",
    "            print(f\"이미지 읽기 실패: {img_path}\")\n",
    "            continue\n",
    "        \n",
    "        # 이미지 크기 조정 (VGG 입력 크기에 맞게)\n",
    "        image = cv2.resize(image, (224, 224))\n",
    "        test_images.append(image)\n",
    "        image_names.append(filename)\n",
    "\n",
    "# 이미지 배열을 numpy 배열로 변환 및 정규화\n",
    "X_test = np.array(test_images) / 255.0  # 정규화\n",
    "\n",
    "# 모델을 사용하여 예측 수행\n",
    "y_pred_probs = model.predict(X_test)\n",
    "y_pred = np.argmax(y_pred_probs, axis=1)\n",
    "\n",
    "# 클래스 이름 정의 (예: 이동, 조업, 표류)\n",
    "class_names = ['이동', '조업', '표류']\n",
    "\n",
    "# 예측 결과 출력\n",
    "for i, filename in enumerate(image_names):\n",
    "    predicted_class = class_names[y_pred[i]]\n",
    "    print(f\"이미지: {filename}, 예측 클래스: {predicted_class}\")\n"
   ]
  },
  {
   "cell_type": "code",
   "execution_count": 10,
   "metadata": {},
   "outputs": [
    {
     "name": "stdout",
     "output_type": "stream",
     "text": [
      "\u001b[1m50/50\u001b[0m \u001b[32m━━━━━━━━━━━━━━━━━━━━\u001b[0m\u001b[37m\u001b[0m \u001b[1m1s\u001b[0m 29ms/step\n",
      "이미지: 1. 낚시어선 이동.jpg, 예측 클래스: 이동\n",
      "이미지: 1. 낚시어선 조업.jpg, 예측 클래스: 표류\n",
      "이미지: 1. 낚시어선 표류.jpg, 예측 클래스: 표류\n",
      "이미지: 1. 등광조망 이동.jpg, 예측 클래스: 조업\n",
      "이미지: 1. 등광조망 표류.jpg, 예측 클래스: 조업\n",
      "이미지: 1. 범장망 이동.jpg, 예측 클래스: 이동\n",
      "이미지: 1. 범장망 조업.jpg, 예측 클래스: 표류\n",
      "이미지: 1. 범장망 표류.jpg, 예측 클래스: 표류\n",
      "이미지: 1. 안강망 이동.jpg, 예측 클래스: 표류\n",
      "이미지: 1. 안강망 조업.jpg, 예측 클래스: 이동\n",
      "이미지: 1. 안강망 표류.jpg, 예측 클래스: 표류\n",
      "이미지: 1. 연승 이동.jpg, 예측 클래스: 이동\n",
      "이미지: 1. 연승 표류.jpg, 예측 클래스: 조업\n",
      "이미지: 1. 유망 이동.jpg, 예측 클래스: 표류\n",
      "이미지: 1. 유망 조업.jpg, 예측 클래스: 표류\n",
      "이미지: 1. 유망 표류.jpg, 예측 클래스: 표류\n",
      "이미지: 1. 저인망 이동.jpg, 예측 클래스: 이동\n",
      "이미지: 1. 저인망 조업.jpg, 예측 클래스: 조업\n",
      "이미지: 1. 저인망 표류.jpg, 예측 클래스: 표류\n",
      "이미지: 1. 채낚기  표류.jpg, 예측 클래스: 표류\n",
      "이미지: 1. 채낚기 이동.jpg, 예측 클래스: 이동\n",
      "이미지: 1. 채낚기 조업.jpg, 예측 클래스: 표류\n",
      "이미지: 1. 타망 이동.jpg, 예측 클래스: 이동\n",
      "이미지: 1. 타망 조업.jpg, 예측 클래스: 이동\n",
      "이미지: 1. 타망 표류.jpg, 예측 클래스: 표류\n",
      "이미지: 1. 통발 이동.jpg, 예측 클래스: 이동\n",
      "이미지: 1. 통발 조업.jpg, 예측 클래스: 표류\n",
      "이미지: 1. 통발 표류.jpg, 예측 클래스: 이동\n",
      "이미지: 1.등광조망 조업.jpg, 예측 클래스: 표류\n",
      "이미지: 10. 낚시어선 이동.jpg, 예측 클래스: 이동\n",
      "이미지: 10. 낚시어선 조업.jpg, 예측 클래스: 조업\n",
      "이미지: 10. 낚시어선 표류.jpg, 예측 클래스: 표류\n",
      "이미지: 10. 등광조망 이동.jpg, 예측 클래스: 이동\n",
      "이미지: 10. 등광조망 조업.jpg, 예측 클래스: 표류\n",
      "이미지: 10. 등광조망 표류.jpg, 예측 클래스: 표류\n",
      "이미지: 10. 범장망 이동.jpg, 예측 클래스: 이동\n",
      "이미지: 10. 범장망 조업.jpg, 예측 클래스: 표류\n",
      "이미지: 10. 범장망 표류.jpg, 예측 클래스: 조업\n",
      "이미지: 10. 안강망 이동.jpg, 예측 클래스: 이동\n",
      "이미지: 10. 안강망 조업.jpg, 예측 클래스: 표류\n",
      "이미지: 10. 안강망 표류.jpg, 예측 클래스: 표류\n",
      "이미지: 10. 연승 이동.jpg, 예측 클래스: 이동\n",
      "이미지: 10. 연승 표류.jpg, 예측 클래스: 표류\n",
      "이미지: 10. 유망 이동.jpg, 예측 클래스: 이동\n",
      "이미지: 10. 유망 조업.jpg, 예측 클래스: 조업\n",
      "이미지: 10. 유망 표류.jpg, 예측 클래스: 표류\n",
      "이미지: 10. 저인망 이동.jpg, 예측 클래스: 표류\n",
      "이미지: 10. 저인망 조업.jpg, 예측 클래스: 이동\n",
      "이미지: 10. 채낚기 이동.jpg, 예측 클래스: 이동\n",
      "이미지: 10. 채낚기 표류.jpg, 예측 클래스: 표류\n",
      "이미지: 10. 타망 이동.jpg, 예측 클래스: 표류\n",
      "이미지: 10. 타망 조업.jpg, 예측 클래스: 표류\n",
      "이미지: 10. 타망 표류.jpg, 예측 클래스: 표류\n",
      "이미지: 10. 통발 이동.jpg, 예측 클래스: 표류\n",
      "이미지: 10. 통발 표류.jpg, 예측 클래스: 이동\n",
      "이미지: 100 타망 이동.jpg, 예측 클래스: 이동\n",
      "이미지: 100. 범장망 이동.jpg, 예측 클래스: 이동\n",
      "이미지: 100. 범장망 표류.jpg, 예측 클래스: 이동\n",
      "이미지: 100. 유망 표류.jpg, 예측 클래스: 표류\n",
      "이미지: 100. 타망 조업.jpg, 예측 클래스: 표류\n",
      "이미지: 100. 타망 표류.jpg, 예측 클래스: 표류\n",
      "이미지: 101 타망 이동.jpg, 예측 클래스: 표류\n",
      "이미지: 101. 범장망 이동.jpg, 예측 클래스: 표류\n",
      "이미지: 101. 범장망 표류.jpg, 예측 클래스: 표류\n",
      "이미지: 101. 유망 표류.jpg, 예측 클래스: 표류\n",
      "이미지: 101. 타망 조업.jpg, 예측 클래스: 조업\n",
      "이미지: 101. 타망 표류.jpg, 예측 클래스: 표류\n",
      "이미지: 102 타망 이동.jpg, 예측 클래스: 표류\n",
      "이미지: 102. 범장망 이동.jpg, 예측 클래스: 이동\n",
      "이미지: 102. 범장망 표류.jpg, 예측 클래스: 표류\n",
      "이미지: 102. 유망 표류.jpg, 예측 클래스: 표류\n",
      "이미지: 102. 타망 조업.jpg, 예측 클래스: 이동\n",
      "이미지: 102. 타망 표류.jpg, 예측 클래스: 표류\n",
      "이미지: 103 타망 이동.jpg, 예측 클래스: 표류\n",
      "이미지: 103. 범장망 이동.jpg, 예측 클래스: 이동\n",
      "이미지: 103. 범장망 표류.jpg, 예측 클래스: 표류\n",
      "이미지: 103. 유망 표류.jpg, 예측 클래스: 표류\n",
      "이미지: 103. 타망 조업.jpg, 예측 클래스: 표류\n",
      "이미지: 103. 타망 표류.jpg, 예측 클래스: 표류\n",
      "이미지: 104 타망 이동.jpg, 예측 클래스: 표류\n",
      "이미지: 104. 범장망 이동.jpg, 예측 클래스: 이동\n",
      "이미지: 104. 범장망 표류.jpg, 예측 클래스: 표류\n",
      "이미지: 104. 유망 표류.jpg, 예측 클래스: 표류\n",
      "이미지: 104. 타망 조업.jpg, 예측 클래스: 표류\n",
      "이미지: 104. 타망 표류.jpg, 예측 클래스: 표류\n",
      "이미지: 105. 범장망 이동.jpg, 예측 클래스: 이동\n",
      "이미지: 105. 범장망 표류.jpg, 예측 클래스: 표류\n",
      "이미지: 105. 유망 표류.jpg, 예측 클래스: 표류\n",
      "이미지: 105. 타망 조업.jpg, 예측 클래스: 표류\n",
      "이미지: 105. 타망 표류.jpg, 예측 클래스: 표류\n",
      "이미지: 106 타망 이동.jpg, 예측 클래스: 표류\n",
      "이미지: 106. 범장망 이동.jpg, 예측 클래스: 이동\n",
      "이미지: 106. 범장망 표류.jpg, 예측 클래스: 표류\n",
      "이미지: 106. 유망 표류.jpg, 예측 클래스: 표류\n",
      "이미지: 106. 타망 조업.jpg, 예측 클래스: 이동\n",
      "이미지: 106. 타망 표류.jpg, 예측 클래스: 표류\n",
      "이미지: 107 타망 이동.jpg, 예측 클래스: 표류\n",
      "이미지: 107. 범장망 이동.jpg, 예측 클래스: 이동\n",
      "이미지: 107. 범장망 표류.jpg, 예측 클래스: 표류\n",
      "이미지: 107. 유망 표류.jpg, 예측 클래스: 표류\n",
      "이미지: 107. 타망 조업.jpg, 예측 클래스: 표류\n",
      "이미지: 107. 타망 표류.jpg, 예측 클래스: 표류\n",
      "이미지: 108 타망 이동.jpg, 예측 클래스: 표류\n",
      "이미지: 108. 범장망 이동.jpg, 예측 클래스: 표류\n",
      "이미지: 108. 범장망 표류.jpg, 예측 클래스: 표류\n",
      "이미지: 108. 유망 표류.jpg, 예측 클래스: 표류\n",
      "이미지: 108. 타망 조업.jpg, 예측 클래스: 표류\n",
      "이미지: 108. 타망 표류.jpg, 예측 클래스: 표류\n",
      "이미지: 109 타망 이동.jpg, 예측 클래스: 표류\n",
      "이미지: 109. 범장망 이동.jpg, 예측 클래스: 이동\n",
      "이미지: 109. 범장망 표류.jpg, 예측 클래스: 표류\n",
      "이미지: 109. 유망 표류.jpg, 예측 클래스: 표류\n",
      "이미지: 109. 타망 조업.jpg, 예측 클래스: 표류\n",
      "이미지: 109. 타망 표류.jpg, 예측 클래스: 표류\n",
      "이미지: 11. 낚시어선 이동.jpg, 예측 클래스: 이동\n",
      "이미지: 11. 낚시어선 조업.jpg, 예측 클래스: 표류\n",
      "이미지: 11. 등광조망 이동.jpg, 예측 클래스: 이동\n",
      "이미지: 11. 등광조망 조업.jpg, 예측 클래스: 조업\n",
      "이미지: 11. 등광조망 표류.jpg, 예측 클래스: 조업\n",
      "이미지: 11. 범장망 이동.jpg, 예측 클래스: 이동\n",
      "이미지: 11. 범장망 조업.jpg, 예측 클래스: 표류\n",
      "이미지: 11. 범장망 표류.jpg, 예측 클래스: 조업\n",
      "이미지: 11. 안강망 이동.jpg, 예측 클래스: 조업\n",
      "이미지: 11. 안강망 조업.jpg, 예측 클래스: 조업\n",
      "이미지: 11. 연승 이동.jpg, 예측 클래스: 이동\n",
      "이미지: 11. 연승 표류.jpg, 예측 클래스: 표류\n",
      "이미지: 11. 유망 이동.jpg, 예측 클래스: 이동\n",
      "이미지: 11. 유망 조업.jpg, 예측 클래스: 표류\n",
      "이미지: 11. 유망 표류.jpg, 예측 클래스: 이동\n",
      "이미지: 11. 저인망 이동.jpg, 예측 클래스: 이동\n",
      "이미지: 11. 저인망 조업.jpg, 예측 클래스: 이동\n",
      "이미지: 11. 채낚기 이동.jpg, 예측 클래스: 이동\n",
      "이미지: 11. 채낚기 표류.jpg, 예측 클래스: 표류\n",
      "이미지: 11. 타망 이동.jpg, 예측 클래스: 이동\n",
      "이미지: 11. 타망 조업.jpg, 예측 클래스: 표류\n",
      "이미지: 11. 타망 표류.jpg, 예측 클래스: 표류\n",
      "이미지: 11. 통발 이동.jpg, 예측 클래스: 이동\n",
      "이미지: 11. 통발 표류.jpg, 예측 클래스: 표류\n",
      "이미지: 110 타망 이동.jpg, 예측 클래스: 표류\n",
      "이미지: 110. 범장망 이동.jpg, 예측 클래스: 이동\n",
      "이미지: 110. 범장망 표류.jpg, 예측 클래스: 표류\n",
      "이미지: 110. 유망 표류.jpg, 예측 클래스: 표류\n",
      "이미지: 110. 타망 조업.jpg, 예측 클래스: 조업\n",
      "이미지: 110. 타망 표류.jpg, 예측 클래스: 표류\n",
      "이미지: 111 타망 이동.jpg, 예측 클래스: 이동\n",
      "이미지: 111. 범장망 이동.jpg, 예측 클래스: 이동\n",
      "이미지: 111. 범장망 표류.jpg, 예측 클래스: 표류\n",
      "이미지: 111. 유망 표류.jpg, 예측 클래스: 이동\n",
      "이미지: 111. 타망 조업.jpg, 예측 클래스: 표류\n",
      "이미지: 111. 타망 표류.jpg, 예측 클래스: 표류\n",
      "이미지: 112 타망 이동.jpg, 예측 클래스: 표류\n",
      "이미지: 112. 범장망 이동.jpg, 예측 클래스: 이동\n",
      "이미지: 112. 범장망 표류.jpg, 예측 클래스: 표류\n",
      "이미지: 112. 유망 표류.jpg, 예측 클래스: 표류\n",
      "이미지: 112. 타망 조업.jpg, 예측 클래스: 표류\n",
      "이미지: 112. 타망 표류.jpg, 예측 클래스: 표류\n",
      "이미지: 113 타망 이동.jpg, 예측 클래스: 표류\n",
      "이미지: 113. 범장망 이동.jpg, 예측 클래스: 이동\n",
      "이미지: 113. 범장망 표류.jpg, 예측 클래스: 표류\n",
      "이미지: 113. 유망 표류.jpg, 예측 클래스: 표류\n",
      "이미지: 113. 타망 조업.jpg, 예측 클래스: 표류\n",
      "이미지: 113. 타망 표류.jpg, 예측 클래스: 표류\n",
      "이미지: 114 타망 이동.jpg, 예측 클래스: 표류\n",
      "이미지: 114. 범장망 표류.jpg, 예측 클래스: 표류\n",
      "이미지: 114. 유망 표류.jpg, 예측 클래스: 표류\n",
      "이미지: 114. 타망 조업.jpg, 예측 클래스: 표류\n",
      "이미지: 114. 타망 표류.jpg, 예측 클래스: 조업\n",
      "이미지: 115 타망 이동.jpg, 예측 클래스: 표류\n",
      "이미지: 115. 범장망 표류.jpg, 예측 클래스: 표류\n",
      "이미지: 115. 유망 표류.jpg, 예측 클래스: 표류\n",
      "이미지: 115. 타망 조업.jpg, 예측 클래스: 이동\n",
      "이미지: 115. 타망 표류.jpg, 예측 클래스: 표류\n",
      "이미지: 116 타망 이동.jpg, 예측 클래스: 표류\n",
      "이미지: 116. 유망 표류.jpg, 예측 클래스: 표류\n",
      "이미지: 116. 타망 조업.jpg, 예측 클래스: 표류\n",
      "이미지: 116. 타망 표류.jpg, 예측 클래스: 표류\n",
      "이미지: 116.. 범장망 표류.jpg, 예측 클래스: 표류\n",
      "이미지: 117 타망 이동.jpg, 예측 클래스: 표류\n",
      "이미지: 117. 범장망 표류.jpg, 예측 클래스: 표류\n",
      "이미지: 117. 유망 표류.jpg, 예측 클래스: 이동\n",
      "이미지: 117. 타망 조업.jpg, 예측 클래스: 조업\n",
      "이미지: 117. 타망 표류.jpg, 예측 클래스: 표류\n",
      "이미지: 118 타망 이동.jpg, 예측 클래스: 표류\n",
      "이미지: 118. 범장망 표류.jpg, 예측 클래스: 이동\n",
      "이미지: 118. 유망 표류.jpg, 예측 클래스: 표류\n",
      "이미지: 118. 타망 조업.jpg, 예측 클래스: 표류\n",
      "이미지: 118. 타망 표류.jpg, 예측 클래스: 표류\n",
      "이미지: 119 타망 이동.jpg, 예측 클래스: 이동\n",
      "이미지: 119. 범장망 표류.jpg, 예측 클래스: 표류\n",
      "이미지: 119. 유망 표류.jpg, 예측 클래스: 이동\n",
      "이미지: 119. 타망 표류.jpg, 예측 클래스: 표류\n",
      "이미지: 12 등광조망 조업.jpg, 예측 클래스: 표류\n",
      "이미지: 12. 낚시어선 조업.jpg, 예측 클래스: 조업\n",
      "이미지: 12. 등광조망 이동.jpg, 예측 클래스: 이동\n",
      "이미지: 12. 등광조망 표류.jpg, 예측 클래스: 표류\n",
      "이미지: 12. 범장망 이동.jpg, 예측 클래스: 이동\n",
      "이미지: 12. 범장망 조업.jpg, 예측 클래스: 조업\n",
      "이미지: 12. 범장망 표류.jpg, 예측 클래스: 표류\n",
      "이미지: 12. 안강망 이동.jpg, 예측 클래스: 이동\n",
      "이미지: 12. 안강망 조업.jpg, 예측 클래스: 이동\n",
      "이미지: 12. 안강망 표류.jpg, 예측 클래스: 표류\n",
      "이미지: 12. 연승 이동.jpg, 예측 클래스: 이동\n",
      "이미지: 12. 연승 표류.jpg, 예측 클래스: 표류\n",
      "이미지: 12. 유망 이동.jpg, 예측 클래스: 이동\n",
      "이미지: 12. 유망 조업.jpg, 예측 클래스: 표류\n",
      "이미지: 12. 유망 표류.jpg, 예측 클래스: 표류\n",
      "이미지: 12. 저인망 이동.jpg, 예측 클래스: 표류\n",
      "이미지: 12. 저인망 조업.jpg, 예측 클래스: 이동\n",
      "이미지: 12. 채낚기 이동.jpg, 예측 클래스: 이동\n",
      "이미지: 12. 타망 이동.jpg, 예측 클래스: 이동\n",
      "이미지: 12. 타망 조업.jpg, 예측 클래스: 이동\n",
      "이미지: 12. 타망 표류.jpg, 예측 클래스: 조업\n",
      "이미지: 12. 통발 이동.jpg, 예측 클래스: 이동\n",
      "이미지: 120 타망 이동.jpg, 예측 클래스: 이동\n",
      "이미지: 120. 범장망 표류.jpg, 예측 클래스: 표류\n",
      "이미지: 120. 유망 표류.jpg, 예측 클래스: 표류\n",
      "이미지: 120. 타망 조업.jpg, 예측 클래스: 이동\n",
      "이미지: 120. 타망 표류.jpg, 예측 클래스: 표류\n",
      "이미지: 121 타망 이동.jpg, 예측 클래스: 표류\n",
      "이미지: 121. 범장망 표류.jpg, 예측 클래스: 표류\n",
      "이미지: 121. 유망 표류.jpg, 예측 클래스: 표류\n",
      "이미지: 121. 타망 조업.jpg, 예측 클래스: 표류\n",
      "이미지: 121. 타망 표류.jpg, 예측 클래스: 표류\n",
      "이미지: 122 타망 이동.jpg, 예측 클래스: 이동\n",
      "이미지: 122. 범장망 표류.jpg, 예측 클래스: 표류\n",
      "이미지: 122. 유망 표류.jpg, 예측 클래스: 표류\n",
      "이미지: 122. 타망 조업.jpg, 예측 클래스: 조업\n",
      "이미지: 122. 타망 표류.jpg, 예측 클래스: 표류\n",
      "이미지: 123 타망 이동.jpg, 예측 클래스: 표류\n",
      "이미지: 123. 범장망 표류.jpg, 예측 클래스: 표류\n",
      "이미지: 123. 유망 표류.jpg, 예측 클래스: 표류\n",
      "이미지: 123. 타망 조업.jpg, 예측 클래스: 표류\n",
      "이미지: 123. 타망 표류.jpg, 예측 클래스: 조업\n",
      "이미지: 124 타망 이동.jpg, 예측 클래스: 표류\n",
      "이미지: 124. 범장망 표류.jpg, 예측 클래스: 표류\n",
      "이미지: 124. 유망 표류.jpg, 예측 클래스: 표류\n",
      "이미지: 124. 타망 조업.jpg, 예측 클래스: 조업\n",
      "이미지: 124. 타망 표류.jpg, 예측 클래스: 표류\n",
      "이미지: 125 타망 이동.jpg, 예측 클래스: 이동\n",
      "이미지: 125. 범장망 표류.jpg, 예측 클래스: 표류\n",
      "이미지: 125. 유망 표류.jpg, 예측 클래스: 표류\n",
      "이미지: 125. 타망 조업.jpg, 예측 클래스: 이동\n",
      "이미지: 125. 타망 표류.jpg, 예측 클래스: 표류\n",
      "이미지: 126 타망 이동.jpg, 예측 클래스: 표류\n",
      "이미지: 126. 범장망 표류.jpg, 예측 클래스: 표류\n",
      "이미지: 126. 유망 표류.jpg, 예측 클래스: 표류\n",
      "이미지: 126. 타망 조업.jpg, 예측 클래스: 조업\n",
      "이미지: 127 타망 이동.jpg, 예측 클래스: 표류\n",
      "이미지: 127. 범장망 표류.jpg, 예측 클래스: 표류\n",
      "이미지: 127. 유망 표류.jpg, 예측 클래스: 표류\n",
      "이미지: 127. 타망 조업.jpg, 예측 클래스: 표류\n",
      "이미지: 128 타망 이동.jpg, 예측 클래스: 표류\n",
      "이미지: 128. 범장망 표류.jpg, 예측 클래스: 표류\n",
      "이미지: 128. 유망 표류.jpg, 예측 클래스: 표류\n",
      "이미지: 128. 타망 조업.jpg, 예측 클래스: 조업\n",
      "이미지: 129 타망 이동.jpg, 예측 클래스: 표류\n",
      "이미지: 129. 범장망 표류.jpg, 예측 클래스: 표류\n",
      "이미지: 129. 유망 표류.jpg, 예측 클래스: 표류\n",
      "이미지: 129. 타망 조업.jpg, 예측 클래스: 표류\n",
      "이미지: 13. 낚시어선 이동.jpg, 예측 클래스: 이동\n",
      "이미지: 13. 낚시어선 조업.jpg, 예측 클래스: 조업\n",
      "이미지: 13. 등광조망 이동.jpg, 예측 클래스: 이동\n",
      "이미지: 13. 등광조망 조업.jpg, 예측 클래스: 표류\n",
      "이미지: 13. 범장망 이동.jpg, 예측 클래스: 표류\n",
      "이미지: 13. 범장망 조업.jpg, 예측 클래스: 표류\n",
      "이미지: 13. 범장망 표류.jpg, 예측 클래스: 표류\n",
      "이미지: 13. 안강망 이동.jpg, 예측 클래스: 조업\n",
      "이미지: 13. 안강망 조업.jpg, 예측 클래스: 조업\n",
      "이미지: 13. 안강망 표류.jpg, 예측 클래스: 표류\n",
      "이미지: 13. 연승 이동.jpg, 예측 클래스: 표류\n",
      "이미지: 13. 연승 표류.jpg, 예측 클래스: 표류\n",
      "이미지: 13. 유망 이동.jpg, 예측 클래스: 표류\n",
      "이미지: 13. 유망 조업.jpg, 예측 클래스: 표류\n",
      "이미지: 13. 유망 표류.jpg, 예측 클래스: 표류\n",
      "이미지: 13. 저인망 이동.jpg, 예측 클래스: 이동\n",
      "이미지: 13. 저인망 조업.jpg, 예측 클래스: 표류\n",
      "이미지: 13. 채낚기 이동.jpg, 예측 클래스: 이동\n",
      "이미지: 13. 채낚기 표류.jpg, 예측 클래스: 이동\n",
      "이미지: 13. 타망 이동.jpg, 예측 클래스: 이동\n",
      "이미지: 13. 타망 조업.jpg, 예측 클래스: 표류\n",
      "이미지: 13. 타망 표류.jpg, 예측 클래스: 표류\n",
      "이미지: 13. 통발 이동.jpg, 예측 클래스: 표류\n",
      "이미지: 130 타망 이동.png, 예측 클래스: 조업\n",
      "이미지: 130. 범장망 표류.jpg, 예측 클래스: 표류\n",
      "이미지: 130. 타망 조업.jpg, 예측 클래스: 표류\n",
      "이미지: 131. 범장망 표류.jpg, 예측 클래스: 표류\n",
      "이미지: 131. 타망 이동.jpg, 예측 클래스: 이동\n",
      "이미지: 131. 타망 조업.jpg, 예측 클래스: 표류\n",
      "이미지: 132. 범장망 표류.jpg, 예측 클래스: 이동\n",
      "이미지: 132. 타망 이동.jpg, 예측 클래스: 이동\n",
      "이미지: 132. 타망 조업.jpg, 예측 클래스: 표류\n",
      "이미지: 133. 범장망 표류.jpg, 예측 클래스: 표류\n",
      "이미지: 133. 타망 이동.jpg, 예측 클래스: 표류\n",
      "이미지: 133. 타망 조업.jpg, 예측 클래스: 조업\n",
      "이미지: 134. 범장망 표류.jpg, 예측 클래스: 표류\n",
      "이미지: 134. 타망 이동.jpg, 예측 클래스: 이동\n",
      "이미지: 135. 범장망 표류.jpg, 예측 클래스: 표류\n",
      "이미지: 135. 타망 이동.jpg, 예측 클래스: 표류\n",
      "이미지: 136. 범장망 표류.jpg, 예측 클래스: 표류\n",
      "이미지: 136. 타망 이동.jpg, 예측 클래스: 이동\n",
      "이미지: 137. 범장망 표류.jpg, 예측 클래스: 표류\n",
      "이미지: 137. 타망 이동.jpg, 예측 클래스: 이동\n",
      "이미지: 138. 범장망 표류.jpg, 예측 클래스: 표류\n",
      "이미지: 138. 타망 이동.jpg, 예측 클래스: 이동\n",
      "이미지: 139. 범장망 표류.jpg, 예측 클래스: 표류\n",
      "이미지: 139. 타망 이동.jpg, 예측 클래스: 이동\n",
      "이미지: 14. 낚시어선 이동.jpg, 예측 클래스: 조업\n",
      "이미지: 14. 낚시어선 조업.jpg, 예측 클래스: 조업\n",
      "이미지: 14. 등광조망 이동.jpg, 예측 클래스: 표류\n",
      "이미지: 14. 등광조망 조업.jpg, 예측 클래스: 이동\n",
      "이미지: 14. 등광조망 표류.jpg, 예측 클래스: 표류\n",
      "이미지: 14. 범장망 이동.jpg, 예측 클래스: 이동\n",
      "이미지: 14. 범장망 조업.jpg, 예측 클래스: 표류\n",
      "이미지: 14. 범장망 표류.jpg, 예측 클래스: 표류\n",
      "이미지: 14. 안강망 이동.jpg, 예측 클래스: 표류\n",
      "이미지: 14. 안강망 조업.jpg, 예측 클래스: 조업\n",
      "이미지: 14. 안강망 표류.jpg, 예측 클래스: 표류\n",
      "이미지: 14. 연승 이동.jpg, 예측 클래스: 이동\n",
      "이미지: 14. 연승 표류.png, 예측 클래스: 표류\n",
      "이미지: 14. 유망 이동.jpg, 예측 클래스: 이동\n",
      "이미지: 14. 유망 표류.jpg, 예측 클래스: 표류\n",
      "이미지: 14. 저인망 이동.jpg, 예측 클래스: 이동\n",
      "이미지: 14. 저인망 조업.jpg, 예측 클래스: 이동\n",
      "이미지: 14. 채낚기 이동.jpg, 예측 클래스: 이동\n",
      "이미지: 14. 채낚기 표류.jpg, 예측 클래스: 표류\n",
      "이미지: 14. 타망 이동.jpg, 예측 클래스: 조업\n",
      "이미지: 14. 타망 조업.jpg, 예측 클래스: 조업\n",
      "이미지: 14. 타망 표류.jpg, 예측 클래스: 표류\n",
      "이미지: 14. 통발 이동.jpg, 예측 클래스: 표류\n",
      "이미지: 140. 범장망 표류.jpg, 예측 클래스: 표류\n",
      "이미지: 140. 타망 이동.jpg, 예측 클래스: 이동\n",
      "이미지: 141. 범장망 표류.jpg, 예측 클래스: 표류\n",
      "이미지: 141. 타망 이동.jpg, 예측 클래스: 이동\n",
      "이미지: 142. 범장망 표류.jpg, 예측 클래스: 이동\n",
      "이미지: 142. 타망 이동.jpg, 예측 클래스: 이동\n",
      "이미지: 143. 범장망 표류.jpg, 예측 클래스: 표류\n",
      "이미지: 143. 타망 이동.jpg, 예측 클래스: 이동\n",
      "이미지: 144. 범장망 표류.jpg, 예측 클래스: 표류\n",
      "이미지: 144. 타망 이동.jpg, 예측 클래스: 이동\n",
      "이미지: 145. 범장망 표류.jpg, 예측 클래스: 표류\n",
      "이미지: 145. 타망 이동.jpg, 예측 클래스: 이동\n",
      "이미지: 146. 범장망 표류.jpg, 예측 클래스: 표류\n",
      "이미지: 146. 타망 이동.jpg, 예측 클래스: 이동\n",
      "이미지: 147. 범장망 표류.jpg, 예측 클래스: 표류\n",
      "이미지: 147. 타망 이동.jpg, 예측 클래스: 이동\n",
      "이미지: 148. 범장망 표류.jpg, 예측 클래스: 표류\n",
      "이미지: 148. 타망 이동.jpg, 예측 클래스: 표류\n",
      "이미지: 149. 범장망 표류.jpg, 예측 클래스: 표류\n",
      "이미지: 149. 타망 이동.jpg, 예측 클래스: 이동\n",
      "이미지: 15. 낚시어선 이동.jpg, 예측 클래스: 이동\n",
      "이미지: 15. 낚시어선 조업.jpg, 예측 클래스: 조업\n",
      "이미지: 15. 등광조망 이동.jpg, 예측 클래스: 표류\n",
      "이미지: 15. 등광조망 조업.png, 예측 클래스: 조업\n",
      "이미지: 15. 등광조망 표류.jpg, 예측 클래스: 표류\n",
      "이미지: 15. 범장망 이동.jpg, 예측 클래스: 이동\n",
      "이미지: 15. 범장망 조업.jpg, 예측 클래스: 표류\n",
      "이미지: 15. 범장망 표류.jpg, 예측 클래스: 표류\n",
      "이미지: 15. 안강망 이동.jpg, 예측 클래스: 이동\n",
      "이미지: 15. 안강망 조업.jpg, 예측 클래스: 이동\n",
      "이미지: 15. 안강망 표류.jpg, 예측 클래스: 표류\n",
      "이미지: 15. 연승 이동.jpg, 예측 클래스: 표류\n",
      "이미지: 15. 연승 표류.jpg, 예측 클래스: 표류\n",
      "이미지: 15. 유망 이동.jpg, 예측 클래스: 이동\n",
      "이미지: 15. 유망 조업.jpg, 예측 클래스: 표류\n",
      "이미지: 15. 유망 표류.jpg, 예측 클래스: 표류\n",
      "이미지: 15. 저인망 조업.jpg, 예측 클래스: 표류\n",
      "이미지: 15. 채낚기 이동.jpg, 예측 클래스: 이동\n",
      "이미지: 15. 채낚기 표류.jpg, 예측 클래스: 표류\n",
      "이미지: 15. 타망 이동.jpg, 예측 클래스: 이동\n",
      "이미지: 15. 타망 조업.jpg, 예측 클래스: 조업\n",
      "이미지: 15. 타망 표류.jpg, 예측 클래스: 표류\n",
      "이미지: 150. 범장망 표류.jpg, 예측 클래스: 표류\n",
      "이미지: 150. 타망 이동.jpg, 예측 클래스: 이동\n",
      "이미지: 151. 범장망 표류.jpg, 예측 클래스: 표류\n",
      "이미지: 151. 타망 이동.jpg, 예측 클래스: 이동\n",
      "이미지: 152. 범장망 표류.jpg, 예측 클래스: 표류\n",
      "이미지: 152. 타망 이동.jpg, 예측 클래스: 이동\n",
      "이미지: 153. 범장망 표류.jpg, 예측 클래스: 표류\n",
      "이미지: 153. 타망 이동.jpg, 예측 클래스: 표류\n",
      "이미지: 154. 범장망 표류.jpg, 예측 클래스: 이동\n",
      "이미지: 154. 타망 이동.jpg, 예측 클래스: 이동\n",
      "이미지: 155. 범장망 표류.jpg, 예측 클래스: 이동\n",
      "이미지: 155. 타망 이동.jpg, 예측 클래스: 표류\n",
      "이미지: 156. 범장망 표류.jpg, 예측 클래스: 이동\n",
      "이미지: 156. 타망 이동.jpg, 예측 클래스: 표류\n",
      "이미지: 157. 범장망 표류.jpg, 예측 클래스: 표류\n",
      "이미지: 157. 타망 이동.jpg, 예측 클래스: 이동\n",
      "이미지: 158. 범장망 표류.jpg, 예측 클래스: 표류\n",
      "이미지: 158. 타망 이동.jpg, 예측 클래스: 이동\n",
      "이미지: 159. 범장망 표류.jpg, 예측 클래스: 표류\n",
      "이미지: 159. 타망 이동.jpg, 예측 클래스: 표류\n",
      "이미지: 16. 낚시어선 이동.jpg, 예측 클래스: 이동\n",
      "이미지: 16. 낚시어선 조업.jpg, 예측 클래스: 표류\n",
      "이미지: 16. 등광조망 이동.jpg, 예측 클래스: 이동\n",
      "이미지: 16. 등광조망 조업.jpg, 예측 클래스: 이동\n",
      "이미지: 16. 등광조망 표류.jpg, 예측 클래스: 표류\n",
      "이미지: 16. 범장망 이동.jpg, 예측 클래스: 표류\n",
      "이미지: 16. 범장망 조업.jpg, 예측 클래스: 표류\n",
      "이미지: 16. 범장망 표류.jpg, 예측 클래스: 표류\n",
      "이미지: 16. 안강망 이동.jpg, 예측 클래스: 이동\n",
      "이미지: 16. 안강망 조업.jpg, 예측 클래스: 이동\n",
      "이미지: 16. 안강망 표류.jpg, 예측 클래스: 표류\n",
      "이미지: 16. 연승 이동.jpg, 예측 클래스: 이동\n",
      "이미지: 16. 연승 표류.jpg, 예측 클래스: 이동\n",
      "이미지: 16. 유망 조업.jpg, 예측 클래스: 이동\n",
      "이미지: 16. 유망 표류.jpg, 예측 클래스: 표류\n",
      "이미지: 16. 저인망 이동.jpg, 예측 클래스: 표류\n",
      "이미지: 16. 저인망 조업.jpg, 예측 클래스: 표류\n",
      "이미지: 16. 채낚기 이동.jpg, 예측 클래스: 표류\n",
      "이미지: 16. 채낚기 표류.jpg, 예측 클래스: 표류\n",
      "이미지: 16. 타망 이동.jpg, 예측 클래스: 이동\n",
      "이미지: 16. 타망 조업.jpg, 예측 클래스: 이동\n",
      "이미지: 16. 타망 표류.jpg, 예측 클래스: 표류\n",
      "이미지: 16. 통발 이동.jpg, 예측 클래스: 표류\n",
      "이미지: 160. 범장망 표류.jpg, 예측 클래스: 표류\n",
      "이미지: 160. 타망 이동.jpg, 예측 클래스: 이동\n",
      "이미지: 161. 범장망 표류.jpg, 예측 클래스: 표류\n",
      "이미지: 161. 타망 이동.jpg, 예측 클래스: 이동\n",
      "이미지: 162. 범장망 표류.jpg, 예측 클래스: 표류\n",
      "이미지: 163. 범장망 표류.jpg, 예측 클래스: 표류\n",
      "이미지: 163. 타망 이동.jpg, 예측 클래스: 표류\n",
      "이미지: 164. 범장망 표류.jpg, 예측 클래스: 표류\n",
      "이미지: 164. 타망 이동.jpg, 예측 클래스: 이동\n",
      "이미지: 165. 범장망 표류.jpg, 예측 클래스: 표류\n",
      "이미지: 165. 타망 이동.jpg, 예측 클래스: 이동\n",
      "이미지: 166. 범장망 표류.jpg, 예측 클래스: 표류\n",
      "이미지: 166. 타망 이동.jpg, 예측 클래스: 이동\n",
      "이미지: 167. 범장망 표류.jpg, 예측 클래스: 표류\n",
      "이미지: 167. 타망 이동.jpg, 예측 클래스: 표류\n",
      "이미지: 168. 범장망 표류.jpg, 예측 클래스: 이동\n",
      "이미지: 168. 타망 이동.jpg, 예측 클래스: 이동\n",
      "이미지: 169. 범장망 표류.jpg, 예측 클래스: 표류\n",
      "이미지: 17. 낚시어선 이동.jpg, 예측 클래스: 이동\n",
      "이미지: 17. 낚시어선 조업.jpg, 예측 클래스: 표류\n",
      "이미지: 17. 등광조망 이동.jpg, 예측 클래스: 이동\n",
      "이미지: 17. 등광조망 조업.jpg, 예측 클래스: 조업\n",
      "이미지: 17. 등광조망 표류.jpg, 예측 클래스: 표류\n",
      "이미지: 17. 범장망 이동.jpg, 예측 클래스: 표류\n",
      "이미지: 17. 범장망 조업.jpg, 예측 클래스: 표류\n",
      "이미지: 17. 범장망 표류.jpg, 예측 클래스: 표류\n",
      "이미지: 17. 안강망 이동.jpg, 예측 클래스: 이동\n",
      "이미지: 17. 연승 이동.jpg, 예측 클래스: 이동\n",
      "이미지: 17. 연승 표류.jpg, 예측 클래스: 표류\n",
      "이미지: 17. 유망 이동.jpg, 예측 클래스: 이동\n",
      "이미지: 17. 유망 조업.jpg, 예측 클래스: 조업\n",
      "이미지: 17. 유망 표류.jpg, 예측 클래스: 표류\n",
      "이미지: 17. 저인망 이동.jpg, 예측 클래스: 이동\n",
      "이미지: 17. 채낚기 이동.jpg, 예측 클래스: 이동\n",
      "이미지: 17. 채낚기 표류.jpg, 예측 클래스: 표류\n",
      "이미지: 17. 타망 이동.jpg, 예측 클래스: 이동\n",
      "이미지: 17. 타망 조업.jpg, 예측 클래스: 표류\n",
      "이미지: 17. 타망 표류.jpg, 예측 클래스: 표류\n",
      "이미지: 17. 통발 이동.jpg, 예측 클래스: 이동\n",
      "이미지: 170. 범장망 표류.jpg, 예측 클래스: 표류\n",
      "이미지: 171. 범장망 표류.jpg, 예측 클래스: 이동\n",
      "이미지: 172. 범장망 표류.jpg, 예측 클래스: 표류\n",
      "이미지: 173. 범장망 표류.jpg, 예측 클래스: 표류\n",
      "이미지: 174. 범장망 표류.jpg, 예측 클래스: 표류\n",
      "이미지: 175. 범장망 표류.jpg, 예측 클래스: 표류\n",
      "이미지: 176. 범장망 표류.jpg, 예측 클래스: 이동\n",
      "이미지: 177. 범장망 표류.jpg, 예측 클래스: 표류\n",
      "이미지: 178. 범장망 표류.jpg, 예측 클래스: 표류\n",
      "이미지: 179. 범장망 표류.jpg, 예측 클래스: 표류\n",
      "이미지: 18. 낚시어선 이동.jpg, 예측 클래스: 표류\n",
      "이미지: 18. 낚시어선 조업.jpg, 예측 클래스: 조업\n",
      "이미지: 18. 등광조망 이동.jpg, 예측 클래스: 이동\n",
      "이미지: 18. 등광조망 조업.jpg, 예측 클래스: 조업\n",
      "이미지: 18. 등광조망 표류.jpg, 예측 클래스: 표류\n",
      "이미지: 18. 범장망 이동.jpg, 예측 클래스: 표류\n",
      "이미지: 18. 범장망 조업.jpg, 예측 클래스: 표류\n",
      "이미지: 18. 범장망 표류.jpg, 예측 클래스: 표류\n",
      "이미지: 18. 안강망 이동.jpg, 예측 클래스: 이동\n",
      "이미지: 18. 연승 이동.jpg, 예측 클래스: 이동\n",
      "이미지: 18. 연승 표류.jpg, 예측 클래스: 표류\n",
      "이미지: 18. 유망 이동.jpg, 예측 클래스: 이동\n",
      "이미지: 18. 유망 조업.jpg, 예측 클래스: 조업\n",
      "이미지: 18. 유망 표류.jpg, 예측 클래스: 표류\n",
      "이미지: 18. 저인망 이동.jpg, 예측 클래스: 이동\n",
      "이미지: 18. 저인망 조업.jpg, 예측 클래스: 이동\n",
      "이미지: 18. 채낚기 표류.jpg, 예측 클래스: 표류\n",
      "이미지: 18. 타망 이동.jpg, 예측 클래스: 이동\n",
      "이미지: 18. 타망 조업.jpg, 예측 클래스: 표류\n",
      "이미지: 18. 타망 표류.jpg, 예측 클래스: 표류\n",
      "이미지: 18. 통발 이동.jpg, 예측 클래스: 이동\n",
      "이미지: 180. 범장망 표류.jpg, 예측 클래스: 표류\n",
      "이미지: 181. 범장망 표류.jpg, 예측 클래스: 표류\n",
      "이미지: 182. 범장망 표류.jpg, 예측 클래스: 표류\n",
      "이미지: 183. 범장망 표류.jpg, 예측 클래스: 표류\n",
      "이미지: 184. 범장망 표류.jpg, 예측 클래스: 표류\n",
      "이미지: 185. 범장망 표류.jpg, 예측 클래스: 표류\n",
      "이미지: 186. 범장망 표류.jpg, 예측 클래스: 표류\n",
      "이미지: 187. 범장망 표류.jpg, 예측 클래스: 표류\n",
      "이미지: 188. 범장망 표류.jpg, 예측 클래스: 표류\n",
      "이미지: 189. 범장망 표류.jpg, 예측 클래스: 표류\n",
      "이미지: 19. 낚시어선 이동.jpg, 예측 클래스: 이동\n",
      "이미지: 19. 낚시어선 조업.jpg, 예측 클래스: 조업\n",
      "이미지: 19. 등광조망 이동.jpg, 예측 클래스: 표류\n",
      "이미지: 19. 등광조망 조업.jpg, 예측 클래스: 표류\n",
      "이미지: 19. 등광조망 표류.jpg, 예측 클래스: 표류\n",
      "이미지: 19. 범장망 이동.jpg, 예측 클래스: 이동\n",
      "이미지: 19. 범장망 조업.jpg, 예측 클래스: 표류\n",
      "이미지: 19. 범장망 표류.jpg, 예측 클래스: 표류\n",
      "이미지: 19. 안강망 이동.jpg, 예측 클래스: 이동\n",
      "이미지: 19. 연승 이동.jpg, 예측 클래스: 표류\n",
      "이미지: 19. 연승 표류.jpg, 예측 클래스: 표류\n",
      "이미지: 19. 유망 이동.jpg, 예측 클래스: 이동\n",
      "이미지: 19. 유망 조업.jpg, 예측 클래스: 표류\n",
      "이미지: 19. 유망 표류.jpg, 예측 클래스: 표류\n",
      "이미지: 19. 저인망 이동.jpg, 예측 클래스: 이동\n",
      "이미지: 19. 저인망 조업.jpg, 예측 클래스: 이동\n",
      "이미지: 19. 채낚기 표류.jpg, 예측 클래스: 이동\n",
      "이미지: 19. 타망 이동.jpg, 예측 클래스: 이동\n",
      "이미지: 19. 타망 조업.jpg, 예측 클래스: 표류\n",
      "이미지: 19. 타망 표류.jpg, 예측 클래스: 표류\n",
      "이미지: 19. 통발 이동.jpg, 예측 클래스: 이동\n",
      "이미지: 190. 범장망 표류.jpg, 예측 클래스: 표류\n",
      "이미지: 191. 범장망 표류.jpg, 예측 클래스: 표류\n",
      "이미지: 192. 범장망 표류.jpg, 예측 클래스: 표류\n",
      "이미지: 193. 범장망 표류.jpg, 예측 클래스: 표류\n",
      "이미지: 194. 범장망 표류.jpg, 예측 클래스: 표류\n",
      "이미지: 195. 범장망 표류.jpg, 예측 클래스: 표류\n",
      "이미지: 196. 범장망 표류.jpg, 예측 클래스: 표류\n",
      "이미지: 197. 범장망 표류.jpg, 예측 클래스: 이동\n",
      "이미지: 198. 범장망 표류.jpg, 예측 클래스: 표류\n",
      "이미지: 199. 범장망 표류.jpg, 예측 클래스: 표류\n",
      "이미지: 2. 낚시어선 이동.jpg, 예측 클래스: 이동\n",
      "이미지: 2. 낚시어선 조업.jpg, 예측 클래스: 표류\n",
      "이미지: 2. 낚시어선 표류.jpg, 예측 클래스: 표류\n",
      "이미지: 2. 등광조망 이동.jpg, 예측 클래스: 이동\n",
      "이미지: 2. 등광조망 표류.jpg, 예측 클래스: 이동\n",
      "이미지: 2. 범장망 이동.jpg, 예측 클래스: 이동\n",
      "이미지: 2. 범장망 조업.jpg, 예측 클래스: 조업\n",
      "이미지: 2. 범장망 표류.jpg, 예측 클래스: 표류\n",
      "이미지: 2. 안강망 이동.jpg, 예측 클래스: 이동\n",
      "이미지: 2. 안강망 표류.jpg, 예측 클래스: 표류\n",
      "이미지: 2. 연승 이동.jpg, 예측 클래스: 이동\n",
      "이미지: 2. 연승 표류.jpg, 예측 클래스: 표류\n",
      "이미지: 2. 유망 이동.jpg, 예측 클래스: 이동\n",
      "이미지: 2. 유망 조업.jpg, 예측 클래스: 표류\n",
      "이미지: 2. 유망 표류.jpg, 예측 클래스: 조업\n",
      "이미지: 2. 저인망 이동.jpg, 예측 클래스: 이동\n",
      "이미지: 2. 저인망 조업.jpg, 예측 클래스: 표류\n",
      "이미지: 2. 저인망 표류.jpg, 예측 클래스: 표류\n",
      "이미지: 2. 채낚기  표류.jpg, 예측 클래스: 이동\n",
      "이미지: 2. 채낚기 이동.jpg, 예측 클래스: 이동\n",
      "이미지: 2. 채낚기 조업.jpg, 예측 클래스: 표류\n",
      "이미지: 2. 타망 이동.jpg, 예측 클래스: 이동\n",
      "이미지: 2. 타망 조업.jpg, 예측 클래스: 조업\n",
      "이미지: 2. 타망 표류.jpg, 예측 클래스: 이동\n",
      "이미지: 2. 통발 이동.jpg, 예측 클래스: 이동\n",
      "이미지: 2. 통발 조업.jpg, 예측 클래스: 조업\n",
      "이미지: 2. 통발 표류.jpg, 예측 클래스: 표류\n",
      "이미지: 2.등광조망 조업.jpg, 예측 클래스: 조업\n",
      "이미지: 20. 낚시어선 이동.jpg, 예측 클래스: 이동\n",
      "이미지: 20. 낚시어선 조업.jpg, 예측 클래스: 조업\n",
      "이미지: 20. 등광조망 이동.jpg, 예측 클래스: 이동\n",
      "이미지: 20. 등광조망 조업.jpg, 예측 클래스: 표류\n",
      "이미지: 20. 등광조망 표류.jpg, 예측 클래스: 표류\n",
      "이미지: 20. 범장망 이동.jpg, 예측 클래스: 표류\n",
      "이미지: 20. 범장망 조업.jpg, 예측 클래스: 표류\n",
      "이미지: 20. 범장망 표류.jpg, 예측 클래스: 표류\n",
      "이미지: 20. 안강망 이동.jpg, 예측 클래스: 표류\n",
      "이미지: 20. 연승 이동.jpg, 예측 클래스: 이동\n",
      "이미지: 20. 연승 표류.jpg, 예측 클래스: 표류\n",
      "이미지: 20. 유망 이동.jpg, 예측 클래스: 이동\n",
      "이미지: 20. 유망 표류.jpg, 예측 클래스: 이동\n",
      "이미지: 20. 저인망 이동.jpg, 예측 클래스: 이동\n",
      "이미지: 20. 저인망 조업.jpg, 예측 클래스: 이동\n",
      "이미지: 20. 채낚기 표류.jpg, 예측 클래스: 표류\n",
      "이미지: 20. 타망 이동.jpg, 예측 클래스: 이동\n",
      "이미지: 20. 타망 조업.jpg, 예측 클래스: 표류\n",
      "이미지: 20. 타망 표류.jpg, 예측 클래스: 표류\n",
      "이미지: 20. 통발 이동.jpg, 예측 클래스: 이동\n",
      "이미지: 200. 범장망 표류.jpg, 예측 클래스: 표류\n",
      "이미지: 201. 범장망 표류.jpg, 예측 클래스: 표류\n",
      "이미지: 202. 범장망 표류.jpg, 예측 클래스: 표류\n",
      "이미지: 203. 범장망 표류.jpg, 예측 클래스: 표류\n",
      "이미지: 204. 범장망 표류.jpg, 예측 클래스: 표류\n",
      "이미지: 205. 범장망 표류.jpg, 예측 클래스: 표류\n",
      "이미지: 206. 범장망 표류.jpg, 예측 클래스: 이동\n",
      "이미지: 207. 범장망 표류.jpg, 예측 클래스: 표류\n",
      "이미지: 208. 범장망 표류.jpg, 예측 클래스: 표류\n",
      "이미지: 209. 범장망 표류.jpg, 예측 클래스: 표류\n",
      "이미지: 21. 낚시어선 이동.jpg, 예측 클래스: 이동\n",
      "이미지: 21. 낚시어선 조업.jpg, 예측 클래스: 조업\n",
      "이미지: 21. 등광조망 이동.jpg, 예측 클래스: 이동\n",
      "이미지: 21. 등광조망 조업.jpg, 예측 클래스: 표류\n",
      "이미지: 21. 등광조망 표류.jpg, 예측 클래스: 표류\n",
      "이미지: 21. 범장망 이동.jpg, 예측 클래스: 표류\n",
      "이미지: 21. 범장망 조업.jpg, 예측 클래스: 표류\n",
      "이미지: 21. 범장망 표류.jpg, 예측 클래스: 표류\n",
      "이미지: 21. 안강망 이동.jpg, 예측 클래스: 표류\n",
      "이미지: 21. 연승 이동.jpg, 예측 클래스: 이동\n",
      "이미지: 21. 유망 이동.jpg, 예측 클래스: 이동\n",
      "이미지: 21. 유망 조업.jpg, 예측 클래스: 이동\n",
      "이미지: 21. 유망 표류.jpg, 예측 클래스: 표류\n",
      "이미지: 21. 저인망 이동.jpg, 예측 클래스: 이동\n",
      "이미지: 21. 저인망 조업.jpg, 예측 클래스: 이동\n",
      "이미지: 21. 채낚기 표류.jpg, 예측 클래스: 표류\n",
      "이미지: 21. 타망 이동.jpg, 예측 클래스: 이동\n",
      "이미지: 21. 타망 표류.jpg, 예측 클래스: 이동\n",
      "이미지: 21. 통발 이동.jpg, 예측 클래스: 이동\n",
      "이미지: 210. 범장망 표류.jpg, 예측 클래스: 표류\n",
      "이미지: 211. 범장망 표류.jpg, 예측 클래스: 표류\n",
      "이미지: 212. 범장망 표류.jpg, 예측 클래스: 표류\n",
      "이미지: 213. 범장망 표류.jpg, 예측 클래스: 표류\n",
      "이미지: 214. 범장망 표류.jpg, 예측 클래스: 표류\n",
      "이미지: 215. 범장망 표류.jpg, 예측 클래스: 표류\n",
      "이미지: 216. 범장망 표류.jpg, 예측 클래스: 표류\n",
      "이미지: 217. 범장망 표류.jpg, 예측 클래스: 표류\n",
      "이미지: 218. 범장망 표류.jpg, 예측 클래스: 표류\n",
      "이미지: 219. 범장망 표류.jpg, 예측 클래스: 표류\n",
      "이미지: 22. 낚시어선 이동.jpg, 예측 클래스: 조업\n",
      "이미지: 22. 낚시어선 조업.jpg, 예측 클래스: 조업\n",
      "이미지: 22. 등광조망 이동.jpg, 예측 클래스: 이동\n",
      "이미지: 22. 등광조망 조업.jpg, 예측 클래스: 표류\n",
      "이미지: 22. 등광조망 표류.jpg, 예측 클래스: 표류\n",
      "이미지: 22. 범장망 이동.jpg, 예측 클래스: 이동\n",
      "이미지: 22. 범장망 조업.jpg, 예측 클래스: 표류\n",
      "이미지: 22. 범장망 표류.jpg, 예측 클래스: 표류\n",
      "이미지: 22. 안강망 이동.jpg, 예측 클래스: 이동\n",
      "이미지: 22. 연승 이동.jpg, 예측 클래스: 이동\n",
      "이미지: 22. 연승 표류.jpg, 예측 클래스: 표류\n",
      "이미지: 22. 유망 이동.jpg, 예측 클래스: 표류\n",
      "이미지: 22. 유망 조업.jpg, 예측 클래스: 조업\n",
      "이미지: 22. 유망 표류.jpg, 예측 클래스: 표류\n",
      "이미지: 22. 저인망 이동.jpg, 예측 클래스: 이동\n",
      "이미지: 22. 저인망 조업.jpg, 예측 클래스: 이동\n",
      "이미지: 22. 채낚기 표류.jpg, 예측 클래스: 표류\n",
      "이미지: 22. 타망 이동.jpg, 예측 클래스: 표류\n",
      "이미지: 22. 타망 조업.jpg, 예측 클래스: 조업\n",
      "이미지: 22. 타망 표류.jpg, 예측 클래스: 표류\n",
      "이미지: 22. 통발 이동.jpg, 예측 클래스: 이동\n",
      "이미지: 220. 범장망 표류.jpg, 예측 클래스: 표류\n",
      "이미지: 221. 범장망 표류.jpg, 예측 클래스: 표류\n",
      "이미지: 222. 범장망 표류.jpg, 예측 클래스: 표류\n",
      "이미지: 223. 범장망 표류.jpg, 예측 클래스: 표류\n",
      "이미지: 224. 범장망 표류.jpg, 예측 클래스: 표류\n",
      "이미지: 225. 범장망 표류.jpg, 예측 클래스: 표류\n",
      "이미지: 226. 범장망 표류.jpg, 예측 클래스: 표류\n",
      "이미지: 227. 범장망 표류.jpg, 예측 클래스: 표류\n",
      "이미지: 228. 범장망 표류.jpg, 예측 클래스: 표류\n",
      "이미지: 229. 범장망 표류.jpg, 예측 클래스: 표류\n",
      "이미지: 23. 낚시어선 이동.jpg, 예측 클래스: 이동\n",
      "이미지: 23. 낚시어선 조업.jpg, 예측 클래스: 조업\n",
      "이미지: 23. 등광조망 조업.jpg, 예측 클래스: 조업\n",
      "이미지: 23. 등광조망 표류.jpg, 예측 클래스: 표류\n",
      "이미지: 23. 범장망 이동.jpg, 예측 클래스: 표류\n",
      "이미지: 23. 범장망 조업.jpg, 예측 클래스: 표류\n",
      "이미지: 23. 범장망 표류.jpg, 예측 클래스: 표류\n",
      "이미지: 23. 연승 이동.jpg, 예측 클래스: 이동\n",
      "이미지: 23. 연승 표류.jpg, 예측 클래스: 표류\n",
      "이미지: 23. 유망 이동.jpg, 예측 클래스: 표류\n",
      "이미지: 23. 유망 조업.jpg, 예측 클래스: 조업\n",
      "이미지: 23. 유망 표류.jpg, 예측 클래스: 표류\n",
      "이미지: 23. 저인망 이동.jpg, 예측 클래스: 이동\n",
      "이미지: 23. 저인망 조업.jpg, 예측 클래스: 조업\n",
      "이미지: 23. 채낚기 표류.jpg, 예측 클래스: 표류\n",
      "이미지: 23. 타망 이동.jpg, 예측 클래스: 이동\n",
      "이미지: 23. 타망 조업.jpg, 예측 클래스: 표류\n",
      "이미지: 23. 타망 표류.jpg, 예측 클래스: 표류\n",
      "이미지: 23. 통발 이동.jpg, 예측 클래스: 이동\n",
      "이미지: 23.등광조망 이동.jpg, 예측 클래스: 이동\n",
      "이미지: 230. 범장망 표류.jpg, 예측 클래스: 표류\n",
      "이미지: 231. 범장망 표류.jpg, 예측 클래스: 표류\n",
      "이미지: 232. 범장망 표류.jpg, 예측 클래스: 표류\n",
      "이미지: 233. 범장망 표류.jpg, 예측 클래스: 이동\n",
      "이미지: 234. 범장망 표류.jpg, 예측 클래스: 이동\n",
      "이미지: 235. 범장망 표류.jpg, 예측 클래스: 표류\n",
      "이미지: 236. 범장망 표류.jpg, 예측 클래스: 표류\n",
      "이미지: 237. 범장망 표류.jpg, 예측 클래스: 표류\n",
      "이미지: 238. 범장망 표류.jpg, 예측 클래스: 표류\n",
      "이미지: 239. 범장망 표류.jpg, 예측 클래스: 표류\n",
      "이미지: 24. 낚시어선 이동.jpg, 예측 클래스: 이동\n",
      "이미지: 24. 낚시어선 조업.jpg, 예측 클래스: 조업\n",
      "이미지: 24. 등광조망 이동.jpg, 예측 클래스: 이동\n",
      "이미지: 24. 등광조망 조업.jpg, 예측 클래스: 표류\n",
      "이미지: 24. 등광조망 표류.jpg, 예측 클래스: 표류\n",
      "이미지: 24. 범장망 이동.jpg, 예측 클래스: 이동\n",
      "이미지: 24. 범장망 조업.jpg, 예측 클래스: 표류\n",
      "이미지: 24. 연승 이동.jpg, 예측 클래스: 이동\n",
      "이미지: 24. 유망 이동.jpg, 예측 클래스: 이동\n",
      "이미지: 24. 유망 조업.jpg, 예측 클래스: 표류\n",
      "이미지: 24. 유망 표류.jpg, 예측 클래스: 표류\n",
      "이미지: 24. 저인망 이동.jpg, 예측 클래스: 이동\n",
      "이미지: 24. 저인망 조업.jpg, 예측 클래스: 조업\n",
      "이미지: 24. 채낚기 표류.jpg, 예측 클래스: 표류\n",
      "이미지: 24. 타망 이동.jpg, 예측 클래스: 이동\n",
      "이미지: 24. 타망 조업.jpg, 예측 클래스: 이동\n",
      "이미지: 24. 타망 표류.jpg, 예측 클래스: 표류\n",
      "이미지: 24. 통발 이동.jpg, 예측 클래스: 이동\n",
      "이미지: 240. 범장망 표류.jpg, 예측 클래스: 표류\n",
      "이미지: 241. 범장망 표류.jpg, 예측 클래스: 표류\n",
      "이미지: 242. 범장망 표류.jpg, 예측 클래스: 표류\n",
      "이미지: 243. 범장망 표류.jpg, 예측 클래스: 표류\n",
      "이미지: 244. 범장망 표류.jpg, 예측 클래스: 표류\n",
      "이미지: 245. 범장망 표류.jpg, 예측 클래스: 표류\n",
      "이미지: 246. 범장망 표류.jpg, 예측 클래스: 표류\n",
      "이미지: 247. 범장망 표류.jpg, 예측 클래스: 표류\n",
      "이미지: 248. 범장망 표류.jpg, 예측 클래스: 표류\n",
      "이미지: 249. 범장망 표류.jpg, 예측 클래스: 표류\n",
      "이미지: 25. 낚시어선 이동.jpg, 예측 클래스: 이동\n",
      "이미지: 25. 낚시어선 조업.jpg, 예측 클래스: 조업\n",
      "이미지: 25. 등광조망 조업.jpg, 예측 클래스: 표류\n",
      "이미지: 25. 범장망 이동.jpg, 예측 클래스: 표류\n",
      "이미지: 25. 범장망 표류.jpg, 예측 클래스: 표류\n",
      "이미지: 25. 연승 이동.jpg, 예측 클래스: 이동\n",
      "이미지: 25. 유망 이동.jpg, 예측 클래스: 이동\n",
      "이미지: 25. 유망 조업.jpg, 예측 클래스: 표류\n",
      "이미지: 25. 유망 표류.jpg, 예측 클래스: 표류\n",
      "이미지: 25. 저인망 이동.jpg, 예측 클래스: 이동\n",
      "이미지: 25. 채낚기 표류.jpg, 예측 클래스: 표류\n",
      "이미지: 25. 타망 이동.jpg, 예측 클래스: 이동\n",
      "이미지: 25. 타망 조업.jpg, 예측 클래스: 표류\n",
      "이미지: 25. 타망 표류.jpg, 예측 클래스: 표류\n",
      "이미지: 250. 범장망 표류.jpg, 예측 클래스: 표류\n",
      "이미지: 251. 범장망 표류.jpg, 예측 클래스: 표류\n",
      "이미지: 252. 범장망 표류.jpg, 예측 클래스: 표류\n",
      "이미지: 253. 범장망 표류.jpg, 예측 클래스: 표류\n",
      "이미지: 254. 범장망 표류.jpg, 예측 클래스: 표류\n",
      "이미지: 255. 범장망 표류.jpg, 예측 클래스: 표류\n",
      "이미지: 256. 범장망 표류.jpg, 예측 클래스: 표류\n",
      "이미지: 257. 범장망 표류.jpg, 예측 클래스: 표류\n",
      "이미지: 258. 범장망 표류.jpg, 예측 클래스: 표류\n",
      "이미지: 259. 범장망 표류.jpg, 예측 클래스: 표류\n",
      "이미지: 26. 낚시어선 이동.jpg, 예측 클래스: 이동\n",
      "이미지: 26. 낚시어선 조업.jpg, 예측 클래스: 조업\n",
      "이미지: 26. 등광조망 이동.jpg, 예측 클래스: 이동\n",
      "이미지: 26. 등광조망 조업.jpg, 예측 클래스: 조업\n",
      "이미지: 26. 범장망 표류.jpg, 예측 클래스: 표류\n",
      "이미지: 26. 연승 이동.jpg, 예측 클래스: 이동\n",
      "이미지: 26. 유망 이동.jpg, 예측 클래스: 이동\n",
      "이미지: 26. 유망 조업.jpg, 예측 클래스: 조업\n",
      "이미지: 26. 유망 표류.jpg, 예측 클래스: 표류\n",
      "이미지: 26. 저인망 이동.jpg, 예측 클래스: 이동\n",
      "이미지: 26. 채낚기 표류.jpg, 예측 클래스: 표류\n",
      "이미지: 26. 타망 이동.jpg, 예측 클래스: 표류\n",
      "이미지: 26. 타망 조업.jpg, 예측 클래스: 이동\n",
      "이미지: 26. 타망 표류.jpg, 예측 클래스: 표류\n",
      "이미지: 26. 통발 이동.jpg, 예측 클래스: 이동\n",
      "이미지: 260. 범장망 표류.jpg, 예측 클래스: 표류\n",
      "이미지: 261. 범장망 표류.jpg, 예측 클래스: 이동\n",
      "이미지: 262. 범장망 표류.png, 예측 클래스: 표류\n",
      "이미지: 263. 범장망 표류.png, 예측 클래스: 표류\n",
      "이미지: 264. 범장망 표류.jpg, 예측 클래스: 표류\n",
      "이미지: 265. 범장망 표류.jpg, 예측 클래스: 표류\n",
      "이미지: 266. 범장망 표류.jpg, 예측 클래스: 표류\n",
      "이미지: 267. 범장망 표류.jpg, 예측 클래스: 표류\n",
      "이미지: 268. 범장망 표류.jpg, 예측 클래스: 표류\n",
      "이미지: 269. 범장망 표류.jpg, 예측 클래스: 표류\n",
      "이미지: 27. 낚시어선 이동.jpg, 예측 클래스: 표류\n",
      "이미지: 27. 낚시어선 조업.jpg, 예측 클래스: 조업\n",
      "이미지: 27. 등광조망 이동.jpg, 예측 클래스: 이동\n",
      "이미지: 27. 등광조망 조업.jpg, 예측 클래스: 조업\n",
      "이미지: 27. 범장망 이동.jpg, 예측 클래스: 이동\n",
      "이미지: 27. 범장망 표류.jpg, 예측 클래스: 표류\n",
      "이미지: 27. 연승 이동.jpg, 예측 클래스: 이동\n",
      "이미지: 27. 유망 이동.jpg, 예측 클래스: 표류\n",
      "이미지: 27. 유망 조업.jpg, 예측 클래스: 조업\n",
      "이미지: 27. 유망 표류.jpg, 예측 클래스: 표류\n",
      "이미지: 27. 저인망 이동.jpg, 예측 클래스: 이동\n",
      "이미지: 27. 채낚기 표류.jpg, 예측 클래스: 표류\n",
      "이미지: 27. 타망 이동.jpg, 예측 클래스: 이동\n",
      "이미지: 27. 타망 조업.jpg, 예측 클래스: 표류\n",
      "이미지: 27. 타망 표류.jpg, 예측 클래스: 표류\n",
      "이미지: 27. 통발 이동.jpg, 예측 클래스: 이동\n",
      "이미지: 270. 범장망 표류.jpg, 예측 클래스: 표류\n",
      "이미지: 271. 범장망 표류.jpg, 예측 클래스: 표류\n",
      "이미지: 272. 범장망 표류.jpg, 예측 클래스: 표류\n",
      "이미지: 273. 범장망 표류.jpg, 예측 클래스: 표류\n",
      "이미지: 274. 범장망 표류.jpg, 예측 클래스: 표류\n",
      "이미지: 275. 범장망 표류.jpg, 예측 클래스: 표류\n",
      "이미지: 276. 범장망 표류.jpg, 예측 클래스: 표류\n",
      "이미지: 277. 범장망 표류.jpg, 예측 클래스: 표류\n",
      "이미지: 278. 범장망 표류.jpg, 예측 클래스: 표류\n",
      "이미지: 279. 범장망 표류.jpg, 예측 클래스: 이동\n",
      "이미지: 28. 낚시어선 이동.jpg, 예측 클래스: 이동\n",
      "이미지: 28. 낚시어선 조업.jpg, 예측 클래스: 조업\n",
      "이미지: 28. 등광조망 이동.jpg, 예측 클래스: 이동\n",
      "이미지: 28. 등광조망 조업.jpg, 예측 클래스: 표류\n",
      "이미지: 28. 범장망 이동.jpg, 예측 클래스: 표류\n",
      "이미지: 28. 범장망 표류.jpg, 예측 클래스: 표류\n",
      "이미지: 28. 연승 이동.jpg, 예측 클래스: 이동\n",
      "이미지: 28. 유망 이동.jpg, 예측 클래스: 이동\n",
      "이미지: 28. 유망 조업.jpg, 예측 클래스: 조업\n",
      "이미지: 28. 유망 표류.jpg, 예측 클래스: 표류\n",
      "이미지: 28. 저인망 이동.jpg, 예측 클래스: 이동\n",
      "이미지: 28. 타망 이동.jpg, 예측 클래스: 이동\n",
      "이미지: 28. 타망 조업.jpg, 예측 클래스: 조업\n",
      "이미지: 28. 타망 표류.jpg, 예측 클래스: 표류\n",
      "이미지: 28. 통발 이동.jpg, 예측 클래스: 표류\n",
      "이미지: 280. 범장망 표류.jpg, 예측 클래스: 표류\n",
      "이미지: 281. 범장망 표류.jpg, 예측 클래스: 표류\n",
      "이미지: 282. 범장망 표류.jpg, 예측 클래스: 표류\n",
      "이미지: 283. 범장망 표류.jpg, 예측 클래스: 표류\n",
      "이미지: 284. 범장망 표류.jpg, 예측 클래스: 표류\n",
      "이미지: 285. 범장망 표류.jpg, 예측 클래스: 표류\n",
      "이미지: 286. 범장망 표류.jpg, 예측 클래스: 이동\n",
      "이미지: 287. 범장망 표류.jpg, 예측 클래스: 표류\n",
      "이미지: 289. 범장망 표류.jpg, 예측 클래스: 표류\n",
      "이미지: 29. 낚시어선 이동.jpg, 예측 클래스: 이동\n",
      "이미지: 29. 낚시어선 조업.jpg, 예측 클래스: 표류\n",
      "이미지: 29. 등광조망 이동.jpg, 예측 클래스: 이동\n",
      "이미지: 29. 등광조망 조업.jpg, 예측 클래스: 표류\n",
      "이미지: 29. 범장망 이동.jpg, 예측 클래스: 이동\n",
      "이미지: 29. 범장망 표류.jpg, 예측 클래스: 표류\n",
      "이미지: 29. 연승 이동.jpg, 예측 클래스: 표류\n",
      "이미지: 29. 유망 이동.jpg, 예측 클래스: 표류\n",
      "이미지: 29. 유망 조업.jpg, 예측 클래스: 표류\n",
      "이미지: 29. 유망 표류.jpg, 예측 클래스: 표류\n",
      "이미지: 29. 저인망 이동.jpg, 예측 클래스: 이동\n",
      "이미지: 29. 채낚기 표류.jpg, 예측 클래스: 표류\n",
      "이미지: 29. 타망 이동.jpg, 예측 클래스: 표류\n",
      "이미지: 29. 타망 조업.jpg, 예측 클래스: 표류\n",
      "이미지: 29. 타망 표류.jpg, 예측 클래스: 표류\n",
      "이미지: 29. 통발 이동.jpg, 예측 클래스: 표류\n",
      "이미지: 290. 범장망 표류.jpg, 예측 클래스: 표류\n",
      "이미지: 291. 범장망 표류.jpg, 예측 클래스: 표류\n",
      "이미지: 292. 범장망 표류.jpg, 예측 클래스: 표류\n",
      "이미지: 293. 범장망 표류.jpg, 예측 클래스: 표류\n",
      "이미지: 294. 범장망 표류.jpg, 예측 클래스: 표류\n",
      "이미지: 295. 범장망 표류.jpg, 예측 클래스: 표류\n",
      "이미지: 296. 범장망 표류.jpg, 예측 클래스: 표류\n",
      "이미지: 297. 범장망 표류.jpg, 예측 클래스: 표류\n",
      "이미지: 298. 범장망 표류.jpg, 예측 클래스: 표류\n",
      "이미지: 299. 범장망 표류.jpg, 예측 클래스: 표류\n",
      "이미지: 3. 낚시어선 이동.jpg, 예측 클래스: 이동\n",
      "이미지: 3. 낚시어선 표류.jpg, 예측 클래스: 표류\n",
      "이미지: 3. 등광조망 이동.jpg, 예측 클래스: 이동\n",
      "이미지: 3. 등광조망 조업.jpg, 예측 클래스: 조업\n",
      "이미지: 3. 등광조망 표류.jpg, 예측 클래스: 이동\n",
      "이미지: 3. 범장망 이동.jpg, 예측 클래스: 표류\n",
      "이미지: 3. 범장망 조업.jpg, 예측 클래스: 표류\n",
      "이미지: 3. 범장망 표류.jpg, 예측 클래스: 표류\n",
      "이미지: 3. 안강망 이동.jpg, 예측 클래스: 이동\n",
      "이미지: 3. 안강망 조업.jpg, 예측 클래스: 조업\n",
      "이미지: 3. 안강망 표류.jpg, 예측 클래스: 이동\n",
      "이미지: 3. 연승 이동.jpg, 예측 클래스: 이동\n",
      "이미지: 3. 유망 이동.jpg, 예측 클래스: 표류\n",
      "이미지: 3. 유망 조업.jpg, 예측 클래스: 조업\n",
      "이미지: 3. 유망 표류.jpg, 예측 클래스: 표류\n",
      "이미지: 3. 저인망 이동.jpg, 예측 클래스: 이동\n",
      "이미지: 3. 저인망 조업.jpg, 예측 클래스: 이동\n",
      "이미지: 3. 저인망 표류.jpg, 예측 클래스: 표류\n",
      "이미지: 3. 채낚기  표류.jpg, 예측 클래스: 표류\n",
      "이미지: 3. 채낚기 조업.jpg, 예측 클래스: 표류\n",
      "이미지: 3. 타망 이동.jpg, 예측 클래스: 이동\n",
      "이미지: 3. 타망 조업.jpg, 예측 클래스: 조업\n",
      "이미지: 3. 타망 표류.jpg, 예측 클래스: 표류\n",
      "이미지: 3. 통발 이동.jpg, 예측 클래스: 이동\n",
      "이미지: 3. 통발 표류.jpg, 예측 클래스: 표류\n",
      "이미지: 30. 낚시어선 이동.jpg, 예측 클래스: 표류\n",
      "이미지: 30. 낚시어선 조업.jpg, 예측 클래스: 조업\n",
      "이미지: 30. 등광조망 이동.jpg, 예측 클래스: 이동\n",
      "이미지: 30. 등광조망 조업.jpg, 예측 클래스: 표류\n",
      "이미지: 30. 범장망 이동.jpg, 예측 클래스: 이동\n",
      "이미지: 30. 범장망 표류.jpg, 예측 클래스: 표류\n",
      "이미지: 30. 연승 이동.jpg, 예측 클래스: 이동\n",
      "이미지: 30. 유망 이동.jpg, 예측 클래스: 표류\n",
      "이미지: 30. 유망 조업.jpg, 예측 클래스: 조업\n",
      "이미지: 30. 유망 표류.jpg, 예측 클래스: 조업\n",
      "이미지: 30. 저인망 이동.jpg, 예측 클래스: 표류\n",
      "이미지: 30. 채낚기 표류.jpg, 예측 클래스: 이동\n",
      "이미지: 30. 타망 이동.jpg, 예측 클래스: 이동\n",
      "이미지: 30. 타망 조업.jpg, 예측 클래스: 표류\n",
      "이미지: 30. 타망 표류.jpg, 예측 클래스: 표류\n",
      "이미지: 30. 통발 이동.jpg, 예측 클래스: 이동\n",
      "이미지: 300. 범장망 표류.jpg, 예측 클래스: 표류\n",
      "이미지: 301. 범장망 표류.jpg, 예측 클래스: 표류\n",
      "이미지: 302. 범장망 표류.jpg, 예측 클래스: 표류\n",
      "이미지: 303. 범장망 표류.jpg, 예측 클래스: 표류\n",
      "이미지: 304. 범장망 표류.jpg, 예측 클래스: 표류\n",
      "이미지: 305. 범장망 표류.jpg, 예측 클래스: 표류\n",
      "이미지: 306. 범장망 표류.jpg, 예측 클래스: 표류\n",
      "이미지: 31. 낚시어선 이동.jpg, 예측 클래스: 이동\n",
      "이미지: 31. 낚시어선 조업.jpg, 예측 클래스: 표류\n",
      "이미지: 31. 등광조망 조업.jpg, 예측 클래스: 조업\n",
      "이미지: 31. 범장망 이동.jpg, 예측 클래스: 이동\n",
      "이미지: 31. 범장망 표류.jpg, 예측 클래스: 표류\n",
      "이미지: 31. 연승 이동.jpg, 예측 클래스: 이동\n",
      "이미지: 31. 유망 이동.jpg, 예측 클래스: 이동\n",
      "이미지: 31. 유망 조업.jpg, 예측 클래스: 표류\n",
      "이미지: 31. 유망 표류.jpg, 예측 클래스: 표류\n",
      "이미지: 31. 저인망 이동.jpg, 예측 클래스: 이동\n",
      "이미지: 31. 채낚기 표류.jpg, 예측 클래스: 표류\n",
      "이미지: 31. 타망 이동.jpg, 예측 클래스: 이동\n",
      "이미지: 31. 타망 조업.jpg, 예측 클래스: 표류\n",
      "이미지: 31. 타망 표류.jpg, 예측 클래스: 표류\n",
      "이미지: 31. 통발 이동.jpg, 예측 클래스: 이동\n",
      "이미지: 32. 낚시어선 이동.jpg, 예측 클래스: 이동\n",
      "이미지: 32. 낚시어선 조업.jpg, 예측 클래스: 조업\n",
      "이미지: 32. 등광조망 조업.jpg, 예측 클래스: 이동\n",
      "이미지: 32. 범장망 이동.jpg, 예측 클래스: 이동\n",
      "이미지: 32. 범장망 표류.jpg, 예측 클래스: 표류\n",
      "이미지: 32. 연승 이동.jpg, 예측 클래스: 이동\n",
      "이미지: 32. 유망 조업.jpg, 예측 클래스: 이동\n",
      "이미지: 32. 유망 표류.jpg, 예측 클래스: 표류\n",
      "이미지: 32. 저인망 이동.jpg, 예측 클래스: 이동\n",
      "이미지: 32. 채낚기 표류.jpg, 예측 클래스: 이동\n",
      "이미지: 32. 타망 이동.jpg, 예측 클래스: 이동\n",
      "이미지: 32. 타망 조업.jpg, 예측 클래스: 조업\n",
      "이미지: 32. 타망 표류.jpg, 예측 클래스: 표류\n",
      "이미지: 32. 통발 이동.jpg, 예측 클래스: 이동\n",
      "이미지: 33. 낚시어선 이동.jpg, 예측 클래스: 이동\n",
      "이미지: 33. 낚시어선 조업.jpg, 예측 클래스: 조업\n",
      "이미지: 33. 등광조망 조업.jpg, 예측 클래스: 표류\n",
      "이미지: 33. 범장망 이동.jpg, 예측 클래스: 이동\n",
      "이미지: 33. 범장망 표류.jpg, 예측 클래스: 표류\n",
      "이미지: 33. 연승 이동.jpg, 예측 클래스: 이동\n",
      "이미지: 33. 유망 이동.jpg, 예측 클래스: 이동\n",
      "이미지: 33. 유망 조업.jpg, 예측 클래스: 조업\n",
      "이미지: 33. 유망 표류.jpg, 예측 클래스: 표류\n",
      "이미지: 33. 저인망 이동.jpg, 예측 클래스: 이동\n",
      "이미지: 33. 채낚기 표류.jpg, 예측 클래스: 표류\n",
      "이미지: 33. 타망 이동.jpg, 예측 클래스: 조업\n",
      "이미지: 33. 타망 조업.jpg, 예측 클래스: 이동\n",
      "이미지: 33. 타망 표류.jpg, 예측 클래스: 표류\n",
      "이미지: 33. 통발 이동.jpg, 예측 클래스: 이동\n",
      "이미지: 34. 낚시어선 조업.jpg, 예측 클래스: 조업\n",
      "이미지: 34. 범장망 이동.jpg, 예측 클래스: 이동\n",
      "이미지: 34. 범장망 표류.jpg, 예측 클래스: 표류\n",
      "이미지: 34. 연승 이동.jpg, 예측 클래스: 이동\n",
      "이미지: 34. 유망 이동.jpg, 예측 클래스: 이동\n",
      "이미지: 34. 유망 표류.jpg, 예측 클래스: 표류\n",
      "이미지: 34. 저인망 이동.jpg, 예측 클래스: 이동\n",
      "이미지: 34. 채낚기 표류.jpg, 예측 클래스: 조업\n",
      "이미지: 34. 타망 이동.jpg, 예측 클래스: 표류\n",
      "이미지: 34. 타망 조업.jpg, 예측 클래스: 표류\n",
      "이미지: 34. 통발 이동.jpg, 예측 클래스: 이동\n",
      "이미지: 35. 낚시어선 조업.jpg, 예측 클래스: 조업\n",
      "이미지: 35. 등광조망 조업.jpg, 예측 클래스: 조업\n",
      "이미지: 35. 범장망 이동.jpg, 예측 클래스: 이동\n",
      "이미지: 35. 범장망 표류.jpg, 예측 클래스: 표류\n",
      "이미지: 35. 유망 이동.jpg, 예측 클래스: 이동\n",
      "이미지: 35. 유망 표류.jpg, 예측 클래스: 표류\n",
      "이미지: 35. 저인망 이동.jpg, 예측 클래스: 이동\n",
      "이미지: 35. 타망 이동.jpg, 예측 클래스: 이동\n",
      "이미지: 35. 타망 조업.jpg, 예측 클래스: 표류\n",
      "이미지: 35. 타망 표류.jpg, 예측 클래스: 표류\n",
      "이미지: 35. 통발 이동.jpg, 예측 클래스: 이동\n",
      "이미지: 36. 낚시어선 조업.jpg, 예측 클래스: 조업\n",
      "이미지: 36. 등광조망 조업.jpg, 예측 클래스: 조업\n",
      "이미지: 36. 범장망 이동.jpg, 예측 클래스: 이동\n",
      "이미지: 36. 범장망 표류.jpg, 예측 클래스: 표류\n",
      "이미지: 36. 유망 이동.jpg, 예측 클래스: 이동\n",
      "이미지: 36. 유망 표류.jpg, 예측 클래스: 표류\n",
      "이미지: 36. 저인망 이동.jpg, 예측 클래스: 표류\n",
      "이미지: 36. 타망 ldehd.jpg, 예측 클래스: 이동\n",
      "이미지: 36. 타망 조업.jpg, 예측 클래스: 조업\n",
      "이미지: 36. 타망 표류.jpg, 예측 클래스: 표류\n",
      "이미지: 36. 통발 이동.jpg, 예측 클래스: 이동\n",
      "이미지: 37. 낚시어선 조업.jpg, 예측 클래스: 조업\n",
      "이미지: 37. 등광조망 조업.jpg, 예측 클래스: 조업\n",
      "이미지: 37. 범장망 이동.jpg, 예측 클래스: 이동\n",
      "이미지: 37. 범장망 표류.jpg, 예측 클래스: 표류\n",
      "이미지: 37. 유망 이동.jpg, 예측 클래스: 이동\n",
      "이미지: 37. 유망 표류.jpg, 예측 클래스: 표류\n",
      "이미지: 37. 저인망 이동.jpg, 예측 클래스: 표류\n",
      "이미지: 37. 타망 이동.jpg, 예측 클래스: 이동\n",
      "이미지: 37. 타망 조업.jpg, 예측 클래스: 표류\n",
      "이미지: 37. 타망 표류.jpg, 예측 클래스: 이동\n",
      "이미지: 37. 통발 이동.jpg, 예측 클래스: 이동\n",
      "이미지: 38. 낚시어선 조업.jpg, 예측 클래스: 조업\n",
      "이미지: 38. 등광조망 조업.jpg, 예측 클래스: 조업\n",
      "이미지: 38. 범장망 표류.jpg, 예측 클래스: 표류\n",
      "이미지: 38. 유망 이동.jpg, 예측 클래스: 이동\n",
      "이미지: 38. 유망 표류.jpg, 예측 클래스: 표류\n",
      "이미지: 38. 저인망 이동.jpg, 예측 클래스: 이동\n",
      "이미지: 38. 채낚기 표류.jpg, 예측 클래스: 표류\n",
      "이미지: 38. 타망 이동.jpg, 예측 클래스: 이동\n",
      "이미지: 38. 타망 조업.jpg, 예측 클래스: 조업\n",
      "이미지: 38. 타망 표류.jpg, 예측 클래스: 표류\n",
      "이미지: 38. 통발 이동.jpg, 예측 클래스: 이동\n",
      "이미지: 39. 낚시어선 이동.png, 예측 클래스: 이동\n",
      "이미지: 39. 낚시어선 조업.jpg, 예측 클래스: 조업\n",
      "이미지: 39. 등광조망 조업.png, 예측 클래스: 표류\n",
      "이미지: 39. 범장망 이동.jpg, 예측 클래스: 이동\n",
      "이미지: 39. 범장망 표류.jpg, 예측 클래스: 표류\n",
      "이미지: 39. 유망 이동.jpg, 예측 클래스: 이동\n",
      "이미지: 39. 유망 표류.jpg, 예측 클래스: 표류\n",
      "이미지: 39. 저인망 이동.jpg, 예측 클래스: 이동\n",
      "이미지: 39. 채낚기 표류.jpg, 예측 클래스: 표류\n",
      "이미지: 39. 타망 이동.jpg, 예측 클래스: 이동\n",
      "이미지: 39. 타망 조업.jpg, 예측 클래스: 조업\n",
      "이미지: 39. 타망 표류.jpg, 예측 클래스: 표류\n",
      "이미지: 39. 통발 이동.jpg, 예측 클래스: 이동\n",
      "이미지: 4. 낚시어선 이동.jpg, 예측 클래스: 이동\n",
      "이미지: 4. 낚시어선 조업.jpg, 예측 클래스: 조업\n",
      "이미지: 4. 낚시어선 표류.jpg, 예측 클래스: 표류\n",
      "이미지: 4. 등광조망 이동.jpg, 예측 클래스: 이동\n",
      "이미지: 4. 등광조망 조업.jpg, 예측 클래스: 조업\n",
      "이미지: 4. 등광조망 표류.jpg, 예측 클래스: 표류\n",
      "이미지: 4. 범장망 이동.jpg, 예측 클래스: 이동\n",
      "이미지: 4. 범장망 조업.jpg, 예측 클래스: 조업\n",
      "이미지: 4. 범장망 표류.jpg, 예측 클래스: 표류\n",
      "이미지: 4. 안강망 이동.jpg, 예측 클래스: 이동\n",
      "이미지: 4. 안강망 조업.jpg, 예측 클래스: 표류\n",
      "이미지: 4. 안강망 표류.jpg, 예측 클래스: 표류\n",
      "이미지: 4. 연승 표류.jpg, 예측 클래스: 표류\n",
      "이미지: 4. 유망 이동.jpg, 예측 클래스: 표류\n",
      "이미지: 4. 유망 조업.jpg, 예측 클래스: 표류\n",
      "이미지: 4. 유망 표류.jpg, 예측 클래스: 표류\n",
      "이미지: 4. 저인망 이동.jpg, 예측 클래스: 이동\n",
      "이미지: 4. 저인망 조업.jpg, 예측 클래스: 표류\n",
      "이미지: 4. 저인망 표류.jpg, 예측 클래스: 표류\n",
      "이미지: 4. 채낚기  표류.jpg, 예측 클래스: 표류\n",
      "이미지: 4. 채낚기 이동.jpg, 예측 클래스: 이동\n",
      "이미지: 4. 채낚기 조업.jpg, 예측 클래스: 표류\n",
      "이미지: 4. 타망 이동.jpg, 예측 클래스: 이동\n",
      "이미지: 4. 타망 조업.jpg, 예측 클래스: 이동\n",
      "이미지: 4. 타망 표류.jpg, 예측 클래스: 표류\n",
      "이미지: 4. 통발 이동.jpg, 예측 클래스: 표류\n",
      "이미지: 4. 통발 표류.jpg, 예측 클래스: 표류\n",
      "이미지: 40. 낚시어선 이동.png, 예측 클래스: 이동\n",
      "이미지: 40. 등광조망 조업.jpg, 예측 클래스: 조업\n",
      "이미지: 40. 범장망 이동.jpg, 예측 클래스: 이동\n",
      "이미지: 40. 범장망 표류.jpg, 예측 클래스: 표류\n",
      "이미지: 40. 유망 이동.jpg, 예측 클래스: 이동\n",
      "이미지: 40. 유망 표류.jpg, 예측 클래스: 표류\n",
      "이미지: 40. 저인망 이동.jpg, 예측 클래스: 이동\n",
      "이미지: 40. 채낚기 표류.jpg, 예측 클래스: 이동\n",
      "이미지: 40. 타망 이동.jpg, 예측 클래스: 조업\n",
      "이미지: 40. 타망 조업.jpg, 예측 클래스: 조업\n",
      "이미지: 40. 타망 표류.jpg, 예측 클래스: 표류\n",
      "이미지: 40. 통발 이동.jpg, 예측 클래스: 이동\n",
      "이미지: 41. 낚시어선 이동.png, 예측 클래스: 이동\n",
      "이미지: 41. 낚시어선 조업.jpg, 예측 클래스: 조업\n",
      "이미지: 41. 등광조망 조업.jpg, 예측 클래스: 조업\n",
      "이미지: 41. 범장망 이동.jpg, 예측 클래스: 이동\n",
      "이미지: 41. 유망 이동.jpg, 예측 클래스: 표류\n",
      "이미지: 41. 유망 표류.jpg, 예측 클래스: 표류\n",
      "이미지: 41. 저인망 이동.jpg, 예측 클래스: 이동\n",
      "이미지: 41. 채낚기 표류.jpg, 예측 클래스: 표류\n",
      "이미지: 41. 타망 이동.jpg, 예측 클래스: 이동\n",
      "이미지: 41. 타망 조업.jpg, 예측 클래스: 표류\n",
      "이미지: 41. 타망 표류.jpg, 예측 클래스: 표류\n",
      "이미지: 41. 통발 이동.jpg, 예측 클래스: 이동\n",
      "이미지: 42. 낚시어선 이동.png, 예측 클래스: 이동\n",
      "이미지: 42. 낚시어선 조업.jpg, 예측 클래스: 조업\n",
      "이미지: 42. 등광조망 조업.jpg, 예측 클래스: 이동\n",
      "이미지: 42. 범장망 이동.jpg, 예측 클래스: 표류\n",
      "이미지: 42. 범장망 표류.jpg, 예측 클래스: 표류\n",
      "이미지: 42. 유망 표류.jpg, 예측 클래스: 표류\n",
      "이미지: 42. 저인망 이동.jpg, 예측 클래스: 이동\n",
      "이미지: 42. 채낚기 표류.jpg, 예측 클래스: 이동\n",
      "이미지: 42. 타망 이동.jpg, 예측 클래스: 이동\n",
      "이미지: 42. 타망 조업.jpg, 예측 클래스: 조업\n",
      "이미지: 42. 타망 표류.jpg, 예측 클래스: 표류\n",
      "이미지: 42. 통발 이동.jpg, 예측 클래스: 이동\n",
      "이미지: 43. 낚시어선 이동.png, 예측 클래스: 이동\n",
      "이미지: 43. 낚시어선 조업.jpg, 예측 클래스: 조업\n",
      "이미지: 43. 등광조망 조업.jpg, 예측 클래스: 조업\n",
      "이미지: 43. 범장망 이동.jpg, 예측 클래스: 이동\n",
      "이미지: 43. 범장망 표류.jpg, 예측 클래스: 표류\n",
      "이미지: 43. 유망 표류.jpg, 예측 클래스: 표류\n",
      "이미지: 43. 타망 이동.jpg, 예측 클래스: 표류\n",
      "이미지: 43. 타망 조업.jpg, 예측 클래스: 조업\n",
      "이미지: 43. 타망 표류.jpg, 예측 클래스: 표류\n",
      "이미지: 43. 통발 이동.jpg, 예측 클래스: 이동\n",
      "이미지: 44. 낚시어선 이동.jpg, 예측 클래스: 이동\n",
      "이미지: 44. 낚시어선 조업.jpg, 예측 클래스: 조업\n",
      "이미지: 44. 등광조망 조업.jpg, 예측 클래스: 표류\n",
      "이미지: 44. 범장망 이동.jpg, 예측 클래스: 표류\n",
      "이미지: 44. 범장망 표류.jpg, 예측 클래스: 표류\n",
      "이미지: 44. 유망 표류.jpg, 예측 클래스: 표류\n",
      "이미지: 44. 저인망 이동.jpg, 예측 클래스: 이동\n",
      "이미지: 44. 타망 이동.jpg, 예측 클래스: 표류\n",
      "이미지: 44. 타망 조업.jpg, 예측 클래스: 이동\n",
      "이미지: 44. 타망 표류.jpg, 예측 클래스: 표류\n",
      "이미지: 44. 통발 이동.jpg, 예측 클래스: 이동\n",
      "이미지: 45. 낚시어선 이동.jpg, 예측 클래스: 이동\n",
      "이미지: 45. 낚시어선 조업.jpg, 예측 클래스: 표류\n",
      "이미지: 45. 등광조망 조업.jpg, 예측 클래스: 표류\n",
      "이미지: 45. 범장망 이동.jpg, 예측 클래스: 이동\n",
      "이미지: 45. 범장망 표류.jpg, 예측 클래스: 표류\n",
      "이미지: 45. 유망 표류.jpg, 예측 클래스: 표류\n",
      "이미지: 45. 저인망 이동.jpg, 예측 클래스: 이동\n",
      "이미지: 45. 타망 이동.jpg, 예측 클래스: 표류\n",
      "이미지: 45. 타망 조업.jpg, 예측 클래스: 조업\n",
      "이미지: 45. 타망 표류.jpg, 예측 클래스: 표류\n",
      "이미지: 45. 통발 이동.jpg, 예측 클래스: 이동\n",
      "이미지: 46. 낚시어선 이동.jpg, 예측 클래스: 이동\n",
      "이미지: 46. 낚시어선 조업.jpg, 예측 클래스: 조업\n",
      "이미지: 46. 범장망 이동.jpg, 예측 클래스: 이동\n",
      "이미지: 46. 범장망 표류.jpg, 예측 클래스: 표류\n",
      "이미지: 46. 유망 표류.jpg, 예측 클래스: 표류\n",
      "이미지: 46. 저인망 이동.jpg, 예측 클래스: 이동\n",
      "이미지: 46. 타망 이동.jpg, 예측 클래스: 이동\n",
      "이미지: 46. 타망 조업.jpg, 예측 클래스: 이동\n",
      "이미지: 46. 타망 표류.jpg, 예측 클래스: 표류\n",
      "이미지: 46. 통발 이동.jpg, 예측 클래스: 이동\n",
      "이미지: 47. 낚시어선 이동.jpg, 예측 클래스: 이동\n",
      "이미지: 47. 낚시어선 조업.jpg, 예측 클래스: 조업\n",
      "이미지: 47. 등광조망 조업.jpg, 예측 클래스: 조업\n",
      "이미지: 47. 범장망 이동.jpg, 예측 클래스: 이동\n",
      "이미지: 47. 범장망 표류.jpg, 예측 클래스: 표류\n",
      "이미지: 47. 유망 표류.jpg, 예측 클래스: 이동\n",
      "이미지: 47. 저인망 이동.jpg, 예측 클래스: 이동\n",
      "이미지: 47. 타망 이동.jpg, 예측 클래스: 이동\n",
      "이미지: 47. 타망 조업.jpg, 예측 클래스: 조업\n",
      "이미지: 47. 타망 표류.jpg, 예측 클래스: 표류\n",
      "이미지: 47. 통발 이동.jpg, 예측 클래스: 이동\n",
      "이미지: 48. 낚시어선 이동.jpg, 예측 클래스: 이동\n",
      "이미지: 48. 낚시어선 조업.jpg, 예측 클래스: 조업\n",
      "이미지: 48. 등광조망 조업.jpg, 예측 클래스: 조업\n",
      "이미지: 48. 범장망 이동.jpg, 예측 클래스: 이동\n",
      "이미지: 48. 범장망 표류.jpg, 예측 클래스: 표류\n",
      "이미지: 48. 저인망 이동.jpg, 예측 클래스: 이동\n",
      "이미지: 48. 타망 이동.jpg, 예측 클래스: 표류\n",
      "이미지: 48. 타망 조업.jpg, 예측 클래스: 표류\n",
      "이미지: 48. 타망 표류.jpg, 예측 클래스: 표류\n",
      "이미지: 48. 통발 이동.jpg, 예측 클래스: 이동\n",
      "이미지: 49. 낚시어선 조업.jpg, 예측 클래스: 표류\n",
      "이미지: 49. 등광조망 조업.jpg, 예측 클래스: 이동\n",
      "이미지: 49. 범장망 이동.jpg, 예측 클래스: 이동\n",
      "이미지: 49. 범장망 표류.jpg, 예측 클래스: 표류\n",
      "이미지: 49. 유망 표류.jpg, 예측 클래스: 이동\n",
      "이미지: 49. 저인망 이동.jpg, 예측 클래스: 표류\n",
      "이미지: 49. 타망 이동.jpg, 예측 클래스: 이동\n",
      "이미지: 49. 타망 조업.jpg, 예측 클래스: 조업\n",
      "이미지: 49. 타망 표류.jpg, 예측 클래스: 표류\n",
      "이미지: 49. 통발 이동.jpg, 예측 클래스: 이동\n",
      "이미지: 5. 낚시어선 이동.jpg, 예측 클래스: 이동\n",
      "이미지: 5. 낚시어선 조업.jpg, 예측 클래스: 조업\n",
      "이미지: 5. 등광조망 이동.jpg, 예측 클래스: 이동\n",
      "이미지: 5. 등광조망 조업.jpg, 예측 클래스: 조업\n",
      "이미지: 5. 등광조망 표류.jpg, 예측 클래스: 표류\n",
      "이미지: 5. 범장망 이동.jpg, 예측 클래스: 이동\n",
      "이미지: 5. 범장망 표류.jpg, 예측 클래스: 표류\n",
      "이미지: 5. 안강망 이동.jpg, 예측 클래스: 표류\n",
      "이미지: 5. 안강망 조업.jpg, 예측 클래스: 조업\n",
      "이미지: 5. 연승 이동.jpg, 예측 클래스: 이동\n",
      "이미지: 5. 연승 표류.jpg, 예측 클래스: 이동\n",
      "이미지: 5. 유망 이동.jpg, 예측 클래스: 이동\n",
      "이미지: 5. 유망 조업.jpg, 예측 클래스: 조업\n",
      "이미지: 5. 유망 표류.jpg, 예측 클래스: 표류\n",
      "이미지: 5. 저인망 이동.jpg, 예측 클래스: 이동\n",
      "이미지: 5. 저인망 조업.jpg, 예측 클래스: 표류\n",
      "이미지: 5. 채낚기  표류.jpg, 예측 클래스: 표류\n",
      "이미지: 5. 채낚기 이동.jpg, 예측 클래스: 이동\n",
      "이미지: 5. 타망 이동.jpg, 예측 클래스: 이동\n",
      "이미지: 5. 타망 조업.jpg, 예측 클래스: 표류\n",
      "이미지: 5. 타망 표류.jpg, 예측 클래스: 표류\n",
      "이미지: 5. 통발 이동.jpg, 예측 클래스: 이동\n",
      "이미지: 5. 통발 표류.jpg, 예측 클래스: 표류\n",
      "이미지: 50 낚시어선 조업.jpg, 예측 클래스: 조업\n",
      "이미지: 50. 낚시어선 이동.jpg, 예측 클래스: 표류\n",
      "이미지: 50. 범장망 이동.jpg, 예측 클래스: 이동\n",
      "이미지: 50. 범장망 표류.jpg, 예측 클래스: 표류\n",
      "이미지: 50. 유망 표류.jpg, 예측 클래스: 표류\n",
      "이미지: 50. 저인망 이동.jpg, 예측 클래스: 이동\n",
      "이미지: 50. 타망 이동.jpg, 예측 클래스: 이동\n",
      "이미지: 50. 타망 조업.jpg, 예측 클래스: 표류\n",
      "이미지: 50. 타망 표류.jpg, 예측 클래스: 표류\n",
      "이미지: 51. 낚시어선 이동.jpg, 예측 클래스: 이동\n",
      "이미지: 51. 낚시어선 조업.jpg, 예측 클래스: 이동\n",
      "이미지: 51. 범장망 이동.jpg, 예측 클래스: 이동\n",
      "이미지: 51. 범장망 표류.jpg, 예측 클래스: 표류\n",
      "이미지: 51. 유망 표류.jpg, 예측 클래스: 표류\n",
      "이미지: 51. 저인망 이동.jpg, 예측 클래스: 이동\n",
      "이미지: 51. 타망 이동.jpg, 예측 클래스: 표류\n",
      "이미지: 51. 타망 조업.jpg, 예측 클래스: 표류\n",
      "이미지: 51. 타망 표류.jpg, 예측 클래스: 이동\n",
      "이미지: 52. 낚시어선 이동.jpg, 예측 클래스: 이동\n",
      "이미지: 52. 낚시어선 조업.jpg, 예측 클래스: 조업\n",
      "이미지: 52. 범장망 이동.jpg, 예측 클래스: 표류\n",
      "이미지: 52. 범장망 표류.jpg, 예측 클래스: 표류\n",
      "이미지: 52. 유망 표류.jpg, 예측 클래스: 표류\n",
      "이미지: 52. 저인망 이동.jpg, 예측 클래스: 표류\n",
      "이미지: 52. 타망 이동.jpg, 예측 클래스: 이동\n",
      "이미지: 52. 타망 조업.jpg, 예측 클래스: 표류\n",
      "이미지: 52. 타망 표류.jpg, 예측 클래스: 표류\n",
      "이미지: 52. 통발 이동.jpg, 예측 클래스: 이동\n",
      "이미지: 53. 낚시어선 이동.jpg, 예측 클래스: 이동\n",
      "이미지: 53. 낚시어선 조업.jpg, 예측 클래스: 조업\n",
      "이미지: 53. 범장망 이동.jpg, 예측 클래스: 이동\n",
      "이미지: 53. 범장망 표류.jpg, 예측 클래스: 표류\n",
      "이미지: 53. 유망 표류.jpg, 예측 클래스: 표류\n",
      "이미지: 53. 저인망 이동.jpg, 예측 클래스: 표류\n",
      "이미지: 53. 타망 이동.jpg, 예측 클래스: 이동\n",
      "이미지: 53. 타망 조업.jpg, 예측 클래스: 표류\n",
      "이미지: 53. 타망 표류.jpg, 예측 클래스: 표류\n",
      "이미지: 54. 낚시어선 이동.jpg, 예측 클래스: 이동\n",
      "이미지: 54. 낚시어선 조업.jpg, 예측 클래스: 조업\n",
      "이미지: 54. 범장망 이동.jpg, 예측 클래스: 표류\n",
      "이미지: 54. 범장망 표류.jpg, 예측 클래스: 표류\n",
      "이미지: 54. 타망 이동.jpg, 예측 클래스: 표류\n",
      "이미지: 54. 타망 조업.jpg, 예측 클래스: 조업\n",
      "이미지: 54. 타망 표류.jpg, 예측 클래스: 표류\n",
      "이미지: 55. 낚시어선 이동.jpg, 예측 클래스: 이동\n",
      "이미지: 55. 낚시어선 조업.jpg, 예측 클래스: 조업\n",
      "이미지: 55. 범장망 이동.jpg, 예측 클래스: 이동\n",
      "이미지: 55. 범장망 표류.jpg, 예측 클래스: 표류\n",
      "이미지: 55. 유망 표류.jpg, 예측 클래스: 표류\n",
      "이미지: 55. 타망 이동.jpg, 예측 클래스: 이동\n",
      "이미지: 55. 타망 조업.jpg, 예측 클래스: 표류\n",
      "이미지: 55. 타망 표류.jpg, 예측 클래스: 표류\n",
      "이미지: 55. 통발 이동.jpg, 예측 클래스: 이동\n",
      "이미지: 56. 낚시어선 이동.jpg, 예측 클래스: 이동\n",
      "이미지: 56. 낚시어선 조업.jpg, 예측 클래스: 조업\n",
      "이미지: 56. 범장망 이동.jpg, 예측 클래스: 이동\n",
      "이미지: 56. 범장망 표류.jpg, 예측 클래스: 표류\n",
      "이미지: 56. 유망 표류.png, 예측 클래스: 표류\n",
      "이미지: 56. 타망 이동.jpg, 예측 클래스: 이동\n",
      "이미지: 56. 타망 조업.jpg, 예측 클래스: 표류\n",
      "이미지: 56. 타망 표류.jpg, 예측 클래스: 표류\n",
      "이미지: 56. 통발 이동.jpg, 예측 클래스: 이동\n",
      "이미지: 57. 낚시어선 이동.jpg, 예측 클래스: 이동\n",
      "이미지: 57. 낚시어선 조업.jpg, 예측 클래스: 조업\n",
      "이미지: 57. 범장망 이동.jpg, 예측 클래스: 이동\n",
      "이미지: 57. 범장망 표류.jpg, 예측 클래스: 조업\n",
      "이미지: 57. 유망 표류.jpg, 예측 클래스: 표류\n",
      "이미지: 57. 타망 이동.jpg, 예측 클래스: 이동\n",
      "이미지: 57. 타망 조업.jpg, 예측 클래스: 조업\n",
      "이미지: 57. 타망 표류.jpg, 예측 클래스: 표류\n",
      "이미지: 57. 통발 이동.jpg, 예측 클래스: 표류\n",
      "이미지: 58. 낚시어선 조업.jpg, 예측 클래스: 조업\n",
      "이미지: 58. 범장망 이동.jpg, 예측 클래스: 표류\n",
      "이미지: 58. 범장망 표류.jpg, 예측 클래스: 표류\n",
      "이미지: 58. 유망 표류.png, 예측 클래스: 표류\n",
      "이미지: 58. 타망 이동.jpg, 예측 클래스: 이동\n",
      "이미지: 58. 타망 조업.jpg, 예측 클래스: 표류\n",
      "이미지: 58. 타망 표류.jpg, 예측 클래스: 표류\n",
      "이미지: 58. 통발 이동.jpg, 예측 클래스: 이동\n",
      "이미지: 59. 낚시어선 조업.jpg, 예측 클래스: 표류\n",
      "이미지: 59. 범장망 이동.jpg, 예측 클래스: 표류\n",
      "이미지: 59. 범장망 표류.jpg, 예측 클래스: 표류\n",
      "이미지: 59. 유망 표류.jpg, 예측 클래스: 표류\n",
      "이미지: 59. 타망 이동.jpg, 예측 클래스: 이동\n",
      "이미지: 59. 타망 조업.jpg, 예측 클래스: 조업\n",
      "이미지: 59. 타망 표류.jpg, 예측 클래스: 조업\n",
      "이미지: 59. 통발 이동.jpg, 예측 클래스: 이동\n",
      "이미지: 6. 낚시어선 이동.jpg, 예측 클래스: 이동\n",
      "이미지: 6. 낚시어선 조업.jpg, 예측 클래스: 이동\n",
      "이미지: 6. 낚시어선 표류.jpg, 예측 클래스: 표류\n",
      "이미지: 6. 등광조망 이동.jpg, 예측 클래스: 이동\n",
      "이미지: 6. 등광조망 조업.jpg, 예측 클래스: 조업\n",
      "이미지: 6. 등광조망 표류.jpg, 예측 클래스: 조업\n",
      "이미지: 6. 범장망 이동.jpg, 예측 클래스: 이동\n",
      "이미지: 6. 범장망 조업.jpg, 예측 클래스: 조업\n",
      "이미지: 6. 범장망 표류.jpg, 예측 클래스: 표류\n",
      "이미지: 6. 안강망 이동.jpg, 예측 클래스: 이동\n",
      "이미지: 6. 안강망 조업.jpg, 예측 클래스: 표류\n",
      "이미지: 6. 안강망 표류.jpg, 예측 클래스: 표류\n",
      "이미지: 6. 연승 이동.jpg, 예측 클래스: 이동\n",
      "이미지: 6. 연승 표류.jpg, 예측 클래스: 표류\n",
      "이미지: 6. 유망 이동.jpg, 예측 클래스: 이동\n",
      "이미지: 6. 유망 조업.jpg, 예측 클래스: 표류\n",
      "이미지: 6. 유망 표류.jpg, 예측 클래스: 표류\n",
      "이미지: 6. 저인망 이동.jpg, 예측 클래스: 표류\n",
      "이미지: 6. 저인망 조업.jpg, 예측 클래스: 이동\n",
      "이미지: 6. 저인망 표류.jpg, 예측 클래스: 표류\n",
      "이미지: 6. 채낚기  표류.jpg, 예측 클래스: 표류\n",
      "이미지: 6. 채낚기 이동.jpg, 예측 클래스: 이동\n",
      "이미지: 6. 타망 이동.jpg, 예측 클래스: 표류\n",
      "이미지: 6. 타망 조업.jpg, 예측 클래스: 이동\n",
      "이미지: 6. 타망 표류.jpg, 예측 클래스: 조업\n",
      "이미지: 6. 통발 이동.jpg, 예측 클래스: 이동\n",
      "이미지: 6. 통발 표류.jpg, 예측 클래스: 표류\n",
      "이미지: 60. 낚시어선 조업.jpg, 예측 클래스: 조업\n",
      "이미지: 60. 범장망 이동.jpg, 예측 클래스: 표류\n",
      "이미지: 60. 범장망 표류.jpg, 예측 클래스: 표류\n",
      "이미지: 60. 유망 표류.jpg, 예측 클래스: 표류\n",
      "이미지: 60. 타망 이동.jpg, 예측 클래스: 이동\n",
      "이미지: 60. 타망 표류.jpg, 예측 클래스: 표류\n",
      "이미지: 60. 통발 이동.jpg, 예측 클래스: 이동\n",
      "이미지: 61. 낚시어선 조업.jpg, 예측 클래스: 조업\n",
      "이미지: 61. 범장망 이동.jpg, 예측 클래스: 이동\n",
      "이미지: 61. 범장망 표류.jpg, 예측 클래스: 표류\n",
      "이미지: 61. 유망 표류.jpg, 예측 클래스: 표류\n",
      "이미지: 61. 타망 이동.jpg, 예측 클래스: 이동\n",
      "이미지: 61. 타망 조업.jpg, 예측 클래스: 조업\n",
      "이미지: 61. 타망 표류.png, 예측 클래스: 표류\n",
      "이미지: 61. 통발 이동.jpg, 예측 클래스: 이동\n",
      "이미지: 62. 낚시어선 조업.jpg, 예측 클래스: 조업\n",
      "이미지: 62. 범장망 이동.jpg, 예측 클래스: 표류\n",
      "이미지: 62. 범장망 표류.jpg, 예측 클래스: 표류\n",
      "이미지: 62. 유망 표류.jpg, 예측 클래스: 표류\n",
      "이미지: 62. 타망 이동.jpg, 예측 클래스: 이동\n",
      "이미지: 62. 타망 조업.jpg, 예측 클래스: 이동\n",
      "이미지: 62. 타망 표류.jpg, 예측 클래스: 표류\n",
      "이미지: 62. 통발 이동.jpg, 예측 클래스: 이동\n",
      "이미지: 63. 낚시어선 조업.jpg, 예측 클래스: 조업\n",
      "이미지: 63. 범장망 이동.jpg, 예측 클래스: 표류\n",
      "이미지: 63. 범장망 표류.jpg, 예측 클래스: 표류\n",
      "이미지: 63. 유망 표류.jpg, 예측 클래스: 표류\n",
      "이미지: 63. 타망 이동.jpg, 예측 클래스: 이동\n",
      "이미지: 63. 타망 조업.jpg, 예측 클래스: 표류\n",
      "이미지: 63. 타망 표류.png, 예측 클래스: 표류\n",
      "이미지: 63. 통발 이동.jpg, 예측 클래스: 이동\n",
      "이미지: 64. 낚시어선 조업.jpg, 예측 클래스: 조업\n",
      "이미지: 64. 범장망 이동.jpg, 예측 클래스: 표류\n",
      "이미지: 64. 범장망 표류.jpg, 예측 클래스: 표류\n",
      "이미지: 64. 유망 표류.jpg, 예측 클래스: 표류\n",
      "이미지: 64. 타망 이동.jpg, 예측 클래스: 이동\n",
      "이미지: 64. 타망 조업.jpg, 예측 클래스: 조업\n",
      "이미지: 64. 타망 표류.jpg, 예측 클래스: 표류\n",
      "이미지: 64. 통발 이동.jpg, 예측 클래스: 이동\n",
      "이미지: 65. 낚시어선 조업.jpg, 예측 클래스: 조업\n",
      "이미지: 65. 범장망 이동.jpg, 예측 클래스: 표류\n",
      "이미지: 65. 범장망 표류.jpg, 예측 클래스: 이동\n",
      "이미지: 65. 유망 표류.jpg, 예측 클래스: 표류\n",
      "이미지: 65. 타망 이동.jpg, 예측 클래스: 이동\n",
      "이미지: 65. 타망 조업.jpg, 예측 클래스: 표류\n",
      "이미지: 65. 타망 표류.png, 예측 클래스: 표류\n",
      "이미지: 65. 통발 이동.jpg, 예측 클래스: 이동\n",
      "이미지: 66. 낚시어선 조업.jpg, 예측 클래스: 조업\n",
      "이미지: 66. 범장망 이동.jpg, 예측 클래스: 이동\n",
      "이미지: 66. 범장망 표류.jpg, 예측 클래스: 표류\n",
      "이미지: 66. 유망 표류.jpg, 예측 클래스: 표류\n",
      "이미지: 66. 타망 이동.jpg, 예측 클래스: 이동\n",
      "이미지: 66. 타망 조업.jpg, 예측 클래스: 표류\n",
      "이미지: 66. 타망 표류.jpg, 예측 클래스: 이동\n",
      "이미지: 67. 낚시어선 조업.jpg, 예측 클래스: 조업\n",
      "이미지: 67. 범장망 이동.jpg, 예측 클래스: 이동\n",
      "이미지: 67. 범장망 표류.jpg, 예측 클래스: 표류\n",
      "이미지: 67. 유망 표류.jpg, 예측 클래스: 표류\n",
      "이미지: 67. 타망 이동.jpg, 예측 클래스: 이동\n",
      "이미지: 67. 타망 조업.jpg, 예측 클래스: 이동\n",
      "이미지: 68. 낚시어선 조업.jpg, 예측 클래스: 조업\n",
      "이미지: 68. 범장망 이동.jpg, 예측 클래스: 이동\n",
      "이미지: 68. 범장망 표류.jpg, 예측 클래스: 표류\n",
      "이미지: 68. 유망 표류.jpg, 예측 클래스: 표류\n",
      "이미지: 68. 타망 이동.jpg, 예측 클래스: 이동\n",
      "이미지: 68. 타망 조업.jpg, 예측 클래스: 표류\n",
      "이미지: 68. 타망 표류.jpg, 예측 클래스: 표류\n",
      "이미지: 69. 낚시어선 조업.jpg, 예측 클래스: 조업\n",
      "이미지: 69. 범장망 이동.jpg, 예측 클래스: 이동\n",
      "이미지: 69. 범장망 표류.jpg, 예측 클래스: 표류\n",
      "이미지: 69. 유망 표류.jpg, 예측 클래스: 표류\n",
      "이미지: 69. 타망 이동.jpg, 예측 클래스: 표류\n",
      "이미지: 69. 타망 조업.jpg, 예측 클래스: 조업\n",
      "이미지: 69. 타망 표류.jpg, 예측 클래스: 이동\n",
      "이미지: 7. 낚시어선 이동.jpg, 예측 클래스: 이동\n",
      "이미지: 7. 낚시어선 조업.jpg, 예측 클래스: 조업\n",
      "이미지: 7. 낚시어선 표류.jpg, 예측 클래스: 표류\n",
      "이미지: 7. 범장망 이동.jpg, 예측 클래스: 이동\n",
      "이미지: 7. 범장망 조업.jpg, 예측 클래스: 조업\n",
      "이미지: 7. 범장망 표류.jpg, 예측 클래스: 표류\n",
      "이미지: 7. 안강망 조업.jpg, 예측 클래스: 표류\n",
      "이미지: 7. 안강망 표류.jpg, 예측 클래스: 표류\n",
      "이미지: 7. 연승 이동.jpg, 예측 클래스: 이동\n",
      "이미지: 7. 연승 표류.jpg, 예측 클래스: 이동\n",
      "이미지: 7. 유망 이동.jpg, 예측 클래스: 표류\n",
      "이미지: 7. 유망 조업.jpg, 예측 클래스: 조업\n",
      "이미지: 7. 유망 표류.jpg, 예측 클래스: 표류\n",
      "이미지: 7. 저인망 이동.jpg, 예측 클래스: 이동\n",
      "이미지: 7. 저인망 조업.jpg, 예측 클래스: 조업\n",
      "이미지: 7. 채낚기  표류.jpg, 예측 클래스: 이동\n",
      "이미지: 7. 채낚기 이동.jpg, 예측 클래스: 표류\n",
      "이미지: 7. 타망 이동.jpg, 예측 클래스: 이동\n",
      "이미지: 7. 타망 조업.jpg, 예측 클래스: 이동\n",
      "이미지: 7. 타망 표류.jpg, 예측 클래스: 표류\n",
      "이미지: 7. 통발 이동.jpg, 예측 클래스: 이동\n",
      "이미지: 7. 통발 표류.jpg, 예측 클래스: 표류\n",
      "이미지: 70. 범장망 이동.jpg, 예측 클래스: 이동\n",
      "이미지: 70. 범장망 표류.jpg, 예측 클래스: 이동\n",
      "이미지: 70. 유망 표류.jpg, 예측 클래스: 표류\n",
      "이미지: 70. 타망 이동.jpg, 예측 클래스: 이동\n",
      "이미지: 70. 타망 조업.png, 예측 클래스: 표류\n",
      "이미지: 70. 타망 표류.jpg, 예측 클래스: 표류\n",
      "이미지: 71. 범장망 이동.jpg, 예측 클래스: 이동\n",
      "이미지: 71. 범장망 표류.jpg, 예측 클래스: 표류\n",
      "이미지: 71. 유망 표류.jpg, 예측 클래스: 표류\n",
      "이미지: 71. 타망 이동.jpg, 예측 클래스: 이동\n",
      "이미지: 71. 타망 조업.jpg, 예측 클래스: 이동\n",
      "이미지: 71. 타망 표류.jpg, 예측 클래스: 표류\n",
      "이미지: 72. 범장망 이동.jpg, 예측 클래스: 이동\n",
      "이미지: 72. 범장망 표류.jpg, 예측 클래스: 표류\n",
      "이미지: 72. 유망 표류.jpg, 예측 클래스: 이동\n",
      "이미지: 72. 타망 이동.jpg, 예측 클래스: 조업\n",
      "이미지: 72. 타망 조업.jpg, 예측 클래스: 이동\n",
      "이미지: 73 타망 이동.jpg, 예측 클래스: 표류\n",
      "이미지: 73. 범장망 이동.jpg, 예측 클래스: 이동\n",
      "이미지: 73. 범장망 표류.jpg, 예측 클래스: 표류\n",
      "이미지: 73. 유망 표류.jpg, 예측 클래스: 표류\n",
      "이미지: 73. 타망 조업.jpg, 예측 클래스: 조업\n",
      "이미지: 73. 타망 표류.jpg, 예측 클래스: 표류\n",
      "이미지: 74 타망 이동.jpg, 예측 클래스: 표류\n",
      "이미지: 74. 범장망 이동.jpg, 예측 클래스: 이동\n",
      "이미지: 74. 범장망 표류.jpg, 예측 클래스: 표류\n",
      "이미지: 74. 유망 표류.jpg, 예측 클래스: 표류\n",
      "이미지: 74. 타망 조업.jpg, 예측 클래스: 표류\n",
      "이미지: 74. 타망 표류.jpg, 예측 클래스: 이동\n",
      "이미지: 75 타망 이동.jpg, 예측 클래스: 표류\n",
      "이미지: 75. 범장망 이동.jpg, 예측 클래스: 표류\n",
      "이미지: 75. 범장망 표류.jpg, 예측 클래스: 표류\n",
      "이미지: 75. 유망 표류.jpg, 예측 클래스: 표류\n",
      "이미지: 75. 타망 조업.jpg, 예측 클래스: 표류\n",
      "이미지: 75. 타망 표류.jpg, 예측 클래스: 표류\n",
      "이미지: 76 타망 이동.jpg, 예측 클래스: 표류\n",
      "이미지: 76. 범장망 이동.jpg, 예측 클래스: 표류\n",
      "이미지: 76. 범장망 표류.jpg, 예측 클래스: 표류\n",
      "이미지: 76. 유망 표류.jpg, 예측 클래스: 표류\n",
      "이미지: 76. 타망 조업.jpg, 예측 클래스: 표류\n",
      "이미지: 76. 타망 표류.jpg, 예측 클래스: 표류\n",
      "이미지: 77 타망 이동.jpg, 예측 클래스: 이동\n",
      "이미지: 77. 범장망 이동.jpg, 예측 클래스: 이동\n",
      "이미지: 77. 범장망 표류.jpg, 예측 클래스: 표류\n",
      "이미지: 77. 유망 표류.jpg, 예측 클래스: 표류\n",
      "이미지: 77. 타망 조업.jpg, 예측 클래스: 조업\n",
      "이미지: 77. 타망 표류.jpg, 예측 클래스: 표류\n",
      "이미지: 78 타망 이동.jpg, 예측 클래스: 표류\n",
      "이미지: 78. 범장망 이동.jpg, 예측 클래스: 표류\n",
      "이미지: 78. 범장망 표류.jpg, 예측 클래스: 표류\n",
      "이미지: 78. 유망 표류.jpg, 예측 클래스: 표류\n",
      "이미지: 78. 타망 조업.jpg, 예측 클래스: 이동\n",
      "이미지: 78. 타망 표류.jpg, 예측 클래스: 표류\n",
      "이미지: 79 타망 이동.png, 예측 클래스: 표류\n",
      "이미지: 79. 범장망 이동.jpg, 예측 클래스: 표류\n",
      "이미지: 79. 범장망 표류.jpg, 예측 클래스: 표류\n",
      "이미지: 79. 유망 표류.jpg, 예측 클래스: 표류\n",
      "이미지: 79. 타망 조업.jpg, 예측 클래스: 이동\n",
      "이미지: 79. 타망 표류.jpg, 예측 클래스: 표류\n",
      "이미지: 8. 낚시어선 이동.jpg, 예측 클래스: 이동\n",
      "이미지: 8. 낚시어선 조업.jpg, 예측 클래스: 조업\n",
      "이미지: 8. 낚시어선 표류.jpg, 예측 클래스: 표류\n",
      "이미지: 8. 등광조망 이동.jpg, 예측 클래스: 이동\n",
      "이미지: 8. 등광조망 조업.jpg, 예측 클래스: 조업\n",
      "이미지: 8. 등광조망 표류.jpg, 예측 클래스: 표류\n",
      "이미지: 8. 범장망 이동.jpg, 예측 클래스: 표류\n",
      "이미지: 8. 범장망 조업.jpg, 예측 클래스: 표류\n",
      "이미지: 8. 범장망 표류.jpg, 예측 클래스: 표류\n",
      "이미지: 8. 안강망 이동.jpg, 예측 클래스: 이동\n",
      "이미지: 8. 안강망 조업.jpg, 예측 클래스: 표류\n",
      "이미지: 8. 안강망 표류.jpg, 예측 클래스: 표류\n",
      "이미지: 8. 연승 이동.jpg, 예측 클래스: 이동\n",
      "이미지: 8. 연승 표류.jpg, 예측 클래스: 표류\n",
      "이미지: 8. 유망 이동.jpg, 예측 클래스: 표류\n",
      "이미지: 8. 유망 조업.jpg, 예측 클래스: 조업\n",
      "이미지: 8. 유망 표류.jpg, 예측 클래스: 표류\n",
      "이미지: 8. 저인망 이동.jpg, 예측 클래스: 이동\n",
      "이미지: 8. 저인망 조업.jpg, 예측 클래스: 이동\n",
      "이미지: 8. 채낚기  표류.jpg, 예측 클래스: 표류\n",
      "이미지: 8. 채낚기 이동.jpg, 예측 클래스: 이동\n",
      "이미지: 8. 타망 조업.jpg, 예측 클래스: 조업\n",
      "이미지: 8. 타망 표류.jpg, 예측 클래스: 표류\n",
      "이미지: 8. 통발 이동.jpg, 예측 클래스: 이동\n",
      "이미지: 8. 통발 표류.jpg, 예측 클래스: 표류\n",
      "이미지: 80 타망 이동.jpg, 예측 클래스: 표류\n",
      "이미지: 80. 범장망 이동.jpg, 예측 클래스: 이동\n",
      "이미지: 80. 범장망 표류.jpg, 예측 클래스: 표류\n",
      "이미지: 80. 유망 표류.jpg, 예측 클래스: 표류\n",
      "이미지: 80. 타망 조업.jpg, 예측 클래스: 조업\n",
      "이미지: 80. 타망 표류.jpg, 예측 클래스: 표류\n",
      "이미지: 81 타망 이동.png, 예측 클래스: 표류\n",
      "이미지: 81. 범장망 이동.jpg, 예측 클래스: 이동\n",
      "이미지: 81. 범장망 표류.jpg, 예측 클래스: 표류\n",
      "이미지: 81. 유망 표류.jpg, 예측 클래스: 표류\n",
      "이미지: 81. 타망 조업.jpg, 예측 클래스: 표류\n",
      "이미지: 81. 타망 표류.jpg, 예측 클래스: 표류\n",
      "이미지: 82 타망 이동.jpg, 예측 클래스: 이동\n",
      "이미지: 82. 범장망 이동.jpg, 예측 클래스: 표류\n",
      "이미지: 82. 범장망 표류.jpg, 예측 클래스: 표류\n",
      "이미지: 82. 유망 표류.jpg, 예측 클래스: 표류\n",
      "이미지: 82. 타망 조업.jpg, 예측 클래스: 조업\n",
      "이미지: 82. 타망 표류.jpg, 예측 클래스: 표류\n",
      "이미지: 83 타망 이동.png, 예측 클래스: 표류\n",
      "이미지: 83. 범장망 이동.jpg, 예측 클래스: 이동\n",
      "이미지: 83. 범장망 표류.jpg, 예측 클래스: 표류\n",
      "이미지: 83. 유망 표류.jpg, 예측 클래스: 표류\n",
      "이미지: 83. 타망 조업.jpg, 예측 클래스: 조업\n",
      "이미지: 83. 타망 표류.jpg, 예측 클래스: 표류\n",
      "이미지: 84 타망 이동.jpg, 예측 클래스: 표류\n",
      "이미지: 84. 범장망 이동.jpg, 예측 클래스: 이동\n",
      "이미지: 84. 범장망 표류.jpg, 예측 클래스: 이동\n",
      "이미지: 84. 유망 표류.jpg, 예측 클래스: 표류\n",
      "이미지: 84. 타망 조업.jpg, 예측 클래스: 이동\n",
      "이미지: 84. 타망 표류.jpg, 예측 클래스: 표류\n",
      "이미지: 85 타망 이동.png, 예측 클래스: 이동\n",
      "이미지: 85. 범장망 이동.jpg, 예측 클래스: 이동\n",
      "이미지: 85. 범장망 표류.jpg, 예측 클래스: 표류\n",
      "이미지: 85. 유망 표류.jpg, 예측 클래스: 표류\n",
      "이미지: 85. 타망 조업.jpg, 예측 클래스: 조업\n",
      "이미지: 85. 타망 표류.jpg, 예측 클래스: 표류\n",
      "이미지: 86 타망 이동.jpg, 예측 클래스: 표류\n",
      "이미지: 86. 범장망 이동.jpg, 예측 클래스: 이동\n",
      "이미지: 86. 범장망 표류.jpg, 예측 클래스: 표류\n",
      "이미지: 86. 타망 조업.jpg, 예측 클래스: 표류\n",
      "이미지: 86. 타망 표류.jpg, 예측 클래스: 표류\n",
      "이미지: 87 타망 이동.png, 예측 클래스: 이동\n",
      "이미지: 87. 범장망 이동.jpg, 예측 클래스: 이동\n",
      "이미지: 87. 범장망 표류.jpg, 예측 클래스: 표류\n",
      "이미지: 87. 유망 표류.jpg, 예측 클래스: 표류\n",
      "이미지: 87. 타망 조업.jpg, 예측 클래스: 이동\n",
      "이미지: 87. 타망 표류.jpg, 예측 클래스: 표류\n",
      "이미지: 88 타망 이동.jpg, 예측 클래스: 표류\n",
      "이미지: 88. 범장망 이동.jpg, 예측 클래스: 표류\n",
      "이미지: 88. 범장망 표류.jpg, 예측 클래스: 표류\n",
      "이미지: 88. 유망 표류.jpg, 예측 클래스: 표류\n",
      "이미지: 88. 타망 조업.jpg, 예측 클래스: 표류\n",
      "이미지: 88. 타망 표류.jpg, 예측 클래스: 표류\n",
      "이미지: 89 타망 이동.jpg, 예측 클래스: 표류\n",
      "이미지: 89. 범장망 이동.jpg, 예측 클래스: 이동\n",
      "이미지: 89. 범장망 표류.jpg, 예측 클래스: 표류\n",
      "이미지: 89. 유망 표류.jpg, 예측 클래스: 표류\n",
      "이미지: 89. 타망 조업.jpg, 예측 클래스: 조업\n",
      "이미지: 89. 타망 표류.png, 예측 클래스: 표류\n",
      "이미지: 9. 낚시어선 이동.jpg, 예측 클래스: 이동\n",
      "이미지: 9. 낚시어선 표류.jpg, 예측 클래스: 표류\n",
      "이미지: 9. 등광조망 이동.jpg, 예측 클래스: 이동\n",
      "이미지: 9. 등광조망 조업.jpg, 예측 클래스: 조업\n",
      "이미지: 9. 등광조망 표류.jpg, 예측 클래스: 조업\n",
      "이미지: 9. 범장망 이동.jpg, 예측 클래스: 표류\n",
      "이미지: 9. 범장망 조업.jpg, 예측 클래스: 표류\n",
      "이미지: 9. 범장망 표류.jpg, 예측 클래스: 표류\n",
      "이미지: 9. 안강망 이동.jpg, 예측 클래스: 표류\n",
      "이미지: 9. 안강망 조업.jpg, 예측 클래스: 이동\n",
      "이미지: 9. 안강망 표류.jpg, 예측 클래스: 표류\n",
      "이미지: 9. 연승 이동.jpg, 예측 클래스: 이동\n",
      "이미지: 9. 연승 표류.jpg, 예측 클래스: 표류\n",
      "이미지: 9. 유망 이동.jpg, 예측 클래스: 이동\n",
      "이미지: 9. 유망 조업.jpg, 예측 클래스: 표류\n",
      "이미지: 9. 유망 표류.jpg, 예측 클래스: 표류\n",
      "이미지: 9. 저인망 이동.jpg, 예측 클래스: 표류\n",
      "이미지: 9. 저인망 조업.jpg, 예측 클래스: 표류\n",
      "이미지: 9. 채낚기  표류.jpg, 예측 클래스: 표류\n",
      "이미지: 9. 채낚기 이동.jpg, 예측 클래스: 이동\n",
      "이미지: 9. 타망 이동.jpg, 예측 클래스: 이동\n",
      "이미지: 9. 타망 조업.jpg, 예측 클래스: 표류\n",
      "이미지: 9. 타망 표류.jpg, 예측 클래스: 표류\n",
      "이미지: 9. 통발 이동.jpg, 예측 클래스: 이동\n",
      "이미지: 90 타망 이동.jpg, 예측 클래스: 이동\n",
      "이미지: 90. 범장망 이동.jpg, 예측 클래스: 표류\n",
      "이미지: 90. 범장망 표류.jpg, 예측 클래스: 표류\n",
      "이미지: 90. 유망 표류.jpg, 예측 클래스: 표류\n",
      "이미지: 90. 타망 조업.png, 예측 클래스: 이동\n",
      "이미지: 90. 타망 표류.jpg, 예측 클래스: 이동\n",
      "이미지: 91 타망 이동.jpg, 예측 클래스: 이동\n",
      "이미지: 91. 범장망 이동.jpg, 예측 클래스: 이동\n",
      "이미지: 91. 범장망 표류.jpg, 예측 클래스: 표류\n",
      "이미지: 91. 유망 표류.jpg, 예측 클래스: 이동\n",
      "이미지: 91. 타망 조업.jpg, 예측 클래스: 이동\n",
      "이미지: 91. 타망 표류.jpg, 예측 클래스: 표류\n",
      "이미지: 92 타망 이동.jpg, 예측 클래스: 이동\n",
      "이미지: 92. 범장망 이동.jpg, 예측 클래스: 이동\n",
      "이미지: 92. 범장망 표류.jpg, 예측 클래스: 표류\n",
      "이미지: 92. 유망 표류.jpg, 예측 클래스: 표류\n",
      "이미지: 92. 타망 조업.jpg, 예측 클래스: 조업\n",
      "이미지: 92. 타망 표류.jpg, 예측 클래스: 표류\n",
      "이미지: 93 타망 이동.jpg, 예측 클래스: 이동\n",
      "이미지: 93. 범장망 이동.jpg, 예측 클래스: 표류\n",
      "이미지: 93. 범장망 표류.jpg, 예측 클래스: 표류\n",
      "이미지: 93. 유망 표류.jpg, 예측 클래스: 표류\n",
      "이미지: 93. 타망 조업.jpg, 예측 클래스: 표류\n",
      "이미지: 93. 타망 표류.jpg, 예측 클래스: 표류\n",
      "이미지: 94 타망 이동.jpg, 예측 클래스: 이동\n",
      "이미지: 94. 범장망 이동.jpg, 예측 클래스: 이동\n",
      "이미지: 94. 범장망 표류.jpg, 예측 클래스: 표류\n",
      "이미지: 94. 유망 표류.jpg, 예측 클래스: 표류\n",
      "이미지: 94. 타망 조업.jpg, 예측 클래스: 조업\n",
      "이미지: 94. 타망 표류.jpg, 예측 클래스: 표류\n",
      "이미지: 95 타망 이동.jpg, 예측 클래스: 표류\n",
      "이미지: 95. 범장망 이동.jpg, 예측 클래스: 이동\n",
      "이미지: 95. 범장망 표류.jpg, 예측 클래스: 표류\n",
      "이미지: 95. 유망 표류.png, 예측 클래스: 표류\n",
      "이미지: 95. 타망 조업.jpg, 예측 클래스: 조업\n",
      "이미지: 95. 타망 표류.jpg, 예측 클래스: 표류\n",
      "이미지: 96 타망 이동.jpg, 예측 클래스: 표류\n",
      "이미지: 96. 범장망 이동.jpg, 예측 클래스: 이동\n",
      "이미지: 96. 범장망 표류.jpg, 예측 클래스: 표류\n",
      "이미지: 96. 유망 표류.jpg, 예측 클래스: 표류\n",
      "이미지: 96. 타망 조업.jpg, 예측 클래스: 조업\n",
      "이미지: 96. 타망 표류.jpg, 예측 클래스: 표류\n",
      "이미지: 97 타망 이동.jpg, 예측 클래스: 이동\n",
      "이미지: 97. 범장망 이동.jpg, 예측 클래스: 이동\n",
      "이미지: 97. 범장망 표류.jpg, 예측 클래스: 표류\n",
      "이미지: 97. 유망 표류.jpg, 예측 클래스: 표류\n",
      "이미지: 97. 타망 조업.jpg, 예측 클래스: 표류\n",
      "이미지: 97. 타망 표류.jpg, 예측 클래스: 표류\n",
      "이미지: 98 타망 이동.jpg, 예측 클래스: 이동\n",
      "이미지: 98. 범장망 표류.jpg, 예측 클래스: 표류\n",
      "이미지: 98. 유망 표류.jpg, 예측 클래스: 표류\n",
      "이미지: 98. 타망 조업.jpg, 예측 클래스: 조업\n",
      "이미지: 98. 타망 표류.jpg, 예측 클래스: 표류\n",
      "이미지: 99 타망 이동.jpg, 예측 클래스: 표류\n",
      "이미지: 99. 범장망 이동.jpg, 예측 클래스: 이동\n",
      "이미지: 99. 범장망 표류.jpg, 예측 클래스: 표류\n",
      "이미지: 99. 유망 표류.jpg, 예측 클래스: 표류\n",
      "이미지: 99. 타망 조업.jpg, 예측 클래스: 표류\n",
      "이미지: 99. 타망 표류.jpg, 예측 클래스: 표류\n",
      "총 1167개의 이미지가 올바르게 예측되었습니다.\n"
     ]
    }
   ],
   "source": [
    "import os\n",
    "import cv2\n",
    "import numpy as np\n",
    "\n",
    "# 모델 불러오기 (이미 학습된 모델이라고 가정)\n",
    "# model = ...\n",
    "\n",
    "# 예측할 테스트 이미지가 저장된 폴더 경로\n",
    "test_images_path = '/home/elicer/FIshing_vessel-1/imgdata'\n",
    "\n",
    "# 이미지 로드 및 예측\n",
    "test_images = []\n",
    "image_names = []\n",
    "\n",
    "# 파일 이름을 정렬하여 순서대로 처리\n",
    "for filename in sorted(os.listdir(test_images_path)):\n",
    "    if filename.endswith(('.jpg', '.jpeg', '.png')):\n",
    "        img_path = os.path.join(test_images_path, filename)\n",
    "        image = cv2.imread(img_path)\n",
    "        if image is None:\n",
    "            print(f\"이미지 읽기 실패: {img_path}\")\n",
    "            continue\n",
    "        \n",
    "        # 이미지 크기 조정 (VGG 입력 크기에 맞게)\n",
    "        image = cv2.resize(image, (224, 224))\n",
    "        test_images.append(image)\n",
    "        image_names.append(filename)\n",
    "\n",
    "# 이미지 배열을 numpy 배열로 변환 및 정규화\n",
    "X_test = np.array(test_images) / 255.0  # 정규화\n",
    "\n",
    "# 모델을 사용하여 예측 수행\n",
    "y_pred_probs = model.predict(X_test)\n",
    "y_pred = np.argmax(y_pred_probs, axis=1)\n",
    "\n",
    "# 클래스 이름 정의 (예: 이동, 조업, 표류)\n",
    "class_names = ['이동', '조업', '표류']\n",
    "\n",
    "# 예측 결과 출력 및 정답 비교\n",
    "correct_count = 0\n",
    "\n",
    "for i, filename in enumerate(image_names):\n",
    "    predicted_class = class_names[y_pred[i]]\n",
    "    print(f\"이미지: {filename}, 예측 클래스: {predicted_class}\")\n",
    "    \n",
    "    # 파일명에서 마지막 단어 추출 (예: '이동', '조업', '표류')\n",
    "    actual_class = filename.split()[-1].split('.')[0]  # 확장자 제거 후 마지막 단어 추출\n",
    "    if actual_class == predicted_class:\n",
    "        correct_count += 1\n",
    "\n",
    "# 총 몇 개가 동일한지 출력\n",
    "print(f\"총 {correct_count}개의 이미지가 올바르게 예측되었습니다.\")\n"
   ]
  },
  {
   "cell_type": "markdown",
   "metadata": {},
   "source": [
    "6. 모델 튜닝 및 재학습\n",
    "- 파인튜닝(Fine-tuning): 일부 레이어의 가중치를 학습 가능하게 설정하고, 학습을 재실행합니다. 이는 모델의 성능을 더욱 향상시킬 수 있습니다.\n",
    "데이터 증강 조정: 데이터 증강 전략을 조정하여 모델의 일반화 능력을 높입니다"
   ]
  },
  {
   "cell_type": "code",
   "execution_count": null,
   "metadata": {},
   "outputs": [],
   "source": []
  }
 ],
 "metadata": {
  "kernelspec": {
   "display_name": "Python 3",
   "language": "python",
   "name": "python3"
  },
  "language_info": {
   "codemirror_mode": {
    "name": "ipython",
    "version": 3
   },
   "file_extension": ".py",
   "mimetype": "text/x-python",
   "name": "python",
   "nbconvert_exporter": "python",
   "pygments_lexer": "ipython3",
   "version": "3.10.13"
  }
 },
 "nbformat": 4,
 "nbformat_minor": 2
}
