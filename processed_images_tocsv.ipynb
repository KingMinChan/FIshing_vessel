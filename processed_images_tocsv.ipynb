{
 "cells": [
  {
   "cell_type": "code",
   "execution_count": 16,
   "metadata": {},
   "outputs": [
    {
     "ename": "SyntaxError",
     "evalue": "incomplete input (1428145216.py, line 9)",
     "output_type": "error",
     "traceback": [
      "\u001b[0;36m  Cell \u001b[0;32mIn[16], line 9\u001b[0;36m\u001b[0m\n\u001b[0;31m    for file_name in os.listdir(folder_path):\u001b[0m\n\u001b[0m                                             ^\u001b[0m\n\u001b[0;31mSyntaxError\u001b[0m\u001b[0;31m:\u001b[0m incomplete input\n"
     ]
    }
   ],
   "source": [
    "import os\n",
    "import pandas as pd\n",
    "\n",
    "# 이미지가 저장된 폴더 경로\n",
    "folder_path = '/home/elicer/FIshing_vessel/processed_images'\n",
    "\n",
    "# 파일 이름에서 정보를 추출하여 데이터프레임 생성\n",
    "data = []\n",
    "for file_name in os.listdir(folder_path):\n",
    "    if file_name.endswith('.jpg','.png'):\n",
    "        name_without_extension = file_name."
   ]
  },
  {
   "cell_type": "code",
   "execution_count": 23,
   "metadata": {},
   "outputs": [
    {
     "name": "stdout",
     "output_type": "stream",
     "text": [
      "            0     1   2\n",
      "0      001_1.  낚시어선  조업\n",
      "1      002_1.   범장망  조업\n",
      "2      003_1.  낚시어선  표류\n",
      "3      004_1.  등광조망  이동\n",
      "4      005_1.  등광조망  표류\n",
      "...       ...   ...  ..\n",
      "1576   998_4.   안강망  조업\n",
      "1577   999_4.    연승  표류\n",
      "1578   029_1.  등광조망  조업\n",
      "1579   553_2.  등광조망  조업\n",
      "1580  664_23.  등광조망  이동\n",
      "\n",
      "[1581 rows x 3 columns]\n"
     ]
    }
   ],
   "source": [
    "import os\n",
    "import pandas as pd\n",
    "\n",
    "image_dir = '/home/elicer/FIshing_vessel/processed_images'  # 경로 수정 필요\n",
    "filenames = [f for f in os.listdir(image_dir) if f.endswith(('.jpg', '.png'))]\n",
    "\n",
    "split_filenames = [filename.replace('.jpg', '').replace('.png', '').split() for filename in filenames]\n",
    "df = pd.DataFrame(split_filenames)\n",
    "print(df)"
   ]
  },
  {
   "cell_type": "code",
   "execution_count": 26,
   "metadata": {},
   "outputs": [
    {
     "data": {
      "text/plain": [
       "0    0\n",
       "1    0\n",
       "2    0\n",
       "dtype: int64"
      ]
     },
     "execution_count": 26,
     "metadata": {},
     "output_type": "execute_result"
    }
   ],
   "source": [
    "df.isnull().sum()"
   ]
  },
  {
   "cell_type": "code",
   "execution_count": 28,
   "metadata": {},
   "outputs": [],
   "source": [
    "df = df[[1,2]]"
   ]
  },
  {
   "cell_type": "code",
   "execution_count": 32,
   "metadata": {},
   "outputs": [
    {
     "name": "stderr",
     "output_type": "stream",
     "text": [
      "/tmp/ipykernel_29675/3474261658.py:1: SettingWithCopyWarning: \n",
      "A value is trying to be set on a copy of a slice from a DataFrame\n",
      "\n",
      "See the caveats in the documentation: https://pandas.pydata.org/pandas-docs/stable/user_guide/indexing.html#returning-a-view-versus-a-copy\n",
      "  df.rename(columns={\n"
     ]
    },
    {
     "data": {
      "text/html": [
       "<div>\n",
       "<style scoped>\n",
       "    .dataframe tbody tr th:only-of-type {\n",
       "        vertical-align: middle;\n",
       "    }\n",
       "\n",
       "    .dataframe tbody tr th {\n",
       "        vertical-align: top;\n",
       "    }\n",
       "\n",
       "    .dataframe thead th {\n",
       "        text-align: right;\n",
       "    }\n",
       "</style>\n",
       "<table border=\"1\" class=\"dataframe\">\n",
       "  <thead>\n",
       "    <tr style=\"text-align: right;\">\n",
       "      <th></th>\n",
       "      <th>선종</th>\n",
       "      <th>상태</th>\n",
       "    </tr>\n",
       "  </thead>\n",
       "  <tbody>\n",
       "    <tr>\n",
       "      <th>0</th>\n",
       "      <td>낚시어선</td>\n",
       "      <td>조업</td>\n",
       "    </tr>\n",
       "    <tr>\n",
       "      <th>1</th>\n",
       "      <td>범장망</td>\n",
       "      <td>조업</td>\n",
       "    </tr>\n",
       "    <tr>\n",
       "      <th>2</th>\n",
       "      <td>낚시어선</td>\n",
       "      <td>표류</td>\n",
       "    </tr>\n",
       "    <tr>\n",
       "      <th>3</th>\n",
       "      <td>등광조망</td>\n",
       "      <td>이동</td>\n",
       "    </tr>\n",
       "    <tr>\n",
       "      <th>4</th>\n",
       "      <td>등광조망</td>\n",
       "      <td>표류</td>\n",
       "    </tr>\n",
       "    <tr>\n",
       "      <th>...</th>\n",
       "      <td>...</td>\n",
       "      <td>...</td>\n",
       "    </tr>\n",
       "    <tr>\n",
       "      <th>1576</th>\n",
       "      <td>안강망</td>\n",
       "      <td>조업</td>\n",
       "    </tr>\n",
       "    <tr>\n",
       "      <th>1577</th>\n",
       "      <td>연승</td>\n",
       "      <td>표류</td>\n",
       "    </tr>\n",
       "    <tr>\n",
       "      <th>1578</th>\n",
       "      <td>등광조망</td>\n",
       "      <td>조업</td>\n",
       "    </tr>\n",
       "    <tr>\n",
       "      <th>1579</th>\n",
       "      <td>등광조망</td>\n",
       "      <td>조업</td>\n",
       "    </tr>\n",
       "    <tr>\n",
       "      <th>1580</th>\n",
       "      <td>등광조망</td>\n",
       "      <td>이동</td>\n",
       "    </tr>\n",
       "  </tbody>\n",
       "</table>\n",
       "<p>1581 rows × 2 columns</p>\n",
       "</div>"
      ],
      "text/plain": [
       "        선종  상태\n",
       "0     낚시어선  조업\n",
       "1      범장망  조업\n",
       "2     낚시어선  표류\n",
       "3     등광조망  이동\n",
       "4     등광조망  표류\n",
       "...    ...  ..\n",
       "1576   안강망  조업\n",
       "1577    연승  표류\n",
       "1578  등광조망  조업\n",
       "1579  등광조망  조업\n",
       "1580  등광조망  이동\n",
       "\n",
       "[1581 rows x 2 columns]"
      ]
     },
     "execution_count": 32,
     "metadata": {},
     "output_type": "execute_result"
    }
   ],
   "source": [
    "df.rename(columns={\n",
    "    1 : '선종',\n",
    "    2 : '상태'\n",
    "}, inplace = True)\n",
    "df"
   ]
  },
  {
   "cell_type": "code",
   "execution_count": 33,
   "metadata": {},
   "outputs": [
    {
     "name": "stdout",
     "output_type": "stream",
     "text": [
      "        선종  상태  state  vessel_type  nation_type\n",
      "0     낚시어선  조업      0            8            1\n",
      "1      범장망  조업      0            3            0\n",
      "2     낚시어선  표류      2            8            1\n",
      "3     등광조망  이동      1            2            0\n",
      "4     등광조망  표류      2            2            0\n",
      "...    ...  ..    ...          ...          ...\n",
      "1576   안강망  조업      0            4            1\n",
      "1577    연승  표류      2            5            1\n",
      "1578  등광조망  조업      0            2            0\n",
      "1579  등광조망  조업      0            2            0\n",
      "1580  등광조망  이동      1            2            0\n",
      "\n",
      "[1581 rows x 5 columns]\n"
     ]
    }
   ],
   "source": [
    "vessel_mapping = {\n",
    "    '타망': 0,   # 중국 어선\n",
    "    '유망': 1,   # 중국 어선\n",
    "    '등광조망': 2,  # 중국 어선\n",
    "    '범장망': 3,  # 중국 어선\n",
    "    '안강망': 4,   # 한국 어선\n",
    "    '연승': 5,   # 한국 어선\n",
    "    '통발': 6,   # 한국 어선\n",
    "    '저인망': 7,  # 한국 어선\n",
    "    '낚시어선': 8, # 한국 어선\n",
    "    '채낚기': 9  # 한국 어선\n",
    "}\n",
    "chinese_vessels = ['타망', '유망', '등광조망', '범장망'] # numeric = 0\n",
    "korean_vessels = ['안강망', '연승', '통발', '저인망', '낚시어선', '채낚기'] #numeric = 1\n",
    "state_mapping = {'조업':0,'이동':1,'표류':2}\n",
    "df['state'] = df['상태'].str.strip()\n",
    "\n",
    "df['vessel_type'] = df['선종'].map(vessel_mapping)\n",
    "df['nation_type'] = df['선종'].apply(lambda x: 1 if x in korean_vessels else 0)\n",
    "df['state'] = df['state'].apply(lambda x: x if x in state_mapping else None)\n",
    "df['state'] = df['state'].map(state_mapping)\n",
    "\n",
    "print(df)"
   ]
  },
  {
   "cell_type": "code",
   "execution_count": 34,
   "metadata": {},
   "outputs": [
    {
     "data": {
      "text/plain": [
       "선종             0\n",
       "상태             0\n",
       "state          0\n",
       "vessel_type    0\n",
       "nation_type    0\n",
       "dtype: int64"
      ]
     },
     "execution_count": 34,
     "metadata": {},
     "output_type": "execute_result"
    }
   ],
   "source": [
    "df.isnull().sum()"
   ]
  },
  {
   "cell_type": "code",
   "execution_count": 35,
   "metadata": {},
   "outputs": [],
   "source": [
    "df.to_csv('preprocessed_processed_image.csv', index=False)"
   ]
  },
  {
   "cell_type": "code",
   "execution_count": null,
   "metadata": {},
   "outputs": [],
   "source": []
  }
 ],
 "metadata": {
  "kernelspec": {
   "display_name": "Python 3",
   "language": "python",
   "name": "python3"
  },
  "language_info": {
   "codemirror_mode": {
    "name": "ipython",
    "version": 3
   },
   "file_extension": ".py",
   "mimetype": "text/x-python",
   "name": "python",
   "nbconvert_exporter": "python",
   "pygments_lexer": "ipython3",
   "version": "3.10.13"
  }
 },
 "nbformat": 4,
 "nbformat_minor": 2
}
