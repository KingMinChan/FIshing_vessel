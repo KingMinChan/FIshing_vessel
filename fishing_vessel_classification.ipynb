{
 "cells": [
  {
   "cell_type": "code",
<<<<<<< HEAD
   "execution_count": 18,
=======
   "execution_count": 1,
>>>>>>> 9579cdb (#)
   "metadata": {},
   "outputs": [
    {
     "name": "stdout",
     "output_type": "stream",
     "text": [
<<<<<<< HEAD
      "        선종  상태  state  vessel_type  nation_type\n",
      "0     낚시어선  조업      0            8            1\n",
      "1      범장망  조업      0            3            0\n",
      "2     낚시어선  표류      2            8            1\n",
      "3     등광조망  이동      1            2            0\n",
      "4     등광조망  표류      2            2            0\n",
      "...    ...  ..    ...          ...          ...\n",
      "1576   안강망  조업      0            4            1\n",
      "1577    연승  표류      2            5            1\n",
      "1578  등광조망  조업      0            2            0\n",
      "1579  등광조망  조업      0            2            0\n",
      "1580  등광조망  이동      1            2            0\n",
      "\n",
      "[1581 rows x 5 columns]\n"
=======
      "       파일명   선종    상태                               위치  state  vessel_type  \\\n",
      "0    1.jpg  범장망    표류    LAT N33.22.872 LON E124.5.074      3            4   \n",
      "1    2.jpg  범장망    이동   LAT N32.48.241 LON E124.38.553      2            4   \n",
      "2    3.jpg  범장망    조업   LAT N32.55.893 LON E124.33.731      1            4   \n",
      "3    4.jpg   타망    이동   LAT N35.40.891 LON E124.25.481      2            1   \n",
      "4    5.jpg   타망    이동   LAT N32.23.668 LON E125.33.053      2            1   \n",
      "5    6.jpg   타망    이동   LAT N32.59.352 LON E124.29.609      2            1   \n",
      "6    7.jpg   유망    조업   LAT N34.54.232 LON E124.42.394      1            2   \n",
      "7    8.jpg   유망    조업   LAT N34.41.829 LON E124.20.120      1            2   \n",
      "8    9.jpg   유망    표류   LAT N36.56.279 LON E124.39.427      3            2   \n",
      "9   10.jpg  안강망    조업   LAT N34.15.543 LON E125.41.175      1            5   \n",
      "10  11.jpg   통발  \\t이동   LAT N34.17.855 LON E124.15.509      2            7   \n",
      "11  12.jpg   통발    이동   LAT N33.41.223 LON E124.12.877      2            7   \n",
      "\n",
      "    Latitude  Longitude  nation_type  \n",
      "0    3322872    1245074            0  \n",
      "1    3248241   12438553            0  \n",
      "2    3255893   12433731            0  \n",
      "3    3540891   12425481            0  \n",
      "4    3223668   12533053            0  \n",
      "5    3259352   12429609            0  \n",
      "6    3454232   12442394            0  \n",
      "7    3441829   12420120            0  \n",
      "8    3656279   12439427            0  \n",
      "9    3415543   12541175            1  \n",
      "10   3417855   12415509            1  \n",
      "11   3341223   12412877            1  \n",
      "    state  vessel_type  Latitude  Longitude  nation_type\n",
      "0       3            4   3322872    1245074            0\n",
      "1       2            4   3248241   12438553            0\n",
      "2       1            4   3255893   12433731            0\n",
      "3       2            1   3540891   12425481            0\n",
      "4       2            1   3223668   12533053            0\n",
      "5       2            1   3259352   12429609            0\n",
      "6       1            2   3454232   12442394            0\n",
      "7       1            2   3441829   12420120            0\n",
      "8       3            2   3656279   12439427            0\n",
      "9       1            5   3415543   12541175            1\n",
      "10      2            7   3417855   12415509            1\n",
      "11      2            7   3341223   12412877            1\n"
>>>>>>> 9579cdb (#)
     ]
    }
   ],
   "source": [
    "import numpy as np\n",
    "import pandas as pd\n",
<<<<<<< HEAD
    "from tensorflow.keras.utils import to_categorical\n",
    "import tensorflow as tf\n",
    "import os\n",
    "from PIL import Image\n",
    "from tensorflow.keras.preprocessing.image import img_to_array\n",
    "\n",
    "\n",
    "result = pd.read_csv('preprocessed_processed_image.csv')\n",
    "print(result)\n"
=======
    "\n",
    "result = pd.read_csv('sample/preprocessed_dataset.csv')\n",
    "print(result)\n",
    "data = result.drop('파일명',axis=1)\n",
    "data = data.drop('선종', axis=1)\n",
    "data = data.drop('상태', axis=1)\n",
    "data = data.drop('위치' , axis=1)\n",
    "print(data)"
>>>>>>> 9579cdb (#)
   ]
  },
  {
   "cell_type": "code",
<<<<<<< HEAD
   "execution_count": 8,
   "metadata": {},
   "outputs": [
    {
     "name": "stderr",
     "output_type": "stream",
     "text": [
      "WARNING:absl:Compiled the loaded model, but the compiled metrics have yet to be built. `model.compile_metrics` will be empty until you train or evaluate the model.\n"
     ]
    }
   ],
   "source": [
    "# 모델 불러오기\n",
    "from tensorflow.keras.models import load_model\n",
    "saved_model = load_model('mobilenet_model.h5')"
   ]
  },
  {
   "cell_type": "code",
   "execution_count": 28,
=======
   "execution_count": 6,
>>>>>>> 9579cdb (#)
   "metadata": {},
   "outputs": [],
   "source": [
    "import os\n",
    "import numpy as np\n",
    "from PIL import Image\n",
<<<<<<< HEAD
    "from tensorflow.keras.preprocessing.image import img_to_array, array_to_img\n",
    "\n",
    "# 이미지 디렉토리 경로\n",
    "image_dir = 'image'  # 원본 이미지 경로\n",
    "# output_dir = 'processed_images'  # 저장할 폴더 경로\n",
    "\n",
    "# 저장할 폴더가 없으면 생성\n",
    "# if not os.path.exists(output_dir):\n",
    "#     os.makedirs(output_dir)\n",
    "\n",
    "# 이미지 읽기 및 전처리\n",
    "images = []\n",
    "filenames = []  # 파일 이름을 저장할 리스트\n",
    "for filename in os.listdir(image_dir):\n",
    "    if filename.endswith(('.jpg', '.png')):  # 여러 확장자를 처리\n",
    "        img_path = os.path.join(image_dir, filename)\n",
    "        try:\n",
    "            image = Image.open(img_path).convert('RGB').resize((256, 256))  # 이미지 크기 조정 및 RGB 변환\n",
    "            image_array = img_to_array(image) / 255.0  # 정규화\n",
    "            images.append(image_array)\n",
    "            # filenames.append(filename)  # 파일 이름을 저장하여 나중에 이미지 순서 매칭\n",
    "        except Exception as e:\n",
    "            print(f\"Error loading image {filename}: {e}\")\n",
=======
    "import tensorflow as tf\n",
    "from tensorflow.keras.preprocessing.image import img_to_array\n",
    "from tensorflow.keras.utils import to_categorical\n",
    "\n",
    "\n",
    "# 이미지 디렉토리 경로\n",
    "image_dir = 'image'  # 경로 수정 필요\n",
    "\n",
    "# 이미지 읽기 및 전처리\n",
    "images = []\n",
    "for filename in os.listdir(image_dir):\n",
    "    if filename.endswith('.jpg'):\n",
    "        img_path = os.path.join(image_dir, filename)\n",
    "        image = Image.open(img_path).resize((256, 256))  # 이미지 크기 조정\n",
    "        image_array = img_to_array(image) / 255.0  # 정규화\n",
    "        images.append(image_array)\n",
>>>>>>> 9579cdb (#)
    "\n",
    "# 이미지 데이터를 NumPy 배열로 변환\n",
    "images = np.array(images)\n",
    "\n",
<<<<<<< HEAD
    "# 이미지 파일을 새로운 폴더에 순서대로 저장 (번호를 매겨 저장)\n",
    "# for idx, (image_array, filename) in enumerate(zip(images, filenames)):\n",
    "#     # 이미지 배열을 다시 PIL 이미지로 변환\n",
    "#     image = array_to_img(image_array)\n",
    "\n",
    "#     # 저장할 경로 설정 (번호를 붙인 파일명으로 저장)\n",
    "#     save_filename = f\"{idx+1:03d}_{filename}\"  # 예: 001_filename.jpg\n",
    "#     save_path = os.path.join(output_dir, save_filename)\n",
    "\n",
    "#     # 이미지 저장\n",
    "#     image.save(save_path)\n",
    "#     print(f\"Image {filename} saved as {save_filename} at {save_path}\")\n",
    "\n",
    "\n",
=======
>>>>>>> 9579cdb (#)
    "# 레이블을 정의 (예: 0 또는 1)\n",
    "# 레이블을 적절히 설정하세요\n",
    "labels = data['vessel_type']\n",
    "labels = to_categorical(labels, num_classes=10)\n",
<<<<<<< HEAD
=======
    "\n",
    "# 모델 학습\n",
>>>>>>> 9579cdb (#)
    "\n"
   ]
  },
  {
   "cell_type": "code",
<<<<<<< HEAD
   "execution_count": null,
   "metadata": {},
   "outputs": [],
   "source": []
  },
  {
   "cell_type": "code",
   "execution_count": 29,
   "metadata": {},
   "outputs": [
    {
     "data": {
      "text/plain": [
       "array([[0., 0., 0., ..., 0., 1., 0.],\n",
       "       [0., 0., 0., ..., 0., 0., 0.],\n",
       "       [0., 0., 0., ..., 0., 1., 0.],\n",
       "       ...,\n",
       "       [0., 0., 1., ..., 0., 0., 0.],\n",
       "       [0., 0., 1., ..., 0., 0., 0.],\n",
       "       [0., 0., 1., ..., 0., 0., 0.]])"
      ]
     },
     "execution_count": 29,
     "metadata": {},
     "output_type": "execute_result"
    }
   ],
   "source": [
    "target = result['vessel_type']\n",
    "target = to_categorical(target, num_classes=10)  \n",
    "target"
   ]
  },
  {
   "cell_type": "code",
   "execution_count": 30,
=======
   "execution_count": 7,
>>>>>>> 9579cdb (#)
   "metadata": {},
   "outputs": [
    {
     "name": "stderr",
     "output_type": "stream",
     "text": [
<<<<<<< HEAD
      "/tmp/ipykernel_103108/1340656753.py:7: UserWarning: `input_shape` is undefined or non-square, or `rows` is not in [96, 128, 160, 192, 224]. Weights for input shape (224, 224) will be loaded as the default.\n",
=======
      "/tmp/ipykernel_9385/3574823562.py:8: UserWarning: `input_shape` is undefined or non-square, or `rows` is not in [96, 128, 160, 192, 224]. Weights for input shape (224, 224) will be loaded as the default.\n",
>>>>>>> 9579cdb (#)
      "  backbone = tf.keras.applications.MobileNetV2(input_shape=input_shape, include_top=False, weights='imagenet')(inputs)\n"
     ]
    },
    {
     "data": {
      "text/html": [
       "<pre style=\"white-space:pre;overflow-x:auto;line-height:normal;font-family:Menlo,'DejaVu Sans Mono',consolas,'Courier New',monospace\"><span style=\"font-weight: bold\">Model: \"MobileNetV2\"</span>\n",
       "</pre>\n"
      ],
      "text/plain": [
       "\u001b[1mModel: \"MobileNetV2\"\u001b[0m\n"
      ]
     },
     "metadata": {},
     "output_type": "display_data"
    },
    {
     "data": {
      "text/html": [
       "<pre style=\"white-space:pre;overflow-x:auto;line-height:normal;font-family:Menlo,'DejaVu Sans Mono',consolas,'Courier New',monospace\">┏━━━━━━━━━━━━━━━━━━━━━━━━━━━━━━━━━┳━━━━━━━━━━━━━━━━━━━━━━━━┳━━━━━━━━━━━━━━━┓\n",
       "┃<span style=\"font-weight: bold\"> Layer (type)                    </span>┃<span style=\"font-weight: bold\"> Output Shape           </span>┃<span style=\"font-weight: bold\">       Param # </span>┃\n",
       "┡━━━━━━━━━━━━━━━━━━━━━━━━━━━━━━━━━╇━━━━━━━━━━━━━━━━━━━━━━━━╇━━━━━━━━━━━━━━━┩\n",
<<<<<<< HEAD
       "│ input_layer_4 (<span style=\"color: #0087ff; text-decoration-color: #0087ff\">InputLayer</span>)      │ (<span style=\"color: #00d7ff; text-decoration-color: #00d7ff\">None</span>, <span style=\"color: #00af00; text-decoration-color: #00af00\">256</span>, <span style=\"color: #00af00; text-decoration-color: #00af00\">256</span>, <span style=\"color: #00af00; text-decoration-color: #00af00\">3</span>)    │             <span style=\"color: #00af00; text-decoration-color: #00af00\">0</span> │\n",
=======
       "│ input_layer_2 (<span style=\"color: #0087ff; text-decoration-color: #0087ff\">InputLayer</span>)      │ (<span style=\"color: #00d7ff; text-decoration-color: #00d7ff\">None</span>, <span style=\"color: #00af00; text-decoration-color: #00af00\">256</span>, <span style=\"color: #00af00; text-decoration-color: #00af00\">256</span>, <span style=\"color: #00af00; text-decoration-color: #00af00\">3</span>)    │             <span style=\"color: #00af00; text-decoration-color: #00af00\">0</span> │\n",
>>>>>>> 9579cdb (#)
       "├─────────────────────────────────┼────────────────────────┼───────────────┤\n",
       "│ mobilenetv2_1.00_224            │ (<span style=\"color: #00d7ff; text-decoration-color: #00d7ff\">None</span>, <span style=\"color: #00af00; text-decoration-color: #00af00\">8</span>, <span style=\"color: #00af00; text-decoration-color: #00af00\">8</span>, <span style=\"color: #00af00; text-decoration-color: #00af00\">1280</span>)     │     <span style=\"color: #00af00; text-decoration-color: #00af00\">2,257,984</span> │\n",
       "│ (<span style=\"color: #0087ff; text-decoration-color: #0087ff\">Functional</span>)                    │                        │               │\n",
       "├─────────────────────────────────┼────────────────────────┼───────────────┤\n",
<<<<<<< HEAD
       "│ global_average_pooling2d_2      │ (<span style=\"color: #00d7ff; text-decoration-color: #00d7ff\">None</span>, <span style=\"color: #00af00; text-decoration-color: #00af00\">1280</span>)           │             <span style=\"color: #00af00; text-decoration-color: #00af00\">0</span> │\n",
       "│ (<span style=\"color: #0087ff; text-decoration-color: #0087ff\">GlobalAveragePooling2D</span>)        │                        │               │\n",
       "├─────────────────────────────────┼────────────────────────┼───────────────┤\n",
       "│ dense_4 (<span style=\"color: #0087ff; text-decoration-color: #0087ff\">Dense</span>)                 │ (<span style=\"color: #00d7ff; text-decoration-color: #00d7ff\">None</span>, <span style=\"color: #00af00; text-decoration-color: #00af00\">128</span>)            │       <span style=\"color: #00af00; text-decoration-color: #00af00\">163,968</span> │\n",
       "├─────────────────────────────────┼────────────────────────┼───────────────┤\n",
       "│ dropout_2 (<span style=\"color: #0087ff; text-decoration-color: #0087ff\">Dropout</span>)             │ (<span style=\"color: #00d7ff; text-decoration-color: #00d7ff\">None</span>, <span style=\"color: #00af00; text-decoration-color: #00af00\">128</span>)            │             <span style=\"color: #00af00; text-decoration-color: #00af00\">0</span> │\n",
       "├─────────────────────────────────┼────────────────────────┼───────────────┤\n",
       "│ dense_5 (<span style=\"color: #0087ff; text-decoration-color: #0087ff\">Dense</span>)                 │ (<span style=\"color: #00d7ff; text-decoration-color: #00d7ff\">None</span>, <span style=\"color: #00af00; text-decoration-color: #00af00\">10</span>)             │         <span style=\"color: #00af00; text-decoration-color: #00af00\">1,290</span> │\n",
=======
       "│ global_average_pooling2d_1      │ (<span style=\"color: #00d7ff; text-decoration-color: #00d7ff\">None</span>, <span style=\"color: #00af00; text-decoration-color: #00af00\">1280</span>)           │             <span style=\"color: #00af00; text-decoration-color: #00af00\">0</span> │\n",
       "│ (<span style=\"color: #0087ff; text-decoration-color: #0087ff\">GlobalAveragePooling2D</span>)        │                        │               │\n",
       "├─────────────────────────────────┼────────────────────────┼───────────────┤\n",
       "│ dense_2 (<span style=\"color: #0087ff; text-decoration-color: #0087ff\">Dense</span>)                 │ (<span style=\"color: #00d7ff; text-decoration-color: #00d7ff\">None</span>, <span style=\"color: #00af00; text-decoration-color: #00af00\">128</span>)            │       <span style=\"color: #00af00; text-decoration-color: #00af00\">163,968</span> │\n",
       "├─────────────────────────────────┼────────────────────────┼───────────────┤\n",
       "│ dropout_1 (<span style=\"color: #0087ff; text-decoration-color: #0087ff\">Dropout</span>)             │ (<span style=\"color: #00d7ff; text-decoration-color: #00d7ff\">None</span>, <span style=\"color: #00af00; text-decoration-color: #00af00\">128</span>)            │             <span style=\"color: #00af00; text-decoration-color: #00af00\">0</span> │\n",
       "├─────────────────────────────────┼────────────────────────┼───────────────┤\n",
       "│ dense_3 (<span style=\"color: #0087ff; text-decoration-color: #0087ff\">Dense</span>)                 │ (<span style=\"color: #00d7ff; text-decoration-color: #00d7ff\">None</span>, <span style=\"color: #00af00; text-decoration-color: #00af00\">10</span>)             │         <span style=\"color: #00af00; text-decoration-color: #00af00\">1,290</span> │\n",
>>>>>>> 9579cdb (#)
       "└─────────────────────────────────┴────────────────────────┴───────────────┘\n",
       "</pre>\n"
      ],
      "text/plain": [
       "┏━━━━━━━━━━━━━━━━━━━━━━━━━━━━━━━━━┳━━━━━━━━━━━━━━━━━━━━━━━━┳━━━━━━━━━━━━━━━┓\n",
       "┃\u001b[1m \u001b[0m\u001b[1mLayer (type)                   \u001b[0m\u001b[1m \u001b[0m┃\u001b[1m \u001b[0m\u001b[1mOutput Shape          \u001b[0m\u001b[1m \u001b[0m┃\u001b[1m \u001b[0m\u001b[1m      Param #\u001b[0m\u001b[1m \u001b[0m┃\n",
       "┡━━━━━━━━━━━━━━━━━━━━━━━━━━━━━━━━━╇━━━━━━━━━━━━━━━━━━━━━━━━╇━━━━━━━━━━━━━━━┩\n",
<<<<<<< HEAD
       "│ input_layer_4 (\u001b[38;5;33mInputLayer\u001b[0m)      │ (\u001b[38;5;45mNone\u001b[0m, \u001b[38;5;34m256\u001b[0m, \u001b[38;5;34m256\u001b[0m, \u001b[38;5;34m3\u001b[0m)    │             \u001b[38;5;34m0\u001b[0m │\n",
=======
       "│ input_layer_2 (\u001b[38;5;33mInputLayer\u001b[0m)      │ (\u001b[38;5;45mNone\u001b[0m, \u001b[38;5;34m256\u001b[0m, \u001b[38;5;34m256\u001b[0m, \u001b[38;5;34m3\u001b[0m)    │             \u001b[38;5;34m0\u001b[0m │\n",
>>>>>>> 9579cdb (#)
       "├─────────────────────────────────┼────────────────────────┼───────────────┤\n",
       "│ mobilenetv2_1.00_224            │ (\u001b[38;5;45mNone\u001b[0m, \u001b[38;5;34m8\u001b[0m, \u001b[38;5;34m8\u001b[0m, \u001b[38;5;34m1280\u001b[0m)     │     \u001b[38;5;34m2,257,984\u001b[0m │\n",
       "│ (\u001b[38;5;33mFunctional\u001b[0m)                    │                        │               │\n",
       "├─────────────────────────────────┼────────────────────────┼───────────────┤\n",
<<<<<<< HEAD
       "│ global_average_pooling2d_2      │ (\u001b[38;5;45mNone\u001b[0m, \u001b[38;5;34m1280\u001b[0m)           │             \u001b[38;5;34m0\u001b[0m │\n",
       "│ (\u001b[38;5;33mGlobalAveragePooling2D\u001b[0m)        │                        │               │\n",
       "├─────────────────────────────────┼────────────────────────┼───────────────┤\n",
       "│ dense_4 (\u001b[38;5;33mDense\u001b[0m)                 │ (\u001b[38;5;45mNone\u001b[0m, \u001b[38;5;34m128\u001b[0m)            │       \u001b[38;5;34m163,968\u001b[0m │\n",
       "├─────────────────────────────────┼────────────────────────┼───────────────┤\n",
       "│ dropout_2 (\u001b[38;5;33mDropout\u001b[0m)             │ (\u001b[38;5;45mNone\u001b[0m, \u001b[38;5;34m128\u001b[0m)            │             \u001b[38;5;34m0\u001b[0m │\n",
       "├─────────────────────────────────┼────────────────────────┼───────────────┤\n",
       "│ dense_5 (\u001b[38;5;33mDense\u001b[0m)                 │ (\u001b[38;5;45mNone\u001b[0m, \u001b[38;5;34m10\u001b[0m)             │         \u001b[38;5;34m1,290\u001b[0m │\n",
=======
       "│ global_average_pooling2d_1      │ (\u001b[38;5;45mNone\u001b[0m, \u001b[38;5;34m1280\u001b[0m)           │             \u001b[38;5;34m0\u001b[0m │\n",
       "│ (\u001b[38;5;33mGlobalAveragePooling2D\u001b[0m)        │                        │               │\n",
       "├─────────────────────────────────┼────────────────────────┼───────────────┤\n",
       "│ dense_2 (\u001b[38;5;33mDense\u001b[0m)                 │ (\u001b[38;5;45mNone\u001b[0m, \u001b[38;5;34m128\u001b[0m)            │       \u001b[38;5;34m163,968\u001b[0m │\n",
       "├─────────────────────────────────┼────────────────────────┼───────────────┤\n",
       "│ dropout_1 (\u001b[38;5;33mDropout\u001b[0m)             │ (\u001b[38;5;45mNone\u001b[0m, \u001b[38;5;34m128\u001b[0m)            │             \u001b[38;5;34m0\u001b[0m │\n",
       "├─────────────────────────────────┼────────────────────────┼───────────────┤\n",
       "│ dense_3 (\u001b[38;5;33mDense\u001b[0m)                 │ (\u001b[38;5;45mNone\u001b[0m, \u001b[38;5;34m10\u001b[0m)             │         \u001b[38;5;34m1,290\u001b[0m │\n",
>>>>>>> 9579cdb (#)
       "└─────────────────────────────────┴────────────────────────┴───────────────┘\n"
      ]
     },
     "metadata": {},
     "output_type": "display_data"
    },
    {
     "data": {
      "text/html": [
       "<pre style=\"white-space:pre;overflow-x:auto;line-height:normal;font-family:Menlo,'DejaVu Sans Mono',consolas,'Courier New',monospace\"><span style=\"font-weight: bold\"> Total params: </span><span style=\"color: #00af00; text-decoration-color: #00af00\">2,423,242</span> (9.24 MB)\n",
       "</pre>\n"
      ],
      "text/plain": [
       "\u001b[1m Total params: \u001b[0m\u001b[38;5;34m2,423,242\u001b[0m (9.24 MB)\n"
      ]
     },
     "metadata": {},
     "output_type": "display_data"
    },
    {
     "data": {
      "text/html": [
       "<pre style=\"white-space:pre;overflow-x:auto;line-height:normal;font-family:Menlo,'DejaVu Sans Mono',consolas,'Courier New',monospace\"><span style=\"font-weight: bold\"> Trainable params: </span><span style=\"color: #00af00; text-decoration-color: #00af00\">2,389,130</span> (9.11 MB)\n",
       "</pre>\n"
      ],
      "text/plain": [
       "\u001b[1m Trainable params: \u001b[0m\u001b[38;5;34m2,389,130\u001b[0m (9.11 MB)\n"
      ]
     },
     "metadata": {},
     "output_type": "display_data"
    },
    {
     "data": {
      "text/html": [
       "<pre style=\"white-space:pre;overflow-x:auto;line-height:normal;font-family:Menlo,'DejaVu Sans Mono',consolas,'Courier New',monospace\"><span style=\"font-weight: bold\"> Non-trainable params: </span><span style=\"color: #00af00; text-decoration-color: #00af00\">34,112</span> (133.25 KB)\n",
       "</pre>\n"
      ],
      "text/plain": [
       "\u001b[1m Non-trainable params: \u001b[0m\u001b[38;5;34m34,112\u001b[0m (133.25 KB)\n"
      ]
     },
     "metadata": {},
     "output_type": "display_data"
    }
   ],
   "source": [
<<<<<<< HEAD
=======
    "import tensorflow as tf\n",
>>>>>>> 9579cdb (#)
    "from tensorflow.keras import layers, Model\n",
    "\n",
    "def MobileNetV2(input_shape=(256, 256, 3), num_classes=10):\n",
    "    inputs = tf.keras.Input(shape=input_shape)\n",
    "    \n",
    "    # MobileNetV2 backbone\n",
    "    backbone = tf.keras.applications.MobileNetV2(input_shape=input_shape, include_top=False, weights='imagenet')(inputs)\n",
    "    \n",
    "    # Add custom head for classification\n",
    "    x = layers.GlobalAveragePooling2D()(backbone)\n",
    "    x = layers.Dense(128, activation='relu')(x)\n",
    "    x = layers.Dropout(0.5)(x)\n",
    "    outputs = layers.Dense(num_classes, activation='softmax')(x)\n",
    "\n",
    "    model = Model(inputs=inputs, outputs=outputs, name='MobileNetV2')\n",
    "    return model\n",
    "\n",
    "model = MobileNetV2()\n",
    "model.summary()\n",
    "\n"
   ]
  },
  {
   "cell_type": "code",
<<<<<<< HEAD
   "execution_count": 31,
=======
   "execution_count": 8,
>>>>>>> 9579cdb (#)
   "metadata": {},
   "outputs": [],
   "source": [
    "model.compile(optimizer='adam', loss='categorical_crossentropy', metrics=['accuracy'])\n"
   ]
  },
  {
   "cell_type": "code",
<<<<<<< HEAD
   "execution_count": 33,
   "metadata": {},
   "outputs": [
    {
     "name": "stdout",
     "output_type": "stream",
     "text": [
      "Epoch 1/50\n",
      "\u001b[1m50/50\u001b[0m \u001b[32m━━━━━━━━━━━━━━━━━━━━\u001b[0m\u001b[37m\u001b[0m \u001b[1m70s\u001b[0m 1s/step - accuracy: 0.4712 - loss: 1.3785\n",
      "Epoch 2/50\n",
      "\u001b[1m50/50\u001b[0m \u001b[32m━━━━━━━━━━━━━━━━━━━━\u001b[0m\u001b[37m\u001b[0m \u001b[1m70s\u001b[0m 1s/step - accuracy: 0.4596 - loss: 1.4485\n",
      "Epoch 3/50\n",
      "\u001b[1m50/50\u001b[0m \u001b[32m━━━━━━━━━━━━━━━━━━━━\u001b[0m\u001b[37m\u001b[0m \u001b[1m70s\u001b[0m 1s/step - accuracy: 0.4735 - loss: 1.5114\n",
      "Epoch 4/50\n",
      "\u001b[1m50/50\u001b[0m \u001b[32m━━━━━━━━━━━━━━━━━━━━\u001b[0m\u001b[37m\u001b[0m \u001b[1m70s\u001b[0m 1s/step - accuracy: 0.5249 - loss: 1.3484\n",
      "Epoch 5/50\n",
      "\u001b[1m50/50\u001b[0m \u001b[32m━━━━━━━━━━━━━━━━━━━━\u001b[0m\u001b[37m\u001b[0m \u001b[1m70s\u001b[0m 1s/step - accuracy: 0.4894 - loss: 1.4500\n",
      "Epoch 6/50\n",
      "\u001b[1m50/50\u001b[0m \u001b[32m━━━━━━━━━━━━━━━━━━━━\u001b[0m\u001b[37m\u001b[0m \u001b[1m70s\u001b[0m 1s/step - accuracy: 0.4734 - loss: 1.4875\n",
      "Epoch 7/50\n",
      "\u001b[1m50/50\u001b[0m \u001b[32m━━━━━━━━━━━━━━━━━━━━\u001b[0m\u001b[37m\u001b[0m \u001b[1m70s\u001b[0m 1s/step - accuracy: 0.4936 - loss: 1.3955\n",
      "Epoch 8/50\n",
      "\u001b[1m50/50\u001b[0m \u001b[32m━━━━━━━━━━━━━━━━━━━━\u001b[0m\u001b[37m\u001b[0m \u001b[1m70s\u001b[0m 1s/step - accuracy: 0.5514 - loss: 1.2785\n",
      "Epoch 9/50\n",
      "\u001b[1m50/50\u001b[0m \u001b[32m━━━━━━━━━━━━━━━━━━━━\u001b[0m\u001b[37m\u001b[0m \u001b[1m70s\u001b[0m 1s/step - accuracy: 0.6116 - loss: 1.1936\n",
      "Epoch 10/50\n",
      "\u001b[1m50/50\u001b[0m \u001b[32m━━━━━━━━━━━━━━━━━━━━\u001b[0m\u001b[37m\u001b[0m \u001b[1m70s\u001b[0m 1s/step - accuracy: 0.6126 - loss: 1.1553\n",
      "Epoch 11/50\n",
      "\u001b[1m50/50\u001b[0m \u001b[32m━━━━━━━━━━━━━━━━━━━━\u001b[0m\u001b[37m\u001b[0m \u001b[1m70s\u001b[0m 1s/step - accuracy: 0.6402 - loss: 1.0497\n",
      "Epoch 12/50\n",
      "\u001b[1m50/50\u001b[0m \u001b[32m━━━━━━━━━━━━━━━━━━━━\u001b[0m\u001b[37m\u001b[0m \u001b[1m70s\u001b[0m 1s/step - accuracy: 0.6306 - loss: 1.0498\n",
      "Epoch 13/50\n",
      "\u001b[1m50/50\u001b[0m \u001b[32m━━━━━━━━━━━━━━━━━━━━\u001b[0m\u001b[37m\u001b[0m \u001b[1m70s\u001b[0m 1s/step - accuracy: 0.6520 - loss: 0.9754\n",
      "Epoch 14/50\n",
      "\u001b[1m50/50\u001b[0m \u001b[32m━━━━━━━━━━━━━━━━━━━━\u001b[0m\u001b[37m\u001b[0m \u001b[1m70s\u001b[0m 1s/step - accuracy: 0.6791 - loss: 0.9442\n",
      "Epoch 15/50\n",
      "\u001b[1m50/50\u001b[0m \u001b[32m━━━━━━━━━━━━━━━━━━━━\u001b[0m\u001b[37m\u001b[0m \u001b[1m70s\u001b[0m 1s/step - accuracy: 0.6781 - loss: 0.9370\n",
      "Epoch 16/50\n",
      "\u001b[1m50/50\u001b[0m \u001b[32m━━━━━━━━━━━━━━━━━━━━\u001b[0m\u001b[37m\u001b[0m \u001b[1m70s\u001b[0m 1s/step - accuracy: 0.7073 - loss: 0.9210\n",
      "Epoch 17/50\n",
      "\u001b[1m50/50\u001b[0m \u001b[32m━━━━━━━━━━━━━━━━━━━━\u001b[0m\u001b[37m\u001b[0m \u001b[1m70s\u001b[0m 1s/step - accuracy: 0.7068 - loss: 0.8700\n",
      "Epoch 18/50\n",
      "\u001b[1m50/50\u001b[0m \u001b[32m━━━━━━━━━━━━━━━━━━━━\u001b[0m\u001b[37m\u001b[0m \u001b[1m70s\u001b[0m 1s/step - accuracy: 0.7729 - loss: 0.6884\n",
      "Epoch 19/50\n",
      "\u001b[1m50/50\u001b[0m \u001b[32m━━━━━━━━━━━━━━━━━━━━\u001b[0m\u001b[37m\u001b[0m \u001b[1m70s\u001b[0m 1s/step - accuracy: 0.7552 - loss: 0.7514\n",
      "Epoch 20/50\n",
      "\u001b[1m50/50\u001b[0m \u001b[32m━━━━━━━━━━━━━━━━━━━━\u001b[0m\u001b[37m\u001b[0m \u001b[1m70s\u001b[0m 1s/step - accuracy: 0.7757 - loss: 0.7093\n",
      "Epoch 21/50\n",
      "\u001b[1m50/50\u001b[0m \u001b[32m━━━━━━━━━━━━━━━━━━━━\u001b[0m\u001b[37m\u001b[0m \u001b[1m70s\u001b[0m 1s/step - accuracy: 0.8057 - loss: 0.6147\n",
      "Epoch 22/50\n",
      "\u001b[1m50/50\u001b[0m \u001b[32m━━━━━━━━━━━━━━━━━━━━\u001b[0m\u001b[37m\u001b[0m \u001b[1m70s\u001b[0m 1s/step - accuracy: 0.8562 - loss: 0.4908\n",
      "Epoch 23/50\n",
      "\u001b[1m50/50\u001b[0m \u001b[32m━━━━━━━━━━━━━━━━━━━━\u001b[0m\u001b[37m\u001b[0m \u001b[1m70s\u001b[0m 1s/step - accuracy: 0.8459 - loss: 0.5136\n",
      "Epoch 24/50\n",
      "\u001b[1m50/50\u001b[0m \u001b[32m━━━━━━━━━━━━━━━━━━━━\u001b[0m\u001b[37m\u001b[0m \u001b[1m70s\u001b[0m 1s/step - accuracy: 0.8220 - loss: 0.5502\n",
      "Epoch 25/50\n",
      "\u001b[1m50/50\u001b[0m \u001b[32m━━━━━━━━━━━━━━━━━━━━\u001b[0m\u001b[37m\u001b[0m \u001b[1m70s\u001b[0m 1s/step - accuracy: 0.8605 - loss: 0.4741\n",
      "Epoch 26/50\n",
      "\u001b[1m50/50\u001b[0m \u001b[32m━━━━━━━━━━━━━━━━━━━━\u001b[0m\u001b[37m\u001b[0m \u001b[1m69s\u001b[0m 1s/step - accuracy: 0.8507 - loss: 0.4956\n",
      "Epoch 27/50\n",
      "\u001b[1m50/50\u001b[0m \u001b[32m━━━━━━━━━━━━━━━━━━━━\u001b[0m\u001b[37m\u001b[0m \u001b[1m70s\u001b[0m 1s/step - accuracy: 0.8776 - loss: 0.4170\n",
      "Epoch 28/50\n",
      "\u001b[1m50/50\u001b[0m \u001b[32m━━━━━━━━━━━━━━━━━━━━\u001b[0m\u001b[37m\u001b[0m \u001b[1m70s\u001b[0m 1s/step - accuracy: 0.8786 - loss: 0.3834\n",
      "Epoch 29/50\n",
      "\u001b[1m50/50\u001b[0m \u001b[32m━━━━━━━━━━━━━━━━━━━━\u001b[0m\u001b[37m\u001b[0m \u001b[1m70s\u001b[0m 1s/step - accuracy: 0.9072 - loss: 0.3094\n",
      "Epoch 30/50\n",
      "\u001b[1m50/50\u001b[0m \u001b[32m━━━━━━━━━━━━━━━━━━━━\u001b[0m\u001b[37m\u001b[0m \u001b[1m70s\u001b[0m 1s/step - accuracy: 0.9324 - loss: 0.2230\n",
      "Epoch 31/50\n",
      "\u001b[1m50/50\u001b[0m \u001b[32m━━━━━━━━━━━━━━━━━━━━\u001b[0m\u001b[37m\u001b[0m \u001b[1m70s\u001b[0m 1s/step - accuracy: 0.9220 - loss: 0.2675\n",
      "Epoch 32/50\n",
      "\u001b[1m50/50\u001b[0m \u001b[32m━━━━━━━━━━━━━━━━━━━━\u001b[0m\u001b[37m\u001b[0m \u001b[1m70s\u001b[0m 1s/step - accuracy: 0.9193 - loss: 0.3130\n",
      "Epoch 33/50\n",
      "\u001b[1m50/50\u001b[0m \u001b[32m━━━━━━━━━━━━━━━━━━━━\u001b[0m\u001b[37m\u001b[0m \u001b[1m70s\u001b[0m 1s/step - accuracy: 0.9356 - loss: 0.2220\n",
      "Epoch 34/50\n",
      "\u001b[1m50/50\u001b[0m \u001b[32m━━━━━━━━━━━━━━━━━━━━\u001b[0m\u001b[37m\u001b[0m \u001b[1m70s\u001b[0m 1s/step - accuracy: 0.9151 - loss: 0.2788\n",
      "Epoch 35/50\n",
      "\u001b[1m50/50\u001b[0m \u001b[32m━━━━━━━━━━━━━━━━━━━━\u001b[0m\u001b[37m\u001b[0m \u001b[1m70s\u001b[0m 1s/step - accuracy: 0.9274 - loss: 0.2814\n",
      "Epoch 36/50\n",
      "\u001b[1m50/50\u001b[0m \u001b[32m━━━━━━━━━━━━━━━━━━━━\u001b[0m\u001b[37m\u001b[0m \u001b[1m70s\u001b[0m 1s/step - accuracy: 0.9223 - loss: 0.2380\n",
      "Epoch 37/50\n",
      "\u001b[1m50/50\u001b[0m \u001b[32m━━━━━━━━━━━━━━━━━━━━\u001b[0m\u001b[37m\u001b[0m \u001b[1m70s\u001b[0m 1s/step - accuracy: 0.9443 - loss: 0.1871\n",
      "Epoch 38/50\n",
      "\u001b[1m50/50\u001b[0m \u001b[32m━━━━━━━━━━━━━━━━━━━━\u001b[0m\u001b[37m\u001b[0m \u001b[1m70s\u001b[0m 1s/step - accuracy: 0.9478 - loss: 0.1855\n",
      "Epoch 39/50\n",
      "\u001b[1m50/50\u001b[0m \u001b[32m━━━━━━━━━━━━━━━━━━━━\u001b[0m\u001b[37m\u001b[0m \u001b[1m70s\u001b[0m 1s/step - accuracy: 0.9286 - loss: 0.2777\n",
      "Epoch 40/50\n",
      "\u001b[1m50/50\u001b[0m \u001b[32m━━━━━━━━━━━━━━━━━━━━\u001b[0m\u001b[37m\u001b[0m \u001b[1m69s\u001b[0m 1s/step - accuracy: 0.9395 - loss: 0.2708\n",
      "Epoch 41/50\n",
      "\u001b[1m50/50\u001b[0m \u001b[32m━━━━━━━━━━━━━━━━━━━━\u001b[0m\u001b[37m\u001b[0m \u001b[1m69s\u001b[0m 1s/step - accuracy: 0.9209 - loss: 0.2969\n",
      "Epoch 42/50\n",
      "\u001b[1m50/50\u001b[0m \u001b[32m━━━━━━━━━━━━━━━━━━━━\u001b[0m\u001b[37m\u001b[0m \u001b[1m69s\u001b[0m 1s/step - accuracy: 0.9437 - loss: 0.1893\n",
      "Epoch 43/50\n",
      "\u001b[1m50/50\u001b[0m \u001b[32m━━━━━━━━━━━━━━━━━━━━\u001b[0m\u001b[37m\u001b[0m \u001b[1m69s\u001b[0m 1s/step - accuracy: 0.9494 - loss: 0.1854\n",
      "Epoch 44/50\n",
      "\u001b[1m50/50\u001b[0m \u001b[32m━━━━━━━━━━━━━━━━━━━━\u001b[0m\u001b[37m\u001b[0m \u001b[1m70s\u001b[0m 1s/step - accuracy: 0.9568 - loss: 0.1639\n",
      "Epoch 45/50\n",
      "\u001b[1m50/50\u001b[0m \u001b[32m━━━━━━━━━━━━━━━━━━━━\u001b[0m\u001b[37m\u001b[0m \u001b[1m70s\u001b[0m 1s/step - accuracy: 0.9427 - loss: 0.2113\n",
      "Epoch 46/50\n",
      "\u001b[1m50/50\u001b[0m \u001b[32m━━━━━━━━━━━━━━━━━━━━\u001b[0m\u001b[37m\u001b[0m \u001b[1m70s\u001b[0m 1s/step - accuracy: 0.9484 - loss: 0.2084\n",
      "Epoch 47/50\n",
      "\u001b[1m50/50\u001b[0m \u001b[32m━━━━━━━━━━━━━━━━━━━━\u001b[0m\u001b[37m\u001b[0m \u001b[1m70s\u001b[0m 1s/step - accuracy: 0.9568 - loss: 0.1604\n",
      "Epoch 48/50\n",
      "\u001b[1m50/50\u001b[0m \u001b[32m━━━━━━━━━━━━━━━━━━━━\u001b[0m\u001b[37m\u001b[0m \u001b[1m69s\u001b[0m 1s/step - accuracy: 0.9665 - loss: 0.1108\n",
      "Epoch 49/50\n",
      "\u001b[1m50/50\u001b[0m \u001b[32m━━━━━━━━━━━━━━━━━━━━\u001b[0m\u001b[37m\u001b[0m \u001b[1m69s\u001b[0m 1s/step - accuracy: 0.9455 - loss: 0.1898\n",
      "Epoch 50/50\n",
      "\u001b[1m50/50\u001b[0m \u001b[32m━━━━━━━━━━━━━━━━━━━━\u001b[0m\u001b[37m\u001b[0m \u001b[1m70s\u001b[0m 1s/step - accuracy: 0.9069 - loss: 0.3308\n",
      "\u001b[1m50/50\u001b[0m \u001b[32m━━━━━━━━━━━━━━━━━━━━\u001b[0m\u001b[37m\u001b[0m \u001b[1m14s\u001b[0m 267ms/step\n",
      "[5 3 5 ... 5 5 5]\n"
=======
   "execution_count": 9,
   "metadata": {},
   "outputs": [
    {
     "ename": "ValueError",
     "evalue": "Data cardinality is ambiguous. Make sure all arrays contain the same number of samples.'x' sizes: 1556\n'y' sizes: 12\n",
     "output_type": "error",
     "traceback": [
      "\u001b[0;31m---------------------------------------------------------------------------\u001b[0m",
      "\u001b[0;31mValueError\u001b[0m                                Traceback (most recent call last)",
      "\u001b[1;32m/home/elicer/FIshing_vessel/fishing_vessel_classification.ipynb Cell 5\u001b[0m line \u001b[0;36m1\n\u001b[0;32m----> <a href='vscode-notebook-cell://pyragzjhswktkgeg.tunnel-pt.elice.io/home/elicer/FIshing_vessel/fishing_vessel_classification.ipynb#X22sdnNjb2RlLXJlbW90ZQ%3D%3D?line=0'>1</a>\u001b[0m history \u001b[39m=\u001b[39m model\u001b[39m.\u001b[39;49mfit(images, labels, epochs\u001b[39m=\u001b[39;49m\u001b[39m200\u001b[39;49m, verbose\u001b[39m=\u001b[39;49m\u001b[39m1\u001b[39;49m)\n\u001b[1;32m      <a href='vscode-notebook-cell://pyragzjhswktkgeg.tunnel-pt.elice.io/home/elicer/FIshing_vessel/fishing_vessel_classification.ipynb#X22sdnNjb2RlLXJlbW90ZQ%3D%3D?line=1'>2</a>\u001b[0m predictions \u001b[39m=\u001b[39m model\u001b[39m.\u001b[39mpredict(images)\n\u001b[1;32m      <a href='vscode-notebook-cell://pyragzjhswktkgeg.tunnel-pt.elice.io/home/elicer/FIshing_vessel/fishing_vessel_classification.ipynb#X22sdnNjb2RlLXJlbW90ZQ%3D%3D?line=2'>3</a>\u001b[0m \u001b[39m# binary_predictions = (predictions > 0.5).astype(int)\u001b[39;00m\n",
      "File \u001b[0;32m~/.local/lib/python3.10/site-packages/keras/src/utils/traceback_utils.py:122\u001b[0m, in \u001b[0;36mfilter_traceback.<locals>.error_handler\u001b[0;34m(*args, **kwargs)\u001b[0m\n\u001b[1;32m    119\u001b[0m     filtered_tb \u001b[39m=\u001b[39m _process_traceback_frames(e\u001b[39m.\u001b[39m__traceback__)\n\u001b[1;32m    120\u001b[0m     \u001b[39m# To get the full stack trace, call:\u001b[39;00m\n\u001b[1;32m    121\u001b[0m     \u001b[39m# `keras.config.disable_traceback_filtering()`\u001b[39;00m\n\u001b[0;32m--> 122\u001b[0m     \u001b[39mraise\u001b[39;00m e\u001b[39m.\u001b[39mwith_traceback(filtered_tb) \u001b[39mfrom\u001b[39;00m \u001b[39mNone\u001b[39;00m\n\u001b[1;32m    123\u001b[0m \u001b[39mfinally\u001b[39;00m:\n\u001b[1;32m    124\u001b[0m     \u001b[39mdel\u001b[39;00m filtered_tb\n",
      "File \u001b[0;32m~/.local/lib/python3.10/site-packages/keras/src/trainers/data_adapters/data_adapter_utils.py:114\u001b[0m, in \u001b[0;36mcheck_data_cardinality\u001b[0;34m(data)\u001b[0m\n\u001b[1;32m    110\u001b[0m     sizes \u001b[39m=\u001b[39m \u001b[39m\"\u001b[39m\u001b[39m, \u001b[39m\u001b[39m\"\u001b[39m\u001b[39m.\u001b[39mjoin(\n\u001b[1;32m    111\u001b[0m         \u001b[39mstr\u001b[39m(i\u001b[39m.\u001b[39mshape[\u001b[39m0\u001b[39m]) \u001b[39mfor\u001b[39;00m i \u001b[39min\u001b[39;00m tree\u001b[39m.\u001b[39mflatten(single_data)\n\u001b[1;32m    112\u001b[0m     )\n\u001b[1;32m    113\u001b[0m     msg \u001b[39m+\u001b[39m\u001b[39m=\u001b[39m \u001b[39mf\u001b[39m\u001b[39m\"\u001b[39m\u001b[39m'\u001b[39m\u001b[39m{\u001b[39;00mlabel\u001b[39m}\u001b[39;00m\u001b[39m'\u001b[39m\u001b[39m sizes: \u001b[39m\u001b[39m{\u001b[39;00msizes\u001b[39m}\u001b[39;00m\u001b[39m\\n\u001b[39;00m\u001b[39m\"\u001b[39m\n\u001b[0;32m--> 114\u001b[0m \u001b[39mraise\u001b[39;00m \u001b[39mValueError\u001b[39;00m(msg)\n",
      "\u001b[0;31mValueError\u001b[0m: Data cardinality is ambiguous. Make sure all arrays contain the same number of samples.'x' sizes: 1556\n'y' sizes: 12\n"
>>>>>>> 9579cdb (#)
     ]
    }
   ],
   "source": [
<<<<<<< HEAD
    "history = model.fit(images, target, epochs=50, verbose=1)\n",
=======
    "history = model.fit(images, labels, epochs=200, verbose=1)\n",
>>>>>>> 9579cdb (#)
    "predictions = model.predict(images)\n",
    "# binary_predictions = (predictions > 0.5).astype(int)\n",
    "class_predictions = np.argmax(predictions, axis=1)\n",
    "\n",
<<<<<<< HEAD
    "print(class_predictions)        "
=======
    "print(class_predictions)"
>>>>>>> 9579cdb (#)
   ]
  },
  {
   "cell_type": "code",
<<<<<<< HEAD
   "execution_count": 22,
   "metadata": {},
   "outputs": [
    {
     "name": "stderr",
     "output_type": "stream",
     "text": [
      "WARNING:absl:You are saving your model as an HDF5 file via `model.save()` or `keras.saving.save_model(model)`. This file format is considered legacy. We recommend using instead the native Keras format, e.g. `model.save('my_model.keras')` or `keras.saving.save_model(model, 'my_model.keras')`. \n",
      "WARNING:absl:Compiled the loaded model, but the compiled metrics have yet to be built. `model.compile_metrics` will be empty until you train or evaluate the model.\n"
     ]
    }
   ],
   "source": [
    "# 모델 저장\n",
    "model.save('mobilenet_model.h5')  # HDF5 형식으로 저장\n",
    "\n",
    "\n"
=======
   "execution_count": 7,
   "metadata": {},
   "outputs": [
    {
     "data": {
      "text/html": [
       "<div style=\"width:100%;\"><div style=\"position:relative;width:100%;height:0;padding-bottom:60%;\"><span style=\"color:#565656\">Make this Notebook Trusted to load map: File -> Trust Notebook</span><iframe srcdoc=\"&lt;!DOCTYPE html&gt;\n",
       "&lt;html&gt;\n",
       "&lt;head&gt;\n",
       "    \n",
       "    &lt;meta http-equiv=&quot;content-type&quot; content=&quot;text/html; charset=UTF-8&quot; /&gt;\n",
       "    \n",
       "        &lt;script&gt;\n",
       "            L_NO_TOUCH = false;\n",
       "            L_DISABLE_3D = false;\n",
       "        &lt;/script&gt;\n",
       "    \n",
       "    &lt;style&gt;html, body {width: 100%;height: 100%;margin: 0;padding: 0;}&lt;/style&gt;\n",
       "    &lt;style&gt;#map {position:absolute;top:0;bottom:0;right:0;left:0;}&lt;/style&gt;\n",
       "    &lt;script src=&quot;https://cdn.jsdelivr.net/npm/leaflet@1.9.3/dist/leaflet.js&quot;&gt;&lt;/script&gt;\n",
       "    &lt;script src=&quot;https://code.jquery.com/jquery-3.7.1.min.js&quot;&gt;&lt;/script&gt;\n",
       "    &lt;script src=&quot;https://cdn.jsdelivr.net/npm/bootstrap@5.2.2/dist/js/bootstrap.bundle.min.js&quot;&gt;&lt;/script&gt;\n",
       "    &lt;script src=&quot;https://cdnjs.cloudflare.com/ajax/libs/Leaflet.awesome-markers/2.0.2/leaflet.awesome-markers.js&quot;&gt;&lt;/script&gt;\n",
       "    &lt;link rel=&quot;stylesheet&quot; href=&quot;https://cdn.jsdelivr.net/npm/leaflet@1.9.3/dist/leaflet.css&quot;/&gt;\n",
       "    &lt;link rel=&quot;stylesheet&quot; href=&quot;https://cdn.jsdelivr.net/npm/bootstrap@5.2.2/dist/css/bootstrap.min.css&quot;/&gt;\n",
       "    &lt;link rel=&quot;stylesheet&quot; href=&quot;https://netdna.bootstrapcdn.com/bootstrap/3.0.0/css/bootstrap-glyphicons.css&quot;/&gt;\n",
       "    &lt;link rel=&quot;stylesheet&quot; href=&quot;https://cdn.jsdelivr.net/npm/@fortawesome/fontawesome-free@6.2.0/css/all.min.css&quot;/&gt;\n",
       "    &lt;link rel=&quot;stylesheet&quot; href=&quot;https://cdnjs.cloudflare.com/ajax/libs/Leaflet.awesome-markers/2.0.2/leaflet.awesome-markers.css&quot;/&gt;\n",
       "    &lt;link rel=&quot;stylesheet&quot; href=&quot;https://cdn.jsdelivr.net/gh/python-visualization/folium/folium/templates/leaflet.awesome.rotate.min.css&quot;/&gt;\n",
       "    \n",
       "            &lt;meta name=&quot;viewport&quot; content=&quot;width=device-width,\n",
       "                initial-scale=1.0, maximum-scale=1.0, user-scalable=no&quot; /&gt;\n",
       "            &lt;style&gt;\n",
       "                #map_b023aad0c4f49db403ecb85d630e1b53 {\n",
       "                    position: relative;\n",
       "                    width: 100.0%;\n",
       "                    height: 100.0%;\n",
       "                    left: 0.0%;\n",
       "                    top: 0.0%;\n",
       "                }\n",
       "                .leaflet-container { font-size: 1rem; }\n",
       "            &lt;/style&gt;\n",
       "        \n",
       "&lt;/head&gt;\n",
       "&lt;body&gt;\n",
       "    \n",
       "    \n",
       "            &lt;div class=&quot;folium-map&quot; id=&quot;map_b023aad0c4f49db403ecb85d630e1b53&quot; &gt;&lt;/div&gt;\n",
       "        \n",
       "&lt;/body&gt;\n",
       "&lt;script&gt;\n",
       "    \n",
       "    \n",
       "            var map_b023aad0c4f49db403ecb85d630e1b53 = L.map(\n",
       "                &quot;map_b023aad0c4f49db403ecb85d630e1b53&quot;,\n",
       "                {\n",
       "                    center: [34.49375, 124.72083333333335],\n",
       "                    crs: L.CRS.EPSG3857,\n",
       "                    zoom: 7,\n",
       "                    zoomControl: true,\n",
       "                    preferCanvas: false,\n",
       "                }\n",
       "            );\n",
       "\n",
       "            \n",
       "\n",
       "        \n",
       "    \n",
       "            var tile_layer_a32d8338d27b06737a4eb377434543ac = L.tileLayer(\n",
       "                &quot;https://tile.openstreetmap.org/{z}/{x}/{y}.png&quot;,\n",
       "                {&quot;attribution&quot;: &quot;\\u0026copy; \\u003ca href=\\&quot;https://www.openstreetmap.org/copyright\\&quot;\\u003eOpenStreetMap\\u003c/a\\u003e contributors&quot;, &quot;detectRetina&quot;: false, &quot;maxNativeZoom&quot;: 19, &quot;maxZoom&quot;: 19, &quot;minZoom&quot;: 0, &quot;noWrap&quot;: false, &quot;opacity&quot;: 1, &quot;subdomains&quot;: &quot;abc&quot;, &quot;tms&quot;: false}\n",
       "            );\n",
       "        \n",
       "    \n",
       "            tile_layer_a32d8338d27b06737a4eb377434543ac.addTo(map_b023aad0c4f49db403ecb85d630e1b53);\n",
       "        \n",
       "    \n",
       "            var marker_aa46b3255b81873755bcc3bd0f3a50c9 = L.marker(\n",
       "                [32.18333333333333, 125.41666666666667],\n",
       "                {}\n",
       "            ).addTo(map_b023aad0c4f49db403ecb85d630e1b53);\n",
       "        \n",
       "    \n",
       "        var popup_af78857b8ee86d8617c85c9514eeeaf9 = L.popup({&quot;maxWidth&quot;: &quot;100%&quot;});\n",
       "\n",
       "        \n",
       "            \n",
       "                var html_3b34ee3821ff297c58b9b7071ff47064 = $(`&lt;div id=&quot;html_3b34ee3821ff297c58b9b7071ff47064&quot; style=&quot;width: 100.0%; height: 100.0%;&quot;&gt;차&lt;/div&gt;`)[0];\n",
       "                popup_af78857b8ee86d8617c85c9514eeeaf9.setContent(html_3b34ee3821ff297c58b9b7071ff47064);\n",
       "            \n",
       "        \n",
       "\n",
       "        marker_aa46b3255b81873755bcc3bd0f3a50c9.bindPopup(popup_af78857b8ee86d8617c85c9514eeeaf9)\n",
       "        ;\n",
       "\n",
       "        \n",
       "    \n",
       "    \n",
       "            var marker_2fca3054170db7d65e7f65955d4718fb = L.marker(\n",
       "                [33.333333333333336, 124.13333333333334],\n",
       "                {}\n",
       "            ).addTo(map_b023aad0c4f49db403ecb85d630e1b53);\n",
       "        \n",
       "    \n",
       "        var popup_9ba22daf8e0d762b7fdc4dce40c732b9 = L.popup({&quot;maxWidth&quot;: &quot;100%&quot;});\n",
       "\n",
       "        \n",
       "            \n",
       "                var html_46ad03c68161e027941e3b33006937b6 = $(`&lt;div id=&quot;html_46ad03c68161e027941e3b33006937b6&quot; style=&quot;width: 100.0%; height: 100.0%;&quot;&gt;카&lt;/div&gt;`)[0];\n",
       "                popup_9ba22daf8e0d762b7fdc4dce40c732b9.setContent(html_46ad03c68161e027941e3b33006937b6);\n",
       "            \n",
       "        \n",
       "\n",
       "        marker_2fca3054170db7d65e7f65955d4718fb.bindPopup(popup_9ba22daf8e0d762b7fdc4dce40c732b9)\n",
       "        ;\n",
       "\n",
       "        \n",
       "    \n",
       "    \n",
       "            var marker_e4097c7e737a4ff5ef9b9c9fde411273 = L.marker(\n",
       "                [34.0, 124.00833333333334],\n",
       "                {}\n",
       "            ).addTo(map_b023aad0c4f49db403ecb85d630e1b53);\n",
       "        \n",
       "    \n",
       "        var popup_e8a52c3e2aa77d49604f051bce51a2ae = L.popup({&quot;maxWidth&quot;: &quot;100%&quot;});\n",
       "\n",
       "        \n",
       "            \n",
       "                var html_aaad4899993b1fe901974a23cba67e5a = $(`&lt;div id=&quot;html_aaad4899993b1fe901974a23cba67e5a&quot; style=&quot;width: 100.0%; height: 100.0%;&quot;&gt;타&lt;/div&gt;`)[0];\n",
       "                popup_e8a52c3e2aa77d49604f051bce51a2ae.setContent(html_aaad4899993b1fe901974a23cba67e5a);\n",
       "            \n",
       "        \n",
       "\n",
       "        marker_e4097c7e737a4ff5ef9b9c9fde411273.bindPopup(popup_e8a52c3e2aa77d49604f051bce51a2ae)\n",
       "        ;\n",
       "\n",
       "        \n",
       "    \n",
       "    \n",
       "            var marker_332d2ab01425d1a2c5466994697bb6d2 = L.marker(\n",
       "                [35.0, 124.125],\n",
       "                {}\n",
       "            ).addTo(map_b023aad0c4f49db403ecb85d630e1b53);\n",
       "        \n",
       "    \n",
       "        var popup_92bfe77494a3ecabd92f910d8890b858 = L.popup({&quot;maxWidth&quot;: &quot;100%&quot;});\n",
       "\n",
       "        \n",
       "            \n",
       "                var html_15202d59caa35777ddd1293944bac8a6 = $(`&lt;div id=&quot;html_15202d59caa35777ddd1293944bac8a6&quot; style=&quot;width: 100.0%; height: 100.0%;&quot;&gt;파&lt;/div&gt;`)[0];\n",
       "                popup_92bfe77494a3ecabd92f910d8890b858.setContent(html_15202d59caa35777ddd1293944bac8a6);\n",
       "            \n",
       "        \n",
       "\n",
       "        marker_332d2ab01425d1a2c5466994697bb6d2.bindPopup(popup_92bfe77494a3ecabd92f910d8890b858)\n",
       "        ;\n",
       "\n",
       "        \n",
       "    \n",
       "    \n",
       "            var marker_5c5a9e874ada3ed16ad73e15b4c27899 = L.marker(\n",
       "                [35.5, 124.5],\n",
       "                {}\n",
       "            ).addTo(map_b023aad0c4f49db403ecb85d630e1b53);\n",
       "        \n",
       "    \n",
       "        var popup_1f325a7aac1df4a8c939c09e80863246 = L.popup({&quot;maxWidth&quot;: &quot;100%&quot;});\n",
       "\n",
       "        \n",
       "            \n",
       "                var html_b7e7b9b5684d33895fc1e278d1d18479 = $(`&lt;div id=&quot;html_b7e7b9b5684d33895fc1e278d1d18479&quot; style=&quot;width: 100.0%; height: 100.0%;&quot;&gt;하&lt;/div&gt;`)[0];\n",
       "                popup_1f325a7aac1df4a8c939c09e80863246.setContent(html_b7e7b9b5684d33895fc1e278d1d18479);\n",
       "            \n",
       "        \n",
       "\n",
       "        marker_5c5a9e874ada3ed16ad73e15b4c27899.bindPopup(popup_1f325a7aac1df4a8c939c09e80863246)\n",
       "        ;\n",
       "\n",
       "        \n",
       "    \n",
       "    \n",
       "            var marker_d1444d3d130560b2270aade4bfaca14c = L.marker(\n",
       "                [36.75, 124.5],\n",
       "                {}\n",
       "            ).addTo(map_b023aad0c4f49db403ecb85d630e1b53);\n",
       "        \n",
       "    \n",
       "        var popup_a228d721297e030e06cc0bfd42c74a4b = L.popup({&quot;maxWidth&quot;: &quot;100%&quot;});\n",
       "\n",
       "        \n",
       "            \n",
       "                var html_a0d9d9bb0afcf75a76cdc73af278eb7d = $(`&lt;div id=&quot;html_a0d9d9bb0afcf75a76cdc73af278eb7d&quot; style=&quot;width: 100.0%; height: 100.0%;&quot;&gt;거&lt;/div&gt;`)[0];\n",
       "                popup_a228d721297e030e06cc0bfd42c74a4b.setContent(html_a0d9d9bb0afcf75a76cdc73af278eb7d);\n",
       "            \n",
       "        \n",
       "\n",
       "        marker_d1444d3d130560b2270aade4bfaca14c.bindPopup(popup_a228d721297e030e06cc0bfd42c74a4b)\n",
       "        ;\n",
       "\n",
       "        \n",
       "    \n",
       "    \n",
       "            var marker_26c26082dd622aa9f0379f6910a62184 = L.marker(\n",
       "                [37.0, 124.33333333333333],\n",
       "                {}\n",
       "            ).addTo(map_b023aad0c4f49db403ecb85d630e1b53);\n",
       "        \n",
       "    \n",
       "        var popup_7a2bf8976cde882201b5e1ddbd6b101b = L.popup({&quot;maxWidth&quot;: &quot;100%&quot;});\n",
       "\n",
       "        \n",
       "            \n",
       "                var html_39b518bab0af6e55d61c992868161b2f = $(`&lt;div id=&quot;html_39b518bab0af6e55d61c992868161b2f&quot; style=&quot;width: 100.0%; height: 100.0%;&quot;&gt;너&lt;/div&gt;`)[0];\n",
       "                popup_7a2bf8976cde882201b5e1ddbd6b101b.setContent(html_39b518bab0af6e55d61c992868161b2f);\n",
       "            \n",
       "        \n",
       "\n",
       "        marker_26c26082dd622aa9f0379f6910a62184.bindPopup(popup_7a2bf8976cde882201b5e1ddbd6b101b)\n",
       "        ;\n",
       "\n",
       "        \n",
       "    \n",
       "    \n",
       "            var marker_462a8c59ba34e47aff16d397e74c4968 = L.marker(\n",
       "                [32.18333333333333, 126.75],\n",
       "                {}\n",
       "            ).addTo(map_b023aad0c4f49db403ecb85d630e1b53);\n",
       "        \n",
       "    \n",
       "        var popup_4809bf8dd989f2e653fd5723aeff470e = L.popup({&quot;maxWidth&quot;: &quot;100%&quot;});\n",
       "\n",
       "        \n",
       "            \n",
       "                var html_e566dad3156394de80ab9950ba53eab2 = $(`&lt;div id=&quot;html_e566dad3156394de80ab9950ba53eab2&quot; style=&quot;width: 100.0%; height: 100.0%;&quot;&gt;바&lt;/div&gt;`)[0];\n",
       "                popup_4809bf8dd989f2e653fd5723aeff470e.setContent(html_e566dad3156394de80ab9950ba53eab2);\n",
       "            \n",
       "        \n",
       "\n",
       "        marker_462a8c59ba34e47aff16d397e74c4968.bindPopup(popup_4809bf8dd989f2e653fd5723aeff470e)\n",
       "        ;\n",
       "\n",
       "        \n",
       "    \n",
       "    \n",
       "            tile_layer_a32d8338d27b06737a4eb377434543ac.addTo(map_b023aad0c4f49db403ecb85d630e1b53);\n",
       "        \n",
       "&lt;/script&gt;\n",
       "&lt;/html&gt;\" style=\"position:absolute;width:100%;height:100%;left:0;top:0;border:none !important;\" allowfullscreen webkitallowfullscreen mozallowfullscreen></iframe></div></div>"
      ],
      "text/plain": [
       "<folium.folium.Map at 0x218505b5690>"
      ]
     },
     "execution_count": 7,
     "metadata": {},
     "output_type": "execute_result"
    }
   ],
   "source": [
    "import folium\n",
    "\n",
    "# 좌표 데이터 (위도, 경도)\n",
    "locations = [\n",
    "    {\"name\": \"차\", \"lat\": 32 + 11/60, \"lon\": 125 + 25/60},\n",
    "    {\"name\": \"카\", \"lat\": 33 + 20/60, \"lon\": 124 + 8/60},\n",
    "    {\"name\": \"타\", \"lat\": 34 + 0/60, \"lon\": 124 + 0/60 + 30/3600},\n",
    "    {\"name\": \"파\", \"lat\": 35 + 0/60, \"lon\": 124 + 7/60 + 30/3600},\n",
    "    {\"name\": \"하\", \"lat\": 35 + 30/60, \"lon\": 124 + 30/60},\n",
    "    {\"name\": \"거\", \"lat\": 36 + 45/60, \"lon\": 124 + 30/60},\n",
    "    {\"name\": \"너\", \"lat\": 37 + 0/60, \"lon\": 124 + 20/60},\n",
    "    {\"name\": \"바\", \"lat\": 32 + 11/60, \"lon\": 126 + 45/60},\n",
    "]\n",
    "\n",
    "# 초기 지도의 중심 좌표 (평균 값 사용)\n",
    "center_lat = sum([loc[\"lat\"] for loc in locations]) / len(locations)\n",
    "center_lon = sum([loc[\"lon\"] for loc in locations]) / len(locations)\n",
    "\n",
    "# 지도 생성\n",
    "mymap = folium.Map(location=[center_lat, center_lon], zoom_start=7)\n",
    "\n",
    "# 각 위치에 마커 추가\n",
    "for loc in locations:\n",
    "    folium.Marker(\n",
    "        location=[loc[\"lat\"], loc[\"lon\"]],\n",
    "        popup=loc[\"name\"]\n",
    "    ).add_to(mymap)\n",
    "\n",
    "# 지도 저장\n",
    "mymap.save(\"map.html\")\n",
    "\n",
    "# 지도를 출력하고 싶다면, 주피터 노트북 환경에서는 다음 코드로 출력 가능\n",
    "mymap\n"
>>>>>>> 9579cdb (#)
   ]
  },
  {
   "cell_type": "code",
<<<<<<< HEAD
   "execution_count": 34,
=======
   "execution_count": 8,
>>>>>>> 9579cdb (#)
   "metadata": {},
   "outputs": [
    {
     "name": "stdout",
     "output_type": "stream",
     "text": [
<<<<<<< HEAD
      "\u001b[1m1/1\u001b[0m \u001b[32m━━━━━━━━━━━━━━━━━━━━\u001b[0m\u001b[37m\u001b[0m \u001b[1m0s\u001b[0m 126ms/step\n",
      "Image: 1. 저인망 조업.jpg - Predicted Class: 5\n",
      "Image: 1. 타망 조업.jpg - Predicted Class: 5\n",
      "Image: 1.등광조망 조업.jpg - Predicted Class: 0\n",
      "Image: 11. 유망 조업.jpg - Predicted Class: 5\n",
      "Image: 23. 등광조망 조업.jpg - Predicted Class: 3\n",
      "Image: 5. 등광조망 조업.jpg - Predicted Class: 5\n",
      "Image: 5. 저인망 조업.jpg - Predicted Class: 5\n",
      "Image: 5. 타망 조업.jpg - Predicted Class: 0\n",
      "Image: 6. 낚시어선 이동.jpg - Predicted Class: 5\n",
      "Image: 7. 유망 조업.jpg - Predicted Class: 0\n",
      "Image: 9. 등광조망 조업.jpg - Predicted Class: 3\n",
      "Image: 9. 유망 조업.jpg - Predicted Class: 3\n",
      "Image: 9. 저인망 조업.jpg - Predicted Class: 5\n",
      "Image: 9. 타망 조업.jpg - Predicted Class: 5\n"
=======
      "Requirement already satisfied: pytesseract in c:\\users\\kangdongwoo\\appdata\\local\\programs\\python\\python310\\lib\\site-packages (0.3.13)\n",
      "Requirement already satisfied: opencv-python in c:\\users\\kangdongwoo\\appdata\\local\\programs\\python\\python310\\lib\\site-packages (4.9.0.80)\n",
      "Requirement already satisfied: pandas in c:\\users\\kangdongwoo\\appdata\\local\\programs\\python\\python310\\lib\\site-packages (2.0.2)\n",
      "Requirement already satisfied: packaging>=21.3 in c:\\users\\kangdongwoo\\appdata\\local\\programs\\python\\python310\\lib\\site-packages (from pytesseract) (24.1)\n",
      "Requirement already satisfied: Pillow>=8.0.0 in c:\\users\\kangdongwoo\\appdata\\local\\programs\\python\\python310\\lib\\site-packages (from pytesseract) (9.5.0)\n",
      "Requirement already satisfied: numpy>=1.17.0 in c:\\users\\kangdongwoo\\appdata\\local\\programs\\python\\python310\\lib\\site-packages (from opencv-python) (1.26.4)\n",
      "Requirement already satisfied: tzdata>=2022.1 in c:\\users\\kangdongwoo\\appdata\\local\\programs\\python\\python310\\lib\\site-packages (from pandas) (2023.3)\n",
      "Requirement already satisfied: python-dateutil>=2.8.2 in c:\\users\\kangdongwoo\\appdata\\roaming\\python\\python310\\site-packages (from pandas) (2.8.2)\n",
      "Requirement already satisfied: pytz>=2020.1 in c:\\users\\kangdongwoo\\appdata\\local\\programs\\python\\python310\\lib\\site-packages (from pandas) (2023.3)\n",
      "Requirement already satisfied: six>=1.5 in c:\\users\\kangdongwoo\\appdata\\roaming\\python\\python310\\site-packages (from python-dateutil>=2.8.2->pandas) (1.16.0)\n",
      "Note: you may need to restart the kernel to use updated packages.\n"
     ]
    },
    {
     "name": "stderr",
     "output_type": "stream",
     "text": [
      "\n",
      "[notice] A new release of pip available: 22.2.2 -> 24.2\n",
      "[notice] To update, run: python.exe -m pip install --upgrade pip\n"
>>>>>>> 9579cdb (#)
     ]
    }
   ],
   "source": [
<<<<<<< HEAD
    "import os\n",
    "import numpy as np\n",
    "from PIL import Image\n",
    "from tensorflow.keras.preprocessing.image import img_to_array\n",
    "\n",
    "# 이미지 디렉토리 경로\n",
    "image_dir = 'mini_test'  # 경로 수정 필요\n",
    "\n",
    "# 이미지 읽기 및 전처리\n",
    "test_images = []\n",
    "filenames = []\n",
    "for filename in os.listdir(image_dir):\n",
    "    if filename.endswith(('.jpg', '.png')):  # 여러 확장자를 처리\n",
    "        img_path = os.path.join(image_dir, filename)\n",
    "        try:\n",
    "            image = Image.open(img_path).convert('RGB').resize((256, 256))  # 이미지 크기 조정 및 RGB 변환\n",
    "            image_array = img_to_array(image) / 255.0  # 정규화\n",
    "            test_images.append(image_array)\n",
    "            filenames.append(filename)  # 파일 이름을 저장하여 나중에 매칭\n",
    "        except Exception as e:\n",
    "            print(f\"Error loading image {filename}: {e}\")\n",
    "\n",
    "# 이미지 데이터를 NumPy 배열로 변환\n",
    "test_images = np.array(test_images)\n",
    "\n",
    "# 예측 수행\n",
    "prediction = model.predict(test_images)\n",
    "\n",
    "# 클래스 예측값을 가져옴 (argmax로 각 이미지에 대해 가장 높은 확률의 클래스 선택)\n",
    "class_predictions = np.argmax(prediction, axis=1)\n",
    "\n",
    "# 이미지 파일 이름과 예측 결과를 매칭하여 출력\n",
    "for i, filename in enumerate(filenames):\n",
    "    print(f\"Image: {filename} - Predicted Class: {class_predictions[i]}\")\n"
   ]
  },
  {
   "cell_type": "markdown",
   "metadata": {},
   "source": [
    "타망: 0\n",
    "유망: 1\n",
    "등광조망: 2\n",
    "범장망: 3\n",
    "안강망: 4\n",
    "연승: 5\n",
    "통발: 6\n",
    "저인망: 7\n",
    "낚시어선: 8\n",
    "채낚기: 9"
=======
    "pip install pytesseract opencv-python pandas"
>>>>>>> 9579cdb (#)
   ]
  }
 ],
 "metadata": {
  "kernelspec": {
   "display_name": "Python 3",
   "language": "python",
   "name": "python3"
  },
  "language_info": {
   "codemirror_mode": {
    "name": "ipython",
    "version": 3
   },
   "file_extension": ".py",
   "mimetype": "text/x-python",
   "name": "python",
   "nbconvert_exporter": "python",
   "pygments_lexer": "ipython3",
   "version": "3.10.13"
  }
 },
 "nbformat": 4,
 "nbformat_minor": 2
}
