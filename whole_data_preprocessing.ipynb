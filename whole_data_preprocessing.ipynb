{
 "cells": [
  {
   "cell_type": "code",
   "execution_count": 21,
   "metadata": {},
   "outputs": [
    {
     "data": {
      "text/html": [
       "<div>\n",
       "<style scoped>\n",
       "    .dataframe tbody tr th:only-of-type {\n",
       "        vertical-align: middle;\n",
       "    }\n",
       "\n",
       "    .dataframe tbody tr th {\n",
       "        vertical-align: top;\n",
       "    }\n",
       "\n",
       "    .dataframe thead th {\n",
       "        text-align: right;\n",
       "    }\n",
       "</style>\n",
       "<table border=\"1\" class=\"dataframe\">\n",
       "  <thead>\n",
       "    <tr style=\"text-align: right;\">\n",
       "      <th></th>\n",
       "      <th>Unnamed: 0</th>\n",
       "      <th>선종</th>\n",
       "      <th>상태</th>\n",
       "    </tr>\n",
       "  </thead>\n",
       "  <tbody>\n",
       "    <tr>\n",
       "      <th>0</th>\n",
       "      <td>0</td>\n",
       "      <td>낚시어선</td>\n",
       "      <td>이동</td>\n",
       "    </tr>\n",
       "    <tr>\n",
       "      <th>1</th>\n",
       "      <td>1</td>\n",
       "      <td>낚시어선</td>\n",
       "      <td>조업</td>\n",
       "    </tr>\n",
       "    <tr>\n",
       "      <th>2</th>\n",
       "      <td>2</td>\n",
       "      <td>낚시어선</td>\n",
       "      <td>표류</td>\n",
       "    </tr>\n",
       "    <tr>\n",
       "      <th>3</th>\n",
       "      <td>3</td>\n",
       "      <td>등광조망</td>\n",
       "      <td>이동</td>\n",
       "    </tr>\n",
       "    <tr>\n",
       "      <th>4</th>\n",
       "      <td>4</td>\n",
       "      <td>등광조망</td>\n",
       "      <td>표류</td>\n",
       "    </tr>\n",
       "    <tr>\n",
       "      <th>...</th>\n",
       "      <td>...</td>\n",
       "      <td>...</td>\n",
       "      <td>...</td>\n",
       "    </tr>\n",
       "    <tr>\n",
       "      <th>1576</th>\n",
       "      <td>1576</td>\n",
       "      <td>범장망</td>\n",
       "      <td>이동</td>\n",
       "    </tr>\n",
       "    <tr>\n",
       "      <th>1577</th>\n",
       "      <td>1577</td>\n",
       "      <td>범장망</td>\n",
       "      <td>표류</td>\n",
       "    </tr>\n",
       "    <tr>\n",
       "      <th>1578</th>\n",
       "      <td>1578</td>\n",
       "      <td>유망</td>\n",
       "      <td>표류</td>\n",
       "    </tr>\n",
       "    <tr>\n",
       "      <th>1579</th>\n",
       "      <td>1579</td>\n",
       "      <td>타망</td>\n",
       "      <td>조업</td>\n",
       "    </tr>\n",
       "    <tr>\n",
       "      <th>1580</th>\n",
       "      <td>1580</td>\n",
       "      <td>타망</td>\n",
       "      <td>표류</td>\n",
       "    </tr>\n",
       "  </tbody>\n",
       "</table>\n",
       "<p>1581 rows × 3 columns</p>\n",
       "</div>"
      ],
      "text/plain": [
       "      Unnamed: 0    선종  상태\n",
       "0              0  낚시어선  이동\n",
       "1              1  낚시어선  조업\n",
       "2              2  낚시어선  표류\n",
       "3              3  등광조망  이동\n",
       "4              4  등광조망  표류\n",
       "...          ...   ...  ..\n",
       "1576        1576   범장망  이동\n",
       "1577        1577   범장망  표류\n",
       "1578        1578    유망  표류\n",
       "1579        1579    타망  조업\n",
       "1580        1580    타망  표류\n",
       "\n",
       "[1581 rows x 3 columns]"
      ]
     },
     "execution_count": 21,
     "metadata": {},
     "output_type": "execute_result"
    }
   ],
   "source": [
    "import pandas as pd\n",
    "\n",
    "df = pd.read_csv('data.csv')\n",
    "df"
   ]
  },
  {
   "cell_type": "code",
   "execution_count": 22,
   "metadata": {},
   "outputs": [
    {
     "data": {
      "text/plain": [
       "Unnamed: 0    0\n",
       "선종            0\n",
       "상태            0\n",
       "dtype: int64"
      ]
     },
     "execution_count": 22,
     "metadata": {},
     "output_type": "execute_result"
    }
   ],
   "source": [
    "df.isnull().sum()"
   ]
  },
  {
   "cell_type": "code",
   "execution_count": 23,
   "metadata": {},
   "outputs": [
    {
     "name": "stdout",
     "output_type": "stream",
     "text": [
      "      Unnamed: 0    선종  상태  state  vessel_type  nation_type\n",
      "0              0  낚시어선  이동      2            9            1\n",
      "1              1  낚시어선  조업      1            9            1\n",
      "2              2  낚시어선  표류      3            9            1\n",
      "3              3  등광조망  이동      2            3            0\n",
      "4              4  등광조망  표류      3            3            0\n",
      "...          ...   ...  ..    ...          ...          ...\n",
      "1576        1576   범장망  이동      2            4            0\n",
      "1577        1577   범장망  표류      3            4            0\n",
      "1578        1578    유망  표류      3            2            0\n",
      "1579        1579    타망  조업      1            1            0\n",
      "1580        1580    타망  표류      3            1            0\n",
      "\n",
      "[1581 rows x 6 columns]\n"
     ]
    }
   ],
   "source": [
    "vessel_mapping = {\n",
    "    '타망': 1,   # 중국 어선\n",
    "    '유망': 2,   # 중국 어선\n",
    "    '등광조망': 3,  # 중국 어선\n",
    "    '범장망': 4,  # 중국 어선\n",
    "    '안강망': 5,   # 한국 어선\n",
    "    '연승': 6,   # 한국 어선\n",
    "    '통발': 7,   # 한국 어선\n",
    "    '저인망': 8,  # 한국 어선\n",
    "    '낚시어선': 9, # 한국 어선\n",
    "    '채낚기': 10  # 한국 어선\n",
    "}\n",
    "chinese_vessels = ['타망', '유망', '등광조망', '범장망'] # numeric = 0\n",
    "korean_vessels = ['안강망', '연승', '통발', '저인망', '낚시어선', '채낚기'] #numeric = 1\n",
    "state_mapping = {'조업':1,'이동':2,'표류':3}\n",
    "df['state'] = df['상태'].str.strip()\n",
    "\n",
    "df['vessel_type'] = df['선종'].map(vessel_mapping)\n",
    "df['nation_type'] = df['선종'].apply(lambda x: 1 if x in korean_vessels else 0)\n",
    "df['state'] = df['state'].apply(lambda x: x if x in state_mapping else None)\n",
    "df['state'] = df['state'].map(state_mapping)\n",
    "\n",
    "print(df)"
   ]
  },
  {
   "cell_type": "code",
   "execution_count": 24,
   "metadata": {},
   "outputs": [
    {
     "data": {
      "text/plain": [
       "Unnamed: 0     0\n",
       "선종             0\n",
       "상태             0\n",
       "state          0\n",
       "vessel_type    0\n",
       "nation_type    0\n",
       "dtype: int64"
      ]
     },
     "execution_count": 24,
     "metadata": {},
     "output_type": "execute_result"
    }
   ],
   "source": [
    "df.isnull().sum()"
   ]
  },
  {
   "cell_type": "code",
   "execution_count": 25,
   "metadata": {},
   "outputs": [],
   "source": [
    "df.to_csv('preprocessed_whole_dataset.csv', index=False)"
   ]
  },
  {
   "cell_type": "code",
   "execution_count": null,
   "metadata": {},
   "outputs": [],
   "source": []
  }
 ],
 "metadata": {
  "kernelspec": {
   "display_name": "Python 3",
   "language": "python",
   "name": "python3"
  },
  "language_info": {
   "codemirror_mode": {
    "name": "ipython",
    "version": 3
   },
   "file_extension": ".py",
   "mimetype": "text/x-python",
   "name": "python",
   "nbconvert_exporter": "python",
   "pygments_lexer": "ipython3",
   "version": "3.10.13"
  }
 },
 "nbformat": 4,
 "nbformat_minor": 2
}
