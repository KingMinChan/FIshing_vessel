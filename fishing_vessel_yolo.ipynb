{
 "cells": [
  {
   "cell_type": "code",
   "execution_count": 1,
   "metadata": {},
   "outputs": [
    {
     "name": "stdout",
     "output_type": "stream",
     "text": [
      "Requirement already satisfied: opencv-python in c:\\users\\kmc\\anaconda3\\lib\\site-packages (4.10.0.84)\n",
      "Requirement already satisfied: numpy>=1.21.2 in c:\\users\\kmc\\anaconda3\\lib\\site-packages (from opencv-python) (1.26.4)\n"
     ]
    }
   ],
   "source": [
    "!pip install opencv-python"
   ]
  },
  {
   "cell_type": "code",
   "execution_count": 3,
   "metadata": {},
   "outputs": [
    {
     "name": "stderr",
     "output_type": "stream",
     "text": [
      "ERROR: Could not open requirements file: [Errno 2] No such file or directory: 'pytorch'\n"
     ]
    }
   ],
   "source": [
    "!pip install pytorch==1.6.0 torchvision==0.7.0 cudatoolkit=10.1 -c pytorch"
   ]
  },
  {
   "cell_type": "code",
   "execution_count": 7,
   "metadata": {},
   "outputs": [],
   "source": [
    "import pandas as pd\n",
    "import glob\n",
    "\n",
    "# 탐지 결과 파일이 저장된 경로\n",
    "result_files = glob.glob('runs/detect/exp/labels/*.txt')\n",
    "\n",
    "results = []\n",
    "\n",
    "# 탐지된 객체 정보를 CSV로 저장\n",
    "for file in result_files:\n",
    "    image_name = file.split('/')[-1].replace('.txt', '.jpg')\n",
    "    with open(file, 'r') as f:\n",
    "        for line in f.readlines():\n",
    "            class_id, x_center, y_center, width, height = line.strip().split()\n",
    "            results.append([image_name, class_id, x_center, y_center, width, height])\n",
    "\n",
    "# DataFrame으로 변환 후 CSV 저장\n",
    "df = pd.DataFrame(results, columns=['image', 'class_id', 'x_center', 'y_center', 'width', 'height'])\n",
    "df.to_csv('sample_dataset/yolo_results.csv', index=False)\n"
   ]
  }
 ],
 "metadata": {
  "kernelspec": {
   "display_name": "base",
   "language": "python",
   "name": "python3"
  },
  "language_info": {
   "codemirror_mode": {
    "name": "ipython",
    "version": 3
   },
   "file_extension": ".py",
   "mimetype": "text/x-python",
   "name": "python",
   "nbconvert_exporter": "python",
   "pygments_lexer": "ipython3",
   "version": "3.12.3"
  }
 },
 "nbformat": 4,
 "nbformat_minor": 2
}
